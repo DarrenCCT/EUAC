{
 "cells": [
  {
   "cell_type": "markdown",
   "id": "66f709a4",
   "metadata": {},
   "source": [
    "# 1. Import Libraries and Setup"
   ]
  },
  {
   "cell_type": "code",
   "execution_count": 1,
   "id": "12309abb",
   "metadata": {},
   "outputs": [],
   "source": [
    "import pandas as pd\n",
    "import seaborn as sns\n",
    "import matplotlib.pyplot as plt"
   ]
  },
  {
   "cell_type": "code",
   "execution_count": 2,
   "id": "16a47130",
   "metadata": {},
   "outputs": [],
   "source": [
    "df = pd.read_csv(\"CleanedSets.csv\")\n",
    "playerdf = pd.read_csv(\"CleanedDetails.csv\")"
   ]
  },
  {
   "cell_type": "code",
   "execution_count": 3,
   "id": "48d937df",
   "metadata": {},
   "outputs": [
    {
     "data": {
      "text/html": [
       "<div>\n",
       "<style scoped>\n",
       "    .dataframe tbody tr th:only-of-type {\n",
       "        vertical-align: middle;\n",
       "    }\n",
       "\n",
       "    .dataframe tbody tr th {\n",
       "        vertical-align: top;\n",
       "    }\n",
       "\n",
       "    .dataframe thead th {\n",
       "        text-align: right;\n",
       "    }\n",
       "</style>\n",
       "<table border=\"1\" class=\"dataframe\">\n",
       "  <thead>\n",
       "    <tr style=\"text-align: right;\">\n",
       "      <th></th>\n",
       "      <th>Player1</th>\n",
       "      <th>Player2</th>\n",
       "      <th>Winner</th>\n",
       "      <th>Score</th>\n",
       "      <th>Loser</th>\n",
       "      <th>MatchNo</th>\n",
       "      <th>EUAC</th>\n",
       "      <th>Date</th>\n",
       "      <th>P1 Seed</th>\n",
       "      <th>P1 Placement</th>\n",
       "      <th>P2 Seed</th>\n",
       "      <th>P2 Placement</th>\n",
       "      <th>Tournament No</th>\n",
       "    </tr>\n",
       "  </thead>\n",
       "  <tbody>\n",
       "    <tr>\n",
       "      <th>0</th>\n",
       "      <td>Alumento</td>\n",
       "      <td>Owdy</td>\n",
       "      <td>Alumento</td>\n",
       "      <td>2-0</td>\n",
       "      <td>Owdy</td>\n",
       "      <td>1</td>\n",
       "      <td>1</td>\n",
       "      <td>2017-10-21</td>\n",
       "      <td>11</td>\n",
       "      <td>7</td>\n",
       "      <td>22</td>\n",
       "      <td>17</td>\n",
       "      <td>1</td>\n",
       "    </tr>\n",
       "    <tr>\n",
       "      <th>1</th>\n",
       "      <td>BambooBoss</td>\n",
       "      <td>FrankTank</td>\n",
       "      <td>FrankTank</td>\n",
       "      <td>2-0</td>\n",
       "      <td>BambooBoss</td>\n",
       "      <td>2</td>\n",
       "      <td>1</td>\n",
       "      <td>2017-10-21</td>\n",
       "      <td>14</td>\n",
       "      <td>13</td>\n",
       "      <td>19</td>\n",
       "      <td>5</td>\n",
       "      <td>1</td>\n",
       "    </tr>\n",
       "    <tr>\n",
       "      <th>2</th>\n",
       "      <td>Kotorious BRD</td>\n",
       "      <td>Altair</td>\n",
       "      <td>Kotorious BRD</td>\n",
       "      <td>0--1</td>\n",
       "      <td>Altair</td>\n",
       "      <td>3</td>\n",
       "      <td>1</td>\n",
       "      <td>2017-10-21</td>\n",
       "      <td>15</td>\n",
       "      <td>13</td>\n",
       "      <td>18</td>\n",
       "      <td>17</td>\n",
       "      <td>1</td>\n",
       "    </tr>\n",
       "    <tr>\n",
       "      <th>3</th>\n",
       "      <td>RD | | Dushni</td>\n",
       "      <td>Raffa_</td>\n",
       "      <td>Raffa_</td>\n",
       "      <td>2-0</td>\n",
       "      <td>RD | | Dushni</td>\n",
       "      <td>4</td>\n",
       "      <td>1</td>\n",
       "      <td>2017-10-21</td>\n",
       "      <td>12</td>\n",
       "      <td>17</td>\n",
       "      <td>21</td>\n",
       "      <td>4</td>\n",
       "      <td>1</td>\n",
       "    </tr>\n",
       "    <tr>\n",
       "      <th>4</th>\n",
       "      <td>InkA_</td>\n",
       "      <td>D2S_Maxou</td>\n",
       "      <td>InkA_</td>\n",
       "      <td>2-1</td>\n",
       "      <td>D2S_Maxou</td>\n",
       "      <td>5</td>\n",
       "      <td>1</td>\n",
       "      <td>2017-10-21</td>\n",
       "      <td>13</td>\n",
       "      <td>9</td>\n",
       "      <td>20</td>\n",
       "      <td>1</td>\n",
       "      <td>1</td>\n",
       "    </tr>\n",
       "  </tbody>\n",
       "</table>\n",
       "</div>"
      ],
      "text/plain": [
       "         Player1    Player2         Winner Score          Loser  MatchNo EUAC  \\\n",
       "0       Alumento       Owdy       Alumento   2-0           Owdy        1    1   \n",
       "1     BambooBoss  FrankTank      FrankTank   2-0     BambooBoss        2    1   \n",
       "2  Kotorious BRD     Altair  Kotorious BRD  0--1         Altair        3    1   \n",
       "3  RD | | Dushni     Raffa_         Raffa_   2-0  RD | | Dushni        4    1   \n",
       "4          InkA_  D2S_Maxou          InkA_   2-1      D2S_Maxou        5    1   \n",
       "\n",
       "         Date  P1 Seed  P1 Placement  P2 Seed  P2 Placement  Tournament No  \n",
       "0  2017-10-21       11             7       22            17              1  \n",
       "1  2017-10-21       14            13       19             5              1  \n",
       "2  2017-10-21       15            13       18            17              1  \n",
       "3  2017-10-21       12            17       21             4              1  \n",
       "4  2017-10-21       13             9       20             1              1  "
      ]
     },
     "execution_count": 3,
     "metadata": {},
     "output_type": "execute_result"
    }
   ],
   "source": [
    "df.head()"
   ]
  },
  {
   "cell_type": "code",
   "execution_count": 4,
   "id": "be52d83c",
   "metadata": {
    "scrolled": true
   },
   "outputs": [
    {
     "data": {
      "text/html": [
       "<div>\n",
       "<style scoped>\n",
       "    .dataframe tbody tr th:only-of-type {\n",
       "        vertical-align: middle;\n",
       "    }\n",
       "\n",
       "    .dataframe tbody tr th {\n",
       "        vertical-align: top;\n",
       "    }\n",
       "\n",
       "    .dataframe thead th {\n",
       "        text-align: right;\n",
       "    }\n",
       "</style>\n",
       "<table border=\"1\" class=\"dataframe\">\n",
       "  <thead>\n",
       "    <tr style=\"text-align: right;\">\n",
       "      <th></th>\n",
       "      <th>Start ID</th>\n",
       "      <th>Challonge ID</th>\n",
       "      <th>Player_Map</th>\n",
       "      <th>Player</th>\n",
       "    </tr>\n",
       "  </thead>\n",
       "  <tbody>\n",
       "    <tr>\n",
       "      <th>0</th>\n",
       "      <td>0</td>\n",
       "      <td>164493</td>\n",
       "      <td>2ednar</td>\n",
       "      <td>2ednar</td>\n",
       "    </tr>\n",
       "    <tr>\n",
       "      <th>1</th>\n",
       "      <td>0</td>\n",
       "      <td>2992428</td>\n",
       "      <td>AU_Leenykins</td>\n",
       "      <td>AU_Leenykins</td>\n",
       "    </tr>\n",
       "    <tr>\n",
       "      <th>2</th>\n",
       "      <td>0</td>\n",
       "      <td>2942327</td>\n",
       "      <td>Alfon42</td>\n",
       "      <td>Alfon42</td>\n",
       "    </tr>\n",
       "    <tr>\n",
       "      <th>3</th>\n",
       "      <td>0</td>\n",
       "      <td>4324849</td>\n",
       "      <td>Alistair__</td>\n",
       "      <td>Alistair13</td>\n",
       "    </tr>\n",
       "    <tr>\n",
       "      <th>4</th>\n",
       "      <td>0</td>\n",
       "      <td>5390120</td>\n",
       "      <td>Alistair__</td>\n",
       "      <td>Alistair__</td>\n",
       "    </tr>\n",
       "  </tbody>\n",
       "</table>\n",
       "</div>"
      ],
      "text/plain": [
       "   Start ID  Challonge ID    Player_Map        Player\n",
       "0         0        164493        2ednar        2ednar\n",
       "1         0       2992428  AU_Leenykins  AU_Leenykins\n",
       "2         0       2942327       Alfon42       Alfon42\n",
       "3         0       4324849    Alistair__    Alistair13\n",
       "4         0       5390120    Alistair__    Alistair__"
      ]
     },
     "execution_count": 4,
     "metadata": {},
     "output_type": "execute_result"
    }
   ],
   "source": [
    "playerdf.head()"
   ]
  },
  {
   "cell_type": "markdown",
   "id": "ddd47a00",
   "metadata": {},
   "source": [
    "# 2. EDA"
   ]
  },
  {
   "cell_type": "markdown",
   "id": "e962d2d7",
   "metadata": {},
   "source": [
    "## 2.1 Tournament information"
   ]
  },
  {
   "cell_type": "code",
   "execution_count": null,
   "id": "bb8ac66c",
   "metadata": {},
   "outputs": [],
   "source": [
    "date1 = df[[\"Date\"], "
   ]
  },
  {
   "cell_type": "markdown",
   "id": "ed63c7ab",
   "metadata": {},
   "source": [
    "### 2.1.1 How many Tournaments have there been? "
   ]
  },
  {
   "cell_type": "code",
   "execution_count": 14,
   "id": "4e519311",
   "metadata": {
    "scrolled": true
   },
   "outputs": [
    {
     "data": {
      "text/plain": [
       "array([  1,   2,   3,   4,   5,   6,   7,   8,   9,  10,  11,  12,  13,\n",
       "        14,  15,  16,  17,  18,  19,  20,  21,  22,  23,  24,  25,  26,\n",
       "        27,  28,  29,  30,  31,  32,  33,  34,  35,  36,  37,  38,  39,\n",
       "        40,  41,  42,  43,  44,  45,  46,  47,  48,  49,  50,  51,  52,\n",
       "        53,  54,  55,  56,  57,  58,  59,  60,  61,  62,  63,  64,  65,\n",
       "        66,  67,  68,  69,  70,  71,  72,  73,  74,  75,  76,  77,  78,\n",
       "        79,  80,  81,  82,  83,  84,  85,  86,  87,  88,  89,  90,  91,\n",
       "        92,  93,  94,  95,  96,  97,  98,  99, 100, 101, 102, 103, 104,\n",
       "       105, 106, 107, 108, 109, 110, 111], dtype=int64)"
      ]
     },
     "execution_count": 14,
     "metadata": {},
     "output_type": "execute_result"
    }
   ],
   "source": [
    "df[\"Tournament No\"].unique()"
   ]
  },
  {
   "cell_type": "markdown",
   "id": "ca259b72",
   "metadata": {},
   "source": [
    "There have been 111 EUACs"
   ]
  },
  {
   "cell_type": "code",
   "execution_count": 15,
   "id": "3e1451a1",
   "metadata": {
    "scrolled": true
   },
   "outputs": [
    {
     "data": {
      "text/plain": [
       "11.574302697759489"
      ]
     },
     "execution_count": 15,
     "metadata": {},
     "output_type": "execute_result"
    }
   ],
   "source": [
    "df[\"MatchNo\"].mean()"
   ]
  },
  {
   "cell_type": "markdown",
   "id": "2210731e",
   "metadata": {},
   "source": [
    "Average EUAC has ~11.6 matches "
   ]
  },
  {
   "cell_type": "markdown",
   "id": "16bde254",
   "metadata": {},
   "source": [
    "## 2.1 Most Common Score"
   ]
  },
  {
   "cell_type": "code",
   "execution_count": 5,
   "id": "4b1c868e",
   "metadata": {},
   "outputs": [
    {
     "data": {
      "text/plain": [
       "array(['2-0', '0--1', '2-1', '3-1', '3-0', '3-2'], dtype=object)"
      ]
     },
     "execution_count": 5,
     "metadata": {},
     "output_type": "execute_result"
    }
   ],
   "source": [
    "df[\"Score\"].unique()"
   ]
  },
  {
   "cell_type": "code",
   "execution_count": 6,
   "id": "bd3d4f9e",
   "metadata": {},
   "outputs": [
    {
     "data": {
      "text/plain": [
       "2-0     1195\n",
       "2-1      508\n",
       "3-1      144\n",
       "3-0      135\n",
       "3-2      122\n",
       "0--1      83\n",
       "Name: Score, dtype: int64"
      ]
     },
     "execution_count": 6,
     "metadata": {},
     "output_type": "execute_result"
    }
   ],
   "source": [
    "values = df[\"Score\"].value_counts()\n",
    "values"
   ]
  },
  {
   "cell_type": "code",
   "execution_count": 7,
   "id": "03945f35",
   "metadata": {},
   "outputs": [
    {
     "data": {
      "image/png": "[encoded data removed]",
      "text/plain": [
       "<Figure size 432x288 with 1 Axes>"
      ]
     },
     "metadata": {
      "needs_background": "light"
     },
     "output_type": "display_data"
    }
   ],
   "source": [
    "values.plot(kind=\"bar\", color=\"#0035d0\", grid=True)\n",
    "plt.xlabel(\"Scores\")\n",
    "plt.ylabel(\"Count\")\n",
    "plt.xticks(rotation=\"0\")\n",
    "plt.title(\"Bar Chart of Scores\")\n",
    "plt.show()"
   ]
  },
  {
   "cell_type": "markdown",
   "id": "31ae5b24",
   "metadata": {},
   "source": [
    "Most common score is a 2-0. Out numbering the next highest, 2-1, by double <br>\n",
    "\"Finals\" are less common but they are roughly the same. But 3-2 is the lowest indicating that Finals are not generally all that even "
   ]
  },
  {
   "cell_type": "markdown",
   "id": "19f73fda",
   "metadata": {},
   "source": [
    "## 2.2 Correlations"
   ]
  },
  {
   "cell_type": "code",
   "execution_count": 8,
   "id": "cedbbcd8",
   "metadata": {},
   "outputs": [],
   "source": [
    "heat = df.corr()"
   ]
  },
  {
   "cell_type": "code",
   "execution_count": 9,
   "id": "f2f744c3",
   "metadata": {},
   "outputs": [
    {
     "data": {
      "text/html": [
       "<div>\n",
       "<style scoped>\n",
       "    .dataframe tbody tr th:only-of-type {\n",
       "        vertical-align: middle;\n",
       "    }\n",
       "\n",
       "    .dataframe tbody tr th {\n",
       "        vertical-align: top;\n",
       "    }\n",
       "\n",
       "    .dataframe thead th {\n",
       "        text-align: right;\n",
       "    }\n",
       "</style>\n",
       "<table border=\"1\" class=\"dataframe\">\n",
       "  <thead>\n",
       "    <tr style=\"text-align: right;\">\n",
       "      <th></th>\n",
       "      <th>MatchNo</th>\n",
       "      <th>P1 Seed</th>\n",
       "      <th>P1 Placement</th>\n",
       "      <th>P2 Seed</th>\n",
       "      <th>P2 Placement</th>\n",
       "      <th>Tournament No</th>\n",
       "    </tr>\n",
       "  </thead>\n",
       "  <tbody>\n",
       "    <tr>\n",
       "      <th>MatchNo</th>\n",
       "      <td>1.000000</td>\n",
       "      <td>-0.027995</td>\n",
       "      <td>-0.169150</td>\n",
       "      <td>-0.211780</td>\n",
       "      <td>-0.341174</td>\n",
       "      <td>-0.276771</td>\n",
       "    </tr>\n",
       "    <tr>\n",
       "      <th>P1 Seed</th>\n",
       "      <td>-0.027995</td>\n",
       "      <td>1.000000</td>\n",
       "      <td>0.700772</td>\n",
       "      <td>0.441375</td>\n",
       "      <td>0.446473</td>\n",
       "      <td>-0.244598</td>\n",
       "    </tr>\n",
       "    <tr>\n",
       "      <th>P1 Placement</th>\n",
       "      <td>-0.169150</td>\n",
       "      <td>0.700772</td>\n",
       "      <td>1.000000</td>\n",
       "      <td>0.527211</td>\n",
       "      <td>0.471855</td>\n",
       "      <td>-0.223788</td>\n",
       "    </tr>\n",
       "    <tr>\n",
       "      <th>P2 Seed</th>\n",
       "      <td>-0.211780</td>\n",
       "      <td>0.441375</td>\n",
       "      <td>0.527211</td>\n",
       "      <td>1.000000</td>\n",
       "      <td>0.754884</td>\n",
       "      <td>-0.314577</td>\n",
       "    </tr>\n",
       "    <tr>\n",
       "      <th>P2 Placement</th>\n",
       "      <td>-0.341174</td>\n",
       "      <td>0.446473</td>\n",
       "      <td>0.471855</td>\n",
       "      <td>0.754884</td>\n",
       "      <td>1.000000</td>\n",
       "      <td>-0.211962</td>\n",
       "    </tr>\n",
       "    <tr>\n",
       "      <th>Tournament No</th>\n",
       "      <td>-0.276771</td>\n",
       "      <td>-0.244598</td>\n",
       "      <td>-0.223788</td>\n",
       "      <td>-0.314577</td>\n",
       "      <td>-0.211962</td>\n",
       "      <td>1.000000</td>\n",
       "    </tr>\n",
       "  </tbody>\n",
       "</table>\n",
       "</div>"
      ],
      "text/plain": [
       "                MatchNo   P1 Seed  P1 Placement   P2 Seed  P2 Placement  \\\n",
       "MatchNo        1.000000 -0.027995     -0.169150 -0.211780     -0.341174   \n",
       "P1 Seed       -0.027995  1.000000      0.700772  0.441375      0.446473   \n",
       "P1 Placement  -0.169150  0.700772      1.000000  0.527211      0.471855   \n",
       "P2 Seed       -0.211780  0.441375      0.527211  1.000000      0.754884   \n",
       "P2 Placement  -0.341174  0.446473      0.471855  0.754884      1.000000   \n",
       "Tournament No -0.276771 -0.244598     -0.223788 -0.314577     -0.211962   \n",
       "\n",
       "               Tournament No  \n",
       "MatchNo            -0.276771  \n",
       "P1 Seed            -0.244598  \n",
       "P1 Placement       -0.223788  \n",
       "P2 Seed            -0.314577  \n",
       "P2 Placement       -0.211962  \n",
       "Tournament No       1.000000  "
      ]
     },
     "execution_count": 9,
     "metadata": {},
     "output_type": "execute_result"
    }
   ],
   "source": [
    "heat"
   ]
  },
  {
   "cell_type": "code",
   "execution_count": 10,
   "id": "29867d0b",
   "metadata": {},
   "outputs": [
    {
     "data": {
      "text/plain": [
       "<AxesSubplot:>"
      ]
     },
     "execution_count": 10,
     "metadata": {},
     "output_type": "execute_result"
    },
    {
     "data": {
      "image/png": "[encoded data removed]",
      "text/plain": [
       "<Figure size 576x432 with 2 Axes>"
      ]
     },
     "metadata": {
      "needs_background": "light"
     },
     "output_type": "display_data"
    }
   ],
   "source": [
    "plt.figure(figsize=(8,6))\n",
    "sns.heatmap(data=heat, annot=True, cmap=\"coolwarm\")"
   ]
  },
  {
   "cell_type": "markdown",
   "id": "78f8a3cb",
   "metadata": {},
   "source": [
    "High correlation between a player's seeding and their placement (0.7 for Player 1 and 0.75 for Player 2). <br>\n",
    "Suggesting that player's are usually seeded appropriately"
   ]
  },
  {
   "cell_type": "markdown",
   "id": "3525d900",
   "metadata": {},
   "source": [
    "## Who are the strongest players?"
   ]
  },
  {
   "cell_type": "markdown",
   "id": "4c70470c",
   "metadata": {},
   "source": [
    "###  Each player who has won an EUAC"
   ]
  },
  {
   "cell_type": "code",
   "execution_count": 11,
   "id": "fe6fa386",
   "metadata": {},
   "outputs": [],
   "source": [
    "# Add players to a set that have had a placement of 1. Sets don't contain duplicates\n",
    "players = set()\n",
    "for i in playerdf[\"Player_Map\"]:\n",
    "    for a,b,c,d in zip(df[\"Player1\"], df[\"Player2\"], df[\"P1 Placement\"], df[\"P2 Placement\"]):\n",
    "        if i == a:\n",
    "            if c == 1:\n",
    "                players.add(i)\n",
    "                continue\n",
    "            else:\n",
    "                continue\n",
    "        if i == b:\n",
    "            if d == 1:\n",
    "                players.add(i)\n",
    "                continue\n",
    "            else:\n",
    "                continue"
   ]
  },
  {
   "cell_type": "code",
   "execution_count": 12,
   "id": "e3cdc3ad",
   "metadata": {},
   "outputs": [
    {
     "data": {
      "text/plain": [
       "{'Alistair__',\n",
       " 'D2S_Maxou',\n",
       " 'Frank001',\n",
       " 'Grimwood96',\n",
       " 'Iceman92',\n",
       " 'JrARMS',\n",
       " 'Raffa_',\n",
       " 'Ripha',\n",
       " 'Shedy',\n",
       " 'Yamber',\n",
       " 'Yätta',\n",
       " 'replicant___'}"
      ]
     },
     "execution_count": 12,
     "metadata": {},
     "output_type": "execute_result"
    }
   ],
   "source": [
    "players"
   ]
  },
  {
   "cell_type": "markdown",
   "id": "fc1a4345",
   "metadata": {},
   "source": [
    "12 Players have won at least one EUAC throughout its run"
   ]
  },
  {
   "cell_type": "code",
   "execution_count": null,
   "id": "bf20ff6b",
   "metadata": {},
   "outputs": [],
   "source": []
  }
 ],
 "metadata": {
  "kernelspec": {
   "display_name": "Python 3 (ipykernel)",
   "language": "python",
   "name": "python3"
  },
  "language_info": {
   "codemirror_mode": {
    "name": "ipython",
    "version": 3
   },
   "file_extension": ".py",
   "mimetype": "text/x-python",
   "name": "python",
   "nbconvert_exporter": "python",
   "pygments_lexer": "ipython3",
   "version": "3.9.12"
  }
 },
 "nbformat": 4,
 "nbformat_minor": 5
}
