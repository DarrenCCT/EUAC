{
 "cells": [
  {
   "cell_type": "markdown",
   "id": "aab484f2",
   "metadata": {},
   "source": [
    "# 1. Introduction"
   ]
  },
  {
   "cell_type": "markdown",
   "id": "c3fc7e4d",
   "metadata": {},
   "source": [
    "This is the third notebook for the EUAC; After Data Collection and Data Cleaning. <br>\n",
    "The purpose of this notebook is to do analysis on the data. This can include player/tournament statistics or discovering hidden insights. <br>\n",
    "The project exists as there is currently no way to get this information"
   ]
  },
  {
   "cell_type": "markdown",
   "id": "60ff104d",
   "metadata": {},
   "source": [
    "# 2. Import Libraries and Setup"
   ]
  },
  {
   "cell_type": "code",
   "execution_count": 1,
   "id": "12309abb",
   "metadata": {},
   "outputs": [],
   "source": [
    "import pandas as pd\n",
    "import seaborn as sns\n",
    "import matplotlib.pyplot as plt\n",
    "import numpy as np"
   ]
  },
  {
   "cell_type": "code",
   "execution_count": 2,
   "id": "16a47130",
   "metadata": {},
   "outputs": [],
   "source": [
    "df = pd.read_csv(\"CleanedSets.csv\")\n",
    "playerdf = pd.read_csv(\"CleanedDetails.csv\")"
   ]
  },
  {
   "cell_type": "code",
   "execution_count": 3,
   "id": "48d937df",
   "metadata": {},
   "outputs": [
    {
     "data": {
      "text/html": [
       "<div>\n",
       "<style scoped>\n",
       "    .dataframe tbody tr th:only-of-type {\n",
       "        vertical-align: middle;\n",
       "    }\n",
       "\n",
       "    .dataframe tbody tr th {\n",
       "        vertical-align: top;\n",
       "    }\n",
       "\n",
       "    .dataframe thead th {\n",
       "        text-align: right;\n",
       "    }\n",
       "</style>\n",
       "<table border=\"1\" class=\"dataframe\">\n",
       "  <thead>\n",
       "    <tr style=\"text-align: right;\">\n",
       "      <th></th>\n",
       "      <th>Player1</th>\n",
       "      <th>Player2</th>\n",
       "      <th>Winner</th>\n",
       "      <th>Score</th>\n",
       "      <th>Loser</th>\n",
       "      <th>MatchNo</th>\n",
       "      <th>EUAC</th>\n",
       "      <th>Date</th>\n",
       "      <th>P1 Seed</th>\n",
       "      <th>P1 Placement</th>\n",
       "      <th>P2 Seed</th>\n",
       "      <th>P2 Placement</th>\n",
       "      <th>Tournament No</th>\n",
       "    </tr>\n",
       "  </thead>\n",
       "  <tbody>\n",
       "    <tr>\n",
       "      <th>0</th>\n",
       "      <td>Alumento</td>\n",
       "      <td>Owdy</td>\n",
       "      <td>Alumento</td>\n",
       "      <td>2-0</td>\n",
       "      <td>Owdy</td>\n",
       "      <td>1</td>\n",
       "      <td>1</td>\n",
       "      <td>2017-10-21</td>\n",
       "      <td>11</td>\n",
       "      <td>7</td>\n",
       "      <td>22</td>\n",
       "      <td>17</td>\n",
       "      <td>1</td>\n",
       "    </tr>\n",
       "    <tr>\n",
       "      <th>1</th>\n",
       "      <td>BambooBoss</td>\n",
       "      <td>Frank001</td>\n",
       "      <td>Frank001</td>\n",
       "      <td>2-0</td>\n",
       "      <td>BambooBoss</td>\n",
       "      <td>2</td>\n",
       "      <td>1</td>\n",
       "      <td>2017-10-21</td>\n",
       "      <td>14</td>\n",
       "      <td>13</td>\n",
       "      <td>19</td>\n",
       "      <td>5</td>\n",
       "      <td>1</td>\n",
       "    </tr>\n",
       "    <tr>\n",
       "      <th>2</th>\n",
       "      <td>Kotorious BRD</td>\n",
       "      <td>Altair</td>\n",
       "      <td>Kotorious BRD</td>\n",
       "      <td>0--1</td>\n",
       "      <td>Altair</td>\n",
       "      <td>3</td>\n",
       "      <td>1</td>\n",
       "      <td>2017-10-21</td>\n",
       "      <td>15</td>\n",
       "      <td>13</td>\n",
       "      <td>18</td>\n",
       "      <td>17</td>\n",
       "      <td>1</td>\n",
       "    </tr>\n",
       "    <tr>\n",
       "      <th>3</th>\n",
       "      <td>RD | | Dushni</td>\n",
       "      <td>Raffa_</td>\n",
       "      <td>Raffa_</td>\n",
       "      <td>2-0</td>\n",
       "      <td>RD | | Dushni</td>\n",
       "      <td>4</td>\n",
       "      <td>1</td>\n",
       "      <td>2017-10-21</td>\n",
       "      <td>12</td>\n",
       "      <td>17</td>\n",
       "      <td>21</td>\n",
       "      <td>4</td>\n",
       "      <td>1</td>\n",
       "    </tr>\n",
       "    <tr>\n",
       "      <th>4</th>\n",
       "      <td>InkA_</td>\n",
       "      <td>D2S_Maxou</td>\n",
       "      <td>InkA_</td>\n",
       "      <td>2-1</td>\n",
       "      <td>D2S_Maxou</td>\n",
       "      <td>5</td>\n",
       "      <td>1</td>\n",
       "      <td>2017-10-21</td>\n",
       "      <td>13</td>\n",
       "      <td>9</td>\n",
       "      <td>20</td>\n",
       "      <td>1</td>\n",
       "      <td>1</td>\n",
       "    </tr>\n",
       "  </tbody>\n",
       "</table>\n",
       "</div>"
      ],
      "text/plain": [
       "         Player1    Player2         Winner Score          Loser  MatchNo EUAC  \\\n",
       "0       Alumento       Owdy       Alumento   2-0           Owdy        1    1   \n",
       "1     BambooBoss   Frank001       Frank001   2-0     BambooBoss        2    1   \n",
       "2  Kotorious BRD     Altair  Kotorious BRD  0--1         Altair        3    1   \n",
       "3  RD | | Dushni     Raffa_         Raffa_   2-0  RD | | Dushni        4    1   \n",
       "4          InkA_  D2S_Maxou          InkA_   2-1      D2S_Maxou        5    1   \n",
       "\n",
       "         Date  P1 Seed  P1 Placement  P2 Seed  P2 Placement  Tournament No  \n",
       "0  2017-10-21       11             7       22            17              1  \n",
       "1  2017-10-21       14            13       19             5              1  \n",
       "2  2017-10-21       15            13       18            17              1  \n",
       "3  2017-10-21       12            17       21             4              1  \n",
       "4  2017-10-21       13             9       20             1              1  "
      ]
     },
     "execution_count": 3,
     "metadata": {},
     "output_type": "execute_result"
    }
   ],
   "source": [
    "df.head()"
   ]
  },
  {
   "cell_type": "code",
   "execution_count": 4,
   "id": "be52d83c",
   "metadata": {
    "scrolled": false
   },
   "outputs": [
    {
     "data": {
      "text/html": [
       "<div>\n",
       "<style scoped>\n",
       "    .dataframe tbody tr th:only-of-type {\n",
       "        vertical-align: middle;\n",
       "    }\n",
       "\n",
       "    .dataframe tbody tr th {\n",
       "        vertical-align: top;\n",
       "    }\n",
       "\n",
       "    .dataframe thead th {\n",
       "        text-align: right;\n",
       "    }\n",
       "</style>\n",
       "<table border=\"1\" class=\"dataframe\">\n",
       "  <thead>\n",
       "    <tr style=\"text-align: right;\">\n",
       "      <th></th>\n",
       "      <th>Start ID</th>\n",
       "      <th>Challonge ID</th>\n",
       "      <th>Player_Map</th>\n",
       "      <th>Player</th>\n",
       "    </tr>\n",
       "  </thead>\n",
       "  <tbody>\n",
       "    <tr>\n",
       "      <th>0</th>\n",
       "      <td>0</td>\n",
       "      <td>164493</td>\n",
       "      <td>2ednar</td>\n",
       "      <td>2ednar</td>\n",
       "    </tr>\n",
       "    <tr>\n",
       "      <th>1</th>\n",
       "      <td>0</td>\n",
       "      <td>2992428</td>\n",
       "      <td>AU_Leenykins</td>\n",
       "      <td>AU_Leenykins</td>\n",
       "    </tr>\n",
       "    <tr>\n",
       "      <th>2</th>\n",
       "      <td>0</td>\n",
       "      <td>2942327</td>\n",
       "      <td>Alfon42</td>\n",
       "      <td>Alfon42</td>\n",
       "    </tr>\n",
       "    <tr>\n",
       "      <th>3</th>\n",
       "      <td>0</td>\n",
       "      <td>4324849</td>\n",
       "      <td>Alistair__</td>\n",
       "      <td>Alistair13</td>\n",
       "    </tr>\n",
       "    <tr>\n",
       "      <th>4</th>\n",
       "      <td>0</td>\n",
       "      <td>5390120</td>\n",
       "      <td>Alistair__</td>\n",
       "      <td>Alistair__</td>\n",
       "    </tr>\n",
       "  </tbody>\n",
       "</table>\n",
       "</div>"
      ],
      "text/plain": [
       "   Start ID  Challonge ID    Player_Map        Player\n",
       "0         0        164493        2ednar        2ednar\n",
       "1         0       2992428  AU_Leenykins  AU_Leenykins\n",
       "2         0       2942327       Alfon42       Alfon42\n",
       "3         0       4324849    Alistair__    Alistair13\n",
       "4         0       5390120    Alistair__    Alistair__"
      ]
     },
     "execution_count": 4,
     "metadata": {},
     "output_type": "execute_result"
    }
   ],
   "source": [
    "playerdf.head()"
   ]
  },
  {
   "cell_type": "markdown",
   "id": "5610e8c7",
   "metadata": {},
   "source": [
    "# 3. Data Overview"
   ]
  },
  {
   "cell_type": "code",
   "execution_count": 5,
   "id": "f622e449",
   "metadata": {
    "scrolled": true
   },
   "outputs": [
    {
     "name": "stdout",
     "output_type": "stream",
     "text": [
      "<class 'pandas.core.frame.DataFrame'>\n",
      "RangeIndex: 2187 entries, 0 to 2186\n",
      "Data columns (total 13 columns):\n",
      " #   Column         Non-Null Count  Dtype \n",
      "---  ------         --------------  ----- \n",
      " 0   Player1        2187 non-null   object\n",
      " 1   Player2        2187 non-null   object\n",
      " 2   Winner         2187 non-null   object\n",
      " 3   Score          2187 non-null   object\n",
      " 4   Loser          2187 non-null   object\n",
      " 5   MatchNo        2187 non-null   int64 \n",
      " 6   EUAC           2187 non-null   object\n",
      " 7   Date           2187 non-null   object\n",
      " 8   P1 Seed        2187 non-null   int64 \n",
      " 9   P1 Placement   2187 non-null   int64 \n",
      " 10  P2 Seed        2187 non-null   int64 \n",
      " 11  P2 Placement   2187 non-null   int64 \n",
      " 12  Tournament No  2187 non-null   int64 \n",
      "dtypes: int64(6), object(7)\n",
      "memory usage: 222.2+ KB\n"
     ]
    }
   ],
   "source": [
    "df.info()"
   ]
  },
  {
   "cell_type": "code",
   "execution_count": 6,
   "id": "09d92dea",
   "metadata": {
    "scrolled": true
   },
   "outputs": [
    {
     "name": "stdout",
     "output_type": "stream",
     "text": [
      "<class 'pandas.core.frame.DataFrame'>\n",
      "RangeIndex: 133 entries, 0 to 132\n",
      "Data columns (total 4 columns):\n",
      " #   Column        Non-Null Count  Dtype \n",
      "---  ------        --------------  ----- \n",
      " 0   Start ID      133 non-null    int64 \n",
      " 1   Challonge ID  133 non-null    int64 \n",
      " 2   Player_Map    133 non-null    object\n",
      " 3   Player        133 non-null    object\n",
      "dtypes: int64(2), object(2)\n",
      "memory usage: 4.3+ KB\n"
     ]
    }
   ],
   "source": [
    "playerdf.info()"
   ]
  },
  {
   "cell_type": "code",
   "execution_count": 7,
   "id": "a345d22d",
   "metadata": {
    "scrolled": false
   },
   "outputs": [
    {
     "data": {
      "text/html": [
       "<div>\n",
       "<style scoped>\n",
       "    .dataframe tbody tr th:only-of-type {\n",
       "        vertical-align: middle;\n",
       "    }\n",
       "\n",
       "    .dataframe tbody tr th {\n",
       "        vertical-align: top;\n",
       "    }\n",
       "\n",
       "    .dataframe thead th {\n",
       "        text-align: right;\n",
       "    }\n",
       "</style>\n",
       "<table border=\"1\" class=\"dataframe\">\n",
       "  <thead>\n",
       "    <tr style=\"text-align: right;\">\n",
       "      <th></th>\n",
       "      <th>MatchNo</th>\n",
       "      <th>P1 Seed</th>\n",
       "      <th>P1 Placement</th>\n",
       "      <th>P2 Seed</th>\n",
       "      <th>P2 Placement</th>\n",
       "      <th>Tournament No</th>\n",
       "    </tr>\n",
       "  </thead>\n",
       "  <tbody>\n",
       "    <tr>\n",
       "      <th>count</th>\n",
       "      <td>2187.000000</td>\n",
       "      <td>2187.000000</td>\n",
       "      <td>2187.000000</td>\n",
       "      <td>2187.000000</td>\n",
       "      <td>2187.000000</td>\n",
       "      <td>2187.000000</td>\n",
       "    </tr>\n",
       "    <tr>\n",
       "      <th>mean</th>\n",
       "      <td>11.574303</td>\n",
       "      <td>4.479195</td>\n",
       "      <td>4.236854</td>\n",
       "      <td>6.924554</td>\n",
       "      <td>5.653406</td>\n",
       "      <td>50.218107</td>\n",
       "    </tr>\n",
       "    <tr>\n",
       "      <th>std</th>\n",
       "      <td>7.840901</td>\n",
       "      <td>3.373773</td>\n",
       "      <td>2.900556</td>\n",
       "      <td>3.992133</td>\n",
       "      <td>3.365320</td>\n",
       "      <td>32.214550</td>\n",
       "    </tr>\n",
       "    <tr>\n",
       "      <th>min</th>\n",
       "      <td>1.000000</td>\n",
       "      <td>1.000000</td>\n",
       "      <td>1.000000</td>\n",
       "      <td>1.000000</td>\n",
       "      <td>1.000000</td>\n",
       "      <td>1.000000</td>\n",
       "    </tr>\n",
       "    <tr>\n",
       "      <th>25%</th>\n",
       "      <td>5.000000</td>\n",
       "      <td>2.000000</td>\n",
       "      <td>2.000000</td>\n",
       "      <td>4.000000</td>\n",
       "      <td>3.000000</td>\n",
       "      <td>21.000000</td>\n",
       "    </tr>\n",
       "    <tr>\n",
       "      <th>50%</th>\n",
       "      <td>10.000000</td>\n",
       "      <td>4.000000</td>\n",
       "      <td>4.000000</td>\n",
       "      <td>6.000000</td>\n",
       "      <td>5.000000</td>\n",
       "      <td>49.000000</td>\n",
       "    </tr>\n",
       "    <tr>\n",
       "      <th>75%</th>\n",
       "      <td>16.000000</td>\n",
       "      <td>6.000000</td>\n",
       "      <td>5.000000</td>\n",
       "      <td>9.000000</td>\n",
       "      <td>9.000000</td>\n",
       "      <td>75.000000</td>\n",
       "    </tr>\n",
       "    <tr>\n",
       "      <th>max</th>\n",
       "      <td>49.000000</td>\n",
       "      <td>25.000000</td>\n",
       "      <td>17.000000</td>\n",
       "      <td>25.000000</td>\n",
       "      <td>25.000000</td>\n",
       "      <td>111.000000</td>\n",
       "    </tr>\n",
       "  </tbody>\n",
       "</table>\n",
       "</div>"
      ],
      "text/plain": [
       "           MatchNo      P1 Seed  P1 Placement      P2 Seed  P2 Placement  \\\n",
       "count  2187.000000  2187.000000   2187.000000  2187.000000   2187.000000   \n",
       "mean     11.574303     4.479195      4.236854     6.924554      5.653406   \n",
       "std       7.840901     3.373773      2.900556     3.992133      3.365320   \n",
       "min       1.000000     1.000000      1.000000     1.000000      1.000000   \n",
       "25%       5.000000     2.000000      2.000000     4.000000      3.000000   \n",
       "50%      10.000000     4.000000      4.000000     6.000000      5.000000   \n",
       "75%      16.000000     6.000000      5.000000     9.000000      9.000000   \n",
       "max      49.000000    25.000000     17.000000    25.000000     25.000000   \n",
       "\n",
       "       Tournament No  \n",
       "count    2187.000000  \n",
       "mean       50.218107  \n",
       "std        32.214550  \n",
       "min         1.000000  \n",
       "25%        21.000000  \n",
       "50%        49.000000  \n",
       "75%        75.000000  \n",
       "max       111.000000  "
      ]
     },
     "execution_count": 7,
     "metadata": {},
     "output_type": "execute_result"
    }
   ],
   "source": [
    "df.describe()"
   ]
  },
  {
   "cell_type": "code",
   "execution_count": 8,
   "id": "449790ce",
   "metadata": {
    "scrolled": true
   },
   "outputs": [
    {
     "data": {
      "text/plain": [
       "Player1          0\n",
       "Player2          0\n",
       "Winner           0\n",
       "Score            0\n",
       "Loser            0\n",
       "MatchNo          0\n",
       "EUAC             0\n",
       "Date             0\n",
       "P1 Seed          0\n",
       "P1 Placement     0\n",
       "P2 Seed          0\n",
       "P2 Placement     0\n",
       "Tournament No    0\n",
       "dtype: int64"
      ]
     },
     "execution_count": 8,
     "metadata": {},
     "output_type": "execute_result"
    }
   ],
   "source": [
    "df.isnull().sum()"
   ]
  },
  {
   "cell_type": "code",
   "execution_count": 9,
   "id": "fa47d354",
   "metadata": {},
   "outputs": [
    {
     "data": {
      "text/plain": [
       "(2187, 13)"
      ]
     },
     "execution_count": 9,
     "metadata": {},
     "output_type": "execute_result"
    }
   ],
   "source": [
    "df.shape"
   ]
  },
  {
   "cell_type": "code",
   "execution_count": 10,
   "id": "29b56667",
   "metadata": {},
   "outputs": [
    {
     "data": {
      "text/plain": [
       "(133, 4)"
      ]
     },
     "execution_count": 10,
     "metadata": {},
     "output_type": "execute_result"
    }
   ],
   "source": [
    "playerdf.shape"
   ]
  },
  {
   "cell_type": "markdown",
   "id": "ddd47a00",
   "metadata": {},
   "source": [
    "# 4. Player Overview"
   ]
  },
  {
   "cell_type": "markdown",
   "id": "d174ead8",
   "metadata": {},
   "source": [
    "## 4.1 Most Active Players"
   ]
  },
  {
   "cell_type": "code",
   "execution_count": 11,
   "id": "9718f9cd",
   "metadata": {},
   "outputs": [],
   "source": [
    "# Function to count EUACs entered given a player name\n",
    "def no_of_euac_entered(df, person):\n",
    "    try:\n",
    "        tempdf = df[df.apply(lambda row: row.astype(str).str.contains(person).any(), axis = 1)]\n",
    "        return len(tempdf[\"EUAC\"].unique())\n",
    "    except:\n",
    "        print(f\"{person} not found in database\")"
   ]
  },
  {
   "cell_type": "code",
   "execution_count": 12,
   "id": "f81e25c5",
   "metadata": {},
   "outputs": [],
   "source": [
    "# Add EUAC Appearances as a column to playerdf after running function on every player in database\n",
    "array  = []\n",
    "for i in playerdf[\"Player\"]:\n",
    "    array.append(no_of_euac_entered(df,i))\n",
    "playerdf[\"EUAC Appearances\"] = array"
   ]
  },
  {
   "cell_type": "code",
   "execution_count": 13,
   "id": "7db75f80",
   "metadata": {
    "scrolled": false
   },
   "outputs": [
    {
     "data": {
      "text/html": [
       "<div>\n",
       "<style scoped>\n",
       "    .dataframe tbody tr th:only-of-type {\n",
       "        vertical-align: middle;\n",
       "    }\n",
       "\n",
       "    .dataframe tbody tr th {\n",
       "        vertical-align: top;\n",
       "    }\n",
       "\n",
       "    .dataframe thead th {\n",
       "        text-align: right;\n",
       "    }\n",
       "</style>\n",
       "<table border=\"1\" class=\"dataframe\">\n",
       "  <thead>\n",
       "    <tr style=\"text-align: right;\">\n",
       "      <th></th>\n",
       "      <th>Start ID</th>\n",
       "      <th>Challonge ID</th>\n",
       "      <th>Player_Map</th>\n",
       "      <th>Player</th>\n",
       "      <th>EUAC Appearances</th>\n",
       "    </tr>\n",
       "  </thead>\n",
       "  <tbody>\n",
       "    <tr>\n",
       "      <th>0</th>\n",
       "      <td>0</td>\n",
       "      <td>164493</td>\n",
       "      <td>2ednar</td>\n",
       "      <td>2ednar</td>\n",
       "      <td>1</td>\n",
       "    </tr>\n",
       "    <tr>\n",
       "      <th>1</th>\n",
       "      <td>0</td>\n",
       "      <td>2992428</td>\n",
       "      <td>AU_Leenykins</td>\n",
       "      <td>AU_Leenykins</td>\n",
       "      <td>2</td>\n",
       "    </tr>\n",
       "    <tr>\n",
       "      <th>2</th>\n",
       "      <td>0</td>\n",
       "      <td>2942327</td>\n",
       "      <td>Alfon42</td>\n",
       "      <td>Alfon42</td>\n",
       "      <td>10</td>\n",
       "    </tr>\n",
       "    <tr>\n",
       "      <th>3</th>\n",
       "      <td>0</td>\n",
       "      <td>4324849</td>\n",
       "      <td>Alistair__</td>\n",
       "      <td>Alistair13</td>\n",
       "      <td>4</td>\n",
       "    </tr>\n",
       "    <tr>\n",
       "      <th>4</th>\n",
       "      <td>0</td>\n",
       "      <td>5390120</td>\n",
       "      <td>Alistair__</td>\n",
       "      <td>Alistair__</td>\n",
       "      <td>14</td>\n",
       "    </tr>\n",
       "  </tbody>\n",
       "</table>\n",
       "</div>"
      ],
      "text/plain": [
       "   Start ID  Challonge ID    Player_Map        Player  EUAC Appearances\n",
       "0         0        164493        2ednar        2ednar                 1\n",
       "1         0       2992428  AU_Leenykins  AU_Leenykins                 2\n",
       "2         0       2942327       Alfon42       Alfon42                10\n",
       "3         0       4324849    Alistair__    Alistair13                 4\n",
       "4         0       5390120    Alistair__    Alistair__                14"
      ]
     },
     "execution_count": 13,
     "metadata": {},
     "output_type": "execute_result"
    }
   ],
   "source": [
    "playerdf.head()"
   ]
  },
  {
   "cell_type": "code",
   "execution_count": 14,
   "id": "fc2708af",
   "metadata": {},
   "outputs": [],
   "source": [
    "# Create a seperate dataframe for stats. Easier to read \n",
    "statsdf = playerdf.copy()"
   ]
  },
  {
   "cell_type": "code",
   "execution_count": 15,
   "id": "167956f4",
   "metadata": {},
   "outputs": [
    {
     "data": {
      "text/html": [
       "<div>\n",
       "<style scoped>\n",
       "    .dataframe tbody tr th:only-of-type {\n",
       "        vertical-align: middle;\n",
       "    }\n",
       "\n",
       "    .dataframe tbody tr th {\n",
       "        vertical-align: top;\n",
       "    }\n",
       "\n",
       "    .dataframe thead th {\n",
       "        text-align: right;\n",
       "    }\n",
       "</style>\n",
       "<table border=\"1\" class=\"dataframe\">\n",
       "  <thead>\n",
       "    <tr style=\"text-align: right;\">\n",
       "      <th></th>\n",
       "      <th>Start ID</th>\n",
       "      <th>Challonge ID</th>\n",
       "      <th>Player_Map</th>\n",
       "      <th>Player</th>\n",
       "      <th>EUAC Appearances</th>\n",
       "    </tr>\n",
       "  </thead>\n",
       "  <tbody>\n",
       "    <tr>\n",
       "      <th>0</th>\n",
       "      <td>0</td>\n",
       "      <td>164493</td>\n",
       "      <td>2ednar</td>\n",
       "      <td>2ednar</td>\n",
       "      <td>1</td>\n",
       "    </tr>\n",
       "    <tr>\n",
       "      <th>1</th>\n",
       "      <td>0</td>\n",
       "      <td>2992428</td>\n",
       "      <td>AU_Leenykins</td>\n",
       "      <td>AU_Leenykins</td>\n",
       "      <td>2</td>\n",
       "    </tr>\n",
       "    <tr>\n",
       "      <th>2</th>\n",
       "      <td>0</td>\n",
       "      <td>2942327</td>\n",
       "      <td>Alfon42</td>\n",
       "      <td>Alfon42</td>\n",
       "      <td>10</td>\n",
       "    </tr>\n",
       "    <tr>\n",
       "      <th>3</th>\n",
       "      <td>0</td>\n",
       "      <td>4324849</td>\n",
       "      <td>Alistair__</td>\n",
       "      <td>Alistair13</td>\n",
       "      <td>4</td>\n",
       "    </tr>\n",
       "    <tr>\n",
       "      <th>4</th>\n",
       "      <td>0</td>\n",
       "      <td>5390120</td>\n",
       "      <td>Alistair__</td>\n",
       "      <td>Alistair__</td>\n",
       "      <td>14</td>\n",
       "    </tr>\n",
       "  </tbody>\n",
       "</table>\n",
       "</div>"
      ],
      "text/plain": [
       "   Start ID  Challonge ID    Player_Map        Player  EUAC Appearances\n",
       "0         0        164493        2ednar        2ednar                 1\n",
       "1         0       2992428  AU_Leenykins  AU_Leenykins                 2\n",
       "2         0       2942327       Alfon42       Alfon42                10\n",
       "3         0       4324849    Alistair__    Alistair13                 4\n",
       "4         0       5390120    Alistair__    Alistair__                14"
      ]
     },
     "execution_count": 15,
     "metadata": {},
     "output_type": "execute_result"
    }
   ],
   "source": [
    "playerdf.head()"
   ]
  },
  {
   "cell_type": "code",
   "execution_count": 16,
   "id": "a970004e",
   "metadata": {},
   "outputs": [],
   "source": [
    "statsdf.drop([\"Start ID\", \"Challonge ID\", \"Player\"],axis=1, inplace=True)"
   ]
  },
  {
   "cell_type": "code",
   "execution_count": 17,
   "id": "1cdc0411",
   "metadata": {
    "scrolled": true
   },
   "outputs": [
    {
     "data": {
      "text/html": [
       "<div>\n",
       "<style scoped>\n",
       "    .dataframe tbody tr th:only-of-type {\n",
       "        vertical-align: middle;\n",
       "    }\n",
       "\n",
       "    .dataframe tbody tr th {\n",
       "        vertical-align: top;\n",
       "    }\n",
       "\n",
       "    .dataframe thead th {\n",
       "        text-align: right;\n",
       "    }\n",
       "</style>\n",
       "<table border=\"1\" class=\"dataframe\">\n",
       "  <thead>\n",
       "    <tr style=\"text-align: right;\">\n",
       "      <th></th>\n",
       "      <th>Player_Map</th>\n",
       "      <th>EUAC Appearances</th>\n",
       "    </tr>\n",
       "  </thead>\n",
       "  <tbody>\n",
       "    <tr>\n",
       "      <th>0</th>\n",
       "      <td>2ednar</td>\n",
       "      <td>1</td>\n",
       "    </tr>\n",
       "    <tr>\n",
       "      <th>1</th>\n",
       "      <td>AU_Leenykins</td>\n",
       "      <td>2</td>\n",
       "    </tr>\n",
       "    <tr>\n",
       "      <th>2</th>\n",
       "      <td>Alfon42</td>\n",
       "      <td>10</td>\n",
       "    </tr>\n",
       "    <tr>\n",
       "      <th>3</th>\n",
       "      <td>Alistair__</td>\n",
       "      <td>4</td>\n",
       "    </tr>\n",
       "    <tr>\n",
       "      <th>4</th>\n",
       "      <td>Alistair__</td>\n",
       "      <td>14</td>\n",
       "    </tr>\n",
       "  </tbody>\n",
       "</table>\n",
       "</div>"
      ],
      "text/plain": [
       "     Player_Map  EUAC Appearances\n",
       "0        2ednar                 1\n",
       "1  AU_Leenykins                 2\n",
       "2       Alfon42                10\n",
       "3    Alistair__                 4\n",
       "4    Alistair__                14"
      ]
     },
     "execution_count": 17,
     "metadata": {},
     "output_type": "execute_result"
    }
   ],
   "source": [
    "statsdf.head()"
   ]
  },
  {
   "cell_type": "code",
   "execution_count": 18,
   "id": "28fbbb15",
   "metadata": {},
   "outputs": [],
   "source": [
    "# Group by unique player. Sum appearances\n",
    "statsdf = statsdf.groupby([\"Player_Map\"])[\"EUAC Appearances\"].sum().reset_index()"
   ]
  },
  {
   "cell_type": "code",
   "execution_count": 19,
   "id": "44585295",
   "metadata": {},
   "outputs": [
    {
     "data": {
      "text/plain": [
       "9.428571428571429"
      ]
     },
     "execution_count": 19,
     "metadata": {},
     "output_type": "execute_result"
    }
   ],
   "source": [
    "# Average EUAC appearances per player\n",
    "statsdf['EUAC Appearances'].mean()"
   ]
  },
  {
   "cell_type": "code",
   "execution_count": 20,
   "id": "abac1c28",
   "metadata": {},
   "outputs": [
    {
     "data": {
      "text/plain": [
       "2.0"
      ]
     },
     "execution_count": 20,
     "metadata": {},
     "output_type": "execute_result"
    }
   ],
   "source": [
    "# Median\n",
    "statsdf['EUAC Appearances'].median()"
   ]
  },
  {
   "cell_type": "code",
   "execution_count": 21,
   "id": "339e3a7d",
   "metadata": {},
   "outputs": [
    {
     "data": {
      "text/plain": [
       "0    1\n",
       "Name: EUAC Appearances, dtype: int64"
      ]
     },
     "execution_count": 21,
     "metadata": {},
     "output_type": "execute_result"
    }
   ],
   "source": [
    "statsdf['EUAC Appearances'].mode()"
   ]
  },
  {
   "cell_type": "markdown",
   "id": "a8f80a69",
   "metadata": {},
   "source": [
    "A median less than mean suggests that the distribtion will be right skewed"
   ]
  },
  {
   "cell_type": "code",
   "execution_count": 22,
   "id": "36138088",
   "metadata": {
    "scrolled": false
   },
   "outputs": [
    {
     "data": {
      "text/plain": [
       "Text(0.5, 1.0, 'Distribution of EUAC Appearances')"
      ]
     },
     "execution_count": 22,
     "metadata": {},
     "output_type": "execute_result"
    },
    {
     "data": {
      "image/png": "[encoded data removed]",
      "text/plain": [
       "<Figure size 432x288 with 1 Axes>"
      ]
     },
     "metadata": {
      "needs_background": "light"
     },
     "output_type": "display_data"
    }
   ],
   "source": [
    "# Histogram of EUAC Appearances\n",
    "statsdf['EUAC Appearances'].hist()\n",
    "\n",
    "# add labels and title\n",
    "plt.xlabel('EUAC Appearances')\n",
    "plt.ylabel('Frequency')\n",
    "plt.title('Distribution of EUAC Appearances')"
   ]
  },
  {
   "cell_type": "code",
   "execution_count": 23,
   "id": "0bcb37b1",
   "metadata": {
    "scrolled": true
   },
   "outputs": [
    {
     "data": {
      "image/png": "[encoded data removed]",
      "text/plain": [
       "<Figure size 432x288 with 1 Axes>"
      ]
     },
     "metadata": {
      "needs_background": "light"
     },
     "output_type": "display_data"
    }
   ],
   "source": [
    "# Histogram with KDE curve\n",
    "sns.histplot(statsdf['EUAC Appearances'], kde=True, bins=20)\n",
    "\n",
    "# Labels and title\n",
    "plt.xlabel('EUAC Appearances')\n",
    "plt.ylabel('Frequency')\n",
    "plt.title('Distribution of EUAC Appearances')\n",
    "plt.show()"
   ]
  },
  {
   "cell_type": "code",
   "execution_count": 24,
   "id": "5c607e3c",
   "metadata": {
    "scrolled": true
   },
   "outputs": [
    {
     "data": {
      "text/html": [
       "<div>\n",
       "<style scoped>\n",
       "    .dataframe tbody tr th:only-of-type {\n",
       "        vertical-align: middle;\n",
       "    }\n",
       "\n",
       "    .dataframe tbody tr th {\n",
       "        vertical-align: top;\n",
       "    }\n",
       "\n",
       "    .dataframe thead th {\n",
       "        text-align: right;\n",
       "    }\n",
       "</style>\n",
       "<table border=\"1\" class=\"dataframe\">\n",
       "  <thead>\n",
       "    <tr style=\"text-align: right;\">\n",
       "      <th></th>\n",
       "      <th>Player_Map</th>\n",
       "      <th>EUAC Appearances</th>\n",
       "    </tr>\n",
       "  </thead>\n",
       "  <tbody>\n",
       "    <tr>\n",
       "      <th>106</th>\n",
       "      <td>YoshiBowser</td>\n",
       "      <td>104</td>\n",
       "    </tr>\n",
       "    <tr>\n",
       "      <th>81</th>\n",
       "      <td>Ripha</td>\n",
       "      <td>97</td>\n",
       "    </tr>\n",
       "    <tr>\n",
       "      <th>105</th>\n",
       "      <td>Yamber</td>\n",
       "      <td>85</td>\n",
       "    </tr>\n",
       "    <tr>\n",
       "      <th>116</th>\n",
       "      <td>ocrim_ger</td>\n",
       "      <td>62</td>\n",
       "    </tr>\n",
       "    <tr>\n",
       "      <th>37</th>\n",
       "      <td>Iceman92</td>\n",
       "      <td>62</td>\n",
       "    </tr>\n",
       "    <tr>\n",
       "      <th>38</th>\n",
       "      <td>Iloria</td>\n",
       "      <td>50</td>\n",
       "    </tr>\n",
       "    <tr>\n",
       "      <th>74</th>\n",
       "      <td>Penzo</td>\n",
       "      <td>48</td>\n",
       "    </tr>\n",
       "    <tr>\n",
       "      <th>34</th>\n",
       "      <td>Grimwood96</td>\n",
       "      <td>46</td>\n",
       "    </tr>\n",
       "    <tr>\n",
       "      <th>119</th>\n",
       "      <td>replicant___</td>\n",
       "      <td>43</td>\n",
       "    </tr>\n",
       "    <tr>\n",
       "      <th>63</th>\n",
       "      <td>Mortal_Instrument</td>\n",
       "      <td>33</td>\n",
       "    </tr>\n",
       "  </tbody>\n",
       "</table>\n",
       "</div>"
      ],
      "text/plain": [
       "            Player_Map  EUAC Appearances\n",
       "106        YoshiBowser               104\n",
       "81               Ripha                97\n",
       "105             Yamber                85\n",
       "116          ocrim_ger                62\n",
       "37            Iceman92                62\n",
       "38              Iloria                50\n",
       "74               Penzo                48\n",
       "34          Grimwood96                46\n",
       "119       replicant___                43\n",
       "63   Mortal_Instrument                33"
      ]
     },
     "execution_count": 24,
     "metadata": {},
     "output_type": "execute_result"
    }
   ],
   "source": [
    "# 10 Most Active Players sorted by appearances\n",
    "statsdf.sort_values(by=\"EUAC Appearances\", ascending=False).head(10)"
   ]
  },
  {
   "cell_type": "code",
   "execution_count": 25,
   "id": "95ba4909",
   "metadata": {},
   "outputs": [
    {
     "data": {
      "text/html": [
       "<div>\n",
       "<style scoped>\n",
       "    .dataframe tbody tr th:only-of-type {\n",
       "        vertical-align: middle;\n",
       "    }\n",
       "\n",
       "    .dataframe tbody tr th {\n",
       "        vertical-align: top;\n",
       "    }\n",
       "\n",
       "    .dataframe thead th {\n",
       "        text-align: right;\n",
       "    }\n",
       "</style>\n",
       "<table border=\"1\" class=\"dataframe\">\n",
       "  <thead>\n",
       "    <tr style=\"text-align: right;\">\n",
       "      <th></th>\n",
       "      <th>Start ID</th>\n",
       "      <th>Challonge ID</th>\n",
       "      <th>Player_Map</th>\n",
       "      <th>Player</th>\n",
       "      <th>EUAC Appearances</th>\n",
       "    </tr>\n",
       "  </thead>\n",
       "  <tbody>\n",
       "    <tr>\n",
       "      <th>0</th>\n",
       "      <td>0</td>\n",
       "      <td>164493</td>\n",
       "      <td>2ednar</td>\n",
       "      <td>2ednar</td>\n",
       "      <td>1</td>\n",
       "    </tr>\n",
       "    <tr>\n",
       "      <th>1</th>\n",
       "      <td>0</td>\n",
       "      <td>2992428</td>\n",
       "      <td>AU_Leenykins</td>\n",
       "      <td>AU_Leenykins</td>\n",
       "      <td>2</td>\n",
       "    </tr>\n",
       "    <tr>\n",
       "      <th>2</th>\n",
       "      <td>0</td>\n",
       "      <td>2942327</td>\n",
       "      <td>Alfon42</td>\n",
       "      <td>Alfon42</td>\n",
       "      <td>10</td>\n",
       "    </tr>\n",
       "    <tr>\n",
       "      <th>3</th>\n",
       "      <td>0</td>\n",
       "      <td>4324849</td>\n",
       "      <td>Alistair__</td>\n",
       "      <td>Alistair13</td>\n",
       "      <td>4</td>\n",
       "    </tr>\n",
       "    <tr>\n",
       "      <th>4</th>\n",
       "      <td>0</td>\n",
       "      <td>5390120</td>\n",
       "      <td>Alistair__</td>\n",
       "      <td>Alistair__</td>\n",
       "      <td>14</td>\n",
       "    </tr>\n",
       "  </tbody>\n",
       "</table>\n",
       "</div>"
      ],
      "text/plain": [
       "   Start ID  Challonge ID    Player_Map        Player  EUAC Appearances\n",
       "0         0        164493        2ednar        2ednar                 1\n",
       "1         0       2992428  AU_Leenykins  AU_Leenykins                 2\n",
       "2         0       2942327       Alfon42       Alfon42                10\n",
       "3         0       4324849    Alistair__    Alistair13                 4\n",
       "4         0       5390120    Alistair__    Alistair__                14"
      ]
     },
     "execution_count": 25,
     "metadata": {},
     "output_type": "execute_result"
    }
   ],
   "source": [
    "playerdf.head()"
   ]
  },
  {
   "cell_type": "code",
   "execution_count": 26,
   "id": "39ba8b4c",
   "metadata": {},
   "outputs": [],
   "source": [
    "## 4.1.2 Appearance Streaks?"
   ]
  },
  {
   "cell_type": "markdown",
   "id": "a35cdc61",
   "metadata": {},
   "source": [
    "## 4.2 Win/Loss Ratio"
   ]
  },
  {
   "cell_type": "markdown",
   "id": "85121d33",
   "metadata": {},
   "source": [
    "Section for determining a player's Win/Loss ratio. <br>\n",
    "<br>\n",
    "Two win/loss ratios will be defined. One for \"match\" winrate and the other for \"set\" winrate. <br>\n",
    "Matches will be each individual match a player has played and a set is the overall conclusion. <br>\n",
    "<br>\n",
    "Example: Player A wins 2-1 against Player B. Match winrate for Player A is 66.6% and set winrate is 100%. Just counting this set <br>\n",
    "Due to multiple accounts existing, the number of sets/matches a player has played will be recorded too as a weight"
   ]
  },
  {
   "cell_type": "code",
   "execution_count": 27,
   "id": "9ab9ca5a",
   "metadata": {
    "scrolled": false
   },
   "outputs": [],
   "source": [
    "setWinCountArray = []\n",
    "setLossCountArray = []\n",
    "matchWinCountArray = []\n",
    "matchLossCountArray = []\n",
    "\n",
    "# For every player...\n",
    "for players in playerdf[\"Player\"]:\n",
    "    # Variables\n",
    "    set_win_count = 0\n",
    "    set_loss_count = 0\n",
    "    \n",
    "    match_win_count = 0\n",
    "    match_loss_count = 0\n",
    "    \n",
    "    match_count = 0\n",
    "    set_count = 0\n",
    "    \n",
    "    # For every match get winner, loser, score...\n",
    "    for wins, losses, scores in zip(df[\"Winner\"], df[\"Loser\"], df[\"Score\"]):\n",
    "        # If player winner, increment win score\n",
    "        if wins == players:\n",
    "            set_win_count += 1\n",
    "            # Catch DQs\n",
    "            if scores == \"0--1\":\n",
    "                match_win_count += 2\n",
    "            # Not DQ, take first digit of score.\n",
    "            else:\n",
    "                match_win_count += int(scores[0])\n",
    "                match_loss_count += int(scores[-1])\n",
    "        elif losses == players:\n",
    "            set_loss_count += 1\n",
    "            # Catch DQs\n",
    "            if scores == \"0--1\":\n",
    "                match_loss_count += 2\n",
    "            # Not DQ, take first digit of score (number their opponent won by...)\n",
    "            else:\n",
    "                match_loss_count += int(scores[0])\n",
    "                match_win_count += int(scores[-1])\n",
    "                \n",
    "    # Append to arrays\n",
    "    setWinCountArray.append(set_win_count)\n",
    "    setLossCountArray.append(set_loss_count)\n",
    "    matchWinCountArray.append(match_win_count)\n",
    "    matchLossCountArray.append(match_loss_count)\n",
    "        \n",
    "        \n",
    "# Add to playerdf dataframe\n",
    "playerdf[\"Set Wins\"] = setWinCountArray\n",
    "playerdf[\"Set Losses\"] = setLossCountArray\n",
    "playerdf[\"Match Wins\"] = matchWinCountArray\n",
    "playerdf[\"Match Losses\"] = matchLossCountArray"
   ]
  },
  {
   "cell_type": "code",
   "execution_count": 28,
   "id": "9e2f145e",
   "metadata": {
    "scrolled": false
   },
   "outputs": [
    {
     "data": {
      "text/html": [
       "<div>\n",
       "<style scoped>\n",
       "    .dataframe tbody tr th:only-of-type {\n",
       "        vertical-align: middle;\n",
       "    }\n",
       "\n",
       "    .dataframe tbody tr th {\n",
       "        vertical-align: top;\n",
       "    }\n",
       "\n",
       "    .dataframe thead th {\n",
       "        text-align: right;\n",
       "    }\n",
       "</style>\n",
       "<table border=\"1\" class=\"dataframe\">\n",
       "  <thead>\n",
       "    <tr style=\"text-align: right;\">\n",
       "      <th></th>\n",
       "      <th>Start ID</th>\n",
       "      <th>Challonge ID</th>\n",
       "      <th>Player_Map</th>\n",
       "      <th>Player</th>\n",
       "      <th>EUAC Appearances</th>\n",
       "      <th>Set Wins</th>\n",
       "      <th>Set Losses</th>\n",
       "      <th>Match Wins</th>\n",
       "      <th>Match Losses</th>\n",
       "    </tr>\n",
       "  </thead>\n",
       "  <tbody>\n",
       "    <tr>\n",
       "      <th>0</th>\n",
       "      <td>0</td>\n",
       "      <td>164493</td>\n",
       "      <td>2ednar</td>\n",
       "      <td>2ednar</td>\n",
       "      <td>1</td>\n",
       "      <td>0</td>\n",
       "      <td>2</td>\n",
       "      <td>0</td>\n",
       "      <td>4</td>\n",
       "    </tr>\n",
       "    <tr>\n",
       "      <th>1</th>\n",
       "      <td>0</td>\n",
       "      <td>2992428</td>\n",
       "      <td>AU_Leenykins</td>\n",
       "      <td>AU_Leenykins</td>\n",
       "      <td>2</td>\n",
       "      <td>0</td>\n",
       "      <td>4</td>\n",
       "      <td>1</td>\n",
       "      <td>8</td>\n",
       "    </tr>\n",
       "    <tr>\n",
       "      <th>2</th>\n",
       "      <td>0</td>\n",
       "      <td>2942327</td>\n",
       "      <td>Alfon42</td>\n",
       "      <td>Alfon42</td>\n",
       "      <td>10</td>\n",
       "      <td>4</td>\n",
       "      <td>20</td>\n",
       "      <td>12</td>\n",
       "      <td>42</td>\n",
       "    </tr>\n",
       "    <tr>\n",
       "      <th>3</th>\n",
       "      <td>0</td>\n",
       "      <td>4324849</td>\n",
       "      <td>Alistair__</td>\n",
       "      <td>Alistair13</td>\n",
       "      <td>4</td>\n",
       "      <td>16</td>\n",
       "      <td>8</td>\n",
       "      <td>37</td>\n",
       "      <td>21</td>\n",
       "    </tr>\n",
       "    <tr>\n",
       "      <th>4</th>\n",
       "      <td>0</td>\n",
       "      <td>5390120</td>\n",
       "      <td>Alistair__</td>\n",
       "      <td>Alistair__</td>\n",
       "      <td>14</td>\n",
       "      <td>56</td>\n",
       "      <td>16</td>\n",
       "      <td>154</td>\n",
       "      <td>73</td>\n",
       "    </tr>\n",
       "  </tbody>\n",
       "</table>\n",
       "</div>"
      ],
      "text/plain": [
       "   Start ID  Challonge ID    Player_Map        Player  EUAC Appearances  \\\n",
       "0         0        164493        2ednar        2ednar                 1   \n",
       "1         0       2992428  AU_Leenykins  AU_Leenykins                 2   \n",
       "2         0       2942327       Alfon42       Alfon42                10   \n",
       "3         0       4324849    Alistair__    Alistair13                 4   \n",
       "4         0       5390120    Alistair__    Alistair__                14   \n",
       "\n",
       "   Set Wins  Set Losses  Match Wins  Match Losses  \n",
       "0         0           2           0             4  \n",
       "1         0           4           1             8  \n",
       "2         4          20          12            42  \n",
       "3        16           8          37            21  \n",
       "4        56          16         154            73  "
      ]
     },
     "execution_count": 28,
     "metadata": {},
     "output_type": "execute_result"
    }
   ],
   "source": [
    "playerdf.head()"
   ]
  },
  {
   "cell_type": "code",
   "execution_count": 29,
   "id": "d6bf8a76",
   "metadata": {
    "scrolled": true
   },
   "outputs": [
    {
     "data": {
      "text/html": [
       "<div>\n",
       "<style scoped>\n",
       "    .dataframe tbody tr th:only-of-type {\n",
       "        vertical-align: middle;\n",
       "    }\n",
       "\n",
       "    .dataframe tbody tr th {\n",
       "        vertical-align: top;\n",
       "    }\n",
       "\n",
       "    .dataframe thead th {\n",
       "        text-align: right;\n",
       "    }\n",
       "</style>\n",
       "<table border=\"1\" class=\"dataframe\">\n",
       "  <thead>\n",
       "    <tr style=\"text-align: right;\">\n",
       "      <th></th>\n",
       "      <th>Player_Map</th>\n",
       "      <th>EUAC Appearances</th>\n",
       "    </tr>\n",
       "  </thead>\n",
       "  <tbody>\n",
       "    <tr>\n",
       "      <th>0</th>\n",
       "      <td>2ednar</td>\n",
       "      <td>1</td>\n",
       "    </tr>\n",
       "    <tr>\n",
       "      <th>1</th>\n",
       "      <td>AU_Leenykins</td>\n",
       "      <td>2</td>\n",
       "    </tr>\n",
       "    <tr>\n",
       "      <th>2</th>\n",
       "      <td>Alfon42</td>\n",
       "      <td>10</td>\n",
       "    </tr>\n",
       "    <tr>\n",
       "      <th>3</th>\n",
       "      <td>Alistair__</td>\n",
       "      <td>29</td>\n",
       "    </tr>\n",
       "    <tr>\n",
       "      <th>4</th>\n",
       "      <td>Altair</td>\n",
       "      <td>1</td>\n",
       "    </tr>\n",
       "  </tbody>\n",
       "</table>\n",
       "</div>"
      ],
      "text/plain": [
       "     Player_Map  EUAC Appearances\n",
       "0        2ednar                 1\n",
       "1  AU_Leenykins                 2\n",
       "2       Alfon42                10\n",
       "3    Alistair__                29\n",
       "4        Altair                 1"
      ]
     },
     "execution_count": 29,
     "metadata": {},
     "output_type": "execute_result"
    }
   ],
   "source": [
    "statsdf.head()"
   ]
  },
  {
   "cell_type": "code",
   "execution_count": 30,
   "id": "fd1ecbdc",
   "metadata": {},
   "outputs": [],
   "source": [
    "statsdf = playerdf.copy()"
   ]
  },
  {
   "cell_type": "code",
   "execution_count": 31,
   "id": "b0522928",
   "metadata": {},
   "outputs": [],
   "source": [
    "statsdf = statsdf.groupby(\"Player_Map\").agg({\n",
    "    \"EUAC Appearances\": \"sum\",\n",
    "    \"Set Wins\": \"sum\",\n",
    "    \"Set Losses\": \"sum\",\n",
    "    \"Match Wins\": \"sum\",\n",
    "    \"Match Losses\": \"sum\"\n",
    "}).reset_index()"
   ]
  },
  {
   "cell_type": "code",
   "execution_count": 32,
   "id": "6f90ae71",
   "metadata": {
    "scrolled": true
   },
   "outputs": [
    {
     "data": {
      "text/html": [
       "<div>\n",
       "<style scoped>\n",
       "    .dataframe tbody tr th:only-of-type {\n",
       "        vertical-align: middle;\n",
       "    }\n",
       "\n",
       "    .dataframe tbody tr th {\n",
       "        vertical-align: top;\n",
       "    }\n",
       "\n",
       "    .dataframe thead th {\n",
       "        text-align: right;\n",
       "    }\n",
       "</style>\n",
       "<table border=\"1\" class=\"dataframe\">\n",
       "  <thead>\n",
       "    <tr style=\"text-align: right;\">\n",
       "      <th></th>\n",
       "      <th>Player_Map</th>\n",
       "      <th>EUAC Appearances</th>\n",
       "      <th>Set Wins</th>\n",
       "      <th>Set Losses</th>\n",
       "      <th>Match Wins</th>\n",
       "      <th>Match Losses</th>\n",
       "    </tr>\n",
       "  </thead>\n",
       "  <tbody>\n",
       "    <tr>\n",
       "      <th>0</th>\n",
       "      <td>2ednar</td>\n",
       "      <td>1</td>\n",
       "      <td>0</td>\n",
       "      <td>2</td>\n",
       "      <td>0</td>\n",
       "      <td>4</td>\n",
       "    </tr>\n",
       "    <tr>\n",
       "      <th>1</th>\n",
       "      <td>AU_Leenykins</td>\n",
       "      <td>2</td>\n",
       "      <td>0</td>\n",
       "      <td>4</td>\n",
       "      <td>1</td>\n",
       "      <td>8</td>\n",
       "    </tr>\n",
       "    <tr>\n",
       "      <th>2</th>\n",
       "      <td>Alfon42</td>\n",
       "      <td>10</td>\n",
       "      <td>4</td>\n",
       "      <td>20</td>\n",
       "      <td>12</td>\n",
       "      <td>42</td>\n",
       "    </tr>\n",
       "    <tr>\n",
       "      <th>3</th>\n",
       "      <td>Alistair__</td>\n",
       "      <td>29</td>\n",
       "      <td>104</td>\n",
       "      <td>42</td>\n",
       "      <td>270</td>\n",
       "      <td>144</td>\n",
       "    </tr>\n",
       "    <tr>\n",
       "      <th>4</th>\n",
       "      <td>Altair</td>\n",
       "      <td>1</td>\n",
       "      <td>0</td>\n",
       "      <td>2</td>\n",
       "      <td>0</td>\n",
       "      <td>4</td>\n",
       "    </tr>\n",
       "  </tbody>\n",
       "</table>\n",
       "</div>"
      ],
      "text/plain": [
       "     Player_Map  EUAC Appearances  Set Wins  Set Losses  Match Wins  \\\n",
       "0        2ednar                 1         0           2           0   \n",
       "1  AU_Leenykins                 2         0           4           1   \n",
       "2       Alfon42                10         4          20          12   \n",
       "3    Alistair__                29       104          42         270   \n",
       "4        Altair                 1         0           2           0   \n",
       "\n",
       "   Match Losses  \n",
       "0             4  \n",
       "1             8  \n",
       "2            42  \n",
       "3           144  \n",
       "4             4  "
      ]
     },
     "execution_count": 32,
     "metadata": {},
     "output_type": "execute_result"
    }
   ],
   "source": [
    "statsdf.head()"
   ]
  },
  {
   "cell_type": "code",
   "execution_count": 33,
   "id": "a3356465",
   "metadata": {},
   "outputs": [],
   "source": [
    "# Apply lambda functions to determine the total (wins + losses) and winrate (wins/total)\n",
    "\n",
    "statsdf[\"Set Total\"] = statsdf.apply(lambda x: x[\"Set Wins\"] + x[\"Set Losses\"], axis=1)\n",
    "statsdf[\"Match Total\"] = statsdf.apply(lambda x: x[\"Match Wins\"] + x[\"Match Losses\"], axis=1)\n",
    "statsdf[\"Set Winrate\"] = statsdf.apply(lambda x: (x[\"Set Wins\"]/x[\"Set Total\"])*100, axis=1)\n",
    "statsdf[\"Match Winrate\"] = statsdf.apply(lambda x: (x[\"Match Wins\"]/x[\"Match Total\"])*100, axis=1)"
   ]
  },
  {
   "cell_type": "code",
   "execution_count": 34,
   "id": "b76476b9",
   "metadata": {
    "scrolled": false
   },
   "outputs": [
    {
     "data": {
      "text/html": [
       "<div>\n",
       "<style scoped>\n",
       "    .dataframe tbody tr th:only-of-type {\n",
       "        vertical-align: middle;\n",
       "    }\n",
       "\n",
       "    .dataframe tbody tr th {\n",
       "        vertical-align: top;\n",
       "    }\n",
       "\n",
       "    .dataframe thead th {\n",
       "        text-align: right;\n",
       "    }\n",
       "</style>\n",
       "<table border=\"1\" class=\"dataframe\">\n",
       "  <thead>\n",
       "    <tr style=\"text-align: right;\">\n",
       "      <th></th>\n",
       "      <th>Player_Map</th>\n",
       "      <th>EUAC Appearances</th>\n",
       "      <th>Set Wins</th>\n",
       "      <th>Set Losses</th>\n",
       "      <th>Match Wins</th>\n",
       "      <th>Match Losses</th>\n",
       "      <th>Set Total</th>\n",
       "      <th>Match Total</th>\n",
       "      <th>Set Winrate</th>\n",
       "      <th>Match Winrate</th>\n",
       "    </tr>\n",
       "  </thead>\n",
       "  <tbody>\n",
       "    <tr>\n",
       "      <th>108</th>\n",
       "      <td>Yätta</td>\n",
       "      <td>24</td>\n",
       "      <td>99</td>\n",
       "      <td>27</td>\n",
       "      <td>256</td>\n",
       "      <td>128</td>\n",
       "      <td>126</td>\n",
       "      <td>384</td>\n",
       "      <td>78.571429</td>\n",
       "      <td>66.666667</td>\n",
       "    </tr>\n",
       "    <tr>\n",
       "      <th>81</th>\n",
       "      <td>Ripha</td>\n",
       "      <td>97</td>\n",
       "      <td>330</td>\n",
       "      <td>108</td>\n",
       "      <td>909</td>\n",
       "      <td>458</td>\n",
       "      <td>438</td>\n",
       "      <td>1367</td>\n",
       "      <td>75.342466</td>\n",
       "      <td>66.495977</td>\n",
       "    </tr>\n",
       "    <tr>\n",
       "      <th>3</th>\n",
       "      <td>Alistair__</td>\n",
       "      <td>29</td>\n",
       "      <td>104</td>\n",
       "      <td>42</td>\n",
       "      <td>270</td>\n",
       "      <td>144</td>\n",
       "      <td>146</td>\n",
       "      <td>414</td>\n",
       "      <td>71.232877</td>\n",
       "      <td>65.217391</td>\n",
       "    </tr>\n",
       "    <tr>\n",
       "      <th>79</th>\n",
       "      <td>Raffa_</td>\n",
       "      <td>21</td>\n",
       "      <td>75</td>\n",
       "      <td>34</td>\n",
       "      <td>195</td>\n",
       "      <td>104</td>\n",
       "      <td>109</td>\n",
       "      <td>299</td>\n",
       "      <td>68.807339</td>\n",
       "      <td>65.217391</td>\n",
       "    </tr>\n",
       "    <tr>\n",
       "      <th>45</th>\n",
       "      <td>JrARMS</td>\n",
       "      <td>10</td>\n",
       "      <td>37</td>\n",
       "      <td>17</td>\n",
       "      <td>97</td>\n",
       "      <td>63</td>\n",
       "      <td>54</td>\n",
       "      <td>160</td>\n",
       "      <td>68.518519</td>\n",
       "      <td>60.625000</td>\n",
       "    </tr>\n",
       "    <tr>\n",
       "      <th>16</th>\n",
       "      <td>D2S_Maxou</td>\n",
       "      <td>5</td>\n",
       "      <td>18</td>\n",
       "      <td>9</td>\n",
       "      <td>47</td>\n",
       "      <td>27</td>\n",
       "      <td>27</td>\n",
       "      <td>74</td>\n",
       "      <td>66.666667</td>\n",
       "      <td>63.513514</td>\n",
       "    </tr>\n",
       "    <tr>\n",
       "      <th>34</th>\n",
       "      <td>Grimwood96</td>\n",
       "      <td>46</td>\n",
       "      <td>147</td>\n",
       "      <td>78</td>\n",
       "      <td>388</td>\n",
       "      <td>264</td>\n",
       "      <td>225</td>\n",
       "      <td>652</td>\n",
       "      <td>65.333333</td>\n",
       "      <td>59.509202</td>\n",
       "    </tr>\n",
       "    <tr>\n",
       "      <th>27</th>\n",
       "      <td>Frank001</td>\n",
       "      <td>5</td>\n",
       "      <td>15</td>\n",
       "      <td>8</td>\n",
       "      <td>37</td>\n",
       "      <td>23</td>\n",
       "      <td>23</td>\n",
       "      <td>60</td>\n",
       "      <td>65.217391</td>\n",
       "      <td>61.666667</td>\n",
       "    </tr>\n",
       "    <tr>\n",
       "      <th>28</th>\n",
       "      <td>G1ven</td>\n",
       "      <td>5</td>\n",
       "      <td>18</td>\n",
       "      <td>10</td>\n",
       "      <td>45</td>\n",
       "      <td>36</td>\n",
       "      <td>28</td>\n",
       "      <td>81</td>\n",
       "      <td>64.285714</td>\n",
       "      <td>55.555556</td>\n",
       "    </tr>\n",
       "    <tr>\n",
       "      <th>37</th>\n",
       "      <td>Iceman92</td>\n",
       "      <td>62</td>\n",
       "      <td>175</td>\n",
       "      <td>102</td>\n",
       "      <td>466</td>\n",
       "      <td>335</td>\n",
       "      <td>277</td>\n",
       "      <td>801</td>\n",
       "      <td>63.176895</td>\n",
       "      <td>58.177278</td>\n",
       "    </tr>\n",
       "  </tbody>\n",
       "</table>\n",
       "</div>"
      ],
      "text/plain": [
       "     Player_Map  EUAC Appearances  Set Wins  Set Losses  Match Wins  \\\n",
       "108       Yätta                24        99          27         256   \n",
       "81        Ripha                97       330         108         909   \n",
       "3    Alistair__                29       104          42         270   \n",
       "79       Raffa_                21        75          34         195   \n",
       "45       JrARMS                10        37          17          97   \n",
       "16    D2S_Maxou                 5        18           9          47   \n",
       "34   Grimwood96                46       147          78         388   \n",
       "27     Frank001                 5        15           8          37   \n",
       "28        G1ven                 5        18          10          45   \n",
       "37     Iceman92                62       175         102         466   \n",
       "\n",
       "     Match Losses  Set Total  Match Total  Set Winrate  Match Winrate  \n",
       "108           128        126          384    78.571429      66.666667  \n",
       "81            458        438         1367    75.342466      66.495977  \n",
       "3             144        146          414    71.232877      65.217391  \n",
       "79            104        109          299    68.807339      65.217391  \n",
       "45             63         54          160    68.518519      60.625000  \n",
       "16             27         27           74    66.666667      63.513514  \n",
       "34            264        225          652    65.333333      59.509202  \n",
       "27             23         23           60    65.217391      61.666667  \n",
       "28             36         28           81    64.285714      55.555556  \n",
       "37            335        277          801    63.176895      58.177278  "
      ]
     },
     "execution_count": 34,
     "metadata": {},
     "output_type": "execute_result"
    }
   ],
   "source": [
    "# Top 10 Players with highest set winrates\n",
    "statsdf[statsdf[\"EUAC Appearances\"] > 1].sort_values(by=\"Set Winrate\", ascending=False).head(10)"
   ]
  },
  {
   "cell_type": "code",
   "execution_count": 35,
   "id": "57ebccd5",
   "metadata": {
    "scrolled": false
   },
   "outputs": [
    {
     "data": {
      "text/html": [
       "<div>\n",
       "<style scoped>\n",
       "    .dataframe tbody tr th:only-of-type {\n",
       "        vertical-align: middle;\n",
       "    }\n",
       "\n",
       "    .dataframe tbody tr th {\n",
       "        vertical-align: top;\n",
       "    }\n",
       "\n",
       "    .dataframe thead th {\n",
       "        text-align: right;\n",
       "    }\n",
       "</style>\n",
       "<table border=\"1\" class=\"dataframe\">\n",
       "  <thead>\n",
       "    <tr style=\"text-align: right;\">\n",
       "      <th></th>\n",
       "      <th>Player_Map</th>\n",
       "      <th>EUAC Appearances</th>\n",
       "      <th>Set Wins</th>\n",
       "      <th>Set Losses</th>\n",
       "      <th>Match Wins</th>\n",
       "      <th>Match Losses</th>\n",
       "      <th>Set Total</th>\n",
       "      <th>Match Total</th>\n",
       "      <th>Set Winrate</th>\n",
       "      <th>Match Winrate</th>\n",
       "    </tr>\n",
       "  </thead>\n",
       "  <tbody>\n",
       "    <tr>\n",
       "      <th>108</th>\n",
       "      <td>Yätta</td>\n",
       "      <td>24</td>\n",
       "      <td>99</td>\n",
       "      <td>27</td>\n",
       "      <td>256</td>\n",
       "      <td>128</td>\n",
       "      <td>126</td>\n",
       "      <td>384</td>\n",
       "      <td>78.571429</td>\n",
       "      <td>66.666667</td>\n",
       "    </tr>\n",
       "    <tr>\n",
       "      <th>81</th>\n",
       "      <td>Ripha</td>\n",
       "      <td>97</td>\n",
       "      <td>330</td>\n",
       "      <td>108</td>\n",
       "      <td>909</td>\n",
       "      <td>458</td>\n",
       "      <td>438</td>\n",
       "      <td>1367</td>\n",
       "      <td>75.342466</td>\n",
       "      <td>66.495977</td>\n",
       "    </tr>\n",
       "    <tr>\n",
       "      <th>3</th>\n",
       "      <td>Alistair__</td>\n",
       "      <td>29</td>\n",
       "      <td>104</td>\n",
       "      <td>42</td>\n",
       "      <td>270</td>\n",
       "      <td>144</td>\n",
       "      <td>146</td>\n",
       "      <td>414</td>\n",
       "      <td>71.232877</td>\n",
       "      <td>65.217391</td>\n",
       "    </tr>\n",
       "    <tr>\n",
       "      <th>79</th>\n",
       "      <td>Raffa_</td>\n",
       "      <td>21</td>\n",
       "      <td>75</td>\n",
       "      <td>34</td>\n",
       "      <td>195</td>\n",
       "      <td>104</td>\n",
       "      <td>109</td>\n",
       "      <td>299</td>\n",
       "      <td>68.807339</td>\n",
       "      <td>65.217391</td>\n",
       "    </tr>\n",
       "    <tr>\n",
       "      <th>16</th>\n",
       "      <td>D2S_Maxou</td>\n",
       "      <td>5</td>\n",
       "      <td>18</td>\n",
       "      <td>9</td>\n",
       "      <td>47</td>\n",
       "      <td>27</td>\n",
       "      <td>27</td>\n",
       "      <td>74</td>\n",
       "      <td>66.666667</td>\n",
       "      <td>63.513514</td>\n",
       "    </tr>\n",
       "    <tr>\n",
       "      <th>27</th>\n",
       "      <td>Frank001</td>\n",
       "      <td>5</td>\n",
       "      <td>15</td>\n",
       "      <td>8</td>\n",
       "      <td>37</td>\n",
       "      <td>23</td>\n",
       "      <td>23</td>\n",
       "      <td>60</td>\n",
       "      <td>65.217391</td>\n",
       "      <td>61.666667</td>\n",
       "    </tr>\n",
       "    <tr>\n",
       "      <th>45</th>\n",
       "      <td>JrARMS</td>\n",
       "      <td>10</td>\n",
       "      <td>37</td>\n",
       "      <td>17</td>\n",
       "      <td>97</td>\n",
       "      <td>63</td>\n",
       "      <td>54</td>\n",
       "      <td>160</td>\n",
       "      <td>68.518519</td>\n",
       "      <td>60.625000</td>\n",
       "    </tr>\n",
       "    <tr>\n",
       "      <th>34</th>\n",
       "      <td>Grimwood96</td>\n",
       "      <td>46</td>\n",
       "      <td>147</td>\n",
       "      <td>78</td>\n",
       "      <td>388</td>\n",
       "      <td>264</td>\n",
       "      <td>225</td>\n",
       "      <td>652</td>\n",
       "      <td>65.333333</td>\n",
       "      <td>59.509202</td>\n",
       "    </tr>\n",
       "    <tr>\n",
       "      <th>37</th>\n",
       "      <td>Iceman92</td>\n",
       "      <td>62</td>\n",
       "      <td>175</td>\n",
       "      <td>102</td>\n",
       "      <td>466</td>\n",
       "      <td>335</td>\n",
       "      <td>277</td>\n",
       "      <td>801</td>\n",
       "      <td>63.176895</td>\n",
       "      <td>58.177278</td>\n",
       "    </tr>\n",
       "    <tr>\n",
       "      <th>58</th>\n",
       "      <td>MagnetAlpha</td>\n",
       "      <td>2</td>\n",
       "      <td>4</td>\n",
       "      <td>3</td>\n",
       "      <td>9</td>\n",
       "      <td>7</td>\n",
       "      <td>7</td>\n",
       "      <td>16</td>\n",
       "      <td>57.142857</td>\n",
       "      <td>56.250000</td>\n",
       "    </tr>\n",
       "  </tbody>\n",
       "</table>\n",
       "</div>"
      ],
      "text/plain": [
       "      Player_Map  EUAC Appearances  Set Wins  Set Losses  Match Wins  \\\n",
       "108        Yätta                24        99          27         256   \n",
       "81         Ripha                97       330         108         909   \n",
       "3     Alistair__                29       104          42         270   \n",
       "79        Raffa_                21        75          34         195   \n",
       "16     D2S_Maxou                 5        18           9          47   \n",
       "27      Frank001                 5        15           8          37   \n",
       "45        JrARMS                10        37          17          97   \n",
       "34    Grimwood96                46       147          78         388   \n",
       "37      Iceman92                62       175         102         466   \n",
       "58   MagnetAlpha                 2         4           3           9   \n",
       "\n",
       "     Match Losses  Set Total  Match Total  Set Winrate  Match Winrate  \n",
       "108           128        126          384    78.571429      66.666667  \n",
       "81            458        438         1367    75.342466      66.495977  \n",
       "3             144        146          414    71.232877      65.217391  \n",
       "79            104        109          299    68.807339      65.217391  \n",
       "16             27         27           74    66.666667      63.513514  \n",
       "27             23         23           60    65.217391      61.666667  \n",
       "45             63         54          160    68.518519      60.625000  \n",
       "34            264        225          652    65.333333      59.509202  \n",
       "37            335        277          801    63.176895      58.177278  \n",
       "58              7          7           16    57.142857      56.250000  "
      ]
     },
     "execution_count": 35,
     "metadata": {},
     "output_type": "execute_result"
    }
   ],
   "source": [
    "# Top 10 Players ranked on Match Winrate\n",
    "statsdf[statsdf[\"EUAC Appearances\"] > 1].sort_values(by=\"Match Winrate\", ascending=False).head(10)"
   ]
  },
  {
   "cell_type": "code",
   "execution_count": 36,
   "id": "e0b77238",
   "metadata": {
    "scrolled": true
   },
   "outputs": [
    {
     "data": {
      "text/plain": [
       "<AxesSubplot:xlabel='Set Winrate', ylabel='Count'>"
      ]
     },
     "execution_count": 36,
     "metadata": {},
     "output_type": "execute_result"
    },
    {
     "data": {
      "image/png": "[encoded data removed]",
      "text/plain": [
       "<Figure size 432x288 with 1 Axes>"
      ]
     },
     "metadata": {
      "needs_background": "light"
     },
     "output_type": "display_data"
    }
   ],
   "source": [
    "# Histogram of Set Winrate\n",
    "sns.histplot(statsdf['Set Winrate'], bins=\"auto\", kde=True)"
   ]
  },
  {
   "cell_type": "markdown",
   "id": "14cda908",
   "metadata": {},
   "source": [
    "As we can see, players with low appearances can trickle their way in to the highest winrates. We can apply confidence intervals to provide an estimation of a player's true winrate"
   ]
  },
  {
   "cell_type": "markdown",
   "id": "8e24ac1e",
   "metadata": {},
   "source": [
    "Confidence Intervals"
   ]
  },
  {
   "cell_type": "code",
   "execution_count": 37,
   "id": "109cc828",
   "metadata": {},
   "outputs": [],
   "source": [
    "# Determine a player's low and high Confidence Interval (C.I.) bands\n",
    "from statsmodels.stats.proportion import proportion_confint\n",
    "\n",
    "ciLowArray = []\n",
    "ciHighArray = []\n",
    "for sw, st in zip(statsdf[\"Set Wins\"], statsdf[\"Set Total\"]):\n",
    "                  ciLow, ciHigh = proportion_confint(sw, st, method='wilson')\n",
    "                  ciLowArray.append(ciLow)\n",
    "                  ciHighArray.append(ciHigh)\n",
    "statsdf[\"CI Low Sets\"] = ciLowArray\n",
    "statsdf[\"CI High Sets\"] = ciHighArray"
   ]
  },
  {
   "cell_type": "code",
   "execution_count": 38,
   "id": "f2253651",
   "metadata": {
    "scrolled": true
   },
   "outputs": [
    {
     "data": {
      "text/html": [
       "<div>\n",
       "<style scoped>\n",
       "    .dataframe tbody tr th:only-of-type {\n",
       "        vertical-align: middle;\n",
       "    }\n",
       "\n",
       "    .dataframe tbody tr th {\n",
       "        vertical-align: top;\n",
       "    }\n",
       "\n",
       "    .dataframe thead th {\n",
       "        text-align: right;\n",
       "    }\n",
       "</style>\n",
       "<table border=\"1\" class=\"dataframe\">\n",
       "  <thead>\n",
       "    <tr style=\"text-align: right;\">\n",
       "      <th></th>\n",
       "      <th>Player_Map</th>\n",
       "      <th>EUAC Appearances</th>\n",
       "      <th>Set Wins</th>\n",
       "      <th>Set Losses</th>\n",
       "      <th>Match Wins</th>\n",
       "      <th>Match Losses</th>\n",
       "      <th>Set Total</th>\n",
       "      <th>Match Total</th>\n",
       "      <th>Set Winrate</th>\n",
       "      <th>Match Winrate</th>\n",
       "      <th>CI Low Sets</th>\n",
       "      <th>CI High Sets</th>\n",
       "    </tr>\n",
       "  </thead>\n",
       "  <tbody>\n",
       "    <tr>\n",
       "      <th>0</th>\n",
       "      <td>2ednar</td>\n",
       "      <td>1</td>\n",
       "      <td>0</td>\n",
       "      <td>2</td>\n",
       "      <td>0</td>\n",
       "      <td>4</td>\n",
       "      <td>2</td>\n",
       "      <td>4</td>\n",
       "      <td>0.000000</td>\n",
       "      <td>0.000000</td>\n",
       "      <td>0.000000</td>\n",
       "      <td>0.657620</td>\n",
       "    </tr>\n",
       "    <tr>\n",
       "      <th>1</th>\n",
       "      <td>AU_Leenykins</td>\n",
       "      <td>2</td>\n",
       "      <td>0</td>\n",
       "      <td>4</td>\n",
       "      <td>1</td>\n",
       "      <td>8</td>\n",
       "      <td>4</td>\n",
       "      <td>9</td>\n",
       "      <td>0.000000</td>\n",
       "      <td>11.111111</td>\n",
       "      <td>0.000000</td>\n",
       "      <td>0.489891</td>\n",
       "    </tr>\n",
       "    <tr>\n",
       "      <th>2</th>\n",
       "      <td>Alfon42</td>\n",
       "      <td>10</td>\n",
       "      <td>4</td>\n",
       "      <td>20</td>\n",
       "      <td>12</td>\n",
       "      <td>42</td>\n",
       "      <td>24</td>\n",
       "      <td>54</td>\n",
       "      <td>16.666667</td>\n",
       "      <td>22.222222</td>\n",
       "      <td>0.066787</td>\n",
       "      <td>0.358531</td>\n",
       "    </tr>\n",
       "    <tr>\n",
       "      <th>3</th>\n",
       "      <td>Alistair__</td>\n",
       "      <td>29</td>\n",
       "      <td>104</td>\n",
       "      <td>42</td>\n",
       "      <td>270</td>\n",
       "      <td>144</td>\n",
       "      <td>146</td>\n",
       "      <td>414</td>\n",
       "      <td>71.232877</td>\n",
       "      <td>65.217391</td>\n",
       "      <td>0.634201</td>\n",
       "      <td>0.779570</td>\n",
       "    </tr>\n",
       "    <tr>\n",
       "      <th>4</th>\n",
       "      <td>Altair</td>\n",
       "      <td>1</td>\n",
       "      <td>0</td>\n",
       "      <td>2</td>\n",
       "      <td>0</td>\n",
       "      <td>4</td>\n",
       "      <td>2</td>\n",
       "      <td>4</td>\n",
       "      <td>0.000000</td>\n",
       "      <td>0.000000</td>\n",
       "      <td>0.000000</td>\n",
       "      <td>0.657620</td>\n",
       "    </tr>\n",
       "  </tbody>\n",
       "</table>\n",
       "</div>"
      ],
      "text/plain": [
       "     Player_Map  EUAC Appearances  Set Wins  Set Losses  Match Wins  \\\n",
       "0        2ednar                 1         0           2           0   \n",
       "1  AU_Leenykins                 2         0           4           1   \n",
       "2       Alfon42                10         4          20          12   \n",
       "3    Alistair__                29       104          42         270   \n",
       "4        Altair                 1         0           2           0   \n",
       "\n",
       "   Match Losses  Set Total  Match Total  Set Winrate  Match Winrate  \\\n",
       "0             4          2            4     0.000000       0.000000   \n",
       "1             8          4            9     0.000000      11.111111   \n",
       "2            42         24           54    16.666667      22.222222   \n",
       "3           144        146          414    71.232877      65.217391   \n",
       "4             4          2            4     0.000000       0.000000   \n",
       "\n",
       "   CI Low Sets  CI High Sets  \n",
       "0     0.000000      0.657620  \n",
       "1     0.000000      0.489891  \n",
       "2     0.066787      0.358531  \n",
       "3     0.634201      0.779570  \n",
       "4     0.000000      0.657620  "
      ]
     },
     "execution_count": 38,
     "metadata": {},
     "output_type": "execute_result"
    }
   ],
   "source": [
    "statsdf.head()"
   ]
  },
  {
   "cell_type": "code",
   "execution_count": 39,
   "id": "19d6ec6c",
   "metadata": {},
   "outputs": [],
   "source": [
    "filterdf = statsdf.sort_values(by=\"Set Winrate\", ascending=False).head(20)"
   ]
  },
  {
   "cell_type": "code",
   "execution_count": 40,
   "id": "66d7264a",
   "metadata": {
    "scrolled": true
   },
   "outputs": [
    {
     "data": {
      "text/html": [
       "<div>\n",
       "<style scoped>\n",
       "    .dataframe tbody tr th:only-of-type {\n",
       "        vertical-align: middle;\n",
       "    }\n",
       "\n",
       "    .dataframe tbody tr th {\n",
       "        vertical-align: top;\n",
       "    }\n",
       "\n",
       "    .dataframe thead th {\n",
       "        text-align: right;\n",
       "    }\n",
       "</style>\n",
       "<table border=\"1\" class=\"dataframe\">\n",
       "  <thead>\n",
       "    <tr style=\"text-align: right;\">\n",
       "      <th></th>\n",
       "      <th>Player_Map</th>\n",
       "      <th>EUAC Appearances</th>\n",
       "      <th>Set Wins</th>\n",
       "      <th>Set Losses</th>\n",
       "      <th>Match Wins</th>\n",
       "      <th>Match Losses</th>\n",
       "      <th>Set Total</th>\n",
       "      <th>Match Total</th>\n",
       "      <th>Set Winrate</th>\n",
       "      <th>Match Winrate</th>\n",
       "      <th>CI Low Sets</th>\n",
       "      <th>CI High Sets</th>\n",
       "    </tr>\n",
       "  </thead>\n",
       "  <tbody>\n",
       "    <tr>\n",
       "      <th>108</th>\n",
       "      <td>Yätta</td>\n",
       "      <td>24</td>\n",
       "      <td>99</td>\n",
       "      <td>27</td>\n",
       "      <td>256</td>\n",
       "      <td>128</td>\n",
       "      <td>126</td>\n",
       "      <td>384</td>\n",
       "      <td>78.571429</td>\n",
       "      <td>66.666667</td>\n",
       "      <td>0.706179</td>\n",
       "      <td>0.848344</td>\n",
       "    </tr>\n",
       "    <tr>\n",
       "      <th>81</th>\n",
       "      <td>Ripha</td>\n",
       "      <td>97</td>\n",
       "      <td>330</td>\n",
       "      <td>108</td>\n",
       "      <td>909</td>\n",
       "      <td>458</td>\n",
       "      <td>438</td>\n",
       "      <td>1367</td>\n",
       "      <td>75.342466</td>\n",
       "      <td>66.495977</td>\n",
       "      <td>0.710972</td>\n",
       "      <td>0.791471</td>\n",
       "    </tr>\n",
       "    <tr>\n",
       "      <th>3</th>\n",
       "      <td>Alistair__</td>\n",
       "      <td>29</td>\n",
       "      <td>104</td>\n",
       "      <td>42</td>\n",
       "      <td>270</td>\n",
       "      <td>144</td>\n",
       "      <td>146</td>\n",
       "      <td>414</td>\n",
       "      <td>71.232877</td>\n",
       "      <td>65.217391</td>\n",
       "      <td>0.634201</td>\n",
       "      <td>0.779570</td>\n",
       "    </tr>\n",
       "    <tr>\n",
       "      <th>79</th>\n",
       "      <td>Raffa_</td>\n",
       "      <td>21</td>\n",
       "      <td>75</td>\n",
       "      <td>34</td>\n",
       "      <td>195</td>\n",
       "      <td>104</td>\n",
       "      <td>109</td>\n",
       "      <td>299</td>\n",
       "      <td>68.807339</td>\n",
       "      <td>65.217391</td>\n",
       "      <td>0.595953</td>\n",
       "      <td>0.767389</td>\n",
       "    </tr>\n",
       "    <tr>\n",
       "      <th>45</th>\n",
       "      <td>JrARMS</td>\n",
       "      <td>10</td>\n",
       "      <td>37</td>\n",
       "      <td>17</td>\n",
       "      <td>97</td>\n",
       "      <td>63</td>\n",
       "      <td>54</td>\n",
       "      <td>160</td>\n",
       "      <td>68.518519</td>\n",
       "      <td>60.625000</td>\n",
       "      <td>0.552566</td>\n",
       "      <td>0.793207</td>\n",
       "    </tr>\n",
       "  </tbody>\n",
       "</table>\n",
       "</div>"
      ],
      "text/plain": [
       "     Player_Map  EUAC Appearances  Set Wins  Set Losses  Match Wins  \\\n",
       "108       Yätta                24        99          27         256   \n",
       "81        Ripha                97       330         108         909   \n",
       "3    Alistair__                29       104          42         270   \n",
       "79       Raffa_                21        75          34         195   \n",
       "45       JrARMS                10        37          17          97   \n",
       "\n",
       "     Match Losses  Set Total  Match Total  Set Winrate  Match Winrate  \\\n",
       "108           128        126          384    78.571429      66.666667   \n",
       "81            458        438         1367    75.342466      66.495977   \n",
       "3             144        146          414    71.232877      65.217391   \n",
       "79            104        109          299    68.807339      65.217391   \n",
       "45             63         54          160    68.518519      60.625000   \n",
       "\n",
       "     CI Low Sets  CI High Sets  \n",
       "108     0.706179      0.848344  \n",
       "81      0.710972      0.791471  \n",
       "3       0.634201      0.779570  \n",
       "79      0.595953      0.767389  \n",
       "45      0.552566      0.793207  "
      ]
     },
     "execution_count": 40,
     "metadata": {},
     "output_type": "execute_result"
    }
   ],
   "source": [
    "filterdf.head()"
   ]
  },
  {
   "cell_type": "code",
   "execution_count": 41,
   "id": "2e3b4683",
   "metadata": {},
   "outputs": [],
   "source": [
    "filterdf[\"Set Winrate\"] = filterdf.apply(lambda x: x[\"Set Winrate\"]/100, axis=1)"
   ]
  },
  {
   "cell_type": "code",
   "execution_count": 42,
   "id": "9a0e8e4d",
   "metadata": {
    "scrolled": false
   },
   "outputs": [
    {
     "data": {
      "image/png": "[encoded data removed]",
      "text/plain": [
       "<Figure size 864x432 with 1 Axes>"
      ]
     },
     "metadata": {
      "needs_background": "light"
     },
     "output_type": "display_data"
    }
   ],
   "source": [
    "# Plot\n",
    "plt.figure(figsize=(12, 6))\n",
    "x = np.arange(len(filterdf))\n",
    "y = filterdf[\"Set Winrate\"]\n",
    "yerr = [y - filterdf[\"CI Low Sets\"], filterdf[\"CI High Sets\"] - y]\n",
    "\n",
    "plt.bar(x, y, yerr=yerr, capsize=5, color='skyblue', edgecolor='black')\n",
    "plt.xticks(x, filterdf[\"Player_Map\"], rotation=45, ha=\"right\")\n",
    "plt.ylabel(\"Winrate\")\n",
    "plt.ylim(0, 1.1)\n",
    "plt.title(\"Player Winrates with 95% Wilson Score Confidence Intervals\")\n",
    "plt.tight_layout()\n",
    "plt.grid(axis='y', linestyle='--', alpha=0.8)\n",
    "plt.show()"
   ]
  },
  {
   "cell_type": "code",
   "execution_count": 43,
   "id": "4784dfff",
   "metadata": {},
   "outputs": [],
   "source": [
    "# Look into CI range cut-offs. "
   ]
  },
  {
   "cell_type": "markdown",
   "id": "8d39817e",
   "metadata": {},
   "source": [
    "## 4.3 Average Placement"
   ]
  },
  {
   "cell_type": "markdown",
   "id": "b2ac3c31",
   "metadata": {},
   "source": [
    "Determining a player's average placement in a tournament"
   ]
  },
  {
   "cell_type": "code",
   "execution_count": 44,
   "id": "3fa61086",
   "metadata": {},
   "outputs": [],
   "source": [
    "# \"Flatten\" the dataframe to get each player, tournament played in, and placement\n",
    "\n",
    "df1 = df[[\"Player1\", \"Tournament No\", \"P1 Placement\"]].rename(\n",
    "    columns={\"Player1\": \"Player\", \"P1 Placement\": \"Placement\"})\n",
    "\n",
    "df2 = df[[\"Player2\", \"Tournament No\", \"P2 Placement\"]].rename(\n",
    "columns={\"Player2\": \"Player\", \"P2 Placement\": \"Placement\"})\n",
    "\n",
    "# Combine\n",
    "combined = pd.concat([df1,df2]).drop_duplicates().reset_index()"
   ]
  },
  {
   "cell_type": "code",
   "execution_count": 45,
   "id": "60dbfa76",
   "metadata": {
    "scrolled": true
   },
   "outputs": [
    {
     "data": {
      "text/html": [
       "<div>\n",
       "<style scoped>\n",
       "    .dataframe tbody tr th:only-of-type {\n",
       "        vertical-align: middle;\n",
       "    }\n",
       "\n",
       "    .dataframe tbody tr th {\n",
       "        vertical-align: top;\n",
       "    }\n",
       "\n",
       "    .dataframe thead th {\n",
       "        text-align: right;\n",
       "    }\n",
       "</style>\n",
       "<table border=\"1\" class=\"dataframe\">\n",
       "  <thead>\n",
       "    <tr style=\"text-align: right;\">\n",
       "      <th></th>\n",
       "      <th>index</th>\n",
       "      <th>Player</th>\n",
       "      <th>Tournament No</th>\n",
       "      <th>Placement</th>\n",
       "    </tr>\n",
       "  </thead>\n",
       "  <tbody>\n",
       "    <tr>\n",
       "      <th>0</th>\n",
       "      <td>0</td>\n",
       "      <td>Alumento</td>\n",
       "      <td>1</td>\n",
       "      <td>7</td>\n",
       "    </tr>\n",
       "    <tr>\n",
       "      <th>1</th>\n",
       "      <td>1</td>\n",
       "      <td>BambooBoss</td>\n",
       "      <td>1</td>\n",
       "      <td>13</td>\n",
       "    </tr>\n",
       "    <tr>\n",
       "      <th>2</th>\n",
       "      <td>2</td>\n",
       "      <td>Kotorious BRD</td>\n",
       "      <td>1</td>\n",
       "      <td>13</td>\n",
       "    </tr>\n",
       "    <tr>\n",
       "      <th>3</th>\n",
       "      <td>3</td>\n",
       "      <td>RD | | Dushni</td>\n",
       "      <td>1</td>\n",
       "      <td>17</td>\n",
       "    </tr>\n",
       "    <tr>\n",
       "      <th>4</th>\n",
       "      <td>4</td>\n",
       "      <td>InkA_</td>\n",
       "      <td>1</td>\n",
       "      <td>9</td>\n",
       "    </tr>\n",
       "    <tr>\n",
       "      <th>...</th>\n",
       "      <td>...</td>\n",
       "      <td>...</td>\n",
       "      <td>...</td>\n",
       "      <td>...</td>\n",
       "    </tr>\n",
       "    <tr>\n",
       "      <th>1180</th>\n",
       "      <td>2123</td>\n",
       "      <td>PawlSLax</td>\n",
       "      <td>108</td>\n",
       "      <td>9</td>\n",
       "    </tr>\n",
       "    <tr>\n",
       "      <th>1181</th>\n",
       "      <td>2141</td>\n",
       "      <td>Alfon42</td>\n",
       "      <td>109</td>\n",
       "      <td>9</td>\n",
       "    </tr>\n",
       "    <tr>\n",
       "      <th>1182</th>\n",
       "      <td>2159</td>\n",
       "      <td>Toadsie</td>\n",
       "      <td>110</td>\n",
       "      <td>9</td>\n",
       "    </tr>\n",
       "    <tr>\n",
       "      <th>1183</th>\n",
       "      <td>2175</td>\n",
       "      <td>YoshiBowser</td>\n",
       "      <td>111</td>\n",
       "      <td>5</td>\n",
       "    </tr>\n",
       "    <tr>\n",
       "      <th>1184</th>\n",
       "      <td>2177</td>\n",
       "      <td>Toadsie</td>\n",
       "      <td>111</td>\n",
       "      <td>7</td>\n",
       "    </tr>\n",
       "  </tbody>\n",
       "</table>\n",
       "<p>1185 rows × 4 columns</p>\n",
       "</div>"
      ],
      "text/plain": [
       "      index         Player  Tournament No  Placement\n",
       "0         0       Alumento              1          7\n",
       "1         1     BambooBoss              1         13\n",
       "2         2  Kotorious BRD              1         13\n",
       "3         3  RD | | Dushni              1         17\n",
       "4         4          InkA_              1          9\n",
       "...     ...            ...            ...        ...\n",
       "1180   2123       PawlSLax            108          9\n",
       "1181   2141        Alfon42            109          9\n",
       "1182   2159        Toadsie            110          9\n",
       "1183   2175    YoshiBowser            111          5\n",
       "1184   2177        Toadsie            111          7\n",
       "\n",
       "[1185 rows x 4 columns]"
      ]
     },
     "execution_count": 45,
     "metadata": {},
     "output_type": "execute_result"
    }
   ],
   "source": [
    "combined"
   ]
  },
  {
   "cell_type": "code",
   "execution_count": 46,
   "id": "5e287fa8",
   "metadata": {},
   "outputs": [],
   "source": [
    "# Group by player and get mean placement\n",
    "avgPlacement = combined.groupby([\"Player\"]).agg({\n",
    "    \"Placement\": \"mean\"\n",
    "}).reset_index()"
   ]
  },
  {
   "cell_type": "code",
   "execution_count": 47,
   "id": "64e2151c",
   "metadata": {
    "scrolled": true
   },
   "outputs": [
    {
     "data": {
      "text/html": [
       "<div>\n",
       "<style scoped>\n",
       "    .dataframe tbody tr th:only-of-type {\n",
       "        vertical-align: middle;\n",
       "    }\n",
       "\n",
       "    .dataframe tbody tr th {\n",
       "        vertical-align: top;\n",
       "    }\n",
       "\n",
       "    .dataframe thead th {\n",
       "        text-align: right;\n",
       "    }\n",
       "</style>\n",
       "<table border=\"1\" class=\"dataframe\">\n",
       "  <thead>\n",
       "    <tr style=\"text-align: right;\">\n",
       "      <th></th>\n",
       "      <th>Player</th>\n",
       "      <th>Placement</th>\n",
       "    </tr>\n",
       "  </thead>\n",
       "  <tbody>\n",
       "    <tr>\n",
       "      <th>4</th>\n",
       "      <td>Alistair__</td>\n",
       "      <td>1.428571</td>\n",
       "    </tr>\n",
       "    <tr>\n",
       "      <th>86</th>\n",
       "      <td>Ripha</td>\n",
       "      <td>1.882979</td>\n",
       "    </tr>\n",
       "    <tr>\n",
       "      <th>113</th>\n",
       "      <td>Yätta</td>\n",
       "      <td>1.916667</td>\n",
       "    </tr>\n",
       "    <tr>\n",
       "      <th>48</th>\n",
       "      <td>JrARMS</td>\n",
       "      <td>2.800000</td>\n",
       "    </tr>\n",
       "    <tr>\n",
       "      <th>31</th>\n",
       "      <td>G1ven</td>\n",
       "      <td>3.000000</td>\n",
       "    </tr>\n",
       "    <tr>\n",
       "      <th>...</th>\n",
       "      <td>...</td>\n",
       "      <td>...</td>\n",
       "    </tr>\n",
       "    <tr>\n",
       "      <th>75</th>\n",
       "      <td>Olgilvie</td>\n",
       "      <td>17.000000</td>\n",
       "    </tr>\n",
       "    <tr>\n",
       "      <th>76</th>\n",
       "      <td>Owdy</td>\n",
       "      <td>17.000000</td>\n",
       "    </tr>\n",
       "    <tr>\n",
       "      <th>9</th>\n",
       "      <td>Anomika</td>\n",
       "      <td>17.000000</td>\n",
       "    </tr>\n",
       "    <tr>\n",
       "      <th>0</th>\n",
       "      <td>2ednar</td>\n",
       "      <td>17.000000</td>\n",
       "    </tr>\n",
       "    <tr>\n",
       "      <th>58</th>\n",
       "      <td>LitHavana</td>\n",
       "      <td>25.000000</td>\n",
       "    </tr>\n",
       "  </tbody>\n",
       "</table>\n",
       "<p>133 rows × 2 columns</p>\n",
       "</div>"
      ],
      "text/plain": [
       "         Player  Placement\n",
       "4    Alistair__   1.428571\n",
       "86        Ripha   1.882979\n",
       "113       Yätta   1.916667\n",
       "48       JrARMS   2.800000\n",
       "31        G1ven   3.000000\n",
       "..          ...        ...\n",
       "75     Olgilvie  17.000000\n",
       "76         Owdy  17.000000\n",
       "9       Anomika  17.000000\n",
       "0        2ednar  17.000000\n",
       "58    LitHavana  25.000000\n",
       "\n",
       "[133 rows x 2 columns]"
      ]
     },
     "execution_count": 47,
     "metadata": {},
     "output_type": "execute_result"
    }
   ],
   "source": [
    "avgPlacement.sort_values(by=\"Placement\", ascending=True)"
   ]
  },
  {
   "cell_type": "code",
   "execution_count": 48,
   "id": "5bce8ef5",
   "metadata": {},
   "outputs": [],
   "source": [
    "# Outer join to playerdf on \"Player\"\n",
    "playerdf = pd.merge(playerdf, avgPlacement, on=\"Player\", how=\"outer\")"
   ]
  },
  {
   "cell_type": "code",
   "execution_count": 49,
   "id": "ba587b48",
   "metadata": {
    "scrolled": true
   },
   "outputs": [
    {
     "data": {
      "text/html": [
       "<div>\n",
       "<style scoped>\n",
       "    .dataframe tbody tr th:only-of-type {\n",
       "        vertical-align: middle;\n",
       "    }\n",
       "\n",
       "    .dataframe tbody tr th {\n",
       "        vertical-align: top;\n",
       "    }\n",
       "\n",
       "    .dataframe thead th {\n",
       "        text-align: right;\n",
       "    }\n",
       "</style>\n",
       "<table border=\"1\" class=\"dataframe\">\n",
       "  <thead>\n",
       "    <tr style=\"text-align: right;\">\n",
       "      <th></th>\n",
       "      <th>Start ID</th>\n",
       "      <th>Challonge ID</th>\n",
       "      <th>Player_Map</th>\n",
       "      <th>Player</th>\n",
       "      <th>EUAC Appearances</th>\n",
       "      <th>Set Wins</th>\n",
       "      <th>Set Losses</th>\n",
       "      <th>Match Wins</th>\n",
       "      <th>Match Losses</th>\n",
       "      <th>Placement</th>\n",
       "    </tr>\n",
       "  </thead>\n",
       "  <tbody>\n",
       "    <tr>\n",
       "      <th>0</th>\n",
       "      <td>0</td>\n",
       "      <td>164493</td>\n",
       "      <td>2ednar</td>\n",
       "      <td>2ednar</td>\n",
       "      <td>1</td>\n",
       "      <td>0</td>\n",
       "      <td>2</td>\n",
       "      <td>0</td>\n",
       "      <td>4</td>\n",
       "      <td>17.000000</td>\n",
       "    </tr>\n",
       "    <tr>\n",
       "      <th>1</th>\n",
       "      <td>0</td>\n",
       "      <td>2992428</td>\n",
       "      <td>AU_Leenykins</td>\n",
       "      <td>AU_Leenykins</td>\n",
       "      <td>2</td>\n",
       "      <td>0</td>\n",
       "      <td>4</td>\n",
       "      <td>1</td>\n",
       "      <td>8</td>\n",
       "      <td>17.000000</td>\n",
       "    </tr>\n",
       "    <tr>\n",
       "      <th>2</th>\n",
       "      <td>0</td>\n",
       "      <td>2942327</td>\n",
       "      <td>Alfon42</td>\n",
       "      <td>Alfon42</td>\n",
       "      <td>10</td>\n",
       "      <td>4</td>\n",
       "      <td>20</td>\n",
       "      <td>12</td>\n",
       "      <td>42</td>\n",
       "      <td>9.000000</td>\n",
       "    </tr>\n",
       "    <tr>\n",
       "      <th>3</th>\n",
       "      <td>0</td>\n",
       "      <td>4324849</td>\n",
       "      <td>Alistair__</td>\n",
       "      <td>Alistair13</td>\n",
       "      <td>4</td>\n",
       "      <td>16</td>\n",
       "      <td>8</td>\n",
       "      <td>37</td>\n",
       "      <td>21</td>\n",
       "      <td>3.500000</td>\n",
       "    </tr>\n",
       "    <tr>\n",
       "      <th>4</th>\n",
       "      <td>0</td>\n",
       "      <td>5390120</td>\n",
       "      <td>Alistair__</td>\n",
       "      <td>Alistair__</td>\n",
       "      <td>14</td>\n",
       "      <td>56</td>\n",
       "      <td>16</td>\n",
       "      <td>154</td>\n",
       "      <td>73</td>\n",
       "      <td>1.428571</td>\n",
       "    </tr>\n",
       "    <tr>\n",
       "      <th>...</th>\n",
       "      <td>...</td>\n",
       "      <td>...</td>\n",
       "      <td>...</td>\n",
       "      <td>...</td>\n",
       "      <td>...</td>\n",
       "      <td>...</td>\n",
       "      <td>...</td>\n",
       "      <td>...</td>\n",
       "      <td>...</td>\n",
       "      <td>...</td>\n",
       "    </tr>\n",
       "    <tr>\n",
       "      <th>128</th>\n",
       "      <td>0</td>\n",
       "      <td>3871919</td>\n",
       "      <td>seeAlly</td>\n",
       "      <td>seeAlly</td>\n",
       "      <td>1</td>\n",
       "      <td>0</td>\n",
       "      <td>2</td>\n",
       "      <td>0</td>\n",
       "      <td>4</td>\n",
       "      <td>17.000000</td>\n",
       "    </tr>\n",
       "    <tr>\n",
       "      <th>129</th>\n",
       "      <td>0</td>\n",
       "      <td>3724750</td>\n",
       "      <td>sillyLao</td>\n",
       "      <td>sillyLao</td>\n",
       "      <td>1</td>\n",
       "      <td>1</td>\n",
       "      <td>2</td>\n",
       "      <td>2</td>\n",
       "      <td>4</td>\n",
       "      <td>7.000000</td>\n",
       "    </tr>\n",
       "    <tr>\n",
       "      <th>130</th>\n",
       "      <td>0</td>\n",
       "      <td>2883455</td>\n",
       "      <td>xXKuzan</td>\n",
       "      <td>xXKuzan</td>\n",
       "      <td>1</td>\n",
       "      <td>0</td>\n",
       "      <td>2</td>\n",
       "      <td>0</td>\n",
       "      <td>4</td>\n",
       "      <td>9.000000</td>\n",
       "    </tr>\n",
       "    <tr>\n",
       "      <th>131</th>\n",
       "      <td>0</td>\n",
       "      <td>2383899</td>\n",
       "      <td>Šime</td>\n",
       "      <td>Šime</td>\n",
       "      <td>5</td>\n",
       "      <td>3</td>\n",
       "      <td>10</td>\n",
       "      <td>6</td>\n",
       "      <td>22</td>\n",
       "      <td>11.800000</td>\n",
       "    </tr>\n",
       "    <tr>\n",
       "      <th>132</th>\n",
       "      <td>0</td>\n",
       "      <td>4892574</td>\n",
       "      <td>えんぞFrance</td>\n",
       "      <td>えんぞFrance</td>\n",
       "      <td>3</td>\n",
       "      <td>3</td>\n",
       "      <td>7</td>\n",
       "      <td>8</td>\n",
       "      <td>20</td>\n",
       "      <td>6.000000</td>\n",
       "    </tr>\n",
       "  </tbody>\n",
       "</table>\n",
       "<p>133 rows × 10 columns</p>\n",
       "</div>"
      ],
      "text/plain": [
       "     Start ID  Challonge ID    Player_Map        Player  EUAC Appearances  \\\n",
       "0           0        164493        2ednar        2ednar                 1   \n",
       "1           0       2992428  AU_Leenykins  AU_Leenykins                 2   \n",
       "2           0       2942327       Alfon42       Alfon42                10   \n",
       "3           0       4324849    Alistair__    Alistair13                 4   \n",
       "4           0       5390120    Alistair__    Alistair__                14   \n",
       "..        ...           ...           ...           ...               ...   \n",
       "128         0       3871919       seeAlly       seeAlly                 1   \n",
       "129         0       3724750      sillyLao      sillyLao                 1   \n",
       "130         0       2883455       xXKuzan       xXKuzan                 1   \n",
       "131         0       2383899          Šime          Šime                 5   \n",
       "132         0       4892574     えんぞFrance     えんぞFrance                 3   \n",
       "\n",
       "     Set Wins  Set Losses  Match Wins  Match Losses  Placement  \n",
       "0           0           2           0             4  17.000000  \n",
       "1           0           4           1             8  17.000000  \n",
       "2           4          20          12            42   9.000000  \n",
       "3          16           8          37            21   3.500000  \n",
       "4          56          16         154            73   1.428571  \n",
       "..        ...         ...         ...           ...        ...  \n",
       "128         0           2           0             4  17.000000  \n",
       "129         1           2           2             4   7.000000  \n",
       "130         0           2           0             4   9.000000  \n",
       "131         3          10           6            22  11.800000  \n",
       "132         3           7           8            20   6.000000  \n",
       "\n",
       "[133 rows x 10 columns]"
      ]
     },
     "execution_count": 49,
     "metadata": {},
     "output_type": "execute_result"
    }
   ],
   "source": [
    "playerdf"
   ]
  },
  {
   "cell_type": "markdown",
   "id": "b5552173",
   "metadata": {},
   "source": [
    "Due to multiple accounts from players, with differing number of appearances, a weight will be applied to the average placement. The weight being their EUAC appearances. This can be summed later and divided by the total EUAC appearances from each account to get the true average placment"
   ]
  },
  {
   "cell_type": "code",
   "execution_count": 50,
   "id": "5bd995e5",
   "metadata": {},
   "outputs": [
    {
     "data": {
      "text/html": [
       "<div>\n",
       "<style scoped>\n",
       "    .dataframe tbody tr th:only-of-type {\n",
       "        vertical-align: middle;\n",
       "    }\n",
       "\n",
       "    .dataframe tbody tr th {\n",
       "        vertical-align: top;\n",
       "    }\n",
       "\n",
       "    .dataframe thead th {\n",
       "        text-align: right;\n",
       "    }\n",
       "</style>\n",
       "<table border=\"1\" class=\"dataframe\">\n",
       "  <thead>\n",
       "    <tr style=\"text-align: right;\">\n",
       "      <th></th>\n",
       "      <th>Start ID</th>\n",
       "      <th>Challonge ID</th>\n",
       "      <th>Player_Map</th>\n",
       "      <th>Player</th>\n",
       "      <th>EUAC Appearances</th>\n",
       "      <th>Set Wins</th>\n",
       "      <th>Set Losses</th>\n",
       "      <th>Match Wins</th>\n",
       "      <th>Match Losses</th>\n",
       "      <th>Placement</th>\n",
       "      <th>Weighted Placement</th>\n",
       "    </tr>\n",
       "  </thead>\n",
       "  <tbody>\n",
       "    <tr>\n",
       "      <th>0</th>\n",
       "      <td>0</td>\n",
       "      <td>164493</td>\n",
       "      <td>2ednar</td>\n",
       "      <td>2ednar</td>\n",
       "      <td>1</td>\n",
       "      <td>0</td>\n",
       "      <td>2</td>\n",
       "      <td>0</td>\n",
       "      <td>4</td>\n",
       "      <td>17.000000</td>\n",
       "      <td>17.0</td>\n",
       "    </tr>\n",
       "    <tr>\n",
       "      <th>1</th>\n",
       "      <td>0</td>\n",
       "      <td>2992428</td>\n",
       "      <td>AU_Leenykins</td>\n",
       "      <td>AU_Leenykins</td>\n",
       "      <td>2</td>\n",
       "      <td>0</td>\n",
       "      <td>4</td>\n",
       "      <td>1</td>\n",
       "      <td>8</td>\n",
       "      <td>17.000000</td>\n",
       "      <td>34.0</td>\n",
       "    </tr>\n",
       "    <tr>\n",
       "      <th>2</th>\n",
       "      <td>0</td>\n",
       "      <td>2942327</td>\n",
       "      <td>Alfon42</td>\n",
       "      <td>Alfon42</td>\n",
       "      <td>10</td>\n",
       "      <td>4</td>\n",
       "      <td>20</td>\n",
       "      <td>12</td>\n",
       "      <td>42</td>\n",
       "      <td>9.000000</td>\n",
       "      <td>90.0</td>\n",
       "    </tr>\n",
       "    <tr>\n",
       "      <th>3</th>\n",
       "      <td>0</td>\n",
       "      <td>4324849</td>\n",
       "      <td>Alistair__</td>\n",
       "      <td>Alistair13</td>\n",
       "      <td>4</td>\n",
       "      <td>16</td>\n",
       "      <td>8</td>\n",
       "      <td>37</td>\n",
       "      <td>21</td>\n",
       "      <td>3.500000</td>\n",
       "      <td>14.0</td>\n",
       "    </tr>\n",
       "    <tr>\n",
       "      <th>4</th>\n",
       "      <td>0</td>\n",
       "      <td>5390120</td>\n",
       "      <td>Alistair__</td>\n",
       "      <td>Alistair__</td>\n",
       "      <td>14</td>\n",
       "      <td>56</td>\n",
       "      <td>16</td>\n",
       "      <td>154</td>\n",
       "      <td>73</td>\n",
       "      <td>1.428571</td>\n",
       "      <td>20.0</td>\n",
       "    </tr>\n",
       "  </tbody>\n",
       "</table>\n",
       "</div>"
      ],
      "text/plain": [
       "   Start ID  Challonge ID    Player_Map        Player  EUAC Appearances  \\\n",
       "0         0        164493        2ednar        2ednar                 1   \n",
       "1         0       2992428  AU_Leenykins  AU_Leenykins                 2   \n",
       "2         0       2942327       Alfon42       Alfon42                10   \n",
       "3         0       4324849    Alistair__    Alistair13                 4   \n",
       "4         0       5390120    Alistair__    Alistair__                14   \n",
       "\n",
       "   Set Wins  Set Losses  Match Wins  Match Losses  Placement  \\\n",
       "0         0           2           0             4  17.000000   \n",
       "1         0           4           1             8  17.000000   \n",
       "2         4          20          12            42   9.000000   \n",
       "3        16           8          37            21   3.500000   \n",
       "4        56          16         154            73   1.428571   \n",
       "\n",
       "   Weighted Placement  \n",
       "0                17.0  \n",
       "1                34.0  \n",
       "2                90.0  \n",
       "3                14.0  \n",
       "4                20.0  "
      ]
     },
     "execution_count": 50,
     "metadata": {},
     "output_type": "execute_result"
    }
   ],
   "source": [
    "# Weighted placement. Placement * Appearances\n",
    "playerdf[\"Weighted Placement\"] = playerdf.apply(lambda x: x[\"Placement\"]*x[\"EUAC Appearances\"], axis=1)\n",
    "playerdf.head()"
   ]
  },
  {
   "cell_type": "code",
   "execution_count": 51,
   "id": "0a9ec38f",
   "metadata": {},
   "outputs": [
    {
     "data": {
      "text/html": [
       "<div>\n",
       "<style scoped>\n",
       "    .dataframe tbody tr th:only-of-type {\n",
       "        vertical-align: middle;\n",
       "    }\n",
       "\n",
       "    .dataframe tbody tr th {\n",
       "        vertical-align: top;\n",
       "    }\n",
       "\n",
       "    .dataframe thead th {\n",
       "        text-align: right;\n",
       "    }\n",
       "</style>\n",
       "<table border=\"1\" class=\"dataframe\">\n",
       "  <thead>\n",
       "    <tr style=\"text-align: right;\">\n",
       "      <th></th>\n",
       "      <th>Player_Map</th>\n",
       "      <th>EUAC Appearances</th>\n",
       "      <th>Weighted Placement</th>\n",
       "    </tr>\n",
       "  </thead>\n",
       "  <tbody>\n",
       "    <tr>\n",
       "      <th>0</th>\n",
       "      <td>2ednar</td>\n",
       "      <td>1</td>\n",
       "      <td>17.0</td>\n",
       "    </tr>\n",
       "    <tr>\n",
       "      <th>1</th>\n",
       "      <td>AU_Leenykins</td>\n",
       "      <td>2</td>\n",
       "      <td>34.0</td>\n",
       "    </tr>\n",
       "    <tr>\n",
       "      <th>2</th>\n",
       "      <td>Alfon42</td>\n",
       "      <td>10</td>\n",
       "      <td>90.0</td>\n",
       "    </tr>\n",
       "    <tr>\n",
       "      <th>3</th>\n",
       "      <td>Alistair__</td>\n",
       "      <td>29</td>\n",
       "      <td>73.0</td>\n",
       "    </tr>\n",
       "    <tr>\n",
       "      <th>4</th>\n",
       "      <td>Altair</td>\n",
       "      <td>1</td>\n",
       "      <td>17.0</td>\n",
       "    </tr>\n",
       "  </tbody>\n",
       "</table>\n",
       "</div>"
      ],
      "text/plain": [
       "     Player_Map  EUAC Appearances  Weighted Placement\n",
       "0        2ednar                 1                17.0\n",
       "1  AU_Leenykins                 2                34.0\n",
       "2       Alfon42                10                90.0\n",
       "3    Alistair__                29                73.0\n",
       "4        Altair                 1                17.0"
      ]
     },
     "execution_count": 51,
     "metadata": {},
     "output_type": "execute_result"
    }
   ],
   "source": [
    "# Group by unique Player identifier and sum appearances and weighted placement\n",
    "truePlacement = playerdf.groupby(\"Player_Map\").agg({\n",
    "    \"EUAC Appearances\": \"sum\",\n",
    "    \"Weighted Placement\": \"sum\"\n",
    "}).reset_index()\n",
    "truePlacement.head()"
   ]
  },
  {
   "cell_type": "code",
   "execution_count": 52,
   "id": "cfcebb33",
   "metadata": {},
   "outputs": [
    {
     "data": {
      "text/html": [
       "<div>\n",
       "<style scoped>\n",
       "    .dataframe tbody tr th:only-of-type {\n",
       "        vertical-align: middle;\n",
       "    }\n",
       "\n",
       "    .dataframe tbody tr th {\n",
       "        vertical-align: top;\n",
       "    }\n",
       "\n",
       "    .dataframe thead th {\n",
       "        text-align: right;\n",
       "    }\n",
       "</style>\n",
       "<table border=\"1\" class=\"dataframe\">\n",
       "  <thead>\n",
       "    <tr style=\"text-align: right;\">\n",
       "      <th></th>\n",
       "      <th>Player_Map</th>\n",
       "      <th>EUAC Appearances</th>\n",
       "      <th>Weighted Placement</th>\n",
       "      <th>Average Placement</th>\n",
       "    </tr>\n",
       "  </thead>\n",
       "  <tbody>\n",
       "    <tr>\n",
       "      <th>81</th>\n",
       "      <td>Ripha</td>\n",
       "      <td>97</td>\n",
       "      <td>182.648936</td>\n",
       "      <td>1.882979</td>\n",
       "    </tr>\n",
       "    <tr>\n",
       "      <th>108</th>\n",
       "      <td>Yätta</td>\n",
       "      <td>24</td>\n",
       "      <td>46.000000</td>\n",
       "      <td>1.916667</td>\n",
       "    </tr>\n",
       "    <tr>\n",
       "      <th>3</th>\n",
       "      <td>Alistair__</td>\n",
       "      <td>29</td>\n",
       "      <td>73.000000</td>\n",
       "      <td>2.517241</td>\n",
       "    </tr>\n",
       "    <tr>\n",
       "      <th>45</th>\n",
       "      <td>JrARMS</td>\n",
       "      <td>10</td>\n",
       "      <td>28.000000</td>\n",
       "      <td>2.800000</td>\n",
       "    </tr>\n",
       "    <tr>\n",
       "      <th>79</th>\n",
       "      <td>Raffa_</td>\n",
       "      <td>21</td>\n",
       "      <td>63.000000</td>\n",
       "      <td>3.000000</td>\n",
       "    </tr>\n",
       "    <tr>\n",
       "      <th>30</th>\n",
       "      <td>Gachimummy</td>\n",
       "      <td>1</td>\n",
       "      <td>3.000000</td>\n",
       "      <td>3.000000</td>\n",
       "    </tr>\n",
       "    <tr>\n",
       "      <th>110</th>\n",
       "      <td>_Rem_</td>\n",
       "      <td>1</td>\n",
       "      <td>3.000000</td>\n",
       "      <td>3.000000</td>\n",
       "    </tr>\n",
       "    <tr>\n",
       "      <th>86</th>\n",
       "      <td>Sabaca</td>\n",
       "      <td>1</td>\n",
       "      <td>3.000000</td>\n",
       "      <td>3.000000</td>\n",
       "    </tr>\n",
       "    <tr>\n",
       "      <th>28</th>\n",
       "      <td>G1ven</td>\n",
       "      <td>5</td>\n",
       "      <td>15.000000</td>\n",
       "      <td>3.000000</td>\n",
       "    </tr>\n",
       "    <tr>\n",
       "      <th>37</th>\n",
       "      <td>Iceman92</td>\n",
       "      <td>62</td>\n",
       "      <td>198.000000</td>\n",
       "      <td>3.193548</td>\n",
       "    </tr>\n",
       "  </tbody>\n",
       "</table>\n",
       "</div>"
      ],
      "text/plain": [
       "     Player_Map  EUAC Appearances  Weighted Placement  Average Placement\n",
       "81        Ripha                97          182.648936           1.882979\n",
       "108       Yätta                24           46.000000           1.916667\n",
       "3    Alistair__                29           73.000000           2.517241\n",
       "45       JrARMS                10           28.000000           2.800000\n",
       "79       Raffa_                21           63.000000           3.000000\n",
       "30   Gachimummy                 1            3.000000           3.000000\n",
       "110       _Rem_                 1            3.000000           3.000000\n",
       "86       Sabaca                 1            3.000000           3.000000\n",
       "28        G1ven                 5           15.000000           3.000000\n",
       "37     Iceman92                62          198.000000           3.193548"
      ]
     },
     "execution_count": 52,
     "metadata": {},
     "output_type": "execute_result"
    }
   ],
   "source": [
    "# True average placement. Total weighted placement/total appearances\n",
    "truePlacement[\"Average Placement\"] = truePlacement.apply(lambda x:x[\"Weighted Placement\"]/x[\"EUAC Appearances\"], axis=1)\n",
    "truePlacement.sort_values(by=\"Average Placement\", ascending = True).head(10)"
   ]
  },
  {
   "cell_type": "code",
   "execution_count": 53,
   "id": "a06315d0",
   "metadata": {},
   "outputs": [
    {
     "data": {
      "text/html": [
       "<div>\n",
       "<style scoped>\n",
       "    .dataframe tbody tr th:only-of-type {\n",
       "        vertical-align: middle;\n",
       "    }\n",
       "\n",
       "    .dataframe tbody tr th {\n",
       "        vertical-align: top;\n",
       "    }\n",
       "\n",
       "    .dataframe thead th {\n",
       "        text-align: right;\n",
       "    }\n",
       "</style>\n",
       "<table border=\"1\" class=\"dataframe\">\n",
       "  <thead>\n",
       "    <tr style=\"text-align: right;\">\n",
       "      <th></th>\n",
       "      <th>Player_Map</th>\n",
       "      <th>EUAC Appearances</th>\n",
       "      <th>Set Wins</th>\n",
       "      <th>Set Losses</th>\n",
       "      <th>Match Wins</th>\n",
       "      <th>Match Losses</th>\n",
       "      <th>Set Total</th>\n",
       "      <th>Match Total</th>\n",
       "      <th>Set Winrate</th>\n",
       "      <th>Match Winrate</th>\n",
       "      <th>CI Low Sets</th>\n",
       "      <th>CI High Sets</th>\n",
       "      <th>Average Placement</th>\n",
       "    </tr>\n",
       "  </thead>\n",
       "  <tbody>\n",
       "    <tr>\n",
       "      <th>0</th>\n",
       "      <td>2ednar</td>\n",
       "      <td>1</td>\n",
       "      <td>0</td>\n",
       "      <td>2</td>\n",
       "      <td>0</td>\n",
       "      <td>4</td>\n",
       "      <td>2</td>\n",
       "      <td>4</td>\n",
       "      <td>0.000000</td>\n",
       "      <td>0.000000</td>\n",
       "      <td>0.000000</td>\n",
       "      <td>0.657620</td>\n",
       "      <td>17.000000</td>\n",
       "    </tr>\n",
       "    <tr>\n",
       "      <th>1</th>\n",
       "      <td>AU_Leenykins</td>\n",
       "      <td>2</td>\n",
       "      <td>0</td>\n",
       "      <td>4</td>\n",
       "      <td>1</td>\n",
       "      <td>8</td>\n",
       "      <td>4</td>\n",
       "      <td>9</td>\n",
       "      <td>0.000000</td>\n",
       "      <td>11.111111</td>\n",
       "      <td>0.000000</td>\n",
       "      <td>0.489891</td>\n",
       "      <td>17.000000</td>\n",
       "    </tr>\n",
       "    <tr>\n",
       "      <th>2</th>\n",
       "      <td>Alfon42</td>\n",
       "      <td>10</td>\n",
       "      <td>4</td>\n",
       "      <td>20</td>\n",
       "      <td>12</td>\n",
       "      <td>42</td>\n",
       "      <td>24</td>\n",
       "      <td>54</td>\n",
       "      <td>16.666667</td>\n",
       "      <td>22.222222</td>\n",
       "      <td>0.066787</td>\n",
       "      <td>0.358531</td>\n",
       "      <td>9.000000</td>\n",
       "    </tr>\n",
       "    <tr>\n",
       "      <th>3</th>\n",
       "      <td>Alistair__</td>\n",
       "      <td>29</td>\n",
       "      <td>104</td>\n",
       "      <td>42</td>\n",
       "      <td>270</td>\n",
       "      <td>144</td>\n",
       "      <td>146</td>\n",
       "      <td>414</td>\n",
       "      <td>71.232877</td>\n",
       "      <td>65.217391</td>\n",
       "      <td>0.634201</td>\n",
       "      <td>0.779570</td>\n",
       "      <td>2.517241</td>\n",
       "    </tr>\n",
       "    <tr>\n",
       "      <th>4</th>\n",
       "      <td>Altair</td>\n",
       "      <td>1</td>\n",
       "      <td>0</td>\n",
       "      <td>2</td>\n",
       "      <td>0</td>\n",
       "      <td>4</td>\n",
       "      <td>2</td>\n",
       "      <td>4</td>\n",
       "      <td>0.000000</td>\n",
       "      <td>0.000000</td>\n",
       "      <td>0.000000</td>\n",
       "      <td>0.657620</td>\n",
       "      <td>17.000000</td>\n",
       "    </tr>\n",
       "  </tbody>\n",
       "</table>\n",
       "</div>"
      ],
      "text/plain": [
       "     Player_Map  EUAC Appearances  Set Wins  Set Losses  Match Wins  \\\n",
       "0        2ednar                 1         0           2           0   \n",
       "1  AU_Leenykins                 2         0           4           1   \n",
       "2       Alfon42                10         4          20          12   \n",
       "3    Alistair__                29       104          42         270   \n",
       "4        Altair                 1         0           2           0   \n",
       "\n",
       "   Match Losses  Set Total  Match Total  Set Winrate  Match Winrate  \\\n",
       "0             4          2            4     0.000000       0.000000   \n",
       "1             8          4            9     0.000000      11.111111   \n",
       "2            42         24           54    16.666667      22.222222   \n",
       "3           144        146          414    71.232877      65.217391   \n",
       "4             4          2            4     0.000000       0.000000   \n",
       "\n",
       "   CI Low Sets  CI High Sets  Average Placement  \n",
       "0     0.000000      0.657620          17.000000  \n",
       "1     0.000000      0.489891          17.000000  \n",
       "2     0.066787      0.358531           9.000000  \n",
       "3     0.634201      0.779570           2.517241  \n",
       "4     0.000000      0.657620          17.000000  "
      ]
     },
     "execution_count": 53,
     "metadata": {},
     "output_type": "execute_result"
    }
   ],
   "source": [
    "# Drop columns to left join on statsdf\n",
    "truePlacement.drop(columns=[\"Weighted Placement\", \"EUAC Appearances\"], inplace=True)\n",
    "statsdf = pd.merge(statsdf, truePlacement, on=\"Player_Map\", how=\"left\")\n",
    "\n",
    "statsdf.head()"
   ]
  },
  {
   "cell_type": "code",
   "execution_count": 54,
   "id": "457422e4",
   "metadata": {},
   "outputs": [],
   "source": [
    "#df.to_csv(\"MatchAnalysis.csv\", index= False)\n",
    "#playerdf.to_csv(\"PlayerAnalysis.csv\", index = False)\n",
    "#statsdf.to_csv(\"StatsAnalysis.csv\", index=False)"
   ]
  },
  {
   "cell_type": "markdown",
   "id": "2a7d0bbd",
   "metadata": {},
   "source": [
    "## 5. Match Analysis"
   ]
  },
  {
   "cell_type": "code",
   "execution_count": 2,
   "id": "a9bd6f1c",
   "metadata": {},
   "outputs": [],
   "source": [
    "df = pd.read_csv(\"MatchAnalysis.csv\")\n",
    "playerdf = pd.read_csv(\"PlayerAnalysis.csv\")\n",
    "statsdf = pd.read_csv(\"StatsAnalysis.csv\")"
   ]
  },
  {
   "cell_type": "markdown",
   "id": "c08b3fcb",
   "metadata": {},
   "source": [
    "## 5.1 How many Tournaments have there been? "
   ]
  },
  {
   "cell_type": "code",
   "execution_count": 3,
   "id": "35b3312e",
   "metadata": {
    "scrolled": true
   },
   "outputs": [
    {
     "data": {
      "text/plain": [
       "array([  1,   2,   3,   4,   5,   6,   7,   8,   9,  10,  11,  12,  13,\n",
       "        14,  15,  16,  17,  18,  19,  20,  21,  22,  23,  24,  25,  26,\n",
       "        27,  28,  29,  30,  31,  32,  33,  34,  35,  36,  37,  38,  39,\n",
       "        40,  41,  42,  43,  44,  45,  46,  47,  48,  49,  50,  51,  52,\n",
       "        53,  54,  55,  56,  57,  58,  59,  60,  61,  62,  63,  64,  65,\n",
       "        66,  67,  68,  69,  70,  71,  72,  73,  74,  75,  76,  77,  78,\n",
       "        79,  80,  81,  82,  83,  84,  85,  86,  87,  88,  89,  90,  91,\n",
       "        92,  93,  94,  95,  96,  97,  98,  99, 100, 101, 102, 103, 104,\n",
       "       105, 106, 107, 108, 109, 110, 111], dtype=int64)"
      ]
     },
     "execution_count": 3,
     "metadata": {},
     "output_type": "execute_result"
    }
   ],
   "source": [
    "df[\"Tournament No\"].unique()"
   ]
  },
  {
   "cell_type": "markdown",
   "id": "8754eb99",
   "metadata": {},
   "source": [
    "There have been 111 EUACs"
   ]
  },
  {
   "cell_type": "markdown",
   "id": "ab3ceaf0",
   "metadata": {},
   "source": [
    "## 5.2 Average amount of matches per tourney?"
   ]
  },
  {
   "cell_type": "code",
   "execution_count": 4,
   "id": "9574fb38",
   "metadata": {},
   "outputs": [
    {
     "data": {
      "text/plain": [
       "19.7027027027027"
      ]
     },
     "execution_count": 4,
     "metadata": {},
     "output_type": "execute_result"
    }
   ],
   "source": [
    "# Group by tournament no and take maximum match no. Get mean of that.\n",
    "filterdf = df[[\"Tournament No\", \"MatchNo\"]]\n",
    "filterdf.groupby([\"Tournament No\"])[\"MatchNo\"].max().mean()"
   ]
  },
  {
   "cell_type": "markdown",
   "id": "39b83db7",
   "metadata": {},
   "source": [
    "Average EUAC has ~19.7 matches "
   ]
  },
  {
   "cell_type": "markdown",
   "id": "b44da5ca",
   "metadata": {},
   "source": [
    "## 5.3 Score Distribution"
   ]
  },
  {
   "cell_type": "code",
   "execution_count": 5,
   "id": "4b1c868e",
   "metadata": {},
   "outputs": [
    {
     "data": {
      "text/plain": [
       "array(['2-0', '0--1', '2-1', '3-1', '3-0', '3-2'], dtype=object)"
      ]
     },
     "execution_count": 5,
     "metadata": {},
     "output_type": "execute_result"
    }
   ],
   "source": [
    "df[\"Score\"].unique()"
   ]
  },
  {
   "cell_type": "code",
   "execution_count": 6,
   "id": "bd3d4f9e",
   "metadata": {
    "scrolled": true
   },
   "outputs": [
    {
     "data": {
      "text/plain": [
       "2-0     1195\n",
       "2-1      508\n",
       "3-1      144\n",
       "3-0      135\n",
       "3-2      122\n",
       "0--1      83\n",
       "Name: Score, dtype: int64"
      ]
     },
     "execution_count": 6,
     "metadata": {},
     "output_type": "execute_result"
    }
   ],
   "source": [
    "values = df[\"Score\"].value_counts()\n",
    "values"
   ]
  },
  {
   "cell_type": "code",
   "execution_count": 7,
   "id": "03945f35",
   "metadata": {
    "scrolled": true
   },
   "outputs": [
    {
     "data": {
      "image/png": "[encoded data removed]",
      "text/plain": [
       "<Figure size 432x288 with 1 Axes>"
      ]
     },
     "metadata": {
      "needs_background": "light"
     },
     "output_type": "display_data"
    }
   ],
   "source": [
    "values.plot(kind=\"bar\", color=\"#0035d0\", grid=True, alpha=0.67)\n",
    "plt.xlabel(\"Scores\")\n",
    "plt.ylabel(\"Count\")\n",
    "plt.xticks(rotation=\"0\")\n",
    "plt.title(\"Bar Chart of Scores\")\n",
    "plt.show()"
   ]
  },
  {
   "cell_type": "markdown",
   "id": "31ae5b24",
   "metadata": {},
   "source": [
    "Most common score is a 2-0. Out numbering the next highest, 2-1, by double <br>\n",
    "\"Finals\" are less common but they are roughly the same. But 3-2 is the lowest indicating that Finals are not generally all that even "
   ]
  },
  {
   "cell_type": "markdown",
   "id": "909b8469",
   "metadata": {},
   "source": [
    "## 5.4 Seed vs Placement<br>\n",
    "Section for evaluating a player's seeding to see how it corresponds to their placement"
   ]
  },
  {
   "cell_type": "code",
   "execution_count": 8,
   "id": "89ffb572",
   "metadata": {},
   "outputs": [
    {
     "data": {
      "text/html": [
       "<div>\n",
       "<style scoped>\n",
       "    .dataframe tbody tr th:only-of-type {\n",
       "        vertical-align: middle;\n",
       "    }\n",
       "\n",
       "    .dataframe tbody tr th {\n",
       "        vertical-align: top;\n",
       "    }\n",
       "\n",
       "    .dataframe thead th {\n",
       "        text-align: right;\n",
       "    }\n",
       "</style>\n",
       "<table border=\"1\" class=\"dataframe\">\n",
       "  <thead>\n",
       "    <tr style=\"text-align: right;\">\n",
       "      <th></th>\n",
       "      <th>Player</th>\n",
       "      <th>Seed</th>\n",
       "      <th>Placement</th>\n",
       "      <th>Tournament No</th>\n",
       "    </tr>\n",
       "  </thead>\n",
       "  <tbody>\n",
       "    <tr>\n",
       "      <th>0</th>\n",
       "      <td>Alumento</td>\n",
       "      <td>11</td>\n",
       "      <td>7</td>\n",
       "      <td>1</td>\n",
       "    </tr>\n",
       "    <tr>\n",
       "      <th>1</th>\n",
       "      <td>BambooBoss</td>\n",
       "      <td>14</td>\n",
       "      <td>13</td>\n",
       "      <td>1</td>\n",
       "    </tr>\n",
       "    <tr>\n",
       "      <th>2</th>\n",
       "      <td>Kotorious BRD</td>\n",
       "      <td>15</td>\n",
       "      <td>13</td>\n",
       "      <td>1</td>\n",
       "    </tr>\n",
       "    <tr>\n",
       "      <th>3</th>\n",
       "      <td>RD | | Dushni</td>\n",
       "      <td>12</td>\n",
       "      <td>17</td>\n",
       "      <td>1</td>\n",
       "    </tr>\n",
       "    <tr>\n",
       "      <th>4</th>\n",
       "      <td>InkA_</td>\n",
       "      <td>13</td>\n",
       "      <td>9</td>\n",
       "      <td>1</td>\n",
       "    </tr>\n",
       "  </tbody>\n",
       "</table>\n",
       "</div>"
      ],
      "text/plain": [
       "          Player  Seed  Placement  Tournament No\n",
       "0       Alumento    11          7              1\n",
       "1     BambooBoss    14         13              1\n",
       "2  Kotorious BRD    15         13              1\n",
       "3  RD | | Dushni    12         17              1\n",
       "4          InkA_    13          9              1"
      ]
     },
     "execution_count": 8,
     "metadata": {},
     "output_type": "execute_result"
    }
   ],
   "source": [
    "# Get every player's seeding, placement\n",
    "filterdf1 = df[[\"Player1\", \"P1 Seed\", \"P1 Placement\", \"Tournament No\"]].rename(columns={\n",
    "    \"Player1\" : \"Player\",\n",
    "    \"P1 Seed\" : \"Seed\",\n",
    "    \"P1 Placement\": \"Placement\",\n",
    "    \"Tournament No\": \"Tournament No\"\n",
    "})\n",
    "\n",
    "filterdf2 = df[[\"Player2\", \"P2 Seed\", \"P2 Placement\", \"Tournament No\"]].rename(columns={\n",
    "    \"Player2\": \"Player\",\n",
    "    \"P2 Seed\" : \"Seed\",\n",
    "    \"P2 Placement\" : \"Placement\",\n",
    "    \"Tournament No\" : \"Tournament No\"\n",
    "})\n",
    "\n",
    "# combine\n",
    "filterdf = pd.concat([filterdf1,filterdf2]).drop_duplicates()\n",
    "filterdf.head()"
   ]
  },
  {
   "cell_type": "code",
   "execution_count": 9,
   "id": "107413dc",
   "metadata": {
    "scrolled": true
   },
   "outputs": [
    {
     "data": {
      "text/plain": [
       "<AxesSubplot:xlabel='Seed', ylabel='Placement'>"
      ]
     },
     "execution_count": 9,
     "metadata": {},
     "output_type": "execute_result"
    },
    {
     "data": {
      "image/png": "[encoded data removed]",
      "text/plain": [
       "<Figure size 432x288 with 1 Axes>"
      ]
     },
     "metadata": {
      "needs_background": "light"
     },
     "output_type": "display_data"
    }
   ],
   "source": [
    "# Scatter plot of seeding vs placement\n",
    "sns.scatterplot(x=\"Seed\", y=\"Placement\", data=filterdf, alpha=0.2)"
   ]
  },
  {
   "cell_type": "code",
   "execution_count": 10,
   "id": "979a0f20",
   "metadata": {},
   "outputs": [
    {
     "data": {
      "text/plain": [
       "<seaborn.axisgrid.FacetGrid at 0x21cfd55ec10>"
      ]
     },
     "execution_count": 10,
     "metadata": {},
     "output_type": "execute_result"
    },
    {
     "data": {
      "image/png": "[encoded data removed]",
      "text/plain": [
       "<Figure size 360x360 with 1 Axes>"
      ]
     },
     "metadata": {
      "needs_background": "light"
     },
     "output_type": "display_data"
    }
   ],
   "source": [
    "# Trend line\n",
    "sns.lmplot(data=filterdf, x='Seed', y='Placement', scatter_kws={'alpha': 0.1})\n",
    "\n",
    "#Height, aspect"
   ]
  },
  {
   "cell_type": "code",
   "execution_count": 11,
   "id": "9dd057af",
   "metadata": {
    "scrolled": true
   },
   "outputs": [
    {
     "name": "stdout",
     "output_type": "stream",
     "text": [
      "Spearman correlation: 0.80, p-value: 0.0000\n"
     ]
    }
   ],
   "source": [
    "from scipy.stats import spearmanr\n",
    "\n",
    "corr, p_value = spearmanr(filterdf['Seed'], filterdf['Placement'])\n",
    "print(f\"Spearman correlation: {corr:.2f}, p-value: {p_value:.4f}\")"
   ]
  },
  {
   "cell_type": "markdown",
   "id": "73235007",
   "metadata": {},
   "source": [
    "Correlation of 0.8 suggests that the model is highly correlated. Concentrated in bottom-left. Can mean that top players are seeded more accurately but tournament sizes are not fixed. 20+ player tournaments are rare. <br> <br>\n",
    "Bottom-right shows a few upsets. Low seeded players ranking quite high."
   ]
  },
  {
   "cell_type": "markdown",
   "id": "829fd474",
   "metadata": {},
   "source": [
    "### 5.4.1 Upsets <br>\n",
    "An upset is when a player does not perform as expected. <br>\n",
    "Example: A low seeded player besting a high seeded player in a set"
   ]
  },
  {
   "cell_type": "code",
   "execution_count": 12,
   "id": "a926dc0d",
   "metadata": {
    "scrolled": true
   },
   "outputs": [
    {
     "data": {
      "text/html": [
       "<div>\n",
       "<style scoped>\n",
       "    .dataframe tbody tr th:only-of-type {\n",
       "        vertical-align: middle;\n",
       "    }\n",
       "\n",
       "    .dataframe tbody tr th {\n",
       "        vertical-align: top;\n",
       "    }\n",
       "\n",
       "    .dataframe thead th {\n",
       "        text-align: right;\n",
       "    }\n",
       "</style>\n",
       "<table border=\"1\" class=\"dataframe\">\n",
       "  <thead>\n",
       "    <tr style=\"text-align: right;\">\n",
       "      <th></th>\n",
       "      <th>Player</th>\n",
       "      <th>Seed</th>\n",
       "      <th>Placement</th>\n",
       "      <th>Tournament No</th>\n",
       "      <th>Diff</th>\n",
       "    </tr>\n",
       "  </thead>\n",
       "  <tbody>\n",
       "    <tr>\n",
       "      <th>22</th>\n",
       "      <td>D2S_Maxou</td>\n",
       "      <td>20</td>\n",
       "      <td>1</td>\n",
       "      <td>1</td>\n",
       "      <td>19</td>\n",
       "    </tr>\n",
       "    <tr>\n",
       "      <th>34</th>\n",
       "      <td>Raffa_</td>\n",
       "      <td>21</td>\n",
       "      <td>4</td>\n",
       "      <td>1</td>\n",
       "      <td>17</td>\n",
       "    </tr>\n",
       "    <tr>\n",
       "      <th>25</th>\n",
       "      <td>Frank001</td>\n",
       "      <td>19</td>\n",
       "      <td>5</td>\n",
       "      <td>1</td>\n",
       "      <td>14</td>\n",
       "    </tr>\n",
       "    <tr>\n",
       "      <th>118</th>\n",
       "      <td>LinkDE</td>\n",
       "      <td>18</td>\n",
       "      <td>7</td>\n",
       "      <td>5</td>\n",
       "      <td>11</td>\n",
       "    </tr>\n",
       "    <tr>\n",
       "      <th>251</th>\n",
       "      <td>G1ven</td>\n",
       "      <td>14</td>\n",
       "      <td>3</td>\n",
       "      <td>9</td>\n",
       "      <td>11</td>\n",
       "    </tr>\n",
       "    <tr>\n",
       "      <th>...</th>\n",
       "      <td>...</td>\n",
       "      <td>...</td>\n",
       "      <td>...</td>\n",
       "      <td>...</td>\n",
       "      <td>...</td>\n",
       "    </tr>\n",
       "    <tr>\n",
       "      <th>388</th>\n",
       "      <td>ocrim_ger</td>\n",
       "      <td>5</td>\n",
       "      <td>13</td>\n",
       "      <td>15</td>\n",
       "      <td>-8</td>\n",
       "    </tr>\n",
       "    <tr>\n",
       "      <th>11</th>\n",
       "      <td>Raayo</td>\n",
       "      <td>5</td>\n",
       "      <td>13</td>\n",
       "      <td>1</td>\n",
       "      <td>-8</td>\n",
       "    </tr>\n",
       "    <tr>\n",
       "      <th>10</th>\n",
       "      <td>Gleeface</td>\n",
       "      <td>9</td>\n",
       "      <td>17</td>\n",
       "      <td>1</td>\n",
       "      <td>-8</td>\n",
       "    </tr>\n",
       "    <tr>\n",
       "      <th>19</th>\n",
       "      <td>Linkirto</td>\n",
       "      <td>1</td>\n",
       "      <td>9</td>\n",
       "      <td>1</td>\n",
       "      <td>-8</td>\n",
       "    </tr>\n",
       "    <tr>\n",
       "      <th>13</th>\n",
       "      <td>Penzo</td>\n",
       "      <td>3</td>\n",
       "      <td>13</td>\n",
       "      <td>1</td>\n",
       "      <td>-10</td>\n",
       "    </tr>\n",
       "  </tbody>\n",
       "</table>\n",
       "<p>1185 rows × 5 columns</p>\n",
       "</div>"
      ],
      "text/plain": [
       "        Player  Seed  Placement  Tournament No  Diff\n",
       "22   D2S_Maxou    20          1              1    19\n",
       "34      Raffa_    21          4              1    17\n",
       "25    Frank001    19          5              1    14\n",
       "118     LinkDE    18          7              5    11\n",
       "251      G1ven    14          3              9    11\n",
       "..         ...   ...        ...            ...   ...\n",
       "388  ocrim_ger     5         13             15    -8\n",
       "11       Raayo     5         13              1    -8\n",
       "10    Gleeface     9         17              1    -8\n",
       "19    Linkirto     1          9              1    -8\n",
       "13       Penzo     3         13              1   -10\n",
       "\n",
       "[1185 rows x 5 columns]"
      ]
     },
     "execution_count": 12,
     "metadata": {},
     "output_type": "execute_result"
    }
   ],
   "source": [
    "# \"Diff\" is the range between a player's seeding and placement. \n",
    "filterdf[\"Diff\"] = filterdf.apply(lambda x:x[\"Seed\"]-x[\"Placement\"], axis=1)\n",
    "filterdf.sort_values(by=\"Diff\", ascending=False)"
   ]
  },
  {
   "cell_type": "markdown",
   "id": "f6033d61",
   "metadata": {},
   "source": [
    "Even just this snapshot shows that the first tournament had a lot of upsets. Being that it was the first tournament, it is reasonable to assume it was not seeded correctly"
   ]
  },
  {
   "cell_type": "code",
   "execution_count": 13,
   "id": "fe635b14",
   "metadata": {},
   "outputs": [
    {
     "data": {
      "text/html": [
       "<div>\n",
       "<style scoped>\n",
       "    .dataframe tbody tr th:only-of-type {\n",
       "        vertical-align: middle;\n",
       "    }\n",
       "\n",
       "    .dataframe tbody tr th {\n",
       "        vertical-align: top;\n",
       "    }\n",
       "\n",
       "    .dataframe thead th {\n",
       "        text-align: right;\n",
       "    }\n",
       "</style>\n",
       "<table border=\"1\" class=\"dataframe\">\n",
       "  <thead>\n",
       "    <tr style=\"text-align: right;\">\n",
       "      <th></th>\n",
       "      <th>Player1</th>\n",
       "      <th>Player2</th>\n",
       "      <th>Winner</th>\n",
       "      <th>Score</th>\n",
       "      <th>Loser</th>\n",
       "      <th>MatchNo</th>\n",
       "      <th>EUAC</th>\n",
       "      <th>Date</th>\n",
       "      <th>P1 Seed</th>\n",
       "      <th>P1 Placement</th>\n",
       "      <th>P2 Seed</th>\n",
       "      <th>P2 Placement</th>\n",
       "      <th>Tournament No</th>\n",
       "      <th>Diff</th>\n",
       "    </tr>\n",
       "  </thead>\n",
       "  <tbody>\n",
       "    <tr>\n",
       "      <th>26</th>\n",
       "      <td>Linkirto</td>\n",
       "      <td>D2S_Maxou</td>\n",
       "      <td>D2S_Maxou</td>\n",
       "      <td>2-1</td>\n",
       "      <td>Linkirto</td>\n",
       "      <td>27</td>\n",
       "      <td>1</td>\n",
       "      <td>2017-10-21</td>\n",
       "      <td>1</td>\n",
       "      <td>9</td>\n",
       "      <td>20</td>\n",
       "      <td>1</td>\n",
       "      <td>1</td>\n",
       "      <td>-19</td>\n",
       "    </tr>\n",
       "    <tr>\n",
       "      <th>35</th>\n",
       "      <td>ocrim_ger</td>\n",
       "      <td>D2S_Maxou</td>\n",
       "      <td>D2S_Maxou</td>\n",
       "      <td>2-0</td>\n",
       "      <td>ocrim_ger</td>\n",
       "      <td>36</td>\n",
       "      <td>1</td>\n",
       "      <td>2017-10-21</td>\n",
       "      <td>2</td>\n",
       "      <td>5</td>\n",
       "      <td>20</td>\n",
       "      <td>1</td>\n",
       "      <td>1</td>\n",
       "      <td>-18</td>\n",
       "    </tr>\n",
       "    <tr>\n",
       "      <th>97</th>\n",
       "      <td>Landi</td>\n",
       "      <td>GHS_Mats</td>\n",
       "      <td>Landi</td>\n",
       "      <td>0--1</td>\n",
       "      <td>GHS_Mats</td>\n",
       "      <td>2</td>\n",
       "      <td>5</td>\n",
       "      <td>2018-07-15</td>\n",
       "      <td>8</td>\n",
       "      <td>9</td>\n",
       "      <td>25</td>\n",
       "      <td>17</td>\n",
       "      <td>5</td>\n",
       "      <td>-17</td>\n",
       "    </tr>\n",
       "    <tr>\n",
       "      <th>19</th>\n",
       "      <td>Linkirto</td>\n",
       "      <td>TCM | BD82</td>\n",
       "      <td>Linkirto</td>\n",
       "      <td>2-1</td>\n",
       "      <td>TCM | BD82</td>\n",
       "      <td>20</td>\n",
       "      <td>1</td>\n",
       "      <td>2017-10-21</td>\n",
       "      <td>1</td>\n",
       "      <td>9</td>\n",
       "      <td>17</td>\n",
       "      <td>9</td>\n",
       "      <td>1</td>\n",
       "      <td>-16</td>\n",
       "    </tr>\n",
       "    <tr>\n",
       "      <th>106</th>\n",
       "      <td>D2S_Maxou</td>\n",
       "      <td>Anomika</td>\n",
       "      <td>D2S_Maxou</td>\n",
       "      <td>0--1</td>\n",
       "      <td>Anomika</td>\n",
       "      <td>11</td>\n",
       "      <td>5</td>\n",
       "      <td>2018-07-15</td>\n",
       "      <td>1</td>\n",
       "      <td>3</td>\n",
       "      <td>17</td>\n",
       "      <td>17</td>\n",
       "      <td>5</td>\n",
       "      <td>-16</td>\n",
       "    </tr>\n",
       "    <tr>\n",
       "      <th>...</th>\n",
       "      <td>...</td>\n",
       "      <td>...</td>\n",
       "      <td>...</td>\n",
       "      <td>...</td>\n",
       "      <td>...</td>\n",
       "      <td>...</td>\n",
       "      <td>...</td>\n",
       "      <td>...</td>\n",
       "      <td>...</td>\n",
       "      <td>...</td>\n",
       "      <td>...</td>\n",
       "      <td>...</td>\n",
       "      <td>...</td>\n",
       "      <td>...</td>\n",
       "    </tr>\n",
       "    <tr>\n",
       "      <th>83</th>\n",
       "      <td>Raffa_</td>\n",
       "      <td>Frank001</td>\n",
       "      <td>Frank001</td>\n",
       "      <td>3-1</td>\n",
       "      <td>Raffa_</td>\n",
       "      <td>19</td>\n",
       "      <td>3</td>\n",
       "      <td>2017-09-12</td>\n",
       "      <td>12</td>\n",
       "      <td>4</td>\n",
       "      <td>2</td>\n",
       "      <td>3</td>\n",
       "      <td>3</td>\n",
       "      <td>10</td>\n",
       "    </tr>\n",
       "    <tr>\n",
       "      <th>32</th>\n",
       "      <td>Frank001</td>\n",
       "      <td>SC☆Momso</td>\n",
       "      <td>Frank001</td>\n",
       "      <td>2-0</td>\n",
       "      <td>SC☆Momso</td>\n",
       "      <td>33</td>\n",
       "      <td>1</td>\n",
       "      <td>2017-10-21</td>\n",
       "      <td>19</td>\n",
       "      <td>5</td>\n",
       "      <td>7</td>\n",
       "      <td>7</td>\n",
       "      <td>1</td>\n",
       "      <td>12</td>\n",
       "    </tr>\n",
       "    <tr>\n",
       "      <th>28</th>\n",
       "      <td>Frank001</td>\n",
       "      <td>Ripha</td>\n",
       "      <td>Ripha</td>\n",
       "      <td>2-0</td>\n",
       "      <td>Frank001</td>\n",
       "      <td>29</td>\n",
       "      <td>1</td>\n",
       "      <td>2017-10-21</td>\n",
       "      <td>19</td>\n",
       "      <td>5</td>\n",
       "      <td>6</td>\n",
       "      <td>2</td>\n",
       "      <td>1</td>\n",
       "      <td>13</td>\n",
       "    </tr>\n",
       "    <tr>\n",
       "      <th>41</th>\n",
       "      <td>D2S_Maxou</td>\n",
       "      <td>Ripha</td>\n",
       "      <td>D2S_Maxou</td>\n",
       "      <td>3-0</td>\n",
       "      <td>Ripha</td>\n",
       "      <td>42</td>\n",
       "      <td>1</td>\n",
       "      <td>2017-10-21</td>\n",
       "      <td>20</td>\n",
       "      <td>1</td>\n",
       "      <td>6</td>\n",
       "      <td>2</td>\n",
       "      <td>1</td>\n",
       "      <td>14</td>\n",
       "    </tr>\n",
       "    <tr>\n",
       "      <th>25</th>\n",
       "      <td>Frank001</td>\n",
       "      <td>VilleViljar</td>\n",
       "      <td>Frank001</td>\n",
       "      <td>2-0</td>\n",
       "      <td>VilleViljar</td>\n",
       "      <td>26</td>\n",
       "      <td>1</td>\n",
       "      <td>2017-10-21</td>\n",
       "      <td>19</td>\n",
       "      <td>5</td>\n",
       "      <td>4</td>\n",
       "      <td>9</td>\n",
       "      <td>1</td>\n",
       "      <td>15</td>\n",
       "    </tr>\n",
       "  </tbody>\n",
       "</table>\n",
       "<p>2187 rows × 14 columns</p>\n",
       "</div>"
      ],
      "text/plain": [
       "       Player1      Player2     Winner Score        Loser  MatchNo EUAC  \\\n",
       "26    Linkirto    D2S_Maxou  D2S_Maxou   2-1     Linkirto       27    1   \n",
       "35   ocrim_ger    D2S_Maxou  D2S_Maxou   2-0    ocrim_ger       36    1   \n",
       "97       Landi     GHS_Mats      Landi  0--1     GHS_Mats        2    5   \n",
       "19    Linkirto   TCM | BD82   Linkirto   2-1   TCM | BD82       20    1   \n",
       "106  D2S_Maxou      Anomika  D2S_Maxou  0--1      Anomika       11    5   \n",
       "..         ...          ...        ...   ...          ...      ...  ...   \n",
       "83      Raffa_     Frank001   Frank001   3-1       Raffa_       19    3   \n",
       "32    Frank001     SC☆Momso   Frank001   2-0     SC☆Momso       33    1   \n",
       "28    Frank001        Ripha      Ripha   2-0     Frank001       29    1   \n",
       "41   D2S_Maxou        Ripha  D2S_Maxou   3-0        Ripha       42    1   \n",
       "25    Frank001  VilleViljar   Frank001   2-0  VilleViljar       26    1   \n",
       "\n",
       "           Date  P1 Seed  P1 Placement  P2 Seed  P2 Placement  Tournament No  \\\n",
       "26   2017-10-21        1             9       20             1              1   \n",
       "35   2017-10-21        2             5       20             1              1   \n",
       "97   2018-07-15        8             9       25            17              5   \n",
       "19   2017-10-21        1             9       17             9              1   \n",
       "106  2018-07-15        1             3       17            17              5   \n",
       "..          ...      ...           ...      ...           ...            ...   \n",
       "83   2017-09-12       12             4        2             3              3   \n",
       "32   2017-10-21       19             5        7             7              1   \n",
       "28   2017-10-21       19             5        6             2              1   \n",
       "41   2017-10-21       20             1        6             2              1   \n",
       "25   2017-10-21       19             5        4             9              1   \n",
       "\n",
       "     Diff  \n",
       "26    -19  \n",
       "35    -18  \n",
       "97    -17  \n",
       "19    -16  \n",
       "106   -16  \n",
       "..    ...  \n",
       "83     10  \n",
       "32     12  \n",
       "28     13  \n",
       "41     14  \n",
       "25     15  \n",
       "\n",
       "[2187 rows x 14 columns]"
      ]
     },
     "execution_count": 13,
     "metadata": {},
     "output_type": "execute_result"
    }
   ],
   "source": [
    "filterdf = df\n",
    "filterdf[\"Diff\"] = filterdf.apply(lambda x: x[\"P1 Seed\"] - x[\"P2 Seed\"], axis=1)\n",
    "filterdf.sort_values(by=\"Diff\", ascending=True)"
   ]
  },
  {
   "cell_type": "markdown",
   "id": "dbbcd097",
   "metadata": {},
   "source": [
    "### 5.4.2 Winrate by seed"
   ]
  },
  {
   "cell_type": "code",
   "execution_count": 15,
   "id": "c27d9124",
   "metadata": {},
   "outputs": [],
   "source": [
    "df1 = df[[\"Player1\", \"P1 Seed\", \"Winner\"]].rename(columns={\n",
    "    \"Player1\": \"Player\",\n",
    "    \"P1 Seed\" : \"Seed\"\n",
    "})\n",
    "df2 = df[[\"Player2\", \"P2 Seed\", \"Winner\"]].rename(columns={\n",
    "    \"Player2\" : \"Player\",\n",
    "    \"P2 Seed\" : \"Seed\"\n",
    "})\n",
    "\n",
    "seed_df = pd.concat([df1,df2])\n",
    "\n",
    "seed_df[\"Won\"] = seed_df[\"Player\"] == seed_df[\"Winner\"]\n",
    "\n",
    "winrate_by_seed = seed_df.groupby(\"Seed\")[\"Won\"].mean()"
   ]
  },
  {
   "cell_type": "code",
   "execution_count": 16,
   "id": "21e648bb",
   "metadata": {
    "scrolled": true
   },
   "outputs": [
    {
     "data": {
      "text/plain": [
       "Seed\n",
       "1     0.757028\n",
       "2     0.679463\n",
       "3     0.587174\n",
       "4     0.537313\n",
       "5     0.466667\n",
       "6     0.462312\n",
       "7     0.414566\n",
       "8     0.405316\n",
       "9     0.337398\n",
       "10    0.173653\n",
       "11    0.274074\n",
       "12    0.339286\n",
       "13    0.205882\n",
       "14    0.307692\n",
       "15    0.263158\n",
       "16    0.238095\n",
       "17    0.375000\n",
       "18    0.285714\n",
       "19    0.400000\n",
       "20    0.750000\n",
       "21    0.500000\n",
       "22    0.200000\n",
       "23    0.000000\n",
       "24    0.000000\n",
       "25    0.333333\n",
       "Name: Won, dtype: float64"
      ]
     },
     "execution_count": 16,
     "metadata": {},
     "output_type": "execute_result"
    }
   ],
   "source": [
    "winrate_by_seed"
   ]
  },
  {
   "cell_type": "code",
   "execution_count": 17,
   "id": "b0145e41",
   "metadata": {
    "scrolled": true
   },
   "outputs": [
    {
     "data": {
      "image/png": "[encoded data removed]",
      "text/plain": [
       "<Figure size 720x360 with 1 Axes>"
      ]
     },
     "metadata": {
      "needs_background": "light"
     },
     "output_type": "display_data"
    }
   ],
   "source": [
    "plt.figure(figsize=(10, 5))\n",
    "winrate_by_seed.plot(kind=\"bar\", color=\"skyblue\")\n",
    "plt.ylabel(\"Win Rate\")\n",
    "plt.xlabel(\"Seed\")\n",
    "plt.title(\"Win Rate by Seed\")\n",
    "plt.xticks(rotation=0)\n",
    "plt.tight_layout()\n",
    "plt.show()"
   ]
  },
  {
   "cell_type": "markdown",
   "id": "8580a029",
   "metadata": {},
   "source": [
    "Shows that players with the higher seed have a higher winrate. But tournies with higher numbers skew the results. Which warrants investigation"
   ]
  },
  {
   "cell_type": "markdown",
   "id": "843b984e",
   "metadata": {},
   "source": [
    "# 6. Trends over time"
   ]
  },
  {
   "cell_type": "markdown",
   "id": "77001516",
   "metadata": {},
   "source": [
    "## 6.1 Tourney size over time"
   ]
  },
  {
   "cell_type": "markdown",
   "id": "890515fd",
   "metadata": {},
   "source": [
    "To get the tourney size, the number of participants per tourney needs to be known"
   ]
  },
  {
   "cell_type": "code",
   "execution_count": 23,
   "id": "ab31dbdb",
   "metadata": {},
   "outputs": [
    {
     "data": {
      "text/html": [
       "<div>\n",
       "<style scoped>\n",
       "    .dataframe tbody tr th:only-of-type {\n",
       "        vertical-align: middle;\n",
       "    }\n",
       "\n",
       "    .dataframe tbody tr th {\n",
       "        vertical-align: top;\n",
       "    }\n",
       "\n",
       "    .dataframe thead th {\n",
       "        text-align: right;\n",
       "    }\n",
       "</style>\n",
       "<table border=\"1\" class=\"dataframe\">\n",
       "  <thead>\n",
       "    <tr style=\"text-align: right;\">\n",
       "      <th></th>\n",
       "      <th>Player1</th>\n",
       "      <th>Player2</th>\n",
       "      <th>Winner</th>\n",
       "      <th>Score</th>\n",
       "      <th>Loser</th>\n",
       "      <th>MatchNo</th>\n",
       "      <th>EUAC</th>\n",
       "      <th>Date</th>\n",
       "      <th>P1 Seed</th>\n",
       "      <th>P1 Placement</th>\n",
       "      <th>P2 Seed</th>\n",
       "      <th>P2 Placement</th>\n",
       "      <th>Tournament No</th>\n",
       "      <th>Diff</th>\n",
       "    </tr>\n",
       "  </thead>\n",
       "  <tbody>\n",
       "    <tr>\n",
       "      <th>0</th>\n",
       "      <td>Alumento</td>\n",
       "      <td>Owdy</td>\n",
       "      <td>Alumento</td>\n",
       "      <td>2-0</td>\n",
       "      <td>Owdy</td>\n",
       "      <td>1</td>\n",
       "      <td>1</td>\n",
       "      <td>2017-10-21</td>\n",
       "      <td>11</td>\n",
       "      <td>7</td>\n",
       "      <td>22</td>\n",
       "      <td>17</td>\n",
       "      <td>1</td>\n",
       "      <td>-11</td>\n",
       "    </tr>\n",
       "    <tr>\n",
       "      <th>1</th>\n",
       "      <td>BambooBoss</td>\n",
       "      <td>Frank001</td>\n",
       "      <td>Frank001</td>\n",
       "      <td>2-0</td>\n",
       "      <td>BambooBoss</td>\n",
       "      <td>2</td>\n",
       "      <td>1</td>\n",
       "      <td>2017-10-21</td>\n",
       "      <td>14</td>\n",
       "      <td>13</td>\n",
       "      <td>19</td>\n",
       "      <td>5</td>\n",
       "      <td>1</td>\n",
       "      <td>-5</td>\n",
       "    </tr>\n",
       "    <tr>\n",
       "      <th>2</th>\n",
       "      <td>Kotorious BRD</td>\n",
       "      <td>Altair</td>\n",
       "      <td>Kotorious BRD</td>\n",
       "      <td>0--1</td>\n",
       "      <td>Altair</td>\n",
       "      <td>3</td>\n",
       "      <td>1</td>\n",
       "      <td>2017-10-21</td>\n",
       "      <td>15</td>\n",
       "      <td>13</td>\n",
       "      <td>18</td>\n",
       "      <td>17</td>\n",
       "      <td>1</td>\n",
       "      <td>-3</td>\n",
       "    </tr>\n",
       "    <tr>\n",
       "      <th>3</th>\n",
       "      <td>RD | | Dushni</td>\n",
       "      <td>Raffa_</td>\n",
       "      <td>Raffa_</td>\n",
       "      <td>2-0</td>\n",
       "      <td>RD | | Dushni</td>\n",
       "      <td>4</td>\n",
       "      <td>1</td>\n",
       "      <td>2017-10-21</td>\n",
       "      <td>12</td>\n",
       "      <td>17</td>\n",
       "      <td>21</td>\n",
       "      <td>4</td>\n",
       "      <td>1</td>\n",
       "      <td>-9</td>\n",
       "    </tr>\n",
       "    <tr>\n",
       "      <th>4</th>\n",
       "      <td>InkA_</td>\n",
       "      <td>D2S_Maxou</td>\n",
       "      <td>InkA_</td>\n",
       "      <td>2-1</td>\n",
       "      <td>D2S_Maxou</td>\n",
       "      <td>5</td>\n",
       "      <td>1</td>\n",
       "      <td>2017-10-21</td>\n",
       "      <td>13</td>\n",
       "      <td>9</td>\n",
       "      <td>20</td>\n",
       "      <td>1</td>\n",
       "      <td>1</td>\n",
       "      <td>-7</td>\n",
       "    </tr>\n",
       "  </tbody>\n",
       "</table>\n",
       "</div>"
      ],
      "text/plain": [
       "         Player1    Player2         Winner Score          Loser  MatchNo EUAC  \\\n",
       "0       Alumento       Owdy       Alumento   2-0           Owdy        1    1   \n",
       "1     BambooBoss   Frank001       Frank001   2-0     BambooBoss        2    1   \n",
       "2  Kotorious BRD     Altair  Kotorious BRD  0--1         Altair        3    1   \n",
       "3  RD | | Dushni     Raffa_         Raffa_   2-0  RD | | Dushni        4    1   \n",
       "4          InkA_  D2S_Maxou          InkA_   2-1      D2S_Maxou        5    1   \n",
       "\n",
       "         Date  P1 Seed  P1 Placement  P2 Seed  P2 Placement  Tournament No  \\\n",
       "0  2017-10-21       11             7       22            17              1   \n",
       "1  2017-10-21       14            13       19             5              1   \n",
       "2  2017-10-21       15            13       18            17              1   \n",
       "3  2017-10-21       12            17       21             4              1   \n",
       "4  2017-10-21       13             9       20             1              1   \n",
       "\n",
       "   Diff  \n",
       "0   -11  \n",
       "1    -5  \n",
       "2    -3  \n",
       "3    -9  \n",
       "4    -7  "
      ]
     },
     "execution_count": 23,
     "metadata": {},
     "output_type": "execute_result"
    }
   ],
   "source": [
    "df.head()"
   ]
  },
  {
   "cell_type": "code",
   "execution_count": 28,
   "id": "6b1c383d",
   "metadata": {},
   "outputs": [],
   "source": [
    "df1 = df[[\"Player1\", \"Tournament No\", \"Date\"]].rename(columns={\n",
    "    \"Player1\" : \"Player\"\n",
    "})\n",
    "\n",
    "df2 = df[[\"Player2\", \"Tournament No\", \"Date\"]].rename(columns={\n",
    "    \"Player2\" : \"Player\"\n",
    "})\n",
    "\n",
    "combine = pd.concat([df1,df2])\n",
    "\n",
    "combine = combine.drop_duplicates()"
   ]
  },
  {
   "cell_type": "code",
   "execution_count": 44,
   "id": "11e83d99",
   "metadata": {},
   "outputs": [],
   "source": [
    "testing = combine.groupby([\"Tournament No\"])[\"Player\"].size().reset_index(name=\"PlayerCount\")"
   ]
  },
  {
   "cell_type": "code",
   "execution_count": 45,
   "id": "11fdf629",
   "metadata": {
    "scrolled": false
   },
   "outputs": [
    {
     "data": {
      "text/html": [
       "<div>\n",
       "<style scoped>\n",
       "    .dataframe tbody tr th:only-of-type {\n",
       "        vertical-align: middle;\n",
       "    }\n",
       "\n",
       "    .dataframe tbody tr th {\n",
       "        vertical-align: top;\n",
       "    }\n",
       "\n",
       "    .dataframe thead th {\n",
       "        text-align: right;\n",
       "    }\n",
       "</style>\n",
       "<table border=\"1\" class=\"dataframe\">\n",
       "  <thead>\n",
       "    <tr style=\"text-align: right;\">\n",
       "      <th></th>\n",
       "      <th>Tournament No</th>\n",
       "      <th>PlayerCount</th>\n",
       "    </tr>\n",
       "  </thead>\n",
       "  <tbody>\n",
       "    <tr>\n",
       "      <th>0</th>\n",
       "      <td>1</td>\n",
       "      <td>22</td>\n",
       "    </tr>\n",
       "    <tr>\n",
       "      <th>1</th>\n",
       "      <td>2</td>\n",
       "      <td>12</td>\n",
       "    </tr>\n",
       "    <tr>\n",
       "      <th>2</th>\n",
       "      <td>3</td>\n",
       "      <td>12</td>\n",
       "    </tr>\n",
       "    <tr>\n",
       "      <th>3</th>\n",
       "      <td>4</td>\n",
       "      <td>9</td>\n",
       "    </tr>\n",
       "    <tr>\n",
       "      <th>4</th>\n",
       "      <td>5</td>\n",
       "      <td>25</td>\n",
       "    </tr>\n",
       "    <tr>\n",
       "      <th>...</th>\n",
       "      <td>...</td>\n",
       "      <td>...</td>\n",
       "    </tr>\n",
       "    <tr>\n",
       "      <th>106</th>\n",
       "      <td>107</td>\n",
       "      <td>12</td>\n",
       "    </tr>\n",
       "    <tr>\n",
       "      <th>107</th>\n",
       "      <td>108</td>\n",
       "      <td>10</td>\n",
       "    </tr>\n",
       "    <tr>\n",
       "      <th>108</th>\n",
       "      <td>109</td>\n",
       "      <td>10</td>\n",
       "    </tr>\n",
       "    <tr>\n",
       "      <th>109</th>\n",
       "      <td>110</td>\n",
       "      <td>9</td>\n",
       "    </tr>\n",
       "    <tr>\n",
       "      <th>110</th>\n",
       "      <td>111</td>\n",
       "      <td>7</td>\n",
       "    </tr>\n",
       "  </tbody>\n",
       "</table>\n",
       "<p>111 rows × 2 columns</p>\n",
       "</div>"
      ],
      "text/plain": [
       "     Tournament No  PlayerCount\n",
       "0                1           22\n",
       "1                2           12\n",
       "2                3           12\n",
       "3                4            9\n",
       "4                5           25\n",
       "..             ...          ...\n",
       "106            107           12\n",
       "107            108           10\n",
       "108            109           10\n",
       "109            110            9\n",
       "110            111            7\n",
       "\n",
       "[111 rows x 2 columns]"
      ]
     },
     "execution_count": 45,
     "metadata": {},
     "output_type": "execute_result"
    }
   ],
   "source": [
    "testing"
   ]
  },
  {
   "cell_type": "code",
   "execution_count": 46,
   "id": "412a13c3",
   "metadata": {
    "scrolled": true
   },
   "outputs": [
    {
     "data": {
      "image/png": "[encoded data removed]",
      "text/plain": [
       "<Figure size 720x360 with 1 Axes>"
      ]
     },
     "metadata": {
      "needs_background": "light"
     },
     "output_type": "display_data"
    }
   ],
   "source": [
    "plt.figure(figsize=(10, 5))\n",
    "test.plot(kind=\"line\", color=\"blue\")\n",
    "plt.ylabel(\"Player Count\")\n",
    "plt.xlabel(\"Tourney No\")\n",
    "plt.title(\"Player Count over time\")\n",
    "plt.xticks(rotation=0)\n",
    "plt.tight_layout()\n",
    "plt.show()"
   ]
  },
  {
   "cell_type": "code",
   "execution_count": null,
   "id": "99f7ff0d",
   "metadata": {},
   "outputs": [],
   "source": []
  },
  {
   "cell_type": "markdown",
   "id": "19f73fda",
   "metadata": {},
   "source": [
    "## 2.2 Correlations"
   ]
  },
  {
   "cell_type": "code",
   "execution_count": 21,
   "id": "37598b4c",
   "metadata": {
    "scrolled": true
   },
   "outputs": [
    {
     "data": {
      "text/html": [
       "<div>\n",
       "<style scoped>\n",
       "    .dataframe tbody tr th:only-of-type {\n",
       "        vertical-align: middle;\n",
       "    }\n",
       "\n",
       "    .dataframe tbody tr th {\n",
       "        vertical-align: top;\n",
       "    }\n",
       "\n",
       "    .dataframe thead th {\n",
       "        text-align: right;\n",
       "    }\n",
       "</style>\n",
       "<table border=\"1\" class=\"dataframe\">\n",
       "  <thead>\n",
       "    <tr style=\"text-align: right;\">\n",
       "      <th></th>\n",
       "      <th>Player</th>\n",
       "      <th>Seed</th>\n",
       "      <th>Winner</th>\n",
       "      <th>Won</th>\n",
       "    </tr>\n",
       "  </thead>\n",
       "  <tbody>\n",
       "    <tr>\n",
       "      <th>0</th>\n",
       "      <td>Alumento</td>\n",
       "      <td>11</td>\n",
       "      <td>Alumento</td>\n",
       "      <td>True</td>\n",
       "    </tr>\n",
       "    <tr>\n",
       "      <th>1</th>\n",
       "      <td>BambooBoss</td>\n",
       "      <td>14</td>\n",
       "      <td>Frank001</td>\n",
       "      <td>False</td>\n",
       "    </tr>\n",
       "    <tr>\n",
       "      <th>2</th>\n",
       "      <td>Kotorious BRD</td>\n",
       "      <td>15</td>\n",
       "      <td>Kotorious BRD</td>\n",
       "      <td>True</td>\n",
       "    </tr>\n",
       "    <tr>\n",
       "      <th>3</th>\n",
       "      <td>RD | | Dushni</td>\n",
       "      <td>12</td>\n",
       "      <td>Raffa_</td>\n",
       "      <td>False</td>\n",
       "    </tr>\n",
       "    <tr>\n",
       "      <th>4</th>\n",
       "      <td>InkA_</td>\n",
       "      <td>13</td>\n",
       "      <td>InkA_</td>\n",
       "      <td>True</td>\n",
       "    </tr>\n",
       "    <tr>\n",
       "      <th>...</th>\n",
       "      <td>...</td>\n",
       "      <td>...</td>\n",
       "      <td>...</td>\n",
       "      <td>...</td>\n",
       "    </tr>\n",
       "    <tr>\n",
       "      <th>4369</th>\n",
       "      <td>YoshiBowser</td>\n",
       "      <td>5</td>\n",
       "      <td>DoJoSeph</td>\n",
       "      <td>False</td>\n",
       "    </tr>\n",
       "    <tr>\n",
       "      <th>4370</th>\n",
       "      <td>Yamber</td>\n",
       "      <td>4</td>\n",
       "      <td>Yamber</td>\n",
       "      <td>True</td>\n",
       "    </tr>\n",
       "    <tr>\n",
       "      <th>4371</th>\n",
       "      <td>Giusesbica004</td>\n",
       "      <td>2</td>\n",
       "      <td>Ripha</td>\n",
       "      <td>False</td>\n",
       "    </tr>\n",
       "    <tr>\n",
       "      <th>4372</th>\n",
       "      <td>Yamber</td>\n",
       "      <td>4</td>\n",
       "      <td>Yamber</td>\n",
       "      <td>True</td>\n",
       "    </tr>\n",
       "    <tr>\n",
       "      <th>4373</th>\n",
       "      <td>Yamber</td>\n",
       "      <td>4</td>\n",
       "      <td>Ripha</td>\n",
       "      <td>False</td>\n",
       "    </tr>\n",
       "  </tbody>\n",
       "</table>\n",
       "<p>4374 rows × 4 columns</p>\n",
       "</div>"
      ],
      "text/plain": [
       "             Player  Seed         Winner    Won\n",
       "0          Alumento    11       Alumento   True\n",
       "1        BambooBoss    14       Frank001  False\n",
       "2     Kotorious BRD    15  Kotorious BRD   True\n",
       "3     RD | | Dushni    12         Raffa_  False\n",
       "4             InkA_    13          InkA_   True\n",
       "...             ...   ...            ...    ...\n",
       "4369    YoshiBowser     5       DoJoSeph  False\n",
       "4370         Yamber     4         Yamber   True\n",
       "4371  Giusesbica004     2          Ripha  False\n",
       "4372         Yamber     4         Yamber   True\n",
       "4373         Yamber     4          Ripha  False\n",
       "\n",
       "[4374 rows x 4 columns]"
      ]
     },
     "execution_count": 21,
     "metadata": {},
     "output_type": "execute_result"
    }
   ],
   "source": [
    "matches"
   ]
  },
  {
   "cell_type": "code",
   "execution_count": 22,
   "id": "1e904894",
   "metadata": {},
   "outputs": [
    {
     "data": {
      "text/plain": [
       "Seed\n",
       "1     498\n",
       "2     521\n",
       "3     499\n",
       "4     469\n",
       "5     420\n",
       "6     398\n",
       "7     357\n",
       "8     301\n",
       "9     246\n",
       "10    167\n",
       "11    135\n",
       "12    112\n",
       "13     68\n",
       "14     52\n",
       "15     38\n",
       "16     21\n",
       "17     16\n",
       "18     14\n",
       "19     10\n",
       "20     12\n",
       "21      8\n",
       "22      5\n",
       "23      2\n",
       "24      2\n",
       "25      3\n",
       "Name: Won, dtype: int64"
      ]
     },
     "execution_count": 22,
     "metadata": {},
     "output_type": "execute_result"
    }
   ],
   "source": [
    "match_counts"
   ]
  },
  {
   "cell_type": "code",
   "execution_count": 23,
   "id": "299c5e34",
   "metadata": {},
   "outputs": [
    {
     "data": {
      "text/plain": [
       "Seed\n",
       "1     0.757028\n",
       "2     0.679463\n",
       "3     0.587174\n",
       "4     0.537313\n",
       "5     0.466667\n",
       "6     0.462312\n",
       "7     0.414566\n",
       "8     0.405316\n",
       "9     0.337398\n",
       "10    0.173653\n",
       "11    0.274074\n",
       "12    0.339286\n",
       "13    0.205882\n",
       "14    0.307692\n",
       "15    0.263158\n",
       "16    0.238095\n",
       "17    0.375000\n",
       "18    0.285714\n",
       "19    0.400000\n",
       "20    0.750000\n",
       "21    0.500000\n",
       "22    0.200000\n",
       "23    0.000000\n",
       "24    0.000000\n",
       "25    0.333333\n",
       "Name: Won, dtype: float64"
      ]
     },
     "execution_count": 23,
     "metadata": {},
     "output_type": "execute_result"
    }
   ],
   "source": [
    "winrate_by_seed"
   ]
  },
  {
   "cell_type": "code",
   "execution_count": null,
   "id": "82df957b",
   "metadata": {},
   "outputs": [],
   "source": []
  },
  {
   "cell_type": "code",
   "execution_count": 8,
   "id": "cedbbcd8",
   "metadata": {},
   "outputs": [],
   "source": [
    "heat = df.corr()"
   ]
  },
  {
   "cell_type": "code",
   "execution_count": 9,
   "id": "f2f744c3",
   "metadata": {},
   "outputs": [
    {
     "data": {
      "text/html": [
       "<div>\n",
       "<style scoped>\n",
       "    .dataframe tbody tr th:only-of-type {\n",
       "        vertical-align: middle;\n",
       "    }\n",
       "\n",
       "    .dataframe tbody tr th {\n",
       "        vertical-align: top;\n",
       "    }\n",
       "\n",
       "    .dataframe thead th {\n",
       "        text-align: right;\n",
       "    }\n",
       "</style>\n",
       "<table border=\"1\" class=\"dataframe\">\n",
       "  <thead>\n",
       "    <tr style=\"text-align: right;\">\n",
       "      <th></th>\n",
       "      <th>MatchNo</th>\n",
       "      <th>P1 Seed</th>\n",
       "      <th>P1 Placement</th>\n",
       "      <th>P2 Seed</th>\n",
       "      <th>P2 Placement</th>\n",
       "      <th>Tournament No</th>\n",
       "    </tr>\n",
       "  </thead>\n",
       "  <tbody>\n",
       "    <tr>\n",
       "      <th>MatchNo</th>\n",
       "      <td>1.000000</td>\n",
       "      <td>-0.027995</td>\n",
       "      <td>-0.169150</td>\n",
       "      <td>-0.211780</td>\n",
       "      <td>-0.341174</td>\n",
       "      <td>-0.276771</td>\n",
       "    </tr>\n",
       "    <tr>\n",
       "      <th>P1 Seed</th>\n",
       "      <td>-0.027995</td>\n",
       "      <td>1.000000</td>\n",
       "      <td>0.700772</td>\n",
       "      <td>0.441375</td>\n",
       "      <td>0.446473</td>\n",
       "      <td>-0.244598</td>\n",
       "    </tr>\n",
       "    <tr>\n",
       "      <th>P1 Placement</th>\n",
       "      <td>-0.169150</td>\n",
       "      <td>0.700772</td>\n",
       "      <td>1.000000</td>\n",
       "      <td>0.527211</td>\n",
       "      <td>0.471855</td>\n",
       "      <td>-0.223788</td>\n",
       "    </tr>\n",
       "    <tr>\n",
       "      <th>P2 Seed</th>\n",
       "      <td>-0.211780</td>\n",
       "      <td>0.441375</td>\n",
       "      <td>0.527211</td>\n",
       "      <td>1.000000</td>\n",
       "      <td>0.754884</td>\n",
       "      <td>-0.314577</td>\n",
       "    </tr>\n",
       "    <tr>\n",
       "      <th>P2 Placement</th>\n",
       "      <td>-0.341174</td>\n",
       "      <td>0.446473</td>\n",
       "      <td>0.471855</td>\n",
       "      <td>0.754884</td>\n",
       "      <td>1.000000</td>\n",
       "      <td>-0.211962</td>\n",
       "    </tr>\n",
       "    <tr>\n",
       "      <th>Tournament No</th>\n",
       "      <td>-0.276771</td>\n",
       "      <td>-0.244598</td>\n",
       "      <td>-0.223788</td>\n",
       "      <td>-0.314577</td>\n",
       "      <td>-0.211962</td>\n",
       "      <td>1.000000</td>\n",
       "    </tr>\n",
       "  </tbody>\n",
       "</table>\n",
       "</div>"
      ],
      "text/plain": [
       "                MatchNo   P1 Seed  P1 Placement   P2 Seed  P2 Placement  \\\n",
       "MatchNo        1.000000 -0.027995     -0.169150 -0.211780     -0.341174   \n",
       "P1 Seed       -0.027995  1.000000      0.700772  0.441375      0.446473   \n",
       "P1 Placement  -0.169150  0.700772      1.000000  0.527211      0.471855   \n",
       "P2 Seed       -0.211780  0.441375      0.527211  1.000000      0.754884   \n",
       "P2 Placement  -0.341174  0.446473      0.471855  0.754884      1.000000   \n",
       "Tournament No -0.276771 -0.244598     -0.223788 -0.314577     -0.211962   \n",
       "\n",
       "               Tournament No  \n",
       "MatchNo            -0.276771  \n",
       "P1 Seed            -0.244598  \n",
       "P1 Placement       -0.223788  \n",
       "P2 Seed            -0.314577  \n",
       "P2 Placement       -0.211962  \n",
       "Tournament No       1.000000  "
      ]
     },
     "execution_count": 9,
     "metadata": {},
     "output_type": "execute_result"
    }
   ],
   "source": [
    "heat"
   ]
  },
  {
   "cell_type": "code",
   "execution_count": 10,
   "id": "29867d0b",
   "metadata": {},
   "outputs": [
    {
     "data": {
      "text/plain": [
       "<AxesSubplot:>"
      ]
     },
     "execution_count": 10,
     "metadata": {},
     "output_type": "execute_result"
    },
    {
     "data": {
      "image/png": "[encoded data removed]",
      "text/plain": [
       "<Figure size 576x432 with 2 Axes>"
      ]
     },
     "metadata": {
      "needs_background": "light"
     },
     "output_type": "display_data"
    }
   ],
   "source": [
    "plt.figure(figsize=(8,6))\n",
    "sns.heatmap(data=heat, annot=True, cmap=\"coolwarm\")"
   ]
  },
  {
   "cell_type": "markdown",
   "id": "78f8a3cb",
   "metadata": {},
   "source": [
    "High correlation between a player's seeding and their placement (0.7 for Player 1 and 0.75 for Player 2). <br>\n",
    "Suggesting that players are usually seeded appropriately"
   ]
  },
  {
   "cell_type": "markdown",
   "id": "3525d900",
   "metadata": {},
   "source": [
    "## Who are the strongest players?"
   ]
  },
  {
   "cell_type": "markdown",
   "id": "4c70470c",
   "metadata": {},
   "source": [
    "###  Each player who has won an EUAC"
   ]
  },
  {
   "cell_type": "code",
   "execution_count": 11,
   "id": "fe6fa386",
   "metadata": {},
   "outputs": [],
   "source": [
    "# Add players to a set that have had a placement of 1. Sets don't contain duplicates\n",
    "players = set()\n",
    "for i in playerdf[\"Player_Map\"]:\n",
    "    for a,b,c,d in zip(df[\"Player1\"], df[\"Player2\"], df[\"P1 Placement\"], df[\"P2 Placement\"]):\n",
    "        if i == a:\n",
    "            if c == 1:\n",
    "                players.add(i)\n",
    "                continue\n",
    "            else:\n",
    "                continue\n",
    "        if i == b:\n",
    "            if d == 1:\n",
    "                players.add(i)\n",
    "                continue\n",
    "            else:\n",
    "                continue"
   ]
  },
  {
   "cell_type": "code",
   "execution_count": 12,
   "id": "e3cdc3ad",
   "metadata": {
    "scrolled": true
   },
   "outputs": [
    {
     "data": {
      "text/plain": [
       "{'Alistair__',\n",
       " 'D2S_Maxou',\n",
       " 'Frank001',\n",
       " 'Grimwood96',\n",
       " 'Iceman92',\n",
       " 'JrARMS',\n",
       " 'Raffa_',\n",
       " 'Ripha',\n",
       " 'Shedy',\n",
       " 'Yamber',\n",
       " 'Yätta',\n",
       " 'replicant___'}"
      ]
     },
     "execution_count": 12,
     "metadata": {},
     "output_type": "execute_result"
    }
   ],
   "source": [
    "players"
   ]
  },
  {
   "cell_type": "code",
   "execution_count": 17,
   "id": "40970c52",
   "metadata": {},
   "outputs": [
    {
     "data": {
      "text/plain": [
       "12"
      ]
     },
     "execution_count": 17,
     "metadata": {},
     "output_type": "execute_result"
    }
   ],
   "source": [
    "len(players)"
   ]
  },
  {
   "cell_type": "markdown",
   "id": "d95490ba",
   "metadata": {},
   "source": [
    "12 Players have won at least one EUAC throughout its run"
   ]
  },
  {
   "cell_type": "markdown",
   "id": "2cab718a",
   "metadata": {},
   "source": [
    "### Amount of EUACs won by player"
   ]
  },
  {
   "cell_type": "markdown",
   "id": "df4e483c",
   "metadata": {},
   "source": [
    "### Win Streaks"
   ]
  },
  {
   "cell_type": "code",
   "execution_count": 18,
   "id": "4a17136d",
   "metadata": {},
   "outputs": [
    {
     "name": "stdout",
     "output_type": "stream",
     "text": [
      "     Tournament No  PlayerCount\n",
      "0                1           22\n",
      "1                2           12\n",
      "2                3           12\n",
      "3                4            9\n",
      "4                5           25\n",
      "..             ...          ...\n",
      "106            107           12\n",
      "107            108           10\n",
      "108            109           10\n",
      "109            110            9\n",
      "110            111            7\n",
      "\n",
      "[111 rows x 2 columns]\n"
     ]
    }
   ],
   "source": [
    "counts = (\n",
    "    df.melt(id_vars=\"Tournament No\", value_vars=[\"Winner\", \"Loser\"])\n",
    "      .drop(\"variable\", axis=1)\n",
    "      .drop_duplicates()\n",
    "      .groupby(\"Tournament No\")\n",
    "      .size()\n",
    "      .reset_index(name=\"PlayerCount\")\n",
    ")\n",
    "\n",
    "print(counts)"
   ]
  },
  {
   "cell_type": "code",
   "execution_count": 19,
   "id": "e93d77c7",
   "metadata": {},
   "outputs": [
    {
     "data": {
      "text/html": [
       "<div>\n",
       "<style scoped>\n",
       "    .dataframe tbody tr th:only-of-type {\n",
       "        vertical-align: middle;\n",
       "    }\n",
       "\n",
       "    .dataframe tbody tr th {\n",
       "        vertical-align: top;\n",
       "    }\n",
       "\n",
       "    .dataframe thead th {\n",
       "        text-align: right;\n",
       "    }\n",
       "</style>\n",
       "<table border=\"1\" class=\"dataframe\">\n",
       "  <thead>\n",
       "    <tr style=\"text-align: right;\">\n",
       "      <th></th>\n",
       "      <th>Tournament No</th>\n",
       "      <th>PlayerCount</th>\n",
       "    </tr>\n",
       "  </thead>\n",
       "  <tbody>\n",
       "    <tr>\n",
       "      <th>4</th>\n",
       "      <td>5</td>\n",
       "      <td>25</td>\n",
       "    </tr>\n",
       "    <tr>\n",
       "      <th>0</th>\n",
       "      <td>1</td>\n",
       "      <td>22</td>\n",
       "    </tr>\n",
       "    <tr>\n",
       "      <th>5</th>\n",
       "      <td>6</td>\n",
       "      <td>19</td>\n",
       "    </tr>\n",
       "    <tr>\n",
       "      <th>14</th>\n",
       "      <td>15</td>\n",
       "      <td>18</td>\n",
       "    </tr>\n",
       "    <tr>\n",
       "      <th>51</th>\n",
       "      <td>52</td>\n",
       "      <td>18</td>\n",
       "    </tr>\n",
       "    <tr>\n",
       "      <th>...</th>\n",
       "      <td>...</td>\n",
       "      <td>...</td>\n",
       "    </tr>\n",
       "    <tr>\n",
       "      <th>80</th>\n",
       "      <td>81</td>\n",
       "      <td>6</td>\n",
       "    </tr>\n",
       "    <tr>\n",
       "      <th>34</th>\n",
       "      <td>35</td>\n",
       "      <td>6</td>\n",
       "    </tr>\n",
       "    <tr>\n",
       "      <th>85</th>\n",
       "      <td>86</td>\n",
       "      <td>5</td>\n",
       "    </tr>\n",
       "    <tr>\n",
       "      <th>82</th>\n",
       "      <td>83</td>\n",
       "      <td>5</td>\n",
       "    </tr>\n",
       "    <tr>\n",
       "      <th>84</th>\n",
       "      <td>85</td>\n",
       "      <td>5</td>\n",
       "    </tr>\n",
       "  </tbody>\n",
       "</table>\n",
       "<p>111 rows × 2 columns</p>\n",
       "</div>"
      ],
      "text/plain": [
       "    Tournament No  PlayerCount\n",
       "4               5           25\n",
       "0               1           22\n",
       "5               6           19\n",
       "14             15           18\n",
       "51             52           18\n",
       "..            ...          ...\n",
       "80             81            6\n",
       "34             35            6\n",
       "85             86            5\n",
       "82             83            5\n",
       "84             85            5\n",
       "\n",
       "[111 rows x 2 columns]"
      ]
     },
     "execution_count": 19,
     "metadata": {},
     "output_type": "execute_result"
    }
   ],
   "source": [
    "counts.sort_values(by=\"PlayerCount\", ascending=False)"
   ]
  },
  {
   "cell_type": "markdown",
   "id": "7bf7f6b2",
   "metadata": {},
   "source": [
    "EUAC 5 had the highest number of entrants with 25 competing whilst EUACs 83,85 and 86 has the lowest with only 5 participating"
   ]
  },
  {
   "cell_type": "code",
   "execution_count": 32,
   "id": "163c96b3",
   "metadata": {},
   "outputs": [],
   "source": [
    "avg = counts[\"PlayerCount\"].mean()\n",
    "med = counts[\"PlayerCount\"].median()"
   ]
  },
  {
   "cell_type": "code",
   "execution_count": 35,
   "id": "70ff4c92",
   "metadata": {
    "scrolled": true
   },
   "outputs": [
    {
     "data": {
      "text/plain": [
       "'The Average EUAC has 10.68 players per tournament and a median of 10.0'"
      ]
     },
     "execution_count": 35,
     "metadata": {},
     "output_type": "execute_result"
    }
   ],
   "source": [
    "f\"The Average EUAC has {avg:.2f} players per tournament and a median of {med}\""
   ]
  },
  {
   "cell_type": "code",
   "execution_count": 31,
   "id": "ab83337c",
   "metadata": {},
   "outputs": [
    {
     "data": {
      "image/png": "[encoded data removed]",
      "text/plain": [
       "<Figure size 432x288 with 1 Axes>"
      ]
     },
     "metadata": {
      "needs_background": "light"
     },
     "output_type": "display_data"
    }
   ],
   "source": [
    "counts[\"PlayerCount\"].plot(kind=\"box\", color=\"#0035d0\", grid=True)\n",
    "plt.xlabel(\"Scores\")\n",
    "plt.ylabel(\"Count\")\n",
    "plt.xticks(rotation=\"0\")\n",
    "plt.title(\"Bar Chart of Player Count\")\n",
    "plt.show()"
   ]
  },
  {
   "cell_type": "code",
   "execution_count": 22,
   "id": "8e17bb60",
   "metadata": {},
   "outputs": [
    {
     "data": {
      "image/png": "[encoded data removed]",
      "text/plain": [
       "<Figure size 1152x432 with 1 Axes>"
      ]
     },
     "metadata": {
      "needs_background": "light"
     },
     "output_type": "display_data"
    }
   ],
   "source": [
    "# Scatter plot + line\n",
    "plt.figure(figsize=(16, 6))\n",
    "ax = plt.gca() #Keep everything on same plot\n",
    "\n",
    "# Line plot\n",
    "counts.plot(x=\"Tournament No\", y=\"PlayerCount\", kind=\"line\", marker='o', ax=ax, linewidth=2, color=\"#0035d0\")\n",
    "\n",
    "# Trend line\n",
    "z = np.polyfit(counts[\"Tournament No\"], counts[\"PlayerCount\"], 1)\n",
    "p = np.poly1d(z)\n",
    "plt.plot(counts[\"Tournament No\"], p(counts[\"Tournament No\"]), linewidth=2, label=\"Trend Line\", linestyle='--', color=\"#d09b00\")\n",
    "\n",
    "# Labels and title\n",
    "plt.title(\"Player Counts over EUACs with Trend Line\", fontsize=16)\n",
    "plt.xlabel(\"Tournament No\", fontsize=14)\n",
    "plt.ylabel(\"Unique Players\", fontsize=14)\n",
    "plt.legend()\n",
    "\n",
    "# Set y-axis to only show whole numbers\n",
    "max_count = counts[\"PlayerCount\"].max()\n",
    "plt.yticks(np.arange(0, max_count + 1, 2))  # from 0 to max, step by 1\n",
    "\n",
    "plt.grid(True, linestyle='--', alpha=0.7)\n",
    "plt.show()"
   ]
  },
  {
   "cell_type": "markdown",
   "id": "c9ffd8b9",
   "metadata": {},
   "source": [
    "Downward trend. This shows that the tournament series is losing players, slowly, throughout its run. It is approximately losing 0.05 players per tournament"
   ]
  },
  {
   "cell_type": "code",
   "execution_count": 25,
   "id": "52f8e7f4",
   "metadata": {},
   "outputs": [
    {
     "name": "stdout",
     "output_type": "stream",
     "text": [
      "Correlation between Tournament No and Player Count: -0.54\n",
      "Trend Line Equation: PlayerCount = -0.06 * Tournament No + 13.89\n"
     ]
    }
   ],
   "source": [
    "# Correlation\n",
    "correlation = counts[\"Tournament No\"].corr(counts[\"PlayerCount\"])\n",
    "print(f\"Correlation between Tournament No and Player Count: {correlation:.2f}\") #Two decimal places\n",
    "\n",
    "# Trend line equation\n",
    "z = np.polyfit(counts[\"Tournament No\"], counts[\"PlayerCount\"], 1)\n",
    "slope, intercept = z\n",
    "print(f\"Trend Line Equation: PlayerCount = {slope:.2f} * Tournament No + {intercept:.2f}\")"
   ]
  },
  {
   "cell_type": "code",
   "execution_count": null,
   "id": "dd6efbf7",
   "metadata": {},
   "outputs": [],
   "source": []
  }
 ],
 "metadata": {
  "kernelspec": {
   "display_name": "Python 3 (ipykernel)",
   "language": "python",
   "name": "python3"
  },
  "language_info": {
   "codemirror_mode": {
    "name": "ipython",
    "version": 3
   },
   "file_extension": ".py",
   "mimetype": "text/x-python",
   "name": "python",
   "nbconvert_exporter": "python",
   "pygments_lexer": "ipython3",
   "version": "3.9.12"
  }
 },
 "nbformat": 4,
 "nbformat_minor": 5
}
