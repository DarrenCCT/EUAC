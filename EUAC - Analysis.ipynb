{
 "cells": [
  {
   "cell_type": "code",
   "execution_count": 55,
   "id": "12309abb",
   "metadata": {},
   "outputs": [],
   "source": [
    "import pandas as pd\n",
    "import seaborn as sns\n",
    "import matplotlib.pyplot as plt"
   ]
  },
  {
   "cell_type": "code",
   "execution_count": 56,
   "id": "16a47130",
   "metadata": {},
   "outputs": [],
   "source": [
    "df = pd.read_csv(\"CleanedSets.csv\")\n",
    "playerdf = pd.read_csv(\"CleanedDetails.csv\")"
   ]
  },
  {
   "cell_type": "code",
   "execution_count": 57,
   "id": "48d937df",
   "metadata": {},
   "outputs": [
    {
     "data": {
      "text/html": [
       "<div>\n",
       "<style scoped>\n",
       "    .dataframe tbody tr th:only-of-type {\n",
       "        vertical-align: middle;\n",
       "    }\n",
       "\n",
       "    .dataframe tbody tr th {\n",
       "        vertical-align: top;\n",
       "    }\n",
       "\n",
       "    .dataframe thead th {\n",
       "        text-align: right;\n",
       "    }\n",
       "</style>\n",
       "<table border=\"1\" class=\"dataframe\">\n",
       "  <thead>\n",
       "    <tr style=\"text-align: right;\">\n",
       "      <th></th>\n",
       "      <th>Player1</th>\n",
       "      <th>Player2</th>\n",
       "      <th>Winner</th>\n",
       "      <th>Score</th>\n",
       "      <th>Loser</th>\n",
       "      <th>MatchNo</th>\n",
       "      <th>EUAC</th>\n",
       "      <th>Date</th>\n",
       "      <th>P1 Seed</th>\n",
       "      <th>P1 Placement</th>\n",
       "      <th>P2 Seed</th>\n",
       "      <th>P2 Placement</th>\n",
       "    </tr>\n",
       "  </thead>\n",
       "  <tbody>\n",
       "    <tr>\n",
       "      <th>0</th>\n",
       "      <td>Alumento</td>\n",
       "      <td>Owdy</td>\n",
       "      <td>Alumento</td>\n",
       "      <td>2-0</td>\n",
       "      <td>Owdy</td>\n",
       "      <td>1</td>\n",
       "      <td>1</td>\n",
       "      <td>2017-10-21</td>\n",
       "      <td>11</td>\n",
       "      <td>7</td>\n",
       "      <td>22</td>\n",
       "      <td>17</td>\n",
       "    </tr>\n",
       "    <tr>\n",
       "      <th>1</th>\n",
       "      <td>BambooBoss</td>\n",
       "      <td>FrankTank</td>\n",
       "      <td>FrankTank</td>\n",
       "      <td>2-0</td>\n",
       "      <td>BambooBoss</td>\n",
       "      <td>2</td>\n",
       "      <td>1</td>\n",
       "      <td>2017-10-21</td>\n",
       "      <td>14</td>\n",
       "      <td>13</td>\n",
       "      <td>19</td>\n",
       "      <td>5</td>\n",
       "    </tr>\n",
       "    <tr>\n",
       "      <th>2</th>\n",
       "      <td>Kotorious BRD</td>\n",
       "      <td>Altair</td>\n",
       "      <td>Kotorious BRD</td>\n",
       "      <td>0--1</td>\n",
       "      <td>Altair</td>\n",
       "      <td>3</td>\n",
       "      <td>1</td>\n",
       "      <td>2017-10-21</td>\n",
       "      <td>15</td>\n",
       "      <td>13</td>\n",
       "      <td>18</td>\n",
       "      <td>17</td>\n",
       "    </tr>\n",
       "    <tr>\n",
       "      <th>3</th>\n",
       "      <td>RD | | Dushni</td>\n",
       "      <td>Raffa_</td>\n",
       "      <td>Raffa_</td>\n",
       "      <td>2-0</td>\n",
       "      <td>RD | | Dushni</td>\n",
       "      <td>4</td>\n",
       "      <td>1</td>\n",
       "      <td>2017-10-21</td>\n",
       "      <td>12</td>\n",
       "      <td>17</td>\n",
       "      <td>21</td>\n",
       "      <td>4</td>\n",
       "    </tr>\n",
       "    <tr>\n",
       "      <th>4</th>\n",
       "      <td>InkA_</td>\n",
       "      <td>D2S_Maxou</td>\n",
       "      <td>InkA_</td>\n",
       "      <td>2-1</td>\n",
       "      <td>D2S_Maxou</td>\n",
       "      <td>5</td>\n",
       "      <td>1</td>\n",
       "      <td>2017-10-21</td>\n",
       "      <td>13</td>\n",
       "      <td>9</td>\n",
       "      <td>20</td>\n",
       "      <td>1</td>\n",
       "    </tr>\n",
       "  </tbody>\n",
       "</table>\n",
       "</div>"
      ],
      "text/plain": [
       "         Player1    Player2         Winner Score          Loser  MatchNo EUAC  \\\n",
       "0       Alumento       Owdy       Alumento   2-0           Owdy        1    1   \n",
       "1     BambooBoss  FrankTank      FrankTank   2-0     BambooBoss        2    1   \n",
       "2  Kotorious BRD     Altair  Kotorious BRD  0--1         Altair        3    1   \n",
       "3  RD | | Dushni     Raffa_         Raffa_   2-0  RD | | Dushni        4    1   \n",
       "4          InkA_  D2S_Maxou          InkA_   2-1      D2S_Maxou        5    1   \n",
       "\n",
       "         Date  P1 Seed  P1 Placement  P2 Seed  P2 Placement  \n",
       "0  2017-10-21       11             7       22            17  \n",
       "1  2017-10-21       14            13       19             5  \n",
       "2  2017-10-21       15            13       18            17  \n",
       "3  2017-10-21       12            17       21             4  \n",
       "4  2017-10-21       13             9       20             1  "
      ]
     },
     "execution_count": 57,
     "metadata": {},
     "output_type": "execute_result"
    }
   ],
   "source": [
    "df.head()"
   ]
  },
  {
   "cell_type": "code",
   "execution_count": 58,
   "id": "be52d83c",
   "metadata": {
    "scrolled": true
   },
   "outputs": [
    {
     "data": {
      "text/html": [
       "<div>\n",
       "<style scoped>\n",
       "    .dataframe tbody tr th:only-of-type {\n",
       "        vertical-align: middle;\n",
       "    }\n",
       "\n",
       "    .dataframe tbody tr th {\n",
       "        vertical-align: top;\n",
       "    }\n",
       "\n",
       "    .dataframe thead th {\n",
       "        text-align: right;\n",
       "    }\n",
       "</style>\n",
       "<table border=\"1\" class=\"dataframe\">\n",
       "  <thead>\n",
       "    <tr style=\"text-align: right;\">\n",
       "      <th></th>\n",
       "      <th>Start ID</th>\n",
       "      <th>Challonge ID</th>\n",
       "      <th>Player_Map</th>\n",
       "    </tr>\n",
       "  </thead>\n",
       "  <tbody>\n",
       "    <tr>\n",
       "      <th>0</th>\n",
       "      <td>1152276</td>\n",
       "      <td>0</td>\n",
       "      <td>D2S_Maxou</td>\n",
       "    </tr>\n",
       "    <tr>\n",
       "      <th>1</th>\n",
       "      <td>1118825</td>\n",
       "      <td>0</td>\n",
       "      <td>Ripha</td>\n",
       "    </tr>\n",
       "    <tr>\n",
       "      <th>2</th>\n",
       "      <td>1133810</td>\n",
       "      <td>0</td>\n",
       "      <td>Sabaca</td>\n",
       "    </tr>\n",
       "    <tr>\n",
       "      <th>3</th>\n",
       "      <td>1152521</td>\n",
       "      <td>0</td>\n",
       "      <td>Raffa_</td>\n",
       "    </tr>\n",
       "    <tr>\n",
       "      <th>4</th>\n",
       "      <td>1152258</td>\n",
       "      <td>0</td>\n",
       "      <td>FrankTank</td>\n",
       "    </tr>\n",
       "  </tbody>\n",
       "</table>\n",
       "</div>"
      ],
      "text/plain": [
       "   Start ID  Challonge ID Player_Map\n",
       "0   1152276             0  D2S_Maxou\n",
       "1   1118825             0      Ripha\n",
       "2   1133810             0     Sabaca\n",
       "3   1152521             0     Raffa_\n",
       "4   1152258             0  FrankTank"
      ]
     },
     "execution_count": 58,
     "metadata": {},
     "output_type": "execute_result"
    }
   ],
   "source": [
    "playerdf.head()"
   ]
  },
  {
   "cell_type": "markdown",
   "id": "ddd47a00",
   "metadata": {},
   "source": [
    "## Most Common Score"
   ]
  },
  {
   "cell_type": "code",
   "execution_count": 59,
   "id": "4b1c868e",
   "metadata": {},
   "outputs": [
    {
     "data": {
      "text/plain": [
       "array(['2-0', '0--1', '2-1', '3-1', '3-0', '3-2'], dtype=object)"
      ]
     },
     "execution_count": 59,
     "metadata": {},
     "output_type": "execute_result"
    }
   ],
   "source": [
    "df[\"Score\"].unique()"
   ]
  },
  {
   "cell_type": "code",
   "execution_count": 60,
   "id": "bd3d4f9e",
   "metadata": {},
   "outputs": [
    {
     "data": {
      "text/plain": [
       "2-0     1195\n",
       "2-1      508\n",
       "3-1      144\n",
       "3-0      135\n",
       "3-2      122\n",
       "0--1      83\n",
       "Name: Score, dtype: int64"
      ]
     },
     "execution_count": 60,
     "metadata": {},
     "output_type": "execute_result"
    }
   ],
   "source": [
    "values = df[\"Score\"].value_counts()\n",
    "values"
   ]
  },
  {
   "cell_type": "code",
   "execution_count": 61,
   "id": "03945f35",
   "metadata": {},
   "outputs": [
    {
     "data": {
      "image/png": "[encoded data removed]",
      "text/plain": [
       "<Figure size 432x288 with 1 Axes>"
      ]
     },
     "metadata": {
      "needs_background": "light"
     },
     "output_type": "display_data"
    }
   ],
   "source": [
    "values.plot(kind=\"bar\", color=\"#0035d0\", grid=True)\n",
    "plt.xlabel(\"Scores\")\n",
    "plt.ylabel(\"Count\")\n",
    "plt.xticks(rotation=\"0\")\n",
    "plt.title(\"Bar Chart of Scores\")\n",
    "plt.show()"
   ]
  },
  {
   "cell_type": "markdown",
   "id": "31ae5b24",
   "metadata": {},
   "source": [
    "Most common score is a 2-0. Out numbering the next highest, 2-1, by double <br>\n",
    "\"Finals\" are less common but they are roughly the same. But 3-2 is the lowest indicating that Finals are not generally all that even "
   ]
  },
  {
   "cell_type": "markdown",
   "id": "19f73fda",
   "metadata": {},
   "source": [
    "## Correlation"
   ]
  },
  {
   "cell_type": "code",
   "execution_count": 62,
   "id": "cedbbcd8",
   "metadata": {},
   "outputs": [],
   "source": [
    "heat = df.corr()"
   ]
  },
  {
   "cell_type": "code",
   "execution_count": 63,
   "id": "f2f744c3",
   "metadata": {},
   "outputs": [
    {
     "data": {
      "text/html": [
       "<div>\n",
       "<style scoped>\n",
       "    .dataframe tbody tr th:only-of-type {\n",
       "        vertical-align: middle;\n",
       "    }\n",
       "\n",
       "    .dataframe tbody tr th {\n",
       "        vertical-align: top;\n",
       "    }\n",
       "\n",
       "    .dataframe thead th {\n",
       "        text-align: right;\n",
       "    }\n",
       "</style>\n",
       "<table border=\"1\" class=\"dataframe\">\n",
       "  <thead>\n",
       "    <tr style=\"text-align: right;\">\n",
       "      <th></th>\n",
       "      <th>MatchNo</th>\n",
       "      <th>P1 Seed</th>\n",
       "      <th>P1 Placement</th>\n",
       "      <th>P2 Seed</th>\n",
       "      <th>P2 Placement</th>\n",
       "    </tr>\n",
       "  </thead>\n",
       "  <tbody>\n",
       "    <tr>\n",
       "      <th>MatchNo</th>\n",
       "      <td>1.000000</td>\n",
       "      <td>-0.027995</td>\n",
       "      <td>-0.169150</td>\n",
       "      <td>-0.211780</td>\n",
       "      <td>-0.341174</td>\n",
       "    </tr>\n",
       "    <tr>\n",
       "      <th>P1 Seed</th>\n",
       "      <td>-0.027995</td>\n",
       "      <td>1.000000</td>\n",
       "      <td>0.700772</td>\n",
       "      <td>0.441375</td>\n",
       "      <td>0.446473</td>\n",
       "    </tr>\n",
       "    <tr>\n",
       "      <th>P1 Placement</th>\n",
       "      <td>-0.169150</td>\n",
       "      <td>0.700772</td>\n",
       "      <td>1.000000</td>\n",
       "      <td>0.527211</td>\n",
       "      <td>0.471855</td>\n",
       "    </tr>\n",
       "    <tr>\n",
       "      <th>P2 Seed</th>\n",
       "      <td>-0.211780</td>\n",
       "      <td>0.441375</td>\n",
       "      <td>0.527211</td>\n",
       "      <td>1.000000</td>\n",
       "      <td>0.754884</td>\n",
       "    </tr>\n",
       "    <tr>\n",
       "      <th>P2 Placement</th>\n",
       "      <td>-0.341174</td>\n",
       "      <td>0.446473</td>\n",
       "      <td>0.471855</td>\n",
       "      <td>0.754884</td>\n",
       "      <td>1.000000</td>\n",
       "    </tr>\n",
       "  </tbody>\n",
       "</table>\n",
       "</div>"
      ],
      "text/plain": [
       "               MatchNo   P1 Seed  P1 Placement   P2 Seed  P2 Placement\n",
       "MatchNo       1.000000 -0.027995     -0.169150 -0.211780     -0.341174\n",
       "P1 Seed      -0.027995  1.000000      0.700772  0.441375      0.446473\n",
       "P1 Placement -0.169150  0.700772      1.000000  0.527211      0.471855\n",
       "P2 Seed      -0.211780  0.441375      0.527211  1.000000      0.754884\n",
       "P2 Placement -0.341174  0.446473      0.471855  0.754884      1.000000"
      ]
     },
     "execution_count": 63,
     "metadata": {},
     "output_type": "execute_result"
    }
   ],
   "source": [
    "heat"
   ]
  },
  {
   "cell_type": "code",
   "execution_count": 64,
   "id": "29867d0b",
   "metadata": {},
   "outputs": [
    {
     "data": {
      "text/plain": [
       "<AxesSubplot:>"
      ]
     },
     "execution_count": 64,
     "metadata": {},
     "output_type": "execute_result"
    },
    {
     "data": {
      "image/png": "[encoded data removed]",
      "text/plain": [
       "<Figure size 576x432 with 2 Axes>"
      ]
     },
     "metadata": {
      "needs_background": "light"
     },
     "output_type": "display_data"
    }
   ],
   "source": [
    "plt.figure(figsize=(8,6))\n",
    "sns.heatmap(data=heat, annot=True, cmap=\"coolwarm\")"
   ]
  },
  {
   "cell_type": "markdown",
   "id": "78f8a3cb",
   "metadata": {},
   "source": [
    "High correlation between a player's seeding and their placement (0.7 for Player 1 and 0.75 for Player 2). <br>\n",
    "Suggesting that player's are usually seeded appropriately"
   ]
  },
  {
   "cell_type": "markdown",
   "id": "3525d900",
   "metadata": {},
   "source": [
    "## Who are the strongest players?"
   ]
  },
  {
   "cell_type": "markdown",
   "id": "4c70470c",
   "metadata": {},
   "source": [
    "###  Each player who has won an EUAC"
   ]
  },
  {
   "cell_type": "code",
   "execution_count": 67,
   "id": "fe6fa386",
   "metadata": {},
   "outputs": [],
   "source": [
    "# Add players to a set that have had a placement of 1. Sets don't contain duplicates\n",
    "players = set()\n",
    "for i in playerdf[\"Player_Map\"]:\n",
    "    for a,b,c,d in zip(df[\"Player1\"], df[\"Player2\"], df[\"P1 Placement\"], df[\"P2 Placement\"]):\n",
    "        if i == a:\n",
    "            if c == 1:\n",
    "                players.add(i)\n",
    "                continue\n",
    "            else:\n",
    "                continue\n",
    "        if i == b:\n",
    "            if d == 1:\n",
    "                players.add(i)\n",
    "                continue\n",
    "            else:\n",
    "                continue"
   ]
  },
  {
   "cell_type": "code",
   "execution_count": 68,
   "id": "e3cdc3ad",
   "metadata": {},
   "outputs": [
    {
     "data": {
      "text/plain": [
       "{'Alistair__',\n",
       " 'D2S_Maxou',\n",
       " 'Frank001',\n",
       " 'Grimwood96',\n",
       " 'Iceman92',\n",
       " 'JrARMS',\n",
       " 'Raffa_',\n",
       " 'Ripha',\n",
       " 'Shedy',\n",
       " 'Yamber',\n",
       " 'Yätta',\n",
       " 'deleted4353211',\n",
       " 'replicant___'}"
      ]
     },
     "execution_count": 68,
     "metadata": {},
     "output_type": "execute_result"
    }
   ],
   "source": [
    "players"
   ]
  },
  {
   "cell_type": "code",
   "execution_count": null,
   "id": "68705b9d",
   "metadata": {},
   "outputs": [],
   "source": []
  }
 ],
 "metadata": {
  "kernelspec": {
   "display_name": "Python 3 (ipykernel)",
   "language": "python",
   "name": "python3"
  },
  "language_info": {
   "codemirror_mode": {
    "name": "ipython",
    "version": 3
   },
   "file_extension": ".py",
   "mimetype": "text/x-python",
   "name": "python",
   "nbconvert_exporter": "python",
   "pygments_lexer": "ipython3",
   "version": "3.9.12"
  }
 },
 "nbformat": 4,
 "nbformat_minor": 5
}
