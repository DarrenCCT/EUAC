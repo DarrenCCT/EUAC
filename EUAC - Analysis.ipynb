{
 "cells": [
  {
   "cell_type": "markdown",
   "id": "aab484f2",
   "metadata": {},
   "source": [
    "# 1. Introduction"
   ]
  },
  {
   "cell_type": "markdown",
   "id": "c3fc7e4d",
   "metadata": {},
   "source": [
    "This is the third notebook for the EUAC; After Data Collection and Data Cleaning. <br>\n",
    "The purpose of this notebook is to do analysis on the data. This can include player/tournament statistics or discovering hidden insights. <br>\n",
    "The project exists as there is currently no way to get this information"
   ]
  },
  {
   "cell_type": "markdown",
   "id": "60ff104d",
   "metadata": {},
   "source": [
    "# 2. Import Libraries and Setup"
   ]
  },
  {
   "cell_type": "code",
   "execution_count": 61,
   "id": "12309abb",
   "metadata": {},
   "outputs": [],
   "source": [
    "import pandas as pd\n",
    "import seaborn as sns\n",
    "import matplotlib.pyplot as plt\n",
    "import numpy as np"
   ]
  },
  {
   "cell_type": "code",
   "execution_count": 62,
   "id": "16a47130",
   "metadata": {},
   "outputs": [],
   "source": [
    "df = pd.read_csv(\"CleanedSets.csv\")\n",
    "playerdf = pd.read_csv(\"CleanedDetails.csv\")"
   ]
  },
  {
   "cell_type": "code",
   "execution_count": 63,
   "id": "48d937df",
   "metadata": {},
   "outputs": [
    {
     "data": {
      "text/html": [
       "<div>\n",
       "<style scoped>\n",
       "    .dataframe tbody tr th:only-of-type {\n",
       "        vertical-align: middle;\n",
       "    }\n",
       "\n",
       "    .dataframe tbody tr th {\n",
       "        vertical-align: top;\n",
       "    }\n",
       "\n",
       "    .dataframe thead th {\n",
       "        text-align: right;\n",
       "    }\n",
       "</style>\n",
       "<table border=\"1\" class=\"dataframe\">\n",
       "  <thead>\n",
       "    <tr style=\"text-align: right;\">\n",
       "      <th></th>\n",
       "      <th>Player1</th>\n",
       "      <th>Player2</th>\n",
       "      <th>Winner</th>\n",
       "      <th>Score</th>\n",
       "      <th>Loser</th>\n",
       "      <th>MatchNo</th>\n",
       "      <th>EUAC</th>\n",
       "      <th>Date</th>\n",
       "      <th>P1 Seed</th>\n",
       "      <th>P1 Placement</th>\n",
       "      <th>P2 Seed</th>\n",
       "      <th>P2 Placement</th>\n",
       "      <th>Tournament No</th>\n",
       "    </tr>\n",
       "  </thead>\n",
       "  <tbody>\n",
       "    <tr>\n",
       "      <th>0</th>\n",
       "      <td>Alumento</td>\n",
       "      <td>Owdy</td>\n",
       "      <td>Alumento</td>\n",
       "      <td>2-0</td>\n",
       "      <td>Owdy</td>\n",
       "      <td>1</td>\n",
       "      <td>1</td>\n",
       "      <td>2017-10-21</td>\n",
       "      <td>11</td>\n",
       "      <td>7</td>\n",
       "      <td>22</td>\n",
       "      <td>17</td>\n",
       "      <td>1</td>\n",
       "    </tr>\n",
       "    <tr>\n",
       "      <th>1</th>\n",
       "      <td>BambooBoss</td>\n",
       "      <td>FrankTank</td>\n",
       "      <td>FrankTank</td>\n",
       "      <td>2-0</td>\n",
       "      <td>BambooBoss</td>\n",
       "      <td>2</td>\n",
       "      <td>1</td>\n",
       "      <td>2017-10-21</td>\n",
       "      <td>14</td>\n",
       "      <td>13</td>\n",
       "      <td>19</td>\n",
       "      <td>5</td>\n",
       "      <td>1</td>\n",
       "    </tr>\n",
       "    <tr>\n",
       "      <th>2</th>\n",
       "      <td>Kotorious BRD</td>\n",
       "      <td>Altair</td>\n",
       "      <td>Kotorious BRD</td>\n",
       "      <td>0--1</td>\n",
       "      <td>Altair</td>\n",
       "      <td>3</td>\n",
       "      <td>1</td>\n",
       "      <td>2017-10-21</td>\n",
       "      <td>15</td>\n",
       "      <td>13</td>\n",
       "      <td>18</td>\n",
       "      <td>17</td>\n",
       "      <td>1</td>\n",
       "    </tr>\n",
       "    <tr>\n",
       "      <th>3</th>\n",
       "      <td>RD | | Dushni</td>\n",
       "      <td>Raffa_</td>\n",
       "      <td>Raffa_</td>\n",
       "      <td>2-0</td>\n",
       "      <td>RD | | Dushni</td>\n",
       "      <td>4</td>\n",
       "      <td>1</td>\n",
       "      <td>2017-10-21</td>\n",
       "      <td>12</td>\n",
       "      <td>17</td>\n",
       "      <td>21</td>\n",
       "      <td>4</td>\n",
       "      <td>1</td>\n",
       "    </tr>\n",
       "    <tr>\n",
       "      <th>4</th>\n",
       "      <td>InkA_</td>\n",
       "      <td>D2S_Maxou</td>\n",
       "      <td>InkA_</td>\n",
       "      <td>2-1</td>\n",
       "      <td>D2S_Maxou</td>\n",
       "      <td>5</td>\n",
       "      <td>1</td>\n",
       "      <td>2017-10-21</td>\n",
       "      <td>13</td>\n",
       "      <td>9</td>\n",
       "      <td>20</td>\n",
       "      <td>1</td>\n",
       "      <td>1</td>\n",
       "    </tr>\n",
       "  </tbody>\n",
       "</table>\n",
       "</div>"
      ],
      "text/plain": [
       "         Player1    Player2         Winner Score          Loser  MatchNo EUAC  \\\n",
       "0       Alumento       Owdy       Alumento   2-0           Owdy        1    1   \n",
       "1     BambooBoss  FrankTank      FrankTank   2-0     BambooBoss        2    1   \n",
       "2  Kotorious BRD     Altair  Kotorious BRD  0--1         Altair        3    1   \n",
       "3  RD | | Dushni     Raffa_         Raffa_   2-0  RD | | Dushni        4    1   \n",
       "4          InkA_  D2S_Maxou          InkA_   2-1      D2S_Maxou        5    1   \n",
       "\n",
       "         Date  P1 Seed  P1 Placement  P2 Seed  P2 Placement  Tournament No  \n",
       "0  2017-10-21       11             7       22            17              1  \n",
       "1  2017-10-21       14            13       19             5              1  \n",
       "2  2017-10-21       15            13       18            17              1  \n",
       "3  2017-10-21       12            17       21             4              1  \n",
       "4  2017-10-21       13             9       20             1              1  "
      ]
     },
     "execution_count": 63,
     "metadata": {},
     "output_type": "execute_result"
    }
   ],
   "source": [
    "df.head()"
   ]
  },
  {
   "cell_type": "code",
   "execution_count": 64,
   "id": "be52d83c",
   "metadata": {
    "scrolled": false
   },
   "outputs": [
    {
     "data": {
      "text/html": [
       "<div>\n",
       "<style scoped>\n",
       "    .dataframe tbody tr th:only-of-type {\n",
       "        vertical-align: middle;\n",
       "    }\n",
       "\n",
       "    .dataframe tbody tr th {\n",
       "        vertical-align: top;\n",
       "    }\n",
       "\n",
       "    .dataframe thead th {\n",
       "        text-align: right;\n",
       "    }\n",
       "</style>\n",
       "<table border=\"1\" class=\"dataframe\">\n",
       "  <thead>\n",
       "    <tr style=\"text-align: right;\">\n",
       "      <th></th>\n",
       "      <th>Start ID</th>\n",
       "      <th>Challonge ID</th>\n",
       "      <th>Player_Map</th>\n",
       "      <th>Player</th>\n",
       "    </tr>\n",
       "  </thead>\n",
       "  <tbody>\n",
       "    <tr>\n",
       "      <th>0</th>\n",
       "      <td>0</td>\n",
       "      <td>164493</td>\n",
       "      <td>2ednar</td>\n",
       "      <td>2ednar</td>\n",
       "    </tr>\n",
       "    <tr>\n",
       "      <th>1</th>\n",
       "      <td>0</td>\n",
       "      <td>2992428</td>\n",
       "      <td>AU_Leenykins</td>\n",
       "      <td>AU_Leenykins</td>\n",
       "    </tr>\n",
       "    <tr>\n",
       "      <th>2</th>\n",
       "      <td>0</td>\n",
       "      <td>2942327</td>\n",
       "      <td>Alfon42</td>\n",
       "      <td>Alfon42</td>\n",
       "    </tr>\n",
       "    <tr>\n",
       "      <th>3</th>\n",
       "      <td>0</td>\n",
       "      <td>4324849</td>\n",
       "      <td>Alistair__</td>\n",
       "      <td>Alistair13</td>\n",
       "    </tr>\n",
       "    <tr>\n",
       "      <th>4</th>\n",
       "      <td>0</td>\n",
       "      <td>5390120</td>\n",
       "      <td>Alistair__</td>\n",
       "      <td>Alistair__</td>\n",
       "    </tr>\n",
       "  </tbody>\n",
       "</table>\n",
       "</div>"
      ],
      "text/plain": [
       "   Start ID  Challonge ID    Player_Map        Player\n",
       "0         0        164493        2ednar        2ednar\n",
       "1         0       2992428  AU_Leenykins  AU_Leenykins\n",
       "2         0       2942327       Alfon42       Alfon42\n",
       "3         0       4324849    Alistair__    Alistair13\n",
       "4         0       5390120    Alistair__    Alistair__"
      ]
     },
     "execution_count": 64,
     "metadata": {},
     "output_type": "execute_result"
    }
   ],
   "source": [
    "playerdf.head()"
   ]
  },
  {
   "cell_type": "markdown",
   "id": "5610e8c7",
   "metadata": {},
   "source": [
    "# 3. Data Overview"
   ]
  },
  {
   "cell_type": "code",
   "execution_count": 65,
   "id": "f622e449",
   "metadata": {
    "scrolled": true
   },
   "outputs": [
    {
     "name": "stdout",
     "output_type": "stream",
     "text": [
      "<class 'pandas.core.frame.DataFrame'>\n",
      "RangeIndex: 2187 entries, 0 to 2186\n",
      "Data columns (total 13 columns):\n",
      " #   Column         Non-Null Count  Dtype \n",
      "---  ------         --------------  ----- \n",
      " 0   Player1        2187 non-null   object\n",
      " 1   Player2        2187 non-null   object\n",
      " 2   Winner         2187 non-null   object\n",
      " 3   Score          2187 non-null   object\n",
      " 4   Loser          2187 non-null   object\n",
      " 5   MatchNo        2187 non-null   int64 \n",
      " 6   EUAC           2187 non-null   object\n",
      " 7   Date           2187 non-null   object\n",
      " 8   P1 Seed        2187 non-null   int64 \n",
      " 9   P1 Placement   2187 non-null   int64 \n",
      " 10  P2 Seed        2187 non-null   int64 \n",
      " 11  P2 Placement   2187 non-null   int64 \n",
      " 12  Tournament No  2187 non-null   int64 \n",
      "dtypes: int64(6), object(7)\n",
      "memory usage: 222.2+ KB\n"
     ]
    }
   ],
   "source": [
    "df.info()"
   ]
  },
  {
   "cell_type": "code",
   "execution_count": 66,
   "id": "09d92dea",
   "metadata": {
    "scrolled": true
   },
   "outputs": [
    {
     "name": "stdout",
     "output_type": "stream",
     "text": [
      "<class 'pandas.core.frame.DataFrame'>\n",
      "RangeIndex: 135 entries, 0 to 134\n",
      "Data columns (total 4 columns):\n",
      " #   Column        Non-Null Count  Dtype \n",
      "---  ------        --------------  ----- \n",
      " 0   Start ID      135 non-null    int64 \n",
      " 1   Challonge ID  135 non-null    int64 \n",
      " 2   Player_Map    135 non-null    object\n",
      " 3   Player        135 non-null    object\n",
      "dtypes: int64(2), object(2)\n",
      "memory usage: 4.3+ KB\n"
     ]
    }
   ],
   "source": [
    "playerdf.info()"
   ]
  },
  {
   "cell_type": "code",
   "execution_count": 67,
   "id": "a345d22d",
   "metadata": {
    "scrolled": false
   },
   "outputs": [
    {
     "data": {
      "text/html": [
       "<div>\n",
       "<style scoped>\n",
       "    .dataframe tbody tr th:only-of-type {\n",
       "        vertical-align: middle;\n",
       "    }\n",
       "\n",
       "    .dataframe tbody tr th {\n",
       "        vertical-align: top;\n",
       "    }\n",
       "\n",
       "    .dataframe thead th {\n",
       "        text-align: right;\n",
       "    }\n",
       "</style>\n",
       "<table border=\"1\" class=\"dataframe\">\n",
       "  <thead>\n",
       "    <tr style=\"text-align: right;\">\n",
       "      <th></th>\n",
       "      <th>MatchNo</th>\n",
       "      <th>P1 Seed</th>\n",
       "      <th>P1 Placement</th>\n",
       "      <th>P2 Seed</th>\n",
       "      <th>P2 Placement</th>\n",
       "      <th>Tournament No</th>\n",
       "    </tr>\n",
       "  </thead>\n",
       "  <tbody>\n",
       "    <tr>\n",
       "      <th>count</th>\n",
       "      <td>2187.000000</td>\n",
       "      <td>2187.000000</td>\n",
       "      <td>2187.000000</td>\n",
       "      <td>2187.000000</td>\n",
       "      <td>2187.000000</td>\n",
       "      <td>2187.000000</td>\n",
       "    </tr>\n",
       "    <tr>\n",
       "      <th>mean</th>\n",
       "      <td>11.574303</td>\n",
       "      <td>4.479195</td>\n",
       "      <td>4.236854</td>\n",
       "      <td>6.924554</td>\n",
       "      <td>5.653406</td>\n",
       "      <td>50.218107</td>\n",
       "    </tr>\n",
       "    <tr>\n",
       "      <th>std</th>\n",
       "      <td>7.840901</td>\n",
       "      <td>3.373773</td>\n",
       "      <td>2.900556</td>\n",
       "      <td>3.992133</td>\n",
       "      <td>3.365320</td>\n",
       "      <td>32.214550</td>\n",
       "    </tr>\n",
       "    <tr>\n",
       "      <th>min</th>\n",
       "      <td>1.000000</td>\n",
       "      <td>1.000000</td>\n",
       "      <td>1.000000</td>\n",
       "      <td>1.000000</td>\n",
       "      <td>1.000000</td>\n",
       "      <td>1.000000</td>\n",
       "    </tr>\n",
       "    <tr>\n",
       "      <th>25%</th>\n",
       "      <td>5.000000</td>\n",
       "      <td>2.000000</td>\n",
       "      <td>2.000000</td>\n",
       "      <td>4.000000</td>\n",
       "      <td>3.000000</td>\n",
       "      <td>21.000000</td>\n",
       "    </tr>\n",
       "    <tr>\n",
       "      <th>50%</th>\n",
       "      <td>10.000000</td>\n",
       "      <td>4.000000</td>\n",
       "      <td>4.000000</td>\n",
       "      <td>6.000000</td>\n",
       "      <td>5.000000</td>\n",
       "      <td>49.000000</td>\n",
       "    </tr>\n",
       "    <tr>\n",
       "      <th>75%</th>\n",
       "      <td>16.000000</td>\n",
       "      <td>6.000000</td>\n",
       "      <td>5.000000</td>\n",
       "      <td>9.000000</td>\n",
       "      <td>9.000000</td>\n",
       "      <td>75.000000</td>\n",
       "    </tr>\n",
       "    <tr>\n",
       "      <th>max</th>\n",
       "      <td>49.000000</td>\n",
       "      <td>25.000000</td>\n",
       "      <td>17.000000</td>\n",
       "      <td>25.000000</td>\n",
       "      <td>25.000000</td>\n",
       "      <td>111.000000</td>\n",
       "    </tr>\n",
       "  </tbody>\n",
       "</table>\n",
       "</div>"
      ],
      "text/plain": [
       "           MatchNo      P1 Seed  P1 Placement      P2 Seed  P2 Placement  \\\n",
       "count  2187.000000  2187.000000   2187.000000  2187.000000   2187.000000   \n",
       "mean     11.574303     4.479195      4.236854     6.924554      5.653406   \n",
       "std       7.840901     3.373773      2.900556     3.992133      3.365320   \n",
       "min       1.000000     1.000000      1.000000     1.000000      1.000000   \n",
       "25%       5.000000     2.000000      2.000000     4.000000      3.000000   \n",
       "50%      10.000000     4.000000      4.000000     6.000000      5.000000   \n",
       "75%      16.000000     6.000000      5.000000     9.000000      9.000000   \n",
       "max      49.000000    25.000000     17.000000    25.000000     25.000000   \n",
       "\n",
       "       Tournament No  \n",
       "count    2187.000000  \n",
       "mean       50.218107  \n",
       "std        32.214550  \n",
       "min         1.000000  \n",
       "25%        21.000000  \n",
       "50%        49.000000  \n",
       "75%        75.000000  \n",
       "max       111.000000  "
      ]
     },
     "execution_count": 67,
     "metadata": {},
     "output_type": "execute_result"
    }
   ],
   "source": [
    "df.describe()"
   ]
  },
  {
   "cell_type": "code",
   "execution_count": 68,
   "id": "449790ce",
   "metadata": {
    "scrolled": true
   },
   "outputs": [
    {
     "data": {
      "text/plain": [
       "Player1          0\n",
       "Player2          0\n",
       "Winner           0\n",
       "Score            0\n",
       "Loser            0\n",
       "MatchNo          0\n",
       "EUAC             0\n",
       "Date             0\n",
       "P1 Seed          0\n",
       "P1 Placement     0\n",
       "P2 Seed          0\n",
       "P2 Placement     0\n",
       "Tournament No    0\n",
       "dtype: int64"
      ]
     },
     "execution_count": 68,
     "metadata": {},
     "output_type": "execute_result"
    }
   ],
   "source": [
    "df.isnull().sum()"
   ]
  },
  {
   "cell_type": "code",
   "execution_count": 69,
   "id": "fa47d354",
   "metadata": {},
   "outputs": [
    {
     "data": {
      "text/plain": [
       "(2187, 13)"
      ]
     },
     "execution_count": 69,
     "metadata": {},
     "output_type": "execute_result"
    }
   ],
   "source": [
    "df.shape"
   ]
  },
  {
   "cell_type": "code",
   "execution_count": 70,
   "id": "29b56667",
   "metadata": {},
   "outputs": [
    {
     "data": {
      "text/plain": [
       "(135, 4)"
      ]
     },
     "execution_count": 70,
     "metadata": {},
     "output_type": "execute_result"
    }
   ],
   "source": [
    "playerdf.shape"
   ]
  },
  {
   "cell_type": "markdown",
   "id": "ddd47a00",
   "metadata": {},
   "source": [
    "# 4. Player Overview"
   ]
  },
  {
   "cell_type": "markdown",
   "id": "d174ead8",
   "metadata": {},
   "source": [
    "## 4.1 Most Active Players"
   ]
  },
  {
   "cell_type": "code",
   "execution_count": 71,
   "id": "9718f9cd",
   "metadata": {},
   "outputs": [],
   "source": [
    "# Function to count EUACs entered given a player name\n",
    "def no_of_euac_entered(df, person):\n",
    "    try:\n",
    "        tempdf = df[df.apply(lambda row: row.astype(str).str.contains(person).any(), axis = 1)]\n",
    "        return len(tempdf[\"EUAC\"].unique())\n",
    "    except:\n",
    "        print(f\"{person} not found in database\")"
   ]
  },
  {
   "cell_type": "code",
   "execution_count": 72,
   "id": "f81e25c5",
   "metadata": {},
   "outputs": [],
   "source": [
    "# Add EUAC Appearances as a column to playerdf after running function on every player in database\n",
    "array  = []\n",
    "for i in playerdf[\"Player\"]:\n",
    "    array.append(no_of_euac_entered(df,i))\n",
    "playerdf[\"EUAC Appearances\"] = array"
   ]
  },
  {
   "cell_type": "code",
   "execution_count": 73,
   "id": "7db75f80",
   "metadata": {
    "scrolled": false
   },
   "outputs": [
    {
     "data": {
      "text/html": [
       "<div>\n",
       "<style scoped>\n",
       "    .dataframe tbody tr th:only-of-type {\n",
       "        vertical-align: middle;\n",
       "    }\n",
       "\n",
       "    .dataframe tbody tr th {\n",
       "        vertical-align: top;\n",
       "    }\n",
       "\n",
       "    .dataframe thead th {\n",
       "        text-align: right;\n",
       "    }\n",
       "</style>\n",
       "<table border=\"1\" class=\"dataframe\">\n",
       "  <thead>\n",
       "    <tr style=\"text-align: right;\">\n",
       "      <th></th>\n",
       "      <th>Start ID</th>\n",
       "      <th>Challonge ID</th>\n",
       "      <th>Player_Map</th>\n",
       "      <th>Player</th>\n",
       "      <th>EUAC Appearances</th>\n",
       "    </tr>\n",
       "  </thead>\n",
       "  <tbody>\n",
       "    <tr>\n",
       "      <th>0</th>\n",
       "      <td>0</td>\n",
       "      <td>164493</td>\n",
       "      <td>2ednar</td>\n",
       "      <td>2ednar</td>\n",
       "      <td>1</td>\n",
       "    </tr>\n",
       "    <tr>\n",
       "      <th>1</th>\n",
       "      <td>0</td>\n",
       "      <td>2992428</td>\n",
       "      <td>AU_Leenykins</td>\n",
       "      <td>AU_Leenykins</td>\n",
       "      <td>2</td>\n",
       "    </tr>\n",
       "    <tr>\n",
       "      <th>2</th>\n",
       "      <td>0</td>\n",
       "      <td>2942327</td>\n",
       "      <td>Alfon42</td>\n",
       "      <td>Alfon42</td>\n",
       "      <td>10</td>\n",
       "    </tr>\n",
       "    <tr>\n",
       "      <th>3</th>\n",
       "      <td>0</td>\n",
       "      <td>4324849</td>\n",
       "      <td>Alistair__</td>\n",
       "      <td>Alistair13</td>\n",
       "      <td>4</td>\n",
       "    </tr>\n",
       "    <tr>\n",
       "      <th>4</th>\n",
       "      <td>0</td>\n",
       "      <td>5390120</td>\n",
       "      <td>Alistair__</td>\n",
       "      <td>Alistair__</td>\n",
       "      <td>14</td>\n",
       "    </tr>\n",
       "  </tbody>\n",
       "</table>\n",
       "</div>"
      ],
      "text/plain": [
       "   Start ID  Challonge ID    Player_Map        Player  EUAC Appearances\n",
       "0         0        164493        2ednar        2ednar                 1\n",
       "1         0       2992428  AU_Leenykins  AU_Leenykins                 2\n",
       "2         0       2942327       Alfon42       Alfon42                10\n",
       "3         0       4324849    Alistair__    Alistair13                 4\n",
       "4         0       5390120    Alistair__    Alistair__                14"
      ]
     },
     "execution_count": 73,
     "metadata": {},
     "output_type": "execute_result"
    }
   ],
   "source": [
    "playerdf.head()"
   ]
  },
  {
   "cell_type": "code",
   "execution_count": 74,
   "id": "fc2708af",
   "metadata": {},
   "outputs": [],
   "source": [
    "# Create a seperate dataframe for stats. Easier to read \n",
    "statsdf = playerdf.copy()"
   ]
  },
  {
   "cell_type": "code",
   "execution_count": 75,
   "id": "167956f4",
   "metadata": {},
   "outputs": [
    {
     "data": {
      "text/html": [
       "<div>\n",
       "<style scoped>\n",
       "    .dataframe tbody tr th:only-of-type {\n",
       "        vertical-align: middle;\n",
       "    }\n",
       "\n",
       "    .dataframe tbody tr th {\n",
       "        vertical-align: top;\n",
       "    }\n",
       "\n",
       "    .dataframe thead th {\n",
       "        text-align: right;\n",
       "    }\n",
       "</style>\n",
       "<table border=\"1\" class=\"dataframe\">\n",
       "  <thead>\n",
       "    <tr style=\"text-align: right;\">\n",
       "      <th></th>\n",
       "      <th>Start ID</th>\n",
       "      <th>Challonge ID</th>\n",
       "      <th>Player_Map</th>\n",
       "      <th>Player</th>\n",
       "      <th>EUAC Appearances</th>\n",
       "    </tr>\n",
       "  </thead>\n",
       "  <tbody>\n",
       "    <tr>\n",
       "      <th>0</th>\n",
       "      <td>0</td>\n",
       "      <td>164493</td>\n",
       "      <td>2ednar</td>\n",
       "      <td>2ednar</td>\n",
       "      <td>1</td>\n",
       "    </tr>\n",
       "    <tr>\n",
       "      <th>1</th>\n",
       "      <td>0</td>\n",
       "      <td>2992428</td>\n",
       "      <td>AU_Leenykins</td>\n",
       "      <td>AU_Leenykins</td>\n",
       "      <td>2</td>\n",
       "    </tr>\n",
       "    <tr>\n",
       "      <th>2</th>\n",
       "      <td>0</td>\n",
       "      <td>2942327</td>\n",
       "      <td>Alfon42</td>\n",
       "      <td>Alfon42</td>\n",
       "      <td>10</td>\n",
       "    </tr>\n",
       "    <tr>\n",
       "      <th>3</th>\n",
       "      <td>0</td>\n",
       "      <td>4324849</td>\n",
       "      <td>Alistair__</td>\n",
       "      <td>Alistair13</td>\n",
       "      <td>4</td>\n",
       "    </tr>\n",
       "    <tr>\n",
       "      <th>4</th>\n",
       "      <td>0</td>\n",
       "      <td>5390120</td>\n",
       "      <td>Alistair__</td>\n",
       "      <td>Alistair__</td>\n",
       "      <td>14</td>\n",
       "    </tr>\n",
       "  </tbody>\n",
       "</table>\n",
       "</div>"
      ],
      "text/plain": [
       "   Start ID  Challonge ID    Player_Map        Player  EUAC Appearances\n",
       "0         0        164493        2ednar        2ednar                 1\n",
       "1         0       2992428  AU_Leenykins  AU_Leenykins                 2\n",
       "2         0       2942327       Alfon42       Alfon42                10\n",
       "3         0       4324849    Alistair__    Alistair13                 4\n",
       "4         0       5390120    Alistair__    Alistair__                14"
      ]
     },
     "execution_count": 75,
     "metadata": {},
     "output_type": "execute_result"
    }
   ],
   "source": [
    "playerdf.head()"
   ]
  },
  {
   "cell_type": "code",
   "execution_count": 76,
   "id": "a970004e",
   "metadata": {},
   "outputs": [],
   "source": [
    "statsdf.drop([\"Start ID\", \"Challonge ID\", \"Player\"],axis=1, inplace=True)"
   ]
  },
  {
   "cell_type": "code",
   "execution_count": 77,
   "id": "032d0b07",
   "metadata": {},
   "outputs": [
    {
     "data": {
      "text/html": [
       "<div>\n",
       "<style scoped>\n",
       "    .dataframe tbody tr th:only-of-type {\n",
       "        vertical-align: middle;\n",
       "    }\n",
       "\n",
       "    .dataframe tbody tr th {\n",
       "        vertical-align: top;\n",
       "    }\n",
       "\n",
       "    .dataframe thead th {\n",
       "        text-align: right;\n",
       "    }\n",
       "</style>\n",
       "<table border=\"1\" class=\"dataframe\">\n",
       "  <thead>\n",
       "    <tr style=\"text-align: right;\">\n",
       "      <th></th>\n",
       "      <th>Start ID</th>\n",
       "      <th>Challonge ID</th>\n",
       "      <th>Player_Map</th>\n",
       "      <th>Player</th>\n",
       "      <th>EUAC Appearances</th>\n",
       "    </tr>\n",
       "  </thead>\n",
       "  <tbody>\n",
       "    <tr>\n",
       "      <th>0</th>\n",
       "      <td>0</td>\n",
       "      <td>164493</td>\n",
       "      <td>2ednar</td>\n",
       "      <td>2ednar</td>\n",
       "      <td>1</td>\n",
       "    </tr>\n",
       "    <tr>\n",
       "      <th>1</th>\n",
       "      <td>0</td>\n",
       "      <td>2992428</td>\n",
       "      <td>AU_Leenykins</td>\n",
       "      <td>AU_Leenykins</td>\n",
       "      <td>2</td>\n",
       "    </tr>\n",
       "    <tr>\n",
       "      <th>2</th>\n",
       "      <td>0</td>\n",
       "      <td>2942327</td>\n",
       "      <td>Alfon42</td>\n",
       "      <td>Alfon42</td>\n",
       "      <td>10</td>\n",
       "    </tr>\n",
       "    <tr>\n",
       "      <th>3</th>\n",
       "      <td>0</td>\n",
       "      <td>4324849</td>\n",
       "      <td>Alistair__</td>\n",
       "      <td>Alistair13</td>\n",
       "      <td>4</td>\n",
       "    </tr>\n",
       "    <tr>\n",
       "      <th>4</th>\n",
       "      <td>0</td>\n",
       "      <td>5390120</td>\n",
       "      <td>Alistair__</td>\n",
       "      <td>Alistair__</td>\n",
       "      <td>14</td>\n",
       "    </tr>\n",
       "  </tbody>\n",
       "</table>\n",
       "</div>"
      ],
      "text/plain": [
       "   Start ID  Challonge ID    Player_Map        Player  EUAC Appearances\n",
       "0         0        164493        2ednar        2ednar                 1\n",
       "1         0       2992428  AU_Leenykins  AU_Leenykins                 2\n",
       "2         0       2942327       Alfon42       Alfon42                10\n",
       "3         0       4324849    Alistair__    Alistair13                 4\n",
       "4         0       5390120    Alistair__    Alistair__                14"
      ]
     },
     "execution_count": 77,
     "metadata": {},
     "output_type": "execute_result"
    }
   ],
   "source": [
    "playerdf.head()"
   ]
  },
  {
   "cell_type": "code",
   "execution_count": 78,
   "id": "1cdc0411",
   "metadata": {},
   "outputs": [
    {
     "data": {
      "text/html": [
       "<div>\n",
       "<style scoped>\n",
       "    .dataframe tbody tr th:only-of-type {\n",
       "        vertical-align: middle;\n",
       "    }\n",
       "\n",
       "    .dataframe tbody tr th {\n",
       "        vertical-align: top;\n",
       "    }\n",
       "\n",
       "    .dataframe thead th {\n",
       "        text-align: right;\n",
       "    }\n",
       "</style>\n",
       "<table border=\"1\" class=\"dataframe\">\n",
       "  <thead>\n",
       "    <tr style=\"text-align: right;\">\n",
       "      <th></th>\n",
       "      <th>Player_Map</th>\n",
       "      <th>EUAC Appearances</th>\n",
       "    </tr>\n",
       "  </thead>\n",
       "  <tbody>\n",
       "    <tr>\n",
       "      <th>0</th>\n",
       "      <td>2ednar</td>\n",
       "      <td>1</td>\n",
       "    </tr>\n",
       "    <tr>\n",
       "      <th>1</th>\n",
       "      <td>AU_Leenykins</td>\n",
       "      <td>2</td>\n",
       "    </tr>\n",
       "    <tr>\n",
       "      <th>2</th>\n",
       "      <td>Alfon42</td>\n",
       "      <td>10</td>\n",
       "    </tr>\n",
       "    <tr>\n",
       "      <th>3</th>\n",
       "      <td>Alistair__</td>\n",
       "      <td>4</td>\n",
       "    </tr>\n",
       "    <tr>\n",
       "      <th>4</th>\n",
       "      <td>Alistair__</td>\n",
       "      <td>14</td>\n",
       "    </tr>\n",
       "  </tbody>\n",
       "</table>\n",
       "</div>"
      ],
      "text/plain": [
       "     Player_Map  EUAC Appearances\n",
       "0        2ednar                 1\n",
       "1  AU_Leenykins                 2\n",
       "2       Alfon42                10\n",
       "3    Alistair__                 4\n",
       "4    Alistair__                14"
      ]
     },
     "execution_count": 78,
     "metadata": {},
     "output_type": "execute_result"
    }
   ],
   "source": [
    "statsdf.head()"
   ]
  },
  {
   "cell_type": "code",
   "execution_count": 79,
   "id": "28fbbb15",
   "metadata": {},
   "outputs": [],
   "source": [
    "# Group by unique player. Sum appearances\n",
    "statsdf = statsdf.groupby([\"Player_Map\"])[\"EUAC Appearances\"].sum().reset_index()"
   ]
  },
  {
   "cell_type": "code",
   "execution_count": 80,
   "id": "44585295",
   "metadata": {},
   "outputs": [
    {
     "data": {
      "text/plain": [
       "9.28125"
      ]
     },
     "execution_count": 80,
     "metadata": {},
     "output_type": "execute_result"
    }
   ],
   "source": [
    "# Average EUAC appearances per player\n",
    "statsdf['EUAC Appearances'].mean()"
   ]
  },
  {
   "cell_type": "code",
   "execution_count": 81,
   "id": "abac1c28",
   "metadata": {},
   "outputs": [
    {
     "data": {
      "text/plain": [
       "2.0"
      ]
     },
     "execution_count": 81,
     "metadata": {},
     "output_type": "execute_result"
    }
   ],
   "source": [
    "# Median\n",
    "statsdf['EUAC Appearances'].median()"
   ]
  },
  {
   "cell_type": "code",
   "execution_count": 82,
   "id": "339e3a7d",
   "metadata": {},
   "outputs": [
    {
     "data": {
      "text/plain": [
       "0    1\n",
       "Name: EUAC Appearances, dtype: int64"
      ]
     },
     "execution_count": 82,
     "metadata": {},
     "output_type": "execute_result"
    }
   ],
   "source": [
    "statsdf['EUAC Appearances'].mode()"
   ]
  },
  {
   "cell_type": "markdown",
   "id": "a8f80a69",
   "metadata": {},
   "source": [
    "A median less than mean suggests that the distribtion will be right skewed"
   ]
  },
  {
   "cell_type": "code",
   "execution_count": 83,
   "id": "36138088",
   "metadata": {
    "scrolled": false
   },
   "outputs": [
    {
     "data": {
      "text/plain": [
       "Text(0.5, 1.0, 'Distribution of EUAC Appearances')"
      ]
     },
     "execution_count": 83,
     "metadata": {},
     "output_type": "execute_result"
    },
    {
     "data": {
      "image/png": "[encoded data removed]",
      "text/plain": [
       "<Figure size 432x288 with 1 Axes>"
      ]
     },
     "metadata": {
      "needs_background": "light"
     },
     "output_type": "display_data"
    }
   ],
   "source": [
    "# Histogram of EUAC Appearances\n",
    "statsdf['EUAC Appearances'].hist()\n",
    "\n",
    "# add labels and title\n",
    "plt.xlabel('EUAC Appearances')\n",
    "plt.ylabel('Frequency')\n",
    "plt.title('Distribution of EUAC Appearances')"
   ]
  },
  {
   "cell_type": "code",
   "execution_count": 84,
   "id": "0bcb37b1",
   "metadata": {
    "scrolled": true
   },
   "outputs": [
    {
     "data": {
      "image/png": "[encoded data removed]",
      "text/plain": [
       "<Figure size 432x288 with 1 Axes>"
      ]
     },
     "metadata": {
      "needs_background": "light"
     },
     "output_type": "display_data"
    }
   ],
   "source": [
    "# Histogram with KDE curve\n",
    "sns.histplot(statsdf['EUAC Appearances'], kde=True, bins=20)\n",
    "\n",
    "# Labels and title\n",
    "plt.xlabel('EUAC Appearances')\n",
    "plt.ylabel('Frequency')\n",
    "plt.title('Distribution of EUAC Appearances')\n",
    "plt.show()"
   ]
  },
  {
   "cell_type": "code",
   "execution_count": 85,
   "id": "5c607e3c",
   "metadata": {
    "scrolled": true
   },
   "outputs": [
    {
     "data": {
      "text/html": [
       "<div>\n",
       "<style scoped>\n",
       "    .dataframe tbody tr th:only-of-type {\n",
       "        vertical-align: middle;\n",
       "    }\n",
       "\n",
       "    .dataframe tbody tr th {\n",
       "        vertical-align: top;\n",
       "    }\n",
       "\n",
       "    .dataframe thead th {\n",
       "        text-align: right;\n",
       "    }\n",
       "</style>\n",
       "<table border=\"1\" class=\"dataframe\">\n",
       "  <thead>\n",
       "    <tr style=\"text-align: right;\">\n",
       "      <th></th>\n",
       "      <th>Player_Map</th>\n",
       "      <th>EUAC Appearances</th>\n",
       "    </tr>\n",
       "  </thead>\n",
       "  <tbody>\n",
       "    <tr>\n",
       "      <th>108</th>\n",
       "      <td>YoshiBowser</td>\n",
       "      <td>104</td>\n",
       "    </tr>\n",
       "    <tr>\n",
       "      <th>83</th>\n",
       "      <td>Ripha</td>\n",
       "      <td>97</td>\n",
       "    </tr>\n",
       "    <tr>\n",
       "      <th>107</th>\n",
       "      <td>Yamber</td>\n",
       "      <td>85</td>\n",
       "    </tr>\n",
       "    <tr>\n",
       "      <th>38</th>\n",
       "      <td>Iceman92</td>\n",
       "      <td>62</td>\n",
       "    </tr>\n",
       "    <tr>\n",
       "      <th>118</th>\n",
       "      <td>ocrim_ger</td>\n",
       "      <td>62</td>\n",
       "    </tr>\n",
       "    <tr>\n",
       "      <th>39</th>\n",
       "      <td>Iloria</td>\n",
       "      <td>50</td>\n",
       "    </tr>\n",
       "    <tr>\n",
       "      <th>76</th>\n",
       "      <td>Penzo</td>\n",
       "      <td>47</td>\n",
       "    </tr>\n",
       "    <tr>\n",
       "      <th>35</th>\n",
       "      <td>Grimwood96</td>\n",
       "      <td>46</td>\n",
       "    </tr>\n",
       "    <tr>\n",
       "      <th>121</th>\n",
       "      <td>replicant___</td>\n",
       "      <td>43</td>\n",
       "    </tr>\n",
       "    <tr>\n",
       "      <th>64</th>\n",
       "      <td>Mortal_Instrument</td>\n",
       "      <td>33</td>\n",
       "    </tr>\n",
       "  </tbody>\n",
       "</table>\n",
       "</div>"
      ],
      "text/plain": [
       "            Player_Map  EUAC Appearances\n",
       "108        YoshiBowser               104\n",
       "83               Ripha                97\n",
       "107             Yamber                85\n",
       "38            Iceman92                62\n",
       "118          ocrim_ger                62\n",
       "39              Iloria                50\n",
       "76               Penzo                47\n",
       "35          Grimwood96                46\n",
       "121       replicant___                43\n",
       "64   Mortal_Instrument                33"
      ]
     },
     "execution_count": 85,
     "metadata": {},
     "output_type": "execute_result"
    }
   ],
   "source": [
    "# 10 Most Active Players sorted by appearances\n",
    "statsdf.sort_values(by=\"EUAC Appearances\", ascending=False).head(10)"
   ]
  },
  {
   "cell_type": "code",
   "execution_count": 86,
   "id": "88896d3e",
   "metadata": {},
   "outputs": [],
   "source": [
    "statsdf.to_csv(\"PlayerStats.csv\", index=False)"
   ]
  },
  {
   "cell_type": "code",
   "execution_count": 87,
   "id": "95ba4909",
   "metadata": {},
   "outputs": [
    {
     "data": {
      "text/html": [
       "<div>\n",
       "<style scoped>\n",
       "    .dataframe tbody tr th:only-of-type {\n",
       "        vertical-align: middle;\n",
       "    }\n",
       "\n",
       "    .dataframe tbody tr th {\n",
       "        vertical-align: top;\n",
       "    }\n",
       "\n",
       "    .dataframe thead th {\n",
       "        text-align: right;\n",
       "    }\n",
       "</style>\n",
       "<table border=\"1\" class=\"dataframe\">\n",
       "  <thead>\n",
       "    <tr style=\"text-align: right;\">\n",
       "      <th></th>\n",
       "      <th>Start ID</th>\n",
       "      <th>Challonge ID</th>\n",
       "      <th>Player_Map</th>\n",
       "      <th>Player</th>\n",
       "      <th>EUAC Appearances</th>\n",
       "    </tr>\n",
       "  </thead>\n",
       "  <tbody>\n",
       "    <tr>\n",
       "      <th>0</th>\n",
       "      <td>0</td>\n",
       "      <td>164493</td>\n",
       "      <td>2ednar</td>\n",
       "      <td>2ednar</td>\n",
       "      <td>1</td>\n",
       "    </tr>\n",
       "    <tr>\n",
       "      <th>1</th>\n",
       "      <td>0</td>\n",
       "      <td>2992428</td>\n",
       "      <td>AU_Leenykins</td>\n",
       "      <td>AU_Leenykins</td>\n",
       "      <td>2</td>\n",
       "    </tr>\n",
       "    <tr>\n",
       "      <th>2</th>\n",
       "      <td>0</td>\n",
       "      <td>2942327</td>\n",
       "      <td>Alfon42</td>\n",
       "      <td>Alfon42</td>\n",
       "      <td>10</td>\n",
       "    </tr>\n",
       "    <tr>\n",
       "      <th>3</th>\n",
       "      <td>0</td>\n",
       "      <td>4324849</td>\n",
       "      <td>Alistair__</td>\n",
       "      <td>Alistair13</td>\n",
       "      <td>4</td>\n",
       "    </tr>\n",
       "    <tr>\n",
       "      <th>4</th>\n",
       "      <td>0</td>\n",
       "      <td>5390120</td>\n",
       "      <td>Alistair__</td>\n",
       "      <td>Alistair__</td>\n",
       "      <td>14</td>\n",
       "    </tr>\n",
       "  </tbody>\n",
       "</table>\n",
       "</div>"
      ],
      "text/plain": [
       "   Start ID  Challonge ID    Player_Map        Player  EUAC Appearances\n",
       "0         0        164493        2ednar        2ednar                 1\n",
       "1         0       2992428  AU_Leenykins  AU_Leenykins                 2\n",
       "2         0       2942327       Alfon42       Alfon42                10\n",
       "3         0       4324849    Alistair__    Alistair13                 4\n",
       "4         0       5390120    Alistair__    Alistair__                14"
      ]
     },
     "execution_count": 87,
     "metadata": {},
     "output_type": "execute_result"
    }
   ],
   "source": [
    "playerdf.head()"
   ]
  },
  {
   "cell_type": "code",
   "execution_count": 88,
   "id": "39ba8b4c",
   "metadata": {},
   "outputs": [],
   "source": [
    "## 4.1.2 Appearance Streaks?"
   ]
  },
  {
   "cell_type": "markdown",
   "id": "a35cdc61",
   "metadata": {},
   "source": [
    "## 4.2 Win/Loss Ratio"
   ]
  },
  {
   "cell_type": "markdown",
   "id": "85121d33",
   "metadata": {},
   "source": [
    "Section for determining a player's Win/Loss ratio. <br>\n",
    "<br>\n",
    "Two win/loss ratios will be defined. One for \"match\" winrate and the other for \"set\" winrate. <br>\n",
    "Matches will be each individual match a player has played and a set is overall conclusion. <br>\n",
    "Example: Player A wins 2-1 against Player B. Match winrate for Player A is 66.6% and set winrate is 100%. Just counting this set <br>\n",
    "Due to multiple accounts existing, the number of sets/matches a player has played will be recorded too as a weight"
   ]
  },
  {
   "cell_type": "code",
   "execution_count": 92,
   "id": "9ab9ca5a",
   "metadata": {
    "scrolled": false
   },
   "outputs": [],
   "source": [
    "matchWinrateArray = []\n",
    "setWinrateArray = []\n",
    "matchCountArray = []\n",
    "setCountArray = []\n",
    "\n",
    "# For every player...\n",
    "for players in playerdf[\"Player\"]:\n",
    "    # Variables\n",
    "    set_win_count = 0\n",
    "    set_loss_count = 0\n",
    "    \n",
    "    match_win_count = 0\n",
    "    match_loss_count = 0\n",
    "    \n",
    "    set_Winrate = 0\n",
    "    match_Winrate = 0\n",
    "    \n",
    "    match_count = 0\n",
    "    set_count = 0\n",
    "    \n",
    "    # For every match get winner, loser, score...\n",
    "    for wins, losses, scores in zip(df[\"Winner\"], df[\"Loser\"], df[\"Score\"]):\n",
    "        # If player winner, increment win score\n",
    "        if wins == players:\n",
    "            set_win_count += 1\n",
    "            # Catch DQs\n",
    "            if scores == \"0--1\":\n",
    "                match_win_count += 2\n",
    "            # Not DQ, take first digit of score.\n",
    "            else:\n",
    "                match_win_count += int(scores[0])\n",
    "                match_loss_count += int(scores[-1])\n",
    "        elif losses == players:\n",
    "            set_loss_count += 1\n",
    "            # Catch DQs\n",
    "            if scores == \"0--1\":\n",
    "                match_loss_count += 2\n",
    "            # Not DQ, take first digit of score (number their opponent won by...)\n",
    "            else:\n",
    "                match_loss_count += int(scores[0])\n",
    "                match_win_count += int(scores[-1])\n",
    "                \n",
    "    # Get the match/set totals\n",
    "    set_count = set_win_count + set_loss_count\n",
    "    setCountArray.append(set_count)\n",
    "        \n",
    "    match_count = match_win_count + match_loss_count\n",
    "    matchCountArray.append(match_count)\n",
    "                \n",
    "    try:\n",
    "        # Winrate calculations\n",
    "        set_Winrate = (set_win_count/set_count) * 100\n",
    "        match_Winrate = (match_win_count/match_count) * 100\n",
    "    except ZeroDivisionError:\n",
    "        set_Winrate = 0\n",
    "        match_Winrate = 0\n",
    "        \n",
    "    # Append to arrays\n",
    "    setWinrateArray.append(set_Winrate)\n",
    "    matchWinrateArray.append(match_Winrate)\n",
    "        \n",
    "        \n",
    "# Add to playerdf dataframe\n",
    "playerdf[\"Set Winrate\"] = setWinrateArray\n",
    "playerdf[\"Match Winrate\"] = matchWinrateArray\n",
    "playerdf[\"Set Count\"] = setCountArray\n",
    "playerdf[\"Match Count\"] = matchCountArray"
   ]
  },
  {
   "cell_type": "code",
   "execution_count": 99,
   "id": "9e2f145e",
   "metadata": {},
   "outputs": [
    {
     "data": {
      "text/html": [
       "<div>\n",
       "<style scoped>\n",
       "    .dataframe tbody tr th:only-of-type {\n",
       "        vertical-align: middle;\n",
       "    }\n",
       "\n",
       "    .dataframe tbody tr th {\n",
       "        vertical-align: top;\n",
       "    }\n",
       "\n",
       "    .dataframe thead th {\n",
       "        text-align: right;\n",
       "    }\n",
       "</style>\n",
       "<table border=\"1\" class=\"dataframe\">\n",
       "  <thead>\n",
       "    <tr style=\"text-align: right;\">\n",
       "      <th></th>\n",
       "      <th>Start ID</th>\n",
       "      <th>Challonge ID</th>\n",
       "      <th>Player_Map</th>\n",
       "      <th>Player</th>\n",
       "      <th>EUAC Appearances</th>\n",
       "      <th>Set Winrate</th>\n",
       "      <th>Match Winrate</th>\n",
       "      <th>Set Count</th>\n",
       "      <th>Match Count</th>\n",
       "    </tr>\n",
       "  </thead>\n",
       "  <tbody>\n",
       "    <tr>\n",
       "      <th>115</th>\n",
       "      <td>0</td>\n",
       "      <td>2771961</td>\n",
       "      <td>Yätta</td>\n",
       "      <td>Yätta</td>\n",
       "      <td>24</td>\n",
       "      <td>78.571429</td>\n",
       "      <td>66.666667</td>\n",
       "      <td>126</td>\n",
       "      <td>384</td>\n",
       "    </tr>\n",
       "    <tr>\n",
       "      <th>4</th>\n",
       "      <td>0</td>\n",
       "      <td>5390120</td>\n",
       "      <td>Alistair__</td>\n",
       "      <td>Alistair__</td>\n",
       "      <td>14</td>\n",
       "      <td>77.777778</td>\n",
       "      <td>67.841410</td>\n",
       "      <td>72</td>\n",
       "      <td>227</td>\n",
       "    </tr>\n",
       "    <tr>\n",
       "      <th>88</th>\n",
       "      <td>1118825</td>\n",
       "      <td>2491730</td>\n",
       "      <td>Ripha</td>\n",
       "      <td>Ripha</td>\n",
       "      <td>97</td>\n",
       "      <td>75.342466</td>\n",
       "      <td>66.495977</td>\n",
       "      <td>438</td>\n",
       "      <td>1367</td>\n",
       "    </tr>\n",
       "    <tr>\n",
       "      <th>86</th>\n",
       "      <td>1152521</td>\n",
       "      <td>2307689</td>\n",
       "      <td>Raffa_</td>\n",
       "      <td>Raffa_</td>\n",
       "      <td>21</td>\n",
       "      <td>68.807339</td>\n",
       "      <td>65.217391</td>\n",
       "      <td>109</td>\n",
       "      <td>299</td>\n",
       "    </tr>\n",
       "    <tr>\n",
       "      <th>49</th>\n",
       "      <td>0</td>\n",
       "      <td>2393034</td>\n",
       "      <td>JrARMS</td>\n",
       "      <td>JrARMS</td>\n",
       "      <td>10</td>\n",
       "      <td>68.518519</td>\n",
       "      <td>60.625000</td>\n",
       "      <td>54</td>\n",
       "      <td>160</td>\n",
       "    </tr>\n",
       "    <tr>\n",
       "      <th>38</th>\n",
       "      <td>0</td>\n",
       "      <td>1897663</td>\n",
       "      <td>Grimwood96</td>\n",
       "      <td>Grimwood96</td>\n",
       "      <td>46</td>\n",
       "      <td>65.333333</td>\n",
       "      <td>59.509202</td>\n",
       "      <td>225</td>\n",
       "      <td>652</td>\n",
       "    </tr>\n",
       "    <tr>\n",
       "      <th>121</th>\n",
       "      <td>0</td>\n",
       "      <td>4353211</td>\n",
       "      <td>Alistair__</td>\n",
       "      <td>deleted4353211</td>\n",
       "      <td>11</td>\n",
       "      <td>64.000000</td>\n",
       "      <td>61.240310</td>\n",
       "      <td>50</td>\n",
       "      <td>129</td>\n",
       "    </tr>\n",
       "    <tr>\n",
       "      <th>41</th>\n",
       "      <td>0</td>\n",
       "      <td>2521004</td>\n",
       "      <td>Iceman92</td>\n",
       "      <td>Iceman92</td>\n",
       "      <td>62</td>\n",
       "      <td>63.176895</td>\n",
       "      <td>58.177278</td>\n",
       "      <td>277</td>\n",
       "      <td>801</td>\n",
       "    </tr>\n",
       "    <tr>\n",
       "      <th>128</th>\n",
       "      <td>0</td>\n",
       "      <td>2363206</td>\n",
       "      <td>replicant___</td>\n",
       "      <td>replicant___</td>\n",
       "      <td>43</td>\n",
       "      <td>60.891089</td>\n",
       "      <td>56.205674</td>\n",
       "      <td>202</td>\n",
       "      <td>564</td>\n",
       "    </tr>\n",
       "    <tr>\n",
       "      <th>69</th>\n",
       "      <td>0</td>\n",
       "      <td>4446934</td>\n",
       "      <td>Mr_Adal</td>\n",
       "      <td>Mr_Adal</td>\n",
       "      <td>16</td>\n",
       "      <td>55.555556</td>\n",
       "      <td>52.791878</td>\n",
       "      <td>72</td>\n",
       "      <td>197</td>\n",
       "    </tr>\n",
       "    <tr>\n",
       "      <th>94</th>\n",
       "      <td>0</td>\n",
       "      <td>3284851</td>\n",
       "      <td>Shedy</td>\n",
       "      <td>Shedy</td>\n",
       "      <td>22</td>\n",
       "      <td>55.056180</td>\n",
       "      <td>54.732510</td>\n",
       "      <td>89</td>\n",
       "      <td>243</td>\n",
       "    </tr>\n",
       "    <tr>\n",
       "      <th>68</th>\n",
       "      <td>0</td>\n",
       "      <td>4356196</td>\n",
       "      <td>Mortal_Instrument</td>\n",
       "      <td>Mortal_Instrument</td>\n",
       "      <td>33</td>\n",
       "      <td>52.205882</td>\n",
       "      <td>50.000000</td>\n",
       "      <td>136</td>\n",
       "      <td>358</td>\n",
       "    </tr>\n",
       "    <tr>\n",
       "      <th>112</th>\n",
       "      <td>0</td>\n",
       "      <td>3149531</td>\n",
       "      <td>Yamber</td>\n",
       "      <td>Yamber</td>\n",
       "      <td>85</td>\n",
       "      <td>49.249249</td>\n",
       "      <td>48.531140</td>\n",
       "      <td>333</td>\n",
       "      <td>851</td>\n",
       "    </tr>\n",
       "    <tr>\n",
       "      <th>116</th>\n",
       "      <td>0</td>\n",
       "      <td>4653436</td>\n",
       "      <td>ZZ_ARMS</td>\n",
       "      <td>ZZ_ARMS</td>\n",
       "      <td>15</td>\n",
       "      <td>48.214286</td>\n",
       "      <td>50.641026</td>\n",
       "      <td>56</td>\n",
       "      <td>156</td>\n",
       "    </tr>\n",
       "    <tr>\n",
       "      <th>17</th>\n",
       "      <td>0</td>\n",
       "      <td>1707840</td>\n",
       "      <td>Cosalina</td>\n",
       "      <td>Cosalina</td>\n",
       "      <td>20</td>\n",
       "      <td>48.051948</td>\n",
       "      <td>50.000000</td>\n",
       "      <td>77</td>\n",
       "      <td>186</td>\n",
       "    </tr>\n",
       "    <tr>\n",
       "      <th>37</th>\n",
       "      <td>1136190</td>\n",
       "      <td>0</td>\n",
       "      <td>Gleeface</td>\n",
       "      <td>Gleeface</td>\n",
       "      <td>6</td>\n",
       "      <td>47.826087</td>\n",
       "      <td>48.076923</td>\n",
       "      <td>23</td>\n",
       "      <td>52</td>\n",
       "    </tr>\n",
       "    <tr>\n",
       "      <th>22</th>\n",
       "      <td>0</td>\n",
       "      <td>942201</td>\n",
       "      <td>Defur</td>\n",
       "      <td>Defur</td>\n",
       "      <td>17</td>\n",
       "      <td>47.692308</td>\n",
       "      <td>47.945205</td>\n",
       "      <td>65</td>\n",
       "      <td>146</td>\n",
       "    </tr>\n",
       "    <tr>\n",
       "      <th>36</th>\n",
       "      <td>0</td>\n",
       "      <td>4752790</td>\n",
       "      <td>Giusesbica004</td>\n",
       "      <td>Giusesbica004</td>\n",
       "      <td>22</td>\n",
       "      <td>47.619048</td>\n",
       "      <td>47.641509</td>\n",
       "      <td>84</td>\n",
       "      <td>212</td>\n",
       "    </tr>\n",
       "    <tr>\n",
       "      <th>125</th>\n",
       "      <td>1114568</td>\n",
       "      <td>2392308</td>\n",
       "      <td>ocrim_ger</td>\n",
       "      <td>ocrim_ger</td>\n",
       "      <td>62</td>\n",
       "      <td>46.052632</td>\n",
       "      <td>46.529081</td>\n",
       "      <td>228</td>\n",
       "      <td>533</td>\n",
       "    </tr>\n",
       "    <tr>\n",
       "      <th>81</th>\n",
       "      <td>0</td>\n",
       "      <td>187484</td>\n",
       "      <td>Penzo</td>\n",
       "      <td>Penzo</td>\n",
       "      <td>47</td>\n",
       "      <td>45.664740</td>\n",
       "      <td>46.534653</td>\n",
       "      <td>173</td>\n",
       "      <td>404</td>\n",
       "    </tr>\n",
       "    <tr>\n",
       "      <th>74</th>\n",
       "      <td>0</td>\n",
       "      <td>2533091</td>\n",
       "      <td>Nylis</td>\n",
       "      <td>Nylis</td>\n",
       "      <td>20</td>\n",
       "      <td>45.070423</td>\n",
       "      <td>47.878788</td>\n",
       "      <td>71</td>\n",
       "      <td>165</td>\n",
       "    </tr>\n",
       "    <tr>\n",
       "      <th>42</th>\n",
       "      <td>0</td>\n",
       "      <td>2670839</td>\n",
       "      <td>Iloria</td>\n",
       "      <td>Iloria</td>\n",
       "      <td>50</td>\n",
       "      <td>41.520468</td>\n",
       "      <td>42.288557</td>\n",
       "      <td>171</td>\n",
       "      <td>402</td>\n",
       "    </tr>\n",
       "    <tr>\n",
       "      <th>106</th>\n",
       "      <td>0</td>\n",
       "      <td>2820729</td>\n",
       "      <td>Tomazo</td>\n",
       "      <td>Tomazo</td>\n",
       "      <td>10</td>\n",
       "      <td>39.393939</td>\n",
       "      <td>44.736842</td>\n",
       "      <td>33</td>\n",
       "      <td>76</td>\n",
       "    </tr>\n",
       "    <tr>\n",
       "      <th>48</th>\n",
       "      <td>0</td>\n",
       "      <td>3218485</td>\n",
       "      <td>JkItsRipha</td>\n",
       "      <td>JkItsRipha</td>\n",
       "      <td>9</td>\n",
       "      <td>35.714286</td>\n",
       "      <td>41.935484</td>\n",
       "      <td>28</td>\n",
       "      <td>62</td>\n",
       "    </tr>\n",
       "    <tr>\n",
       "      <th>26</th>\n",
       "      <td>0</td>\n",
       "      <td>4401900</td>\n",
       "      <td>DoJoSeph</td>\n",
       "      <td>DrKritz</td>\n",
       "      <td>9</td>\n",
       "      <td>35.714286</td>\n",
       "      <td>38.095238</td>\n",
       "      <td>28</td>\n",
       "      <td>63</td>\n",
       "    </tr>\n",
       "    <tr>\n",
       "      <th>6</th>\n",
       "      <td>1139232</td>\n",
       "      <td>0</td>\n",
       "      <td>Alumento</td>\n",
       "      <td>Alumento</td>\n",
       "      <td>24</td>\n",
       "      <td>34.246575</td>\n",
       "      <td>39.156627</td>\n",
       "      <td>73</td>\n",
       "      <td>166</td>\n",
       "    </tr>\n",
       "    <tr>\n",
       "      <th>96</th>\n",
       "      <td>0</td>\n",
       "      <td>3286318</td>\n",
       "      <td>SpiKeuR</td>\n",
       "      <td>SpiKeuR</td>\n",
       "      <td>18</td>\n",
       "      <td>32.075472</td>\n",
       "      <td>36.585366</td>\n",
       "      <td>53</td>\n",
       "      <td>123</td>\n",
       "    </tr>\n",
       "    <tr>\n",
       "      <th>44</th>\n",
       "      <td>1144825</td>\n",
       "      <td>1902903</td>\n",
       "      <td>InkA_</td>\n",
       "      <td>InkA_</td>\n",
       "      <td>6</td>\n",
       "      <td>31.250000</td>\n",
       "      <td>31.428571</td>\n",
       "      <td>16</td>\n",
       "      <td>35</td>\n",
       "    </tr>\n",
       "    <tr>\n",
       "      <th>65</th>\n",
       "      <td>0</td>\n",
       "      <td>5544797</td>\n",
       "      <td>Miari_le_Rat</td>\n",
       "      <td>Miari_le_Rat</td>\n",
       "      <td>11</td>\n",
       "      <td>18.518519</td>\n",
       "      <td>18.032787</td>\n",
       "      <td>27</td>\n",
       "      <td>61</td>\n",
       "    </tr>\n",
       "    <tr>\n",
       "      <th>113</th>\n",
       "      <td>0</td>\n",
       "      <td>3057118</td>\n",
       "      <td>YoshiBowser</td>\n",
       "      <td>YoshiBowser</td>\n",
       "      <td>104</td>\n",
       "      <td>17.322835</td>\n",
       "      <td>22.416813</td>\n",
       "      <td>254</td>\n",
       "      <td>571</td>\n",
       "    </tr>\n",
       "    <tr>\n",
       "      <th>2</th>\n",
       "      <td>0</td>\n",
       "      <td>2942327</td>\n",
       "      <td>Alfon42</td>\n",
       "      <td>Alfon42</td>\n",
       "      <td>10</td>\n",
       "      <td>16.666667</td>\n",
       "      <td>22.222222</td>\n",
       "      <td>24</td>\n",
       "      <td>54</td>\n",
       "    </tr>\n",
       "    <tr>\n",
       "      <th>51</th>\n",
       "      <td>0</td>\n",
       "      <td>5134627</td>\n",
       "      <td>Kefgeru</td>\n",
       "      <td>Kefgeru</td>\n",
       "      <td>19</td>\n",
       "      <td>14.893617</td>\n",
       "      <td>19.626168</td>\n",
       "      <td>47</td>\n",
       "      <td>107</td>\n",
       "    </tr>\n",
       "    <tr>\n",
       "      <th>80</th>\n",
       "      <td>0</td>\n",
       "      <td>1409191</td>\n",
       "      <td>SAVE_ARMS_222</td>\n",
       "      <td>PawlSLax</td>\n",
       "      <td>22</td>\n",
       "      <td>13.725490</td>\n",
       "      <td>14.678899</td>\n",
       "      <td>51</td>\n",
       "      <td>109</td>\n",
       "    </tr>\n",
       "    <tr>\n",
       "      <th>91</th>\n",
       "      <td>0</td>\n",
       "      <td>3648830</td>\n",
       "      <td>SAVE_ARMS_222</td>\n",
       "      <td>SAVE_ARMS_222</td>\n",
       "      <td>7</td>\n",
       "      <td>12.500000</td>\n",
       "      <td>14.705882</td>\n",
       "      <td>16</td>\n",
       "      <td>34</td>\n",
       "    </tr>\n",
       "    <tr>\n",
       "      <th>123</th>\n",
       "      <td>0</td>\n",
       "      <td>2650200</td>\n",
       "      <td>nayr_</td>\n",
       "      <td>nayr_</td>\n",
       "      <td>6</td>\n",
       "      <td>7.692308</td>\n",
       "      <td>21.875000</td>\n",
       "      <td>13</td>\n",
       "      <td>32</td>\n",
       "    </tr>\n",
       "    <tr>\n",
       "      <th>15</th>\n",
       "      <td>0</td>\n",
       "      <td>4389226</td>\n",
       "      <td>Captain_Daz</td>\n",
       "      <td>Captain_Daz</td>\n",
       "      <td>19</td>\n",
       "      <td>7.317073</td>\n",
       "      <td>14.130435</td>\n",
       "      <td>41</td>\n",
       "      <td>92</td>\n",
       "    </tr>\n",
       "  </tbody>\n",
       "</table>\n",
       "</div>"
      ],
      "text/plain": [
       "     Start ID  Challonge ID         Player_Map             Player  \\\n",
       "115         0       2771961              Yätta              Yätta   \n",
       "4           0       5390120         Alistair__         Alistair__   \n",
       "88    1118825       2491730              Ripha              Ripha   \n",
       "86    1152521       2307689             Raffa_             Raffa_   \n",
       "49          0       2393034             JrARMS             JrARMS   \n",
       "38          0       1897663         Grimwood96         Grimwood96   \n",
       "121         0       4353211         Alistair__     deleted4353211   \n",
       "41          0       2521004           Iceman92           Iceman92   \n",
       "128         0       2363206       replicant___       replicant___   \n",
       "69          0       4446934            Mr_Adal            Mr_Adal   \n",
       "94          0       3284851              Shedy              Shedy   \n",
       "68          0       4356196  Mortal_Instrument  Mortal_Instrument   \n",
       "112         0       3149531             Yamber             Yamber   \n",
       "116         0       4653436            ZZ_ARMS            ZZ_ARMS   \n",
       "17          0       1707840           Cosalina           Cosalina   \n",
       "37    1136190             0           Gleeface           Gleeface   \n",
       "22          0        942201              Defur              Defur   \n",
       "36          0       4752790      Giusesbica004      Giusesbica004   \n",
       "125   1114568       2392308          ocrim_ger          ocrim_ger   \n",
       "81          0        187484              Penzo              Penzo   \n",
       "74          0       2533091              Nylis              Nylis   \n",
       "42          0       2670839             Iloria             Iloria   \n",
       "106         0       2820729             Tomazo             Tomazo   \n",
       "48          0       3218485         JkItsRipha         JkItsRipha   \n",
       "26          0       4401900           DoJoSeph            DrKritz   \n",
       "6     1139232             0           Alumento           Alumento   \n",
       "96          0       3286318            SpiKeuR            SpiKeuR   \n",
       "44    1144825       1902903              InkA_              InkA_   \n",
       "65          0       5544797       Miari_le_Rat       Miari_le_Rat   \n",
       "113         0       3057118        YoshiBowser        YoshiBowser   \n",
       "2           0       2942327            Alfon42            Alfon42   \n",
       "51          0       5134627            Kefgeru            Kefgeru   \n",
       "80          0       1409191      SAVE_ARMS_222           PawlSLax   \n",
       "91          0       3648830      SAVE_ARMS_222      SAVE_ARMS_222   \n",
       "123         0       2650200              nayr_              nayr_   \n",
       "15          0       4389226        Captain_Daz        Captain_Daz   \n",
       "\n",
       "     EUAC Appearances  Set Winrate  Match Winrate  Set Count  Match Count  \n",
       "115                24    78.571429      66.666667        126          384  \n",
       "4                  14    77.777778      67.841410         72          227  \n",
       "88                 97    75.342466      66.495977        438         1367  \n",
       "86                 21    68.807339      65.217391        109          299  \n",
       "49                 10    68.518519      60.625000         54          160  \n",
       "38                 46    65.333333      59.509202        225          652  \n",
       "121                11    64.000000      61.240310         50          129  \n",
       "41                 62    63.176895      58.177278        277          801  \n",
       "128                43    60.891089      56.205674        202          564  \n",
       "69                 16    55.555556      52.791878         72          197  \n",
       "94                 22    55.056180      54.732510         89          243  \n",
       "68                 33    52.205882      50.000000        136          358  \n",
       "112                85    49.249249      48.531140        333          851  \n",
       "116                15    48.214286      50.641026         56          156  \n",
       "17                 20    48.051948      50.000000         77          186  \n",
       "37                  6    47.826087      48.076923         23           52  \n",
       "22                 17    47.692308      47.945205         65          146  \n",
       "36                 22    47.619048      47.641509         84          212  \n",
       "125                62    46.052632      46.529081        228          533  \n",
       "81                 47    45.664740      46.534653        173          404  \n",
       "74                 20    45.070423      47.878788         71          165  \n",
       "42                 50    41.520468      42.288557        171          402  \n",
       "106                10    39.393939      44.736842         33           76  \n",
       "48                  9    35.714286      41.935484         28           62  \n",
       "26                  9    35.714286      38.095238         28           63  \n",
       "6                  24    34.246575      39.156627         73          166  \n",
       "96                 18    32.075472      36.585366         53          123  \n",
       "44                  6    31.250000      31.428571         16           35  \n",
       "65                 11    18.518519      18.032787         27           61  \n",
       "113               104    17.322835      22.416813        254          571  \n",
       "2                  10    16.666667      22.222222         24           54  \n",
       "51                 19    14.893617      19.626168         47          107  \n",
       "80                 22    13.725490      14.678899         51          109  \n",
       "91                  7    12.500000      14.705882         16           34  \n",
       "123                 6     7.692308      21.875000         13           32  \n",
       "15                 19     7.317073      14.130435         41           92  "
      ]
     },
     "execution_count": 99,
     "metadata": {},
     "output_type": "execute_result"
    }
   ],
   "source": [
    "playerdf[playerdf[\"EUAC Appearances\"] > 5].sort_values(by=\"Set Winrate\", ascending=False).head(50)"
   ]
  },
  {
   "cell_type": "markdown",
   "id": "2a7d0bbd",
   "metadata": {},
   "source": [
    "## 2.1 Tournament information"
   ]
  },
  {
   "cell_type": "code",
   "execution_count": null,
   "id": "13696897",
   "metadata": {},
   "outputs": [],
   "source": []
  },
  {
   "cell_type": "code",
   "execution_count": 16,
   "id": "4f83a2c8",
   "metadata": {
    "scrolled": true
   },
   "outputs": [
    {
     "name": "stdout",
     "output_type": "stream",
     "text": [
      "2017-10-21\n"
     ]
    }
   ],
   "source": [
    "date1 = df[df['EUAC'] == '1'][\"Date\"][0]\n",
    "print(result)"
   ]
  },
  {
   "cell_type": "code",
   "execution_count": null,
   "id": "c9a1f6ef",
   "metadata": {},
   "outputs": [],
   "source": []
  },
  {
   "cell_type": "markdown",
   "id": "c08b3fcb",
   "metadata": {},
   "source": [
    "### 2.1.1 How many Tournaments have there been? "
   ]
  },
  {
   "cell_type": "code",
   "execution_count": 14,
   "id": "35b3312e",
   "metadata": {
    "scrolled": true
   },
   "outputs": [
    {
     "data": {
      "text/plain": [
       "array([  1,   2,   3,   4,   5,   6,   7,   8,   9,  10,  11,  12,  13,\n",
       "        14,  15,  16,  17,  18,  19,  20,  21,  22,  23,  24,  25,  26,\n",
       "        27,  28,  29,  30,  31,  32,  33,  34,  35,  36,  37,  38,  39,\n",
       "        40,  41,  42,  43,  44,  45,  46,  47,  48,  49,  50,  51,  52,\n",
       "        53,  54,  55,  56,  57,  58,  59,  60,  61,  62,  63,  64,  65,\n",
       "        66,  67,  68,  69,  70,  71,  72,  73,  74,  75,  76,  77,  78,\n",
       "        79,  80,  81,  82,  83,  84,  85,  86,  87,  88,  89,  90,  91,\n",
       "        92,  93,  94,  95,  96,  97,  98,  99, 100, 101, 102, 103, 104,\n",
       "       105, 106, 107, 108, 109, 110, 111], dtype=int64)"
      ]
     },
     "execution_count": 14,
     "metadata": {},
     "output_type": "execute_result"
    }
   ],
   "source": [
    "df[\"Tournament No\"].unique()"
   ]
  },
  {
   "cell_type": "markdown",
   "id": "8754eb99",
   "metadata": {},
   "source": [
    "There have been 111 EUACs"
   ]
  },
  {
   "cell_type": "code",
   "execution_count": 15,
   "id": "08bc4586",
   "metadata": {
    "scrolled": true
   },
   "outputs": [
    {
     "data": {
      "text/plain": [
       "11.574302697759489"
      ]
     },
     "execution_count": 15,
     "metadata": {},
     "output_type": "execute_result"
    }
   ],
   "source": [
    "df[\"MatchNo\"].mean()"
   ]
  },
  {
   "cell_type": "markdown",
   "id": "39b83db7",
   "metadata": {},
   "source": [
    "Average EUAC has ~11.6 matches "
   ]
  },
  {
   "cell_type": "code",
   "execution_count": null,
   "id": "f3a63015",
   "metadata": {},
   "outputs": [],
   "source": [
    "df[\"MatchNo\"]"
   ]
  },
  {
   "cell_type": "markdown",
   "id": "b44da5ca",
   "metadata": {},
   "source": [
    "## 2.1 Most Common Score"
   ]
  },
  {
   "cell_type": "code",
   "execution_count": 5,
   "id": "4b1c868e",
   "metadata": {},
   "outputs": [
    {
     "data": {
      "text/plain": [
       "array(['2-0', '0--1', '2-1', '3-1', '3-0', '3-2'], dtype=object)"
      ]
     },
     "execution_count": 5,
     "metadata": {},
     "output_type": "execute_result"
    }
   ],
   "source": [
    "df[\"Score\"].unique()"
   ]
  },
  {
   "cell_type": "code",
   "execution_count": 6,
   "id": "bd3d4f9e",
   "metadata": {},
   "outputs": [
    {
     "data": {
      "text/plain": [
       "2-0     1195\n",
       "2-1      508\n",
       "3-1      144\n",
       "3-0      135\n",
       "3-2      122\n",
       "0--1      83\n",
       "Name: Score, dtype: int64"
      ]
     },
     "execution_count": 6,
     "metadata": {},
     "output_type": "execute_result"
    }
   ],
   "source": [
    "values = df[\"Score\"].value_counts()\n",
    "values"
   ]
  },
  {
   "cell_type": "code",
   "execution_count": 7,
   "id": "03945f35",
   "metadata": {},
   "outputs": [
    {
     "data": {
      "image/png": "[encoded data removed]",
      "text/plain": [
       "<Figure size 432x288 with 1 Axes>"
      ]
     },
     "metadata": {
      "needs_background": "light"
     },
     "output_type": "display_data"
    }
   ],
   "source": [
    "values.plot(kind=\"bar\", color=\"#0035d0\", grid=True)\n",
    "plt.xlabel(\"Scores\")\n",
    "plt.ylabel(\"Count\")\n",
    "plt.xticks(rotation=\"0\")\n",
    "plt.title(\"Bar Chart of Scores\")\n",
    "plt.show()"
   ]
  },
  {
   "cell_type": "markdown",
   "id": "31ae5b24",
   "metadata": {},
   "source": [
    "Most common score is a 2-0. Out numbering the next highest, 2-1, by double <br>\n",
    "\"Finals\" are less common but they are roughly the same. But 3-2 is the lowest indicating that Finals are not generally all that even "
   ]
  },
  {
   "cell_type": "markdown",
   "id": "19f73fda",
   "metadata": {},
   "source": [
    "## 2.2 Correlations"
   ]
  },
  {
   "cell_type": "code",
   "execution_count": 8,
   "id": "cedbbcd8",
   "metadata": {},
   "outputs": [],
   "source": [
    "heat = df.corr()"
   ]
  },
  {
   "cell_type": "code",
   "execution_count": 9,
   "id": "f2f744c3",
   "metadata": {},
   "outputs": [
    {
     "data": {
      "text/html": [
       "<div>\n",
       "<style scoped>\n",
       "    .dataframe tbody tr th:only-of-type {\n",
       "        vertical-align: middle;\n",
       "    }\n",
       "\n",
       "    .dataframe tbody tr th {\n",
       "        vertical-align: top;\n",
       "    }\n",
       "\n",
       "    .dataframe thead th {\n",
       "        text-align: right;\n",
       "    }\n",
       "</style>\n",
       "<table border=\"1\" class=\"dataframe\">\n",
       "  <thead>\n",
       "    <tr style=\"text-align: right;\">\n",
       "      <th></th>\n",
       "      <th>MatchNo</th>\n",
       "      <th>P1 Seed</th>\n",
       "      <th>P1 Placement</th>\n",
       "      <th>P2 Seed</th>\n",
       "      <th>P2 Placement</th>\n",
       "      <th>Tournament No</th>\n",
       "    </tr>\n",
       "  </thead>\n",
       "  <tbody>\n",
       "    <tr>\n",
       "      <th>MatchNo</th>\n",
       "      <td>1.000000</td>\n",
       "      <td>-0.027995</td>\n",
       "      <td>-0.169150</td>\n",
       "      <td>-0.211780</td>\n",
       "      <td>-0.341174</td>\n",
       "      <td>-0.276771</td>\n",
       "    </tr>\n",
       "    <tr>\n",
       "      <th>P1 Seed</th>\n",
       "      <td>-0.027995</td>\n",
       "      <td>1.000000</td>\n",
       "      <td>0.700772</td>\n",
       "      <td>0.441375</td>\n",
       "      <td>0.446473</td>\n",
       "      <td>-0.244598</td>\n",
       "    </tr>\n",
       "    <tr>\n",
       "      <th>P1 Placement</th>\n",
       "      <td>-0.169150</td>\n",
       "      <td>0.700772</td>\n",
       "      <td>1.000000</td>\n",
       "      <td>0.527211</td>\n",
       "      <td>0.471855</td>\n",
       "      <td>-0.223788</td>\n",
       "    </tr>\n",
       "    <tr>\n",
       "      <th>P2 Seed</th>\n",
       "      <td>-0.211780</td>\n",
       "      <td>0.441375</td>\n",
       "      <td>0.527211</td>\n",
       "      <td>1.000000</td>\n",
       "      <td>0.754884</td>\n",
       "      <td>-0.314577</td>\n",
       "    </tr>\n",
       "    <tr>\n",
       "      <th>P2 Placement</th>\n",
       "      <td>-0.341174</td>\n",
       "      <td>0.446473</td>\n",
       "      <td>0.471855</td>\n",
       "      <td>0.754884</td>\n",
       "      <td>1.000000</td>\n",
       "      <td>-0.211962</td>\n",
       "    </tr>\n",
       "    <tr>\n",
       "      <th>Tournament No</th>\n",
       "      <td>-0.276771</td>\n",
       "      <td>-0.244598</td>\n",
       "      <td>-0.223788</td>\n",
       "      <td>-0.314577</td>\n",
       "      <td>-0.211962</td>\n",
       "      <td>1.000000</td>\n",
       "    </tr>\n",
       "  </tbody>\n",
       "</table>\n",
       "</div>"
      ],
      "text/plain": [
       "                MatchNo   P1 Seed  P1 Placement   P2 Seed  P2 Placement  \\\n",
       "MatchNo        1.000000 -0.027995     -0.169150 -0.211780     -0.341174   \n",
       "P1 Seed       -0.027995  1.000000      0.700772  0.441375      0.446473   \n",
       "P1 Placement  -0.169150  0.700772      1.000000  0.527211      0.471855   \n",
       "P2 Seed       -0.211780  0.441375      0.527211  1.000000      0.754884   \n",
       "P2 Placement  -0.341174  0.446473      0.471855  0.754884      1.000000   \n",
       "Tournament No -0.276771 -0.244598     -0.223788 -0.314577     -0.211962   \n",
       "\n",
       "               Tournament No  \n",
       "MatchNo            -0.276771  \n",
       "P1 Seed            -0.244598  \n",
       "P1 Placement       -0.223788  \n",
       "P2 Seed            -0.314577  \n",
       "P2 Placement       -0.211962  \n",
       "Tournament No       1.000000  "
      ]
     },
     "execution_count": 9,
     "metadata": {},
     "output_type": "execute_result"
    }
   ],
   "source": [
    "heat"
   ]
  },
  {
   "cell_type": "code",
   "execution_count": 10,
   "id": "29867d0b",
   "metadata": {},
   "outputs": [
    {
     "data": {
      "text/plain": [
       "<AxesSubplot:>"
      ]
     },
     "execution_count": 10,
     "metadata": {},
     "output_type": "execute_result"
    },
    {
     "data": {
      "image/png": "[encoded data removed]",
      "text/plain": [
       "<Figure size 576x432 with 2 Axes>"
      ]
     },
     "metadata": {
      "needs_background": "light"
     },
     "output_type": "display_data"
    }
   ],
   "source": [
    "plt.figure(figsize=(8,6))\n",
    "sns.heatmap(data=heat, annot=True, cmap=\"coolwarm\")"
   ]
  },
  {
   "cell_type": "markdown",
   "id": "78f8a3cb",
   "metadata": {},
   "source": [
    "High correlation between a player's seeding and their placement (0.7 for Player 1 and 0.75 for Player 2). <br>\n",
    "Suggesting that players are usually seeded appropriately"
   ]
  },
  {
   "cell_type": "markdown",
   "id": "3525d900",
   "metadata": {},
   "source": [
    "## Who are the strongest players?"
   ]
  },
  {
   "cell_type": "markdown",
   "id": "4c70470c",
   "metadata": {},
   "source": [
    "###  Each player who has won an EUAC"
   ]
  },
  {
   "cell_type": "code",
   "execution_count": 11,
   "id": "fe6fa386",
   "metadata": {},
   "outputs": [],
   "source": [
    "# Add players to a set that have had a placement of 1. Sets don't contain duplicates\n",
    "players = set()\n",
    "for i in playerdf[\"Player_Map\"]:\n",
    "    for a,b,c,d in zip(df[\"Player1\"], df[\"Player2\"], df[\"P1 Placement\"], df[\"P2 Placement\"]):\n",
    "        if i == a:\n",
    "            if c == 1:\n",
    "                players.add(i)\n",
    "                continue\n",
    "            else:\n",
    "                continue\n",
    "        if i == b:\n",
    "            if d == 1:\n",
    "                players.add(i)\n",
    "                continue\n",
    "            else:\n",
    "                continue"
   ]
  },
  {
   "cell_type": "code",
   "execution_count": 12,
   "id": "e3cdc3ad",
   "metadata": {
    "scrolled": true
   },
   "outputs": [
    {
     "data": {
      "text/plain": [
       "{'Alistair__',\n",
       " 'D2S_Maxou',\n",
       " 'Frank001',\n",
       " 'Grimwood96',\n",
       " 'Iceman92',\n",
       " 'JrARMS',\n",
       " 'Raffa_',\n",
       " 'Ripha',\n",
       " 'Shedy',\n",
       " 'Yamber',\n",
       " 'Yätta',\n",
       " 'replicant___'}"
      ]
     },
     "execution_count": 12,
     "metadata": {},
     "output_type": "execute_result"
    }
   ],
   "source": [
    "players"
   ]
  },
  {
   "cell_type": "code",
   "execution_count": 17,
   "id": "40970c52",
   "metadata": {},
   "outputs": [
    {
     "data": {
      "text/plain": [
       "12"
      ]
     },
     "execution_count": 17,
     "metadata": {},
     "output_type": "execute_result"
    }
   ],
   "source": [
    "len(players)"
   ]
  },
  {
   "cell_type": "markdown",
   "id": "d95490ba",
   "metadata": {},
   "source": [
    "12 Players have won at least one EUAC throughout its run"
   ]
  },
  {
   "cell_type": "markdown",
   "id": "2cab718a",
   "metadata": {},
   "source": [
    "### Amount of EUACs won by player"
   ]
  },
  {
   "cell_type": "markdown",
   "id": "df4e483c",
   "metadata": {},
   "source": [
    "### Win Streaks"
   ]
  },
  {
   "cell_type": "code",
   "execution_count": 18,
   "id": "4a17136d",
   "metadata": {},
   "outputs": [
    {
     "name": "stdout",
     "output_type": "stream",
     "text": [
      "     Tournament No  PlayerCount\n",
      "0                1           22\n",
      "1                2           12\n",
      "2                3           12\n",
      "3                4            9\n",
      "4                5           25\n",
      "..             ...          ...\n",
      "106            107           12\n",
      "107            108           10\n",
      "108            109           10\n",
      "109            110            9\n",
      "110            111            7\n",
      "\n",
      "[111 rows x 2 columns]\n"
     ]
    }
   ],
   "source": [
    "counts = (\n",
    "    df.melt(id_vars=\"Tournament No\", value_vars=[\"Winner\", \"Loser\"])\n",
    "      .drop(\"variable\", axis=1)\n",
    "      .drop_duplicates()\n",
    "      .groupby(\"Tournament No\")\n",
    "      .size()\n",
    "      .reset_index(name=\"PlayerCount\")\n",
    ")\n",
    "\n",
    "print(counts)"
   ]
  },
  {
   "cell_type": "code",
   "execution_count": 19,
   "id": "e93d77c7",
   "metadata": {},
   "outputs": [
    {
     "data": {
      "text/html": [
       "<div>\n",
       "<style scoped>\n",
       "    .dataframe tbody tr th:only-of-type {\n",
       "        vertical-align: middle;\n",
       "    }\n",
       "\n",
       "    .dataframe tbody tr th {\n",
       "        vertical-align: top;\n",
       "    }\n",
       "\n",
       "    .dataframe thead th {\n",
       "        text-align: right;\n",
       "    }\n",
       "</style>\n",
       "<table border=\"1\" class=\"dataframe\">\n",
       "  <thead>\n",
       "    <tr style=\"text-align: right;\">\n",
       "      <th></th>\n",
       "      <th>Tournament No</th>\n",
       "      <th>PlayerCount</th>\n",
       "    </tr>\n",
       "  </thead>\n",
       "  <tbody>\n",
       "    <tr>\n",
       "      <th>4</th>\n",
       "      <td>5</td>\n",
       "      <td>25</td>\n",
       "    </tr>\n",
       "    <tr>\n",
       "      <th>0</th>\n",
       "      <td>1</td>\n",
       "      <td>22</td>\n",
       "    </tr>\n",
       "    <tr>\n",
       "      <th>5</th>\n",
       "      <td>6</td>\n",
       "      <td>19</td>\n",
       "    </tr>\n",
       "    <tr>\n",
       "      <th>14</th>\n",
       "      <td>15</td>\n",
       "      <td>18</td>\n",
       "    </tr>\n",
       "    <tr>\n",
       "      <th>51</th>\n",
       "      <td>52</td>\n",
       "      <td>18</td>\n",
       "    </tr>\n",
       "    <tr>\n",
       "      <th>...</th>\n",
       "      <td>...</td>\n",
       "      <td>...</td>\n",
       "    </tr>\n",
       "    <tr>\n",
       "      <th>80</th>\n",
       "      <td>81</td>\n",
       "      <td>6</td>\n",
       "    </tr>\n",
       "    <tr>\n",
       "      <th>34</th>\n",
       "      <td>35</td>\n",
       "      <td>6</td>\n",
       "    </tr>\n",
       "    <tr>\n",
       "      <th>85</th>\n",
       "      <td>86</td>\n",
       "      <td>5</td>\n",
       "    </tr>\n",
       "    <tr>\n",
       "      <th>82</th>\n",
       "      <td>83</td>\n",
       "      <td>5</td>\n",
       "    </tr>\n",
       "    <tr>\n",
       "      <th>84</th>\n",
       "      <td>85</td>\n",
       "      <td>5</td>\n",
       "    </tr>\n",
       "  </tbody>\n",
       "</table>\n",
       "<p>111 rows × 2 columns</p>\n",
       "</div>"
      ],
      "text/plain": [
       "    Tournament No  PlayerCount\n",
       "4               5           25\n",
       "0               1           22\n",
       "5               6           19\n",
       "14             15           18\n",
       "51             52           18\n",
       "..            ...          ...\n",
       "80             81            6\n",
       "34             35            6\n",
       "85             86            5\n",
       "82             83            5\n",
       "84             85            5\n",
       "\n",
       "[111 rows x 2 columns]"
      ]
     },
     "execution_count": 19,
     "metadata": {},
     "output_type": "execute_result"
    }
   ],
   "source": [
    "counts.sort_values(by=\"PlayerCount\", ascending=False)"
   ]
  },
  {
   "cell_type": "markdown",
   "id": "7bf7f6b2",
   "metadata": {},
   "source": [
    "EUAC 5 had the highest number of entrants with 25 competing whilst EUACs 83,85 and 86 has the lowest with only 5 participating"
   ]
  },
  {
   "cell_type": "code",
   "execution_count": 32,
   "id": "163c96b3",
   "metadata": {},
   "outputs": [],
   "source": [
    "avg = counts[\"PlayerCount\"].mean()\n",
    "med = counts[\"PlayerCount\"].median()"
   ]
  },
  {
   "cell_type": "code",
   "execution_count": 35,
   "id": "70ff4c92",
   "metadata": {
    "scrolled": true
   },
   "outputs": [
    {
     "data": {
      "text/plain": [
       "'The Average EUAC has 10.68 players per tournament and a median of 10.0'"
      ]
     },
     "execution_count": 35,
     "metadata": {},
     "output_type": "execute_result"
    }
   ],
   "source": [
    "f\"The Average EUAC has {avg:.2f} players per tournament and a median of {med}\""
   ]
  },
  {
   "cell_type": "code",
   "execution_count": 31,
   "id": "ab83337c",
   "metadata": {},
   "outputs": [
    {
     "data": {
      "image/png": "[encoded data removed]",
      "text/plain": [
       "<Figure size 432x288 with 1 Axes>"
      ]
     },
     "metadata": {
      "needs_background": "light"
     },
     "output_type": "display_data"
    }
   ],
   "source": [
    "counts[\"PlayerCount\"].plot(kind=\"box\", color=\"#0035d0\", grid=True)\n",
    "plt.xlabel(\"Scores\")\n",
    "plt.ylabel(\"Count\")\n",
    "plt.xticks(rotation=\"0\")\n",
    "plt.title(\"Bar Chart of Player Count\")\n",
    "plt.show()"
   ]
  },
  {
   "cell_type": "code",
   "execution_count": 22,
   "id": "8e17bb60",
   "metadata": {},
   "outputs": [
    {
     "data": {
      "image/png": "[encoded data removed]",
      "text/plain": [
       "<Figure size 1152x432 with 1 Axes>"
      ]
     },
     "metadata": {
      "needs_background": "light"
     },
     "output_type": "display_data"
    }
   ],
   "source": [
    "# Scatter plot + line\n",
    "plt.figure(figsize=(16, 6))\n",
    "ax = plt.gca() #Keep everything on same plot\n",
    "\n",
    "# Line plot\n",
    "counts.plot(x=\"Tournament No\", y=\"PlayerCount\", kind=\"line\", marker='o', ax=ax, linewidth=2, color=\"#0035d0\")\n",
    "\n",
    "# Trend line\n",
    "z = np.polyfit(counts[\"Tournament No\"], counts[\"PlayerCount\"], 1)\n",
    "p = np.poly1d(z)\n",
    "plt.plot(counts[\"Tournament No\"], p(counts[\"Tournament No\"]), linewidth=2, label=\"Trend Line\", linestyle='--', color=\"#d09b00\")\n",
    "\n",
    "# Labels and title\n",
    "plt.title(\"Player Counts over EUACs with Trend Line\", fontsize=16)\n",
    "plt.xlabel(\"Tournament No\", fontsize=14)\n",
    "plt.ylabel(\"Unique Players\", fontsize=14)\n",
    "plt.legend()\n",
    "\n",
    "# Set y-axis to only show whole numbers\n",
    "max_count = counts[\"PlayerCount\"].max()\n",
    "plt.yticks(np.arange(0, max_count + 1, 2))  # from 0 to max, step by 1\n",
    "\n",
    "plt.grid(True, linestyle='--', alpha=0.7)\n",
    "plt.show()"
   ]
  },
  {
   "cell_type": "markdown",
   "id": "c9ffd8b9",
   "metadata": {},
   "source": [
    "Downward trend. This shows that the tournament series is losing players, slowly, throughout its run. It is approximately losing 0.05 players per tournament"
   ]
  },
  {
   "cell_type": "code",
   "execution_count": 25,
   "id": "52f8e7f4",
   "metadata": {},
   "outputs": [
    {
     "name": "stdout",
     "output_type": "stream",
     "text": [
      "Correlation between Tournament No and Player Count: -0.54\n",
      "Trend Line Equation: PlayerCount = -0.06 * Tournament No + 13.89\n"
     ]
    }
   ],
   "source": [
    "# Correlation\n",
    "correlation = counts[\"Tournament No\"].corr(counts[\"PlayerCount\"])\n",
    "print(f\"Correlation between Tournament No and Player Count: {correlation:.2f}\") #Two decimal places\n",
    "\n",
    "# Trend line equation\n",
    "z = np.polyfit(counts[\"Tournament No\"], counts[\"PlayerCount\"], 1)\n",
    "slope, intercept = z\n",
    "print(f\"Trend Line Equation: PlayerCount = {slope:.2f} * Tournament No + {intercept:.2f}\")"
   ]
  },
  {
   "cell_type": "code",
   "execution_count": null,
   "id": "dd6efbf7",
   "metadata": {},
   "outputs": [],
   "source": []
  }
 ],
 "metadata": {
  "kernelspec": {
   "display_name": "Python 3 (ipykernel)",
   "language": "python",
   "name": "python3"
  },
  "language_info": {
   "codemirror_mode": {
    "name": "ipython",
    "version": 3
   },
   "file_extension": ".py",
   "mimetype": "text/x-python",
   "name": "python",
   "nbconvert_exporter": "python",
   "pygments_lexer": "ipython3",
   "version": "3.9.12"
  }
 },
 "nbformat": 4,
 "nbformat_minor": 5
}
