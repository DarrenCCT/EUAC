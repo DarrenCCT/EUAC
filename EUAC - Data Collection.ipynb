{
 "cells": [
  {
   "cell_type": "markdown",
   "id": "3d94e721",
   "metadata": {},
   "source": [
    "# 1. Libraries"
   ]
  },
  {
   "cell_type": "code",
   "execution_count": 1,
   "id": "1cde4263",
   "metadata": {},
   "outputs": [],
   "source": [
    "# Import Libraries\n",
    "import requests\n",
    "import pandas as pd\n",
    "import os\n",
    "from dotenv import load_dotenv"
   ]
  },
  {
   "cell_type": "markdown",
   "id": "0befb275",
   "metadata": {},
   "source": [
    "# 2. Introduction"
   ]
  },
  {
   "cell_type": "markdown",
   "id": "48e2137d",
   "metadata": {},
   "source": [
    "The purpose of this notebook is to gather data on the European ARMS Challenge (EUAC) tournament series. <br>\n",
    "The EUAC is an online biweekly tournament series for the video game \"ARMS\" released for the Nintendo Switch console in 2017. <br>\n",
    "The EUAC started in 2017 and ran consistently until 2022.<br>\n",
    "<br>\n",
    "More information can be found in references below."
   ]
  },
  {
   "cell_type": "markdown",
   "id": "4b61ba1c",
   "metadata": {},
   "source": [
    "This notebook is to purely gather the data, act as a proof of concept, and format it for future use/analysis. <br>\n",
    "It will then be exported to a csv file if successful. <br>"
   ]
  },
  {
   "cell_type": "markdown",
   "id": "4caa3c5d",
   "metadata": {},
   "source": [
    "# 3. Objectives"
   ]
  },
  {
   "cell_type": "markdown",
   "id": "6d7a4eb3",
   "metadata": {},
   "source": [
    "- Determine what data that is necessary\n",
    "- Gather EUAC#1 data from start.gg using their api\n",
    "- Gather EUAC#2 to EUAC#110 data from Challonge.com using their api\n",
    "- Format the data into a pandas dataframe\n",
    "- Export to csv"
   ]
  },
  {
   "cell_type": "markdown",
   "id": "05e72761",
   "metadata": {},
   "source": [
    "## 3.1. Objective 1"
   ]
  },
  {
   "cell_type": "markdown",
   "id": "69cf9421",
   "metadata": {},
   "source": [
    "### Determine what data is necessary"
   ]
  },
  {
   "cell_type": "markdown",
   "id": "8221b681",
   "metadata": {},
   "source": [
    "For each tournament, we will need: <br>\n",
    "- The participants who entered\n",
    "- Each match that was played\n",
    "- The result of each match\n",
    "- The date the tournament took place\n",
    "- The final placements\n",
    "- Each player's seeding"
   ]
  },
  {
   "cell_type": "markdown",
   "id": "20ce5f32",
   "metadata": {},
   "source": [
    "## 3.2. Objective 2 - Data Gathering"
   ]
  },
  {
   "cell_type": "markdown",
   "id": "79797f89",
   "metadata": {},
   "source": [
    "The tournaments were mostly hosted on Challonge.com but the first one was hosted on start.gg. <br>"
   ]
  },
  {
   "cell_type": "markdown",
   "id": "c76fb9ad",
   "metadata": {},
   "source": [
    "### 3.2.1. - Start.gg"
   ]
  },
  {
   "cell_type": "markdown",
   "id": "10d58db2",
   "metadata": {},
   "source": [
    "Start.gg's API uses GraphQL as its query language <br>\n",
    "The GraphQL queries will be wrapped in multiline strings so they can be sent to the start.gg API to retrieve the data. <br>\n",
    "Queries also expect an API token to passed through the header. This token will be loaded from a .env file.<br>\n",
    "<br>\n",
    "A link to the tutorial that was followed to come up with the queries can be found in References."
   ]
  },
  {
   "cell_type": "code",
   "execution_count": 290,
   "id": "3d271ceb",
   "metadata": {},
   "outputs": [],
   "source": [
    "# Load API Keys stored in .env file\n",
    "load_dotenv(\".env\")\n",
    "START_GG_API_TOKEN = os.getenv(\"START_GG_API_TOKEN\")"
   ]
  },
  {
   "cell_type": "markdown",
   "id": "e5950409",
   "metadata": {},
   "source": [
    "The tournament was hosted at this url: https://www.start.gg/tournament/eu-arms-challenge-1/events <br>\n",
    "For some of the information that is needed, the id of the event is required. Which is obtained here using the url slug"
   ]
  },
  {
   "cell_type": "code",
   "execution_count": 291,
   "id": "6cf1f447",
   "metadata": {},
   "outputs": [],
   "source": [
    "# GraphQL query wrapped in a multiline string. \n",
    "query = \"\"\"\n",
    "query TournamentQuery {\n",
    "  tournament(slug: \"tournament/eu-arms-challenge-1\") {\n",
    "    name\n",
    "    events {\n",
    "      name\n",
    "      id\n",
    "    }\n",
    "  }\n",
    "}\n",
    "\"\"\""
   ]
  },
  {
   "cell_type": "code",
   "execution_count": 292,
   "id": "f22a6876",
   "metadata": {},
   "outputs": [],
   "source": [
    "# Sends the query and returns the response. Will be using this a lot\n",
    "def run_query(query):\n",
    "    url = \"https://api.start.gg/gql/alpha\"\n",
    "    headers = {\n",
    "        \"Authorization\": f\"Bearer {START_GG_API_TOKEN}\",\n",
    "        \"Content-Type\": \"application/json\"\n",
    "    }\n",
    "    response = requests.post(url, json={'query': query}, headers=headers)\n",
    "    return response.json()"
   ]
  },
  {
   "cell_type": "code",
   "execution_count": 293,
   "id": "cf7b9661",
   "metadata": {},
   "outputs": [],
   "source": [
    "data = run_query(query)"
   ]
  },
  {
   "cell_type": "code",
   "execution_count": 294,
   "id": "dbaf4021",
   "metadata": {
    "scrolled": true
   },
   "outputs": [
    {
     "data": {
      "text/plain": [
       "{'data': {'tournament': {'name': 'EU ARMS Challenge #1',\n",
       "   'events': [{'name': 'EU ARMS Challenge #1', 'id': 53835}]}},\n",
       " 'extensions': {'cacheControl': {'version': 1,\n",
       "   'hints': [{'path': ['tournament'], 'maxAge': 300, 'scope': 'PRIVATE'}]},\n",
       "  'queryComplexity': 2},\n",
       " 'actionRecords': []}"
      ]
     },
     "execution_count": 294,
     "metadata": {},
     "output_type": "execute_result"
    }
   ],
   "source": [
    "data"
   ]
  },
  {
   "cell_type": "code",
   "execution_count": 295,
   "id": "05536111",
   "metadata": {},
   "outputs": [],
   "source": [
    "eventId = data[\"data\"][\"tournament\"][\"events\"][0][\"id\"]"
   ]
  },
  {
   "cell_type": "code",
   "execution_count": 296,
   "id": "fb67179c",
   "metadata": {
    "scrolled": true
   },
   "outputs": [
    {
     "data": {
      "text/plain": [
       "53835"
      ]
     },
     "execution_count": 296,
     "metadata": {},
     "output_type": "execute_result"
    }
   ],
   "source": [
    "eventId"
   ]
  },
  {
   "cell_type": "markdown",
   "id": "97e6df68",
   "metadata": {},
   "source": [
    "The id of the event is 53835"
   ]
  },
  {
   "cell_type": "markdown",
   "id": "63181d44",
   "metadata": {},
   "source": [
    "Using the event id, a query can be written to get the players, their seedings and placements, and the start date of the tournament <br>\n",
    "Some of this information could have been gotten before but not all"
   ]
  },
  {
   "cell_type": "code",
   "execution_count": 297,
   "id": "65b8ff22",
   "metadata": {},
   "outputs": [],
   "source": [
    "# Query for players, seedings, placements\n",
    "\n",
    "query = \"\"\"\n",
    "query {\n",
    "  event(id: 53835) {\n",
    "    id\n",
    "    name\n",
    "    startAt\n",
    "    standings(query: {\n",
    "      page: 1\n",
    "    }) {\n",
    "      nodes {\n",
    "        placement\n",
    "        entrant {\n",
    "          id\n",
    "          name\n",
    "          seeds {\n",
    "            seedNum\n",
    "          }\n",
    "        }\n",
    "      }\n",
    "    }\n",
    "  }\n",
    "}\n",
    "\"\"\""
   ]
  },
  {
   "cell_type": "code",
   "execution_count": 298,
   "id": "8d36cad4",
   "metadata": {},
   "outputs": [],
   "source": [
    "data = run_query(query)"
   ]
  },
  {
   "cell_type": "code",
   "execution_count": 299,
   "id": "4836b1c8",
   "metadata": {},
   "outputs": [
    {
     "data": {
      "text/plain": [
       "{'data': {'event': {'id': 53835,\n",
       "   'name': 'EU ARMS Challenge #1',\n",
       "   'startAt': 1508605200,\n",
       "   'standings': {'nodes': [{'placement': 1,\n",
       "      'entrant': {'id': 1152276,\n",
       "       'name': 'FR | Maxou0708',\n",
       "       'seeds': [{'seedNum': 20}]}},\n",
       "     {'placement': 2,\n",
       "      'entrant': {'id': 1118825,\n",
       "       'name': 'Rapha_MTH',\n",
       "       'seeds': [{'seedNum': 6}]}},\n",
       "     {'placement': 3,\n",
       "      'entrant': {'id': 1133810, 'name': 'Sabaca', 'seeds': [{'seedNum': 8}]}},\n",
       "     {'placement': 4,\n",
       "      'entrant': {'id': 1152521,\n",
       "       'name': 'TCM | Raffa',\n",
       "       'seeds': [{'seedNum': 21}]}},\n",
       "     {'placement': 5,\n",
       "      'entrant': {'id': 1152258,\n",
       "       'name': 'FrankTank',\n",
       "       'seeds': [{'seedNum': 19}]}},\n",
       "     {'placement': 5,\n",
       "      'entrant': {'id': 1114568, 'name': 'ocrim', 'seeds': [{'seedNum': 2}]}},\n",
       "     {'placement': 7,\n",
       "      'entrant': {'id': 1139232,\n",
       "       'name': 'Alumento',\n",
       "       'seeds': [{'seedNum': 11}]}},\n",
       "     {'placement': 7,\n",
       "      'entrant': {'id': 1133727,\n",
       "       'name': 'SC☆Momso',\n",
       "       'seeds': [{'seedNum': 7}]}},\n",
       "     {'placement': 9,\n",
       "      'entrant': {'id': 1114889,\n",
       "       'name': 'VilleViljar',\n",
       "       'seeds': [{'seedNum': 4}]}},\n",
       "     {'placement': 9,\n",
       "      'entrant': {'id': 1152242,\n",
       "       'name': 'TCM | BD82',\n",
       "       'seeds': [{'seedNum': 17}]}},\n",
       "     {'placement': 9,\n",
       "      'entrant': {'id': 1144825,\n",
       "       'name': 'FR|TCM | InkAlyut',\n",
       "       'seeds': [{'seedNum': 13}]}},\n",
       "     {'placement': 9,\n",
       "      'entrant': {'id': 1114480,\n",
       "       'name': 'Linkirto',\n",
       "       'seeds': [{'seedNum': 1}]}},\n",
       "     {'placement': 13,\n",
       "      'entrant': {'id': 1114611,\n",
       "       'name': 'Orthuss',\n",
       "       'seeds': [{'seedNum': 3}]}},\n",
       "     {'placement': 13,\n",
       "      'entrant': {'id': 1152122,\n",
       "       'name': 'Kotorious BRD',\n",
       "       'seeds': [{'seedNum': 15}]}},\n",
       "     {'placement': 13,\n",
       "      'entrant': {'id': 1146459,\n",
       "       'name': 'BambooBoss',\n",
       "       'seeds': [{'seedNum': 14}]}},\n",
       "     {'placement': 13,\n",
       "      'entrant': {'id': 1118319, 'name': 'Raayo', 'seeds': [{'seedNum': 5}]}},\n",
       "     {'placement': 17,\n",
       "      'entrant': {'id': 1152168,\n",
       "       'name': 'Octey | Octey',\n",
       "       'seeds': [{'seedNum': 16}]}},\n",
       "     {'placement': 17,\n",
       "      'entrant': {'id': 1143104,\n",
       "       'name': 'RD | | Dushni',\n",
       "       'seeds': [{'seedNum': 12}]}},\n",
       "     {'placement': 17,\n",
       "      'entrant': {'id': 1152245,\n",
       "       'name': 'Altair',\n",
       "       'seeds': [{'seedNum': 18}]}},\n",
       "     {'placement': 17,\n",
       "      'entrant': {'id': 1152545, 'name': 'Owdy', 'seeds': [{'seedNum': 22}]}},\n",
       "     {'placement': 17,\n",
       "      'entrant': {'id': 1136190,\n",
       "       'name': 'Gleeface',\n",
       "       'seeds': [{'seedNum': 9}]}},\n",
       "     {'placement': 17,\n",
       "      'entrant': {'id': 1137935,\n",
       "       'name': 'Beannie',\n",
       "       'seeds': [{'seedNum': 10}]}}]}}},\n",
       " 'extensions': {'cacheControl': {'version': 1,\n",
       "   'hints': [{'path': ['event'], 'maxAge': 60, 'scope': 'PRIVATE'}]},\n",
       "  'queryComplexity': 68},\n",
       " 'actionRecords': []}"
      ]
     },
     "execution_count": 299,
     "metadata": {},
     "output_type": "execute_result"
    }
   ],
   "source": [
    "data"
   ]
  },
  {
   "cell_type": "markdown",
   "id": "1ddee557",
   "metadata": {},
   "source": [
    "Data is a nested dictionary. Now we'll gather a list of participants, their placements and seeds, by digging through this"
   ]
  },
  {
   "cell_type": "code",
   "execution_count": 300,
   "id": "e26e7134",
   "metadata": {},
   "outputs": [
    {
     "data": {
      "text/plain": [
       "'EU ARMS Challenge #1'"
      ]
     },
     "execution_count": 300,
     "metadata": {},
     "output_type": "execute_result"
    }
   ],
   "source": [
    "data[\"data\"][\"event\"][\"name\"]"
   ]
  },
  {
   "cell_type": "code",
   "execution_count": 301,
   "id": "9146b301",
   "metadata": {
    "scrolled": true
   },
   "outputs": [
    {
     "data": {
      "text/plain": [
       "1508605200"
      ]
     },
     "execution_count": 301,
     "metadata": {},
     "output_type": "execute_result"
    }
   ],
   "source": [
    "data[\"data\"][\"event\"][\"startAt\"]"
   ]
  },
  {
   "cell_type": "code",
   "execution_count": 302,
   "id": "70a2ba6c",
   "metadata": {},
   "outputs": [],
   "source": [
    "tournamentDate = data[\"data\"][\"event\"][\"startAt\"]"
   ]
  },
  {
   "cell_type": "code",
   "execution_count": 303,
   "id": "3f44615a",
   "metadata": {},
   "outputs": [
    {
     "data": {
      "text/plain": [
       "1508605200"
      ]
     },
     "execution_count": 303,
     "metadata": {},
     "output_type": "execute_result"
    }
   ],
   "source": [
    "tournamentDate"
   ]
  },
  {
   "cell_type": "markdown",
   "id": "93b62c86",
   "metadata": {},
   "source": [
    "UNIX time for when tournament took place. Only the date is required. The time is unnecessary"
   ]
  },
  {
   "cell_type": "code",
   "execution_count": 304,
   "id": "2b0998fd",
   "metadata": {},
   "outputs": [
    {
     "name": "stdout",
     "output_type": "stream",
     "text": [
      "21/10/17\n"
     ]
    }
   ],
   "source": [
    "from datetime import datetime\n",
    "\n",
    "date = datetime.utcfromtimestamp(tournamentDate).strftime('%d/%m/%y')\n",
    "print(date) "
   ]
  },
  {
   "cell_type": "code",
   "execution_count": 305,
   "id": "a9e15442",
   "metadata": {
    "scrolled": true
   },
   "outputs": [
    {
     "data": {
      "text/plain": [
       "{'nodes': [{'placement': 1,\n",
       "   'entrant': {'id': 1152276,\n",
       "    'name': 'FR | Maxou0708',\n",
       "    'seeds': [{'seedNum': 20}]}},\n",
       "  {'placement': 2,\n",
       "   'entrant': {'id': 1118825, 'name': 'Rapha_MTH', 'seeds': [{'seedNum': 6}]}},\n",
       "  {'placement': 3,\n",
       "   'entrant': {'id': 1133810, 'name': 'Sabaca', 'seeds': [{'seedNum': 8}]}},\n",
       "  {'placement': 4,\n",
       "   'entrant': {'id': 1152521,\n",
       "    'name': 'TCM | Raffa',\n",
       "    'seeds': [{'seedNum': 21}]}},\n",
       "  {'placement': 5,\n",
       "   'entrant': {'id': 1152258,\n",
       "    'name': 'FrankTank',\n",
       "    'seeds': [{'seedNum': 19}]}},\n",
       "  {'placement': 5,\n",
       "   'entrant': {'id': 1114568, 'name': 'ocrim', 'seeds': [{'seedNum': 2}]}},\n",
       "  {'placement': 7,\n",
       "   'entrant': {'id': 1139232, 'name': 'Alumento', 'seeds': [{'seedNum': 11}]}},\n",
       "  {'placement': 7,\n",
       "   'entrant': {'id': 1133727, 'name': 'SC☆Momso', 'seeds': [{'seedNum': 7}]}},\n",
       "  {'placement': 9,\n",
       "   'entrant': {'id': 1114889,\n",
       "    'name': 'VilleViljar',\n",
       "    'seeds': [{'seedNum': 4}]}},\n",
       "  {'placement': 9,\n",
       "   'entrant': {'id': 1152242,\n",
       "    'name': 'TCM | BD82',\n",
       "    'seeds': [{'seedNum': 17}]}},\n",
       "  {'placement': 9,\n",
       "   'entrant': {'id': 1144825,\n",
       "    'name': 'FR|TCM | InkAlyut',\n",
       "    'seeds': [{'seedNum': 13}]}},\n",
       "  {'placement': 9,\n",
       "   'entrant': {'id': 1114480, 'name': 'Linkirto', 'seeds': [{'seedNum': 1}]}},\n",
       "  {'placement': 13,\n",
       "   'entrant': {'id': 1114611, 'name': 'Orthuss', 'seeds': [{'seedNum': 3}]}},\n",
       "  {'placement': 13,\n",
       "   'entrant': {'id': 1152122,\n",
       "    'name': 'Kotorious BRD',\n",
       "    'seeds': [{'seedNum': 15}]}},\n",
       "  {'placement': 13,\n",
       "   'entrant': {'id': 1146459,\n",
       "    'name': 'BambooBoss',\n",
       "    'seeds': [{'seedNum': 14}]}},\n",
       "  {'placement': 13,\n",
       "   'entrant': {'id': 1118319, 'name': 'Raayo', 'seeds': [{'seedNum': 5}]}},\n",
       "  {'placement': 17,\n",
       "   'entrant': {'id': 1152168,\n",
       "    'name': 'Octey | Octey',\n",
       "    'seeds': [{'seedNum': 16}]}},\n",
       "  {'placement': 17,\n",
       "   'entrant': {'id': 1143104,\n",
       "    'name': 'RD | | Dushni',\n",
       "    'seeds': [{'seedNum': 12}]}},\n",
       "  {'placement': 17,\n",
       "   'entrant': {'id': 1152245, 'name': 'Altair', 'seeds': [{'seedNum': 18}]}},\n",
       "  {'placement': 17,\n",
       "   'entrant': {'id': 1152545, 'name': 'Owdy', 'seeds': [{'seedNum': 22}]}},\n",
       "  {'placement': 17,\n",
       "   'entrant': {'id': 1136190, 'name': 'Gleeface', 'seeds': [{'seedNum': 9}]}},\n",
       "  {'placement': 17,\n",
       "   'entrant': {'id': 1137935, 'name': 'Beannie', 'seeds': [{'seedNum': 10}]}}]}"
      ]
     },
     "execution_count": 305,
     "metadata": {},
     "output_type": "execute_result"
    }
   ],
   "source": [
    "data[\"data\"][\"event\"][\"standings\"]"
   ]
  },
  {
   "cell_type": "code",
   "execution_count": 306,
   "id": "4fb978e7",
   "metadata": {
    "scrolled": true
   },
   "outputs": [
    {
     "data": {
      "text/plain": [
       "{'placement': 1,\n",
       " 'entrant': {'id': 1152276,\n",
       "  'name': 'FR | Maxou0708',\n",
       "  'seeds': [{'seedNum': 20}]}}"
      ]
     },
     "execution_count": 306,
     "metadata": {},
     "output_type": "execute_result"
    }
   ],
   "source": [
    "data[\"data\"][\"event\"][\"standings\"][\"nodes\"][0] #Information for one player"
   ]
  },
  {
   "cell_type": "code",
   "execution_count": 307,
   "id": "21050829",
   "metadata": {
    "scrolled": true
   },
   "outputs": [
    {
     "data": {
      "text/plain": [
       "1"
      ]
     },
     "execution_count": 307,
     "metadata": {},
     "output_type": "execute_result"
    }
   ],
   "source": [
    "# Placement\n",
    "data[\"data\"][\"event\"][\"standings\"][\"nodes\"][0][\"placement\"]"
   ]
  },
  {
   "cell_type": "code",
   "execution_count": 308,
   "id": "6066df82",
   "metadata": {
    "scrolled": true
   },
   "outputs": [
    {
     "data": {
      "text/plain": [
       "'FR | Maxou0708'"
      ]
     },
     "execution_count": 308,
     "metadata": {},
     "output_type": "execute_result"
    }
   ],
   "source": [
    "# Name\n",
    "data[\"data\"][\"event\"][\"standings\"][\"nodes\"][0][\"entrant\"][\"name\"]"
   ]
  },
  {
   "cell_type": "code",
   "execution_count": 309,
   "id": "c2ab757c",
   "metadata": {},
   "outputs": [
    {
     "data": {
      "text/plain": [
       "1152276"
      ]
     },
     "execution_count": 309,
     "metadata": {},
     "output_type": "execute_result"
    }
   ],
   "source": [
    "# id\n",
    "data[\"data\"][\"event\"][\"standings\"][\"nodes\"][0][\"entrant\"][\"id\"]"
   ]
  },
  {
   "cell_type": "code",
   "execution_count": 310,
   "id": "2279b653",
   "metadata": {},
   "outputs": [
    {
     "data": {
      "text/plain": [
       "20"
      ]
     },
     "execution_count": 310,
     "metadata": {},
     "output_type": "execute_result"
    }
   ],
   "source": [
    "# Seeding\n",
    "data[\"data\"][\"event\"][\"standings\"][\"nodes\"][0][\"entrant\"][\"seeds\"][0][\"seedNum\"]"
   ]
  },
  {
   "cell_type": "code",
   "execution_count": 311,
   "id": "f095489c",
   "metadata": {},
   "outputs": [],
   "source": [
    "# Putting it all together in a for loop. Store information in arrays\n",
    "\n",
    "playerArray = []\n",
    "placementArray = []\n",
    "seedArray = []\n",
    "idArray = []\n",
    "\n",
    "for entrant in data[\"data\"][\"event\"][\"standings\"][\"nodes\"]:\n",
    "    playerArray.append(entrant[\"entrant\"][\"name\"])\n",
    "    idArray.append(entrant[\"entrant\"][\"id\"])\n",
    "    placementArray.append(entrant[\"placement\"])\n",
    "    seedArray.append(entrant[\"entrant\"][\"seeds\"][0][\"seedNum\"])"
   ]
  },
  {
   "cell_type": "code",
   "execution_count": 312,
   "id": "cb623613",
   "metadata": {},
   "outputs": [],
   "source": [
    "# Make a pandas dataframe of the arrays\n",
    "\n",
    "playerdf = pd.DataFrame({\n",
    "    \"Start ID\": idArray,\n",
    "    \"Player\": playerArray,\n",
    "    \"Seed\": seedArray,\n",
    "    \"Placement\": placementArray\n",
    "})"
   ]
  },
  {
   "cell_type": "code",
   "execution_count": 313,
   "id": "c4c63c1b",
   "metadata": {
    "scrolled": false
   },
   "outputs": [
    {
     "data": {
      "text/html": [
       "<div>\n",
       "<style scoped>\n",
       "    .dataframe tbody tr th:only-of-type {\n",
       "        vertical-align: middle;\n",
       "    }\n",
       "\n",
       "    .dataframe tbody tr th {\n",
       "        vertical-align: top;\n",
       "    }\n",
       "\n",
       "    .dataframe thead th {\n",
       "        text-align: right;\n",
       "    }\n",
       "</style>\n",
       "<table border=\"1\" class=\"dataframe\">\n",
       "  <thead>\n",
       "    <tr style=\"text-align: right;\">\n",
       "      <th></th>\n",
       "      <th>Start ID</th>\n",
       "      <th>Player</th>\n",
       "      <th>Seed</th>\n",
       "      <th>Placement</th>\n",
       "    </tr>\n",
       "  </thead>\n",
       "  <tbody>\n",
       "    <tr>\n",
       "      <th>0</th>\n",
       "      <td>1152276</td>\n",
       "      <td>FR | Maxou0708</td>\n",
       "      <td>20</td>\n",
       "      <td>1</td>\n",
       "    </tr>\n",
       "    <tr>\n",
       "      <th>1</th>\n",
       "      <td>1118825</td>\n",
       "      <td>Rapha_MTH</td>\n",
       "      <td>6</td>\n",
       "      <td>2</td>\n",
       "    </tr>\n",
       "    <tr>\n",
       "      <th>2</th>\n",
       "      <td>1133810</td>\n",
       "      <td>Sabaca</td>\n",
       "      <td>8</td>\n",
       "      <td>3</td>\n",
       "    </tr>\n",
       "    <tr>\n",
       "      <th>3</th>\n",
       "      <td>1152521</td>\n",
       "      <td>TCM | Raffa</td>\n",
       "      <td>21</td>\n",
       "      <td>4</td>\n",
       "    </tr>\n",
       "    <tr>\n",
       "      <th>4</th>\n",
       "      <td>1152258</td>\n",
       "      <td>FrankTank</td>\n",
       "      <td>19</td>\n",
       "      <td>5</td>\n",
       "    </tr>\n",
       "  </tbody>\n",
       "</table>\n",
       "</div>"
      ],
      "text/plain": [
       "   Start ID          Player  Seed  Placement\n",
       "0   1152276  FR | Maxou0708    20          1\n",
       "1   1118825       Rapha_MTH     6          2\n",
       "2   1133810          Sabaca     8          3\n",
       "3   1152521     TCM | Raffa    21          4\n",
       "4   1152258       FrankTank    19          5"
      ]
     },
     "execution_count": 313,
     "metadata": {},
     "output_type": "execute_result"
    }
   ],
   "source": [
    "playerdf.head()"
   ]
  },
  {
   "cell_type": "code",
   "execution_count": 314,
   "id": "27925121",
   "metadata": {},
   "outputs": [],
   "source": [
    "playerdf.to_csv(\"EUAC1Placements.csv\", index=False)"
   ]
  },
  {
   "cell_type": "markdown",
   "id": "27a653ec",
   "metadata": {},
   "source": [
    "All players, their Start ids, their placements and seeding, have been gathered. <br>To note for later: players can sign up with \"tags\". Denoted with a |. But | can be present in a tag"
   ]
  },
  {
   "cell_type": "markdown",
   "id": "210725d9",
   "metadata": {},
   "source": [
    "Due to the hierarchical structure of how tournaments in Start.gg can be, we need to use the event ID to get the phase ID, use the Phase Id to get the Phase Group ID, and then using the Phase Group ID we can obtain the sets in the tournaments that were played with their reported scores"
   ]
  },
  {
   "cell_type": "code",
   "execution_count": 315,
   "id": "899a73d9",
   "metadata": {},
   "outputs": [],
   "source": [
    "# Query to get Phase ID\n",
    "\n",
    "query = \"\"\"\n",
    "query {\n",
    "  event(id: 53835) {\n",
    "    id\n",
    "    name\n",
    "    phases {\n",
    "      id\n",
    "      name\n",
    "    }\n",
    "  }\n",
    "}\"\"\""
   ]
  },
  {
   "cell_type": "code",
   "execution_count": 316,
   "id": "e392843d",
   "metadata": {},
   "outputs": [],
   "source": [
    "data = run_query(query)"
   ]
  },
  {
   "cell_type": "code",
   "execution_count": 317,
   "id": "ef63eedd",
   "metadata": {
    "scrolled": true
   },
   "outputs": [
    {
     "data": {
      "text/plain": [
       "{'data': {'event': {'id': 53835,\n",
       "   'name': 'EU ARMS Challenge #1',\n",
       "   'phases': [{'id': 159661, 'name': 'Bracket'}]}},\n",
       " 'extensions': {'cacheControl': {'version': 1,\n",
       "   'hints': [{'path': ['event'], 'maxAge': 60, 'scope': 'PRIVATE'}]},\n",
       "  'queryComplexity': 2},\n",
       " 'actionRecords': []}"
      ]
     },
     "execution_count": 317,
     "metadata": {},
     "output_type": "execute_result"
    }
   ],
   "source": [
    "data"
   ]
  },
  {
   "cell_type": "code",
   "execution_count": 318,
   "id": "6dce0443",
   "metadata": {
    "scrolled": false
   },
   "outputs": [
    {
     "data": {
      "text/plain": [
       "159661"
      ]
     },
     "execution_count": 318,
     "metadata": {},
     "output_type": "execute_result"
    }
   ],
   "source": [
    "# Phase ID\n",
    "data[\"data\"][\"event\"][\"phases\"][0][\"id\"]"
   ]
  },
  {
   "cell_type": "code",
   "execution_count": 319,
   "id": "fc6fbe38",
   "metadata": {},
   "outputs": [],
   "source": [
    "# Query to get Phase Group ID\n",
    "query = \"\"\"\n",
    "query {\n",
    "  phase(id: 159661) {\n",
    "    phaseGroups {\n",
    "      nodes {\n",
    "        id\n",
    "      }\n",
    "    }\n",
    "  }\n",
    "}\"\"\""
   ]
  },
  {
   "cell_type": "code",
   "execution_count": 320,
   "id": "e9a1af48",
   "metadata": {},
   "outputs": [],
   "source": [
    "data = run_query(query)"
   ]
  },
  {
   "cell_type": "code",
   "execution_count": 321,
   "id": "df2905eb",
   "metadata": {
    "scrolled": true
   },
   "outputs": [
    {
     "data": {
      "text/plain": [
       "{'data': {'phase': {'phaseGroups': {'nodes': [{'id': 431370}]}}},\n",
       " 'extensions': {'cacheControl': {'version': 1, 'hints': None},\n",
       "  'queryComplexity': 1},\n",
       " 'actionRecords': []}"
      ]
     },
     "execution_count": 321,
     "metadata": {},
     "output_type": "execute_result"
    }
   ],
   "source": [
    "data"
   ]
  },
  {
   "cell_type": "code",
   "execution_count": 322,
   "id": "6b01523f",
   "metadata": {},
   "outputs": [
    {
     "data": {
      "text/plain": [
       "431370"
      ]
     },
     "execution_count": 322,
     "metadata": {},
     "output_type": "execute_result"
    }
   ],
   "source": [
    "# Phase Group ID\n",
    "data[\"data\"][\"phase\"][\"phaseGroups\"][\"nodes\"][0][\"id\"]"
   ]
  },
  {
   "cell_type": "code",
   "execution_count": 323,
   "id": "10050cf4",
   "metadata": {},
   "outputs": [],
   "source": [
    "# Query to get all sets\n",
    "\n",
    "query = \"\"\"\n",
    "query {\n",
    "  phaseGroup(id: 431370) {\n",
    "    sets(page: 1, perPage: 100) {\n",
    "      nodes {\n",
    "        id\n",
    "        displayScore\n",
    "        fullRoundText\n",
    "        winnerId\n",
    "        slots {\n",
    "          entrant {\n",
    "            name\n",
    "          }\n",
    "        }\n",
    "      }\n",
    "    }\n",
    "  }\n",
    "}\"\"\""
   ]
  },
  {
   "cell_type": "code",
   "execution_count": 324,
   "id": "49629bc3",
   "metadata": {},
   "outputs": [],
   "source": [
    "data = run_query(query)"
   ]
  },
  {
   "cell_type": "code",
   "execution_count": 325,
   "id": "ca6f56f2",
   "metadata": {
    "scrolled": true
   },
   "outputs": [
    {
     "data": {
      "text/plain": [
       "{'data': {'phaseGroup': {'sets': {'nodes': [{'id': 10598232,\n",
       "      'displayScore': 'Rapha_MTH 1 - FR | Maxou0708 3',\n",
       "      'fullRoundText': 'Grand Final',\n",
       "      'winnerId': 1152276,\n",
       "      'slots': [{'entrant': {'name': 'Rapha_MTH'}},\n",
       "       {'entrant': {'name': 'FR | Maxou0708'}}]},\n",
       "     {'id': 10598233,\n",
       "      'displayScore': 'FR | Maxou0708 3 - Rapha_MTH 0',\n",
       "      'fullRoundText': 'Grand Final Reset',\n",
       "      'winnerId': 1152276,\n",
       "      'slots': [{'entrant': {'name': 'FR | Maxou0708'}},\n",
       "       {'entrant': {'name': 'Rapha_MTH'}}]},\n",
       "     {'id': 10598231,\n",
       "      'displayScore': 'Sabaca 0 - Rapha_MTH 2',\n",
       "      'fullRoundText': 'Winners Final',\n",
       "      'winnerId': 1118825,\n",
       "      'slots': [{'entrant': {'name': 'Sabaca'}},\n",
       "       {'entrant': {'name': 'Rapha_MTH'}}]},\n",
       "     {'id': 10598295,\n",
       "      'displayScore': 'DQ',\n",
       "      'fullRoundText': 'Losers Final',\n",
       "      'winnerId': 1152276,\n",
       "      'slots': [{'entrant': {'name': 'Sabaca'}},\n",
       "       {'entrant': {'name': 'FR | Maxou0708'}}]},\n",
       "     {'id': 10598294,\n",
       "      'displayScore': 'FR | Maxou0708 3 - TCM | Raffa 1',\n",
       "      'fullRoundText': 'Losers Semi-Final',\n",
       "      'winnerId': 1152276,\n",
       "      'slots': [{'entrant': {'name': 'FR | Maxou0708'}},\n",
       "       {'entrant': {'name': 'TCM | Raffa'}}]},\n",
       "     {'id': 10598229,\n",
       "      'displayScore': 'DQ',\n",
       "      'fullRoundText': 'Winners Semi-Final',\n",
       "      'winnerId': 1133810,\n",
       "      'slots': [{'entrant': {'name': 'Sabaca'}},\n",
       "       {'entrant': {'name': 'TCM | Raffa'}}]},\n",
       "     {'id': 10598230,\n",
       "      'displayScore': 'ocrim 0 - Rapha_MTH 2',\n",
       "      'fullRoundText': 'Winners Semi-Final',\n",
       "      'winnerId': 1118825,\n",
       "      'slots': [{'entrant': {'name': 'ocrim'}},\n",
       "       {'entrant': {'name': 'Rapha_MTH'}}]},\n",
       "     {'id': 10598292,\n",
       "      'displayScore': 'ocrim 0 - FR | Maxou0708 2',\n",
       "      'fullRoundText': 'Losers Quarter-Final',\n",
       "      'winnerId': 1152276,\n",
       "      'slots': [{'entrant': {'name': 'ocrim'}},\n",
       "       {'entrant': {'name': 'FR | Maxou0708'}}]},\n",
       "     {'id': 10598293,\n",
       "      'displayScore': 'TCM | Raffa 2 - FrankTank 0',\n",
       "      'fullRoundText': 'Losers Quarter-Final',\n",
       "      'winnerId': 1152521,\n",
       "      'slots': [{'entrant': {'name': 'TCM | Raffa'}},\n",
       "       {'entrant': {'name': 'FrankTank'}}]},\n",
       "     {'id': 10598290,\n",
       "      'displayScore': 'Alumento 0 - FR | Maxou0708 2',\n",
       "      'fullRoundText': 'Losers Round 4',\n",
       "      'winnerId': 1152276,\n",
       "      'slots': [{'entrant': {'name': 'Alumento'}},\n",
       "       {'entrant': {'name': 'FR | Maxou0708'}}]},\n",
       "     {'id': 10598291,\n",
       "      'displayScore': 'FrankTank 2 - SC☆Momso 0',\n",
       "      'fullRoundText': 'Losers Round 4',\n",
       "      'winnerId': 1152258,\n",
       "      'slots': [{'entrant': {'name': 'FrankTank'}},\n",
       "       {'entrant': {'name': 'SC☆Momso'}}]},\n",
       "     {'id': 10598225,\n",
       "      'displayScore': 'Linkirto 0 - Sabaca 2',\n",
       "      'fullRoundText': 'Winners Quarter-Final',\n",
       "      'winnerId': 1133810,\n",
       "      'slots': [{'entrant': {'name': 'Linkirto'}},\n",
       "       {'entrant': {'name': 'Sabaca'}}]},\n",
       "     {'id': 10598226,\n",
       "      'displayScore': 'DQ',\n",
       "      'fullRoundText': 'Winners Quarter-Final',\n",
       "      'winnerId': 1152521,\n",
       "      'slots': [{'entrant': {'name': 'FR|TCM | InkAlyut'}},\n",
       "       {'entrant': {'name': 'TCM | Raffa'}}]},\n",
       "     {'id': 10598227,\n",
       "      'displayScore': 'ocrim 2 - SC☆Momso 0',\n",
       "      'fullRoundText': 'Winners Quarter-Final',\n",
       "      'winnerId': 1114568,\n",
       "      'slots': [{'entrant': {'name': 'ocrim'}},\n",
       "       {'entrant': {'name': 'SC☆Momso'}}]},\n",
       "     {'id': 10598228,\n",
       "      'displayScore': 'FrankTank 0 - Rapha_MTH 2',\n",
       "      'fullRoundText': 'Winners Quarter-Final',\n",
       "      'winnerId': 1118825,\n",
       "      'slots': [{'entrant': {'name': 'FrankTank'}},\n",
       "       {'entrant': {'name': 'Rapha_MTH'}}]},\n",
       "     {'id': 10598286,\n",
       "      'displayScore': 'DQ',\n",
       "      'fullRoundText': 'Losers Round 3',\n",
       "      'winnerId': 1139232,\n",
       "      'slots': [{'entrant': {'name': 'FR|TCM | InkAlyut'}},\n",
       "       {'entrant': {'name': 'Alumento'}}]},\n",
       "     {'id': 10598287,\n",
       "      'displayScore': 'Linkirto 1 - FR | Maxou0708 2',\n",
       "      'fullRoundText': 'Losers Round 3',\n",
       "      'winnerId': 1152276,\n",
       "      'slots': [{'entrant': {'name': 'Linkirto'}},\n",
       "       {'entrant': {'name': 'FR | Maxou0708'}}]},\n",
       "     {'id': 10598288,\n",
       "      'displayScore': 'FrankTank 2 - VilleViljar 0',\n",
       "      'fullRoundText': 'Losers Round 3',\n",
       "      'winnerId': 1152258,\n",
       "      'slots': [{'entrant': {'name': 'FrankTank'}},\n",
       "       {'entrant': {'name': 'VilleViljar'}}]},\n",
       "     {'id': 10598289,\n",
       "      'displayScore': 'SC☆Momso 2 - TCM | BD82 0',\n",
       "      'fullRoundText': 'Losers Round 3',\n",
       "      'winnerId': 1133727,\n",
       "      'slots': [{'entrant': {'name': 'SC☆Momso'}},\n",
       "       {'entrant': {'name': 'TCM | BD82'}}]},\n",
       "     {'id': 10598282,\n",
       "      'displayScore': 'Alumento 2 - Orthuss 1',\n",
       "      'fullRoundText': 'Losers Round 2',\n",
       "      'winnerId': 1139232,\n",
       "      'slots': [{'entrant': {'name': 'Alumento'}},\n",
       "       {'entrant': {'name': 'Orthuss'}}]},\n",
       "     {'id': 10598283,\n",
       "      'displayScore': 'FR | Maxou0708 2 - Kotorious BRD 0',\n",
       "      'fullRoundText': 'Losers Round 2',\n",
       "      'winnerId': 1152276,\n",
       "      'slots': [{'entrant': {'name': 'FR | Maxou0708'}},\n",
       "       {'entrant': {'name': 'Kotorious BRD'}}]},\n",
       "     {'id': 10598284,\n",
       "      'displayScore': 'Raayo 0 - VilleViljar 2',\n",
       "      'fullRoundText': 'Losers Round 2',\n",
       "      'winnerId': 1114889,\n",
       "      'slots': [{'entrant': {'name': 'Raayo'}},\n",
       "       {'entrant': {'name': 'VilleViljar'}}]},\n",
       "     {'id': 10598285,\n",
       "      'displayScore': 'BambooBoss 1 - TCM | BD82 2',\n",
       "      'fullRoundText': 'Losers Round 2',\n",
       "      'winnerId': 1152242,\n",
       "      'slots': [{'entrant': {'name': 'BambooBoss'}},\n",
       "       {'entrant': {'name': 'TCM | BD82'}}]},\n",
       "     {'id': 10598217,\n",
       "      'displayScore': 'Linkirto 2 - TCM | BD82 1',\n",
       "      'fullRoundText': 'Winners Round 2',\n",
       "      'winnerId': 1114480,\n",
       "      'slots': [{'entrant': {'name': 'Linkirto'}},\n",
       "       {'entrant': {'name': 'TCM | BD82'}}]},\n",
       "     {'id': 10598218,\n",
       "      'displayScore': 'DQ',\n",
       "      'fullRoundText': 'Winners Round 2',\n",
       "      'winnerId': 1133810,\n",
       "      'slots': [{'entrant': {'name': 'Sabaca'}},\n",
       "       {'entrant': {'name': 'Gleeface'}}]},\n",
       "     {'id': 10598219,\n",
       "      'displayScore': 'VilleViljar 0 - FR|TCM | InkAlyut 2',\n",
       "      'fullRoundText': 'Winners Round 2',\n",
       "      'winnerId': 1144825,\n",
       "      'slots': [{'entrant': {'name': 'VilleViljar'}},\n",
       "       {'entrant': {'name': 'FR|TCM | InkAlyut'}}]},\n",
       "     {'id': 10598220,\n",
       "      'displayScore': 'Raayo 0 - TCM | Raffa 2',\n",
       "      'fullRoundText': 'Winners Round 2',\n",
       "      'winnerId': 1152521,\n",
       "      'slots': [{'entrant': {'name': 'Raayo'}},\n",
       "       {'entrant': {'name': 'TCM | Raffa'}}]},\n",
       "     {'id': 10598221,\n",
       "      'displayScore': 'ocrim 2 - Kotorious BRD 0',\n",
       "      'fullRoundText': 'Winners Round 2',\n",
       "      'winnerId': 1114568,\n",
       "      'slots': [{'entrant': {'name': 'ocrim'}},\n",
       "       {'entrant': {'name': 'Kotorious BRD'}}]},\n",
       "     {'id': 10598222,\n",
       "      'displayScore': 'SC☆Momso 2 - Beannie 0',\n",
       "      'fullRoundText': 'Winners Round 2',\n",
       "      'winnerId': 1133727,\n",
       "      'slots': [{'entrant': {'name': 'SC☆Momso'}},\n",
       "       {'entrant': {'name': 'Beannie'}}]},\n",
       "     {'id': 10598223,\n",
       "      'displayScore': 'Orthuss 0 - FrankTank 2',\n",
       "      'fullRoundText': 'Winners Round 2',\n",
       "      'winnerId': 1152258,\n",
       "      'slots': [{'entrant': {'name': 'Orthuss'}},\n",
       "       {'entrant': {'name': 'FrankTank'}}]},\n",
       "     {'id': 10598224,\n",
       "      'displayScore': 'Rapha_MTH 2 - Alumento 0',\n",
       "      'fullRoundText': 'Winners Round 2',\n",
       "      'winnerId': 1118825,\n",
       "      'slots': [{'entrant': {'name': 'Rapha_MTH'}},\n",
       "       {'entrant': {'name': 'Alumento'}}]},\n",
       "     {'id': 10598278,\n",
       "      'displayScore': 'DQ',\n",
       "      'fullRoundText': 'Losers Round 1',\n",
       "      'winnerId': 1118319,\n",
       "      'slots': [{'entrant': {'name': 'Raayo'}},\n",
       "       {'entrant': {'name': 'Altair'}}]},\n",
       "     {'id': 10598280,\n",
       "      'displayScore': 'DQ',\n",
       "      'fullRoundText': 'Losers Round 1',\n",
       "      'winnerId': 1146459,\n",
       "      'slots': [{'entrant': {'name': 'Gleeface'}},\n",
       "       {'entrant': {'name': 'BambooBoss'}}]},\n",
       "     {'id': 10598281,\n",
       "      'displayScore': 'TCM | BD82 2 - Owdy 1',\n",
       "      'fullRoundText': 'Losers Round 1',\n",
       "      'winnerId': 1152242,\n",
       "      'slots': [{'entrant': {'name': 'TCM | BD82'}},\n",
       "       {'entrant': {'name': 'Owdy'}}]},\n",
       "     {'id': 10598274,\n",
       "      'displayScore': 'DQ',\n",
       "      'fullRoundText': 'Losers Round 1',\n",
       "      'winnerId': 1139232,\n",
       "      'slots': [{'entrant': {'name': 'Alumento'}},\n",
       "       {'entrant': {'name': 'Octey | Octey'}}]},\n",
       "     {'id': 10598276,\n",
       "      'displayScore': 'Beannie 0 - FR | Maxou0708 2',\n",
       "      'fullRoundText': 'Losers Round 1',\n",
       "      'winnerId': 1152276,\n",
       "      'slots': [{'entrant': {'name': 'Beannie'}},\n",
       "       {'entrant': {'name': 'FR | Maxou0708'}}]},\n",
       "     {'id': 10598277,\n",
       "      'displayScore': 'Kotorious BRD 2 - RD | | Dushni 0',\n",
       "      'fullRoundText': 'Losers Round 1',\n",
       "      'winnerId': 1152122,\n",
       "      'slots': [{'entrant': {'name': 'Kotorious BRD'}},\n",
       "       {'entrant': {'name': 'RD | | Dushni'}}]},\n",
       "     {'id': 10598202,\n",
       "      'displayScore': 'Octey | Octey 0 - TCM | BD82 2',\n",
       "      'fullRoundText': 'Winners Round 1',\n",
       "      'winnerId': 1152242,\n",
       "      'slots': [{'entrant': {'name': 'Octey | Octey'}},\n",
       "       {'entrant': {'name': 'TCM | BD82'}}]},\n",
       "     {'id': 10598206,\n",
       "      'displayScore': 'FR|TCM | InkAlyut 2 - FR | Maxou0708 1',\n",
       "      'fullRoundText': 'Winners Round 1',\n",
       "      'winnerId': 1144825,\n",
       "      'slots': [{'entrant': {'name': 'FR|TCM | InkAlyut'}},\n",
       "       {'entrant': {'name': 'FR | Maxou0708'}}]},\n",
       "     {'id': 10598208,\n",
       "      'displayScore': 'RD | | Dushni 0 - TCM | Raffa 2',\n",
       "      'fullRoundText': 'Winners Round 1',\n",
       "      'winnerId': 1152521,\n",
       "      'slots': [{'entrant': {'name': 'RD | | Dushni'}},\n",
       "       {'entrant': {'name': 'TCM | Raffa'}}]},\n",
       "     {'id': 10598210,\n",
       "      'displayScore': 'DQ',\n",
       "      'fullRoundText': 'Winners Round 1',\n",
       "      'winnerId': 1152122,\n",
       "      'slots': [{'entrant': {'name': 'Kotorious BRD'}},\n",
       "       {'entrant': {'name': 'Altair'}}]},\n",
       "     {'id': 10598214,\n",
       "      'displayScore': 'BambooBoss 0 - FrankTank 2',\n",
       "      'fullRoundText': 'Winners Round 1',\n",
       "      'winnerId': 1152258,\n",
       "      'slots': [{'entrant': {'name': 'BambooBoss'}},\n",
       "       {'entrant': {'name': 'FrankTank'}}]},\n",
       "     {'id': 10598216,\n",
       "      'displayScore': 'Alumento 2 - Owdy 0',\n",
       "      'fullRoundText': 'Winners Round 1',\n",
       "      'winnerId': 1139232,\n",
       "      'slots': [{'entrant': {'name': 'Alumento'}},\n",
       "       {'entrant': {'name': 'Owdy'}}]}]}}},\n",
       " 'extensions': {'cacheControl': {'version': 1, 'hints': None},\n",
       "  'queryComplexity': 259},\n",
       " 'actionRecords': []}"
      ]
     },
     "execution_count": 325,
     "metadata": {},
     "output_type": "execute_result"
    }
   ],
   "source": [
    "# Display all sets\n",
    "data"
   ]
  },
  {
   "cell_type": "code",
   "execution_count": 326,
   "id": "b0c9c432",
   "metadata": {
    "scrolled": true
   },
   "outputs": [
    {
     "data": {
      "text/plain": [
       "{'id': 10598232,\n",
       " 'displayScore': 'Rapha_MTH 1 - FR | Maxou0708 3',\n",
       " 'fullRoundText': 'Grand Final',\n",
       " 'winnerId': 1152276,\n",
       " 'slots': [{'entrant': {'name': 'Rapha_MTH'}},\n",
       "  {'entrant': {'name': 'FR | Maxou0708'}}]}"
      ]
     },
     "execution_count": 326,
     "metadata": {},
     "output_type": "execute_result"
    }
   ],
   "source": [
    "# Showing a set example\n",
    "data[\"data\"][\"phaseGroup\"][\"sets\"][\"nodes\"][0]"
   ]
  },
  {
   "cell_type": "code",
   "execution_count": 327,
   "id": "ed59a279",
   "metadata": {},
   "outputs": [
    {
     "data": {
      "text/plain": [
       "'Rapha_MTH'"
      ]
     },
     "execution_count": 327,
     "metadata": {},
     "output_type": "execute_result"
    }
   ],
   "source": [
    "# Retrieving a player's name\n",
    "data[\"data\"][\"phaseGroup\"][\"sets\"][\"nodes\"][0][\"slots\"][0][\"entrant\"][\"name\"]"
   ]
  },
  {
   "cell_type": "markdown",
   "id": "085011b6",
   "metadata": {},
   "source": [
    "This starts at the \"end\" of the tournament. The last match is first returned"
   ]
  },
  {
   "cell_type": "code",
   "execution_count": 328,
   "id": "637faf99",
   "metadata": {
    "scrolled": false
   },
   "outputs": [
    {
     "data": {
      "text/plain": [
       "{'id': 10598210,\n",
       " 'displayScore': 'DQ',\n",
       " 'fullRoundText': 'Winners Round 1',\n",
       " 'winnerId': 1152122,\n",
       " 'slots': [{'entrant': {'name': 'Kotorious BRD'}},\n",
       "  {'entrant': {'name': 'Altair'}}]}"
      ]
     },
     "execution_count": 328,
     "metadata": {},
     "output_type": "execute_result"
    }
   ],
   "source": [
    "data[\"data\"][\"phaseGroup\"][\"sets\"][\"nodes\"][-3]"
   ]
  },
  {
   "cell_type": "code",
   "execution_count": 329,
   "id": "fa154fff",
   "metadata": {
    "scrolled": true
   },
   "outputs": [
    {
     "data": {
      "text/plain": [
       "'ocrim 0 - FR | Maxou0708 2'"
      ]
     },
     "execution_count": 329,
     "metadata": {},
     "output_type": "execute_result"
    }
   ],
   "source": [
    "# Showing a set's score\n",
    "data[\"data\"][\"phaseGroup\"][\"sets\"][\"nodes\"][7][\"displayScore\"]"
   ]
  },
  {
   "cell_type": "markdown",
   "id": "839e7a8e",
   "metadata": {},
   "source": [
    "Player names and Scores can be gotten from \"displayScore\" but DQs will require a bit more work. <br>\n",
    "Will have to access \"slots\" to get player names, query dataframe for the winner id. Loser is the other. <br>\n",
    "<br>\n",
    "To get the score, the string will be split by the \" - \" and the last character of each string is the score"
   ]
  },
  {
   "cell_type": "code",
   "execution_count": 330,
   "id": "891163e5",
   "metadata": {},
   "outputs": [
    {
     "data": {
      "text/plain": [
       "['ocrim 0', 'FR | Maxou0708 2']"
      ]
     },
     "execution_count": 330,
     "metadata": {},
     "output_type": "execute_result"
    }
   ],
   "source": [
    "scoreSplit = data[\"data\"][\"phaseGroup\"][\"sets\"][\"nodes\"][7][\"displayScore\"].split(\" - \")\n",
    "scoreSplit"
   ]
  },
  {
   "cell_type": "code",
   "execution_count": 331,
   "id": "de525168",
   "metadata": {},
   "outputs": [],
   "source": [
    "# Function to retrieve player name from dataframe with their start id no.\n",
    "\n",
    "def retrieve_player(df, pid):\n",
    "    player = df[df[\"Start ID\"] == pid]\n",
    "    if not player.empty:\n",
    "        return player.iloc[0][\"Player\"]\n",
    "    else:\n",
    "        print(f\"No player matching ID {pid} was found\")"
   ]
  },
  {
   "cell_type": "code",
   "execution_count": 332,
   "id": "70c1edf9",
   "metadata": {},
   "outputs": [
    {
     "data": {
      "text/plain": [
       "'FR | Maxou0708'"
      ]
     },
     "execution_count": 332,
     "metadata": {},
     "output_type": "execute_result"
    }
   ],
   "source": [
    "retrieve_player(playerdf, 1152276)"
   ]
  },
  {
   "cell_type": "code",
   "execution_count": 2,
   "id": "01d2765f",
   "metadata": {},
   "outputs": [],
   "source": [
    "import re"
   ]
  },
  {
   "cell_type": "code",
   "execution_count": 334,
   "id": "aa537dc8",
   "metadata": {},
   "outputs": [],
   "source": [
    "player1Array = []\n",
    "player2Array = []\n",
    "winnerArray = []\n",
    "loserArray = []\n",
    "matchArray = []\n",
    "scoreArray = []\n",
    "matchNo = 1\n",
    "\n",
    "for sets in reversed(data[\"data\"][\"phaseGroup\"][\"sets\"][\"nodes\"]):\n",
    "    #Setting Player 1 and Player 2\n",
    "    player1 = sets[\"slots\"][0][\"entrant\"][\"name\"]\n",
    "    player2 = sets[\"slots\"][1][\"entrant\"][\"name\"]\n",
    "    player1Array.append(player1)\n",
    "    player2Array.append(player2)\n",
    "    \n",
    "    # Determining Winner and Loser\n",
    "    winner = retrieve_player(playerdf, sets[\"winnerId\"])\n",
    "    winnerArray.append(retrieve_player(playerdf, sets[\"winnerId\"]))\n",
    "    # If winner is p1, then loser is p2. Otherwise, p1 must be the loser\n",
    "    if winner == player1:\n",
    "        loser = player2\n",
    "    else:\n",
    "        loser = player1\n",
    "    loserArray.append(loser)\n",
    "    \n",
    "    # Match no\n",
    "    matchArray.append(matchNo)\n",
    "    matchNo += 1\n",
    "    \n",
    "    # Score\n",
    "    scoreSplit = sets[\"displayScore\"].split(\" - \")\n",
    "    # Catch DQs and register them as \"0--1\"\n",
    "    if scoreSplit[0][-1] == \"D\" or scoreSplit[0][-1] == \"Q\":\n",
    "        score = \"0--1\"\n",
    "        scoreArray.append(score)\n",
    "    else:\n",
    "        # Write score in perspective of winner. Higher score always first\n",
    "        # Ex. 2-0. Never 0-2\n",
    "        if int(scoreSplit[0][-1]) > int(scoreSplit[1][-1]):\n",
    "            score = f\"{scoreSplit[0][-1]}-{scoreSplit[1][-1]}\"\n",
    "            scoreArray.append(score)\n",
    "        elif int(scoreSplit[1][-1]) > int(scoreSplit[0][-1]):\n",
    "            score = f\"{scoreSplit[1][-1]}-{scoreSplit[0][-1]}\"\n",
    "            scoreArray.append(score)"
   ]
  },
  {
   "cell_type": "code",
   "execution_count": 335,
   "id": "986a264d",
   "metadata": {},
   "outputs": [],
   "source": [
    "df = pd.DataFrame({\n",
    "    \"Player1\": player1Array,\n",
    "    \"Player2\": player2Array,\n",
    "    \"Winner\": winnerArray,\n",
    "    \"Score\": scoreArray,\n",
    "    \"Loser\": loserArray,\n",
    "    \"MatchNo\": matchArray,\n",
    "    \"EUAC\": 1,\n",
    "    \"Date\": date\n",
    "})"
   ]
  },
  {
   "cell_type": "code",
   "execution_count": 336,
   "id": "2adf77e7",
   "metadata": {
    "scrolled": true
   },
   "outputs": [
    {
     "data": {
      "text/html": [
       "<div>\n",
       "<style scoped>\n",
       "    .dataframe tbody tr th:only-of-type {\n",
       "        vertical-align: middle;\n",
       "    }\n",
       "\n",
       "    .dataframe tbody tr th {\n",
       "        vertical-align: top;\n",
       "    }\n",
       "\n",
       "    .dataframe thead th {\n",
       "        text-align: right;\n",
       "    }\n",
       "</style>\n",
       "<table border=\"1\" class=\"dataframe\">\n",
       "  <thead>\n",
       "    <tr style=\"text-align: right;\">\n",
       "      <th></th>\n",
       "      <th>Player1</th>\n",
       "      <th>Player2</th>\n",
       "      <th>Winner</th>\n",
       "      <th>Score</th>\n",
       "      <th>Loser</th>\n",
       "      <th>MatchNo</th>\n",
       "      <th>EUAC</th>\n",
       "      <th>Date</th>\n",
       "    </tr>\n",
       "  </thead>\n",
       "  <tbody>\n",
       "    <tr>\n",
       "      <th>0</th>\n",
       "      <td>Alumento</td>\n",
       "      <td>Owdy</td>\n",
       "      <td>Alumento</td>\n",
       "      <td>2-0</td>\n",
       "      <td>Owdy</td>\n",
       "      <td>1</td>\n",
       "      <td>1</td>\n",
       "      <td>21/10/17</td>\n",
       "    </tr>\n",
       "    <tr>\n",
       "      <th>1</th>\n",
       "      <td>BambooBoss</td>\n",
       "      <td>FrankTank</td>\n",
       "      <td>FrankTank</td>\n",
       "      <td>2-0</td>\n",
       "      <td>BambooBoss</td>\n",
       "      <td>2</td>\n",
       "      <td>1</td>\n",
       "      <td>21/10/17</td>\n",
       "    </tr>\n",
       "    <tr>\n",
       "      <th>2</th>\n",
       "      <td>Kotorious BRD</td>\n",
       "      <td>Altair</td>\n",
       "      <td>Kotorious BRD</td>\n",
       "      <td>0--1</td>\n",
       "      <td>Altair</td>\n",
       "      <td>3</td>\n",
       "      <td>1</td>\n",
       "      <td>21/10/17</td>\n",
       "    </tr>\n",
       "    <tr>\n",
       "      <th>3</th>\n",
       "      <td>RD | | Dushni</td>\n",
       "      <td>TCM | Raffa</td>\n",
       "      <td>TCM | Raffa</td>\n",
       "      <td>2-0</td>\n",
       "      <td>RD | | Dushni</td>\n",
       "      <td>4</td>\n",
       "      <td>1</td>\n",
       "      <td>21/10/17</td>\n",
       "    </tr>\n",
       "    <tr>\n",
       "      <th>4</th>\n",
       "      <td>FR|TCM | InkAlyut</td>\n",
       "      <td>FR | Maxou0708</td>\n",
       "      <td>FR|TCM | InkAlyut</td>\n",
       "      <td>2-1</td>\n",
       "      <td>FR | Maxou0708</td>\n",
       "      <td>5</td>\n",
       "      <td>1</td>\n",
       "      <td>21/10/17</td>\n",
       "    </tr>\n",
       "  </tbody>\n",
       "</table>\n",
       "</div>"
      ],
      "text/plain": [
       "             Player1         Player2             Winner Score           Loser  \\\n",
       "0           Alumento            Owdy           Alumento   2-0            Owdy   \n",
       "1         BambooBoss       FrankTank          FrankTank   2-0      BambooBoss   \n",
       "2      Kotorious BRD          Altair      Kotorious BRD  0--1          Altair   \n",
       "3      RD | | Dushni     TCM | Raffa        TCM | Raffa   2-0   RD | | Dushni   \n",
       "4  FR|TCM | InkAlyut  FR | Maxou0708  FR|TCM | InkAlyut   2-1  FR | Maxou0708   \n",
       "\n",
       "   MatchNo  EUAC      Date  \n",
       "0        1     1  21/10/17  \n",
       "1        2     1  21/10/17  \n",
       "2        3     1  21/10/17  \n",
       "3        4     1  21/10/17  \n",
       "4        5     1  21/10/17  "
      ]
     },
     "execution_count": 336,
     "metadata": {},
     "output_type": "execute_result"
    }
   ],
   "source": [
    "df.head()"
   ]
  },
  {
   "cell_type": "code",
   "execution_count": 337,
   "id": "ad8b1d50",
   "metadata": {},
   "outputs": [],
   "source": [
    "df.to_csv(\"EUAC1Sets.csv\", index=False)"
   ]
  },
  {
   "cell_type": "markdown",
   "id": "61446e3a",
   "metadata": {},
   "source": [
    "### 3.2.2 - Challonge.com"
   ]
  },
  {
   "cell_type": "markdown",
   "id": "75458602",
   "metadata": {},
   "source": [
    "#### 3.2.2.1 - Acquiring URLs"
   ]
  },
  {
   "cell_type": "markdown",
   "id": "712db3ac",
   "metadata": {},
   "source": [
    "Using the direct url for the singular Start.gg link was fine but there are too many Challonge links to do it again that way. <br>\n",
    "Instead we will acquire the links from parsing the wiki page on this topic which contains them all."
   ]
  },
  {
   "cell_type": "code",
   "execution_count": 338,
   "id": "4d81a5ea",
   "metadata": {},
   "outputs": [],
   "source": [
    "from bs4 import BeautifulSoup\n",
    "\n",
    "url = \"https://armswiki.org/wiki/EU_ARMS_Challenge\"\n",
    "\n",
    "response = requests.get(url)\n",
    "soup = BeautifulSoup(response.content, \"html.parser\")"
   ]
  },
  {
   "cell_type": "code",
   "execution_count": 339,
   "id": "220cbdf2",
   "metadata": {
    "scrolled": true
   },
   "outputs": [
    {
     "name": "stdout",
     "output_type": "stream",
     "text": [
      "<!DOCTYPE html>\n",
      "\n",
      "<html class=\"client-nojs\" dir=\"ltr\" lang=\"en\">\n",
      "<head>\n",
      "<meta charset=\"utf-8\"/>\n",
      "<title>EU ARMS Challenge - ARMS Institute, the ARMS Wiki</title>\n",
      "<script>document.documentElement.className=\"client-js\";RLCONF={\"wgBreakFrames\":false,\"wgSeparatorTransformTable\":[\"\",\"\"],\"wgDigitTransformTable\":[\"\",\"\"],\"wgDefaultDateFormat\":\"dmy\",\"wgMonthNames\":[\"\",\"January\",\"February\",\"March\",\"April\",\"May\",\"June\",\"July\",\"August\",\"September\",\"October\",\"November\",\"December\"],\"wgRequestId\":\"abe6ee09a400cfec507e0a8e\",\"wgCanonicalNamespace\":\"\",\"wgCanonicalSpecialPageName\":false,\"wgNamespaceNumber\":0,\"wgPageName\":\"EU_ARMS_Challenge\",\"wgTitle\":\"EU ARMS Challenge\",\"wgCurRevisionId\":23064,\"wgRevisionId\":23064,\"wgArticleId\":4223,\"wgIsArticle\":true,\"wgIsRedirect\":false,\"wgAction\":\"view\",\"wgUserName\":null,\"wgUserGroups\":[\"*\"],\"wgCategories\":[\"Tournaments\"],\"wgPageViewLanguage\":\"en\",\"wgPageContentLanguage\":\"en\",\"wgPageContentModel\":\"wikitext\",\"wgRelevantPageName\":\"EU_ARMS_Challenge\",\"wgRelevantArticleId\":4223,\"wgIsProbablyEditable\":false,\"wgRelevantPageIsProbablyEditable\":false,\"wgRestrictionEdit\":[],\"wgRestrictionMove\":[],\"wgCargoDefaultQueryLimit\":100,\n",
      "\"wgCargoMapClusteringMinimum\":80,\"wgCargoMonthNamesShort\":[\"Jan\",\"Feb\",\"Mar\",\"Apr\",\"May\",\"Jun\",\"Jul\",\"Aug\",\"Sep\",\"Oct\",\"Nov\",\"Dec\"],\"wgMFDisplayWikibaseDescriptions\":{\"search\":false,\"watchlist\":false,\"tagline\":false},\"wgVisualEditor\":{\"pageLanguageCode\":\"en\",\"pageLanguageDir\":\"ltr\",\"pageVariantFallbacks\":\"en\"},\"wgEditSubmitButtonLabelPublish\":false};RLSTATE={\"site.styles\":\"ready\",\"user.styles\":\"ready\",\"user\":\"ready\",\"user.options\":\"loading\",\"ext.cite.styles\":\"ready\",\"skins.vector.styles.legacy\":\"ready\",\"ext.visualEditor.desktopArticleTarget.noscript\":\"ready\"};RLPAGEMODULES=[\"ext.cite.ux-enhancements\",\"mediawiki.page.media\",\"site\",\"mediawiki.page.ready\",\"mediawiki.toc\",\"skins.vector.legacy.js\",\"ext.visualEditor.desktopArticleTarget.init\",\"ext.visualEditor.targetLoader\",\"ext.cargo.purge\"];</script>\n",
      "<script>(RLQ=window.RLQ||[]).push(function(){mw.loader.impl(function(){return[\"user.options@12s5i\",function($,jQuery,require,module){mw.user.tokens.set({\"patrolToken\":\"+\\\\\",\"watchToken\":\"+\\\\\",\"csrfToken\":\"+\\\\\"});\n",
      "}];});});</script>\n",
      "<link href=\"/w/load.php?lang=en&amp;modules=ext.cite.styles%7Cext.visualEditor.desktopArticleTarget.noscript%7Cskins.vector.styles.legacy&amp;only=styles&amp;skin=vector\" rel=\"stylesheet\"/>\n",
      "<script async=\"\" src=\"/w/load.php?lang=en&amp;modules=startup&amp;only=scripts&amp;raw=1&amp;skin=vector\"></script>\n",
      "<meta content=\"\" name=\"ResourceLoaderDynamicStyles\"/>\n",
      "<link href=\"/w/load.php?lang=en&amp;modules=site.styles&amp;only=styles&amp;skin=vector\" rel=\"stylesheet\"/>\n",
      "<meta content=\"MediaWiki 1.41.4\" name=\"generator\"/>\n",
      "<meta content=\"max-image-preview:standard\" name=\"robots\"/>\n",
      "<meta content=\"telephone=no\" name=\"format-detection\"/>\n",
      "<meta content=\"https://cdn.wikimg.net/en/armswiki/images/0/0f/EUARMSLogo.png\" property=\"og:image\"/>\n",
      "<meta content=\"1200\" property=\"og:image:width\"/>\n",
      "<meta content=\"1133\" property=\"og:image:height\"/>\n",
      "<meta content=\"https://cdn.wikimg.net/en/armswiki/images/thumb/0/0f/EUARMSLogo.png/800px-EUARMSLogo.png\" property=\"og:image\"/>\n",
      "<meta content=\"800\" property=\"og:image:width\"/>\n",
      "<meta content=\"755\" property=\"og:image:height\"/>\n",
      "<meta content=\"https://cdn.wikimg.net/en/armswiki/images/thumb/0/0f/EUARMSLogo.png/640px-EUARMSLogo.png\" property=\"og:image\"/>\n",
      "<meta content=\"640\" property=\"og:image:width\"/>\n",
      "<meta content=\"604\" property=\"og:image:height\"/>\n",
      "<meta content=\"EU ARMS Challenge (abbreviated as EUAC) is an online biweekly ARMS tournament series originally created and organized by Cojora and Raffa which was ran by Ripha...\" name=\"description\"/>\n",
      "<meta content=\"summary_large_image\" name=\"twitter:card\"/>\n",
      "<meta content=\"width=1000\" name=\"viewport\"/>\n",
      "<link href=\"//cdn.wikimg.net/en/armswiki/favicon.ico\" rel=\"icon\"/>\n",
      "<link href=\"/w/opensearch_desc.php\" rel=\"search\" title=\"ARMS Institute (en)\" type=\"application/opensearchdescription+xml\"/>\n",
      "<link href=\"//armswiki.org/w/api.php?action=rsd\" rel=\"EditURI\" type=\"application/rsd+xml\"/>\n",
      "<link href=\"https://creativecommons.org/licenses/by-sa/4.0/\" rel=\"license\"/>\n",
      "<link href=\"/w/index.php?title=Special:RecentChanges&amp;feed=atom\" rel=\"alternate\" title=\"ARMS Institute Atom feed\" type=\"application/atom+xml\"/>\n",
      "<meta content=\"EU ARMS Challenge\" property=\"og:title\"/>\n",
      "<meta content=\"ARMS Institute\" property=\"og:site_name\"/>\n",
      "<meta content=\"https://armswiki.org/wiki/EU_ARMS_Challenge\" property=\"og:url\"/>\n",
      "<meta content=\"EU ARMS Challenge (abbreviated as EUAC) is an online biweekly ARMS tournament series originally created and organized by Cojora and Raffa which was ran by Ripha...\" property=\"og:description\"/>\n",
      "<meta content=\"2024-10-13T22:02:49Z\" property=\"article:modified_time\"/>\n",
      "<meta content=\"2024-10-13T22:02:49Z\" property=\"article:published_time\"/>\n",
      "<script type=\"application/ld+json\">{\"@context\":\"http:\\/\\/schema.org\",\"@type\":\"Article\",\"name\":\"EU ARMS Challenge - ARMS Institute, the ARMS Wiki\",\"headline\":\"EU ARMS Challenge - ARMS Institute, the ARMS Wiki\",\"mainEntityOfPage\":\"EU ARMS Challenge\",\"identifier\":\"https:\\/\\/armswiki.org\\/wiki\\/EU_ARMS_Challenge\",\"url\":\"https:\\/\\/armswiki.org\\/wiki\\/EU_ARMS_Challenge\",\"description\":\"EU ARMS Challenge (abbreviated as EUAC) is an online biweekly ARMS tournament series originally created and organized by Cojora and Raffa which was ran by Ripha...\",\"dateModified\":\"2024-10-13T22:02:49Z\",\"datePublished\":\"2024-10-13T22:02:49Z\",\"image\":{\"@type\":\"ImageObject\",\"url\":\"https:\\/\\/cdn.wikimg.net\\/en\\/armswiki\\/images\\/5\\/59\\/Site-wiki.png\"},\"author\":{\"@type\":\"Organization\",\"name\":\"ARMS Institute\",\"url\":\"\\/\\/armswiki.org\",\"logo\":{\"@type\":\"ImageObject\",\"url\":\"https:\\/\\/cdn.wikimg.net\\/en\\/armswiki\\/images\\/5\\/59\\/Site-wiki.png\",\"caption\":\"ARMS Institute\"}},\"publisher\":{\"@type\":\"Organization\",\"name\":\"ARMS Institute\",\"url\":\"\\/\\/armswiki.org\",\"logo\":{\"@type\":\"ImageObject\",\"url\":\"https:\\/\\/cdn.wikimg.net\\/en\\/armswiki\\/images\\/5\\/59\\/Site-wiki.png\",\"caption\":\"ARMS Institute\"}},\"potentialAction\":{\"@type\":\"SearchAction\",\"target\":\"https:\\/\\/armswiki.org\\/w\\/index.php?title=Special:Search&search={search_term}\",\"query-input\":\"required name=search_term\"}}</script>\n",
      "</head>\n",
      "<body class=\"skin-vector-legacy mediawiki ltr sitedir-ltr mw-hide-empty-elt ns-0 ns-subject page-EU_ARMS_Challenge rootpage-EU_ARMS_Challenge skin-vector action-view\"><div class=\"noprint\" id=\"mw-page-base\"></div>\n",
      "<div class=\"noprint\" id=\"mw-head-base\"></div>\n",
      "<div class=\"mw-body\" id=\"content\" role=\"main\">\n",
      "<a id=\"top\"></a>\n",
      "<div id=\"siteNotice\"></div>\n",
      "<div class=\"mw-indicators\">\n",
      "</div>\n",
      "<h1 class=\"firstHeading mw-first-heading\" id=\"firstHeading\"><span class=\"mw-page-title-main\">EU ARMS Challenge</span></h1>\n",
      "<div class=\"vector-body\" id=\"bodyContent\">\n",
      "<div class=\"noprint\" id=\"siteSub\">From ARMS Institute, the ARMS Wiki</div>\n",
      "<div id=\"contentSub\"><div id=\"mw-content-subtitle\"></div></div>\n",
      "<div id=\"contentSub2\"></div>\n",
      "<div id=\"jump-to-nav\"></div>\n",
      "<a class=\"mw-jump-link\" href=\"#mw-head\">Jump to navigation</a>\n",
      "<a class=\"mw-jump-link\" href=\"#searchInput\">Jump to search</a>\n",
      "<div class=\"mw-body-content mw-content-ltr\" dir=\"ltr\" id=\"mw-content-text\" lang=\"en\"><div class=\"mw-parser-output\"><figure class=\"mw-default-size mw-halign-right\" typeof=\"mw:File/Thumb\"><a class=\"mw-file-description\" href=\"/wiki/File:EUARMSLogo.png\"><img class=\"mw-file-element\" decoding=\"async\" height=\"283\" src=\"//cdn.wikimg.net/en/armswiki/images/thumb/0/0f/EUARMSLogo.png/300px-EUARMSLogo.png\" srcset=\"//cdn.wikimg.net/en/armswiki/images/thumb/0/0f/EUARMSLogo.png/450px-EUARMSLogo.png 1.5x, //cdn.wikimg.net/en/armswiki/images/thumb/0/0f/EUARMSLogo.png/600px-EUARMSLogo.png 2x\" width=\"300\"/></a><figcaption>European ARMS' logo which is commonly associated with the EUAC event series.</figcaption></figure>\n",
      "<p><b>EU ARMS Challenge</b> (abbreviated as EUAC) is an online biweekly <i><a href=\"/wiki/ARMS_(game)\" title=\"ARMS (game)\">ARMS</a></i> tournament series originally created and organized by <a class=\"new\" href=\"/w/index.php?title=Cojora&amp;action=edit&amp;redlink=1\" title=\"Cojora (page does not exist)\">Cojora</a> and <a href=\"/wiki/Raffa\" title=\"Raffa\">Raffa</a> which was ran by <a href=\"/wiki/Ripha\" title=\"Ripha\">Ripha</a> and <a class=\"new\" href=\"/w/index.php?title=Ocrim&amp;action=edit&amp;redlink=1\" title=\"Ocrim (page does not exist)\">ocrim</a> until the series' end of regular events. The later duo took control of the series starting with EUAC #5 on July 15th, 2018. EU ARMS Challenge began in October of 2017 and continued until December 4th, 2022 with EU ARMS Challenge #107. Although regularly held biweekly events will no longer continue, there may still be occasional spur of the moment EUACs. Considering the series ran for more than 5 years with over 100 events, EU ARMS Challenge is the longest running European-only <i>ARMS</i> tournament series.\n",
      "</p>\n",
      "<div aria-labelledby=\"mw-toc-heading\" class=\"toc\" id=\"toc\" role=\"navigation\"><input class=\"toctogglecheckbox\" id=\"toctogglecheckbox\" role=\"button\" style=\"display:none\" type=\"checkbox\"/><div class=\"toctitle\" dir=\"ltr\" lang=\"en\"><h2 id=\"mw-toc-heading\">Contents</h2><span class=\"toctogglespan\"><label class=\"toctogglelabel\" for=\"toctogglecheckbox\"></label></span></div>\n",
      "<ul>\n",
      "<li class=\"toclevel-1 tocsection-1\"><a href=\"#Format\"><span class=\"tocnumber\">1</span> <span class=\"toctext\">Format</span></a></li>\n",
      "<li class=\"toclevel-1 tocsection-2\"><a href=\"#Tournaments\"><span class=\"tocnumber\">2</span> <span class=\"toctext\">Tournaments</span></a></li>\n",
      "<li class=\"toclevel-1 tocsection-3\"><a href=\"#Trivia\"><span class=\"tocnumber\">3</span> <span class=\"toctext\">Trivia</span></a></li>\n",
      "<li class=\"toclevel-1 tocsection-4\"><a href=\"#Gameplay_Videos\"><span class=\"tocnumber\">4</span> <span class=\"toctext\">Gameplay Videos</span></a></li>\n",
      "<li class=\"toclevel-1 tocsection-5\"><a href=\"#References\"><span class=\"tocnumber\">5</span> <span class=\"toctext\">References</span></a></li>\n",
      "</ul>\n",
      "</div>\n",
      "<h2><span class=\"mw-headline\" id=\"Format\">Format</span></h2>\n",
      "<p>Like most events, EU ARMS Challenge ran double elimination brackets. Players utilized the EU ARMS Discord server to communicate with their opponents as the brackets (aside from the first event) were ran on Challonge, a site that lacks player-to-player chat functions. The tournament was streamed through EU ARMS' Twitch account and has featured many different casters over time including <a href=\"/wiki/Defur\" title=\"Defur\">Defur</a>, Layla, Mathias Wolfbrok, and more. In terms of the tournament's stage list, the \"Backroom\" stages were initially used, though starting with EUAC #64 <a href=\"/wiki/Ninja_College\" title=\"Ninja College\">Ninja College</a> replaced <a href=\"/wiki/Scrapyard\" title=\"Scrapyard\">Scrapyard</a> as a counterpick stage. Generally, the event utilizes a modified Backroom ruleset.\n",
      "</p><p>EU ARMS Challenge events have always counted toward the EU ARMS Power Ranking since said ranking's inception. At the end of power ranking seasons, invitational events with prize pools have traditionally been held, though prior to these occurring specific EUAC events featured prize pools instead. These events are EUAC #19 and #25, both of which had a $100 pot.\n",
      "</p>\n",
      "<h2><span class=\"mw-headline\" id=\"Tournaments\">Tournaments</span></h2>\n",
      "<table class=\"wikitable\">\n",
      "<tbody><tr>\n",
      "<th>Bracket</th>\n",
      "<th>Date</th>\n",
      "<th>Winner</th>\n",
      "<th>Character(s) used\n",
      "</th></tr>\n",
      "<tr>\n",
      "<td><a class=\"external text\" href=\"https://smash.gg/tournament/eu-arms-challenge-1/details\" rel=\"nofollow\">EU ARMS Challenge #1</a></td>\n",
      "<td>October 21, 2017</td>\n",
      "<td>Maxou</td>\n",
      "<td><span typeof=\"mw:File\"><a href=\"/wiki/Ribbon_Girl\" title=\"Ribbon Girl\"><img class=\"mw-file-element\" decoding=\"async\" height=\"25\" src=\"//cdn.wikimg.net/en/armswiki/images/thumb/e/ed/Icon-Ribbon_Girl.png/25px-Icon-Ribbon_Girl.png\" srcset=\"//cdn.wikimg.net/en/armswiki/images/thumb/e/ed/Icon-Ribbon_Girl.png/38px-Icon-Ribbon_Girl.png 1.5x, //cdn.wikimg.net/en/armswiki/images/thumb/e/ed/Icon-Ribbon_Girl.png/50px-Icon-Ribbon_Girl.png 2x\" width=\"25\"/></a></span>\n",
      "</td></tr>\n",
      "<tr>\n",
      "<td><a class=\"external text\" href=\"https://challonge.com/EUCHALLLENGE2\" rel=\"nofollow\">EU ARMS Challenge #2</a></td>\n",
      "<td>November 12, 2017</td>\n",
      "<td><a href=\"/wiki/Raffa\" title=\"Raffa\">Raffa</a></td>\n",
      "<td><span typeof=\"mw:File\"><a href=\"/wiki/Kid_Cobra\" title=\"Kid Cobra\"><img class=\"mw-file-element\" decoding=\"async\" height=\"25\" src=\"//cdn.wikimg.net/en/armswiki/images/thumb/b/b7/Icon-Kid_Cobra.png/25px-Icon-Kid_Cobra.png\" srcset=\"//cdn.wikimg.net/en/armswiki/images/thumb/b/b7/Icon-Kid_Cobra.png/38px-Icon-Kid_Cobra.png 1.5x, //cdn.wikimg.net/en/armswiki/images/thumb/b/b7/Icon-Kid_Cobra.png/50px-Icon-Kid_Cobra.png 2x\" width=\"25\"/></a></span>\n",
      "</td></tr>\n",
      "<tr>\n",
      "<td><a class=\"external text\" href=\"https://challonge.com/EUCHALLLENGE3\" rel=\"nofollow\">EU ARMS Challenge #3</a></td>\n",
      "<td>December 9, 2017</td>\n",
      "<td><a href=\"/wiki/Ripha\" title=\"Ripha\">Ripha</a></td>\n",
      "<td><span typeof=\"mw:File\"><a href=\"/wiki/Ninjara\" title=\"Ninjara\"><img class=\"mw-file-element\" decoding=\"async\" height=\"25\" src=\"//cdn.wikimg.net/en/armswiki/images/thumb/0/0c/Icon-Ninjara.png/25px-Icon-Ninjara.png\" srcset=\"//cdn.wikimg.net/en/armswiki/images/thumb/0/0c/Icon-Ninjara.png/38px-Icon-Ninjara.png 1.5x, //cdn.wikimg.net/en/armswiki/images/thumb/0/0c/Icon-Ninjara.png/50px-Icon-Ninjara.png 2x\" width=\"25\"/></a></span>\n",
      "</td></tr>\n",
      "<tr>\n",
      "<td><a class=\"external text\" href=\"https://challonge.com/EUCHALLENGE4_Europe\" rel=\"nofollow\">EU ARMS Challenge #4 (EUROPE BRACKET)</a></td>\n",
      "<td>January 21, 2018</td>\n",
      "<td>FrankTank</td>\n",
      "<td><span typeof=\"mw:File\"><a href=\"/wiki/Spring_Man\" title=\"Spring Man\"><img class=\"mw-file-element\" decoding=\"async\" height=\"25\" src=\"//cdn.wikimg.net/en/armswiki/images/thumb/b/b6/Icon-Spring_Man.png/25px-Icon-Spring_Man.png\" srcset=\"//cdn.wikimg.net/en/armswiki/images/thumb/b/b6/Icon-Spring_Man.png/38px-Icon-Spring_Man.png 1.5x, //cdn.wikimg.net/en/armswiki/images/thumb/b/b6/Icon-Spring_Man.png/50px-Icon-Spring_Man.png 2x\" width=\"25\"/></a></span>\n",
      "</td></tr>\n",
      "<tr>\n",
      "<td><a class=\"external text\" href=\"https://challonge.com/EUChallenge5\" rel=\"nofollow\">EU ARMS Challenge #5</a></td>\n",
      "<td>July 15, 2018</td>\n",
      "<td><a class=\"new\" href=\"/w/index.php?title=Y%C3%A4tta&amp;action=edit&amp;redlink=1\" title=\"Yätta (page does not exist)\">Yätta</a></td>\n",
      "<td><span typeof=\"mw:File\"><a href=\"/wiki/Ribbon_Girl\" title=\"Ribbon Girl\"><img class=\"mw-file-element\" decoding=\"async\" height=\"25\" src=\"//cdn.wikimg.net/en/armswiki/images/thumb/e/ed/Icon-Ribbon_Girl.png/25px-Icon-Ribbon_Girl.png\" srcset=\"//cdn.wikimg.net/en/armswiki/images/thumb/e/ed/Icon-Ribbon_Girl.png/38px-Icon-Ribbon_Girl.png 1.5x, //cdn.wikimg.net/en/armswiki/images/thumb/e/ed/Icon-Ribbon_Girl.png/50px-Icon-Ribbon_Girl.png 2x\" width=\"25\"/></a></span>\n",
      "</td></tr>\n",
      "<tr>\n",
      "<td><a class=\"external text\" href=\"https://challonge.com/EUChallenge6\" rel=\"nofollow\">EU ARMS Challenge #6</a></td>\n",
      "<td>July 29, 2018</td>\n",
      "<td><a class=\"new\" href=\"/w/index.php?title=Y%C3%A4tta&amp;action=edit&amp;redlink=1\" title=\"Yätta (page does not exist)\">Yätta</a></td>\n",
      "<td><span typeof=\"mw:File\"><a href=\"/wiki/Ribbon_Girl\" title=\"Ribbon Girl\"><img class=\"mw-file-element\" decoding=\"async\" height=\"25\" src=\"//cdn.wikimg.net/en/armswiki/images/thumb/e/ed/Icon-Ribbon_Girl.png/25px-Icon-Ribbon_Girl.png\" srcset=\"//cdn.wikimg.net/en/armswiki/images/thumb/e/ed/Icon-Ribbon_Girl.png/38px-Icon-Ribbon_Girl.png 1.5x, //cdn.wikimg.net/en/armswiki/images/thumb/e/ed/Icon-Ribbon_Girl.png/50px-Icon-Ribbon_Girl.png 2x\" width=\"25\"/></a></span>\n",
      "</td></tr>\n",
      "<tr>\n",
      "<td><a class=\"external text\" href=\"https://challonge.com/EUChallenge7\" rel=\"nofollow\">EU ARMS Challenge #7</a></td>\n",
      "<td>August 19, 2018</td>\n",
      "<td><a class=\"new\" href=\"/w/index.php?title=Y%C3%A4tta&amp;action=edit&amp;redlink=1\" title=\"Yätta (page does not exist)\">Yätta</a></td>\n",
      "<td><span typeof=\"mw:File\"><a href=\"/wiki/Ribbon_Girl\" title=\"Ribbon Girl\"><img class=\"mw-file-element\" decoding=\"async\" height=\"25\" src=\"//cdn.wikimg.net/en/armswiki/images/thumb/e/ed/Icon-Ribbon_Girl.png/25px-Icon-Ribbon_Girl.png\" srcset=\"//cdn.wikimg.net/en/armswiki/images/thumb/e/ed/Icon-Ribbon_Girl.png/38px-Icon-Ribbon_Girl.png 1.5x, //cdn.wikimg.net/en/armswiki/images/thumb/e/ed/Icon-Ribbon_Girl.png/50px-Icon-Ribbon_Girl.png 2x\" width=\"25\"/></a></span>\n",
      "</td></tr>\n",
      "<tr>\n",
      "<td><a class=\"external text\" href=\"https://challonge.com/EUChallenge8\" rel=\"nofollow\">EU ARMS Challenge #8</a></td>\n",
      "<td>September 2, 2018</td>\n",
      "<td><a class=\"new\" href=\"/w/index.php?title=Y%C3%A4tta&amp;action=edit&amp;redlink=1\" title=\"Yätta (page does not exist)\">Yätta</a></td>\n",
      "<td><span typeof=\"mw:File\"><a href=\"/wiki/Ribbon_Girl\" title=\"Ribbon Girl\"><img class=\"mw-file-element\" decoding=\"async\" height=\"25\" src=\"//cdn.wikimg.net/en/armswiki/images/thumb/e/ed/Icon-Ribbon_Girl.png/25px-Icon-Ribbon_Girl.png\" srcset=\"//cdn.wikimg.net/en/armswiki/images/thumb/e/ed/Icon-Ribbon_Girl.png/38px-Icon-Ribbon_Girl.png 1.5x, //cdn.wikimg.net/en/armswiki/images/thumb/e/ed/Icon-Ribbon_Girl.png/50px-Icon-Ribbon_Girl.png 2x\" width=\"25\"/></a></span>\n",
      "</td></tr>\n",
      "<tr>\n",
      "<td><a class=\"external text\" href=\"https://challonge.com/EUChallenge9\" rel=\"nofollow\">EU ARMS Challenge #9</a></td>\n",
      "<td>September 16, 2018</td>\n",
      "<td><a href=\"/wiki/Raffa\" title=\"Raffa\">Raffa</a></td>\n",
      "<td><span typeof=\"mw:File\"><a href=\"/wiki/Kid_Cobra\" title=\"Kid Cobra\"><img class=\"mw-file-element\" decoding=\"async\" height=\"25\" src=\"//cdn.wikimg.net/en/armswiki/images/thumb/b/b7/Icon-Kid_Cobra.png/25px-Icon-Kid_Cobra.png\" srcset=\"//cdn.wikimg.net/en/armswiki/images/thumb/b/b7/Icon-Kid_Cobra.png/38px-Icon-Kid_Cobra.png 1.5x, //cdn.wikimg.net/en/armswiki/images/thumb/b/b7/Icon-Kid_Cobra.png/50px-Icon-Kid_Cobra.png 2x\" width=\"25\"/></a></span>\n",
      "</td></tr>\n",
      "<tr>\n",
      "<td><a class=\"external text\" href=\"https://challonge.com/EUChallenge10\" rel=\"nofollow\">EU ARMS Challenge #10</a></td>\n",
      "<td>October 7, 2018</td>\n",
      "<td><a class=\"new\" href=\"/w/index.php?title=Y%C3%A4tta&amp;action=edit&amp;redlink=1\" title=\"Yätta (page does not exist)\">Yätta</a></td>\n",
      "<td><span typeof=\"mw:File\"><a href=\"/wiki/Ribbon_Girl\" title=\"Ribbon Girl\"><img class=\"mw-file-element\" decoding=\"async\" height=\"25\" src=\"//cdn.wikimg.net/en/armswiki/images/thumb/e/ed/Icon-Ribbon_Girl.png/25px-Icon-Ribbon_Girl.png\" srcset=\"//cdn.wikimg.net/en/armswiki/images/thumb/e/ed/Icon-Ribbon_Girl.png/38px-Icon-Ribbon_Girl.png 1.5x, //cdn.wikimg.net/en/armswiki/images/thumb/e/ed/Icon-Ribbon_Girl.png/50px-Icon-Ribbon_Girl.png 2x\" width=\"25\"/></a></span>\n",
      "</td></tr>\n",
      "<tr>\n",
      "<td><a class=\"external text\" href=\"https://challonge.com/EUChallenge11\" rel=\"nofollow\">EU ARMS Challenge #11</a></td>\n",
      "<td>October 21, 2018</td>\n",
      "<td><a href=\"/wiki/Ripha\" title=\"Ripha\">Ripha</a></td>\n",
      "<td><span typeof=\"mw:File\"><a href=\"/wiki/Ninjara\" title=\"Ninjara\"><img class=\"mw-file-element\" decoding=\"async\" height=\"25\" src=\"//cdn.wikimg.net/en/armswiki/images/thumb/0/0c/Icon-Ninjara.png/25px-Icon-Ninjara.png\" srcset=\"//cdn.wikimg.net/en/armswiki/images/thumb/0/0c/Icon-Ninjara.png/38px-Icon-Ninjara.png 1.5x, //cdn.wikimg.net/en/armswiki/images/thumb/0/0c/Icon-Ninjara.png/50px-Icon-Ninjara.png 2x\" width=\"25\"/></a></span>\n",
      "</td></tr>\n",
      "<tr>\n",
      "<td><a class=\"external text\" href=\"https://challonge.com/EUChallenge12\" rel=\"nofollow\">EU ARMS Challenge #12</a></td>\n",
      "<td>November 4, 2018</td>\n",
      "<td><a class=\"new\" href=\"/w/index.php?title=Y%C3%A4tta&amp;action=edit&amp;redlink=1\" title=\"Yätta (page does not exist)\">Yätta</a></td>\n",
      "<td><span typeof=\"mw:File\"><a href=\"/wiki/Ribbon_Girl\" title=\"Ribbon Girl\"><img class=\"mw-file-element\" decoding=\"async\" height=\"25\" src=\"//cdn.wikimg.net/en/armswiki/images/thumb/e/ed/Icon-Ribbon_Girl.png/25px-Icon-Ribbon_Girl.png\" srcset=\"//cdn.wikimg.net/en/armswiki/images/thumb/e/ed/Icon-Ribbon_Girl.png/38px-Icon-Ribbon_Girl.png 1.5x, //cdn.wikimg.net/en/armswiki/images/thumb/e/ed/Icon-Ribbon_Girl.png/50px-Icon-Ribbon_Girl.png 2x\" width=\"25\"/></a></span>\n",
      "</td></tr>\n",
      "<tr>\n",
      "<td><a class=\"external text\" href=\"https://challonge.com/EUChallenge13\" rel=\"nofollow\">EU ARMS Challenge #13</a></td>\n",
      "<td>November 18, 2018</td>\n",
      "<td><a href=\"/wiki/Iceman92\" title=\"Iceman92\">Iceman92</a></td>\n",
      "<td><span typeof=\"mw:File\"><a href=\"/wiki/Min_Min\" title=\"Min Min\"><img class=\"mw-file-element\" decoding=\"async\" height=\"25\" src=\"//cdn.wikimg.net/en/armswiki/images/thumb/9/93/Icon-Min_Min.png/25px-Icon-Min_Min.png\" srcset=\"//cdn.wikimg.net/en/armswiki/images/thumb/9/93/Icon-Min_Min.png/38px-Icon-Min_Min.png 1.5x, //cdn.wikimg.net/en/armswiki/images/thumb/9/93/Icon-Min_Min.png/50px-Icon-Min_Min.png 2x\" width=\"25\"/></a></span>\n",
      "</td></tr>\n",
      "<tr>\n",
      "<td><a class=\"external text\" href=\"https://challonge.com/EUChallenge14\" rel=\"nofollow\">EU ARMS Challenge #14</a></td>\n",
      "<td>December 2, 2018</td>\n",
      "<td><a class=\"new\" href=\"/w/index.php?title=Y%C3%A4tta&amp;action=edit&amp;redlink=1\" title=\"Yätta (page does not exist)\">Yätta</a></td>\n",
      "<td><span typeof=\"mw:File\"><a href=\"/wiki/Ribbon_Girl\" title=\"Ribbon Girl\"><img class=\"mw-file-element\" decoding=\"async\" height=\"25\" src=\"//cdn.wikimg.net/en/armswiki/images/thumb/e/ed/Icon-Ribbon_Girl.png/25px-Icon-Ribbon_Girl.png\" srcset=\"//cdn.wikimg.net/en/armswiki/images/thumb/e/ed/Icon-Ribbon_Girl.png/38px-Icon-Ribbon_Girl.png 1.5x, //cdn.wikimg.net/en/armswiki/images/thumb/e/ed/Icon-Ribbon_Girl.png/50px-Icon-Ribbon_Girl.png 2x\" width=\"25\"/></a></span>\n",
      "</td></tr>\n",
      "<tr>\n",
      "<td><a class=\"external text\" href=\"https://challonge.com/EUChallenge15\" rel=\"nofollow\">EU ARMS Challenge #15</a></td>\n",
      "<td>January 6, 2019</td>\n",
      "<td><a class=\"new\" href=\"/w/index.php?title=Y%C3%A4tta&amp;action=edit&amp;redlink=1\" title=\"Yätta (page does not exist)\">Yätta</a></td>\n",
      "<td><span typeof=\"mw:File\"><a href=\"/wiki/Ribbon_Girl\" title=\"Ribbon Girl\"><img class=\"mw-file-element\" decoding=\"async\" height=\"25\" src=\"//cdn.wikimg.net/en/armswiki/images/thumb/e/ed/Icon-Ribbon_Girl.png/25px-Icon-Ribbon_Girl.png\" srcset=\"//cdn.wikimg.net/en/armswiki/images/thumb/e/ed/Icon-Ribbon_Girl.png/38px-Icon-Ribbon_Girl.png 1.5x, //cdn.wikimg.net/en/armswiki/images/thumb/e/ed/Icon-Ribbon_Girl.png/50px-Icon-Ribbon_Girl.png 2x\" width=\"25\"/></a></span>\n",
      "</td></tr>\n",
      "<tr>\n",
      "<td><a class=\"external text\" href=\"https://challonge.com/EUChallenge16\" rel=\"nofollow\">EU ARMS Challenge #16</a></td>\n",
      "<td>January 20, 2019</td>\n",
      "<td><a href=\"/wiki/Iceman92\" title=\"Iceman92\">Iceman92</a></td>\n",
      "<td><span typeof=\"mw:File\"><a href=\"/wiki/Min_Min\" title=\"Min Min\"><img class=\"mw-file-element\" decoding=\"async\" height=\"25\" src=\"//cdn.wikimg.net/en/armswiki/images/thumb/9/93/Icon-Min_Min.png/25px-Icon-Min_Min.png\" srcset=\"//cdn.wikimg.net/en/armswiki/images/thumb/9/93/Icon-Min_Min.png/38px-Icon-Min_Min.png 1.5x, //cdn.wikimg.net/en/armswiki/images/thumb/9/93/Icon-Min_Min.png/50px-Icon-Min_Min.png 2x\" width=\"25\"/></a></span>\n",
      "</td></tr>\n",
      "<tr>\n",
      "<td><a class=\"external text\" href=\"https://challonge.com/EUChallenge17\" rel=\"nofollow\">EU ARMS Challenge #17</a></td>\n",
      "<td>February 3, 2019</td>\n",
      "<td><a class=\"new\" href=\"/w/index.php?title=Y%C3%A4tta&amp;action=edit&amp;redlink=1\" title=\"Yätta (page does not exist)\">Yätta</a></td>\n",
      "<td><span typeof=\"mw:File\"><a href=\"/wiki/Ribbon_Girl\" title=\"Ribbon Girl\"><img class=\"mw-file-element\" decoding=\"async\" height=\"25\" src=\"//cdn.wikimg.net/en/armswiki/images/thumb/e/ed/Icon-Ribbon_Girl.png/25px-Icon-Ribbon_Girl.png\" srcset=\"//cdn.wikimg.net/en/armswiki/images/thumb/e/ed/Icon-Ribbon_Girl.png/38px-Icon-Ribbon_Girl.png 1.5x, //cdn.wikimg.net/en/armswiki/images/thumb/e/ed/Icon-Ribbon_Girl.png/50px-Icon-Ribbon_Girl.png 2x\" width=\"25\"/></a></span>\n",
      "</td></tr>\n",
      "<tr>\n",
      "<td><a class=\"external text\" href=\"https://challonge.com/EUChallenge18\" rel=\"nofollow\">EU ARMS Challenge #18</a></td>\n",
      "<td>February 17, 2019</td>\n",
      "<td><a href=\"/wiki/Iceman92\" title=\"Iceman92\">Iceman92</a></td>\n",
      "<td><span typeof=\"mw:File\"><a href=\"/wiki/Min_Min\" title=\"Min Min\"><img class=\"mw-file-element\" decoding=\"async\" height=\"25\" src=\"//cdn.wikimg.net/en/armswiki/images/thumb/9/93/Icon-Min_Min.png/25px-Icon-Min_Min.png\" srcset=\"//cdn.wikimg.net/en/armswiki/images/thumb/9/93/Icon-Min_Min.png/38px-Icon-Min_Min.png 1.5x, //cdn.wikimg.net/en/armswiki/images/thumb/9/93/Icon-Min_Min.png/50px-Icon-Min_Min.png 2x\" width=\"25\"/></a></span>\n",
      "</td></tr>\n",
      "<tr>\n",
      "<td><a class=\"external text\" href=\"https://challonge.com/EUChallenge19\" rel=\"nofollow\">EU ARMS Challenge #19</a></td>\n",
      "<td>March 10, 2019</td>\n",
      "<td><a href=\"/wiki/Iceman92\" title=\"Iceman92\">Iceman92</a></td>\n",
      "<td><span typeof=\"mw:File\"><a href=\"/wiki/Min_Min\" title=\"Min Min\"><img class=\"mw-file-element\" decoding=\"async\" height=\"25\" src=\"//cdn.wikimg.net/en/armswiki/images/thumb/9/93/Icon-Min_Min.png/25px-Icon-Min_Min.png\" srcset=\"//cdn.wikimg.net/en/armswiki/images/thumb/9/93/Icon-Min_Min.png/38px-Icon-Min_Min.png 1.5x, //cdn.wikimg.net/en/armswiki/images/thumb/9/93/Icon-Min_Min.png/50px-Icon-Min_Min.png 2x\" width=\"25\"/></a></span>\n",
      "</td></tr>\n",
      "<tr>\n",
      "<td><a class=\"external text\" href=\"https://challonge.com/EUChallenge20\" rel=\"nofollow\">EU ARMS Challenge #20</a></td>\n",
      "<td>March 31, 2019</td>\n",
      "<td><a href=\"/wiki/Iceman92\" title=\"Iceman92\">Iceman92</a></td>\n",
      "<td><span typeof=\"mw:File\"><a href=\"/wiki/Min_Min\" title=\"Min Min\"><img class=\"mw-file-element\" decoding=\"async\" height=\"25\" src=\"//cdn.wikimg.net/en/armswiki/images/thumb/9/93/Icon-Min_Min.png/25px-Icon-Min_Min.png\" srcset=\"//cdn.wikimg.net/en/armswiki/images/thumb/9/93/Icon-Min_Min.png/38px-Icon-Min_Min.png 1.5x, //cdn.wikimg.net/en/armswiki/images/thumb/9/93/Icon-Min_Min.png/50px-Icon-Min_Min.png 2x\" width=\"25\"/></a></span>\n",
      "</td></tr>\n",
      "<tr>\n",
      "<td><a class=\"external text\" href=\"https://challonge.com/EUChallenge21\" rel=\"nofollow\">EU ARMS Challenge #21</a></td>\n",
      "<td>April 14, 2019</td>\n",
      "<td><a href=\"/wiki/Iceman92\" title=\"Iceman92\">Iceman92</a></td>\n",
      "<td><span typeof=\"mw:File\"><a href=\"/wiki/Min_Min\" title=\"Min Min\"><img class=\"mw-file-element\" decoding=\"async\" height=\"25\" src=\"//cdn.wikimg.net/en/armswiki/images/thumb/9/93/Icon-Min_Min.png/25px-Icon-Min_Min.png\" srcset=\"//cdn.wikimg.net/en/armswiki/images/thumb/9/93/Icon-Min_Min.png/38px-Icon-Min_Min.png 1.5x, //cdn.wikimg.net/en/armswiki/images/thumb/9/93/Icon-Min_Min.png/50px-Icon-Min_Min.png 2x\" width=\"25\"/></a></span>\n",
      "</td></tr>\n",
      "<tr>\n",
      "<td><a class=\"external text\" href=\"https://challonge.com/EUChallenge22\" rel=\"nofollow\">EU ARMS Challenge #22</a></td>\n",
      "<td>April 28, 2019</td>\n",
      "<td><a class=\"new\" href=\"/w/index.php?title=Y%C3%A4tta&amp;action=edit&amp;redlink=1\" title=\"Yätta (page does not exist)\">Yätta</a></td>\n",
      "<td><span typeof=\"mw:File\"><a href=\"/wiki/Ribbon_Girl\" title=\"Ribbon Girl\"><img class=\"mw-file-element\" decoding=\"async\" height=\"25\" src=\"//cdn.wikimg.net/en/armswiki/images/thumb/e/ed/Icon-Ribbon_Girl.png/25px-Icon-Ribbon_Girl.png\" srcset=\"//cdn.wikimg.net/en/armswiki/images/thumb/e/ed/Icon-Ribbon_Girl.png/38px-Icon-Ribbon_Girl.png 1.5x, //cdn.wikimg.net/en/armswiki/images/thumb/e/ed/Icon-Ribbon_Girl.png/50px-Icon-Ribbon_Girl.png 2x\" width=\"25\"/></a></span>\n",
      "</td></tr>\n",
      "<tr>\n",
      "<td><a class=\"external text\" href=\"https://challonge.com/EUChallenge23\" rel=\"nofollow\">EU ARMS Challenge #23</a></td>\n",
      "<td>May 12, 2019</td>\n",
      "<td><a href=\"/wiki/Ripha\" title=\"Ripha\">Ripha</a></td>\n",
      "<td><span typeof=\"mw:File\"><a href=\"/wiki/Ninjara\" title=\"Ninjara\"><img class=\"mw-file-element\" decoding=\"async\" height=\"25\" src=\"//cdn.wikimg.net/en/armswiki/images/thumb/0/0c/Icon-Ninjara.png/25px-Icon-Ninjara.png\" srcset=\"//cdn.wikimg.net/en/armswiki/images/thumb/0/0c/Icon-Ninjara.png/38px-Icon-Ninjara.png 1.5x, //cdn.wikimg.net/en/armswiki/images/thumb/0/0c/Icon-Ninjara.png/50px-Icon-Ninjara.png 2x\" width=\"25\"/></a></span> <span typeof=\"mw:File\"><a href=\"/wiki/Min_Min\" title=\"Min Min\"><img class=\"mw-file-element\" decoding=\"async\" height=\"25\" src=\"//cdn.wikimg.net/en/armswiki/images/thumb/9/93/Icon-Min_Min.png/25px-Icon-Min_Min.png\" srcset=\"//cdn.wikimg.net/en/armswiki/images/thumb/9/93/Icon-Min_Min.png/38px-Icon-Min_Min.png 1.5x, //cdn.wikimg.net/en/armswiki/images/thumb/9/93/Icon-Min_Min.png/50px-Icon-Min_Min.png 2x\" width=\"25\"/></a></span>\n",
      "</td></tr>\n",
      "<tr>\n",
      "<td><a class=\"external text\" href=\"https://challonge.com/EUChallenge24\" rel=\"nofollow\">EU ARMS Challenge #24</a></td>\n",
      "<td>May 26, 2019</td>\n",
      "<td><a href=\"/wiki/Ripha\" title=\"Ripha\">Ripha</a></td>\n",
      "<td><span typeof=\"mw:File\"><a href=\"/wiki/Helix\" title=\"Helix\"><img class=\"mw-file-element\" decoding=\"async\" height=\"25\" src=\"//cdn.wikimg.net/en/armswiki/images/thumb/c/c4/Icon-Helix.png/25px-Icon-Helix.png\" srcset=\"//cdn.wikimg.net/en/armswiki/images/thumb/c/c4/Icon-Helix.png/38px-Icon-Helix.png 1.5x, //cdn.wikimg.net/en/armswiki/images/thumb/c/c4/Icon-Helix.png/50px-Icon-Helix.png 2x\" width=\"25\"/></a></span> <span typeof=\"mw:File\"><a href=\"/wiki/Master_Mummy\" title=\"Master Mummy\"><img class=\"mw-file-element\" decoding=\"async\" height=\"25\" src=\"//cdn.wikimg.net/en/armswiki/images/thumb/5/58/Icon-Master_Mummy.png/25px-Icon-Master_Mummy.png\" srcset=\"//cdn.wikimg.net/en/armswiki/images/thumb/5/58/Icon-Master_Mummy.png/38px-Icon-Master_Mummy.png 1.5x, //cdn.wikimg.net/en/armswiki/images/thumb/5/58/Icon-Master_Mummy.png/50px-Icon-Master_Mummy.png 2x\" width=\"25\"/></a></span> <span typeof=\"mw:File\"><a href=\"/wiki/Byte_%26_Barq\" title=\"Byte &amp; Barq\"><img class=\"mw-file-element\" decoding=\"async\" height=\"25\" src=\"//cdn.wikimg.net/en/armswiki/images/thumb/5/52/Icon-Byte_%26_Barq.png/25px-Icon-Byte_%26_Barq.png\" srcset=\"//cdn.wikimg.net/en/armswiki/images/thumb/5/52/Icon-Byte_%26_Barq.png/38px-Icon-Byte_%26_Barq.png 1.5x, //cdn.wikimg.net/en/armswiki/images/thumb/5/52/Icon-Byte_%26_Barq.png/50px-Icon-Byte_%26_Barq.png 2x\" width=\"25\"/></a></span> <span typeof=\"mw:File\"><a href=\"/wiki/Ninjara\" title=\"Ninjara\"><img class=\"mw-file-element\" decoding=\"async\" height=\"25\" src=\"//cdn.wikimg.net/en/armswiki/images/thumb/0/0c/Icon-Ninjara.png/25px-Icon-Ninjara.png\" srcset=\"//cdn.wikimg.net/en/armswiki/images/thumb/0/0c/Icon-Ninjara.png/38px-Icon-Ninjara.png 1.5x, //cdn.wikimg.net/en/armswiki/images/thumb/0/0c/Icon-Ninjara.png/50px-Icon-Ninjara.png 2x\" width=\"25\"/></a></span>\n",
      "</td></tr>\n",
      "<tr>\n",
      "<td><a class=\"external text\" href=\"https://challonge.com/EUChallenge25\" rel=\"nofollow\">EU ARMS Challenge #25</a></td>\n",
      "<td>June 9, 2019</td>\n",
      "<td><a href=\"/wiki/Iceman92\" title=\"Iceman92\">Iceman92</a></td>\n",
      "<td><span typeof=\"mw:File\"><a href=\"/wiki/Min_Min\" title=\"Min Min\"><img class=\"mw-file-element\" decoding=\"async\" height=\"25\" src=\"//cdn.wikimg.net/en/armswiki/images/thumb/9/93/Icon-Min_Min.png/25px-Icon-Min_Min.png\" srcset=\"//cdn.wikimg.net/en/armswiki/images/thumb/9/93/Icon-Min_Min.png/38px-Icon-Min_Min.png 1.5x, //cdn.wikimg.net/en/armswiki/images/thumb/9/93/Icon-Min_Min.png/50px-Icon-Min_Min.png 2x\" width=\"25\"/></a></span> <span typeof=\"mw:File\"><a href=\"/wiki/Ribbon_Girl\" title=\"Ribbon Girl\"><img class=\"mw-file-element\" decoding=\"async\" height=\"25\" src=\"//cdn.wikimg.net/en/armswiki/images/thumb/e/ed/Icon-Ribbon_Girl.png/25px-Icon-Ribbon_Girl.png\" srcset=\"//cdn.wikimg.net/en/armswiki/images/thumb/e/ed/Icon-Ribbon_Girl.png/38px-Icon-Ribbon_Girl.png 1.5x, //cdn.wikimg.net/en/armswiki/images/thumb/e/ed/Icon-Ribbon_Girl.png/50px-Icon-Ribbon_Girl.png 2x\" width=\"25\"/></a></span>\n",
      "</td></tr>\n",
      "<tr>\n",
      "<td><a class=\"external text\" href=\"https://challonge.com/EUChallenge26\" rel=\"nofollow\">EU ARMS Challenge #26</a></td>\n",
      "<td>June 23, 2019</td>\n",
      "<td><a href=\"/wiki/Ripha\" title=\"Ripha\">Ripha</a></td>\n",
      "<td><span typeof=\"mw:File\"><a href=\"/wiki/Ninjara\" title=\"Ninjara\"><img class=\"mw-file-element\" decoding=\"async\" height=\"25\" src=\"//cdn.wikimg.net/en/armswiki/images/thumb/0/0c/Icon-Ninjara.png/25px-Icon-Ninjara.png\" srcset=\"//cdn.wikimg.net/en/armswiki/images/thumb/0/0c/Icon-Ninjara.png/38px-Icon-Ninjara.png 1.5x, //cdn.wikimg.net/en/armswiki/images/thumb/0/0c/Icon-Ninjara.png/50px-Icon-Ninjara.png 2x\" width=\"25\"/></a></span>\n",
      "</td></tr>\n",
      "<tr>\n",
      "<td><a class=\"external text\" href=\"https://challonge.com/EUChallenge27\" rel=\"nofollow\">EU ARMS Challenge #27</a></td>\n",
      "<td>July 7, 2019</td>\n",
      "<td><a class=\"new\" href=\"/w/index.php?title=Y%C3%A4tta&amp;action=edit&amp;redlink=1\" title=\"Yätta (page does not exist)\">Yätta</a></td>\n",
      "<td><span typeof=\"mw:File\"><a href=\"/wiki/Ribbon_Girl\" title=\"Ribbon Girl\"><img class=\"mw-file-element\" decoding=\"async\" height=\"25\" src=\"//cdn.wikimg.net/en/armswiki/images/thumb/e/ed/Icon-Ribbon_Girl.png/25px-Icon-Ribbon_Girl.png\" srcset=\"//cdn.wikimg.net/en/armswiki/images/thumb/e/ed/Icon-Ribbon_Girl.png/38px-Icon-Ribbon_Girl.png 1.5x, //cdn.wikimg.net/en/armswiki/images/thumb/e/ed/Icon-Ribbon_Girl.png/50px-Icon-Ribbon_Girl.png 2x\" width=\"25\"/></a></span> <span typeof=\"mw:File\"><a href=\"/wiki/Byte_%26_Barq\" title=\"Byte &amp; Barq\"><img class=\"mw-file-element\" decoding=\"async\" height=\"25\" src=\"//cdn.wikimg.net/en/armswiki/images/thumb/5/52/Icon-Byte_%26_Barq.png/25px-Icon-Byte_%26_Barq.png\" srcset=\"//cdn.wikimg.net/en/armswiki/images/thumb/5/52/Icon-Byte_%26_Barq.png/38px-Icon-Byte_%26_Barq.png 1.5x, //cdn.wikimg.net/en/armswiki/images/thumb/5/52/Icon-Byte_%26_Barq.png/50px-Icon-Byte_%26_Barq.png 2x\" width=\"25\"/></a></span> <span typeof=\"mw:File\"><a href=\"/wiki/Twintelle\" title=\"Twintelle\"><img class=\"mw-file-element\" decoding=\"async\" height=\"25\" src=\"//cdn.wikimg.net/en/armswiki/images/thumb/a/a1/Icon-Twintelle.png/25px-Icon-Twintelle.png\" srcset=\"//cdn.wikimg.net/en/armswiki/images/thumb/a/a1/Icon-Twintelle.png/38px-Icon-Twintelle.png 1.5x, //cdn.wikimg.net/en/armswiki/images/thumb/a/a1/Icon-Twintelle.png/50px-Icon-Twintelle.png 2x\" width=\"25\"/></a></span>\n",
      "</td></tr>\n",
      "<tr>\n",
      "<td><a class=\"external text\" href=\"https://challonge.com/EUChallenge28\" rel=\"nofollow\">EU ARMS Challenge #28</a></td>\n",
      "<td>July 21, 2019</td>\n",
      "<td><a href=\"/wiki/Ripha\" title=\"Ripha\">Ripha</a></td>\n",
      "<td><span typeof=\"mw:File\"><a href=\"/wiki/Ninjara\" title=\"Ninjara\"><img class=\"mw-file-element\" decoding=\"async\" height=\"25\" src=\"//cdn.wikimg.net/en/armswiki/images/thumb/0/0c/Icon-Ninjara.png/25px-Icon-Ninjara.png\" srcset=\"//cdn.wikimg.net/en/armswiki/images/thumb/0/0c/Icon-Ninjara.png/38px-Icon-Ninjara.png 1.5x, //cdn.wikimg.net/en/armswiki/images/thumb/0/0c/Icon-Ninjara.png/50px-Icon-Ninjara.png 2x\" width=\"25\"/></a></span>\n",
      "</td></tr>\n",
      "<tr>\n",
      "<td><a class=\"external text\" href=\"https://challonge.com/EUChallenge29\" rel=\"nofollow\">EU ARMS Challenge #29</a></td>\n",
      "<td>August 4, 2019</td>\n",
      "<td><a class=\"new\" href=\"/w/index.php?title=Y%C3%A4tta&amp;action=edit&amp;redlink=1\" title=\"Yätta (page does not exist)\">Yätta</a></td>\n",
      "<td><span typeof=\"mw:File\"><a href=\"/wiki/Ribbon_Girl\" title=\"Ribbon Girl\"><img class=\"mw-file-element\" decoding=\"async\" height=\"25\" src=\"//cdn.wikimg.net/en/armswiki/images/thumb/e/ed/Icon-Ribbon_Girl.png/25px-Icon-Ribbon_Girl.png\" srcset=\"//cdn.wikimg.net/en/armswiki/images/thumb/e/ed/Icon-Ribbon_Girl.png/38px-Icon-Ribbon_Girl.png 1.5x, //cdn.wikimg.net/en/armswiki/images/thumb/e/ed/Icon-Ribbon_Girl.png/50px-Icon-Ribbon_Girl.png 2x\" width=\"25\"/></a></span> <span typeof=\"mw:File\"><a href=\"/wiki/Byte_%26_Barq\" title=\"Byte &amp; Barq\"><img class=\"mw-file-element\" decoding=\"async\" height=\"25\" src=\"//cdn.wikimg.net/en/armswiki/images/thumb/5/52/Icon-Byte_%26_Barq.png/25px-Icon-Byte_%26_Barq.png\" srcset=\"//cdn.wikimg.net/en/armswiki/images/thumb/5/52/Icon-Byte_%26_Barq.png/38px-Icon-Byte_%26_Barq.png 1.5x, //cdn.wikimg.net/en/armswiki/images/thumb/5/52/Icon-Byte_%26_Barq.png/50px-Icon-Byte_%26_Barq.png 2x\" width=\"25\"/></a></span> <span typeof=\"mw:File\"><a href=\"/wiki/Twintelle\" title=\"Twintelle\"><img class=\"mw-file-element\" decoding=\"async\" height=\"25\" src=\"//cdn.wikimg.net/en/armswiki/images/thumb/a/a1/Icon-Twintelle.png/25px-Icon-Twintelle.png\" srcset=\"//cdn.wikimg.net/en/armswiki/images/thumb/a/a1/Icon-Twintelle.png/38px-Icon-Twintelle.png 1.5x, //cdn.wikimg.net/en/armswiki/images/thumb/a/a1/Icon-Twintelle.png/50px-Icon-Twintelle.png 2x\" width=\"25\"/></a></span>\n",
      "</td></tr>\n",
      "<tr>\n",
      "<td><a class=\"external text\" href=\"https://challonge.com/EUChallenge30\" rel=\"nofollow\">EU ARMS Challenge #30</a></td>\n",
      "<td>August 18, 2019</td>\n",
      "<td><a href=\"/wiki/Ripha\" title=\"Ripha\">Ripha</a></td>\n",
      "<td><span typeof=\"mw:File\"><a href=\"/wiki/Ninjara\" title=\"Ninjara\"><img class=\"mw-file-element\" decoding=\"async\" height=\"25\" src=\"//cdn.wikimg.net/en/armswiki/images/thumb/0/0c/Icon-Ninjara.png/25px-Icon-Ninjara.png\" srcset=\"//cdn.wikimg.net/en/armswiki/images/thumb/0/0c/Icon-Ninjara.png/38px-Icon-Ninjara.png 1.5x, //cdn.wikimg.net/en/armswiki/images/thumb/0/0c/Icon-Ninjara.png/50px-Icon-Ninjara.png 2x\" width=\"25\"/></a></span> <span typeof=\"mw:File\"><a href=\"/wiki/Min_Min\" title=\"Min Min\"><img class=\"mw-file-element\" decoding=\"async\" height=\"25\" src=\"//cdn.wikimg.net/en/armswiki/images/thumb/9/93/Icon-Min_Min.png/25px-Icon-Min_Min.png\" srcset=\"//cdn.wikimg.net/en/armswiki/images/thumb/9/93/Icon-Min_Min.png/38px-Icon-Min_Min.png 1.5x, //cdn.wikimg.net/en/armswiki/images/thumb/9/93/Icon-Min_Min.png/50px-Icon-Min_Min.png 2x\" width=\"25\"/></a></span> <span typeof=\"mw:File\"><a href=\"/wiki/Mechanica\" title=\"Mechanica\"><img class=\"mw-file-element\" decoding=\"async\" height=\"25\" src=\"//cdn.wikimg.net/en/armswiki/images/thumb/e/ea/Icon-Mechanica.png/25px-Icon-Mechanica.png\" srcset=\"//cdn.wikimg.net/en/armswiki/images/thumb/e/ea/Icon-Mechanica.png/38px-Icon-Mechanica.png 1.5x, //cdn.wikimg.net/en/armswiki/images/thumb/e/ea/Icon-Mechanica.png/50px-Icon-Mechanica.png 2x\" width=\"25\"/></a></span> <span typeof=\"mw:File\"><a href=\"/wiki/Misango\" title=\"Misango\"><img class=\"mw-file-element\" decoding=\"async\" height=\"25\" src=\"//cdn.wikimg.net/en/armswiki/images/thumb/2/25/Icon-Misango.png/25px-Icon-Misango.png\" srcset=\"//cdn.wikimg.net/en/armswiki/images/thumb/2/25/Icon-Misango.png/38px-Icon-Misango.png 1.5x, //cdn.wikimg.net/en/armswiki/images/thumb/2/25/Icon-Misango.png/50px-Icon-Misango.png 2x\" width=\"25\"/></a></span> <span typeof=\"mw:File\"><a href=\"/wiki/Lola_Pop\" title=\"Lola Pop\"><img class=\"mw-file-element\" decoding=\"async\" height=\"25\" src=\"//cdn.wikimg.net/en/armswiki/images/thumb/e/e5/Icon-Lola_Pop.png/25px-Icon-Lola_Pop.png\" srcset=\"//cdn.wikimg.net/en/armswiki/images/thumb/e/e5/Icon-Lola_Pop.png/38px-Icon-Lola_Pop.png 1.5x, //cdn.wikimg.net/en/armswiki/images/thumb/e/e5/Icon-Lola_Pop.png/50px-Icon-Lola_Pop.png 2x\" width=\"25\"/></a></span>\n",
      "</td></tr>\n",
      "<tr>\n",
      "<td><a class=\"external text\" href=\"https://challonge.com/EUAC31\" rel=\"nofollow\">EU ARMS Challenge #31</a></td>\n",
      "<td>September 1, 2019</td>\n",
      "<td><a href=\"/wiki/Iceman92\" title=\"Iceman92\">Iceman92</a></td>\n",
      "<td><span typeof=\"mw:File\"><a href=\"/wiki/Min_Min\" title=\"Min Min\"><img class=\"mw-file-element\" decoding=\"async\" height=\"25\" src=\"//cdn.wikimg.net/en/armswiki/images/thumb/9/93/Icon-Min_Min.png/25px-Icon-Min_Min.png\" srcset=\"//cdn.wikimg.net/en/armswiki/images/thumb/9/93/Icon-Min_Min.png/38px-Icon-Min_Min.png 1.5x, //cdn.wikimg.net/en/armswiki/images/thumb/9/93/Icon-Min_Min.png/50px-Icon-Min_Min.png 2x\" width=\"25\"/></a></span> <span typeof=\"mw:File\"><a href=\"/wiki/Max_Brass\" title=\"Max Brass\"><img class=\"mw-file-element\" decoding=\"async\" height=\"25\" src=\"//cdn.wikimg.net/en/armswiki/images/thumb/4/45/Icon-Max_Brass.png/25px-Icon-Max_Brass.png\" srcset=\"//cdn.wikimg.net/en/armswiki/images/thumb/4/45/Icon-Max_Brass.png/38px-Icon-Max_Brass.png 1.5x, //cdn.wikimg.net/en/armswiki/images/thumb/4/45/Icon-Max_Brass.png/50px-Icon-Max_Brass.png 2x\" width=\"25\"/></a></span> <span typeof=\"mw:File\"><a href=\"/wiki/Ribbon_Girl\" title=\"Ribbon Girl\"><img class=\"mw-file-element\" decoding=\"async\" height=\"25\" src=\"//cdn.wikimg.net/en/armswiki/images/thumb/e/ed/Icon-Ribbon_Girl.png/25px-Icon-Ribbon_Girl.png\" srcset=\"//cdn.wikimg.net/en/armswiki/images/thumb/e/ed/Icon-Ribbon_Girl.png/38px-Icon-Ribbon_Girl.png 1.5x, //cdn.wikimg.net/en/armswiki/images/thumb/e/ed/Icon-Ribbon_Girl.png/50px-Icon-Ribbon_Girl.png 2x\" width=\"25\"/></a></span> <span typeof=\"mw:File\"><a href=\"/wiki/Dr._Coyle\" title=\"Dr. Coyle\"><img class=\"mw-file-element\" decoding=\"async\" height=\"25\" src=\"//cdn.wikimg.net/en/armswiki/images/thumb/5/53/Icon-Dr._Coyle.png/25px-Icon-Dr._Coyle.png\" srcset=\"//cdn.wikimg.net/en/armswiki/images/thumb/5/53/Icon-Dr._Coyle.png/38px-Icon-Dr._Coyle.png 1.5x, //cdn.wikimg.net/en/armswiki/images/thumb/5/53/Icon-Dr._Coyle.png/50px-Icon-Dr._Coyle.png 2x\" width=\"25\"/></a></span> <span typeof=\"mw:File\"><a href=\"/wiki/Twintelle\" title=\"Twintelle\"><img class=\"mw-file-element\" decoding=\"async\" height=\"25\" src=\"//cdn.wikimg.net/en/armswiki/images/thumb/a/a1/Icon-Twintelle.png/25px-Icon-Twintelle.png\" srcset=\"//cdn.wikimg.net/en/armswiki/images/thumb/a/a1/Icon-Twintelle.png/38px-Icon-Twintelle.png 1.5x, //cdn.wikimg.net/en/armswiki/images/thumb/a/a1/Icon-Twintelle.png/50px-Icon-Twintelle.png 2x\" width=\"25\"/></a></span>\n",
      "</td></tr>\n",
      "<tr>\n",
      "<td><a class=\"external text\" href=\"https://challonge.com/EUChallenge32\" rel=\"nofollow\">EU ARMS Challenge #32</a></td>\n",
      "<td>September 15, 2019</td>\n",
      "<td><a href=\"/wiki/Grimwood\" title=\"Grimwood\">Grimwood</a></td>\n",
      "<td><span typeof=\"mw:File\"><a href=\"/wiki/Max_Brass\" title=\"Max Brass\"><img class=\"mw-file-element\" decoding=\"async\" height=\"25\" src=\"//cdn.wikimg.net/en/armswiki/images/thumb/4/45/Icon-Max_Brass.png/25px-Icon-Max_Brass.png\" srcset=\"//cdn.wikimg.net/en/armswiki/images/thumb/4/45/Icon-Max_Brass.png/38px-Icon-Max_Brass.png 1.5x, //cdn.wikimg.net/en/armswiki/images/thumb/4/45/Icon-Max_Brass.png/50px-Icon-Max_Brass.png 2x\" width=\"25\"/></a></span> <span typeof=\"mw:File\"><a href=\"/wiki/Kid_Cobra\" title=\"Kid Cobra\"><img class=\"mw-file-element\" decoding=\"async\" height=\"25\" src=\"//cdn.wikimg.net/en/armswiki/images/thumb/b/b7/Icon-Kid_Cobra.png/25px-Icon-Kid_Cobra.png\" srcset=\"//cdn.wikimg.net/en/armswiki/images/thumb/b/b7/Icon-Kid_Cobra.png/38px-Icon-Kid_Cobra.png 1.5x, //cdn.wikimg.net/en/armswiki/images/thumb/b/b7/Icon-Kid_Cobra.png/50px-Icon-Kid_Cobra.png 2x\" width=\"25\"/></a></span> <span typeof=\"mw:File\"><a href=\"/wiki/Mechanica\" title=\"Mechanica\"><img class=\"mw-file-element\" decoding=\"async\" height=\"25\" src=\"//cdn.wikimg.net/en/armswiki/images/thumb/e/ea/Icon-Mechanica.png/25px-Icon-Mechanica.png\" srcset=\"//cdn.wikimg.net/en/armswiki/images/thumb/e/ea/Icon-Mechanica.png/38px-Icon-Mechanica.png 1.5x, //cdn.wikimg.net/en/armswiki/images/thumb/e/ea/Icon-Mechanica.png/50px-Icon-Mechanica.png 2x\" width=\"25\"/></a></span> <span typeof=\"mw:File\"><a href=\"/wiki/Springtron\" title=\"Springtron\"><img class=\"mw-file-element\" decoding=\"async\" height=\"25\" src=\"//cdn.wikimg.net/en/armswiki/images/thumb/2/27/Icon-Springtron.png/25px-Icon-Springtron.png\" srcset=\"//cdn.wikimg.net/en/armswiki/images/thumb/2/27/Icon-Springtron.png/38px-Icon-Springtron.png 1.5x, //cdn.wikimg.net/en/armswiki/images/thumb/2/27/Icon-Springtron.png/50px-Icon-Springtron.png 2x\" width=\"25\"/></a></span> <span typeof=\"mw:File\"><a href=\"/wiki/Ninjara\" title=\"Ninjara\"><img class=\"mw-file-element\" decoding=\"async\" height=\"25\" src=\"//cdn.wikimg.net/en/armswiki/images/thumb/0/0c/Icon-Ninjara.png/25px-Icon-Ninjara.png\" srcset=\"//cdn.wikimg.net/en/armswiki/images/thumb/0/0c/Icon-Ninjara.png/38px-Icon-Ninjara.png 1.5x, //cdn.wikimg.net/en/armswiki/images/thumb/0/0c/Icon-Ninjara.png/50px-Icon-Ninjara.png 2x\" width=\"25\"/></a></span>\n",
      "</td></tr>\n",
      "<tr>\n",
      "<td><a class=\"external text\" href=\"https://challonge.com/EUAC33\" rel=\"nofollow\">EU ARMS Challenge #33</a></td>\n",
      "<td>September 29, 2019</td>\n",
      "<td><a class=\"new\" href=\"/w/index.php?title=Y%C3%A4tta&amp;action=edit&amp;redlink=1\" title=\"Yätta (page does not exist)\">Yätta</a></td>\n",
      "<td><span typeof=\"mw:File\"><a href=\"/wiki/Ribbon_Girl\" title=\"Ribbon Girl\"><img class=\"mw-file-element\" decoding=\"async\" height=\"25\" src=\"//cdn.wikimg.net/en/armswiki/images/thumb/e/ed/Icon-Ribbon_Girl.png/25px-Icon-Ribbon_Girl.png\" srcset=\"//cdn.wikimg.net/en/armswiki/images/thumb/e/ed/Icon-Ribbon_Girl.png/38px-Icon-Ribbon_Girl.png 1.5x, //cdn.wikimg.net/en/armswiki/images/thumb/e/ed/Icon-Ribbon_Girl.png/50px-Icon-Ribbon_Girl.png 2x\" width=\"25\"/></a></span> <span typeof=\"mw:File\"><a href=\"/wiki/Byte_%26_Barq\" title=\"Byte &amp; Barq\"><img class=\"mw-file-element\" decoding=\"async\" height=\"25\" src=\"//cdn.wikimg.net/en/armswiki/images/thumb/5/52/Icon-Byte_%26_Barq.png/25px-Icon-Byte_%26_Barq.png\" srcset=\"//cdn.wikimg.net/en/armswiki/images/thumb/5/52/Icon-Byte_%26_Barq.png/38px-Icon-Byte_%26_Barq.png 1.5x, //cdn.wikimg.net/en/armswiki/images/thumb/5/52/Icon-Byte_%26_Barq.png/50px-Icon-Byte_%26_Barq.png 2x\" width=\"25\"/></a></span> <span typeof=\"mw:File\"><a href=\"/wiki/Kid_Cobra\" title=\"Kid Cobra\"><img class=\"mw-file-element\" decoding=\"async\" height=\"25\" src=\"//cdn.wikimg.net/en/armswiki/images/thumb/b/b7/Icon-Kid_Cobra.png/25px-Icon-Kid_Cobra.png\" srcset=\"//cdn.wikimg.net/en/armswiki/images/thumb/b/b7/Icon-Kid_Cobra.png/38px-Icon-Kid_Cobra.png 1.5x, //cdn.wikimg.net/en/armswiki/images/thumb/b/b7/Icon-Kid_Cobra.png/50px-Icon-Kid_Cobra.png 2x\" width=\"25\"/></a></span> <span typeof=\"mw:File\"><a href=\"/wiki/Max_Brass\" title=\"Max Brass\"><img class=\"mw-file-element\" decoding=\"async\" height=\"25\" src=\"//cdn.wikimg.net/en/armswiki/images/thumb/4/45/Icon-Max_Brass.png/25px-Icon-Max_Brass.png\" srcset=\"//cdn.wikimg.net/en/armswiki/images/thumb/4/45/Icon-Max_Brass.png/38px-Icon-Max_Brass.png 1.5x, //cdn.wikimg.net/en/armswiki/images/thumb/4/45/Icon-Max_Brass.png/50px-Icon-Max_Brass.png 2x\" width=\"25\"/></a></span> <span typeof=\"mw:File\"><a href=\"/wiki/Spring_Man\" title=\"Spring Man\"><img class=\"mw-file-element\" decoding=\"async\" height=\"25\" src=\"//cdn.wikimg.net/en/armswiki/images/thumb/b/b6/Icon-Spring_Man.png/25px-Icon-Spring_Man.png\" srcset=\"//cdn.wikimg.net/en/armswiki/images/thumb/b/b6/Icon-Spring_Man.png/38px-Icon-Spring_Man.png 1.5x, //cdn.wikimg.net/en/armswiki/images/thumb/b/b6/Icon-Spring_Man.png/50px-Icon-Spring_Man.png 2x\" width=\"25\"/></a></span> <span typeof=\"mw:File\"><a href=\"/wiki/Min_Min\" title=\"Min Min\"><img class=\"mw-file-element\" decoding=\"async\" height=\"25\" src=\"//cdn.wikimg.net/en/armswiki/images/thumb/9/93/Icon-Min_Min.png/25px-Icon-Min_Min.png\" srcset=\"//cdn.wikimg.net/en/armswiki/images/thumb/9/93/Icon-Min_Min.png/38px-Icon-Min_Min.png 1.5x, //cdn.wikimg.net/en/armswiki/images/thumb/9/93/Icon-Min_Min.png/50px-Icon-Min_Min.png 2x\" width=\"25\"/></a></span> <span typeof=\"mw:File\"><a href=\"/wiki/Twintelle\" title=\"Twintelle\"><img class=\"mw-file-element\" decoding=\"async\" height=\"25\" src=\"//cdn.wikimg.net/en/armswiki/images/thumb/a/a1/Icon-Twintelle.png/25px-Icon-Twintelle.png\" srcset=\"//cdn.wikimg.net/en/armswiki/images/thumb/a/a1/Icon-Twintelle.png/38px-Icon-Twintelle.png 1.5x, //cdn.wikimg.net/en/armswiki/images/thumb/a/a1/Icon-Twintelle.png/50px-Icon-Twintelle.png 2x\" width=\"25\"/></a></span>\n",
      "</td></tr>\n",
      "<tr>\n",
      "<td><a class=\"external text\" href=\"https://challonge.com/EUAC34\" rel=\"nofollow\">EU ARMS Challenge #34</a></td>\n",
      "<td>October 13, 2019</td>\n",
      "<td><a href=\"/wiki/Ripha\" title=\"Ripha\">Ripha</a></td>\n",
      "<td><span typeof=\"mw:File\"><a href=\"/wiki/Ninjara\" title=\"Ninjara\"><img class=\"mw-file-element\" decoding=\"async\" height=\"25\" src=\"//cdn.wikimg.net/en/armswiki/images/thumb/0/0c/Icon-Ninjara.png/25px-Icon-Ninjara.png\" srcset=\"//cdn.wikimg.net/en/armswiki/images/thumb/0/0c/Icon-Ninjara.png/38px-Icon-Ninjara.png 1.5x, //cdn.wikimg.net/en/armswiki/images/thumb/0/0c/Icon-Ninjara.png/50px-Icon-Ninjara.png 2x\" width=\"25\"/></a></span>\n",
      "</td></tr>\n",
      "<tr>\n",
      "<td><a class=\"external text\" href=\"https://challonge.com/EUAC35\" rel=\"nofollow\">EU ARMS Challenge #35</a></td>\n",
      "<td>October 27, 2019</td>\n",
      "<td><a class=\"new\" href=\"/w/index.php?title=Replicant&amp;action=edit&amp;redlink=1\" title=\"Replicant (page does not exist)\">Replicant</a></td>\n",
      "<td><span typeof=\"mw:File\"><a href=\"/wiki/Lola_Pop\" title=\"Lola Pop\"><img class=\"mw-file-element\" decoding=\"async\" height=\"25\" src=\"//cdn.wikimg.net/en/armswiki/images/thumb/e/e5/Icon-Lola_Pop.png/25px-Icon-Lola_Pop.png\" srcset=\"//cdn.wikimg.net/en/armswiki/images/thumb/e/e5/Icon-Lola_Pop.png/38px-Icon-Lola_Pop.png 1.5x, //cdn.wikimg.net/en/armswiki/images/thumb/e/e5/Icon-Lola_Pop.png/50px-Icon-Lola_Pop.png 2x\" width=\"25\"/></a></span> <span typeof=\"mw:File\"><a href=\"/wiki/Min_Min\" title=\"Min Min\"><img class=\"mw-file-element\" decoding=\"async\" height=\"25\" src=\"//cdn.wikimg.net/en/armswiki/images/thumb/9/93/Icon-Min_Min.png/25px-Icon-Min_Min.png\" srcset=\"//cdn.wikimg.net/en/armswiki/images/thumb/9/93/Icon-Min_Min.png/38px-Icon-Min_Min.png 1.5x, //cdn.wikimg.net/en/armswiki/images/thumb/9/93/Icon-Min_Min.png/50px-Icon-Min_Min.png 2x\" width=\"25\"/></a></span>\n",
      "</td></tr>\n",
      "<tr>\n",
      "<td><a class=\"external text\" href=\"https://challonge.com/EUAC36\" rel=\"nofollow\">EU ARMS Challenge #36</a></td>\n",
      "<td>November 10, 2019</td>\n",
      "<td><a href=\"/wiki/Iceman92\" title=\"Iceman92\">Iceman92</a></td>\n",
      "<td><span typeof=\"mw:File\"><a href=\"/wiki/Min_Min\" title=\"Min Min\"><img class=\"mw-file-element\" decoding=\"async\" height=\"25\" src=\"//cdn.wikimg.net/en/armswiki/images/thumb/9/93/Icon-Min_Min.png/25px-Icon-Min_Min.png\" srcset=\"//cdn.wikimg.net/en/armswiki/images/thumb/9/93/Icon-Min_Min.png/38px-Icon-Min_Min.png 1.5x, //cdn.wikimg.net/en/armswiki/images/thumb/9/93/Icon-Min_Min.png/50px-Icon-Min_Min.png 2x\" width=\"25\"/></a></span>\n",
      "</td></tr>\n",
      "<tr>\n",
      "<td><a class=\"external text\" href=\"https://challonge.com/EUAC37\" rel=\"nofollow\">EU ARMS Challenge #37</a></td>\n",
      "<td>November 24, 2019</td>\n",
      "<td><a href=\"/wiki/Iceman92\" title=\"Iceman92\">Iceman92</a></td>\n",
      "<td><span typeof=\"mw:File\"><a href=\"/wiki/Min_Min\" title=\"Min Min\"><img class=\"mw-file-element\" decoding=\"async\" height=\"25\" src=\"//cdn.wikimg.net/en/armswiki/images/thumb/9/93/Icon-Min_Min.png/25px-Icon-Min_Min.png\" srcset=\"//cdn.wikimg.net/en/armswiki/images/thumb/9/93/Icon-Min_Min.png/38px-Icon-Min_Min.png 1.5x, //cdn.wikimg.net/en/armswiki/images/thumb/9/93/Icon-Min_Min.png/50px-Icon-Min_Min.png 2x\" width=\"25\"/></a></span> <span typeof=\"mw:File\"><a href=\"/wiki/Ribbon_Girl\" title=\"Ribbon Girl\"><img class=\"mw-file-element\" decoding=\"async\" height=\"25\" src=\"//cdn.wikimg.net/en/armswiki/images/thumb/e/ed/Icon-Ribbon_Girl.png/25px-Icon-Ribbon_Girl.png\" srcset=\"//cdn.wikimg.net/en/armswiki/images/thumb/e/ed/Icon-Ribbon_Girl.png/38px-Icon-Ribbon_Girl.png 1.5x, //cdn.wikimg.net/en/armswiki/images/thumb/e/ed/Icon-Ribbon_Girl.png/50px-Icon-Ribbon_Girl.png 2x\" width=\"25\"/></a></span> <span typeof=\"mw:File\"><a href=\"/wiki/Misango\" title=\"Misango\"><img class=\"mw-file-element\" decoding=\"async\" height=\"25\" src=\"//cdn.wikimg.net/en/armswiki/images/thumb/2/25/Icon-Misango.png/25px-Icon-Misango.png\" srcset=\"//cdn.wikimg.net/en/armswiki/images/thumb/2/25/Icon-Misango.png/38px-Icon-Misango.png 1.5x, //cdn.wikimg.net/en/armswiki/images/thumb/2/25/Icon-Misango.png/50px-Icon-Misango.png 2x\" width=\"25\"/></a></span> <span typeof=\"mw:File\"><a href=\"/wiki/Byte_%26_Barq\" title=\"Byte &amp; Barq\"><img class=\"mw-file-element\" decoding=\"async\" height=\"25\" src=\"//cdn.wikimg.net/en/armswiki/images/thumb/5/52/Icon-Byte_%26_Barq.png/25px-Icon-Byte_%26_Barq.png\" srcset=\"//cdn.wikimg.net/en/armswiki/images/thumb/5/52/Icon-Byte_%26_Barq.png/38px-Icon-Byte_%26_Barq.png 1.5x, //cdn.wikimg.net/en/armswiki/images/thumb/5/52/Icon-Byte_%26_Barq.png/50px-Icon-Byte_%26_Barq.png 2x\" width=\"25\"/></a></span>\n",
      "</td></tr>\n",
      "<tr>\n",
      "<td><a class=\"external text\" href=\"https://challonge.com/EUAC38\" rel=\"nofollow\">EU ARMS Challenge #38</a></td>\n",
      "<td>December 8, 2019</td>\n",
      "<td><a class=\"new\" href=\"/w/index.php?title=Replicant&amp;action=edit&amp;redlink=1\" title=\"Replicant (page does not exist)\">Replicant</a></td>\n",
      "<td><span typeof=\"mw:File\"><a href=\"/wiki/Lola_Pop\" title=\"Lola Pop\"><img class=\"mw-file-element\" decoding=\"async\" height=\"25\" src=\"//cdn.wikimg.net/en/armswiki/images/thumb/e/e5/Icon-Lola_Pop.png/25px-Icon-Lola_Pop.png\" srcset=\"//cdn.wikimg.net/en/armswiki/images/thumb/e/e5/Icon-Lola_Pop.png/38px-Icon-Lola_Pop.png 1.5x, //cdn.wikimg.net/en/armswiki/images/thumb/e/e5/Icon-Lola_Pop.png/50px-Icon-Lola_Pop.png 2x\" width=\"25\"/></a></span> <span typeof=\"mw:File\"><a href=\"/wiki/Min_Min\" title=\"Min Min\"><img class=\"mw-file-element\" decoding=\"async\" height=\"25\" src=\"//cdn.wikimg.net/en/armswiki/images/thumb/9/93/Icon-Min_Min.png/25px-Icon-Min_Min.png\" srcset=\"//cdn.wikimg.net/en/armswiki/images/thumb/9/93/Icon-Min_Min.png/38px-Icon-Min_Min.png 1.5x, //cdn.wikimg.net/en/armswiki/images/thumb/9/93/Icon-Min_Min.png/50px-Icon-Min_Min.png 2x\" width=\"25\"/></a></span>\n",
      "</td></tr>\n",
      "<tr>\n",
      "<td><a class=\"external text\" href=\"https://challonge.com/EUAC39\" rel=\"nofollow\">EU ARMS Challenge #39</a></td>\n",
      "<td>December 15, 2019</td>\n",
      "<td>Shedy</td>\n",
      "<td><span typeof=\"mw:File\"><a href=\"/wiki/Ribbon_Girl\" title=\"Ribbon Girl\"><img class=\"mw-file-element\" decoding=\"async\" height=\"25\" src=\"//cdn.wikimg.net/en/armswiki/images/thumb/e/ed/Icon-Ribbon_Girl.png/25px-Icon-Ribbon_Girl.png\" srcset=\"//cdn.wikimg.net/en/armswiki/images/thumb/e/ed/Icon-Ribbon_Girl.png/38px-Icon-Ribbon_Girl.png 1.5x, //cdn.wikimg.net/en/armswiki/images/thumb/e/ed/Icon-Ribbon_Girl.png/50px-Icon-Ribbon_Girl.png 2x\" width=\"25\"/></a></span>\n",
      "</td></tr>\n",
      "<tr>\n",
      "<td><a class=\"external text\" href=\"https://challonge.com/EUAC40\" rel=\"nofollow\">EU ARMS Challenge #40</a></td>\n",
      "<td>January 26, 2020</td>\n",
      "<td><a href=\"/wiki/Ripha\" title=\"Ripha\">Ripha</a></td>\n",
      "<td><span typeof=\"mw:File\"><a href=\"/wiki/Ninjara\" title=\"Ninjara\"><img class=\"mw-file-element\" decoding=\"async\" height=\"25\" src=\"//cdn.wikimg.net/en/armswiki/images/thumb/0/0c/Icon-Ninjara.png/25px-Icon-Ninjara.png\" srcset=\"//cdn.wikimg.net/en/armswiki/images/thumb/0/0c/Icon-Ninjara.png/38px-Icon-Ninjara.png 1.5x, //cdn.wikimg.net/en/armswiki/images/thumb/0/0c/Icon-Ninjara.png/50px-Icon-Ninjara.png 2x\" width=\"25\"/></a></span> <span typeof=\"mw:File\"><a href=\"/wiki/Misango\" title=\"Misango\"><img class=\"mw-file-element\" decoding=\"async\" height=\"25\" src=\"//cdn.wikimg.net/en/armswiki/images/thumb/2/25/Icon-Misango.png/25px-Icon-Misango.png\" srcset=\"//cdn.wikimg.net/en/armswiki/images/thumb/2/25/Icon-Misango.png/38px-Icon-Misango.png 1.5x, //cdn.wikimg.net/en/armswiki/images/thumb/2/25/Icon-Misango.png/50px-Icon-Misango.png 2x\" width=\"25\"/></a></span> <span typeof=\"mw:File\"><a href=\"/wiki/Lola_Pop\" title=\"Lola Pop\"><img class=\"mw-file-element\" decoding=\"async\" height=\"25\" src=\"//cdn.wikimg.net/en/armswiki/images/thumb/e/e5/Icon-Lola_Pop.png/25px-Icon-Lola_Pop.png\" srcset=\"//cdn.wikimg.net/en/armswiki/images/thumb/e/e5/Icon-Lola_Pop.png/38px-Icon-Lola_Pop.png 1.5x, //cdn.wikimg.net/en/armswiki/images/thumb/e/e5/Icon-Lola_Pop.png/50px-Icon-Lola_Pop.png 2x\" width=\"25\"/></a></span> <span typeof=\"mw:File\"><a href=\"/wiki/Mechanica\" title=\"Mechanica\"><img class=\"mw-file-element\" decoding=\"async\" height=\"25\" src=\"//cdn.wikimg.net/en/armswiki/images/thumb/e/ea/Icon-Mechanica.png/25px-Icon-Mechanica.png\" srcset=\"//cdn.wikimg.net/en/armswiki/images/thumb/e/ea/Icon-Mechanica.png/38px-Icon-Mechanica.png 1.5x, //cdn.wikimg.net/en/armswiki/images/thumb/e/ea/Icon-Mechanica.png/50px-Icon-Mechanica.png 2x\" width=\"25\"/></a></span> <span typeof=\"mw:File\"><a href=\"/wiki/Master_Mummy\" title=\"Master Mummy\"><img class=\"mw-file-element\" decoding=\"async\" height=\"25\" src=\"//cdn.wikimg.net/en/armswiki/images/thumb/5/58/Icon-Master_Mummy.png/25px-Icon-Master_Mummy.png\" srcset=\"//cdn.wikimg.net/en/armswiki/images/thumb/5/58/Icon-Master_Mummy.png/38px-Icon-Master_Mummy.png 1.5x, //cdn.wikimg.net/en/armswiki/images/thumb/5/58/Icon-Master_Mummy.png/50px-Icon-Master_Mummy.png 2x\" width=\"25\"/></a></span> <span typeof=\"mw:File\"><a href=\"/wiki/Helix\" title=\"Helix\"><img class=\"mw-file-element\" decoding=\"async\" height=\"25\" src=\"//cdn.wikimg.net/en/armswiki/images/thumb/c/c4/Icon-Helix.png/25px-Icon-Helix.png\" srcset=\"//cdn.wikimg.net/en/armswiki/images/thumb/c/c4/Icon-Helix.png/38px-Icon-Helix.png 1.5x, //cdn.wikimg.net/en/armswiki/images/thumb/c/c4/Icon-Helix.png/50px-Icon-Helix.png 2x\" width=\"25\"/></a></span> <span typeof=\"mw:File\"><a href=\"/wiki/Kid_Cobra\" title=\"Kid Cobra\"><img class=\"mw-file-element\" decoding=\"async\" height=\"25\" src=\"//cdn.wikimg.net/en/armswiki/images/thumb/b/b7/Icon-Kid_Cobra.png/25px-Icon-Kid_Cobra.png\" srcset=\"//cdn.wikimg.net/en/armswiki/images/thumb/b/b7/Icon-Kid_Cobra.png/38px-Icon-Kid_Cobra.png 1.5x, //cdn.wikimg.net/en/armswiki/images/thumb/b/b7/Icon-Kid_Cobra.png/50px-Icon-Kid_Cobra.png 2x\" width=\"25\"/></a></span>\n",
      "</td></tr>\n",
      "<tr>\n",
      "<td><a class=\"external text\" href=\"https://challonge.com/EUAC41\" rel=\"nofollow\">EU ARMS Challenge #41</a></td>\n",
      "<td>February 9, 2020</td>\n",
      "<td><a href=\"/wiki/Iceman92\" title=\"Iceman92\">Iceman92</a></td>\n",
      "<td><span typeof=\"mw:File\"><a href=\"/wiki/Min_Min\" title=\"Min Min\"><img class=\"mw-file-element\" decoding=\"async\" height=\"25\" src=\"//cdn.wikimg.net/en/armswiki/images/thumb/9/93/Icon-Min_Min.png/25px-Icon-Min_Min.png\" srcset=\"//cdn.wikimg.net/en/armswiki/images/thumb/9/93/Icon-Min_Min.png/38px-Icon-Min_Min.png 1.5x, //cdn.wikimg.net/en/armswiki/images/thumb/9/93/Icon-Min_Min.png/50px-Icon-Min_Min.png 2x\" width=\"25\"/></a></span>\n",
      "</td></tr>\n",
      "<tr>\n",
      "<td><a class=\"external text\" href=\"https://challonge.com/EUAC42\" rel=\"nofollow\">EU ARMS Challenge #42</a></td>\n",
      "<td>February 23, 2020</td>\n",
      "<td><a href=\"/wiki/Iceman92\" title=\"Iceman92\">Iceman92</a></td>\n",
      "<td><span typeof=\"mw:File\"><a href=\"/wiki/Ribbon_Girl\" title=\"Ribbon Girl\"><img class=\"mw-file-element\" decoding=\"async\" height=\"25\" src=\"//cdn.wikimg.net/en/armswiki/images/thumb/e/ed/Icon-Ribbon_Girl.png/25px-Icon-Ribbon_Girl.png\" srcset=\"//cdn.wikimg.net/en/armswiki/images/thumb/e/ed/Icon-Ribbon_Girl.png/38px-Icon-Ribbon_Girl.png 1.5x, //cdn.wikimg.net/en/armswiki/images/thumb/e/ed/Icon-Ribbon_Girl.png/50px-Icon-Ribbon_Girl.png 2x\" width=\"25\"/></a></span> <span typeof=\"mw:File\"><a href=\"/wiki/Min_Min\" title=\"Min Min\"><img class=\"mw-file-element\" decoding=\"async\" height=\"25\" src=\"//cdn.wikimg.net/en/armswiki/images/thumb/9/93/Icon-Min_Min.png/25px-Icon-Min_Min.png\" srcset=\"//cdn.wikimg.net/en/armswiki/images/thumb/9/93/Icon-Min_Min.png/38px-Icon-Min_Min.png 1.5x, //cdn.wikimg.net/en/armswiki/images/thumb/9/93/Icon-Min_Min.png/50px-Icon-Min_Min.png 2x\" width=\"25\"/></a></span>\n",
      "</td></tr>\n",
      "<tr>\n",
      "<td><a class=\"external text\" href=\"https://challonge.com/EUAC43\" rel=\"nofollow\">EU ARMS Challenge #43</a></td>\n",
      "<td>March 8, 2020</td>\n",
      "<td>Shedy</td>\n",
      "<td><span typeof=\"mw:File\"><a href=\"/wiki/Ribbon_Girl\" title=\"Ribbon Girl\"><img class=\"mw-file-element\" decoding=\"async\" height=\"25\" src=\"//cdn.wikimg.net/en/armswiki/images/thumb/e/ed/Icon-Ribbon_Girl.png/25px-Icon-Ribbon_Girl.png\" srcset=\"//cdn.wikimg.net/en/armswiki/images/thumb/e/ed/Icon-Ribbon_Girl.png/38px-Icon-Ribbon_Girl.png 1.5x, //cdn.wikimg.net/en/armswiki/images/thumb/e/ed/Icon-Ribbon_Girl.png/50px-Icon-Ribbon_Girl.png 2x\" width=\"25\"/></a></span>\n",
      "</td></tr>\n",
      "<tr>\n",
      "<td><a class=\"external text\" href=\"https://challonge.com/EUAC44\" rel=\"nofollow\">EU ARMS Challenge #44</a></td>\n",
      "<td>March 15, 2020</td>\n",
      "<td><a href=\"/wiki/Ripha\" title=\"Ripha\">Ripha</a></td>\n",
      "<td><span typeof=\"mw:File\"><a href=\"/wiki/Ninjara\" title=\"Ninjara\"><img class=\"mw-file-element\" decoding=\"async\" height=\"25\" src=\"//cdn.wikimg.net/en/armswiki/images/thumb/0/0c/Icon-Ninjara.png/25px-Icon-Ninjara.png\" srcset=\"//cdn.wikimg.net/en/armswiki/images/thumb/0/0c/Icon-Ninjara.png/38px-Icon-Ninjara.png 1.5x, //cdn.wikimg.net/en/armswiki/images/thumb/0/0c/Icon-Ninjara.png/50px-Icon-Ninjara.png 2x\" width=\"25\"/></a></span> <span typeof=\"mw:File\"><a href=\"/wiki/Helix\" title=\"Helix\"><img class=\"mw-file-element\" decoding=\"async\" height=\"25\" src=\"//cdn.wikimg.net/en/armswiki/images/thumb/c/c4/Icon-Helix.png/25px-Icon-Helix.png\" srcset=\"//cdn.wikimg.net/en/armswiki/images/thumb/c/c4/Icon-Helix.png/38px-Icon-Helix.png 1.5x, //cdn.wikimg.net/en/armswiki/images/thumb/c/c4/Icon-Helix.png/50px-Icon-Helix.png 2x\" width=\"25\"/></a></span> <span typeof=\"mw:File\"><a href=\"/wiki/Master_Mummy\" title=\"Master Mummy\"><img class=\"mw-file-element\" decoding=\"async\" height=\"25\" src=\"//cdn.wikimg.net/en/armswiki/images/thumb/5/58/Icon-Master_Mummy.png/25px-Icon-Master_Mummy.png\" srcset=\"//cdn.wikimg.net/en/armswiki/images/thumb/5/58/Icon-Master_Mummy.png/38px-Icon-Master_Mummy.png 1.5x, //cdn.wikimg.net/en/armswiki/images/thumb/5/58/Icon-Master_Mummy.png/50px-Icon-Master_Mummy.png 2x\" width=\"25\"/></a></span> <span typeof=\"mw:File\"><a href=\"/wiki/Min_Min\" title=\"Min Min\"><img class=\"mw-file-element\" decoding=\"async\" height=\"25\" src=\"//cdn.wikimg.net/en/armswiki/images/thumb/9/93/Icon-Min_Min.png/25px-Icon-Min_Min.png\" srcset=\"//cdn.wikimg.net/en/armswiki/images/thumb/9/93/Icon-Min_Min.png/38px-Icon-Min_Min.png 1.5x, //cdn.wikimg.net/en/armswiki/images/thumb/9/93/Icon-Min_Min.png/50px-Icon-Min_Min.png 2x\" width=\"25\"/></a></span> <span typeof=\"mw:File\"><a href=\"/wiki/Lola_Pop\" title=\"Lola Pop\"><img class=\"mw-file-element\" decoding=\"async\" height=\"25\" src=\"//cdn.wikimg.net/en/armswiki/images/thumb/e/e5/Icon-Lola_Pop.png/25px-Icon-Lola_Pop.png\" srcset=\"//cdn.wikimg.net/en/armswiki/images/thumb/e/e5/Icon-Lola_Pop.png/38px-Icon-Lola_Pop.png 1.5x, //cdn.wikimg.net/en/armswiki/images/thumb/e/e5/Icon-Lola_Pop.png/50px-Icon-Lola_Pop.png 2x\" width=\"25\"/></a></span> <span typeof=\"mw:File\"><a href=\"/wiki/Mechanica\" title=\"Mechanica\"><img class=\"mw-file-element\" decoding=\"async\" height=\"25\" src=\"//cdn.wikimg.net/en/armswiki/images/thumb/e/ea/Icon-Mechanica.png/25px-Icon-Mechanica.png\" srcset=\"//cdn.wikimg.net/en/armswiki/images/thumb/e/ea/Icon-Mechanica.png/38px-Icon-Mechanica.png 1.5x, //cdn.wikimg.net/en/armswiki/images/thumb/e/ea/Icon-Mechanica.png/50px-Icon-Mechanica.png 2x\" width=\"25\"/></a></span>\n",
      "</td></tr>\n",
      "<tr>\n",
      "<td><a class=\"external text\" href=\"https://challonge.com/EUAC45\" rel=\"nofollow\">EU ARMS Challenge #45</a></td>\n",
      "<td>April 5, 2020</td>\n",
      "<td><a href=\"/wiki/Grimwood\" title=\"Grimwood\">Grimwood</a></td>\n",
      "<td><span typeof=\"mw:File\"><a href=\"/wiki/Dr._Coyle\" title=\"Dr. Coyle\"><img class=\"mw-file-element\" decoding=\"async\" height=\"25\" src=\"//cdn.wikimg.net/en/armswiki/images/thumb/5/53/Icon-Dr._Coyle.png/25px-Icon-Dr._Coyle.png\" srcset=\"//cdn.wikimg.net/en/armswiki/images/thumb/5/53/Icon-Dr._Coyle.png/38px-Icon-Dr._Coyle.png 1.5x, //cdn.wikimg.net/en/armswiki/images/thumb/5/53/Icon-Dr._Coyle.png/50px-Icon-Dr._Coyle.png 2x\" width=\"25\"/></a></span> <span typeof=\"mw:File\"><a href=\"/wiki/Max_Brass\" title=\"Max Brass\"><img class=\"mw-file-element\" decoding=\"async\" height=\"25\" src=\"//cdn.wikimg.net/en/armswiki/images/thumb/4/45/Icon-Max_Brass.png/25px-Icon-Max_Brass.png\" srcset=\"//cdn.wikimg.net/en/armswiki/images/thumb/4/45/Icon-Max_Brass.png/38px-Icon-Max_Brass.png 1.5x, //cdn.wikimg.net/en/armswiki/images/thumb/4/45/Icon-Max_Brass.png/50px-Icon-Max_Brass.png 2x\" width=\"25\"/></a></span> <span typeof=\"mw:File\"><a href=\"/wiki/Twintelle\" title=\"Twintelle\"><img class=\"mw-file-element\" decoding=\"async\" height=\"25\" src=\"//cdn.wikimg.net/en/armswiki/images/thumb/a/a1/Icon-Twintelle.png/25px-Icon-Twintelle.png\" srcset=\"//cdn.wikimg.net/en/armswiki/images/thumb/a/a1/Icon-Twintelle.png/38px-Icon-Twintelle.png 1.5x, //cdn.wikimg.net/en/armswiki/images/thumb/a/a1/Icon-Twintelle.png/50px-Icon-Twintelle.png 2x\" width=\"25\"/></a></span> <span typeof=\"mw:File\"><a href=\"/wiki/Min_Min\" title=\"Min Min\"><img class=\"mw-file-element\" decoding=\"async\" height=\"25\" src=\"//cdn.wikimg.net/en/armswiki/images/thumb/9/93/Icon-Min_Min.png/25px-Icon-Min_Min.png\" srcset=\"//cdn.wikimg.net/en/armswiki/images/thumb/9/93/Icon-Min_Min.png/38px-Icon-Min_Min.png 1.5x, //cdn.wikimg.net/en/armswiki/images/thumb/9/93/Icon-Min_Min.png/50px-Icon-Min_Min.png 2x\" width=\"25\"/></a></span>\n",
      "</td></tr>\n",
      "<tr>\n",
      "<td><a class=\"external text\" href=\"https://challonge.com/EUAC46\" rel=\"nofollow\">EU ARMS Challenge #46</a></td>\n",
      "<td>April 19, 2020</td>\n",
      "<td><a href=\"/wiki/Jr\" title=\"Jr\">Jr</a></td>\n",
      "<td><span typeof=\"mw:File\"><a href=\"/wiki/Kid_Cobra\" title=\"Kid Cobra\"><img class=\"mw-file-element\" decoding=\"async\" height=\"25\" src=\"//cdn.wikimg.net/en/armswiki/images/thumb/b/b7/Icon-Kid_Cobra.png/25px-Icon-Kid_Cobra.png\" srcset=\"//cdn.wikimg.net/en/armswiki/images/thumb/b/b7/Icon-Kid_Cobra.png/38px-Icon-Kid_Cobra.png 1.5x, //cdn.wikimg.net/en/armswiki/images/thumb/b/b7/Icon-Kid_Cobra.png/50px-Icon-Kid_Cobra.png 2x\" width=\"25\"/></a></span>\n",
      "</td></tr>\n",
      "<tr>\n",
      "<td><a class=\"external text\" href=\"https://challonge.com/EUAC47\" rel=\"nofollow\">EU ARMS Challenge #47</a></td>\n",
      "<td>May 3, 2020</td>\n",
      "<td><a href=\"/wiki/Ripha\" title=\"Ripha\">Ripha</a></td>\n",
      "<td><span typeof=\"mw:File\"><a href=\"/wiki/Ninjara\" title=\"Ninjara\"><img class=\"mw-file-element\" decoding=\"async\" height=\"25\" src=\"//cdn.wikimg.net/en/armswiki/images/thumb/0/0c/Icon-Ninjara.png/25px-Icon-Ninjara.png\" srcset=\"//cdn.wikimg.net/en/armswiki/images/thumb/0/0c/Icon-Ninjara.png/38px-Icon-Ninjara.png 1.5x, //cdn.wikimg.net/en/armswiki/images/thumb/0/0c/Icon-Ninjara.png/50px-Icon-Ninjara.png 2x\" width=\"25\"/></a></span>\n",
      "</td></tr>\n",
      "<tr>\n",
      "<td><a class=\"external text\" href=\"https://challonge.com/EUAC48\" rel=\"nofollow\">EU ARMS Challenge #48</a></td>\n",
      "<td>May 17, 2020</td>\n",
      "<td><a href=\"/wiki/Raffa\" title=\"Raffa\">Raffa</a></td>\n",
      "<td><span typeof=\"mw:File\"><a href=\"/wiki/Kid_Cobra\" title=\"Kid Cobra\"><img class=\"mw-file-element\" decoding=\"async\" height=\"25\" src=\"//cdn.wikimg.net/en/armswiki/images/thumb/b/b7/Icon-Kid_Cobra.png/25px-Icon-Kid_Cobra.png\" srcset=\"//cdn.wikimg.net/en/armswiki/images/thumb/b/b7/Icon-Kid_Cobra.png/38px-Icon-Kid_Cobra.png 1.5x, //cdn.wikimg.net/en/armswiki/images/thumb/b/b7/Icon-Kid_Cobra.png/50px-Icon-Kid_Cobra.png 2x\" width=\"25\"/></a></span> <span typeof=\"mw:File\"><a href=\"/wiki/Lola_Pop\" title=\"Lola Pop\"><img class=\"mw-file-element\" decoding=\"async\" height=\"25\" src=\"//cdn.wikimg.net/en/armswiki/images/thumb/e/e5/Icon-Lola_Pop.png/25px-Icon-Lola_Pop.png\" srcset=\"//cdn.wikimg.net/en/armswiki/images/thumb/e/e5/Icon-Lola_Pop.png/38px-Icon-Lola_Pop.png 1.5x, //cdn.wikimg.net/en/armswiki/images/thumb/e/e5/Icon-Lola_Pop.png/50px-Icon-Lola_Pop.png 2x\" width=\"25\"/></a></span> <span typeof=\"mw:File\"><a href=\"/wiki/Twintelle\" title=\"Twintelle\"><img class=\"mw-file-element\" decoding=\"async\" height=\"25\" src=\"//cdn.wikimg.net/en/armswiki/images/thumb/a/a1/Icon-Twintelle.png/25px-Icon-Twintelle.png\" srcset=\"//cdn.wikimg.net/en/armswiki/images/thumb/a/a1/Icon-Twintelle.png/38px-Icon-Twintelle.png 1.5x, //cdn.wikimg.net/en/armswiki/images/thumb/a/a1/Icon-Twintelle.png/50px-Icon-Twintelle.png 2x\" width=\"25\"/></a></span>\n",
      "</td></tr>\n",
      "<tr>\n",
      "<td><a class=\"external text\" href=\"https://challonge.com/EUAC49\" rel=\"nofollow\">EU ARMS Challenge #49</a></td>\n",
      "<td>May 31, 2020</td>\n",
      "<td><a href=\"/wiki/Raffa\" title=\"Raffa\">Raffa</a></td>\n",
      "<td><span typeof=\"mw:File\"><a href=\"/wiki/Kid_Cobra\" title=\"Kid Cobra\"><img class=\"mw-file-element\" decoding=\"async\" height=\"25\" src=\"//cdn.wikimg.net/en/armswiki/images/thumb/b/b7/Icon-Kid_Cobra.png/25px-Icon-Kid_Cobra.png\" srcset=\"//cdn.wikimg.net/en/armswiki/images/thumb/b/b7/Icon-Kid_Cobra.png/38px-Icon-Kid_Cobra.png 1.5x, //cdn.wikimg.net/en/armswiki/images/thumb/b/b7/Icon-Kid_Cobra.png/50px-Icon-Kid_Cobra.png 2x\" width=\"25\"/></a></span>\n",
      "</td></tr>\n",
      "<tr>\n",
      "<td><a class=\"external text\" href=\"https://challonge.com/EUAC50\" rel=\"nofollow\">EU ARMS Challenge #50</a></td>\n",
      "<td>June 14, 2020</td>\n",
      "<td><a href=\"/wiki/Grimwood\" title=\"Grimwood\">Grimwood</a></td>\n",
      "<td><span typeof=\"mw:File\"><a href=\"/wiki/Max_Brass\" title=\"Max Brass\"><img class=\"mw-file-element\" decoding=\"async\" height=\"25\" src=\"//cdn.wikimg.net/en/armswiki/images/thumb/4/45/Icon-Max_Brass.png/25px-Icon-Max_Brass.png\" srcset=\"//cdn.wikimg.net/en/armswiki/images/thumb/4/45/Icon-Max_Brass.png/38px-Icon-Max_Brass.png 1.5x, //cdn.wikimg.net/en/armswiki/images/thumb/4/45/Icon-Max_Brass.png/50px-Icon-Max_Brass.png 2x\" width=\"25\"/></a></span> <span typeof=\"mw:File\"><a href=\"/wiki/Dr._Coyle\" title=\"Dr. Coyle\"><img class=\"mw-file-element\" decoding=\"async\" height=\"25\" src=\"//cdn.wikimg.net/en/armswiki/images/thumb/5/53/Icon-Dr._Coyle.png/25px-Icon-Dr._Coyle.png\" srcset=\"//cdn.wikimg.net/en/armswiki/images/thumb/5/53/Icon-Dr._Coyle.png/38px-Icon-Dr._Coyle.png 1.5x, //cdn.wikimg.net/en/armswiki/images/thumb/5/53/Icon-Dr._Coyle.png/50px-Icon-Dr._Coyle.png 2x\" width=\"25\"/></a></span>\n",
      "</td></tr>\n",
      "<tr>\n",
      "<td><a class=\"external text\" href=\"https://challonge.com/EUAC51\" rel=\"nofollow\">EU ARMS Challenge #51</a></td>\n",
      "<td>June 28, 2020</td>\n",
      "<td><a href=\"/wiki/Raffa\" title=\"Raffa\">Raffa</a></td>\n",
      "<td><span typeof=\"mw:File\"><a href=\"/wiki/Kid_Cobra\" title=\"Kid Cobra\"><img class=\"mw-file-element\" decoding=\"async\" height=\"25\" src=\"//cdn.wikimg.net/en/armswiki/images/thumb/b/b7/Icon-Kid_Cobra.png/25px-Icon-Kid_Cobra.png\" srcset=\"//cdn.wikimg.net/en/armswiki/images/thumb/b/b7/Icon-Kid_Cobra.png/38px-Icon-Kid_Cobra.png 1.5x, //cdn.wikimg.net/en/armswiki/images/thumb/b/b7/Icon-Kid_Cobra.png/50px-Icon-Kid_Cobra.png 2x\" width=\"25\"/></a></span>\n",
      "</td></tr>\n",
      "<tr>\n",
      "<td><a class=\"external text\" href=\"https://challonge.com/EUAC52\" rel=\"nofollow\">EU ARMS Challenge #52</a></td>\n",
      "<td>July 12, 2020</td>\n",
      "<td><a href=\"/wiki/Grimwood\" title=\"Grimwood\">Grimwood</a></td>\n",
      "<td><span typeof=\"mw:File\"><a href=\"/wiki/Max_Brass\" title=\"Max Brass\"><img class=\"mw-file-element\" decoding=\"async\" height=\"25\" src=\"//cdn.wikimg.net/en/armswiki/images/thumb/4/45/Icon-Max_Brass.png/25px-Icon-Max_Brass.png\" srcset=\"//cdn.wikimg.net/en/armswiki/images/thumb/4/45/Icon-Max_Brass.png/38px-Icon-Max_Brass.png 1.5x, //cdn.wikimg.net/en/armswiki/images/thumb/4/45/Icon-Max_Brass.png/50px-Icon-Max_Brass.png 2x\" width=\"25\"/></a></span> <span typeof=\"mw:File\"><a href=\"/wiki/Dr._Coyle\" title=\"Dr. Coyle\"><img class=\"mw-file-element\" decoding=\"async\" height=\"25\" src=\"//cdn.wikimg.net/en/armswiki/images/thumb/5/53/Icon-Dr._Coyle.png/25px-Icon-Dr._Coyle.png\" srcset=\"//cdn.wikimg.net/en/armswiki/images/thumb/5/53/Icon-Dr._Coyle.png/38px-Icon-Dr._Coyle.png 1.5x, //cdn.wikimg.net/en/armswiki/images/thumb/5/53/Icon-Dr._Coyle.png/50px-Icon-Dr._Coyle.png 2x\" width=\"25\"/></a></span>\n",
      "</td></tr>\n",
      "<tr>\n",
      "<td><a class=\"external text\" href=\"https://challonge.com/EUAC53\" rel=\"nofollow\">EU ARMS Challenge #53</a></td>\n",
      "<td>July 26, 2020</td>\n",
      "<td><a href=\"/wiki/Ripha\" title=\"Ripha\">Ripha</a></td>\n",
      "<td><span typeof=\"mw:File\"><a href=\"/wiki/Ninjara\" title=\"Ninjara\"><img class=\"mw-file-element\" decoding=\"async\" height=\"25\" src=\"//cdn.wikimg.net/en/armswiki/images/thumb/0/0c/Icon-Ninjara.png/25px-Icon-Ninjara.png\" srcset=\"//cdn.wikimg.net/en/armswiki/images/thumb/0/0c/Icon-Ninjara.png/38px-Icon-Ninjara.png 1.5x, //cdn.wikimg.net/en/armswiki/images/thumb/0/0c/Icon-Ninjara.png/50px-Icon-Ninjara.png 2x\" width=\"25\"/></a></span>\n",
      "</td></tr>\n",
      "<tr>\n",
      "<td><a class=\"external text\" href=\"https://challonge.com/EUAC54\" rel=\"nofollow\">EU ARMS Challenge #54</a></td>\n",
      "<td>August 9, 2020</td>\n",
      "<td><a class=\"new\" href=\"/w/index.php?title=Replicant&amp;action=edit&amp;redlink=1\" title=\"Replicant (page does not exist)\">Replicant</a></td>\n",
      "<td><span typeof=\"mw:File\"><a href=\"/wiki/Lola_Pop\" title=\"Lola Pop\"><img class=\"mw-file-element\" decoding=\"async\" height=\"25\" src=\"//cdn.wikimg.net/en/armswiki/images/thumb/e/e5/Icon-Lola_Pop.png/25px-Icon-Lola_Pop.png\" srcset=\"//cdn.wikimg.net/en/armswiki/images/thumb/e/e5/Icon-Lola_Pop.png/38px-Icon-Lola_Pop.png 1.5x, //cdn.wikimg.net/en/armswiki/images/thumb/e/e5/Icon-Lola_Pop.png/50px-Icon-Lola_Pop.png 2x\" width=\"25\"/></a></span>\n",
      "</td></tr>\n",
      "<tr>\n",
      "<td><a class=\"external text\" href=\"https://challonge.com/EUAC55\" rel=\"nofollow\">EU ARMS Challenge #55</a></td>\n",
      "<td>August 23, 2020</td>\n",
      "<td><a href=\"/wiki/Grimwood\" title=\"Grimwood\">Grimwood</a></td>\n",
      "<td><span typeof=\"mw:File\"><a href=\"/wiki/Dr._Coyle\" title=\"Dr. Coyle\"><img class=\"mw-file-element\" decoding=\"async\" height=\"25\" src=\"//cdn.wikimg.net/en/armswiki/images/thumb/5/53/Icon-Dr._Coyle.png/25px-Icon-Dr._Coyle.png\" srcset=\"//cdn.wikimg.net/en/armswiki/images/thumb/5/53/Icon-Dr._Coyle.png/38px-Icon-Dr._Coyle.png 1.5x, //cdn.wikimg.net/en/armswiki/images/thumb/5/53/Icon-Dr._Coyle.png/50px-Icon-Dr._Coyle.png 2x\" width=\"25\"/></a></span> <span typeof=\"mw:File\"><a href=\"/wiki/Kid_Cobra\" title=\"Kid Cobra\"><img class=\"mw-file-element\" decoding=\"async\" height=\"25\" src=\"//cdn.wikimg.net/en/armswiki/images/thumb/b/b7/Icon-Kid_Cobra.png/25px-Icon-Kid_Cobra.png\" srcset=\"//cdn.wikimg.net/en/armswiki/images/thumb/b/b7/Icon-Kid_Cobra.png/38px-Icon-Kid_Cobra.png 1.5x, //cdn.wikimg.net/en/armswiki/images/thumb/b/b7/Icon-Kid_Cobra.png/50px-Icon-Kid_Cobra.png 2x\" width=\"25\"/></a></span>\n",
      "</td></tr>\n",
      "<tr>\n",
      "<td><a class=\"external text\" href=\"https://challonge.com/EUAC56\" rel=\"nofollow\">EU ARMS Challenge #56</a></td>\n",
      "<td>September 6, 2020</td>\n",
      "<td><a href=\"/wiki/Grimwood\" title=\"Grimwood\">Grimwood</a></td>\n",
      "<td><span typeof=\"mw:File\"><a href=\"/wiki/Max_Brass\" title=\"Max Brass\"><img class=\"mw-file-element\" decoding=\"async\" height=\"25\" src=\"//cdn.wikimg.net/en/armswiki/images/thumb/4/45/Icon-Max_Brass.png/25px-Icon-Max_Brass.png\" srcset=\"//cdn.wikimg.net/en/armswiki/images/thumb/4/45/Icon-Max_Brass.png/38px-Icon-Max_Brass.png 1.5x, //cdn.wikimg.net/en/armswiki/images/thumb/4/45/Icon-Max_Brass.png/50px-Icon-Max_Brass.png 2x\" width=\"25\"/></a></span> <span typeof=\"mw:File\"><a href=\"/wiki/Dr._Coyle\" title=\"Dr. Coyle\"><img class=\"mw-file-element\" decoding=\"async\" height=\"25\" src=\"//cdn.wikimg.net/en/armswiki/images/thumb/5/53/Icon-Dr._Coyle.png/25px-Icon-Dr._Coyle.png\" srcset=\"//cdn.wikimg.net/en/armswiki/images/thumb/5/53/Icon-Dr._Coyle.png/38px-Icon-Dr._Coyle.png 1.5x, //cdn.wikimg.net/en/armswiki/images/thumb/5/53/Icon-Dr._Coyle.png/50px-Icon-Dr._Coyle.png 2x\" width=\"25\"/></a></span> <span typeof=\"mw:File\"><a href=\"/wiki/Kid_Cobra\" title=\"Kid Cobra\"><img class=\"mw-file-element\" decoding=\"async\" height=\"25\" src=\"//cdn.wikimg.net/en/armswiki/images/thumb/b/b7/Icon-Kid_Cobra.png/25px-Icon-Kid_Cobra.png\" srcset=\"//cdn.wikimg.net/en/armswiki/images/thumb/b/b7/Icon-Kid_Cobra.png/38px-Icon-Kid_Cobra.png 1.5x, //cdn.wikimg.net/en/armswiki/images/thumb/b/b7/Icon-Kid_Cobra.png/50px-Icon-Kid_Cobra.png 2x\" width=\"25\"/></a></span>\n",
      "</td></tr>\n",
      "<tr>\n",
      "<td><a class=\"external text\" href=\"https://challonge.com/EUAC57\" rel=\"nofollow\">EU ARMS Challenge #57</a></td>\n",
      "<td>September 20, 2020</td>\n",
      "<td><a href=\"/wiki/Ripha\" title=\"Ripha\">Ripha</a></td>\n",
      "<td><span typeof=\"mw:File\"><a href=\"/wiki/Mechanica\" title=\"Mechanica\"><img class=\"mw-file-element\" decoding=\"async\" height=\"25\" src=\"//cdn.wikimg.net/en/armswiki/images/thumb/e/ea/Icon-Mechanica.png/25px-Icon-Mechanica.png\" srcset=\"//cdn.wikimg.net/en/armswiki/images/thumb/e/ea/Icon-Mechanica.png/38px-Icon-Mechanica.png 1.5x, //cdn.wikimg.net/en/armswiki/images/thumb/e/ea/Icon-Mechanica.png/50px-Icon-Mechanica.png 2x\" width=\"25\"/></a></span>\n",
      "</td></tr>\n",
      "<tr>\n",
      "<td><a class=\"external text\" href=\"https://challonge.com/EUAC58\" rel=\"nofollow\">EU ARMS Challenge #58</a></td>\n",
      "<td>October 4, 2020</td>\n",
      "<td><a href=\"/wiki/Ripha\" title=\"Ripha\">Ripha</a></td>\n",
      "<td><span typeof=\"mw:File\"><a href=\"/wiki/Ninjara\" title=\"Ninjara\"><img class=\"mw-file-element\" decoding=\"async\" height=\"25\" src=\"//cdn.wikimg.net/en/armswiki/images/thumb/0/0c/Icon-Ninjara.png/25px-Icon-Ninjara.png\" srcset=\"//cdn.wikimg.net/en/armswiki/images/thumb/0/0c/Icon-Ninjara.png/38px-Icon-Ninjara.png 1.5x, //cdn.wikimg.net/en/armswiki/images/thumb/0/0c/Icon-Ninjara.png/50px-Icon-Ninjara.png 2x\" width=\"25\"/></a></span>\n",
      "</td></tr>\n",
      "<tr>\n",
      "<td><a class=\"external text\" href=\"https://challonge.com/EUAC59\" rel=\"nofollow\">EU ARMS Challenge #59</a></td>\n",
      "<td>October 18, 2020</td>\n",
      "<td><a href=\"/wiki/Ripha\" title=\"Ripha\">Ripha</a></td>\n",
      "<td><span typeof=\"mw:File\"><a href=\"/wiki/Misango\" title=\"Misango\"><img class=\"mw-file-element\" decoding=\"async\" height=\"25\" src=\"//cdn.wikimg.net/en/armswiki/images/thumb/2/25/Icon-Misango.png/25px-Icon-Misango.png\" srcset=\"//cdn.wikimg.net/en/armswiki/images/thumb/2/25/Icon-Misango.png/38px-Icon-Misango.png 1.5x, //cdn.wikimg.net/en/armswiki/images/thumb/2/25/Icon-Misango.png/50px-Icon-Misango.png 2x\" width=\"25\"/></a></span> <span typeof=\"mw:File\"><a href=\"/wiki/Ninjara\" title=\"Ninjara\"><img class=\"mw-file-element\" decoding=\"async\" height=\"25\" src=\"//cdn.wikimg.net/en/armswiki/images/thumb/0/0c/Icon-Ninjara.png/25px-Icon-Ninjara.png\" srcset=\"//cdn.wikimg.net/en/armswiki/images/thumb/0/0c/Icon-Ninjara.png/38px-Icon-Ninjara.png 1.5x, //cdn.wikimg.net/en/armswiki/images/thumb/0/0c/Icon-Ninjara.png/50px-Icon-Ninjara.png 2x\" width=\"25\"/></a></span> <span typeof=\"mw:File\"><a href=\"/wiki/Mechanica\" title=\"Mechanica\"><img class=\"mw-file-element\" decoding=\"async\" height=\"25\" src=\"//cdn.wikimg.net/en/armswiki/images/thumb/e/ea/Icon-Mechanica.png/25px-Icon-Mechanica.png\" srcset=\"//cdn.wikimg.net/en/armswiki/images/thumb/e/ea/Icon-Mechanica.png/38px-Icon-Mechanica.png 1.5x, //cdn.wikimg.net/en/armswiki/images/thumb/e/ea/Icon-Mechanica.png/50px-Icon-Mechanica.png 2x\" width=\"25\"/></a></span> <span typeof=\"mw:File\"><a href=\"/wiki/Master_Mummy\" title=\"Master Mummy\"><img class=\"mw-file-element\" decoding=\"async\" height=\"25\" src=\"//cdn.wikimg.net/en/armswiki/images/thumb/5/58/Icon-Master_Mummy.png/25px-Icon-Master_Mummy.png\" srcset=\"//cdn.wikimg.net/en/armswiki/images/thumb/5/58/Icon-Master_Mummy.png/38px-Icon-Master_Mummy.png 1.5x, //cdn.wikimg.net/en/armswiki/images/thumb/5/58/Icon-Master_Mummy.png/50px-Icon-Master_Mummy.png 2x\" width=\"25\"/></a></span> <span typeof=\"mw:File\"><a href=\"/wiki/Lola_Pop\" title=\"Lola Pop\"><img class=\"mw-file-element\" decoding=\"async\" height=\"25\" src=\"//cdn.wikimg.net/en/armswiki/images/thumb/e/e5/Icon-Lola_Pop.png/25px-Icon-Lola_Pop.png\" srcset=\"//cdn.wikimg.net/en/armswiki/images/thumb/e/e5/Icon-Lola_Pop.png/38px-Icon-Lola_Pop.png 1.5x, //cdn.wikimg.net/en/armswiki/images/thumb/e/e5/Icon-Lola_Pop.png/50px-Icon-Lola_Pop.png 2x\" width=\"25\"/></a></span>\n",
      "</td></tr>\n",
      "<tr>\n",
      "<td><a class=\"external text\" href=\"https://challonge.com/EUAC60\" rel=\"nofollow\">EU ARMS Challenge #60</a></td>\n",
      "<td>November 1, 2020</td>\n",
      "<td><a href=\"/wiki/Ripha\" title=\"Ripha\">Ripha</a></td>\n",
      "<td><span typeof=\"mw:File\"><a href=\"/wiki/Misango\" title=\"Misango\"><img class=\"mw-file-element\" decoding=\"async\" height=\"25\" src=\"//cdn.wikimg.net/en/armswiki/images/thumb/2/25/Icon-Misango.png/25px-Icon-Misango.png\" srcset=\"//cdn.wikimg.net/en/armswiki/images/thumb/2/25/Icon-Misango.png/38px-Icon-Misango.png 1.5x, //cdn.wikimg.net/en/armswiki/images/thumb/2/25/Icon-Misango.png/50px-Icon-Misango.png 2x\" width=\"25\"/></a></span> <span typeof=\"mw:File\"><a href=\"/wiki/Ninjara\" title=\"Ninjara\"><img class=\"mw-file-element\" decoding=\"async\" height=\"25\" src=\"//cdn.wikimg.net/en/armswiki/images/thumb/0/0c/Icon-Ninjara.png/25px-Icon-Ninjara.png\" srcset=\"//cdn.wikimg.net/en/armswiki/images/thumb/0/0c/Icon-Ninjara.png/38px-Icon-Ninjara.png 1.5x, //cdn.wikimg.net/en/armswiki/images/thumb/0/0c/Icon-Ninjara.png/50px-Icon-Ninjara.png 2x\" width=\"25\"/></a></span>\n",
      "</td></tr>\n",
      "<tr>\n",
      "<td><a class=\"external text\" href=\"https://challonge.com/EUAC61\" rel=\"nofollow\">EU ARMS Challenge #61</a></td>\n",
      "<td>November 15, 2020</td>\n",
      "<td><a href=\"/wiki/Grimwood\" title=\"Grimwood\">Grimwood</a></td>\n",
      "<td><span typeof=\"mw:File\"><a href=\"/wiki/Max_Brass\" title=\"Max Brass\"><img class=\"mw-file-element\" decoding=\"async\" height=\"25\" src=\"//cdn.wikimg.net/en/armswiki/images/thumb/4/45/Icon-Max_Brass.png/25px-Icon-Max_Brass.png\" srcset=\"//cdn.wikimg.net/en/armswiki/images/thumb/4/45/Icon-Max_Brass.png/38px-Icon-Max_Brass.png 1.5x, //cdn.wikimg.net/en/armswiki/images/thumb/4/45/Icon-Max_Brass.png/50px-Icon-Max_Brass.png 2x\" width=\"25\"/></a></span> <span typeof=\"mw:File\"><a href=\"/wiki/Kid_Cobra\" title=\"Kid Cobra\"><img class=\"mw-file-element\" decoding=\"async\" height=\"25\" src=\"//cdn.wikimg.net/en/armswiki/images/thumb/b/b7/Icon-Kid_Cobra.png/25px-Icon-Kid_Cobra.png\" srcset=\"//cdn.wikimg.net/en/armswiki/images/thumb/b/b7/Icon-Kid_Cobra.png/38px-Icon-Kid_Cobra.png 1.5x, //cdn.wikimg.net/en/armswiki/images/thumb/b/b7/Icon-Kid_Cobra.png/50px-Icon-Kid_Cobra.png 2x\" width=\"25\"/></a></span>\n",
      "</td></tr>\n",
      "<tr>\n",
      "<td><a class=\"external text\" href=\"https://challonge.com/EUAC62\" rel=\"nofollow\">EU ARMS Challenge #62</a></td>\n",
      "<td>November 29, 2020</td>\n",
      "<td><a href=\"/wiki/Iceman92\" title=\"Iceman92\">Iceman92</a></td>\n",
      "<td><span typeof=\"mw:File\"><a href=\"/wiki/Min_Min\" title=\"Min Min\"><img class=\"mw-file-element\" decoding=\"async\" height=\"25\" src=\"//cdn.wikimg.net/en/armswiki/images/thumb/9/93/Icon-Min_Min.png/25px-Icon-Min_Min.png\" srcset=\"//cdn.wikimg.net/en/armswiki/images/thumb/9/93/Icon-Min_Min.png/38px-Icon-Min_Min.png 1.5x, //cdn.wikimg.net/en/armswiki/images/thumb/9/93/Icon-Min_Min.png/50px-Icon-Min_Min.png 2x\" width=\"25\"/></a></span> <span typeof=\"mw:File\"><a href=\"/wiki/Ribbon_Girl\" title=\"Ribbon Girl\"><img class=\"mw-file-element\" decoding=\"async\" height=\"25\" src=\"//cdn.wikimg.net/en/armswiki/images/thumb/e/ed/Icon-Ribbon_Girl.png/25px-Icon-Ribbon_Girl.png\" srcset=\"//cdn.wikimg.net/en/armswiki/images/thumb/e/ed/Icon-Ribbon_Girl.png/38px-Icon-Ribbon_Girl.png 1.5x, //cdn.wikimg.net/en/armswiki/images/thumb/e/ed/Icon-Ribbon_Girl.png/50px-Icon-Ribbon_Girl.png 2x\" width=\"25\"/></a></span> <span typeof=\"mw:File\"><a href=\"/wiki/Springtron\" title=\"Springtron\"><img class=\"mw-file-element\" decoding=\"async\" height=\"25\" src=\"//cdn.wikimg.net/en/armswiki/images/thumb/2/27/Icon-Springtron.png/25px-Icon-Springtron.png\" srcset=\"//cdn.wikimg.net/en/armswiki/images/thumb/2/27/Icon-Springtron.png/38px-Icon-Springtron.png 1.5x, //cdn.wikimg.net/en/armswiki/images/thumb/2/27/Icon-Springtron.png/50px-Icon-Springtron.png 2x\" width=\"25\"/></a></span>\n",
      "</td></tr>\n",
      "<tr>\n",
      "<td><a class=\"external text\" href=\"https://challonge.com/EUAC63\" rel=\"nofollow\">EU ARMS Challenge #63</a></td>\n",
      "<td>December 13, 2020</td>\n",
      "<td><a href=\"/wiki/Ripha\" title=\"Ripha\">Ripha</a></td>\n",
      "<td><span typeof=\"mw:File\"><a href=\"/wiki/Misango\" title=\"Misango\"><img class=\"mw-file-element\" decoding=\"async\" height=\"25\" src=\"//cdn.wikimg.net/en/armswiki/images/thumb/2/25/Icon-Misango.png/25px-Icon-Misango.png\" srcset=\"//cdn.wikimg.net/en/armswiki/images/thumb/2/25/Icon-Misango.png/38px-Icon-Misango.png 1.5x, //cdn.wikimg.net/en/armswiki/images/thumb/2/25/Icon-Misango.png/50px-Icon-Misango.png 2x\" width=\"25\"/></a></span>\n",
      "</td></tr>\n",
      "<tr>\n",
      "<td><a class=\"external text\" href=\"https://challonge.com/EUAC64\" rel=\"nofollow\">EU ARMS Challenge #64</a></td>\n",
      "<td>January 17, 2021</td>\n",
      "<td><a href=\"/wiki/Ripha\" title=\"Ripha\">Ripha</a></td>\n",
      "<td><span typeof=\"mw:File\"><a href=\"/wiki/Misango\" title=\"Misango\"><img class=\"mw-file-element\" decoding=\"async\" height=\"25\" src=\"//cdn.wikimg.net/en/armswiki/images/thumb/2/25/Icon-Misango.png/25px-Icon-Misango.png\" srcset=\"//cdn.wikimg.net/en/armswiki/images/thumb/2/25/Icon-Misango.png/38px-Icon-Misango.png 1.5x, //cdn.wikimg.net/en/armswiki/images/thumb/2/25/Icon-Misango.png/50px-Icon-Misango.png 2x\" width=\"25\"/></a></span> <span typeof=\"mw:File\"><a href=\"/wiki/Kid_Cobra\" title=\"Kid Cobra\"><img class=\"mw-file-element\" decoding=\"async\" height=\"25\" src=\"//cdn.wikimg.net/en/armswiki/images/thumb/b/b7/Icon-Kid_Cobra.png/25px-Icon-Kid_Cobra.png\" srcset=\"//cdn.wikimg.net/en/armswiki/images/thumb/b/b7/Icon-Kid_Cobra.png/38px-Icon-Kid_Cobra.png 1.5x, //cdn.wikimg.net/en/armswiki/images/thumb/b/b7/Icon-Kid_Cobra.png/50px-Icon-Kid_Cobra.png 2x\" width=\"25\"/></a></span>\n",
      "</td></tr>\n",
      "<tr>\n",
      "<td><a class=\"external text\" href=\"https://challonge.com/EUAC65\" rel=\"nofollow\">EU ARMS Challenge #65</a></td>\n",
      "<td>January 31, 2021</td>\n",
      "<td><a href=\"/wiki/Jr\" title=\"Jr\">Jr</a></td>\n",
      "<td><span typeof=\"mw:File\"><a href=\"/wiki/Kid_Cobra\" title=\"Kid Cobra\"><img class=\"mw-file-element\" decoding=\"async\" height=\"25\" src=\"//cdn.wikimg.net/en/armswiki/images/thumb/b/b7/Icon-Kid_Cobra.png/25px-Icon-Kid_Cobra.png\" srcset=\"//cdn.wikimg.net/en/armswiki/images/thumb/b/b7/Icon-Kid_Cobra.png/38px-Icon-Kid_Cobra.png 1.5x, //cdn.wikimg.net/en/armswiki/images/thumb/b/b7/Icon-Kid_Cobra.png/50px-Icon-Kid_Cobra.png 2x\" width=\"25\"/></a></span> <span typeof=\"mw:File\"><a href=\"/wiki/Master_Mummy\" title=\"Master Mummy\"><img class=\"mw-file-element\" decoding=\"async\" height=\"25\" src=\"//cdn.wikimg.net/en/armswiki/images/thumb/5/58/Icon-Master_Mummy.png/25px-Icon-Master_Mummy.png\" srcset=\"//cdn.wikimg.net/en/armswiki/images/thumb/5/58/Icon-Master_Mummy.png/38px-Icon-Master_Mummy.png 1.5x, //cdn.wikimg.net/en/armswiki/images/thumb/5/58/Icon-Master_Mummy.png/50px-Icon-Master_Mummy.png 2x\" width=\"25\"/></a></span>\n",
      "</td></tr>\n",
      "<tr>\n",
      "<td><a class=\"external text\" href=\"https://challonge.com/EUAC66\" rel=\"nofollow\">EU ARMS Challenge #66</a></td>\n",
      "<td>February 14, 2021</td>\n",
      "<td><a href=\"/wiki/Ripha\" title=\"Ripha\">Ripha</a></td>\n",
      "<td><span typeof=\"mw:File\"><a href=\"/wiki/Ninjara\" title=\"Ninjara\"><img class=\"mw-file-element\" decoding=\"async\" height=\"25\" src=\"//cdn.wikimg.net/en/armswiki/images/thumb/0/0c/Icon-Ninjara.png/25px-Icon-Ninjara.png\" srcset=\"//cdn.wikimg.net/en/armswiki/images/thumb/0/0c/Icon-Ninjara.png/38px-Icon-Ninjara.png 1.5x, //cdn.wikimg.net/en/armswiki/images/thumb/0/0c/Icon-Ninjara.png/50px-Icon-Ninjara.png 2x\" width=\"25\"/></a></span> <span typeof=\"mw:File\"><a href=\"/wiki/Misango\" title=\"Misango\"><img class=\"mw-file-element\" decoding=\"async\" height=\"25\" src=\"//cdn.wikimg.net/en/armswiki/images/thumb/2/25/Icon-Misango.png/25px-Icon-Misango.png\" srcset=\"//cdn.wikimg.net/en/armswiki/images/thumb/2/25/Icon-Misango.png/38px-Icon-Misango.png 1.5x, //cdn.wikimg.net/en/armswiki/images/thumb/2/25/Icon-Misango.png/50px-Icon-Misango.png 2x\" width=\"25\"/></a></span> <span typeof=\"mw:File\"><a href=\"/wiki/Helix\" title=\"Helix\"><img class=\"mw-file-element\" decoding=\"async\" height=\"25\" src=\"//cdn.wikimg.net/en/armswiki/images/thumb/c/c4/Icon-Helix.png/25px-Icon-Helix.png\" srcset=\"//cdn.wikimg.net/en/armswiki/images/thumb/c/c4/Icon-Helix.png/38px-Icon-Helix.png 1.5x, //cdn.wikimg.net/en/armswiki/images/thumb/c/c4/Icon-Helix.png/50px-Icon-Helix.png 2x\" width=\"25\"/></a></span>\n",
      "</td></tr>\n",
      "<tr>\n",
      "<td><a class=\"external text\" href=\"https://challonge.com/EUAC67\" rel=\"nofollow\">EU ARMS Challenge #67</a></td>\n",
      "<td>February 28, 2021</td>\n",
      "<td><a href=\"/wiki/Ripha\" title=\"Ripha\">Ripha</a></td>\n",
      "<td><span typeof=\"mw:File\"><a href=\"/wiki/Ninjara\" title=\"Ninjara\"><img class=\"mw-file-element\" decoding=\"async\" height=\"25\" src=\"//cdn.wikimg.net/en/armswiki/images/thumb/0/0c/Icon-Ninjara.png/25px-Icon-Ninjara.png\" srcset=\"//cdn.wikimg.net/en/armswiki/images/thumb/0/0c/Icon-Ninjara.png/38px-Icon-Ninjara.png 1.5x, //cdn.wikimg.net/en/armswiki/images/thumb/0/0c/Icon-Ninjara.png/50px-Icon-Ninjara.png 2x\" width=\"25\"/></a></span> <span typeof=\"mw:File\"><a href=\"/wiki/Misango\" title=\"Misango\"><img class=\"mw-file-element\" decoding=\"async\" height=\"25\" src=\"//cdn.wikimg.net/en/armswiki/images/thumb/2/25/Icon-Misango.png/25px-Icon-Misango.png\" srcset=\"//cdn.wikimg.net/en/armswiki/images/thumb/2/25/Icon-Misango.png/38px-Icon-Misango.png 1.5x, //cdn.wikimg.net/en/armswiki/images/thumb/2/25/Icon-Misango.png/50px-Icon-Misango.png 2x\" width=\"25\"/></a></span>\n",
      "</td></tr>\n",
      "<tr>\n",
      "<td><a class=\"external text\" href=\"https://challonge.com/EUAC68\" rel=\"nofollow\">EU ARMS Challenge #68</a></td>\n",
      "<td>March 14, 2021</td>\n",
      "<td><a href=\"/wiki/Ripha\" title=\"Ripha\">Ripha</a></td>\n",
      "<td><span typeof=\"mw:File\"><a href=\"/wiki/Ninjara\" title=\"Ninjara\"><img class=\"mw-file-element\" decoding=\"async\" height=\"25\" src=\"//cdn.wikimg.net/en/armswiki/images/thumb/0/0c/Icon-Ninjara.png/25px-Icon-Ninjara.png\" srcset=\"//cdn.wikimg.net/en/armswiki/images/thumb/0/0c/Icon-Ninjara.png/38px-Icon-Ninjara.png 1.5x, //cdn.wikimg.net/en/armswiki/images/thumb/0/0c/Icon-Ninjara.png/50px-Icon-Ninjara.png 2x\" width=\"25\"/></a></span> <span typeof=\"mw:File\"><a href=\"/wiki/Misango\" title=\"Misango\"><img class=\"mw-file-element\" decoding=\"async\" height=\"25\" src=\"//cdn.wikimg.net/en/armswiki/images/thumb/2/25/Icon-Misango.png/25px-Icon-Misango.png\" srcset=\"//cdn.wikimg.net/en/armswiki/images/thumb/2/25/Icon-Misango.png/38px-Icon-Misango.png 1.5x, //cdn.wikimg.net/en/armswiki/images/thumb/2/25/Icon-Misango.png/50px-Icon-Misango.png 2x\" width=\"25\"/></a></span>\n",
      "</td></tr>\n",
      "<tr>\n",
      "<td><a class=\"external text\" href=\"https://challonge.com/EUAC69\" rel=\"nofollow\">EU ARMS Challenge #69</a></td>\n",
      "<td>March 28, 2021</td>\n",
      "<td><a href=\"/wiki/Ripha\" title=\"Ripha\">Ripha</a></td>\n",
      "<td><span typeof=\"mw:File\"><a href=\"/wiki/Ninjara\" title=\"Ninjara\"><img class=\"mw-file-element\" decoding=\"async\" height=\"25\" src=\"//cdn.wikimg.net/en/armswiki/images/thumb/0/0c/Icon-Ninjara.png/25px-Icon-Ninjara.png\" srcset=\"//cdn.wikimg.net/en/armswiki/images/thumb/0/0c/Icon-Ninjara.png/38px-Icon-Ninjara.png 1.5x, //cdn.wikimg.net/en/armswiki/images/thumb/0/0c/Icon-Ninjara.png/50px-Icon-Ninjara.png 2x\" width=\"25\"/></a></span> <span typeof=\"mw:File\"><a href=\"/wiki/Misango\" title=\"Misango\"><img class=\"mw-file-element\" decoding=\"async\" height=\"25\" src=\"//cdn.wikimg.net/en/armswiki/images/thumb/2/25/Icon-Misango.png/25px-Icon-Misango.png\" srcset=\"//cdn.wikimg.net/en/armswiki/images/thumb/2/25/Icon-Misango.png/38px-Icon-Misango.png 1.5x, //cdn.wikimg.net/en/armswiki/images/thumb/2/25/Icon-Misango.png/50px-Icon-Misango.png 2x\" width=\"25\"/></a></span>\n",
      "</td></tr>\n",
      "<tr>\n",
      "<td><a class=\"external text\" href=\"https://challonge.com/EUAC70\" rel=\"nofollow\">EU ARMS Challenge #70</a></td>\n",
      "<td>April 11, 2021</td>\n",
      "<td><a href=\"/wiki/Ripha\" title=\"Ripha\">Ripha</a></td>\n",
      "<td><span typeof=\"mw:File\"><a href=\"/wiki/Ninjara\" title=\"Ninjara\"><img class=\"mw-file-element\" decoding=\"async\" height=\"25\" src=\"//cdn.wikimg.net/en/armswiki/images/thumb/0/0c/Icon-Ninjara.png/25px-Icon-Ninjara.png\" srcset=\"//cdn.wikimg.net/en/armswiki/images/thumb/0/0c/Icon-Ninjara.png/38px-Icon-Ninjara.png 1.5x, //cdn.wikimg.net/en/armswiki/images/thumb/0/0c/Icon-Ninjara.png/50px-Icon-Ninjara.png 2x\" width=\"25\"/></a></span> <span typeof=\"mw:File\"><a href=\"/wiki/Misango\" title=\"Misango\"><img class=\"mw-file-element\" decoding=\"async\" height=\"25\" src=\"//cdn.wikimg.net/en/armswiki/images/thumb/2/25/Icon-Misango.png/25px-Icon-Misango.png\" srcset=\"//cdn.wikimg.net/en/armswiki/images/thumb/2/25/Icon-Misango.png/38px-Icon-Misango.png 1.5x, //cdn.wikimg.net/en/armswiki/images/thumb/2/25/Icon-Misango.png/50px-Icon-Misango.png 2x\" width=\"25\"/></a></span>\n",
      "</td></tr>\n",
      "<tr>\n",
      "<td><a class=\"external text\" href=\"https://challonge.com/EUAC71\" rel=\"nofollow\">EU ARMS Challenge #71</a></td>\n",
      "<td>April 25, 2021</td>\n",
      "<td><a href=\"/wiki/Ripha\" title=\"Ripha\">Ripha</a></td>\n",
      "<td><span typeof=\"mw:File\"><a href=\"/wiki/Ninjara\" title=\"Ninjara\"><img class=\"mw-file-element\" decoding=\"async\" height=\"25\" src=\"//cdn.wikimg.net/en/armswiki/images/thumb/0/0c/Icon-Ninjara.png/25px-Icon-Ninjara.png\" srcset=\"//cdn.wikimg.net/en/armswiki/images/thumb/0/0c/Icon-Ninjara.png/38px-Icon-Ninjara.png 1.5x, //cdn.wikimg.net/en/armswiki/images/thumb/0/0c/Icon-Ninjara.png/50px-Icon-Ninjara.png 2x\" width=\"25\"/></a></span> <span typeof=\"mw:File\"><a href=\"/wiki/Misango\" title=\"Misango\"><img class=\"mw-file-element\" decoding=\"async\" height=\"25\" src=\"//cdn.wikimg.net/en/armswiki/images/thumb/2/25/Icon-Misango.png/25px-Icon-Misango.png\" srcset=\"//cdn.wikimg.net/en/armswiki/images/thumb/2/25/Icon-Misango.png/38px-Icon-Misango.png 1.5x, //cdn.wikimg.net/en/armswiki/images/thumb/2/25/Icon-Misango.png/50px-Icon-Misango.png 2x\" width=\"25\"/></a></span> <span typeof=\"mw:File\"><a href=\"/wiki/Kid_Cobra\" title=\"Kid Cobra\"><img class=\"mw-file-element\" decoding=\"async\" height=\"25\" src=\"//cdn.wikimg.net/en/armswiki/images/thumb/b/b7/Icon-Kid_Cobra.png/25px-Icon-Kid_Cobra.png\" srcset=\"//cdn.wikimg.net/en/armswiki/images/thumb/b/b7/Icon-Kid_Cobra.png/38px-Icon-Kid_Cobra.png 1.5x, //cdn.wikimg.net/en/armswiki/images/thumb/b/b7/Icon-Kid_Cobra.png/50px-Icon-Kid_Cobra.png 2x\" width=\"25\"/></a></span>\n",
      "</td></tr>\n",
      "<tr>\n",
      "<td><a class=\"external text\" href=\"https://challonge.com/EUAC72\" rel=\"nofollow\">EU ARMS Challenge #72</a></td>\n",
      "<td>May 9, 2021</td>\n",
      "<td><a href=\"/wiki/Ripha\" title=\"Ripha\">Ripha</a></td>\n",
      "<td><span typeof=\"mw:File\"><a href=\"/wiki/Ninjara\" title=\"Ninjara\"><img class=\"mw-file-element\" decoding=\"async\" height=\"25\" src=\"//cdn.wikimg.net/en/armswiki/images/thumb/0/0c/Icon-Ninjara.png/25px-Icon-Ninjara.png\" srcset=\"//cdn.wikimg.net/en/armswiki/images/thumb/0/0c/Icon-Ninjara.png/38px-Icon-Ninjara.png 1.5x, //cdn.wikimg.net/en/armswiki/images/thumb/0/0c/Icon-Ninjara.png/50px-Icon-Ninjara.png 2x\" width=\"25\"/></a></span> <span typeof=\"mw:File\"><a href=\"/wiki/Misango\" title=\"Misango\"><img class=\"mw-file-element\" decoding=\"async\" height=\"25\" src=\"//cdn.wikimg.net/en/armswiki/images/thumb/2/25/Icon-Misango.png/25px-Icon-Misango.png\" srcset=\"//cdn.wikimg.net/en/armswiki/images/thumb/2/25/Icon-Misango.png/38px-Icon-Misango.png 1.5x, //cdn.wikimg.net/en/armswiki/images/thumb/2/25/Icon-Misango.png/50px-Icon-Misango.png 2x\" width=\"25\"/></a></span>\n",
      "</td></tr>\n",
      "<tr>\n",
      "<td><a class=\"external text\" href=\"https://challonge.com/EUAC73\" rel=\"nofollow\">EU ARMS Challenge #73</a></td>\n",
      "<td>May 23, 2021</td>\n",
      "<td>Alistair</td>\n",
      "<td><span typeof=\"mw:File\"><a href=\"/wiki/Dr._Coyle\" title=\"Dr. Coyle\"><img class=\"mw-file-element\" decoding=\"async\" height=\"25\" src=\"//cdn.wikimg.net/en/armswiki/images/thumb/5/53/Icon-Dr._Coyle.png/25px-Icon-Dr._Coyle.png\" srcset=\"//cdn.wikimg.net/en/armswiki/images/thumb/5/53/Icon-Dr._Coyle.png/38px-Icon-Dr._Coyle.png 1.5x, //cdn.wikimg.net/en/armswiki/images/thumb/5/53/Icon-Dr._Coyle.png/50px-Icon-Dr._Coyle.png 2x\" width=\"25\"/></a></span>\n",
      "</td></tr>\n",
      "<tr>\n",
      "<td><a class=\"external text\" href=\"https://challonge.com/EUAC74\" rel=\"nofollow\">EU ARMS Challenge #74</a></td>\n",
      "<td>June 6, 2021</td>\n",
      "<td>Alistair</td>\n",
      "<td><span typeof=\"mw:File\"><a href=\"/wiki/Dr._Coyle\" title=\"Dr. Coyle\"><img class=\"mw-file-element\" decoding=\"async\" height=\"25\" src=\"//cdn.wikimg.net/en/armswiki/images/thumb/5/53/Icon-Dr._Coyle.png/25px-Icon-Dr._Coyle.png\" srcset=\"//cdn.wikimg.net/en/armswiki/images/thumb/5/53/Icon-Dr._Coyle.png/38px-Icon-Dr._Coyle.png 1.5x, //cdn.wikimg.net/en/armswiki/images/thumb/5/53/Icon-Dr._Coyle.png/50px-Icon-Dr._Coyle.png 2x\" width=\"25\"/></a></span>\n",
      "</td></tr>\n",
      "<tr>\n",
      "<td><a class=\"external text\" href=\"https://challonge.com/EUAC75\" rel=\"nofollow\">EU ARMS Challenge #75</a></td>\n",
      "<td>June 20, 2021</td>\n",
      "<td><a href=\"/wiki/Ripha\" title=\"Ripha\">Ripha</a></td>\n",
      "<td><span typeof=\"mw:File\"><a href=\"/wiki/Max_Brass\" title=\"Max Brass\"><img class=\"mw-file-element\" decoding=\"async\" height=\"25\" src=\"//cdn.wikimg.net/en/armswiki/images/thumb/4/45/Icon-Max_Brass.png/25px-Icon-Max_Brass.png\" srcset=\"//cdn.wikimg.net/en/armswiki/images/thumb/4/45/Icon-Max_Brass.png/38px-Icon-Max_Brass.png 1.5x, //cdn.wikimg.net/en/armswiki/images/thumb/4/45/Icon-Max_Brass.png/50px-Icon-Max_Brass.png 2x\" width=\"25\"/></a></span> <span typeof=\"mw:File\"><a href=\"/wiki/Kid_Cobra\" title=\"Kid Cobra\"><img class=\"mw-file-element\" decoding=\"async\" height=\"25\" src=\"//cdn.wikimg.net/en/armswiki/images/thumb/b/b7/Icon-Kid_Cobra.png/25px-Icon-Kid_Cobra.png\" srcset=\"//cdn.wikimg.net/en/armswiki/images/thumb/b/b7/Icon-Kid_Cobra.png/38px-Icon-Kid_Cobra.png 1.5x, //cdn.wikimg.net/en/armswiki/images/thumb/b/b7/Icon-Kid_Cobra.png/50px-Icon-Kid_Cobra.png 2x\" width=\"25\"/></a></span> <span typeof=\"mw:File\"><a href=\"/wiki/Twintelle\" title=\"Twintelle\"><img class=\"mw-file-element\" decoding=\"async\" height=\"25\" src=\"//cdn.wikimg.net/en/armswiki/images/thumb/a/a1/Icon-Twintelle.png/25px-Icon-Twintelle.png\" srcset=\"//cdn.wikimg.net/en/armswiki/images/thumb/a/a1/Icon-Twintelle.png/38px-Icon-Twintelle.png 1.5x, //cdn.wikimg.net/en/armswiki/images/thumb/a/a1/Icon-Twintelle.png/50px-Icon-Twintelle.png 2x\" width=\"25\"/></a></span> <span typeof=\"mw:File\"><a href=\"/wiki/Dr._Coyle\" title=\"Dr. Coyle\"><img class=\"mw-file-element\" decoding=\"async\" height=\"25\" src=\"//cdn.wikimg.net/en/armswiki/images/thumb/5/53/Icon-Dr._Coyle.png/25px-Icon-Dr._Coyle.png\" srcset=\"//cdn.wikimg.net/en/armswiki/images/thumb/5/53/Icon-Dr._Coyle.png/38px-Icon-Dr._Coyle.png 1.5x, //cdn.wikimg.net/en/armswiki/images/thumb/5/53/Icon-Dr._Coyle.png/50px-Icon-Dr._Coyle.png 2x\" width=\"25\"/></a></span>\n",
      "</td></tr>\n",
      "<tr>\n",
      "<td><a class=\"external text\" href=\"https://challonge.com/EUAC76\" rel=\"nofollow\">EU ARMS Challenge #76</a></td>\n",
      "<td>July 4, 2021</td>\n",
      "<td><a href=\"/wiki/Iceman92\" title=\"Iceman92\">Iceman92</a></td>\n",
      "<td><span typeof=\"mw:File\"><a href=\"/wiki/Ribbon_Girl\" title=\"Ribbon Girl\"><img class=\"mw-file-element\" decoding=\"async\" height=\"25\" src=\"//cdn.wikimg.net/en/armswiki/images/thumb/e/ed/Icon-Ribbon_Girl.png/25px-Icon-Ribbon_Girl.png\" srcset=\"//cdn.wikimg.net/en/armswiki/images/thumb/e/ed/Icon-Ribbon_Girl.png/38px-Icon-Ribbon_Girl.png 1.5x, //cdn.wikimg.net/en/armswiki/images/thumb/e/ed/Icon-Ribbon_Girl.png/50px-Icon-Ribbon_Girl.png 2x\" width=\"25\"/></a></span> <span typeof=\"mw:File\"><a href=\"/wiki/Springtron\" title=\"Springtron\"><img class=\"mw-file-element\" decoding=\"async\" height=\"25\" src=\"//cdn.wikimg.net/en/armswiki/images/thumb/2/27/Icon-Springtron.png/25px-Icon-Springtron.png\" srcset=\"//cdn.wikimg.net/en/armswiki/images/thumb/2/27/Icon-Springtron.png/38px-Icon-Springtron.png 1.5x, //cdn.wikimg.net/en/armswiki/images/thumb/2/27/Icon-Springtron.png/50px-Icon-Springtron.png 2x\" width=\"25\"/></a></span> <span typeof=\"mw:File\"><a href=\"/wiki/Dr._Coyle\" title=\"Dr. Coyle\"><img class=\"mw-file-element\" decoding=\"async\" height=\"25\" src=\"//cdn.wikimg.net/en/armswiki/images/thumb/5/53/Icon-Dr._Coyle.png/25px-Icon-Dr._Coyle.png\" srcset=\"//cdn.wikimg.net/en/armswiki/images/thumb/5/53/Icon-Dr._Coyle.png/38px-Icon-Dr._Coyle.png 1.5x, //cdn.wikimg.net/en/armswiki/images/thumb/5/53/Icon-Dr._Coyle.png/50px-Icon-Dr._Coyle.png 2x\" width=\"25\"/></a></span> <span typeof=\"mw:File\"><a href=\"/wiki/Misango\" title=\"Misango\"><img class=\"mw-file-element\" decoding=\"async\" height=\"25\" src=\"//cdn.wikimg.net/en/armswiki/images/thumb/2/25/Icon-Misango.png/25px-Icon-Misango.png\" srcset=\"//cdn.wikimg.net/en/armswiki/images/thumb/2/25/Icon-Misango.png/38px-Icon-Misango.png 1.5x, //cdn.wikimg.net/en/armswiki/images/thumb/2/25/Icon-Misango.png/50px-Icon-Misango.png 2x\" width=\"25\"/></a></span> <span typeof=\"mw:File\"><a href=\"/wiki/Byte_%26_Barq\" title=\"Byte &amp; Barq\"><img class=\"mw-file-element\" decoding=\"async\" height=\"25\" src=\"//cdn.wikimg.net/en/armswiki/images/thumb/5/52/Icon-Byte_%26_Barq.png/25px-Icon-Byte_%26_Barq.png\" srcset=\"//cdn.wikimg.net/en/armswiki/images/thumb/5/52/Icon-Byte_%26_Barq.png/38px-Icon-Byte_%26_Barq.png 1.5x, //cdn.wikimg.net/en/armswiki/images/thumb/5/52/Icon-Byte_%26_Barq.png/50px-Icon-Byte_%26_Barq.png 2x\" width=\"25\"/></a></span>\n",
      "</td></tr>\n",
      "<tr>\n",
      "<td><a class=\"external text\" href=\"https://challonge.com/EUAC77\" rel=\"nofollow\">EU ARMS Challenge #77</a></td>\n",
      "<td>August 1, 2021</td>\n",
      "<td><a href=\"/wiki/Grimwood\" title=\"Grimwood\">Grimwood</a></td>\n",
      "<td><span typeof=\"mw:File\"><a href=\"/wiki/Max_Brass\" title=\"Max Brass\"><img class=\"mw-file-element\" decoding=\"async\" height=\"25\" src=\"//cdn.wikimg.net/en/armswiki/images/thumb/4/45/Icon-Max_Brass.png/25px-Icon-Max_Brass.png\" srcset=\"//cdn.wikimg.net/en/armswiki/images/thumb/4/45/Icon-Max_Brass.png/38px-Icon-Max_Brass.png 1.5x, //cdn.wikimg.net/en/armswiki/images/thumb/4/45/Icon-Max_Brass.png/50px-Icon-Max_Brass.png 2x\" width=\"25\"/></a></span> <span typeof=\"mw:File\"><a href=\"/wiki/Dr._Coyle\" title=\"Dr. Coyle\"><img class=\"mw-file-element\" decoding=\"async\" height=\"25\" src=\"//cdn.wikimg.net/en/armswiki/images/thumb/5/53/Icon-Dr._Coyle.png/25px-Icon-Dr._Coyle.png\" srcset=\"//cdn.wikimg.net/en/armswiki/images/thumb/5/53/Icon-Dr._Coyle.png/38px-Icon-Dr._Coyle.png 1.5x, //cdn.wikimg.net/en/armswiki/images/thumb/5/53/Icon-Dr._Coyle.png/50px-Icon-Dr._Coyle.png 2x\" width=\"25\"/></a></span>\n",
      "</td></tr>\n",
      "<tr>\n",
      "<td><a class=\"external text\" href=\"https://challonge.com/EUAC78\" rel=\"nofollow\">EU ARMS Challenge #78</a></td>\n",
      "<td>August 15, 2021</td>\n",
      "<td><a href=\"/wiki/Ripha\" title=\"Ripha\">Ripha</a></td>\n",
      "<td><span typeof=\"mw:File\"><a href=\"/wiki/Ninjara\" title=\"Ninjara\"><img class=\"mw-file-element\" decoding=\"async\" height=\"25\" src=\"//cdn.wikimg.net/en/armswiki/images/thumb/0/0c/Icon-Ninjara.png/25px-Icon-Ninjara.png\" srcset=\"//cdn.wikimg.net/en/armswiki/images/thumb/0/0c/Icon-Ninjara.png/38px-Icon-Ninjara.png 1.5x, //cdn.wikimg.net/en/armswiki/images/thumb/0/0c/Icon-Ninjara.png/50px-Icon-Ninjara.png 2x\" width=\"25\"/></a></span> <span typeof=\"mw:File\"><a href=\"/wiki/Misango\" title=\"Misango\"><img class=\"mw-file-element\" decoding=\"async\" height=\"25\" src=\"//cdn.wikimg.net/en/armswiki/images/thumb/2/25/Icon-Misango.png/25px-Icon-Misango.png\" srcset=\"//cdn.wikimg.net/en/armswiki/images/thumb/2/25/Icon-Misango.png/38px-Icon-Misango.png 1.5x, //cdn.wikimg.net/en/armswiki/images/thumb/2/25/Icon-Misango.png/50px-Icon-Misango.png 2x\" width=\"25\"/></a></span> <span typeof=\"mw:File\"><a href=\"/wiki/Master_Mummy\" title=\"Master Mummy\"><img class=\"mw-file-element\" decoding=\"async\" height=\"25\" src=\"//cdn.wikimg.net/en/armswiki/images/thumb/5/58/Icon-Master_Mummy.png/25px-Icon-Master_Mummy.png\" srcset=\"//cdn.wikimg.net/en/armswiki/images/thumb/5/58/Icon-Master_Mummy.png/38px-Icon-Master_Mummy.png 1.5x, //cdn.wikimg.net/en/armswiki/images/thumb/5/58/Icon-Master_Mummy.png/50px-Icon-Master_Mummy.png 2x\" width=\"25\"/></a></span>\n",
      "</td></tr>\n",
      "<tr>\n",
      "<td><a class=\"external text\" href=\"https://challonge.com/EUAC79\" rel=\"nofollow\">EU ARMS Challenge #79</a></td>\n",
      "<td>August 29, 2021</td>\n",
      "<td>Yam</td>\n",
      "<td><span typeof=\"mw:File\"><a href=\"/wiki/Min_Min\" title=\"Min Min\"><img class=\"mw-file-element\" decoding=\"async\" height=\"25\" src=\"//cdn.wikimg.net/en/armswiki/images/thumb/9/93/Icon-Min_Min.png/25px-Icon-Min_Min.png\" srcset=\"//cdn.wikimg.net/en/armswiki/images/thumb/9/93/Icon-Min_Min.png/38px-Icon-Min_Min.png 1.5x, //cdn.wikimg.net/en/armswiki/images/thumb/9/93/Icon-Min_Min.png/50px-Icon-Min_Min.png 2x\" width=\"25\"/></a></span> <span typeof=\"mw:File\"><a href=\"/wiki/Lola_Pop\" title=\"Lola Pop\"><img class=\"mw-file-element\" decoding=\"async\" height=\"25\" src=\"//cdn.wikimg.net/en/armswiki/images/thumb/e/e5/Icon-Lola_Pop.png/25px-Icon-Lola_Pop.png\" srcset=\"//cdn.wikimg.net/en/armswiki/images/thumb/e/e5/Icon-Lola_Pop.png/38px-Icon-Lola_Pop.png 1.5x, //cdn.wikimg.net/en/armswiki/images/thumb/e/e5/Icon-Lola_Pop.png/50px-Icon-Lola_Pop.png 2x\" width=\"25\"/></a></span> <span typeof=\"mw:File\"><a href=\"/wiki/Ribbon_Girl\" title=\"Ribbon Girl\"><img class=\"mw-file-element\" decoding=\"async\" height=\"25\" src=\"//cdn.wikimg.net/en/armswiki/images/thumb/e/ed/Icon-Ribbon_Girl.png/25px-Icon-Ribbon_Girl.png\" srcset=\"//cdn.wikimg.net/en/armswiki/images/thumb/e/ed/Icon-Ribbon_Girl.png/38px-Icon-Ribbon_Girl.png 1.5x, //cdn.wikimg.net/en/armswiki/images/thumb/e/ed/Icon-Ribbon_Girl.png/50px-Icon-Ribbon_Girl.png 2x\" width=\"25\"/></a></span>\n",
      "</td></tr>\n",
      "<tr>\n",
      "<td><a class=\"external text\" href=\"https://challonge.com/EUAC80\" rel=\"nofollow\">EU ARMS Challenge #80</a></td>\n",
      "<td>September 19, 2021</td>\n",
      "<td><a href=\"/wiki/Ripha\" title=\"Ripha\">Ripha</a></td>\n",
      "<td><span typeof=\"mw:File\"><a href=\"/wiki/Misango\" title=\"Misango\"><img class=\"mw-file-element\" decoding=\"async\" height=\"25\" src=\"//cdn.wikimg.net/en/armswiki/images/thumb/2/25/Icon-Misango.png/25px-Icon-Misango.png\" srcset=\"//cdn.wikimg.net/en/armswiki/images/thumb/2/25/Icon-Misango.png/38px-Icon-Misango.png 1.5x, //cdn.wikimg.net/en/armswiki/images/thumb/2/25/Icon-Misango.png/50px-Icon-Misango.png 2x\" width=\"25\"/></a></span>\n",
      "</td></tr>\n",
      "<tr>\n",
      "<td><a class=\"external text\" href=\"https://challonge.com/EUAC81\" rel=\"nofollow\">EU ARMS Challenge #81</a></td>\n",
      "<td>October 3, 2021</td>\n",
      "<td><a href=\"/wiki/Ripha\" title=\"Ripha\">Ripha</a></td>\n",
      "<td><span typeof=\"mw:File\"><a href=\"/wiki/Ninjara\" title=\"Ninjara\"><img class=\"mw-file-element\" decoding=\"async\" height=\"25\" src=\"//cdn.wikimg.net/en/armswiki/images/thumb/0/0c/Icon-Ninjara.png/25px-Icon-Ninjara.png\" srcset=\"//cdn.wikimg.net/en/armswiki/images/thumb/0/0c/Icon-Ninjara.png/38px-Icon-Ninjara.png 1.5x, //cdn.wikimg.net/en/armswiki/images/thumb/0/0c/Icon-Ninjara.png/50px-Icon-Ninjara.png 2x\" width=\"25\"/></a></span> <span typeof=\"mw:File\"><a href=\"/wiki/Misango\" title=\"Misango\"><img class=\"mw-file-element\" decoding=\"async\" height=\"25\" src=\"//cdn.wikimg.net/en/armswiki/images/thumb/2/25/Icon-Misango.png/25px-Icon-Misango.png\" srcset=\"//cdn.wikimg.net/en/armswiki/images/thumb/2/25/Icon-Misango.png/38px-Icon-Misango.png 1.5x, //cdn.wikimg.net/en/armswiki/images/thumb/2/25/Icon-Misango.png/50px-Icon-Misango.png 2x\" width=\"25\"/></a></span> <span typeof=\"mw:File\"><a href=\"/wiki/Mechanica\" title=\"Mechanica\"><img class=\"mw-file-element\" decoding=\"async\" height=\"25\" src=\"//cdn.wikimg.net/en/armswiki/images/thumb/e/ea/Icon-Mechanica.png/25px-Icon-Mechanica.png\" srcset=\"//cdn.wikimg.net/en/armswiki/images/thumb/e/ea/Icon-Mechanica.png/38px-Icon-Mechanica.png 1.5x, //cdn.wikimg.net/en/armswiki/images/thumb/e/ea/Icon-Mechanica.png/50px-Icon-Mechanica.png 2x\" width=\"25\"/></a></span>\n",
      "</td></tr>\n",
      "<tr>\n",
      "<td><a class=\"external text\" href=\"https://challonge.com/EUAC82\" rel=\"nofollow\">EU ARMS Challenge #82</a></td>\n",
      "<td>October 17, 2021</td>\n",
      "<td><a href=\"/wiki/Ripha\" title=\"Ripha\">Ripha</a></td>\n",
      "<td><span typeof=\"mw:File\"><a href=\"/wiki/Ninjara\" title=\"Ninjara\"><img class=\"mw-file-element\" decoding=\"async\" height=\"25\" src=\"//cdn.wikimg.net/en/armswiki/images/thumb/0/0c/Icon-Ninjara.png/25px-Icon-Ninjara.png\" srcset=\"//cdn.wikimg.net/en/armswiki/images/thumb/0/0c/Icon-Ninjara.png/38px-Icon-Ninjara.png 1.5x, //cdn.wikimg.net/en/armswiki/images/thumb/0/0c/Icon-Ninjara.png/50px-Icon-Ninjara.png 2x\" width=\"25\"/></a></span> <span typeof=\"mw:File\"><a href=\"/wiki/Misango\" title=\"Misango\"><img class=\"mw-file-element\" decoding=\"async\" height=\"25\" src=\"//cdn.wikimg.net/en/armswiki/images/thumb/2/25/Icon-Misango.png/25px-Icon-Misango.png\" srcset=\"//cdn.wikimg.net/en/armswiki/images/thumb/2/25/Icon-Misango.png/38px-Icon-Misango.png 1.5x, //cdn.wikimg.net/en/armswiki/images/thumb/2/25/Icon-Misango.png/50px-Icon-Misango.png 2x\" width=\"25\"/></a></span>\n",
      "</td></tr>\n",
      "<tr>\n",
      "<td><a class=\"external text\" href=\"https://challonge.com/EUAC83\" rel=\"nofollow\">EU ARMS Challenge #83</a></td>\n",
      "<td>November 14, 2021</td>\n",
      "<td><a href=\"/wiki/Ripha\" title=\"Ripha\">Ripha</a></td>\n",
      "<td><span typeof=\"mw:File\"><a href=\"/wiki/Ninjara\" title=\"Ninjara\"><img class=\"mw-file-element\" decoding=\"async\" height=\"25\" src=\"//cdn.wikimg.net/en/armswiki/images/thumb/0/0c/Icon-Ninjara.png/25px-Icon-Ninjara.png\" srcset=\"//cdn.wikimg.net/en/armswiki/images/thumb/0/0c/Icon-Ninjara.png/38px-Icon-Ninjara.png 1.5x, //cdn.wikimg.net/en/armswiki/images/thumb/0/0c/Icon-Ninjara.png/50px-Icon-Ninjara.png 2x\" width=\"25\"/></a></span> <span typeof=\"mw:File\"><a href=\"/wiki/Misango\" title=\"Misango\"><img class=\"mw-file-element\" decoding=\"async\" height=\"25\" src=\"//cdn.wikimg.net/en/armswiki/images/thumb/2/25/Icon-Misango.png/25px-Icon-Misango.png\" srcset=\"//cdn.wikimg.net/en/armswiki/images/thumb/2/25/Icon-Misango.png/38px-Icon-Misango.png 1.5x, //cdn.wikimg.net/en/armswiki/images/thumb/2/25/Icon-Misango.png/50px-Icon-Misango.png 2x\" width=\"25\"/></a></span>\n",
      "</td></tr>\n",
      "<tr>\n",
      "<td><a class=\"external text\" href=\"https://challonge.com/EUAC84\" rel=\"nofollow\">EU ARMS Challenge #84</a></td>\n",
      "<td>November 28, 2021</td>\n",
      "<td><a href=\"/wiki/Ripha\" title=\"Ripha\">Ripha</a></td>\n",
      "<td><span typeof=\"mw:File\"><a href=\"/wiki/Misango\" title=\"Misango\"><img class=\"mw-file-element\" decoding=\"async\" height=\"25\" src=\"//cdn.wikimg.net/en/armswiki/images/thumb/2/25/Icon-Misango.png/25px-Icon-Misango.png\" srcset=\"//cdn.wikimg.net/en/armswiki/images/thumb/2/25/Icon-Misango.png/38px-Icon-Misango.png 1.5x, //cdn.wikimg.net/en/armswiki/images/thumb/2/25/Icon-Misango.png/50px-Icon-Misango.png 2x\" width=\"25\"/></a></span>\n",
      "</td></tr>\n",
      "<tr>\n",
      "<td><a class=\"external text\" href=\"https://challonge.com/EUAC85\" rel=\"nofollow\">EU ARMS Challenge #85</a></td>\n",
      "<td>December 12, 2021</td>\n",
      "<td><a href=\"/wiki/Ripha\" title=\"Ripha\">Ripha</a></td>\n",
      "<td><span typeof=\"mw:File\"><a href=\"/wiki/Misango\" title=\"Misango\"><img class=\"mw-file-element\" decoding=\"async\" height=\"25\" src=\"//cdn.wikimg.net/en/armswiki/images/thumb/2/25/Icon-Misango.png/25px-Icon-Misango.png\" srcset=\"//cdn.wikimg.net/en/armswiki/images/thumb/2/25/Icon-Misango.png/38px-Icon-Misango.png 1.5x, //cdn.wikimg.net/en/armswiki/images/thumb/2/25/Icon-Misango.png/50px-Icon-Misango.png 2x\" width=\"25\"/></a></span> <span typeof=\"mw:File\"><a href=\"/wiki/Helix\" title=\"Helix\"><img class=\"mw-file-element\" decoding=\"async\" height=\"25\" src=\"//cdn.wikimg.net/en/armswiki/images/thumb/c/c4/Icon-Helix.png/25px-Icon-Helix.png\" srcset=\"//cdn.wikimg.net/en/armswiki/images/thumb/c/c4/Icon-Helix.png/38px-Icon-Helix.png 1.5x, //cdn.wikimg.net/en/armswiki/images/thumb/c/c4/Icon-Helix.png/50px-Icon-Helix.png 2x\" width=\"25\"/></a></span> <span typeof=\"mw:File\"><a href=\"/wiki/Master_Mummy\" title=\"Master Mummy\"><img class=\"mw-file-element\" decoding=\"async\" height=\"25\" src=\"//cdn.wikimg.net/en/armswiki/images/thumb/5/58/Icon-Master_Mummy.png/25px-Icon-Master_Mummy.png\" srcset=\"//cdn.wikimg.net/en/armswiki/images/thumb/5/58/Icon-Master_Mummy.png/38px-Icon-Master_Mummy.png 1.5x, //cdn.wikimg.net/en/armswiki/images/thumb/5/58/Icon-Master_Mummy.png/50px-Icon-Master_Mummy.png 2x\" width=\"25\"/></a></span>\n",
      "</td></tr>\n",
      "<tr>\n",
      "<td><a class=\"external text\" href=\"https://challonge.com/EUAC86\" rel=\"nofollow\">EU ARMS Challenge #86</a></td>\n",
      "<td>January 23, 2022</td>\n",
      "<td><a class=\"new\" href=\"/w/index.php?title=Replicant&amp;action=edit&amp;redlink=1\" title=\"Replicant (page does not exist)\">Replicant</a></td>\n",
      "<td><span typeof=\"mw:File\"><a href=\"/wiki/Lola_Pop\" title=\"Lola Pop\"><img class=\"mw-file-element\" decoding=\"async\" height=\"25\" src=\"//cdn.wikimg.net/en/armswiki/images/thumb/e/e5/Icon-Lola_Pop.png/25px-Icon-Lola_Pop.png\" srcset=\"//cdn.wikimg.net/en/armswiki/images/thumb/e/e5/Icon-Lola_Pop.png/38px-Icon-Lola_Pop.png 1.5x, //cdn.wikimg.net/en/armswiki/images/thumb/e/e5/Icon-Lola_Pop.png/50px-Icon-Lola_Pop.png 2x\" width=\"25\"/></a></span>\n",
      "</td></tr>\n",
      "<tr>\n",
      "<td><a class=\"external text\" href=\"https://challonge.com/EUAC87\" rel=\"nofollow\">EU ARMS Challenge #87</a></td>\n",
      "<td>February 6, 2022</td>\n",
      "<td>Alistair</td>\n",
      "<td><span typeof=\"mw:File\"><a href=\"/wiki/Dr._Coyle\" title=\"Dr. Coyle\"><img class=\"mw-file-element\" decoding=\"async\" height=\"25\" src=\"//cdn.wikimg.net/en/armswiki/images/thumb/5/53/Icon-Dr._Coyle.png/25px-Icon-Dr._Coyle.png\" srcset=\"//cdn.wikimg.net/en/armswiki/images/thumb/5/53/Icon-Dr._Coyle.png/38px-Icon-Dr._Coyle.png 1.5x, //cdn.wikimg.net/en/armswiki/images/thumb/5/53/Icon-Dr._Coyle.png/50px-Icon-Dr._Coyle.png 2x\" width=\"25\"/></a></span>\n",
      "</td></tr>\n",
      "<tr>\n",
      "<td><a class=\"external text\" href=\"https://challonge.com/EUAC88\" rel=\"nofollow\">EU ARMS Challenge #88</a></td>\n",
      "<td>February 20, 2022</td>\n",
      "<td><a href=\"/wiki/Ripha\" title=\"Ripha\">Ripha</a></td>\n",
      "<td><span typeof=\"mw:File\"><a href=\"/wiki/Misango\" title=\"Misango\"><img class=\"mw-file-element\" decoding=\"async\" height=\"25\" src=\"//cdn.wikimg.net/en/armswiki/images/thumb/2/25/Icon-Misango.png/25px-Icon-Misango.png\" srcset=\"//cdn.wikimg.net/en/armswiki/images/thumb/2/25/Icon-Misango.png/38px-Icon-Misango.png 1.5x, //cdn.wikimg.net/en/armswiki/images/thumb/2/25/Icon-Misango.png/50px-Icon-Misango.png 2x\" width=\"25\"/></a></span> <span typeof=\"mw:File\"><a href=\"/wiki/Ninjara\" title=\"Ninjara\"><img class=\"mw-file-element\" decoding=\"async\" height=\"25\" src=\"//cdn.wikimg.net/en/armswiki/images/thumb/0/0c/Icon-Ninjara.png/25px-Icon-Ninjara.png\" srcset=\"//cdn.wikimg.net/en/armswiki/images/thumb/0/0c/Icon-Ninjara.png/38px-Icon-Ninjara.png 1.5x, //cdn.wikimg.net/en/armswiki/images/thumb/0/0c/Icon-Ninjara.png/50px-Icon-Ninjara.png 2x\" width=\"25\"/></a></span>\n",
      "</td></tr>\n",
      "<tr>\n",
      "<td><a class=\"external text\" href=\"https://challonge.com/EUAC89\" rel=\"nofollow\">EU ARMS Challenge #89</a></td>\n",
      "<td>March 20, 2022</td>\n",
      "<td><a href=\"/wiki/Ripha\" title=\"Ripha\">Ripha</a></td>\n",
      "<td><span typeof=\"mw:File\"><a href=\"/wiki/Misango\" title=\"Misango\"><img class=\"mw-file-element\" decoding=\"async\" height=\"25\" src=\"//cdn.wikimg.net/en/armswiki/images/thumb/2/25/Icon-Misango.png/25px-Icon-Misango.png\" srcset=\"//cdn.wikimg.net/en/armswiki/images/thumb/2/25/Icon-Misango.png/38px-Icon-Misango.png 1.5x, //cdn.wikimg.net/en/armswiki/images/thumb/2/25/Icon-Misango.png/50px-Icon-Misango.png 2x\" width=\"25\"/></a></span>\n",
      "</td></tr>\n",
      "<tr>\n",
      "<td><a class=\"external text\" href=\"https://challonge.com/EUAC90\" rel=\"nofollow\">EU ARMS Challenge #90</a></td>\n",
      "<td>April 3, 2022</td>\n",
      "<td>Alistair</td>\n",
      "<td><span typeof=\"mw:File\"><a href=\"/wiki/Dr._Coyle\" title=\"Dr. Coyle\"><img class=\"mw-file-element\" decoding=\"async\" height=\"25\" src=\"//cdn.wikimg.net/en/armswiki/images/thumb/5/53/Icon-Dr._Coyle.png/25px-Icon-Dr._Coyle.png\" srcset=\"//cdn.wikimg.net/en/armswiki/images/thumb/5/53/Icon-Dr._Coyle.png/38px-Icon-Dr._Coyle.png 1.5x, //cdn.wikimg.net/en/armswiki/images/thumb/5/53/Icon-Dr._Coyle.png/50px-Icon-Dr._Coyle.png 2x\" width=\"25\"/></a></span>\n",
      "</td></tr>\n",
      "<tr>\n",
      "<td><a class=\"external text\" href=\"https://challonge.com/EUAC91\" rel=\"nofollow\">EU ARMS Challenge #91</a></td>\n",
      "<td>April 24, 2022</td>\n",
      "<td><a href=\"/wiki/Ripha\" title=\"Ripha\">Ripha</a></td>\n",
      "<td><span typeof=\"mw:File\"><a href=\"/wiki/Min_Min\" title=\"Min Min\"><img class=\"mw-file-element\" decoding=\"async\" height=\"25\" src=\"//cdn.wikimg.net/en/armswiki/images/thumb/9/93/Icon-Min_Min.png/25px-Icon-Min_Min.png\" srcset=\"//cdn.wikimg.net/en/armswiki/images/thumb/9/93/Icon-Min_Min.png/38px-Icon-Min_Min.png 1.5x, //cdn.wikimg.net/en/armswiki/images/thumb/9/93/Icon-Min_Min.png/50px-Icon-Min_Min.png 2x\" width=\"25\"/></a></span> <span typeof=\"mw:File\"><a href=\"/wiki/Master_Mummy\" title=\"Master Mummy\"><img class=\"mw-file-element\" decoding=\"async\" height=\"25\" src=\"//cdn.wikimg.net/en/armswiki/images/thumb/5/58/Icon-Master_Mummy.png/25px-Icon-Master_Mummy.png\" srcset=\"//cdn.wikimg.net/en/armswiki/images/thumb/5/58/Icon-Master_Mummy.png/38px-Icon-Master_Mummy.png 1.5x, //cdn.wikimg.net/en/armswiki/images/thumb/5/58/Icon-Master_Mummy.png/50px-Icon-Master_Mummy.png 2x\" width=\"25\"/></a></span> <span typeof=\"mw:File\"><a href=\"/wiki/Misango\" title=\"Misango\"><img class=\"mw-file-element\" decoding=\"async\" height=\"25\" src=\"//cdn.wikimg.net/en/armswiki/images/thumb/2/25/Icon-Misango.png/25px-Icon-Misango.png\" srcset=\"//cdn.wikimg.net/en/armswiki/images/thumb/2/25/Icon-Misango.png/38px-Icon-Misango.png 1.5x, //cdn.wikimg.net/en/armswiki/images/thumb/2/25/Icon-Misango.png/50px-Icon-Misango.png 2x\" width=\"25\"/></a></span>\n",
      "</td></tr>\n",
      "<tr>\n",
      "<td><a class=\"external text\" href=\"https://challonge.com/EUAC92\" rel=\"nofollow\">EU ARMS Challenge #92</a></td>\n",
      "<td>May 8, 2022</td>\n",
      "<td><a href=\"/wiki/Ripha\" title=\"Ripha\">Ripha</a></td>\n",
      "<td><span typeof=\"mw:File\"><a href=\"/wiki/Mechanica\" title=\"Mechanica\"><img class=\"mw-file-element\" decoding=\"async\" height=\"25\" src=\"//cdn.wikimg.net/en/armswiki/images/thumb/e/ea/Icon-Mechanica.png/25px-Icon-Mechanica.png\" srcset=\"//cdn.wikimg.net/en/armswiki/images/thumb/e/ea/Icon-Mechanica.png/38px-Icon-Mechanica.png 1.5x, //cdn.wikimg.net/en/armswiki/images/thumb/e/ea/Icon-Mechanica.png/50px-Icon-Mechanica.png 2x\" width=\"25\"/></a></span>\n",
      "</td></tr>\n",
      "<tr>\n",
      "<td><a class=\"external text\" href=\"https://challonge.com/EUAC93\" rel=\"nofollow\">EU ARMS Challenge #93</a></td>\n",
      "<td>May 22, 2022</td>\n",
      "<td><a href=\"/wiki/Ripha\" title=\"Ripha\">Ripha</a></td>\n",
      "<td><span typeof=\"mw:File\"><a href=\"/wiki/Ninjara\" title=\"Ninjara\"><img class=\"mw-file-element\" decoding=\"async\" height=\"25\" src=\"//cdn.wikimg.net/en/armswiki/images/thumb/0/0c/Icon-Ninjara.png/25px-Icon-Ninjara.png\" srcset=\"//cdn.wikimg.net/en/armswiki/images/thumb/0/0c/Icon-Ninjara.png/38px-Icon-Ninjara.png 1.5x, //cdn.wikimg.net/en/armswiki/images/thumb/0/0c/Icon-Ninjara.png/50px-Icon-Ninjara.png 2x\" width=\"25\"/></a></span> <span typeof=\"mw:File\"><a href=\"/wiki/Misango\" title=\"Misango\"><img class=\"mw-file-element\" decoding=\"async\" height=\"25\" src=\"//cdn.wikimg.net/en/armswiki/images/thumb/2/25/Icon-Misango.png/25px-Icon-Misango.png\" srcset=\"//cdn.wikimg.net/en/armswiki/images/thumb/2/25/Icon-Misango.png/38px-Icon-Misango.png 1.5x, //cdn.wikimg.net/en/armswiki/images/thumb/2/25/Icon-Misango.png/50px-Icon-Misango.png 2x\" width=\"25\"/></a></span>\n",
      "</td></tr>\n",
      "<tr>\n",
      "<td><a class=\"external text\" href=\"https://challonge.com/EUAC94\" rel=\"nofollow\">EU ARMS Challenge #94</a></td>\n",
      "<td>June 5, 2022</td>\n",
      "<td><a href=\"/wiki/Ripha\" title=\"Ripha\">Ripha</a></td>\n",
      "<td><span typeof=\"mw:File\"><a href=\"/wiki/Misango\" title=\"Misango\"><img class=\"mw-file-element\" decoding=\"async\" height=\"25\" src=\"//cdn.wikimg.net/en/armswiki/images/thumb/2/25/Icon-Misango.png/25px-Icon-Misango.png\" srcset=\"//cdn.wikimg.net/en/armswiki/images/thumb/2/25/Icon-Misango.png/38px-Icon-Misango.png 1.5x, //cdn.wikimg.net/en/armswiki/images/thumb/2/25/Icon-Misango.png/50px-Icon-Misango.png 2x\" width=\"25\"/></a></span> <span typeof=\"mw:File\"><a href=\"/wiki/Twintelle\" title=\"Twintelle\"><img class=\"mw-file-element\" decoding=\"async\" height=\"25\" src=\"//cdn.wikimg.net/en/armswiki/images/thumb/a/a1/Icon-Twintelle.png/25px-Icon-Twintelle.png\" srcset=\"//cdn.wikimg.net/en/armswiki/images/thumb/a/a1/Icon-Twintelle.png/38px-Icon-Twintelle.png 1.5x, //cdn.wikimg.net/en/armswiki/images/thumb/a/a1/Icon-Twintelle.png/50px-Icon-Twintelle.png 2x\" width=\"25\"/></a></span> <span typeof=\"mw:File\"><a href=\"/wiki/Ninjara\" title=\"Ninjara\"><img class=\"mw-file-element\" decoding=\"async\" height=\"25\" src=\"//cdn.wikimg.net/en/armswiki/images/thumb/0/0c/Icon-Ninjara.png/25px-Icon-Ninjara.png\" srcset=\"//cdn.wikimg.net/en/armswiki/images/thumb/0/0c/Icon-Ninjara.png/38px-Icon-Ninjara.png 1.5x, //cdn.wikimg.net/en/armswiki/images/thumb/0/0c/Icon-Ninjara.png/50px-Icon-Ninjara.png 2x\" width=\"25\"/></a></span>\n",
      "</td></tr>\n",
      "<tr>\n",
      "<td><a class=\"external text\" href=\"https://challonge.com/EUAC95\" rel=\"nofollow\">EU ARMS Challenge #95</a></td>\n",
      "<td>June 19, 2022</td>\n",
      "<td><a href=\"/wiki/Grimwood\" title=\"Grimwood\">Grimwood</a></td>\n",
      "<td><span typeof=\"mw:File\"><a href=\"/wiki/Max_Brass\" title=\"Max Brass\"><img class=\"mw-file-element\" decoding=\"async\" height=\"25\" src=\"//cdn.wikimg.net/en/armswiki/images/thumb/4/45/Icon-Max_Brass.png/25px-Icon-Max_Brass.png\" srcset=\"//cdn.wikimg.net/en/armswiki/images/thumb/4/45/Icon-Max_Brass.png/38px-Icon-Max_Brass.png 1.5x, //cdn.wikimg.net/en/armswiki/images/thumb/4/45/Icon-Max_Brass.png/50px-Icon-Max_Brass.png 2x\" width=\"25\"/></a></span> <span typeof=\"mw:File\"><a href=\"/wiki/Twintelle\" title=\"Twintelle\"><img class=\"mw-file-element\" decoding=\"async\" height=\"25\" src=\"//cdn.wikimg.net/en/armswiki/images/thumb/a/a1/Icon-Twintelle.png/25px-Icon-Twintelle.png\" srcset=\"//cdn.wikimg.net/en/armswiki/images/thumb/a/a1/Icon-Twintelle.png/38px-Icon-Twintelle.png 1.5x, //cdn.wikimg.net/en/armswiki/images/thumb/a/a1/Icon-Twintelle.png/50px-Icon-Twintelle.png 2x\" width=\"25\"/></a></span> <span typeof=\"mw:File\"><a href=\"/wiki/Dr._Coyle\" title=\"Dr. Coyle\"><img class=\"mw-file-element\" decoding=\"async\" height=\"25\" src=\"//cdn.wikimg.net/en/armswiki/images/thumb/5/53/Icon-Dr._Coyle.png/25px-Icon-Dr._Coyle.png\" srcset=\"//cdn.wikimg.net/en/armswiki/images/thumb/5/53/Icon-Dr._Coyle.png/38px-Icon-Dr._Coyle.png 1.5x, //cdn.wikimg.net/en/armswiki/images/thumb/5/53/Icon-Dr._Coyle.png/50px-Icon-Dr._Coyle.png 2x\" width=\"25\"/></a></span> <span typeof=\"mw:File\"><a href=\"/wiki/Kid_Cobra\" title=\"Kid Cobra\"><img class=\"mw-file-element\" decoding=\"async\" height=\"25\" src=\"//cdn.wikimg.net/en/armswiki/images/thumb/b/b7/Icon-Kid_Cobra.png/25px-Icon-Kid_Cobra.png\" srcset=\"//cdn.wikimg.net/en/armswiki/images/thumb/b/b7/Icon-Kid_Cobra.png/38px-Icon-Kid_Cobra.png 1.5x, //cdn.wikimg.net/en/armswiki/images/thumb/b/b7/Icon-Kid_Cobra.png/50px-Icon-Kid_Cobra.png 2x\" width=\"25\"/></a></span>\n",
      "</td></tr>\n",
      "<tr>\n",
      "<td><a class=\"external text\" href=\"https://challonge.com/EUAC96\" rel=\"nofollow\">EU ARMS Challenge #96</a></td>\n",
      "<td>July 3, 2022</td>\n",
      "<td><a href=\"/wiki/Ripha\" title=\"Ripha\">Ripha</a></td>\n",
      "<td><span typeof=\"mw:File\"><a href=\"/wiki/Misango\" title=\"Misango\"><img class=\"mw-file-element\" decoding=\"async\" height=\"25\" src=\"//cdn.wikimg.net/en/armswiki/images/thumb/2/25/Icon-Misango.png/25px-Icon-Misango.png\" srcset=\"//cdn.wikimg.net/en/armswiki/images/thumb/2/25/Icon-Misango.png/38px-Icon-Misango.png 1.5x, //cdn.wikimg.net/en/armswiki/images/thumb/2/25/Icon-Misango.png/50px-Icon-Misango.png 2x\" width=\"25\"/></a></span>\n",
      "</td></tr>\n",
      "<tr>\n",
      "<td><a class=\"external text\" href=\"https://challonge.com/EUAC97\" rel=\"nofollow\">EU ARMS Challenge #97</a></td>\n",
      "<td>July 17, 2022</td>\n",
      "<td>Alistair</td>\n",
      "<td><span typeof=\"mw:File\"><a href=\"/wiki/Dr._Coyle\" title=\"Dr. Coyle\"><img class=\"mw-file-element\" decoding=\"async\" height=\"25\" src=\"//cdn.wikimg.net/en/armswiki/images/thumb/5/53/Icon-Dr._Coyle.png/25px-Icon-Dr._Coyle.png\" srcset=\"//cdn.wikimg.net/en/armswiki/images/thumb/5/53/Icon-Dr._Coyle.png/38px-Icon-Dr._Coyle.png 1.5x, //cdn.wikimg.net/en/armswiki/images/thumb/5/53/Icon-Dr._Coyle.png/50px-Icon-Dr._Coyle.png 2x\" width=\"25\"/></a></span>\n",
      "</td></tr>\n",
      "<tr>\n",
      "<td><a class=\"external text\" href=\"https://challonge.com/EUAC98\" rel=\"nofollow\">EU ARMS Challenge #98</a></td>\n",
      "<td>July 31, 2022</td>\n",
      "<td>Alistair</td>\n",
      "<td><span typeof=\"mw:File\"><a href=\"/wiki/Dr._Coyle\" title=\"Dr. Coyle\"><img class=\"mw-file-element\" decoding=\"async\" height=\"25\" src=\"//cdn.wikimg.net/en/armswiki/images/thumb/5/53/Icon-Dr._Coyle.png/25px-Icon-Dr._Coyle.png\" srcset=\"//cdn.wikimg.net/en/armswiki/images/thumb/5/53/Icon-Dr._Coyle.png/38px-Icon-Dr._Coyle.png 1.5x, //cdn.wikimg.net/en/armswiki/images/thumb/5/53/Icon-Dr._Coyle.png/50px-Icon-Dr._Coyle.png 2x\" width=\"25\"/></a></span>\n",
      "</td></tr>\n",
      "<tr>\n",
      "<td><a class=\"external text\" href=\"https://challonge.com/EUAC99\" rel=\"nofollow\">EU ARMS Challenge #99</a></td>\n",
      "<td>August 14, 2022</td>\n",
      "<td><a href=\"/wiki/Ripha\" title=\"Ripha\">Ripha</a></td>\n",
      "<td><span typeof=\"mw:File\"><a href=\"/wiki/Lola_Pop\" title=\"Lola Pop\"><img class=\"mw-file-element\" decoding=\"async\" height=\"25\" src=\"//cdn.wikimg.net/en/armswiki/images/thumb/e/e5/Icon-Lola_Pop.png/25px-Icon-Lola_Pop.png\" srcset=\"//cdn.wikimg.net/en/armswiki/images/thumb/e/e5/Icon-Lola_Pop.png/38px-Icon-Lola_Pop.png 1.5x, //cdn.wikimg.net/en/armswiki/images/thumb/e/e5/Icon-Lola_Pop.png/50px-Icon-Lola_Pop.png 2x\" width=\"25\"/></a></span>\n",
      "</td></tr>\n",
      "<tr>\n",
      "<td><a class=\"external text\" href=\"https://challonge.com/EUAC100\" rel=\"nofollow\">EU ARMS Challenge #100</a></td>\n",
      "<td>August 28, 2022</td>\n",
      "<td>Alistair</td>\n",
      "<td><span typeof=\"mw:File\"><a href=\"/wiki/Dr._Coyle\" title=\"Dr. Coyle\"><img class=\"mw-file-element\" decoding=\"async\" height=\"25\" src=\"//cdn.wikimg.net/en/armswiki/images/thumb/5/53/Icon-Dr._Coyle.png/25px-Icon-Dr._Coyle.png\" srcset=\"//cdn.wikimg.net/en/armswiki/images/thumb/5/53/Icon-Dr._Coyle.png/38px-Icon-Dr._Coyle.png 1.5x, //cdn.wikimg.net/en/armswiki/images/thumb/5/53/Icon-Dr._Coyle.png/50px-Icon-Dr._Coyle.png 2x\" width=\"25\"/></a></span>\n",
      "</td></tr>\n",
      "<tr>\n",
      "<td><a class=\"external text\" href=\"https://challonge.com/EUAC101\" rel=\"nofollow\">EU ARMS Challenge #101</a></td>\n",
      "<td>September 11, 2022</td>\n",
      "<td>Alistair</td>\n",
      "<td><span typeof=\"mw:File\"><a href=\"/wiki/Dr._Coyle\" title=\"Dr. Coyle\"><img class=\"mw-file-element\" decoding=\"async\" height=\"25\" src=\"//cdn.wikimg.net/en/armswiki/images/thumb/5/53/Icon-Dr._Coyle.png/25px-Icon-Dr._Coyle.png\" srcset=\"//cdn.wikimg.net/en/armswiki/images/thumb/5/53/Icon-Dr._Coyle.png/38px-Icon-Dr._Coyle.png 1.5x, //cdn.wikimg.net/en/armswiki/images/thumb/5/53/Icon-Dr._Coyle.png/50px-Icon-Dr._Coyle.png 2x\" width=\"25\"/></a></span> <span typeof=\"mw:File\"><a href=\"/wiki/Ninjara\" title=\"Ninjara\"><img class=\"mw-file-element\" decoding=\"async\" height=\"25\" src=\"//cdn.wikimg.net/en/armswiki/images/thumb/0/0c/Icon-Ninjara.png/25px-Icon-Ninjara.png\" srcset=\"//cdn.wikimg.net/en/armswiki/images/thumb/0/0c/Icon-Ninjara.png/38px-Icon-Ninjara.png 1.5x, //cdn.wikimg.net/en/armswiki/images/thumb/0/0c/Icon-Ninjara.png/50px-Icon-Ninjara.png 2x\" width=\"25\"/></a></span>\n",
      "</td></tr>\n",
      "<tr>\n",
      "<td><a class=\"external text\" href=\"https://challonge.com/EUAC102\" rel=\"nofollow\">EU ARMS Challenge #102</a></td>\n",
      "<td>September 25, 2022</td>\n",
      "<td>Alistair</td>\n",
      "<td><span typeof=\"mw:File\"><a href=\"/wiki/Dr._Coyle\" title=\"Dr. Coyle\"><img class=\"mw-file-element\" decoding=\"async\" height=\"25\" src=\"//cdn.wikimg.net/en/armswiki/images/thumb/5/53/Icon-Dr._Coyle.png/25px-Icon-Dr._Coyle.png\" srcset=\"//cdn.wikimg.net/en/armswiki/images/thumb/5/53/Icon-Dr._Coyle.png/38px-Icon-Dr._Coyle.png 1.5x, //cdn.wikimg.net/en/armswiki/images/thumb/5/53/Icon-Dr._Coyle.png/50px-Icon-Dr._Coyle.png 2x\" width=\"25\"/></a></span>\n",
      "</td></tr>\n",
      "<tr>\n",
      "<td><a class=\"external text\" href=\"https://challonge.com/EUAC103\" rel=\"nofollow\">EU ARMS Challenge #103</a></td>\n",
      "<td>October 9, 2022</td>\n",
      "<td>Alistair</td>\n",
      "<td><span typeof=\"mw:File\"><a href=\"/wiki/Dr._Coyle\" title=\"Dr. Coyle\"><img class=\"mw-file-element\" decoding=\"async\" height=\"25\" src=\"//cdn.wikimg.net/en/armswiki/images/thumb/5/53/Icon-Dr._Coyle.png/25px-Icon-Dr._Coyle.png\" srcset=\"//cdn.wikimg.net/en/armswiki/images/thumb/5/53/Icon-Dr._Coyle.png/38px-Icon-Dr._Coyle.png 1.5x, //cdn.wikimg.net/en/armswiki/images/thumb/5/53/Icon-Dr._Coyle.png/50px-Icon-Dr._Coyle.png 2x\" width=\"25\"/></a></span>\n",
      "</td></tr>\n",
      "<tr>\n",
      "<td><a class=\"external text\" href=\"https://challonge.com/EUAC104\" rel=\"nofollow\">EU ARMS Challenge #104</a></td>\n",
      "<td>October 23, 2022</td>\n",
      "<td><a href=\"/wiki/Ripha\" title=\"Ripha\">Ripha</a></td>\n",
      "<td><span typeof=\"mw:File\"><a href=\"/wiki/Misango\" title=\"Misango\"><img class=\"mw-file-element\" decoding=\"async\" height=\"25\" src=\"//cdn.wikimg.net/en/armswiki/images/thumb/2/25/Icon-Misango.png/25px-Icon-Misango.png\" srcset=\"//cdn.wikimg.net/en/armswiki/images/thumb/2/25/Icon-Misango.png/38px-Icon-Misango.png 1.5x, //cdn.wikimg.net/en/armswiki/images/thumb/2/25/Icon-Misango.png/50px-Icon-Misango.png 2x\" width=\"25\"/></a></span> <span typeof=\"mw:File\"><a href=\"/wiki/Ninjara\" title=\"Ninjara\"><img class=\"mw-file-element\" decoding=\"async\" height=\"25\" src=\"//cdn.wikimg.net/en/armswiki/images/thumb/0/0c/Icon-Ninjara.png/25px-Icon-Ninjara.png\" srcset=\"//cdn.wikimg.net/en/armswiki/images/thumb/0/0c/Icon-Ninjara.png/38px-Icon-Ninjara.png 1.5x, //cdn.wikimg.net/en/armswiki/images/thumb/0/0c/Icon-Ninjara.png/50px-Icon-Ninjara.png 2x\" width=\"25\"/></a></span>\n",
      "</td></tr>\n",
      "<tr>\n",
      "<td><a class=\"external text\" href=\"https://challonge.com/EUAC105\" rel=\"nofollow\">EU ARMS Challenge #105</a></td>\n",
      "<td>November 6, 2022</td>\n",
      "<td><a href=\"/wiki/Ripha\" title=\"Ripha\">Ripha</a></td>\n",
      "<td><span typeof=\"mw:File\"><a href=\"/wiki/Min_Min\" title=\"Min Min\"><img class=\"mw-file-element\" decoding=\"async\" height=\"25\" src=\"//cdn.wikimg.net/en/armswiki/images/thumb/9/93/Icon-Min_Min.png/25px-Icon-Min_Min.png\" srcset=\"//cdn.wikimg.net/en/armswiki/images/thumb/9/93/Icon-Min_Min.png/38px-Icon-Min_Min.png 1.5x, //cdn.wikimg.net/en/armswiki/images/thumb/9/93/Icon-Min_Min.png/50px-Icon-Min_Min.png 2x\" width=\"25\"/></a></span> <span typeof=\"mw:File\"><a href=\"/wiki/Misango\" title=\"Misango\"><img class=\"mw-file-element\" decoding=\"async\" height=\"25\" src=\"//cdn.wikimg.net/en/armswiki/images/thumb/2/25/Icon-Misango.png/25px-Icon-Misango.png\" srcset=\"//cdn.wikimg.net/en/armswiki/images/thumb/2/25/Icon-Misango.png/38px-Icon-Misango.png 1.5x, //cdn.wikimg.net/en/armswiki/images/thumb/2/25/Icon-Misango.png/50px-Icon-Misango.png 2x\" width=\"25\"/></a></span>\n",
      "</td></tr>\n",
      "<tr>\n",
      "<td><a class=\"external text\" href=\"https://challonge.com/EUAC106\" rel=\"nofollow\">EU ARMS Challenge #106</a></td>\n",
      "<td>November 20, 2022</td>\n",
      "<td><a href=\"/wiki/Ripha\" title=\"Ripha\">Ripha</a></td>\n",
      "<td><span typeof=\"mw:File\"><a href=\"/wiki/Ninjara\" title=\"Ninjara\"><img class=\"mw-file-element\" decoding=\"async\" height=\"25\" src=\"//cdn.wikimg.net/en/armswiki/images/thumb/0/0c/Icon-Ninjara.png/25px-Icon-Ninjara.png\" srcset=\"//cdn.wikimg.net/en/armswiki/images/thumb/0/0c/Icon-Ninjara.png/38px-Icon-Ninjara.png 1.5x, //cdn.wikimg.net/en/armswiki/images/thumb/0/0c/Icon-Ninjara.png/50px-Icon-Ninjara.png 2x\" width=\"25\"/></a></span>\n",
      "</td></tr>\n",
      "<tr>\n",
      "<td><a class=\"external text\" href=\"https://challonge.com/EUAC107\" rel=\"nofollow\">EU ARMS Challenge #107</a></td>\n",
      "<td>December 4, 2022</td>\n",
      "<td><a href=\"/wiki/Ripha\" title=\"Ripha\">Ripha</a></td>\n",
      "<td><span typeof=\"mw:File\"><a href=\"/wiki/Misango\" title=\"Misango\"><img class=\"mw-file-element\" decoding=\"async\" height=\"25\" src=\"//cdn.wikimg.net/en/armswiki/images/thumb/2/25/Icon-Misango.png/25px-Icon-Misango.png\" srcset=\"//cdn.wikimg.net/en/armswiki/images/thumb/2/25/Icon-Misango.png/38px-Icon-Misango.png 1.5x, //cdn.wikimg.net/en/armswiki/images/thumb/2/25/Icon-Misango.png/50px-Icon-Misango.png 2x\" width=\"25\"/></a></span> <span typeof=\"mw:File\"><a href=\"/wiki/Ninjara\" title=\"Ninjara\"><img class=\"mw-file-element\" decoding=\"async\" height=\"25\" src=\"//cdn.wikimg.net/en/armswiki/images/thumb/0/0c/Icon-Ninjara.png/25px-Icon-Ninjara.png\" srcset=\"//cdn.wikimg.net/en/armswiki/images/thumb/0/0c/Icon-Ninjara.png/38px-Icon-Ninjara.png 1.5x, //cdn.wikimg.net/en/armswiki/images/thumb/0/0c/Icon-Ninjara.png/50px-Icon-Ninjara.png 2x\" width=\"25\"/></a></span>\n",
      "</td></tr>\n",
      "<tr>\n",
      "<td><a class=\"external text\" href=\"https://challonge.com/EUACPVW\" rel=\"nofollow\">EU ARMS Challenge - Pre Vortex Workout</a></td>\n",
      "<td>February 5, 2023</td>\n",
      "<td><a href=\"/wiki/Ripha\" title=\"Ripha\">Ripha</a></td>\n",
      "<td><span typeof=\"mw:File\"><a href=\"/wiki/Misango\" title=\"Misango\"><img class=\"mw-file-element\" decoding=\"async\" height=\"25\" src=\"//cdn.wikimg.net/en/armswiki/images/thumb/2/25/Icon-Misango.png/25px-Icon-Misango.png\" srcset=\"//cdn.wikimg.net/en/armswiki/images/thumb/2/25/Icon-Misango.png/38px-Icon-Misango.png 1.5x, //cdn.wikimg.net/en/armswiki/images/thumb/2/25/Icon-Misango.png/50px-Icon-Misango.png 2x\" width=\"25\"/></a></span> <span typeof=\"mw:File\"><a href=\"/wiki/Ninjara\" title=\"Ninjara\"><img class=\"mw-file-element\" decoding=\"async\" height=\"25\" src=\"//cdn.wikimg.net/en/armswiki/images/thumb/0/0c/Icon-Ninjara.png/25px-Icon-Ninjara.png\" srcset=\"//cdn.wikimg.net/en/armswiki/images/thumb/0/0c/Icon-Ninjara.png/38px-Icon-Ninjara.png 1.5x, //cdn.wikimg.net/en/armswiki/images/thumb/0/0c/Icon-Ninjara.png/50px-Icon-Ninjara.png 2x\" width=\"25\"/></a></span> <span typeof=\"mw:File\"><a href=\"/wiki/Helix\" title=\"Helix\"><img class=\"mw-file-element\" decoding=\"async\" height=\"25\" src=\"//cdn.wikimg.net/en/armswiki/images/thumb/c/c4/Icon-Helix.png/25px-Icon-Helix.png\" srcset=\"//cdn.wikimg.net/en/armswiki/images/thumb/c/c4/Icon-Helix.png/38px-Icon-Helix.png 1.5x, //cdn.wikimg.net/en/armswiki/images/thumb/c/c4/Icon-Helix.png/50px-Icon-Helix.png 2x\" width=\"25\"/></a></span>\n",
      "</td></tr>\n",
      "<tr>\n",
      "<td><a class=\"external text\" href=\"https://challonge.com/EUAC108\" rel=\"nofollow\">EU ARMS Challenge #108</a></td>\n",
      "<td>April 16, 2023</td>\n",
      "<td><a href=\"/wiki/Ripha\" title=\"Ripha\">Ripha</a></td>\n",
      "<td><span typeof=\"mw:File\"><a href=\"/wiki/Ninjara\" title=\"Ninjara\"><img class=\"mw-file-element\" decoding=\"async\" height=\"25\" src=\"//cdn.wikimg.net/en/armswiki/images/thumb/0/0c/Icon-Ninjara.png/25px-Icon-Ninjara.png\" srcset=\"//cdn.wikimg.net/en/armswiki/images/thumb/0/0c/Icon-Ninjara.png/38px-Icon-Ninjara.png 1.5x, //cdn.wikimg.net/en/armswiki/images/thumb/0/0c/Icon-Ninjara.png/50px-Icon-Ninjara.png 2x\" width=\"25\"/></a></span> <span typeof=\"mw:File\"><a href=\"/wiki/Misango\" title=\"Misango\"><img class=\"mw-file-element\" decoding=\"async\" height=\"25\" src=\"//cdn.wikimg.net/en/armswiki/images/thumb/2/25/Icon-Misango.png/25px-Icon-Misango.png\" srcset=\"//cdn.wikimg.net/en/armswiki/images/thumb/2/25/Icon-Misango.png/38px-Icon-Misango.png 1.5x, //cdn.wikimg.net/en/armswiki/images/thumb/2/25/Icon-Misango.png/50px-Icon-Misango.png 2x\" width=\"25\"/></a></span> <span typeof=\"mw:File\"><a href=\"/wiki/Min_Min\" title=\"Min Min\"><img class=\"mw-file-element\" decoding=\"async\" height=\"25\" src=\"//cdn.wikimg.net/en/armswiki/images/thumb/9/93/Icon-Min_Min.png/25px-Icon-Min_Min.png\" srcset=\"//cdn.wikimg.net/en/armswiki/images/thumb/9/93/Icon-Min_Min.png/38px-Icon-Min_Min.png 1.5x, //cdn.wikimg.net/en/armswiki/images/thumb/9/93/Icon-Min_Min.png/50px-Icon-Min_Min.png 2x\" width=\"25\"/></a></span> <span typeof=\"mw:File\"><a href=\"/wiki/Twintelle\" title=\"Twintelle\"><img class=\"mw-file-element\" decoding=\"async\" height=\"25\" src=\"//cdn.wikimg.net/en/armswiki/images/thumb/a/a1/Icon-Twintelle.png/25px-Icon-Twintelle.png\" srcset=\"//cdn.wikimg.net/en/armswiki/images/thumb/a/a1/Icon-Twintelle.png/38px-Icon-Twintelle.png 1.5x, //cdn.wikimg.net/en/armswiki/images/thumb/a/a1/Icon-Twintelle.png/50px-Icon-Twintelle.png 2x\" width=\"25\"/></a></span> <span typeof=\"mw:File\"><a href=\"/wiki/Kid_Cobra\" title=\"Kid Cobra\"><img class=\"mw-file-element\" decoding=\"async\" height=\"25\" src=\"//cdn.wikimg.net/en/armswiki/images/thumb/b/b7/Icon-Kid_Cobra.png/25px-Icon-Kid_Cobra.png\" srcset=\"//cdn.wikimg.net/en/armswiki/images/thumb/b/b7/Icon-Kid_Cobra.png/38px-Icon-Kid_Cobra.png 1.5x, //cdn.wikimg.net/en/armswiki/images/thumb/b/b7/Icon-Kid_Cobra.png/50px-Icon-Kid_Cobra.png 2x\" width=\"25\"/></a></span>\n",
      "</td></tr>\n",
      "<tr>\n",
      "<td><a class=\"external text\" href=\"https://challonge.com/EUAC109\" rel=\"nofollow\">EU ARMS Challenge #109</a></td>\n",
      "<td>July 2, 2023</td>\n",
      "<td><a href=\"/wiki/Ripha\" title=\"Ripha\">Ripha</a></td>\n",
      "<td><span typeof=\"mw:File\"><a href=\"/wiki/Kid_Cobra\" title=\"Kid Cobra\"><img class=\"mw-file-element\" decoding=\"async\" height=\"25\" src=\"//cdn.wikimg.net/en/armswiki/images/thumb/b/b7/Icon-Kid_Cobra.png/25px-Icon-Kid_Cobra.png\" srcset=\"//cdn.wikimg.net/en/armswiki/images/thumb/b/b7/Icon-Kid_Cobra.png/38px-Icon-Kid_Cobra.png 1.5x, //cdn.wikimg.net/en/armswiki/images/thumb/b/b7/Icon-Kid_Cobra.png/50px-Icon-Kid_Cobra.png 2x\" width=\"25\"/></a></span>\n",
      "</td></tr>\n",
      "<tr>\n",
      "<td><a class=\"external text\" href=\"https://challonge.com/EUAC110\" rel=\"nofollow\">EU ARMS Challenge #110</a></td>\n",
      "<td>October 13, 2024</td>\n",
      "<td><a href=\"/wiki/Ripha\" title=\"Ripha\">Ripha</a></td>\n",
      "<td><span typeof=\"mw:File\"><a href=\"/wiki/Ninjara\" title=\"Ninjara\"><img class=\"mw-file-element\" decoding=\"async\" height=\"25\" src=\"//cdn.wikimg.net/en/armswiki/images/thumb/0/0c/Icon-Ninjara.png/25px-Icon-Ninjara.png\" srcset=\"//cdn.wikimg.net/en/armswiki/images/thumb/0/0c/Icon-Ninjara.png/38px-Icon-Ninjara.png 1.5x, //cdn.wikimg.net/en/armswiki/images/thumb/0/0c/Icon-Ninjara.png/50px-Icon-Ninjara.png 2x\" width=\"25\"/></a></span> <span typeof=\"mw:File\"><a href=\"/wiki/Misango\" title=\"Misango\"><img class=\"mw-file-element\" decoding=\"async\" height=\"25\" src=\"//cdn.wikimg.net/en/armswiki/images/thumb/2/25/Icon-Misango.png/25px-Icon-Misango.png\" srcset=\"//cdn.wikimg.net/en/armswiki/images/thumb/2/25/Icon-Misango.png/38px-Icon-Misango.png 1.5x, //cdn.wikimg.net/en/armswiki/images/thumb/2/25/Icon-Misango.png/50px-Icon-Misango.png 2x\" width=\"25\"/></a></span> <span typeof=\"mw:File\"><a href=\"/wiki/Mechanica\" title=\"Mechanica\"><img class=\"mw-file-element\" decoding=\"async\" height=\"25\" src=\"//cdn.wikimg.net/en/armswiki/images/thumb/e/ea/Icon-Mechanica.png/25px-Icon-Mechanica.png\" srcset=\"//cdn.wikimg.net/en/armswiki/images/thumb/e/ea/Icon-Mechanica.png/38px-Icon-Mechanica.png 1.5x, //cdn.wikimg.net/en/armswiki/images/thumb/e/ea/Icon-Mechanica.png/50px-Icon-Mechanica.png 2x\" width=\"25\"/></a></span> <span typeof=\"mw:File\"><a href=\"/wiki/Min_Min\" title=\"Min Min\"><img class=\"mw-file-element\" decoding=\"async\" height=\"25\" src=\"//cdn.wikimg.net/en/armswiki/images/thumb/9/93/Icon-Min_Min.png/25px-Icon-Min_Min.png\" srcset=\"//cdn.wikimg.net/en/armswiki/images/thumb/9/93/Icon-Min_Min.png/38px-Icon-Min_Min.png 1.5x, //cdn.wikimg.net/en/armswiki/images/thumb/9/93/Icon-Min_Min.png/50px-Icon-Min_Min.png 2x\" width=\"25\"/></a></span> <span typeof=\"mw:File\"><a href=\"/wiki/Lola_Pop\" title=\"Lola Pop\"><img class=\"mw-file-element\" decoding=\"async\" height=\"25\" src=\"//cdn.wikimg.net/en/armswiki/images/thumb/e/e5/Icon-Lola_Pop.png/25px-Icon-Lola_Pop.png\" srcset=\"//cdn.wikimg.net/en/armswiki/images/thumb/e/e5/Icon-Lola_Pop.png/38px-Icon-Lola_Pop.png 1.5x, //cdn.wikimg.net/en/armswiki/images/thumb/e/e5/Icon-Lola_Pop.png/50px-Icon-Lola_Pop.png 2x\" width=\"25\"/></a></span>\n",
      "</td></tr></tbody></table>\n",
      "<h2><span class=\"mw-headline\" id=\"Trivia\">Trivia</span></h2>\n",
      "<ul><li>With 49 wins, Ripha has the most EUAC wins out of all 12 unique victors.\n",
      "<ul><li>Ripha also has the highest win streak in the series, winning 8 tournaments in a row.</li></ul></li>\n",
      "<li><a class=\"new\" href=\"/w/index.php?title=Y%C3%A4tta&amp;action=edit&amp;redlink=1\" title=\"Yätta (page does not exist)\">Yätta</a>'s 4 event EUAC win streak throughout the Summer of 2018 garnered him the nickname \"King of Europe\".</li>\n",
      "<li>EU ARMS Challenge #5 had the most participants out of any EUAC tournament with 25 entrants.</li>\n",
      "<li>EU ARMS Challenge is the third <i>ARMS</i> tournament series to reach 100 events, with <a href=\"/wiki/Champions_of_the_Era\" title=\"Champions of the Era\">Champions of the Era</a> being the first and <a href=\"/wiki/The_Biweekly_Procrastination\" title=\"The Biweekly Procrastination\">The Biweekly Procrastination</a> being the second. The series, however, is the first European-only tournament series to reach 100 tournaments.\n",
      "<ul><li>EUAC 100 was initially announced on August 14th, 2022 with a trailer being presented on camera by Ripha.<sup class=\"reference\" id=\"cite_ref-1\"><a href=\"#cite_note-1\">[1]</a></sup> Alongside the announcement of EUAC 100, a week of special events were also announced that were to build up to the milestone tournament.\n",
      "<ul><li>These events included Viva ARMS Vegas (which featured random <a href=\"/wiki/ARMS_(equipment)\" title=\"ARMS (equipment)\">ARMS</a> and <a class=\"mw-redirect\" href=\"/wiki/Fighter\" title=\"Fighter\">fighter</a> selection), The Glushiest VS Church of Blorb (a crew battle between <a href=\"/wiki/Glusher\" title=\"Glusher\">Glusher</a> users and <a href=\"/wiki/Blorb\" title=\"Blorb\">Blorb</a> wielders), <a href=\"/wiki/Champions_of_the_Erapean_Union\" title=\"Champions of the Erapean Union\">Champions of the Erapean Union - Road to 100 Edition</a>, and EUAC’s King of the Hill (a battle between the top four players who have won the most EUAC events, being Ripha, <a href=\"/wiki/Iceman92\" title=\"Iceman92\">Iceman92</a>, Yätta, and <a href=\"/wiki/Grimwood\" title=\"Grimwood\">Grimwood</a>).</li></ul></li>\n",
      "<li>Although EU ARMS Challenge 100 did not have a direct logo itself, each of the special events leading up to it did and, aside from the CotEU logo, they were all created by <a href=\"/wiki/Dendy\" title=\"Dendy\">Dendy</a>.<sup class=\"reference\" id=\"cite_ref-2\"><a href=\"#cite_note-2\">[2]</a></sup></li></ul></li>\n",
      "<li>YoshiBowser first entered EUAC #8 and continued to play in every single event until the series stopped running regularly scheduled events with #107. This means that YoshiBowser entered 100 tournaments in the series in a row.</li></ul>\n",
      "<h2><span class=\"mw-headline\" id=\"Gameplay_Videos\">Gameplay Videos</span></h2>\n",
      "<p><a class=\"external text\" href=\"https://www.youtube.com/playlist?list=PLlCNDwn0SE2fgA35LnSo_taArY9Sea5Nk\" rel=\"nofollow\">EU ARMS Challenge #22 Playlist</a><br/>\n",
      "<a class=\"external text\" href=\"https://www.youtube.com/playlist?list=PLlCNDwn0SE2dMTRPgylOOij2H67xp0APh\" rel=\"nofollow\">EU ARMS Challenge #23 Playlist</a><br/>\n",
      "<a class=\"external text\" href=\"https://www.youtube.com/playlist?list=PLlCNDwn0SE2fcl28PGRWESTN5l67lf-X7\" rel=\"nofollow\">EU ARMS Challenge #24 Playlist</a><br/>\n",
      "<a class=\"external text\" href=\"https://www.youtube.com/playlist?list=PLlCNDwn0SE2cAs4uzsRFH7U5oF81tw_AU\" rel=\"nofollow\">EU ARMS Challenge #25 Playlist</a><br/>\n",
      "<a class=\"external text\" href=\"https://www.youtube.com/playlist?list=PLlCNDwn0SE2eJBsGSGjpLNgpvcFxP0Dbl\" rel=\"nofollow\">EU ARMS Challenge #26 Playlist</a><br/>\n",
      "<a class=\"external text\" href=\"https://www.youtube.com/playlist?list=PLlCNDwn0SE2euCEtJVxip_6cjRftegRCf\" rel=\"nofollow\">EU ARMS Challenge #27 Playlist</a><br/>\n",
      "<a class=\"external text\" href=\"https://www.youtube.com/playlist?list=PLlCNDwn0SE2fStusxalsWcMpae5kpDmXw\" rel=\"nofollow\">EU ARMS Challenge #29 Playlist</a><br/>\n",
      "<a class=\"external text\" href=\"https://www.twitch.tv/videos/908673111\" rel=\"nofollow\">EU ARMS Challenge #65 Full VOD</a><br/>\n",
      "</p>\n",
      "<h2><span class=\"mw-headline\" id=\"References\">References</span></h2>\n",
      "<div class=\"mw-references-wrap\"><ol class=\"references\">\n",
      "<li id=\"cite_note-1\"><span class=\"mw-cite-backlink\"><a href=\"#cite_ref-1\">↑</a></span> <span class=\"reference-text\"><a class=\"external free\" href=\"https://www.youtube.com/watch?v=vc58DilbE4g\" rel=\"nofollow\">https://www.youtube.com/watch?v=vc58DilbE4g</a></span>\n",
      "</li>\n",
      "<li id=\"cite_note-2\"><span class=\"mw-cite-backlink\"><a href=\"#cite_ref-2\">↑</a></span> <span class=\"reference-text\"><a class=\"external free\" href=\"https://twitter.com/European_ARMS/status/1558829251687813123\" rel=\"nofollow\">https://twitter.com/European_ARMS/status/1558829251687813123</a></span>\n",
      "</li>\n",
      "</ol></div>\n",
      "<!-- \n",
      "NewPP limit report\n",
      "Cached time: 20250522002321\n",
      "Cache expiry: 86400\n",
      "Reduced expiry: false\n",
      "Complications: [show‐toc]\n",
      "CPU time usage: 0.240 seconds\n",
      "Real time usage: 0.259 seconds\n",
      "Preprocessor visited node count: 3082/1000000\n",
      "Post‐expand include size: 11217/2097152 bytes\n",
      "Template argument size: 3768/2097152 bytes\n",
      "Highest expansion depth: 4/100\n",
      "Expensive parser function count: 0/100\n",
      "Unstrip recursion depth: 0/20\n",
      "Unstrip post‐expand size: 807/5000000 bytes\n",
      "-->\n",
      "<!--\n",
      "Transclusion expansion time report (%,ms,calls,template)\n",
      "100.00%   43.180      1 -total\n",
      " 64.64%   27.914    225 Template:Icon\n",
      "  1.94%    0.839      1 Template:Game\n",
      "-->\n",
      "<!-- Saved in parser cache with key enarmswiki-armswiki_:pcache:idhash:4223-0!canonical and timestamp 20250522002321 and revision id 23064. Rendering was triggered because: page-view\n",
      " -->\n",
      "</div>\n",
      "<div class=\"printfooter\" data-nosnippet=\"\">Retrieved from \"<a dir=\"ltr\" href=\"https://armswiki.org/w/index.php?title=EU_ARMS_Challenge&amp;oldid=23064\">https://armswiki.org/w/index.php?title=EU_ARMS_Challenge&amp;oldid=23064</a>\"</div></div>\n",
      "<div class=\"catlinks\" data-mw=\"interface\" id=\"catlinks\"><div class=\"mw-normal-catlinks\" id=\"mw-normal-catlinks\"><a href=\"/wiki/Special:Categories\" title=\"Special:Categories\">Category</a>: <ul><li><a href=\"/wiki/Category:Tournaments\" title=\"Category:Tournaments\">Tournaments</a></li></ul></div></div>\n",
      "</div>\n",
      "</div>\n",
      "<div id=\"mw-navigation\">\n",
      "<h2>Navigation menu</h2>\n",
      "<div id=\"mw-head\">\n",
      "<nav aria-labelledby=\"p-personal-label\" class=\"vector-menu mw-portlet mw-portlet-personal vector-user-menu-legacy\" id=\"p-personal\" role=\"navigation\">\n",
      "<h3 class=\"vector-menu-heading\" id=\"p-personal-label\">\n",
      "<span class=\"vector-menu-heading-label\">Personal tools</span>\n",
      "</h3>\n",
      "<div class=\"vector-menu-content\">\n",
      "<ul class=\"vector-menu-content-list\">\n",
      "<li class=\"mw-list-item\" id=\"pt-createaccount\"><a href=\"/w/index.php?title=Special:CreateAccount&amp;returnto=EU+ARMS+Challenge\" title=\"You are encouraged to create an account and log in; however, it is not mandatory\"><span>Create account</span></a></li><li class=\"mw-list-item\" id=\"pt-login\"><a accesskey=\"o\" href=\"/w/index.php?title=Special:UserLogin&amp;returnto=EU+ARMS+Challenge\" title=\"You are encouraged to log in; however, it is not mandatory [o]\"><span>Log in</span></a></li>\n",
      "</ul>\n",
      "</div>\n",
      "</nav>\n",
      "<div id=\"left-navigation\">\n",
      "<nav aria-labelledby=\"p-namespaces-label\" class=\"vector-menu mw-portlet mw-portlet-namespaces vector-menu-tabs vector-menu-tabs-legacy\" id=\"p-namespaces\" role=\"navigation\">\n",
      "<h3 class=\"vector-menu-heading\" id=\"p-namespaces-label\">\n",
      "<span class=\"vector-menu-heading-label\">Namespaces</span>\n",
      "</h3>\n",
      "<div class=\"vector-menu-content\">\n",
      "<ul class=\"vector-menu-content-list\">\n",
      "<li class=\"selected mw-list-item\" id=\"ca-nstab-main\"><a accesskey=\"c\" href=\"/wiki/EU_ARMS_Challenge\" title=\"View the content page [c]\"><span>Page</span></a></li><li class=\"new mw-list-item\" id=\"ca-talk\"><a accesskey=\"t\" href=\"/w/index.php?title=Talk:EU_ARMS_Challenge&amp;action=edit&amp;redlink=1\" rel=\"discussion\" title=\"Discussion about the content page (page does not exist) [t]\"><span>Discussion</span></a></li>\n",
      "</ul>\n",
      "</div>\n",
      "</nav>\n",
      "<nav aria-labelledby=\"p-variants-label\" class=\"vector-menu mw-portlet mw-portlet-variants emptyPortlet vector-menu-dropdown\" id=\"p-variants\" role=\"navigation\">\n",
      "<input aria-haspopup=\"true\" aria-labelledby=\"p-variants-label\" class=\"vector-menu-checkbox\" data-event-name=\"ui.dropdown-p-variants\" id=\"p-variants-checkbox\" role=\"button\" type=\"checkbox\"/>\n",
      "<label class=\"vector-menu-heading\" id=\"p-variants-label\">\n",
      "<span class=\"vector-menu-heading-label\">English</span>\n",
      "</label>\n",
      "<div class=\"vector-menu-content\">\n",
      "<ul class=\"vector-menu-content-list\">\n",
      "</ul>\n",
      "</div>\n",
      "</nav>\n",
      "</div>\n",
      "<div id=\"right-navigation\">\n",
      "<nav aria-labelledby=\"p-views-label\" class=\"vector-menu mw-portlet mw-portlet-views vector-menu-tabs vector-menu-tabs-legacy\" id=\"p-views\" role=\"navigation\">\n",
      "<h3 class=\"vector-menu-heading\" id=\"p-views-label\">\n",
      "<span class=\"vector-menu-heading-label\">Views</span>\n",
      "</h3>\n",
      "<div class=\"vector-menu-content\">\n",
      "<ul class=\"vector-menu-content-list\">\n",
      "<li class=\"selected mw-list-item\" id=\"ca-view\"><a href=\"/wiki/EU_ARMS_Challenge\"><span>Read</span></a></li><li class=\"mw-list-item\" id=\"ca-viewsource\"><a accesskey=\"e\" href=\"/w/index.php?title=EU_ARMS_Challenge&amp;action=edit\" title=\"This page is protected.\n",
      "You can view its source [e]\"><span>View source</span></a></li><li class=\"mw-list-item\" id=\"ca-history\"><a accesskey=\"h\" href=\"/w/index.php?title=EU_ARMS_Challenge&amp;action=history\" title=\"Past revisions of this page [h]\"><span>View history</span></a></li>\n",
      "</ul>\n",
      "</div>\n",
      "</nav>\n",
      "<nav aria-labelledby=\"p-cactions-label\" class=\"vector-menu mw-portlet mw-portlet-cactions vector-menu-dropdown\" id=\"p-cactions\" role=\"navigation\" title=\"More options\">\n",
      "<input aria-haspopup=\"true\" aria-labelledby=\"p-cactions-label\" class=\"vector-menu-checkbox\" data-event-name=\"ui.dropdown-p-cactions\" id=\"p-cactions-checkbox\" role=\"button\" type=\"checkbox\"/>\n",
      "<label class=\"vector-menu-heading\" id=\"p-cactions-label\">\n",
      "<span class=\"vector-menu-heading-label\">More</span>\n",
      "</label>\n",
      "<div class=\"vector-menu-content\">\n",
      "<ul class=\"vector-menu-content-list\">\n",
      "<li class=\"mw-list-item\" id=\"ca-cargo-purge\"><a href=\"/w/index.php?title=EU_ARMS_Challenge&amp;action=purge\"><span>Purge cache</span></a></li>\n",
      "</ul>\n",
      "</div>\n",
      "</nav>\n",
      "<div class=\"vector-search-box-vue vector-search-box-show-thumbnail vector-search-box-auto-expand-width vector-search-box\" id=\"p-search\" role=\"search\">\n",
      "<h3>Search</h3>\n",
      "<form action=\"/w/index.php\" class=\"vector-search-box-form\" id=\"searchform\">\n",
      "<div class=\"vector-search-box-inner\" data-search-loc=\"header-navigation\" id=\"simpleSearch\">\n",
      "<input accesskey=\"f\" aria-label=\"Search ARMS Institute\" autocapitalize=\"sentences\" class=\"vector-search-box-input\" id=\"searchInput\" name=\"search\" placeholder=\"Search ARMS Institute\" title=\"Search ARMS Institute [f]\" type=\"search\"/>\n",
      "<input name=\"title\" type=\"hidden\" value=\"Special:Search\"/>\n",
      "<input class=\"searchButton mw-fallbackSearchButton\" id=\"mw-searchButton\" name=\"fulltext\" title=\"Search the pages for this text\" type=\"submit\" value=\"Search\"/>\n",
      "<input class=\"searchButton\" id=\"searchButton\" name=\"go\" title=\"Go to a page with this exact name if it exists\" type=\"submit\" value=\"Go\"/>\n",
      "</div>\n",
      "</form>\n",
      "</div>\n",
      "</div>\n",
      "</div>\n",
      "<div class=\"vector-legacy-sidebar\" id=\"mw-panel\">\n",
      "<div id=\"p-logo\" role=\"banner\">\n",
      "<a class=\"mw-wiki-logo\" href=\"/wiki/Home\" title=\"Visit the main page\"></a>\n",
      "</div>\n",
      "<nav aria-labelledby=\"p-navigation-label\" class=\"vector-menu mw-portlet mw-portlet-navigation vector-menu-portal portal\" id=\"p-navigation\" role=\"navigation\">\n",
      "<h3 class=\"vector-menu-heading\" id=\"p-navigation-label\">\n",
      "<span class=\"vector-menu-heading-label\">Navigation</span>\n",
      "</h3>\n",
      "<div class=\"vector-menu-content\">\n",
      "<ul class=\"vector-menu-content-list\">\n",
      "<li class=\"mw-list-item\" id=\"n-mainpage-description\"><a accesskey=\"z\" href=\"/wiki/Home\" title=\"Visit the main page [z]\"><span>Home</span></a></li><li class=\"mw-list-item\" id=\"n-What-is-ARMS?\"><a href=\"/wiki/ARMS_(game)\"><span>What is ARMS?</span></a></li><li class=\"mw-list-item\" id=\"n-News\"><a href=\"/wiki/News\"><span>News</span></a></li>\n",
      "</ul>\n",
      "</div>\n",
      "</nav>\n",
      "<nav aria-labelledby=\"p-Game_Topics-label\" class=\"vector-menu mw-portlet mw-portlet-Game_Topics vector-menu-portal portal\" id=\"p-Game_Topics\" role=\"navigation\">\n",
      "<h3 class=\"vector-menu-heading\" id=\"p-Game_Topics-label\">\n",
      "<span class=\"vector-menu-heading-label\">Game Topics</span>\n",
      "</h3>\n",
      "<div class=\"vector-menu-content\">\n",
      "<ul class=\"vector-menu-content-list\">\n",
      "<li class=\"mw-list-item\" id=\"n-Fighters\"><a href=\"/wiki/Fighters\"><span>Fighters</span></a></li><li class=\"mw-list-item\" id=\"n-ARMS\"><a href=\"/wiki/ARMS_(equipment)\"><span>ARMS</span></a></li><li class=\"mw-list-item\" id=\"n-Stages\"><a href=\"/wiki/Stages\"><span>Stages</span></a></li><li class=\"mw-list-item\" id=\"n-Items\"><a href=\"/wiki/Items\"><span>Items</span></a></li><li class=\"mw-list-item\" id=\"n-Events\"><a href=\"/wiki/Competitive_Events\"><span>Events</span></a></li>\n",
      "</ul>\n",
      "</div>\n",
      "</nav>\n",
      "<nav aria-labelledby=\"p-Wiki_Links-label\" class=\"vector-menu mw-portlet mw-portlet-Wiki_Links vector-menu-portal portal\" id=\"p-Wiki_Links\" role=\"navigation\">\n",
      "<h3 class=\"vector-menu-heading\" id=\"p-Wiki_Links-label\">\n",
      "<span class=\"vector-menu-heading-label\">Wiki Links</span>\n",
      "</h3>\n",
      "<div class=\"vector-menu-content\">\n",
      "<ul class=\"vector-menu-content-list\">\n",
      "<li class=\"mw-list-item\" id=\"n-Policies\"><a href=\"/wiki/ARMS_Institute:Policies\"><span>Policies</span></a></li><li class=\"mw-list-item\" id=\"n-Discussion\"><a href=\"/wiki/ARMS_Institute:Discussion\"><span>Discussion</span></a></li><li class=\"mw-list-item\" id=\"n-NIWA\"><a href=\"/wiki/ARMS_Institute:NIWA_Links\"><span>NIWA</span></a></li><li class=\"mw-list-item\" id=\"n-recentchanges\"><a accesskey=\"r\" href=\"/wiki/Special:RecentChanges\" title=\"A list of recent changes in the wiki [r]\"><span>Recent changes</span></a></li><li class=\"mw-list-item\" id=\"n-randompage\"><a accesskey=\"x\" href=\"/wiki/Special:Random\" title=\"Load a random page [x]\"><span>Random page</span></a></li><li class=\"mw-list-item\" id=\"n-help\"><a href=\"https://www.mediawiki.org/wiki/Special:MyLanguage/Help:Contents\" title=\"The place to find out\"><span>Help</span></a></li>\n",
      "</ul>\n",
      "</div>\n",
      "</nav>\n",
      "<nav aria-labelledby=\"p-tb-label\" class=\"vector-menu mw-portlet mw-portlet-tb vector-menu-portal portal\" id=\"p-tb\" role=\"navigation\">\n",
      "<h3 class=\"vector-menu-heading\" id=\"p-tb-label\">\n",
      "<span class=\"vector-menu-heading-label\">Tools</span>\n",
      "</h3>\n",
      "<div class=\"vector-menu-content\">\n",
      "<ul class=\"vector-menu-content-list\">\n",
      "<li class=\"mw-list-item\" id=\"t-whatlinkshere\"><a accesskey=\"j\" href=\"/wiki/Special:WhatLinksHere/EU_ARMS_Challenge\" title=\"A list of all wiki pages that link here [j]\"><span>What links here</span></a></li><li class=\"mw-list-item\" id=\"t-recentchangeslinked\"><a accesskey=\"k\" href=\"/wiki/Special:RecentChangesLinked/EU_ARMS_Challenge\" rel=\"nofollow\" title=\"Recent changes in pages linked from this page [k]\"><span>Related changes</span></a></li><li class=\"mw-list-item\" id=\"t-specialpages\"><a accesskey=\"q\" href=\"/wiki/Special:SpecialPages\" title=\"A list of all special pages [q]\"><span>Special pages</span></a></li><li class=\"mw-list-item\" id=\"t-print\"><a accesskey=\"p\" href=\"javascript:print();\" rel=\"alternate\" title=\"Printable version of this page [p]\"><span>Printable version</span></a></li><li class=\"mw-list-item\" id=\"t-permalink\"><a href=\"/w/index.php?title=EU_ARMS_Challenge&amp;oldid=23064\" title=\"Permanent link to this revision of this page\"><span>Permanent link</span></a></li><li class=\"mw-list-item\" id=\"t-info\"><a href=\"/w/index.php?title=EU_ARMS_Challenge&amp;action=info\" title=\"More information about this page\"><span>Page information</span></a></li><li class=\"mw-list-item\" id=\"t-cargopagevalueslink\"><a href=\"/w/index.php?title=EU_ARMS_Challenge&amp;action=pagevalues\" rel=\"cargo-pagevalues\"><span>Cargo data</span></a></li>\n",
      "</ul>\n",
      "</div>\n",
      "</nav>\n",
      "</div>\n",
      "</div>\n",
      "<footer class=\"mw-footer\" id=\"footer\" role=\"contentinfo\">\n",
      "<ul id=\"footer-info\">\n",
      "<li id=\"footer-info-lastmod\"> This page was last edited on 13 October 2024, at 22:02.</li>\n",
      "<li id=\"footer-info-copyright\">Content is available under <a class=\"external\" href=\"https://creativecommons.org/licenses/by-sa/4.0/\" rel=\"nofollow\">Creative Commons Attribution-ShareAlike</a> unless otherwise noted.</li>\n",
      "</ul>\n",
      "<ul id=\"footer-places\">\n",
      "<li id=\"footer-places-privacy\"><a href=\"/wiki/ARMS_Institute:Privacy_policy\">Privacy policy</a></li>\n",
      "<li id=\"footer-places-about\"><a href=\"/wiki/ARMS_Institute:About\">About ARMS Institute</a></li>\n",
      "<li id=\"footer-places-disclaimers\"><a href=\"/wiki/ARMS_Institute:General_disclaimer\">Disclaimers</a></li>\n",
      "<li id=\"footer-places-mobileview\"><a class=\"noprint stopMobileRedirectToggle\" href=\"//armswiki.org/w/index.php?title=EU_ARMS_Challenge&amp;mobileaction=toggle_view_mobile\">Mobile view</a></li>\n",
      "</ul>\n",
      "<ul class=\"noprint\" id=\"footer-icons\">\n",
      "<li id=\"footer-copyrightico\"><a href=\"https://creativecommons.org/licenses/by-sa/4.0/\"><img alt=\"Creative Commons Attribution-ShareAlike\" height=\"31\" loading=\"lazy\" src=\"/w/resources/assets/licenses/cc-by-sa.png\" width=\"88\"/></a></li>\n",
      "<li id=\"footer-poweredbyico\"><a href=\"https://www.mediawiki.org/\"><img alt=\"Powered by MediaWiki\" height=\"31\" loading=\"lazy\" src=\"/w/resources/assets/poweredby_mediawiki_88x31.png\" srcset=\"/w/resources/assets/poweredby_mediawiki_132x47.png 1.5x, /w/resources/assets/poweredby_mediawiki_176x62.png 2x\" width=\"88\"/></a></li>\n",
      "<li id=\"footer-strategywikiico\"><a href=\"https://strategywiki.org/\"><img alt=\"Powered by StrategyWiki\" height=\"31\" loading=\"lazy\" src=\"https://cdn.wikimg.net/en/strategywiki/images/e/e5/Powered_by_StrategyWiki_Button.png\" srcset=\"https://cdn.wikimg.net/en/strategywiki/images/f/f0/Powered_by_StrategyWiki_Button2x.png 2x\" width=\"88\"/></a></li>\n",
      "</ul>\n",
      "</footer>\n",
      "<script async=\"\" src=\"https://www.googletagmanager.com/gtag/js?id=UA-7455005-3\"></script><script>\n",
      "window.dataLayer = window.dataLayer || [];\n",
      "\n",
      "function gtag(){dataLayer.push(arguments);}\n",
      "gtag('js', new Date());\n",
      "gtag('config', 'UA-7455005-3', {});\n",
      "</script>\n",
      "<script>(RLQ=window.RLQ||[]).push(function(){mw.config.set({\"wgBackendResponseTime\":359,\"wgPageParseReport\":{\"limitreport\":{\"cputime\":\"0.240\",\"walltime\":\"0.259\",\"ppvisitednodes\":{\"value\":3082,\"limit\":1000000},\"postexpandincludesize\":{\"value\":11217,\"limit\":2097152},\"templateargumentsize\":{\"value\":3768,\"limit\":2097152},\"expansiondepth\":{\"value\":4,\"limit\":100},\"expensivefunctioncount\":{\"value\":0,\"limit\":100},\"unstrip-depth\":{\"value\":0,\"limit\":20},\"unstrip-size\":{\"value\":807,\"limit\":5000000},\"timingprofile\":[\"100.00%   43.180      1 -total\",\" 64.64%   27.914    225 Template:Icon\",\"  1.94%    0.839      1 Template:Game\"]},\"cachereport\":{\"timestamp\":\"20250522002321\",\"ttl\":86400,\"transientcontent\":false}}});});</script>\n",
      "</body>\n",
      "</html>\n"
     ]
    }
   ],
   "source": [
    "print(soup)"
   ]
  },
  {
   "cell_type": "code",
   "execution_count": 340,
   "id": "fc830b94",
   "metadata": {},
   "outputs": [],
   "source": [
    "# Reduce data down to the div containing all the link needed\n",
    "tournamentData = soup.findAll('div', attrs={'class':\"mw-body-content mw-content-ltr\"})"
   ]
  },
  {
   "cell_type": "code",
   "execution_count": 341,
   "id": "6ea59869",
   "metadata": {},
   "outputs": [],
   "source": [
    "tournamentArray = []\n",
    "for links in tournamentData:\n",
    "    tournamentArray.append(links.find_all(\"a\", class_=\"external text\"))"
   ]
  },
  {
   "cell_type": "code",
   "execution_count": 342,
   "id": "b1c0d8e5",
   "metadata": {
    "scrolled": true
   },
   "outputs": [
    {
     "data": {
      "text/plain": [
       "[[<a class=\"external text\" href=\"https://smash.gg/tournament/eu-arms-challenge-1/details\" rel=\"nofollow\">EU ARMS Challenge #1</a>,\n",
       "  <a class=\"external text\" href=\"https://challonge.com/EUCHALLLENGE2\" rel=\"nofollow\">EU ARMS Challenge #2</a>,\n",
       "  <a class=\"external text\" href=\"https://challonge.com/EUCHALLLENGE3\" rel=\"nofollow\">EU ARMS Challenge #3</a>,\n",
       "  <a class=\"external text\" href=\"https://challonge.com/EUCHALLENGE4_Europe\" rel=\"nofollow\">EU ARMS Challenge #4 (EUROPE BRACKET)</a>,\n",
       "  <a class=\"external text\" href=\"https://challonge.com/EUChallenge5\" rel=\"nofollow\">EU ARMS Challenge #5</a>,\n",
       "  <a class=\"external text\" href=\"https://challonge.com/EUChallenge6\" rel=\"nofollow\">EU ARMS Challenge #6</a>,\n",
       "  <a class=\"external text\" href=\"https://challonge.com/EUChallenge7\" rel=\"nofollow\">EU ARMS Challenge #7</a>,\n",
       "  <a class=\"external text\" href=\"https://challonge.com/EUChallenge8\" rel=\"nofollow\">EU ARMS Challenge #8</a>,\n",
       "  <a class=\"external text\" href=\"https://challonge.com/EUChallenge9\" rel=\"nofollow\">EU ARMS Challenge #9</a>,\n",
       "  <a class=\"external text\" href=\"https://challonge.com/EUChallenge10\" rel=\"nofollow\">EU ARMS Challenge #10</a>,\n",
       "  <a class=\"external text\" href=\"https://challonge.com/EUChallenge11\" rel=\"nofollow\">EU ARMS Challenge #11</a>,\n",
       "  <a class=\"external text\" href=\"https://challonge.com/EUChallenge12\" rel=\"nofollow\">EU ARMS Challenge #12</a>,\n",
       "  <a class=\"external text\" href=\"https://challonge.com/EUChallenge13\" rel=\"nofollow\">EU ARMS Challenge #13</a>,\n",
       "  <a class=\"external text\" href=\"https://challonge.com/EUChallenge14\" rel=\"nofollow\">EU ARMS Challenge #14</a>,\n",
       "  <a class=\"external text\" href=\"https://challonge.com/EUChallenge15\" rel=\"nofollow\">EU ARMS Challenge #15</a>,\n",
       "  <a class=\"external text\" href=\"https://challonge.com/EUChallenge16\" rel=\"nofollow\">EU ARMS Challenge #16</a>,\n",
       "  <a class=\"external text\" href=\"https://challonge.com/EUChallenge17\" rel=\"nofollow\">EU ARMS Challenge #17</a>,\n",
       "  <a class=\"external text\" href=\"https://challonge.com/EUChallenge18\" rel=\"nofollow\">EU ARMS Challenge #18</a>,\n",
       "  <a class=\"external text\" href=\"https://challonge.com/EUChallenge19\" rel=\"nofollow\">EU ARMS Challenge #19</a>,\n",
       "  <a class=\"external text\" href=\"https://challonge.com/EUChallenge20\" rel=\"nofollow\">EU ARMS Challenge #20</a>,\n",
       "  <a class=\"external text\" href=\"https://challonge.com/EUChallenge21\" rel=\"nofollow\">EU ARMS Challenge #21</a>,\n",
       "  <a class=\"external text\" href=\"https://challonge.com/EUChallenge22\" rel=\"nofollow\">EU ARMS Challenge #22</a>,\n",
       "  <a class=\"external text\" href=\"https://challonge.com/EUChallenge23\" rel=\"nofollow\">EU ARMS Challenge #23</a>,\n",
       "  <a class=\"external text\" href=\"https://challonge.com/EUChallenge24\" rel=\"nofollow\">EU ARMS Challenge #24</a>,\n",
       "  <a class=\"external text\" href=\"https://challonge.com/EUChallenge25\" rel=\"nofollow\">EU ARMS Challenge #25</a>,\n",
       "  <a class=\"external text\" href=\"https://challonge.com/EUChallenge26\" rel=\"nofollow\">EU ARMS Challenge #26</a>,\n",
       "  <a class=\"external text\" href=\"https://challonge.com/EUChallenge27\" rel=\"nofollow\">EU ARMS Challenge #27</a>,\n",
       "  <a class=\"external text\" href=\"https://challonge.com/EUChallenge28\" rel=\"nofollow\">EU ARMS Challenge #28</a>,\n",
       "  <a class=\"external text\" href=\"https://challonge.com/EUChallenge29\" rel=\"nofollow\">EU ARMS Challenge #29</a>,\n",
       "  <a class=\"external text\" href=\"https://challonge.com/EUChallenge30\" rel=\"nofollow\">EU ARMS Challenge #30</a>,\n",
       "  <a class=\"external text\" href=\"https://challonge.com/EUAC31\" rel=\"nofollow\">EU ARMS Challenge #31</a>,\n",
       "  <a class=\"external text\" href=\"https://challonge.com/EUChallenge32\" rel=\"nofollow\">EU ARMS Challenge #32</a>,\n",
       "  <a class=\"external text\" href=\"https://challonge.com/EUAC33\" rel=\"nofollow\">EU ARMS Challenge #33</a>,\n",
       "  <a class=\"external text\" href=\"https://challonge.com/EUAC34\" rel=\"nofollow\">EU ARMS Challenge #34</a>,\n",
       "  <a class=\"external text\" href=\"https://challonge.com/EUAC35\" rel=\"nofollow\">EU ARMS Challenge #35</a>,\n",
       "  <a class=\"external text\" href=\"https://challonge.com/EUAC36\" rel=\"nofollow\">EU ARMS Challenge #36</a>,\n",
       "  <a class=\"external text\" href=\"https://challonge.com/EUAC37\" rel=\"nofollow\">EU ARMS Challenge #37</a>,\n",
       "  <a class=\"external text\" href=\"https://challonge.com/EUAC38\" rel=\"nofollow\">EU ARMS Challenge #38</a>,\n",
       "  <a class=\"external text\" href=\"https://challonge.com/EUAC39\" rel=\"nofollow\">EU ARMS Challenge #39</a>,\n",
       "  <a class=\"external text\" href=\"https://challonge.com/EUAC40\" rel=\"nofollow\">EU ARMS Challenge #40</a>,\n",
       "  <a class=\"external text\" href=\"https://challonge.com/EUAC41\" rel=\"nofollow\">EU ARMS Challenge #41</a>,\n",
       "  <a class=\"external text\" href=\"https://challonge.com/EUAC42\" rel=\"nofollow\">EU ARMS Challenge #42</a>,\n",
       "  <a class=\"external text\" href=\"https://challonge.com/EUAC43\" rel=\"nofollow\">EU ARMS Challenge #43</a>,\n",
       "  <a class=\"external text\" href=\"https://challonge.com/EUAC44\" rel=\"nofollow\">EU ARMS Challenge #44</a>,\n",
       "  <a class=\"external text\" href=\"https://challonge.com/EUAC45\" rel=\"nofollow\">EU ARMS Challenge #45</a>,\n",
       "  <a class=\"external text\" href=\"https://challonge.com/EUAC46\" rel=\"nofollow\">EU ARMS Challenge #46</a>,\n",
       "  <a class=\"external text\" href=\"https://challonge.com/EUAC47\" rel=\"nofollow\">EU ARMS Challenge #47</a>,\n",
       "  <a class=\"external text\" href=\"https://challonge.com/EUAC48\" rel=\"nofollow\">EU ARMS Challenge #48</a>,\n",
       "  <a class=\"external text\" href=\"https://challonge.com/EUAC49\" rel=\"nofollow\">EU ARMS Challenge #49</a>,\n",
       "  <a class=\"external text\" href=\"https://challonge.com/EUAC50\" rel=\"nofollow\">EU ARMS Challenge #50</a>,\n",
       "  <a class=\"external text\" href=\"https://challonge.com/EUAC51\" rel=\"nofollow\">EU ARMS Challenge #51</a>,\n",
       "  <a class=\"external text\" href=\"https://challonge.com/EUAC52\" rel=\"nofollow\">EU ARMS Challenge #52</a>,\n",
       "  <a class=\"external text\" href=\"https://challonge.com/EUAC53\" rel=\"nofollow\">EU ARMS Challenge #53</a>,\n",
       "  <a class=\"external text\" href=\"https://challonge.com/EUAC54\" rel=\"nofollow\">EU ARMS Challenge #54</a>,\n",
       "  <a class=\"external text\" href=\"https://challonge.com/EUAC55\" rel=\"nofollow\">EU ARMS Challenge #55</a>,\n",
       "  <a class=\"external text\" href=\"https://challonge.com/EUAC56\" rel=\"nofollow\">EU ARMS Challenge #56</a>,\n",
       "  <a class=\"external text\" href=\"https://challonge.com/EUAC57\" rel=\"nofollow\">EU ARMS Challenge #57</a>,\n",
       "  <a class=\"external text\" href=\"https://challonge.com/EUAC58\" rel=\"nofollow\">EU ARMS Challenge #58</a>,\n",
       "  <a class=\"external text\" href=\"https://challonge.com/EUAC59\" rel=\"nofollow\">EU ARMS Challenge #59</a>,\n",
       "  <a class=\"external text\" href=\"https://challonge.com/EUAC60\" rel=\"nofollow\">EU ARMS Challenge #60</a>,\n",
       "  <a class=\"external text\" href=\"https://challonge.com/EUAC61\" rel=\"nofollow\">EU ARMS Challenge #61</a>,\n",
       "  <a class=\"external text\" href=\"https://challonge.com/EUAC62\" rel=\"nofollow\">EU ARMS Challenge #62</a>,\n",
       "  <a class=\"external text\" href=\"https://challonge.com/EUAC63\" rel=\"nofollow\">EU ARMS Challenge #63</a>,\n",
       "  <a class=\"external text\" href=\"https://challonge.com/EUAC64\" rel=\"nofollow\">EU ARMS Challenge #64</a>,\n",
       "  <a class=\"external text\" href=\"https://challonge.com/EUAC65\" rel=\"nofollow\">EU ARMS Challenge #65</a>,\n",
       "  <a class=\"external text\" href=\"https://challonge.com/EUAC66\" rel=\"nofollow\">EU ARMS Challenge #66</a>,\n",
       "  <a class=\"external text\" href=\"https://challonge.com/EUAC67\" rel=\"nofollow\">EU ARMS Challenge #67</a>,\n",
       "  <a class=\"external text\" href=\"https://challonge.com/EUAC68\" rel=\"nofollow\">EU ARMS Challenge #68</a>,\n",
       "  <a class=\"external text\" href=\"https://challonge.com/EUAC69\" rel=\"nofollow\">EU ARMS Challenge #69</a>,\n",
       "  <a class=\"external text\" href=\"https://challonge.com/EUAC70\" rel=\"nofollow\">EU ARMS Challenge #70</a>,\n",
       "  <a class=\"external text\" href=\"https://challonge.com/EUAC71\" rel=\"nofollow\">EU ARMS Challenge #71</a>,\n",
       "  <a class=\"external text\" href=\"https://challonge.com/EUAC72\" rel=\"nofollow\">EU ARMS Challenge #72</a>,\n",
       "  <a class=\"external text\" href=\"https://challonge.com/EUAC73\" rel=\"nofollow\">EU ARMS Challenge #73</a>,\n",
       "  <a class=\"external text\" href=\"https://challonge.com/EUAC74\" rel=\"nofollow\">EU ARMS Challenge #74</a>,\n",
       "  <a class=\"external text\" href=\"https://challonge.com/EUAC75\" rel=\"nofollow\">EU ARMS Challenge #75</a>,\n",
       "  <a class=\"external text\" href=\"https://challonge.com/EUAC76\" rel=\"nofollow\">EU ARMS Challenge #76</a>,\n",
       "  <a class=\"external text\" href=\"https://challonge.com/EUAC77\" rel=\"nofollow\">EU ARMS Challenge #77</a>,\n",
       "  <a class=\"external text\" href=\"https://challonge.com/EUAC78\" rel=\"nofollow\">EU ARMS Challenge #78</a>,\n",
       "  <a class=\"external text\" href=\"https://challonge.com/EUAC79\" rel=\"nofollow\">EU ARMS Challenge #79</a>,\n",
       "  <a class=\"external text\" href=\"https://challonge.com/EUAC80\" rel=\"nofollow\">EU ARMS Challenge #80</a>,\n",
       "  <a class=\"external text\" href=\"https://challonge.com/EUAC81\" rel=\"nofollow\">EU ARMS Challenge #81</a>,\n",
       "  <a class=\"external text\" href=\"https://challonge.com/EUAC82\" rel=\"nofollow\">EU ARMS Challenge #82</a>,\n",
       "  <a class=\"external text\" href=\"https://challonge.com/EUAC83\" rel=\"nofollow\">EU ARMS Challenge #83</a>,\n",
       "  <a class=\"external text\" href=\"https://challonge.com/EUAC84\" rel=\"nofollow\">EU ARMS Challenge #84</a>,\n",
       "  <a class=\"external text\" href=\"https://challonge.com/EUAC85\" rel=\"nofollow\">EU ARMS Challenge #85</a>,\n",
       "  <a class=\"external text\" href=\"https://challonge.com/EUAC86\" rel=\"nofollow\">EU ARMS Challenge #86</a>,\n",
       "  <a class=\"external text\" href=\"https://challonge.com/EUAC87\" rel=\"nofollow\">EU ARMS Challenge #87</a>,\n",
       "  <a class=\"external text\" href=\"https://challonge.com/EUAC88\" rel=\"nofollow\">EU ARMS Challenge #88</a>,\n",
       "  <a class=\"external text\" href=\"https://challonge.com/EUAC89\" rel=\"nofollow\">EU ARMS Challenge #89</a>,\n",
       "  <a class=\"external text\" href=\"https://challonge.com/EUAC90\" rel=\"nofollow\">EU ARMS Challenge #90</a>,\n",
       "  <a class=\"external text\" href=\"https://challonge.com/EUAC91\" rel=\"nofollow\">EU ARMS Challenge #91</a>,\n",
       "  <a class=\"external text\" href=\"https://challonge.com/EUAC92\" rel=\"nofollow\">EU ARMS Challenge #92</a>,\n",
       "  <a class=\"external text\" href=\"https://challonge.com/EUAC93\" rel=\"nofollow\">EU ARMS Challenge #93</a>,\n",
       "  <a class=\"external text\" href=\"https://challonge.com/EUAC94\" rel=\"nofollow\">EU ARMS Challenge #94</a>,\n",
       "  <a class=\"external text\" href=\"https://challonge.com/EUAC95\" rel=\"nofollow\">EU ARMS Challenge #95</a>,\n",
       "  <a class=\"external text\" href=\"https://challonge.com/EUAC96\" rel=\"nofollow\">EU ARMS Challenge #96</a>,\n",
       "  <a class=\"external text\" href=\"https://challonge.com/EUAC97\" rel=\"nofollow\">EU ARMS Challenge #97</a>,\n",
       "  <a class=\"external text\" href=\"https://challonge.com/EUAC98\" rel=\"nofollow\">EU ARMS Challenge #98</a>,\n",
       "  <a class=\"external text\" href=\"https://challonge.com/EUAC99\" rel=\"nofollow\">EU ARMS Challenge #99</a>,\n",
       "  <a class=\"external text\" href=\"https://challonge.com/EUAC100\" rel=\"nofollow\">EU ARMS Challenge #100</a>,\n",
       "  <a class=\"external text\" href=\"https://challonge.com/EUAC101\" rel=\"nofollow\">EU ARMS Challenge #101</a>,\n",
       "  <a class=\"external text\" href=\"https://challonge.com/EUAC102\" rel=\"nofollow\">EU ARMS Challenge #102</a>,\n",
       "  <a class=\"external text\" href=\"https://challonge.com/EUAC103\" rel=\"nofollow\">EU ARMS Challenge #103</a>,\n",
       "  <a class=\"external text\" href=\"https://challonge.com/EUAC104\" rel=\"nofollow\">EU ARMS Challenge #104</a>,\n",
       "  <a class=\"external text\" href=\"https://challonge.com/EUAC105\" rel=\"nofollow\">EU ARMS Challenge #105</a>,\n",
       "  <a class=\"external text\" href=\"https://challonge.com/EUAC106\" rel=\"nofollow\">EU ARMS Challenge #106</a>,\n",
       "  <a class=\"external text\" href=\"https://challonge.com/EUAC107\" rel=\"nofollow\">EU ARMS Challenge #107</a>,\n",
       "  <a class=\"external text\" href=\"https://challonge.com/EUACPVW\" rel=\"nofollow\">EU ARMS Challenge - Pre Vortex Workout</a>,\n",
       "  <a class=\"external text\" href=\"https://challonge.com/EUAC108\" rel=\"nofollow\">EU ARMS Challenge #108</a>,\n",
       "  <a class=\"external text\" href=\"https://challonge.com/EUAC109\" rel=\"nofollow\">EU ARMS Challenge #109</a>,\n",
       "  <a class=\"external text\" href=\"https://challonge.com/EUAC110\" rel=\"nofollow\">EU ARMS Challenge #110</a>,\n",
       "  <a class=\"external text\" href=\"https://www.youtube.com/playlist?list=PLlCNDwn0SE2fgA35LnSo_taArY9Sea5Nk\" rel=\"nofollow\">EU ARMS Challenge #22 Playlist</a>,\n",
       "  <a class=\"external text\" href=\"https://www.youtube.com/playlist?list=PLlCNDwn0SE2dMTRPgylOOij2H67xp0APh\" rel=\"nofollow\">EU ARMS Challenge #23 Playlist</a>,\n",
       "  <a class=\"external text\" href=\"https://www.youtube.com/playlist?list=PLlCNDwn0SE2fcl28PGRWESTN5l67lf-X7\" rel=\"nofollow\">EU ARMS Challenge #24 Playlist</a>,\n",
       "  <a class=\"external text\" href=\"https://www.youtube.com/playlist?list=PLlCNDwn0SE2cAs4uzsRFH7U5oF81tw_AU\" rel=\"nofollow\">EU ARMS Challenge #25 Playlist</a>,\n",
       "  <a class=\"external text\" href=\"https://www.youtube.com/playlist?list=PLlCNDwn0SE2eJBsGSGjpLNgpvcFxP0Dbl\" rel=\"nofollow\">EU ARMS Challenge #26 Playlist</a>,\n",
       "  <a class=\"external text\" href=\"https://www.youtube.com/playlist?list=PLlCNDwn0SE2euCEtJVxip_6cjRftegRCf\" rel=\"nofollow\">EU ARMS Challenge #27 Playlist</a>,\n",
       "  <a class=\"external text\" href=\"https://www.youtube.com/playlist?list=PLlCNDwn0SE2fStusxalsWcMpae5kpDmXw\" rel=\"nofollow\">EU ARMS Challenge #29 Playlist</a>,\n",
       "  <a class=\"external text\" href=\"https://www.twitch.tv/videos/908673111\" rel=\"nofollow\">EU ARMS Challenge #65 Full VOD</a>]]"
      ]
     },
     "execution_count": 342,
     "metadata": {},
     "output_type": "execute_result"
    }
   ],
   "source": [
    "tournamentArray"
   ]
  },
  {
   "cell_type": "markdown",
   "id": "389829f4",
   "metadata": {},
   "source": [
    "A list of lists in a list... Could have done this another way"
   ]
  },
  {
   "cell_type": "code",
   "execution_count": 343,
   "id": "afca821b",
   "metadata": {},
   "outputs": [],
   "source": [
    "linkArray = []\n",
    "for links in tournamentArray:\n",
    "    for link in links:\n",
    "        linkArray.append(link[\"href\"]) # Extract only the href tag (the link)"
   ]
  },
  {
   "cell_type": "code",
   "execution_count": 344,
   "id": "a17efce4",
   "metadata": {
    "scrolled": true
   },
   "outputs": [
    {
     "data": {
      "text/plain": [
       "['https://smash.gg/tournament/eu-arms-challenge-1/details',\n",
       " 'https://challonge.com/EUCHALLLENGE2',\n",
       " 'https://challonge.com/EUCHALLLENGE3',\n",
       " 'https://challonge.com/EUCHALLENGE4_Europe',\n",
       " 'https://challonge.com/EUChallenge5',\n",
       " 'https://challonge.com/EUChallenge6',\n",
       " 'https://challonge.com/EUChallenge7',\n",
       " 'https://challonge.com/EUChallenge8',\n",
       " 'https://challonge.com/EUChallenge9',\n",
       " 'https://challonge.com/EUChallenge10',\n",
       " 'https://challonge.com/EUChallenge11',\n",
       " 'https://challonge.com/EUChallenge12',\n",
       " 'https://challonge.com/EUChallenge13',\n",
       " 'https://challonge.com/EUChallenge14',\n",
       " 'https://challonge.com/EUChallenge15',\n",
       " 'https://challonge.com/EUChallenge16',\n",
       " 'https://challonge.com/EUChallenge17',\n",
       " 'https://challonge.com/EUChallenge18',\n",
       " 'https://challonge.com/EUChallenge19',\n",
       " 'https://challonge.com/EUChallenge20',\n",
       " 'https://challonge.com/EUChallenge21',\n",
       " 'https://challonge.com/EUChallenge22',\n",
       " 'https://challonge.com/EUChallenge23',\n",
       " 'https://challonge.com/EUChallenge24',\n",
       " 'https://challonge.com/EUChallenge25',\n",
       " 'https://challonge.com/EUChallenge26',\n",
       " 'https://challonge.com/EUChallenge27',\n",
       " 'https://challonge.com/EUChallenge28',\n",
       " 'https://challonge.com/EUChallenge29',\n",
       " 'https://challonge.com/EUChallenge30',\n",
       " 'https://challonge.com/EUAC31',\n",
       " 'https://challonge.com/EUChallenge32',\n",
       " 'https://challonge.com/EUAC33',\n",
       " 'https://challonge.com/EUAC34',\n",
       " 'https://challonge.com/EUAC35',\n",
       " 'https://challonge.com/EUAC36',\n",
       " 'https://challonge.com/EUAC37',\n",
       " 'https://challonge.com/EUAC38',\n",
       " 'https://challonge.com/EUAC39',\n",
       " 'https://challonge.com/EUAC40',\n",
       " 'https://challonge.com/EUAC41',\n",
       " 'https://challonge.com/EUAC42',\n",
       " 'https://challonge.com/EUAC43',\n",
       " 'https://challonge.com/EUAC44',\n",
       " 'https://challonge.com/EUAC45',\n",
       " 'https://challonge.com/EUAC46',\n",
       " 'https://challonge.com/EUAC47',\n",
       " 'https://challonge.com/EUAC48',\n",
       " 'https://challonge.com/EUAC49',\n",
       " 'https://challonge.com/EUAC50',\n",
       " 'https://challonge.com/EUAC51',\n",
       " 'https://challonge.com/EUAC52',\n",
       " 'https://challonge.com/EUAC53',\n",
       " 'https://challonge.com/EUAC54',\n",
       " 'https://challonge.com/EUAC55',\n",
       " 'https://challonge.com/EUAC56',\n",
       " 'https://challonge.com/EUAC57',\n",
       " 'https://challonge.com/EUAC58',\n",
       " 'https://challonge.com/EUAC59',\n",
       " 'https://challonge.com/EUAC60',\n",
       " 'https://challonge.com/EUAC61',\n",
       " 'https://challonge.com/EUAC62',\n",
       " 'https://challonge.com/EUAC63',\n",
       " 'https://challonge.com/EUAC64',\n",
       " 'https://challonge.com/EUAC65',\n",
       " 'https://challonge.com/EUAC66',\n",
       " 'https://challonge.com/EUAC67',\n",
       " 'https://challonge.com/EUAC68',\n",
       " 'https://challonge.com/EUAC69',\n",
       " 'https://challonge.com/EUAC70',\n",
       " 'https://challonge.com/EUAC71',\n",
       " 'https://challonge.com/EUAC72',\n",
       " 'https://challonge.com/EUAC73',\n",
       " 'https://challonge.com/EUAC74',\n",
       " 'https://challonge.com/EUAC75',\n",
       " 'https://challonge.com/EUAC76',\n",
       " 'https://challonge.com/EUAC77',\n",
       " 'https://challonge.com/EUAC78',\n",
       " 'https://challonge.com/EUAC79',\n",
       " 'https://challonge.com/EUAC80',\n",
       " 'https://challonge.com/EUAC81',\n",
       " 'https://challonge.com/EUAC82',\n",
       " 'https://challonge.com/EUAC83',\n",
       " 'https://challonge.com/EUAC84',\n",
       " 'https://challonge.com/EUAC85',\n",
       " 'https://challonge.com/EUAC86',\n",
       " 'https://challonge.com/EUAC87',\n",
       " 'https://challonge.com/EUAC88',\n",
       " 'https://challonge.com/EUAC89',\n",
       " 'https://challonge.com/EUAC90',\n",
       " 'https://challonge.com/EUAC91',\n",
       " 'https://challonge.com/EUAC92',\n",
       " 'https://challonge.com/EUAC93',\n",
       " 'https://challonge.com/EUAC94',\n",
       " 'https://challonge.com/EUAC95',\n",
       " 'https://challonge.com/EUAC96',\n",
       " 'https://challonge.com/EUAC97',\n",
       " 'https://challonge.com/EUAC98',\n",
       " 'https://challonge.com/EUAC99',\n",
       " 'https://challonge.com/EUAC100',\n",
       " 'https://challonge.com/EUAC101',\n",
       " 'https://challonge.com/EUAC102',\n",
       " 'https://challonge.com/EUAC103',\n",
       " 'https://challonge.com/EUAC104',\n",
       " 'https://challonge.com/EUAC105',\n",
       " 'https://challonge.com/EUAC106',\n",
       " 'https://challonge.com/EUAC107',\n",
       " 'https://challonge.com/EUACPVW',\n",
       " 'https://challonge.com/EUAC108',\n",
       " 'https://challonge.com/EUAC109',\n",
       " 'https://challonge.com/EUAC110',\n",
       " 'https://www.youtube.com/playlist?list=PLlCNDwn0SE2fgA35LnSo_taArY9Sea5Nk',\n",
       " 'https://www.youtube.com/playlist?list=PLlCNDwn0SE2dMTRPgylOOij2H67xp0APh',\n",
       " 'https://www.youtube.com/playlist?list=PLlCNDwn0SE2fcl28PGRWESTN5l67lf-X7',\n",
       " 'https://www.youtube.com/playlist?list=PLlCNDwn0SE2cAs4uzsRFH7U5oF81tw_AU',\n",
       " 'https://www.youtube.com/playlist?list=PLlCNDwn0SE2eJBsGSGjpLNgpvcFxP0Dbl',\n",
       " 'https://www.youtube.com/playlist?list=PLlCNDwn0SE2euCEtJVxip_6cjRftegRCf',\n",
       " 'https://www.youtube.com/playlist?list=PLlCNDwn0SE2fStusxalsWcMpae5kpDmXw',\n",
       " 'https://www.twitch.tv/videos/908673111']"
      ]
     },
     "execution_count": 344,
     "metadata": {},
     "output_type": "execute_result"
    }
   ],
   "source": [
    "linkArray"
   ]
  },
  {
   "cell_type": "code",
   "execution_count": 345,
   "id": "dedb745c",
   "metadata": {},
   "outputs": [],
   "source": [
    "# Remove non-challonge links\n",
    "\n",
    "challongeArray = []\n",
    "\n",
    "for links in linkArray:\n",
    "    if \"challonge\" in links:\n",
    "        challongeArray.append(links)"
   ]
  },
  {
   "cell_type": "code",
   "execution_count": 346,
   "id": "4006616d",
   "metadata": {
    "scrolled": true
   },
   "outputs": [
    {
     "data": {
      "text/plain": [
       "['https://challonge.com/EUCHALLLENGE2',\n",
       " 'https://challonge.com/EUCHALLLENGE3',\n",
       " 'https://challonge.com/EUCHALLENGE4_Europe',\n",
       " 'https://challonge.com/EUChallenge5',\n",
       " 'https://challonge.com/EUChallenge6',\n",
       " 'https://challonge.com/EUChallenge7',\n",
       " 'https://challonge.com/EUChallenge8',\n",
       " 'https://challonge.com/EUChallenge9',\n",
       " 'https://challonge.com/EUChallenge10',\n",
       " 'https://challonge.com/EUChallenge11',\n",
       " 'https://challonge.com/EUChallenge12',\n",
       " 'https://challonge.com/EUChallenge13',\n",
       " 'https://challonge.com/EUChallenge14',\n",
       " 'https://challonge.com/EUChallenge15',\n",
       " 'https://challonge.com/EUChallenge16',\n",
       " 'https://challonge.com/EUChallenge17',\n",
       " 'https://challonge.com/EUChallenge18',\n",
       " 'https://challonge.com/EUChallenge19',\n",
       " 'https://challonge.com/EUChallenge20',\n",
       " 'https://challonge.com/EUChallenge21',\n",
       " 'https://challonge.com/EUChallenge22',\n",
       " 'https://challonge.com/EUChallenge23',\n",
       " 'https://challonge.com/EUChallenge24',\n",
       " 'https://challonge.com/EUChallenge25',\n",
       " 'https://challonge.com/EUChallenge26',\n",
       " 'https://challonge.com/EUChallenge27',\n",
       " 'https://challonge.com/EUChallenge28',\n",
       " 'https://challonge.com/EUChallenge29',\n",
       " 'https://challonge.com/EUChallenge30',\n",
       " 'https://challonge.com/EUAC31',\n",
       " 'https://challonge.com/EUChallenge32',\n",
       " 'https://challonge.com/EUAC33',\n",
       " 'https://challonge.com/EUAC34',\n",
       " 'https://challonge.com/EUAC35',\n",
       " 'https://challonge.com/EUAC36',\n",
       " 'https://challonge.com/EUAC37',\n",
       " 'https://challonge.com/EUAC38',\n",
       " 'https://challonge.com/EUAC39',\n",
       " 'https://challonge.com/EUAC40',\n",
       " 'https://challonge.com/EUAC41',\n",
       " 'https://challonge.com/EUAC42',\n",
       " 'https://challonge.com/EUAC43',\n",
       " 'https://challonge.com/EUAC44',\n",
       " 'https://challonge.com/EUAC45',\n",
       " 'https://challonge.com/EUAC46',\n",
       " 'https://challonge.com/EUAC47',\n",
       " 'https://challonge.com/EUAC48',\n",
       " 'https://challonge.com/EUAC49',\n",
       " 'https://challonge.com/EUAC50',\n",
       " 'https://challonge.com/EUAC51',\n",
       " 'https://challonge.com/EUAC52',\n",
       " 'https://challonge.com/EUAC53',\n",
       " 'https://challonge.com/EUAC54',\n",
       " 'https://challonge.com/EUAC55',\n",
       " 'https://challonge.com/EUAC56',\n",
       " 'https://challonge.com/EUAC57',\n",
       " 'https://challonge.com/EUAC58',\n",
       " 'https://challonge.com/EUAC59',\n",
       " 'https://challonge.com/EUAC60',\n",
       " 'https://challonge.com/EUAC61',\n",
       " 'https://challonge.com/EUAC62',\n",
       " 'https://challonge.com/EUAC63',\n",
       " 'https://challonge.com/EUAC64',\n",
       " 'https://challonge.com/EUAC65',\n",
       " 'https://challonge.com/EUAC66',\n",
       " 'https://challonge.com/EUAC67',\n",
       " 'https://challonge.com/EUAC68',\n",
       " 'https://challonge.com/EUAC69',\n",
       " 'https://challonge.com/EUAC70',\n",
       " 'https://challonge.com/EUAC71',\n",
       " 'https://challonge.com/EUAC72',\n",
       " 'https://challonge.com/EUAC73',\n",
       " 'https://challonge.com/EUAC74',\n",
       " 'https://challonge.com/EUAC75',\n",
       " 'https://challonge.com/EUAC76',\n",
       " 'https://challonge.com/EUAC77',\n",
       " 'https://challonge.com/EUAC78',\n",
       " 'https://challonge.com/EUAC79',\n",
       " 'https://challonge.com/EUAC80',\n",
       " 'https://challonge.com/EUAC81',\n",
       " 'https://challonge.com/EUAC82',\n",
       " 'https://challonge.com/EUAC83',\n",
       " 'https://challonge.com/EUAC84',\n",
       " 'https://challonge.com/EUAC85',\n",
       " 'https://challonge.com/EUAC86',\n",
       " 'https://challonge.com/EUAC87',\n",
       " 'https://challonge.com/EUAC88',\n",
       " 'https://challonge.com/EUAC89',\n",
       " 'https://challonge.com/EUAC90',\n",
       " 'https://challonge.com/EUAC91',\n",
       " 'https://challonge.com/EUAC92',\n",
       " 'https://challonge.com/EUAC93',\n",
       " 'https://challonge.com/EUAC94',\n",
       " 'https://challonge.com/EUAC95',\n",
       " 'https://challonge.com/EUAC96',\n",
       " 'https://challonge.com/EUAC97',\n",
       " 'https://challonge.com/EUAC98',\n",
       " 'https://challonge.com/EUAC99',\n",
       " 'https://challonge.com/EUAC100',\n",
       " 'https://challonge.com/EUAC101',\n",
       " 'https://challonge.com/EUAC102',\n",
       " 'https://challonge.com/EUAC103',\n",
       " 'https://challonge.com/EUAC104',\n",
       " 'https://challonge.com/EUAC105',\n",
       " 'https://challonge.com/EUAC106',\n",
       " 'https://challonge.com/EUAC107',\n",
       " 'https://challonge.com/EUACPVW',\n",
       " 'https://challonge.com/EUAC108',\n",
       " 'https://challonge.com/EUAC109',\n",
       " 'https://challonge.com/EUAC110']"
      ]
     },
     "execution_count": 346,
     "metadata": {},
     "output_type": "execute_result"
    }
   ],
   "source": [
    "challongeArray"
   ]
  },
  {
   "cell_type": "markdown",
   "id": "57bc8658",
   "metadata": {},
   "source": [
    "#### 3.2.2.2 - Challonge API Exploration\n",
    "\n",
    "Section for loading api keys and interacting with the API to figure out how to collect the data"
   ]
  },
  {
   "cell_type": "code",
   "execution_count": 347,
   "id": "97df2669",
   "metadata": {},
   "outputs": [],
   "source": [
    "# Load API Keys from .env file\n",
    "API_KEY = os.getenv(\"API_KEY\")\n",
    "API_SECRET = os.getenv(\"API_SECRET\")"
   ]
  },
  {
   "cell_type": "code",
   "execution_count": 348,
   "id": "19dcec58",
   "metadata": {},
   "outputs": [],
   "source": [
    "import challonge\n",
    "\n",
    "# Tell pychallonge about your [CHALLONGE! API credentials](http://api.challonge.com/v1).\n",
    "challonge.set_credentials(API_KEY, API_SECRET)"
   ]
  },
  {
   "cell_type": "code",
   "execution_count": 349,
   "id": "265c0394",
   "metadata": {
    "scrolled": true
   },
   "outputs": [
    {
     "name": "stdout",
     "output_type": "stream",
     "text": [
      "['ChallongeException', '__builtins__', '__cached__', '__doc__', '__file__', '__loader__', '__name__', '__package__', '__path__', '__spec__', 'api', 'attachments', 'fetch', 'get_credentials', 'get_timezone', 'matches', 'participants', 'set_credentials', 'set_timezone', 'set_user_agent', 'tournaments']\n"
     ]
    }
   ],
   "source": [
    "# See available methods\n",
    "methods_and_attributes = dir(challonge)\n",
    "print(methods_and_attributes)"
   ]
  },
  {
   "cell_type": "code",
   "execution_count": 350,
   "id": "cffccf15",
   "metadata": {},
   "outputs": [],
   "source": [
    "# Retrieve a tournament by its id (or its url).\n",
    "tournament = challonge.tournaments.show(challongeArray[0].split(\"/\")[-1]) # Requires only URL slug"
   ]
  },
  {
   "cell_type": "code",
   "execution_count": 351,
   "id": "60cbb4f2",
   "metadata": {
    "scrolled": true
   },
   "outputs": [
    {
     "data": {
      "text/plain": [
       "{'id': 3973078,\n",
       " 'name': 'EU ARMS Challenge #2',\n",
       " 'url': 'EUCHALLLENGE2',\n",
       " 'description': '<p><span style=\"background-color: rgb(39, 42, 51);\">Tournament hosted by EUARMSCompetitve\\xa0Discord!</span></p><p><span style=\"background-color: rgb(39, 42, 51);\">The tournament is EU exclusive, meaning anyone outside of EU can\\'t participate.</span></p><p>If we get 32+ participants the winner of the tournament will get a\\xa0Nintendo eShop Card 15 €!</p><p><span style=\"background-color: rgb(39, 42, 51);\"><br>You must be part of the EU ARMS discord in order to participate and coordinate your matchups\\xa0</span><span style=\"background-color: rgb(39, 42, 51);\">\\xa0</span>https://discord.gg/W486K28</p><p>Rules:\\xa0\\xa0https://goo.gl/PkXDZo<br><br></p>',\n",
       " 'tournament_type': 'double elimination',\n",
       " 'started_at': datetime.datetime(2017, 11, 12, 14, 7, 13, 162000, tzinfo=<DstTzInfo 'Europe/London' GMT0:00:00 STD>),\n",
       " 'completed_at': datetime.datetime(2017, 11, 12, 17, 22, 0, 232000, tzinfo=<DstTzInfo 'Europe/London' GMT0:00:00 STD>),\n",
       " 'require_score_agreement': False,\n",
       " 'notify_users_when_matches_open': True,\n",
       " 'created_at': datetime.datetime(2017, 11, 4, 16, 52, 9, 732000, tzinfo=<DstTzInfo 'Europe/London' GMT0:00:00 STD>),\n",
       " 'updated_at': datetime.datetime(2017, 11, 12, 17, 22, 2, 358000, tzinfo=<DstTzInfo 'Europe/London' GMT0:00:00 STD>),\n",
       " 'state': 'complete',\n",
       " 'open_signup': True,\n",
       " 'notify_users_when_the_tournament_ends': True,\n",
       " 'progress_meter': 100,\n",
       " 'quick_advance': False,\n",
       " 'hold_third_place_match': False,\n",
       " 'pts_for_game_win': 0.0,\n",
       " 'pts_for_game_tie': 0.0,\n",
       " 'pts_for_match_win': 1.0,\n",
       " 'pts_for_match_tie': 0.5,\n",
       " 'pts_for_bye': 1.0,\n",
       " 'swiss_rounds': 0,\n",
       " 'private': False,\n",
       " 'ranked_by': 'match wins',\n",
       " 'show_rounds': True,\n",
       " 'hide_forum': False,\n",
       " 'sequential_pairings': False,\n",
       " 'accept_attachments': False,\n",
       " 'rr_pts_for_game_win': 0.0,\n",
       " 'rr_pts_for_game_tie': 0.0,\n",
       " 'rr_pts_for_match_win': 1.0,\n",
       " 'rr_pts_for_match_tie': 0.5,\n",
       " 'created_by_api': False,\n",
       " 'credit_capped': False,\n",
       " 'category': None,\n",
       " 'hide_seeds': False,\n",
       " 'prediction_method': 0,\n",
       " 'predictions_opened_at': None,\n",
       " 'anonymous_voting': False,\n",
       " 'max_predictions_per_user': 1,\n",
       " 'signup_cap': None,\n",
       " 'game_id': 46860,\n",
       " 'participants_count': 17,\n",
       " 'group_stages_enabled': False,\n",
       " 'allow_participant_match_reporting': True,\n",
       " 'teams': False,\n",
       " 'check_in_duration': 30,\n",
       " 'start_at': datetime.datetime(2017, 11, 12, 14, 0, tzinfo=<DstTzInfo 'Europe/London' GMT0:00:00 STD>),\n",
       " 'started_checking_in_at': datetime.datetime(2017, 11, 12, 13, 30, 2, 786000, tzinfo=<DstTzInfo 'Europe/London' GMT0:00:00 STD>),\n",
       " 'tie_breaks': ['match wins vs tied', 'game wins', 'points scored'],\n",
       " 'locked_at': None,\n",
       " 'event_id': None,\n",
       " 'public_predictions_before_start_time': False,\n",
       " 'ranked': False,\n",
       " 'grand_finals_modifier': None,\n",
       " 'predict_the_losers_bracket': False,\n",
       " 'spam': False,\n",
       " 'ham': None,\n",
       " 'rr_iterations': 1,\n",
       " 'tournament_registration_id': None,\n",
       " 'donation_contest_enabled': None,\n",
       " 'mandatory_donation': None,\n",
       " 'non_elimination_tournament_data': {},\n",
       " 'auto_assign_stations': None,\n",
       " 'only_start_matches_with_stations': None,\n",
       " 'registration_fee': 0.0,\n",
       " 'registration_type': 'free',\n",
       " 'split_participants': False,\n",
       " 'allowed_regions': None,\n",
       " 'show_participant_country': None,\n",
       " 'program_id': None,\n",
       " 'program_classification_ids_allowed': None,\n",
       " 'team_size_range': None,\n",
       " 'toxic': None,\n",
       " 'use_new_style': None,\n",
       " 'optional_display_data': {'show_standings': '1', 'show_announcements': True},\n",
       " 'processing': None,\n",
       " 'oauth_application_id': None,\n",
       " 'hide_bracket_preview': None,\n",
       " 'consolation_matches_target_rank': None,\n",
       " 'review_swiss_pairings_before_starting_rounds': None,\n",
       " 'allow_incomplete_rosters': None,\n",
       " 'check_in_onsite': None,\n",
       " 'description_source': '<p><span style=\"background-color: rgb(39, 42, 51);\">Tournament hosted by EUARMSCompetitve\\xa0Discord!</span></p><p><span style=\"background-color: rgb(39, 42, 51);\">The tournament is EU exclusive, meaning anyone outside of EU can\\'t participate.</span></p><p>If we get 32+ participants the winner of the tournament will get a\\xa0Nintendo eShop Card 15 €!</p><p><span style=\"background-color: rgb(39, 42, 51);\"><br>You must be part of the EU ARMS discord in order to participate and coordinate your matchups\\xa0</span><span style=\"background-color: rgb(39, 42, 51);\">\\xa0</span>https://discord.gg/W486K28</p><p>Rules:\\xa0\\xa0https://goo.gl/PkXDZo<br><br></p>',\n",
       " 'subdomain': None,\n",
       " 'full_challonge_url': 'https://challonge.com/EUCHALLLENGE2',\n",
       " 'live_image_url': 'https://challonge.com/EUCHALLLENGE2.svg',\n",
       " 'sign_up_url': 'https://challonge.com/tournaments/signup/b8zhEIvOXZ',\n",
       " 'review_before_finalizing': True,\n",
       " 'accepting_predictions': False,\n",
       " 'participants_locked': True,\n",
       " 'game_name': 'Arms',\n",
       " 'participants_swappable': False,\n",
       " 'team_convertable': False,\n",
       " 'group_stages_were_started': False}"
      ]
     },
     "execution_count": 351,
     "metadata": {},
     "output_type": "execute_result"
    }
   ],
   "source": [
    "tournament"
   ]
  },
  {
   "cell_type": "code",
   "execution_count": 352,
   "id": "c05df19f",
   "metadata": {},
   "outputs": [],
   "source": [
    "matches = challonge.matches.index(tournament[\"id\"])"
   ]
  },
  {
   "cell_type": "code",
   "execution_count": 353,
   "id": "d42d59bc",
   "metadata": {
    "scrolled": true
   },
   "outputs": [
    {
     "data": {
      "text/plain": [
       "{'id': 103347707,\n",
       " 'tournament_id': 3973078,\n",
       " 'state': 'complete',\n",
       " 'player1_id': 64282703,\n",
       " 'player2_id': 64283849,\n",
       " 'player1_prereq_match_id': None,\n",
       " 'player2_prereq_match_id': None,\n",
       " 'player1_is_prereq_match_loser': False,\n",
       " 'player2_is_prereq_match_loser': False,\n",
       " 'winner_id': 64283849,\n",
       " 'loser_id': 64282703,\n",
       " 'started_at': datetime.datetime(2017, 11, 12, 14, 7, 13, 287000, tzinfo=<DstTzInfo 'Europe/London' GMT0:00:00 STD>),\n",
       " 'created_at': datetime.datetime(2017, 11, 12, 14, 7, 12, 863000, tzinfo=<DstTzInfo 'Europe/London' GMT0:00:00 STD>),\n",
       " 'updated_at': datetime.datetime(2017, 11, 12, 14, 21, 3, 299000, tzinfo=<DstTzInfo 'Europe/London' GMT0:00:00 STD>),\n",
       " 'identifier': 'A',\n",
       " 'has_attachment': False,\n",
       " 'round': 1,\n",
       " 'player1_votes': None,\n",
       " 'player2_votes': None,\n",
       " 'group_id': None,\n",
       " 'attachment_count': None,\n",
       " 'scheduled_time': None,\n",
       " 'location': None,\n",
       " 'underway_at': None,\n",
       " 'optional': False,\n",
       " 'completed_at': datetime.datetime(2017, 11, 12, 14, 21, 3, 433000, tzinfo=<DstTzInfo 'Europe/London' GMT0:00:00 STD>),\n",
       " 'suggested_play_order': 1,\n",
       " 'forfeited': None,\n",
       " 'open_graph_image_file_name': None,\n",
       " 'open_graph_image_content_type': None,\n",
       " 'open_graph_image_file_size': None,\n",
       " 'prerequisite_match_ids_csv': '',\n",
       " 'scores_csv': '0-2'}"
      ]
     },
     "execution_count": 353,
     "metadata": {},
     "output_type": "execute_result"
    }
   ],
   "source": [
    "matches[0]"
   ]
  },
  {
   "cell_type": "markdown",
   "id": "cae3dec4",
   "metadata": {},
   "source": [
    "Match stores the players' ids. The winner id, loser id, score"
   ]
  },
  {
   "cell_type": "code",
   "execution_count": 354,
   "id": "d7edbbd9",
   "metadata": {},
   "outputs": [],
   "source": [
    "# Retrieve the participants for a given tournament.\n",
    "participants = challonge.participants.index(tournament[\"id\"])"
   ]
  },
  {
   "cell_type": "code",
   "execution_count": 355,
   "id": "03caaaa0",
   "metadata": {},
   "outputs": [
    {
     "data": {
      "text/plain": [
       "{'id': 63926376,\n",
       " 'tournament_id': 3973078,\n",
       " 'name': '',\n",
       " 'seed': 1,\n",
       " 'active': True,\n",
       " 'created_at': datetime.datetime(2017, 11, 5, 12, 9, 29, 690000, tzinfo=<DstTzInfo 'Europe/London' GMT0:00:00 STD>),\n",
       " 'updated_at': datetime.datetime(2017, 11, 5, 12, 9, 29, 690000, tzinfo=<DstTzInfo 'Europe/London' GMT0:00:00 STD>),\n",
       " 'invite_email': None,\n",
       " 'final_rank': 5,\n",
       " 'misc': None,\n",
       " 'icon': None,\n",
       " 'on_waiting_list': False,\n",
       " 'invitation_id': None,\n",
       " 'group_id': None,\n",
       " 'checked_in_at': datetime.datetime(2017, 11, 12, 13, 39, 2, 915000, tzinfo=<DstTzInfo 'Europe/London' GMT0:00:00 STD>),\n",
       " 'ranked_member_id': None,\n",
       " 'custom_field_response': None,\n",
       " 'clinch': None,\n",
       " 'integration_uids': None,\n",
       " 'challonge_username': 'InkA_',\n",
       " 'challonge_user_id': 1902903,\n",
       " 'challonge_email_address_verified': True,\n",
       " 'removable': False,\n",
       " 'participatable_or_invitation_attached': True,\n",
       " 'confirm_remove': True,\n",
       " 'invitation_pending': False,\n",
       " 'display_name_with_invitation_email_address': 'InkA_',\n",
       " 'email_hash': 'f1dcf32d96b8500da7416adcc719e51a',\n",
       " 'username': 'InkA_',\n",
       " 'display_name': 'InkA_',\n",
       " 'attached_participatable_portrait_url': 'https://s3.amazonaws.com/challonge_app/users/images/001/902/903/xlarge/JPEG_20180204_095942.png',\n",
       " 'can_check_in': False,\n",
       " 'checked_in': True,\n",
       " 'reactivatable': False,\n",
       " 'check_in_open': False,\n",
       " 'group_player_ids': [],\n",
       " 'has_irrelevant_seed': False,\n",
       " 'ordinal_seed': '1st',\n",
       " 'roster_complete': None,\n",
       " 'roster_size': None}"
      ]
     },
     "execution_count": 355,
     "metadata": {},
     "output_type": "execute_result"
    }
   ],
   "source": [
    "participants[0]"
   ]
  },
  {
   "cell_type": "markdown",
   "id": "48403183",
   "metadata": {},
   "source": [
    "Participants stores a player's name, username, seed, challonge id, and tournament player id"
   ]
  },
  {
   "cell_type": "code",
   "execution_count": 356,
   "id": "17d3a744",
   "metadata": {},
   "outputs": [
    {
     "name": "stdout",
     "output_type": "stream",
     "text": [
      "17\n"
     ]
    }
   ],
   "source": [
    "print(len(participants))"
   ]
  },
  {
   "cell_type": "code",
   "execution_count": 357,
   "id": "4dc4ec0e",
   "metadata": {
    "scrolled": true
   },
   "outputs": [
    {
     "data": {
      "text/plain": [
       "{'id': 64282712,\n",
       " 'tournament_id': 3973078,\n",
       " 'name': '',\n",
       " 'seed': 17,\n",
       " 'active': False,\n",
       " 'created_at': datetime.datetime(2017, 11, 12, 11, 30, 59, 551000, tzinfo=<DstTzInfo 'Europe/London' GMT0:00:00 STD>),\n",
       " 'updated_at': datetime.datetime(2017, 11, 12, 11, 30, 59, 551000, tzinfo=<DstTzInfo 'Europe/London' GMT0:00:00 STD>),\n",
       " 'invite_email': None,\n",
       " 'final_rank': None,\n",
       " 'misc': None,\n",
       " 'icon': None,\n",
       " 'on_waiting_list': False,\n",
       " 'invitation_id': None,\n",
       " 'group_id': None,\n",
       " 'checked_in_at': None,\n",
       " 'ranked_member_id': None,\n",
       " 'custom_field_response': None,\n",
       " 'clinch': None,\n",
       " 'integration_uids': None,\n",
       " 'challonge_username': 'ThatD',\n",
       " 'challonge_user_id': 2532908,\n",
       " 'challonge_email_address_verified': False,\n",
       " 'removable': False,\n",
       " 'participatable_or_invitation_attached': True,\n",
       " 'confirm_remove': True,\n",
       " 'invitation_pending': False,\n",
       " 'display_name_with_invitation_email_address': 'ThatD',\n",
       " 'email_hash': '54e045ca1ed55fe5d90d1a4c6980a9db',\n",
       " 'username': 'ThatD',\n",
       " 'display_name': 'ThatD',\n",
       " 'attached_participatable_portrait_url': 'https://secure.gravatar.com/avatar/676c6748e7489c7655e33c901f3614d2?r=r&s=96&d=https://s3.amazonaws.com/challonge_app/misc/challonge_fireball_gray.png',\n",
       " 'can_check_in': False,\n",
       " 'checked_in': False,\n",
       " 'reactivatable': False,\n",
       " 'check_in_open': False,\n",
       " 'group_player_ids': [],\n",
       " 'has_irrelevant_seed': True,\n",
       " 'ordinal_seed': '17th',\n",
       " 'roster_complete': None,\n",
       " 'roster_size': None}"
      ]
     },
     "execution_count": 357,
     "metadata": {},
     "output_type": "execute_result"
    }
   ],
   "source": [
    "participants[-1]"
   ]
  },
  {
   "cell_type": "markdown",
   "id": "a42d5fc3",
   "metadata": {},
   "source": [
    "Also stores participants who signed up but did not check-in. Meaning they did not participate in the tournament <br>\n",
    "Denoted by \"checked_in = False\" and \"active = False\""
   ]
  },
  {
   "cell_type": "markdown",
   "id": "c315685b",
   "metadata": {},
   "source": [
    "Players in a \"match\" only have their player id instead of their name or challonge id."
   ]
  },
  {
   "cell_type": "code",
   "execution_count": 358,
   "id": "8de7115c",
   "metadata": {
    "scrolled": true
   },
   "outputs": [
    {
     "data": {
      "text/plain": [
       "'86-101'"
      ]
     },
     "execution_count": 358,
     "metadata": {},
     "output_type": "execute_result"
    }
   ],
   "source": [
    "matches[17][\"scores_csv\"]"
   ]
  },
  {
   "cell_type": "markdown",
   "id": "10d5ff93",
   "metadata": {},
   "source": [
    "Users can input scores themselves. Can be misleading but will deal with it later in data cleaning"
   ]
  },
  {
   "cell_type": "markdown",
   "id": "99e30cb3",
   "metadata": {},
   "source": [
    "#### 3.2.3.3 - Challonge Data Collection"
   ]
  },
  {
   "cell_type": "markdown",
   "id": "a110454f",
   "metadata": {},
   "source": [
    "In this section, we are going to add players from the second EUAC to the table from the first EUAC (playerdf) <br>\n",
    "For the time being, we are going to keep Start ID and Challonge ID seperate rather than having one ID column. Players from the 1st EUAC may have been present in later EUACs but it is not yet possible to identify them. <br>\n",
    "Later on, we will identify the players who were in the first EUAC and subsequent ones."
   ]
  },
  {
   "cell_type": "code",
   "execution_count": 359,
   "id": "d25c31d5",
   "metadata": {
    "scrolled": false
   },
   "outputs": [
    {
     "data": {
      "text/html": [
       "<div>\n",
       "<style scoped>\n",
       "    .dataframe tbody tr th:only-of-type {\n",
       "        vertical-align: middle;\n",
       "    }\n",
       "\n",
       "    .dataframe tbody tr th {\n",
       "        vertical-align: top;\n",
       "    }\n",
       "\n",
       "    .dataframe thead th {\n",
       "        text-align: right;\n",
       "    }\n",
       "</style>\n",
       "<table border=\"1\" class=\"dataframe\">\n",
       "  <thead>\n",
       "    <tr style=\"text-align: right;\">\n",
       "      <th></th>\n",
       "      <th>Start ID</th>\n",
       "      <th>Player</th>\n",
       "      <th>Seed</th>\n",
       "      <th>Placement</th>\n",
       "    </tr>\n",
       "  </thead>\n",
       "  <tbody>\n",
       "    <tr>\n",
       "      <th>0</th>\n",
       "      <td>1152276</td>\n",
       "      <td>FR | Maxou0708</td>\n",
       "      <td>20</td>\n",
       "      <td>1</td>\n",
       "    </tr>\n",
       "    <tr>\n",
       "      <th>1</th>\n",
       "      <td>1118825</td>\n",
       "      <td>Rapha_MTH</td>\n",
       "      <td>6</td>\n",
       "      <td>2</td>\n",
       "    </tr>\n",
       "    <tr>\n",
       "      <th>2</th>\n",
       "      <td>1133810</td>\n",
       "      <td>Sabaca</td>\n",
       "      <td>8</td>\n",
       "      <td>3</td>\n",
       "    </tr>\n",
       "    <tr>\n",
       "      <th>3</th>\n",
       "      <td>1152521</td>\n",
       "      <td>TCM | Raffa</td>\n",
       "      <td>21</td>\n",
       "      <td>4</td>\n",
       "    </tr>\n",
       "    <tr>\n",
       "      <th>4</th>\n",
       "      <td>1152258</td>\n",
       "      <td>FrankTank</td>\n",
       "      <td>19</td>\n",
       "      <td>5</td>\n",
       "    </tr>\n",
       "  </tbody>\n",
       "</table>\n",
       "</div>"
      ],
      "text/plain": [
       "   Start ID          Player  Seed  Placement\n",
       "0   1152276  FR | Maxou0708    20          1\n",
       "1   1118825       Rapha_MTH     6          2\n",
       "2   1133810          Sabaca     8          3\n",
       "3   1152521     TCM | Raffa    21          4\n",
       "4   1152258       FrankTank    19          5"
      ]
     },
     "execution_count": 359,
     "metadata": {},
     "output_type": "execute_result"
    }
   ],
   "source": [
    "playerdf.head()"
   ]
  },
  {
   "cell_type": "code",
   "execution_count": 360,
   "id": "71f27cdb",
   "metadata": {},
   "outputs": [],
   "source": [
    "def get_seed(name, df):\n",
    "    player = df[df[\"Player\"] == name]\n",
    "    if not player.empty:\n",
    "        return player.iloc[0][\"Seed\"]\n",
    "    else:\n",
    "        print(f\"No player named {name} was found\")"
   ]
  },
  {
   "cell_type": "code",
   "execution_count": 361,
   "id": "5b0022c0",
   "metadata": {},
   "outputs": [],
   "source": [
    "def get_placement(name, df):\n",
    "    player = df[df[\"Player\"] == name]\n",
    "    if not player.empty:\n",
    "        return player.iloc[0][\"Placement\"]\n",
    "    else:\n",
    "        print(f\"No player named {name} was found\")"
   ]
  },
  {
   "cell_type": "code",
   "execution_count": 362,
   "id": "f7e5c5b8",
   "metadata": {},
   "outputs": [
    {
     "data": {
      "text/plain": [
       "6"
      ]
     },
     "execution_count": 362,
     "metadata": {},
     "output_type": "execute_result"
    }
   ],
   "source": [
    "get_seed(\"Rapha_MTH\", playerdf)"
   ]
  },
  {
   "cell_type": "code",
   "execution_count": 363,
   "id": "0584f013",
   "metadata": {},
   "outputs": [],
   "source": [
    "p1Seed = []\n",
    "p2Seed = []\n",
    "p1Placement = []\n",
    "p2Placement = []\n",
    "\n",
    "for p1, p2 in zip(df[\"Player1\"], df[\"Player2\"]):\n",
    "    p1Seed.append(get_seed(p1, playerdf))\n",
    "    p1Placement.append(get_placement(p1, playerdf))\n",
    "    p2Seed.append(get_seed(p2, playerdf))\n",
    "    p2Placement.append(get_placement(p2, playerdf))\n",
    "df[\"P1 Seed\"] = p1Seed\n",
    "df[\"P1 Placement\"] = p1Placement\n",
    "df[\"P2 Seed\"] = p2Seed\n",
    "df[\"P2 Placement\"] = p2Placement"
   ]
  },
  {
   "cell_type": "code",
   "execution_count": 364,
   "id": "bf8631be",
   "metadata": {
    "scrolled": true
   },
   "outputs": [
    {
     "data": {
      "text/html": [
       "<div>\n",
       "<style scoped>\n",
       "    .dataframe tbody tr th:only-of-type {\n",
       "        vertical-align: middle;\n",
       "    }\n",
       "\n",
       "    .dataframe tbody tr th {\n",
       "        vertical-align: top;\n",
       "    }\n",
       "\n",
       "    .dataframe thead th {\n",
       "        text-align: right;\n",
       "    }\n",
       "</style>\n",
       "<table border=\"1\" class=\"dataframe\">\n",
       "  <thead>\n",
       "    <tr style=\"text-align: right;\">\n",
       "      <th></th>\n",
       "      <th>Player1</th>\n",
       "      <th>Player2</th>\n",
       "      <th>Winner</th>\n",
       "      <th>Score</th>\n",
       "      <th>Loser</th>\n",
       "      <th>MatchNo</th>\n",
       "      <th>EUAC</th>\n",
       "      <th>Date</th>\n",
       "      <th>P1 Seed</th>\n",
       "      <th>P1 Placement</th>\n",
       "      <th>P2 Seed</th>\n",
       "      <th>P2 Placement</th>\n",
       "    </tr>\n",
       "  </thead>\n",
       "  <tbody>\n",
       "    <tr>\n",
       "      <th>0</th>\n",
       "      <td>Alumento</td>\n",
       "      <td>Owdy</td>\n",
       "      <td>Alumento</td>\n",
       "      <td>2-0</td>\n",
       "      <td>Owdy</td>\n",
       "      <td>1</td>\n",
       "      <td>1</td>\n",
       "      <td>21/10/17</td>\n",
       "      <td>11</td>\n",
       "      <td>7</td>\n",
       "      <td>22</td>\n",
       "      <td>17</td>\n",
       "    </tr>\n",
       "    <tr>\n",
       "      <th>1</th>\n",
       "      <td>BambooBoss</td>\n",
       "      <td>FrankTank</td>\n",
       "      <td>FrankTank</td>\n",
       "      <td>2-0</td>\n",
       "      <td>BambooBoss</td>\n",
       "      <td>2</td>\n",
       "      <td>1</td>\n",
       "      <td>21/10/17</td>\n",
       "      <td>14</td>\n",
       "      <td>13</td>\n",
       "      <td>19</td>\n",
       "      <td>5</td>\n",
       "    </tr>\n",
       "    <tr>\n",
       "      <th>2</th>\n",
       "      <td>Kotorious BRD</td>\n",
       "      <td>Altair</td>\n",
       "      <td>Kotorious BRD</td>\n",
       "      <td>0--1</td>\n",
       "      <td>Altair</td>\n",
       "      <td>3</td>\n",
       "      <td>1</td>\n",
       "      <td>21/10/17</td>\n",
       "      <td>15</td>\n",
       "      <td>13</td>\n",
       "      <td>18</td>\n",
       "      <td>17</td>\n",
       "    </tr>\n",
       "    <tr>\n",
       "      <th>3</th>\n",
       "      <td>RD | | Dushni</td>\n",
       "      <td>TCM | Raffa</td>\n",
       "      <td>TCM | Raffa</td>\n",
       "      <td>2-0</td>\n",
       "      <td>RD | | Dushni</td>\n",
       "      <td>4</td>\n",
       "      <td>1</td>\n",
       "      <td>21/10/17</td>\n",
       "      <td>12</td>\n",
       "      <td>17</td>\n",
       "      <td>21</td>\n",
       "      <td>4</td>\n",
       "    </tr>\n",
       "    <tr>\n",
       "      <th>4</th>\n",
       "      <td>FR|TCM | InkAlyut</td>\n",
       "      <td>FR | Maxou0708</td>\n",
       "      <td>FR|TCM | InkAlyut</td>\n",
       "      <td>2-1</td>\n",
       "      <td>FR | Maxou0708</td>\n",
       "      <td>5</td>\n",
       "      <td>1</td>\n",
       "      <td>21/10/17</td>\n",
       "      <td>13</td>\n",
       "      <td>9</td>\n",
       "      <td>20</td>\n",
       "      <td>1</td>\n",
       "    </tr>\n",
       "  </tbody>\n",
       "</table>\n",
       "</div>"
      ],
      "text/plain": [
       "             Player1         Player2             Winner Score           Loser  \\\n",
       "0           Alumento            Owdy           Alumento   2-0            Owdy   \n",
       "1         BambooBoss       FrankTank          FrankTank   2-0      BambooBoss   \n",
       "2      Kotorious BRD          Altair      Kotorious BRD  0--1          Altair   \n",
       "3      RD | | Dushni     TCM | Raffa        TCM | Raffa   2-0   RD | | Dushni   \n",
       "4  FR|TCM | InkAlyut  FR | Maxou0708  FR|TCM | InkAlyut   2-1  FR | Maxou0708   \n",
       "\n",
       "   MatchNo  EUAC      Date  P1 Seed  P1 Placement  P2 Seed  P2 Placement  \n",
       "0        1     1  21/10/17       11             7       22            17  \n",
       "1        2     1  21/10/17       14            13       19             5  \n",
       "2        3     1  21/10/17       15            13       18            17  \n",
       "3        4     1  21/10/17       12            17       21             4  \n",
       "4        5     1  21/10/17       13             9       20             1  "
      ]
     },
     "execution_count": 364,
     "metadata": {},
     "output_type": "execute_result"
    }
   ],
   "source": [
    "df.head()"
   ]
  },
  {
   "cell_type": "code",
   "execution_count": 365,
   "id": "533db564",
   "metadata": {},
   "outputs": [
    {
     "data": {
      "text/html": [
       "<div>\n",
       "<style scoped>\n",
       "    .dataframe tbody tr th:only-of-type {\n",
       "        vertical-align: middle;\n",
       "    }\n",
       "\n",
       "    .dataframe tbody tr th {\n",
       "        vertical-align: top;\n",
       "    }\n",
       "\n",
       "    .dataframe thead th {\n",
       "        text-align: right;\n",
       "    }\n",
       "</style>\n",
       "<table border=\"1\" class=\"dataframe\">\n",
       "  <thead>\n",
       "    <tr style=\"text-align: right;\">\n",
       "      <th></th>\n",
       "      <th>Start ID</th>\n",
       "      <th>Player</th>\n",
       "      <th>Seed</th>\n",
       "      <th>Placement</th>\n",
       "    </tr>\n",
       "  </thead>\n",
       "  <tbody>\n",
       "    <tr>\n",
       "      <th>0</th>\n",
       "      <td>1152276</td>\n",
       "      <td>FR | Maxou0708</td>\n",
       "      <td>20</td>\n",
       "      <td>1</td>\n",
       "    </tr>\n",
       "    <tr>\n",
       "      <th>1</th>\n",
       "      <td>1118825</td>\n",
       "      <td>Rapha_MTH</td>\n",
       "      <td>6</td>\n",
       "      <td>2</td>\n",
       "    </tr>\n",
       "    <tr>\n",
       "      <th>2</th>\n",
       "      <td>1133810</td>\n",
       "      <td>Sabaca</td>\n",
       "      <td>8</td>\n",
       "      <td>3</td>\n",
       "    </tr>\n",
       "    <tr>\n",
       "      <th>3</th>\n",
       "      <td>1152521</td>\n",
       "      <td>TCM | Raffa</td>\n",
       "      <td>21</td>\n",
       "      <td>4</td>\n",
       "    </tr>\n",
       "    <tr>\n",
       "      <th>4</th>\n",
       "      <td>1152258</td>\n",
       "      <td>FrankTank</td>\n",
       "      <td>19</td>\n",
       "      <td>5</td>\n",
       "    </tr>\n",
       "  </tbody>\n",
       "</table>\n",
       "</div>"
      ],
      "text/plain": [
       "   Start ID          Player  Seed  Placement\n",
       "0   1152276  FR | Maxou0708    20          1\n",
       "1   1118825       Rapha_MTH     6          2\n",
       "2   1133810          Sabaca     8          3\n",
       "3   1152521     TCM | Raffa    21          4\n",
       "4   1152258       FrankTank    19          5"
      ]
     },
     "execution_count": 365,
     "metadata": {},
     "output_type": "execute_result"
    }
   ],
   "source": [
    "playerdf.head()"
   ]
  },
  {
   "cell_type": "markdown",
   "id": "2fdb9dd4",
   "metadata": {},
   "source": [
    "Won't need Seed and Placement from first EUAC anymore from playerdf"
   ]
  },
  {
   "cell_type": "code",
   "execution_count": 366,
   "id": "332c2044",
   "metadata": {},
   "outputs": [],
   "source": [
    "# Remove Seed and Placement columns\n",
    "playerdf = playerdf.drop([\"Seed\", \"Placement\"], axis = \"columns\")"
   ]
  },
  {
   "cell_type": "code",
   "execution_count": 367,
   "id": "0281a98e",
   "metadata": {
    "scrolled": true
   },
   "outputs": [],
   "source": [
    "# Add players from second EUAC to the player dataframe\n",
    "nameArray = []\n",
    "idArray = []\n",
    "for players in participants:\n",
    "    if players[\"active\"] == True:\n",
    "        idArray.append(players[\"challonge_user_id\"])\n",
    "        nameArray.append(players[\"challonge_username\"])\n",
    "    \n",
    "challongedf = pd.DataFrame({\n",
    "    \"Player\": nameArray,\n",
    "    \"Challonge ID\": idArray\n",
    "})\n",
    "\n",
    "playerdf = pd.concat([playerdf,challongedf], ignore_index=False, sort=False)"
   ]
  },
  {
   "cell_type": "code",
   "execution_count": 368,
   "id": "42f82c2f",
   "metadata": {
    "scrolled": false
   },
   "outputs": [
    {
     "data": {
      "text/html": [
       "<div>\n",
       "<style scoped>\n",
       "    .dataframe tbody tr th:only-of-type {\n",
       "        vertical-align: middle;\n",
       "    }\n",
       "\n",
       "    .dataframe tbody tr th {\n",
       "        vertical-align: top;\n",
       "    }\n",
       "\n",
       "    .dataframe thead th {\n",
       "        text-align: right;\n",
       "    }\n",
       "</style>\n",
       "<table border=\"1\" class=\"dataframe\">\n",
       "  <thead>\n",
       "    <tr style=\"text-align: right;\">\n",
       "      <th></th>\n",
       "      <th>Start ID</th>\n",
       "      <th>Player</th>\n",
       "      <th>Challonge ID</th>\n",
       "    </tr>\n",
       "  </thead>\n",
       "  <tbody>\n",
       "    <tr>\n",
       "      <th>0</th>\n",
       "      <td>1152276.0</td>\n",
       "      <td>FR | Maxou0708</td>\n",
       "      <td>NaN</td>\n",
       "    </tr>\n",
       "    <tr>\n",
       "      <th>1</th>\n",
       "      <td>1118825.0</td>\n",
       "      <td>Rapha_MTH</td>\n",
       "      <td>NaN</td>\n",
       "    </tr>\n",
       "    <tr>\n",
       "      <th>2</th>\n",
       "      <td>1133810.0</td>\n",
       "      <td>Sabaca</td>\n",
       "      <td>NaN</td>\n",
       "    </tr>\n",
       "    <tr>\n",
       "      <th>3</th>\n",
       "      <td>1152521.0</td>\n",
       "      <td>TCM | Raffa</td>\n",
       "      <td>NaN</td>\n",
       "    </tr>\n",
       "    <tr>\n",
       "      <th>4</th>\n",
       "      <td>1152258.0</td>\n",
       "      <td>FrankTank</td>\n",
       "      <td>NaN</td>\n",
       "    </tr>\n",
       "  </tbody>\n",
       "</table>\n",
       "</div>"
      ],
      "text/plain": [
       "    Start ID          Player  Challonge ID\n",
       "0  1152276.0  FR | Maxou0708           NaN\n",
       "1  1118825.0       Rapha_MTH           NaN\n",
       "2  1133810.0          Sabaca           NaN\n",
       "3  1152521.0     TCM | Raffa           NaN\n",
       "4  1152258.0       FrankTank           NaN"
      ]
     },
     "execution_count": 368,
     "metadata": {},
     "output_type": "execute_result"
    }
   ],
   "source": [
    "playerdf.head()"
   ]
  },
  {
   "cell_type": "markdown",
   "id": "24bfb923",
   "metadata": {},
   "source": [
    "Concat is nice but a function to add new players to the table would be better for future use"
   ]
  },
  {
   "cell_type": "code",
   "execution_count": 369,
   "id": "faf91077",
   "metadata": {},
   "outputs": [
    {
     "data": {
      "text/plain": [
       "43"
      ]
     },
     "execution_count": 369,
     "metadata": {},
     "output_type": "execute_result"
    }
   ],
   "source": [
    "len(df)"
   ]
  },
  {
   "cell_type": "code",
   "execution_count": 370,
   "id": "4b863d01",
   "metadata": {},
   "outputs": [],
   "source": [
    "def add_new_player(df, name, challongeId):\n",
    "    if name not in df[\"Player\"].values:\n",
    "        df.loc[len(df)] = [0, name, challongeId]"
   ]
  },
  {
   "cell_type": "markdown",
   "id": "8af2738f",
   "metadata": {},
   "source": [
    "Within \"participants\" and \"matches\" from the API pulls, the ids and availability of access to name differ. <br>\n",
    "For each tournament, a player has an id but they also have a unique challonge id. A player's name is also not accessible within match, for example. <br>\n",
    "To get around this limitation, functions will be written to access this data <br>\n",
    "The same will also have to be done for seeds and placements <br> <br>\n",
    "Then a loop can be written to compile this data and merge with the existing dataframe containing the matches (df)"
   ]
  },
  {
   "cell_type": "code",
   "execution_count": 371,
   "id": "c84eae31",
   "metadata": {},
   "outputs": [],
   "source": [
    "# Get a challonge id given their player id.\n",
    "# Player id is unique for each tournament.\n",
    "# Necessary for missing information from some api pulls\n",
    "\n",
    "def get_challonge_id(uid):\n",
    "    for i in participants:\n",
    "        if i[\"id\"] == uid:\n",
    "            return i[\"challonge_user_id\"]\n",
    "        else:\n",
    "            pass"
   ]
  },
  {
   "cell_type": "code",
   "execution_count": 372,
   "id": "a985ec86",
   "metadata": {},
   "outputs": [],
   "source": [
    "# Returns challonge name given a player's tournament id\n",
    "def get_challonge_name(uid):\n",
    "    for i in participants:\n",
    "        if i[\"id\"] == uid:\n",
    "            return i[\"challonge_username\"]\n",
    "        else:\n",
    "            pass"
   ]
  },
  {
   "cell_type": "code",
   "execution_count": 373,
   "id": "4429f423",
   "metadata": {},
   "outputs": [],
   "source": [
    "# Returns challonge name given a player's tournament id\n",
    "def get_challonge_seed(uid):\n",
    "    for i in participants:\n",
    "        if i[\"id\"] == uid:\n",
    "            return i[\"seed\"]\n",
    "        else:\n",
    "            pass"
   ]
  },
  {
   "cell_type": "code",
   "execution_count": 374,
   "id": "e9cb75ce",
   "metadata": {},
   "outputs": [],
   "source": [
    "# Returns challonge name given a player's tournament id\n",
    "def get_challonge_placement(uid):\n",
    "    for i in participants:\n",
    "        if i[\"id\"] == uid:\n",
    "            return i[\"final_rank\"]\n",
    "        else:\n",
    "            pass"
   ]
  },
  {
   "cell_type": "code",
   "execution_count": 375,
   "id": "efc9118d",
   "metadata": {
    "scrolled": true
   },
   "outputs": [
    {
     "data": {
      "text/plain": [
       "datetime.datetime(2017, 11, 12, 14, 7, 13, 162000, tzinfo=<DstTzInfo 'Europe/London' GMT0:00:00 STD>)"
      ]
     },
     "execution_count": 375,
     "metadata": {},
     "output_type": "execute_result"
    }
   ],
   "source": [
    "# Get tournament date\n",
    "date = tournament[\"started_at\"]\n",
    "date"
   ]
  },
  {
   "cell_type": "code",
   "execution_count": 376,
   "id": "a43aabe3",
   "metadata": {},
   "outputs": [
    {
     "data": {
      "text/plain": [
       "'12/11/17'"
      ]
     },
     "execution_count": 376,
     "metadata": {},
     "output_type": "execute_result"
    }
   ],
   "source": [
    "# Format date\n",
    "date = date.strftime(\"%d/%m/%y\")\n",
    "date"
   ]
  },
  {
   "cell_type": "code",
   "execution_count": 377,
   "id": "dbec8b2d",
   "metadata": {
    "scrolled": false
   },
   "outputs": [
    {
     "data": {
      "text/html": [
       "<div>\n",
       "<style scoped>\n",
       "    .dataframe tbody tr th:only-of-type {\n",
       "        vertical-align: middle;\n",
       "    }\n",
       "\n",
       "    .dataframe tbody tr th {\n",
       "        vertical-align: top;\n",
       "    }\n",
       "\n",
       "    .dataframe thead th {\n",
       "        text-align: right;\n",
       "    }\n",
       "</style>\n",
       "<table border=\"1\" class=\"dataframe\">\n",
       "  <thead>\n",
       "    <tr style=\"text-align: right;\">\n",
       "      <th></th>\n",
       "      <th>Player1</th>\n",
       "      <th>Player2</th>\n",
       "      <th>Winner</th>\n",
       "      <th>Score</th>\n",
       "      <th>Loser</th>\n",
       "      <th>MatchNo</th>\n",
       "      <th>EUAC</th>\n",
       "      <th>Date</th>\n",
       "      <th>P1 Seed</th>\n",
       "      <th>P1 Placement</th>\n",
       "      <th>P2 Seed</th>\n",
       "      <th>P2 Placement</th>\n",
       "    </tr>\n",
       "  </thead>\n",
       "  <tbody>\n",
       "    <tr>\n",
       "      <th>0</th>\n",
       "      <td>Alumento</td>\n",
       "      <td>Owdy</td>\n",
       "      <td>Alumento</td>\n",
       "      <td>2-0</td>\n",
       "      <td>Owdy</td>\n",
       "      <td>1</td>\n",
       "      <td>1</td>\n",
       "      <td>21/10/17</td>\n",
       "      <td>11</td>\n",
       "      <td>7</td>\n",
       "      <td>22</td>\n",
       "      <td>17</td>\n",
       "    </tr>\n",
       "    <tr>\n",
       "      <th>1</th>\n",
       "      <td>BambooBoss</td>\n",
       "      <td>FrankTank</td>\n",
       "      <td>FrankTank</td>\n",
       "      <td>2-0</td>\n",
       "      <td>BambooBoss</td>\n",
       "      <td>2</td>\n",
       "      <td>1</td>\n",
       "      <td>21/10/17</td>\n",
       "      <td>14</td>\n",
       "      <td>13</td>\n",
       "      <td>19</td>\n",
       "      <td>5</td>\n",
       "    </tr>\n",
       "    <tr>\n",
       "      <th>2</th>\n",
       "      <td>Kotorious BRD</td>\n",
       "      <td>Altair</td>\n",
       "      <td>Kotorious BRD</td>\n",
       "      <td>0--1</td>\n",
       "      <td>Altair</td>\n",
       "      <td>3</td>\n",
       "      <td>1</td>\n",
       "      <td>21/10/17</td>\n",
       "      <td>15</td>\n",
       "      <td>13</td>\n",
       "      <td>18</td>\n",
       "      <td>17</td>\n",
       "    </tr>\n",
       "    <tr>\n",
       "      <th>3</th>\n",
       "      <td>RD | | Dushni</td>\n",
       "      <td>TCM | Raffa</td>\n",
       "      <td>TCM | Raffa</td>\n",
       "      <td>2-0</td>\n",
       "      <td>RD | | Dushni</td>\n",
       "      <td>4</td>\n",
       "      <td>1</td>\n",
       "      <td>21/10/17</td>\n",
       "      <td>12</td>\n",
       "      <td>17</td>\n",
       "      <td>21</td>\n",
       "      <td>4</td>\n",
       "    </tr>\n",
       "    <tr>\n",
       "      <th>4</th>\n",
       "      <td>FR|TCM | InkAlyut</td>\n",
       "      <td>FR | Maxou0708</td>\n",
       "      <td>FR|TCM | InkAlyut</td>\n",
       "      <td>2-1</td>\n",
       "      <td>FR | Maxou0708</td>\n",
       "      <td>5</td>\n",
       "      <td>1</td>\n",
       "      <td>21/10/17</td>\n",
       "      <td>13</td>\n",
       "      <td>9</td>\n",
       "      <td>20</td>\n",
       "      <td>1</td>\n",
       "    </tr>\n",
       "  </tbody>\n",
       "</table>\n",
       "</div>"
      ],
      "text/plain": [
       "             Player1         Player2             Winner Score           Loser  \\\n",
       "0           Alumento            Owdy           Alumento   2-0            Owdy   \n",
       "1         BambooBoss       FrankTank          FrankTank   2-0      BambooBoss   \n",
       "2      Kotorious BRD          Altair      Kotorious BRD  0--1          Altair   \n",
       "3      RD | | Dushni     TCM | Raffa        TCM | Raffa   2-0   RD | | Dushni   \n",
       "4  FR|TCM | InkAlyut  FR | Maxou0708  FR|TCM | InkAlyut   2-1  FR | Maxou0708   \n",
       "\n",
       "   MatchNo  EUAC      Date  P1 Seed  P1 Placement  P2 Seed  P2 Placement  \n",
       "0        1     1  21/10/17       11             7       22            17  \n",
       "1        2     1  21/10/17       14            13       19             5  \n",
       "2        3     1  21/10/17       15            13       18            17  \n",
       "3        4     1  21/10/17       12            17       21             4  \n",
       "4        5     1  21/10/17       13             9       20             1  "
      ]
     },
     "execution_count": 377,
     "metadata": {},
     "output_type": "execute_result"
    }
   ],
   "source": [
    "df.head()"
   ]
  },
  {
   "cell_type": "code",
   "execution_count": 378,
   "id": "c5ad7fbf",
   "metadata": {},
   "outputs": [],
   "source": [
    "tournamentNo = 2\n",
    "matchNo = 1\n",
    "\n",
    "for i in matches:\n",
    "    \n",
    "    # Get player details\n",
    "    player1Id = i[\"player1_id\"]\n",
    "    player2Id = i[\"player2_id\"]\n",
    "    player1CId = get_challonge_id(player1Id)\n",
    "    player2CId = get_challonge_id(player2Id)\n",
    "    player1Name = get_challonge_name(player1Id)\n",
    "    player2Name = get_challonge_name(player2Id)\n",
    "    \n",
    "    # Seed/Placements\n",
    "    player1Seed = get_challonge_seed(player1Id)\n",
    "    player1Placement = get_challonge_placement(player1Id)\n",
    "    player2Seed = get_challonge_seed(player2Id)\n",
    "    player2Placement = get_challonge_placement(player2Id)\n",
    "    \n",
    "    \n",
    "    # Determine winner and loser\n",
    "    if i[\"player1_id\"] == i[\"winner_id\"]:\n",
    "        winner = player1Name\n",
    "        loser = player2Name\n",
    "    else:\n",
    "        loser = player1Name\n",
    "        winner = player2Name\n",
    "    \n",
    "    # Score\n",
    "    score = i[\"scores_csv\"]\n",
    "    \n",
    "    # Add to dataframe\n",
    "    df.loc[len(df)] = [player1Name, player2Name, winner, score, loser, matchNo,\n",
    "                       tournamentNo, date, player1Seed, player1Placement, player2Seed, player2Placement]\n",
    "    matchNo += 1"
   ]
  },
  {
   "cell_type": "code",
   "execution_count": 379,
   "id": "41217e28",
   "metadata": {
    "scrolled": false
   },
   "outputs": [
    {
     "data": {
      "text/html": [
       "<div>\n",
       "<style scoped>\n",
       "    .dataframe tbody tr th:only-of-type {\n",
       "        vertical-align: middle;\n",
       "    }\n",
       "\n",
       "    .dataframe tbody tr th {\n",
       "        vertical-align: top;\n",
       "    }\n",
       "\n",
       "    .dataframe thead th {\n",
       "        text-align: right;\n",
       "    }\n",
       "</style>\n",
       "<table border=\"1\" class=\"dataframe\">\n",
       "  <thead>\n",
       "    <tr style=\"text-align: right;\">\n",
       "      <th></th>\n",
       "      <th>Player1</th>\n",
       "      <th>Player2</th>\n",
       "      <th>Winner</th>\n",
       "      <th>Score</th>\n",
       "      <th>Loser</th>\n",
       "      <th>MatchNo</th>\n",
       "      <th>EUAC</th>\n",
       "      <th>Date</th>\n",
       "      <th>P1 Seed</th>\n",
       "      <th>P1 Placement</th>\n",
       "      <th>P2 Seed</th>\n",
       "      <th>P2 Placement</th>\n",
       "    </tr>\n",
       "  </thead>\n",
       "  <tbody>\n",
       "    <tr>\n",
       "      <th>60</th>\n",
       "      <td>InkA_</td>\n",
       "      <td>_Rem_</td>\n",
       "      <td>_Rem_</td>\n",
       "      <td>86-101</td>\n",
       "      <td>InkA_</td>\n",
       "      <td>18</td>\n",
       "      <td>2</td>\n",
       "      <td>12/11/17</td>\n",
       "      <td>1</td>\n",
       "      <td>5</td>\n",
       "      <td>5</td>\n",
       "      <td>3</td>\n",
       "    </tr>\n",
       "    <tr>\n",
       "      <th>61</th>\n",
       "      <td>GameFroggit</td>\n",
       "      <td>Ripha</td>\n",
       "      <td>Ripha</td>\n",
       "      <td>0-2</td>\n",
       "      <td>GameFroggit</td>\n",
       "      <td>19</td>\n",
       "      <td>2</td>\n",
       "      <td>12/11/17</td>\n",
       "      <td>6</td>\n",
       "      <td>5</td>\n",
       "      <td>4</td>\n",
       "      <td>4</td>\n",
       "    </tr>\n",
       "    <tr>\n",
       "      <th>62</th>\n",
       "      <td>_Rem_</td>\n",
       "      <td>Ripha</td>\n",
       "      <td>_Rem_</td>\n",
       "      <td>3-0</td>\n",
       "      <td>Ripha</td>\n",
       "      <td>20</td>\n",
       "      <td>2</td>\n",
       "      <td>12/11/17</td>\n",
       "      <td>5</td>\n",
       "      <td>3</td>\n",
       "      <td>4</td>\n",
       "      <td>4</td>\n",
       "    </tr>\n",
       "    <tr>\n",
       "      <th>63</th>\n",
       "      <td>Frank001</td>\n",
       "      <td>_Rem_</td>\n",
       "      <td>Frank001</td>\n",
       "      <td>3-0</td>\n",
       "      <td>_Rem_</td>\n",
       "      <td>21</td>\n",
       "      <td>2</td>\n",
       "      <td>12/11/17</td>\n",
       "      <td>2</td>\n",
       "      <td>2</td>\n",
       "      <td>5</td>\n",
       "      <td>3</td>\n",
       "    </tr>\n",
       "    <tr>\n",
       "      <th>64</th>\n",
       "      <td>Raffa_</td>\n",
       "      <td>Frank001</td>\n",
       "      <td>Raffa_</td>\n",
       "      <td>3-0</td>\n",
       "      <td>Frank001</td>\n",
       "      <td>22</td>\n",
       "      <td>2</td>\n",
       "      <td>12/11/17</td>\n",
       "      <td>12</td>\n",
       "      <td>1</td>\n",
       "      <td>2</td>\n",
       "      <td>2</td>\n",
       "    </tr>\n",
       "  </tbody>\n",
       "</table>\n",
       "</div>"
      ],
      "text/plain": [
       "        Player1   Player2    Winner   Score        Loser  MatchNo  EUAC  \\\n",
       "60        InkA_     _Rem_     _Rem_  86-101        InkA_       18     2   \n",
       "61  GameFroggit     Ripha     Ripha     0-2  GameFroggit       19     2   \n",
       "62        _Rem_     Ripha     _Rem_     3-0        Ripha       20     2   \n",
       "63     Frank001     _Rem_  Frank001     3-0        _Rem_       21     2   \n",
       "64       Raffa_  Frank001    Raffa_     3-0     Frank001       22     2   \n",
       "\n",
       "        Date  P1 Seed  P1 Placement  P2 Seed  P2 Placement  \n",
       "60  12/11/17        1             5        5             3  \n",
       "61  12/11/17        6             5        4             4  \n",
       "62  12/11/17        5             3        4             4  \n",
       "63  12/11/17        2             2        5             3  \n",
       "64  12/11/17       12             1        2             2  "
      ]
     },
     "execution_count": 379,
     "metadata": {},
     "output_type": "execute_result"
    }
   ],
   "source": [
    "df.tail()"
   ]
  },
  {
   "cell_type": "markdown",
   "id": "b94b2cf8",
   "metadata": {},
   "source": [
    "Next step is to put this altogether in one big loop and finish compiling all the match data"
   ]
  },
  {
   "cell_type": "code",
   "execution_count": 380,
   "id": "4b10698a",
   "metadata": {},
   "outputs": [],
   "source": [
    "# Shows a progress bar\n",
    "import time\n",
    "from tqdm import tqdm"
   ]
  },
  {
   "cell_type": "code",
   "execution_count": 381,
   "id": "e48d3d1b",
   "metadata": {
    "scrolled": false
   },
   "outputs": [
    {
     "name": "stderr",
     "output_type": "stream",
     "text": [
      "Processing:  30%|████████████████████▎                                              | 33/109 [01:09<01:56,  1.53s/step]"
     ]
    },
    {
     "name": "stdout",
     "output_type": "stream",
     "text": [
      "Error with EUAC35\n"
     ]
    },
    {
     "name": "stderr",
     "output_type": "stream",
     "text": [
      "Processing:  32%|█████████████████████▌                                             | 35/109 [01:10<01:03,  1.17step/s]"
     ]
    },
    {
     "name": "stdout",
     "output_type": "stream",
     "text": [
      "Error with EUAC36\n",
      "Error with EUAC37\n"
     ]
    },
    {
     "name": "stderr",
     "output_type": "stream",
     "text": [
      "\r",
      "Processing:  33%|██████████████████████▏                                            | 36/109 [01:10<00:47,  1.52step/s]"
     ]
    },
    {
     "name": "stdout",
     "output_type": "stream",
     "text": [
      "Error with EUAC38\n"
     ]
    },
    {
     "name": "stderr",
     "output_type": "stream",
     "text": [
      "Processing:  36%|███████████████████████▉                                           | 39/109 [01:12<00:39,  1.76step/s]"
     ]
    },
    {
     "name": "stdout",
     "output_type": "stream",
     "text": [
      "Error with EUAC40\n",
      "Error with EUAC41\n"
     ]
    },
    {
     "name": "stderr",
     "output_type": "stream",
     "text": [
      "\r",
      "Processing:  37%|████████████████████████▌                                          | 40/109 [01:12<00:31,  2.16step/s]"
     ]
    },
    {
     "name": "stdout",
     "output_type": "stream",
     "text": [
      "Error with EUAC42\n"
     ]
    },
    {
     "name": "stderr",
     "output_type": "stream",
     "text": [
      "Processing:  39%|█████████████████████████▊                                         | 42/109 [01:14<00:44,  1.51step/s]"
     ]
    },
    {
     "name": "stdout",
     "output_type": "stream",
     "text": [
      "Error with EUAC44\n"
     ]
    },
    {
     "name": "stderr",
     "output_type": "stream",
     "text": [
      "\r",
      "Processing:  39%|██████████████████████████▍                                        | 43/109 [01:15<00:40,  1.64step/s]"
     ]
    },
    {
     "name": "stdout",
     "output_type": "stream",
     "text": [
      "Error with EUAC45\n"
     ]
    },
    {
     "name": "stderr",
     "output_type": "stream",
     "text": [
      "Processing: 100%|██████████████████████████████████████████████████████████████████| 109/109 [03:19<00:00,  1.83s/step]\n"
     ]
    }
   ],
   "source": [
    "skippedUrls = []\n",
    "\n",
    "# Every Challonge url slug except the first one. It's already done\n",
    "for urls in tqdm(challongeArray[1:], desc=\"Processing\", unit=\"step\"):\n",
    "    slug = urls.split(\"/\")\n",
    "    url = slug[-1]\n",
    "    try:\n",
    "        # Retrieve a tournament by its id (or its url).\n",
    "        tournament = challonge.tournaments.show(url)\n",
    "    except:\n",
    "        print(f\"Error with {url}\")\n",
    "        skippedUrls.append(urls)\n",
    "        continue\n",
    "    \n",
    "    # Retrieve matches\n",
    "    matches = challonge.matches.index(tournament[\"id\"])\n",
    "    \n",
    "    # Retrive participants\n",
    "    participants = challonge.participants.index(tournament[\"id\"])\n",
    "    \n",
    "    # Add new players to playerdf table if they checked in\n",
    "    for i in participants:\n",
    "        if i[\"active\"] == True:\n",
    "            if i[\"challonge_username\"] == None: \n",
    "                add_new_player(playerdf, i[\"display_name\"], i[\"id\"])\n",
    "            else:\n",
    "                add_new_player(playerdf, i[\"challonge_username\"], i[\"challonge_user_id\"])\n",
    "        else:\n",
    "            pass\n",
    "        \n",
    "    # Building Dataframe info\n",
    "    # Exception to the rule\n",
    "    if url[-3:] == \"PVW\":\n",
    "        tournamentNo = \"PVW\"\n",
    "    else:\n",
    "        tournamentNo = re.findall(r'\\d+', url)\n",
    "        tournamentNo = tournamentNo[0]\n",
    "        tournamentNo = int(tournamentNo)\n",
    "        \n",
    "    date = tournament[\"start_at\"].date()\n",
    "    date = date.strftime(\"%d/%m/%y\")\n",
    "    \n",
    "    # Acquiring player information\n",
    "    matchNo = 0\n",
    "    for i in matches:\n",
    "        if i[\"suggested_play_order\"] == None:\n",
    "            matchNo += 1\n",
    "        else:\n",
    "            matchNo = i[\"suggested_play_order\"]\n",
    "        \n",
    "        player1id = i[\"player1_id\"]\n",
    "        player2id = i[\"player2_id\"]\n",
    "        player1cid = get_challonge_id(player1id)\n",
    "        player2cid = get_challonge_id(player2id)\n",
    "        player1Name = get_challonge_name(player1id)\n",
    "        player2Name = get_challonge_name(player2id)\n",
    "        player1Seed = get_challonge_seed(player1id)\n",
    "        player2Seed = get_challonge_seed(player2id)\n",
    "        player1Placement = get_challonge_placement(player1id)\n",
    "        player2Placement = get_challonge_placement(player2id)\n",
    "        if i[\"player1_id\"] == i[\"winner_id\"]:\n",
    "            winner = player1Name\n",
    "            loser = player2Name\n",
    "        else:\n",
    "            loser = player1Name\n",
    "            winner = player2Name\n",
    "        \n",
    "        # Getting score\n",
    "        score = i[\"scores_csv\"]\n",
    "        \n",
    "        # Add to dataframe\n",
    "        df.loc[len(df)] = [player1Name, player2Name, winner, score, loser, matchNo, tournamentNo, date,\n",
    "                      player1Seed, player1Placement, player2Seed, player2Placement]\n",
    "    time.sleep(1) #Avoid too many api calls"
   ]
  },
  {
   "cell_type": "code",
   "execution_count": 384,
   "id": "5ea40c97",
   "metadata": {
    "scrolled": true
   },
   "outputs": [
    {
     "data": {
      "text/html": [
       "<div>\n",
       "<style scoped>\n",
       "    .dataframe tbody tr th:only-of-type {\n",
       "        vertical-align: middle;\n",
       "    }\n",
       "\n",
       "    .dataframe tbody tr th {\n",
       "        vertical-align: top;\n",
       "    }\n",
       "\n",
       "    .dataframe thead th {\n",
       "        text-align: right;\n",
       "    }\n",
       "</style>\n",
       "<table border=\"1\" class=\"dataframe\">\n",
       "  <thead>\n",
       "    <tr style=\"text-align: right;\">\n",
       "      <th></th>\n",
       "      <th>Player1</th>\n",
       "      <th>Player2</th>\n",
       "      <th>Winner</th>\n",
       "      <th>Score</th>\n",
       "      <th>Loser</th>\n",
       "      <th>MatchNo</th>\n",
       "      <th>EUAC</th>\n",
       "      <th>Date</th>\n",
       "      <th>P1 Seed</th>\n",
       "      <th>P1 Placement</th>\n",
       "      <th>P2 Seed</th>\n",
       "      <th>P2 Placement</th>\n",
       "    </tr>\n",
       "  </thead>\n",
       "  <tbody>\n",
       "    <tr>\n",
       "      <th>1971</th>\n",
       "      <td>Penzo</td>\n",
       "      <td>Mortal_Instrument</td>\n",
       "      <td>Mortal_Instrument</td>\n",
       "      <td>0-2</td>\n",
       "      <td>Penzo</td>\n",
       "      <td>15</td>\n",
       "      <td>PVW</td>\n",
       "      <td>05/02/23</td>\n",
       "      <td>6</td>\n",
       "      <td>4</td>\n",
       "      <td>3</td>\n",
       "      <td>3</td>\n",
       "    </tr>\n",
       "    <tr>\n",
       "      <th>1972</th>\n",
       "      <td>Grimwood96</td>\n",
       "      <td>Mortal_Instrument</td>\n",
       "      <td>Grimwood96</td>\n",
       "      <td>3-1</td>\n",
       "      <td>Mortal_Instrument</td>\n",
       "      <td>17</td>\n",
       "      <td>PVW</td>\n",
       "      <td>05/02/23</td>\n",
       "      <td>2</td>\n",
       "      <td>2</td>\n",
       "      <td>3</td>\n",
       "      <td>3</td>\n",
       "    </tr>\n",
       "    <tr>\n",
       "      <th>1973</th>\n",
       "      <td>Ripha</td>\n",
       "      <td>Grimwood96</td>\n",
       "      <td>Ripha</td>\n",
       "      <td>3-2</td>\n",
       "      <td>Grimwood96</td>\n",
       "      <td>18</td>\n",
       "      <td>PVW</td>\n",
       "      <td>05/02/23</td>\n",
       "      <td>1</td>\n",
       "      <td>1</td>\n",
       "      <td>2</td>\n",
       "      <td>2</td>\n",
       "    </tr>\n",
       "    <tr>\n",
       "      <th>1974</th>\n",
       "      <td>YoshiBowser</td>\n",
       "      <td>Miari_le_Rat</td>\n",
       "      <td>Miari_le_Rat</td>\n",
       "      <td>0-2</td>\n",
       "      <td>YoshiBowser</td>\n",
       "      <td>1</td>\n",
       "      <td>108</td>\n",
       "      <td>16/04/23</td>\n",
       "      <td>8</td>\n",
       "      <td>9</td>\n",
       "      <td>9</td>\n",
       "      <td>7</td>\n",
       "    </tr>\n",
       "    <tr>\n",
       "      <th>1975</th>\n",
       "      <td>Nylis</td>\n",
       "      <td>Alfon42</td>\n",
       "      <td>Nylis</td>\n",
       "      <td>2-0</td>\n",
       "      <td>Alfon42</td>\n",
       "      <td>2</td>\n",
       "      <td>108</td>\n",
       "      <td>16/04/23</td>\n",
       "      <td>7</td>\n",
       "      <td>7</td>\n",
       "      <td>10</td>\n",
       "      <td>9</td>\n",
       "    </tr>\n",
       "    <tr>\n",
       "      <th>1976</th>\n",
       "      <td>Ripha</td>\n",
       "      <td>Miari_le_Rat</td>\n",
       "      <td>Ripha</td>\n",
       "      <td>2-0</td>\n",
       "      <td>Miari_le_Rat</td>\n",
       "      <td>5</td>\n",
       "      <td>108</td>\n",
       "      <td>16/04/23</td>\n",
       "      <td>1</td>\n",
       "      <td>1</td>\n",
       "      <td>9</td>\n",
       "      <td>7</td>\n",
       "    </tr>\n",
       "    <tr>\n",
       "      <th>1977</th>\n",
       "      <td>Iceman92</td>\n",
       "      <td>Giusesbica004</td>\n",
       "      <td>Iceman92</td>\n",
       "      <td>2-0</td>\n",
       "      <td>Giusesbica004</td>\n",
       "      <td>3</td>\n",
       "      <td>108</td>\n",
       "      <td>16/04/23</td>\n",
       "      <td>4</td>\n",
       "      <td>4</td>\n",
       "      <td>5</td>\n",
       "      <td>5</td>\n",
       "    </tr>\n",
       "    <tr>\n",
       "      <th>1978</th>\n",
       "      <td>Alistair__</td>\n",
       "      <td>Nylis</td>\n",
       "      <td>Alistair__</td>\n",
       "      <td>2-0</td>\n",
       "      <td>Nylis</td>\n",
       "      <td>6</td>\n",
       "      <td>108</td>\n",
       "      <td>16/04/23</td>\n",
       "      <td>2</td>\n",
       "      <td>2</td>\n",
       "      <td>7</td>\n",
       "      <td>7</td>\n",
       "    </tr>\n",
       "    <tr>\n",
       "      <th>1979</th>\n",
       "      <td>Mortal_Instrument</td>\n",
       "      <td>Yamber</td>\n",
       "      <td>Mortal_Instrument</td>\n",
       "      <td>2-0</td>\n",
       "      <td>Yamber</td>\n",
       "      <td>4</td>\n",
       "      <td>108</td>\n",
       "      <td>16/04/23</td>\n",
       "      <td>3</td>\n",
       "      <td>3</td>\n",
       "      <td>6</td>\n",
       "      <td>5</td>\n",
       "    </tr>\n",
       "    <tr>\n",
       "      <th>1980</th>\n",
       "      <td>Ripha</td>\n",
       "      <td>Iceman92</td>\n",
       "      <td>Ripha</td>\n",
       "      <td>2-1</td>\n",
       "      <td>Iceman92</td>\n",
       "      <td>11</td>\n",
       "      <td>108</td>\n",
       "      <td>16/04/23</td>\n",
       "      <td>1</td>\n",
       "      <td>1</td>\n",
       "      <td>4</td>\n",
       "      <td>4</td>\n",
       "    </tr>\n",
       "    <tr>\n",
       "      <th>1981</th>\n",
       "      <td>Alistair__</td>\n",
       "      <td>Mortal_Instrument</td>\n",
       "      <td>Alistair__</td>\n",
       "      <td>2-0</td>\n",
       "      <td>Mortal_Instrument</td>\n",
       "      <td>12</td>\n",
       "      <td>108</td>\n",
       "      <td>16/04/23</td>\n",
       "      <td>2</td>\n",
       "      <td>2</td>\n",
       "      <td>3</td>\n",
       "      <td>3</td>\n",
       "    </tr>\n",
       "    <tr>\n",
       "      <th>1982</th>\n",
       "      <td>Ripha</td>\n",
       "      <td>Alistair__</td>\n",
       "      <td>Alistair__</td>\n",
       "      <td>2-3</td>\n",
       "      <td>Ripha</td>\n",
       "      <td>16</td>\n",
       "      <td>108</td>\n",
       "      <td>16/04/23</td>\n",
       "      <td>1</td>\n",
       "      <td>1</td>\n",
       "      <td>2</td>\n",
       "      <td>2</td>\n",
       "    </tr>\n",
       "    <tr>\n",
       "      <th>1983</th>\n",
       "      <td>Yamber</td>\n",
       "      <td>YoshiBowser</td>\n",
       "      <td>Yamber</td>\n",
       "      <td>2-1</td>\n",
       "      <td>YoshiBowser</td>\n",
       "      <td>8</td>\n",
       "      <td>108</td>\n",
       "      <td>16/04/23</td>\n",
       "      <td>6</td>\n",
       "      <td>5</td>\n",
       "      <td>8</td>\n",
       "      <td>9</td>\n",
       "    </tr>\n",
       "    <tr>\n",
       "      <th>1984</th>\n",
       "      <td>Giusesbica004</td>\n",
       "      <td>Alfon42</td>\n",
       "      <td>Giusesbica004</td>\n",
       "      <td>2-0</td>\n",
       "      <td>Alfon42</td>\n",
       "      <td>7</td>\n",
       "      <td>108</td>\n",
       "      <td>16/04/23</td>\n",
       "      <td>5</td>\n",
       "      <td>5</td>\n",
       "      <td>10</td>\n",
       "      <td>9</td>\n",
       "    </tr>\n",
       "    <tr>\n",
       "      <th>1985</th>\n",
       "      <td>Nylis</td>\n",
       "      <td>Yamber</td>\n",
       "      <td>Yamber</td>\n",
       "      <td>1-2</td>\n",
       "      <td>Nylis</td>\n",
       "      <td>10</td>\n",
       "      <td>108</td>\n",
       "      <td>16/04/23</td>\n",
       "      <td>7</td>\n",
       "      <td>7</td>\n",
       "      <td>6</td>\n",
       "      <td>5</td>\n",
       "    </tr>\n",
       "    <tr>\n",
       "      <th>1986</th>\n",
       "      <td>Miari_le_Rat</td>\n",
       "      <td>Giusesbica004</td>\n",
       "      <td>Giusesbica004</td>\n",
       "      <td>0-2</td>\n",
       "      <td>Miari_le_Rat</td>\n",
       "      <td>9</td>\n",
       "      <td>108</td>\n",
       "      <td>16/04/23</td>\n",
       "      <td>9</td>\n",
       "      <td>7</td>\n",
       "      <td>5</td>\n",
       "      <td>5</td>\n",
       "    </tr>\n",
       "    <tr>\n",
       "      <th>1987</th>\n",
       "      <td>Iceman92</td>\n",
       "      <td>Yamber</td>\n",
       "      <td>Iceman92</td>\n",
       "      <td>2-1</td>\n",
       "      <td>Yamber</td>\n",
       "      <td>13</td>\n",
       "      <td>108</td>\n",
       "      <td>16/04/23</td>\n",
       "      <td>4</td>\n",
       "      <td>4</td>\n",
       "      <td>6</td>\n",
       "      <td>5</td>\n",
       "    </tr>\n",
       "    <tr>\n",
       "      <th>1988</th>\n",
       "      <td>Mortal_Instrument</td>\n",
       "      <td>Giusesbica004</td>\n",
       "      <td>Mortal_Instrument</td>\n",
       "      <td>2-0</td>\n",
       "      <td>Giusesbica004</td>\n",
       "      <td>14</td>\n",
       "      <td>108</td>\n",
       "      <td>16/04/23</td>\n",
       "      <td>3</td>\n",
       "      <td>3</td>\n",
       "      <td>5</td>\n",
       "      <td>5</td>\n",
       "    </tr>\n",
       "    <tr>\n",
       "      <th>1989</th>\n",
       "      <td>Iceman92</td>\n",
       "      <td>Mortal_Instrument</td>\n",
       "      <td>Mortal_Instrument</td>\n",
       "      <td>1-2</td>\n",
       "      <td>Iceman92</td>\n",
       "      <td>15</td>\n",
       "      <td>108</td>\n",
       "      <td>16/04/23</td>\n",
       "      <td>4</td>\n",
       "      <td>4</td>\n",
       "      <td>3</td>\n",
       "      <td>3</td>\n",
       "    </tr>\n",
       "    <tr>\n",
       "      <th>1990</th>\n",
       "      <td>Ripha</td>\n",
       "      <td>Mortal_Instrument</td>\n",
       "      <td>Ripha</td>\n",
       "      <td>3-0</td>\n",
       "      <td>Mortal_Instrument</td>\n",
       "      <td>17</td>\n",
       "      <td>108</td>\n",
       "      <td>16/04/23</td>\n",
       "      <td>1</td>\n",
       "      <td>1</td>\n",
       "      <td>3</td>\n",
       "      <td>3</td>\n",
       "    </tr>\n",
       "    <tr>\n",
       "      <th>1991</th>\n",
       "      <td>Alistair__</td>\n",
       "      <td>Ripha</td>\n",
       "      <td>Ripha</td>\n",
       "      <td>1-3</td>\n",
       "      <td>Alistair__</td>\n",
       "      <td>18</td>\n",
       "      <td>108</td>\n",
       "      <td>16/04/23</td>\n",
       "      <td>2</td>\n",
       "      <td>2</td>\n",
       "      <td>1</td>\n",
       "      <td>1</td>\n",
       "    </tr>\n",
       "    <tr>\n",
       "      <th>1992</th>\n",
       "      <td>Ripha</td>\n",
       "      <td>Alistair__</td>\n",
       "      <td>Ripha</td>\n",
       "      <td>3-1</td>\n",
       "      <td>Alistair__</td>\n",
       "      <td>19</td>\n",
       "      <td>108</td>\n",
       "      <td>16/04/23</td>\n",
       "      <td>1</td>\n",
       "      <td>1</td>\n",
       "      <td>2</td>\n",
       "      <td>2</td>\n",
       "    </tr>\n",
       "    <tr>\n",
       "      <th>1993</th>\n",
       "      <td>sillyLao</td>\n",
       "      <td>Toadsie</td>\n",
       "      <td>sillyLao</td>\n",
       "      <td>2-0</td>\n",
       "      <td>Toadsie</td>\n",
       "      <td>1</td>\n",
       "      <td>109</td>\n",
       "      <td>02/07/23</td>\n",
       "      <td>8</td>\n",
       "      <td>7</td>\n",
       "      <td>9</td>\n",
       "      <td>9</td>\n",
       "    </tr>\n",
       "    <tr>\n",
       "      <th>1994</th>\n",
       "      <td>Ripha</td>\n",
       "      <td>sillyLao</td>\n",
       "      <td>Ripha</td>\n",
       "      <td>2-0</td>\n",
       "      <td>sillyLao</td>\n",
       "      <td>5</td>\n",
       "      <td>109</td>\n",
       "      <td>02/07/23</td>\n",
       "      <td>1</td>\n",
       "      <td>1</td>\n",
       "      <td>8</td>\n",
       "      <td>7</td>\n",
       "    </tr>\n",
       "    <tr>\n",
       "      <th>1995</th>\n",
       "      <td>Penzo</td>\n",
       "      <td>YoshiBowser</td>\n",
       "      <td>Penzo</td>\n",
       "      <td>2-0</td>\n",
       "      <td>YoshiBowser</td>\n",
       "      <td>2</td>\n",
       "      <td>109</td>\n",
       "      <td>02/07/23</td>\n",
       "      <td>4</td>\n",
       "      <td>4</td>\n",
       "      <td>5</td>\n",
       "      <td>5</td>\n",
       "    </tr>\n",
       "    <tr>\n",
       "      <th>1996</th>\n",
       "      <td>Giusesbica004</td>\n",
       "      <td>Anasuis</td>\n",
       "      <td>Giusesbica004</td>\n",
       "      <td>2-1</td>\n",
       "      <td>Anasuis</td>\n",
       "      <td>3</td>\n",
       "      <td>109</td>\n",
       "      <td>02/07/23</td>\n",
       "      <td>2</td>\n",
       "      <td>3</td>\n",
       "      <td>7</td>\n",
       "      <td>7</td>\n",
       "    </tr>\n",
       "    <tr>\n",
       "      <th>1997</th>\n",
       "      <td>Yamber</td>\n",
       "      <td>JkItsRipha</td>\n",
       "      <td>Yamber</td>\n",
       "      <td>2-0</td>\n",
       "      <td>JkItsRipha</td>\n",
       "      <td>4</td>\n",
       "      <td>109</td>\n",
       "      <td>02/07/23</td>\n",
       "      <td>3</td>\n",
       "      <td>2</td>\n",
       "      <td>6</td>\n",
       "      <td>5</td>\n",
       "    </tr>\n",
       "    <tr>\n",
       "      <th>1998</th>\n",
       "      <td>Ripha</td>\n",
       "      <td>Penzo</td>\n",
       "      <td>Ripha</td>\n",
       "      <td>2-0</td>\n",
       "      <td>Penzo</td>\n",
       "      <td>10</td>\n",
       "      <td>109</td>\n",
       "      <td>02/07/23</td>\n",
       "      <td>1</td>\n",
       "      <td>1</td>\n",
       "      <td>4</td>\n",
       "      <td>4</td>\n",
       "    </tr>\n",
       "    <tr>\n",
       "      <th>1999</th>\n",
       "      <td>Giusesbica004</td>\n",
       "      <td>Yamber</td>\n",
       "      <td>Giusesbica004</td>\n",
       "      <td>2-1</td>\n",
       "      <td>Yamber</td>\n",
       "      <td>9</td>\n",
       "      <td>109</td>\n",
       "      <td>02/07/23</td>\n",
       "      <td>2</td>\n",
       "      <td>3</td>\n",
       "      <td>3</td>\n",
       "      <td>2</td>\n",
       "    </tr>\n",
       "    <tr>\n",
       "      <th>2000</th>\n",
       "      <td>Ripha</td>\n",
       "      <td>Giusesbica004</td>\n",
       "      <td>Ripha</td>\n",
       "      <td>3-0</td>\n",
       "      <td>Giusesbica004</td>\n",
       "      <td>14</td>\n",
       "      <td>109</td>\n",
       "      <td>02/07/23</td>\n",
       "      <td>1</td>\n",
       "      <td>1</td>\n",
       "      <td>2</td>\n",
       "      <td>3</td>\n",
       "    </tr>\n",
       "    <tr>\n",
       "      <th>2001</th>\n",
       "      <td>JkItsRipha</td>\n",
       "      <td>Toadsie</td>\n",
       "      <td>JkItsRipha</td>\n",
       "      <td>2-0</td>\n",
       "      <td>Toadsie</td>\n",
       "      <td>6</td>\n",
       "      <td>109</td>\n",
       "      <td>02/07/23</td>\n",
       "      <td>6</td>\n",
       "      <td>5</td>\n",
       "      <td>9</td>\n",
       "      <td>9</td>\n",
       "    </tr>\n",
       "    <tr>\n",
       "      <th>2002</th>\n",
       "      <td>Anasuis</td>\n",
       "      <td>JkItsRipha</td>\n",
       "      <td>JkItsRipha</td>\n",
       "      <td>0-2</td>\n",
       "      <td>Anasuis</td>\n",
       "      <td>8</td>\n",
       "      <td>109</td>\n",
       "      <td>02/07/23</td>\n",
       "      <td>7</td>\n",
       "      <td>7</td>\n",
       "      <td>6</td>\n",
       "      <td>5</td>\n",
       "    </tr>\n",
       "    <tr>\n",
       "      <th>2003</th>\n",
       "      <td>YoshiBowser</td>\n",
       "      <td>sillyLao</td>\n",
       "      <td>YoshiBowser</td>\n",
       "      <td>2-0</td>\n",
       "      <td>sillyLao</td>\n",
       "      <td>7</td>\n",
       "      <td>109</td>\n",
       "      <td>02/07/23</td>\n",
       "      <td>5</td>\n",
       "      <td>5</td>\n",
       "      <td>8</td>\n",
       "      <td>7</td>\n",
       "    </tr>\n",
       "    <tr>\n",
       "      <th>2004</th>\n",
       "      <td>Penzo</td>\n",
       "      <td>JkItsRipha</td>\n",
       "      <td>Penzo</td>\n",
       "      <td>2-1</td>\n",
       "      <td>JkItsRipha</td>\n",
       "      <td>12</td>\n",
       "      <td>109</td>\n",
       "      <td>02/07/23</td>\n",
       "      <td>4</td>\n",
       "      <td>4</td>\n",
       "      <td>6</td>\n",
       "      <td>5</td>\n",
       "    </tr>\n",
       "    <tr>\n",
       "      <th>2005</th>\n",
       "      <td>Yamber</td>\n",
       "      <td>YoshiBowser</td>\n",
       "      <td>Yamber</td>\n",
       "      <td>2-0</td>\n",
       "      <td>YoshiBowser</td>\n",
       "      <td>11</td>\n",
       "      <td>109</td>\n",
       "      <td>02/07/23</td>\n",
       "      <td>3</td>\n",
       "      <td>2</td>\n",
       "      <td>5</td>\n",
       "      <td>5</td>\n",
       "    </tr>\n",
       "    <tr>\n",
       "      <th>2006</th>\n",
       "      <td>Penzo</td>\n",
       "      <td>Yamber</td>\n",
       "      <td>Yamber</td>\n",
       "      <td>0-2</td>\n",
       "      <td>Penzo</td>\n",
       "      <td>13</td>\n",
       "      <td>109</td>\n",
       "      <td>02/07/23</td>\n",
       "      <td>4</td>\n",
       "      <td>4</td>\n",
       "      <td>3</td>\n",
       "      <td>2</td>\n",
       "    </tr>\n",
       "    <tr>\n",
       "      <th>2007</th>\n",
       "      <td>Giusesbica004</td>\n",
       "      <td>Yamber</td>\n",
       "      <td>Yamber</td>\n",
       "      <td>1-3</td>\n",
       "      <td>Giusesbica004</td>\n",
       "      <td>15</td>\n",
       "      <td>109</td>\n",
       "      <td>02/07/23</td>\n",
       "      <td>2</td>\n",
       "      <td>3</td>\n",
       "      <td>3</td>\n",
       "      <td>2</td>\n",
       "    </tr>\n",
       "    <tr>\n",
       "      <th>2008</th>\n",
       "      <td>Ripha</td>\n",
       "      <td>Yamber</td>\n",
       "      <td>Ripha</td>\n",
       "      <td>3-0</td>\n",
       "      <td>Yamber</td>\n",
       "      <td>16</td>\n",
       "      <td>109</td>\n",
       "      <td>02/07/23</td>\n",
       "      <td>1</td>\n",
       "      <td>1</td>\n",
       "      <td>3</td>\n",
       "      <td>2</td>\n",
       "    </tr>\n",
       "    <tr>\n",
       "      <th>2009</th>\n",
       "      <td>Yamber</td>\n",
       "      <td>YoshiBowser</td>\n",
       "      <td>Yamber</td>\n",
       "      <td>2-1</td>\n",
       "      <td>YoshiBowser</td>\n",
       "      <td>1</td>\n",
       "      <td>110</td>\n",
       "      <td>13/10/24</td>\n",
       "      <td>4</td>\n",
       "      <td>2</td>\n",
       "      <td>5</td>\n",
       "      <td>5</td>\n",
       "    </tr>\n",
       "    <tr>\n",
       "      <th>2010</th>\n",
       "      <td>Giusesbica004</td>\n",
       "      <td>ProfPie</td>\n",
       "      <td>Giusesbica004</td>\n",
       "      <td>2-0</td>\n",
       "      <td>ProfPie</td>\n",
       "      <td>2</td>\n",
       "      <td>110</td>\n",
       "      <td>13/10/24</td>\n",
       "      <td>2</td>\n",
       "      <td>3</td>\n",
       "      <td>7</td>\n",
       "      <td>5</td>\n",
       "    </tr>\n",
       "    <tr>\n",
       "      <th>2011</th>\n",
       "      <td>DoJoSeph</td>\n",
       "      <td>Toadsie</td>\n",
       "      <td>DoJoSeph</td>\n",
       "      <td>2-0</td>\n",
       "      <td>Toadsie</td>\n",
       "      <td>3</td>\n",
       "      <td>110</td>\n",
       "      <td>13/10/24</td>\n",
       "      <td>3</td>\n",
       "      <td>4</td>\n",
       "      <td>6</td>\n",
       "      <td>7</td>\n",
       "    </tr>\n",
       "    <tr>\n",
       "      <th>2012</th>\n",
       "      <td>Ripha</td>\n",
       "      <td>Yamber</td>\n",
       "      <td>Ripha</td>\n",
       "      <td>2-0</td>\n",
       "      <td>Yamber</td>\n",
       "      <td>5</td>\n",
       "      <td>110</td>\n",
       "      <td>13/10/24</td>\n",
       "      <td>1</td>\n",
       "      <td>1</td>\n",
       "      <td>4</td>\n",
       "      <td>2</td>\n",
       "    </tr>\n",
       "    <tr>\n",
       "      <th>2013</th>\n",
       "      <td>Giusesbica004</td>\n",
       "      <td>DoJoSeph</td>\n",
       "      <td>Giusesbica004</td>\n",
       "      <td>2-0</td>\n",
       "      <td>DoJoSeph</td>\n",
       "      <td>6</td>\n",
       "      <td>110</td>\n",
       "      <td>13/10/24</td>\n",
       "      <td>2</td>\n",
       "      <td>3</td>\n",
       "      <td>3</td>\n",
       "      <td>4</td>\n",
       "    </tr>\n",
       "    <tr>\n",
       "      <th>2014</th>\n",
       "      <td>Ripha</td>\n",
       "      <td>Giusesbica004</td>\n",
       "      <td>Ripha</td>\n",
       "      <td>3-1</td>\n",
       "      <td>Giusesbica004</td>\n",
       "      <td>10</td>\n",
       "      <td>110</td>\n",
       "      <td>13/10/24</td>\n",
       "      <td>1</td>\n",
       "      <td>1</td>\n",
       "      <td>2</td>\n",
       "      <td>3</td>\n",
       "    </tr>\n",
       "    <tr>\n",
       "      <th>2015</th>\n",
       "      <td>ProfPie</td>\n",
       "      <td>Toadsie</td>\n",
       "      <td>ProfPie</td>\n",
       "      <td>2-1</td>\n",
       "      <td>Toadsie</td>\n",
       "      <td>4</td>\n",
       "      <td>110</td>\n",
       "      <td>13/10/24</td>\n",
       "      <td>7</td>\n",
       "      <td>5</td>\n",
       "      <td>6</td>\n",
       "      <td>7</td>\n",
       "    </tr>\n",
       "    <tr>\n",
       "      <th>2016</th>\n",
       "      <td>DoJoSeph</td>\n",
       "      <td>YoshiBowser</td>\n",
       "      <td>DoJoSeph</td>\n",
       "      <td>2-0</td>\n",
       "      <td>YoshiBowser</td>\n",
       "      <td>8</td>\n",
       "      <td>110</td>\n",
       "      <td>13/10/24</td>\n",
       "      <td>3</td>\n",
       "      <td>4</td>\n",
       "      <td>5</td>\n",
       "      <td>5</td>\n",
       "    </tr>\n",
       "    <tr>\n",
       "      <th>2017</th>\n",
       "      <td>Yamber</td>\n",
       "      <td>ProfPie</td>\n",
       "      <td>Yamber</td>\n",
       "      <td>2-0</td>\n",
       "      <td>ProfPie</td>\n",
       "      <td>7</td>\n",
       "      <td>110</td>\n",
       "      <td>13/10/24</td>\n",
       "      <td>4</td>\n",
       "      <td>2</td>\n",
       "      <td>7</td>\n",
       "      <td>5</td>\n",
       "    </tr>\n",
       "    <tr>\n",
       "      <th>2018</th>\n",
       "      <td>DoJoSeph</td>\n",
       "      <td>Yamber</td>\n",
       "      <td>Yamber</td>\n",
       "      <td>0-2</td>\n",
       "      <td>DoJoSeph</td>\n",
       "      <td>9</td>\n",
       "      <td>110</td>\n",
       "      <td>13/10/24</td>\n",
       "      <td>3</td>\n",
       "      <td>4</td>\n",
       "      <td>4</td>\n",
       "      <td>2</td>\n",
       "    </tr>\n",
       "    <tr>\n",
       "      <th>2019</th>\n",
       "      <td>Giusesbica004</td>\n",
       "      <td>Yamber</td>\n",
       "      <td>Yamber</td>\n",
       "      <td>0-0</td>\n",
       "      <td>Giusesbica004</td>\n",
       "      <td>11</td>\n",
       "      <td>110</td>\n",
       "      <td>13/10/24</td>\n",
       "      <td>2</td>\n",
       "      <td>3</td>\n",
       "      <td>4</td>\n",
       "      <td>2</td>\n",
       "    </tr>\n",
       "    <tr>\n",
       "      <th>2020</th>\n",
       "      <td>Ripha</td>\n",
       "      <td>Yamber</td>\n",
       "      <td>Ripha</td>\n",
       "      <td>3-0</td>\n",
       "      <td>Yamber</td>\n",
       "      <td>12</td>\n",
       "      <td>110</td>\n",
       "      <td>13/10/24</td>\n",
       "      <td>1</td>\n",
       "      <td>1</td>\n",
       "      <td>4</td>\n",
       "      <td>2</td>\n",
       "    </tr>\n",
       "  </tbody>\n",
       "</table>\n",
       "</div>"
      ],
      "text/plain": [
       "                Player1            Player2             Winner Score  \\\n",
       "1971              Penzo  Mortal_Instrument  Mortal_Instrument   0-2   \n",
       "1972         Grimwood96  Mortal_Instrument         Grimwood96   3-1   \n",
       "1973              Ripha         Grimwood96              Ripha   3-2   \n",
       "1974        YoshiBowser       Miari_le_Rat       Miari_le_Rat   0-2   \n",
       "1975              Nylis            Alfon42              Nylis   2-0   \n",
       "1976              Ripha       Miari_le_Rat              Ripha   2-0   \n",
       "1977           Iceman92      Giusesbica004           Iceman92   2-0   \n",
       "1978         Alistair__              Nylis         Alistair__   2-0   \n",
       "1979  Mortal_Instrument             Yamber  Mortal_Instrument   2-0   \n",
       "1980              Ripha           Iceman92              Ripha   2-1   \n",
       "1981         Alistair__  Mortal_Instrument         Alistair__   2-0   \n",
       "1982              Ripha         Alistair__         Alistair__   2-3   \n",
       "1983             Yamber        YoshiBowser             Yamber   2-1   \n",
       "1984      Giusesbica004            Alfon42      Giusesbica004   2-0   \n",
       "1985              Nylis             Yamber             Yamber   1-2   \n",
       "1986       Miari_le_Rat      Giusesbica004      Giusesbica004   0-2   \n",
       "1987           Iceman92             Yamber           Iceman92   2-1   \n",
       "1988  Mortal_Instrument      Giusesbica004  Mortal_Instrument   2-0   \n",
       "1989           Iceman92  Mortal_Instrument  Mortal_Instrument   1-2   \n",
       "1990              Ripha  Mortal_Instrument              Ripha   3-0   \n",
       "1991         Alistair__              Ripha              Ripha   1-3   \n",
       "1992              Ripha         Alistair__              Ripha   3-1   \n",
       "1993           sillyLao            Toadsie           sillyLao   2-0   \n",
       "1994              Ripha           sillyLao              Ripha   2-0   \n",
       "1995              Penzo        YoshiBowser              Penzo   2-0   \n",
       "1996      Giusesbica004            Anasuis      Giusesbica004   2-1   \n",
       "1997             Yamber         JkItsRipha             Yamber   2-0   \n",
       "1998              Ripha              Penzo              Ripha   2-0   \n",
       "1999      Giusesbica004             Yamber      Giusesbica004   2-1   \n",
       "2000              Ripha      Giusesbica004              Ripha   3-0   \n",
       "2001         JkItsRipha            Toadsie         JkItsRipha   2-0   \n",
       "2002            Anasuis         JkItsRipha         JkItsRipha   0-2   \n",
       "2003        YoshiBowser           sillyLao        YoshiBowser   2-0   \n",
       "2004              Penzo         JkItsRipha              Penzo   2-1   \n",
       "2005             Yamber        YoshiBowser             Yamber   2-0   \n",
       "2006              Penzo             Yamber             Yamber   0-2   \n",
       "2007      Giusesbica004             Yamber             Yamber   1-3   \n",
       "2008              Ripha             Yamber              Ripha   3-0   \n",
       "2009             Yamber        YoshiBowser             Yamber   2-1   \n",
       "2010      Giusesbica004            ProfPie      Giusesbica004   2-0   \n",
       "2011           DoJoSeph            Toadsie           DoJoSeph   2-0   \n",
       "2012              Ripha             Yamber              Ripha   2-0   \n",
       "2013      Giusesbica004           DoJoSeph      Giusesbica004   2-0   \n",
       "2014              Ripha      Giusesbica004              Ripha   3-1   \n",
       "2015            ProfPie            Toadsie            ProfPie   2-1   \n",
       "2016           DoJoSeph        YoshiBowser           DoJoSeph   2-0   \n",
       "2017             Yamber            ProfPie             Yamber   2-0   \n",
       "2018           DoJoSeph             Yamber             Yamber   0-2   \n",
       "2019      Giusesbica004             Yamber             Yamber   0-0   \n",
       "2020              Ripha             Yamber              Ripha   3-0   \n",
       "\n",
       "                  Loser  MatchNo EUAC      Date  P1 Seed  P1 Placement  \\\n",
       "1971              Penzo       15  PVW  05/02/23        6             4   \n",
       "1972  Mortal_Instrument       17  PVW  05/02/23        2             2   \n",
       "1973         Grimwood96       18  PVW  05/02/23        1             1   \n",
       "1974        YoshiBowser        1  108  16/04/23        8             9   \n",
       "1975            Alfon42        2  108  16/04/23        7             7   \n",
       "1976       Miari_le_Rat        5  108  16/04/23        1             1   \n",
       "1977      Giusesbica004        3  108  16/04/23        4             4   \n",
       "1978              Nylis        6  108  16/04/23        2             2   \n",
       "1979             Yamber        4  108  16/04/23        3             3   \n",
       "1980           Iceman92       11  108  16/04/23        1             1   \n",
       "1981  Mortal_Instrument       12  108  16/04/23        2             2   \n",
       "1982              Ripha       16  108  16/04/23        1             1   \n",
       "1983        YoshiBowser        8  108  16/04/23        6             5   \n",
       "1984            Alfon42        7  108  16/04/23        5             5   \n",
       "1985              Nylis       10  108  16/04/23        7             7   \n",
       "1986       Miari_le_Rat        9  108  16/04/23        9             7   \n",
       "1987             Yamber       13  108  16/04/23        4             4   \n",
       "1988      Giusesbica004       14  108  16/04/23        3             3   \n",
       "1989           Iceman92       15  108  16/04/23        4             4   \n",
       "1990  Mortal_Instrument       17  108  16/04/23        1             1   \n",
       "1991         Alistair__       18  108  16/04/23        2             2   \n",
       "1992         Alistair__       19  108  16/04/23        1             1   \n",
       "1993            Toadsie        1  109  02/07/23        8             7   \n",
       "1994           sillyLao        5  109  02/07/23        1             1   \n",
       "1995        YoshiBowser        2  109  02/07/23        4             4   \n",
       "1996            Anasuis        3  109  02/07/23        2             3   \n",
       "1997         JkItsRipha        4  109  02/07/23        3             2   \n",
       "1998              Penzo       10  109  02/07/23        1             1   \n",
       "1999             Yamber        9  109  02/07/23        2             3   \n",
       "2000      Giusesbica004       14  109  02/07/23        1             1   \n",
       "2001            Toadsie        6  109  02/07/23        6             5   \n",
       "2002            Anasuis        8  109  02/07/23        7             7   \n",
       "2003           sillyLao        7  109  02/07/23        5             5   \n",
       "2004         JkItsRipha       12  109  02/07/23        4             4   \n",
       "2005        YoshiBowser       11  109  02/07/23        3             2   \n",
       "2006              Penzo       13  109  02/07/23        4             4   \n",
       "2007      Giusesbica004       15  109  02/07/23        2             3   \n",
       "2008             Yamber       16  109  02/07/23        1             1   \n",
       "2009        YoshiBowser        1  110  13/10/24        4             2   \n",
       "2010            ProfPie        2  110  13/10/24        2             3   \n",
       "2011            Toadsie        3  110  13/10/24        3             4   \n",
       "2012             Yamber        5  110  13/10/24        1             1   \n",
       "2013           DoJoSeph        6  110  13/10/24        2             3   \n",
       "2014      Giusesbica004       10  110  13/10/24        1             1   \n",
       "2015            Toadsie        4  110  13/10/24        7             5   \n",
       "2016        YoshiBowser        8  110  13/10/24        3             4   \n",
       "2017            ProfPie        7  110  13/10/24        4             2   \n",
       "2018           DoJoSeph        9  110  13/10/24        3             4   \n",
       "2019      Giusesbica004       11  110  13/10/24        2             3   \n",
       "2020             Yamber       12  110  13/10/24        1             1   \n",
       "\n",
       "      P2 Seed  P2 Placement  \n",
       "1971        3             3  \n",
       "1972        3             3  \n",
       "1973        2             2  \n",
       "1974        9             7  \n",
       "1975       10             9  \n",
       "1976        9             7  \n",
       "1977        5             5  \n",
       "1978        7             7  \n",
       "1979        6             5  \n",
       "1980        4             4  \n",
       "1981        3             3  \n",
       "1982        2             2  \n",
       "1983        8             9  \n",
       "1984       10             9  \n",
       "1985        6             5  \n",
       "1986        5             5  \n",
       "1987        6             5  \n",
       "1988        5             5  \n",
       "1989        3             3  \n",
       "1990        3             3  \n",
       "1991        1             1  \n",
       "1992        2             2  \n",
       "1993        9             9  \n",
       "1994        8             7  \n",
       "1995        5             5  \n",
       "1996        7             7  \n",
       "1997        6             5  \n",
       "1998        4             4  \n",
       "1999        3             2  \n",
       "2000        2             3  \n",
       "2001        9             9  \n",
       "2002        6             5  \n",
       "2003        8             7  \n",
       "2004        6             5  \n",
       "2005        5             5  \n",
       "2006        3             2  \n",
       "2007        3             2  \n",
       "2008        3             2  \n",
       "2009        5             5  \n",
       "2010        7             5  \n",
       "2011        6             7  \n",
       "2012        4             2  \n",
       "2013        3             4  \n",
       "2014        2             3  \n",
       "2015        6             7  \n",
       "2016        5             5  \n",
       "2017        7             5  \n",
       "2018        4             2  \n",
       "2019        4             2  \n",
       "2020        4             2  "
      ]
     },
     "execution_count": 384,
     "metadata": {},
     "output_type": "execute_result"
    }
   ],
   "source": [
    "df.tail(50)"
   ]
  },
  {
   "cell_type": "code",
   "execution_count": 385,
   "id": "d13a643a",
   "metadata": {
    "scrolled": true
   },
   "outputs": [
    {
     "data": {
      "text/html": [
       "<div>\n",
       "<style scoped>\n",
       "    .dataframe tbody tr th:only-of-type {\n",
       "        vertical-align: middle;\n",
       "    }\n",
       "\n",
       "    .dataframe tbody tr th {\n",
       "        vertical-align: top;\n",
       "    }\n",
       "\n",
       "    .dataframe thead th {\n",
       "        text-align: right;\n",
       "    }\n",
       "</style>\n",
       "<table border=\"1\" class=\"dataframe\">\n",
       "  <thead>\n",
       "    <tr style=\"text-align: right;\">\n",
       "      <th></th>\n",
       "      <th>Start ID</th>\n",
       "      <th>Player</th>\n",
       "      <th>Challonge ID</th>\n",
       "    </tr>\n",
       "  </thead>\n",
       "  <tbody>\n",
       "    <tr>\n",
       "      <th>132</th>\n",
       "      <td>0.0</td>\n",
       "      <td>Anasuis</td>\n",
       "      <td>6258388.0</td>\n",
       "    </tr>\n",
       "    <tr>\n",
       "      <th>133</th>\n",
       "      <td>0.0</td>\n",
       "      <td>sillyLao</td>\n",
       "      <td>3724750.0</td>\n",
       "    </tr>\n",
       "    <tr>\n",
       "      <th>134</th>\n",
       "      <td>0.0</td>\n",
       "      <td>Toadsie</td>\n",
       "      <td>5994772.0</td>\n",
       "    </tr>\n",
       "    <tr>\n",
       "      <th>135</th>\n",
       "      <td>0.0</td>\n",
       "      <td>DoJoSeph</td>\n",
       "      <td>6901460.0</td>\n",
       "    </tr>\n",
       "    <tr>\n",
       "      <th>136</th>\n",
       "      <td>0.0</td>\n",
       "      <td>ProfPie</td>\n",
       "      <td>6467815.0</td>\n",
       "    </tr>\n",
       "  </tbody>\n",
       "</table>\n",
       "</div>"
      ],
      "text/plain": [
       "     Start ID    Player  Challonge ID\n",
       "132       0.0   Anasuis     6258388.0\n",
       "133       0.0  sillyLao     3724750.0\n",
       "134       0.0   Toadsie     5994772.0\n",
       "135       0.0  DoJoSeph     6901460.0\n",
       "136       0.0   ProfPie     6467815.0"
      ]
     },
     "execution_count": 385,
     "metadata": {},
     "output_type": "execute_result"
    }
   ],
   "source": [
    "playerdf.tail()"
   ]
  },
  {
   "cell_type": "code",
   "execution_count": null,
   "id": "83dddad4",
   "metadata": {
    "scrolled": true
   },
   "outputs": [],
   "source": [
    "#playerdf.to_csv(\"PlayerDetails.csv\", index= False)\n",
    "#df.to_csv(\"EUACSets.csv\", index=False)"
   ]
  },
  {
   "cell_type": "markdown",
   "id": "8377745a",
   "metadata": {},
   "source": [
    "#### 3.2.3.4 Missing links via Selenium"
   ]
  },
  {
   "cell_type": "code",
   "execution_count": 3,
   "id": "4b9099a9",
   "metadata": {},
   "outputs": [],
   "source": [
    "playerdf = pd.read_csv(\"PlayerDetails.csv\")\n",
    "df = pd.read_csv(\"EUACSets.csv\")"
   ]
  },
  {
   "cell_type": "code",
   "execution_count": 108,
   "id": "d841b0c5",
   "metadata": {},
   "outputs": [],
   "source": [
    "skippedUrls = [\n",
    "    'https://challonge.com/EUAC35',\n",
    "    'https://challonge.com/EUAC36',\n",
    "    'https://challonge.com/EUAC37',\n",
    "    'https://challonge.com/EUAC38',\n",
    "    'https://challonge.com/EUAC40',\n",
    "    'https://challonge.com/EUAC41',\n",
    "    'https://challonge.com/EUAC42',\n",
    "    'https://challonge.com/EUAC44',\n",
    "    'https://challonge.com/EUAC45'\n",
    "]"
   ]
  },
  {
   "cell_type": "markdown",
   "id": "0211608f",
   "metadata": {},
   "source": [
    "Manually checking the missing tournament links in a browser show that they are up and available"
   ]
  },
  {
   "cell_type": "code",
   "execution_count": 4,
   "id": "dbc1dd30",
   "metadata": {},
   "outputs": [],
   "source": [
    "from bs4 import BeautifulSoup"
   ]
  },
  {
   "cell_type": "code",
   "execution_count": 109,
   "id": "2589dc8f",
   "metadata": {},
   "outputs": [],
   "source": [
    "#url = skippedUrls[0]\n",
    "url = skippedUrls[0] #Try the first one\n",
    "\n",
    "response = requests.get(url)\n",
    "soup = BeautifulSoup(response.content, \"html.parser\")"
   ]
  },
  {
   "cell_type": "code",
   "execution_count": 110,
   "id": "dfc58a49",
   "metadata": {
    "scrolled": true
   },
   "outputs": [
    {
     "name": "stdout",
     "output_type": "stream",
     "text": [
      "<!DOCTYPE html>\n",
      "<html lang=\"en-US\"><head><title>Just a moment...</title><meta content=\"text/html; charset=utf-8\" http-equiv=\"Content-Type\"/><meta content=\"IE=Edge\" http-equiv=\"X-UA-Compatible\"/><meta content=\"noindex,nofollow\" name=\"robots\"/><meta content=\"width=device-width,initial-scale=1\" name=\"viewport\"/><style>*{box-sizing:border-box;margin:0;padding:0}html{line-height:1.15;-webkit-text-size-adjust:100%;color:#313131;font-family:system-ui,-apple-system,BlinkMacSystemFont,Segoe UI,Roboto,Helvetica Neue,Arial,Noto Sans,sans-serif,Apple Color Emoji,Segoe UI Emoji,Segoe UI Symbol,Noto Color Emoji}body{display:flex;flex-direction:column;height:100vh;min-height:100vh}.main-content{margin:8rem auto;max-width:60rem;padding-left:1.5rem}@media (width <= 720px){.main-content{margin-top:4rem}}.h2{font-size:1.5rem;font-weight:500;line-height:2.25rem}@media (width <= 720px){.h2{font-size:1.25rem;line-height:1.5rem}}#challenge-error-text{background-image:url(data:image/svg+xml;base64,PHN2ZyB4bWxucz0iaHR0cDovL3d3dy53My5vcmcvMjAwMC9zdmciIHdpZHRoPSIzMiIgaGVpZ2h0PSIzMiIgZmlsbD0ibm9uZSI+PHBhdGggZmlsbD0iI0IyMEYwMyIgZD0iTTE2IDNhMTMgMTMgMCAxIDAgMTMgMTNBMTMuMDE1IDEzLjAxNSAwIDAgMCAxNiAzbTAgMjRhMTEgMTEgMCAxIDEgMTEtMTEgMTEuMDEgMTEuMDEgMCAwIDEtMTEgMTEiLz48cGF0aCBmaWxsPSIjQjIwRjAzIiBkPSJNMTcuMDM4IDE4LjYxNUgxNC44N0wxNC41NjMgOS41aDIuNzgzem0tMS4wODQgMS40MjdxLjY2IDAgMS4wNTcuMzg4LjQwNy4zODkuNDA3Ljk5NCAwIC41OTYtLjQwNy45ODQtLjM5Ny4zOS0xLjA1Ny4zODktLjY1IDAtMS4wNTYtLjM4OS0uMzk4LS4zODktLjM5OC0uOTg0IDAtLjU5Ny4zOTgtLjk4NS40MDYtLjM5NyAxLjA1Ni0uMzk3Ii8+PC9zdmc+);background-repeat:no-repeat;background-size:contain;padding-left:34px}@media (prefers-color-scheme:dark){body{background-color:#222;color:#d9d9d9}}</style><meta content=\"360\" http-equiv=\"refresh\"/></head><body><div class=\"main-wrapper\" role=\"main\"><div class=\"main-content\"><noscript><div class=\"h2\"><span id=\"challenge-error-text\">Enable JavaScript and cookies to continue</span></div></noscript></div></div><script>(function(){window._cf_chl_opt={cvId: '3',cZone: \"challonge.com\",cType: 'managed',cRay: '948ad864fa61bdfc',cH: '5naRAIRx2IEs.7.Zte2NzwF8uvpL1xLQtDWtyry79O0-1748740373-1.2.1.1-asrAAIRCnZimLTB5dUqpfGEQqmzlupKLHlMTVeKPd0MzouBsQyRNgLBZIUNs9vwc',cUPMDTk: \"\\/EUAC35?__cf_chl_tk=OJ4jG2tnQqSsND1ObWupY7Y8d_0eRXY5Jyqv9wrlvrU-1748740373-1.0.1.1-Y2Pw5ZzT5fhrb8058q_QmxRPl6aMUxoOee5zr3sknEM\",cFPWv: 'g',cITimeS: '1748740373',cTplC: 0,cTplV: 5,cTplB: 'cf',fa: \"\\/EUAC35?__cf_chl_f_tk=OJ4jG2tnQqSsND1ObWupY7Y8d_0eRXY5Jyqv9wrlvrU-1748740373-1.0.1.1-Y2Pw5ZzT5fhrb8058q_QmxRPl6aMUxoOee5zr3sknEM\",md: \"4y_B_Cud2_KcHpQNfs7o5_U7BE_CF1qfxcAN8XB33rI-1748740373-1.2.1.1-B7oiWGe3e.oMjXQfvoAIIUvhbpz5L3Iu75gVQfMY0UR68_HjhztOiNtAjc_eWcq8hjRDbNh7Y9ToS0ib0pJ.2EolKcTIzIYnPLWpnaGAR1Nmo517In_o3SEYc8bFzmKKwijBKvgmmSsBFPa6CdFvSgw5qSBVAW3.8zwE5oJtk4WSkmdj.WSjTD819EEVMqSBeRNkv1oimTM9qLt3ToKwgv85ex42DTwgEuDVcChfXAxfXPCBSrD8ow.7chkjXpk4tdaSTEN2doNO7SEdMdkH5dpg0GewoViqSuDqWCiFZrmzPGIAZ40I9QKw7_gPEMQj1vhQ78HWqUaLPnXIGcEflRzWFyFT0QFb58pC1xUTsom.dT0z9_QnRc_Uzh0L3T1NM1fC6qFt8LGOpXwWR7ejLY6OmmxUESpMg3vVbOuAladzQM8E3SoctsT7_8KvyWT8UwE_ydBPkPx_LQSKQ9we3IT07ileAtjuvJAMou8GPEafW7V.X9s8vNjJ_PBfX312ZOaYzWg54S_fLWsqbKbfkoKRQHesTIJP1XPh2VWC8bGhIlr9_oRd1YcVcp05RwPt4h5238ARlapRQUAUfpzcjGVhCi8KFuKYpg41RgZeGxQNuhvDrmNwWvPjWFc4FPsX9iTgk_mJ0oKlJnTuszyg5EX9zlBdQu4ZSUoN1TegHdk6nI_4zKbcgFyRiTW.arYJq2Yvd9xxIBu6FgChx8J9eCBml63ylOdiUF9OOeHHXSUGD00lY3R1bFFFg2.BdUq_rsUV7s3bagLajHYxlI4J7N_ELPsBGmPe8efRZksm_87FR2xpzdJZj1R9cCjdYgaG2Ie_OVW1UbGymXm0KZR5ltcsjlGp5_QCXoQY9hF7D1BYrQJC8IOYLUdnTONoVWXV9jXWhfcT7EeV57QQpkcgw1fiTYQhIoqFqbKwQWbzGZM\",mdrd: \"vZAiUKrQhCH4t7EPsHxPT1vpMmaUFYkxnTm6PcEIfb0-1748740373-1.2.1.1-olbYSHWwg6goziPkbP.XSdDMOIRQ57RiYvspGESuPRv9WaLLzvsKTchJ9pxutnfOEbPML_8zzeF17iuk02.QuFCwj25JG97VUoqja1G1TPolgM0jRJTxDKSDf.WTNtBGEEABOO6Q3N1ecyRVEvYBvpu.3zwNGiFQl1UmGzedtaLmWlmMMjbQbDgYKVlzf.2uGjdugZfYOp4Kd0_KU2.bd09hlxxW4rxz44mcaET0CS4RfcuaBl3CKCquC.JxKfQ5FwxKluFQrU3pICCRXBLRKltaUBVI1tO5PcAqAaQun8qjKHcTC0GmWC6AFV0fPZ3qoSI0Xqy2dUPCrA7S7TchgYpYRcNlhIpvM.ryqy9DBT2uqluUROV2beb6zRVU6vX0sGWGQbNX.YthIbSbemYaeUFSAtn0SqP46LM_i1wW2BuXGsTo2lNyIQ8LIbqOkmfekwi3c3OmB2flNHMY5zQyJL7kRUvYk5pkSsl8YSeIRtZ0jTMRFhgZ8MaqjxlaEdtNQfzR77IRfHYm.g1gAT0NjBABPqdIgTTecKmV2qoR27hFEm9fUz6W0vcTDVRhnPp37i4smoB.91iWVRkvkvsMJT0Y6vGCUIm8bGP9XDOaOBHGVwikbEprzXTPyiuwmkQfNo3p3vfQTj69Q0YAPEYYTxHLd5S2sn3V.KLCqSDenhwcCfyflKTqgeuJY7pPNnqRfQbprmswJYhjFLtsx4l_JQe4jusmjrKKNLZjdrl4CkUuCysZZRoa.Cgp0Vyhga8VLJKRZafUnaHlA6XKe.pyLH_HkfHga16scyu2gdIisaV2YDJUWeU8eA6e11V8xuThCHVs1aSS0KmVDGRWiur6AWQz8_fpOEjIM8Qm5MxYU_DkR4rf9HqjMd8wNfC9.qOo6I5yZH4w4DMbxCkxw1YM0kNcvfieVTTbZ3WjqZhIX53KHLmfYVONmLOVn_O5mHJgE9J8JGqeTeo0jFFSf.lsR4slP43F4sremo_W0xeJiRtIZmZh3EelwD6g.shSjp1oVLIyhGl0JXCqRPxdmxRL.Nm1VS71uchZVNn2.dgGvNXDdjpx9WkKUU1jLdWfTpVUfmsp4NMfklBRJ9Z59m4kxNR7FAFIwzjFB3Toq2FO.NAMYp0211A17AHJd5797yxgg9OJGgEPNbxXUzIcdAI2vbVXG.gC_9.GT4yWnHo45ECb5BgSOayQGC3xb2YBJ65JIAfF1ZqmnCsvAOgqmR62vs46qGTOgLChHiJF5DtE6hgWg8T4tLp2h.QTe8.pN_CHCCuDdVb5guxG0ZVux2pc21mbqDGwiWVv.zL0VRCD.qQ8ZtWPcM.EIWmwVo83cCDR3l5A_2eIFB8ETeaBV2bQP4rjp6fqfSO0x82x4FBx7PgWrNGpgg9b_9e77Na.KXzLZYNLXkTsNowgzOJ33.Mf9vtNEULTJqRp5j9ZJj29PpibVnpHbuUlOoLvjMaaR86yXShDhclZwsmb9bVsUzQSAGDttXu71SNvtSLmf7qbP.NusVbUJ138JizPnZyfYROpq6k_7A9xeczkw3U7Df4svLDtRsUeDGBkQREAH2VLP.M.24XZSAA3H4WyqJCA1ZCtAiAAPAmuH6sJwFUvO0DFRw0pluW7BdkuqGdS6c2umf_hptvFQ2IwmBcSAFIgHJYIkfxRsIbDiEPUBD_w_SLh_HD2fje7tqHSW0gKXqyUfR3bltH3rLin8r6YzMe5rVC95ayAiI.Pxay_xqAkNXMUT8u.BBMTpN.yuMGBM24mUNJYQjCyeHmnlHc0wDn5IYEVNj0f2qjrOF38ufvFQLryKtTXndFqvwJBlyqTBwH83yy7T9bgQrxxumBR.9hIKsd_z.Dvci48rN0vGNfZzyzgv0kNJ4eZhXMeZCskFAg9ZY9ycOFJH9zigboGbgO9ToCNfSIkWo8IG1rzZacHvAgMYiivmuQ_9.dIA.tp2i9XV5Uo8je9BxuU1dw030EUjJQ_No6S.IN6jyo_7g1_mUkhGtGJ.bvFl.rJSneeFwdXw1LUKSfqRMlEeT5.QvLTMyeYeqY_yVGRzXWltqdYVu_kmA3J0sO_FHMs9J6ZyHCideO1kK.3VIkG5olxF..O525du9.CXaP_Ego9nOlh8qSlYCrY_iZX3RVftA980wh2pV67xpPEBBTMYzRIThEB3E3Ld03OLWVsgsvzivgSUqL1svRoXA3COOk9MJPCO8pQkcJdguCKa2AZI4cwbLJ8s8JlXCRw6oIw4ezuWwaJ0pWtn6oED4AVA0RvsD6o55RVWJ0Vm8t.pbGf35KGC_CddDft5Ct4DcVwo_7DsSevH3ZEMykRJU68XKmBNssEZSPEMTY\"};var cpo = document.createElement('script');cpo.src = '/cdn-cgi/challenge-platform/h/g/orchestrate/chl_page/v1?ray=948ad864fa61bdfc';window._cf_chl_opt.cOgUHash = location.hash === '' && location.href.indexOf('#') !== -1 ? '#' : location.hash;window._cf_chl_opt.cOgUQuery = location.search === '' && location.href.slice(0, location.href.length - window._cf_chl_opt.cOgUHash.length).indexOf('?') !== -1 ? '?' : location.search;if (window.history && window.history.replaceState) {var ogU = location.pathname + window._cf_chl_opt.cOgUQuery + window._cf_chl_opt.cOgUHash;history.replaceState(null, null, \"\\/EUAC35?__cf_chl_rt_tk=OJ4jG2tnQqSsND1ObWupY7Y8d_0eRXY5Jyqv9wrlvrU-1748740373-1.0.1.1-Y2Pw5ZzT5fhrb8058q_QmxRPl6aMUxoOee5zr3sknEM\" + window._cf_chl_opt.cOgUHash);cpo.onload = function() {history.replaceState(null, null, ogU);}}document.getElementsByTagName('head')[0].appendChild(cpo);}());</script></body></html>\n"
     ]
    }
   ],
   "source": [
    "print(soup)"
   ]
  },
  {
   "cell_type": "markdown",
   "id": "36b53490",
   "metadata": {},
   "source": [
    "Getting blocked by Cloudflare's DDoS protection"
   ]
  },
  {
   "cell_type": "markdown",
   "id": "f0af920e",
   "metadata": {},
   "source": [
    "To get around this, we are going to open the tournament links with selenium and pull the data from that."
   ]
  },
  {
   "cell_type": "code",
   "execution_count": 7,
   "id": "42b177f3",
   "metadata": {
    "scrolled": true
   },
   "outputs": [],
   "source": [
    "#pip install selenium webdriver-manager"
   ]
  },
  {
   "cell_type": "code",
   "execution_count": 8,
   "id": "1e779c28",
   "metadata": {},
   "outputs": [],
   "source": [
    "from selenium import webdriver\n",
    "from selenium.webdriver.chrome.service import Service\n",
    "from webdriver_manager.chrome import ChromeDriverManager\n",
    "import time"
   ]
  },
  {
   "cell_type": "code",
   "execution_count": 9,
   "id": "f55cfd0d",
   "metadata": {},
   "outputs": [],
   "source": [
    "driver = webdriver.Chrome(service=Service(ChromeDriverManager().install()))\n",
    "driver.get(url)\n",
    "\n",
    "time.sleep(5) # Adding a delay to ensure the Javascript loads\n",
    "\n",
    "html = driver.page_source\n",
    "\n",
    "driver.quit()"
   ]
  },
  {
   "cell_type": "code",
   "execution_count": 10,
   "id": "4ab4eb04",
   "metadata": {},
   "outputs": [
    {
     "data": {
      "text/plain": [
       "'<html lang=\"en\" xmlns=\"http://www.w3.org/1999/xhtml\"><head>\\n<meta content=\"text/html;charset=utf-8\" http-equiv=\"Content-Type\">\\n<meta name=\"csrf-param\" content=\"authenticity_token\">\\n<meta name=\"csrf-token\" content=\"2iP2dPAly4/62qNX7HPY3jbf3d6FcuNLbwE/Kzl53vFRgmPIF6j9gGcb4vs8nfqgUzY7rILNeEskjXXsM+rtsw==\">\\n<meta name=\"asset-host\" content=\"https://assets.challonge.com\">\\n<meta content=\"noindex,nofollow\" name=\"robots\">\\n<meta content=\"width=device-width, initial-scale=1.0\" name=\"viewport\">\\n<meta content=\"https://stream.challonge.com:8000/faye\" name=\"stream-url\">\\n<link rel=\"stylesheet\" media=\"all\" href=\"https://fonts.googleapis.com/css?family=Source+Sans+Pro:300,400,600,700\">\\n<link rel=\"stylesheet\" media=\"all\" href=\"https://fonts.googleapis.com/css2?family=Radio+Canada+Big:ital,wght@0,400..700;1,400..700&amp;display=swap\">\\n<link rel=\"stylesheet\" media=\"all\" href=\"https://fonts.googleapis.com/css2?family=Inter:wght@300;400;600;700&amp;display=swap\">\\n<link rel=\"stylesheet\" media=\"all\" href=\"https://fonts.googleapis.com/css2?family=Blinker:wght@400;600&amp;display=swap\">\\n<link rel=\"stylesheet\" media=\"all\" href=\"https://fonts.googleapis.com/css2?family=Roboto:wght@300;400;500;600;700&amp;display=swap\">\\n<link rel=\"stylesheet\" media=\"all\" href=\"https://assets.challonge.com/assets/application-ef49aa73dd6e537f93bd81959c407521b2d8a9cef9ca2643f6ad09e00884f9ea.css\" class=\"challonge_stylesheet\">\\n<script src=\"https://connect.facebook.net/en_US/sdk.js?hash=a973b7825e1b704385951048b98f4a2c\" async=\"\" crossorigin=\"anonymous\"></script><script src=\"https://cdn.hadronid.net/hadron.js?url=https%3A%2F%2Fchallonge.com%2FEUAC35&amp;ref=&amp;_it=amazon&amp;partner_id=720\"></script><script id=\"facebook-jssdk\" src=\"//connect.facebook.net/en_US/sdk.js\"></script><script async=\"\" src=\"https://www.google-analytics.com/analytics.js\"></script><script>\\n  // redirect XBC clients to the XSplit plugin page\\n  if (navigator.userAgent.indexOf(\"XSplit\") > 0) {\\n    window.location = \\'/EUAC35/xsplit\\';\\n  }\\n</script>\\n\\n<meta content=\"EU ARMS Challenge #35 - Challonge\" property=\"og:title\">\\n<meta content=\"https://challonge.com/EUAC35\" property=\"og:url\">\\n<meta content=\"website\" property=\"og:type\">\\n<meta content=\"Explore this tournament hosted by European ARMS Competitive, a Challonge Community\" property=\"og:description\">\\n<meta content=\"https://s3.amazonaws.com/challonge_app/organizations/images/000/108/011/hdpi/eu_arms.png?1571583256\" itemprop=\"image\" property=\"og:image\">\\n<meta content=\"https://s3.amazonaws.com/challonge_app/organizations/images/000/108/011/hdpi/eu_arms.png?1571583256\" itemprop=\"image\" property=\"og:image:url\">\\n<meta content=\"https://s3.amazonaws.com/challonge_app/organizations/images/000/108/011/hdpi/eu_arms.png?1571583256\" itemprop=\"image\" property=\"og:image:secure_url\">\\n\\n<link href=\"https://challonge.com/ar/EUAC35\" hreflang=\"ar\" id=\"locale-ar\" rel=\"alternate\">\\n<link href=\"https://challonge.com/cs/EUAC35\" hreflang=\"cs\" id=\"locale-cs\" rel=\"alternate\">\\n<link href=\"https://challonge.com/da/EUAC35\" hreflang=\"da\" id=\"locale-da\" rel=\"alternate\">\\n<link href=\"https://challonge.com/de/EUAC35\" hreflang=\"de\" id=\"locale-de\" rel=\"alternate\">\\n<link href=\"https://challonge.com/es/EUAC35\" hreflang=\"es\" id=\"locale-es\" rel=\"alternate\">\\n<link href=\"https://challonge.com/fi/EUAC35\" hreflang=\"fi\" id=\"locale-fi\" rel=\"alternate\">\\n<link href=\"https://challonge.com/fr/EUAC35\" hreflang=\"fr\" id=\"locale-fr\" rel=\"alternate\">\\n<link href=\"https://challonge.com/hu/EUAC35\" hreflang=\"hu\" id=\"locale-hu\" rel=\"alternate\">\\n<link href=\"https://challonge.com/id/EUAC35\" hreflang=\"id\" id=\"locale-id\" rel=\"alternate\">\\n<link href=\"https://challonge.com/it/EUAC35\" hreflang=\"it\" id=\"locale-it\" rel=\"alternate\">\\n<link href=\"https://challonge.com/ja/EUAC35\" hreflang=\"ja\" id=\"locale-ja\" rel=\"alternate\">\\n<link href=\"https://challonge.com/ko/EUAC35\" hreflang=\"ko\" id=\"locale-ko\" rel=\"alternate\">\\n<link href=\"https://challonge.com/lv-LV/EUAC35\" hreflang=\"lv-lv\" id=\"locale-lv-LV\" rel=\"alternate\">\\n<link href=\"https://challonge.com/nl/EUAC35\" hreflang=\"nl\" id=\"locale-nl\" rel=\"alternate\">\\n<link href=\"https://challonge.com/no/EUAC35\" hreflang=\"no\" id=\"locale-no\" rel=\"alternate\">\\n<link href=\"https://challonge.com/pl/EUAC35\" hreflang=\"pl\" id=\"locale-pl\" rel=\"alternate\">\\n<link href=\"https://challonge.com/pt/EUAC35\" hreflang=\"pt\" id=\"locale-pt\" rel=\"alternate\">\\n<link href=\"https://challonge.com/pt_BR/EUAC35\" hreflang=\"pt-br\" id=\"locale-pt_BR\" rel=\"alternate\">\\n<link href=\"https://challonge.com/ro/EUAC35\" hreflang=\"ro\" id=\"locale-ro\" rel=\"alternate\">\\n<link href=\"https://challonge.com/ru/EUAC35\" hreflang=\"ru\" id=\"locale-ru\" rel=\"alternate\">\\n<link href=\"https://challonge.com/sk/EUAC35\" hreflang=\"sk\" id=\"locale-sk\" rel=\"alternate\">\\n<link href=\"https://challonge.com/sv/EUAC35\" hreflang=\"sv\" id=\"locale-sv\" rel=\"alternate\">\\n<link href=\"https://challonge.com/th/EUAC35\" hreflang=\"th\" id=\"locale-th\" rel=\"alternate\">\\n<link href=\"https://challonge.com/tr/EUAC35\" hreflang=\"tr\" id=\"locale-tr\" rel=\"alternate\">\\n<link href=\"https://challonge.com/uk/EUAC35\" hreflang=\"uk\" id=\"locale-uk\" rel=\"alternate\">\\n<link href=\"https://challonge.com/vi/EUAC35\" hreflang=\"vi\" id=\"locale-vi\" rel=\"alternate\">\\n<link href=\"https://challonge.com/zh_CN/EUAC35\" hreflang=\"zh-cn\" id=\"locale-zh_CN\" rel=\"alternate\">\\n<link href=\"https://challonge.com/zh_TW/EUAC35\" hreflang=\"zh-tw\" id=\"locale-zh_TW\" rel=\"alternate\">\\n\\n<link href=\"https://assets.challonge.com/apple-touch-icon.png\" rel=\"apple-touch-icon\" sizes=\"180x180\">\\n<link href=\"https://assets.challonge.com/favicon-16x16.png\" rel=\"icon\" sizes=\"16x16\" type=\"image/png\">\\n<link href=\"https://assets.challonge.com/favicon-32x32.png\" rel=\"icon\" sizes=\"32x32\" type=\"image/png\">\\n<link href=\"https://assets.challonge.com/manifest.json\" rel=\"manifest\">\\n<link color=\"#272a33\" href=\"https://assets.challonge.com/safari-pinned-tab.svg\" rel=\"mask-icon\">\\n<meta content=\"#272a33\" name=\"theme-color\">\\n\\n  <!-- Google tag (gtag.js) -->\\n  <script async=\"\" src=\"https://www.googletagmanager.com/gtag/js?id=G-1EEPZLM6JC\"></script>\\n\\n  <script type=\"text/javascript\">\\n    function readCookie(name) {\\n      var nameEQ = name + \"=\";\\n      var ca = document.cookie.split(\\';\\');\\n      for(var i=0;i < ca.length;i++) {\\n        var c = ca[i];\\n        while (c.charAt(0)==\\' \\') c = c.substring(1,c.length);\\n        if (c.indexOf(nameEQ) == 0) return c.substring(nameEQ.length,c.length);\\n      }\\n      return null;\\n    }\\n\\n    (function(i,s,o,g,r,a,m){i[\\'GoogleAnalyticsObject\\']=r;i[r]=i[r]||function(){\\n    (i[r].q=i[r].q||[]).push(arguments)},i[r].l=1*new Date();a=s.createElement(o),\\n    m=s.getElementsByTagName(o)[0];a.async=1;a.src=g;m.parentNode.insertBefore(a,m)\\n    })(window,document,\\'script\\',\\'https://www.google-analytics.com/analytics.js\\',\\'ga\\');\\n\\n    ga(\\'create\\', \\'UA-2701080-3\\', \\'auto\\');\\n\\n    // Set User-ID if logged in\\n    var uid = readCookie(\\'_cuid\\');\\n    if (uid) { ga(\\'set\\', \\'userId\\', uid); }\\n\\n    ga(\\'send\\', \\'pageview\\');\\n\\n    // GA4\\n    window.dataLayer = window.dataLayer || [];\\n    function gtag(){dataLayer.push(arguments);}\\n    gtag(\\'js\\', new Date());\\n\\n    // Set User-ID if logged in\\n    // var uid = readCookie(\\'_cuid\\'); // already set above\\n\\n    if (uid) {\\n      gtag(\\'config\\', \\'G-1EEPZLM6JC\\', { \\'user_id\\': uid });\\n    } else {\\n      gtag(\\'config\\', \\'G-1EEPZLM6JC\\');\\n    }\\n  </script>\\n\\n\\n\\n    <script data-demo=\"false\" data-cfasync=\"false\">window.nitroAds=window.nitroAds||{createAd:function(){return new Promise(e=>{window.nitroAds.queue.push([\"createAd\",arguments,e])})},addUserToken:function(){window.nitroAds.queue.push([\"addUserToken\",arguments])},queue:[]};\\n    </script>\\n    <script data-demo=\"false\" data-cfasync=\"false\" async=\"\" src=\"https://s.nitropay.com/ads-74.js\"></script>\\n\\n\\n\\n\\n<script src=\"https://js.stripe.com/v3/\"></script>\\n<title>\\nEU ARMS Challenge #35 - \\nChallonge\\n</title>\\n<script async=\"\" type=\"text/javascript\" src=\"https://btloader.com/tag?o=6278260873756672&amp;upapi=true\" id=\"nitroads-bt\"></script><script async=\"\" defer=\"\" type=\"text/javascript\" src=\"https://ats-wrapper.privacymanager.io/ats-modules/438cb908-ed61-41e9-b716-05d5f4122a64/ats.js\" id=\"nitro-lr\"></script><script async=\"\" type=\"text/javascript\" src=\"https://securepubads.g.doubleclick.net/tag/js/gpt.js\" id=\"nitro-gpt\"></script><style>div[id^=\"google_ads_iframe_\"] { display: inline-block; }</style><script async=\"\" type=\"text/javascript\" src=\"//s.nitropay.com/gpp-b4dfd58.min.js\"></script><script async=\"\" type=\"text/javascript\" src=\"//c.amazon-adsystem.com/aax2/apstag.js\"></script><style type=\"text/css\">.ncmp__normalise{line-height:1.15;-webkit-text-size-adjust:100%;margin:0}.ncmp__normalise main{display:block}.ncmp__normalise h1{font-size:2em;margin:.67em 0}.ncmp__normalise h1,.ncmp__normalise h2,.ncmp__normalise h3,.ncmp__normalise h4,.ncmp__normalise h5,.ncmp__normalise h6{color:#000;font-family:\"Roboto\",Arial,Helvetica,sans-serif;text-transform:none !important}.ncmp__normalise span{color:#444}.ncmp__normalise p{color:#444}.ncmp__normalise ul{color:#444;font-size:14px}.ncmp__normalise ul li{color:#444}.ncmp__normalise hr{box-sizing:content-box;height:0;overflow:visible}.ncmp__normalise pre{font-family:monospace,monospace;font-size:1em}.ncmp__normalise a{background-color:transparent}.ncmp__normalise abbr[title]{border-bottom:none;text-decoration:underline;-webkit-text-decoration:underline dotted;text-decoration:underline dotted}.ncmp__normalise b,.ncmp__normalise strong{color:#000;font-weight:bolder}.ncmp__normalise code,.ncmp__normalise kbd,.ncmp__normalise samp{font-family:monospace,monospace;font-size:1em}.ncmp__normalise small{font-size:80%}.ncmp__normalise sub,.ncmp__normalise sup{font-size:75%;line-height:0;position:relative;vertical-align:baseline}.ncmp__normalise sub{bottom:-0.25em}.ncmp__normalise sup{top:-0.5em}.ncmp__normalise img{margin:0;border-style:none}.ncmp__normalise button,.ncmp__normalise input,.ncmp__normalise optgroup,.ncmp__normalise select,.ncmp__normalise textarea{font-family:inherit;font-size:100%;line-height:1.15;margin:0;box-shadow:none;text-shadow:none}.ncmp__normalise button,.ncmp__normalise input{overflow:visible}.ncmp__normalise button,.ncmp__normalise select{text-transform:none}.ncmp__normalise button,.ncmp__normalise [type=button],.ncmp__normalise [type=reset],.ncmp__normalise [type=submit]{-webkit-appearance:button}.ncmp__normalise button::-moz-focus-inner,.ncmp__normalise [type=button]::-moz-focus-inner,.ncmp__normalise [type=reset]::-moz-focus-inner,.ncmp__normalise [type=submit]::-moz-focus-inner{border-style:none;padding:0}.ncmp__normalise button:-moz-focusring,.ncmp__normalise [type=button]:-moz-focusring,.ncmp__normalise [type=reset]:-moz-focusring,.ncmp__normalise [type=submit]:-moz-focusring{outline:1px dotted ButtonText}.ncmp__normalise fieldset{padding:.35em .75em .625em}.ncmp__normalise legend{box-sizing:border-box;color:inherit;display:table;max-width:100%;padding:0;white-space:normal}.ncmp__normalise progress{vertical-align:baseline}.ncmp__normalise textarea{overflow:auto}.ncmp__normalise [type=checkbox],.ncmp__normalise [type=radio]{box-sizing:border-box;padding:0}.ncmp__normalise [type=number]::-webkit-inner-spin-button,.ncmp__normalise [type=number]::-webkit-outer-spin-button{height:auto}.ncmp__normalise [type=search]{-webkit-appearance:textfield;outline-offset:-2px}.ncmp__normalise [type=search]::-webkit-search-decoration{-webkit-appearance:none}.ncmp__normalise ::-webkit-file-upload-button{-webkit-appearance:button;font:inherit}.ncmp__normalise details{display:block}.ncmp__normalise summary{display:list-item}.ncmp__normalise template{display:none}.ncmp__normalise [hidden]{display:none}#ncmp__tool,#ncmp__modal{font-family:\"Roboto\",Arial,Helvetica,sans-serif;font-weight:400;font-size:14px;line-height:22px;position:relative;z-index:2147483647}@media(max-width: 1024px){#ncmp__tool,#ncmp__modal{padding:10px;box-sizing:border-box}}#ncmp__tool a,#ncmp__modal a{color:#0061b1;text-decoration:none}#ncmp__tool a:hover,#ncmp__modal a:hover{color:#004680}#ncmp__tool button.ncmp__btn,#ncmp__tool a.ncmp__btn,#ncmp__modal button.ncmp__btn,#ncmp__modal a.ncmp__btn{cursor:pointer;-webkit-user-select:none;-moz-user-select:none;-ms-user-select:none;user-select:none;display:inline-block;background-image:none;outline:0;outline-offset:0;border:0;border-radius:2px;transition:all .15s ease-in-out;min-width:88px;padding:0 14px;-webkit-appearance:button;background-color:#0061b1;font-weight:400;letter-spacing:inherit;color:rgba(255,255,255,.87);margin-bottom:0;text-align:center;white-space:nowrap;vertical-align:middle;line-height:32px;height:32px}#ncmp__tool button.ncmp__btn:hover,#ncmp__tool a.ncmp__btn:hover,#ncmp__modal button.ncmp__btn:hover,#ncmp__modal a.ncmp__btn:hover{background-color:#0061b1;color:#fff;text-decoration:none}#ncmp__tool button.ncmp__btn.ncmp__btn-danger,#ncmp__tool a.ncmp__btn.ncmp__btn-danger,#ncmp__modal button.ncmp__btn.ncmp__btn-danger,#ncmp__modal a.ncmp__btn.ncmp__btn-danger{background-color:#fff;border:1px solid #0061b1;color:#0061b1}#ncmp__tool button.ncmp__btn.ncmp__btn-border,#ncmp__tool a.ncmp__btn.ncmp__btn-border,#ncmp__modal button.ncmp__btn.ncmp__btn-border,#ncmp__modal a.ncmp__btn.ncmp__btn-border{border:1px solid #0061b1;background-color:#fff;color:#0061b1}#ncmp__tool button.ncmp__btn.ncmp__btn-border:hover,#ncmp__tool a.ncmp__btn.ncmp__btn-border:hover,#ncmp__modal button.ncmp__btn.ncmp__btn-border:hover,#ncmp__modal a.ncmp__btn.ncmp__btn-border:hover{background-color:#fff;color:#0061b1}.ncmp__active{opacity:1 !important;pointer-events:all !important}.ncmp__language>a{position:absolute;z-index:44;top:15px;right:15px;font-size:12px;font-weight:500}.ncmp__language>a img{vertical-align:middle;width:16px;margin-right:8px}@media(max-width: 1023px){.ncmp__language>a{top:10px;font-size:10px}.ncmp__language>a img{width:14px}}.ncmp__language .ncmp__language-close{display:block;position:absolute;top:8px;right:8px}.ncmp__language .ncmp__language-close img{width:18px}.ncmp__language .ncmp__language-list{display:block;position:absolute;z-index:44;top:15px;right:15px;padding:10px;background:#083f6b;width:300px;box-shadow:-2px 4px 10px rgba(0,0,0,.5);opacity:0;pointer-events:none;transition:all .2s ease-in}.ncmp__language .ncmp__language-list a{color:#fff !important;font-weight:300}@media(max-width: 1023px){.ncmp__language .ncmp__language-list{width:auto;top:10px;right:10px;left:10px}}.ncmp__language .ncmp__language-list.active{pointer-events:all;opacity:.95}.ncmp__language .ncmp__language-list ul{list-style-type:none;display:grid;grid-template-columns:1fr 1fr 1fr;font-size:12px;margin:0;padding:0;grid-gap:3px}@media(max-width: 1023px){.ncmp__language .ncmp__language-list ul{grid-template-columns:1fr 1fr 1fr}}.ncmp__language .ncmp__language-list ul li{margin:0;padding:0;list-style-image:none}.ncmp__language.ncmp__language-modal>a{top:22px;right:30px}@media(max-width: 1023px){.ncmp__language.ncmp__language-modal>a{right:15px}.ncmp__language.ncmp__language-modal>a span{display:none}}.ncmp__language.ncmp__language-modal .ncmp__language-list{top:22px;right:30px}@media(max-width: 1023px){.ncmp__language.ncmp__language-modal .ncmp__language-list{width:auto;top:10px;right:10px;left:10px}}#nitropay-ccpa-shadow{margin:0;padding:0;border:0;font-size:100%;font:inherit;vertical-align:baseline;display:block;font-size:1em;position:fixed;top:0;left:0;bottom:0;right:0;pointer-events:none;background:rgba(0,0,0,0);opacity:0;z-index:-5;display:flex;align-items:center;justify-content:center}#nitropay-ccpa-shadow html,#nitropay-ccpa-shadow body,#nitropay-ccpa-shadow div,#nitropay-ccpa-shadow span,#nitropay-ccpa-shadow applet,#nitropay-ccpa-shadow object,#nitropay-ccpa-shadow iframe,#nitropay-ccpa-shadow h1,#nitropay-ccpa-shadow h2,#nitropay-ccpa-shadow h3,#nitropay-ccpa-shadow h4,#nitropay-ccpa-shadow h5,#nitropay-ccpa-shadow h6,#nitropay-ccpa-shadow p,#nitropay-ccpa-shadow blockquote,#nitropay-ccpa-shadow pre,#nitropay-ccpa-shadow a,#nitropay-ccpa-shadow abbr,#nitropay-ccpa-shadow acronym,#nitropay-ccpa-shadow address,#nitropay-ccpa-shadow big,#nitropay-ccpa-shadow cite,#nitropay-ccpa-shadow code,#nitropay-ccpa-shadow del,#nitropay-ccpa-shadow dfn,#nitropay-ccpa-shadow em,#nitropay-ccpa-shadow img,#nitropay-ccpa-shadow ins,#nitropay-ccpa-shadow kbd,#nitropay-ccpa-shadow q,#nitropay-ccpa-shadow s,#nitropay-ccpa-shadow samp,#nitropay-ccpa-shadow small,#nitropay-ccpa-shadow strike,#nitropay-ccpa-shadow strong,#nitropay-ccpa-shadow sub,#nitropay-ccpa-shadow sup,#nitropay-ccpa-shadow tt,#nitropay-ccpa-shadow var,#nitropay-ccpa-shadow b,#nitropay-ccpa-shadow u,#nitropay-ccpa-shadow i,#nitropay-ccpa-shadow center,#nitropay-ccpa-shadow dl,#nitropay-ccpa-shadow dt,#nitropay-ccpa-shadow dd,#nitropay-ccpa-shadow ol,#nitropay-ccpa-shadow ul,#nitropay-ccpa-shadow li,#nitropay-ccpa-shadow fieldset,#nitropay-ccpa-shadow form,#nitropay-ccpa-shadow label,#nitropay-ccpa-shadow legend,#nitropay-ccpa-shadow table,#nitropay-ccpa-shadow caption,#nitropay-ccpa-shadow tbody,#nitropay-ccpa-shadow tfoot,#nitropay-ccpa-shadow thead,#nitropay-ccpa-shadow tr,#nitropay-ccpa-shadow th,#nitropay-ccpa-shadow td,#nitropay-ccpa-shadow article,#nitropay-ccpa-shadow aside,#nitropay-ccpa-shadow canvas,#nitropay-ccpa-shadow details,#nitropay-ccpa-shadow embed,#nitropay-ccpa-shadow figure,#nitropay-ccpa-shadow figcaption,#nitropay-ccpa-shadow footer,#nitropay-ccpa-shadow header,#nitropay-ccpa-shadow hgroup,#nitropay-ccpa-shadow menu,#nitropay-ccpa-shadow nav,#nitropay-ccpa-shadow output,#nitropay-ccpa-shadow ruby,#nitropay-ccpa-shadow section,#nitropay-ccpa-shadow summary,#nitropay-ccpa-shadow time,#nitropay-ccpa-shadow mark,#nitropay-ccpa-shadow audio,#nitropay-ccpa-shadow video{margin:0;padding:0;border:0;font-size:100%;font:inherit;vertical-align:baseline}#nitropay-ccpa-shadow :focus{outline:0}#nitropay-ccpa-shadow article,#nitropay-ccpa-shadow aside,#nitropay-ccpa-shadow details,#nitropay-ccpa-shadow figcaption,#nitropay-ccpa-shadow figure,#nitropay-ccpa-shadow footer,#nitropay-ccpa-shadow header,#nitropay-ccpa-shadow hgroup,#nitropay-ccpa-shadow menu,#nitropay-ccpa-shadow nav,#nitropay-ccpa-shadow section{display:block}#nitropay-ccpa-shadow body{line-height:1}#nitropay-ccpa-shadow ol,#nitropay-ccpa-shadow ul{list-style:none}#nitropay-ccpa-shadow blockquote,#nitropay-ccpa-shadow q{quotes:none}#nitropay-ccpa-shadow blockquote:before,#nitropay-ccpa-shadow blockquote:after,#nitropay-ccpa-shadow q:before,#nitropay-ccpa-shadow q:after{content:\"\";content:none}#nitropay-ccpa-shadow table{border-collapse:collapse;border-spacing:0}#nitropay-ccpa-shadow input[type=search]::-webkit-search-cancel-button,#nitropay-ccpa-shadow input[type=search]::-webkit-search-decoration,#nitropay-ccpa-shadow input[type=search]::-webkit-search-results-button,#nitropay-ccpa-shadow input[type=search]::-webkit-search-results-decoration{-webkit-appearance:none;-moz-appearance:none}#nitropay-ccpa-shadow input[type=search]{-webkit-appearance:none;-moz-appearance:none;box-sizing:content-box}#nitropay-ccpa-shadow textarea{overflow:auto;vertical-align:top;resize:vertical}#nitropay-ccpa-shadow audio,#nitropay-ccpa-shadow canvas,#nitropay-ccpa-shadow video{display:inline-block;*display:inline;*zoom:1;max-width:100%}#nitropay-ccpa-shadow audio:not([controls]){display:none;height:0}#nitropay-ccpa-shadow [hidden]{display:none}#nitropay-ccpa-shadow html{font-size:100%;-webkit-text-size-adjust:100%;-ms-text-size-adjust:100%}#nitropay-ccpa-shadow a:focus{outline:thin dotted}#nitropay-ccpa-shadow a:active,#nitropay-ccpa-shadow a:hover{outline:0}#nitropay-ccpa-shadow img{border:0;-ms-interpolation-mode:bicubic}#nitropay-ccpa-shadow figure{margin:0}#nitropay-ccpa-shadow form{margin:0}#nitropay-ccpa-shadow fieldset{border:1px solid silver;margin:0 2px;padding:.35em .625em .75em}#nitropay-ccpa-shadow legend{border:0;padding:0;white-space:normal;*margin-left:-7px}#nitropay-ccpa-shadow button,#nitropay-ccpa-shadow input,#nitropay-ccpa-shadow select,#nitropay-ccpa-shadow textarea{font-size:100%;margin:0;vertical-align:baseline;*vertical-align:middle}#nitropay-ccpa-shadow button,#nitropay-ccpa-shadow input{line-height:normal}#nitropay-ccpa-shadow button,#nitropay-ccpa-shadow select{text-transform:none}#nitropay-ccpa-shadow button,#nitropay-ccpa-shadow html input[type=button],#nitropay-ccpa-shadow input[type=reset],#nitropay-ccpa-shadow input[type=submit]{-webkit-appearance:button;cursor:pointer;*overflow:visible}#nitropay-ccpa-shadow button[disabled],#nitropay-ccpa-shadow html input[disabled]{cursor:default}#nitropay-ccpa-shadow input[type=checkbox],#nitropay-ccpa-shadow input[type=radio]{box-sizing:border-box;padding:0;*height:13px;*width:13px}#nitropay-ccpa-shadow input[type=search]{-webkit-appearance:textfield;box-sizing:content-box}#nitropay-ccpa-shadow input[type=search]::-webkit-search-cancel-button,#nitropay-ccpa-shadow input[type=search]::-webkit-search-decoration{-webkit-appearance:none}#nitropay-ccpa-shadow button::-moz-focus-inner,#nitropay-ccpa-shadow input::-moz-focus-inner{border:0;padding:0}#nitropay-ccpa-shadow textarea{overflow:auto;vertical-align:top}#nitropay-ccpa-shadow table{border-collapse:collapse;border-spacing:0}#nitropay-ccpa-shadow html,#nitropay-ccpa-shadow button,#nitropay-ccpa-shadow input,#nitropay-ccpa-shadow select,#nitropay-ccpa-shadow textarea{color:#222}#nitropay-ccpa-shadow ::-moz-selection{background:#b3d4fc;text-shadow:none}#nitropay-ccpa-shadow ::selection{background:#b3d4fc;text-shadow:none}#nitropay-ccpa-shadow img{vertical-align:middle}#nitropay-ccpa-shadow fieldset{border:0;margin:0;padding:0}#nitropay-ccpa-shadow textarea{resize:vertical}#nitropay-ccpa-shadow .chromeframe{margin:.2em 0;background:#ccc;color:#000;padding:.2em 0}#nitropay-ccpa-shadow.nitropay-ccpa-shadow-active{background:rgba(0,0,0,.25);pointer-events:all;opacity:1;z-index:999998}#nitropay-ccpa-shadow #nitropay-ccpa-modal{background:#fff;width:100%;max-width:570px;max-height:800px;overflow:auto;box-shadow:0px 0px 15px rgba(0,0,0,.1);border:1px solid #f1f1f1;padding:30px;font-family:Roboto,Arial,Helvetica,sans-serif;color:#000}@media(max-width: 767px){#nitropay-ccpa-shadow #nitropay-ccpa-modal{height:100%;width:100%;box-sizing:border-box;max-width:100%;max-height:100%}}#nitropay-ccpa-shadow #nitropay-ccpa-modal #nitropay-ccpa-close-btn{float:right;width:24px;height:24px;cursor:pointer;opacity:.7}#nitropay-ccpa-shadow #nitropay-ccpa-modal #nitropay-ccpa-close-btn:hover{opacity:.85}#nitropay-ccpa-shadow #nitropay-ccpa-modal h1{color:#000;font-size:22px;font-weight:600;margin-bottom:15px}#nitropay-ccpa-shadow #nitropay-ccpa-modal h2{color:#000;font-weight:500;font-size:12px;text-transform:uppercase;letter-spacing:1px;margin-bottom:1px}#nitropay-ccpa-shadow #nitropay-ccpa-modal p{color:#000;margin-bottom:15px;font-size:14px;font-weight:300}#nitropay-ccpa-shadow #nitropay-ccpa-modal p a{color:#000;font-weight:500}#nitropay-ccpa-shadow #nitropay-ccpa-modal form{display:block;margin-top:20px;font-size:14px;border-top:1px solid #efefef;padding-top:20px}#nitropay-ccpa-shadow #nitropay-ccpa-modal form div{margin-bottom:5px}#nitropay-ccpa-shadow #nitropay-ccpa-modal label{color:#000;cursor:pointer}#nitropay-ccpa-shadow #nitropay-ccpa-modal #nitropay-ccpa-form-status{font-weight:500;color:green;margin:20px 0 0 0;display:none}#nitropay-ccpa-shadow #nitropay-ccpa-modal #nitropay-ccpa-form-status a{color:green}</style><style type=\"text/css\">.ncmp__banner{position:fixed;bottom:20px;right:20px;max-width:750px;background:#fff;box-shadow:0 0 8px rgba(0,0,0,.2);transition:opacity .25s ease-in;overflow:auto;max-height:100%;box-sizing:border-box;opacity:0;pointer-events:none;display:flex}@media(max-width: 1023px)and (min-height: 600px){.ncmp__banner{margin-top:10px;max-height:100vh;box-sizing:border-box;left:8px;bottom:8px;right:8px;max-width:100%;overflow:initial;background:#fff}}@media(max-width: 1023px)and (max-height: 599px){.ncmp__banner{top:20px;left:20px;max-width:100%}}.ncmp__banner.ncmp__banner-app{left:20px;top:20px;right:20px;bottom:20px;max-width:100%;margin-top:0;box-shadow:2px 2px 20px rgba(0,0,0,.45);padding:15px}.ncmp__banner.ncmp__banner-app h2{font-size:20px !important;margin-bottom:15px !important}.ncmp__banner.ncmp__banner-app p{font-size:14px !important;line-height:24px !important}.ncmp__banner.ncmp__banner-app .ncmp__banner-inner{display:flex;flex-direction:column}.ncmp__banner .ncmp__banner-updated{padding:5px 10px;background:#ffdda9;color:#af3800;margin-bottom:15px;font-size:13px}@media(max-width: 1023px){.ncmp__banner .ncmp__banner-updated{font-size:12px;font-weight:500;line-height:16px;margin-bottom:10px}}.ncmp__banner .ncmp__banner-sections .ncmp__banner-section-1{margin-bottom:8px}.ncmp__banner .ncmp__banner-sections .ncmp__banner-section-1 p{margin:0;font-size:13px;line-height:20px;color:#595959}@media(max-width: 1023px){.ncmp__banner .ncmp__banner-sections .ncmp__banner-section-1 p{font-size:12px;line-height:16px}}.ncmp__banner .ncmp__banner-sections .ncmp__banner-section-2 p.ncmp__banner-emphasis,.ncmp__banner .ncmp__banner-sections .ncmp__banner-section-3 p.ncmp__banner-emphasis{margin:0 0 5px 0;font-weight:500;font-size:13px;line-height:20px;color:#111}@media(max-width: 1023px){.ncmp__banner .ncmp__banner-sections .ncmp__banner-section-2 p.ncmp__banner-emphasis,.ncmp__banner .ncmp__banner-sections .ncmp__banner-section-3 p.ncmp__banner-emphasis{font-size:12px;line-height:16px}}.ncmp__banner .ncmp__banner-sections .ncmp__banner-section-2 p.ncmp__banner-emphasis strong,.ncmp__banner .ncmp__banner-sections .ncmp__banner-section-3 p.ncmp__banner-emphasis strong{font-weight:500}.ncmp__banner .ncmp__banner-sections .ncmp__banner-section-2 p,.ncmp__banner .ncmp__banner-sections .ncmp__banner-section-3 p{margin:0;font-size:13px;line-height:20px;color:#595959}@media(max-width: 1023px){.ncmp__banner .ncmp__banner-sections .ncmp__banner-section-2 p,.ncmp__banner .ncmp__banner-sections .ncmp__banner-section-3 p{font-size:12px;line-height:16px}}.ncmp__banner .ncmp__banner-inner{padding:20px;flex:1 1 auto;min-width:1px}@media(max-width: 1023px)and (min-height: 580px){.ncmp__banner .ncmp__banner-inner{padding:0;box-sizing:border-box}}@media(max-width: 1023px)and (max-height: 579px){.ncmp__banner .ncmp__banner-inner{padding:0;display:flex;flex-direction:column;height:100%;box-sizing:border-box}}.ncmp__banner .ncmp__banner-info{flex:1;display:flex}@media(max-width: 1023px){.ncmp__banner .ncmp__banner-info{flex:1 1 auto;overflow:auto;box-sizing:border-box;padding:12px 12px 0 12px;display:block;margin-bottom:12px}}.ncmp__banner .ncmp__banner-info h2{font-weight:600;font-size:16px;margin:0 0 10px 0;line-height:22px}@media(max-width: 1023px){.ncmp__banner .ncmp__banner-info h2{font-size:14px;margin-bottom:6px}}.ncmp__banner .ncmp__banner-info a.ncmp__toggle{font-weight:500}.ncmp__banner .ncmp__banner-info a.ncmp__toggle svg{vertical-align:middle;margin-right:5px;position:relative;top:-1px;-webkit-transform:rotate(-90deg);transform:rotate(-90deg);transition:.5s ease;fill:#2196f3}.ncmp__banner .ncmp__banner-info .ncmp__expand{max-height:0;transition:all .15s linear;overflow:hidden}.ncmp__banner .ncmp__banner-info h3{margin-left:25px;font-size:14px;font-weight:500;margin:10px 0 10px 25px;line-height:22px}.ncmp__banner .ncmp__banner-info ul{margin:0;margin-bottom:0;color:#595959}.ncmp__banner .ncmp__banner-info #ncmp__banner-features.ncmp__active a.ncmp__toggle,.ncmp__banner .ncmp__banner-info #ncmp__banner-information.ncmp__active a.ncmp__toggle,.ncmp__banner .ncmp__banner-info #ncmp__banner-purposes.ncmp__active a.ncmp__toggle{display:inline-block;margin-bottom:5px}.ncmp__banner .ncmp__banner-info #ncmp__banner-features.ncmp__active a.ncmp__toggle svg,.ncmp__banner .ncmp__banner-info #ncmp__banner-information.ncmp__active a.ncmp__toggle svg,.ncmp__banner .ncmp__banner-info #ncmp__banner-purposes.ncmp__active a.ncmp__toggle svg{-webkit-transform:rotate(0deg);transform:rotate(0deg)}.ncmp__banner .ncmp__banner-info #ncmp__banner-features.ncmp__active .ncmp__expand,.ncmp__banner .ncmp__banner-info #ncmp__banner-information.ncmp__active .ncmp__expand,.ncmp__banner .ncmp__banner-info #ncmp__banner-purposes.ncmp__active .ncmp__expand{max-height:370px}.ncmp__banner .ncmp__banner-info #ncmp__banner-features{margin-bottom:10px}.ncmp__banner .ncmp__banner-info #ncmp__banner-information,.ncmp__banner .ncmp__banner-info #ncmp__banner-purposes{margin-bottom:5px}.ncmp__banner .ncmp__banner-info #ncmp__banner-information.ncmp__active,.ncmp__banner .ncmp__banner-info #ncmp__banner-purposes.ncmp__active{margin-bottom:20px}.ncmp__banner .ncmp__banner-actions{margin-top:20px;box-sizing:border-box;text-align:right}@media(max-width: 1023px){.ncmp__banner .ncmp__banner-actions{text-align:left;margin-top:-6px;padding:0 12px 8px 12px}}.ncmp__banner .ncmp__banner-actions .ncmp__banner-btns{display:flex;margin:-2px}.ncmp__banner .ncmp__banner-actions .ncmp__banner-btns a{text-align:center;display:block;font-size:12px;text-decoration:underline !important}@media(max-width: 1023px){.ncmp__banner .ncmp__banner-actions .ncmp__banner-btns a{font-size:12px}}.ncmp__banner .ncmp__banner-actions .ncmp__banner-btns button{margin:5px;font-size:12px;font-weight:500 !important;line-height:20px;flex:1 1 40%}@media(max-width: 1023px){.ncmp__banner .ncmp__banner-actions .ncmp__banner-btns button{font-size:12px;margin:2px;height:28px !important;line-height:28px !important}}.ncmp__banner .ncmp__banner-actions .ncmp__banner-btns.ncmp__banner-btns-f{display:block;margin:20px auto 0 auto !important;max-width:400px}.ncmp__banner .ncmp__banner-actions .ncmp__banner-btns.ncmp__banner-btns-f button{display:block !important;width:100% !important;margin-bottom:4px !important}@media(max-width: 1023px)and (min-height: 380px){.ncmp__banner .ncmp__banner-actions{width:100%}}.ncmp__banner .ncmp__banner-consent{display:flex;align-items:center;margin-top:10px}.ncmp__banner .ncmp__banner-consent .ncmp__banner-branding-btn{display:flex;flex:0 0 26px;font-size:0;margin:0 2px 0 0;align-items:center}.ncmp__banner .ncmp__banner-consent .ncmp__banner-branding-btn a{display:flex;align-items:center;height:26px}.ncmp__banner .ncmp__banner-consent .ncmp__banner-branding-btn img{height:14px;margin:0;position:relative;vertical-align:middle}.ncmp__banner .ncmp__banner-consent p{font-size:13px;line-height:16px;color:#595959;font-weight:400;margin:0}@media(max-width: 1023px){.ncmp__banner .ncmp__banner-consent p{display:inline-block;font-size:11px;line-height:12px}}</style><style type=\"text/css\">#ncmp__modal{position:fixed;top:0;left:0;right:0;bottom:0;opacity:0;pointer-events:none;transition:opacity .25s ease-in;display:flex;justify-content:center;align-items:center}#ncmp__modal .ncmp__shadow{position:absolute;top:0;left:0;right:0;bottom:0;background:rgba(0,0,0,.2);z-index:1}#ncmp__modal .ncmp__modal{width:1100px;height:85vh;z-index:2;background:#fff;box-shadow:0 11px 15px -7px rgba(0,0,0,.2),0 24px 38px 3px rgba(0,0,0,.14),0 9px 46px 8px rgba(0,0,0,.12);display:flex;flex-direction:column;position:relative;overflow:hidden}@media(max-width: 1150px){#ncmp__modal .ncmp__modal{width:900px}}@media(max-width: 1024px){#ncmp__modal .ncmp__modal{width:100%;height:100%;box-sizing:border-box}}#ncmp__modal .ncmp__modal.ncmp__modal-app{position:fixed;top:20px;left:20px;right:20px;bottom:20px;box-shadow:2px 2px 20px rgba(0,0,0,.45);width:auto;height:auto}#ncmp__modal .ncmp__modal .ncmp__modal-content{display:flex;flex:1 1 auto;height:0}@media(max-width: 1023px){#ncmp__modal .ncmp__modal .ncmp__modal-content{flex-direction:column-reverse}}#ncmp__modal .ncmp__modal .ncmp__modal-content .ncmp__nav-hamburger{display:none}@media(max-width: 1023px){#ncmp__modal .ncmp__modal .ncmp__modal-content .ncmp__nav-hamburger{position:absolute;top:20px;left:15px;z-index:40;display:block;cursor:pointer}#ncmp__modal .ncmp__modal .ncmp__modal-content .ncmp__nav-hamburger svg{width:24px;height:24px}}#ncmp__modal .ncmp__modal .ncmp__modal-content .ncmp__nav{flex:0 0 240px;background:#0061b1;color:#fff;overflow:auto}@media(max-width: 1023px){#ncmp__modal .ncmp__modal .ncmp__modal-content .ncmp__nav{position:absolute;top:0;left:-240px;bottom:0;width:240px;z-index:50;transition:all .15s ease-in;overflow:auto}#ncmp__modal .ncmp__modal .ncmp__modal-content .ncmp__nav.ncmp__nav-active{left:0}}#ncmp__modal .ncmp__modal .ncmp__modal-content .ncmp__nav .ncmp__nav-top{height:66px;background:#1e83d4}#ncmp__modal .ncmp__modal .ncmp__modal-content .ncmp__nav ul{margin:0;padding:0;list-style:none}#ncmp__modal .ncmp__modal .ncmp__modal-content .ncmp__nav ul li{border-bottom:1px solid #1673bf}#ncmp__modal .ncmp__modal .ncmp__modal-content .ncmp__nav ul li.ncmp__nav-header{color:#fff;height:42px;line-height:42px;padding:0 20px;font-size:15px;font-weight:500;background:#00569c}#ncmp__modal .ncmp__modal .ncmp__modal-content .ncmp__nav ul li.ncmp__nav-item.ncmp__nav-item-active a{cursor:default;background:#004279 !important}#ncmp__modal .ncmp__modal .ncmp__modal-content .ncmp__nav ul li.ncmp__nav-item a{display:flex;font-size:13px;font-weight:300;text-decoration:none;color:#fff;padding:6px 20px;line-height:18px;align-items:center}#ncmp__modal .ncmp__modal .ncmp__modal-content .ncmp__nav ul li.ncmp__nav-item a:hover{background:#004279}#ncmp__modal .ncmp__modal .ncmp__modal-content .ncmp__nav ul li.ncmp__nav-item a .ncmp__purpose-status{display:block;flex:0 0 8px;width:8px;height:8px;border-radius:50%;background:#2787d6;margin-right:10px}#ncmp__modal .ncmp__modal .ncmp__modal-content .ncmp__nav ul li.ncmp__nav-item a .ncmp__purpose-status.ncmp__purpose-status-on{background:#6fff34}#ncmp__modal .ncmp__modal .ncmp__modal-content .ncmp__nav ul li.ncmp__nav-purpose a em{font-style:normal}#ncmp__modal .ncmp__modal .ncmp__modal-content .ncmp__router{flex:1 1 auto}#ncmp__modal .ncmp__modal h2{display:flex;align-items:center;position:-webkit-sticky;position:sticky;top:0;margin:0;padding:0 120px 0 30px;background:#fff;color:#000;font-weight:500;font-size:20px;z-index:10;height:66px;line-height:22px;text-transform:none}@media(max-width: 1023px){#ncmp__modal .ncmp__modal h2{font-size:16px;padding:0 15px 0 50px}}#ncmp__modal .ncmp__modal .ncmp__back{border:none;background:#fff;border-radius:50%;cursor:pointer;width:26px;height:26px;align-items:center;justify-content:center;display:flex;vertical-align:middle;font-size:0 !important;margin-right:10px;transition:all .1s ease-in}#ncmp__modal .ncmp__modal .ncmp__back svg{width:16px;height:16px;fill:#0061b1;transition:all .1s ease-in}#ncmp__modal .ncmp__modal .ncmp__back:hover{background:#0061b1}#ncmp__modal .ncmp__modal .ncmp__back:hover svg{fill:#fff}#ncmp__modal .ncmp__modal .ncmp__vendor-info{position:absolute;top:0;bottom:66px;right:-40%;z-index:30;background:#ececec;box-sizing:border-box;width:40%;transition:all .15s ease-in;overflow:auto}#ncmp__modal .ncmp__modal .ncmp__vendor-info.ncmp__vendor-active{right:0}@media(max-width: 1023px){#ncmp__modal .ncmp__modal .ncmp__vendor-info{width:100%;right:-100%}#ncmp__modal .ncmp__modal .ncmp__vendor-info.ncmp__vendor-active{right:0}}#ncmp__modal .ncmp__modal .ncmp__vendor-info .ncmp__vendor-body{padding:30px}@media(max-width: 1023px){#ncmp__modal .ncmp__modal .ncmp__vendor-info .ncmp__vendor-body{padding:15px}}#ncmp__modal .ncmp__modal .ncmp__vendor-info .ncmp__vendor-body h3{margin:0 0 10px 0;font-size:16px;font-weight:500;line-height:22px}#ncmp__modal .ncmp__modal .ncmp__vendor-info .ncmp__vendor-body .ncmp__vendor-section{margin-bottom:30px}@media(max-width: 1023px){#ncmp__modal .ncmp__modal .ncmp__vendor-info .ncmp__vendor-body .ncmp__vendor-section{margin-bottom:15px}}#ncmp__modal .ncmp__modal .ncmp__vendor-info .ncmp__vendor-body .ncmp__vendor-section a{word-break:break-all}#ncmp__modal .ncmp__modal .ncmp__vendor-info .ncmp__vendor-body .ncmp__vendor-section table{width:100%;border-collapse:collapse;box-sizing:border-box}#ncmp__modal .ncmp__modal .ncmp__vendor-info .ncmp__vendor-body .ncmp__vendor-section table tr td{border-bottom:1px solid #ccc;padding:10px;background:#f8f8f8;font-size:13px;color:#444}#ncmp__modal .ncmp__modal .ncmp__vendor-info .ncmp__vendor-body .ncmp__vendor-section table tr td strong{display:block;font-weight:500;font-size:14px}#ncmp__modal .ncmp__modal .ncmp__vendor-info .ncmp__vendor-body .ncmp__vendor-section table tr td em{display:block;font-weight:500;font-size:13px;font-style:normal;margin:5px 0}#ncmp__modal .ncmp__modal .ncmp__vendor-info .ncmp__vendor-body .ncmp__vendor-section table tr:last-child td{border:none}#ncmp__modal .ncmp__modal .ncmp__nav-shadow{position:absolute;top:0;left:0;bottom:0;right:0;z-index:45;pointer-events:none;background:rgba(0,0,0,0);transition:all .15s ease-in}#ncmp__modal .ncmp__modal .ncmp__nav-shadow.ncmp__nav-shadow-active{pointer-events:all;background:rgba(0,0,0,.2)}#ncmp__modal .ncmp__modal .ncmp__vendor-shadow{position:absolute;top:0;left:0;bottom:66px;right:0;z-index:25;pointer-events:none;background:rgba(0,0,0,0);transition:all .15s ease-in}#ncmp__modal .ncmp__modal .ncmp__vendor-shadow.ncmp__vendor-active{pointer-events:all;background:rgba(0,0,0,.2)}#ncmp__modal .ncmp__modal .ncmp__router{flex:1 1 auto;overflow:auto;position:relative}#ncmp__modal .ncmp__modal .ncmp__router .ncmp__col-toggle{width:74px}#ncmp__modal .ncmp__modal .ncmp__router .ncmp__col-name{text-align:left}#ncmp__modal .ncmp__modal .ncmp__router .ncmp__col-type{width:20%}#ncmp__modal .ncmp__modal .ncmp__router .ncmp__icon-yes{display:inline-block}#ncmp__modal .ncmp__modal .ncmp__router .ncmp__icon-yes svg{fill:#dc4100}#ncmp__modal .ncmp__modal .ncmp__router .ncmp__icon-no{display:inline-block}#ncmp__modal .ncmp__modal .ncmp__router .ncmp__icon-no svg{fill:#d0d0d0}#ncmp__modal .ncmp__modal .ncmp__router .ncmp__cookie-expire{display:inline-block;margin-left:10px;line-height:16px}@media(max-width: 767px){#ncmp__modal .ncmp__modal .ncmp__router .ncmp__cookie-expire{display:none}}#ncmp__modal .ncmp__modal .ncmp__router .ncmp__cookie-expire strong{display:block;font-weight:600;font-size:11px}#ncmp__modal .ncmp__modal .ncmp__router .ncmp__reject-purposes,#ncmp__modal .ncmp__modal .ncmp__router .ncmp__reject-table,#ncmp__modal .ncmp__modal .ncmp__router .ncmp__reject-features{text-align:right;margin-top:10px;margin-bottom:-10px}@media(max-width: 1023px){#ncmp__modal .ncmp__modal .ncmp__router .ncmp__reject-purposes,#ncmp__modal .ncmp__modal .ncmp__router .ncmp__reject-table,#ncmp__modal .ncmp__modal .ncmp__router .ncmp__reject-features{text-align:left;margin-top:15px;margin-bottom:10px}}#ncmp__modal .ncmp__modal .ncmp__router .ncmp__reject-purposes a,#ncmp__modal .ncmp__modal .ncmp__router .ncmp__reject-table a,#ncmp__modal .ncmp__modal .ncmp__router .ncmp__reject-features a{text-decoration:underline;color:#222}#ncmp__modal .ncmp__modal .ncmp__router .ncmp__reject-purposes a:hover,#ncmp__modal .ncmp__modal .ncmp__router .ncmp__reject-table a:hover,#ncmp__modal .ncmp__modal .ncmp__router .ncmp__reject-features a:hover{color:#222}#ncmp__modal .ncmp__modal .ncmp__router .ncmp__reject-purposes a.ncmp__toggle-purposes-off,#ncmp__modal .ncmp__modal .ncmp__router .ncmp__reject-purposes a.ncmp__toggle-vendors-off,#ncmp__modal .ncmp__modal .ncmp__router .ncmp__reject-purposes a.ncmp__toggle-legint-purposes-off,#ncmp__modal .ncmp__modal .ncmp__router .ncmp__reject-purposes a.ncmp__toggle-legint-vendors-off,#ncmp__modal .ncmp__modal .ncmp__router .ncmp__reject-table a.ncmp__toggle-purposes-off,#ncmp__modal .ncmp__modal .ncmp__router .ncmp__reject-table a.ncmp__toggle-vendors-off,#ncmp__modal .ncmp__modal .ncmp__router .ncmp__reject-table a.ncmp__toggle-legint-purposes-off,#ncmp__modal .ncmp__modal .ncmp__router .ncmp__reject-table a.ncmp__toggle-legint-vendors-off,#ncmp__modal .ncmp__modal .ncmp__router .ncmp__reject-features a.ncmp__toggle-purposes-off,#ncmp__modal .ncmp__modal .ncmp__router .ncmp__reject-features a.ncmp__toggle-vendors-off,#ncmp__modal .ncmp__modal .ncmp__router .ncmp__reject-features a.ncmp__toggle-legint-purposes-off,#ncmp__modal .ncmp__modal .ncmp__router .ncmp__reject-features a.ncmp__toggle-legint-vendors-off{color:#555;font-weight:400}#ncmp__modal .ncmp__modal .ncmp__router .ncmp__reject-table{text-align:left;margin-bottom:10px}#ncmp__modal .ncmp__modal .ncmp__router .ncmp__information .ncmp__information-body,#ncmp__modal .ncmp__modal .ncmp__router .ncmp__information .ncmp__object-body,#ncmp__modal .ncmp__modal .ncmp__router .ncmp__object .ncmp__information-body,#ncmp__modal .ncmp__modal .ncmp__router .ncmp__object .ncmp__object-body{padding:30px;background:#efefef;position:relative}@media(max-width: 1023px){#ncmp__modal .ncmp__modal .ncmp__router .ncmp__information .ncmp__information-body,#ncmp__modal .ncmp__modal .ncmp__router .ncmp__information .ncmp__object-body,#ncmp__modal .ncmp__modal .ncmp__router .ncmp__object .ncmp__information-body,#ncmp__modal .ncmp__modal .ncmp__router .ncmp__object .ncmp__object-body{padding:15px}}#ncmp__modal .ncmp__modal .ncmp__router .ncmp__section .ncmp__illustrations{padding:15px;background:#ffebbd;border-left:8px solid #efc667;margin-bottom:30px}#ncmp__modal .ncmp__modal .ncmp__router .ncmp__section .ncmp__illustrations ul{margin:0 0 0 20px;padding:0;list-style-type:square}#ncmp__modal .ncmp__modal .ncmp__router .ncmp__section .ncmp__illustrations ul li{margin-bottom:30px}#ncmp__modal .ncmp__modal .ncmp__router .ncmp__section .ncmp__illustrations ul li:last-child{margin:0}#ncmp__modal .ncmp__modal .ncmp__router .ncmp__section .ncmp__description-legal{margin-bottom:30px}@media(max-width: 1023px){#ncmp__modal .ncmp__modal .ncmp__router .ncmp__section .ncmp__description-legal{margin-bottom:15px}}#ncmp__modal .ncmp__modal .ncmp__router .ncmp__section .ncmp__description-legal strong{margin-bottom:5px;display:block;font-weight:500}#ncmp__modal .ncmp__modal .ncmp__router .ncmp__section .ncmp__description-legal h3{margin:0 0 5px 0;font-size:14px;font-weight:500;line-height:22px}#ncmp__modal .ncmp__modal .ncmp__router .ncmp__section .ncmp__description-legal p{margin:0;white-space:pre-wrap;font-size:14px}#ncmp__modal .ncmp__modal .ncmp__router .ncmp__section .ncmp__section-body{padding:30px;background:#efefef;position:relative}@media(max-width: 1023px){#ncmp__modal .ncmp__modal .ncmp__router .ncmp__section .ncmp__section-body{padding:15px}}#ncmp__modal .ncmp__modal .ncmp__router .ncmp__section table{width:100%;border-collapse:collapse;box-sizing:border-box}#ncmp__modal .ncmp__modal .ncmp__router .ncmp__section table tr td{border-bottom:1px solid #ccc;padding:5px 10px;font-size:13px;color:#444}#ncmp__modal .ncmp__modal .ncmp__router .ncmp__section table tr td p{margin:0;font-size:13px}#ncmp__modal .ncmp__modal .ncmp__router .ncmp__section table tr th{position:-webkit-sticky;position:sticky;top:66px;z-index:9;padding:5px;font-weight:400;font-size:13px;background:#2d2d2d;color:#fff;border:none}#ncmp__modal .ncmp__modal .ncmp__router .ncmp__section table tr:nth-child(even) td{background:#e4e4e4}#ncmp__modal .ncmp__modal .ncmp__router section{margin-bottom:30px}@media(max-width: 1023px){#ncmp__modal .ncmp__modal .ncmp__router section{margin-bottom:15px}}#ncmp__modal .ncmp__modal .ncmp__router section .ncmp__section-title{margin-bottom:15px}@media(max-width: 1023px){#ncmp__modal .ncmp__modal .ncmp__router section .ncmp__section-title{margin-bottom:5px}}#ncmp__modal .ncmp__modal .ncmp__router section .ncmp__section-title h3{font-weight:500;font-size:15px;margin:0;line-height:22px}@media(max-width: 1023px){#ncmp__modal .ncmp__modal .ncmp__router section .ncmp__section-title h3{font-size:16px}}#ncmp__modal .ncmp__modal .ncmp__router section .ncmp__section-details p{margin-top:0;font-size:14px}#ncmp__modal .ncmp__modal .ncmp__router section .ncmp__section-details p:last-child{margin:0}#ncmp__modal .ncmp__modal .ncmp__router .ncmp__list{display:grid;grid-template-columns:1fr;grid-gap:20px;flex-wrap:wrap}@media(max-width: 1024px){#ncmp__modal .ncmp__modal .ncmp__router .ncmp__list{grid-template-columns:1fr}}#ncmp__modal .ncmp__modal .ncmp__router .ncmp__list .ncmp__list-item{flex:1 0 30%;background:#fbfbfb;padding:15px;display:flex;flex-direction:column}#ncmp__modal .ncmp__modal .ncmp__router .ncmp__list .ncmp__list-item .ncmp__toggle{flex:0 0 72px;float:right;margin-left:15px;margin-bottom:15px}#ncmp__modal .ncmp__modal .ncmp__router .ncmp__list .ncmp__list-item .ncmp__list-info{flex:1 1 auto}#ncmp__modal .ncmp__modal .ncmp__router .ncmp__list .ncmp__list-item .ncmp__list-info strong{display:block;font-weight:500;font-size:15px;margin-bottom:5px}#ncmp__modal .ncmp__modal .ncmp__router .ncmp__list .ncmp__list-item .ncmp__list-info p{margin:0;color:#444;font-weight:400;font-size:13px}#ncmp__modal .ncmp__modal .ncmp__router .ncmp__list .ncmp__list-item .ncmp__list-info .ncmp__vendor-consent{margin-bottom:5px;font-weight:500}#ncmp__modal .ncmp__modal .ncmp__router .ncmp__list .ncmp__list-item .ncmp__list-action{flex:0 0 auto;font-size:13px;padding-top:5px}#ncmp__modal .ncmp__modal .ncmp__router .ncmp__list .ncmp__list-item .ncmp__list-action a{color:#595959;border-bottom:1px solid #ccc;font-weight:400}#ncmp__modal .ncmp__modal .ncmp__router .ncmp__list .ncmp__list-item .ncmp__list-action a:hover{color:#222}#ncmp__modal .ncmp__modal .ncmp__router .ncmp__toggle{width:56px;height:24px;position:relative;display:inline-block;vertical-align:middle}#ncmp__modal .ncmp__modal .ncmp__router .ncmp__toggle label{width:56px;height:24px;display:block;border-radius:34px;background-color:#cecece;transition:background-color .4s;cursor:pointer}#ncmp__modal .ncmp__modal .ncmp__router .ncmp__toggle label:before{content:\"\";display:block;background-color:#fff;bottom:3px;height:18px;left:3px;position:absolute;transition:.4s;width:18px;z-index:5;border-radius:100%}#ncmp__modal .ncmp__modal .ncmp__router .ncmp__toggle label span{position:absolute;top:0;left:0;right:0;bottom:0;display:block;line-height:24px;text-transform:uppercase;font-size:12px;font-weight:bold;color:#484848;padding-left:26px;transition:all .4s}#ncmp__modal .ncmp__modal .ncmp__router .ncmp__toggle label span.ncmp__toggle-on{opacity:0}#ncmp__modal .ncmp__modal .ncmp__router .ncmp__toggle input{position:absolute;opacity:0}#ncmp__modal .ncmp__modal .ncmp__router .ncmp__toggle input:checked+label{background-color:#0061b1}#ncmp__modal .ncmp__modal .ncmp__router .ncmp__toggle input:checked+label:before{-webkit-transform:translateX(32px);transform:translateX(32px)}#ncmp__modal .ncmp__modal .ncmp__router .ncmp__toggle input:checked+label span{color:#fff;padding-left:8px}#ncmp__modal .ncmp__modal .ncmp__router .ncmp__toggle input:checked+label span.ncmp__toggle-on{opacity:1}#ncmp__modal .ncmp__modal .ncmp__router .ncmp__toggle input:checked+label span.ncmp__toggle-off{opacity:0}#ncmp__modal .ncmp__modal .ncmp__modal-actions{flex:0 0 auto;padding:4px 15px;min-height:66px;display:flex;align-items:center;width:100%;box-sizing:border-box}#ncmp__modal .ncmp__modal .ncmp__modal-actions .ncmp__branding{flex:1 1 auto;display:flex;align-items:center;color:#8e8e8e}#ncmp__modal .ncmp__modal .ncmp__modal-actions .ncmp__branding .ncmp__branding-logo{flex:0 0 auto;margin-right:10px;display:flex;align-items:center}@media(max-width: 320px){#ncmp__modal .ncmp__modal .ncmp__modal-actions .ncmp__branding .ncmp__branding-logo{display:none}}#ncmp__modal .ncmp__modal .ncmp__modal-actions .ncmp__branding .ncmp__branding-logo a{display:flex;align-items:center}#ncmp__modal .ncmp__modal .ncmp__modal-actions .ncmp__branding .ncmp__branding-logo a img{width:26px;height:20px}#ncmp__modal .ncmp__modal .ncmp__modal-actions .ncmp__branding .ncmp__branding-version{flex:1 1 auto;font-size:11px;line-height:14px}@media(max-width: 1023px){#ncmp__modal .ncmp__modal .ncmp__modal-actions .ncmp__branding .ncmp__branding-version{display:none}}#ncmp__modal .ncmp__modal .ncmp__modal-actions .ncmp__branding .ncmp__branding-version span{display:block}#ncmp__modal .ncmp__modal .ncmp__modal-actions .ncmp__branding .ncmp__branding-version span a{border-bottom:1px solid #dedede;color:#777}#ncmp__modal .ncmp__modal .ncmp__modal-actions .ncmp__branding .ncmp__branding-version span a:hover{color:#666}#ncmp__modal .ncmp__modal .ncmp__modal-actions .ncmp__buttons{display:flex;flex-wrap:wrap;row-gap:4px;justify-content:flex-end}#ncmp__modal .ncmp__modal .ncmp__modal-actions .ncmp__buttons button{margin-left:5px}</style><meta http-equiv=\"origin-trial\" content=\"AlK2UR5SkAlj8jjdEc9p3F3xuFYlF6LYjAML3EOqw1g26eCwWPjdmecULvBH5MVPoqKYrOfPhYVL71xAXI1IBQoAAAB8eyJvcmlnaW4iOiJodHRwczovL2RvdWJsZWNsaWNrLm5ldDo0NDMiLCJmZWF0dXJlIjoiV2ViVmlld1hSZXF1ZXN0ZWRXaXRoRGVwcmVjYXRpb24iLCJleHBpcnkiOjE3NTgwNjcxOTksImlzU3ViZG9tYWluIjp0cnVlfQ==\"><meta http-equiv=\"origin-trial\" content=\"Amm8/NmvvQfhwCib6I7ZsmUxiSCfOxWxHayJwyU1r3gRIItzr7bNQid6O8ZYaE1GSQTa69WwhPC9flq/oYkRBwsAAACCeyJvcmlnaW4iOiJodHRwczovL2dvb2dsZXN5bmRpY2F0aW9uLmNvbTo0NDMiLCJmZWF0dXJlIjoiV2ViVmlld1hSZXF1ZXN0ZWRXaXRoRGVwcmVjYXRpb24iLCJleHBpcnkiOjE3NTgwNjcxOTksImlzU3ViZG9tYWluIjp0cnVlfQ==\"><meta http-equiv=\"origin-trial\" content=\"A9wSqI5i0iwGdf6L1CERNdmsTPgVu44ewj8QxTBYgsv1LCPUVF7YmWOvTappqB1139jAymxUW/RO8zmMqo4zlAAAAACNeyJvcmlnaW4iOiJodHRwczovL2RvdWJsZWNsaWNrLm5ldDo0NDMiLCJmZWF0dXJlIjoiRmxlZGdlQmlkZGluZ0FuZEF1Y3Rpb25TZXJ2ZXIiLCJleHBpcnkiOjE3MzY4MTI4MDAsImlzU3ViZG9tYWluIjp0cnVlLCJpc1RoaXJkUGFydHkiOnRydWV9\"><meta http-equiv=\"origin-trial\" content=\"A+d7vJfYtay4OUbdtRPZA3y7bKQLsxaMEPmxgfhBGqKXNrdkCQeJlUwqa6EBbSfjwFtJWTrWIioXeMW+y8bWAgQAAACTeyJvcmlnaW4iOiJodHRwczovL2dvb2dsZXN5bmRpY2F0aW9uLmNvbTo0NDMiLCJmZWF0dXJlIjoiRmxlZGdlQmlkZGluZ0FuZEF1Y3Rpb25TZXJ2ZXIiLCJleHBpcnkiOjE3MzY4MTI4MDAsImlzU3ViZG9tYWluIjp0cnVlLCJpc1RoaXJkUGFydHkiOnRydWV9\"><script src=\"https://securepubads.g.doubleclick.net/pagead/managed/js/gpt/m202505220101/pubads_impl.js?cb=31092652\" async=\"\"></script><link href=\"https://securepubads.g.doubleclick.net/pagead/managed/dict/m202505290101/gpt\" rel=\"compression-dictionary\"><script src=\"https://config.aps.amazon-adsystem.com/configs/da657530-03e5-4306-95bc-d4eb370426c9\" type=\"text/javascript\" async=\"async\"></script><script class=\"nitro-comscore\" async=\"\" src=\"https://sb.scorecardresearch.com/cs/20631572/beacon.js\"></script><script src=\"//secure.cdn.fastclick.net/js/pubcid/latest/pubcid.min.js\"></script><script src=\"https://tags.crwdcntrl.net/lt/c/16576/sync.min.js\"></script><script src=\"//cdn.id5-sync.com/api/1.0/id5-api.js\"></script><iframe src=\"https://btloader.com/trustedIframe.html?o=6278260873756672\"></iframe><style type=\"text/css\" data-fbcssmodules=\"css:fb.css.base css:fb.css.dialog css:fb.css.iframewidget\">.fb_hidden{position:absolute;top:-10000px;z-index:10001}.fb_reposition{overflow:hidden;position:relative}.fb_invisible{display:none}.fb_reset{background:none;border:0px;border-spacing:0;color:#000;cursor:auto;direction:ltr;font-family:\\'lucida grande\\', tahoma, verdana, arial, sans-serif;font-size:11px;font-style:normal;font-variant:normal;font-weight:normal;letter-spacing:normal;line-height:1;margin:0;overflow:visible;padding:0;text-align:left;text-decoration:none;text-indent:0;text-shadow:none;text-transform:none;visibility:visible;white-space:normal;word-spacing:normal}.fb_reset>div{overflow:hidden}@keyframes fb_transform{from{opacity:0;transform:scale(.95)}to{opacity:1;transform:scale(1)}}.fb_animate{animation:fb_transform .3s forwards}\\n.fb_hidden{position:absolute;top:-10000px;z-index:10001}.fb_reposition{overflow:hidden;position:relative}.fb_invisible{display:none}.fb_reset{background:none;border:0px;border-spacing:0;color:#000;cursor:auto;direction:ltr;font-family:\\'lucida grande\\', tahoma, verdana, arial, sans-serif;font-size:11px;font-style:normal;font-variant:normal;font-weight:normal;letter-spacing:normal;line-height:1;margin:0;overflow:visible;padding:0;text-align:left;text-decoration:none;text-indent:0;text-shadow:none;text-transform:none;visibility:visible;white-space:normal;word-spacing:normal}.fb_reset>div{overflow:hidden}@keyframes fb_transform{from{opacity:0;transform:scale(.95)}to{opacity:1;transform:scale(1)}}.fb_animate{animation:fb_transform .3s forwards}\\n.fb_dialog{background:rgba(82,82,82,.7);position:absolute;top:-10000px;z-index:10001}.fb_dialog_advanced{border-radius:8px;padding:10px}.fb_dialog_content{background:#fff;color:#373737}.fb_dialog_close_icon{background:url(https://connect.facebook.net/rsrc.php/v4/yq/r/IE9JII6Z1Ys.png) no-repeat scroll 0 0 transparent;cursor:pointer;display:block;height:15px;position:absolute;right:18px;top:17px;width:15px}.fb_dialog_mobile .fb_dialog_close_icon{left:5px;right:auto;top:5px}.fb_dialog_padding{background-color:transparent;position:absolute;width:1px;z-index:-1}.fb_dialog_close_icon:hover{background:url(https://connect.facebook.net/rsrc.php/v4/yq/r/IE9JII6Z1Ys.png) no-repeat scroll 0 -15px transparent}.fb_dialog_close_icon:active{background:url(https://connect.facebook.net/rsrc.php/v4/yq/r/IE9JII6Z1Ys.png) no-repeat scroll 0 -30px transparent}.fb_dialog_iframe{line-height:0}.fb_dialog_content .dialog_title{background:#6d84b4;border:1px solid #365899;color:#fff;font-size:14px;font-weight:bold;margin:0}.fb_dialog_content .dialog_title>span{background:url(https://connect.facebook.net/rsrc.php/v4/yd/r/Cou7n-nqK52.gif) no-repeat 5px 50%;float:left;padding:5px 0 7px 26px}body.fb_hidden{height:100%;left:0px;margin:0px;overflow:visible;position:absolute;top:-10000px;transform:none;width:100%}.fb_dialog.fb_dialog_mobile.loading{background:url(https://connect.facebook.net/rsrc.php/v4/ya/r/3rhSv5V8j3o.gif) white no-repeat 50% 50%;min-height:100%;min-width:100%;overflow:hidden;position:absolute;top:0;z-index:10001}.fb_dialog.fb_dialog_mobile.loading.centered{background:none;height:auto;min-height:initial;min-width:initial;width:auto}.fb_dialog.fb_dialog_mobile.loading.centered #fb_dialog_loader_spinner{width:100%}.fb_dialog.fb_dialog_mobile.loading.centered .fb_dialog_content{background:none}.loading.centered #fb_dialog_loader_close{clear:both;color:white;display:block;font-size:18px;padding-top:20px}#fb-root #fb_dialog_ipad_overlay{background:rgba(0,0,0,.4);bottom:0;left:0;min-height:100%;position:absolute;right:0;top:0;width:100%;z-index:10000}#fb-root #fb_dialog_ipad_overlay.hidden{display:none}.fb_dialog.fb_dialog_mobile.loading iframe{visibility:hidden}.fb_dialog_mobile .fb_dialog_iframe{position:sticky;top:0}.fb_dialog_content .dialog_header{background:linear-gradient(from(#738aba), to(#2c4987));border-bottom:1px solid;border-color:#043b87;box-shadow:white 0px 1px 1px -1px inset;color:#fff;font:bold 14px Helvetica, sans-serif;text-overflow:ellipsis;text-shadow:rgba(0,30,84,.296875) 0px -1px 0px;vertical-align:middle;white-space:nowrap}.fb_dialog_content .dialog_header table{height:43px;width:100%}.fb_dialog_content .dialog_header td.header_left{font-size:12px;padding-left:5px;vertical-align:middle;width:60px}.fb_dialog_content .dialog_header td.header_right{font-size:12px;padding-right:5px;vertical-align:middle;width:60px}.fb_dialog_content .touchable_button{background:linear-gradient(from(#4267b2), to(#2a4887));background-clip:padding-box;border:1px solid #29487d;border-radius:3px;display:inline-block;line-height:18px;margin-top:3px;max-width:85px;padding:4px 12px;position:relative}.fb_dialog_content .dialog_header .touchable_button input{background:none;border:none;color:white;font:bold 12px Helvetica, sans-serif;margin:2px -12px;padding:2px 6px 3px 6px;text-shadow:rgba(0,30,84,.296875) 0px -1px 0px}.fb_dialog_content .dialog_header .header_center{color:#fff;font-size:16px;font-weight:bold;line-height:18px;text-align:center;vertical-align:middle}.fb_dialog_content .dialog_content{background:url(https://connect.facebook.net/rsrc.php/v4/y9/r/jKEcVPZFk-2.gif) no-repeat 50% 50%;border:1px solid #4a4a4a;border-bottom:0;border-top:0;height:150px}.fb_dialog_content .dialog_footer{background:#f5f6f7;border:1px solid #4a4a4a;border-top-color:#ccc;height:40px}#fb_dialog_loader_close{float:left}.fb_dialog.fb_dialog_mobile .fb_dialog_close_icon{visibility:hidden}#fb_dialog_loader_spinner{animation:rotateSpinner 1.2s linear infinite;background-color:transparent;background-image:url(https://connect.facebook.net/rsrc.php/v4/yD/r/t-wz8gw1xG1.png);background-position:50% 50%;background-repeat:no-repeat;height:24px;width:24px}@keyframes rotateSpinner{0%{transform:rotate(0deg)}100%{transform:rotate(360deg)}}\\n.fb_iframe_widget{display:inline-block;position:relative}.fb_iframe_widget span{display:inline-block;position:relative;text-align:justify}.fb_iframe_widget iframe{position:absolute}.fb_iframe_widget_fluid_desktop,.fb_iframe_widget_fluid_desktop span,.fb_iframe_widget_fluid_desktop iframe{max-width:100%}.fb_iframe_widget_fluid_desktop iframe{min-width:220px;position:relative}.fb_iframe_widget_lift{z-index:1}.fb_iframe_widget_fluid{display:inline}.fb_iframe_widget_fluid span{width:100%}</style></head>\\n<body class=\"tournaments tournaments-show      -application-new\">\\n<div class=\"cake-unit\" data-js-scroll-stop=\"\" data-js-sticky-elem=\"\">\\n<div class=\"body\">\\n\\n</div>\\n</div>\\n\\n<div class=\"redesign-top-leaderboard\">\\n<div class=\"-horizontal cake-unit\" data-js-scroll-stop=\"\" data-js-sticky-elem=\"\">\\n<div class=\"body\">\\n<div class=\"cake\" data-placement-name=\"leaderboard\" id=\"cake-top\"></div>\\n</div>\\n</div>\\n\\n</div>\\n<div class=\"redesign-left-gutter\" style=\"height: 1136px;\">\\n<div class=\"redesign-cake-box\">\\n<div class=\"-wide-vertical cake-unit\" data-js-scroll-stop=\"\" data-js-sticky-elem=\"\">\\n<div class=\"disclaimer\">\\n<a href=\"https://challonge.com/pricing?utm_campaign=upgrade&amp;utm_id=internal&amp;utm_medium=label&amp;utm_source=ad\">Ad – Upgrade to Remove</a>\\n</div>\\n<div class=\"body\">\\n<div class=\"cake\" data-placement-name=\"vertical_desktop\" id=\"cake-gutter-left\"></div>\\n</div>\\n</div>\\n\\n</div>\\n</div>\\n<div class=\"redesign-right-gutter\" style=\"height: 1136px;\">\\n<div class=\"redesign-cake-box\">\\n<div class=\"-wide-vertical cake-unit\" data-js-scroll-stop=\"\" data-js-sticky-elem=\"\">\\n<div class=\"disclaimer\">\\n<a href=\"https://challonge.com/pricing?utm_campaign=upgrade&amp;utm_id=internal&amp;utm_medium=label&amp;utm_source=ad\">Ad – Upgrade to Remove</a>\\n</div>\\n<div class=\"body\">\\n<div class=\"cake\" data-placement-name=\"vertical_desktop\" id=\"cake-gutter-right\"></div>\\n</div>\\n</div>\\n\\n</div>\\n</div>\\n<div class=\"redesign-wrapper\">\\n<script>\\n  function gCsldkfj(n){for(var r=n+\"=\",t=document.cookie.split(\";\"),e=0;e<t.length;e++){for(var i=t[e];\" \"==i.charAt(0);)i=i.substring(1,i.length);if(0==i.indexOf(r))return i.substring(r.length,i.length)}return null}\\n  var _sc = gCsldkfj(\\'_ck\\'); if (_sc === \"false\") { var _rw = document.getElementsByClassName(\\'redesign-wrapper\\')[0]; _rw.classList.add(\\'-cakeless\\'); }\\n</script>\\n<div data-facebook-app-id=\"133242486729759\" id=\"facebook-js-sdk\"></div>\\n<svg display=\"none\" height=\"0\" viewBox=\"0 0 318 227\" width=\"0\" xmlns:xlink=\"http://www.w3.org/1999/xlink\" xmlns=\"http://www.w3.org/2000/svg\">\\n<defs>\\n<g id=\"icon-book\">\\n<path d=\"M21.0716 3C20.604 3 15.2441 3.23808 12 5.087C8.75587 3.23808 3.396 3 2.92837 3C1.31362 3 0 4.25976 0 5.80822V17.317C0 18.8111 1.21762 20.0426 2.772 20.1201C4.15125 20.1901 7.60237 20.4686 9.81187 21.5394C10.119 21.688 10.4587 21.7701 10.7996 21.7808V21.7826H13.2004V21.7808C13.5413 21.7701 13.881 21.688 14.1881 21.5394C16.3976 20.4686 19.8487 20.1901 21.228 20.1201C22.7824 20.0426 24 18.8111 24 17.317V5.80822C24 4.25976 22.6864 3 21.0716 3ZM11.1 19.0734C11.1 19.4803 10.689 19.7671 10.3001 19.6222C7.88025 18.722 4.52662 18.4458 2.8635 18.361C2.26725 18.3317 1.8 17.8731 1.8 17.317V5.80822C1.8 5.2308 2.30625 4.76087 2.92725 4.76087C3.67462 4.76454 7.67287 5.04738 10.3721 6.24624C10.8082 6.43993 11.0947 6.8574 11.0951 7.32624L11.1 11.2174V19.0734ZM22.2 17.317C22.2 17.8731 21.7327 18.3317 21.1365 18.3614C19.4734 18.4458 16.1197 18.722 13.6999 19.6226C13.311 19.7671 12.9 19.4806 12.9 19.0738V11.2174L12.9052 7.32587C12.906 6.85704 13.1921 6.43993 13.6282 6.24587C16.3275 5.04738 20.3257 4.76454 21.0728 4.76087C21.6937 4.76087 22.2 5.2308 22.2 5.80822V17.317Z\"></path>\\n</g>\\n<g id=\"icon-bracket\">\\n<path d=\"M3.9 12.9167H11.1V14.6667H12.9V12.9167H20.1V14.6667H21.9V12.567C21.9 11.7952 21.2543 11.1667 20.4596 11.1667H12.9V8.83333H14.4C15.0626 8.83333 15.6 8.31089 15.6 7.66667V4.16667C15.6 3.52245 15.0626 3 14.4 3H9.6C8.93738 3 8.4 3.52245 8.4 4.16667V7.66667C8.4 7.98896 8.53425 8.28062 8.75138 8.49172C8.9685 8.70281 9.2685 8.83333 9.6 8.83333H11.1V11.1667H3.54038C2.74575 11.1667 2.1 11.7948 2.1 12.567V14.6667H3.9V12.9167ZM10.2 7.08333V4.75H13.8V7.08333H10.2ZM22.8 15.8333H19.2C18.5374 15.8333 18 16.3558 18 17V20.5C18 21.1442 18.5374 21.6667 19.2 21.6667H22.8C23.4626 21.6667 24 21.1442 24 20.5V17C24 16.3558 23.4626 15.8333 22.8 15.8333ZM22.2 19.9167H19.8V17.5833H22.2V19.9167ZM13.8 15.8333H10.2C9.53738 15.8333 9 16.3558 9 17V20.5C9 21.1442 9.53738 21.6667 10.2 21.6667H13.8C14.4626 21.6667 15 21.1442 15 20.5V17C15 16.3558 14.4626 15.8333 13.8 15.8333ZM13.2 19.9167H10.8V17.5833H13.2V19.9167ZM4.8 15.8333H1.2C0.537375 15.8333 0 16.3558 0 17V20.5C0 21.1442 0.537375 21.6667 1.2 21.6667H4.8C5.46263 21.6667 6 21.1442 6 20.5V17C6 16.3558 5.46263 15.8333 4.8 15.8333ZM4.2 19.9167H1.8V17.5833H4.2V19.9167Z\"></path>\\n</g>\\n<g id=\"icon-history\">\\n<path d=\"M23.6248 11.9781C23.6366 18.3831 18.4131 23.6205 12.0081 23.625C9.00748 23.6271 6.2719 22.4924 4.20842 20.6277C3.96949 20.4118 3.95998 20.0398 4.18765 19.8121L4.98265 19.0171C5.19495 18.8048 5.53465 18.7987 5.75867 18.9986C7.41579 20.477 9.60204 21.375 11.9998 21.375C17.1818 21.375 21.3748 17.1812 21.3748 12C21.3748 6.81802 17.181 2.625 11.9998 2.625C9.39729 2.625 7.04473 3.68316 5.34715 5.39264L7.64829 7.662C8.00646 8.0152 7.75634 8.625 7.25332 8.625H1.23785C0.927213 8.625 0.675354 8.37314 0.675354 8.0625V2.13014C0.675354 1.63088 1.27737 1.37906 1.63282 1.72964L3.74674 3.81436C5.85289 1.69064 8.77245 0.375 11.9998 0.375C18.4128 0.375 23.6129 5.56786 23.6248 11.9781ZM15.7939 16.2049L16.4556 15.2951C16.6384 15.0439 16.5828 14.6921 16.3316 14.5094L13.1248 12.1771V5.4375C13.1248 5.12686 12.8729 4.875 12.5623 4.875H11.4373C11.1267 4.875 10.8748 5.12686 10.8748 5.4375V13.3229L15.0082 16.329C15.2594 16.5117 15.6112 16.4561 15.7939 16.2049Z\"></path>\\n</g>\\n<g id=\"icon-list\">\\n<path d=\"M23.3339 6.3125H6.45886C6.14822 6.3125 5.89636 6.06064 5.89636 5.75V4.25C5.89636 3.93936 6.14822 3.6875 6.45886 3.6875H23.3339C23.6445 3.6875 23.8964 3.93936 23.8964 4.25V5.75C23.8964 6.06064 23.6445 6.3125 23.3339 6.3125ZM23.8964 13.25V11.75C23.8964 11.4394 23.6445 11.1875 23.3339 11.1875H6.45886C6.14822 11.1875 5.89636 11.4394 5.89636 11.75V13.25C5.89636 13.5606 6.14822 13.8125 6.45886 13.8125H23.3339C23.6445 13.8125 23.8964 13.5606 23.8964 13.25ZM23.8964 20.75V19.25C23.8964 18.9394 23.6445 18.6875 23.3339 18.6875H6.45886C6.14822 18.6875 5.89636 18.9394 5.89636 19.25V20.75C5.89636 21.0606 6.14822 21.3125 6.45886 21.3125H23.3339C23.6445 21.3125 23.8964 21.0606 23.8964 20.75ZM0.0493125 7.45756C0.0493125 7.80805 0.232922 8 0.591797 8H3.74616C4.10499 8 4.28859 7.80805 4.28859 7.45756V7.04033C4.28859 6.68984 4.10499 6.49789 3.74616 6.49789H3.02011V2.54244C3.02011 2.18356 2.82825 2 2.46938 2H1.90191C1.61817 2 1.43456 2.07509 1.22597 2.26705L0.207891 3.20164C-0.0507656 3.44366 -0.0675 3.71905 0.182859 3.96941L0.441516 4.26148C0.683484 4.52019 0.967266 4.51184 1.17586 4.31155C1.22597 4.26148 1.30936 4.13633 1.30936 4.13633H1.32605C1.32605 4.13633 1.30102 4.38664 1.30102 4.62866V6.49794H0.591797C0.232922 6.49794 0.0493125 6.68984 0.0493125 7.04037V7.45756ZM0 14.9665C0 15.3112 0.238031 15.5 0.566391 15.5H3.75103C4.10395 15.5 4.29277 15.3112 4.29277 14.9665V14.5561C4.29277 14.2113 4.10395 14.0225 3.75103 14.0225H1.92061C2.01089 13.53 4.20244 13.1525 4.20244 11.3549C4.20244 9.99242 3.02873 9.49995 2.11763 9.49995C1.11628 9.49995 0.533484 9.96781 0.221578 10.3782C0.0163594 10.6409 0.0820782 10.8871 0.352969 11.1005L0.755109 11.4206C1.0178 11.634 1.27223 11.5355 1.51031 11.3057C1.64981 11.1744 1.80577 11.1252 1.95352 11.1252C2.10942 11.1252 2.38852 11.199 2.38852 11.5355C2.38852 12.1347 0 12.5615 0 14.7777V14.9665ZM0.284484 22.5568C0.645609 22.7784 1.1873 23 1.96711 23C3.56766 23 4.24069 21.933 4.24069 20.9316C4.24069 20.2586 3.81389 19.5363 2.89463 19.2982L3.71536 18.3543C3.88777 18.1491 3.95344 17.9603 3.95344 17.6895V17.5335C3.95344 17.1888 3.77283 17 3.41991 17H0.678469C0.3255 17 0.144891 17.1806 0.144891 17.5335V17.9439C0.144891 18.2886 0.3255 18.4775 0.678469 18.4775H1.28583C1.67981 18.4775 1.87683 18.4282 1.87683 18.4282V18.4446C1.87683 18.4446 1.62239 18.6826 1.30228 19.0766L1.03959 19.4049C0.850781 19.643 0.793359 19.881 0.908297 20.1026L0.957516 20.1929C1.09711 20.4638 1.25302 20.5623 1.53211 20.5623H1.75373C2.23795 20.5623 2.50064 20.6772 2.50064 20.9891C2.50064 21.2107 2.30363 21.3749 1.82761 21.3749C1.60594 21.3749 1.38431 21.3256 1.15453 21.2271C0.850828 21.0466 0.604594 21.063 0.424031 21.3749L0.161391 21.8099C-0.0110156 22.0971 0.0135938 22.3598 0.284484 22.5568Z\"></path>\\n</g>\\n<g id=\"icon-monitor\">\\n<path d=\"M16.2105 0H1.47368C0.660088 0 0 0.671875 0 1.5V10.5C0 11.3281 0.660088 12 1.47368 12H16.2105C17.0241 12 17.6842 11.3281 17.6842 10.5V1.5C17.6842 0.671875 17.0241 0 16.2105 0ZM16.0263 10.5H1.65789C1.55658 10.5 1.47368 10.4156 1.47368 10.3125V1.6875C1.47368 1.58438 1.55658 1.5 1.65789 1.5H16.0263C16.1276 1.5 16.2105 1.58438 16.2105 1.6875V10.3125C16.2105 10.4156 16.1276 10.5 16.0263 10.5ZM14.7368 15.25C14.7368 15.6656 14.4083 16 14 16H3.68421C3.27588 16 2.94737 15.6656 2.94737 15.25C2.94737 14.8344 3.27588 14.5 3.68421 14.5H6.71447L7.28553 12.7563C7.33465 12.6031 7.47588 12.5 7.63553 12.5H10.0518C10.2114 12.5 10.3526 12.6031 10.4018 12.7563L10.9728 14.5H14C14.4083 14.5 14.7368 14.8344 14.7368 15.25Z\"></path>\\n</g>\\n<g id=\"icon-users\">\\n<path d=\"M20.404 11C22.0615 11 23.404 9.72143 23.404 8.14285C23.404 6.56428 22.0615 5.28571 20.404 5.28571C18.7465 5.28571 17.404 6.56428 17.404 8.14285C17.404 9.72143 18.7465 11 20.404 11ZM20.404 7C21.064 7 21.604 7.51428 21.604 8.14285C21.604 8.77142 21.064 9.28571 20.404 9.28571C19.744 9.28571 19.204 8.77142 19.204 8.14285C19.204 7.51428 19.744 7 20.404 7ZM3.60403 11C5.26153 11 6.60403 9.72143 6.60403 8.14285C6.60403 6.56428 5.26153 5.28571 3.60403 5.28571C1.94653 5.28571 0.604028 6.56428 0.604028 8.14285C0.604028 9.72143 1.94653 11 3.60403 11ZM3.60403 7C4.26403 7 4.80403 7.51428 4.80403 8.14285C4.80403 8.77142 4.26403 9.28571 3.60403 9.28571C2.94403 9.28571 2.40403 8.77142 2.40403 8.14285C2.40403 7.51428 2.94403 7 3.60403 7ZM18.469 14.5321C17.4378 13.075 15.4428 12.5321 13.6765 13.0429C13.144 13.1964 12.5853 13.2821 12.0003 13.2821C11.4153 13.2821 10.8565 13.1964 10.324 13.0429C8.55778 12.5321 6.56278 13.0714 5.53153 14.5321C5.06653 15.1893 4.79653 15.9786 4.79653 16.8286V18.4286C4.79653 19.375 5.60278 20.1429 6.59653 20.1429H17.3965C18.3903 20.1429 19.1965 19.375 19.1965 18.4286V16.8286C19.204 15.9786 18.934 15.1893 18.469 14.5321ZM17.404 18.4286H6.60403V16.8286C6.60403 15.5286 7.69903 14.4643 9.05653 14.4286C10.0128 14.8071 11.0028 15 12.004 15C13.0053 15 13.9953 14.8071 14.9515 14.4286C16.309 14.4643 17.404 15.525 17.404 16.8286V18.4286ZM20.854 12.1429H19.954C19.3053 12.1429 18.7015 12.3321 18.199 12.6536C18.7015 13.0143 19.144 13.4464 19.489 13.9464C19.6353 13.8964 19.789 13.8571 19.9503 13.8571H20.8503C21.5928 13.8571 22.2003 14.4357 22.2003 15.1429C22.2003 15.6143 22.6053 16 23.1003 16C23.5953 16 24.0003 15.6143 24.0003 15.1429C24.004 13.4893 22.5903 12.1429 20.854 12.1429ZM12.004 12.1429C14.3253 12.1429 16.204 10.3536 16.204 8.14285C16.204 5.93214 14.3253 4.14285 12.004 4.14285C9.68278 4.14285 7.80403 5.93214 7.80403 8.14285C7.80403 10.3536 9.68278 12.1429 12.004 12.1429ZM12.004 5.85714C13.3278 5.85714 14.404 6.88214 14.404 8.14285C14.404 9.40357 13.3278 10.4286 12.004 10.4286C10.6803 10.4286 9.60403 9.40357 9.60403 8.14285C9.60403 6.88214 10.6803 5.85714 12.004 5.85714ZM5.80903 12.6536C5.30653 12.3321 4.70278 12.1429 4.05403 12.1429H3.15403C1.41778 12.1429 0.00402832 13.4893 0.00402832 15.1429C0.00402832 15.6143 0.409028 16 0.904028 16C1.39903 16 1.80403 15.6143 1.80403 15.1429C1.80403 14.4357 2.41153 13.8571 3.15403 13.8571H4.05403C4.21903 13.8571 4.37278 13.8964 4.51528 13.9464C4.86403 13.4464 5.30653 13.0143 5.80903 12.6536Z\"></path>\\n</g>\\n<g id=\"icon-solid-users\">\\n<path d=\"M3.3 7.875C4.51344 7.875 5.5 6.86602 5.5 5.625C5.5 4.38398 4.51344 3.375 3.3 3.375C2.08656 3.375 1.1 4.38398 1.1 5.625C1.1 6.86602 2.08656 7.875 3.3 7.875ZM18.7 7.875C19.9134 7.875 20.9 6.86602 20.9 5.625C20.9 4.38398 19.9134 3.375 18.7 3.375C17.4866 3.375 16.5 4.38398 16.5 5.625C16.5 6.86602 17.4866 7.875 18.7 7.875ZM19.8 9H17.6C16.995 9 16.4484 9.24961 16.0497 9.65391C17.435 10.4309 18.4181 11.8336 18.6313 13.5H20.9C21.5084 13.5 22 12.9973 22 12.375V11.25C22 10.009 21.0134 9 19.8 9ZM11 9C13.1278 9 14.85 7.23867 14.85 5.0625C14.85 2.88633 13.1278 1.125 11 1.125C8.87219 1.125 7.15 2.88633 7.15 5.0625C7.15 7.23867 8.87219 9 11 9ZM13.64 10.125H13.3547C12.6397 10.4766 11.8456 10.6875 11 10.6875C10.1544 10.6875 9.36375 10.4766 8.64531 10.125H8.36C6.17375 10.125 4.4 11.9391 4.4 14.175V15.1875C4.4 16.1191 5.13906 16.875 6.05 16.875H15.95C16.8609 16.875 17.6 16.1191 17.6 15.1875V14.175C17.6 11.9391 15.8263 10.125 13.64 10.125ZM5.95031 9.65391C5.55156 9.24961 5.005 9 4.4 9H2.2C0.986563 9 0 10.009 0 11.25V12.375C0 12.9973 0.491562 13.5 1.1 13.5H3.36531C3.58188 11.8336 4.565 10.4309 5.95031 9.65391Z\"></path>\\n</g>\\n<g id=\"icon-compass\">\\n<path d=\"M16.4532 6.08719L9.62771 9.17953C9.29761 9.32911 9.03288 9.59152 8.88199 9.91875L5.76244 16.6847C5.40258 17.4652 6.21356 18.2695 7.00137 17.9128L13.8268 14.8205C14.1569 14.6709 14.4217 14.4085 14.5726 14.0812L17.6921 7.31531C18.052 6.53437 17.241 5.73047 16.4532 6.08719V6.08719ZM12.795 13.0584C12.2053 13.643 11.2492 13.643 10.6595 13.0584C10.0698 12.4739 10.0698 11.5261 10.6595 10.9416C11.2492 10.357 12.2053 10.357 12.795 10.9416C13.3847 11.5261 13.3847 12.4739 12.795 13.0584ZM11.7273 0.375C5.25032 0.375 0 5.57953 0 12C0 18.4205 5.25032 23.625 11.7273 23.625C18.2042 23.625 23.4545 18.4205 23.4545 12C23.4545 5.57953 18.2042 0.375 11.7273 0.375ZM11.7273 21.375C6.51242 21.375 2.26979 17.1694 2.26979 12C2.26979 6.83063 6.51242 2.625 11.7273 2.625C16.9421 2.625 21.1848 6.83063 21.1848 12C21.1848 17.1694 16.9421 21.375 11.7273 21.375Z\"></path>\\n</g>\\n<g id=\"icon-megaphone\">\\n<path d=\"M17.0004 5.7775V1.00031C17.0004 0.726875 16.7822 0 16.0007 0H16.0004C15.7779 0 15.5569 0.074375 15.376 0.219375L12.7188 2.34531C11.3841 3.41219 9.70849 4 8.00037 4H2.00037C0.895679 4 0.000366211 4.89531 0.000366211 6V9C0.000366211 10.1047 0.895679 11 2.00037 11L1.98537 12C1.98537 13.2428 2.27474 14.4172 2.78412 15.4669C2.9463 15.8009 3.30037 16 3.67162 16H6.99287C7.80693 16 8.29568 15.0675 7.80224 14.42C7.28974 13.7475 6.98505 12.9087 6.98505 12C6.98505 11.6528 7.03568 11.3191 7.12287 11H8.00037C9.70849 11 11.3841 11.5878 12.7185 12.6547L15.3757 14.7806C15.5529 14.9224 15.7731 14.9998 16.0001 15C16.7788 15 17.0001 14.2881 17.0001 14V9.22281C17.5954 8.87625 18.0001 8.23875 18.0001 7.50031C18.0004 6.76156 17.5957 6.12406 17.0004 5.7775ZM3.99193 14.5C3.65568 13.7047 3.48537 12.8653 3.48537 12C3.48537 11.5556 3.53912 11.2081 3.56662 11H5.59505C5.52974 11.3344 5.48505 11.6691 5.48505 12C5.48505 12.8819 5.69068 13.7312 6.08537 14.5H3.99193ZM7.50037 9.5H2.00037C1.72474 9.5 1.50037 9.27563 1.50037 9V6C1.50037 5.72437 1.72474 5.5 2.00037 5.5H7.50037V9.5ZM15.5004 12.9594L13.6554 11.4831C12.3179 10.4137 10.6932 9.75281 9.00037 9.56281V5.43719C10.6932 5.24719 12.3179 4.58625 13.6557 3.51656L15.5004 2.04063V12.9594Z\"></path>\\n</g>\\n<g id=\"icon-instagram\">\\n<path d=\"M7.00315 4.40626C5.01565 4.40626 3.41252 6.00938 3.41252 7.99688C3.41252 9.98439 5.01565 11.5875 7.00315 11.5875C8.99065 11.5875 10.5938 9.98439 10.5938 7.99688C10.5938 6.00938 8.99065 4.40626 7.00315 4.40626ZM7.00315 10.3313C5.71877 10.3313 4.66877 9.28438 4.66877 7.99688C4.66877 6.70938 5.71565 5.66251 7.00315 5.66251C8.29065 5.66251 9.33752 6.70938 9.33752 7.99688C9.33752 9.28438 8.28752 10.3313 7.00315 10.3313ZM11.5781 4.25938C11.5781 4.72501 11.2031 5.09688 10.7407 5.09688C10.275 5.09688 9.90315 4.72188 9.90315 4.25938C9.90315 3.79688 10.2782 3.42188 10.7407 3.42188C11.2031 3.42188 11.5781 3.79688 11.5781 4.25938ZM13.9563 5.10938C13.9031 3.98751 13.6469 2.99376 12.825 2.17501C12.0063 1.35626 11.0125 1.10001 9.89065 1.04376C8.7344 0.978131 5.26877 0.978131 4.11252 1.04376C2.99377 1.09688 2.00002 1.35313 1.17815 2.17188C0.356274 2.99063 0.103149 3.98438 0.0468994 5.10626C-0.0187256 6.26251 -0.0187256 9.72813 0.0468994 10.8844C0.100024 12.0063 0.356274 13 1.17815 13.8188C2.00002 14.6375 2.99065 14.8938 4.11252 14.95C5.26877 15.0156 8.7344 15.0156 9.89065 14.95C11.0125 14.8969 12.0063 14.6406 12.825 13.8188C13.6438 13 13.9 12.0063 13.9563 10.8844C14.0219 9.72813 14.0219 6.26563 13.9563 5.10938ZM12.4625 12.125C12.2188 12.7375 11.7469 13.2094 11.1313 13.4563C10.2094 13.8219 8.0219 13.7375 7.00315 13.7375C5.9844 13.7375 3.79377 13.8188 2.87502 13.4563C2.26252 13.2125 1.79065 12.7406 1.54377 12.125C1.17815 11.2031 1.26252 9.01563 1.26252 7.99688C1.26252 6.97813 1.18127 4.78751 1.54377 3.86876C1.78752 3.25626 2.2594 2.78438 2.87502 2.53751C3.7969 2.17188 5.9844 2.25626 7.00315 2.25626C8.0219 2.25626 10.2125 2.17501 11.1313 2.53751C11.7438 2.78126 12.2156 3.25313 12.4625 3.86876C12.8281 4.79063 12.7438 6.97813 12.7438 7.99688C12.7438 9.01563 12.8281 11.2063 12.4625 12.125Z\"></path>\\n</g>\\n<g id=\"icon-discord\">\\n<path d=\"M9.288 7.6C9.288 8.088 8.928 8.488 8.472 8.488C8.024 8.488 7.656 8.088 7.656 7.6C7.656 7.112 8.016 6.712 8.472 6.712C8.928 6.712 9.288 7.112 9.288 7.6ZM5.552 6.712C5.096 6.712 4.736 7.112 4.736 7.6C4.736 8.088 5.104 8.488 5.552 8.488C6.008 8.488 6.368 8.088 6.368 7.6C6.376 7.112 6.008 6.712 5.552 6.712ZM14 1.648V16C11.9846 14.2189 12.6291 14.8085 10.288 12.632L10.712 14.112H1.64C0.736 14.112 0 13.376 0 12.464V1.648C0 0.736 0.736 0 1.64 0H12.36C13.264 0 14 0.736 14 1.648ZM11.72 9.232C11.72 6.656 10.568 4.568 10.568 4.568C9.416 3.704 8.32 3.728 8.32 3.728L8.208 3.856C9.568 4.272 10.2 4.872 10.2 4.872C8.29966 3.83047 6.06738 3.83028 4.224 4.64C3.928 4.776 3.752 4.872 3.752 4.872C3.752 4.872 4.416 4.24 5.856 3.824L5.776 3.728C5.776 3.728 4.68 3.704 3.528 4.568C3.528 4.568 2.376 6.656 2.376 9.232C2.376 9.232 3.048 10.392 4.816 10.448C4.816 10.448 5.112 10.088 5.352 9.784C4.336 9.48 3.952 8.84 3.952 8.84C4.06969 8.92237 4.26375 9.02916 4.28 9.04C5.63031 9.79619 7.54838 10.0439 9.272 9.32C9.552 9.216 9.864 9.064 10.192 8.848C10.192 8.848 9.792 9.504 8.744 9.8C8.984 10.104 9.272 10.448 9.272 10.448C11.04 10.392 11.72 9.232 11.72 9.232Z\"></path>\\n</g>\\n<g id=\"icon-youtube\">\\n<path d=\"M17.1767 3.87759C16.9805 3.13853 16.4021 2.55647 15.6679 2.35894C14.3369 2 9.00002 2 9.00002 2C9.00002 2 3.66314 2 2.33217 2.35894C1.59789 2.5565 1.01958 3.13853 0.8233 3.87759C0.466675 5.21719 0.466675 8.01213 0.466675 8.01213C0.466675 8.01213 0.466675 10.8071 0.8233 12.1467C1.01958 12.8857 1.59789 13.4435 2.33217 13.6411C3.66314 14 9.00002 14 9.00002 14C9.00002 14 14.3369 14 15.6679 13.6411C16.4021 13.4435 16.9805 12.8857 17.1767 12.1467C17.5334 10.8071 17.5334 8.01213 17.5334 8.01213C17.5334 8.01213 17.5334 5.21719 17.1767 3.87759ZM7.25455 10.5497V5.47453L11.7151 8.01219L7.25455 10.5497Z\"></path>\\n</g>\\n<g id=\"icon-facebook\">\\n<path d=\"M0.333496 12.1539C0.333496 18.1199 4.6665 23.0809 10.3335 24.0869V15.4199H7.3335V12.0869H10.3335V9.41991C10.3335 6.41991 12.2665 4.75391 15.0005 4.75391C15.8665 4.75391 16.8005 4.88691 17.6665 5.01991V8.08691H16.1335C14.6665 8.08691 14.3335 8.81991 14.3335 9.75391V12.0869H17.5335L17.0005 15.4199H14.3335V24.0869C20.0005 23.0809 24.3335 18.1209 24.3335 12.1539C24.3335 5.51691 18.9335 0.0869141 12.3335 0.0869141C5.7335 0.0869141 0.333496 5.51691 0.333496 12.1539Z\"></path>\\n</g>\\n<g id=\"icon-twitch\">\\n<path d=\"M6.119 0.0869141L1.8335 4.37241V19.8014H6.977V24.0869L11.2625 19.8014H14.6885L22.4045 12.0869V0.0869141H6.119ZM20.69 11.2304L17.2625 14.6579H13.8335L10.8335 17.6579V14.6579H6.977V1.80141H20.69V11.2304V11.2304Z\"></path>\\n<path d=\"M18.1185 4.80151H16.404V9.94201H18.1185V4.80151ZM13.404 4.80151H11.6895V9.94201H13.404V4.80151V4.80151Z\"></path>\\n</g>\\n<g id=\"icon-twitter\">\\n<path d=\"M23.9765 5.02399C23.1415 5.39399 22.2445 5.64399 21.3015 5.75699C22.2745 5.17478 23.0025 4.25846 23.3495 3.17899C22.4354 3.72198 21.4349 4.10419 20.3915 4.30899C19.6899 3.55986 18.7606 3.06332 17.7478 2.89647C16.7351 2.72961 15.6956 2.90178 14.7907 3.38624C13.8859 3.87071 13.1663 4.64035 12.7437 5.57569C12.321 6.51104 12.219 7.55974 12.4535 8.55899C10.6012 8.46599 8.78914 7.98454 7.13493 7.1459C5.48073 6.30725 4.02135 5.13015 2.85151 3.69099C2.45151 4.38099 2.22151 5.18099 2.22151 6.03299C2.22106 6.79999 2.40994 7.55523 2.77139 8.23172C3.13283 8.90821 3.65567 9.48503 4.29351 9.91099C3.55378 9.88745 2.83038 9.68757 2.18351 9.32799V9.38799C2.18343 10.4637 2.55554 11.5064 3.23669 12.339C3.91784 13.1716 4.86608 13.7429 5.92051 13.956C5.23429 14.1417 4.51485 14.1691 3.81651 14.036C4.11401 14.9616 4.6935 15.771 5.47388 16.3509C6.25425 16.9308 7.19642 17.2522 8.16851 17.27C6.51834 18.5654 4.4804 19.2681 2.38251 19.265C2.01089 19.2651 1.63958 19.2434 1.27051 19.2C3.39998 20.5692 5.87885 21.2958 8.41051 21.293C16.9805 21.293 21.6655 14.195 21.6655 8.03899C21.6655 7.83899 21.6605 7.63699 21.6515 7.43699C22.5628 6.77797 23.3494 5.96189 23.9745 5.02699L23.9765 5.02399Z\"></path>\\n</g>\\n<g id=\"icon-stopwatch\">\\n<path d=\"M17.7141 8.625L18.7734 7.56562C18.9937 7.34531 18.9937 6.98906 18.7734 6.76875L17.9766 5.97188C17.7563 5.75156 17.4 5.75156 17.1797 5.97188L16.2094 6.94219C14.7516 5.65313 12.9094 4.79063 10.875 4.56094V2.25H12.1875C12.4969 2.25 12.75 1.99688 12.75 1.6875V0.5625C12.75 0.253125 12.4969 0 12.1875 0H7.3125C7.00313 0 6.75 0.253125 6.75 0.5625V1.6875C6.75 1.99688 7.00313 2.25 7.3125 2.25H8.625V4.56563C3.76875 5.12344 0 9.24375 0 14.25C0 19.6359 4.36406 24 9.75 24C15.1359 24 19.5 19.6359 19.5 14.25C19.5 12.1547 18.8391 10.2141 17.7141 8.625ZM9.75 21.75C5.60625 21.75 2.25 18.3937 2.25 14.25C2.25 10.1062 5.60625 6.75 9.75 6.75C13.8938 6.75 17.25 10.1062 17.25 14.25C17.25 18.3937 13.8938 21.75 9.75 21.75ZM10.3125 16.5H9.1875C8.87813 16.5 8.625 16.2469 8.625 15.9375V9.5625C8.625 9.25313 8.87813 9 9.1875 9H10.3125C10.6219 9 10.875 9.25313 10.875 9.5625V15.9375C10.875 16.2469 10.6219 16.5 10.3125 16.5Z\"></path>\\n</g>\\n</defs>\\n</svg>\\n\\n<div class=\"redesign-flex-header nav-top\">\\n<a class=\"brand-container\" href=\"https://challonge.com/\">\\n<div class=\"-symbol-only brand-container--logo\"></div>\\n</a>\\n<div class=\"follow-bar\">\\n<div class=\"follow-bar--content hidden-xs\">\\n<div class=\"follow-bar--title\">\\n<a href=\"#\">EU ARMS Challenge #35</a>\\n</div>\\n<div class=\"follow-bar--title-mask\"></div>\\n</div>\\n</div>\\n<div class=\"usernav\">\\n<div class=\"-logged-out account-info-container varnish-logged-out\">\\n<a class=\"search-link\" href=\"/search/tournaments\"><span class=\"icon fa fa-search\"></span>\\n</a><a rel=\"nofollow\" class=\"btn btn-default\" href=\"https://challonge.com/user_session/new?continue=%2FEUAC35\">Log in</a>\\n<a class=\"btn btn-primary\" href=\"https://challonge.com/users/new\">Sign up</a>\\n</div>\\n\\n</div>\\n<div class=\"header-underline\"></div>\\n\\n</div>\\n<div class=\"sticky-nav\" data-js-sticky-elem=\"320\">\\n<div class=\"sticky-container\">\\n<div class=\"redesign-mobile-nav-menu\">\\n<ul class=\"nav nav-stacked\" data-js-navtab-fade=\"\" data-js-sudo-nav=\"\">\\n<span class=\"left -hide js-fade-left\"></span>\\n<li class=\"active\"><a class=\"nav--mobile-nav-toggle\" href=\"#\"><i class=\"fas fa-bars\"></i></a><a icon=\"trophy\" class=\" -icon\" href=\"#\"><i class=\"fas fa-fw fa-trophy\" data-html=\"true\" data-toggle=\"tooltip\" data-placement=\"right\" data-container=\"body\" title=\"\" data-original-title=\"Bracket\"></i><span class=\"txt\">Bracket</span></a></li>\\n<li><a icon=\"ranking-star\" class=\" -icon\" href=\"https://challonge.com/EUAC35/standings\"><i class=\"fas fa-fw fa-ranking-star\" data-html=\"true\" data-toggle=\"tooltip\" data-placement=\"right\" data-container=\"body\" title=\"\" data-original-title=\"Standings\"></i><span class=\"txt\">Standings</span></a></li>\\n<li><a icon=\"bullhorn\" class=\" -icon\" href=\"https://challonge.com/EUAC35/announcements\"><i class=\"fas fa-fw fa-bullhorn\" data-html=\"true\" data-toggle=\"tooltip\" data-placement=\"right\" data-container=\"body\" title=\"\" data-original-title=\"Announcements (0)\"></i><span class=\"txt\">Announcements (0)</span></a></li>\\n<li><a icon=\"clock-rotate-left\" class=\" -icon\" href=\"https://challonge.com/EUAC35/log\"><i class=\"fas fa-fw fa-clock-rotate-left\" data-html=\"true\" data-toggle=\"tooltip\" data-placement=\"right\" data-container=\"body\" title=\"\" data-original-title=\"Log (0)\"></i><span class=\"txt\">Log (0)</span></a></li>\\n<span class=\"right js-fade-right -hide\"></span>\\n</ul>\\n\\n\\n</div>\\n</div>\\n<div class=\"sticky-nav-header\">\\n<h5 class=\"heading\">\\nEU ARMS Challenge #35\\n</h5>\\n</div>\\n</div>\\n\\n<div class=\"redesign-flex-row\">\\n<div class=\"redesign-menu\">\\n<div class=\"redesign-menu-toggle\">\\n<a class=\"toggle-close\" href=\"#\">\\n<i class=\"fas fa-angle-left\"></i>\\n</a>\\n<a class=\"toggle-open\" href=\"#\">\\n<i class=\"fas fa-angle-right\"></i>\\n</a>\\n</div>\\n<script>\\n  var _menuState=localStorage.getItem(\\'menu-state\\');if(_menuState===\\'closed\\'){document.getElementsByClassName(\\'redesign-menu\\')[0].classList.add(\\'-collapsed\\');}\\n</script>\\n<div class=\"redesign-menu-body\">\\n<ul class=\"nav nav-stacked\" data-js-navtab-fade=\"\" data-js-sudo-nav=\"\">\\n<span class=\"left -hide js-fade-left\"></span>\\n<li class=\"active\"><a class=\"nav--mobile-nav-toggle\" href=\"#\"><i class=\"fas fa-bars\"></i></a><a icon=\"trophy\" class=\" -icon\" href=\"#\"><i class=\"fas fa-fw fa-trophy\" data-html=\"true\" data-toggle=\"tooltip\" data-placement=\"right\" data-container=\"body\" title=\"\" data-original-title=\"Bracket\"></i><span class=\"txt\">Bracket</span></a></li>\\n<li><a icon=\"ranking-star\" class=\" -icon\" href=\"https://challonge.com/EUAC35/standings\"><i class=\"fas fa-fw fa-ranking-star\" data-html=\"true\" data-toggle=\"tooltip\" data-placement=\"right\" data-container=\"body\" title=\"\" data-original-title=\"Standings\"></i><span class=\"txt\">Standings</span></a></li>\\n<li><a icon=\"bullhorn\" class=\" -icon\" href=\"https://challonge.com/EUAC35/announcements\"><i class=\"fas fa-fw fa-bullhorn\" data-html=\"true\" data-toggle=\"tooltip\" data-placement=\"right\" data-container=\"body\" title=\"\" data-original-title=\"Announcements (0)\"></i><span class=\"txt\">Announcements (0)</span></a></li>\\n<li><a icon=\"clock-rotate-left\" class=\" -icon\" href=\"https://challonge.com/EUAC35/log\"><i class=\"fas fa-fw fa-clock-rotate-left\" data-html=\"true\" data-toggle=\"tooltip\" data-placement=\"right\" data-container=\"body\" title=\"\" data-original-title=\"Log (0)\"></i><span class=\"txt\">Log (0)</span></a></li>\\n<span class=\"right js-fade-right -hide\"></span>\\n</ul>\\n\\n\\n</div>\\n</div>\\n<div class=\"redesign-content\">\\n<h1 class=\"redesign-title\">\\n<div class=\"title\">\\n<div id=\"title\">\\nEU ARMS Challenge #35\\n<div class=\"button-dropdown -inline\">\\n<a class=\"btn btn-dark-default trigger -mdwide\" href=\"javascript:void(0)\"><i class=\"fa fa-share-alt\"></i>\\n</a><ul class=\"menu button-dropdown-menu -pad -lgcontent\">\\n<li class=\"item\">\\n<a class=\"link link-clipboard-copy\" href=\"#\"><i class=\"icon fa fa-link\" style=\"font-size: 26px\"></i>\\n<span class=\"text\">Copy Link</span>\\n</a></li>\\n<li class=\"item\">\\n<a target=\"_blank\" class=\"link\" href=\"http://www.facebook.com/sharer/sharer.php?u=https%3A%2F%2Fchallonge.com%2FEUAC35\"><i class=\"icon fab fa-facebook\" style=\"font-size: 26px\"></i>\\n<span class=\"text\">Facebook</span>\\n</a></li>\\n<li class=\"item\">\\n<a target=\"_blank\" class=\"link\" href=\"https://twitter.com/intent/tweet?url=https%3A%2F%2Fchallonge.com%2FEUAC35&amp;via=challonge&amp;text=EU%20ARMS%20Challenge%20%2335\"><i class=\"icon fab fa-twitter\" style=\"font-size: 26px\"></i>\\n<span class=\"text\">Twitter</span>\\n</a></li>\\n<li>\\n<hr style=\"margin: 0\">\\n</li>\\n<li class=\"item\">\\n<a class=\"link select-community-btn\" data-action=\"templates/new\" data-params=\"{&quot;tournament_id&quot;:7698516}\" data-append-options=\"[{&quot;value&quot;:&quot;https://challonge.com/settings&quot;,&quot;label&quot;:&quot;Your Templates&quot;}]\" href=\"#\"><i class=\"fa fa-clone\" style=\"font-size: 26px\"></i>\\n<span class=\"text\">Create template from this tournament</span>\\n</a></li>\\n</ul>\\n</div>\\n</div>\\n\\n</div>\\n</h1>\\n<div class=\"redesign-title-underline\"></div>\\n<div class=\"redesign-mobile-nav-menu\">\\n<ul class=\"nav nav-stacked\" data-js-navtab-fade=\"\" data-js-sudo-nav=\"\">\\n<span class=\"left -hide js-fade-left\"></span>\\n<li class=\"active\"><a class=\"nav--mobile-nav-toggle\" href=\"#\"><i class=\"fas fa-bars\"></i></a><a icon=\"trophy\" class=\" -icon\" href=\"#\"><i class=\"fas fa-fw fa-trophy\" data-html=\"true\" data-toggle=\"tooltip\" data-placement=\"right\" data-container=\"body\" title=\"\" data-original-title=\"Bracket\"></i><span class=\"txt\">Bracket</span></a></li>\\n<li><a icon=\"ranking-star\" class=\" -icon\" href=\"https://challonge.com/EUAC35/standings\"><i class=\"fas fa-fw fa-ranking-star\" data-html=\"true\" data-toggle=\"tooltip\" data-placement=\"right\" data-container=\"body\" title=\"\" data-original-title=\"Standings\"></i><span class=\"txt\">Standings</span></a></li>\\n<li><a icon=\"bullhorn\" class=\" -icon\" href=\"https://challonge.com/EUAC35/announcements\"><i class=\"fas fa-fw fa-bullhorn\" data-html=\"true\" data-toggle=\"tooltip\" data-placement=\"right\" data-container=\"body\" title=\"\" data-original-title=\"Announcements (0)\"></i><span class=\"txt\">Announcements (0)</span></a></li>\\n<li><a icon=\"clock-rotate-left\" class=\" -icon\" href=\"https://challonge.com/EUAC35/log\"><i class=\"fas fa-fw fa-clock-rotate-left\" data-html=\"true\" data-toggle=\"tooltip\" data-placement=\"right\" data-container=\"body\" title=\"\" data-original-title=\"Log (0)\"></i><span class=\"txt\">Log (0)</span></a></li>\\n<span class=\"right js-fade-right -hide\"></span>\\n</ul>\\n\\n\\n</div>\\n<div class=\"redesign-inline-cake\">\\n<div class=\"-horizontal -paneled cake-unit\" data-js-scroll-stop=\"\" data-js-sticky-elem=\"\">\\n<div class=\"disclaimer\">\\n<a href=\"https://challonge.com/pricing?utm_campaign=upgrade&amp;utm_id=internal&amp;utm_medium=label&amp;utm_source=ad\">Ad – Upgrade to Remove</a>\\n</div>\\n<div class=\"body\">\\n<div class=\"cake\" data-placement-name=\"horizontal_xl\" id=\"cake-inline\"></div>\\n</div>\\n</div>\\n\\n</div>\\n<!-- * stylelint-disable rscss/class-format */ -->\\n<!-- * stylelint-disable rscss/no-descendant-combinator */ -->\\n<div class=\"tournament-banner-redesign\">\\n<ul class=\"redesigned-meta-list\">\\n<li class=\"item\">\\n<div class=\"item-label\">Players</div>\\n<div class=\"text\">6</div>\\n</li>\\n<li class=\"item\">\\n<div class=\"item-label\">Format</div>\\n<div class=\"text\">Double Elimination</div>\\n</li>\\n<li class=\"item\">\\n<div class=\"item-label\">Game</div>\\n<a class=\"text link-text\" style=\"color: inherit\" href=\"https://challonge.com/search/tournaments?filters%5Bgame_id%5D=46860\">Arms</a>\\n</li>\\n<li class=\"item\">\\n<div class=\"item-label\">\\n<div class=\"hidden-xs hidden-sm\">\\nStart Time\\n</div>\\n<div class=\"visible-xs visible-sm\">Start</div>\\n</div>\\n<div class=\"text start-time\">\\nOctober 27, 2019 at  3:00 PM CET\\n</div>\\n</li>\\n<li class=\"item\">\\n<div class=\"item-label\">Check-in</div>\\n<div class=\"text\">\\n<span class=\"check-in-time-range\">\\nClosed\\n</span>\\n</div>\\n</li>\\n</ul>\\n<div class=\"user-details -host\">\\n<div class=\"img\">\\n<img class=\"portrait user-avatar -default\" width=\"64\" height=\"64\" alt=\"\" src=\"//s3.amazonaws.com/challonge_app/organizations/images/000/108/011/large/eu_arms.png?1571583256\">\\n</div>\\n<div class=\"block mr-1\">\\n<div class=\"deet -short\">\\nOrganized by\\n</div>\\n<div class=\"deet -break\">\\n<a class=\"mini-badge-item link link-text -primary\" href=\"https://challonge.com/communities/EUARMS\"><span class=\"text\">European ARMS Competitive</span>\\n</a></div>\\n</div>\\n</div>\\n</div>\\n\\n<div class=\"content-wrapper\">\\n\\n\\n<div class=\"container-fluid -with-content-gutters\">\\n<div class=\"hide\" id=\"toxic-alert-section\"></div>\\n<div class=\"bracket-alert\"></div>\\n<div class=\"next-steps -solo\">\\n<div class=\"hide\" id=\"admin-steps\"></div>\\n<div class=\"hide\" id=\"registration\"></div>\\n<div class=\"hide\" id=\"predictions-info\"></div>\\n<div class=\"clear-steps\"></div>\\n</div>\\n<div class=\"hide\" id=\"admin-steps-manage-groups\"></div>\\n</div>\\n<div class=\"container-fluid -with-content-gutters -width-limited\">\\n<div class=\"tournament-description limited_width\">\\n<div class=\"redactor-editor\">\\n<p>\\n</p><p>Welcome back to the EU ARMS Challenge!</p><br><p>Stream: <a href=\"https://www.twitch.tv/eu_arms\" target=\"_blank\" rel=\"nofollow noopener noreferrer\">https://www.twitch.tv/eu_arms</a></p><h3>General Rules</h3><ul>\\n<li>EU ARMS Challenge uses a <a href=\"https://docs.google.com/document/d/1m5DKpxhokDBKakMWYtpT88xtF3aSvRivU4nsVwR1AO8/edit\" target=\"_blank\" rel=\"nofollow noopener noreferrer\">ruleset</a> based on the Backroom ruleset</li>\\n<li>Players must be playing from an <a href=\"https://en.wikipedia.org/wiki/List_of_sovereign_states_and_dependent_territories_in_Europe\" target=\"_blank\" rel=\"nofollow noopener noreferrer\">European Country</a>\\n</li>\\n<li>Communication will be held in the European ARMS Discord in #tournament-chat and the Arena chats so you need to join it: <a href=\"https://discord.gg/T38suWw\" target=\"_blank\" rel=\"nofollow noopener noreferrer\">https://discord.gg/T38suWw</a>\\n</li>\\n<li>All games will be best out of 3. Winners, Losers and Grand Finals will be best out of 5!</li>\\n<li>Please communicate in English so that Admins can understand and help</li>\\n<li>Please respect the Admins decisions</li>\\n<li>During the tournament it will be decided which games will be \\nstreamed so please wait to play your games until the mods have announced\\n which game will be streamed from each round! Losers bracket won\\'t get \\nstreamed so you can just go with your matches there. Winners Semi-Finals\\n and all of the finals (Winners, Losers and Grand Finals) will get \\nstreamed!</li>\\n<li>If you have any questions or problems please ping the tournament staff in the Discord (@ tournament staff)</li>\\n</ul><h3><strong>Lag Rules</strong></h3><ul>\\n<li>There may be instances of lag in the games. Please show good sportsmanship to Admins and players in such instances.</li>\\n<li>If an opponent has speed up ARMS, the game will continue. Players \\nare allowed to ask for a replaying of 1 match if this occurs. In that \\ncase the reporter has to provide proof. Then the player with the \\nconnection issue will try to solve it. After that the match will \\ncontinue.</li>\\n<li>If the problem doesn\\'t get resolved a second time, 1 match will go to player with a stable connection.</li>\\n<li>If your opponent is teleporting and has ARMS going through them. \\nRecord this and show it to an admin. If the admin agrees then 1 match \\nwill go in favor of player with a stable connection.</li>\\n<li>If a player disconnects due to connection issues, that player will forfeit that match (0-0 → 0-1).</li>\\n<li>If there\\'s lost connections several times, that player will be disqualified and forfeits that match (0-0 → 0-2).</li>\\n<li>If you run into any lag or disconnect issues and the opponent \\nagrees, you are allowed to circumvent the Lag Rules above once and \\nreplay 1 match. Otherwise the Lag Rules above will still apply.</li>\\n</ul><h3>Other Notes</h3><ul>\\n<li>It\\'s recommended for all players to play with a wired connection.</li>\\n<li>If you have a poor internet connection, make sure to not throttle \\nyour connection by tuning into streams, play videos or download \\nanything.</li>\\n<li>Keep in mind that if players fail to resolve situations by \\nthemselves, Admins are allowed to make decisions to prevent stalling of \\nthe tournament.</li>\\n<li>Please remember to put in your scores after your match is finished</li>\\n</ul><br><p>Starter Stages:&nbsp;</p><br><p>-Sparring Ring</p><p>- Buster Beach</p><p>- Mausoleum</p><p>- DNA Lab</p><p>- Temple Grounds</p><br><p>Counter Picks:</p><br><p>- Via Dolce</p><p>- Scrapyard</p><br><br><br><p>For the first match players will strike in a 1-2-1 format from the starter stages. The higher seeded player will ban first.&nbsp;</p><p>After\\n the match the counter picks are available and the winner from the \\nprevious match will ban 2 stages. The loser then picks one stage he \\nwants to play on.</p><p>You are also allowed to agree on a specific \\nstage to play on or to put on all legal stages and then play on a random\\n stage from them.</p>\\n\\n</div>\\n<div class=\"modal-toggle\" data-compressed=\"Show Full Description\" data-expanded=\"Hide Full Description\">\\nShow Full Description\\n</div>\\n</div>\\n\\n</div>\\n<div class=\"hide\" id=\"program-registration-status-section\"></div>\\n<div class=\"container-fluid -with-content-gutters\">\\n<div class=\"-dark default-panel\">\\n<div class=\"body -padded\">\\n<h4 class=\"page-heading -bold -small -nopadtop -themed\">\\nFinal Results\\n</h4>\\n<div class=\"list-wrapper -sm\">\\n<div class=\"list -ndthree\">\\n<div class=\"winner-card\">\\n<div class=\"gradient-line -gold\"></div>\\n<div class=\"body\">\\n<div class=\"rank\">\\n<img class=\"icon\" src=\"https://assets.challonge.com/assets/icon-medal-first-9f45bab2a90d78bf720a8d196bf2dbbf260c4ba65a6e6a22c4e4c19813f7c9f2.svg\" alt=\"Icon medal first\">\\n</div>\\n<div class=\"list\">\\n<div class=\"user-profile-block -themed\">\\n<div class=\"avatar\">\\n<img class=\"user-avatar -smed\" src=\"https://s3.amazonaws.com/challonge_app/users/images/002/363/206/xlarge/TpXZqrgB_400x400.png\" alt=\"Tpxzqrgb 400x400\">\\n</div>\\n<div class=\"details\">\\n<h5 class=\"em -nopad\"><a class=\"link-text -primary\" href=\"/users/replicant___\">replicant</a></h5>\\n<div class=\"score -smpadtop\">\\n3\\n-\\n0\\n</div>\\n</div>\\n</div>\\n\\n</div>\\n</div>\\n</div>\\n<div class=\"winner-card\">\\n<div class=\"gradient-line -silver\"></div>\\n<div class=\"body\">\\n<div class=\"rank\">\\n<img class=\"icon\" src=\"https://assets.challonge.com/assets/icon-medal-second-db37f62deb0580bc0b59a95cb799e284012340d3225eb8c88c316482f872e98e.svg\" alt=\"Icon medal second\">\\n</div>\\n<div class=\"list\">\\n<div class=\"user-profile-block -themed\">\\n<div class=\"avatar\">\\n<img class=\"user-avatar -smed\" src=\"https://s3.amazonaws.com/challonge_app/users/images/001/897/663/xlarge/1725714_1.png\" alt=\"1725714 1\">\\n</div>\\n<div class=\"details\">\\n<h5 class=\"em -nopad\"><a class=\"link-text -primary\" href=\"/users/Grimwood96\">Grimwood96</a></h5>\\n<div class=\"score -smpadtop\">\\n2\\n-\\n2\\n</div>\\n</div>\\n</div>\\n\\n</div>\\n</div>\\n</div>\\n<div class=\"winner-card\">\\n<div class=\"gradient-line -bronze\"></div>\\n<div class=\"body\">\\n<div class=\"rank\">\\n<img class=\"icon\" src=\"https://assets.challonge.com/assets/icon-medal-third-153b3b1c21629bcc63cee6298b91e36a3945a7c37d0387fb806d3bab87b3cbb9.svg\" alt=\"Icon medal third\">\\n</div>\\n<div class=\"list\">\\n<div class=\"user-profile-block -themed\">\\n<div class=\"avatar\">\\n<img class=\"user-avatar -smed\" src=\"https://s3.amazonaws.com/challonge_app/users/images/003/149/531/xlarge/28004.png\" alt=\"28004\">\\n</div>\\n<div class=\"details\">\\n<h5 class=\"em -nopad\"><a class=\"link-text -primary\" href=\"/users/Yamber\">Yam</a></h5>\\n<div class=\"score -smpadtop\">\\n2\\n-\\n2\\n</div>\\n</div>\\n</div>\\n\\n</div>\\n</div>\\n</div>\\n</div>\\n</div>\\n<div class=\"list-wrapper -sm collapse\" id=\"top_eight\">\\n<div class=\"rank-block\">\\n<h4 class=\"rank\">4th</h4>\\n<div class=\"user-profile-block -themed\">\\n<div class=\"avatar\">\\n<img class=\"user-avatar -smed\" src=\"https://s3.amazonaws.com/challonge_app/users/images/002/392/308/xlarge/Dragon_Slayer.png\" alt=\"Dragon slayer\">\\n</div>\\n<div class=\"details\">\\n<h5 class=\"em -nopad\"><a class=\"link-text -primary\" href=\"/users/ocrim_ger\">ocrim_ger</a></h5>\\n<div class=\"score -smpadtop\">\\n2\\n-\\n2\\n</div>\\n</div>\\n</div>\\n\\n</div>\\n<div class=\"rank-block\">\\n<h4 class=\"rank\">5th</h4>\\n<div class=\"user-profile-block -themed\">\\n<div class=\"avatar\">\\n<img class=\"user-avatar -smed\" src=\"https://s3.amazonaws.com/challonge_app/users/images/003/057/118/xlarge/BnBsmall.png\" alt=\"Bnbsmall\">\\n</div>\\n<div class=\"details\">\\n<h5 class=\"em -nopad\"><a class=\"link-text -primary\" href=\"/users/YoshiBowser\">YoshiBowser</a></h5>\\n<div class=\"score -smpadtop\">\\n0\\n-\\n2\\n</div>\\n</div>\\n</div>\\n\\n</div>\\n<div class=\"rank-block\">\\n<h4 class=\"rank\">5th</h4>\\n<div class=\"user-profile-block -themed\">\\n<div class=\"avatar\">\\n<img class=\"user-avatar -smed\" src=\"https://s3.amazonaws.com/challonge_app/users/images/002/521/004/xlarge/IMG_20191112_182518.png\" alt=\"Img 20191112 182518\">\\n</div>\\n<div class=\"details\">\\n<h5 class=\"em -nopad\"><a class=\"link-text -primary\" href=\"/users/Iceman92\">Iceman92</a></h5>\\n<div class=\"score -smpadtop\">\\n1\\n-\\n2\\n</div>\\n</div>\\n</div>\\n\\n</div>\\n</div>\\n<div class=\"actions\" data-js-btn-collapse-replace=\"one\">\\n<a class=\"btn btn-lg btn-block btn-light-default\" data-toggle=\"collapse\" href=\"#top_eight\">\\n<span>Show more</span>\\n</a>\\n<a class=\"btn btn-lg btn-block btn-light-default hide -prewrap\" href=\"https://challonge.com/EUAC35/standings\">Show full results</a>\\n</div>\\n</div>\\n</div>\\n\\n</div>\\n<div class=\"container-fluid -with-content-gutters\">\\n<div class=\"container-fluid -with-header-gutters bracket-controls-wrapper\">\\n<div class=\"bracket-controls\">\\n<span class=\"live-stamp hide\">\\n<span class=\"tip\" data-container=\"body\" data-placement=\"bottom\" title=\"\" data-original-title=\"This bracket updates in real-time.\">\\n<div class=\"dot\"></div>\\nLive\\n</span>\\n</span>\\n\\n<span>\\n<a class=\"full-screen-toggle tip hidden-xs\" title=\"\" target=\"_blank\" data-placement=\"bottom\" data-container=\"body\" href=\"https://challonge.com/EUAC35/fullscreen\" data-original-title=\"Full Screen\"><i class=\"fas fa-arrows-alt  \"></i></a>\\n<a title=\"\" class=\"tip\" data-placement=\"bottom\" data-container=\"body\" target=\"_blank\" href=\"https://challonge.com/EUAC35.svg\" data-original-title=\"Printer-friendly Live Bracket Image\"><i class=\"fas fa-print  \"></i></a>\\n<a title=\"\" class=\"embed-code-toggle tip\" data-placement=\"bottom\" data-container=\"body\" href=\"#\" data-original-title=\"Embed Code\"><i class=\"fas fa-code  \"></i></a>\\n<div class=\"embed_code hide\">\\n<h3>Bracket Embed Code</h3>\\n<p class=\"hide-if-premier\">Upgrade to <a target=\"_blank\" href=\"https://challonge.com/settings/subscriptions\"><img src=\"https://assets.challonge.com/assets/premier-badge-7bc52bf014f66a71576226849ffa28748920e5a8f15ecf5dd6441df2da589d5e.png\" alt=\"Premier badge\"> Challonge Premier</a> to remove advertisements from the embed.</p>\\n<textarea name=\"module_code\" id=\"module_code\" class=\"form-control\">&lt;iframe src=\"https://challonge.com/EUAC35/module\" width=\"100%\" height=\"500\" frameborder=\"0\" scrolling=\"auto\" allowtransparency=\"true\"&gt;&lt;/iframe&gt;</textarea>\\n<small>\\nNeed help? View the <a href=\"https://challonge.com/module/instructions\">Bracket Module Instructions</a>.\\n</small>\\n</div>\\n</span>\\n<img class=\"bracket_refresh_loader hide\" src=\"https://assets.challonge.com/assets/ajax-loader-152ecba02d9b9359d20dc5bbebd7c5491b1f9fbbd31852036270d8a2e6e9af4f.gif\" alt=\"Ajax loader\">\\n</div>\\n</div>\\n<div class=\"tournament-bracket-wrapper\">\\n<div class=\"full-screen-target\">\\n<script>\\n//<![CDATA[\\nif (window._initialStoreState === undefined) window._initialStoreState = {}; window._initialStoreState[\\'CurrentUserStore\\'] = {\"locale\":\"en\",\"is_superadmin\":false}; window._initialStoreState[\\'TournamentStore\\'] = {\"requested_plotter\":\"DoubleEliminationBracketPlotter\",\"tournament\":{\"id\":7698516,\"state\":\"complete\",\"tournament_type\":\"double elimination\",\"quick_advance\":false,\"hide_seeds\":false,\"hide_identifiers\":false,\"show_station_and_time\":false,\"animated\":true,\"accept_attachments\":false,\"participant_count_to_advance\":1,\"owner_ids\":[2405407,2405407],\"admin_ids\":[2405407,2392308,2533091,2670839,2405407],\"participants_swappable\":false,\"progress_meter\":100,\"group_stage_progress_meter\":0,\"grand_finals_modifier\":null,\"predict_the_losers_bracket\":false,\"voting_underway\":false,\"is_team\":false,\"split_participants\":false,\"participants_per_match\":2,\"only_start_matches_with_stations\":null},\"rounds\":[{\"id\":null,\"stage_type\":\"Tournament\",\"stage_id\":7698516,\"number\":1,\"title\":\"Round 1\",\"description\":null,\"best_of\":1,\"created_at\":null,\"updated_at\":null,\"group_index\":null,\"title_lines\":[\"Round 1\"],\"href\":\"/tournaments/7698516/rounds/new_or_edit?number=1\\\\u0026title=Round+1\"},{\"id\":null,\"stage_type\":\"Tournament\",\"stage_id\":7698516,\"number\":2,\"title\":\"Round 2\",\"description\":null,\"best_of\":1,\"created_at\":null,\"updated_at\":null,\"group_index\":null,\"title_lines\":[\"Round 2\"],\"href\":\"/tournaments/7698516/rounds/new_or_edit?number=2\\\\u0026title=Round+2\"},{\"id\":null,\"stage_type\":\"Tournament\",\"stage_id\":7698516,\"number\":3,\"title\":\"Semifinals\",\"description\":null,\"best_of\":1,\"created_at\":null,\"updated_at\":null,\"group_index\":null,\"title_lines\":[\"Semifinals\"],\"href\":\"/tournaments/7698516/rounds/new_or_edit?number=3\\\\u0026title=Semifinals\"},{\"id\":null,\"stage_type\":\"Tournament\",\"stage_id\":7698516,\"number\":4,\"title\":\"Finals\",\"description\":null,\"best_of\":1,\"created_at\":null,\"updated_at\":null,\"group_index\":null,\"title_lines\":[\"Finals\"],\"href\":\"/tournaments/7698516/rounds/new_or_edit?number=4\\\\u0026title=Finals\"},{\"id\":null,\"stage_type\":\"Tournament\",\"stage_id\":7698516,\"number\":-1,\"title\":\"Losers Round 1\",\"description\":null,\"best_of\":1,\"created_at\":null,\"updated_at\":null,\"group_index\":null,\"title_lines\":[\"Losers Round 1\"],\"href\":\"/tournaments/7698516/rounds/new_or_edit?number=-1\\\\u0026title=Losers+Round+1\"},{\"id\":null,\"stage_type\":\"Tournament\",\"stage_id\":7698516,\"number\":-2,\"title\":\"Losers Round 2\",\"description\":null,\"best_of\":1,\"created_at\":null,\"updated_at\":null,\"group_index\":null,\"title_lines\":[\"Losers Round 2\"],\"href\":\"/tournaments/7698516/rounds/new_or_edit?number=-2\\\\u0026title=Losers+Round+2\"},{\"id\":null,\"stage_type\":\"Tournament\",\"stage_id\":7698516,\"number\":-3,\"title\":\"Losers Round 3\",\"description\":null,\"best_of\":1,\"created_at\":null,\"updated_at\":null,\"group_index\":null,\"title_lines\":[\"Losers Round 3\"],\"href\":\"/tournaments/7698516/rounds/new_or_edit?number=-3\\\\u0026title=Losers+Round+3\"}],\"third_place_match\":null,\"consolation_matches\":[],\"matches_by_round\":{\"1\":[{\"id\":178584013,\"tournament_id\":7698516,\"identifier\":1,\"raw_identifier\":\"A\",\"round\":1,\"state\":\"complete\",\"underway_at\":null,\"games\":[[1,2]],\"editable_by_user_ids\":[],\"has_attachment\":false,\"is_group_match\":false,\"forfeited\":null,\"station\":null,\"queued_for_station\":null,\"scheduled_time\":null,\"shareable\":false,\"has_chat\":false,\"player1\":{\"id\":107876180,\"seed\":4,\"display_name\":\"Yam\",\"portrait_url\":\"https://s3.amazonaws.com/challonge_app/users/images/003/149/531/large/28004.png\",\"participant_id\":null,\"quick_added\":true,\"team_members\":null,\"active\":true,\"misc\":null,\"integration_uids\":null},\"player2\":{\"id\":107827464,\"seed\":5,\"display_name\":\"ocrim_ger\",\"portrait_url\":\"https://s3.amazonaws.com/challonge_app/users/images/002/392/308/large/Dragon_Slayer.png\",\"participant_id\":null,\"quick_added\":true,\"team_members\":null,\"active\":true,\"misc\":null,\"integration_uids\":null},\"player1_prereq_identifier\":null,\"player2_prereq_identifier\":null,\"player1_is_prereq_match_loser\":false,\"player2_is_prereq_match_loser\":false,\"player1_placeholder_text\":null,\"player2_placeholder_text\":null,\"scores\":[1,2],\"winner_id\":107827464,\"loser_id\":107876180,\"md5\":\"098d418f661d2a226aa701a79c9f26e3\"},{\"id\":178584014,\"tournament_id\":7698516,\"identifier\":2,\"raw_identifier\":\"B\",\"round\":1,\"state\":\"complete\",\"underway_at\":null,\"games\":[[2,0]],\"editable_by_user_ids\":[],\"has_attachment\":false,\"is_group_match\":false,\"forfeited\":null,\"station\":null,\"queued_for_station\":null,\"scheduled_time\":null,\"shareable\":false,\"has_chat\":false,\"player1\":{\"id\":108165544,\"seed\":3,\"display_name\":\"Iceman92\",\"portrait_url\":\"https://s3.amazonaws.com/challonge_app/users/images/002/521/004/large/IMG_20191112_182518.png\",\"participant_id\":null,\"quick_added\":true,\"team_members\":null,\"active\":true,\"misc\":null,\"integration_uids\":null},\"player2\":{\"id\":107772816,\"seed\":6,\"display_name\":\"YoshiBowser\",\"portrait_url\":\"https://s3.amazonaws.com/challonge_app/users/images/003/057/118/large/BnBsmall.png\",\"participant_id\":null,\"quick_added\":true,\"team_members\":null,\"active\":true,\"misc\":null,\"integration_uids\":null},\"player1_prereq_identifier\":null,\"player2_prereq_identifier\":null,\"player1_is_prereq_match_loser\":false,\"player2_is_prereq_match_loser\":false,\"player1_placeholder_text\":null,\"player2_placeholder_text\":null,\"scores\":[2,0],\"winner_id\":108165544,\"loser_id\":107772816,\"md5\":\"d910791317c6b7dfbf5ff22eaa7c379d\"}],\"2\":[{\"id\":178584015,\"tournament_id\":7698516,\"identifier\":3,\"raw_identifier\":\"C\",\"round\":2,\"state\":\"complete\",\"underway_at\":null,\"games\":[[2,0]],\"editable_by_user_ids\":[],\"has_attachment\":false,\"is_group_match\":false,\"forfeited\":null,\"station\":null,\"queued_for_station\":null,\"scheduled_time\":null,\"shareable\":false,\"has_chat\":false,\"player1\":{\"id\":107792038,\"seed\":1,\"display_name\":\"Grimwood96\",\"portrait_url\":\"https://s3.amazonaws.com/challonge_app/users/images/001/897/663/large/1725714_1.png\",\"participant_id\":null,\"quick_added\":true,\"team_members\":null,\"active\":true,\"misc\":null,\"integration_uids\":null},\"player2\":{\"id\":107827464,\"seed\":5,\"display_name\":\"ocrim_ger\",\"portrait_url\":\"https://s3.amazonaws.com/challonge_app/users/images/002/392/308/large/Dragon_Slayer.png\",\"participant_id\":null,\"quick_added\":true,\"team_members\":null,\"active\":true,\"misc\":null,\"integration_uids\":null},\"player1_prereq_identifier\":null,\"player2_prereq_identifier\":1,\"player1_is_prereq_match_loser\":false,\"player2_is_prereq_match_loser\":false,\"player1_placeholder_text\":null,\"player2_placeholder_text\":null,\"scores\":[2,0],\"winner_id\":107792038,\"loser_id\":107827464,\"md5\":\"9219746c85d37da5e71baa41e1345bb9\"},{\"id\":178584016,\"tournament_id\":7698516,\"identifier\":4,\"raw_identifier\":\"D\",\"round\":2,\"state\":\"complete\",\"underway_at\":null,\"games\":[[2,0]],\"editable_by_user_ids\":[],\"has_attachment\":false,\"is_group_match\":false,\"forfeited\":null,\"station\":null,\"queued_for_station\":null,\"scheduled_time\":null,\"shareable\":false,\"has_chat\":false,\"player1\":{\"id\":108165794,\"seed\":2,\"display_name\":\"replicant\",\"portrait_url\":\"https://s3.amazonaws.com/challonge_app/users/images/002/363/206/large/TpXZqrgB_400x400.png\",\"participant_id\":null,\"quick_added\":true,\"team_members\":null,\"active\":true,\"misc\":null,\"integration_uids\":null},\"player2\":{\"id\":108165544,\"seed\":3,\"display_name\":\"Iceman92\",\"portrait_url\":\"https://s3.amazonaws.com/challonge_app/users/images/002/521/004/large/IMG_20191112_182518.png\",\"participant_id\":null,\"quick_added\":true,\"team_members\":null,\"active\":true,\"misc\":null,\"integration_uids\":null},\"player1_prereq_identifier\":null,\"player2_prereq_identifier\":2,\"player1_is_prereq_match_loser\":false,\"player2_is_prereq_match_loser\":false,\"player1_placeholder_text\":null,\"player2_placeholder_text\":null,\"scores\":[2,0],\"winner_id\":108165794,\"loser_id\":108165544,\"md5\":\"5840c38d2b6710baac5eff9f579d81d1\"}],\"3\":[{\"id\":178584017,\"tournament_id\":7698516,\"identifier\":8,\"raw_identifier\":\"E\",\"round\":3,\"state\":\"complete\",\"underway_at\":null,\"games\":[[1,3]],\"editable_by_user_ids\":[],\"has_attachment\":false,\"is_group_match\":false,\"forfeited\":null,\"station\":null,\"queued_for_station\":null,\"scheduled_time\":null,\"shareable\":false,\"has_chat\":false,\"player1\":{\"id\":107792038,\"seed\":1,\"display_name\":\"Grimwood96\",\"portrait_url\":\"https://s3.amazonaws.com/challonge_app/users/images/001/897/663/large/1725714_1.png\",\"participant_id\":null,\"quick_added\":true,\"team_members\":null,\"active\":true,\"misc\":null,\"integration_uids\":null},\"player2\":{\"id\":108165794,\"seed\":2,\"display_name\":\"replicant\",\"portrait_url\":\"https://s3.amazonaws.com/challonge_app/users/images/002/363/206/large/TpXZqrgB_400x400.png\",\"participant_id\":null,\"quick_added\":true,\"team_members\":null,\"active\":true,\"misc\":null,\"integration_uids\":null},\"player1_prereq_identifier\":3,\"player2_prereq_identifier\":4,\"player1_is_prereq_match_loser\":false,\"player2_is_prereq_match_loser\":false,\"player1_placeholder_text\":null,\"player2_placeholder_text\":null,\"scores\":[1,3],\"winner_id\":108165794,\"loser_id\":107792038,\"md5\":\"42b567e877b65079c5d585d692a05f73\"}],\"-1\":[{\"id\":178584018,\"tournament_id\":7698516,\"identifier\":6,\"raw_identifier\":\"H\",\"round\":-1,\"state\":\"complete\",\"underway_at\":null,\"games\":[[1,2]],\"editable_by_user_ids\":[],\"has_attachment\":false,\"is_group_match\":false,\"forfeited\":null,\"station\":null,\"queued_for_station\":null,\"scheduled_time\":null,\"shareable\":false,\"has_chat\":false,\"player1\":{\"id\":108165544,\"seed\":3,\"display_name\":\"Iceman92\",\"portrait_url\":\"https://s3.amazonaws.com/challonge_app/users/images/002/521/004/large/IMG_20191112_182518.png\",\"participant_id\":null,\"quick_added\":true,\"team_members\":null,\"active\":true,\"misc\":null,\"integration_uids\":null},\"player2\":{\"id\":107876180,\"seed\":4,\"display_name\":\"Yam\",\"portrait_url\":\"https://s3.amazonaws.com/challonge_app/users/images/003/149/531/large/28004.png\",\"participant_id\":null,\"quick_added\":true,\"team_members\":null,\"active\":true,\"misc\":null,\"integration_uids\":null},\"player1_prereq_identifier\":4,\"player2_prereq_identifier\":1,\"player1_is_prereq_match_loser\":true,\"player2_is_prereq_match_loser\":true,\"player1_placeholder_text\":null,\"player2_placeholder_text\":null,\"scores\":[1,2],\"winner_id\":107876180,\"loser_id\":108165544,\"md5\":\"d76161721ce076f45d933c9e138062dd\"},{\"id\":178584019,\"tournament_id\":7698516,\"identifier\":5,\"raw_identifier\":\"I\",\"round\":-1,\"state\":\"complete\",\"underway_at\":null,\"games\":[[2,0]],\"editable_by_user_ids\":[],\"has_attachment\":false,\"is_group_match\":false,\"forfeited\":null,\"station\":null,\"queued_for_station\":null,\"scheduled_time\":null,\"shareable\":false,\"has_chat\":false,\"player1\":{\"id\":107827464,\"seed\":5,\"display_name\":\"ocrim_ger\",\"portrait_url\":\"https://s3.amazonaws.com/challonge_app/users/images/002/392/308/large/Dragon_Slayer.png\",\"participant_id\":null,\"quick_added\":true,\"team_members\":null,\"active\":true,\"misc\":null,\"integration_uids\":null},\"player2\":{\"id\":107772816,\"seed\":6,\"display_name\":\"YoshiBowser\",\"portrait_url\":\"https://s3.amazonaws.com/challonge_app/users/images/003/057/118/large/BnBsmall.png\",\"participant_id\":null,\"quick_added\":true,\"team_members\":null,\"active\":true,\"misc\":null,\"integration_uids\":null},\"player1_prereq_identifier\":3,\"player2_prereq_identifier\":2,\"player1_is_prereq_match_loser\":true,\"player2_is_prereq_match_loser\":true,\"player1_placeholder_text\":null,\"player2_placeholder_text\":null,\"scores\":[2,0],\"winner_id\":107827464,\"loser_id\":107772816,\"md5\":\"7ee06ef006d2d3f6df9267bba7ac3437\"}],\"-2\":[{\"id\":178584020,\"tournament_id\":7698516,\"identifier\":7,\"raw_identifier\":\"J\",\"round\":-2,\"state\":\"complete\",\"underway_at\":null,\"games\":[[2,0]],\"editable_by_user_ids\":[],\"has_attachment\":false,\"is_group_match\":false,\"forfeited\":null,\"station\":null,\"queued_for_station\":null,\"scheduled_time\":null,\"shareable\":false,\"has_chat\":false,\"player1\":{\"id\":107876180,\"seed\":4,\"display_name\":\"Yam\",\"portrait_url\":\"https://s3.amazonaws.com/challonge_app/users/images/003/149/531/large/28004.png\",\"participant_id\":null,\"quick_added\":true,\"team_members\":null,\"active\":true,\"misc\":null,\"integration_uids\":null},\"player2\":{\"id\":107827464,\"seed\":5,\"display_name\":\"ocrim_ger\",\"portrait_url\":\"https://s3.amazonaws.com/challonge_app/users/images/002/392/308/large/Dragon_Slayer.png\",\"participant_id\":null,\"quick_added\":true,\"team_members\":null,\"active\":true,\"misc\":null,\"integration_uids\":null},\"player1_prereq_identifier\":6,\"player2_prereq_identifier\":5,\"player1_is_prereq_match_loser\":false,\"player2_is_prereq_match_loser\":false,\"player1_placeholder_text\":null,\"player2_placeholder_text\":null,\"scores\":[2,0],\"winner_id\":107876180,\"loser_id\":107827464,\"md5\":\"2d92bf835975d0c4c2352e616de4d171\"}],\"-3\":[{\"id\":178584021,\"tournament_id\":7698516,\"identifier\":9,\"raw_identifier\":\"K\",\"round\":-3,\"state\":\"complete\",\"underway_at\":null,\"games\":[[3,1]],\"editable_by_user_ids\":[],\"has_attachment\":false,\"is_group_match\":false,\"forfeited\":null,\"station\":null,\"queued_for_station\":null,\"scheduled_time\":null,\"shareable\":false,\"has_chat\":false,\"player1\":{\"id\":107792038,\"seed\":1,\"display_name\":\"Grimwood96\",\"portrait_url\":\"https://s3.amazonaws.com/challonge_app/users/images/001/897/663/large/1725714_1.png\",\"participant_id\":null,\"quick_added\":true,\"team_members\":null,\"active\":true,\"misc\":null,\"integration_uids\":null},\"player2\":{\"id\":107876180,\"seed\":4,\"display_name\":\"Yam\",\"portrait_url\":\"https://s3.amazonaws.com/challonge_app/users/images/003/149/531/large/28004.png\",\"participant_id\":null,\"quick_added\":true,\"team_members\":null,\"active\":true,\"misc\":null,\"integration_uids\":null},\"player1_prereq_identifier\":8,\"player2_prereq_identifier\":7,\"player1_is_prereq_match_loser\":true,\"player2_is_prereq_match_loser\":false,\"player1_placeholder_text\":null,\"player2_placeholder_text\":null,\"scores\":[3,1],\"winner_id\":107792038,\"loser_id\":107876180,\"md5\":\"18c594d3b55655952eba556a1070c248\"}],\"4\":[{\"id\":178584022,\"tournament_id\":7698516,\"identifier\":10,\"raw_identifier\":\"F\",\"round\":4,\"state\":\"complete\",\"underway_at\":null,\"games\":[[3,2]],\"editable_by_user_ids\":[],\"has_attachment\":false,\"is_group_match\":false,\"forfeited\":null,\"station\":null,\"queued_for_station\":null,\"scheduled_time\":null,\"shareable\":false,\"has_chat\":false,\"player1\":{\"id\":108165794,\"seed\":2,\"display_name\":\"replicant\",\"portrait_url\":\"https://s3.amazonaws.com/challonge_app/users/images/002/363/206/large/TpXZqrgB_400x400.png\",\"participant_id\":null,\"quick_added\":true,\"team_members\":null,\"active\":true,\"misc\":null,\"integration_uids\":null},\"player2\":{\"id\":107792038,\"seed\":1,\"display_name\":\"Grimwood96\",\"portrait_url\":\"https://s3.amazonaws.com/challonge_app/users/images/001/897/663/large/1725714_1.png\",\"participant_id\":null,\"quick_added\":true,\"team_members\":null,\"active\":true,\"misc\":null,\"integration_uids\":null},\"player1_prereq_identifier\":8,\"player2_prereq_identifier\":9,\"player1_is_prereq_match_loser\":false,\"player2_is_prereq_match_loser\":false,\"player1_placeholder_text\":null,\"player2_placeholder_text\":null,\"scores\":[3,2],\"winner_id\":108165794,\"loser_id\":107792038,\"md5\":\"a85a89fd8e0a5c538efd352003249c37\"}]},\"groups\":[]}; window._initialStoreState[\\'ThemeStore\\'] = {\"options\":{\"hideSeeds\":false,\"hideIdentifiers\":null,\"showStationAndTime\":false,\"participantsPerMatch\":2}}; window._initialStoreState[\\'BracketSettingsStore\\'] = {\"panOnSingleClick\":false,\"zoomScaleOnDoubleClick\":null,\"use100vh\":false,\"showDetailsOnHover\":true};\\n//]]>\\n</script><div data-react-class=\"TournamentController\" data-react-props=\"{&quot;initialView&quot;:&quot;final-stage&quot;,&quot;allowRoundCollapsing&quot;:false,&quot;waitForIntegrationData&quot;:false}\"><div><div class=\"tournament-bracket\"><div class=\"tournament-bracket--scrollmask\"><div class=\"tournament-bracket--scrollable\" tabindex=\"0\" style=\"height: 424px;\"><div class=\"tournament-bracket--relative\"><div class=\"bracket-placeholder\" style=\"width: 0px; height: 0px;\"></div><svg class=\"bracket-svg\" width=\"1741\" height=\"394\" viewBox=\"-0 0 1741 394\"><g class=\"parent\"><g><g transform=\"translate(244 259)\" class=\"bracket-line-container\"><path d=\"M 228 26.00000000000003 L 236 26.00000000000003 L 236 1 L 244 1\" class=\"bracket-line\" data-line-length=\"41.00000000000003\"></path></g><g transform=\"translate(0 259)\" class=\"bracket-line-container\"><path d=\"M 228 1 L 236 1 L 236 27.00000000000003\" class=\"bracket-line\" data-line-length=\"41.00000000000003\"></path></g><g transform=\"translate(0 286)\" class=\"bracket-line-container\"><path d=\"M 228 26 L 236 26 L 236 1 L 244 1\" class=\"bracket-line\" data-line-length=\"41\"></path></g><g transform=\"translate(488 89)\" class=\"bracket-line-container\"><path d=\"M 228 1 L 236 1 L 236 27\" class=\"bracket-line\" data-line-length=\"41\"></path></g><g transform=\"translate(488 116)\" class=\"bracket-line-container\"><path d=\"M 228 141.99999999999997 L 236 141.99999999999997 L 236 1 L 244 1\" class=\"bracket-line\" data-line-length=\"156.99999999999997\"></path></g><g transform=\"translate(244 62)\" class=\"bracket-line-container\"><path d=\"M 228 1 L 236 1 L 236 27\" class=\"bracket-line\" data-line-length=\"41\"></path></g><g transform=\"translate(244 89)\" class=\"bracket-line-container\"><path d=\"M 228 26 L 236 26 L 236 1 L 244 1\" class=\"bracket-line\" data-line-length=\"41\"></path></g><g transform=\"translate(0 116)\" class=\"bracket-line-container\"><path d=\"M 228 25.999999999999986 L 236 25.999999999999986 L 236 1 L 244 1\" class=\"bracket-line\" data-line-length=\"40.999999999999986\"></path></g><g transform=\"translate(0 62)\" class=\"bracket-line-container\"><path d=\"M 228 26 L 236 26 L 236 1 L 244 1\" class=\"bracket-line\" data-line-length=\"41\"></path></g></g><g><g transform=\"translate(488 231)\" class=\"match -complete \" data-identifier=\"9\" data-match-id=\"178584021\"><defs><clipPath id=\"match-clippath-9\"><rect x=\"26\" y=\"5\" width=\"200\" height=\"45\" rx=\"3\" ry=\"3\"></rect></clipPath></defs><text x=\"11\" y=\"31\" width=\"24\" height=\"10\" text-anchor=\"middle\" class=\"match--identifier\">9</text><rect x=\"24\" y=\"3\" width=\"204\" height=\"49\" rx=\"3\" ry=\"3\" class=\"match--wrapper-background \"></rect><rect x=\"26\" y=\"5\" width=\"200\" height=\"45\" rx=\"3\" ry=\"3\" class=\"match--base-background\"></rect><g clip-path=\"url(#match-clippath-9)\"><svg x=\"0\" y=\"5\" class=\"match--player\" data-participant-id=\"107792038\"><title>Grimwood96</title><defs><clipPath id=\"clipPath9240489\"><rect x=\"50\" y=\"0\" width=\"143\" height=\"22\"></rect></clipPath><clipPath id=\"portraitClipPath9240489\"><path></path></clipPath></defs><path d=\"M 50 0 h 147 v 22 h -147 Z\" class=\"match--player-background\"></path><path d=\"M 26 0 h 24 v 22 h -24 Z\" class=\"match--seed-background\"></path><text x=\"38\" y=\"14\" width=\"10\" height=\"12\" text-anchor=\"middle\" class=\"match--seed\">1</text><text clip-path=\"url(#clipPath9240489)\" x=\"77\" y=\"15\" width=\"147\" height=\"12\" text-anchor=\"start\" class=\"match--player-name  -winner\">Grimwood96</text><g clip-path=\"\"><image xlink:href=\"https://s3.amazonaws.com/challonge_app/users/images/001/897/663/large/1725714_1.png\" x=\"55\" y=\"2\" height=\"18\" width=\"18\"></image></g><path d=\"M 197 0 h 29 v 22 h -29 Z\" class=\"match--player-score-background -winner\"></path><text x=\"211\" y=\"15\" width=\"21\" height=\"12\" text-anchor=\"middle\" class=\"match--player-score -winner\">3</text></svg><svg x=\"0\" y=\"28\" class=\"match--player\" data-participant-id=\"107876180\"><title>Yam</title><defs><clipPath id=\"clipPath7165156\"><rect x=\"50\" y=\"0\" width=\"143\" height=\"22\"></rect></clipPath><clipPath id=\"portraitClipPath7165156\"><path></path></clipPath></defs><path d=\"M 50 0 h 147 v 22 h -147 Z\" class=\"match--player-background\"></path><path d=\"M 26 0 h 24 v 22 h -24 Z\" class=\"match--seed-background\"></path><text x=\"38\" y=\"14\" width=\"10\" height=\"12\" text-anchor=\"middle\" class=\"match--seed\">4</text><text clip-path=\"url(#clipPath7165156)\" x=\"77\" y=\"15\" width=\"147\" height=\"12\" text-anchor=\"start\" class=\"match--player-name \">Yam</text><g clip-path=\"\"><image xlink:href=\"https://s3.amazonaws.com/challonge_app/users/images/003/149/531/large/28004.png\" x=\"55\" y=\"2\" height=\"18\" width=\"18\"></image></g><path d=\"M 197 0 h 29 v 22 h -29 Z\" class=\"match--player-score-background \"></path><text x=\"211\" y=\"15\" width=\"21\" height=\"12\" text-anchor=\"middle\" class=\"match--player-score \">1</text><line x1=\"26\" y1=\"-0.5\" x2=\"226\" y2=\"-0.5\" class=\"match--player-divider\"></line></svg></g></g><g transform=\"translate(244 259)\" class=\"match -complete \" data-identifier=\"7\" data-match-id=\"178584020\"><defs><clipPath id=\"match-clippath-7\"><rect x=\"26\" y=\"5\" width=\"200\" height=\"45\" rx=\"3\" ry=\"3\"></rect></clipPath></defs><text x=\"11\" y=\"31\" width=\"24\" height=\"10\" text-anchor=\"middle\" class=\"match--identifier\">7</text><rect x=\"24\" y=\"3\" width=\"204\" height=\"49\" rx=\"3\" ry=\"3\" class=\"match--wrapper-background \"></rect><rect x=\"26\" y=\"5\" width=\"200\" height=\"45\" rx=\"3\" ry=\"3\" class=\"match--base-background\"></rect><g clip-path=\"url(#match-clippath-7)\"><svg x=\"0\" y=\"5\" class=\"match--player\" data-participant-id=\"107876180\"><title>Yam</title><defs><clipPath id=\"clipPath5760094\"><rect x=\"50\" y=\"0\" width=\"143\" height=\"22\"></rect></clipPath><clipPath id=\"portraitClipPath5760094\"><path></path></clipPath></defs><path d=\"M 50 0 h 147 v 22 h -147 Z\" class=\"match--player-background\"></path><path d=\"M 26 0 h 24 v 22 h -24 Z\" class=\"match--seed-background\"></path><text x=\"38\" y=\"14\" width=\"10\" height=\"12\" text-anchor=\"middle\" class=\"match--seed\">4</text><text clip-path=\"url(#clipPath5760094)\" x=\"77\" y=\"15\" width=\"147\" height=\"12\" text-anchor=\"start\" class=\"match--player-name  -winner\">Yam</text><g clip-path=\"\"><image xlink:href=\"https://s3.amazonaws.com/challonge_app/users/images/003/149/531/large/28004.png\" x=\"55\" y=\"2\" height=\"18\" width=\"18\"></image></g><path d=\"M 197 0 h 29 v 22 h -29 Z\" class=\"match--player-score-background -winner\"></path><text x=\"211\" y=\"15\" width=\"21\" height=\"12\" text-anchor=\"middle\" class=\"match--player-score -winner\">2</text></svg><svg x=\"0\" y=\"28\" class=\"match--player\" data-participant-id=\"107827464\"><title>ocrim_ger</title><defs><clipPath id=\"clipPath9506671\"><rect x=\"50\" y=\"0\" width=\"143\" height=\"22\"></rect></clipPath><clipPath id=\"portraitClipPath9506671\"><path></path></clipPath></defs><path d=\"M 50 0 h 147 v 22 h -147 Z\" class=\"match--player-background\"></path><path d=\"M 26 0 h 24 v 22 h -24 Z\" class=\"match--seed-background\"></path><text x=\"38\" y=\"14\" width=\"10\" height=\"12\" text-anchor=\"middle\" class=\"match--seed\">5</text><text clip-path=\"url(#clipPath9506671)\" x=\"77\" y=\"15\" width=\"147\" height=\"12\" text-anchor=\"start\" class=\"match--player-name \">ocrim_ger</text><g clip-path=\"\"><image xlink:href=\"https://s3.amazonaws.com/challonge_app/users/images/002/392/308/large/Dragon_Slayer.png\" x=\"55\" y=\"2\" height=\"18\" width=\"18\"></image></g><path d=\"M 197 0 h 29 v 22 h -29 Z\" class=\"match--player-score-background \"></path><text x=\"211\" y=\"15\" width=\"21\" height=\"12\" text-anchor=\"middle\" class=\"match--player-score \">0</text><line x1=\"26\" y1=\"-0.5\" x2=\"226\" y2=\"-0.5\" class=\"match--player-divider\"></line></svg></g></g><g transform=\"translate(0 286)\" class=\"match -complete \" data-identifier=\"5\" data-match-id=\"178584019\"><defs><clipPath id=\"match-clippath-5\"><rect x=\"26\" y=\"5\" width=\"200\" height=\"45\" rx=\"3\" ry=\"3\"></rect></clipPath></defs><text x=\"11\" y=\"31\" width=\"24\" height=\"10\" text-anchor=\"middle\" class=\"match--identifier\">5</text><rect x=\"24\" y=\"3\" width=\"204\" height=\"49\" rx=\"3\" ry=\"3\" class=\"match--wrapper-background \"></rect><rect x=\"26\" y=\"5\" width=\"200\" height=\"45\" rx=\"3\" ry=\"3\" class=\"match--base-background\"></rect><g clip-path=\"url(#match-clippath-5)\"><svg x=\"0\" y=\"5\" class=\"match--player\" data-participant-id=\"107827464\"><title>ocrim_ger</title><defs><clipPath id=\"clipPath4290878\"><rect x=\"50\" y=\"0\" width=\"143\" height=\"22\"></rect></clipPath><clipPath id=\"portraitClipPath4290878\"><path></path></clipPath></defs><path d=\"M 50 0 h 147 v 22 h -147 Z\" class=\"match--player-background\"></path><path d=\"M 26 0 h 24 v 22 h -24 Z\" class=\"match--seed-background\"></path><text x=\"38\" y=\"14\" width=\"10\" height=\"12\" text-anchor=\"middle\" class=\"match--seed\">5</text><text clip-path=\"url(#clipPath4290878)\" x=\"77\" y=\"15\" width=\"147\" height=\"12\" text-anchor=\"start\" class=\"match--player-name  -winner\">ocrim_ger</text><g clip-path=\"\"><image xlink:href=\"https://s3.amazonaws.com/challonge_app/users/images/002/392/308/large/Dragon_Slayer.png\" x=\"55\" y=\"2\" height=\"18\" width=\"18\"></image></g><path d=\"M 197 0 h 29 v 22 h -29 Z\" class=\"match--player-score-background -winner\"></path><text x=\"211\" y=\"15\" width=\"21\" height=\"12\" text-anchor=\"middle\" class=\"match--player-score -winner\">2</text></svg><svg x=\"0\" y=\"28\" class=\"match--player\" data-participant-id=\"107772816\"><title>YoshiBowser</title><defs><clipPath id=\"clipPath9618756\"><rect x=\"50\" y=\"0\" width=\"143\" height=\"22\"></rect></clipPath><clipPath id=\"portraitClipPath9618756\"><path></path></clipPath></defs><path d=\"M 50 0 h 147 v 22 h -147 Z\" class=\"match--player-background\"></path><path d=\"M 26 0 h 24 v 22 h -24 Z\" class=\"match--seed-background\"></path><text x=\"38\" y=\"14\" width=\"10\" height=\"12\" text-anchor=\"middle\" class=\"match--seed\">6</text><text clip-path=\"url(#clipPath9618756)\" x=\"77\" y=\"15\" width=\"147\" height=\"12\" text-anchor=\"start\" class=\"match--player-name \">YoshiBowser</text><g clip-path=\"\"><image xlink:href=\"https://s3.amazonaws.com/challonge_app/users/images/003/057/118/large/BnBsmall.png\" x=\"55\" y=\"2\" height=\"18\" width=\"18\"></image></g><path d=\"M 197 0 h 29 v 22 h -29 Z\" class=\"match--player-score-background \"></path><text x=\"211\" y=\"15\" width=\"21\" height=\"12\" text-anchor=\"middle\" class=\"match--player-score \">0</text><line x1=\"26\" y1=\"-0.5\" x2=\"226\" y2=\"-0.5\" class=\"match--player-divider\"></line></svg></g></g><g transform=\"translate(0 231)\" class=\"match -complete \" data-identifier=\"6\" data-match-id=\"178584018\"><defs><clipPath id=\"match-clippath-6\"><rect x=\"26\" y=\"5\" width=\"200\" height=\"45\" rx=\"3\" ry=\"3\"></rect></clipPath></defs><text x=\"11\" y=\"31\" width=\"24\" height=\"10\" text-anchor=\"middle\" class=\"match--identifier\">6</text><rect x=\"24\" y=\"3\" width=\"204\" height=\"49\" rx=\"3\" ry=\"3\" class=\"match--wrapper-background \"></rect><rect x=\"26\" y=\"5\" width=\"200\" height=\"45\" rx=\"3\" ry=\"3\" class=\"match--base-background\"></rect><g clip-path=\"url(#match-clippath-6)\"><svg x=\"0\" y=\"5\" class=\"match--player\" data-participant-id=\"108165544\"><title>Iceman92</title><defs><clipPath id=\"clipPath909568\"><rect x=\"50\" y=\"0\" width=\"143\" height=\"22\"></rect></clipPath><clipPath id=\"portraitClipPath909568\"><path></path></clipPath></defs><path d=\"M 50 0 h 147 v 22 h -147 Z\" class=\"match--player-background\"></path><path d=\"M 26 0 h 24 v 22 h -24 Z\" class=\"match--seed-background\"></path><text x=\"38\" y=\"14\" width=\"10\" height=\"12\" text-anchor=\"middle\" class=\"match--seed\">3</text><text clip-path=\"url(#clipPath909568)\" x=\"77\" y=\"15\" width=\"147\" height=\"12\" text-anchor=\"start\" class=\"match--player-name \">Iceman92</text><g clip-path=\"\"><image xlink:href=\"https://s3.amazonaws.com/challonge_app/users/images/002/521/004/large/IMG_20191112_182518.png\" x=\"55\" y=\"2\" height=\"18\" width=\"18\"></image></g><path d=\"M 197 0 h 29 v 22 h -29 Z\" class=\"match--player-score-background \"></path><text x=\"211\" y=\"15\" width=\"21\" height=\"12\" text-anchor=\"middle\" class=\"match--player-score \">1</text></svg><svg x=\"0\" y=\"28\" class=\"match--player\" data-participant-id=\"107876180\"><title>Yam</title><defs><clipPath id=\"clipPath6065121\"><rect x=\"50\" y=\"0\" width=\"143\" height=\"22\"></rect></clipPath><clipPath id=\"portraitClipPath6065121\"><path></path></clipPath></defs><path d=\"M 50 0 h 147 v 22 h -147 Z\" class=\"match--player-background\"></path><path d=\"M 26 0 h 24 v 22 h -24 Z\" class=\"match--seed-background\"></path><text x=\"38\" y=\"14\" width=\"10\" height=\"12\" text-anchor=\"middle\" class=\"match--seed\">4</text><text clip-path=\"url(#clipPath6065121)\" x=\"77\" y=\"15\" width=\"147\" height=\"12\" text-anchor=\"start\" class=\"match--player-name  -winner\">Yam</text><g clip-path=\"\"><image xlink:href=\"https://s3.amazonaws.com/challonge_app/users/images/003/149/531/large/28004.png\" x=\"55\" y=\"2\" height=\"18\" width=\"18\"></image></g><path d=\"M 197 0 h 29 v 22 h -29 Z\" class=\"match--player-score-background -winner\"></path><text x=\"211\" y=\"15\" width=\"21\" height=\"12\" text-anchor=\"middle\" class=\"match--player-score -winner\">2</text><line x1=\"26\" y1=\"-0.5\" x2=\"226\" y2=\"-0.5\" class=\"match--player-divider\"></line></svg></g></g><g transform=\"translate(732 89)\" class=\"match -complete \" data-identifier=\"10\" data-match-id=\"178584022\"><defs><clipPath id=\"match-clippath-10\"><rect x=\"26\" y=\"5\" width=\"200\" height=\"45\" rx=\"3\" ry=\"3\"></rect></clipPath></defs><text x=\"11\" y=\"31\" width=\"24\" height=\"10\" text-anchor=\"middle\" class=\"match--identifier\">10</text><rect x=\"24\" y=\"3\" width=\"204\" height=\"49\" rx=\"3\" ry=\"3\" class=\"match--wrapper-background \"></rect><rect x=\"26\" y=\"5\" width=\"200\" height=\"45\" rx=\"3\" ry=\"3\" class=\"match--base-background\"></rect><g clip-path=\"url(#match-clippath-10)\"><svg x=\"0\" y=\"5\" class=\"match--player\" data-participant-id=\"108165794\"><title>replicant</title><defs><clipPath id=\"clipPath1024896\"><rect x=\"50\" y=\"0\" width=\"143\" height=\"22\"></rect></clipPath><clipPath id=\"portraitClipPath1024896\"><path></path></clipPath></defs><path d=\"M 50 0 h 147 v 22 h -147 Z\" class=\"match--player-background\"></path><path d=\"M 26 0 h 24 v 22 h -24 Z\" class=\"match--seed-background\"></path><text x=\"38\" y=\"14\" width=\"10\" height=\"12\" text-anchor=\"middle\" class=\"match--seed\">2</text><text clip-path=\"url(#clipPath1024896)\" x=\"77\" y=\"15\" width=\"147\" height=\"12\" text-anchor=\"start\" class=\"match--player-name  -winner\">replicant</text><g clip-path=\"\"><image xlink:href=\"https://s3.amazonaws.com/challonge_app/users/images/002/363/206/large/TpXZqrgB_400x400.png\" x=\"55\" y=\"2\" height=\"18\" width=\"18\"></image></g><path d=\"M 197 0 h 29 v 22 h -29 Z\" class=\"match--player-score-background -winner\"></path><text x=\"211\" y=\"15\" width=\"21\" height=\"12\" text-anchor=\"middle\" class=\"match--player-score -winner\">3</text></svg><svg x=\"0\" y=\"28\" class=\"match--player\" data-participant-id=\"107792038\"><title>Grimwood96</title><defs><clipPath id=\"clipPath9226406\"><rect x=\"50\" y=\"0\" width=\"143\" height=\"22\"></rect></clipPath><clipPath id=\"portraitClipPath9226406\"><path></path></clipPath></defs><path d=\"M 50 0 h 147 v 22 h -147 Z\" class=\"match--player-background\"></path><path d=\"M 26 0 h 24 v 22 h -24 Z\" class=\"match--seed-background\"></path><text x=\"38\" y=\"14\" width=\"10\" height=\"12\" text-anchor=\"middle\" class=\"match--seed\">1</text><text clip-path=\"url(#clipPath9226406)\" x=\"77\" y=\"15\" width=\"147\" height=\"12\" text-anchor=\"start\" class=\"match--player-name \">Grimwood96</text><g clip-path=\"\"><image xlink:href=\"https://s3.amazonaws.com/challonge_app/users/images/001/897/663/large/1725714_1.png\" x=\"55\" y=\"2\" height=\"18\" width=\"18\"></image></g><path d=\"M 197 0 h 29 v 22 h -29 Z\" class=\"match--player-score-background \"></path><text x=\"211\" y=\"15\" width=\"21\" height=\"12\" text-anchor=\"middle\" class=\"match--player-score \">2</text><line x1=\"26\" y1=\"-0.5\" x2=\"226\" y2=\"-0.5\" class=\"match--player-divider\"></line></svg></g></g><g transform=\"translate(488 62)\" class=\"match -complete \" data-identifier=\"8\" data-match-id=\"178584017\"><defs><clipPath id=\"match-clippath-8\"><rect x=\"26\" y=\"5\" width=\"200\" height=\"45\" rx=\"3\" ry=\"3\"></rect></clipPath></defs><text x=\"11\" y=\"31\" width=\"24\" height=\"10\" text-anchor=\"middle\" class=\"match--identifier\">8</text><rect x=\"24\" y=\"3\" width=\"204\" height=\"49\" rx=\"3\" ry=\"3\" class=\"match--wrapper-background \"></rect><rect x=\"26\" y=\"5\" width=\"200\" height=\"45\" rx=\"3\" ry=\"3\" class=\"match--base-background\"></rect><g clip-path=\"url(#match-clippath-8)\"><svg x=\"0\" y=\"5\" class=\"match--player\" data-participant-id=\"107792038\"><title>Grimwood96</title><defs><clipPath id=\"clipPath6418606\"><rect x=\"50\" y=\"0\" width=\"143\" height=\"22\"></rect></clipPath><clipPath id=\"portraitClipPath6418606\"><path></path></clipPath></defs><path d=\"M 50 0 h 147 v 22 h -147 Z\" class=\"match--player-background\"></path><path d=\"M 26 0 h 24 v 22 h -24 Z\" class=\"match--seed-background\"></path><text x=\"38\" y=\"14\" width=\"10\" height=\"12\" text-anchor=\"middle\" class=\"match--seed\">1</text><text clip-path=\"url(#clipPath6418606)\" x=\"77\" y=\"15\" width=\"147\" height=\"12\" text-anchor=\"start\" class=\"match--player-name \">Grimwood96</text><g clip-path=\"\"><image xlink:href=\"https://s3.amazonaws.com/challonge_app/users/images/001/897/663/large/1725714_1.png\" x=\"55\" y=\"2\" height=\"18\" width=\"18\"></image></g><path d=\"M 197 0 h 29 v 22 h -29 Z\" class=\"match--player-score-background \"></path><text x=\"211\" y=\"15\" width=\"21\" height=\"12\" text-anchor=\"middle\" class=\"match--player-score \">1</text></svg><svg x=\"0\" y=\"28\" class=\"match--player\" data-participant-id=\"108165794\"><title>replicant</title><defs><clipPath id=\"clipPath9480145\"><rect x=\"50\" y=\"0\" width=\"143\" height=\"22\"></rect></clipPath><clipPath id=\"portraitClipPath9480145\"><path></path></clipPath></defs><path d=\"M 50 0 h 147 v 22 h -147 Z\" class=\"match--player-background\"></path><path d=\"M 26 0 h 24 v 22 h -24 Z\" class=\"match--seed-background\"></path><text x=\"38\" y=\"14\" width=\"10\" height=\"12\" text-anchor=\"middle\" class=\"match--seed\">2</text><text clip-path=\"url(#clipPath9480145)\" x=\"77\" y=\"15\" width=\"147\" height=\"12\" text-anchor=\"start\" class=\"match--player-name  -winner\">replicant</text><g clip-path=\"\"><image xlink:href=\"https://s3.amazonaws.com/challonge_app/users/images/002/363/206/large/TpXZqrgB_400x400.png\" x=\"55\" y=\"2\" height=\"18\" width=\"18\"></image></g><path d=\"M 197 0 h 29 v 22 h -29 Z\" class=\"match--player-score-background -winner\"></path><text x=\"211\" y=\"15\" width=\"21\" height=\"12\" text-anchor=\"middle\" class=\"match--player-score -winner\">3</text><line x1=\"26\" y1=\"-0.5\" x2=\"226\" y2=\"-0.5\" class=\"match--player-divider\"></line></svg></g></g><g transform=\"translate(244 89)\" class=\"match -complete \" data-identifier=\"4\" data-match-id=\"178584016\"><defs><clipPath id=\"match-clippath-4\"><rect x=\"26\" y=\"5\" width=\"200\" height=\"45\" rx=\"3\" ry=\"3\"></rect></clipPath></defs><text x=\"11\" y=\"31\" width=\"24\" height=\"10\" text-anchor=\"middle\" class=\"match--identifier\">4</text><rect x=\"24\" y=\"3\" width=\"204\" height=\"49\" rx=\"3\" ry=\"3\" class=\"match--wrapper-background \"></rect><rect x=\"26\" y=\"5\" width=\"200\" height=\"45\" rx=\"3\" ry=\"3\" class=\"match--base-background\"></rect><g clip-path=\"url(#match-clippath-4)\"><svg x=\"0\" y=\"5\" class=\"match--player\" data-participant-id=\"108165794\"><title>replicant</title><defs><clipPath id=\"clipPath3565068\"><rect x=\"50\" y=\"0\" width=\"143\" height=\"22\"></rect></clipPath><clipPath id=\"portraitClipPath3565068\"><path></path></clipPath></defs><path d=\"M 50 0 h 147 v 22 h -147 Z\" class=\"match--player-background\"></path><path d=\"M 26 0 h 24 v 22 h -24 Z\" class=\"match--seed-background\"></path><text x=\"38\" y=\"14\" width=\"10\" height=\"12\" text-anchor=\"middle\" class=\"match--seed\">2</text><text clip-path=\"url(#clipPath3565068)\" x=\"77\" y=\"15\" width=\"147\" height=\"12\" text-anchor=\"start\" class=\"match--player-name  -winner\">replicant</text><g clip-path=\"\"><image xlink:href=\"https://s3.amazonaws.com/challonge_app/users/images/002/363/206/large/TpXZqrgB_400x400.png\" x=\"55\" y=\"2\" height=\"18\" width=\"18\"></image></g><path d=\"M 197 0 h 29 v 22 h -29 Z\" class=\"match--player-score-background -winner\"></path><text x=\"211\" y=\"15\" width=\"21\" height=\"12\" text-anchor=\"middle\" class=\"match--player-score -winner\">2</text></svg><svg x=\"0\" y=\"28\" class=\"match--player\" data-participant-id=\"108165544\"><title>Iceman92</title><defs><clipPath id=\"clipPath4404451\"><rect x=\"50\" y=\"0\" width=\"143\" height=\"22\"></rect></clipPath><clipPath id=\"portraitClipPath4404451\"><path></path></clipPath></defs><path d=\"M 50 0 h 147 v 22 h -147 Z\" class=\"match--player-background\"></path><path d=\"M 26 0 h 24 v 22 h -24 Z\" class=\"match--seed-background\"></path><text x=\"38\" y=\"14\" width=\"10\" height=\"12\" text-anchor=\"middle\" class=\"match--seed\">3</text><text clip-path=\"url(#clipPath4404451)\" x=\"77\" y=\"15\" width=\"147\" height=\"12\" text-anchor=\"start\" class=\"match--player-name \">Iceman92</text><g clip-path=\"\"><image xlink:href=\"https://s3.amazonaws.com/challonge_app/users/images/002/521/004/large/IMG_20191112_182518.png\" x=\"55\" y=\"2\" height=\"18\" width=\"18\"></image></g><path d=\"M 197 0 h 29 v 22 h -29 Z\" class=\"match--player-score-background \"></path><text x=\"211\" y=\"15\" width=\"21\" height=\"12\" text-anchor=\"middle\" class=\"match--player-score \">0</text><line x1=\"26\" y1=\"-0.5\" x2=\"226\" y2=\"-0.5\" class=\"match--player-divider\"></line></svg></g></g><g transform=\"translate(244 35)\" class=\"match -complete \" data-identifier=\"3\" data-match-id=\"178584015\"><defs><clipPath id=\"match-clippath-3\"><rect x=\"26\" y=\"5\" width=\"200\" height=\"45\" rx=\"3\" ry=\"3\"></rect></clipPath></defs><text x=\"11\" y=\"31\" width=\"24\" height=\"10\" text-anchor=\"middle\" class=\"match--identifier\">3</text><rect x=\"24\" y=\"3\" width=\"204\" height=\"49\" rx=\"3\" ry=\"3\" class=\"match--wrapper-background \"></rect><rect x=\"26\" y=\"5\" width=\"200\" height=\"45\" rx=\"3\" ry=\"3\" class=\"match--base-background\"></rect><g clip-path=\"url(#match-clippath-3)\"><svg x=\"0\" y=\"5\" class=\"match--player\" data-participant-id=\"107792038\"><title>Grimwood96</title><defs><clipPath id=\"clipPath5139869\"><rect x=\"50\" y=\"0\" width=\"143\" height=\"22\"></rect></clipPath><clipPath id=\"portraitClipPath5139869\"><path></path></clipPath></defs><path d=\"M 50 0 h 147 v 22 h -147 Z\" class=\"match--player-background\"></path><path d=\"M 26 0 h 24 v 22 h -24 Z\" class=\"match--seed-background\"></path><text x=\"38\" y=\"14\" width=\"10\" height=\"12\" text-anchor=\"middle\" class=\"match--seed\">1</text><text clip-path=\"url(#clipPath5139869)\" x=\"77\" y=\"15\" width=\"147\" height=\"12\" text-anchor=\"start\" class=\"match--player-name  -winner\">Grimwood96</text><g clip-path=\"\"><image xlink:href=\"https://s3.amazonaws.com/challonge_app/users/images/001/897/663/large/1725714_1.png\" x=\"55\" y=\"2\" height=\"18\" width=\"18\"></image></g><path d=\"M 197 0 h 29 v 22 h -29 Z\" class=\"match--player-score-background -winner\"></path><text x=\"211\" y=\"15\" width=\"21\" height=\"12\" text-anchor=\"middle\" class=\"match--player-score -winner\">2</text></svg><svg x=\"0\" y=\"28\" class=\"match--player\" data-participant-id=\"107827464\"><title>ocrim_ger</title><defs><clipPath id=\"clipPath5703068\"><rect x=\"50\" y=\"0\" width=\"143\" height=\"22\"></rect></clipPath><clipPath id=\"portraitClipPath5703068\"><path></path></clipPath></defs><path d=\"M 50 0 h 147 v 22 h -147 Z\" class=\"match--player-background\"></path><path d=\"M 26 0 h 24 v 22 h -24 Z\" class=\"match--seed-background\"></path><text x=\"38\" y=\"14\" width=\"10\" height=\"12\" text-anchor=\"middle\" class=\"match--seed\">5</text><text clip-path=\"url(#clipPath5703068)\" x=\"77\" y=\"15\" width=\"147\" height=\"12\" text-anchor=\"start\" class=\"match--player-name \">ocrim_ger</text><g clip-path=\"\"><image xlink:href=\"https://s3.amazonaws.com/challonge_app/users/images/002/392/308/large/Dragon_Slayer.png\" x=\"55\" y=\"2\" height=\"18\" width=\"18\"></image></g><path d=\"M 197 0 h 29 v 22 h -29 Z\" class=\"match--player-score-background \"></path><text x=\"211\" y=\"15\" width=\"21\" height=\"12\" text-anchor=\"middle\" class=\"match--player-score \">0</text><line x1=\"26\" y1=\"-0.5\" x2=\"226\" y2=\"-0.5\" class=\"match--player-divider\"></line></svg></g></g><g transform=\"translate(0 115)\" class=\"match -complete \" data-identifier=\"2\" data-match-id=\"178584014\"><defs><clipPath id=\"match-clippath-2\"><rect x=\"26\" y=\"5\" width=\"200\" height=\"45\" rx=\"3\" ry=\"3\"></rect></clipPath></defs><text x=\"11\" y=\"31\" width=\"24\" height=\"10\" text-anchor=\"middle\" class=\"match--identifier\">2</text><rect x=\"24\" y=\"3\" width=\"204\" height=\"49\" rx=\"3\" ry=\"3\" class=\"match--wrapper-background \"></rect><rect x=\"26\" y=\"5\" width=\"200\" height=\"45\" rx=\"3\" ry=\"3\" class=\"match--base-background\"></rect><g clip-path=\"url(#match-clippath-2)\"><svg x=\"0\" y=\"5\" class=\"match--player\" data-participant-id=\"108165544\"><title>Iceman92</title><defs><clipPath id=\"clipPath5347955\"><rect x=\"50\" y=\"0\" width=\"143\" height=\"22\"></rect></clipPath><clipPath id=\"portraitClipPath5347955\"><path></path></clipPath></defs><path d=\"M 50 0 h 147 v 22 h -147 Z\" class=\"match--player-background\"></path><path d=\"M 26 0 h 24 v 22 h -24 Z\" class=\"match--seed-background\"></path><text x=\"38\" y=\"14\" width=\"10\" height=\"12\" text-anchor=\"middle\" class=\"match--seed\">3</text><text clip-path=\"url(#clipPath5347955)\" x=\"77\" y=\"15\" width=\"147\" height=\"12\" text-anchor=\"start\" class=\"match--player-name  -winner\">Iceman92</text><g clip-path=\"\"><image xlink:href=\"https://s3.amazonaws.com/challonge_app/users/images/002/521/004/large/IMG_20191112_182518.png\" x=\"55\" y=\"2\" height=\"18\" width=\"18\"></image></g><path d=\"M 197 0 h 29 v 22 h -29 Z\" class=\"match--player-score-background -winner\"></path><text x=\"211\" y=\"15\" width=\"21\" height=\"12\" text-anchor=\"middle\" class=\"match--player-score -winner\">2</text></svg><svg x=\"0\" y=\"28\" class=\"match--player\" data-participant-id=\"107772816\"><title>YoshiBowser</title><defs><clipPath id=\"clipPath3549424\"><rect x=\"50\" y=\"0\" width=\"143\" height=\"22\"></rect></clipPath><clipPath id=\"portraitClipPath3549424\"><path></path></clipPath></defs><path d=\"M 50 0 h 147 v 22 h -147 Z\" class=\"match--player-background\"></path><path d=\"M 26 0 h 24 v 22 h -24 Z\" class=\"match--seed-background\"></path><text x=\"38\" y=\"14\" width=\"10\" height=\"12\" text-anchor=\"middle\" class=\"match--seed\">6</text><text clip-path=\"url(#clipPath3549424)\" x=\"77\" y=\"15\" width=\"147\" height=\"12\" text-anchor=\"start\" class=\"match--player-name \">YoshiBowser</text><g clip-path=\"\"><image xlink:href=\"https://s3.amazonaws.com/challonge_app/users/images/003/057/118/large/BnBsmall.png\" x=\"55\" y=\"2\" height=\"18\" width=\"18\"></image></g><path d=\"M 197 0 h 29 v 22 h -29 Z\" class=\"match--player-score-background \"></path><text x=\"211\" y=\"15\" width=\"21\" height=\"12\" text-anchor=\"middle\" class=\"match--player-score \">0</text><line x1=\"26\" y1=\"-0.5\" x2=\"226\" y2=\"-0.5\" class=\"match--player-divider\"></line></svg></g></g><g transform=\"translate(0 62)\" class=\"match -complete \" data-identifier=\"1\" data-match-id=\"178584013\"><defs><clipPath id=\"match-clippath-1\"><rect x=\"26\" y=\"5\" width=\"200\" height=\"45\" rx=\"3\" ry=\"3\"></rect></clipPath></defs><text x=\"11\" y=\"31\" width=\"24\" height=\"10\" text-anchor=\"middle\" class=\"match--identifier\">1</text><rect x=\"24\" y=\"3\" width=\"204\" height=\"49\" rx=\"3\" ry=\"3\" class=\"match--wrapper-background \"></rect><rect x=\"26\" y=\"5\" width=\"200\" height=\"45\" rx=\"3\" ry=\"3\" class=\"match--base-background\"></rect><g clip-path=\"url(#match-clippath-1)\"><svg x=\"0\" y=\"5\" class=\"match--player\" data-participant-id=\"107876180\"><title>Yam</title><defs><clipPath id=\"clipPath3016783\"><rect x=\"50\" y=\"0\" width=\"143\" height=\"22\"></rect></clipPath><clipPath id=\"portraitClipPath3016783\"><path></path></clipPath></defs><path d=\"M 50 0 h 147 v 22 h -147 Z\" class=\"match--player-background\"></path><path d=\"M 26 0 h 24 v 22 h -24 Z\" class=\"match--seed-background\"></path><text x=\"38\" y=\"14\" width=\"10\" height=\"12\" text-anchor=\"middle\" class=\"match--seed\">4</text><text clip-path=\"url(#clipPath3016783)\" x=\"77\" y=\"15\" width=\"147\" height=\"12\" text-anchor=\"start\" class=\"match--player-name \">Yam</text><g clip-path=\"\"><image xlink:href=\"https://s3.amazonaws.com/challonge_app/users/images/003/149/531/large/28004.png\" x=\"55\" y=\"2\" height=\"18\" width=\"18\"></image></g><path d=\"M 197 0 h 29 v 22 h -29 Z\" class=\"match--player-score-background \"></path><text x=\"211\" y=\"15\" width=\"21\" height=\"12\" text-anchor=\"middle\" class=\"match--player-score \">1</text></svg><svg x=\"0\" y=\"28\" class=\"match--player\" data-participant-id=\"107827464\"><title>ocrim_ger</title><defs><clipPath id=\"clipPath5447732\"><rect x=\"50\" y=\"0\" width=\"143\" height=\"22\"></rect></clipPath><clipPath id=\"portraitClipPath5447732\"><path></path></clipPath></defs><path d=\"M 50 0 h 147 v 22 h -147 Z\" class=\"match--player-background\"></path><path d=\"M 26 0 h 24 v 22 h -24 Z\" class=\"match--seed-background\"></path><text x=\"38\" y=\"14\" width=\"10\" height=\"12\" text-anchor=\"middle\" class=\"match--seed\">5</text><text clip-path=\"url(#clipPath5447732)\" x=\"77\" y=\"15\" width=\"147\" height=\"12\" text-anchor=\"start\" class=\"match--player-name  -winner\">ocrim_ger</text><g clip-path=\"\"><image xlink:href=\"https://s3.amazonaws.com/challonge_app/users/images/002/392/308/large/Dragon_Slayer.png\" x=\"55\" y=\"2\" height=\"18\" width=\"18\"></image></g><path d=\"M 197 0 h 29 v 22 h -29 Z\" class=\"match--player-score-background -winner\"></path><text x=\"211\" y=\"15\" width=\"21\" height=\"12\" text-anchor=\"middle\" class=\"match--player-score -winner\">2</text><line x1=\"26\" y1=\"-0.5\" x2=\"226\" y2=\"-0.5\" class=\"match--player-divider\"></line></svg></g></g></g><g class=\"rounds\" transform=\"translate(0,0)\"><svg class=\"round\" x=\"0\"><g class=\"round-label\" data-toggle=\"\" data-href=\"/tournaments/7698516/rounds/new_or_edit?number=1&amp;title=Round+1\"><rect width=\"243\" height=\"25\"></rect><text x=\"122\" y=\"17\" width=\"243\" height=\"15\" text-anchor=\"middle\">Round 1</text></g></svg><svg class=\"round\" x=\"244\"><g class=\"round-label\" data-toggle=\"\" data-href=\"/tournaments/7698516/rounds/new_or_edit?number=2&amp;title=Round+2\"><rect width=\"243\" height=\"25\"></rect><text x=\"122\" y=\"17\" width=\"243\" height=\"15\" text-anchor=\"middle\">Round 2</text></g></svg><svg class=\"round\" x=\"488\"><g class=\"round-label\" data-toggle=\"\" data-href=\"/tournaments/7698516/rounds/new_or_edit?number=3&amp;title=Semifinals\"><rect width=\"243\" height=\"25\"></rect><text x=\"122\" y=\"17\" width=\"243\" height=\"15\" text-anchor=\"middle\">Semifinals</text></g></svg><svg class=\"round\" x=\"732\"><g class=\"round-label\" data-toggle=\"\" data-href=\"/tournaments/7698516/rounds/new_or_edit?number=4&amp;title=Finals\"><rect width=\"243\" height=\"25\"></rect><text x=\"122\" y=\"17\" width=\"243\" height=\"15\" text-anchor=\"middle\">Finals</text></g></svg></g><g class=\"rounds\" transform=\"translate(0,197)\"><svg class=\"round\" x=\"0\"><g class=\"round-label\" data-toggle=\"\" data-href=\"/tournaments/7698516/rounds/new_or_edit?number=-1&amp;title=Losers+Round+1\"><rect width=\"243\" height=\"25\"></rect><text x=\"122\" y=\"17\" width=\"243\" height=\"15\" text-anchor=\"middle\">Losers Round 1</text></g></svg><svg class=\"round\" x=\"244\"><g class=\"round-label\" data-toggle=\"\" data-href=\"/tournaments/7698516/rounds/new_or_edit?number=-2&amp;title=Losers+Round+2\"><rect width=\"243\" height=\"25\"></rect><text x=\"122\" y=\"17\" width=\"243\" height=\"15\" text-anchor=\"middle\">Losers Round 2</text></g></svg><svg class=\"round\" x=\"488\"><g class=\"round-label\" data-toggle=\"\" data-href=\"/tournaments/7698516/rounds/new_or_edit?number=-3&amp;title=Losers+Round+3\"><rect width=\"243\" height=\"25\"></rect><text x=\"122\" y=\"17\" width=\"243\" height=\"15\" text-anchor=\"middle\">Losers Round 3</text></g></svg></g></g></svg><div class=\"tournament-bracket--search-layer\" style=\"margin-left: 0px;\"><div style=\"font-size: 12px; left: 565px; top: 239px;\">Grimwood96</div><div style=\"font-size: 12px; left: 565px; top: 262px;\">Yam</div><div style=\"font-size: 12px; left: 321px; top: 266px;\">Yam</div><div style=\"font-size: 12px; left: 321px; top: 289px;\">ocrim_ger</div><div style=\"font-size: 12px; left: 77px; top: 293px;\">ocrim_ger</div><div style=\"font-size: 12px; left: 77px; top: 316px;\">YoshiBowser</div><div style=\"font-size: 12px; left: 77px; top: 239px;\">Iceman92</div><div style=\"font-size: 12px; left: 77px; top: 262px;\">Yam</div><div style=\"font-size: 12px; left: 809px; top: 96px;\">replicant</div><div style=\"font-size: 12px; left: 809px; top: 119px;\">Grimwood96</div><div style=\"font-size: 12px; left: 565px; top: 69px;\">Grimwood96</div><div style=\"font-size: 12px; left: 565px; top: 92px;\">replicant</div><div style=\"font-size: 12px; left: 321px; top: 96px;\">replicant</div><div style=\"font-size: 12px; left: 321px; top: 119px;\">Iceman92</div><div style=\"font-size: 12px; left: 321px; top: 42px;\">Grimwood96</div><div style=\"font-size: 12px; left: 321px; top: 65px;\">ocrim_ger</div><div style=\"font-size: 12px; left: 77px; top: 123px;\">Iceman92</div><div style=\"font-size: 12px; left: 77px; top: 146px;\">YoshiBowser</div><div style=\"font-size: 12px; left: 77px; top: 69px;\">Yam</div><div style=\"font-size: 12px; left: 77px; top: 92px;\">ocrim_ger</div></div></div></div></div></div></div></div>\\n<div class=\"tournament-bracket-modal modal\">\\n<div class=\"modal-dialog\">\\n<div class=\"modal-content\">\\n<div class=\"modal-corner\">\\n<a class=\"close\" data-dismiss=\"modal\" href=\"#\" style=\"clear:none;\">×</a>\\n</div>\\n<div class=\"modal-body\"></div>\\n</div>\\n</div>\\n</div>\\n\\n<div id=\"score-reporting\"></div>\\n</div>\\n</div>\\n\\n</div>\\n\\n<div id=\"score-reporting\"></div>\\n<div data-countries=\"[[&quot;Afghanistan&quot;,&quot;AF&quot;],[&quot;Albania&quot;,&quot;AL&quot;],[&quot;Algeria&quot;,&quot;DZ&quot;],[&quot;American Samoa&quot;,&quot;AS&quot;],[&quot;Andorra&quot;,&quot;AD&quot;],[&quot;Angola&quot;,&quot;AO&quot;],[&quot;Anguilla&quot;,&quot;AI&quot;],[&quot;Antarctica&quot;,&quot;AQ&quot;],[&quot;Antigua and Barbuda&quot;,&quot;AG&quot;],[&quot;Argentina&quot;,&quot;AR&quot;],[&quot;Armenia&quot;,&quot;AM&quot;],[&quot;Aruba&quot;,&quot;AW&quot;],[&quot;Australia&quot;,&quot;AU&quot;],[&quot;Austria&quot;,&quot;AT&quot;],[&quot;Azerbaijan&quot;,&quot;AZ&quot;],[&quot;Bahamas&quot;,&quot;BS&quot;],[&quot;Bahrain&quot;,&quot;BH&quot;],[&quot;Bangladesh&quot;,&quot;BD&quot;],[&quot;Barbados&quot;,&quot;BB&quot;],[&quot;Belarus&quot;,&quot;BY&quot;],[&quot;Belgium&quot;,&quot;BE&quot;],[&quot;Belize&quot;,&quot;BZ&quot;],[&quot;Benin&quot;,&quot;BJ&quot;],[&quot;Bermuda&quot;,&quot;BM&quot;],[&quot;Bhutan&quot;,&quot;BT&quot;],[&quot;Bolivia&quot;,&quot;BO&quot;],[&quot;Bonaire, Sint Eustatius and Saba&quot;,&quot;BQ&quot;],[&quot;Bosnia and Herzegovina&quot;,&quot;BA&quot;],[&quot;Botswana&quot;,&quot;BW&quot;],[&quot;Bouvet Island&quot;,&quot;BV&quot;],[&quot;Brazil&quot;,&quot;BR&quot;],[&quot;British Indian Ocean Territory&quot;,&quot;IO&quot;],[&quot;Brunei Darussalam&quot;,&quot;BN&quot;],[&quot;Bulgaria&quot;,&quot;BG&quot;],[&quot;Burkina Faso&quot;,&quot;BF&quot;],[&quot;Burundi&quot;,&quot;BI&quot;],[&quot;Cabo Verde&quot;,&quot;CV&quot;],[&quot;Cambodia&quot;,&quot;KH&quot;],[&quot;Cameroon&quot;,&quot;CM&quot;],[&quot;Canada&quot;,&quot;CA&quot;],[&quot;Cayman Islands&quot;,&quot;KY&quot;],[&quot;Central African Republic&quot;,&quot;CF&quot;],[&quot;Chad&quot;,&quot;TD&quot;],[&quot;Chile&quot;,&quot;CL&quot;],[&quot;China&quot;,&quot;CN&quot;],[&quot;Christmas Island&quot;,&quot;CX&quot;],[&quot;Cocos (Keeling) Islands&quot;,&quot;CC&quot;],[&quot;Colombia&quot;,&quot;CO&quot;],[&quot;Comoros&quot;,&quot;KM&quot;],[&quot;Congo&quot;,&quot;CG&quot;],[&quot;Congo, The Democratic Republic of the&quot;,&quot;CD&quot;],[&quot;Cook Islands&quot;,&quot;CK&quot;],[&quot;Costa Rica&quot;,&quot;CR&quot;],[&quot;Croatia&quot;,&quot;HR&quot;],[&quot;Cuba&quot;,&quot;CU&quot;],[&quot;Curaçao&quot;,&quot;CW&quot;],[&quot;Cyprus&quot;,&quot;CY&quot;],[&quot;Czechia&quot;,&quot;CZ&quot;],[&quot;Côte d\\'Ivoire&quot;,&quot;CI&quot;],[&quot;Denmark&quot;,&quot;DK&quot;],[&quot;Djibouti&quot;,&quot;DJ&quot;],[&quot;Dominica&quot;,&quot;DM&quot;],[&quot;Dominican Republic&quot;,&quot;DO&quot;],[&quot;Ecuador&quot;,&quot;EC&quot;],[&quot;Egypt&quot;,&quot;EG&quot;],[&quot;El Salvador&quot;,&quot;SV&quot;],[&quot;Equatorial Guinea&quot;,&quot;GQ&quot;],[&quot;Eritrea&quot;,&quot;ER&quot;],[&quot;Estonia&quot;,&quot;EE&quot;],[&quot;Ethiopia&quot;,&quot;ET&quot;],[&quot;Falkland Islands (Malvinas)&quot;,&quot;FK&quot;],[&quot;Faroe Islands&quot;,&quot;FO&quot;],[&quot;Fiji&quot;,&quot;FJ&quot;],[&quot;Finland&quot;,&quot;FI&quot;],[&quot;France&quot;,&quot;FR&quot;],[&quot;French Guiana&quot;,&quot;GF&quot;],[&quot;French Polynesia&quot;,&quot;PF&quot;],[&quot;French Southern Territories&quot;,&quot;TF&quot;],[&quot;Gabon&quot;,&quot;GA&quot;],[&quot;Gambia&quot;,&quot;GM&quot;],[&quot;Georgia&quot;,&quot;GE&quot;],[&quot;Germany&quot;,&quot;DE&quot;],[&quot;Ghana&quot;,&quot;GH&quot;],[&quot;Gibraltar&quot;,&quot;GI&quot;],[&quot;Greece&quot;,&quot;GR&quot;],[&quot;Greenland&quot;,&quot;GL&quot;],[&quot;Grenada&quot;,&quot;GD&quot;],[&quot;Guadeloupe&quot;,&quot;GP&quot;],[&quot;Guam&quot;,&quot;GU&quot;],[&quot;Guatemala&quot;,&quot;GT&quot;],[&quot;Guernsey&quot;,&quot;GG&quot;],[&quot;Guinea&quot;,&quot;GN&quot;],[&quot;Guinea-Bissau&quot;,&quot;GW&quot;],[&quot;Guyana&quot;,&quot;GY&quot;],[&quot;Haiti&quot;,&quot;HT&quot;],[&quot;Heard Island and McDonald Islands&quot;,&quot;HM&quot;],[&quot;Holy See (Vatican City State)&quot;,&quot;VA&quot;],[&quot;Honduras&quot;,&quot;HN&quot;],[&quot;Hong Kong&quot;,&quot;HK&quot;],[&quot;Hungary&quot;,&quot;HU&quot;],[&quot;Iceland&quot;,&quot;IS&quot;],[&quot;India&quot;,&quot;IN&quot;],[&quot;Indonesia&quot;,&quot;ID&quot;],[&quot;Iran, Islamic Republic of&quot;,&quot;IR&quot;],[&quot;Iraq&quot;,&quot;IQ&quot;],[&quot;Ireland&quot;,&quot;IE&quot;],[&quot;Isle of Man&quot;,&quot;IM&quot;],[&quot;Israel&quot;,&quot;IL&quot;],[&quot;Italy&quot;,&quot;IT&quot;],[&quot;Jamaica&quot;,&quot;JM&quot;],[&quot;Japan&quot;,&quot;JP&quot;],[&quot;Jersey&quot;,&quot;JE&quot;],[&quot;Jordan&quot;,&quot;JO&quot;],[&quot;Kazakhstan&quot;,&quot;KZ&quot;],[&quot;Kenya&quot;,&quot;KE&quot;],[&quot;Kiribati&quot;,&quot;KI&quot;],[&quot;Korea, Democratic People\\'s Republic of&quot;,&quot;KP&quot;],[&quot;Korea, Republic of&quot;,&quot;KR&quot;],[&quot;Kuwait&quot;,&quot;KW&quot;],[&quot;Kyrgyzstan&quot;,&quot;KG&quot;],[&quot;Lao People\\'s Democratic Republic&quot;,&quot;LA&quot;],[&quot;Latvia&quot;,&quot;LV&quot;],[&quot;Lebanon&quot;,&quot;LB&quot;],[&quot;Lesotho&quot;,&quot;LS&quot;],[&quot;Liberia&quot;,&quot;LR&quot;],[&quot;Libya&quot;,&quot;LY&quot;],[&quot;Liechtenstein&quot;,&quot;LI&quot;],[&quot;Lithuania&quot;,&quot;LT&quot;],[&quot;Luxembourg&quot;,&quot;LU&quot;],[&quot;Macao&quot;,&quot;MO&quot;],[&quot;Macedonia, Republic of&quot;,&quot;MK&quot;],[&quot;Madagascar&quot;,&quot;MG&quot;],[&quot;Malawi&quot;,&quot;MW&quot;],[&quot;Malaysia&quot;,&quot;MY&quot;],[&quot;Maldives&quot;,&quot;MV&quot;],[&quot;Mali&quot;,&quot;ML&quot;],[&quot;Malta&quot;,&quot;MT&quot;],[&quot;Marshall Islands&quot;,&quot;MH&quot;],[&quot;Martinique&quot;,&quot;MQ&quot;],[&quot;Mauritania&quot;,&quot;MR&quot;],[&quot;Mauritius&quot;,&quot;MU&quot;],[&quot;Mayotte&quot;,&quot;YT&quot;],[&quot;Mexico&quot;,&quot;MX&quot;],[&quot;Micronesia, Federated States of&quot;,&quot;FM&quot;],[&quot;Moldova&quot;,&quot;MD&quot;],[&quot;Monaco&quot;,&quot;MC&quot;],[&quot;Mongolia&quot;,&quot;MN&quot;],[&quot;Montenegro&quot;,&quot;ME&quot;],[&quot;Montserrat&quot;,&quot;MS&quot;],[&quot;Morocco&quot;,&quot;MA&quot;],[&quot;Mozambique&quot;,&quot;MZ&quot;],[&quot;Myanmar&quot;,&quot;MM&quot;],[&quot;Namibia&quot;,&quot;NA&quot;],[&quot;Nauru&quot;,&quot;NR&quot;],[&quot;Nepal&quot;,&quot;NP&quot;],[&quot;Netherlands&quot;,&quot;NL&quot;],[&quot;New Caledonia&quot;,&quot;NC&quot;],[&quot;New Zealand&quot;,&quot;NZ&quot;],[&quot;Nicaragua&quot;,&quot;NI&quot;],[&quot;Niger&quot;,&quot;NE&quot;],[&quot;Nigeria&quot;,&quot;NG&quot;],[&quot;Niue&quot;,&quot;NU&quot;],[&quot;Norfolk Island&quot;,&quot;NF&quot;],[&quot;Northern Mariana Islands&quot;,&quot;MP&quot;],[&quot;Norway&quot;,&quot;NO&quot;],[&quot;Oman&quot;,&quot;OM&quot;],[&quot;Pakistan&quot;,&quot;PK&quot;],[&quot;Palau&quot;,&quot;PW&quot;],[&quot;Palestine, State of&quot;,&quot;PS&quot;],[&quot;Panama&quot;,&quot;PA&quot;],[&quot;Papua New Guinea&quot;,&quot;PG&quot;],[&quot;Paraguay&quot;,&quot;PY&quot;],[&quot;Peru&quot;,&quot;PE&quot;],[&quot;Philippines&quot;,&quot;PH&quot;],[&quot;Pitcairn&quot;,&quot;PN&quot;],[&quot;Poland&quot;,&quot;PL&quot;],[&quot;Portugal&quot;,&quot;PT&quot;],[&quot;Puerto Rico&quot;,&quot;PR&quot;],[&quot;Qatar&quot;,&quot;QA&quot;],[&quot;Romania&quot;,&quot;RO&quot;],[&quot;Russian Federation&quot;,&quot;RU&quot;],[&quot;Rwanda&quot;,&quot;RW&quot;],[&quot;Réunion&quot;,&quot;RE&quot;],[&quot;Saint Barthélemy&quot;,&quot;BL&quot;],[&quot;Saint Helena, Ascension and Tristan da Cunha&quot;,&quot;SH&quot;],[&quot;Saint Kitts and Nevis&quot;,&quot;KN&quot;],[&quot;Saint Lucia&quot;,&quot;LC&quot;],[&quot;Saint Martin (French part)&quot;,&quot;MF&quot;],[&quot;Saint Pierre and Miquelon&quot;,&quot;PM&quot;],[&quot;Saint Vincent and the Grenadines&quot;,&quot;VC&quot;],[&quot;Samoa&quot;,&quot;WS&quot;],[&quot;San Marino&quot;,&quot;SM&quot;],[&quot;Sao Tome and Principe&quot;,&quot;ST&quot;],[&quot;Saudi Arabia&quot;,&quot;SA&quot;],[&quot;Senegal&quot;,&quot;SN&quot;],[&quot;Serbia&quot;,&quot;RS&quot;],[&quot;Seychelles&quot;,&quot;SC&quot;],[&quot;Sierra Leone&quot;,&quot;SL&quot;],[&quot;Singapore&quot;,&quot;SG&quot;],[&quot;Sint Maarten (Dutch part)&quot;,&quot;SX&quot;],[&quot;Slovakia&quot;,&quot;SK&quot;],[&quot;Slovenia&quot;,&quot;SI&quot;],[&quot;Solomon Islands&quot;,&quot;SB&quot;],[&quot;Somalia&quot;,&quot;SO&quot;],[&quot;South Africa&quot;,&quot;ZA&quot;],[&quot;South Georgia and the South Sandwich Islands&quot;,&quot;GS&quot;],[&quot;South Sudan&quot;,&quot;SS&quot;],[&quot;Spain&quot;,&quot;ES&quot;],[&quot;Sri Lanka&quot;,&quot;LK&quot;],[&quot;Sudan&quot;,&quot;SD&quot;],[&quot;Suriname&quot;,&quot;SR&quot;],[&quot;Svalbard and Jan Mayen&quot;,&quot;SJ&quot;],[&quot;Swaziland&quot;,&quot;SZ&quot;],[&quot;Sweden&quot;,&quot;SE&quot;],[&quot;Switzerland&quot;,&quot;CH&quot;],[&quot;Syrian Arab Republic&quot;,&quot;SY&quot;],[&quot;Taiwan&quot;,&quot;TW&quot;],[&quot;Tajikistan&quot;,&quot;TJ&quot;],[&quot;Tanzania&quot;,&quot;TZ&quot;],[&quot;Thailand&quot;,&quot;TH&quot;],[&quot;Timor-Leste&quot;,&quot;TL&quot;],[&quot;Togo&quot;,&quot;TG&quot;],[&quot;Tokelau&quot;,&quot;TK&quot;],[&quot;Tonga&quot;,&quot;TO&quot;],[&quot;Trinidad and Tobago&quot;,&quot;TT&quot;],[&quot;Tunisia&quot;,&quot;TN&quot;],[&quot;Turkey&quot;,&quot;TR&quot;],[&quot;Turkmenistan&quot;,&quot;TM&quot;],[&quot;Turks and Caicos Islands&quot;,&quot;TC&quot;],[&quot;Tuvalu&quot;,&quot;TV&quot;],[&quot;Uganda&quot;,&quot;UG&quot;],[&quot;Ukraine&quot;,&quot;UA&quot;],[&quot;United Arab Emirates&quot;,&quot;AE&quot;],[&quot;United Kingdom&quot;,&quot;GB&quot;],[&quot;United States&quot;,&quot;US&quot;],[&quot;United States Minor Outlying Islands&quot;,&quot;UM&quot;],[&quot;Uruguay&quot;,&quot;UY&quot;],[&quot;Uzbekistan&quot;,&quot;UZ&quot;],[&quot;Vanuatu&quot;,&quot;VU&quot;],[&quot;Venezuela&quot;,&quot;VE&quot;],[&quot;Vietnam&quot;,&quot;VN&quot;],[&quot;Virgin Islands, British&quot;,&quot;VG&quot;],[&quot;Virgin Islands, U.S.&quot;,&quot;VI&quot;],[&quot;Wallis and Futuna&quot;,&quot;WF&quot;],[&quot;Western Sahara&quot;,&quot;EH&quot;],[&quot;Yemen&quot;,&quot;YE&quot;],[&quot;Zambia&quot;,&quot;ZM&quot;],[&quot;Zimbabwe&quot;,&quot;ZW&quot;],[&quot;Åland Islands&quot;,&quot;AX&quot;]]\" data-initial-timezone-value=\"Eastern Time (US &amp; Canada)\" data-recaptcha-key=\"6LemMyITAAAAACInF0s8bRD5As7yhRwPhRtmIvn6\" data-root-url=\"https://challonge.com/\" data-timezone-options=\"[[&quot;(+00:00) Azores&quot;, &quot;Atlantic/Azores&quot;], [&quot;(+00:00) Monrovia&quot;, &quot;Africa/Monrovia&quot;], [&quot;(+00:00) UTC&quot;, &quot;Etc/UTC&quot;], [&quot;(+01:00) Casablanca&quot;, &quot;Africa/Casablanca&quot;], [&quot;(+01:00) Dublin&quot;, &quot;Europe/Dublin&quot;], [&quot;(+01:00) Edinburgh&quot;, &quot;Europe/London&quot;], [&quot;(+01:00) Lisbon&quot;, &quot;Europe/Lisbon&quot;], [&quot;(+01:00) London&quot;, &quot;Europe/London&quot;], [&quot;(+01:00) West Central Africa&quot;, &quot;Africa/Algiers&quot;], [&quot;(+02:00) Amsterdam&quot;, &quot;Europe/Amsterdam&quot;], [&quot;(+02:00) Belgrade&quot;, &quot;Europe/Belgrade&quot;], [&quot;(+02:00) Berlin&quot;, &quot;Europe/Berlin&quot;], [&quot;(+02:00) Bern&quot;, &quot;Europe/Berlin&quot;], [&quot;(+02:00) Bratislava&quot;, &quot;Europe/Bratislava&quot;], [&quot;(+02:00) Brussels&quot;, &quot;Europe/Brussels&quot;], [&quot;(+02:00) Budapest&quot;, &quot;Europe/Budapest&quot;], [&quot;(+02:00) Cairo&quot;, &quot;Africa/Cairo&quot;], [&quot;(+02:00) Copenhagen&quot;, &quot;Europe/Copenhagen&quot;], [&quot;(+02:00) Harare&quot;, &quot;Africa/Harare&quot;], [&quot;(+02:00) Kaliningrad&quot;, &quot;Europe/Kaliningrad&quot;], [&quot;(+02:00) Ljubljana&quot;, &quot;Europe/Ljubljana&quot;], [&quot;(+02:00) Madrid&quot;, &quot;Europe/Madrid&quot;], [&quot;(+02:00) Paris&quot;, &quot;Europe/Paris&quot;], [&quot;(+02:00) Prague&quot;, &quot;Europe/Prague&quot;], [&quot;(+02:00) Pretoria&quot;, &quot;Africa/Johannesburg&quot;], [&quot;(+02:00) Rome&quot;, &quot;Europe/Rome&quot;], [&quot;(+02:00) Sarajevo&quot;, &quot;Europe/Sarajevo&quot;], [&quot;(+02:00) Skopje&quot;, &quot;Europe/Skopje&quot;], [&quot;(+02:00) Stockholm&quot;, &quot;Europe/Stockholm&quot;], [&quot;(+02:00) Vienna&quot;, &quot;Europe/Vienna&quot;], [&quot;(+02:00) Warsaw&quot;, &quot;Europe/Warsaw&quot;], [&quot;(+02:00) Zagreb&quot;, &quot;Europe/Zagreb&quot;], [&quot;(+03:00) Athens&quot;, &quot;Europe/Athens&quot;], [&quot;(+03:00) Baghdad&quot;, &quot;Asia/Baghdad&quot;], [&quot;(+03:00) Bucharest&quot;, &quot;Europe/Bucharest&quot;], [&quot;(+03:00) Helsinki&quot;, &quot;Europe/Helsinki&quot;], [&quot;(+03:00) Istanbul&quot;, &quot;Europe/Istanbul&quot;], [&quot;(+03:00) Jerusalem&quot;, &quot;Asia/Jerusalem&quot;], [&quot;(+03:00) Kuwait&quot;, &quot;Asia/Kuwait&quot;], [&quot;(+03:00) Kyiv&quot;, &quot;Europe/Kiev&quot;], [&quot;(+03:00) Minsk&quot;, &quot;Europe/Minsk&quot;], [&quot;(+03:00) Moscow&quot;, &quot;Europe/Moscow&quot;], [&quot;(+03:00) Nairobi&quot;, &quot;Africa/Nairobi&quot;], [&quot;(+03:00) Riga&quot;, &quot;Europe/Riga&quot;], [&quot;(+03:00) Riyadh&quot;, &quot;Asia/Riyadh&quot;], [&quot;(+03:00) Sofia&quot;, &quot;Europe/Sofia&quot;], [&quot;(+03:00) St. Petersburg&quot;, &quot;Europe/Moscow&quot;], [&quot;(+03:00) Tallinn&quot;, &quot;Europe/Tallinn&quot;], [&quot;(+03:00) Vilnius&quot;, &quot;Europe/Vilnius&quot;], [&quot;(+03:00) Volgograd&quot;, &quot;Europe/Volgograd&quot;], [&quot;(+04:00) Abu Dhabi&quot;, &quot;Asia/Muscat&quot;], [&quot;(+04:00) Baku&quot;, &quot;Asia/Baku&quot;], [&quot;(+04:00) Muscat&quot;, &quot;Asia/Muscat&quot;], [&quot;(+04:00) Samara&quot;, &quot;Europe/Samara&quot;], [&quot;(+04:00) Tbilisi&quot;, &quot;Asia/Tbilisi&quot;], [&quot;(+04:00) Yerevan&quot;, &quot;Asia/Yerevan&quot;], [&quot;(+04:30) Kabul&quot;, &quot;Asia/Kabul&quot;], [&quot;(+04:30) Tehran&quot;, &quot;Asia/Tehran&quot;], [&quot;(+05:00) Ekaterinburg&quot;, &quot;Asia/Yekaterinburg&quot;], [&quot;(+05:00) Islamabad&quot;, &quot;Asia/Karachi&quot;], [&quot;(+05:00) Karachi&quot;, &quot;Asia/Karachi&quot;], [&quot;(+05:00) Tashkent&quot;, &quot;Asia/Tashkent&quot;], [&quot;(+05:30) Chennai&quot;, &quot;Asia/Kolkata&quot;], [&quot;(+05:30) Kolkata&quot;, &quot;Asia/Kolkata&quot;], [&quot;(+05:30) Mumbai&quot;, &quot;Asia/Kolkata&quot;], [&quot;(+05:30) New Delhi&quot;, &quot;Asia/Kolkata&quot;], [&quot;(+05:30) Sri Jayawardenepura&quot;, &quot;Asia/Colombo&quot;], [&quot;(+05:45) Kathmandu&quot;, &quot;Asia/Kathmandu&quot;], [&quot;(+06:00) Almaty&quot;, &quot;Asia/Almaty&quot;], [&quot;(+06:00) Astana&quot;, &quot;Asia/Dhaka&quot;], [&quot;(+06:00) Dhaka&quot;, &quot;Asia/Dhaka&quot;], [&quot;(+06:00) Urumqi&quot;, &quot;Asia/Urumqi&quot;], [&quot;(+06:30) Rangoon&quot;, &quot;Asia/Rangoon&quot;], [&quot;(+07:00) Bangkok&quot;, &quot;Asia/Bangkok&quot;], [&quot;(+07:00) Hanoi&quot;, &quot;Asia/Bangkok&quot;], [&quot;(+07:00) Jakarta&quot;, &quot;Asia/Jakarta&quot;], [&quot;(+07:00) Krasnoyarsk&quot;, &quot;Asia/Krasnoyarsk&quot;], [&quot;(+07:00) Novosibirsk&quot;, &quot;Asia/Novosibirsk&quot;], [&quot;(+08:00) Beijing&quot;, &quot;Asia/Shanghai&quot;], [&quot;(+08:00) Chongqing&quot;, &quot;Asia/Chongqing&quot;], [&quot;(+08:00) Hong Kong&quot;, &quot;Asia/Hong_Kong&quot;], [&quot;(+08:00) Irkutsk&quot;, &quot;Asia/Irkutsk&quot;], [&quot;(+08:00) Kuala Lumpur&quot;, &quot;Asia/Kuala_Lumpur&quot;], [&quot;(+08:00) Perth&quot;, &quot;Australia/Perth&quot;], [&quot;(+08:00) Singapore&quot;, &quot;Asia/Singapore&quot;], [&quot;(+08:00) Taipei&quot;, &quot;Asia/Taipei&quot;], [&quot;(+08:00) Ulaanbaatar&quot;, &quot;Asia/Ulaanbaatar&quot;], [&quot;(+09:00) Osaka&quot;, &quot;Asia/Tokyo&quot;], [&quot;(+09:00) Sapporo&quot;, &quot;Asia/Tokyo&quot;], [&quot;(+09:00) Seoul&quot;, &quot;Asia/Seoul&quot;], [&quot;(+09:00) Tokyo&quot;, &quot;Asia/Tokyo&quot;], [&quot;(+09:00) Yakutsk&quot;, &quot;Asia/Yakutsk&quot;], [&quot;(+09:30) Adelaide&quot;, &quot;Australia/Adelaide&quot;], [&quot;(+09:30) Darwin&quot;, &quot;Australia/Darwin&quot;], [&quot;(+10:00) Brisbane&quot;, &quot;Australia/Brisbane&quot;], [&quot;(+10:00) Canberra&quot;, &quot;Australia/Melbourne&quot;], [&quot;(+10:00) Guam&quot;, &quot;Pacific/Guam&quot;], [&quot;(+10:00) Hobart&quot;, &quot;Australia/Hobart&quot;], [&quot;(+10:00) Melbourne&quot;, &quot;Australia/Melbourne&quot;], [&quot;(+10:00) Port Moresby&quot;, &quot;Pacific/Port_Moresby&quot;], [&quot;(+10:00) Sydney&quot;, &quot;Australia/Sydney&quot;], [&quot;(+10:00) Vladivostok&quot;, &quot;Asia/Vladivostok&quot;], [&quot;(+11:00) Magadan&quot;, &quot;Asia/Magadan&quot;], [&quot;(+11:00) New Caledonia&quot;, &quot;Pacific/Noumea&quot;], [&quot;(+11:00) Solomon Is.&quot;, &quot;Pacific/Guadalcanal&quot;], [&quot;(+11:00) Srednekolymsk&quot;, &quot;Asia/Srednekolymsk&quot;], [&quot;(+12:00) Auckland&quot;, &quot;Pacific/Auckland&quot;], [&quot;(+12:00) Fiji&quot;, &quot;Pacific/Fiji&quot;], [&quot;(+12:00) Kamchatka&quot;, &quot;Asia/Kamchatka&quot;], [&quot;(+12:00) Marshall Is.&quot;, &quot;Pacific/Majuro&quot;], [&quot;(+12:00) Wellington&quot;, &quot;Pacific/Auckland&quot;], [&quot;(+12:45) Chatham Is.&quot;, &quot;Pacific/Chatham&quot;], [&quot;(+13:00) Nuku\\'alofa&quot;, &quot;Pacific/Tongatapu&quot;], [&quot;(+13:00) Samoa&quot;, &quot;Pacific/Apia&quot;], [&quot;(+13:00) Tokelau Is.&quot;, &quot;Pacific/Fakaofo&quot;], [&quot;(-01:00) Cape Verde Is.&quot;, &quot;Atlantic/Cape_Verde&quot;], [&quot;(-02:00) Greenland&quot;, &quot;America/Godthab&quot;], [&quot;(-02:00) Mid-Atlantic&quot;, &quot;Atlantic/South_Georgia&quot;], [&quot;(-02:30) Newfoundland&quot;, &quot;America/St_Johns&quot;], [&quot;(-03:00) Atlantic Time (Canada)&quot;, &quot;America/Halifax&quot;], [&quot;(-03:00) Brasilia&quot;, &quot;America/Sao_Paulo&quot;], [&quot;(-03:00) Buenos Aires&quot;, &quot;America/Argentina/Buenos_Aires&quot;], [&quot;(-03:00) Montevideo&quot;, &quot;America/Montevideo&quot;], [&quot;(-04:00) America/New_York&quot;, &quot;America/New_York&quot;], [&quot;(-04:00) Caracas&quot;, &quot;America/Caracas&quot;], [&quot;(-04:00) Eastern Time (US &amp; Canada)&quot;, &quot;America/New_York&quot;], [&quot;(-04:00) Georgetown&quot;, &quot;America/Guyana&quot;], [&quot;(-04:00) Indiana (East)&quot;, &quot;America/Indiana/Indianapolis&quot;], [&quot;(-04:00) La Paz&quot;, &quot;America/La_Paz&quot;], [&quot;(-04:00) Santiago&quot;, &quot;America/Santiago&quot;], [&quot;(-05:00) America/Chicago&quot;, &quot;America/Chicago&quot;], [&quot;(-05:00) Bogota&quot;, &quot;America/Bogota&quot;], [&quot;(-05:00) Central Time (US &amp; Canada)&quot;, &quot;America/Chicago&quot;], [&quot;(-05:00) Guadalajara&quot;, &quot;America/Mexico_City&quot;], [&quot;(-05:00) Lima&quot;, &quot;America/Lima&quot;], [&quot;(-05:00) Mexico City&quot;, &quot;America/Mexico_City&quot;], [&quot;(-05:00) Monterrey&quot;, &quot;America/Monterrey&quot;], [&quot;(-05:00) Quito&quot;, &quot;America/Lima&quot;], [&quot;(-06:00) Central America&quot;, &quot;America/Guatemala&quot;], [&quot;(-06:00) Chihuahua&quot;, &quot;America/Chihuahua&quot;], [&quot;(-06:00) Mazatlan&quot;, &quot;America/Mazatlan&quot;], [&quot;(-06:00) Mountain Time (US &amp; Canada)&quot;, &quot;America/Denver&quot;], [&quot;(-06:00) Saskatchewan&quot;, &quot;America/Regina&quot;], [&quot;(-07:00) America/Los_Angeles&quot;, &quot;America/Los_Angeles&quot;], [&quot;(-07:00) Arizona&quot;, &quot;America/Phoenix&quot;], [&quot;(-07:00) Pacific Time (US &amp; Canada)&quot;, &quot;America/Los_Angeles&quot;], [&quot;(-07:00) Tijuana&quot;, &quot;America/Tijuana&quot;], [&quot;(-08:00) Alaska&quot;, &quot;America/Juneau&quot;], [&quot;(-10:00) Hawaii&quot;, &quot;Pacific/Honolulu&quot;], [&quot;(-11:00) American Samoa&quot;, &quot;Pacific/Pago_Pago&quot;], [&quot;(-11:00) International Date Line West&quot;, &quot;Pacific/Midway&quot;], [&quot;(-11:00) Midway Island&quot;, &quot;Pacific/Midway&quot;]]\" id=\"login-signup-modal\"></div>\\n\\n</div>\\n</div>\\n</div>\\n<div class=\"redesign-bottom-leaderboard\">\\n<div class=\"cake-unit\" data-js-scroll-stop=\"\" data-js-sticky-elem=\"\">\\n<div class=\"body\">\\n<div class=\"cake\" data-placement-name=\"rich_media\" id=\"cake-video\"></div>\\n</div>\\n</div>\\n\\n</div>\\n<div class=\"footer-line\">\\n<div></div>\\n</div>\\n<footer class=\"footer-public\">\\n<div class=\"container-fluid -with-content-gutters\">\\n<a class=\"logo brand-image -lockupfullcolor\" href=\"https://challonge.com/\"></a>\\n<div class=\"footer-links\">\\n<a href=\"https://challonge.com/about\">About</a>\\n<a href=\"https://challonge.com/pricing\">Pricing</a>\\n<a target=\"_blank\" href=\"https://kb.challonge.com\">Knowledge Base</a>\\n<a href=\"https://challonge.com/contact\">Contact</a>\\n<a href=\"https://challonge.com/partners\">Partners</a>\\n<a href=\"https://challonge.com/organizedplay\">Organized Play</a>\\n<a href=\"https://api.challonge.com/v1\">API</a>\\n</div>\\n</div>\\n</footer>\\n<div class=\"footer-footer\">\\n<span class=\"dropup\">\\n<a class=\"user\" data-toggle=\"dropdown\" href=\"#\">\\n<div class=\"flag flag-en\"></div>\\n</a>\\n<ul class=\"dropdown-menu\">\\n<li>\\n<a data-turbolinks=\"false\" href=\"/user_session/switch_locale?return=%2Far%2FEUAC35&amp;to=ar\"><div class=\"flag flag-ar\"></div>\\nالعَرَبِيَّة\\n</a></li>\\n<li>\\n<a data-turbolinks=\"false\" href=\"/user_session/switch_locale?return=%2Fcs%2FEUAC35&amp;to=cs\"><div class=\"flag flag-cs\"></div>\\nČeština\\n</a></li>\\n<li>\\n<a data-turbolinks=\"false\" href=\"/user_session/switch_locale?return=%2Fda%2FEUAC35&amp;to=da\"><div class=\"flag flag-da\"></div>\\nDansk\\n</a></li>\\n<li>\\n<a data-turbolinks=\"false\" href=\"/user_session/switch_locale?return=%2Fde%2FEUAC35&amp;to=de\"><div class=\"flag flag-de\"></div>\\nDeutsch\\n</a></li>\\n<li>\\n<a data-turbolinks=\"false\" href=\"/user_session/switch_locale?return=%2Fes%2FEUAC35&amp;to=es\"><div class=\"flag flag-es\"></div>\\nEspañol\\n</a></li>\\n<li>\\n<a data-turbolinks=\"false\" href=\"/user_session/switch_locale?return=%2Ffi%2FEUAC35&amp;to=fi\"><div class=\"flag flag-fi\"></div>\\nSuomi\\n</a></li>\\n<li>\\n<a data-turbolinks=\"false\" href=\"/user_session/switch_locale?return=%2Ffr%2FEUAC35&amp;to=fr\"><div class=\"flag flag-fr\"></div>\\nFrançais\\n</a></li>\\n<li>\\n<a data-turbolinks=\"false\" href=\"/user_session/switch_locale?return=%2Fhu%2FEUAC35&amp;to=hu\"><div class=\"flag flag-hu\"></div>\\nMagyar\\n</a></li>\\n<li>\\n<a data-turbolinks=\"false\" href=\"/user_session/switch_locale?return=%2Fid%2FEUAC35&amp;to=id\"><div class=\"flag flag-id\"></div>\\nBahasa Indonesia\\n</a></li>\\n<li>\\n<a data-turbolinks=\"false\" href=\"/user_session/switch_locale?return=%2Fit%2FEUAC35&amp;to=it\"><div class=\"flag flag-it\"></div>\\nItaliano\\n</a></li>\\n<li>\\n<a data-turbolinks=\"false\" href=\"/user_session/switch_locale?return=%2Fja%2FEUAC35&amp;to=ja\"><div class=\"flag flag-ja\"></div>\\n日本語\\n</a></li>\\n<li>\\n<a data-turbolinks=\"false\" href=\"/user_session/switch_locale?return=%2Fko%2FEUAC35&amp;to=ko\"><div class=\"flag flag-ko\"></div>\\n한국어\\n</a></li>\\n<li>\\n<a data-turbolinks=\"false\" href=\"/user_session/switch_locale?return=%2Flv-LV%2FEUAC35&amp;to=lv-LV\"><div class=\"flag flag-lv-LV\"></div>\\nLatviešu\\n</a></li>\\n<li>\\n<a data-turbolinks=\"false\" href=\"/user_session/switch_locale?return=%2Fnl%2FEUAC35&amp;to=nl\"><div class=\"flag flag-nl\"></div>\\nNederlands\\n</a></li>\\n<li>\\n<a data-turbolinks=\"false\" href=\"/user_session/switch_locale?return=%2Fno%2FEUAC35&amp;to=no\"><div class=\"flag flag-no\"></div>\\nnorsk\\n</a></li>\\n<li>\\n<a data-turbolinks=\"false\" href=\"/user_session/switch_locale?return=%2Fpl%2FEUAC35&amp;to=pl\"><div class=\"flag flag-pl\"></div>\\nPolski\\n</a></li>\\n<li>\\n<a data-turbolinks=\"false\" href=\"/user_session/switch_locale?return=%2Fpt%2FEUAC35&amp;to=pt\"><div class=\"flag flag-pt\"></div>\\nPortuguês\\n</a></li>\\n<li>\\n<a data-turbolinks=\"false\" href=\"/user_session/switch_locale?return=%2Fpt_BR%2FEUAC35&amp;to=pt_BR\"><div class=\"flag flag-pt_BR\"></div>\\nPortuguês Br.\\n</a></li>\\n<li>\\n<a data-turbolinks=\"false\" href=\"/user_session/switch_locale?return=%2Fro%2FEUAC35&amp;to=ro\"><div class=\"flag flag-ro\"></div>\\nLimba română\\n</a></li>\\n<li>\\n<a data-turbolinks=\"false\" href=\"/user_session/switch_locale?return=%2Fru%2FEUAC35&amp;to=ru\"><div class=\"flag flag-ru\"></div>\\nРусский\\n</a></li>\\n<li>\\n<a data-turbolinks=\"false\" href=\"/user_session/switch_locale?return=%2Fsk%2FEUAC35&amp;to=sk\"><div class=\"flag flag-sk\"></div>\\nslovenčina\\n</a></li>\\n<li>\\n<a data-turbolinks=\"false\" href=\"/user_session/switch_locale?return=%2Fsv%2FEUAC35&amp;to=sv\"><div class=\"flag flag-sv\"></div>\\nsvenska\\n</a></li>\\n<li>\\n<a data-turbolinks=\"false\" href=\"/user_session/switch_locale?return=%2Fth%2FEUAC35&amp;to=th\"><div class=\"flag flag-th\"></div>\\nภาษาไทย\\n</a></li>\\n<li>\\n<a data-turbolinks=\"false\" href=\"/user_session/switch_locale?return=%2Ftr%2FEUAC35&amp;to=tr\"><div class=\"flag flag-tr\"></div>\\nTürkçe\\n</a></li>\\n<li>\\n<a data-turbolinks=\"false\" href=\"/user_session/switch_locale?return=%2Fuk%2FEUAC35&amp;to=uk\"><div class=\"flag flag-uk\"></div>\\nукраїнська\\n</a></li>\\n<li>\\n<a data-turbolinks=\"false\" href=\"/user_session/switch_locale?return=%2Fvi%2FEUAC35&amp;to=vi\"><div class=\"flag flag-vi\"></div>\\nTiếng Việt\\n</a></li>\\n<li>\\n<a data-turbolinks=\"false\" href=\"/user_session/switch_locale?return=%2Fzh_CN%2FEUAC35&amp;to=zh_CN\"><div class=\"flag flag-zh_CN\"></div>\\n简体中文\\n</a></li>\\n<li>\\n<a data-turbolinks=\"false\" href=\"/user_session/switch_locale?return=%2Fzh_TW%2FEUAC35&amp;to=zh_TW\"><div class=\"flag flag-zh_TW\"></div>\\n繁體中文\\n</a></li>\\n<li class=\"divider\" role=\"separator\"></li>\\n<li><a data-turbolinks=\"false\" href=\"/translate\">Help Translate</a></li>\\n</ul>\\n</span>\\n<div class=\"divider-line\">\\n|\\n</div>\\n<a href=\"https://challonge.com/terms_of_service\">Terms</a>\\n<div class=\"divider-line\">\\n|\\n</div>\\n<a href=\"https://challonge.com/privacy_policy\">Privacy</a>\\n<div class=\"divider-line\">\\n|\\n</div>\\n<a href=\"https://challonge.com/tournament/bracket_generator\">Bracket Generator</a>\\n<span class=\"copyright\">\\n© 2025 Challonge, LLC\\n</span>\\n</div>\\n<input type=\"hidden\" name=\"locale\" id=\"locale\" value=\"en\">\\n\\n\\n\\n<script>window.gon = {};gon.targetingKeyValues={\"category\":\"Video Game - Fighting\",\"game\":\"Arms\"};gon.forceDeferredCallback=false;gon.participantUserIdMap={\"1897663\":107792038,\"2363206\":108165794,\"2521004\":108165544,\"3149531\":107876180,\"2392308\":107827464,\"3057118\":107772816};gon.adminIds=[2405407,2392308,2533091,2670839,2405407];</script>\\n<script src=\"https://assets.challonge.com/assets/packs/vendors-4045e9aac2505e47493bacf5432b6ee2123ac5c52efbc60a3a23176c2e55dad0.js\"></script>\\n<script src=\"https://assets.challonge.com/assets/packs/react-shared-445eeafc6ff2aec817de9240f5876e9aea6bccf814a8d4c4a847293433de3182.js\"></script>\\n<script src=\"https://assets.challonge.com/assets/packs/react-tournament-8658a11215af5402cf3d7694cb7a8f02ea5719967e8dcc5af88708a9d21c2049.js\"></script>\\n<script src=\"https://assets.challonge.com/assets/packs/react-tournament-form-80935488c426eb3b22c007ee319a8f922c10d868c0f63282ee029b09f2a55ba4.js\"></script>\\n<script src=\"https://assets.challonge.com/assets/application-da237e37c5e6e183067cb87b42a04e5a59b22893d3c54eb046ea246013596f68.js\"></script>\\n<script>\\n  $(\\'.link-clipboard-copy\\').click(function(e) {\\n    e.preventDefault();\\n    navigator.clipboard.writeText(\\'https://challonge.com/EUAC35\\');\\n    var $_clipCopyLink = $(e.target);\\n    $_clipCopyLink.text(\\'Copied!\\');\\n    setTimeout(function() { $_clipCopyLink.text(\\'Copy Link\\'); }, 1000);\\n  });\\n</script>\\n<script>\\n  $(function() {\\n    var $description = $(\\'.tournament-description .redactor-editor\\');\\n    if($description.prop(\\'scrollHeight\\') > $description.height()) {\\n      var $modalToggle = $(\\'.tournament-description .modal-toggle\\');\\n      $modalToggle.removeClass(\\'hide\\');\\n      $modalToggle.click(function() {\\n        if ($description.hasClass(\\'expanded\\')) {\\n          $description.removeClass(\\'expanded\\');\\n          $modalToggle.text($modalToggle.data(\\'compressed\\'));\\n        }\\n        else {\\n          $description.addClass(\\'expanded\\');\\n          $modalToggle.text($modalToggle.data(\\'expanded\\'));\\n        }\\n  \\n        return false;\\n      });\\n    }\\n  });\\n</script>\\n<script>\\n  $(\\'.round-filters a\\').on(\\'click\\', function(evt) {\\n    let $roundFilter = $(evt.target)\\n    let rounds = []\\n  \\n    if ($roundFilter.data(\\'rounds\\')) {\\n      rounds = $roundFilter.data(\\'rounds\\').split(\\',\\').map(numStr => parseInt(numStr))\\n    } else if ($roundFilter.attr(\\'data-rounds\\') === \\'0\\') {\\n      rounds = [0]\\n    }\\n  \\n    ChallongeJSAPI.filterRounds(rounds)\\n    $(\\'.selected-round-filter\\').text($roundFilter.text())\\n    evt.preventDefault()\\n  })\\n</script>\\n<script>\\n  $(\\'.embed-code-toggle\\').click(function() {\\n    var $modal = $(\\'.tournament-bracket-modal\\');\\n    $(\\'.modal-body\\', $modal).html($(\\'.embed_code\\').html());\\n    $modal.modal();\\n    $(\\'textarea:first\\', $modal).select();\\n    return false;\\n  });\\n</script>\\n<script>\\n  $(\\'.full-screen-toggle\\').click(function() {\\n    if(BigScreen.enabled) {\\n      BigScreen.request($(\\'.full-screen-target\\')[0]);\\n      return false;\\n    }\\n    else {\\n      return true;\\n    }\\n  });\\n</script>\\n<script>\\n  $(function() {\\n    $(\\'#module_code_toggle\\').click(function() {\\n      $(\\'#module_code\\').toggle();\\n      return false;\\n    });\\n  });\\n  \\n  // hides announcement variant refer to shared/announcement_variant_#.haml\\n  // check tournaments/show_deferred.js.haml for announcement behaviors\\n  $(document).ready(function () {\\n    var community = $(\\'#announcement_variant_panel\\').data(\\'community\\');\\n    var permalink = $(\\'#announcement_variant_panel\\').data(\\'url\\');\\n    var tournamentState = $(\\'#announcement_variant_panel\\').data(\\'tournament-state\\');\\n    var localStorageKey = community + \\'-\\' + permalink + \\'-\\' + tournamentState\\n    var showAlert = localStorage.getItem(localStorageKey) === null;\\n    var url = \\'EUAC35\\'\\n  \\n    if (showAlert) {\\n      $(\\'.cta-box\\').removeClass(\\'hide\\');\\n    }\\n  \\n    $(\\'.cta-box .close\\').on(\\'click\\', function() {\\n      $(\\'.cta-box\\').addClass(\\'hide\\');\\n      window.localStorage.setItem(localStorageKey, true);\\n    })\\n  \\n    $(\\'.alert .close\\').on(\\'click\\', function() {\\n      $(\\'.alert\\').addClass(\\'hide\\')\\n      window.localStorage.setItem(localStorageKey, true)\\n    })\\n  })\\n</script>\\n  <script type=\"text/javascript\">\\n    (function() {\\n      if (typeof $.removeCookie !== \"undefined\") { \\n        $.removeCookie(\\'_show_cake\\', {domain: \\'.challonge.com\\'});\\n        $.removeCookie(\\'_show_cake\\');\\n        $.removeCookie(\\'_current_user_id\\');\\n        $.removeCookie(\\'_current_user_id\\', {domain: \\'.challonge.com\\'});\\n        $.removeCookie(\\'refresh_token\\', {domain: \\'.challonge.com\\'});\\n      }\\n    })();\\n  </script>\\n      <script type=\"text/javascript\">\\n        (function() {\\n          function loadAds (chakakhan = null) {\\n            if (chakakhan) {\\n              window[\\'nitroAds\\'].addUserToken(chakakhan, \\'SHA-256\\')\\n            }\\n\\n            $(\\'.cake-unit, .cake-twitch\\').removeClass(\\'hide\\')\\n\\n            // write ad unit ids in data-id for each placement\\n            $(\\'.cake\\').each(function() {\\n              var $cake = $(this)\\n              var adId = $cake.attr(\\'id\\')\\n\\n              if (adId === \"cake-top\") {\\n                window[\\'nitroAds\\'].createAd(adId, {\\n                  \"refreshTime\": 30,\\n                  \"refreshLimit\": 0,\\n                  \"renderVisibleOnly\": false,\\n                  \"sizes\": [\\n                    [\\n                      \"970\",\\n                      \"250\"\\n                    ],\\n                    [\\n                      \"970\",\\n                      \"90\"\\n                    ],\\n                    [\\n                      \"728\",\\n                      \"90\"\\n                    ],\\n                    [\\n                      \"300\",\\n                      \"250\"\\n                    ]\\n                  ],\\n                  \"report\": {\\n                    \"enabled\": true,\\n                    \"icon\": false,\\n                    \"wording\": \"Report Ad\",\\n                    \"position\": \"bottom-right\"\\n                  }\\n                });\\n              } else if (adId === \"cake-inline\") {\\n                window[\\'nitroAds\\'].createAd(adId, {\\n                  \"refreshTime\": 30,\\n                  \"refreshLimit\": 0,\\n                  \"renderVisibleOnly\": false,\\n                  \"sizes\": [\\n                    [\\n                      \"300\",\\n                      \"250\"\\n                    ],\\n                    [\\n                      \"320\",\\n                      \"100\"\\n                    ],\\n                    [\\n                      \"320\",\\n                      \"50\"\\n                    ]\\n                  ],\\n                  \"report\": {\\n                    \"enabled\": true,\\n                    \"icon\": false,\\n                    \"wording\": \"Report Ad\",\\n                    \"position\": \"bottom-right\"\\n                  }\\n                });\\n              } else if (adId === \"cake-anchor\") {\\n                window[\\'nitroAds\\'].createAd(adId, {\\n                  \"refreshTime\": 30,\\n                  \"refreshLimit\": 0,\\n                  \"format\": \"anchor\",\\n                  \"anchor\": \"bottom\",\\n                  \"anchorPersistClose\": false,\\n                  \"mediaQuery\": \"(min-width: 0px)\",\\n                  \"anchorBgColor\": \"rgb(37 40 48 / 80%)\",\\n                  \"report\": {\\n                    \"enabled\": true,\\n                    \"icon\": false,\\n                    \"wording\": \"Report Ad\",\\n                    \"position\": \"top-left-side\"\\n                  }\\n                });\\n               } else if (adId === \"cake-video\") {\\n                window[\\'nitroAds\\'].createAd(\\'cake-video-nitro\\', {\\n                  \"refreshTime\": 30,\\n                  \"format\": \"floating\",\\n                  \"report\": {\\n                    \"enabled\": true,\\n                    \"icon\": false,\\n                    \"wording\": \"Report Ad\",\\n                    \"position\": \"top-left\"\\n                  },\\n                  \"floating\": {\\n                    reduceMobileSize: true,\\n                  }\\n                });\\n              } else if (adId === \"cake-footer\") {\\n                window[\\'nitroAds\\'].createAd(adId, {\\n                  \"refreshTime\": 30,\\n                  \"refreshLimit\": 0,\\n                  \"renderVisibleOnly\": true,\\n                  \"report\": {\\n                    \"enabled\": true,\\n                    \"icon\": false,\\n                    \"wording\": \"Report Ad\",\\n                    \"position\": \"bottom-right\"\\n                  }\\n                });\\n              } else {\\n                window[\\'nitroAds\\'].createAd(adId, {\\n                  \"refreshTime\": 30,\\n                  \"refreshLimit\": 0,\\n                  \"renderVisibleOnly\": false,\\n                  \"report\": {\\n                    \"enabled\": true,\\n                    \"icon\": false,\\n                    \"wording\": \"Report Ad\",\\n                    \"position\": \"bottom-right\"\\n                  }\\n                });\\n              }\\n            })\\n          }\\n\\n          // Decide if we should trigger the ad units or not\\n          var notLoggedIn = ($.cookie(\\'_cuid\\') === undefined)\\n          var showCake = ($.cookie(\\'_ck\\') === \\'true\\')\\n          var isDevMode = false\\n          var chakakhan = $.cookie(\\'_chak\\')\\n\\n          if (notLoggedIn || showCake) {\\n            loadAds(chakakhan)\\n          } else {\\n            $.ajax({\\n              url: \"/users/show_cake\",\\n              method: \"GET\",\\n              dataType: \\'JSON\\',\\n              accepts: \\'application/json\\'\\n            }).done(function(adLevel, textStatus, jqXHR) {\\n              if(adLevel > 0) {\\n                loadAds(chakakhan)\\n              }\\n            }).fail(function(jqXHR, textStatus, errorThrown) {\\n              loadAds(chakakhan)\\n            })\\n          }\\n        })();\\n      </script>\\n<script>\\n  var $gutters = $(\\'.redesign-left-gutter, .redesign-right-gutter\\')\\n  \\n  function fixGutters() {\\n    if($gutters.css(\"position\") === \"absolute\") {\\n      $gutters.css(\"height\", document.body.scrollHeight - 330)\\n    } else {\\n      $gutters.css(\"height\", \"\")\\n    }\\n  }\\n  \\n  $(window).on(\"resize\", function() {\\n    fixGutters()\\n  });\\n  \\n  // init\\n  fixGutters();\\n</script>\\n<script>\\n  $(\\'.redesign-menu-toggle a.toggle-close\\').click(function(){$menu=$(\\'.redesign-menu\\');$menu.addClass(\\'-transitioning -collapsed\\');setTimeout(function(){$menu.removeClass(\\'-transitioning\\');},500);localStorage.setItem(\\'menu-state\\',\\'closed\\');return false;});\\n  $(\\'.redesign-menu-toggle a.toggle-open\\').click(function(){$menu=$(\\'.redesign-menu\\');$menu.addClass(\\'-transitioning\\').removeClass(\\'-collapsed\\');setTimeout(function(){$menu.removeClass(\\'-transitioning\\');},500);localStorage.setItem(\\'menu-state\\',\\'open\\');return false;});\\n</script>\\n<script>\\n  if(gon.forceDeferredCallback || $.cookie(\\'_cuid\\') !== undefined) {\\n    $(function() {\\n      $.ajax(\\'/EUAC35/show_deferred\\' + window.location.search);\\n    });\\n  }\\n  else {\\n    $(\\'.varnish-logged-out.hide\\').removeClass(\\'hide\\');\\n  }\\n</script>\\n<script>\\n  if ($.cookie(\\'locale\\') !== undefined && $.cookie(\\'locale\\') !== $(\\'#locale\\').val()) {\\n    var altHref = $(\\'#locale-\\' + $.cookie(\\'locale\\')).attr(\\'href\\');\\n  \\n    if (altHref) {\\n      window.location = altHref;\\n    }\\n  }\\n</script>\\n\\n<div id=\"react-modal-portal\"></div>\\n<div id=\"react-popover-portal\"></div>\\n</div><iframe name=\"__tcfapiLocator\" style=\"display: none;\"></iframe><iframe marginwidth=\"0\" marginheight=\"0\" scrolling=\"no\" frameborder=\"0\" id=\"1c9fb215bcfa338\" width=\"0\" height=\"0\" src=\"about:blank\" name=\"__pb_locator__\" style=\"display: none; height: 0px; width: 0px; border: 0px;\"></iframe><iframe name=\"__uspapiLocator\" style=\"display: none;\"></iframe><img src=\"https://ad-delivery.net/px.gif?ch=2\" style=\"display: none !important; width: 1px !important; height: 1px !important;\"><img src=\"https://ad.doubleclick.net/favicon.ico?ad=300x250&amp;ad_box_=1&amp;adnet=1&amp;showad=1&amp;size=250x250\" style=\"display: none !important; width: 1px !important; height: 1px !important;\"><img src=\"https://ad-delivery.net/px.gif?ch=1&amp;e=0.8789079725442739\" style=\"display: none !important; width: 1px !important; height: 1px !important;\"><style>\\n    .na-float-hidden {\\n        visibility: hidden;\\n        opacity: 0;\\n        transition: visibility 0s 1s, opacity 1s linear;\\n    }\\n\\n    .na-float-visible {\\n        visibility: visible;\\n        opacity: 1;\\n        * {\\n            position: static;\\n        }\\n    }</style><div id=\"cake-video-nitro\" class=\"na-float-hidden\" style=\"width: 300px; height: 169px; position: fixed; border-radius: 5px; z-index: 2147483645; right: 25px; bottom: 10px;\"></div><div id=\"nitro-float-close\" data-pin-nopin=\"true\" aria-label=\"Dismiss\" style=\"background-image: url(&quot;data:image/svg+xml;base64,PHN2ZyBmaWxsPSIjZmZmZmZmIiB3aWR0aD0iODAwcHgiIGhlaWdodD0iODAwcHgiIHZpZXdCb3g9IjAgMCAxNiAxNiIgeG1sbnM9Imh0dHA6Ly93d3cudzMub3JnLzIwMDAvc3ZnIj48Zz48cG9seWdvbiBwb2ludHM9IjEzLjYzIDMuNjUgMTIuMzUgMi4zOCA4IDYuNzMgMy42NCAyLjM4IDIuMzcgMy42NSA2LjcyIDguMDEgMi4zOCAxMi4zNSAzLjY1IDEzLjYzIDggOS4yOCAxMi4zNSAxMy42NCAxMy42MyAxMi4zNiA5LjI3IDguMDEgMTMuNjMgMy42NSIvPjwvZz48L3N2Zz4=&quot;); background-size: 14px 14px; background-repeat: no-repeat; background-position: center center; background-color: rgb(0, 0, 0); position: fixed; display: none; cursor: pointer; z-index: 2147483647; margin: 0px; padding: 0px; width: 22px; height: 22px; opacity: 0.8; border-radius: 4px; bottom: 185px; right: 23px;\"></div>\\n<script>(function(){function c(){var b=a.contentDocument||a.contentWindow.document;if(b){var d=b.createElement(\\'script\\');d.innerHTML=\"window.__CF$cv$params={r:\\'948aa7e86ecb1b9a\\',t:\\'MTc0ODczODM4OC4wMDAwMDA=\\'};var a=document.createElement(\\'script\\');a.nonce=\\'\\';a.src=\\'/cdn-cgi/challenge-platform/scripts/jsd/main.js\\';document.getElementsByTagName(\\'head\\')[0].appendChild(a);\";b.getElementsByTagName(\\'head\\')[0].appendChild(d)}}if(document.body){var a=document.createElement(\\'iframe\\');a.height=1;a.width=1;a.style.position=\\'absolute\\';a.style.top=0;a.style.left=0;a.style.border=\\'none\\';a.style.visibility=\\'hidden\\';document.body.appendChild(a);if(\\'loading\\'!==document.readyState)c();else if(window.addEventListener)document.addEventListener(\\'DOMContentLoaded\\',c);else{var e=document.onreadystatechange||function(){};document.onreadystatechange=function(b){e(b);\\'loading\\'!==document.readyState&&(document.onreadystatechange=e,c())}}}})();</script><iframe height=\"1\" width=\"1\" style=\"position: absolute; top: 0px; left: 0px; border: none; visibility: hidden;\"></iframe>\\n\\n<div id=\"cake-anchor\" class=\"na-anchor-bottom\" style=\"z-index: 99997; position: fixed; width: 100%; max-width: 100vw; font-size: 0px; background-color: rgba(37, 40, 48, 0.8); bottom: 0px; left: 0px; padding-top: 10px; transition: bottom 0.15s linear;\"></div><div id=\"cake-anchor-close\" style=\"position: fixed; left: calc(50% + 176px); display: none; align-items: center; justify-content: center; font-size: 0px; cursor: pointer; z-index: 99999; opacity: 0.8; width: 44px; height: 44px; transition: bottom 0.15s linear;\"><img src=\"https://s.nitropay.com/assets/close2.svg\" style=\"width: 16px;\"></div><div id=\"ncmp__tool\" class=\"ncmp__normalise\"><div class=\"ncmp__banner ncmp__banner-web ncmp__active\">\\n    \\n        <div class=\"ncmp__banner-inner\">\\n    \\n        <div class=\"ncmp__language\">\\n            <a href=\"javascript:;\" target=\"_self\" class=\"ncmp__language-picker\">\\n                <img src=\"https://s.nitropay.com/cmp/lang.png\" alt=\"Language Picker\" height=\"18\" width=\"16\">\\n                <span>English</span>\\n            </a>\\n            <div class=\"ncmp__language-list\">\\n                <a href=\"javascript:;\" target=\"_self\" class=\"ncmp__language-close\">\\n                    <img src=\"https://s.nitropay.com/cmp/cancel.png\" alt=\"Close Language Picker\" height=\"18\" width=\"18\">\\n                </a>\\n                <ul>\\n                    \\n                    <li><a href=\"javascript:;\" target=\"_self\" onclick=\"__npcmp(\\'language\\').set(\\'de\\')\">Deutsch</a></li>\\n                    \\n                    <li><a href=\"javascript:;\" target=\"_self\" onclick=\"__npcmp(\\'language\\').set(\\'en\\')\">English</a></li>\\n                    \\n                    <li><a href=\"javascript:;\" target=\"_self\" onclick=\"__npcmp(\\'language\\').set(\\'es\\')\">Español</a></li>\\n                    \\n                    <li><a href=\"javascript:;\" target=\"_self\" onclick=\"__npcmp(\\'language\\').set(\\'fr\\')\">Français</a></li>\\n                    \\n                    <li><a href=\"javascript:;\" target=\"_self\" onclick=\"__npcmp(\\'language\\').set(\\'it\\')\">Italiano</a></li>\\n                    \\n                    <li><a href=\"javascript:;\" target=\"_self\" onclick=\"__npcmp(\\'language\\').set(\\'nl\\')\">Nederlands</a></li>\\n                    \\n                    <li><a href=\"javascript:;\" target=\"_self\" onclick=\"__npcmp(\\'language\\').set(\\'pl\\')\">Polski</a></li>\\n                    \\n                    <li><a href=\"javascript:;\" target=\"_self\" onclick=\"__npcmp(\\'language\\').set(\\'pt\\')\">Português</a></li>\\n                    \\n                    <li><a href=\"javascript:;\" target=\"_self\" onclick=\"__npcmp(\\'language\\').set(\\'ro\\')\">Limba română</a></li>\\n                    \\n                </ul>\\n            </div>\\n        </div>\\n\\n        <div class=\"ncmp__banner-info\">\\n            <div class=\"ncmp__banner-sections\">\\n                <div class=\"ncmp__banner-section-1\">\\n                    <h2>You control your privacy</h2>\\n                    \\n                    <p>We and up to <a href=\"javascript:;\" target=\"_self\" onclick=\"__npcmp(\\'showModal\\').navigate(\\'vendors\\')\">1000 vendors</a> process, store and/or access personal data from you and your device. This data can include your type of browser, settings, cookies, unique identifiers, IP address, and geo location. Your consent can be updated or withdrawn at any time by clicking the link in our privacy policy or footer.</p>\\n                </div>\\n\\n                <div class=\"ncmp__banner-section-2\">\\n                    <p class=\"ncmp__banner-emphasis\">\\n                        We\\'re requesting consent to offer:\\n                        <strong>Personalised advertising and content, advertising and content measurement, audience research and services development</strong>\\n                    </p>\\n\\n                    <p>\\n                        Advertising and content can be personalised based on your profile. Your activity on this service can be used to build or improve a profile about you for personalised advertising and content. Advertising and content performance can be measured. Reports can be generated based on your activity and those of others. Your activity on this service can help develop and improve products and services.\\n                    </p>\\n\\n                    \\n                </div>\\n            </div>\\n        </div>\\n\\n        <div class=\"ncmp__banner-actions\">\\n            \\n            <div class=\"ncmp__banner-btns\">\\n                <button onclick=\"__npcmp(\\'showModal\\')\" class=\"ncmp__btn ncmp__btn-border\">\\n                    Advanced Settings\\n                </button>\\n                <button onclick=\"__npcmp(\\'save\\')\" class=\"ncmp__btn\">\\n                    Accept\\n                </button>\\n            </div>\\n            \\n\\n            <div class=\"ncmp__banner-consent\">\\n                <div class=\"ncmp__banner-branding-btn\">\\n                    <a href=\"https://nitropay.com\" target=\"_blank\" rel=\"noopener\">\\n                        <img src=\"https://s.nitropay.com/cmp/logo.png\" alt=\"NitroPay\" height=\"14\" width=\"18\">\\n                    </a>\\n                </div>\\n                <p>\\n                    Your consents are specific to this site &amp; device.\\n                </p>\\n            </div>\\n        </div>\\n\\n        \\n    </div>\\n</div>\\n</div><div id=\"fb-root\" class=\" fb_reset\"><div style=\"position: absolute; top: -10000px; width: 0px; height: 0px;\"><div></div></div></div><iframe name=\"__privateStripeMetricsController0110\" frameborder=\"0\" allowtransparency=\"true\" scrolling=\"no\" role=\"presentation\" allow=\"payment *\" src=\"https://js.stripe.com/v3/m-outer-3437aaddcdf6922d623e172c2d6f9278.html#url=https%3A%2F%2Fchallonge.com%2FEUAC35&amp;title=EU%20ARMS%20Challenge%20%2335%20-%20Challonge&amp;referrer=&amp;muid=NA&amp;sid=NA&amp;version=6&amp;preview=false&amp;__shared_params__[version]=v3\" aria-hidden=\"true\" tabindex=\"-1\" style=\"border: none !important; margin: 0px !important; padding: 0px !important; width: 1px !important; min-width: 100% !important; overflow: hidden !important; display: block !important; visibility: hidden !important; position: fixed !important; height: 1px !important; pointer-events: none !important; user-select: none !important;\"></iframe></body></html>'"
      ]
     },
     "execution_count": 10,
     "metadata": {},
     "output_type": "execute_result"
    }
   ],
   "source": [
    "html"
   ]
  },
  {
   "cell_type": "code",
   "execution_count": 11,
   "id": "61c439f1",
   "metadata": {},
   "outputs": [],
   "source": [
    "soup = BeautifulSoup(html, \"html.parser\")"
   ]
  },
  {
   "cell_type": "code",
   "execution_count": 12,
   "id": "7035f267",
   "metadata": {
    "scrolled": false
   },
   "outputs": [
    {
     "name": "stdout",
     "output_type": "stream",
     "text": [
      "ser\":false,\"player1_placeholder_text\":null,\"player2_placeholder_text\":null,\"scores\":[3,2],\"winner_id\":108165794,\"loser_id\":107792038,\"md5\":\"a85a89fd8e0a5c538efd352003249c37\"}]},\"groups\":[]}; window._initialStoreState['ThemeStore'] = {\"options\":{\"hideSeeds\":false,\"hideIdentifiers\":null,\"showStationAndTime\":false,\"participantsPerMatch\":2}}; window._initialStoreState['BracketSettingsStore'] = {\"panOnSingleClick\":false,\"zoomScaleOnDoubleClick\":null,\"use100vh\":false,\"showDetailsOnHover\":true};\n",
      "//]]>\n",
      "\n"
     ]
    }
   ],
   "source": [
    "# Find all the script tags\n",
    "scripts = soup.find_all(\"script\")\n",
    "\n",
    "# Searching for \"participants\" and \"matches\" like what we use in Challonge's api\n",
    "for tag in scripts:\n",
    "    if \"participants\" in tag.text and \"matches\" in tag.text:\n",
    "        print(tag.text[-500:])"
   ]
  },
  {
   "cell_type": "markdown",
   "id": "ea4926f1",
   "metadata": {},
   "source": [
    "Data is in there"
   ]
  },
  {
   "cell_type": "code",
   "execution_count": 13,
   "id": "e3c9bf53",
   "metadata": {},
   "outputs": [
    {
     "data": {
      "text/plain": [
       "[<script async=\"\" crossorigin=\"anonymous\" src=\"https://connect.facebook.net/en_US/sdk.js?hash=a973b7825e1b704385951048b98f4a2c\"></script>,\n",
       " <script src=\"https://cdn.hadronid.net/hadron.js?url=https%3A%2F%2Fchallonge.com%2FEUAC35&amp;ref=&amp;_it=amazon&amp;partner_id=720\"></script>,\n",
       " <script id=\"facebook-jssdk\" src=\"//connect.facebook.net/en_US/sdk.js\"></script>,\n",
       " <script async=\"\" src=\"https://www.google-analytics.com/analytics.js\"></script>,\n",
       " <script>\n",
       "   // redirect XBC clients to the XSplit plugin page\n",
       "   if (navigator.userAgent.indexOf(\"XSplit\") > 0) {\n",
       "     window.location = '/EUAC35/xsplit';\n",
       "   }\n",
       " </script>,\n",
       " <script async=\"\" src=\"https://www.googletagmanager.com/gtag/js?id=G-1EEPZLM6JC\"></script>,\n",
       " <script type=\"text/javascript\">\n",
       "     function readCookie(name) {\n",
       "       var nameEQ = name + \"=\";\n",
       "       var ca = document.cookie.split(';');\n",
       "       for(var i=0;i < ca.length;i++) {\n",
       "         var c = ca[i];\n",
       "         while (c.charAt(0)==' ') c = c.substring(1,c.length);\n",
       "         if (c.indexOf(nameEQ) == 0) return c.substring(nameEQ.length,c.length);\n",
       "       }\n",
       "       return null;\n",
       "     }\n",
       " \n",
       "     (function(i,s,o,g,r,a,m){i['GoogleAnalyticsObject']=r;i[r]=i[r]||function(){\n",
       "     (i[r].q=i[r].q||[]).push(arguments)},i[r].l=1*new Date();a=s.createElement(o),\n",
       "     m=s.getElementsByTagName(o)[0];a.async=1;a.src=g;m.parentNode.insertBefore(a,m)\n",
       "     })(window,document,'script','https://www.google-analytics.com/analytics.js','ga');\n",
       " \n",
       "     ga('create', 'UA-2701080-3', 'auto');\n",
       " \n",
       "     // Set User-ID if logged in\n",
       "     var uid = readCookie('_cuid');\n",
       "     if (uid) { ga('set', 'userId', uid); }\n",
       " \n",
       "     ga('send', 'pageview');\n",
       " \n",
       "     // GA4\n",
       "     window.dataLayer = window.dataLayer || [];\n",
       "     function gtag(){dataLayer.push(arguments);}\n",
       "     gtag('js', new Date());\n",
       " \n",
       "     // Set User-ID if logged in\n",
       "     // var uid = readCookie('_cuid'); // already set above\n",
       " \n",
       "     if (uid) {\n",
       "       gtag('config', 'G-1EEPZLM6JC', { 'user_id': uid });\n",
       "     } else {\n",
       "       gtag('config', 'G-1EEPZLM6JC');\n",
       "     }\n",
       "   </script>,\n",
       " <script data-cfasync=\"false\" data-demo=\"false\">window.nitroAds=window.nitroAds||{createAd:function(){return new Promise(e=>{window.nitroAds.queue.push([\"createAd\",arguments,e])})},addUserToken:function(){window.nitroAds.queue.push([\"addUserToken\",arguments])},queue:[]};\n",
       "     </script>,\n",
       " <script async=\"\" data-cfasync=\"false\" data-demo=\"false\" src=\"https://s.nitropay.com/ads-74.js\"></script>,\n",
       " <script src=\"https://js.stripe.com/v3/\"></script>,\n",
       " <script async=\"\" id=\"nitroads-bt\" src=\"https://btloader.com/tag?o=6278260873756672&amp;upapi=true\" type=\"text/javascript\"></script>,\n",
       " <script async=\"\" defer=\"\" id=\"nitro-lr\" src=\"https://ats-wrapper.privacymanager.io/ats-modules/438cb908-ed61-41e9-b716-05d5f4122a64/ats.js\" type=\"text/javascript\"></script>,\n",
       " <script async=\"\" id=\"nitro-gpt\" src=\"https://securepubads.g.doubleclick.net/tag/js/gpt.js\" type=\"text/javascript\"></script>,\n",
       " <script async=\"\" src=\"//s.nitropay.com/gpp-b4dfd58.min.js\" type=\"text/javascript\"></script>,\n",
       " <script async=\"\" src=\"//c.amazon-adsystem.com/aax2/apstag.js\" type=\"text/javascript\"></script>,\n",
       " <script async=\"\" src=\"https://securepubads.g.doubleclick.net/pagead/managed/js/gpt/m202505220101/pubads_impl.js?cb=31092652\"></script>,\n",
       " <script async=\"async\" src=\"https://config.aps.amazon-adsystem.com/configs/da657530-03e5-4306-95bc-d4eb370426c9\" type=\"text/javascript\"></script>,\n",
       " <script async=\"\" class=\"nitro-comscore\" src=\"https://sb.scorecardresearch.com/cs/20631572/beacon.js\"></script>,\n",
       " <script src=\"//secure.cdn.fastclick.net/js/pubcid/latest/pubcid.min.js\"></script>,\n",
       " <script src=\"https://tags.crwdcntrl.net/lt/c/16576/sync.min.js\"></script>,\n",
       " <script src=\"//cdn.id5-sync.com/api/1.0/id5-api.js\"></script>,\n",
       " <script>\n",
       "   function gCsldkfj(n){for(var r=n+\"=\",t=document.cookie.split(\";\"),e=0;e<t.length;e++){for(var i=t[e];\" \"==i.charAt(0);)i=i.substring(1,i.length);if(0==i.indexOf(r))return i.substring(r.length,i.length)}return null}\n",
       "   var _sc = gCsldkfj('_ck'); if (_sc === \"false\") { var _rw = document.getElementsByClassName('redesign-wrapper')[0]; _rw.classList.add('-cakeless'); }\n",
       " </script>,\n",
       " <script>\n",
       "   var _menuState=localStorage.getItem('menu-state');if(_menuState==='closed'){document.getElementsByClassName('redesign-menu')[0].classList.add('-collapsed');}\n",
       " </script>,\n",
       " <script>\n",
       " //<![CDATA[\n",
       " if (window._initialStoreState === undefined) window._initialStoreState = {}; window._initialStoreState['CurrentUserStore'] = {\"locale\":\"en\",\"is_superadmin\":false}; window._initialStoreState['TournamentStore'] = {\"requested_plotter\":\"DoubleEliminationBracketPlotter\",\"tournament\":{\"id\":7698516,\"state\":\"complete\",\"tournament_type\":\"double elimination\",\"quick_advance\":false,\"hide_seeds\":false,\"hide_identifiers\":false,\"show_station_and_time\":false,\"animated\":true,\"accept_attachments\":false,\"participant_count_to_advance\":1,\"owner_ids\":[2405407,2405407],\"admin_ids\":[2405407,2392308,2533091,2670839,2405407],\"participants_swappable\":false,\"progress_meter\":100,\"group_stage_progress_meter\":0,\"grand_finals_modifier\":null,\"predict_the_losers_bracket\":false,\"voting_underway\":false,\"is_team\":false,\"split_participants\":false,\"participants_per_match\":2,\"only_start_matches_with_stations\":null},\"rounds\":[{\"id\":null,\"stage_type\":\"Tournament\",\"stage_id\":7698516,\"number\":1,\"title\":\"Round 1\",\"description\":null,\"best_of\":1,\"created_at\":null,\"updated_at\":null,\"group_index\":null,\"title_lines\":[\"Round 1\"],\"href\":\"/tournaments/7698516/rounds/new_or_edit?number=1\\u0026title=Round+1\"},{\"id\":null,\"stage_type\":\"Tournament\",\"stage_id\":7698516,\"number\":2,\"title\":\"Round 2\",\"description\":null,\"best_of\":1,\"created_at\":null,\"updated_at\":null,\"group_index\":null,\"title_lines\":[\"Round 2\"],\"href\":\"/tournaments/7698516/rounds/new_or_edit?number=2\\u0026title=Round+2\"},{\"id\":null,\"stage_type\":\"Tournament\",\"stage_id\":7698516,\"number\":3,\"title\":\"Semifinals\",\"description\":null,\"best_of\":1,\"created_at\":null,\"updated_at\":null,\"group_index\":null,\"title_lines\":[\"Semifinals\"],\"href\":\"/tournaments/7698516/rounds/new_or_edit?number=3\\u0026title=Semifinals\"},{\"id\":null,\"stage_type\":\"Tournament\",\"stage_id\":7698516,\"number\":4,\"title\":\"Finals\",\"description\":null,\"best_of\":1,\"created_at\":null,\"updated_at\":null,\"group_index\":null,\"title_lines\":[\"Finals\"],\"href\":\"/tournaments/7698516/rounds/new_or_edit?number=4\\u0026title=Finals\"},{\"id\":null,\"stage_type\":\"Tournament\",\"stage_id\":7698516,\"number\":-1,\"title\":\"Losers Round 1\",\"description\":null,\"best_of\":1,\"created_at\":null,\"updated_at\":null,\"group_index\":null,\"title_lines\":[\"Losers Round 1\"],\"href\":\"/tournaments/7698516/rounds/new_or_edit?number=-1\\u0026title=Losers+Round+1\"},{\"id\":null,\"stage_type\":\"Tournament\",\"stage_id\":7698516,\"number\":-2,\"title\":\"Losers Round 2\",\"description\":null,\"best_of\":1,\"created_at\":null,\"updated_at\":null,\"group_index\":null,\"title_lines\":[\"Losers Round 2\"],\"href\":\"/tournaments/7698516/rounds/new_or_edit?number=-2\\u0026title=Losers+Round+2\"},{\"id\":null,\"stage_type\":\"Tournament\",\"stage_id\":7698516,\"number\":-3,\"title\":\"Losers Round 3\",\"description\":null,\"best_of\":1,\"created_at\":null,\"updated_at\":null,\"group_index\":null,\"title_lines\":[\"Losers Round 3\"],\"href\":\"/tournaments/7698516/rounds/new_or_edit?number=-3\\u0026title=Losers+Round+3\"}],\"third_place_match\":null,\"consolation_matches\":[],\"matches_by_round\":{\"1\":[{\"id\":178584013,\"tournament_id\":7698516,\"identifier\":1,\"raw_identifier\":\"A\",\"round\":1,\"state\":\"complete\",\"underway_at\":null,\"games\":[[1,2]],\"editable_by_user_ids\":[],\"has_attachment\":false,\"is_group_match\":false,\"forfeited\":null,\"station\":null,\"queued_for_station\":null,\"scheduled_time\":null,\"shareable\":false,\"has_chat\":false,\"player1\":{\"id\":107876180,\"seed\":4,\"display_name\":\"Yam\",\"portrait_url\":\"https://s3.amazonaws.com/challonge_app/users/images/003/149/531/large/28004.png\",\"participant_id\":null,\"quick_added\":true,\"team_members\":null,\"active\":true,\"misc\":null,\"integration_uids\":null},\"player2\":{\"id\":107827464,\"seed\":5,\"display_name\":\"ocrim_ger\",\"portrait_url\":\"https://s3.amazonaws.com/challonge_app/users/images/002/392/308/large/Dragon_Slayer.png\",\"participant_id\":null,\"quick_added\":true,\"team_members\":null,\"active\":true,\"misc\":null,\"integration_uids\":null},\"player1_prereq_identifier\":null,\"player2_prereq_identifier\":null,\"player1_is_prereq_match_loser\":false,\"player2_is_prereq_match_loser\":false,\"player1_placeholder_text\":null,\"player2_placeholder_text\":null,\"scores\":[1,2],\"winner_id\":107827464,\"loser_id\":107876180,\"md5\":\"098d418f661d2a226aa701a79c9f26e3\"},{\"id\":178584014,\"tournament_id\":7698516,\"identifier\":2,\"raw_identifier\":\"B\",\"round\":1,\"state\":\"complete\",\"underway_at\":null,\"games\":[[2,0]],\"editable_by_user_ids\":[],\"has_attachment\":false,\"is_group_match\":false,\"forfeited\":null,\"station\":null,\"queued_for_station\":null,\"scheduled_time\":null,\"shareable\":false,\"has_chat\":false,\"player1\":{\"id\":108165544,\"seed\":3,\"display_name\":\"Iceman92\",\"portrait_url\":\"https://s3.amazonaws.com/challonge_app/users/images/002/521/004/large/IMG_20191112_182518.png\",\"participant_id\":null,\"quick_added\":true,\"team_members\":null,\"active\":true,\"misc\":null,\"integration_uids\":null},\"player2\":{\"id\":107772816,\"seed\":6,\"display_name\":\"YoshiBowser\",\"portrait_url\":\"https://s3.amazonaws.com/challonge_app/users/images/003/057/118/large/BnBsmall.png\",\"participant_id\":null,\"quick_added\":true,\"team_members\":null,\"active\":true,\"misc\":null,\"integration_uids\":null},\"player1_prereq_identifier\":null,\"player2_prereq_identifier\":null,\"player1_is_prereq_match_loser\":false,\"player2_is_prereq_match_loser\":false,\"player1_placeholder_text\":null,\"player2_placeholder_text\":null,\"scores\":[2,0],\"winner_id\":108165544,\"loser_id\":107772816,\"md5\":\"d910791317c6b7dfbf5ff22eaa7c379d\"}],\"2\":[{\"id\":178584015,\"tournament_id\":7698516,\"identifier\":3,\"raw_identifier\":\"C\",\"round\":2,\"state\":\"complete\",\"underway_at\":null,\"games\":[[2,0]],\"editable_by_user_ids\":[],\"has_attachment\":false,\"is_group_match\":false,\"forfeited\":null,\"station\":null,\"queued_for_station\":null,\"scheduled_time\":null,\"shareable\":false,\"has_chat\":false,\"player1\":{\"id\":107792038,\"seed\":1,\"display_name\":\"Grimwood96\",\"portrait_url\":\"https://s3.amazonaws.com/challonge_app/users/images/001/897/663/large/1725714_1.png\",\"participant_id\":null,\"quick_added\":true,\"team_members\":null,\"active\":true,\"misc\":null,\"integration_uids\":null},\"player2\":{\"id\":107827464,\"seed\":5,\"display_name\":\"ocrim_ger\",\"portrait_url\":\"https://s3.amazonaws.com/challonge_app/users/images/002/392/308/large/Dragon_Slayer.png\",\"participant_id\":null,\"quick_added\":true,\"team_members\":null,\"active\":true,\"misc\":null,\"integration_uids\":null},\"player1_prereq_identifier\":null,\"player2_prereq_identifier\":1,\"player1_is_prereq_match_loser\":false,\"player2_is_prereq_match_loser\":false,\"player1_placeholder_text\":null,\"player2_placeholder_text\":null,\"scores\":[2,0],\"winner_id\":107792038,\"loser_id\":107827464,\"md5\":\"9219746c85d37da5e71baa41e1345bb9\"},{\"id\":178584016,\"tournament_id\":7698516,\"identifier\":4,\"raw_identifier\":\"D\",\"round\":2,\"state\":\"complete\",\"underway_at\":null,\"games\":[[2,0]],\"editable_by_user_ids\":[],\"has_attachment\":false,\"is_group_match\":false,\"forfeited\":null,\"station\":null,\"queued_for_station\":null,\"scheduled_time\":null,\"shareable\":false,\"has_chat\":false,\"player1\":{\"id\":108165794,\"seed\":2,\"display_name\":\"replicant\",\"portrait_url\":\"https://s3.amazonaws.com/challonge_app/users/images/002/363/206/large/TpXZqrgB_400x400.png\",\"participant_id\":null,\"quick_added\":true,\"team_members\":null,\"active\":true,\"misc\":null,\"integration_uids\":null},\"player2\":{\"id\":108165544,\"seed\":3,\"display_name\":\"Iceman92\",\"portrait_url\":\"https://s3.amazonaws.com/challonge_app/users/images/002/521/004/large/IMG_20191112_182518.png\",\"participant_id\":null,\"quick_added\":true,\"team_members\":null,\"active\":true,\"misc\":null,\"integration_uids\":null},\"player1_prereq_identifier\":null,\"player2_prereq_identifier\":2,\"player1_is_prereq_match_loser\":false,\"player2_is_prereq_match_loser\":false,\"player1_placeholder_text\":null,\"player2_placeholder_text\":null,\"scores\":[2,0],\"winner_id\":108165794,\"loser_id\":108165544,\"md5\":\"5840c38d2b6710baac5eff9f579d81d1\"}],\"3\":[{\"id\":178584017,\"tournament_id\":7698516,\"identifier\":8,\"raw_identifier\":\"E\",\"round\":3,\"state\":\"complete\",\"underway_at\":null,\"games\":[[1,3]],\"editable_by_user_ids\":[],\"has_attachment\":false,\"is_group_match\":false,\"forfeited\":null,\"station\":null,\"queued_for_station\":null,\"scheduled_time\":null,\"shareable\":false,\"has_chat\":false,\"player1\":{\"id\":107792038,\"seed\":1,\"display_name\":\"Grimwood96\",\"portrait_url\":\"https://s3.amazonaws.com/challonge_app/users/images/001/897/663/large/1725714_1.png\",\"participant_id\":null,\"quick_added\":true,\"team_members\":null,\"active\":true,\"misc\":null,\"integration_uids\":null},\"player2\":{\"id\":108165794,\"seed\":2,\"display_name\":\"replicant\",\"portrait_url\":\"https://s3.amazonaws.com/challonge_app/users/images/002/363/206/large/TpXZqrgB_400x400.png\",\"participant_id\":null,\"quick_added\":true,\"team_members\":null,\"active\":true,\"misc\":null,\"integration_uids\":null},\"player1_prereq_identifier\":3,\"player2_prereq_identifier\":4,\"player1_is_prereq_match_loser\":false,\"player2_is_prereq_match_loser\":false,\"player1_placeholder_text\":null,\"player2_placeholder_text\":null,\"scores\":[1,3],\"winner_id\":108165794,\"loser_id\":107792038,\"md5\":\"42b567e877b65079c5d585d692a05f73\"}],\"-1\":[{\"id\":178584018,\"tournament_id\":7698516,\"identifier\":6,\"raw_identifier\":\"H\",\"round\":-1,\"state\":\"complete\",\"underway_at\":null,\"games\":[[1,2]],\"editable_by_user_ids\":[],\"has_attachment\":false,\"is_group_match\":false,\"forfeited\":null,\"station\":null,\"queued_for_station\":null,\"scheduled_time\":null,\"shareable\":false,\"has_chat\":false,\"player1\":{\"id\":108165544,\"seed\":3,\"display_name\":\"Iceman92\",\"portrait_url\":\"https://s3.amazonaws.com/challonge_app/users/images/002/521/004/large/IMG_20191112_182518.png\",\"participant_id\":null,\"quick_added\":true,\"team_members\":null,\"active\":true,\"misc\":null,\"integration_uids\":null},\"player2\":{\"id\":107876180,\"seed\":4,\"display_name\":\"Yam\",\"portrait_url\":\"https://s3.amazonaws.com/challonge_app/users/images/003/149/531/large/28004.png\",\"participant_id\":null,\"quick_added\":true,\"team_members\":null,\"active\":true,\"misc\":null,\"integration_uids\":null},\"player1_prereq_identifier\":4,\"player2_prereq_identifier\":1,\"player1_is_prereq_match_loser\":true,\"player2_is_prereq_match_loser\":true,\"player1_placeholder_text\":null,\"player2_placeholder_text\":null,\"scores\":[1,2],\"winner_id\":107876180,\"loser_id\":108165544,\"md5\":\"d76161721ce076f45d933c9e138062dd\"},{\"id\":178584019,\"tournament_id\":7698516,\"identifier\":5,\"raw_identifier\":\"I\",\"round\":-1,\"state\":\"complete\",\"underway_at\":null,\"games\":[[2,0]],\"editable_by_user_ids\":[],\"has_attachment\":false,\"is_group_match\":false,\"forfeited\":null,\"station\":null,\"queued_for_station\":null,\"scheduled_time\":null,\"shareable\":false,\"has_chat\":false,\"player1\":{\"id\":107827464,\"seed\":5,\"display_name\":\"ocrim_ger\",\"portrait_url\":\"https://s3.amazonaws.com/challonge_app/users/images/002/392/308/large/Dragon_Slayer.png\",\"participant_id\":null,\"quick_added\":true,\"team_members\":null,\"active\":true,\"misc\":null,\"integration_uids\":null},\"player2\":{\"id\":107772816,\"seed\":6,\"display_name\":\"YoshiBowser\",\"portrait_url\":\"https://s3.amazonaws.com/challonge_app/users/images/003/057/118/large/BnBsmall.png\",\"participant_id\":null,\"quick_added\":true,\"team_members\":null,\"active\":true,\"misc\":null,\"integration_uids\":null},\"player1_prereq_identifier\":3,\"player2_prereq_identifier\":2,\"player1_is_prereq_match_loser\":true,\"player2_is_prereq_match_loser\":true,\"player1_placeholder_text\":null,\"player2_placeholder_text\":null,\"scores\":[2,0],\"winner_id\":107827464,\"loser_id\":107772816,\"md5\":\"7ee06ef006d2d3f6df9267bba7ac3437\"}],\"-2\":[{\"id\":178584020,\"tournament_id\":7698516,\"identifier\":7,\"raw_identifier\":\"J\",\"round\":-2,\"state\":\"complete\",\"underway_at\":null,\"games\":[[2,0]],\"editable_by_user_ids\":[],\"has_attachment\":false,\"is_group_match\":false,\"forfeited\":null,\"station\":null,\"queued_for_station\":null,\"scheduled_time\":null,\"shareable\":false,\"has_chat\":false,\"player1\":{\"id\":107876180,\"seed\":4,\"display_name\":\"Yam\",\"portrait_url\":\"https://s3.amazonaws.com/challonge_app/users/images/003/149/531/large/28004.png\",\"participant_id\":null,\"quick_added\":true,\"team_members\":null,\"active\":true,\"misc\":null,\"integration_uids\":null},\"player2\":{\"id\":107827464,\"seed\":5,\"display_name\":\"ocrim_ger\",\"portrait_url\":\"https://s3.amazonaws.com/challonge_app/users/images/002/392/308/large/Dragon_Slayer.png\",\"participant_id\":null,\"quick_added\":true,\"team_members\":null,\"active\":true,\"misc\":null,\"integration_uids\":null},\"player1_prereq_identifier\":6,\"player2_prereq_identifier\":5,\"player1_is_prereq_match_loser\":false,\"player2_is_prereq_match_loser\":false,\"player1_placeholder_text\":null,\"player2_placeholder_text\":null,\"scores\":[2,0],\"winner_id\":107876180,\"loser_id\":107827464,\"md5\":\"2d92bf835975d0c4c2352e616de4d171\"}],\"-3\":[{\"id\":178584021,\"tournament_id\":7698516,\"identifier\":9,\"raw_identifier\":\"K\",\"round\":-3,\"state\":\"complete\",\"underway_at\":null,\"games\":[[3,1]],\"editable_by_user_ids\":[],\"has_attachment\":false,\"is_group_match\":false,\"forfeited\":null,\"station\":null,\"queued_for_station\":null,\"scheduled_time\":null,\"shareable\":false,\"has_chat\":false,\"player1\":{\"id\":107792038,\"seed\":1,\"display_name\":\"Grimwood96\",\"portrait_url\":\"https://s3.amazonaws.com/challonge_app/users/images/001/897/663/large/1725714_1.png\",\"participant_id\":null,\"quick_added\":true,\"team_members\":null,\"active\":true,\"misc\":null,\"integration_uids\":null},\"player2\":{\"id\":107876180,\"seed\":4,\"display_name\":\"Yam\",\"portrait_url\":\"https://s3.amazonaws.com/challonge_app/users/images/003/149/531/large/28004.png\",\"participant_id\":null,\"quick_added\":true,\"team_members\":null,\"active\":true,\"misc\":null,\"integration_uids\":null},\"player1_prereq_identifier\":8,\"player2_prereq_identifier\":7,\"player1_is_prereq_match_loser\":true,\"player2_is_prereq_match_loser\":false,\"player1_placeholder_text\":null,\"player2_placeholder_text\":null,\"scores\":[3,1],\"winner_id\":107792038,\"loser_id\":107876180,\"md5\":\"18c594d3b55655952eba556a1070c248\"}],\"4\":[{\"id\":178584022,\"tournament_id\":7698516,\"identifier\":10,\"raw_identifier\":\"F\",\"round\":4,\"state\":\"complete\",\"underway_at\":null,\"games\":[[3,2]],\"editable_by_user_ids\":[],\"has_attachment\":false,\"is_group_match\":false,\"forfeited\":null,\"station\":null,\"queued_for_station\":null,\"scheduled_time\":null,\"shareable\":false,\"has_chat\":false,\"player1\":{\"id\":108165794,\"seed\":2,\"display_name\":\"replicant\",\"portrait_url\":\"https://s3.amazonaws.com/challonge_app/users/images/002/363/206/large/TpXZqrgB_400x400.png\",\"participant_id\":null,\"quick_added\":true,\"team_members\":null,\"active\":true,\"misc\":null,\"integration_uids\":null},\"player2\":{\"id\":107792038,\"seed\":1,\"display_name\":\"Grimwood96\",\"portrait_url\":\"https://s3.amazonaws.com/challonge_app/users/images/001/897/663/large/1725714_1.png\",\"participant_id\":null,\"quick_added\":true,\"team_members\":null,\"active\":true,\"misc\":null,\"integration_uids\":null},\"player1_prereq_identifier\":8,\"player2_prereq_identifier\":9,\"player1_is_prereq_match_loser\":false,\"player2_is_prereq_match_loser\":false,\"player1_placeholder_text\":null,\"player2_placeholder_text\":null,\"scores\":[3,2],\"winner_id\":108165794,\"loser_id\":107792038,\"md5\":\"a85a89fd8e0a5c538efd352003249c37\"}]},\"groups\":[]}; window._initialStoreState['ThemeStore'] = {\"options\":{\"hideSeeds\":false,\"hideIdentifiers\":null,\"showStationAndTime\":false,\"participantsPerMatch\":2}}; window._initialStoreState['BracketSettingsStore'] = {\"panOnSingleClick\":false,\"zoomScaleOnDoubleClick\":null,\"use100vh\":false,\"showDetailsOnHover\":true};\n",
       " //]]>\n",
       " </script>,\n",
       " <script>window.gon = {};gon.targetingKeyValues={\"category\":\"Video Game - Fighting\",\"game\":\"Arms\"};gon.forceDeferredCallback=false;gon.participantUserIdMap={\"1897663\":107792038,\"2363206\":108165794,\"2521004\":108165544,\"3149531\":107876180,\"2392308\":107827464,\"3057118\":107772816};gon.adminIds=[2405407,2392308,2533091,2670839,2405407];</script>,\n",
       " <script src=\"https://assets.challonge.com/assets/packs/vendors-4045e9aac2505e47493bacf5432b6ee2123ac5c52efbc60a3a23176c2e55dad0.js\"></script>,\n",
       " <script src=\"https://assets.challonge.com/assets/packs/react-shared-445eeafc6ff2aec817de9240f5876e9aea6bccf814a8d4c4a847293433de3182.js\"></script>,\n",
       " <script src=\"https://assets.challonge.com/assets/packs/react-tournament-8658a11215af5402cf3d7694cb7a8f02ea5719967e8dcc5af88708a9d21c2049.js\"></script>,\n",
       " <script src=\"https://assets.challonge.com/assets/packs/react-tournament-form-80935488c426eb3b22c007ee319a8f922c10d868c0f63282ee029b09f2a55ba4.js\"></script>,\n",
       " <script src=\"https://assets.challonge.com/assets/application-da237e37c5e6e183067cb87b42a04e5a59b22893d3c54eb046ea246013596f68.js\"></script>,\n",
       " <script>\n",
       "   $('.link-clipboard-copy').click(function(e) {\n",
       "     e.preventDefault();\n",
       "     navigator.clipboard.writeText('https://challonge.com/EUAC35');\n",
       "     var $_clipCopyLink = $(e.target);\n",
       "     $_clipCopyLink.text('Copied!');\n",
       "     setTimeout(function() { $_clipCopyLink.text('Copy Link'); }, 1000);\n",
       "   });\n",
       " </script>,\n",
       " <script>\n",
       "   $(function() {\n",
       "     var $description = $('.tournament-description .redactor-editor');\n",
       "     if($description.prop('scrollHeight') > $description.height()) {\n",
       "       var $modalToggle = $('.tournament-description .modal-toggle');\n",
       "       $modalToggle.removeClass('hide');\n",
       "       $modalToggle.click(function() {\n",
       "         if ($description.hasClass('expanded')) {\n",
       "           $description.removeClass('expanded');\n",
       "           $modalToggle.text($modalToggle.data('compressed'));\n",
       "         }\n",
       "         else {\n",
       "           $description.addClass('expanded');\n",
       "           $modalToggle.text($modalToggle.data('expanded'));\n",
       "         }\n",
       "   \n",
       "         return false;\n",
       "       });\n",
       "     }\n",
       "   });\n",
       " </script>,\n",
       " <script>\n",
       "   $('.round-filters a').on('click', function(evt) {\n",
       "     let $roundFilter = $(evt.target)\n",
       "     let rounds = []\n",
       "   \n",
       "     if ($roundFilter.data('rounds')) {\n",
       "       rounds = $roundFilter.data('rounds').split(',').map(numStr => parseInt(numStr))\n",
       "     } else if ($roundFilter.attr('data-rounds') === '0') {\n",
       "       rounds = [0]\n",
       "     }\n",
       "   \n",
       "     ChallongeJSAPI.filterRounds(rounds)\n",
       "     $('.selected-round-filter').text($roundFilter.text())\n",
       "     evt.preventDefault()\n",
       "   })\n",
       " </script>,\n",
       " <script>\n",
       "   $('.embed-code-toggle').click(function() {\n",
       "     var $modal = $('.tournament-bracket-modal');\n",
       "     $('.modal-body', $modal).html($('.embed_code').html());\n",
       "     $modal.modal();\n",
       "     $('textarea:first', $modal).select();\n",
       "     return false;\n",
       "   });\n",
       " </script>,\n",
       " <script>\n",
       "   $('.full-screen-toggle').click(function() {\n",
       "     if(BigScreen.enabled) {\n",
       "       BigScreen.request($('.full-screen-target')[0]);\n",
       "       return false;\n",
       "     }\n",
       "     else {\n",
       "       return true;\n",
       "     }\n",
       "   });\n",
       " </script>,\n",
       " <script>\n",
       "   $(function() {\n",
       "     $('#module_code_toggle').click(function() {\n",
       "       $('#module_code').toggle();\n",
       "       return false;\n",
       "     });\n",
       "   });\n",
       "   \n",
       "   // hides announcement variant refer to shared/announcement_variant_#.haml\n",
       "   // check tournaments/show_deferred.js.haml for announcement behaviors\n",
       "   $(document).ready(function () {\n",
       "     var community = $('#announcement_variant_panel').data('community');\n",
       "     var permalink = $('#announcement_variant_panel').data('url');\n",
       "     var tournamentState = $('#announcement_variant_panel').data('tournament-state');\n",
       "     var localStorageKey = community + '-' + permalink + '-' + tournamentState\n",
       "     var showAlert = localStorage.getItem(localStorageKey) === null;\n",
       "     var url = 'EUAC35'\n",
       "   \n",
       "     if (showAlert) {\n",
       "       $('.cta-box').removeClass('hide');\n",
       "     }\n",
       "   \n",
       "     $('.cta-box .close').on('click', function() {\n",
       "       $('.cta-box').addClass('hide');\n",
       "       window.localStorage.setItem(localStorageKey, true);\n",
       "     })\n",
       "   \n",
       "     $('.alert .close').on('click', function() {\n",
       "       $('.alert').addClass('hide')\n",
       "       window.localStorage.setItem(localStorageKey, true)\n",
       "     })\n",
       "   })\n",
       " </script>,\n",
       " <script type=\"text/javascript\">\n",
       "     (function() {\n",
       "       if (typeof $.removeCookie !== \"undefined\") { \n",
       "         $.removeCookie('_show_cake', {domain: '.challonge.com'});\n",
       "         $.removeCookie('_show_cake');\n",
       "         $.removeCookie('_current_user_id');\n",
       "         $.removeCookie('_current_user_id', {domain: '.challonge.com'});\n",
       "         $.removeCookie('refresh_token', {domain: '.challonge.com'});\n",
       "       }\n",
       "     })();\n",
       "   </script>,\n",
       " <script type=\"text/javascript\">\n",
       "         (function() {\n",
       "           function loadAds (chakakhan = null) {\n",
       "             if (chakakhan) {\n",
       "               window['nitroAds'].addUserToken(chakakhan, 'SHA-256')\n",
       "             }\n",
       " \n",
       "             $('.cake-unit, .cake-twitch').removeClass('hide')\n",
       " \n",
       "             // write ad unit ids in data-id for each placement\n",
       "             $('.cake').each(function() {\n",
       "               var $cake = $(this)\n",
       "               var adId = $cake.attr('id')\n",
       " \n",
       "               if (adId === \"cake-top\") {\n",
       "                 window['nitroAds'].createAd(adId, {\n",
       "                   \"refreshTime\": 30,\n",
       "                   \"refreshLimit\": 0,\n",
       "                   \"renderVisibleOnly\": false,\n",
       "                   \"sizes\": [\n",
       "                     [\n",
       "                       \"970\",\n",
       "                       \"250\"\n",
       "                     ],\n",
       "                     [\n",
       "                       \"970\",\n",
       "                       \"90\"\n",
       "                     ],\n",
       "                     [\n",
       "                       \"728\",\n",
       "                       \"90\"\n",
       "                     ],\n",
       "                     [\n",
       "                       \"300\",\n",
       "                       \"250\"\n",
       "                     ]\n",
       "                   ],\n",
       "                   \"report\": {\n",
       "                     \"enabled\": true,\n",
       "                     \"icon\": false,\n",
       "                     \"wording\": \"Report Ad\",\n",
       "                     \"position\": \"bottom-right\"\n",
       "                   }\n",
       "                 });\n",
       "               } else if (adId === \"cake-inline\") {\n",
       "                 window['nitroAds'].createAd(adId, {\n",
       "                   \"refreshTime\": 30,\n",
       "                   \"refreshLimit\": 0,\n",
       "                   \"renderVisibleOnly\": false,\n",
       "                   \"sizes\": [\n",
       "                     [\n",
       "                       \"300\",\n",
       "                       \"250\"\n",
       "                     ],\n",
       "                     [\n",
       "                       \"320\",\n",
       "                       \"100\"\n",
       "                     ],\n",
       "                     [\n",
       "                       \"320\",\n",
       "                       \"50\"\n",
       "                     ]\n",
       "                   ],\n",
       "                   \"report\": {\n",
       "                     \"enabled\": true,\n",
       "                     \"icon\": false,\n",
       "                     \"wording\": \"Report Ad\",\n",
       "                     \"position\": \"bottom-right\"\n",
       "                   }\n",
       "                 });\n",
       "               } else if (adId === \"cake-anchor\") {\n",
       "                 window['nitroAds'].createAd(adId, {\n",
       "                   \"refreshTime\": 30,\n",
       "                   \"refreshLimit\": 0,\n",
       "                   \"format\": \"anchor\",\n",
       "                   \"anchor\": \"bottom\",\n",
       "                   \"anchorPersistClose\": false,\n",
       "                   \"mediaQuery\": \"(min-width: 0px)\",\n",
       "                   \"anchorBgColor\": \"rgb(37 40 48 / 80%)\",\n",
       "                   \"report\": {\n",
       "                     \"enabled\": true,\n",
       "                     \"icon\": false,\n",
       "                     \"wording\": \"Report Ad\",\n",
       "                     \"position\": \"top-left-side\"\n",
       "                   }\n",
       "                 });\n",
       "                } else if (adId === \"cake-video\") {\n",
       "                 window['nitroAds'].createAd('cake-video-nitro', {\n",
       "                   \"refreshTime\": 30,\n",
       "                   \"format\": \"floating\",\n",
       "                   \"report\": {\n",
       "                     \"enabled\": true,\n",
       "                     \"icon\": false,\n",
       "                     \"wording\": \"Report Ad\",\n",
       "                     \"position\": \"top-left\"\n",
       "                   },\n",
       "                   \"floating\": {\n",
       "                     reduceMobileSize: true,\n",
       "                   }\n",
       "                 });\n",
       "               } else if (adId === \"cake-footer\") {\n",
       "                 window['nitroAds'].createAd(adId, {\n",
       "                   \"refreshTime\": 30,\n",
       "                   \"refreshLimit\": 0,\n",
       "                   \"renderVisibleOnly\": true,\n",
       "                   \"report\": {\n",
       "                     \"enabled\": true,\n",
       "                     \"icon\": false,\n",
       "                     \"wording\": \"Report Ad\",\n",
       "                     \"position\": \"bottom-right\"\n",
       "                   }\n",
       "                 });\n",
       "               } else {\n",
       "                 window['nitroAds'].createAd(adId, {\n",
       "                   \"refreshTime\": 30,\n",
       "                   \"refreshLimit\": 0,\n",
       "                   \"renderVisibleOnly\": false,\n",
       "                   \"report\": {\n",
       "                     \"enabled\": true,\n",
       "                     \"icon\": false,\n",
       "                     \"wording\": \"Report Ad\",\n",
       "                     \"position\": \"bottom-right\"\n",
       "                   }\n",
       "                 });\n",
       "               }\n",
       "             })\n",
       "           }\n",
       " \n",
       "           // Decide if we should trigger the ad units or not\n",
       "           var notLoggedIn = ($.cookie('_cuid') === undefined)\n",
       "           var showCake = ($.cookie('_ck') === 'true')\n",
       "           var isDevMode = false\n",
       "           var chakakhan = $.cookie('_chak')\n",
       " \n",
       "           if (notLoggedIn || showCake) {\n",
       "             loadAds(chakakhan)\n",
       "           } else {\n",
       "             $.ajax({\n",
       "               url: \"/users/show_cake\",\n",
       "               method: \"GET\",\n",
       "               dataType: 'JSON',\n",
       "               accepts: 'application/json'\n",
       "             }).done(function(adLevel, textStatus, jqXHR) {\n",
       "               if(adLevel > 0) {\n",
       "                 loadAds(chakakhan)\n",
       "               }\n",
       "             }).fail(function(jqXHR, textStatus, errorThrown) {\n",
       "               loadAds(chakakhan)\n",
       "             })\n",
       "           }\n",
       "         })();\n",
       "       </script>,\n",
       " <script>\n",
       "   var $gutters = $('.redesign-left-gutter, .redesign-right-gutter')\n",
       "   \n",
       "   function fixGutters() {\n",
       "     if($gutters.css(\"position\") === \"absolute\") {\n",
       "       $gutters.css(\"height\", document.body.scrollHeight - 330)\n",
       "     } else {\n",
       "       $gutters.css(\"height\", \"\")\n",
       "     }\n",
       "   }\n",
       "   \n",
       "   $(window).on(\"resize\", function() {\n",
       "     fixGutters()\n",
       "   });\n",
       "   \n",
       "   // init\n",
       "   fixGutters();\n",
       " </script>,\n",
       " <script>\n",
       "   $('.redesign-menu-toggle a.toggle-close').click(function(){$menu=$('.redesign-menu');$menu.addClass('-transitioning -collapsed');setTimeout(function(){$menu.removeClass('-transitioning');},500);localStorage.setItem('menu-state','closed');return false;});\n",
       "   $('.redesign-menu-toggle a.toggle-open').click(function(){$menu=$('.redesign-menu');$menu.addClass('-transitioning').removeClass('-collapsed');setTimeout(function(){$menu.removeClass('-transitioning');},500);localStorage.setItem('menu-state','open');return false;});\n",
       " </script>,\n",
       " <script>\n",
       "   if(gon.forceDeferredCallback || $.cookie('_cuid') !== undefined) {\n",
       "     $(function() {\n",
       "       $.ajax('/EUAC35/show_deferred' + window.location.search);\n",
       "     });\n",
       "   }\n",
       "   else {\n",
       "     $('.varnish-logged-out.hide').removeClass('hide');\n",
       "   }\n",
       " </script>,\n",
       " <script>\n",
       "   if ($.cookie('locale') !== undefined && $.cookie('locale') !== $('#locale').val()) {\n",
       "     var altHref = $('#locale-' + $.cookie('locale')).attr('href');\n",
       "   \n",
       "     if (altHref) {\n",
       "       window.location = altHref;\n",
       "     }\n",
       "   }\n",
       " </script>,\n",
       " <script>(function(){function c(){var b=a.contentDocument||a.contentWindow.document;if(b){var d=b.createElement('script');d.innerHTML=\"window.__CF$cv$params={r:'948aa7e86ecb1b9a',t:'MTc0ODczODM4OC4wMDAwMDA='};var a=document.createElement('script');a.nonce='';a.src='/cdn-cgi/challenge-platform/scripts/jsd/main.js';document.getElementsByTagName('head')[0].appendChild(a);\";b.getElementsByTagName('head')[0].appendChild(d)}}if(document.body){var a=document.createElement('iframe');a.height=1;a.width=1;a.style.position='absolute';a.style.top=0;a.style.left=0;a.style.border='none';a.style.visibility='hidden';document.body.appendChild(a);if('loading'!==document.readyState)c();else if(window.addEventListener)document.addEventListener('DOMContentLoaded',c);else{var e=document.onreadystatechange||function(){};document.onreadystatechange=function(b){e(b);'loading'!==document.readyState&&(document.onreadystatechange=e,c())}}}})();</script>]"
      ]
     },
     "execution_count": 13,
     "metadata": {},
     "output_type": "execute_result"
    }
   ],
   "source": [
    "scripts"
   ]
  },
  {
   "cell_type": "markdown",
   "id": "33669047",
   "metadata": {},
   "source": [
    "Manually inspecting the webpage, we can gather what tags to search for"
   ]
  },
  {
   "cell_type": "code",
   "execution_count": 14,
   "id": "89ac36d6",
   "metadata": {},
   "outputs": [],
   "source": [
    "matches = soup.select(\"g.match\")"
   ]
  },
  {
   "cell_type": "code",
   "execution_count": 15,
   "id": "0c3ecac2",
   "metadata": {
    "scrolled": true
   },
   "outputs": [],
   "source": [
    "for i in matches:\n",
    "    seeds = i.select(\"text.match--seed\")"
   ]
  },
  {
   "cell_type": "code",
   "execution_count": 16,
   "id": "075068b9",
   "metadata": {
    "scrolled": true
   },
   "outputs": [
    {
     "name": "stdout",
     "output_type": "stream",
     "text": [
      "4\n",
      "5\n"
     ]
    }
   ],
   "source": [
    "for seed in seeds:\n",
    "    print(seed.text)"
   ]
  },
  {
   "cell_type": "code",
   "execution_count": 17,
   "id": "e6d5c67f",
   "metadata": {},
   "outputs": [],
   "source": [
    "for i in matches:\n",
    "    names = i.select(\"text.match--player-name\")"
   ]
  },
  {
   "cell_type": "code",
   "execution_count": 18,
   "id": "e9706684",
   "metadata": {
    "scrolled": true
   },
   "outputs": [
    {
     "data": {
      "text/plain": [
       "[<text class=\"match--player-name\" clip-path=\"url(#clipPath3016783)\" height=\"12\" text-anchor=\"start\" width=\"147\" x=\"77\" y=\"15\">Yam</text>,\n",
       " <text class=\"match--player-name -winner\" clip-path=\"url(#clipPath5447732)\" height=\"12\" text-anchor=\"start\" width=\"147\" x=\"77\" y=\"15\">ocrim_ger</text>]"
      ]
     },
     "execution_count": 18,
     "metadata": {},
     "output_type": "execute_result"
    }
   ],
   "source": [
    "names"
   ]
  },
  {
   "cell_type": "code",
   "execution_count": 19,
   "id": "0b0e477c",
   "metadata": {},
   "outputs": [
    {
     "data": {
      "text/plain": [
       "'Yam'"
      ]
     },
     "execution_count": 19,
     "metadata": {},
     "output_type": "execute_result"
    }
   ],
   "source": [
    "names[0].text"
   ]
  },
  {
   "cell_type": "code",
   "execution_count": 20,
   "id": "dd114736",
   "metadata": {
    "scrolled": true
   },
   "outputs": [
    {
     "name": "stdout",
     "output_type": "stream",
     "text": [
      "<g class=\"match -complete\" data-identifier=\"9\" data-match-id=\"178584021\" transform=\"translate(488 231)\">\n",
      " <defs>\n",
      "  <clippath id=\"match-clippath-9\">\n",
      "   <rect height=\"45\" rx=\"3\" ry=\"3\" width=\"200\" x=\"26\" y=\"5\">\n",
      "   </rect>\n",
      "  </clippath>\n",
      " </defs>\n",
      " <text class=\"match--identifier\" height=\"10\" text-anchor=\"middle\" width=\"24\" x=\"11\" y=\"31\">\n",
      "  9\n",
      " </text>\n",
      " <rect class=\"match--wrapper-background\" height=\"49\" rx=\"3\" ry=\"3\" width=\"204\" x=\"24\" y=\"3\">\n",
      " </rect>\n",
      " <rect class=\"match--base-background\" height=\"45\" rx=\"3\" ry=\"3\" width=\"200\" x=\"26\" y=\"5\">\n",
      " </rect>\n",
      " <g clip-path=\"url(#match-clippath-9)\">\n",
      "  <svg class=\"match--player\" data-participant-id=\"107792038\" x=\"0\" y=\"5\">\n",
      "   <title>\n",
      "    Grimwood96\n",
      "   </title>\n",
      "   <defs>\n",
      "    <clippath id=\"clipPath9240489\">\n",
      "     <rect height=\"22\" width=\"143\" x=\"50\" y=\"0\">\n",
      "     </rect>\n",
      "    </clippath>\n",
      "    <clippath id=\"portraitClipPath9240489\">\n",
      "     <path>\n",
      "     </path>\n",
      "    </clippath>\n",
      "   </defs>\n",
      "   <path class=\"match--player-background\" d=\"M 50 0 h 147 v 22 h -147 Z\">\n",
      "   </path>\n",
      "   <path class=\"match--seed-background\" d=\"M 26 0 h 24 v 22 h -24 Z\">\n",
      "   </path>\n",
      "   <text class=\"match--seed\" height=\"12\" text-anchor=\"middle\" width=\"10\" x=\"38\" y=\"14\">\n",
      "    1\n",
      "   </text>\n",
      "   <text class=\"match--player-name -winner\" clip-path=\"url(#clipPath9240489)\" height=\"12\" text-anchor=\"start\" width=\"147\" x=\"77\" y=\"15\">\n",
      "    Grimwood96\n",
      "   </text>\n",
      "   <g clip-path=\"\">\n",
      "    <image height=\"18\" width=\"18\" x=\"55\" xlink:href=\"https://s3.amazonaws.com/challonge_app/users/images/001/897/663/large/1725714_1.png\" y=\"2\"/>\n",
      "   </g>\n",
      "   <path class=\"match--player-score-background -winner\" d=\"M 197 0 h 29 v 22 h -29 Z\">\n",
      "   </path>\n",
      "   <text class=\"match--player-score -winner\" height=\"12\" text-anchor=\"middle\" width=\"21\" x=\"211\" y=\"15\">\n",
      "    3\n",
      "   </text>\n",
      "  </svg>\n",
      "  <svg class=\"match--player\" data-participant-id=\"107876180\" x=\"0\" y=\"28\">\n",
      "   <title>\n",
      "    Yam\n",
      "   </title>\n",
      "   <defs>\n",
      "    <clippath id=\"clipPath7165156\">\n",
      "     <rect height=\"22\" width=\"143\" x=\"50\" y=\"0\">\n",
      "     </rect>\n",
      "    </clippath>\n",
      "    <clippath id=\"portraitClipPath7165156\">\n",
      "     <path>\n",
      "     </path>\n",
      "    </clippath>\n",
      "   </defs>\n",
      "   <path class=\"match--player-background\" d=\"M 50 0 h 147 v 22 h -147 Z\">\n",
      "   </path>\n",
      "   <path class=\"match--seed-background\" d=\"M 26 0 h 24 v 22 h -24 Z\">\n",
      "   </path>\n",
      "   <text class=\"match--seed\" height=\"12\" text-anchor=\"middle\" width=\"10\" x=\"38\" y=\"14\">\n",
      "    4\n",
      "   </text>\n",
      "   <text class=\"match--player-name\" clip-path=\"url(#clipPath7165156)\" height=\"12\" text-anchor=\"start\" width=\"147\" x=\"77\" y=\"15\">\n",
      "    Yam\n",
      "   </text>\n",
      "   <g clip-path=\"\">\n",
      "    <image height=\"18\" width=\"18\" x=\"55\" xlink:href=\"https://s3.amazonaws.com/challonge_app/users/images/003/149/531/large/28004.png\" y=\"2\"/>\n",
      "   </g>\n",
      "   <path class=\"match--player-score-background\" d=\"M 197 0 h 29 v 22 h -29 Z\">\n",
      "   </path>\n",
      "   <text class=\"match--player-score\" height=\"12\" text-anchor=\"middle\" width=\"21\" x=\"211\" y=\"15\">\n",
      "    1\n",
      "   </text>\n",
      "   <line class=\"match--player-divider\" x1=\"26\" x2=\"226\" y1=\"-0.5\" y2=\"-0.5\">\n",
      "   </line>\n",
      "  </svg>\n",
      " </g>\n",
      "</g>\n",
      "\n"
     ]
    }
   ],
   "source": [
    "match = soup.select_one(\"g.match\")\n",
    "print(match.prettify())"
   ]
  },
  {
   "cell_type": "code",
   "execution_count": 21,
   "id": "36cfb7b1",
   "metadata": {},
   "outputs": [],
   "source": [
    "part = match.find(\"svg\", class_=\"match--player\")"
   ]
  },
  {
   "cell_type": "code",
   "execution_count": 22,
   "id": "442b2183",
   "metadata": {},
   "outputs": [],
   "source": [
    "participantId = part[\"data-participant-id\"]"
   ]
  },
  {
   "cell_type": "code",
   "execution_count": 23,
   "id": "0411c20a",
   "metadata": {},
   "outputs": [
    {
     "data": {
      "text/plain": [
       "'107792038'"
      ]
     },
     "execution_count": 23,
     "metadata": {},
     "output_type": "execute_result"
    }
   ],
   "source": [
    "participantId"
   ]
  },
  {
   "cell_type": "code",
   "execution_count": 24,
   "id": "8b38d5c6",
   "metadata": {},
   "outputs": [],
   "source": [
    "score = match.find(\"svg\", class_=\"match--player-score\")"
   ]
  },
  {
   "cell_type": "code",
   "execution_count": 25,
   "id": "e4a11c4d",
   "metadata": {},
   "outputs": [],
   "source": [
    "for i in matches:\n",
    "    scores = i.select(\"text.match--player-score\")"
   ]
  },
  {
   "cell_type": "code",
   "execution_count": 26,
   "id": "ab3120b1",
   "metadata": {
    "scrolled": false
   },
   "outputs": [
    {
     "data": {
      "text/plain": [
       "'1'"
      ]
     },
     "execution_count": 26,
     "metadata": {},
     "output_type": "execute_result"
    }
   ],
   "source": [
    "scores[0].text"
   ]
  },
  {
   "cell_type": "markdown",
   "id": "1364c8d3",
   "metadata": {},
   "source": [
    "What we're missing is the challonge id. Manually examining the scipt tags on the webpage, reveal a variable known as \"participantUserIdMap\". This seems to contain a mapping of challonge to participant ids."
   ]
  },
  {
   "cell_type": "code",
   "execution_count": 27,
   "id": "cdc90a69",
   "metadata": {},
   "outputs": [],
   "source": [
    "text = \"\"\n",
    "for tag in soup.find_all(\"script\"):\n",
    "    if \"participantUserIdMap\" in tag.text:\n",
    "        text = tag.text"
   ]
  },
  {
   "cell_type": "code",
   "execution_count": 28,
   "id": "5e646783",
   "metadata": {
    "scrolled": false
   },
   "outputs": [
    {
     "data": {
      "text/plain": [
       "'window.gon = {};gon.targetingKeyValues={\"category\":\"Video Game - Fighting\",\"game\":\"Arms\"};gon.forceDeferredCallback=false;gon.participantUserIdMap={\"1897663\":107792038,\"2363206\":108165794,\"2521004\":108165544,\"3149531\":107876180,\"2392308\":107827464,\"3057118\":107772816};gon.adminIds=[2405407,2392308,2533091,2670839,2405407];'"
      ]
     },
     "execution_count": 28,
     "metadata": {},
     "output_type": "execute_result"
    }
   ],
   "source": [
    "text"
   ]
  },
  {
   "cell_type": "code",
   "execution_count": 29,
   "id": "0e29b28a",
   "metadata": {},
   "outputs": [],
   "source": [
    "start = text.find(\"participantUserIdMap\")\n",
    "subTextStart = text.find(\"{\", start)\n",
    "subTextEnd = text.find(\"}\", start)\n",
    "extract = text[subTextStart: subTextEnd+1]"
   ]
  },
  {
   "cell_type": "code",
   "execution_count": 30,
   "id": "b94c2758",
   "metadata": {
    "scrolled": false
   },
   "outputs": [],
   "source": [
    "extract = extract.replace(\"{\", \"\")\n",
    "extract = extract.replace(\"}\", \"\")\n",
    "extract = extract.replace('\"', \"\")"
   ]
  },
  {
   "cell_type": "code",
   "execution_count": 31,
   "id": "3631d12a",
   "metadata": {
    "scrolled": true
   },
   "outputs": [
    {
     "data": {
      "text/plain": [
       "'1897663:107792038,2363206:108165794,2521004:108165544,3149531:107876180,2392308:107827464,3057118:107772816'"
      ]
     },
     "execution_count": 31,
     "metadata": {},
     "output_type": "execute_result"
    }
   ],
   "source": [
    "extract"
   ]
  },
  {
   "cell_type": "code",
   "execution_count": 32,
   "id": "a5537b4e",
   "metadata": {},
   "outputs": [],
   "source": [
    "# Split by comma first then by semi-colon\n",
    "\n",
    "IdSplit = extract.split(\",\")"
   ]
  },
  {
   "cell_type": "code",
   "execution_count": 33,
   "id": "6630346f",
   "metadata": {
    "scrolled": true
   },
   "outputs": [
    {
     "data": {
      "text/plain": [
       "['1897663:107792038',\n",
       " '2363206:108165794',\n",
       " '2521004:108165544',\n",
       " '3149531:107876180',\n",
       " '2392308:107827464',\n",
       " '3057118:107772816']"
      ]
     },
     "execution_count": 33,
     "metadata": {},
     "output_type": "execute_result"
    }
   ],
   "source": [
    "IdSplit"
   ]
  },
  {
   "cell_type": "code",
   "execution_count": 34,
   "id": "5a0d2675",
   "metadata": {},
   "outputs": [
    {
     "name": "stdout",
     "output_type": "stream",
     "text": [
      "Yes\n"
     ]
    }
   ],
   "source": [
    "if 3057118 in playerdf[\"Challonge ID\"].values:\n",
    "    print(\"Yes\")"
   ]
  },
  {
   "cell_type": "code",
   "execution_count": 35,
   "id": "2d7bd095",
   "metadata": {},
   "outputs": [],
   "source": [
    "participantArray = []\n",
    "challongeArray = []\n",
    "for num in IdSplit:\n",
    "    split = num.split(\":\")\n",
    "    challongeArray.append(split[0])\n",
    "    participantArray.append(split[1])"
   ]
  },
  {
   "cell_type": "code",
   "execution_count": 36,
   "id": "38a4babc",
   "metadata": {},
   "outputs": [
    {
     "data": {
      "text/plain": [
       "['107792038', '108165794', '108165544', '107876180', '107827464', '107772816']"
      ]
     },
     "execution_count": 36,
     "metadata": {},
     "output_type": "execute_result"
    }
   ],
   "source": [
    "participantArray"
   ]
  },
  {
   "cell_type": "code",
   "execution_count": 37,
   "id": "82536b8c",
   "metadata": {},
   "outputs": [
    {
     "data": {
      "text/plain": [
       "['1897663', '2363206', '2521004', '3149531', '2392308', '3057118']"
      ]
     },
     "execution_count": 37,
     "metadata": {},
     "output_type": "execute_result"
    }
   ],
   "source": [
    "challongeArray"
   ]
  },
  {
   "cell_type": "code",
   "execution_count": 38,
   "id": "a3aafa49",
   "metadata": {},
   "outputs": [],
   "source": [
    "def find_challonge_id(pid):\n",
    "    pos = 0\n",
    "    for i in participantArray:\n",
    "        if int(i) == pid:\n",
    "            return challongeArray[pos]\n",
    "        else:\n",
    "            pos += 1"
   ]
  },
  {
   "cell_type": "code",
   "execution_count": 39,
   "id": "f0487fb4",
   "metadata": {},
   "outputs": [
    {
     "data": {
      "text/plain": [
       "'3057118'"
      ]
     },
     "execution_count": 39,
     "metadata": {},
     "output_type": "execute_result"
    }
   ],
   "source": [
    "find_challonge_id(107772816)"
   ]
  },
  {
   "cell_type": "code",
   "execution_count": 40,
   "id": "80306a75",
   "metadata": {},
   "outputs": [],
   "source": [
    "def retrieve_player_challonge(df, cid):\n",
    "    player = df[df[\"Challonge ID\"] == cid]\n",
    "    if not player.empty:\n",
    "        return player.iloc[0][\"Player\"]\n",
    "    else:\n",
    "        print(\"Not found\")"
   ]
  },
  {
   "cell_type": "code",
   "execution_count": 41,
   "id": "01fce17b",
   "metadata": {
    "scrolled": false
   },
   "outputs": [
    {
     "name": "stdout",
     "output_type": "stream",
     "text": [
      "Grimwood96\n",
      "replicant___\n",
      "Iceman92\n",
      "Yamber\n",
      "ocrim_ger\n",
      "YoshiBowser\n"
     ]
    }
   ],
   "source": [
    "for num in challongeArray:\n",
    "    print(retrieve_player_challonge(playerdf, int(num)))"
   ]
  },
  {
   "cell_type": "code",
   "execution_count": 42,
   "id": "da62299c",
   "metadata": {
    "scrolled": true
   },
   "outputs": [
    {
     "data": {
      "text/plain": [
       "'Yamber'"
      ]
     },
     "execution_count": 42,
     "metadata": {},
     "output_type": "execute_result"
    }
   ],
   "source": [
    "retrieve_player_challonge(playerdf, 3149531)"
   ]
  },
  {
   "cell_type": "markdown",
   "id": "c55f6f89",
   "metadata": {},
   "source": [
    "Yam is a display name. Yamber is the challonge name.\n",
    "Need a function to cross check participants id and challonge id. If the player exists, grab their challonge name. Otherwise, just use their display name for the playerdf until it can be figured out how to get it"
   ]
  },
  {
   "cell_type": "markdown",
   "id": "742d6148",
   "metadata": {},
   "source": [
    "What is currently missing is placements and match order"
   ]
  },
  {
   "cell_type": "code",
   "execution_count": 43,
   "id": "b2fc4276",
   "metadata": {},
   "outputs": [],
   "source": [
    "matchesTest = soup.select(\"g.match\")"
   ]
  },
  {
   "cell_type": "code",
   "execution_count": 44,
   "id": "9fe5ca66",
   "metadata": {},
   "outputs": [
    {
     "name": "stdout",
     "output_type": "stream",
     "text": [
      "Grimwood96\n",
      "1\n",
      "3\n",
      "Yam\n",
      "4\n",
      "1\n",
      "107792038\n",
      "107876180\n",
      "Yam\n",
      "4\n",
      "2\n",
      "ocrim_ger\n",
      "5\n",
      "0\n",
      "107876180\n",
      "107827464\n",
      "ocrim_ger\n",
      "5\n",
      "2\n",
      "YoshiBowser\n",
      "6\n",
      "0\n",
      "107827464\n",
      "107772816\n",
      "Iceman92\n",
      "3\n",
      "1\n",
      "Yam\n",
      "4\n",
      "2\n",
      "108165544\n",
      "107876180\n",
      "replicant\n",
      "2\n",
      "3\n",
      "Grimwood96\n",
      "1\n",
      "2\n",
      "108165794\n",
      "107792038\n",
      "Grimwood96\n",
      "1\n",
      "1\n",
      "replicant\n",
      "2\n",
      "3\n",
      "107792038\n",
      "108165794\n",
      "replicant\n",
      "2\n",
      "2\n",
      "Iceman92\n",
      "3\n",
      "0\n",
      "108165794\n",
      "108165544\n",
      "Grimwood96\n",
      "1\n",
      "2\n",
      "ocrim_ger\n",
      "5\n",
      "0\n",
      "107792038\n",
      "107827464\n",
      "Iceman92\n",
      "3\n",
      "2\n",
      "YoshiBowser\n",
      "6\n",
      "0\n",
      "108165544\n",
      "107772816\n",
      "Yam\n",
      "4\n",
      "1\n",
      "ocrim_ger\n",
      "5\n",
      "2\n",
      "107876180\n",
      "107827464\n"
     ]
    }
   ],
   "source": [
    "for i in matchesTest:\n",
    "    names = i.select(\"text.match--player-name\")\n",
    "    seeds = i.select(\"text.match--seed\")\n",
    "    scores = i.select(\"text.match--player-score\")\n",
    "    print(names[0].text)\n",
    "    print(seeds[0].text)\n",
    "    print(scores[0].text)\n",
    "    print(names[1].text)\n",
    "    print(seeds[1].text)\n",
    "    print(scores[1].text)\n",
    "    part = i.find_all(\"svg\", class_=\"match--player\")\n",
    "    for x in part:\n",
    "        participantId = x[\"data-participant-id\"]\n",
    "        print(participantId)"
   ]
  },
  {
   "cell_type": "code",
   "execution_count": 45,
   "id": "cfd23a18",
   "metadata": {
    "scrolled": true
   },
   "outputs": [
    {
     "data": {
      "text/plain": [
       "[<text class=\"match--player-name\" clip-path=\"url(#clipPath3016783)\" height=\"12\" text-anchor=\"start\" width=\"147\" x=\"77\" y=\"15\">Yam</text>,\n",
       " <text class=\"match--player-name -winner\" clip-path=\"url(#clipPath5447732)\" height=\"12\" text-anchor=\"start\" width=\"147\" x=\"77\" y=\"15\">ocrim_ger</text>]"
      ]
     },
     "execution_count": 45,
     "metadata": {},
     "output_type": "execute_result"
    }
   ],
   "source": [
    "names"
   ]
  },
  {
   "cell_type": "code",
   "execution_count": 46,
   "id": "c7b3039f",
   "metadata": {
    "scrolled": false
   },
   "outputs": [],
   "source": [
    "driver = webdriver.Chrome(service=Service(ChromeDriverManager().install()))\n",
    "driver.get(\"https://challonge.com/EUAC35/standings\")\n",
    "\n",
    "time.sleep(5)\n",
    "\n",
    "htmlStandings = driver.page_source\n",
    "\n",
    "driver.quit()"
   ]
  },
  {
   "cell_type": "code",
   "execution_count": 47,
   "id": "0e537e60",
   "metadata": {
    "scrolled": true
   },
   "outputs": [
    {
     "data": {
      "text/plain": [
       "'<html lang=\"en\" xmlns=\"http://www.w3.org/1999/xhtml\"><head>\\n<meta content=\"text/html;charset=utf-8\" http-equiv=\"Content-Type\">\\n<meta name=\"csrf-param\" content=\"authenticity_token\">\\n<meta name=\"csrf-token\" content=\"miLHNfcc7OCj9D9bPjnboBfB6pr+mr8ZWHHF+BwumHe5mbY7GW25aZ8IoVocpT+hA4tLJ/tsf5ELCRu2pv00JQ==\">\\n<meta name=\"asset-host\" content=\"https://assets.challonge.com\">\\n<meta content=\"noindex,nofollow\" name=\"robots\">\\n<meta content=\"width=device-width, initial-scale=1.0\" name=\"viewport\">\\n<meta content=\"https://stream.challonge.com:8000/faye\" name=\"stream-url\">\\n<link rel=\"stylesheet\" media=\"all\" href=\"https://fonts.googleapis.com/css?family=Source+Sans+Pro:300,400,600,700\">\\n<link rel=\"stylesheet\" media=\"all\" href=\"https://fonts.googleapis.com/css2?family=Radio+Canada+Big:ital,wght@0,400..700;1,400..700&amp;display=swap\">\\n<link rel=\"stylesheet\" media=\"all\" href=\"https://fonts.googleapis.com/css2?family=Inter:wght@300;400;600;700&amp;display=swap\">\\n<link rel=\"stylesheet\" media=\"all\" href=\"https://fonts.googleapis.com/css2?family=Blinker:wght@400;600&amp;display=swap\">\\n<link rel=\"stylesheet\" media=\"all\" href=\"https://fonts.googleapis.com/css2?family=Roboto:wght@300;400;500;600;700&amp;display=swap\">\\n<link rel=\"stylesheet\" media=\"all\" href=\"https://assets.challonge.com/assets/application-ef49aa73dd6e537f93bd81959c407521b2d8a9cef9ca2643f6ad09e00884f9ea.css\" class=\"challonge_stylesheet\">\\n\\n<meta content=\"EU ARMS Challenge #35 - Challonge\" property=\"og:title\">\\n<meta content=\"https://challonge.com/EUAC35\" property=\"og:url\">\\n<meta content=\"website\" property=\"og:type\">\\n<meta content=\"Explore this tournament hosted by European ARMS Competitive, a Challonge Community\" property=\"og:description\">\\n<meta content=\"https://s3.amazonaws.com/challonge_app/organizations/images/000/108/011/hdpi/eu_arms.png?1571583256\" itemprop=\"image\" property=\"og:image\">\\n<meta content=\"https://s3.amazonaws.com/challonge_app/organizations/images/000/108/011/hdpi/eu_arms.png?1571583256\" itemprop=\"image\" property=\"og:image:url\">\\n<meta content=\"https://s3.amazonaws.com/challonge_app/organizations/images/000/108/011/hdpi/eu_arms.png?1571583256\" itemprop=\"image\" property=\"og:image:secure_url\">\\n\\n<link href=\"https://challonge.com/ar/EUAC35/standings\" hreflang=\"ar\" id=\"locale-ar\" rel=\"alternate\">\\n<link href=\"https://challonge.com/cs/EUAC35/standings\" hreflang=\"cs\" id=\"locale-cs\" rel=\"alternate\">\\n<link href=\"https://challonge.com/da/EUAC35/standings\" hreflang=\"da\" id=\"locale-da\" rel=\"alternate\">\\n<link href=\"https://challonge.com/de/EUAC35/standings\" hreflang=\"de\" id=\"locale-de\" rel=\"alternate\">\\n<link href=\"https://challonge.com/es/EUAC35/standings\" hreflang=\"es\" id=\"locale-es\" rel=\"alternate\">\\n<link href=\"https://challonge.com/fi/EUAC35/standings\" hreflang=\"fi\" id=\"locale-fi\" rel=\"alternate\">\\n<link href=\"https://challonge.com/fr/EUAC35/standings\" hreflang=\"fr\" id=\"locale-fr\" rel=\"alternate\">\\n<link href=\"https://challonge.com/hu/EUAC35/standings\" hreflang=\"hu\" id=\"locale-hu\" rel=\"alternate\">\\n<link href=\"https://challonge.com/id/EUAC35/standings\" hreflang=\"id\" id=\"locale-id\" rel=\"alternate\">\\n<link href=\"https://challonge.com/it/EUAC35/standings\" hreflang=\"it\" id=\"locale-it\" rel=\"alternate\">\\n<link href=\"https://challonge.com/ja/EUAC35/standings\" hreflang=\"ja\" id=\"locale-ja\" rel=\"alternate\">\\n<link href=\"https://challonge.com/ko/EUAC35/standings\" hreflang=\"ko\" id=\"locale-ko\" rel=\"alternate\">\\n<link href=\"https://challonge.com/lv-LV/EUAC35/standings\" hreflang=\"lv-lv\" id=\"locale-lv-LV\" rel=\"alternate\">\\n<link href=\"https://challonge.com/nl/EUAC35/standings\" hreflang=\"nl\" id=\"locale-nl\" rel=\"alternate\">\\n<link href=\"https://challonge.com/no/EUAC35/standings\" hreflang=\"no\" id=\"locale-no\" rel=\"alternate\">\\n<link href=\"https://challonge.com/pl/EUAC35/standings\" hreflang=\"pl\" id=\"locale-pl\" rel=\"alternate\">\\n<link href=\"https://challonge.com/pt/EUAC35/standings\" hreflang=\"pt\" id=\"locale-pt\" rel=\"alternate\">\\n<link href=\"https://challonge.com/pt_BR/EUAC35/standings\" hreflang=\"pt-br\" id=\"locale-pt_BR\" rel=\"alternate\">\\n<link href=\"https://challonge.com/ro/EUAC35/standings\" hreflang=\"ro\" id=\"locale-ro\" rel=\"alternate\">\\n<link href=\"https://challonge.com/ru/EUAC35/standings\" hreflang=\"ru\" id=\"locale-ru\" rel=\"alternate\">\\n<link href=\"https://challonge.com/sk/EUAC35/standings\" hreflang=\"sk\" id=\"locale-sk\" rel=\"alternate\">\\n<link href=\"https://challonge.com/sv/EUAC35/standings\" hreflang=\"sv\" id=\"locale-sv\" rel=\"alternate\">\\n<link href=\"https://challonge.com/th/EUAC35/standings\" hreflang=\"th\" id=\"locale-th\" rel=\"alternate\">\\n<link href=\"https://challonge.com/tr/EUAC35/standings\" hreflang=\"tr\" id=\"locale-tr\" rel=\"alternate\">\\n<link href=\"https://challonge.com/uk/EUAC35/standings\" hreflang=\"uk\" id=\"locale-uk\" rel=\"alternate\">\\n<link href=\"https://challonge.com/vi/EUAC35/standings\" hreflang=\"vi\" id=\"locale-vi\" rel=\"alternate\">\\n<link href=\"https://challonge.com/zh_CN/EUAC35/standings\" hreflang=\"zh-cn\" id=\"locale-zh_CN\" rel=\"alternate\">\\n<link href=\"https://challonge.com/zh_TW/EUAC35/standings\" hreflang=\"zh-tw\" id=\"locale-zh_TW\" rel=\"alternate\">\\n\\n<link href=\"https://assets.challonge.com/apple-touch-icon.png\" rel=\"apple-touch-icon\" sizes=\"180x180\">\\n<link href=\"https://assets.challonge.com/favicon-16x16.png\" rel=\"icon\" sizes=\"16x16\" type=\"image/png\">\\n<link href=\"https://assets.challonge.com/favicon-32x32.png\" rel=\"icon\" sizes=\"32x32\" type=\"image/png\">\\n<link href=\"https://assets.challonge.com/manifest.json\" rel=\"manifest\">\\n<link color=\"#272a33\" href=\"https://assets.challonge.com/safari-pinned-tab.svg\" rel=\"mask-icon\">\\n<meta content=\"#272a33\" name=\"theme-color\">\\n\\n  <!-- Google tag (gtag.js) -->\\n  <script src=\"https://connect.facebook.net/en_US/sdk.js?hash=a973b7825e1b704385951048b98f4a2c\" async=\"\" crossorigin=\"anonymous\"></script><script src=\"https://cdn.hadronid.net/hadron.js?url=https%3A%2F%2Fchallonge.com%2FEUAC35%2Fstandings&amp;ref=&amp;_it=amazon&amp;partner_id=720\"></script><script id=\"facebook-jssdk\" src=\"//connect.facebook.net/en_US/sdk.js\"></script><script async=\"\" src=\"https://www.google-analytics.com/analytics.js\"></script><script async=\"\" src=\"https://www.googletagmanager.com/gtag/js?id=G-1EEPZLM6JC\"></script>\\n\\n  <script type=\"text/javascript\">\\n    function readCookie(name) {\\n      var nameEQ = name + \"=\";\\n      var ca = document.cookie.split(\\';\\');\\n      for(var i=0;i < ca.length;i++) {\\n        var c = ca[i];\\n        while (c.charAt(0)==\\' \\') c = c.substring(1,c.length);\\n        if (c.indexOf(nameEQ) == 0) return c.substring(nameEQ.length,c.length);\\n      }\\n      return null;\\n    }\\n\\n    (function(i,s,o,g,r,a,m){i[\\'GoogleAnalyticsObject\\']=r;i[r]=i[r]||function(){\\n    (i[r].q=i[r].q||[]).push(arguments)},i[r].l=1*new Date();a=s.createElement(o),\\n    m=s.getElementsByTagName(o)[0];a.async=1;a.src=g;m.parentNode.insertBefore(a,m)\\n    })(window,document,\\'script\\',\\'https://www.google-analytics.com/analytics.js\\',\\'ga\\');\\n\\n    ga(\\'create\\', \\'UA-2701080-3\\', \\'auto\\');\\n\\n    // Set User-ID if logged in\\n    var uid = readCookie(\\'_cuid\\');\\n    if (uid) { ga(\\'set\\', \\'userId\\', uid); }\\n\\n    ga(\\'send\\', \\'pageview\\');\\n\\n    // GA4\\n    window.dataLayer = window.dataLayer || [];\\n    function gtag(){dataLayer.push(arguments);}\\n    gtag(\\'js\\', new Date());\\n\\n    // Set User-ID if logged in\\n    // var uid = readCookie(\\'_cuid\\'); // already set above\\n\\n    if (uid) {\\n      gtag(\\'config\\', \\'G-1EEPZLM6JC\\', { \\'user_id\\': uid });\\n    } else {\\n      gtag(\\'config\\', \\'G-1EEPZLM6JC\\');\\n    }\\n  </script>\\n\\n\\n\\n    <script data-demo=\"false\" data-cfasync=\"false\">window.nitroAds=window.nitroAds||{createAd:function(){return new Promise(e=>{window.nitroAds.queue.push([\"createAd\",arguments,e])})},addUserToken:function(){window.nitroAds.queue.push([\"addUserToken\",arguments])},queue:[]};\\n    </script>\\n    <script data-demo=\"false\" data-cfasync=\"false\" async=\"\" src=\"https://s.nitropay.com/ads-74.js\"></script>\\n\\n\\n\\n\\n<script src=\"https://js.stripe.com/v3/\"></script>\\n<title>\\nEU ARMS Challenge #35 - Standings - \\nChallonge\\n</title>\\n<script async=\"\" type=\"text/javascript\" src=\"https://btloader.com/tag?o=6278260873756672&amp;upapi=true\" id=\"nitroads-bt\"></script><script async=\"\" defer=\"\" type=\"text/javascript\" src=\"https://ats-wrapper.privacymanager.io/ats-modules/438cb908-ed61-41e9-b716-05d5f4122a64/ats.js\" id=\"nitro-lr\"></script><script async=\"\" type=\"text/javascript\" src=\"https://securepubads.g.doubleclick.net/tag/js/gpt.js\" id=\"nitro-gpt\"></script><style>div[id^=\"google_ads_iframe_\"] { display: inline-block; }</style><script async=\"\" type=\"text/javascript\" src=\"//s.nitropay.com/gpp-b4dfd58.min.js\"></script><script async=\"\" type=\"text/javascript\" src=\"//c.amazon-adsystem.com/aax2/apstag.js\"></script><style type=\"text/css\">.ncmp__normalise{line-height:1.15;-webkit-text-size-adjust:100%;margin:0}.ncmp__normalise main{display:block}.ncmp__normalise h1{font-size:2em;margin:.67em 0}.ncmp__normalise h1,.ncmp__normalise h2,.ncmp__normalise h3,.ncmp__normalise h4,.ncmp__normalise h5,.ncmp__normalise h6{color:#000;font-family:\"Roboto\",Arial,Helvetica,sans-serif;text-transform:none !important}.ncmp__normalise span{color:#444}.ncmp__normalise p{color:#444}.ncmp__normalise ul{color:#444;font-size:14px}.ncmp__normalise ul li{color:#444}.ncmp__normalise hr{box-sizing:content-box;height:0;overflow:visible}.ncmp__normalise pre{font-family:monospace,monospace;font-size:1em}.ncmp__normalise a{background-color:transparent}.ncmp__normalise abbr[title]{border-bottom:none;text-decoration:underline;-webkit-text-decoration:underline dotted;text-decoration:underline dotted}.ncmp__normalise b,.ncmp__normalise strong{color:#000;font-weight:bolder}.ncmp__normalise code,.ncmp__normalise kbd,.ncmp__normalise samp{font-family:monospace,monospace;font-size:1em}.ncmp__normalise small{font-size:80%}.ncmp__normalise sub,.ncmp__normalise sup{font-size:75%;line-height:0;position:relative;vertical-align:baseline}.ncmp__normalise sub{bottom:-0.25em}.ncmp__normalise sup{top:-0.5em}.ncmp__normalise img{margin:0;border-style:none}.ncmp__normalise button,.ncmp__normalise input,.ncmp__normalise optgroup,.ncmp__normalise select,.ncmp__normalise textarea{font-family:inherit;font-size:100%;line-height:1.15;margin:0;box-shadow:none;text-shadow:none}.ncmp__normalise button,.ncmp__normalise input{overflow:visible}.ncmp__normalise button,.ncmp__normalise select{text-transform:none}.ncmp__normalise button,.ncmp__normalise [type=button],.ncmp__normalise [type=reset],.ncmp__normalise [type=submit]{-webkit-appearance:button}.ncmp__normalise button::-moz-focus-inner,.ncmp__normalise [type=button]::-moz-focus-inner,.ncmp__normalise [type=reset]::-moz-focus-inner,.ncmp__normalise [type=submit]::-moz-focus-inner{border-style:none;padding:0}.ncmp__normalise button:-moz-focusring,.ncmp__normalise [type=button]:-moz-focusring,.ncmp__normalise [type=reset]:-moz-focusring,.ncmp__normalise [type=submit]:-moz-focusring{outline:1px dotted ButtonText}.ncmp__normalise fieldset{padding:.35em .75em .625em}.ncmp__normalise legend{box-sizing:border-box;color:inherit;display:table;max-width:100%;padding:0;white-space:normal}.ncmp__normalise progress{vertical-align:baseline}.ncmp__normalise textarea{overflow:auto}.ncmp__normalise [type=checkbox],.ncmp__normalise [type=radio]{box-sizing:border-box;padding:0}.ncmp__normalise [type=number]::-webkit-inner-spin-button,.ncmp__normalise [type=number]::-webkit-outer-spin-button{height:auto}.ncmp__normalise [type=search]{-webkit-appearance:textfield;outline-offset:-2px}.ncmp__normalise [type=search]::-webkit-search-decoration{-webkit-appearance:none}.ncmp__normalise ::-webkit-file-upload-button{-webkit-appearance:button;font:inherit}.ncmp__normalise details{display:block}.ncmp__normalise summary{display:list-item}.ncmp__normalise template{display:none}.ncmp__normalise [hidden]{display:none}#ncmp__tool,#ncmp__modal{font-family:\"Roboto\",Arial,Helvetica,sans-serif;font-weight:400;font-size:14px;line-height:22px;position:relative;z-index:2147483647}@media(max-width: 1024px){#ncmp__tool,#ncmp__modal{padding:10px;box-sizing:border-box}}#ncmp__tool a,#ncmp__modal a{color:#0061b1;text-decoration:none}#ncmp__tool a:hover,#ncmp__modal a:hover{color:#004680}#ncmp__tool button.ncmp__btn,#ncmp__tool a.ncmp__btn,#ncmp__modal button.ncmp__btn,#ncmp__modal a.ncmp__btn{cursor:pointer;-webkit-user-select:none;-moz-user-select:none;-ms-user-select:none;user-select:none;display:inline-block;background-image:none;outline:0;outline-offset:0;border:0;border-radius:2px;transition:all .15s ease-in-out;min-width:88px;padding:0 14px;-webkit-appearance:button;background-color:#0061b1;font-weight:400;letter-spacing:inherit;color:rgba(255,255,255,.87);margin-bottom:0;text-align:center;white-space:nowrap;vertical-align:middle;line-height:32px;height:32px}#ncmp__tool button.ncmp__btn:hover,#ncmp__tool a.ncmp__btn:hover,#ncmp__modal button.ncmp__btn:hover,#ncmp__modal a.ncmp__btn:hover{background-color:#0061b1;color:#fff;text-decoration:none}#ncmp__tool button.ncmp__btn.ncmp__btn-danger,#ncmp__tool a.ncmp__btn.ncmp__btn-danger,#ncmp__modal button.ncmp__btn.ncmp__btn-danger,#ncmp__modal a.ncmp__btn.ncmp__btn-danger{background-color:#fff;border:1px solid #0061b1;color:#0061b1}#ncmp__tool button.ncmp__btn.ncmp__btn-border,#ncmp__tool a.ncmp__btn.ncmp__btn-border,#ncmp__modal button.ncmp__btn.ncmp__btn-border,#ncmp__modal a.ncmp__btn.ncmp__btn-border{border:1px solid #0061b1;background-color:#fff;color:#0061b1}#ncmp__tool button.ncmp__btn.ncmp__btn-border:hover,#ncmp__tool a.ncmp__btn.ncmp__btn-border:hover,#ncmp__modal button.ncmp__btn.ncmp__btn-border:hover,#ncmp__modal a.ncmp__btn.ncmp__btn-border:hover{background-color:#fff;color:#0061b1}.ncmp__active{opacity:1 !important;pointer-events:all !important}.ncmp__language>a{position:absolute;z-index:44;top:15px;right:15px;font-size:12px;font-weight:500}.ncmp__language>a img{vertical-align:middle;width:16px;margin-right:8px}@media(max-width: 1023px){.ncmp__language>a{top:10px;font-size:10px}.ncmp__language>a img{width:14px}}.ncmp__language .ncmp__language-close{display:block;position:absolute;top:8px;right:8px}.ncmp__language .ncmp__language-close img{width:18px}.ncmp__language .ncmp__language-list{display:block;position:absolute;z-index:44;top:15px;right:15px;padding:10px;background:#083f6b;width:300px;box-shadow:-2px 4px 10px rgba(0,0,0,.5);opacity:0;pointer-events:none;transition:all .2s ease-in}.ncmp__language .ncmp__language-list a{color:#fff !important;font-weight:300}@media(max-width: 1023px){.ncmp__language .ncmp__language-list{width:auto;top:10px;right:10px;left:10px}}.ncmp__language .ncmp__language-list.active{pointer-events:all;opacity:.95}.ncmp__language .ncmp__language-list ul{list-style-type:none;display:grid;grid-template-columns:1fr 1fr 1fr;font-size:12px;margin:0;padding:0;grid-gap:3px}@media(max-width: 1023px){.ncmp__language .ncmp__language-list ul{grid-template-columns:1fr 1fr 1fr}}.ncmp__language .ncmp__language-list ul li{margin:0;padding:0;list-style-image:none}.ncmp__language.ncmp__language-modal>a{top:22px;right:30px}@media(max-width: 1023px){.ncmp__language.ncmp__language-modal>a{right:15px}.ncmp__language.ncmp__language-modal>a span{display:none}}.ncmp__language.ncmp__language-modal .ncmp__language-list{top:22px;right:30px}@media(max-width: 1023px){.ncmp__language.ncmp__language-modal .ncmp__language-list{width:auto;top:10px;right:10px;left:10px}}#nitropay-ccpa-shadow{margin:0;padding:0;border:0;font-size:100%;font:inherit;vertical-align:baseline;display:block;font-size:1em;position:fixed;top:0;left:0;bottom:0;right:0;pointer-events:none;background:rgba(0,0,0,0);opacity:0;z-index:-5;display:flex;align-items:center;justify-content:center}#nitropay-ccpa-shadow html,#nitropay-ccpa-shadow body,#nitropay-ccpa-shadow div,#nitropay-ccpa-shadow span,#nitropay-ccpa-shadow applet,#nitropay-ccpa-shadow object,#nitropay-ccpa-shadow iframe,#nitropay-ccpa-shadow h1,#nitropay-ccpa-shadow h2,#nitropay-ccpa-shadow h3,#nitropay-ccpa-shadow h4,#nitropay-ccpa-shadow h5,#nitropay-ccpa-shadow h6,#nitropay-ccpa-shadow p,#nitropay-ccpa-shadow blockquote,#nitropay-ccpa-shadow pre,#nitropay-ccpa-shadow a,#nitropay-ccpa-shadow abbr,#nitropay-ccpa-shadow acronym,#nitropay-ccpa-shadow address,#nitropay-ccpa-shadow big,#nitropay-ccpa-shadow cite,#nitropay-ccpa-shadow code,#nitropay-ccpa-shadow del,#nitropay-ccpa-shadow dfn,#nitropay-ccpa-shadow em,#nitropay-ccpa-shadow img,#nitropay-ccpa-shadow ins,#nitropay-ccpa-shadow kbd,#nitropay-ccpa-shadow q,#nitropay-ccpa-shadow s,#nitropay-ccpa-shadow samp,#nitropay-ccpa-shadow small,#nitropay-ccpa-shadow strike,#nitropay-ccpa-shadow strong,#nitropay-ccpa-shadow sub,#nitropay-ccpa-shadow sup,#nitropay-ccpa-shadow tt,#nitropay-ccpa-shadow var,#nitropay-ccpa-shadow b,#nitropay-ccpa-shadow u,#nitropay-ccpa-shadow i,#nitropay-ccpa-shadow center,#nitropay-ccpa-shadow dl,#nitropay-ccpa-shadow dt,#nitropay-ccpa-shadow dd,#nitropay-ccpa-shadow ol,#nitropay-ccpa-shadow ul,#nitropay-ccpa-shadow li,#nitropay-ccpa-shadow fieldset,#nitropay-ccpa-shadow form,#nitropay-ccpa-shadow label,#nitropay-ccpa-shadow legend,#nitropay-ccpa-shadow table,#nitropay-ccpa-shadow caption,#nitropay-ccpa-shadow tbody,#nitropay-ccpa-shadow tfoot,#nitropay-ccpa-shadow thead,#nitropay-ccpa-shadow tr,#nitropay-ccpa-shadow th,#nitropay-ccpa-shadow td,#nitropay-ccpa-shadow article,#nitropay-ccpa-shadow aside,#nitropay-ccpa-shadow canvas,#nitropay-ccpa-shadow details,#nitropay-ccpa-shadow embed,#nitropay-ccpa-shadow figure,#nitropay-ccpa-shadow figcaption,#nitropay-ccpa-shadow footer,#nitropay-ccpa-shadow header,#nitropay-ccpa-shadow hgroup,#nitropay-ccpa-shadow menu,#nitropay-ccpa-shadow nav,#nitropay-ccpa-shadow output,#nitropay-ccpa-shadow ruby,#nitropay-ccpa-shadow section,#nitropay-ccpa-shadow summary,#nitropay-ccpa-shadow time,#nitropay-ccpa-shadow mark,#nitropay-ccpa-shadow audio,#nitropay-ccpa-shadow video{margin:0;padding:0;border:0;font-size:100%;font:inherit;vertical-align:baseline}#nitropay-ccpa-shadow :focus{outline:0}#nitropay-ccpa-shadow article,#nitropay-ccpa-shadow aside,#nitropay-ccpa-shadow details,#nitropay-ccpa-shadow figcaption,#nitropay-ccpa-shadow figure,#nitropay-ccpa-shadow footer,#nitropay-ccpa-shadow header,#nitropay-ccpa-shadow hgroup,#nitropay-ccpa-shadow menu,#nitropay-ccpa-shadow nav,#nitropay-ccpa-shadow section{display:block}#nitropay-ccpa-shadow body{line-height:1}#nitropay-ccpa-shadow ol,#nitropay-ccpa-shadow ul{list-style:none}#nitropay-ccpa-shadow blockquote,#nitropay-ccpa-shadow q{quotes:none}#nitropay-ccpa-shadow blockquote:before,#nitropay-ccpa-shadow blockquote:after,#nitropay-ccpa-shadow q:before,#nitropay-ccpa-shadow q:after{content:\"\";content:none}#nitropay-ccpa-shadow table{border-collapse:collapse;border-spacing:0}#nitropay-ccpa-shadow input[type=search]::-webkit-search-cancel-button,#nitropay-ccpa-shadow input[type=search]::-webkit-search-decoration,#nitropay-ccpa-shadow input[type=search]::-webkit-search-results-button,#nitropay-ccpa-shadow input[type=search]::-webkit-search-results-decoration{-webkit-appearance:none;-moz-appearance:none}#nitropay-ccpa-shadow input[type=search]{-webkit-appearance:none;-moz-appearance:none;box-sizing:content-box}#nitropay-ccpa-shadow textarea{overflow:auto;vertical-align:top;resize:vertical}#nitropay-ccpa-shadow audio,#nitropay-ccpa-shadow canvas,#nitropay-ccpa-shadow video{display:inline-block;*display:inline;*zoom:1;max-width:100%}#nitropay-ccpa-shadow audio:not([controls]){display:none;height:0}#nitropay-ccpa-shadow [hidden]{display:none}#nitropay-ccpa-shadow html{font-size:100%;-webkit-text-size-adjust:100%;-ms-text-size-adjust:100%}#nitropay-ccpa-shadow a:focus{outline:thin dotted}#nitropay-ccpa-shadow a:active,#nitropay-ccpa-shadow a:hover{outline:0}#nitropay-ccpa-shadow img{border:0;-ms-interpolation-mode:bicubic}#nitropay-ccpa-shadow figure{margin:0}#nitropay-ccpa-shadow form{margin:0}#nitropay-ccpa-shadow fieldset{border:1px solid silver;margin:0 2px;padding:.35em .625em .75em}#nitropay-ccpa-shadow legend{border:0;padding:0;white-space:normal;*margin-left:-7px}#nitropay-ccpa-shadow button,#nitropay-ccpa-shadow input,#nitropay-ccpa-shadow select,#nitropay-ccpa-shadow textarea{font-size:100%;margin:0;vertical-align:baseline;*vertical-align:middle}#nitropay-ccpa-shadow button,#nitropay-ccpa-shadow input{line-height:normal}#nitropay-ccpa-shadow button,#nitropay-ccpa-shadow select{text-transform:none}#nitropay-ccpa-shadow button,#nitropay-ccpa-shadow html input[type=button],#nitropay-ccpa-shadow input[type=reset],#nitropay-ccpa-shadow input[type=submit]{-webkit-appearance:button;cursor:pointer;*overflow:visible}#nitropay-ccpa-shadow button[disabled],#nitropay-ccpa-shadow html input[disabled]{cursor:default}#nitropay-ccpa-shadow input[type=checkbox],#nitropay-ccpa-shadow input[type=radio]{box-sizing:border-box;padding:0;*height:13px;*width:13px}#nitropay-ccpa-shadow input[type=search]{-webkit-appearance:textfield;box-sizing:content-box}#nitropay-ccpa-shadow input[type=search]::-webkit-search-cancel-button,#nitropay-ccpa-shadow input[type=search]::-webkit-search-decoration{-webkit-appearance:none}#nitropay-ccpa-shadow button::-moz-focus-inner,#nitropay-ccpa-shadow input::-moz-focus-inner{border:0;padding:0}#nitropay-ccpa-shadow textarea{overflow:auto;vertical-align:top}#nitropay-ccpa-shadow table{border-collapse:collapse;border-spacing:0}#nitropay-ccpa-shadow html,#nitropay-ccpa-shadow button,#nitropay-ccpa-shadow input,#nitropay-ccpa-shadow select,#nitropay-ccpa-shadow textarea{color:#222}#nitropay-ccpa-shadow ::-moz-selection{background:#b3d4fc;text-shadow:none}#nitropay-ccpa-shadow ::selection{background:#b3d4fc;text-shadow:none}#nitropay-ccpa-shadow img{vertical-align:middle}#nitropay-ccpa-shadow fieldset{border:0;margin:0;padding:0}#nitropay-ccpa-shadow textarea{resize:vertical}#nitropay-ccpa-shadow .chromeframe{margin:.2em 0;background:#ccc;color:#000;padding:.2em 0}#nitropay-ccpa-shadow.nitropay-ccpa-shadow-active{background:rgba(0,0,0,.25);pointer-events:all;opacity:1;z-index:999998}#nitropay-ccpa-shadow #nitropay-ccpa-modal{background:#fff;width:100%;max-width:570px;max-height:800px;overflow:auto;box-shadow:0px 0px 15px rgba(0,0,0,.1);border:1px solid #f1f1f1;padding:30px;font-family:Roboto,Arial,Helvetica,sans-serif;color:#000}@media(max-width: 767px){#nitropay-ccpa-shadow #nitropay-ccpa-modal{height:100%;width:100%;box-sizing:border-box;max-width:100%;max-height:100%}}#nitropay-ccpa-shadow #nitropay-ccpa-modal #nitropay-ccpa-close-btn{float:right;width:24px;height:24px;cursor:pointer;opacity:.7}#nitropay-ccpa-shadow #nitropay-ccpa-modal #nitropay-ccpa-close-btn:hover{opacity:.85}#nitropay-ccpa-shadow #nitropay-ccpa-modal h1{color:#000;font-size:22px;font-weight:600;margin-bottom:15px}#nitropay-ccpa-shadow #nitropay-ccpa-modal h2{color:#000;font-weight:500;font-size:12px;text-transform:uppercase;letter-spacing:1px;margin-bottom:1px}#nitropay-ccpa-shadow #nitropay-ccpa-modal p{color:#000;margin-bottom:15px;font-size:14px;font-weight:300}#nitropay-ccpa-shadow #nitropay-ccpa-modal p a{color:#000;font-weight:500}#nitropay-ccpa-shadow #nitropay-ccpa-modal form{display:block;margin-top:20px;font-size:14px;border-top:1px solid #efefef;padding-top:20px}#nitropay-ccpa-shadow #nitropay-ccpa-modal form div{margin-bottom:5px}#nitropay-ccpa-shadow #nitropay-ccpa-modal label{color:#000;cursor:pointer}#nitropay-ccpa-shadow #nitropay-ccpa-modal #nitropay-ccpa-form-status{font-weight:500;color:green;margin:20px 0 0 0;display:none}#nitropay-ccpa-shadow #nitropay-ccpa-modal #nitropay-ccpa-form-status a{color:green}</style><style type=\"text/css\">.ncmp__banner{position:fixed;bottom:20px;right:20px;max-width:750px;background:#fff;box-shadow:0 0 8px rgba(0,0,0,.2);transition:opacity .25s ease-in;overflow:auto;max-height:100%;box-sizing:border-box;opacity:0;pointer-events:none;display:flex}@media(max-width: 1023px)and (min-height: 600px){.ncmp__banner{margin-top:10px;max-height:100vh;box-sizing:border-box;left:8px;bottom:8px;right:8px;max-width:100%;overflow:initial;background:#fff}}@media(max-width: 1023px)and (max-height: 599px){.ncmp__banner{top:20px;left:20px;max-width:100%}}.ncmp__banner.ncmp__banner-app{left:20px;top:20px;right:20px;bottom:20px;max-width:100%;margin-top:0;box-shadow:2px 2px 20px rgba(0,0,0,.45);padding:15px}.ncmp__banner.ncmp__banner-app h2{font-size:20px !important;margin-bottom:15px !important}.ncmp__banner.ncmp__banner-app p{font-size:14px !important;line-height:24px !important}.ncmp__banner.ncmp__banner-app .ncmp__banner-inner{display:flex;flex-direction:column}.ncmp__banner .ncmp__banner-updated{padding:5px 10px;background:#ffdda9;color:#af3800;margin-bottom:15px;font-size:13px}@media(max-width: 1023px){.ncmp__banner .ncmp__banner-updated{font-size:12px;font-weight:500;line-height:16px;margin-bottom:10px}}.ncmp__banner .ncmp__banner-sections .ncmp__banner-section-1{margin-bottom:8px}.ncmp__banner .ncmp__banner-sections .ncmp__banner-section-1 p{margin:0;font-size:13px;line-height:20px;color:#595959}@media(max-width: 1023px){.ncmp__banner .ncmp__banner-sections .ncmp__banner-section-1 p{font-size:12px;line-height:16px}}.ncmp__banner .ncmp__banner-sections .ncmp__banner-section-2 p.ncmp__banner-emphasis,.ncmp__banner .ncmp__banner-sections .ncmp__banner-section-3 p.ncmp__banner-emphasis{margin:0 0 5px 0;font-weight:500;font-size:13px;line-height:20px;color:#111}@media(max-width: 1023px){.ncmp__banner .ncmp__banner-sections .ncmp__banner-section-2 p.ncmp__banner-emphasis,.ncmp__banner .ncmp__banner-sections .ncmp__banner-section-3 p.ncmp__banner-emphasis{font-size:12px;line-height:16px}}.ncmp__banner .ncmp__banner-sections .ncmp__banner-section-2 p.ncmp__banner-emphasis strong,.ncmp__banner .ncmp__banner-sections .ncmp__banner-section-3 p.ncmp__banner-emphasis strong{font-weight:500}.ncmp__banner .ncmp__banner-sections .ncmp__banner-section-2 p,.ncmp__banner .ncmp__banner-sections .ncmp__banner-section-3 p{margin:0;font-size:13px;line-height:20px;color:#595959}@media(max-width: 1023px){.ncmp__banner .ncmp__banner-sections .ncmp__banner-section-2 p,.ncmp__banner .ncmp__banner-sections .ncmp__banner-section-3 p{font-size:12px;line-height:16px}}.ncmp__banner .ncmp__banner-inner{padding:20px;flex:1 1 auto;min-width:1px}@media(max-width: 1023px)and (min-height: 580px){.ncmp__banner .ncmp__banner-inner{padding:0;box-sizing:border-box}}@media(max-width: 1023px)and (max-height: 579px){.ncmp__banner .ncmp__banner-inner{padding:0;display:flex;flex-direction:column;height:100%;box-sizing:border-box}}.ncmp__banner .ncmp__banner-info{flex:1;display:flex}@media(max-width: 1023px){.ncmp__banner .ncmp__banner-info{flex:1 1 auto;overflow:auto;box-sizing:border-box;padding:12px 12px 0 12px;display:block;margin-bottom:12px}}.ncmp__banner .ncmp__banner-info h2{font-weight:600;font-size:16px;margin:0 0 10px 0;line-height:22px}@media(max-width: 1023px){.ncmp__banner .ncmp__banner-info h2{font-size:14px;margin-bottom:6px}}.ncmp__banner .ncmp__banner-info a.ncmp__toggle{font-weight:500}.ncmp__banner .ncmp__banner-info a.ncmp__toggle svg{vertical-align:middle;margin-right:5px;position:relative;top:-1px;-webkit-transform:rotate(-90deg);transform:rotate(-90deg);transition:.5s ease;fill:#2196f3}.ncmp__banner .ncmp__banner-info .ncmp__expand{max-height:0;transition:all .15s linear;overflow:hidden}.ncmp__banner .ncmp__banner-info h3{margin-left:25px;font-size:14px;font-weight:500;margin:10px 0 10px 25px;line-height:22px}.ncmp__banner .ncmp__banner-info ul{margin:0;margin-bottom:0;color:#595959}.ncmp__banner .ncmp__banner-info #ncmp__banner-features.ncmp__active a.ncmp__toggle,.ncmp__banner .ncmp__banner-info #ncmp__banner-information.ncmp__active a.ncmp__toggle,.ncmp__banner .ncmp__banner-info #ncmp__banner-purposes.ncmp__active a.ncmp__toggle{display:inline-block;margin-bottom:5px}.ncmp__banner .ncmp__banner-info #ncmp__banner-features.ncmp__active a.ncmp__toggle svg,.ncmp__banner .ncmp__banner-info #ncmp__banner-information.ncmp__active a.ncmp__toggle svg,.ncmp__banner .ncmp__banner-info #ncmp__banner-purposes.ncmp__active a.ncmp__toggle svg{-webkit-transform:rotate(0deg);transform:rotate(0deg)}.ncmp__banner .ncmp__banner-info #ncmp__banner-features.ncmp__active .ncmp__expand,.ncmp__banner .ncmp__banner-info #ncmp__banner-information.ncmp__active .ncmp__expand,.ncmp__banner .ncmp__banner-info #ncmp__banner-purposes.ncmp__active .ncmp__expand{max-height:370px}.ncmp__banner .ncmp__banner-info #ncmp__banner-features{margin-bottom:10px}.ncmp__banner .ncmp__banner-info #ncmp__banner-information,.ncmp__banner .ncmp__banner-info #ncmp__banner-purposes{margin-bottom:5px}.ncmp__banner .ncmp__banner-info #ncmp__banner-information.ncmp__active,.ncmp__banner .ncmp__banner-info #ncmp__banner-purposes.ncmp__active{margin-bottom:20px}.ncmp__banner .ncmp__banner-actions{margin-top:20px;box-sizing:border-box;text-align:right}@media(max-width: 1023px){.ncmp__banner .ncmp__banner-actions{text-align:left;margin-top:-6px;padding:0 12px 8px 12px}}.ncmp__banner .ncmp__banner-actions .ncmp__banner-btns{display:flex;margin:-2px}.ncmp__banner .ncmp__banner-actions .ncmp__banner-btns a{text-align:center;display:block;font-size:12px;text-decoration:underline !important}@media(max-width: 1023px){.ncmp__banner .ncmp__banner-actions .ncmp__banner-btns a{font-size:12px}}.ncmp__banner .ncmp__banner-actions .ncmp__banner-btns button{margin:5px;font-size:12px;font-weight:500 !important;line-height:20px;flex:1 1 40%}@media(max-width: 1023px){.ncmp__banner .ncmp__banner-actions .ncmp__banner-btns button{font-size:12px;margin:2px;height:28px !important;line-height:28px !important}}.ncmp__banner .ncmp__banner-actions .ncmp__banner-btns.ncmp__banner-btns-f{display:block;margin:20px auto 0 auto !important;max-width:400px}.ncmp__banner .ncmp__banner-actions .ncmp__banner-btns.ncmp__banner-btns-f button{display:block !important;width:100% !important;margin-bottom:4px !important}@media(max-width: 1023px)and (min-height: 380px){.ncmp__banner .ncmp__banner-actions{width:100%}}.ncmp__banner .ncmp__banner-consent{display:flex;align-items:center;margin-top:10px}.ncmp__banner .ncmp__banner-consent .ncmp__banner-branding-btn{display:flex;flex:0 0 26px;font-size:0;margin:0 2px 0 0;align-items:center}.ncmp__banner .ncmp__banner-consent .ncmp__banner-branding-btn a{display:flex;align-items:center;height:26px}.ncmp__banner .ncmp__banner-consent .ncmp__banner-branding-btn img{height:14px;margin:0;position:relative;vertical-align:middle}.ncmp__banner .ncmp__banner-consent p{font-size:13px;line-height:16px;color:#595959;font-weight:400;margin:0}@media(max-width: 1023px){.ncmp__banner .ncmp__banner-consent p{display:inline-block;font-size:11px;line-height:12px}}</style><style type=\"text/css\">#ncmp__modal{position:fixed;top:0;left:0;right:0;bottom:0;opacity:0;pointer-events:none;transition:opacity .25s ease-in;display:flex;justify-content:center;align-items:center}#ncmp__modal .ncmp__shadow{position:absolute;top:0;left:0;right:0;bottom:0;background:rgba(0,0,0,.2);z-index:1}#ncmp__modal .ncmp__modal{width:1100px;height:85vh;z-index:2;background:#fff;box-shadow:0 11px 15px -7px rgba(0,0,0,.2),0 24px 38px 3px rgba(0,0,0,.14),0 9px 46px 8px rgba(0,0,0,.12);display:flex;flex-direction:column;position:relative;overflow:hidden}@media(max-width: 1150px){#ncmp__modal .ncmp__modal{width:900px}}@media(max-width: 1024px){#ncmp__modal .ncmp__modal{width:100%;height:100%;box-sizing:border-box}}#ncmp__modal .ncmp__modal.ncmp__modal-app{position:fixed;top:20px;left:20px;right:20px;bottom:20px;box-shadow:2px 2px 20px rgba(0,0,0,.45);width:auto;height:auto}#ncmp__modal .ncmp__modal .ncmp__modal-content{display:flex;flex:1 1 auto;height:0}@media(max-width: 1023px){#ncmp__modal .ncmp__modal .ncmp__modal-content{flex-direction:column-reverse}}#ncmp__modal .ncmp__modal .ncmp__modal-content .ncmp__nav-hamburger{display:none}@media(max-width: 1023px){#ncmp__modal .ncmp__modal .ncmp__modal-content .ncmp__nav-hamburger{position:absolute;top:20px;left:15px;z-index:40;display:block;cursor:pointer}#ncmp__modal .ncmp__modal .ncmp__modal-content .ncmp__nav-hamburger svg{width:24px;height:24px}}#ncmp__modal .ncmp__modal .ncmp__modal-content .ncmp__nav{flex:0 0 240px;background:#0061b1;color:#fff;overflow:auto}@media(max-width: 1023px){#ncmp__modal .ncmp__modal .ncmp__modal-content .ncmp__nav{position:absolute;top:0;left:-240px;bottom:0;width:240px;z-index:50;transition:all .15s ease-in;overflow:auto}#ncmp__modal .ncmp__modal .ncmp__modal-content .ncmp__nav.ncmp__nav-active{left:0}}#ncmp__modal .ncmp__modal .ncmp__modal-content .ncmp__nav .ncmp__nav-top{height:66px;background:#1e83d4}#ncmp__modal .ncmp__modal .ncmp__modal-content .ncmp__nav ul{margin:0;padding:0;list-style:none}#ncmp__modal .ncmp__modal .ncmp__modal-content .ncmp__nav ul li{border-bottom:1px solid #1673bf}#ncmp__modal .ncmp__modal .ncmp__modal-content .ncmp__nav ul li.ncmp__nav-header{color:#fff;height:42px;line-height:42px;padding:0 20px;font-size:15px;font-weight:500;background:#00569c}#ncmp__modal .ncmp__modal .ncmp__modal-content .ncmp__nav ul li.ncmp__nav-item.ncmp__nav-item-active a{cursor:default;background:#004279 !important}#ncmp__modal .ncmp__modal .ncmp__modal-content .ncmp__nav ul li.ncmp__nav-item a{display:flex;font-size:13px;font-weight:300;text-decoration:none;color:#fff;padding:6px 20px;line-height:18px;align-items:center}#ncmp__modal .ncmp__modal .ncmp__modal-content .ncmp__nav ul li.ncmp__nav-item a:hover{background:#004279}#ncmp__modal .ncmp__modal .ncmp__modal-content .ncmp__nav ul li.ncmp__nav-item a .ncmp__purpose-status{display:block;flex:0 0 8px;width:8px;height:8px;border-radius:50%;background:#2787d6;margin-right:10px}#ncmp__modal .ncmp__modal .ncmp__modal-content .ncmp__nav ul li.ncmp__nav-item a .ncmp__purpose-status.ncmp__purpose-status-on{background:#6fff34}#ncmp__modal .ncmp__modal .ncmp__modal-content .ncmp__nav ul li.ncmp__nav-purpose a em{font-style:normal}#ncmp__modal .ncmp__modal .ncmp__modal-content .ncmp__router{flex:1 1 auto}#ncmp__modal .ncmp__modal h2{display:flex;align-items:center;position:-webkit-sticky;position:sticky;top:0;margin:0;padding:0 120px 0 30px;background:#fff;color:#000;font-weight:500;font-size:20px;z-index:10;height:66px;line-height:22px;text-transform:none}@media(max-width: 1023px){#ncmp__modal .ncmp__modal h2{font-size:16px;padding:0 15px 0 50px}}#ncmp__modal .ncmp__modal .ncmp__back{border:none;background:#fff;border-radius:50%;cursor:pointer;width:26px;height:26px;align-items:center;justify-content:center;display:flex;vertical-align:middle;font-size:0 !important;margin-right:10px;transition:all .1s ease-in}#ncmp__modal .ncmp__modal .ncmp__back svg{width:16px;height:16px;fill:#0061b1;transition:all .1s ease-in}#ncmp__modal .ncmp__modal .ncmp__back:hover{background:#0061b1}#ncmp__modal .ncmp__modal .ncmp__back:hover svg{fill:#fff}#ncmp__modal .ncmp__modal .ncmp__vendor-info{position:absolute;top:0;bottom:66px;right:-40%;z-index:30;background:#ececec;box-sizing:border-box;width:40%;transition:all .15s ease-in;overflow:auto}#ncmp__modal .ncmp__modal .ncmp__vendor-info.ncmp__vendor-active{right:0}@media(max-width: 1023px){#ncmp__modal .ncmp__modal .ncmp__vendor-info{width:100%;right:-100%}#ncmp__modal .ncmp__modal .ncmp__vendor-info.ncmp__vendor-active{right:0}}#ncmp__modal .ncmp__modal .ncmp__vendor-info .ncmp__vendor-body{padding:30px}@media(max-width: 1023px){#ncmp__modal .ncmp__modal .ncmp__vendor-info .ncmp__vendor-body{padding:15px}}#ncmp__modal .ncmp__modal .ncmp__vendor-info .ncmp__vendor-body h3{margin:0 0 10px 0;font-size:16px;font-weight:500;line-height:22px}#ncmp__modal .ncmp__modal .ncmp__vendor-info .ncmp__vendor-body .ncmp__vendor-section{margin-bottom:30px}@media(max-width: 1023px){#ncmp__modal .ncmp__modal .ncmp__vendor-info .ncmp__vendor-body .ncmp__vendor-section{margin-bottom:15px}}#ncmp__modal .ncmp__modal .ncmp__vendor-info .ncmp__vendor-body .ncmp__vendor-section a{word-break:break-all}#ncmp__modal .ncmp__modal .ncmp__vendor-info .ncmp__vendor-body .ncmp__vendor-section table{width:100%;border-collapse:collapse;box-sizing:border-box}#ncmp__modal .ncmp__modal .ncmp__vendor-info .ncmp__vendor-body .ncmp__vendor-section table tr td{border-bottom:1px solid #ccc;padding:10px;background:#f8f8f8;font-size:13px;color:#444}#ncmp__modal .ncmp__modal .ncmp__vendor-info .ncmp__vendor-body .ncmp__vendor-section table tr td strong{display:block;font-weight:500;font-size:14px}#ncmp__modal .ncmp__modal .ncmp__vendor-info .ncmp__vendor-body .ncmp__vendor-section table tr td em{display:block;font-weight:500;font-size:13px;font-style:normal;margin:5px 0}#ncmp__modal .ncmp__modal .ncmp__vendor-info .ncmp__vendor-body .ncmp__vendor-section table tr:last-child td{border:none}#ncmp__modal .ncmp__modal .ncmp__nav-shadow{position:absolute;top:0;left:0;bottom:0;right:0;z-index:45;pointer-events:none;background:rgba(0,0,0,0);transition:all .15s ease-in}#ncmp__modal .ncmp__modal .ncmp__nav-shadow.ncmp__nav-shadow-active{pointer-events:all;background:rgba(0,0,0,.2)}#ncmp__modal .ncmp__modal .ncmp__vendor-shadow{position:absolute;top:0;left:0;bottom:66px;right:0;z-index:25;pointer-events:none;background:rgba(0,0,0,0);transition:all .15s ease-in}#ncmp__modal .ncmp__modal .ncmp__vendor-shadow.ncmp__vendor-active{pointer-events:all;background:rgba(0,0,0,.2)}#ncmp__modal .ncmp__modal .ncmp__router{flex:1 1 auto;overflow:auto;position:relative}#ncmp__modal .ncmp__modal .ncmp__router .ncmp__col-toggle{width:74px}#ncmp__modal .ncmp__modal .ncmp__router .ncmp__col-name{text-align:left}#ncmp__modal .ncmp__modal .ncmp__router .ncmp__col-type{width:20%}#ncmp__modal .ncmp__modal .ncmp__router .ncmp__icon-yes{display:inline-block}#ncmp__modal .ncmp__modal .ncmp__router .ncmp__icon-yes svg{fill:#dc4100}#ncmp__modal .ncmp__modal .ncmp__router .ncmp__icon-no{display:inline-block}#ncmp__modal .ncmp__modal .ncmp__router .ncmp__icon-no svg{fill:#d0d0d0}#ncmp__modal .ncmp__modal .ncmp__router .ncmp__cookie-expire{display:inline-block;margin-left:10px;line-height:16px}@media(max-width: 767px){#ncmp__modal .ncmp__modal .ncmp__router .ncmp__cookie-expire{display:none}}#ncmp__modal .ncmp__modal .ncmp__router .ncmp__cookie-expire strong{display:block;font-weight:600;font-size:11px}#ncmp__modal .ncmp__modal .ncmp__router .ncmp__reject-purposes,#ncmp__modal .ncmp__modal .ncmp__router .ncmp__reject-table,#ncmp__modal .ncmp__modal .ncmp__router .ncmp__reject-features{text-align:right;margin-top:10px;margin-bottom:-10px}@media(max-width: 1023px){#ncmp__modal .ncmp__modal .ncmp__router .ncmp__reject-purposes,#ncmp__modal .ncmp__modal .ncmp__router .ncmp__reject-table,#ncmp__modal .ncmp__modal .ncmp__router .ncmp__reject-features{text-align:left;margin-top:15px;margin-bottom:10px}}#ncmp__modal .ncmp__modal .ncmp__router .ncmp__reject-purposes a,#ncmp__modal .ncmp__modal .ncmp__router .ncmp__reject-table a,#ncmp__modal .ncmp__modal .ncmp__router .ncmp__reject-features a{text-decoration:underline;color:#222}#ncmp__modal .ncmp__modal .ncmp__router .ncmp__reject-purposes a:hover,#ncmp__modal .ncmp__modal .ncmp__router .ncmp__reject-table a:hover,#ncmp__modal .ncmp__modal .ncmp__router .ncmp__reject-features a:hover{color:#222}#ncmp__modal .ncmp__modal .ncmp__router .ncmp__reject-purposes a.ncmp__toggle-purposes-off,#ncmp__modal .ncmp__modal .ncmp__router .ncmp__reject-purposes a.ncmp__toggle-vendors-off,#ncmp__modal .ncmp__modal .ncmp__router .ncmp__reject-purposes a.ncmp__toggle-legint-purposes-off,#ncmp__modal .ncmp__modal .ncmp__router .ncmp__reject-purposes a.ncmp__toggle-legint-vendors-off,#ncmp__modal .ncmp__modal .ncmp__router .ncmp__reject-table a.ncmp__toggle-purposes-off,#ncmp__modal .ncmp__modal .ncmp__router .ncmp__reject-table a.ncmp__toggle-vendors-off,#ncmp__modal .ncmp__modal .ncmp__router .ncmp__reject-table a.ncmp__toggle-legint-purposes-off,#ncmp__modal .ncmp__modal .ncmp__router .ncmp__reject-table a.ncmp__toggle-legint-vendors-off,#ncmp__modal .ncmp__modal .ncmp__router .ncmp__reject-features a.ncmp__toggle-purposes-off,#ncmp__modal .ncmp__modal .ncmp__router .ncmp__reject-features a.ncmp__toggle-vendors-off,#ncmp__modal .ncmp__modal .ncmp__router .ncmp__reject-features a.ncmp__toggle-legint-purposes-off,#ncmp__modal .ncmp__modal .ncmp__router .ncmp__reject-features a.ncmp__toggle-legint-vendors-off{color:#555;font-weight:400}#ncmp__modal .ncmp__modal .ncmp__router .ncmp__reject-table{text-align:left;margin-bottom:10px}#ncmp__modal .ncmp__modal .ncmp__router .ncmp__information .ncmp__information-body,#ncmp__modal .ncmp__modal .ncmp__router .ncmp__information .ncmp__object-body,#ncmp__modal .ncmp__modal .ncmp__router .ncmp__object .ncmp__information-body,#ncmp__modal .ncmp__modal .ncmp__router .ncmp__object .ncmp__object-body{padding:30px;background:#efefef;position:relative}@media(max-width: 1023px){#ncmp__modal .ncmp__modal .ncmp__router .ncmp__information .ncmp__information-body,#ncmp__modal .ncmp__modal .ncmp__router .ncmp__information .ncmp__object-body,#ncmp__modal .ncmp__modal .ncmp__router .ncmp__object .ncmp__information-body,#ncmp__modal .ncmp__modal .ncmp__router .ncmp__object .ncmp__object-body{padding:15px}}#ncmp__modal .ncmp__modal .ncmp__router .ncmp__section .ncmp__illustrations{padding:15px;background:#ffebbd;border-left:8px solid #efc667;margin-bottom:30px}#ncmp__modal .ncmp__modal .ncmp__router .ncmp__section .ncmp__illustrations ul{margin:0 0 0 20px;padding:0;list-style-type:square}#ncmp__modal .ncmp__modal .ncmp__router .ncmp__section .ncmp__illustrations ul li{margin-bottom:30px}#ncmp__modal .ncmp__modal .ncmp__router .ncmp__section .ncmp__illustrations ul li:last-child{margin:0}#ncmp__modal .ncmp__modal .ncmp__router .ncmp__section .ncmp__description-legal{margin-bottom:30px}@media(max-width: 1023px){#ncmp__modal .ncmp__modal .ncmp__router .ncmp__section .ncmp__description-legal{margin-bottom:15px}}#ncmp__modal .ncmp__modal .ncmp__router .ncmp__section .ncmp__description-legal strong{margin-bottom:5px;display:block;font-weight:500}#ncmp__modal .ncmp__modal .ncmp__router .ncmp__section .ncmp__description-legal h3{margin:0 0 5px 0;font-size:14px;font-weight:500;line-height:22px}#ncmp__modal .ncmp__modal .ncmp__router .ncmp__section .ncmp__description-legal p{margin:0;white-space:pre-wrap;font-size:14px}#ncmp__modal .ncmp__modal .ncmp__router .ncmp__section .ncmp__section-body{padding:30px;background:#efefef;position:relative}@media(max-width: 1023px){#ncmp__modal .ncmp__modal .ncmp__router .ncmp__section .ncmp__section-body{padding:15px}}#ncmp__modal .ncmp__modal .ncmp__router .ncmp__section table{width:100%;border-collapse:collapse;box-sizing:border-box}#ncmp__modal .ncmp__modal .ncmp__router .ncmp__section table tr td{border-bottom:1px solid #ccc;padding:5px 10px;font-size:13px;color:#444}#ncmp__modal .ncmp__modal .ncmp__router .ncmp__section table tr td p{margin:0;font-size:13px}#ncmp__modal .ncmp__modal .ncmp__router .ncmp__section table tr th{position:-webkit-sticky;position:sticky;top:66px;z-index:9;padding:5px;font-weight:400;font-size:13px;background:#2d2d2d;color:#fff;border:none}#ncmp__modal .ncmp__modal .ncmp__router .ncmp__section table tr:nth-child(even) td{background:#e4e4e4}#ncmp__modal .ncmp__modal .ncmp__router section{margin-bottom:30px}@media(max-width: 1023px){#ncmp__modal .ncmp__modal .ncmp__router section{margin-bottom:15px}}#ncmp__modal .ncmp__modal .ncmp__router section .ncmp__section-title{margin-bottom:15px}@media(max-width: 1023px){#ncmp__modal .ncmp__modal .ncmp__router section .ncmp__section-title{margin-bottom:5px}}#ncmp__modal .ncmp__modal .ncmp__router section .ncmp__section-title h3{font-weight:500;font-size:15px;margin:0;line-height:22px}@media(max-width: 1023px){#ncmp__modal .ncmp__modal .ncmp__router section .ncmp__section-title h3{font-size:16px}}#ncmp__modal .ncmp__modal .ncmp__router section .ncmp__section-details p{margin-top:0;font-size:14px}#ncmp__modal .ncmp__modal .ncmp__router section .ncmp__section-details p:last-child{margin:0}#ncmp__modal .ncmp__modal .ncmp__router .ncmp__list{display:grid;grid-template-columns:1fr;grid-gap:20px;flex-wrap:wrap}@media(max-width: 1024px){#ncmp__modal .ncmp__modal .ncmp__router .ncmp__list{grid-template-columns:1fr}}#ncmp__modal .ncmp__modal .ncmp__router .ncmp__list .ncmp__list-item{flex:1 0 30%;background:#fbfbfb;padding:15px;display:flex;flex-direction:column}#ncmp__modal .ncmp__modal .ncmp__router .ncmp__list .ncmp__list-item .ncmp__toggle{flex:0 0 72px;float:right;margin-left:15px;margin-bottom:15px}#ncmp__modal .ncmp__modal .ncmp__router .ncmp__list .ncmp__list-item .ncmp__list-info{flex:1 1 auto}#ncmp__modal .ncmp__modal .ncmp__router .ncmp__list .ncmp__list-item .ncmp__list-info strong{display:block;font-weight:500;font-size:15px;margin-bottom:5px}#ncmp__modal .ncmp__modal .ncmp__router .ncmp__list .ncmp__list-item .ncmp__list-info p{margin:0;color:#444;font-weight:400;font-size:13px}#ncmp__modal .ncmp__modal .ncmp__router .ncmp__list .ncmp__list-item .ncmp__list-info .ncmp__vendor-consent{margin-bottom:5px;font-weight:500}#ncmp__modal .ncmp__modal .ncmp__router .ncmp__list .ncmp__list-item .ncmp__list-action{flex:0 0 auto;font-size:13px;padding-top:5px}#ncmp__modal .ncmp__modal .ncmp__router .ncmp__list .ncmp__list-item .ncmp__list-action a{color:#595959;border-bottom:1px solid #ccc;font-weight:400}#ncmp__modal .ncmp__modal .ncmp__router .ncmp__list .ncmp__list-item .ncmp__list-action a:hover{color:#222}#ncmp__modal .ncmp__modal .ncmp__router .ncmp__toggle{width:56px;height:24px;position:relative;display:inline-block;vertical-align:middle}#ncmp__modal .ncmp__modal .ncmp__router .ncmp__toggle label{width:56px;height:24px;display:block;border-radius:34px;background-color:#cecece;transition:background-color .4s;cursor:pointer}#ncmp__modal .ncmp__modal .ncmp__router .ncmp__toggle label:before{content:\"\";display:block;background-color:#fff;bottom:3px;height:18px;left:3px;position:absolute;transition:.4s;width:18px;z-index:5;border-radius:100%}#ncmp__modal .ncmp__modal .ncmp__router .ncmp__toggle label span{position:absolute;top:0;left:0;right:0;bottom:0;display:block;line-height:24px;text-transform:uppercase;font-size:12px;font-weight:bold;color:#484848;padding-left:26px;transition:all .4s}#ncmp__modal .ncmp__modal .ncmp__router .ncmp__toggle label span.ncmp__toggle-on{opacity:0}#ncmp__modal .ncmp__modal .ncmp__router .ncmp__toggle input{position:absolute;opacity:0}#ncmp__modal .ncmp__modal .ncmp__router .ncmp__toggle input:checked+label{background-color:#0061b1}#ncmp__modal .ncmp__modal .ncmp__router .ncmp__toggle input:checked+label:before{-webkit-transform:translateX(32px);transform:translateX(32px)}#ncmp__modal .ncmp__modal .ncmp__router .ncmp__toggle input:checked+label span{color:#fff;padding-left:8px}#ncmp__modal .ncmp__modal .ncmp__router .ncmp__toggle input:checked+label span.ncmp__toggle-on{opacity:1}#ncmp__modal .ncmp__modal .ncmp__router .ncmp__toggle input:checked+label span.ncmp__toggle-off{opacity:0}#ncmp__modal .ncmp__modal .ncmp__modal-actions{flex:0 0 auto;padding:4px 15px;min-height:66px;display:flex;align-items:center;width:100%;box-sizing:border-box}#ncmp__modal .ncmp__modal .ncmp__modal-actions .ncmp__branding{flex:1 1 auto;display:flex;align-items:center;color:#8e8e8e}#ncmp__modal .ncmp__modal .ncmp__modal-actions .ncmp__branding .ncmp__branding-logo{flex:0 0 auto;margin-right:10px;display:flex;align-items:center}@media(max-width: 320px){#ncmp__modal .ncmp__modal .ncmp__modal-actions .ncmp__branding .ncmp__branding-logo{display:none}}#ncmp__modal .ncmp__modal .ncmp__modal-actions .ncmp__branding .ncmp__branding-logo a{display:flex;align-items:center}#ncmp__modal .ncmp__modal .ncmp__modal-actions .ncmp__branding .ncmp__branding-logo a img{width:26px;height:20px}#ncmp__modal .ncmp__modal .ncmp__modal-actions .ncmp__branding .ncmp__branding-version{flex:1 1 auto;font-size:11px;line-height:14px}@media(max-width: 1023px){#ncmp__modal .ncmp__modal .ncmp__modal-actions .ncmp__branding .ncmp__branding-version{display:none}}#ncmp__modal .ncmp__modal .ncmp__modal-actions .ncmp__branding .ncmp__branding-version span{display:block}#ncmp__modal .ncmp__modal .ncmp__modal-actions .ncmp__branding .ncmp__branding-version span a{border-bottom:1px solid #dedede;color:#777}#ncmp__modal .ncmp__modal .ncmp__modal-actions .ncmp__branding .ncmp__branding-version span a:hover{color:#666}#ncmp__modal .ncmp__modal .ncmp__modal-actions .ncmp__buttons{display:flex;flex-wrap:wrap;row-gap:4px;justify-content:flex-end}#ncmp__modal .ncmp__modal .ncmp__modal-actions .ncmp__buttons button{margin-left:5px}</style><meta http-equiv=\"origin-trial\" content=\"AlK2UR5SkAlj8jjdEc9p3F3xuFYlF6LYjAML3EOqw1g26eCwWPjdmecULvBH5MVPoqKYrOfPhYVL71xAXI1IBQoAAAB8eyJvcmlnaW4iOiJodHRwczovL2RvdWJsZWNsaWNrLm5ldDo0NDMiLCJmZWF0dXJlIjoiV2ViVmlld1hSZXF1ZXN0ZWRXaXRoRGVwcmVjYXRpb24iLCJleHBpcnkiOjE3NTgwNjcxOTksImlzU3ViZG9tYWluIjp0cnVlfQ==\"><meta http-equiv=\"origin-trial\" content=\"Amm8/NmvvQfhwCib6I7ZsmUxiSCfOxWxHayJwyU1r3gRIItzr7bNQid6O8ZYaE1GSQTa69WwhPC9flq/oYkRBwsAAACCeyJvcmlnaW4iOiJodHRwczovL2dvb2dsZXN5bmRpY2F0aW9uLmNvbTo0NDMiLCJmZWF0dXJlIjoiV2ViVmlld1hSZXF1ZXN0ZWRXaXRoRGVwcmVjYXRpb24iLCJleHBpcnkiOjE3NTgwNjcxOTksImlzU3ViZG9tYWluIjp0cnVlfQ==\"><meta http-equiv=\"origin-trial\" content=\"A9wSqI5i0iwGdf6L1CERNdmsTPgVu44ewj8QxTBYgsv1LCPUVF7YmWOvTappqB1139jAymxUW/RO8zmMqo4zlAAAAACNeyJvcmlnaW4iOiJodHRwczovL2RvdWJsZWNsaWNrLm5ldDo0NDMiLCJmZWF0dXJlIjoiRmxlZGdlQmlkZGluZ0FuZEF1Y3Rpb25TZXJ2ZXIiLCJleHBpcnkiOjE3MzY4MTI4MDAsImlzU3ViZG9tYWluIjp0cnVlLCJpc1RoaXJkUGFydHkiOnRydWV9\"><meta http-equiv=\"origin-trial\" content=\"A+d7vJfYtay4OUbdtRPZA3y7bKQLsxaMEPmxgfhBGqKXNrdkCQeJlUwqa6EBbSfjwFtJWTrWIioXeMW+y8bWAgQAAACTeyJvcmlnaW4iOiJodHRwczovL2dvb2dsZXN5bmRpY2F0aW9uLmNvbTo0NDMiLCJmZWF0dXJlIjoiRmxlZGdlQmlkZGluZ0FuZEF1Y3Rpb25TZXJ2ZXIiLCJleHBpcnkiOjE3MzY4MTI4MDAsImlzU3ViZG9tYWluIjp0cnVlLCJpc1RoaXJkUGFydHkiOnRydWV9\"><script src=\"https://securepubads.g.doubleclick.net/pagead/managed/js/gpt/m202505210101/pubads_impl.js\" async=\"\"></script><link href=\"https://securepubads.g.doubleclick.net/pagead/managed/dict/m202505290101/gpt\" rel=\"compression-dictionary\"><script src=\"https://config.aps.amazon-adsystem.com/configs/da657530-03e5-4306-95bc-d4eb370426c9\" type=\"text/javascript\" async=\"async\"></script><script class=\"nitro-comscore\" async=\"\" src=\"https://sb.scorecardresearch.com/cs/20631572/beacon.js\"></script><script src=\"//secure.cdn.fastclick.net/js/pubcid/latest/pubcid.min.js\"></script><script src=\"https://tags.crwdcntrl.net/lt/c/16576/sync.min.js\"></script><script src=\"//cdn.id5-sync.com/api/1.0/id5-api.js\"></script><iframe src=\"https://btloader.com/trustedIframe.html?o=6278260873756672\"></iframe><style type=\"text/css\" data-fbcssmodules=\"css:fb.css.base css:fb.css.dialog css:fb.css.iframewidget\">.fb_hidden{position:absolute;top:-10000px;z-index:10001}.fb_reposition{overflow:hidden;position:relative}.fb_invisible{display:none}.fb_reset{background:none;border:0px;border-spacing:0;color:#000;cursor:auto;direction:ltr;font-family:\\'lucida grande\\', tahoma, verdana, arial, sans-serif;font-size:11px;font-style:normal;font-variant:normal;font-weight:normal;letter-spacing:normal;line-height:1;margin:0;overflow:visible;padding:0;text-align:left;text-decoration:none;text-indent:0;text-shadow:none;text-transform:none;visibility:visible;white-space:normal;word-spacing:normal}.fb_reset>div{overflow:hidden}@keyframes fb_transform{from{opacity:0;transform:scale(.95)}to{opacity:1;transform:scale(1)}}.fb_animate{animation:fb_transform .3s forwards}\\n.fb_hidden{position:absolute;top:-10000px;z-index:10001}.fb_reposition{overflow:hidden;position:relative}.fb_invisible{display:none}.fb_reset{background:none;border:0px;border-spacing:0;color:#000;cursor:auto;direction:ltr;font-family:\\'lucida grande\\', tahoma, verdana, arial, sans-serif;font-size:11px;font-style:normal;font-variant:normal;font-weight:normal;letter-spacing:normal;line-height:1;margin:0;overflow:visible;padding:0;text-align:left;text-decoration:none;text-indent:0;text-shadow:none;text-transform:none;visibility:visible;white-space:normal;word-spacing:normal}.fb_reset>div{overflow:hidden}@keyframes fb_transform{from{opacity:0;transform:scale(.95)}to{opacity:1;transform:scale(1)}}.fb_animate{animation:fb_transform .3s forwards}\\n.fb_dialog{background:rgba(82,82,82,.7);position:absolute;top:-10000px;z-index:10001}.fb_dialog_advanced{border-radius:8px;padding:10px}.fb_dialog_content{background:#fff;color:#373737}.fb_dialog_close_icon{background:url(https://connect.facebook.net/rsrc.php/v4/yq/r/IE9JII6Z1Ys.png) no-repeat scroll 0 0 transparent;cursor:pointer;display:block;height:15px;position:absolute;right:18px;top:17px;width:15px}.fb_dialog_mobile .fb_dialog_close_icon{left:5px;right:auto;top:5px}.fb_dialog_padding{background-color:transparent;position:absolute;width:1px;z-index:-1}.fb_dialog_close_icon:hover{background:url(https://connect.facebook.net/rsrc.php/v4/yq/r/IE9JII6Z1Ys.png) no-repeat scroll 0 -15px transparent}.fb_dialog_close_icon:active{background:url(https://connect.facebook.net/rsrc.php/v4/yq/r/IE9JII6Z1Ys.png) no-repeat scroll 0 -30px transparent}.fb_dialog_iframe{line-height:0}.fb_dialog_content .dialog_title{background:#6d84b4;border:1px solid #365899;color:#fff;font-size:14px;font-weight:bold;margin:0}.fb_dialog_content .dialog_title>span{background:url(https://connect.facebook.net/rsrc.php/v4/yd/r/Cou7n-nqK52.gif) no-repeat 5px 50%;float:left;padding:5px 0 7px 26px}body.fb_hidden{height:100%;left:0px;margin:0px;overflow:visible;position:absolute;top:-10000px;transform:none;width:100%}.fb_dialog.fb_dialog_mobile.loading{background:url(https://connect.facebook.net/rsrc.php/v4/ya/r/3rhSv5V8j3o.gif) white no-repeat 50% 50%;min-height:100%;min-width:100%;overflow:hidden;position:absolute;top:0;z-index:10001}.fb_dialog.fb_dialog_mobile.loading.centered{background:none;height:auto;min-height:initial;min-width:initial;width:auto}.fb_dialog.fb_dialog_mobile.loading.centered #fb_dialog_loader_spinner{width:100%}.fb_dialog.fb_dialog_mobile.loading.centered .fb_dialog_content{background:none}.loading.centered #fb_dialog_loader_close{clear:both;color:white;display:block;font-size:18px;padding-top:20px}#fb-root #fb_dialog_ipad_overlay{background:rgba(0,0,0,.4);bottom:0;left:0;min-height:100%;position:absolute;right:0;top:0;width:100%;z-index:10000}#fb-root #fb_dialog_ipad_overlay.hidden{display:none}.fb_dialog.fb_dialog_mobile.loading iframe{visibility:hidden}.fb_dialog_mobile .fb_dialog_iframe{position:sticky;top:0}.fb_dialog_content .dialog_header{background:linear-gradient(from(#738aba), to(#2c4987));border-bottom:1px solid;border-color:#043b87;box-shadow:white 0px 1px 1px -1px inset;color:#fff;font:bold 14px Helvetica, sans-serif;text-overflow:ellipsis;text-shadow:rgba(0,30,84,.296875) 0px -1px 0px;vertical-align:middle;white-space:nowrap}.fb_dialog_content .dialog_header table{height:43px;width:100%}.fb_dialog_content .dialog_header td.header_left{font-size:12px;padding-left:5px;vertical-align:middle;width:60px}.fb_dialog_content .dialog_header td.header_right{font-size:12px;padding-right:5px;vertical-align:middle;width:60px}.fb_dialog_content .touchable_button{background:linear-gradient(from(#4267b2), to(#2a4887));background-clip:padding-box;border:1px solid #29487d;border-radius:3px;display:inline-block;line-height:18px;margin-top:3px;max-width:85px;padding:4px 12px;position:relative}.fb_dialog_content .dialog_header .touchable_button input{background:none;border:none;color:white;font:bold 12px Helvetica, sans-serif;margin:2px -12px;padding:2px 6px 3px 6px;text-shadow:rgba(0,30,84,.296875) 0px -1px 0px}.fb_dialog_content .dialog_header .header_center{color:#fff;font-size:16px;font-weight:bold;line-height:18px;text-align:center;vertical-align:middle}.fb_dialog_content .dialog_content{background:url(https://connect.facebook.net/rsrc.php/v4/y9/r/jKEcVPZFk-2.gif) no-repeat 50% 50%;border:1px solid #4a4a4a;border-bottom:0;border-top:0;height:150px}.fb_dialog_content .dialog_footer{background:#f5f6f7;border:1px solid #4a4a4a;border-top-color:#ccc;height:40px}#fb_dialog_loader_close{float:left}.fb_dialog.fb_dialog_mobile .fb_dialog_close_icon{visibility:hidden}#fb_dialog_loader_spinner{animation:rotateSpinner 1.2s linear infinite;background-color:transparent;background-image:url(https://connect.facebook.net/rsrc.php/v4/yD/r/t-wz8gw1xG1.png);background-position:50% 50%;background-repeat:no-repeat;height:24px;width:24px}@keyframes rotateSpinner{0%{transform:rotate(0deg)}100%{transform:rotate(360deg)}}\\n.fb_iframe_widget{display:inline-block;position:relative}.fb_iframe_widget span{display:inline-block;position:relative;text-align:justify}.fb_iframe_widget iframe{position:absolute}.fb_iframe_widget_fluid_desktop,.fb_iframe_widget_fluid_desktop span,.fb_iframe_widget_fluid_desktop iframe{max-width:100%}.fb_iframe_widget_fluid_desktop iframe{min-width:220px;position:relative}.fb_iframe_widget_lift{z-index:1}.fb_iframe_widget_fluid{display:inline}.fb_iframe_widget_fluid span{width:100%}</style></head>\\n<body class=\"participants participants-standings      -application-new\">\\n<div class=\"cake-unit\" data-js-scroll-stop=\"\" data-js-sticky-elem=\"\">\\n<div class=\"body\">\\n\\n</div>\\n</div>\\n\\n<div class=\"redesign-top-leaderboard\">\\n<div class=\"-horizontal cake-unit\" data-js-scroll-stop=\"\" data-js-sticky-elem=\"\">\\n<div class=\"body\">\\n<div class=\"cake\" data-placement-name=\"leaderboard\" id=\"cake-top\"></div>\\n</div>\\n</div>\\n\\n</div>\\n<div class=\"redesign-left-gutter\" style=\"height: 978px;\">\\n<div class=\"redesign-cake-box\">\\n<div class=\"-wide-vertical cake-unit\" data-js-scroll-stop=\"\" data-js-sticky-elem=\"\">\\n<div class=\"disclaimer\">\\n<a href=\"https://challonge.com/pricing?utm_campaign=upgrade&amp;utm_id=internal&amp;utm_medium=label&amp;utm_source=ad\">Ad – Upgrade to Remove</a>\\n</div>\\n<div class=\"body\">\\n<div class=\"cake\" data-placement-name=\"vertical_desktop\" id=\"cake-gutter-left\"></div>\\n</div>\\n</div>\\n\\n</div>\\n</div>\\n<div class=\"redesign-right-gutter\" style=\"height: 978px;\">\\n<div class=\"redesign-cake-box\">\\n<div class=\"-wide-vertical cake-unit\" data-js-scroll-stop=\"\" data-js-sticky-elem=\"\">\\n<div class=\"disclaimer\">\\n<a href=\"https://challonge.com/pricing?utm_campaign=upgrade&amp;utm_id=internal&amp;utm_medium=label&amp;utm_source=ad\">Ad – Upgrade to Remove</a>\\n</div>\\n<div class=\"body\">\\n<div class=\"cake\" data-placement-name=\"vertical_desktop\" id=\"cake-gutter-right\"></div>\\n</div>\\n</div>\\n\\n</div>\\n</div>\\n<div class=\"redesign-wrapper\">\\n<script>\\n  function gCsldkfj(n){for(var r=n+\"=\",t=document.cookie.split(\";\"),e=0;e<t.length;e++){for(var i=t[e];\" \"==i.charAt(0);)i=i.substring(1,i.length);if(0==i.indexOf(r))return i.substring(r.length,i.length)}return null}\\n  var _sc = gCsldkfj(\\'_ck\\'); if (_sc === \"false\") { var _rw = document.getElementsByClassName(\\'redesign-wrapper\\')[0]; _rw.classList.add(\\'-cakeless\\'); }\\n</script>\\n<div data-facebook-app-id=\"133242486729759\" id=\"facebook-js-sdk\"></div>\\n<svg display=\"none\" height=\"0\" viewBox=\"0 0 318 227\" width=\"0\" xmlns:xlink=\"http://www.w3.org/1999/xlink\" xmlns=\"http://www.w3.org/2000/svg\">\\n<defs>\\n<g id=\"icon-book\">\\n<path d=\"M21.0716 3C20.604 3 15.2441 3.23808 12 5.087C8.75587 3.23808 3.396 3 2.92837 3C1.31362 3 0 4.25976 0 5.80822V17.317C0 18.8111 1.21762 20.0426 2.772 20.1201C4.15125 20.1901 7.60237 20.4686 9.81187 21.5394C10.119 21.688 10.4587 21.7701 10.7996 21.7808V21.7826H13.2004V21.7808C13.5413 21.7701 13.881 21.688 14.1881 21.5394C16.3976 20.4686 19.8487 20.1901 21.228 20.1201C22.7824 20.0426 24 18.8111 24 17.317V5.80822C24 4.25976 22.6864 3 21.0716 3ZM11.1 19.0734C11.1 19.4803 10.689 19.7671 10.3001 19.6222C7.88025 18.722 4.52662 18.4458 2.8635 18.361C2.26725 18.3317 1.8 17.8731 1.8 17.317V5.80822C1.8 5.2308 2.30625 4.76087 2.92725 4.76087C3.67462 4.76454 7.67287 5.04738 10.3721 6.24624C10.8082 6.43993 11.0947 6.8574 11.0951 7.32624L11.1 11.2174V19.0734ZM22.2 17.317C22.2 17.8731 21.7327 18.3317 21.1365 18.3614C19.4734 18.4458 16.1197 18.722 13.6999 19.6226C13.311 19.7671 12.9 19.4806 12.9 19.0738V11.2174L12.9052 7.32587C12.906 6.85704 13.1921 6.43993 13.6282 6.24587C16.3275 5.04738 20.3257 4.76454 21.0728 4.76087C21.6937 4.76087 22.2 5.2308 22.2 5.80822V17.317Z\"></path>\\n</g>\\n<g id=\"icon-bracket\">\\n<path d=\"M3.9 12.9167H11.1V14.6667H12.9V12.9167H20.1V14.6667H21.9V12.567C21.9 11.7952 21.2543 11.1667 20.4596 11.1667H12.9V8.83333H14.4C15.0626 8.83333 15.6 8.31089 15.6 7.66667V4.16667C15.6 3.52245 15.0626 3 14.4 3H9.6C8.93738 3 8.4 3.52245 8.4 4.16667V7.66667C8.4 7.98896 8.53425 8.28062 8.75138 8.49172C8.9685 8.70281 9.2685 8.83333 9.6 8.83333H11.1V11.1667H3.54038C2.74575 11.1667 2.1 11.7948 2.1 12.567V14.6667H3.9V12.9167ZM10.2 7.08333V4.75H13.8V7.08333H10.2ZM22.8 15.8333H19.2C18.5374 15.8333 18 16.3558 18 17V20.5C18 21.1442 18.5374 21.6667 19.2 21.6667H22.8C23.4626 21.6667 24 21.1442 24 20.5V17C24 16.3558 23.4626 15.8333 22.8 15.8333ZM22.2 19.9167H19.8V17.5833H22.2V19.9167ZM13.8 15.8333H10.2C9.53738 15.8333 9 16.3558 9 17V20.5C9 21.1442 9.53738 21.6667 10.2 21.6667H13.8C14.4626 21.6667 15 21.1442 15 20.5V17C15 16.3558 14.4626 15.8333 13.8 15.8333ZM13.2 19.9167H10.8V17.5833H13.2V19.9167ZM4.8 15.8333H1.2C0.537375 15.8333 0 16.3558 0 17V20.5C0 21.1442 0.537375 21.6667 1.2 21.6667H4.8C5.46263 21.6667 6 21.1442 6 20.5V17C6 16.3558 5.46263 15.8333 4.8 15.8333ZM4.2 19.9167H1.8V17.5833H4.2V19.9167Z\"></path>\\n</g>\\n<g id=\"icon-history\">\\n<path d=\"M23.6248 11.9781C23.6366 18.3831 18.4131 23.6205 12.0081 23.625C9.00748 23.6271 6.2719 22.4924 4.20842 20.6277C3.96949 20.4118 3.95998 20.0398 4.18765 19.8121L4.98265 19.0171C5.19495 18.8048 5.53465 18.7987 5.75867 18.9986C7.41579 20.477 9.60204 21.375 11.9998 21.375C17.1818 21.375 21.3748 17.1812 21.3748 12C21.3748 6.81802 17.181 2.625 11.9998 2.625C9.39729 2.625 7.04473 3.68316 5.34715 5.39264L7.64829 7.662C8.00646 8.0152 7.75634 8.625 7.25332 8.625H1.23785C0.927213 8.625 0.675354 8.37314 0.675354 8.0625V2.13014C0.675354 1.63088 1.27737 1.37906 1.63282 1.72964L3.74674 3.81436C5.85289 1.69064 8.77245 0.375 11.9998 0.375C18.4128 0.375 23.6129 5.56786 23.6248 11.9781ZM15.7939 16.2049L16.4556 15.2951C16.6384 15.0439 16.5828 14.6921 16.3316 14.5094L13.1248 12.1771V5.4375C13.1248 5.12686 12.8729 4.875 12.5623 4.875H11.4373C11.1267 4.875 10.8748 5.12686 10.8748 5.4375V13.3229L15.0082 16.329C15.2594 16.5117 15.6112 16.4561 15.7939 16.2049Z\"></path>\\n</g>\\n<g id=\"icon-list\">\\n<path d=\"M23.3339 6.3125H6.45886C6.14822 6.3125 5.89636 6.06064 5.89636 5.75V4.25C5.89636 3.93936 6.14822 3.6875 6.45886 3.6875H23.3339C23.6445 3.6875 23.8964 3.93936 23.8964 4.25V5.75C23.8964 6.06064 23.6445 6.3125 23.3339 6.3125ZM23.8964 13.25V11.75C23.8964 11.4394 23.6445 11.1875 23.3339 11.1875H6.45886C6.14822 11.1875 5.89636 11.4394 5.89636 11.75V13.25C5.89636 13.5606 6.14822 13.8125 6.45886 13.8125H23.3339C23.6445 13.8125 23.8964 13.5606 23.8964 13.25ZM23.8964 20.75V19.25C23.8964 18.9394 23.6445 18.6875 23.3339 18.6875H6.45886C6.14822 18.6875 5.89636 18.9394 5.89636 19.25V20.75C5.89636 21.0606 6.14822 21.3125 6.45886 21.3125H23.3339C23.6445 21.3125 23.8964 21.0606 23.8964 20.75ZM0.0493125 7.45756C0.0493125 7.80805 0.232922 8 0.591797 8H3.74616C4.10499 8 4.28859 7.80805 4.28859 7.45756V7.04033C4.28859 6.68984 4.10499 6.49789 3.74616 6.49789H3.02011V2.54244C3.02011 2.18356 2.82825 2 2.46938 2H1.90191C1.61817 2 1.43456 2.07509 1.22597 2.26705L0.207891 3.20164C-0.0507656 3.44366 -0.0675 3.71905 0.182859 3.96941L0.441516 4.26148C0.683484 4.52019 0.967266 4.51184 1.17586 4.31155C1.22597 4.26148 1.30936 4.13633 1.30936 4.13633H1.32605C1.32605 4.13633 1.30102 4.38664 1.30102 4.62866V6.49794H0.591797C0.232922 6.49794 0.0493125 6.68984 0.0493125 7.04037V7.45756ZM0 14.9665C0 15.3112 0.238031 15.5 0.566391 15.5H3.75103C4.10395 15.5 4.29277 15.3112 4.29277 14.9665V14.5561C4.29277 14.2113 4.10395 14.0225 3.75103 14.0225H1.92061C2.01089 13.53 4.20244 13.1525 4.20244 11.3549C4.20244 9.99242 3.02873 9.49995 2.11763 9.49995C1.11628 9.49995 0.533484 9.96781 0.221578 10.3782C0.0163594 10.6409 0.0820782 10.8871 0.352969 11.1005L0.755109 11.4206C1.0178 11.634 1.27223 11.5355 1.51031 11.3057C1.64981 11.1744 1.80577 11.1252 1.95352 11.1252C2.10942 11.1252 2.38852 11.199 2.38852 11.5355C2.38852 12.1347 0 12.5615 0 14.7777V14.9665ZM0.284484 22.5568C0.645609 22.7784 1.1873 23 1.96711 23C3.56766 23 4.24069 21.933 4.24069 20.9316C4.24069 20.2586 3.81389 19.5363 2.89463 19.2982L3.71536 18.3543C3.88777 18.1491 3.95344 17.9603 3.95344 17.6895V17.5335C3.95344 17.1888 3.77283 17 3.41991 17H0.678469C0.3255 17 0.144891 17.1806 0.144891 17.5335V17.9439C0.144891 18.2886 0.3255 18.4775 0.678469 18.4775H1.28583C1.67981 18.4775 1.87683 18.4282 1.87683 18.4282V18.4446C1.87683 18.4446 1.62239 18.6826 1.30228 19.0766L1.03959 19.4049C0.850781 19.643 0.793359 19.881 0.908297 20.1026L0.957516 20.1929C1.09711 20.4638 1.25302 20.5623 1.53211 20.5623H1.75373C2.23795 20.5623 2.50064 20.6772 2.50064 20.9891C2.50064 21.2107 2.30363 21.3749 1.82761 21.3749C1.60594 21.3749 1.38431 21.3256 1.15453 21.2271C0.850828 21.0466 0.604594 21.063 0.424031 21.3749L0.161391 21.8099C-0.0110156 22.0971 0.0135938 22.3598 0.284484 22.5568Z\"></path>\\n</g>\\n<g id=\"icon-monitor\">\\n<path d=\"M16.2105 0H1.47368C0.660088 0 0 0.671875 0 1.5V10.5C0 11.3281 0.660088 12 1.47368 12H16.2105C17.0241 12 17.6842 11.3281 17.6842 10.5V1.5C17.6842 0.671875 17.0241 0 16.2105 0ZM16.0263 10.5H1.65789C1.55658 10.5 1.47368 10.4156 1.47368 10.3125V1.6875C1.47368 1.58438 1.55658 1.5 1.65789 1.5H16.0263C16.1276 1.5 16.2105 1.58438 16.2105 1.6875V10.3125C16.2105 10.4156 16.1276 10.5 16.0263 10.5ZM14.7368 15.25C14.7368 15.6656 14.4083 16 14 16H3.68421C3.27588 16 2.94737 15.6656 2.94737 15.25C2.94737 14.8344 3.27588 14.5 3.68421 14.5H6.71447L7.28553 12.7563C7.33465 12.6031 7.47588 12.5 7.63553 12.5H10.0518C10.2114 12.5 10.3526 12.6031 10.4018 12.7563L10.9728 14.5H14C14.4083 14.5 14.7368 14.8344 14.7368 15.25Z\"></path>\\n</g>\\n<g id=\"icon-users\">\\n<path d=\"M20.404 11C22.0615 11 23.404 9.72143 23.404 8.14285C23.404 6.56428 22.0615 5.28571 20.404 5.28571C18.7465 5.28571 17.404 6.56428 17.404 8.14285C17.404 9.72143 18.7465 11 20.404 11ZM20.404 7C21.064 7 21.604 7.51428 21.604 8.14285C21.604 8.77142 21.064 9.28571 20.404 9.28571C19.744 9.28571 19.204 8.77142 19.204 8.14285C19.204 7.51428 19.744 7 20.404 7ZM3.60403 11C5.26153 11 6.60403 9.72143 6.60403 8.14285C6.60403 6.56428 5.26153 5.28571 3.60403 5.28571C1.94653 5.28571 0.604028 6.56428 0.604028 8.14285C0.604028 9.72143 1.94653 11 3.60403 11ZM3.60403 7C4.26403 7 4.80403 7.51428 4.80403 8.14285C4.80403 8.77142 4.26403 9.28571 3.60403 9.28571C2.94403 9.28571 2.40403 8.77142 2.40403 8.14285C2.40403 7.51428 2.94403 7 3.60403 7ZM18.469 14.5321C17.4378 13.075 15.4428 12.5321 13.6765 13.0429C13.144 13.1964 12.5853 13.2821 12.0003 13.2821C11.4153 13.2821 10.8565 13.1964 10.324 13.0429C8.55778 12.5321 6.56278 13.0714 5.53153 14.5321C5.06653 15.1893 4.79653 15.9786 4.79653 16.8286V18.4286C4.79653 19.375 5.60278 20.1429 6.59653 20.1429H17.3965C18.3903 20.1429 19.1965 19.375 19.1965 18.4286V16.8286C19.204 15.9786 18.934 15.1893 18.469 14.5321ZM17.404 18.4286H6.60403V16.8286C6.60403 15.5286 7.69903 14.4643 9.05653 14.4286C10.0128 14.8071 11.0028 15 12.004 15C13.0053 15 13.9953 14.8071 14.9515 14.4286C16.309 14.4643 17.404 15.525 17.404 16.8286V18.4286ZM20.854 12.1429H19.954C19.3053 12.1429 18.7015 12.3321 18.199 12.6536C18.7015 13.0143 19.144 13.4464 19.489 13.9464C19.6353 13.8964 19.789 13.8571 19.9503 13.8571H20.8503C21.5928 13.8571 22.2003 14.4357 22.2003 15.1429C22.2003 15.6143 22.6053 16 23.1003 16C23.5953 16 24.0003 15.6143 24.0003 15.1429C24.004 13.4893 22.5903 12.1429 20.854 12.1429ZM12.004 12.1429C14.3253 12.1429 16.204 10.3536 16.204 8.14285C16.204 5.93214 14.3253 4.14285 12.004 4.14285C9.68278 4.14285 7.80403 5.93214 7.80403 8.14285C7.80403 10.3536 9.68278 12.1429 12.004 12.1429ZM12.004 5.85714C13.3278 5.85714 14.404 6.88214 14.404 8.14285C14.404 9.40357 13.3278 10.4286 12.004 10.4286C10.6803 10.4286 9.60403 9.40357 9.60403 8.14285C9.60403 6.88214 10.6803 5.85714 12.004 5.85714ZM5.80903 12.6536C5.30653 12.3321 4.70278 12.1429 4.05403 12.1429H3.15403C1.41778 12.1429 0.00402832 13.4893 0.00402832 15.1429C0.00402832 15.6143 0.409028 16 0.904028 16C1.39903 16 1.80403 15.6143 1.80403 15.1429C1.80403 14.4357 2.41153 13.8571 3.15403 13.8571H4.05403C4.21903 13.8571 4.37278 13.8964 4.51528 13.9464C4.86403 13.4464 5.30653 13.0143 5.80903 12.6536Z\"></path>\\n</g>\\n<g id=\"icon-solid-users\">\\n<path d=\"M3.3 7.875C4.51344 7.875 5.5 6.86602 5.5 5.625C5.5 4.38398 4.51344 3.375 3.3 3.375C2.08656 3.375 1.1 4.38398 1.1 5.625C1.1 6.86602 2.08656 7.875 3.3 7.875ZM18.7 7.875C19.9134 7.875 20.9 6.86602 20.9 5.625C20.9 4.38398 19.9134 3.375 18.7 3.375C17.4866 3.375 16.5 4.38398 16.5 5.625C16.5 6.86602 17.4866 7.875 18.7 7.875ZM19.8 9H17.6C16.995 9 16.4484 9.24961 16.0497 9.65391C17.435 10.4309 18.4181 11.8336 18.6313 13.5H20.9C21.5084 13.5 22 12.9973 22 12.375V11.25C22 10.009 21.0134 9 19.8 9ZM11 9C13.1278 9 14.85 7.23867 14.85 5.0625C14.85 2.88633 13.1278 1.125 11 1.125C8.87219 1.125 7.15 2.88633 7.15 5.0625C7.15 7.23867 8.87219 9 11 9ZM13.64 10.125H13.3547C12.6397 10.4766 11.8456 10.6875 11 10.6875C10.1544 10.6875 9.36375 10.4766 8.64531 10.125H8.36C6.17375 10.125 4.4 11.9391 4.4 14.175V15.1875C4.4 16.1191 5.13906 16.875 6.05 16.875H15.95C16.8609 16.875 17.6 16.1191 17.6 15.1875V14.175C17.6 11.9391 15.8263 10.125 13.64 10.125ZM5.95031 9.65391C5.55156 9.24961 5.005 9 4.4 9H2.2C0.986563 9 0 10.009 0 11.25V12.375C0 12.9973 0.491562 13.5 1.1 13.5H3.36531C3.58188 11.8336 4.565 10.4309 5.95031 9.65391Z\"></path>\\n</g>\\n<g id=\"icon-compass\">\\n<path d=\"M16.4532 6.08719L9.62771 9.17953C9.29761 9.32911 9.03288 9.59152 8.88199 9.91875L5.76244 16.6847C5.40258 17.4652 6.21356 18.2695 7.00137 17.9128L13.8268 14.8205C14.1569 14.6709 14.4217 14.4085 14.5726 14.0812L17.6921 7.31531C18.052 6.53437 17.241 5.73047 16.4532 6.08719V6.08719ZM12.795 13.0584C12.2053 13.643 11.2492 13.643 10.6595 13.0584C10.0698 12.4739 10.0698 11.5261 10.6595 10.9416C11.2492 10.357 12.2053 10.357 12.795 10.9416C13.3847 11.5261 13.3847 12.4739 12.795 13.0584ZM11.7273 0.375C5.25032 0.375 0 5.57953 0 12C0 18.4205 5.25032 23.625 11.7273 23.625C18.2042 23.625 23.4545 18.4205 23.4545 12C23.4545 5.57953 18.2042 0.375 11.7273 0.375ZM11.7273 21.375C6.51242 21.375 2.26979 17.1694 2.26979 12C2.26979 6.83063 6.51242 2.625 11.7273 2.625C16.9421 2.625 21.1848 6.83063 21.1848 12C21.1848 17.1694 16.9421 21.375 11.7273 21.375Z\"></path>\\n</g>\\n<g id=\"icon-megaphone\">\\n<path d=\"M17.0004 5.7775V1.00031C17.0004 0.726875 16.7822 0 16.0007 0H16.0004C15.7779 0 15.5569 0.074375 15.376 0.219375L12.7188 2.34531C11.3841 3.41219 9.70849 4 8.00037 4H2.00037C0.895679 4 0.000366211 4.89531 0.000366211 6V9C0.000366211 10.1047 0.895679 11 2.00037 11L1.98537 12C1.98537 13.2428 2.27474 14.4172 2.78412 15.4669C2.9463 15.8009 3.30037 16 3.67162 16H6.99287C7.80693 16 8.29568 15.0675 7.80224 14.42C7.28974 13.7475 6.98505 12.9087 6.98505 12C6.98505 11.6528 7.03568 11.3191 7.12287 11H8.00037C9.70849 11 11.3841 11.5878 12.7185 12.6547L15.3757 14.7806C15.5529 14.9224 15.7731 14.9998 16.0001 15C16.7788 15 17.0001 14.2881 17.0001 14V9.22281C17.5954 8.87625 18.0001 8.23875 18.0001 7.50031C18.0004 6.76156 17.5957 6.12406 17.0004 5.7775ZM3.99193 14.5C3.65568 13.7047 3.48537 12.8653 3.48537 12C3.48537 11.5556 3.53912 11.2081 3.56662 11H5.59505C5.52974 11.3344 5.48505 11.6691 5.48505 12C5.48505 12.8819 5.69068 13.7312 6.08537 14.5H3.99193ZM7.50037 9.5H2.00037C1.72474 9.5 1.50037 9.27563 1.50037 9V6C1.50037 5.72437 1.72474 5.5 2.00037 5.5H7.50037V9.5ZM15.5004 12.9594L13.6554 11.4831C12.3179 10.4137 10.6932 9.75281 9.00037 9.56281V5.43719C10.6932 5.24719 12.3179 4.58625 13.6557 3.51656L15.5004 2.04063V12.9594Z\"></path>\\n</g>\\n<g id=\"icon-instagram\">\\n<path d=\"M7.00315 4.40626C5.01565 4.40626 3.41252 6.00938 3.41252 7.99688C3.41252 9.98439 5.01565 11.5875 7.00315 11.5875C8.99065 11.5875 10.5938 9.98439 10.5938 7.99688C10.5938 6.00938 8.99065 4.40626 7.00315 4.40626ZM7.00315 10.3313C5.71877 10.3313 4.66877 9.28438 4.66877 7.99688C4.66877 6.70938 5.71565 5.66251 7.00315 5.66251C8.29065 5.66251 9.33752 6.70938 9.33752 7.99688C9.33752 9.28438 8.28752 10.3313 7.00315 10.3313ZM11.5781 4.25938C11.5781 4.72501 11.2031 5.09688 10.7407 5.09688C10.275 5.09688 9.90315 4.72188 9.90315 4.25938C9.90315 3.79688 10.2782 3.42188 10.7407 3.42188C11.2031 3.42188 11.5781 3.79688 11.5781 4.25938ZM13.9563 5.10938C13.9031 3.98751 13.6469 2.99376 12.825 2.17501C12.0063 1.35626 11.0125 1.10001 9.89065 1.04376C8.7344 0.978131 5.26877 0.978131 4.11252 1.04376C2.99377 1.09688 2.00002 1.35313 1.17815 2.17188C0.356274 2.99063 0.103149 3.98438 0.0468994 5.10626C-0.0187256 6.26251 -0.0187256 9.72813 0.0468994 10.8844C0.100024 12.0063 0.356274 13 1.17815 13.8188C2.00002 14.6375 2.99065 14.8938 4.11252 14.95C5.26877 15.0156 8.7344 15.0156 9.89065 14.95C11.0125 14.8969 12.0063 14.6406 12.825 13.8188C13.6438 13 13.9 12.0063 13.9563 10.8844C14.0219 9.72813 14.0219 6.26563 13.9563 5.10938ZM12.4625 12.125C12.2188 12.7375 11.7469 13.2094 11.1313 13.4563C10.2094 13.8219 8.0219 13.7375 7.00315 13.7375C5.9844 13.7375 3.79377 13.8188 2.87502 13.4563C2.26252 13.2125 1.79065 12.7406 1.54377 12.125C1.17815 11.2031 1.26252 9.01563 1.26252 7.99688C1.26252 6.97813 1.18127 4.78751 1.54377 3.86876C1.78752 3.25626 2.2594 2.78438 2.87502 2.53751C3.7969 2.17188 5.9844 2.25626 7.00315 2.25626C8.0219 2.25626 10.2125 2.17501 11.1313 2.53751C11.7438 2.78126 12.2156 3.25313 12.4625 3.86876C12.8281 4.79063 12.7438 6.97813 12.7438 7.99688C12.7438 9.01563 12.8281 11.2063 12.4625 12.125Z\"></path>\\n</g>\\n<g id=\"icon-discord\">\\n<path d=\"M9.288 7.6C9.288 8.088 8.928 8.488 8.472 8.488C8.024 8.488 7.656 8.088 7.656 7.6C7.656 7.112 8.016 6.712 8.472 6.712C8.928 6.712 9.288 7.112 9.288 7.6ZM5.552 6.712C5.096 6.712 4.736 7.112 4.736 7.6C4.736 8.088 5.104 8.488 5.552 8.488C6.008 8.488 6.368 8.088 6.368 7.6C6.376 7.112 6.008 6.712 5.552 6.712ZM14 1.648V16C11.9846 14.2189 12.6291 14.8085 10.288 12.632L10.712 14.112H1.64C0.736 14.112 0 13.376 0 12.464V1.648C0 0.736 0.736 0 1.64 0H12.36C13.264 0 14 0.736 14 1.648ZM11.72 9.232C11.72 6.656 10.568 4.568 10.568 4.568C9.416 3.704 8.32 3.728 8.32 3.728L8.208 3.856C9.568 4.272 10.2 4.872 10.2 4.872C8.29966 3.83047 6.06738 3.83028 4.224 4.64C3.928 4.776 3.752 4.872 3.752 4.872C3.752 4.872 4.416 4.24 5.856 3.824L5.776 3.728C5.776 3.728 4.68 3.704 3.528 4.568C3.528 4.568 2.376 6.656 2.376 9.232C2.376 9.232 3.048 10.392 4.816 10.448C4.816 10.448 5.112 10.088 5.352 9.784C4.336 9.48 3.952 8.84 3.952 8.84C4.06969 8.92237 4.26375 9.02916 4.28 9.04C5.63031 9.79619 7.54838 10.0439 9.272 9.32C9.552 9.216 9.864 9.064 10.192 8.848C10.192 8.848 9.792 9.504 8.744 9.8C8.984 10.104 9.272 10.448 9.272 10.448C11.04 10.392 11.72 9.232 11.72 9.232Z\"></path>\\n</g>\\n<g id=\"icon-youtube\">\\n<path d=\"M17.1767 3.87759C16.9805 3.13853 16.4021 2.55647 15.6679 2.35894C14.3369 2 9.00002 2 9.00002 2C9.00002 2 3.66314 2 2.33217 2.35894C1.59789 2.5565 1.01958 3.13853 0.8233 3.87759C0.466675 5.21719 0.466675 8.01213 0.466675 8.01213C0.466675 8.01213 0.466675 10.8071 0.8233 12.1467C1.01958 12.8857 1.59789 13.4435 2.33217 13.6411C3.66314 14 9.00002 14 9.00002 14C9.00002 14 14.3369 14 15.6679 13.6411C16.4021 13.4435 16.9805 12.8857 17.1767 12.1467C17.5334 10.8071 17.5334 8.01213 17.5334 8.01213C17.5334 8.01213 17.5334 5.21719 17.1767 3.87759ZM7.25455 10.5497V5.47453L11.7151 8.01219L7.25455 10.5497Z\"></path>\\n</g>\\n<g id=\"icon-facebook\">\\n<path d=\"M0.333496 12.1539C0.333496 18.1199 4.6665 23.0809 10.3335 24.0869V15.4199H7.3335V12.0869H10.3335V9.41991C10.3335 6.41991 12.2665 4.75391 15.0005 4.75391C15.8665 4.75391 16.8005 4.88691 17.6665 5.01991V8.08691H16.1335C14.6665 8.08691 14.3335 8.81991 14.3335 9.75391V12.0869H17.5335L17.0005 15.4199H14.3335V24.0869C20.0005 23.0809 24.3335 18.1209 24.3335 12.1539C24.3335 5.51691 18.9335 0.0869141 12.3335 0.0869141C5.7335 0.0869141 0.333496 5.51691 0.333496 12.1539Z\"></path>\\n</g>\\n<g id=\"icon-twitch\">\\n<path d=\"M6.119 0.0869141L1.8335 4.37241V19.8014H6.977V24.0869L11.2625 19.8014H14.6885L22.4045 12.0869V0.0869141H6.119ZM20.69 11.2304L17.2625 14.6579H13.8335L10.8335 17.6579V14.6579H6.977V1.80141H20.69V11.2304V11.2304Z\"></path>\\n<path d=\"M18.1185 4.80151H16.404V9.94201H18.1185V4.80151ZM13.404 4.80151H11.6895V9.94201H13.404V4.80151V4.80151Z\"></path>\\n</g>\\n<g id=\"icon-twitter\">\\n<path d=\"M23.9765 5.02399C23.1415 5.39399 22.2445 5.64399 21.3015 5.75699C22.2745 5.17478 23.0025 4.25846 23.3495 3.17899C22.4354 3.72198 21.4349 4.10419 20.3915 4.30899C19.6899 3.55986 18.7606 3.06332 17.7478 2.89647C16.7351 2.72961 15.6956 2.90178 14.7907 3.38624C13.8859 3.87071 13.1663 4.64035 12.7437 5.57569C12.321 6.51104 12.219 7.55974 12.4535 8.55899C10.6012 8.46599 8.78914 7.98454 7.13493 7.1459C5.48073 6.30725 4.02135 5.13015 2.85151 3.69099C2.45151 4.38099 2.22151 5.18099 2.22151 6.03299C2.22106 6.79999 2.40994 7.55523 2.77139 8.23172C3.13283 8.90821 3.65567 9.48503 4.29351 9.91099C3.55378 9.88745 2.83038 9.68757 2.18351 9.32799V9.38799C2.18343 10.4637 2.55554 11.5064 3.23669 12.339C3.91784 13.1716 4.86608 13.7429 5.92051 13.956C5.23429 14.1417 4.51485 14.1691 3.81651 14.036C4.11401 14.9616 4.6935 15.771 5.47388 16.3509C6.25425 16.9308 7.19642 17.2522 8.16851 17.27C6.51834 18.5654 4.4804 19.2681 2.38251 19.265C2.01089 19.2651 1.63958 19.2434 1.27051 19.2C3.39998 20.5692 5.87885 21.2958 8.41051 21.293C16.9805 21.293 21.6655 14.195 21.6655 8.03899C21.6655 7.83899 21.6605 7.63699 21.6515 7.43699C22.5628 6.77797 23.3494 5.96189 23.9745 5.02699L23.9765 5.02399Z\"></path>\\n</g>\\n<g id=\"icon-stopwatch\">\\n<path d=\"M17.7141 8.625L18.7734 7.56562C18.9937 7.34531 18.9937 6.98906 18.7734 6.76875L17.9766 5.97188C17.7563 5.75156 17.4 5.75156 17.1797 5.97188L16.2094 6.94219C14.7516 5.65313 12.9094 4.79063 10.875 4.56094V2.25H12.1875C12.4969 2.25 12.75 1.99688 12.75 1.6875V0.5625C12.75 0.253125 12.4969 0 12.1875 0H7.3125C7.00313 0 6.75 0.253125 6.75 0.5625V1.6875C6.75 1.99688 7.00313 2.25 7.3125 2.25H8.625V4.56563C3.76875 5.12344 0 9.24375 0 14.25C0 19.6359 4.36406 24 9.75 24C15.1359 24 19.5 19.6359 19.5 14.25C19.5 12.1547 18.8391 10.2141 17.7141 8.625ZM9.75 21.75C5.60625 21.75 2.25 18.3937 2.25 14.25C2.25 10.1062 5.60625 6.75 9.75 6.75C13.8938 6.75 17.25 10.1062 17.25 14.25C17.25 18.3937 13.8938 21.75 9.75 21.75ZM10.3125 16.5H9.1875C8.87813 16.5 8.625 16.2469 8.625 15.9375V9.5625C8.625 9.25313 8.87813 9 9.1875 9H10.3125C10.6219 9 10.875 9.25313 10.875 9.5625V15.9375C10.875 16.2469 10.6219 16.5 10.3125 16.5Z\"></path>\\n</g>\\n</defs>\\n</svg>\\n\\n<div class=\"redesign-flex-header nav-top\">\\n<a class=\"brand-container\" href=\"https://challonge.com/\">\\n<div class=\"-symbol-only brand-container--logo\"></div>\\n</a>\\n<div class=\"follow-bar\">\\n<div class=\"follow-bar--content hidden-xs\">\\n<div class=\"follow-bar--title\">\\n<a href=\"#\">EU ARMS Challenge #35 - Standings</a>\\n</div>\\n<div class=\"follow-bar--title-mask\"></div>\\n</div>\\n</div>\\n<div class=\"usernav\">\\n<div class=\"-logged-out account-info-container varnish-logged-out\">\\n<a class=\"search-link\" href=\"/search/tournaments\"><span class=\"icon fa fa-search\"></span>\\n</a><a rel=\"nofollow\" class=\"btn btn-default\" href=\"https://challonge.com/user_session/new?continue=%2FEUAC35%2Fstandings\">Log in</a>\\n<a class=\"btn btn-primary\" href=\"https://challonge.com/users/new\">Sign up</a>\\n</div>\\n\\n</div>\\n<div class=\"header-underline\"></div>\\n\\n</div>\\n<div class=\"sticky-nav\" data-js-sticky-elem=\"320\">\\n<div class=\"sticky-container\">\\n<div class=\"redesign-mobile-nav-menu\">\\n<ul class=\"nav nav-stacked\" data-js-navtab-fade=\"\" data-js-sudo-nav=\"\">\\n<span class=\"left -hide js-fade-left\"></span>\\n<li><a icon=\"trophy\" class=\" -icon\" href=\"https://challonge.com/EUAC35\"><i class=\"fas fa-fw fa-trophy\" data-html=\"true\" data-toggle=\"tooltip\" data-placement=\"right\" data-container=\"body\" title=\"\" data-original-title=\"Bracket\"></i><span class=\"txt\">Bracket</span></a></li>\\n<li class=\"active\"><a class=\"nav--mobile-nav-toggle\" href=\"#\"><i class=\"fas fa-bars\"></i></a><a icon=\"ranking-star\" class=\" -icon\" href=\"#\"><i class=\"fas fa-fw fa-ranking-star\" data-html=\"true\" data-toggle=\"tooltip\" data-placement=\"right\" data-container=\"body\" title=\"\" data-original-title=\"Standings\"></i><span class=\"txt\">Standings</span></a></li>\\n<li><a icon=\"bullhorn\" class=\" -icon\" href=\"https://challonge.com/EUAC35/announcements\"><i class=\"fas fa-fw fa-bullhorn\" data-html=\"true\" data-toggle=\"tooltip\" data-placement=\"right\" data-container=\"body\" title=\"\" data-original-title=\"Announcements (0)\"></i><span class=\"txt\">Announcements (0)</span></a></li>\\n<li><a icon=\"clock-rotate-left\" class=\" -icon\" href=\"https://challonge.com/EUAC35/log\"><i class=\"fas fa-fw fa-clock-rotate-left\" data-html=\"true\" data-toggle=\"tooltip\" data-placement=\"right\" data-container=\"body\" title=\"\" data-original-title=\"Log (0)\"></i><span class=\"txt\">Log (0)</span></a></li>\\n<span class=\"right js-fade-right -hide\"></span>\\n</ul>\\n\\n\\n</div>\\n</div>\\n<div class=\"sticky-nav-header\">\\n<h5 class=\"heading\">\\nEU ARMS Challenge #35\\n</h5>\\n</div>\\n</div>\\n\\n<div class=\"redesign-flex-row\">\\n<div class=\"redesign-menu\">\\n<div class=\"redesign-menu-toggle\">\\n<a class=\"toggle-close\" href=\"#\">\\n<i class=\"fas fa-angle-left\"></i>\\n</a>\\n<a class=\"toggle-open\" href=\"#\">\\n<i class=\"fas fa-angle-right\"></i>\\n</a>\\n</div>\\n<script>\\n  var _menuState=localStorage.getItem(\\'menu-state\\');if(_menuState===\\'closed\\'){document.getElementsByClassName(\\'redesign-menu\\')[0].classList.add(\\'-collapsed\\');}\\n</script>\\n<div class=\"redesign-menu-body\">\\n<ul class=\"nav nav-stacked\" data-js-navtab-fade=\"\" data-js-sudo-nav=\"\">\\n<span class=\"left -hide js-fade-left\"></span>\\n<li><a icon=\"trophy\" class=\" -icon\" href=\"https://challonge.com/EUAC35\"><i class=\"fas fa-fw fa-trophy\" data-html=\"true\" data-toggle=\"tooltip\" data-placement=\"right\" data-container=\"body\" title=\"\" data-original-title=\"Bracket\"></i><span class=\"txt\">Bracket</span></a></li>\\n<li class=\"active\"><a class=\"nav--mobile-nav-toggle\" href=\"#\"><i class=\"fas fa-bars\"></i></a><a icon=\"ranking-star\" class=\" -icon\" href=\"#\"><i class=\"fas fa-fw fa-ranking-star\" data-html=\"true\" data-toggle=\"tooltip\" data-placement=\"right\" data-container=\"body\" title=\"\" data-original-title=\"Standings\"></i><span class=\"txt\">Standings</span></a></li>\\n<li><a icon=\"bullhorn\" class=\" -icon\" href=\"https://challonge.com/EUAC35/announcements\"><i class=\"fas fa-fw fa-bullhorn\" data-html=\"true\" data-toggle=\"tooltip\" data-placement=\"right\" data-container=\"body\" title=\"\" data-original-title=\"Announcements (0)\"></i><span class=\"txt\">Announcements (0)</span></a></li>\\n<li><a icon=\"clock-rotate-left\" class=\" -icon\" href=\"https://challonge.com/EUAC35/log\"><i class=\"fas fa-fw fa-clock-rotate-left\" data-html=\"true\" data-toggle=\"tooltip\" data-placement=\"right\" data-container=\"body\" title=\"\" data-original-title=\"Log (0)\"></i><span class=\"txt\">Log (0)</span></a></li>\\n<span class=\"right js-fade-right -hide\"></span>\\n</ul>\\n\\n\\n</div>\\n</div>\\n<div class=\"redesign-content\">\\n<h1 class=\"redesign-title\">\\n<div class=\"title\">\\n<div id=\"title\">\\nEU ARMS Challenge #35\\n<div class=\"button-dropdown -inline\">\\n<a class=\"btn btn-dark-default trigger -mdwide\" href=\"javascript:void(0)\"><i class=\"fa fa-share-alt\"></i>\\n</a><ul class=\"menu button-dropdown-menu -pad -lgcontent\">\\n<li class=\"item\">\\n<a class=\"link link-clipboard-copy\" href=\"#\"><i class=\"icon fa fa-link\" style=\"font-size: 26px\"></i>\\n<span class=\"text\">Copy Link</span>\\n</a></li>\\n<li class=\"item\">\\n<a target=\"_blank\" class=\"link\" href=\"http://www.facebook.com/sharer/sharer.php?u=https%3A%2F%2Fchallonge.com%2FEUAC35\"><i class=\"icon fab fa-facebook\" style=\"font-size: 26px\"></i>\\n<span class=\"text\">Facebook</span>\\n</a></li>\\n<li class=\"item\">\\n<a target=\"_blank\" class=\"link\" href=\"https://twitter.com/intent/tweet?url=https%3A%2F%2Fchallonge.com%2FEUAC35&amp;via=challonge&amp;text=EU%20ARMS%20Challenge%20%2335\"><i class=\"icon fab fa-twitter\" style=\"font-size: 26px\"></i>\\n<span class=\"text\">Twitter</span>\\n</a></li>\\n<li>\\n<hr style=\"margin: 0\">\\n</li>\\n<li class=\"item\">\\n<a class=\"link select-community-btn\" data-action=\"templates/new\" data-params=\"{&quot;tournament_id&quot;:7698516}\" data-append-options=\"[{&quot;value&quot;:&quot;https://challonge.com/settings&quot;,&quot;label&quot;:&quot;Your Templates&quot;}]\" href=\"#\"><i class=\"fa fa-clone\" style=\"font-size: 26px\"></i>\\n<span class=\"text\">Create template from this tournament</span>\\n</a></li>\\n</ul>\\n</div>\\n</div>\\n\\n</div>\\n</h1>\\n<div class=\"redesign-title-underline\"></div>\\n<div class=\"redesign-mobile-nav-menu\">\\n<ul class=\"nav nav-stacked\" data-js-navtab-fade=\"\" data-js-sudo-nav=\"\">\\n<span class=\"left -hide js-fade-left\"></span>\\n<li><a icon=\"trophy\" class=\" -icon\" href=\"https://challonge.com/EUAC35\"><i class=\"fas fa-fw fa-trophy\" data-html=\"true\" data-toggle=\"tooltip\" data-placement=\"right\" data-container=\"body\" title=\"\" data-original-title=\"Bracket\"></i><span class=\"txt\">Bracket</span></a></li>\\n<li class=\"active\"><a class=\"nav--mobile-nav-toggle\" href=\"#\"><i class=\"fas fa-bars\"></i></a><a icon=\"ranking-star\" class=\" -icon\" href=\"#\"><i class=\"fas fa-fw fa-ranking-star\" data-html=\"true\" data-toggle=\"tooltip\" data-placement=\"right\" data-container=\"body\" title=\"\" data-original-title=\"Standings\"></i><span class=\"txt\">Standings</span></a></li>\\n<li><a icon=\"bullhorn\" class=\" -icon\" href=\"https://challonge.com/EUAC35/announcements\"><i class=\"fas fa-fw fa-bullhorn\" data-html=\"true\" data-toggle=\"tooltip\" data-placement=\"right\" data-container=\"body\" title=\"\" data-original-title=\"Announcements (0)\"></i><span class=\"txt\">Announcements (0)</span></a></li>\\n<li><a icon=\"clock-rotate-left\" class=\" -icon\" href=\"https://challonge.com/EUAC35/log\"><i class=\"fas fa-fw fa-clock-rotate-left\" data-html=\"true\" data-toggle=\"tooltip\" data-placement=\"right\" data-container=\"body\" title=\"\" data-original-title=\"Log (0)\"></i><span class=\"txt\">Log (0)</span></a></li>\\n<span class=\"right js-fade-right -hide\"></span>\\n</ul>\\n\\n\\n</div>\\n<div class=\"redesign-inline-cake\">\\n<div class=\"-horizontal -paneled cake-unit\" data-js-scroll-stop=\"\" data-js-sticky-elem=\"\">\\n<div class=\"disclaimer\">\\n<a href=\"https://challonge.com/pricing?utm_campaign=upgrade&amp;utm_id=internal&amp;utm_medium=label&amp;utm_source=ad\">Ad – Upgrade to Remove</a>\\n</div>\\n<div class=\"body\">\\n<div class=\"cake\" data-placement-name=\"horizontal_xl\" id=\"cake-inline\"></div>\\n</div>\\n</div>\\n\\n</div>\\n<!-- * stylelint-disable rscss/class-format */ -->\\n<!-- * stylelint-disable rscss/no-descendant-combinator */ -->\\n<div class=\"tournament-banner-redesign\">\\n<ul class=\"redesigned-meta-list\">\\n<li class=\"item\">\\n<div class=\"item-label\">Players</div>\\n<div class=\"text\">6</div>\\n</li>\\n<li class=\"item\">\\n<div class=\"item-label\">Format</div>\\n<div class=\"text\">Double Elimination</div>\\n</li>\\n<li class=\"item\">\\n<div class=\"item-label\">Game</div>\\n<a class=\"text link-text\" style=\"color: inherit\" href=\"https://challonge.com/search/tournaments?filters%5Bgame_id%5D=46860\">Arms</a>\\n</li>\\n<li class=\"item\">\\n<div class=\"item-label\">\\n<div class=\"hidden-xs hidden-sm\">\\nStart Time\\n</div>\\n<div class=\"visible-xs visible-sm\">Start</div>\\n</div>\\n<div class=\"text start-time\">\\nOctober 27, 2019 at  3:00 PM CET\\n</div>\\n</li>\\n<li class=\"item\">\\n<div class=\"item-label\">Check-in</div>\\n<div class=\"text\">\\n<span class=\"check-in-time-range\">\\nClosed\\n</span>\\n</div>\\n</li>\\n</ul>\\n<div class=\"user-details -host\">\\n<div class=\"img\">\\n<img class=\"portrait user-avatar -default\" width=\"64\" height=\"64\" alt=\"\" src=\"//s3.amazonaws.com/challonge_app/organizations/images/000/108/011/large/eu_arms.png?1571583256\">\\n</div>\\n<div class=\"block mr-1\">\\n<div class=\"deet -short\">\\nOrganized by\\n</div>\\n<div class=\"deet -break\">\\n<a class=\"mini-badge-item link link-text -primary\" href=\"https://challonge.com/communities/EUARMS\"><span class=\"text\">European ARMS Competitive</span>\\n</a></div>\\n</div>\\n</div>\\n</div>\\n\\n<div class=\"content-wrapper\">\\n\\n<div class=\"container-fluid -with-content-gutters -width-limited\">\\n<div class=\"default-panel -dark text-center\">\\n<div class=\"body -smpadded\">\\nOrganizer:\\n<a class=\"link-text -primary\" href=\"https://challonge.com/users/european_arms\">European_ARMS</a>\\n&nbsp; — &nbsp;\\nAdmins:\\n<a href=\"https://challonge.com/users/ocrim_ger\">ocrim_ger</a>, <a href=\"https://challonge.com/users/Nylis\">Nylis</a>, <a href=\"https://challonge.com/users/Iloria\">Iloria</a>\\n</div>\\n</div>\\n<div class=\"standings-container\">\\n<table class=\"striped-table -light -padbody limited_width standings\">\\n<thead>\\n<tr>\\n<th>\\nRank\\n</th>\\n<th class=\"text-center\">\\nParticipant Name\\n</th>\\n<th class=\"text-center\">\\nChallonge User\\n</th>\\n<th>\\nMatch History\\n</th>\\n</tr>\\n</thead>\\n<tbody>\\n<tr>\\n<td class=\"rank\">\\n<div class=\"rank-tile -centered -sm\">\\n<h5 class=\"lbl\">1</h5>\\n</div>\\n</td>\\n<td class=\"white text-center display_name\">\\n<strong>replicant</strong>\\n</td>\\n<td class=\"text-center\">\\n<a class=\"link-text -primary\" href=\"https://challonge.com/users/replicant___\">replicant___</a>\\n</td>\\n<td>\\n<a class=\"match-report\" data-match-id=\"178584016\" data-match-state=\"complete\" data-active-tab=\"matchDetails\" data-tournament-type=\"double elimination\" data-tournament-is-team=\"false\" data-tournament-voting-underway=\"false\" data-quick-advance=\"false\" data-tournament-accepts-attachments=\"false\" data-can-report=\"false\" data-is-an-admin=\"false\" href=\"javascript:void(0)\"><div class=\"trend-box -win\">W</div></a>\\n&nbsp;\\n<a class=\"match-report\" data-match-id=\"178584017\" data-match-state=\"complete\" data-active-tab=\"matchDetails\" data-tournament-type=\"double elimination\" data-tournament-is-team=\"false\" data-tournament-voting-underway=\"false\" data-quick-advance=\"false\" data-tournament-accepts-attachments=\"false\" data-can-report=\"false\" data-is-an-admin=\"false\" href=\"javascript:void(0)\"><div class=\"trend-box -win\">W</div></a>\\n&nbsp;\\n<a class=\"match-report\" data-match-id=\"178584022\" data-match-state=\"complete\" data-active-tab=\"matchDetails\" data-tournament-type=\"double elimination\" data-tournament-is-team=\"false\" data-tournament-voting-underway=\"false\" data-quick-advance=\"false\" data-tournament-accepts-attachments=\"false\" data-can-report=\"false\" data-is-an-admin=\"false\" href=\"javascript:void(0)\"><div class=\"trend-box -win\">W</div></a>\\n&nbsp;\\n</td>\\n</tr>\\n<tr>\\n<td class=\"rank\">\\n<div class=\"rank-tile -centered -sm\">\\n<h5 class=\"lbl\">2</h5>\\n</div>\\n</td>\\n<td class=\"white text-center display_name\">\\n<strong>Grimwood96</strong>\\n</td>\\n<td class=\"text-center\">\\n<a class=\"link-text -primary\" href=\"https://challonge.com/users/grimwood96\">Grimwood96</a>\\n</td>\\n<td>\\n<a class=\"match-report\" data-match-id=\"178584015\" data-match-state=\"complete\" data-active-tab=\"matchDetails\" data-tournament-type=\"double elimination\" data-tournament-is-team=\"false\" data-tournament-voting-underway=\"false\" data-quick-advance=\"false\" data-tournament-accepts-attachments=\"false\" data-can-report=\"false\" data-is-an-admin=\"false\" href=\"javascript:void(0)\"><div class=\"trend-box -win\">W</div></a>\\n&nbsp;\\n<a class=\"match-report\" data-match-id=\"178584017\" data-match-state=\"complete\" data-active-tab=\"matchDetails\" data-tournament-type=\"double elimination\" data-tournament-is-team=\"false\" data-tournament-voting-underway=\"false\" data-quick-advance=\"false\" data-tournament-accepts-attachments=\"false\" data-can-report=\"false\" data-is-an-admin=\"false\" href=\"javascript:void(0)\"><div class=\"trend-box -loss\">L</div></a>\\n&nbsp;\\n<a class=\"match-report\" data-match-id=\"178584021\" data-match-state=\"complete\" data-active-tab=\"matchDetails\" data-tournament-type=\"double elimination\" data-tournament-is-team=\"false\" data-tournament-voting-underway=\"false\" data-quick-advance=\"false\" data-tournament-accepts-attachments=\"false\" data-can-report=\"false\" data-is-an-admin=\"false\" href=\"javascript:void(0)\"><div class=\"trend-box -win\">W</div></a>\\n&nbsp;\\n<a class=\"match-report\" data-match-id=\"178584022\" data-match-state=\"complete\" data-active-tab=\"matchDetails\" data-tournament-type=\"double elimination\" data-tournament-is-team=\"false\" data-tournament-voting-underway=\"false\" data-quick-advance=\"false\" data-tournament-accepts-attachments=\"false\" data-can-report=\"false\" data-is-an-admin=\"false\" href=\"javascript:void(0)\"><div class=\"trend-box -loss\">L</div></a>\\n&nbsp;\\n</td>\\n</tr>\\n<tr>\\n<td class=\"rank\">\\n<div class=\"rank-tile -centered -sm\">\\n<h5 class=\"lbl\">3</h5>\\n</div>\\n</td>\\n<td class=\"white text-center display_name\">\\n<strong>Yam</strong>\\n</td>\\n<td class=\"text-center\">\\n<a class=\"link-text -primary\" href=\"https://challonge.com/users/yamber\">Yamber</a>\\n</td>\\n<td>\\n<a class=\"match-report\" data-match-id=\"178584013\" data-match-state=\"complete\" data-active-tab=\"matchDetails\" data-tournament-type=\"double elimination\" data-tournament-is-team=\"false\" data-tournament-voting-underway=\"false\" data-quick-advance=\"false\" data-tournament-accepts-attachments=\"false\" data-can-report=\"false\" data-is-an-admin=\"false\" href=\"javascript:void(0)\"><div class=\"trend-box -loss\">L</div></a>\\n&nbsp;\\n<a class=\"match-report\" data-match-id=\"178584018\" data-match-state=\"complete\" data-active-tab=\"matchDetails\" data-tournament-type=\"double elimination\" data-tournament-is-team=\"false\" data-tournament-voting-underway=\"false\" data-quick-advance=\"false\" data-tournament-accepts-attachments=\"false\" data-can-report=\"false\" data-is-an-admin=\"false\" href=\"javascript:void(0)\"><div class=\"trend-box -win\">W</div></a>\\n&nbsp;\\n<a class=\"match-report\" data-match-id=\"178584020\" data-match-state=\"complete\" data-active-tab=\"matchDetails\" data-tournament-type=\"double elimination\" data-tournament-is-team=\"false\" data-tournament-voting-underway=\"false\" data-quick-advance=\"false\" data-tournament-accepts-attachments=\"false\" data-can-report=\"false\" data-is-an-admin=\"false\" href=\"javascript:void(0)\"><div class=\"trend-box -win\">W</div></a>\\n&nbsp;\\n<a class=\"match-report\" data-match-id=\"178584021\" data-match-state=\"complete\" data-active-tab=\"matchDetails\" data-tournament-type=\"double elimination\" data-tournament-is-team=\"false\" data-tournament-voting-underway=\"false\" data-quick-advance=\"false\" data-tournament-accepts-attachments=\"false\" data-can-report=\"false\" data-is-an-admin=\"false\" href=\"javascript:void(0)\"><div class=\"trend-box -loss\">L</div></a>\\n&nbsp;\\n</td>\\n</tr>\\n<tr>\\n<td class=\"rank\">\\n<div class=\"rank-tile -centered -sm\">\\n<h5 class=\"lbl\">4</h5>\\n</div>\\n</td>\\n<td class=\"white text-center display_name\">\\n<strong>ocrim_ger</strong>\\n</td>\\n<td class=\"text-center\">\\n<a class=\"link-text -primary\" href=\"https://challonge.com/users/ocrim_ger\">ocrim_ger</a>\\n</td>\\n<td>\\n<a class=\"match-report\" data-match-id=\"178584013\" data-match-state=\"complete\" data-active-tab=\"matchDetails\" data-tournament-type=\"double elimination\" data-tournament-is-team=\"false\" data-tournament-voting-underway=\"false\" data-quick-advance=\"false\" data-tournament-accepts-attachments=\"false\" data-can-report=\"false\" data-is-an-admin=\"false\" href=\"javascript:void(0)\"><div class=\"trend-box -win\">W</div></a>\\n&nbsp;\\n<a class=\"match-report\" data-match-id=\"178584015\" data-match-state=\"complete\" data-active-tab=\"matchDetails\" data-tournament-type=\"double elimination\" data-tournament-is-team=\"false\" data-tournament-voting-underway=\"false\" data-quick-advance=\"false\" data-tournament-accepts-attachments=\"false\" data-can-report=\"false\" data-is-an-admin=\"false\" href=\"javascript:void(0)\"><div class=\"trend-box -loss\">L</div></a>\\n&nbsp;\\n<a class=\"match-report\" data-match-id=\"178584019\" data-match-state=\"complete\" data-active-tab=\"matchDetails\" data-tournament-type=\"double elimination\" data-tournament-is-team=\"false\" data-tournament-voting-underway=\"false\" data-quick-advance=\"false\" data-tournament-accepts-attachments=\"false\" data-can-report=\"false\" data-is-an-admin=\"false\" href=\"javascript:void(0)\"><div class=\"trend-box -win\">W</div></a>\\n&nbsp;\\n<a class=\"match-report\" data-match-id=\"178584020\" data-match-state=\"complete\" data-active-tab=\"matchDetails\" data-tournament-type=\"double elimination\" data-tournament-is-team=\"false\" data-tournament-voting-underway=\"false\" data-quick-advance=\"false\" data-tournament-accepts-attachments=\"false\" data-can-report=\"false\" data-is-an-admin=\"false\" href=\"javascript:void(0)\"><div class=\"trend-box -loss\">L</div></a>\\n&nbsp;\\n</td>\\n</tr>\\n<tr>\\n<td class=\"rank\">\\n<div class=\"rank-tile -centered -sm\">\\n<h5 class=\"lbl\">5</h5>\\n</div>\\n</td>\\n<td class=\"white text-center display_name\">\\n<strong>Iceman92</strong>\\n</td>\\n<td class=\"text-center\">\\n<a class=\"link-text -primary\" href=\"https://challonge.com/users/iceman92\">Iceman92</a>\\n</td>\\n<td>\\n<a class=\"match-report\" data-match-id=\"178584014\" data-match-state=\"complete\" data-active-tab=\"matchDetails\" data-tournament-type=\"double elimination\" data-tournament-is-team=\"false\" data-tournament-voting-underway=\"false\" data-quick-advance=\"false\" data-tournament-accepts-attachments=\"false\" data-can-report=\"false\" data-is-an-admin=\"false\" href=\"javascript:void(0)\"><div class=\"trend-box -win\">W</div></a>\\n&nbsp;\\n<a class=\"match-report\" data-match-id=\"178584016\" data-match-state=\"complete\" data-active-tab=\"matchDetails\" data-tournament-type=\"double elimination\" data-tournament-is-team=\"false\" data-tournament-voting-underway=\"false\" data-quick-advance=\"false\" data-tournament-accepts-attachments=\"false\" data-can-report=\"false\" data-is-an-admin=\"false\" href=\"javascript:void(0)\"><div class=\"trend-box -loss\">L</div></a>\\n&nbsp;\\n<a class=\"match-report\" data-match-id=\"178584018\" data-match-state=\"complete\" data-active-tab=\"matchDetails\" data-tournament-type=\"double elimination\" data-tournament-is-team=\"false\" data-tournament-voting-underway=\"false\" data-quick-advance=\"false\" data-tournament-accepts-attachments=\"false\" data-can-report=\"false\" data-is-an-admin=\"false\" href=\"javascript:void(0)\"><div class=\"trend-box -loss\">L</div></a>\\n&nbsp;\\n</td>\\n</tr>\\n<tr>\\n<td class=\"rank\">\\n<div class=\"rank-tile -centered -sm\">\\n<h5 class=\"lbl\">5</h5>\\n</div>\\n</td>\\n<td class=\"white text-center display_name\">\\n<strong>YoshiBowser</strong>\\n</td>\\n<td class=\"text-center\">\\n<a class=\"link-text -primary\" href=\"https://challonge.com/users/yoshibowser\">YoshiBowser</a>\\n</td>\\n<td>\\n<a class=\"match-report\" data-match-id=\"178584014\" data-match-state=\"complete\" data-active-tab=\"matchDetails\" data-tournament-type=\"double elimination\" data-tournament-is-team=\"false\" data-tournament-voting-underway=\"false\" data-quick-advance=\"false\" data-tournament-accepts-attachments=\"false\" data-can-report=\"false\" data-is-an-admin=\"false\" href=\"javascript:void(0)\"><div class=\"trend-box -loss\">L</div></a>\\n&nbsp;\\n<a class=\"match-report\" data-match-id=\"178584019\" data-match-state=\"complete\" data-active-tab=\"matchDetails\" data-tournament-type=\"double elimination\" data-tournament-is-team=\"false\" data-tournament-voting-underway=\"false\" data-quick-advance=\"false\" data-tournament-accepts-attachments=\"false\" data-can-report=\"false\" data-is-an-admin=\"false\" href=\"javascript:void(0)\"><div class=\"trend-box -loss\">L</div></a>\\n&nbsp;\\n</td>\\n</tr>\\n</tbody>\\n</table>\\n</div>\\n\\n<div class=\"hide limited_width text-right\" id=\"pmall\">\\n<br>\\n<hr>\\n<small>\\n<a class=\"link-text -primary\" href=\"https://challonge.com/comment_threads/new?recipients=2392308%2C2533091%2C2670839%2C1897663%2C2363206%2C2521004%2C3149531%2C2392308%2C3057118%2C2405407\">Private message all participating Challonge users</a>\\n</small>\\n</div>\\n</div>\\n<div data-private=\"false\" data-tournament-id=\"7698516\" data-tournament-name=\"EU ARMS Challenge #35\" id=\"presence-mount\"></div>\\n<div class=\"tournament-bracket-modal modal\">\\n<div class=\"modal-dialog\">\\n<div class=\"modal-content\">\\n<div class=\"modal-corner\">\\n<a class=\"close\" data-dismiss=\"modal\" href=\"#\" style=\"clear:none;\">×</a>\\n</div>\\n<div class=\"modal-body\"></div>\\n</div>\\n</div>\\n</div>\\n\\n<div id=\"score-reporting\"></div>\\n\\n</div>\\n</div>\\n</div>\\n<div class=\"redesign-bottom-leaderboard\">\\n<div class=\"cake-unit\" data-js-scroll-stop=\"\" data-js-sticky-elem=\"\">\\n<div class=\"body\">\\n<div class=\"cake\" data-placement-name=\"rich_media\" id=\"cake-video\"></div>\\n</div>\\n</div>\\n\\n</div>\\n<div class=\"footer-line\">\\n<div></div>\\n</div>\\n<footer class=\"footer-public\">\\n<div class=\"container-fluid -with-content-gutters\">\\n<a class=\"logo brand-image -lockupfullcolor\" href=\"https://challonge.com/\"></a>\\n<div class=\"footer-links\">\\n<a href=\"https://challonge.com/about\">About</a>\\n<a href=\"https://challonge.com/pricing\">Pricing</a>\\n<a target=\"_blank\" href=\"https://kb.challonge.com\">Knowledge Base</a>\\n<a href=\"https://challonge.com/contact\">Contact</a>\\n<a href=\"https://challonge.com/partners\">Partners</a>\\n<a href=\"https://challonge.com/organizedplay\">Organized Play</a>\\n<a href=\"https://api.challonge.com/v1\">API</a>\\n</div>\\n</div>\\n</footer>\\n<div class=\"footer-footer\">\\n<span class=\"dropup\">\\n<a class=\"user\" data-toggle=\"dropdown\" href=\"#\">\\n<div class=\"flag flag-en\"></div>\\n</a>\\n<ul class=\"dropdown-menu\">\\n<li>\\n<a data-turbolinks=\"false\" href=\"/user_session/switch_locale?return=%2Far%2FEUAC35%2Fstandings&amp;to=ar\"><div class=\"flag flag-ar\"></div>\\nالعَرَبِيَّة\\n</a></li>\\n<li>\\n<a data-turbolinks=\"false\" href=\"/user_session/switch_locale?return=%2Fcs%2FEUAC35%2Fstandings&amp;to=cs\"><div class=\"flag flag-cs\"></div>\\nČeština\\n</a></li>\\n<li>\\n<a data-turbolinks=\"false\" href=\"/user_session/switch_locale?return=%2Fda%2FEUAC35%2Fstandings&amp;to=da\"><div class=\"flag flag-da\"></div>\\nDansk\\n</a></li>\\n<li>\\n<a data-turbolinks=\"false\" href=\"/user_session/switch_locale?return=%2Fde%2FEUAC35%2Fstandings&amp;to=de\"><div class=\"flag flag-de\"></div>\\nDeutsch\\n</a></li>\\n<li>\\n<a data-turbolinks=\"false\" href=\"/user_session/switch_locale?return=%2Fes%2FEUAC35%2Fstandings&amp;to=es\"><div class=\"flag flag-es\"></div>\\nEspañol\\n</a></li>\\n<li>\\n<a data-turbolinks=\"false\" href=\"/user_session/switch_locale?return=%2Ffi%2FEUAC35%2Fstandings&amp;to=fi\"><div class=\"flag flag-fi\"></div>\\nSuomi\\n</a></li>\\n<li>\\n<a data-turbolinks=\"false\" href=\"/user_session/switch_locale?return=%2Ffr%2FEUAC35%2Fstandings&amp;to=fr\"><div class=\"flag flag-fr\"></div>\\nFrançais\\n</a></li>\\n<li>\\n<a data-turbolinks=\"false\" href=\"/user_session/switch_locale?return=%2Fhu%2FEUAC35%2Fstandings&amp;to=hu\"><div class=\"flag flag-hu\"></div>\\nMagyar\\n</a></li>\\n<li>\\n<a data-turbolinks=\"false\" href=\"/user_session/switch_locale?return=%2Fid%2FEUAC35%2Fstandings&amp;to=id\"><div class=\"flag flag-id\"></div>\\nBahasa Indonesia\\n</a></li>\\n<li>\\n<a data-turbolinks=\"false\" href=\"/user_session/switch_locale?return=%2Fit%2FEUAC35%2Fstandings&amp;to=it\"><div class=\"flag flag-it\"></div>\\nItaliano\\n</a></li>\\n<li>\\n<a data-turbolinks=\"false\" href=\"/user_session/switch_locale?return=%2Fja%2FEUAC35%2Fstandings&amp;to=ja\"><div class=\"flag flag-ja\"></div>\\n日本語\\n</a></li>\\n<li>\\n<a data-turbolinks=\"false\" href=\"/user_session/switch_locale?return=%2Fko%2FEUAC35%2Fstandings&amp;to=ko\"><div class=\"flag flag-ko\"></div>\\n한국어\\n</a></li>\\n<li>\\n<a data-turbolinks=\"false\" href=\"/user_session/switch_locale?return=%2Flv-LV%2FEUAC35%2Fstandings&amp;to=lv-LV\"><div class=\"flag flag-lv-LV\"></div>\\nLatviešu\\n</a></li>\\n<li>\\n<a data-turbolinks=\"false\" href=\"/user_session/switch_locale?return=%2Fnl%2FEUAC35%2Fstandings&amp;to=nl\"><div class=\"flag flag-nl\"></div>\\nNederlands\\n</a></li>\\n<li>\\n<a data-turbolinks=\"false\" href=\"/user_session/switch_locale?return=%2Fno%2FEUAC35%2Fstandings&amp;to=no\"><div class=\"flag flag-no\"></div>\\nnorsk\\n</a></li>\\n<li>\\n<a data-turbolinks=\"false\" href=\"/user_session/switch_locale?return=%2Fpl%2FEUAC35%2Fstandings&amp;to=pl\"><div class=\"flag flag-pl\"></div>\\nPolski\\n</a></li>\\n<li>\\n<a data-turbolinks=\"false\" href=\"/user_session/switch_locale?return=%2Fpt%2FEUAC35%2Fstandings&amp;to=pt\"><div class=\"flag flag-pt\"></div>\\nPortuguês\\n</a></li>\\n<li>\\n<a data-turbolinks=\"false\" href=\"/user_session/switch_locale?return=%2Fpt_BR%2FEUAC35%2Fstandings&amp;to=pt_BR\"><div class=\"flag flag-pt_BR\"></div>\\nPortuguês Br.\\n</a></li>\\n<li>\\n<a data-turbolinks=\"false\" href=\"/user_session/switch_locale?return=%2Fro%2FEUAC35%2Fstandings&amp;to=ro\"><div class=\"flag flag-ro\"></div>\\nLimba română\\n</a></li>\\n<li>\\n<a data-turbolinks=\"false\" href=\"/user_session/switch_locale?return=%2Fru%2FEUAC35%2Fstandings&amp;to=ru\"><div class=\"flag flag-ru\"></div>\\nРусский\\n</a></li>\\n<li>\\n<a data-turbolinks=\"false\" href=\"/user_session/switch_locale?return=%2Fsk%2FEUAC35%2Fstandings&amp;to=sk\"><div class=\"flag flag-sk\"></div>\\nslovenčina\\n</a></li>\\n<li>\\n<a data-turbolinks=\"false\" href=\"/user_session/switch_locale?return=%2Fsv%2FEUAC35%2Fstandings&amp;to=sv\"><div class=\"flag flag-sv\"></div>\\nsvenska\\n</a></li>\\n<li>\\n<a data-turbolinks=\"false\" href=\"/user_session/switch_locale?return=%2Fth%2FEUAC35%2Fstandings&amp;to=th\"><div class=\"flag flag-th\"></div>\\nภาษาไทย\\n</a></li>\\n<li>\\n<a data-turbolinks=\"false\" href=\"/user_session/switch_locale?return=%2Ftr%2FEUAC35%2Fstandings&amp;to=tr\"><div class=\"flag flag-tr\"></div>\\nTürkçe\\n</a></li>\\n<li>\\n<a data-turbolinks=\"false\" href=\"/user_session/switch_locale?return=%2Fuk%2FEUAC35%2Fstandings&amp;to=uk\"><div class=\"flag flag-uk\"></div>\\nукраїнська\\n</a></li>\\n<li>\\n<a data-turbolinks=\"false\" href=\"/user_session/switch_locale?return=%2Fvi%2FEUAC35%2Fstandings&amp;to=vi\"><div class=\"flag flag-vi\"></div>\\nTiếng Việt\\n</a></li>\\n<li>\\n<a data-turbolinks=\"false\" href=\"/user_session/switch_locale?return=%2Fzh_CN%2FEUAC35%2Fstandings&amp;to=zh_CN\"><div class=\"flag flag-zh_CN\"></div>\\n简体中文\\n</a></li>\\n<li>\\n<a data-turbolinks=\"false\" href=\"/user_session/switch_locale?return=%2Fzh_TW%2FEUAC35%2Fstandings&amp;to=zh_TW\"><div class=\"flag flag-zh_TW\"></div>\\n繁體中文\\n</a></li>\\n<li class=\"divider\" role=\"separator\"></li>\\n<li><a data-turbolinks=\"false\" href=\"/translate\">Help Translate</a></li>\\n</ul>\\n</span>\\n<div class=\"divider-line\">\\n|\\n</div>\\n<a href=\"https://challonge.com/terms_of_service\">Terms</a>\\n<div class=\"divider-line\">\\n|\\n</div>\\n<a href=\"https://challonge.com/privacy_policy\">Privacy</a>\\n<div class=\"divider-line\">\\n|\\n</div>\\n<a href=\"https://challonge.com/tournament/bracket_generator\">Bracket Generator</a>\\n<span class=\"copyright\">\\n© 2025 Challonge, LLC\\n</span>\\n</div>\\n<input type=\"hidden\" name=\"locale\" id=\"locale\" value=\"en\">\\n\\n\\n\\n<script>window.gon = {};gon.targetingKeyValues={\"category\":\"Video Game - Fighting\",\"game\":\"Arms\"};gon.adminIds=[2405407,2392308,2533091,2670839,2405407];</script>\\n<script src=\"https://assets.challonge.com/assets/packs/vendors-4045e9aac2505e47493bacf5432b6ee2123ac5c52efbc60a3a23176c2e55dad0.js\"></script>\\n<script src=\"https://assets.challonge.com/assets/packs/react-shared-445eeafc6ff2aec817de9240f5876e9aea6bccf814a8d4c4a847293433de3182.js\"></script>\\n<script src=\"https://assets.challonge.com/assets/packs/react-tournament-8658a11215af5402cf3d7694cb7a8f02ea5719967e8dcc5af88708a9d21c2049.js\"></script>\\n<script src=\"https://assets.challonge.com/assets/packs/react-tournament-form-80935488c426eb3b22c007ee319a8f922c10d868c0f63282ee029b09f2a55ba4.js\"></script>\\n<script src=\"https://assets.challonge.com/assets/application-da237e37c5e6e183067cb87b42a04e5a59b22893d3c54eb046ea246013596f68.js\"></script>\\n<script>\\n  $(\\'.link-clipboard-copy\\').click(function(e) {\\n    e.preventDefault();\\n    navigator.clipboard.writeText(\\'https://challonge.com/EUAC35\\');\\n    var $_clipCopyLink = $(e.target);\\n    $_clipCopyLink.text(\\'Copied!\\');\\n    setTimeout(function() { $_clipCopyLink.text(\\'Copy Link\\'); }, 1000);\\n  });\\n</script>\\n<script>\\n  (function() {\\n    if (gon.adminIds.indexOf(parseInt($.cookie(\\'_cuid\\'))) !== -1) {\\n      $(\\'#pmall\\').removeClass(\\'hide\\');\\n    }\\n  }).call(this);\\n</script>\\n  <script type=\"text/javascript\">\\n    (function() {\\n      if (typeof $.removeCookie !== \"undefined\") { \\n        $.removeCookie(\\'_show_cake\\', {domain: \\'.challonge.com\\'});\\n        $.removeCookie(\\'_show_cake\\');\\n        $.removeCookie(\\'_current_user_id\\');\\n        $.removeCookie(\\'_current_user_id\\', {domain: \\'.challonge.com\\'});\\n        $.removeCookie(\\'refresh_token\\', {domain: \\'.challonge.com\\'});\\n      }\\n    })();\\n  </script>\\n      <script type=\"text/javascript\">\\n        (function() {\\n          function loadAds (chakakhan = null) {\\n            if (chakakhan) {\\n              window[\\'nitroAds\\'].addUserToken(chakakhan, \\'SHA-256\\')\\n            }\\n\\n            $(\\'.cake-unit, .cake-twitch\\').removeClass(\\'hide\\')\\n\\n            // write ad unit ids in data-id for each placement\\n            $(\\'.cake\\').each(function() {\\n              var $cake = $(this)\\n              var adId = $cake.attr(\\'id\\')\\n\\n              if (adId === \"cake-top\") {\\n                window[\\'nitroAds\\'].createAd(adId, {\\n                  \"refreshTime\": 30,\\n                  \"refreshLimit\": 0,\\n                  \"renderVisibleOnly\": false,\\n                  \"sizes\": [\\n                    [\\n                      \"970\",\\n                      \"250\"\\n                    ],\\n                    [\\n                      \"970\",\\n                      \"90\"\\n                    ],\\n                    [\\n                      \"728\",\\n                      \"90\"\\n                    ],\\n                    [\\n                      \"300\",\\n                      \"250\"\\n                    ]\\n                  ],\\n                  \"report\": {\\n                    \"enabled\": true,\\n                    \"icon\": false,\\n                    \"wording\": \"Report Ad\",\\n                    \"position\": \"bottom-right\"\\n                  }\\n                });\\n              } else if (adId === \"cake-inline\") {\\n                window[\\'nitroAds\\'].createAd(adId, {\\n                  \"refreshTime\": 30,\\n                  \"refreshLimit\": 0,\\n                  \"renderVisibleOnly\": false,\\n                  \"sizes\": [\\n                    [\\n                      \"300\",\\n                      \"250\"\\n                    ],\\n                    [\\n                      \"320\",\\n                      \"100\"\\n                    ],\\n                    [\\n                      \"320\",\\n                      \"50\"\\n                    ]\\n                  ],\\n                  \"report\": {\\n                    \"enabled\": true,\\n                    \"icon\": false,\\n                    \"wording\": \"Report Ad\",\\n                    \"position\": \"bottom-right\"\\n                  }\\n                });\\n              } else if (adId === \"cake-anchor\") {\\n                window[\\'nitroAds\\'].createAd(adId, {\\n                  \"refreshTime\": 30,\\n                  \"refreshLimit\": 0,\\n                  \"format\": \"anchor\",\\n                  \"anchor\": \"bottom\",\\n                  \"anchorPersistClose\": false,\\n                  \"mediaQuery\": \"(min-width: 0px)\",\\n                  \"anchorBgColor\": \"rgb(37 40 48 / 80%)\",\\n                  \"report\": {\\n                    \"enabled\": true,\\n                    \"icon\": false,\\n                    \"wording\": \"Report Ad\",\\n                    \"position\": \"top-left-side\"\\n                  }\\n                });\\n               } else if (adId === \"cake-video\") {\\n                window[\\'nitroAds\\'].createAd(\\'cake-video-nitro\\', {\\n                  \"refreshTime\": 30,\\n                  \"format\": \"floating\",\\n                  \"report\": {\\n                    \"enabled\": true,\\n                    \"icon\": false,\\n                    \"wording\": \"Report Ad\",\\n                    \"position\": \"top-left\"\\n                  },\\n                  \"floating\": {\\n                    reduceMobileSize: true,\\n                  }\\n                });\\n              } else if (adId === \"cake-footer\") {\\n                window[\\'nitroAds\\'].createAd(adId, {\\n                  \"refreshTime\": 30,\\n                  \"refreshLimit\": 0,\\n                  \"renderVisibleOnly\": true,\\n                  \"report\": {\\n                    \"enabled\": true,\\n                    \"icon\": false,\\n                    \"wording\": \"Report Ad\",\\n                    \"position\": \"bottom-right\"\\n                  }\\n                });\\n              } else {\\n                window[\\'nitroAds\\'].createAd(adId, {\\n                  \"refreshTime\": 30,\\n                  \"refreshLimit\": 0,\\n                  \"renderVisibleOnly\": false,\\n                  \"report\": {\\n                    \"enabled\": true,\\n                    \"icon\": false,\\n                    \"wording\": \"Report Ad\",\\n                    \"position\": \"bottom-right\"\\n                  }\\n                });\\n              }\\n            })\\n          }\\n\\n          // Decide if we should trigger the ad units or not\\n          var notLoggedIn = ($.cookie(\\'_cuid\\') === undefined)\\n          var showCake = ($.cookie(\\'_ck\\') === \\'true\\')\\n          var isDevMode = false\\n          var chakakhan = $.cookie(\\'_chak\\')\\n\\n          if (notLoggedIn || showCake) {\\n            loadAds(chakakhan)\\n          } else {\\n            $.ajax({\\n              url: \"/users/show_cake\",\\n              method: \"GET\",\\n              dataType: \\'JSON\\',\\n              accepts: \\'application/json\\'\\n            }).done(function(adLevel, textStatus, jqXHR) {\\n              if(adLevel > 0) {\\n                loadAds(chakakhan)\\n              }\\n            }).fail(function(jqXHR, textStatus, errorThrown) {\\n              loadAds(chakakhan)\\n            })\\n          }\\n        })();\\n      </script>\\n<script>\\n  var $gutters = $(\\'.redesign-left-gutter, .redesign-right-gutter\\')\\n  \\n  function fixGutters() {\\n    if($gutters.css(\"position\") === \"absolute\") {\\n      $gutters.css(\"height\", document.body.scrollHeight - 330)\\n    } else {\\n      $gutters.css(\"height\", \"\")\\n    }\\n  }\\n  \\n  $(window).on(\"resize\", function() {\\n    fixGutters()\\n  });\\n  \\n  // init\\n  fixGutters();\\n</script>\\n<script>\\n  $(\\'.redesign-menu-toggle a.toggle-close\\').click(function(){$menu=$(\\'.redesign-menu\\');$menu.addClass(\\'-transitioning -collapsed\\');setTimeout(function(){$menu.removeClass(\\'-transitioning\\');},500);localStorage.setItem(\\'menu-state\\',\\'closed\\');return false;});\\n  $(\\'.redesign-menu-toggle a.toggle-open\\').click(function(){$menu=$(\\'.redesign-menu\\');$menu.addClass(\\'-transitioning\\').removeClass(\\'-collapsed\\');setTimeout(function(){$menu.removeClass(\\'-transitioning\\');},500);localStorage.setItem(\\'menu-state\\',\\'open\\');return false;});\\n</script>\\n<script>\\n  if(gon.forceDeferredCallback || $.cookie(\\'_cuid\\') !== undefined) {\\n    $(function() {\\n      $.ajax(\\'/EUAC35/standings_deferred\\' + window.location.search);\\n    });\\n  }\\n  else {\\n    $(\\'.varnish-logged-out.hide\\').removeClass(\\'hide\\');\\n  }\\n</script>\\n<script>\\n  if ($.cookie(\\'locale\\') !== undefined && $.cookie(\\'locale\\') !== $(\\'#locale\\').val()) {\\n    var altHref = $(\\'#locale-\\' + $.cookie(\\'locale\\')).attr(\\'href\\');\\n  \\n    if (altHref) {\\n      window.location = altHref;\\n    }\\n  }\\n</script>\\n\\n<div id=\"react-modal-portal\"></div>\\n<div id=\"react-popover-portal\"></div>\\n</div><iframe name=\"__tcfapiLocator\" style=\"display: none;\"></iframe><iframe marginwidth=\"0\" marginheight=\"0\" scrolling=\"no\" frameborder=\"0\" id=\"1b78f8206a187f8\" width=\"0\" height=\"0\" src=\"about:blank\" name=\"__pb_locator__\" style=\"display: none; height: 0px; width: 0px; border: 0px;\"></iframe><iframe name=\"__uspapiLocator\" style=\"display: none;\"></iframe><style>\\n    .na-float-hidden {\\n        visibility: hidden;\\n        opacity: 0;\\n        transition: visibility 0s 1s, opacity 1s linear;\\n    }\\n\\n    .na-float-visible {\\n        visibility: visible;\\n        opacity: 1;\\n        * {\\n            position: static;\\n        }\\n    }</style><div id=\"cake-video-nitro\" class=\"na-float-hidden\" style=\"width: 300px; height: 169px; position: fixed; border-radius: 5px; z-index: 2147483645; right: 25px; bottom: 10px;\"></div><div id=\"nitro-float-close\" data-pin-nopin=\"true\" aria-label=\"Dismiss\" style=\"background-image: url(&quot;data:image/svg+xml;base64,PHN2ZyBmaWxsPSIjZmZmZmZmIiB3aWR0aD0iODAwcHgiIGhlaWdodD0iODAwcHgiIHZpZXdCb3g9IjAgMCAxNiAxNiIgeG1sbnM9Imh0dHA6Ly93d3cudzMub3JnLzIwMDAvc3ZnIj48Zz48cG9seWdvbiBwb2ludHM9IjEzLjYzIDMuNjUgMTIuMzUgMi4zOCA4IDYuNzMgMy42NCAyLjM4IDIuMzcgMy42NSA2LjcyIDguMDEgMi4zOCAxMi4zNSAzLjY1IDEzLjYzIDggOS4yOCAxMi4zNSAxMy42NCAxMy42MyAxMi4zNiA5LjI3IDguMDEgMTMuNjMgMy42NSIvPjwvZz48L3N2Zz4=&quot;); background-size: 14px 14px; background-repeat: no-repeat; background-position: center center; background-color: rgb(0, 0, 0); position: fixed; display: none; cursor: pointer; z-index: 2147483647; margin: 0px; padding: 0px; width: 22px; height: 22px; opacity: 0.8; border-radius: 4px; bottom: 185px; right: 23px;\"></div>\\n<script>(function(){function c(){var b=a.contentDocument||a.contentWindow.document;if(b){var d=b.createElement(\\'script\\');d.innerHTML=\"window.__CF$cv$params={r:\\'948aa8641efe6d32\\',t:\\'MTc0ODczODQwNy4wMDAwMDA=\\'};var a=document.createElement(\\'script\\');a.nonce=\\'\\';a.src=\\'/cdn-cgi/challenge-platform/scripts/jsd/main.js\\';document.getElementsByTagName(\\'head\\')[0].appendChild(a);\";b.getElementsByTagName(\\'head\\')[0].appendChild(d)}}if(document.body){var a=document.createElement(\\'iframe\\');a.height=1;a.width=1;a.style.position=\\'absolute\\';a.style.top=0;a.style.left=0;a.style.border=\\'none\\';a.style.visibility=\\'hidden\\';document.body.appendChild(a);if(\\'loading\\'!==document.readyState)c();else if(window.addEventListener)document.addEventListener(\\'DOMContentLoaded\\',c);else{var e=document.onreadystatechange||function(){};document.onreadystatechange=function(b){e(b);\\'loading\\'!==document.readyState&&(document.onreadystatechange=e,c())}}}})();</script><iframe height=\"1\" width=\"1\" style=\"position: absolute; top: 0px; left: 0px; border: none; visibility: hidden;\"></iframe>\\n\\n<img src=\"https://ad-delivery.net/px.gif?ch=2\" style=\"display: none !important; width: 1px !important; height: 1px !important;\"><img src=\"https://ad.doubleclick.net/favicon.ico?ad=300x250&amp;ad_box_=1&amp;adnet=1&amp;showad=1&amp;size=250x250\" style=\"display: none !important; width: 1px !important; height: 1px !important;\"><img src=\"https://ad-delivery.net/px.gif?ch=1&amp;e=0.6156427773231227\" style=\"display: none !important; width: 1px !important; height: 1px !important;\"><div id=\"ncmp__tool\" class=\"ncmp__normalise\"><div class=\"ncmp__banner ncmp__banner-web ncmp__active\">\\n    \\n        <div class=\"ncmp__banner-inner\">\\n    \\n        <div class=\"ncmp__language\">\\n            <a href=\"javascript:;\" target=\"_self\" class=\"ncmp__language-picker\">\\n                <img src=\"https://s.nitropay.com/cmp/lang.png\" alt=\"Language Picker\" height=\"18\" width=\"16\">\\n                <span>English</span>\\n            </a>\\n            <div class=\"ncmp__language-list\">\\n                <a href=\"javascript:;\" target=\"_self\" class=\"ncmp__language-close\">\\n                    <img src=\"https://s.nitropay.com/cmp/cancel.png\" alt=\"Close Language Picker\" height=\"18\" width=\"18\">\\n                </a>\\n                <ul>\\n                    \\n                    <li><a href=\"javascript:;\" target=\"_self\" onclick=\"__npcmp(\\'language\\').set(\\'de\\')\">Deutsch</a></li>\\n                    \\n                    <li><a href=\"javascript:;\" target=\"_self\" onclick=\"__npcmp(\\'language\\').set(\\'en\\')\">English</a></li>\\n                    \\n                    <li><a href=\"javascript:;\" target=\"_self\" onclick=\"__npcmp(\\'language\\').set(\\'es\\')\">Español</a></li>\\n                    \\n                    <li><a href=\"javascript:;\" target=\"_self\" onclick=\"__npcmp(\\'language\\').set(\\'fr\\')\">Français</a></li>\\n                    \\n                    <li><a href=\"javascript:;\" target=\"_self\" onclick=\"__npcmp(\\'language\\').set(\\'it\\')\">Italiano</a></li>\\n                    \\n                    <li><a href=\"javascript:;\" target=\"_self\" onclick=\"__npcmp(\\'language\\').set(\\'nl\\')\">Nederlands</a></li>\\n                    \\n                    <li><a href=\"javascript:;\" target=\"_self\" onclick=\"__npcmp(\\'language\\').set(\\'pl\\')\">Polski</a></li>\\n                    \\n                    <li><a href=\"javascript:;\" target=\"_self\" onclick=\"__npcmp(\\'language\\').set(\\'pt\\')\">Português</a></li>\\n                    \\n                    <li><a href=\"javascript:;\" target=\"_self\" onclick=\"__npcmp(\\'language\\').set(\\'ro\\')\">Limba română</a></li>\\n                    \\n                </ul>\\n            </div>\\n        </div>\\n\\n        <div class=\"ncmp__banner-info\">\\n            <div class=\"ncmp__banner-sections\">\\n                <div class=\"ncmp__banner-section-1\">\\n                    <h2>You control your privacy</h2>\\n                    \\n                    <p>We and up to <a href=\"javascript:;\" target=\"_self\" onclick=\"__npcmp(\\'showModal\\').navigate(\\'vendors\\')\">1000 vendors</a> process, store and/or access personal data from you and your device. This data can include your type of browser, settings, cookies, unique identifiers, IP address, and geo location. Your consent can be updated or withdrawn at any time by clicking the link in our privacy policy or footer.</p>\\n                </div>\\n\\n                <div class=\"ncmp__banner-section-2\">\\n                    <p class=\"ncmp__banner-emphasis\">\\n                        We\\'re requesting consent to offer:\\n                        <strong>Personalised advertising and content, advertising and content measurement, audience research and services development</strong>\\n                    </p>\\n\\n                    <p>\\n                        Advertising and content can be personalised based on your profile. Your activity on this service can be used to build or improve a profile about you for personalised advertising and content. Advertising and content performance can be measured. Reports can be generated based on your activity and those of others. Your activity on this service can help develop and improve products and services.\\n                    </p>\\n\\n                    \\n                </div>\\n            </div>\\n        </div>\\n\\n        <div class=\"ncmp__banner-actions\">\\n            \\n            <div class=\"ncmp__banner-btns\">\\n                <button onclick=\"__npcmp(\\'showModal\\')\" class=\"ncmp__btn ncmp__btn-border\">\\n                    Advanced Settings\\n                </button>\\n                <button onclick=\"__npcmp(\\'save\\')\" class=\"ncmp__btn\">\\n                    Accept\\n                </button>\\n            </div>\\n            \\n\\n            <div class=\"ncmp__banner-consent\">\\n                <div class=\"ncmp__banner-branding-btn\">\\n                    <a href=\"https://nitropay.com\" target=\"_blank\" rel=\"noopener\">\\n                        <img src=\"https://s.nitropay.com/cmp/logo.png\" alt=\"NitroPay\" height=\"14\" width=\"18\">\\n                    </a>\\n                </div>\\n                <p>\\n                    Your consents are specific to this site &amp; device.\\n                </p>\\n            </div>\\n        </div>\\n\\n        \\n    </div>\\n</div>\\n</div><div id=\"cake-anchor\" class=\"na-anchor-bottom\" style=\"z-index: 99997; position: fixed; width: 100%; max-width: 100vw; font-size: 0px; background-color: rgba(37, 40, 48, 0.8); bottom: 0px; left: 0px; padding-top: 10px; transition: bottom 0.15s linear;\"></div><div id=\"cake-anchor-close\" style=\"position: fixed; left: calc(50% + 176px); display: none; align-items: center; justify-content: center; font-size: 0px; cursor: pointer; z-index: 99999; opacity: 0.8; width: 44px; height: 44px; transition: bottom 0.15s linear;\"><img src=\"https://s.nitropay.com/assets/close2.svg\" style=\"width: 16px;\"></div><div id=\"fb-root\" class=\" fb_reset\"><div style=\"position: absolute; top: -10000px; width: 0px; height: 0px;\"><div></div></div></div><iframe name=\"__privateStripeMetricsController3740\" frameborder=\"0\" allowtransparency=\"true\" scrolling=\"no\" role=\"presentation\" allow=\"payment *\" src=\"https://js.stripe.com/v3/m-outer-3437aaddcdf6922d623e172c2d6f9278.html#url=https%3A%2F%2Fchallonge.com%2FEUAC35%2Fstandings&amp;title=EU%20ARMS%20Challenge%20%2335%20-%20Standings%20-%20Challonge&amp;referrer=&amp;muid=NA&amp;sid=NA&amp;version=6&amp;preview=false&amp;__shared_params__[version]=v3\" aria-hidden=\"true\" tabindex=\"-1\" style=\"border: none !important; margin: 0px !important; padding: 0px !important; width: 1px !important; min-width: 100% !important; overflow: hidden !important; display: block !important; visibility: hidden !important; position: fixed !important; height: 1px !important; pointer-events: none !important; user-select: none !important;\"></iframe></body></html>'"
      ]
     },
     "execution_count": 47,
     "metadata": {},
     "output_type": "execute_result"
    }
   ],
   "source": [
    "htmlStandings"
   ]
  },
  {
   "cell_type": "code",
   "execution_count": 48,
   "id": "0207e9d2",
   "metadata": {},
   "outputs": [],
   "source": [
    "soup = BeautifulSoup(htmlStandings, \"html.parser\")"
   ]
  },
  {
   "cell_type": "code",
   "execution_count": 49,
   "id": "4bc4b85c",
   "metadata": {},
   "outputs": [],
   "source": [
    "table = soup.find(\"table\", attrs={'class': \"standings\"})"
   ]
  },
  {
   "cell_type": "code",
   "execution_count": 50,
   "id": "62836ffe",
   "metadata": {},
   "outputs": [],
   "source": [
    "# All rows in table body (no headers/footers)\n",
    "rows = table.find(\"tbody\").find_all(\"tr\")"
   ]
  },
  {
   "cell_type": "code",
   "execution_count": 51,
   "id": "5c19e455",
   "metadata": {},
   "outputs": [
    {
     "name": "stdout",
     "output_type": "stream",
     "text": [
      "3\n"
     ]
    }
   ],
   "source": [
    "# standing\n",
    "print(rows[2].find(\"td\", \"rank\").text.strip()) # strip for white space"
   ]
  },
  {
   "cell_type": "code",
   "execution_count": 52,
   "id": "1d6e0d39",
   "metadata": {},
   "outputs": [
    {
     "data": {
      "text/plain": [
       "'Yamber'"
      ]
     },
     "execution_count": 52,
     "metadata": {},
     "output_type": "execute_result"
    }
   ],
   "source": [
    "# challonge name\n",
    "rows[2].find('a', attrs={'class':\"link-text -primary\"}).text "
   ]
  },
  {
   "cell_type": "code",
   "execution_count": 53,
   "id": "ddaf4921",
   "metadata": {},
   "outputs": [
    {
     "data": {
      "text/plain": [
       "'Yam'"
      ]
     },
     "execution_count": 53,
     "metadata": {},
     "output_type": "execute_result"
    }
   ],
   "source": [
    "# display name\n",
    "rows[2].find(\"td\", attrs={'class': \"white text-center display_name\"}).text.strip()"
   ]
  },
  {
   "cell_type": "code",
   "execution_count": 54,
   "id": "cccd61da",
   "metadata": {},
   "outputs": [],
   "source": [
    "# Putting it altogether\n",
    "displayNames = []\n",
    "challongeNames = []\n",
    "rankings = []\n",
    "\n",
    "for row in rows:\n",
    "    ranking = row.find(\"td\", \"rank\").text.strip()\n",
    "    rankings.append(ranking)\n",
    "    challongeName = row.find('a', attrs={'class':\"link-text -primary\"}).text \n",
    "    challongeNames.append(challongeName)\n",
    "    displayName = row.find(\"td\", attrs={'class': \"white text-center display_name\"}).text.strip()\n",
    "    displayNames.append(displayName)"
   ]
  },
  {
   "cell_type": "code",
   "execution_count": 55,
   "id": "3c0791dd",
   "metadata": {},
   "outputs": [
    {
     "data": {
      "text/plain": [
       "['1', '2', '3', '4', '5', '5']"
      ]
     },
     "execution_count": 55,
     "metadata": {},
     "output_type": "execute_result"
    }
   ],
   "source": [
    "rankings"
   ]
  },
  {
   "cell_type": "code",
   "execution_count": 56,
   "id": "069be7b8",
   "metadata": {
    "scrolled": true
   },
   "outputs": [
    {
     "data": {
      "text/plain": [
       "['replicant___',\n",
       " 'Grimwood96',\n",
       " 'Yamber',\n",
       " 'ocrim_ger',\n",
       " 'Iceman92',\n",
       " 'YoshiBowser']"
      ]
     },
     "execution_count": 56,
     "metadata": {},
     "output_type": "execute_result"
    }
   ],
   "source": [
    "challongeNames"
   ]
  },
  {
   "cell_type": "code",
   "execution_count": 57,
   "id": "a80f29df",
   "metadata": {
    "scrolled": false
   },
   "outputs": [
    {
     "data": {
      "text/plain": [
       "['replicant', 'Grimwood96', 'Yam', 'ocrim_ger', 'Iceman92', 'YoshiBowser']"
      ]
     },
     "execution_count": 57,
     "metadata": {},
     "output_type": "execute_result"
    }
   ],
   "source": [
    "displayNames"
   ]
  },
  {
   "cell_type": "code",
   "execution_count": 58,
   "id": "724d85a4",
   "metadata": {
    "scrolled": true
   },
   "outputs": [
    {
     "data": {
      "text/html": [
       "<div>\n",
       "<style scoped>\n",
       "    .dataframe tbody tr th:only-of-type {\n",
       "        vertical-align: middle;\n",
       "    }\n",
       "\n",
       "    .dataframe tbody tr th {\n",
       "        vertical-align: top;\n",
       "    }\n",
       "\n",
       "    .dataframe thead th {\n",
       "        text-align: right;\n",
       "    }\n",
       "</style>\n",
       "<table border=\"1\" class=\"dataframe\">\n",
       "  <thead>\n",
       "    <tr style=\"text-align: right;\">\n",
       "      <th></th>\n",
       "      <th>Ranking</th>\n",
       "      <th>Challonge Name</th>\n",
       "      <th>Display Name</th>\n",
       "    </tr>\n",
       "  </thead>\n",
       "  <tbody>\n",
       "    <tr>\n",
       "      <th>0</th>\n",
       "      <td>1</td>\n",
       "      <td>replicant___</td>\n",
       "      <td>replicant</td>\n",
       "    </tr>\n",
       "    <tr>\n",
       "      <th>1</th>\n",
       "      <td>2</td>\n",
       "      <td>Grimwood96</td>\n",
       "      <td>Grimwood96</td>\n",
       "    </tr>\n",
       "    <tr>\n",
       "      <th>2</th>\n",
       "      <td>3</td>\n",
       "      <td>Yamber</td>\n",
       "      <td>Yam</td>\n",
       "    </tr>\n",
       "    <tr>\n",
       "      <th>3</th>\n",
       "      <td>4</td>\n",
       "      <td>ocrim_ger</td>\n",
       "      <td>ocrim_ger</td>\n",
       "    </tr>\n",
       "    <tr>\n",
       "      <th>4</th>\n",
       "      <td>5</td>\n",
       "      <td>Iceman92</td>\n",
       "      <td>Iceman92</td>\n",
       "    </tr>\n",
       "  </tbody>\n",
       "</table>\n",
       "</div>"
      ],
      "text/plain": [
       "  Ranking Challonge Name Display Name\n",
       "0       1   replicant___    replicant\n",
       "1       2     Grimwood96   Grimwood96\n",
       "2       3         Yamber          Yam\n",
       "3       4      ocrim_ger    ocrim_ger\n",
       "4       5       Iceman92     Iceman92"
      ]
     },
     "execution_count": 58,
     "metadata": {},
     "output_type": "execute_result"
    }
   ],
   "source": [
    "tempDf = pd.DataFrame({\n",
    "    \"Ranking\": rankings,\n",
    "    \"Challonge Name\": challongeNames,\n",
    "    \"Display Name\": displayNames\n",
    "})\n",
    "tempDf.head()"
   ]
  },
  {
   "cell_type": "code",
   "execution_count": 59,
   "id": "b6db169b",
   "metadata": {},
   "outputs": [],
   "source": [
    "def get_rankings(df, challongeName):\n",
    "    ranking = df[df[\"Challonge Name\"] == challongeName]\n",
    "    if not ranking.empty:\n",
    "        return ranking.iloc[0][\"Ranking\"]\n",
    "    else:\n",
    "        print(f\"{challongeName} not found\")"
   ]
  },
  {
   "cell_type": "code",
   "execution_count": 60,
   "id": "d1cfba54",
   "metadata": {},
   "outputs": [
    {
     "data": {
      "text/plain": [
       "'5'"
      ]
     },
     "execution_count": 60,
     "metadata": {},
     "output_type": "execute_result"
    }
   ],
   "source": [
    "get_rankings(tempDf, \"Iceman92\")"
   ]
  },
  {
   "cell_type": "code",
   "execution_count": 61,
   "id": "ce43bd0a",
   "metadata": {},
   "outputs": [],
   "source": [
    "matches = soup.select(\"g.match\")"
   ]
  },
  {
   "cell_type": "code",
   "execution_count": 62,
   "id": "f65207a2",
   "metadata": {
    "scrolled": true
   },
   "outputs": [
    {
     "data": {
      "text/plain": [
       "'9'"
      ]
     },
     "execution_count": 62,
     "metadata": {},
     "output_type": "execute_result"
    }
   ],
   "source": [
    "match.select_one(\"text.match--identifier\").text"
   ]
  },
  {
   "cell_type": "code",
   "execution_count": 63,
   "id": "b35dca5e",
   "metadata": {},
   "outputs": [],
   "source": [
    "soup = BeautifulSoup(html, \"html.parser\")"
   ]
  },
  {
   "cell_type": "code",
   "execution_count": 64,
   "id": "a1766d29",
   "metadata": {},
   "outputs": [],
   "source": [
    "matches = soup.select(\"g.match\")"
   ]
  },
  {
   "cell_type": "code",
   "execution_count": 107,
   "id": "101c4033",
   "metadata": {
    "scrolled": false
   },
   "outputs": [
    {
     "name": "stdout",
     "output_type": "stream",
     "text": [
      "27/10/19\n",
      "27/10/19\n"
     ]
    },
    {
     "ename": "SyntaxError",
     "evalue": "'break' outside loop (370276732.py, line 14)",
     "output_type": "error",
     "traceback": [
      "\u001b[1;36m  Input \u001b[1;32mIn [107]\u001b[1;36m\u001b[0m\n\u001b[1;33m    break;\u001b[0m\n\u001b[1;37m    ^\u001b[0m\n\u001b[1;31mSyntaxError\u001b[0m\u001b[1;31m:\u001b[0m 'break' outside loop\n"
     ]
    }
   ],
   "source": [
    "# Tournament Number\n",
    "tournamentNo = re.findall(r'\\d+', \"EUAC35\") #Hard coded. Change later\n",
    "tournamentNo = tournamentNo[0]\n",
    "tournamentNo = int(tournamentNo)\n",
    "\n",
    "# Date\n",
    "rawDate = soup.find(\"div\", attrs={'class':\"start-time\"})\n",
    "dateStr = rawDate.text.strip()\n",
    "cleaned = dateStr.replace(\"CET\", \"\").strip()\n",
    "dt = datetime.strptime(cleaned, \"%B %d, %Y at %I:%M %p\")\n",
    "date = dt.strftime(\"%d/%m/%y\")\n",
    "\n",
    "for i in matches:\n",
    "    \n",
    "    # Seeds\n",
    "    seeds = i.select(\"text.match--seed\")\n",
    "    p1Seed = seeds[0].text\n",
    "    p2Seed = seeds[1].text\n",
    "    \n",
    "    # Participant Ids\n",
    "    parts = i.find_all(\"svg\", class_=\"match--player\")\n",
    "    part1 = parts[0][\"data-participant-id\"]\n",
    "    part2 = parts[1][\"data-participant-id\"]\n",
    "    \n",
    "    # Challonge Ids\n",
    "    challonge1 = find_challonge_id(int(part1))\n",
    "    challonge2 = find_challonge_id(int(part2))\n",
    "    \n",
    "    # Names COME BACK TO THIS. CHECK IF PLAYER IS NEW\n",
    "    player1 = retrieve_player_challonge(playerdf, int(challonge1))\n",
    "    player2 = retrieve_player_challonge(playerdf, int(challonge2))\n",
    "    \n",
    "    # Placements\n",
    "    ranking1 = get_rankings(tempDf, player1)\n",
    "    ranking2 = get_rankings(tempDf, player2)\n",
    "    \n",
    "    # Winner/Loser\n",
    "    if \"winner\" in str(parts[0]):\n",
    "        winner = player1\n",
    "        loser = player2\n",
    "    else:\n",
    "        winner = player2\n",
    "        loser = player1\n",
    "    print(winner)\n",
    "    print(loser)\n",
    "    \n",
    "    # Score\n",
    "    scores = i.select(\"text.match--player-score\")\n",
    "    score = f\"{scores[0].text}-{scores[1].text}\"\n",
    "    \n",
    "    # Match Number\n",
    "    matchNo = i.select_one(\"text.match--identifier\").text\n",
    "    \n",
    "    break;\n",
    "    \n",
    "    # Add to dataframe\n",
    "    df.loc[len(df)] = [player1, player2, winner, score, loser, matchNo, tournamentNo, date,\n",
    "                       p1Seed, ranking1, p2Seed, ranking2]\n",
    "    "
   ]
  },
  {
   "cell_type": "code",
   "execution_count": 89,
   "id": "36ccc9b7",
   "metadata": {},
   "outputs": [
    {
     "data": {
      "text/html": [
       "<div>\n",
       "<style scoped>\n",
       "    .dataframe tbody tr th:only-of-type {\n",
       "        vertical-align: middle;\n",
       "    }\n",
       "\n",
       "    .dataframe tbody tr th {\n",
       "        vertical-align: top;\n",
       "    }\n",
       "\n",
       "    .dataframe thead th {\n",
       "        text-align: right;\n",
       "    }\n",
       "</style>\n",
       "<table border=\"1\" class=\"dataframe\">\n",
       "  <thead>\n",
       "    <tr style=\"text-align: right;\">\n",
       "      <th></th>\n",
       "      <th>Player1</th>\n",
       "      <th>Player2</th>\n",
       "      <th>Winner</th>\n",
       "      <th>Score</th>\n",
       "      <th>Loser</th>\n",
       "      <th>MatchNo</th>\n",
       "      <th>EUAC</th>\n",
       "      <th>Date</th>\n",
       "      <th>P1 Seed</th>\n",
       "      <th>P1 Placement</th>\n",
       "      <th>P2 Seed</th>\n",
       "      <th>P2 Placement</th>\n",
       "    </tr>\n",
       "  </thead>\n",
       "  <tbody>\n",
       "    <tr>\n",
       "      <th>2016</th>\n",
       "      <td>DoJoSeph</td>\n",
       "      <td>YoshiBowser</td>\n",
       "      <td>DoJoSeph</td>\n",
       "      <td>2-0</td>\n",
       "      <td>YoshiBowser</td>\n",
       "      <td>8</td>\n",
       "      <td>110</td>\n",
       "      <td>13/10/24</td>\n",
       "      <td>3</td>\n",
       "      <td>4</td>\n",
       "      <td>5</td>\n",
       "      <td>5</td>\n",
       "    </tr>\n",
       "    <tr>\n",
       "      <th>2017</th>\n",
       "      <td>Yamber</td>\n",
       "      <td>ProfPie</td>\n",
       "      <td>Yamber</td>\n",
       "      <td>2-0</td>\n",
       "      <td>ProfPie</td>\n",
       "      <td>7</td>\n",
       "      <td>110</td>\n",
       "      <td>13/10/24</td>\n",
       "      <td>4</td>\n",
       "      <td>2</td>\n",
       "      <td>7</td>\n",
       "      <td>5</td>\n",
       "    </tr>\n",
       "    <tr>\n",
       "      <th>2018</th>\n",
       "      <td>DoJoSeph</td>\n",
       "      <td>Yamber</td>\n",
       "      <td>Yamber</td>\n",
       "      <td>0-2</td>\n",
       "      <td>DoJoSeph</td>\n",
       "      <td>9</td>\n",
       "      <td>110</td>\n",
       "      <td>13/10/24</td>\n",
       "      <td>3</td>\n",
       "      <td>4</td>\n",
       "      <td>4</td>\n",
       "      <td>2</td>\n",
       "    </tr>\n",
       "    <tr>\n",
       "      <th>2019</th>\n",
       "      <td>Giusesbica004</td>\n",
       "      <td>Yamber</td>\n",
       "      <td>Yamber</td>\n",
       "      <td>0-0</td>\n",
       "      <td>Giusesbica004</td>\n",
       "      <td>11</td>\n",
       "      <td>110</td>\n",
       "      <td>13/10/24</td>\n",
       "      <td>2</td>\n",
       "      <td>3</td>\n",
       "      <td>4</td>\n",
       "      <td>2</td>\n",
       "    </tr>\n",
       "    <tr>\n",
       "      <th>2020</th>\n",
       "      <td>Ripha</td>\n",
       "      <td>Yamber</td>\n",
       "      <td>Ripha</td>\n",
       "      <td>3-0</td>\n",
       "      <td>Yamber</td>\n",
       "      <td>12</td>\n",
       "      <td>110</td>\n",
       "      <td>13/10/24</td>\n",
       "      <td>1</td>\n",
       "      <td>1</td>\n",
       "      <td>4</td>\n",
       "      <td>2</td>\n",
       "    </tr>\n",
       "  </tbody>\n",
       "</table>\n",
       "</div>"
      ],
      "text/plain": [
       "            Player1      Player2    Winner Score          Loser  MatchNo EUAC  \\\n",
       "2016       DoJoSeph  YoshiBowser  DoJoSeph   2-0    YoshiBowser        8  110   \n",
       "2017         Yamber      ProfPie    Yamber   2-0        ProfPie        7  110   \n",
       "2018       DoJoSeph       Yamber    Yamber   0-2       DoJoSeph        9  110   \n",
       "2019  Giusesbica004       Yamber    Yamber   0-0  Giusesbica004       11  110   \n",
       "2020          Ripha       Yamber     Ripha   3-0         Yamber       12  110   \n",
       "\n",
       "          Date  P1 Seed  P1 Placement  P2 Seed  P2 Placement  \n",
       "2016  13/10/24        3             4        5             5  \n",
       "2017  13/10/24        4             2        7             5  \n",
       "2018  13/10/24        3             4        4             2  \n",
       "2019  13/10/24        2             3        4             2  \n",
       "2020  13/10/24        1             1        4             2  "
      ]
     },
     "execution_count": 89,
     "metadata": {},
     "output_type": "execute_result"
    }
   ],
   "source": [
    "df.tail()"
   ]
  },
  {
   "cell_type": "code",
   "execution_count": 73,
   "id": "d2f11c79",
   "metadata": {
    "scrolled": false
   },
   "outputs": [
    {
     "data": {
      "text/plain": [
       "[<svg class=\"match--player\" data-participant-id=\"107792038\" x=\"0\" y=\"5\"><title>Grimwood96</title><defs><clippath id=\"clipPath1977050\"><rect height=\"22\" width=\"143\" x=\"50\" y=\"0\"></rect></clippath><clippath id=\"portraitClipPath1977050\"><path></path></clippath></defs><path class=\"match--player-background\" d=\"M 50 0 h 147 v 22 h -147 Z\"></path><path class=\"match--seed-background\" d=\"M 26 0 h 24 v 22 h -24 Z\"></path><text class=\"match--seed\" height=\"12\" text-anchor=\"middle\" width=\"10\" x=\"38\" y=\"14\">1</text><text class=\"match--player-name -winner\" clip-path=\"url(#clipPath1977050)\" height=\"12\" text-anchor=\"start\" width=\"147\" x=\"77\" y=\"15\">Grimwood96</text><g clip-path=\"\"><image height=\"18\" width=\"18\" x=\"55\" xlink:href=\"https://s3.amazonaws.com/challonge_app/users/images/001/897/663/large/1725714_1.png\" y=\"2\"/></g><path class=\"match--player-score-background -winner\" d=\"M 197 0 h 29 v 22 h -29 Z\"></path><text class=\"match--player-score -winner\" height=\"12\" text-anchor=\"middle\" width=\"21\" x=\"211\" y=\"15\">3</text></svg>,\n",
       " <svg class=\"match--player\" data-participant-id=\"107876180\" x=\"0\" y=\"28\"><title>Yam</title><defs><clippath id=\"clipPath195600\"><rect height=\"22\" width=\"143\" x=\"50\" y=\"0\"></rect></clippath><clippath id=\"portraitClipPath195600\"><path></path></clippath></defs><path class=\"match--player-background\" d=\"M 50 0 h 147 v 22 h -147 Z\"></path><path class=\"match--seed-background\" d=\"M 26 0 h 24 v 22 h -24 Z\"></path><text class=\"match--seed\" height=\"12\" text-anchor=\"middle\" width=\"10\" x=\"38\" y=\"14\">4</text><text class=\"match--player-name\" clip-path=\"url(#clipPath195600)\" height=\"12\" text-anchor=\"start\" width=\"147\" x=\"77\" y=\"15\">Yam</text><g clip-path=\"\"><image height=\"18\" width=\"18\" x=\"55\" xlink:href=\"https://s3.amazonaws.com/challonge_app/users/images/003/149/531/large/28004.png\" y=\"2\"/></g><path class=\"match--player-score-background\" d=\"M 197 0 h 29 v 22 h -29 Z\"></path><text class=\"match--player-score\" height=\"12\" text-anchor=\"middle\" width=\"21\" x=\"211\" y=\"15\">1</text><line class=\"match--player-divider\" x1=\"26\" x2=\"226\" y1=\"-0.5\" y2=\"-0.5\"></line></svg>]"
      ]
     },
     "execution_count": 73,
     "metadata": {},
     "output_type": "execute_result"
    }
   ],
   "source": [
    "parts"
   ]
  },
  {
   "cell_type": "code",
   "execution_count": 82,
   "id": "84f3c1d8",
   "metadata": {},
   "outputs": [
    {
     "name": "stdout",
     "output_type": "stream",
     "text": [
      "0\n"
     ]
    }
   ],
   "source": [
    "if \"winner\" in str(parts[0]):\n",
    "    print(\"0\")\n",
    "elif \"winner\" in str(parts[1]):\n",
    "    print(\"1\")\n",
    "else:\n",
    "    print(\"Try another way\")"
   ]
  },
  {
   "cell_type": "code",
   "execution_count": 101,
   "id": "4bada62d",
   "metadata": {},
   "outputs": [],
   "source": [
    "dateData = soup.find('div', attrs={'class':\"start-time\"})"
   ]
  },
  {
   "cell_type": "code",
   "execution_count": 102,
   "id": "4c3f74b2",
   "metadata": {
    "scrolled": true
   },
   "outputs": [
    {
     "data": {
      "text/plain": [
       "<div class=\"text start-time\">\n",
       "October 27, 2019 at  3:00 PM CET\n",
       "</div>"
      ]
     },
     "execution_count": 102,
     "metadata": {},
     "output_type": "execute_result"
    }
   ],
   "source": [
    "dateData"
   ]
  },
  {
   "cell_type": "code",
   "execution_count": 103,
   "id": "1cdd6941",
   "metadata": {},
   "outputs": [
    {
     "data": {
      "text/plain": [
       "'October 27, 2019 at  3:00 PM CET'"
      ]
     },
     "execution_count": 103,
     "metadata": {},
     "output_type": "execute_result"
    }
   ],
   "source": [
    "dateData.text.strip()"
   ]
  },
  {
   "cell_type": "code",
   "execution_count": 96,
   "id": "0ed061c4",
   "metadata": {
    "scrolled": false
   },
   "outputs": [
    {
     "data": {
      "text/plain": [
       "'October 27, 2019 at  3:00 PM CET'"
      ]
     },
     "execution_count": 96,
     "metadata": {},
     "output_type": "execute_result"
    }
   ],
   "source": [
    "dateData.get_text(strip=True)"
   ]
  },
  {
   "cell_type": "code",
   "execution_count": 104,
   "id": "670d4386",
   "metadata": {},
   "outputs": [],
   "source": [
    "dateStr =  dateData.text.strip()"
   ]
  },
  {
   "cell_type": "code",
   "execution_count": 105,
   "id": "3406a124",
   "metadata": {},
   "outputs": [
    {
     "name": "stdout",
     "output_type": "stream",
     "text": [
      "27/10/19\n"
     ]
    }
   ],
   "source": [
    "from datetime import datetime\n",
    "\n",
    "cleaned = dateStr.replace(\"CET\", \"\").strip()\n",
    "\n",
    "dt = datetime.strptime(cleaned, \"%B %d, %Y at %I:%M %p\")\n",
    "\n",
    "formattedDate = dt.strftime(\"%d/%m/%y\")\n",
    "\n",
    "print(formattedDate)"
   ]
  },
  {
   "cell_type": "markdown",
   "id": "3a8ea86b",
   "metadata": {},
   "source": [
    "# References"
   ]
  },
  {
   "cell_type": "markdown",
   "id": "ba7fc277",
   "metadata": {},
   "source": [
    "- https://armswiki.org/wiki/EU_ARMS_Challenge\n",
    "- https://developer.start.gg/docs/examples/queries/get-event\n",
    "- https://github.com/ZEDGR/pychallonge"
   ]
  }
 ],
 "metadata": {
  "kernelspec": {
   "display_name": "Python 3 (ipykernel)",
   "language": "python",
   "name": "python3"
  },
  "language_info": {
   "codemirror_mode": {
    "name": "ipython",
    "version": 3
   },
   "file_extension": ".py",
   "mimetype": "text/x-python",
   "name": "python",
   "nbconvert_exporter": "python",
   "pygments_lexer": "ipython3",
   "version": "3.9.12"
  }
 },
 "nbformat": 4,
 "nbformat_minor": 5
}
