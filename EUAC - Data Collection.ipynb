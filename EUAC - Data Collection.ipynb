{
 "cells": [
  {
   "cell_type": "markdown",
   "id": "3d94e721",
   "metadata": {},
   "source": [
    "# 1. Libraries"
   ]
  },
  {
   "cell_type": "code",
   "execution_count": 1,
   "id": "1cde4263",
   "metadata": {},
   "outputs": [],
   "source": [
    "# Import Libraries\n",
    "import requests\n",
    "import pandas as pd\n",
    "import os\n",
    "from dotenv import load_dotenv"
   ]
  },
  {
   "cell_type": "markdown",
   "id": "0befb275",
   "metadata": {},
   "source": [
    "# 2. Introduction"
   ]
  },
  {
   "cell_type": "markdown",
   "id": "48e2137d",
   "metadata": {},
   "source": [
    "The purpose of this notebook is to gather data on the European ARMS Challenge (EUAC) tournament series. <br>\n",
    "The EUAC is an online biweekly tournament series for the video game \"ARMS\" released for the Nintendo Switch console in 2017. <br>\n",
    "The EUAC started in 2017 and ran consistently until 2022.<br>\n",
    "<br>\n",
    "More information can be found in references below."
   ]
  },
  {
   "cell_type": "markdown",
   "id": "4b61ba1c",
   "metadata": {},
   "source": [
    "This notebook is to purely gather the data, act as a proof of concept, and format it for future use/analysis. <br>\n",
    "It will then be exported to a csv file if successful. <br>"
   ]
  },
  {
   "cell_type": "markdown",
   "id": "4caa3c5d",
   "metadata": {},
   "source": [
    "# 3. Objectives"
   ]
  },
  {
   "cell_type": "markdown",
   "id": "6d7a4eb3",
   "metadata": {},
   "source": [
    "- Determine what data that is necessary\n",
    "- Gather EUAC#1 data from start.gg using their api\n",
    "- Gather EUAC#2 to EUAC#110 data from Challonge.com using their api\n",
    "- Format the data into a pandas dataframe\n",
    "- Export to csv"
   ]
  },
  {
   "cell_type": "markdown",
   "id": "05e72761",
   "metadata": {},
   "source": [
    "## 3.1. Objective 1"
   ]
  },
  {
   "cell_type": "markdown",
   "id": "69cf9421",
   "metadata": {},
   "source": [
    "### Determine what data is necessary"
   ]
  },
  {
   "cell_type": "markdown",
   "id": "8221b681",
   "metadata": {},
   "source": [
    "For each tournament, we will need: <br>\n",
    "- The participants who entered\n",
    "- Each match that was played\n",
    "- The result of each match\n",
    "- The date the tournament took place\n",
    "- The final placements\n",
    "- Each player's seeding"
   ]
  },
  {
   "cell_type": "markdown",
   "id": "20ce5f32",
   "metadata": {},
   "source": [
    "## 3.2. Objective 2 - Data Gathering"
   ]
  },
  {
   "cell_type": "markdown",
   "id": "79797f89",
   "metadata": {},
   "source": [
    "The tournaments were mostly hosted on Challonge.com but the first one was hosted on start.gg. <br>"
   ]
  },
  {
   "cell_type": "markdown",
   "id": "c76fb9ad",
   "metadata": {},
   "source": [
    "### 3.2.1. - Start.gg"
   ]
  },
  {
   "cell_type": "markdown",
   "id": "10d58db2",
   "metadata": {},
   "source": [
    "Start.gg's API uses GraphQL as its query language <br>\n",
    "The GraphQL queries will be wrapped in multiline strings so they can be sent to the start.gg API to retrieve the data. <br>\n",
    "Queries also expect an API token to passed through the header. This token will be loaded from a .env file.<br>\n",
    "<br>\n",
    "A link to the tutorial that was followed to come up with the queries can be found in References."
   ]
  },
  {
   "cell_type": "code",
   "execution_count": 2,
   "id": "3d271ceb",
   "metadata": {},
   "outputs": [],
   "source": [
    "# Load API Keys stored in .env file\n",
    "load_dotenv(\".env\")\n",
    "START_GG_API_TOKEN = os.getenv(\"START_GG_API_TOKEN\")"
   ]
  },
  {
   "cell_type": "markdown",
   "id": "e5950409",
   "metadata": {},
   "source": [
    "The tournament was hosted at this url: https://www.start.gg/tournament/eu-arms-challenge-1/events <br>\n",
    "For some of the information that is needed, the id of the event is required. Which is obtained here using the url slug"
   ]
  },
  {
   "cell_type": "code",
   "execution_count": 31,
   "id": "6cf1f447",
   "metadata": {},
   "outputs": [],
   "source": [
    "# GraphQL query wrapped in a multiline string. \n",
    "query = \"\"\"\n",
    "query TournamentQuery {\n",
    "  tournament(slug: \"tournament/eu-arms-challenge-1\") {\n",
    "    name\n",
    "    events {\n",
    "      name\n",
    "      id\n",
    "    }\n",
    "  }\n",
    "}\n",
    "\"\"\""
   ]
  },
  {
   "cell_type": "code",
   "execution_count": 32,
   "id": "96a770b8",
   "metadata": {},
   "outputs": [],
   "source": [
    "url = \"https://api.start.gg/gql/alpha\"\n",
    "headers = {\n",
    "    \"Authorization\": f\"Bearer {START_GG_API_TOKEN}\",\n",
    "    \"Content-Type\": \"application/json\"\n",
    "}\n",
    "response = requests.post(url, json={'query': query}, headers=headers)\n",
    "data = response.json()"
   ]
  },
  {
   "cell_type": "code",
   "execution_count": 33,
   "id": "dbaf4021",
   "metadata": {
    "scrolled": true
   },
   "outputs": [
    {
     "data": {
      "text/plain": [
       "{'data': {'tournament': {'name': 'EU ARMS Challenge #1',\n",
       "   'events': [{'name': 'EU ARMS Challenge #1', 'id': 53835}]}},\n",
       " 'extensions': {'cacheControl': {'version': 1,\n",
       "   'hints': [{'path': ['tournament'], 'maxAge': 300, 'scope': 'PRIVATE'}]},\n",
       "  'queryComplexity': 2},\n",
       " 'actionRecords': []}"
      ]
     },
     "execution_count": 33,
     "metadata": {},
     "output_type": "execute_result"
    }
   ],
   "source": [
    "data"
   ]
  },
  {
   "cell_type": "code",
   "execution_count": 34,
   "id": "05536111",
   "metadata": {},
   "outputs": [],
   "source": [
    "eventId = data[\"data\"][\"tournament\"][\"events\"][0][\"id\"]"
   ]
  },
  {
   "cell_type": "code",
   "execution_count": 35,
   "id": "fb67179c",
   "metadata": {
    "scrolled": true
   },
   "outputs": [
    {
     "data": {
      "text/plain": [
       "53835"
      ]
     },
     "execution_count": 35,
     "metadata": {},
     "output_type": "execute_result"
    }
   ],
   "source": [
    "eventId"
   ]
  },
  {
   "cell_type": "markdown",
   "id": "97e6df68",
   "metadata": {},
   "source": [
    "The id of the event is 53835"
   ]
  },
  {
   "cell_type": "markdown",
   "id": "63181d44",
   "metadata": {},
   "source": [
    "Using the event id, a query can be written to get the players, their seedings and placements, and the start date of the tournament <br>\n",
    "Some of this information could have been gotten before but not all"
   ]
  },
  {
   "cell_type": "code",
   "execution_count": 36,
   "id": "65b8ff22",
   "metadata": {},
   "outputs": [],
   "source": [
    "# Query for players, seedings, placements\n",
    "\n",
    "query = \"\"\"\n",
    "query {\n",
    "  event(id: 53835) {\n",
    "    id\n",
    "    name\n",
    "    startAt\n",
    "    standings(query: {\n",
    "      page: 1\n",
    "    }) {\n",
    "      nodes {\n",
    "        placement\n",
    "        entrant {\n",
    "          name\n",
    "          seeds {\n",
    "            seedNum\n",
    "          }\n",
    "        }\n",
    "      }\n",
    "    }\n",
    "  }\n",
    "}\n",
    "\"\"\""
   ]
  },
  {
   "cell_type": "code",
   "execution_count": 37,
   "id": "8d36cad4",
   "metadata": {},
   "outputs": [],
   "source": [
    "url = \"https://api.start.gg/gql/alpha\"\n",
    "headers = {\n",
    "    \"Authorization\": f\"Bearer {START_GG_API_TOKEN}\",\n",
    "    \"Content-Type\": \"application/json\"\n",
    "}\n",
    "response = requests.post(url, json={'query': query}, headers=headers)\n",
    "data = response.json()"
   ]
  },
  {
   "cell_type": "code",
   "execution_count": 38,
   "id": "4836b1c8",
   "metadata": {},
   "outputs": [
    {
     "data": {
      "text/plain": [
       "{'data': {'event': {'id': 53835,\n",
       "   'name': 'EU ARMS Challenge #1',\n",
       "   'startAt': 1508605200,\n",
       "   'standings': {'nodes': [{'placement': 1,\n",
       "      'entrant': {'name': 'FR | Maxou0708', 'seeds': [{'seedNum': 20}]}},\n",
       "     {'placement': 2,\n",
       "      'entrant': {'name': 'Rapha_MTH', 'seeds': [{'seedNum': 6}]}},\n",
       "     {'placement': 3,\n",
       "      'entrant': {'name': 'Sabaca', 'seeds': [{'seedNum': 8}]}},\n",
       "     {'placement': 4,\n",
       "      'entrant': {'name': 'TCM | Raffa', 'seeds': [{'seedNum': 21}]}},\n",
       "     {'placement': 5,\n",
       "      'entrant': {'name': 'FrankTank', 'seeds': [{'seedNum': 19}]}},\n",
       "     {'placement': 5, 'entrant': {'name': 'ocrim', 'seeds': [{'seedNum': 2}]}},\n",
       "     {'placement': 7,\n",
       "      'entrant': {'name': 'Alumento', 'seeds': [{'seedNum': 11}]}},\n",
       "     {'placement': 7,\n",
       "      'entrant': {'name': 'SC☆Momso', 'seeds': [{'seedNum': 7}]}},\n",
       "     {'placement': 9,\n",
       "      'entrant': {'name': 'VilleViljar', 'seeds': [{'seedNum': 4}]}},\n",
       "     {'placement': 9,\n",
       "      'entrant': {'name': 'TCM | BD82', 'seeds': [{'seedNum': 17}]}},\n",
       "     {'placement': 9,\n",
       "      'entrant': {'name': 'FR|TCM | InkAlyut', 'seeds': [{'seedNum': 13}]}},\n",
       "     {'placement': 9,\n",
       "      'entrant': {'name': 'Linkirto', 'seeds': [{'seedNum': 1}]}},\n",
       "     {'placement': 13,\n",
       "      'entrant': {'name': 'Orthuss', 'seeds': [{'seedNum': 3}]}},\n",
       "     {'placement': 13,\n",
       "      'entrant': {'name': 'Kotorious BRD', 'seeds': [{'seedNum': 15}]}},\n",
       "     {'placement': 13,\n",
       "      'entrant': {'name': 'BambooBoss', 'seeds': [{'seedNum': 14}]}},\n",
       "     {'placement': 13,\n",
       "      'entrant': {'name': 'Raayo', 'seeds': [{'seedNum': 5}]}},\n",
       "     {'placement': 17,\n",
       "      'entrant': {'name': 'Octey | Octey', 'seeds': [{'seedNum': 16}]}},\n",
       "     {'placement': 17,\n",
       "      'entrant': {'name': 'RD | | Dushni', 'seeds': [{'seedNum': 12}]}},\n",
       "     {'placement': 17,\n",
       "      'entrant': {'name': 'Altair', 'seeds': [{'seedNum': 18}]}},\n",
       "     {'placement': 17,\n",
       "      'entrant': {'name': 'Owdy', 'seeds': [{'seedNum': 22}]}},\n",
       "     {'placement': 17,\n",
       "      'entrant': {'name': 'Gleeface', 'seeds': [{'seedNum': 9}]}},\n",
       "     {'placement': 17,\n",
       "      'entrant': {'name': 'Beannie', 'seeds': [{'seedNum': 10}]}}]}}},\n",
       " 'extensions': {'cacheControl': {'version': 1,\n",
       "   'hints': [{'path': ['event'], 'maxAge': 60, 'scope': 'PRIVATE'}]},\n",
       "  'queryComplexity': 68},\n",
       " 'actionRecords': []}"
      ]
     },
     "execution_count": 38,
     "metadata": {},
     "output_type": "execute_result"
    }
   ],
   "source": [
    "data"
   ]
  },
  {
   "cell_type": "markdown",
   "id": "1ddee557",
   "metadata": {},
   "source": [
    "Data is a nested dictionary. Now we'll gather a list of participants, their placements and seeds, by digging through this"
   ]
  },
  {
   "cell_type": "code",
   "execution_count": 40,
   "id": "e26e7134",
   "metadata": {},
   "outputs": [
    {
     "data": {
      "text/plain": [
       "'EU ARMS Challenge #1'"
      ]
     },
     "execution_count": 40,
     "metadata": {},
     "output_type": "execute_result"
    }
   ],
   "source": [
    "data[\"data\"][\"event\"][\"name\"]"
   ]
  },
  {
   "cell_type": "code",
   "execution_count": 43,
   "id": "9146b301",
   "metadata": {
    "scrolled": true
   },
   "outputs": [
    {
     "data": {
      "text/plain": [
       "1508605200"
      ]
     },
     "execution_count": 43,
     "metadata": {},
     "output_type": "execute_result"
    }
   ],
   "source": [
    "data[\"data\"][\"event\"][\"startAt\"]"
   ]
  },
  {
   "cell_type": "code",
   "execution_count": 71,
   "id": "70a2ba6c",
   "metadata": {},
   "outputs": [],
   "source": [
    "tournamentDate = data[\"data\"][\"event\"][\"startAt\"]"
   ]
  },
  {
   "cell_type": "markdown",
   "id": "93b62c86",
   "metadata": {},
   "source": [
    "UNIX time for when tournament took place"
   ]
  },
  {
   "cell_type": "code",
   "execution_count": 44,
   "id": "a9e15442",
   "metadata": {
    "scrolled": true
   },
   "outputs": [
    {
     "data": {
      "text/plain": [
       "{'nodes': [{'placement': 1,\n",
       "   'entrant': {'name': 'FR | Maxou0708', 'seeds': [{'seedNum': 20}]}},\n",
       "  {'placement': 2,\n",
       "   'entrant': {'name': 'Rapha_MTH', 'seeds': [{'seedNum': 6}]}},\n",
       "  {'placement': 3, 'entrant': {'name': 'Sabaca', 'seeds': [{'seedNum': 8}]}},\n",
       "  {'placement': 4,\n",
       "   'entrant': {'name': 'TCM | Raffa', 'seeds': [{'seedNum': 21}]}},\n",
       "  {'placement': 5,\n",
       "   'entrant': {'name': 'FrankTank', 'seeds': [{'seedNum': 19}]}},\n",
       "  {'placement': 5, 'entrant': {'name': 'ocrim', 'seeds': [{'seedNum': 2}]}},\n",
       "  {'placement': 7,\n",
       "   'entrant': {'name': 'Alumento', 'seeds': [{'seedNum': 11}]}},\n",
       "  {'placement': 7, 'entrant': {'name': 'SC☆Momso', 'seeds': [{'seedNum': 7}]}},\n",
       "  {'placement': 9,\n",
       "   'entrant': {'name': 'VilleViljar', 'seeds': [{'seedNum': 4}]}},\n",
       "  {'placement': 9,\n",
       "   'entrant': {'name': 'TCM | BD82', 'seeds': [{'seedNum': 17}]}},\n",
       "  {'placement': 9,\n",
       "   'entrant': {'name': 'FR|TCM | InkAlyut', 'seeds': [{'seedNum': 13}]}},\n",
       "  {'placement': 9, 'entrant': {'name': 'Linkirto', 'seeds': [{'seedNum': 1}]}},\n",
       "  {'placement': 13, 'entrant': {'name': 'Orthuss', 'seeds': [{'seedNum': 3}]}},\n",
       "  {'placement': 13,\n",
       "   'entrant': {'name': 'Kotorious BRD', 'seeds': [{'seedNum': 15}]}},\n",
       "  {'placement': 13,\n",
       "   'entrant': {'name': 'BambooBoss', 'seeds': [{'seedNum': 14}]}},\n",
       "  {'placement': 13, 'entrant': {'name': 'Raayo', 'seeds': [{'seedNum': 5}]}},\n",
       "  {'placement': 17,\n",
       "   'entrant': {'name': 'Octey | Octey', 'seeds': [{'seedNum': 16}]}},\n",
       "  {'placement': 17,\n",
       "   'entrant': {'name': 'RD | | Dushni', 'seeds': [{'seedNum': 12}]}},\n",
       "  {'placement': 17, 'entrant': {'name': 'Altair', 'seeds': [{'seedNum': 18}]}},\n",
       "  {'placement': 17, 'entrant': {'name': 'Owdy', 'seeds': [{'seedNum': 22}]}},\n",
       "  {'placement': 17,\n",
       "   'entrant': {'name': 'Gleeface', 'seeds': [{'seedNum': 9}]}},\n",
       "  {'placement': 17,\n",
       "   'entrant': {'name': 'Beannie', 'seeds': [{'seedNum': 10}]}}]}"
      ]
     },
     "execution_count": 44,
     "metadata": {},
     "output_type": "execute_result"
    }
   ],
   "source": [
    "data[\"data\"][\"event\"][\"standings\"]"
   ]
  },
  {
   "cell_type": "code",
   "execution_count": 49,
   "id": "4fb978e7",
   "metadata": {
    "scrolled": false
   },
   "outputs": [
    {
     "data": {
      "text/plain": [
       "{'placement': 1,\n",
       " 'entrant': {'name': 'FR | Maxou0708', 'seeds': [{'seedNum': 20}]}}"
      ]
     },
     "execution_count": 49,
     "metadata": {},
     "output_type": "execute_result"
    }
   ],
   "source": [
    "data[\"data\"][\"event\"][\"standings\"][\"nodes\"][0] #Information for one player"
   ]
  },
  {
   "cell_type": "code",
   "execution_count": 57,
   "id": "21050829",
   "metadata": {
    "scrolled": true
   },
   "outputs": [
    {
     "data": {
      "text/plain": [
       "1"
      ]
     },
     "execution_count": 57,
     "metadata": {},
     "output_type": "execute_result"
    }
   ],
   "source": [
    "# Placement\n",
    "data[\"data\"][\"event\"][\"standings\"][\"nodes\"][0][\"placement\"]"
   ]
  },
  {
   "cell_type": "code",
   "execution_count": 60,
   "id": "6066df82",
   "metadata": {
    "scrolled": true
   },
   "outputs": [
    {
     "data": {
      "text/plain": [
       "'FR | Maxou0708'"
      ]
     },
     "execution_count": 60,
     "metadata": {},
     "output_type": "execute_result"
    }
   ],
   "source": [
    "# Name\n",
    "data[\"data\"][\"event\"][\"standings\"][\"nodes\"][0][\"entrant\"][\"name\"]"
   ]
  },
  {
   "cell_type": "code",
   "execution_count": 63,
   "id": "2279b653",
   "metadata": {},
   "outputs": [
    {
     "data": {
      "text/plain": [
       "20"
      ]
     },
     "execution_count": 63,
     "metadata": {},
     "output_type": "execute_result"
    }
   ],
   "source": [
    "# Seeding\n",
    "data[\"data\"][\"event\"][\"standings\"][\"nodes\"][0][\"entrant\"][\"seeds\"][0][\"seedNum\"]"
   ]
  },
  {
   "cell_type": "code",
   "execution_count": 65,
   "id": "f095489c",
   "metadata": {},
   "outputs": [],
   "source": [
    "# Putting it all together in a for loop. Store information in arrays\n",
    "\n",
    "playerArray = []\n",
    "placementArray = []\n",
    "seedArray = []\n",
    "\n",
    "for entrant in data[\"data\"][\"event\"][\"standings\"][\"nodes\"]:\n",
    "    playerArray.append(entrant[\"entrant\"][\"name\"])\n",
    "    placementArray.append(entrant[\"placement\"])\n",
    "    seedArray.append(entrant[\"entrant\"][\"seeds\"][0][\"seedNum\"])"
   ]
  },
  {
   "cell_type": "code",
   "execution_count": 69,
   "id": "cb623613",
   "metadata": {},
   "outputs": [],
   "source": [
    "# Make a pandas dataframe of the arrays\n",
    "\n",
    "playerdf = pd.DataFrame({\n",
    "    \"Player\": playerArray,\n",
    "    \"Seed\": seedArray,\n",
    "    \"Placement\": placementArray\n",
    "})"
   ]
  },
  {
   "cell_type": "code",
   "execution_count": 70,
   "id": "c4c63c1b",
   "metadata": {},
   "outputs": [
    {
     "data": {
      "text/html": [
       "<div>\n",
       "<style scoped>\n",
       "    .dataframe tbody tr th:only-of-type {\n",
       "        vertical-align: middle;\n",
       "    }\n",
       "\n",
       "    .dataframe tbody tr th {\n",
       "        vertical-align: top;\n",
       "    }\n",
       "\n",
       "    .dataframe thead th {\n",
       "        text-align: right;\n",
       "    }\n",
       "</style>\n",
       "<table border=\"1\" class=\"dataframe\">\n",
       "  <thead>\n",
       "    <tr style=\"text-align: right;\">\n",
       "      <th></th>\n",
       "      <th>Player</th>\n",
       "      <th>Seed</th>\n",
       "      <th>Placement</th>\n",
       "    </tr>\n",
       "  </thead>\n",
       "  <tbody>\n",
       "    <tr>\n",
       "      <th>0</th>\n",
       "      <td>FR | Maxou0708</td>\n",
       "      <td>20</td>\n",
       "      <td>1</td>\n",
       "    </tr>\n",
       "    <tr>\n",
       "      <th>1</th>\n",
       "      <td>Rapha_MTH</td>\n",
       "      <td>6</td>\n",
       "      <td>2</td>\n",
       "    </tr>\n",
       "    <tr>\n",
       "      <th>2</th>\n",
       "      <td>Sabaca</td>\n",
       "      <td>8</td>\n",
       "      <td>3</td>\n",
       "    </tr>\n",
       "    <tr>\n",
       "      <th>3</th>\n",
       "      <td>TCM | Raffa</td>\n",
       "      <td>21</td>\n",
       "      <td>4</td>\n",
       "    </tr>\n",
       "    <tr>\n",
       "      <th>4</th>\n",
       "      <td>FrankTank</td>\n",
       "      <td>19</td>\n",
       "      <td>5</td>\n",
       "    </tr>\n",
       "  </tbody>\n",
       "</table>\n",
       "</div>"
      ],
      "text/plain": [
       "           Player  Seed  Placement\n",
       "0  FR | Maxou0708    20          1\n",
       "1       Rapha_MTH     6          2\n",
       "2          Sabaca     8          3\n",
       "3     TCM | Raffa    21          4\n",
       "4       FrankTank    19          5"
      ]
     },
     "execution_count": 70,
     "metadata": {},
     "output_type": "execute_result"
    }
   ],
   "source": [
    "playerdf.head()"
   ]
  },
  {
   "cell_type": "markdown",
   "id": "27a653ec",
   "metadata": {},
   "source": [
    "All players, their placements, and seeding, gathered. <br>To note for later: players can sign up with \"tags\". Denoted with a |. But | can be present in a tag"
   ]
  },
  {
   "cell_type": "markdown",
   "id": "61446e3a",
   "metadata": {},
   "source": [
    "### 3.2.2 - Challonge.com"
   ]
  },
  {
   "cell_type": "markdown",
   "id": "3a8ea86b",
   "metadata": {},
   "source": [
    "# References"
   ]
  },
  {
   "cell_type": "markdown",
   "id": "ba7fc277",
   "metadata": {},
   "source": [
    "- https://armswiki.org/wiki/EU_ARMS_Challenge\n",
    "- https://developer.start.gg/docs/examples/queries/get-event"
   ]
  },
  {
   "cell_type": "code",
   "execution_count": 1,
   "id": "0478a280",
   "metadata": {},
   "outputs": [],
   "source": [
    "x=\"\"\"query getEventId($slug: String) {\n",
    "  tournament(slug: $slug) {\n",
    "    name\n",
    "    id\n",
    "    events {\n",
    "      name\n",
    "      id\n",
    "      startAt\n",
    "      entrants {\n",
    "        nodes {\n",
    "          name\n",
    "          seeds{\n",
    "            seedNum\n",
    "          }\n",
    "        }\n",
    "      }\n",
    "    }\n",
    "  }\n",
    "}\"\"\""
   ]
  },
  {
   "cell_type": "code",
   "execution_count": 2,
   "id": "8357188a",
   "metadata": {},
   "outputs": [],
   "source": [
    "y=\"\"\"query EventStandings($eventId: ID!, $page: Int!) {\n",
    "  event(id: $eventId) {\n",
    "    id\n",
    "    name\n",
    "    startAt\n",
    "    standings(query: {\n",
    "      page: $page\n",
    "    }){\n",
    "      nodes {\n",
    "        placement\n",
    "        entrant {\n",
    "          name\n",
    "          seeds{\n",
    "            seedNum\n",
    "          }\n",
    "        }\n",
    "      }\n",
    "    }\n",
    "  }\n",
    "}\"\"\""
   ]
  },
  {
   "cell_type": "code",
   "execution_count": 3,
   "id": "7a8bd913",
   "metadata": {},
   "outputs": [],
   "source": [
    "z=\"\"\"{\n",
    "  \"slug\": \"tournament/eu-arms-challenge-1\",\n",
    "  \"eventId\": 53835,\n",
    "  \"page\": 1,\n",
    "  \"perPage\": 30\n",
    "}\"\"\""
   ]
  },
  {
   "cell_type": "code",
   "execution_count": 4,
   "id": "2af8f30e",
   "metadata": {},
   "outputs": [],
   "source": [
    "a=\"\"\"query set($setId: ID!) {\n",
    "  set(id: $setId) {\n",
    "    id\n",
    "    slots {\n",
    "      id\n",
    "      standing {\n",
    "        id\n",
    "        placement\n",
    "        stats {\n",
    "          score {\n",
    "            label\n",
    "            value\n",
    "          }\n",
    "        }\n",
    "      }\n",
    "    }\n",
    "  }\n",
    "}\"\"\""
   ]
  },
  {
   "cell_type": "code",
   "execution_count": null,
   "id": "129dcf07",
   "metadata": {},
   "outputs": [],
   "source": []
  }
 ],
 "metadata": {
  "kernelspec": {
   "display_name": "Python 3 (ipykernel)",
   "language": "python",
   "name": "python3"
  },
  "language_info": {
   "codemirror_mode": {
    "name": "ipython",
    "version": 3
   },
   "file_extension": ".py",
   "mimetype": "text/x-python",
   "name": "python",
   "nbconvert_exporter": "python",
   "pygments_lexer": "ipython3",
   "version": "3.9.12"
  }
 },
 "nbformat": 4,
 "nbformat_minor": 5
}
