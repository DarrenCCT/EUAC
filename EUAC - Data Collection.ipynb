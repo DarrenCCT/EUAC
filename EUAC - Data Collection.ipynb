{
 "cells": [
  {
   "cell_type": "markdown",
   "id": "3d94e721",
   "metadata": {},
   "source": [
    "# 1. Libraries"
   ]
  },
  {
   "cell_type": "code",
   "execution_count": 6,
   "id": "1cde4263",
   "metadata": {},
   "outputs": [],
   "source": [
    "# Import Libraries\n",
    "import requests\n",
    "import pandas as pd\n",
    "import os\n",
    "from dotenv import load_dotenv"
   ]
  },
  {
   "cell_type": "markdown",
   "id": "0befb275",
   "metadata": {},
   "source": [
    "# 2. Introduction"
   ]
  },
  {
   "cell_type": "markdown",
   "id": "48e2137d",
   "metadata": {},
   "source": [
    "The purpose of this notebook is to gather data on the European ARMS Challenge (EUAC) tournament series. <br>\n",
    "The EUAC is an online biweekly tournament series for the video game \"ARMS\" released for the Nintendo Switch console in 2017. <br>\n",
    "The EUAC started in 2017 and ran consistently until 2022.<br>\n",
    "<br>\n",
    "More information can be found in references below."
   ]
  },
  {
   "cell_type": "markdown",
   "id": "4b61ba1c",
   "metadata": {},
   "source": [
    "This notebook is to purely gather the data, act as a proof of concept, and format it for future use/analysis. <br>\n",
    "It will then be exported to a csv file if successful. <br>"
   ]
  },
  {
   "cell_type": "markdown",
   "id": "4caa3c5d",
   "metadata": {},
   "source": [
    "# 3. Objectives"
   ]
  },
  {
   "cell_type": "markdown",
   "id": "6d7a4eb3",
   "metadata": {},
   "source": [
    "- Determine what data that is necessary\n",
    "- Gather EUAC#1 data from start.gg using their api\n",
    "- Gather EUAC#2 to EUAC#110 data from Challonge.com using their api\n",
    "- Format the data into a pandas dataframe\n",
    "- Export to csv"
   ]
  },
  {
   "cell_type": "markdown",
   "id": "05e72761",
   "metadata": {},
   "source": [
    "## 3.1. Objective 1"
   ]
  },
  {
   "cell_type": "markdown",
   "id": "69cf9421",
   "metadata": {},
   "source": [
    "### Determine what data is necessary"
   ]
  },
  {
   "cell_type": "markdown",
   "id": "8221b681",
   "metadata": {},
   "source": [
    "For each tournament, we will need: <br>\n",
    "- The participants who entered\n",
    "- Each match that was played\n",
    "- The result of each match\n",
    "- The date the tournament took place\n",
    "- The final placements\n",
    "- Each player's seeding"
   ]
  },
  {
   "cell_type": "markdown",
   "id": "20ce5f32",
   "metadata": {},
   "source": [
    "## 3.2. Objective 2 - Data Gathering"
   ]
  },
  {
   "cell_type": "markdown",
   "id": "79797f89",
   "metadata": {},
   "source": [
    "The tournaments were mostly hosted on Challonge.com but the first one was hosted on start.gg. <br>"
   ]
  },
  {
   "cell_type": "markdown",
   "id": "c76fb9ad",
   "metadata": {},
   "source": [
    "### 3.2.1. - Start.gg"
   ]
  },
  {
   "cell_type": "code",
   "execution_count": 8,
   "id": "6cf1f447",
   "metadata": {},
   "outputs": [],
   "source": [
    "query = \"\"\"\n",
    "query TournamentQuery {\n",
    "  tournament(slug: \"tournament/eu-arms-challenge-1\") {\n",
    "    name\n",
    "    events {\n",
    "      name\n",
    "      entrants {\n",
    "        nodes {\n",
    "          name\n",
    "        }\n",
    "      }\n",
    "    }\n",
    "  }\n",
    "}\n",
    "\"\"\""
   ]
  },
  {
   "cell_type": "code",
   "execution_count": 7,
   "id": "3d271ceb",
   "metadata": {},
   "outputs": [],
   "source": [
    "load_dotenv(\".env\")\n",
    "START_GG_API_TOKEN = os.getenv(\"START_GG_API_TOKEN\")"
   ]
  },
  {
   "cell_type": "code",
   "execution_count": 9,
   "id": "96a770b8",
   "metadata": {},
   "outputs": [],
   "source": [
    "url = \"https://api.start.gg/gql/alpha\"\n",
    "headers = {\n",
    "    \"Authorization\": \"Bearer START_GG_API_TOKEN\",\n",
    "    \"Content-Type\": \"application/json\"\n",
    "}\n",
    "response = requests.post(url, json={'query': query}, headers=headers)\n",
    "data = response.json()"
   ]
  },
  {
   "cell_type": "code",
   "execution_count": 10,
   "id": "dbaf4021",
   "metadata": {},
   "outputs": [
    {
     "data": {
      "text/plain": [
       "{'success': False,\n",
       " 'fields': None,\n",
       " 'message': 'Invalid authentication token',\n",
       " 'errorId': '90a226'}"
      ]
     },
     "execution_count": 10,
     "metadata": {},
     "output_type": "execute_result"
    }
   ],
   "source": [
    "data"
   ]
  },
  {
   "cell_type": "markdown",
   "id": "61446e3a",
   "metadata": {},
   "source": [
    "### 3.2.2 - Challonge.com"
   ]
  },
  {
   "cell_type": "markdown",
   "id": "3a8ea86b",
   "metadata": {},
   "source": [
    "# References"
   ]
  },
  {
   "cell_type": "markdown",
   "id": "ba7fc277",
   "metadata": {},
   "source": [
    "https://armswiki.org/wiki/EU_ARMS_Challenge"
   ]
  },
  {
   "cell_type": "code",
   "execution_count": null,
   "id": "3d1554c8",
   "metadata": {},
   "outputs": [],
   "source": []
  }
 ],
 "metadata": {
  "kernelspec": {
   "display_name": "Python 3 (ipykernel)",
   "language": "python",
   "name": "python3"
  },
  "language_info": {
   "codemirror_mode": {
    "name": "ipython",
    "version": 3
   },
   "file_extension": ".py",
   "mimetype": "text/x-python",
   "name": "python",
   "nbconvert_exporter": "python",
   "pygments_lexer": "ipython3",
   "version": "3.9.12"
  }
 },
 "nbformat": 4,
 "nbformat_minor": 5
}
