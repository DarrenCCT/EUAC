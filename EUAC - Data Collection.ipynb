{
 "cells": [
  {
   "cell_type": "markdown",
   "id": "3e29288c",
   "metadata": {},
   "source": [
    "# Introduction"
   ]
  },
  {
   "cell_type": "markdown",
   "id": "e9613603",
   "metadata": {},
   "source": [
    "The purpose of this notebook is to gather data on the European ARMS Challenge (EUAC) tournament series. <br>\n",
    "The EUAC is an online biweekly tournament series for the video game \"ARMS\" released for the Nintendo Switch console in 2017. <br>\n",
    "The EUAC started in 2017 and ran consistently until 2022.<br>\n",
    "<br>\n",
    "More information can be found in references below."
   ]
  },
  {
   "cell_type": "markdown",
   "id": "240f912b",
   "metadata": {},
   "source": [
    "This notebook is to purely gather the data, act as a proof of concept, and format it for future use/analysis. <br>\n",
    "It will then be exported to a csv file if successful. <br>"
   ]
  },
  {
   "cell_type": "markdown",
   "id": "edd612bc",
   "metadata": {},
   "source": [
    "# Objectives"
   ]
  },
  {
   "cell_type": "markdown",
   "id": "7cc1b79f",
   "metadata": {},
   "source": [
    "- Determine what data that is necessary\n",
    "- Gather EUAC#1 data from start.gg using their api\n",
    "- Gather EUAC#2 to EUAC#110 data from Challonge.com using their api\n",
    "- Format the data into a pandas dataframe\n",
    "- Export to csv"
   ]
  },
  {
   "cell_type": "markdown",
   "id": "b5d2972f",
   "metadata": {},
   "source": [
    "## Objective 1"
   ]
  },
  {
   "cell_type": "markdown",
   "id": "cff72dfe",
   "metadata": {},
   "source": [
    "### Determine what data is necessary"
   ]
  },
  {
   "cell_type": "markdown",
   "id": "6c3c20b8",
   "metadata": {},
   "source": [
    "For each tournament, we will need: <br>\n",
    "- The participants who entered\n",
    "- Each match that was played\n",
    "- The result of each match\n",
    "- The date the tournament took place\n",
    "- The final placements\n",
    "- Each player's seeding"
   ]
  },
  {
   "cell_type": "markdown",
   "id": "0488c7bd",
   "metadata": {},
   "source": [
    "## Objective 2 - Data Gathering"
   ]
  },
  {
   "cell_type": "markdown",
   "id": "f94294e9",
   "metadata": {},
   "source": [
    "The tournaments were mostly hosted on Challonge.com but the first one was hosted on start.gg. <br>"
   ]
  },
  {
   "cell_type": "markdown",
   "id": "aedbffa0",
   "metadata": {},
   "source": [
    "### 2.1 - Start.gg"
   ]
  },
  {
   "cell_type": "markdown",
   "id": "701f2871",
   "metadata": {},
   "source": [
    "### 2.2 - Challonge.com"
   ]
  },
  {
   "cell_type": "markdown",
   "id": "cb19f827",
   "metadata": {},
   "source": [
    "# References"
   ]
  },
  {
   "cell_type": "markdown",
   "id": "916d10ba",
   "metadata": {},
   "source": [
    "https://armswiki.org/wiki/EU_ARMS_Challenge"
   ]
  },
  {
   "cell_type": "code",
   "execution_count": null,
   "id": "4d61101b",
   "metadata": {},
   "outputs": [],
   "source": []
  }
 ],
 "metadata": {
  "kernelspec": {
   "display_name": "Python 3 (ipykernel)",
   "language": "python",
   "name": "python3"
  },
  "language_info": {
   "codemirror_mode": {
    "name": "ipython",
    "version": 3
   },
   "file_extension": ".py",
   "mimetype": "text/x-python",
   "name": "python",
   "nbconvert_exporter": "python",
   "pygments_lexer": "ipython3",
   "version": "3.9.12"
  }
 },
 "nbformat": 4,
 "nbformat_minor": 5
}
