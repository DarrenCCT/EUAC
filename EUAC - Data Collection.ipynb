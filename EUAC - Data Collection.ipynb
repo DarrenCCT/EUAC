{
 "cells": [
  {
   "cell_type": "markdown",
   "id": "3d94e721",
   "metadata": {},
   "source": [
    "# 1. Libraries"
   ]
  },
  {
   "cell_type": "code",
   "execution_count": 23,
   "id": "1cde4263",
   "metadata": {},
   "outputs": [],
   "source": [
    "# Import Libraries\n",
    "import requests\n",
    "import pandas as pd\n",
    "import os\n",
    "from dotenv import load_dotenv"
   ]
  },
  {
   "cell_type": "markdown",
   "id": "0befb275",
   "metadata": {},
   "source": [
    "# 2. Introduction"
   ]
  },
  {
   "cell_type": "markdown",
   "id": "48e2137d",
   "metadata": {},
   "source": [
    "The purpose of this notebook is to gather data on the European ARMS Challenge (EUAC) tournament series. <br>\n",
    "The EUAC is an online biweekly tournament series for the video game \"ARMS\" released for the Nintendo Switch console in 2017. <br>\n",
    "The EUAC started in 2017 and ran consistently until 2022.<br>\n",
    "<br>\n",
    "More information can be found in references below."
   ]
  },
  {
   "cell_type": "markdown",
   "id": "4b61ba1c",
   "metadata": {},
   "source": [
    "This notebook is to purely gather the data, act as a proof of concept, and format it for future use/analysis. <br>\n",
    "It will then be exported to a csv file if successful. <br>"
   ]
  },
  {
   "cell_type": "markdown",
   "id": "4caa3c5d",
   "metadata": {},
   "source": [
    "# 3. Objectives"
   ]
  },
  {
   "cell_type": "markdown",
   "id": "6d7a4eb3",
   "metadata": {},
   "source": [
    "- Determine what data that is necessary\n",
    "- Gather EUAC#1 data from start.gg using their api\n",
    "- Gather EUAC#2 to EUAC#110 data from Challonge.com using their api\n",
    "- Format the data into a pandas dataframe\n",
    "- Export to csv"
   ]
  },
  {
   "cell_type": "markdown",
   "id": "05e72761",
   "metadata": {},
   "source": [
    "## 3.1. Objective 1"
   ]
  },
  {
   "cell_type": "markdown",
   "id": "69cf9421",
   "metadata": {},
   "source": [
    "### Determine what data is necessary"
   ]
  },
  {
   "cell_type": "markdown",
   "id": "8221b681",
   "metadata": {},
   "source": [
    "For each tournament, we will need: <br>\n",
    "- The participants who entered\n",
    "- Each match that was played\n",
    "- The result of each match\n",
    "- The date the tournament took place\n",
    "- The final placements\n",
    "- Each player's seeding"
   ]
  },
  {
   "cell_type": "markdown",
   "id": "20ce5f32",
   "metadata": {},
   "source": [
    "## 3.2. Objective 2 - Data Gathering"
   ]
  },
  {
   "cell_type": "markdown",
   "id": "79797f89",
   "metadata": {},
   "source": [
    "The tournaments were mostly hosted on Challonge.com but the first one was hosted on start.gg. <br>"
   ]
  },
  {
   "cell_type": "markdown",
   "id": "c76fb9ad",
   "metadata": {},
   "source": [
    "### 3.2.1. - Start.gg"
   ]
  },
  {
   "cell_type": "markdown",
   "id": "10d58db2",
   "metadata": {},
   "source": [
    "Start.gg's API uses GraphQL as its query language <br>\n",
    "The GraphQL queries will be wrapped in multiline strings so they can be sent to the start.gg API to retrieve the data. <br>\n",
    "Queries also expect an API token to passed through the header. This token will be loaded from a .env file.<br>\n",
    "<br>\n",
    "A link to the tutorial that was followed to come up with the queries can be found in References."
   ]
  },
  {
   "cell_type": "code",
   "execution_count": 24,
   "id": "3d271ceb",
   "metadata": {},
   "outputs": [],
   "source": [
    "# Load API Keys stored in .env file\n",
    "load_dotenv(\".env\")\n",
    "START_GG_API_TOKEN = os.getenv(\"START_GG_API_TOKEN\")"
   ]
  },
  {
   "cell_type": "markdown",
   "id": "e5950409",
   "metadata": {},
   "source": [
    "The tournament was hosted at this url: https://www.start.gg/tournament/eu-arms-challenge-1/events <br>\n",
    "For some of the information that is needed, the id of the event is required. Which is obtained here using the url slug"
   ]
  },
  {
   "cell_type": "code",
   "execution_count": 25,
   "id": "6cf1f447",
   "metadata": {},
   "outputs": [],
   "source": [
    "# GraphQL query wrapped in a multiline string. \n",
    "query = \"\"\"\n",
    "query TournamentQuery {\n",
    "  tournament(slug: \"tournament/eu-arms-challenge-1\") {\n",
    "    name\n",
    "    events {\n",
    "      name\n",
    "      id\n",
    "    }\n",
    "  }\n",
    "}\n",
    "\"\"\""
   ]
  },
  {
   "cell_type": "code",
   "execution_count": 26,
   "id": "f22a6876",
   "metadata": {},
   "outputs": [],
   "source": [
    "# Sends the query and returns the response. Will be using this a lot\n",
    "def run_query(query):\n",
    "    url = \"https://api.start.gg/gql/alpha\"\n",
    "    headers = {\n",
    "        \"Authorization\": f\"Bearer {START_GG_API_TOKEN}\",\n",
    "        \"Content-Type\": \"application/json\"\n",
    "    }\n",
    "    response = requests.post(url, json={'query': query}, headers=headers)\n",
    "    return response.json()"
   ]
  },
  {
   "cell_type": "code",
   "execution_count": 27,
   "id": "cf7b9661",
   "metadata": {},
   "outputs": [],
   "source": [
    "data = run_query(query)"
   ]
  },
  {
   "cell_type": "code",
   "execution_count": 28,
   "id": "dbaf4021",
   "metadata": {
    "scrolled": true
   },
   "outputs": [
    {
     "data": {
      "text/plain": [
       "{'data': {'tournament': {'name': 'EU ARMS Challenge #1',\n",
       "   'events': [{'name': 'EU ARMS Challenge #1', 'id': 53835}]}},\n",
       " 'extensions': {'cacheControl': {'version': 1,\n",
       "   'hints': [{'path': ['tournament'], 'maxAge': 300, 'scope': 'PRIVATE'}]},\n",
       "  'queryComplexity': 2},\n",
       " 'actionRecords': []}"
      ]
     },
     "execution_count": 28,
     "metadata": {},
     "output_type": "execute_result"
    }
   ],
   "source": [
    "data"
   ]
  },
  {
   "cell_type": "code",
   "execution_count": 29,
   "id": "05536111",
   "metadata": {},
   "outputs": [],
   "source": [
    "eventId = data[\"data\"][\"tournament\"][\"events\"][0][\"id\"]"
   ]
  },
  {
   "cell_type": "code",
   "execution_count": 30,
   "id": "fb67179c",
   "metadata": {
    "scrolled": true
   },
   "outputs": [
    {
     "data": {
      "text/plain": [
       "53835"
      ]
     },
     "execution_count": 30,
     "metadata": {},
     "output_type": "execute_result"
    }
   ],
   "source": [
    "eventId"
   ]
  },
  {
   "cell_type": "markdown",
   "id": "97e6df68",
   "metadata": {},
   "source": [
    "The id of the event is 53835"
   ]
  },
  {
   "cell_type": "markdown",
   "id": "63181d44",
   "metadata": {},
   "source": [
    "Using the event id, a query can be written to get the players, their seedings and placements, and the start date of the tournament <br>\n",
    "Some of this information could have been gotten before but not all"
   ]
  },
  {
   "cell_type": "code",
   "execution_count": 31,
   "id": "65b8ff22",
   "metadata": {},
   "outputs": [],
   "source": [
    "# Query for players, seedings, placements\n",
    "\n",
    "query = \"\"\"\n",
    "query {\n",
    "  event(id: 53835) {\n",
    "    id\n",
    "    name\n",
    "    startAt\n",
    "    standings(query: {\n",
    "      page: 1\n",
    "    }) {\n",
    "      nodes {\n",
    "        placement\n",
    "        entrant {\n",
    "          id\n",
    "          name\n",
    "          seeds {\n",
    "            seedNum\n",
    "          }\n",
    "        }\n",
    "      }\n",
    "    }\n",
    "  }\n",
    "}\n",
    "\"\"\""
   ]
  },
  {
   "cell_type": "code",
   "execution_count": 32,
   "id": "8d36cad4",
   "metadata": {},
   "outputs": [],
   "source": [
    "data = run_query(query)"
   ]
  },
  {
   "cell_type": "code",
   "execution_count": 33,
   "id": "4836b1c8",
   "metadata": {},
   "outputs": [
    {
     "data": {
      "text/plain": [
       "{'data': {'event': {'id': 53835,\n",
       "   'name': 'EU ARMS Challenge #1',\n",
       "   'startAt': 1508605200,\n",
       "   'standings': {'nodes': [{'placement': 1,\n",
       "      'entrant': {'id': 1152276,\n",
       "       'name': 'FR | Maxou0708',\n",
       "       'seeds': [{'seedNum': 20}]}},\n",
       "     {'placement': 2,\n",
       "      'entrant': {'id': 1118825,\n",
       "       'name': 'Rapha_MTH',\n",
       "       'seeds': [{'seedNum': 6}]}},\n",
       "     {'placement': 3,\n",
       "      'entrant': {'id': 1133810, 'name': 'Sabaca', 'seeds': [{'seedNum': 8}]}},\n",
       "     {'placement': 4,\n",
       "      'entrant': {'id': 1152521,\n",
       "       'name': 'TCM | Raffa',\n",
       "       'seeds': [{'seedNum': 21}]}},\n",
       "     {'placement': 5,\n",
       "      'entrant': {'id': 1152258,\n",
       "       'name': 'FrankTank',\n",
       "       'seeds': [{'seedNum': 19}]}},\n",
       "     {'placement': 5,\n",
       "      'entrant': {'id': 1114568, 'name': 'ocrim', 'seeds': [{'seedNum': 2}]}},\n",
       "     {'placement': 7,\n",
       "      'entrant': {'id': 1139232,\n",
       "       'name': 'Alumento',\n",
       "       'seeds': [{'seedNum': 11}]}},\n",
       "     {'placement': 7,\n",
       "      'entrant': {'id': 1133727,\n",
       "       'name': 'SC☆Momso',\n",
       "       'seeds': [{'seedNum': 7}]}},\n",
       "     {'placement': 9,\n",
       "      'entrant': {'id': 1114889,\n",
       "       'name': 'VilleViljar',\n",
       "       'seeds': [{'seedNum': 4}]}},\n",
       "     {'placement': 9,\n",
       "      'entrant': {'id': 1152242,\n",
       "       'name': 'TCM | BD82',\n",
       "       'seeds': [{'seedNum': 17}]}},\n",
       "     {'placement': 9,\n",
       "      'entrant': {'id': 1144825,\n",
       "       'name': 'FR|TCM | InkAlyut',\n",
       "       'seeds': [{'seedNum': 13}]}},\n",
       "     {'placement': 9,\n",
       "      'entrant': {'id': 1114480,\n",
       "       'name': 'Linkirto',\n",
       "       'seeds': [{'seedNum': 1}]}},\n",
       "     {'placement': 13,\n",
       "      'entrant': {'id': 1114611,\n",
       "       'name': 'Orthuss',\n",
       "       'seeds': [{'seedNum': 3}]}},\n",
       "     {'placement': 13,\n",
       "      'entrant': {'id': 1152122,\n",
       "       'name': 'Kotorious BRD',\n",
       "       'seeds': [{'seedNum': 15}]}},\n",
       "     {'placement': 13,\n",
       "      'entrant': {'id': 1146459,\n",
       "       'name': 'BambooBoss',\n",
       "       'seeds': [{'seedNum': 14}]}},\n",
       "     {'placement': 13,\n",
       "      'entrant': {'id': 1118319, 'name': 'Raayo', 'seeds': [{'seedNum': 5}]}},\n",
       "     {'placement': 17,\n",
       "      'entrant': {'id': 1152168,\n",
       "       'name': 'Octey | Octey',\n",
       "       'seeds': [{'seedNum': 16}]}},\n",
       "     {'placement': 17,\n",
       "      'entrant': {'id': 1143104,\n",
       "       'name': 'RD | | Dushni',\n",
       "       'seeds': [{'seedNum': 12}]}},\n",
       "     {'placement': 17,\n",
       "      'entrant': {'id': 1152245,\n",
       "       'name': 'Altair',\n",
       "       'seeds': [{'seedNum': 18}]}},\n",
       "     {'placement': 17,\n",
       "      'entrant': {'id': 1152545, 'name': 'Owdy', 'seeds': [{'seedNum': 22}]}},\n",
       "     {'placement': 17,\n",
       "      'entrant': {'id': 1136190,\n",
       "       'name': 'Gleeface',\n",
       "       'seeds': [{'seedNum': 9}]}},\n",
       "     {'placement': 17,\n",
       "      'entrant': {'id': 1137935,\n",
       "       'name': 'Beannie',\n",
       "       'seeds': [{'seedNum': 10}]}}]}}},\n",
       " 'extensions': {'cacheControl': {'version': 1,\n",
       "   'hints': [{'path': ['event'], 'maxAge': 60, 'scope': 'PRIVATE'}]},\n",
       "  'queryComplexity': 68},\n",
       " 'actionRecords': []}"
      ]
     },
     "execution_count": 33,
     "metadata": {},
     "output_type": "execute_result"
    }
   ],
   "source": [
    "data"
   ]
  },
  {
   "cell_type": "markdown",
   "id": "1ddee557",
   "metadata": {},
   "source": [
    "Data is a nested dictionary. Now we'll gather a list of participants, their placements and seeds, by digging through this"
   ]
  },
  {
   "cell_type": "code",
   "execution_count": 34,
   "id": "e26e7134",
   "metadata": {},
   "outputs": [
    {
     "data": {
      "text/plain": [
       "'EU ARMS Challenge #1'"
      ]
     },
     "execution_count": 34,
     "metadata": {},
     "output_type": "execute_result"
    }
   ],
   "source": [
    "data[\"data\"][\"event\"][\"name\"]"
   ]
  },
  {
   "cell_type": "code",
   "execution_count": 35,
   "id": "9146b301",
   "metadata": {
    "scrolled": true
   },
   "outputs": [
    {
     "data": {
      "text/plain": [
       "1508605200"
      ]
     },
     "execution_count": 35,
     "metadata": {},
     "output_type": "execute_result"
    }
   ],
   "source": [
    "data[\"data\"][\"event\"][\"startAt\"]"
   ]
  },
  {
   "cell_type": "code",
   "execution_count": 36,
   "id": "70a2ba6c",
   "metadata": {},
   "outputs": [],
   "source": [
    "tournamentDate = data[\"data\"][\"event\"][\"startAt\"]"
   ]
  },
  {
   "cell_type": "markdown",
   "id": "93b62c86",
   "metadata": {},
   "source": [
    "UNIX time for when tournament took place"
   ]
  },
  {
   "cell_type": "code",
   "execution_count": 37,
   "id": "a9e15442",
   "metadata": {
    "scrolled": true
   },
   "outputs": [
    {
     "data": {
      "text/plain": [
       "{'nodes': [{'placement': 1,\n",
       "   'entrant': {'id': 1152276,\n",
       "    'name': 'FR | Maxou0708',\n",
       "    'seeds': [{'seedNum': 20}]}},\n",
       "  {'placement': 2,\n",
       "   'entrant': {'id': 1118825, 'name': 'Rapha_MTH', 'seeds': [{'seedNum': 6}]}},\n",
       "  {'placement': 3,\n",
       "   'entrant': {'id': 1133810, 'name': 'Sabaca', 'seeds': [{'seedNum': 8}]}},\n",
       "  {'placement': 4,\n",
       "   'entrant': {'id': 1152521,\n",
       "    'name': 'TCM | Raffa',\n",
       "    'seeds': [{'seedNum': 21}]}},\n",
       "  {'placement': 5,\n",
       "   'entrant': {'id': 1152258,\n",
       "    'name': 'FrankTank',\n",
       "    'seeds': [{'seedNum': 19}]}},\n",
       "  {'placement': 5,\n",
       "   'entrant': {'id': 1114568, 'name': 'ocrim', 'seeds': [{'seedNum': 2}]}},\n",
       "  {'placement': 7,\n",
       "   'entrant': {'id': 1139232, 'name': 'Alumento', 'seeds': [{'seedNum': 11}]}},\n",
       "  {'placement': 7,\n",
       "   'entrant': {'id': 1133727, 'name': 'SC☆Momso', 'seeds': [{'seedNum': 7}]}},\n",
       "  {'placement': 9,\n",
       "   'entrant': {'id': 1114889,\n",
       "    'name': 'VilleViljar',\n",
       "    'seeds': [{'seedNum': 4}]}},\n",
       "  {'placement': 9,\n",
       "   'entrant': {'id': 1152242,\n",
       "    'name': 'TCM | BD82',\n",
       "    'seeds': [{'seedNum': 17}]}},\n",
       "  {'placement': 9,\n",
       "   'entrant': {'id': 1144825,\n",
       "    'name': 'FR|TCM | InkAlyut',\n",
       "    'seeds': [{'seedNum': 13}]}},\n",
       "  {'placement': 9,\n",
       "   'entrant': {'id': 1114480, 'name': 'Linkirto', 'seeds': [{'seedNum': 1}]}},\n",
       "  {'placement': 13,\n",
       "   'entrant': {'id': 1114611, 'name': 'Orthuss', 'seeds': [{'seedNum': 3}]}},\n",
       "  {'placement': 13,\n",
       "   'entrant': {'id': 1152122,\n",
       "    'name': 'Kotorious BRD',\n",
       "    'seeds': [{'seedNum': 15}]}},\n",
       "  {'placement': 13,\n",
       "   'entrant': {'id': 1146459,\n",
       "    'name': 'BambooBoss',\n",
       "    'seeds': [{'seedNum': 14}]}},\n",
       "  {'placement': 13,\n",
       "   'entrant': {'id': 1118319, 'name': 'Raayo', 'seeds': [{'seedNum': 5}]}},\n",
       "  {'placement': 17,\n",
       "   'entrant': {'id': 1152168,\n",
       "    'name': 'Octey | Octey',\n",
       "    'seeds': [{'seedNum': 16}]}},\n",
       "  {'placement': 17,\n",
       "   'entrant': {'id': 1143104,\n",
       "    'name': 'RD | | Dushni',\n",
       "    'seeds': [{'seedNum': 12}]}},\n",
       "  {'placement': 17,\n",
       "   'entrant': {'id': 1152245, 'name': 'Altair', 'seeds': [{'seedNum': 18}]}},\n",
       "  {'placement': 17,\n",
       "   'entrant': {'id': 1152545, 'name': 'Owdy', 'seeds': [{'seedNum': 22}]}},\n",
       "  {'placement': 17,\n",
       "   'entrant': {'id': 1136190, 'name': 'Gleeface', 'seeds': [{'seedNum': 9}]}},\n",
       "  {'placement': 17,\n",
       "   'entrant': {'id': 1137935, 'name': 'Beannie', 'seeds': [{'seedNum': 10}]}}]}"
      ]
     },
     "execution_count": 37,
     "metadata": {},
     "output_type": "execute_result"
    }
   ],
   "source": [
    "data[\"data\"][\"event\"][\"standings\"]"
   ]
  },
  {
   "cell_type": "code",
   "execution_count": 38,
   "id": "4fb978e7",
   "metadata": {
    "scrolled": true
   },
   "outputs": [
    {
     "data": {
      "text/plain": [
       "{'placement': 1,\n",
       " 'entrant': {'id': 1152276,\n",
       "  'name': 'FR | Maxou0708',\n",
       "  'seeds': [{'seedNum': 20}]}}"
      ]
     },
     "execution_count": 38,
     "metadata": {},
     "output_type": "execute_result"
    }
   ],
   "source": [
    "data[\"data\"][\"event\"][\"standings\"][\"nodes\"][0] #Information for one player"
   ]
  },
  {
   "cell_type": "code",
   "execution_count": 39,
   "id": "21050829",
   "metadata": {
    "scrolled": true
   },
   "outputs": [
    {
     "data": {
      "text/plain": [
       "1"
      ]
     },
     "execution_count": 39,
     "metadata": {},
     "output_type": "execute_result"
    }
   ],
   "source": [
    "# Placement\n",
    "data[\"data\"][\"event\"][\"standings\"][\"nodes\"][0][\"placement\"]"
   ]
  },
  {
   "cell_type": "code",
   "execution_count": 40,
   "id": "6066df82",
   "metadata": {
    "scrolled": true
   },
   "outputs": [
    {
     "data": {
      "text/plain": [
       "'FR | Maxou0708'"
      ]
     },
     "execution_count": 40,
     "metadata": {},
     "output_type": "execute_result"
    }
   ],
   "source": [
    "# Name\n",
    "data[\"data\"][\"event\"][\"standings\"][\"nodes\"][0][\"entrant\"][\"name\"]"
   ]
  },
  {
   "cell_type": "code",
   "execution_count": 41,
   "id": "c2ab757c",
   "metadata": {},
   "outputs": [
    {
     "data": {
      "text/plain": [
       "1152276"
      ]
     },
     "execution_count": 41,
     "metadata": {},
     "output_type": "execute_result"
    }
   ],
   "source": [
    "# id\n",
    "data[\"data\"][\"event\"][\"standings\"][\"nodes\"][0][\"entrant\"][\"id\"]"
   ]
  },
  {
   "cell_type": "code",
   "execution_count": 42,
   "id": "2279b653",
   "metadata": {},
   "outputs": [
    {
     "data": {
      "text/plain": [
       "20"
      ]
     },
     "execution_count": 42,
     "metadata": {},
     "output_type": "execute_result"
    }
   ],
   "source": [
    "# Seeding\n",
    "data[\"data\"][\"event\"][\"standings\"][\"nodes\"][0][\"entrant\"][\"seeds\"][0][\"seedNum\"]"
   ]
  },
  {
   "cell_type": "code",
   "execution_count": 43,
   "id": "f095489c",
   "metadata": {},
   "outputs": [],
   "source": [
    "# Putting it all together in a for loop. Store information in arrays\n",
    "\n",
    "playerArray = []\n",
    "placementArray = []\n",
    "seedArray = []\n",
    "idArray = []\n",
    "\n",
    "for entrant in data[\"data\"][\"event\"][\"standings\"][\"nodes\"]:\n",
    "    playerArray.append(entrant[\"entrant\"][\"name\"])\n",
    "    idArray.append(entrant[\"entrant\"][\"id\"])\n",
    "    placementArray.append(entrant[\"placement\"])\n",
    "    seedArray.append(entrant[\"entrant\"][\"seeds\"][0][\"seedNum\"])"
   ]
  },
  {
   "cell_type": "code",
   "execution_count": 44,
   "id": "cb623613",
   "metadata": {},
   "outputs": [],
   "source": [
    "# Make a pandas dataframe of the arrays\n",
    "\n",
    "playerdf = pd.DataFrame({\n",
    "    \"Start ID\": idArray,\n",
    "    \"Player\": playerArray,\n",
    "    \"Seed\": seedArray,\n",
    "    \"Placement\": placementArray\n",
    "})"
   ]
  },
  {
   "cell_type": "code",
   "execution_count": 45,
   "id": "c4c63c1b",
   "metadata": {},
   "outputs": [
    {
     "data": {
      "text/html": [
       "<div>\n",
       "<style scoped>\n",
       "    .dataframe tbody tr th:only-of-type {\n",
       "        vertical-align: middle;\n",
       "    }\n",
       "\n",
       "    .dataframe tbody tr th {\n",
       "        vertical-align: top;\n",
       "    }\n",
       "\n",
       "    .dataframe thead th {\n",
       "        text-align: right;\n",
       "    }\n",
       "</style>\n",
       "<table border=\"1\" class=\"dataframe\">\n",
       "  <thead>\n",
       "    <tr style=\"text-align: right;\">\n",
       "      <th></th>\n",
       "      <th>Start ID</th>\n",
       "      <th>Player</th>\n",
       "      <th>Seed</th>\n",
       "      <th>Placement</th>\n",
       "    </tr>\n",
       "  </thead>\n",
       "  <tbody>\n",
       "    <tr>\n",
       "      <th>0</th>\n",
       "      <td>1152276</td>\n",
       "      <td>FR | Maxou0708</td>\n",
       "      <td>20</td>\n",
       "      <td>1</td>\n",
       "    </tr>\n",
       "    <tr>\n",
       "      <th>1</th>\n",
       "      <td>1118825</td>\n",
       "      <td>Rapha_MTH</td>\n",
       "      <td>6</td>\n",
       "      <td>2</td>\n",
       "    </tr>\n",
       "    <tr>\n",
       "      <th>2</th>\n",
       "      <td>1133810</td>\n",
       "      <td>Sabaca</td>\n",
       "      <td>8</td>\n",
       "      <td>3</td>\n",
       "    </tr>\n",
       "    <tr>\n",
       "      <th>3</th>\n",
       "      <td>1152521</td>\n",
       "      <td>TCM | Raffa</td>\n",
       "      <td>21</td>\n",
       "      <td>4</td>\n",
       "    </tr>\n",
       "    <tr>\n",
       "      <th>4</th>\n",
       "      <td>1152258</td>\n",
       "      <td>FrankTank</td>\n",
       "      <td>19</td>\n",
       "      <td>5</td>\n",
       "    </tr>\n",
       "  </tbody>\n",
       "</table>\n",
       "</div>"
      ],
      "text/plain": [
       "   Start ID          Player  Seed  Placement\n",
       "0   1152276  FR | Maxou0708    20          1\n",
       "1   1118825       Rapha_MTH     6          2\n",
       "2   1133810          Sabaca     8          3\n",
       "3   1152521     TCM | Raffa    21          4\n",
       "4   1152258       FrankTank    19          5"
      ]
     },
     "execution_count": 45,
     "metadata": {},
     "output_type": "execute_result"
    }
   ],
   "source": [
    "playerdf.head()"
   ]
  },
  {
   "cell_type": "markdown",
   "id": "27a653ec",
   "metadata": {},
   "source": [
    "All players, their Start ids, their placements and seeding, have been gathered. <br>To note for later: players can sign up with \"tags\". Denoted with a |. But | can be present in a tag"
   ]
  },
  {
   "cell_type": "markdown",
   "id": "210725d9",
   "metadata": {},
   "source": [
    "Due to the hierarchical structure of how tournaments in Start.gg can be, we need to use the event ID to get the phase ID, use the Phase Id to get the Phase Group ID, and then using the Phase Group ID we can obtain the sets in the tournaments that were played with their reported scores"
   ]
  },
  {
   "cell_type": "code",
   "execution_count": 46,
   "id": "899a73d9",
   "metadata": {},
   "outputs": [],
   "source": [
    "# Query to get Phase ID\n",
    "\n",
    "query = \"\"\"\n",
    "query {\n",
    "  event(id: 53835) {\n",
    "    id\n",
    "    name\n",
    "    phases {\n",
    "      id\n",
    "      name\n",
    "    }\n",
    "  }\n",
    "}\"\"\""
   ]
  },
  {
   "cell_type": "code",
   "execution_count": 47,
   "id": "e392843d",
   "metadata": {},
   "outputs": [],
   "source": [
    "data = run_query(query)"
   ]
  },
  {
   "cell_type": "code",
   "execution_count": 48,
   "id": "ef63eedd",
   "metadata": {
    "scrolled": true
   },
   "outputs": [
    {
     "data": {
      "text/plain": [
       "{'data': {'event': {'id': 53835,\n",
       "   'name': 'EU ARMS Challenge #1',\n",
       "   'phases': [{'id': 159661, 'name': 'Bracket'}]}},\n",
       " 'extensions': {'cacheControl': {'version': 1,\n",
       "   'hints': [{'path': ['event'], 'maxAge': 60, 'scope': 'PRIVATE'}]},\n",
       "  'queryComplexity': 2},\n",
       " 'actionRecords': []}"
      ]
     },
     "execution_count": 48,
     "metadata": {},
     "output_type": "execute_result"
    }
   ],
   "source": [
    "data"
   ]
  },
  {
   "cell_type": "code",
   "execution_count": 49,
   "id": "6dce0443",
   "metadata": {
    "scrolled": false
   },
   "outputs": [
    {
     "data": {
      "text/plain": [
       "159661"
      ]
     },
     "execution_count": 49,
     "metadata": {},
     "output_type": "execute_result"
    }
   ],
   "source": [
    "# Phase ID\n",
    "data[\"data\"][\"event\"][\"phases\"][0][\"id\"]"
   ]
  },
  {
   "cell_type": "code",
   "execution_count": 50,
   "id": "fc6fbe38",
   "metadata": {},
   "outputs": [],
   "source": [
    "# Query to get Phase Group ID\n",
    "query = \"\"\"\n",
    "query {\n",
    "  phase(id: 159661) {\n",
    "    phaseGroups {\n",
    "      nodes {\n",
    "        id\n",
    "      }\n",
    "    }\n",
    "  }\n",
    "}\"\"\""
   ]
  },
  {
   "cell_type": "code",
   "execution_count": 51,
   "id": "e9a1af48",
   "metadata": {},
   "outputs": [],
   "source": [
    "data = run_query(query)"
   ]
  },
  {
   "cell_type": "code",
   "execution_count": 52,
   "id": "df2905eb",
   "metadata": {
    "scrolled": true
   },
   "outputs": [
    {
     "data": {
      "text/plain": [
       "{'data': {'phase': {'phaseGroups': {'nodes': [{'id': 431370}]}}},\n",
       " 'extensions': {'cacheControl': {'version': 1, 'hints': None},\n",
       "  'queryComplexity': 1},\n",
       " 'actionRecords': []}"
      ]
     },
     "execution_count": 52,
     "metadata": {},
     "output_type": "execute_result"
    }
   ],
   "source": [
    "data"
   ]
  },
  {
   "cell_type": "code",
   "execution_count": 53,
   "id": "6b01523f",
   "metadata": {},
   "outputs": [
    {
     "data": {
      "text/plain": [
       "431370"
      ]
     },
     "execution_count": 53,
     "metadata": {},
     "output_type": "execute_result"
    }
   ],
   "source": [
    "# Phase Group ID\n",
    "data[\"data\"][\"phase\"][\"phaseGroups\"][\"nodes\"][0][\"id\"]"
   ]
  },
  {
   "cell_type": "code",
   "execution_count": 54,
   "id": "10050cf4",
   "metadata": {},
   "outputs": [],
   "source": [
    "# Query to get all sets\n",
    "\n",
    "query = \"\"\"\n",
    "query {\n",
    "  phaseGroup(id: 431370) {\n",
    "    sets(page: 1, perPage: 100) {\n",
    "      nodes {\n",
    "        id\n",
    "        displayScore\n",
    "        fullRoundText\n",
    "        winnerId\n",
    "        slots {\n",
    "          entrant {\n",
    "            name\n",
    "          }\n",
    "        }\n",
    "      }\n",
    "    }\n",
    "  }\n",
    "}\"\"\""
   ]
  },
  {
   "cell_type": "code",
   "execution_count": 55,
   "id": "49629bc3",
   "metadata": {},
   "outputs": [],
   "source": [
    "data = run_query(query)"
   ]
  },
  {
   "cell_type": "code",
   "execution_count": 56,
   "id": "ca6f56f2",
   "metadata": {
    "scrolled": false
   },
   "outputs": [
    {
     "data": {
      "text/plain": [
       "{'data': {'phaseGroup': {'sets': {'nodes': [{'id': 10598232,\n",
       "      'displayScore': 'Rapha_MTH 1 - FR | Maxou0708 3',\n",
       "      'fullRoundText': 'Grand Final',\n",
       "      'winnerId': 1152276,\n",
       "      'slots': [{'entrant': {'name': 'Rapha_MTH'}},\n",
       "       {'entrant': {'name': 'FR | Maxou0708'}}]},\n",
       "     {'id': 10598233,\n",
       "      'displayScore': 'FR | Maxou0708 3 - Rapha_MTH 0',\n",
       "      'fullRoundText': 'Grand Final Reset',\n",
       "      'winnerId': 1152276,\n",
       "      'slots': [{'entrant': {'name': 'FR | Maxou0708'}},\n",
       "       {'entrant': {'name': 'Rapha_MTH'}}]},\n",
       "     {'id': 10598231,\n",
       "      'displayScore': 'Sabaca 0 - Rapha_MTH 2',\n",
       "      'fullRoundText': 'Winners Final',\n",
       "      'winnerId': 1118825,\n",
       "      'slots': [{'entrant': {'name': 'Sabaca'}},\n",
       "       {'entrant': {'name': 'Rapha_MTH'}}]},\n",
       "     {'id': 10598295,\n",
       "      'displayScore': 'DQ',\n",
       "      'fullRoundText': 'Losers Final',\n",
       "      'winnerId': 1152276,\n",
       "      'slots': [{'entrant': {'name': 'Sabaca'}},\n",
       "       {'entrant': {'name': 'FR | Maxou0708'}}]},\n",
       "     {'id': 10598294,\n",
       "      'displayScore': 'FR | Maxou0708 3 - TCM | Raffa 1',\n",
       "      'fullRoundText': 'Losers Semi-Final',\n",
       "      'winnerId': 1152276,\n",
       "      'slots': [{'entrant': {'name': 'FR | Maxou0708'}},\n",
       "       {'entrant': {'name': 'TCM | Raffa'}}]},\n",
       "     {'id': 10598229,\n",
       "      'displayScore': 'DQ',\n",
       "      'fullRoundText': 'Winners Semi-Final',\n",
       "      'winnerId': 1133810,\n",
       "      'slots': [{'entrant': {'name': 'Sabaca'}},\n",
       "       {'entrant': {'name': 'TCM | Raffa'}}]},\n",
       "     {'id': 10598230,\n",
       "      'displayScore': 'ocrim 0 - Rapha_MTH 2',\n",
       "      'fullRoundText': 'Winners Semi-Final',\n",
       "      'winnerId': 1118825,\n",
       "      'slots': [{'entrant': {'name': 'ocrim'}},\n",
       "       {'entrant': {'name': 'Rapha_MTH'}}]},\n",
       "     {'id': 10598292,\n",
       "      'displayScore': 'ocrim 0 - FR | Maxou0708 2',\n",
       "      'fullRoundText': 'Losers Quarter-Final',\n",
       "      'winnerId': 1152276,\n",
       "      'slots': [{'entrant': {'name': 'ocrim'}},\n",
       "       {'entrant': {'name': 'FR | Maxou0708'}}]},\n",
       "     {'id': 10598293,\n",
       "      'displayScore': 'TCM | Raffa 2 - FrankTank 0',\n",
       "      'fullRoundText': 'Losers Quarter-Final',\n",
       "      'winnerId': 1152521,\n",
       "      'slots': [{'entrant': {'name': 'TCM | Raffa'}},\n",
       "       {'entrant': {'name': 'FrankTank'}}]},\n",
       "     {'id': 10598290,\n",
       "      'displayScore': 'Alumento 0 - FR | Maxou0708 2',\n",
       "      'fullRoundText': 'Losers Round 4',\n",
       "      'winnerId': 1152276,\n",
       "      'slots': [{'entrant': {'name': 'Alumento'}},\n",
       "       {'entrant': {'name': 'FR | Maxou0708'}}]},\n",
       "     {'id': 10598291,\n",
       "      'displayScore': 'FrankTank 2 - SC☆Momso 0',\n",
       "      'fullRoundText': 'Losers Round 4',\n",
       "      'winnerId': 1152258,\n",
       "      'slots': [{'entrant': {'name': 'FrankTank'}},\n",
       "       {'entrant': {'name': 'SC☆Momso'}}]},\n",
       "     {'id': 10598225,\n",
       "      'displayScore': 'Linkirto 0 - Sabaca 2',\n",
       "      'fullRoundText': 'Winners Quarter-Final',\n",
       "      'winnerId': 1133810,\n",
       "      'slots': [{'entrant': {'name': 'Linkirto'}},\n",
       "       {'entrant': {'name': 'Sabaca'}}]},\n",
       "     {'id': 10598226,\n",
       "      'displayScore': 'DQ',\n",
       "      'fullRoundText': 'Winners Quarter-Final',\n",
       "      'winnerId': 1152521,\n",
       "      'slots': [{'entrant': {'name': 'FR|TCM | InkAlyut'}},\n",
       "       {'entrant': {'name': 'TCM | Raffa'}}]},\n",
       "     {'id': 10598227,\n",
       "      'displayScore': 'ocrim 2 - SC☆Momso 0',\n",
       "      'fullRoundText': 'Winners Quarter-Final',\n",
       "      'winnerId': 1114568,\n",
       "      'slots': [{'entrant': {'name': 'ocrim'}},\n",
       "       {'entrant': {'name': 'SC☆Momso'}}]},\n",
       "     {'id': 10598228,\n",
       "      'displayScore': 'FrankTank 0 - Rapha_MTH 2',\n",
       "      'fullRoundText': 'Winners Quarter-Final',\n",
       "      'winnerId': 1118825,\n",
       "      'slots': [{'entrant': {'name': 'FrankTank'}},\n",
       "       {'entrant': {'name': 'Rapha_MTH'}}]},\n",
       "     {'id': 10598286,\n",
       "      'displayScore': 'DQ',\n",
       "      'fullRoundText': 'Losers Round 3',\n",
       "      'winnerId': 1139232,\n",
       "      'slots': [{'entrant': {'name': 'FR|TCM | InkAlyut'}},\n",
       "       {'entrant': {'name': 'Alumento'}}]},\n",
       "     {'id': 10598287,\n",
       "      'displayScore': 'Linkirto 1 - FR | Maxou0708 2',\n",
       "      'fullRoundText': 'Losers Round 3',\n",
       "      'winnerId': 1152276,\n",
       "      'slots': [{'entrant': {'name': 'Linkirto'}},\n",
       "       {'entrant': {'name': 'FR | Maxou0708'}}]},\n",
       "     {'id': 10598288,\n",
       "      'displayScore': 'FrankTank 2 - VilleViljar 0',\n",
       "      'fullRoundText': 'Losers Round 3',\n",
       "      'winnerId': 1152258,\n",
       "      'slots': [{'entrant': {'name': 'FrankTank'}},\n",
       "       {'entrant': {'name': 'VilleViljar'}}]},\n",
       "     {'id': 10598289,\n",
       "      'displayScore': 'SC☆Momso 2 - TCM | BD82 0',\n",
       "      'fullRoundText': 'Losers Round 3',\n",
       "      'winnerId': 1133727,\n",
       "      'slots': [{'entrant': {'name': 'SC☆Momso'}},\n",
       "       {'entrant': {'name': 'TCM | BD82'}}]},\n",
       "     {'id': 10598282,\n",
       "      'displayScore': 'Alumento 2 - Orthuss 1',\n",
       "      'fullRoundText': 'Losers Round 2',\n",
       "      'winnerId': 1139232,\n",
       "      'slots': [{'entrant': {'name': 'Alumento'}},\n",
       "       {'entrant': {'name': 'Orthuss'}}]},\n",
       "     {'id': 10598283,\n",
       "      'displayScore': 'FR | Maxou0708 2 - Kotorious BRD 0',\n",
       "      'fullRoundText': 'Losers Round 2',\n",
       "      'winnerId': 1152276,\n",
       "      'slots': [{'entrant': {'name': 'FR | Maxou0708'}},\n",
       "       {'entrant': {'name': 'Kotorious BRD'}}]},\n",
       "     {'id': 10598284,\n",
       "      'displayScore': 'Raayo 0 - VilleViljar 2',\n",
       "      'fullRoundText': 'Losers Round 2',\n",
       "      'winnerId': 1114889,\n",
       "      'slots': [{'entrant': {'name': 'Raayo'}},\n",
       "       {'entrant': {'name': 'VilleViljar'}}]},\n",
       "     {'id': 10598285,\n",
       "      'displayScore': 'BambooBoss 1 - TCM | BD82 2',\n",
       "      'fullRoundText': 'Losers Round 2',\n",
       "      'winnerId': 1152242,\n",
       "      'slots': [{'entrant': {'name': 'BambooBoss'}},\n",
       "       {'entrant': {'name': 'TCM | BD82'}}]},\n",
       "     {'id': 10598217,\n",
       "      'displayScore': 'Linkirto 2 - TCM | BD82 1',\n",
       "      'fullRoundText': 'Winners Round 2',\n",
       "      'winnerId': 1114480,\n",
       "      'slots': [{'entrant': {'name': 'Linkirto'}},\n",
       "       {'entrant': {'name': 'TCM | BD82'}}]},\n",
       "     {'id': 10598218,\n",
       "      'displayScore': 'DQ',\n",
       "      'fullRoundText': 'Winners Round 2',\n",
       "      'winnerId': 1133810,\n",
       "      'slots': [{'entrant': {'name': 'Sabaca'}},\n",
       "       {'entrant': {'name': 'Gleeface'}}]},\n",
       "     {'id': 10598219,\n",
       "      'displayScore': 'VilleViljar 0 - FR|TCM | InkAlyut 2',\n",
       "      'fullRoundText': 'Winners Round 2',\n",
       "      'winnerId': 1144825,\n",
       "      'slots': [{'entrant': {'name': 'VilleViljar'}},\n",
       "       {'entrant': {'name': 'FR|TCM | InkAlyut'}}]},\n",
       "     {'id': 10598220,\n",
       "      'displayScore': 'Raayo 0 - TCM | Raffa 2',\n",
       "      'fullRoundText': 'Winners Round 2',\n",
       "      'winnerId': 1152521,\n",
       "      'slots': [{'entrant': {'name': 'Raayo'}},\n",
       "       {'entrant': {'name': 'TCM | Raffa'}}]},\n",
       "     {'id': 10598221,\n",
       "      'displayScore': 'ocrim 2 - Kotorious BRD 0',\n",
       "      'fullRoundText': 'Winners Round 2',\n",
       "      'winnerId': 1114568,\n",
       "      'slots': [{'entrant': {'name': 'ocrim'}},\n",
       "       {'entrant': {'name': 'Kotorious BRD'}}]},\n",
       "     {'id': 10598222,\n",
       "      'displayScore': 'SC☆Momso 2 - Beannie 0',\n",
       "      'fullRoundText': 'Winners Round 2',\n",
       "      'winnerId': 1133727,\n",
       "      'slots': [{'entrant': {'name': 'SC☆Momso'}},\n",
       "       {'entrant': {'name': 'Beannie'}}]},\n",
       "     {'id': 10598223,\n",
       "      'displayScore': 'Orthuss 0 - FrankTank 2',\n",
       "      'fullRoundText': 'Winners Round 2',\n",
       "      'winnerId': 1152258,\n",
       "      'slots': [{'entrant': {'name': 'Orthuss'}},\n",
       "       {'entrant': {'name': 'FrankTank'}}]},\n",
       "     {'id': 10598224,\n",
       "      'displayScore': 'Rapha_MTH 2 - Alumento 0',\n",
       "      'fullRoundText': 'Winners Round 2',\n",
       "      'winnerId': 1118825,\n",
       "      'slots': [{'entrant': {'name': 'Rapha_MTH'}},\n",
       "       {'entrant': {'name': 'Alumento'}}]},\n",
       "     {'id': 10598278,\n",
       "      'displayScore': 'DQ',\n",
       "      'fullRoundText': 'Losers Round 1',\n",
       "      'winnerId': 1118319,\n",
       "      'slots': [{'entrant': {'name': 'Raayo'}},\n",
       "       {'entrant': {'name': 'Altair'}}]},\n",
       "     {'id': 10598280,\n",
       "      'displayScore': 'DQ',\n",
       "      'fullRoundText': 'Losers Round 1',\n",
       "      'winnerId': 1146459,\n",
       "      'slots': [{'entrant': {'name': 'Gleeface'}},\n",
       "       {'entrant': {'name': 'BambooBoss'}}]},\n",
       "     {'id': 10598281,\n",
       "      'displayScore': 'TCM | BD82 2 - Owdy 1',\n",
       "      'fullRoundText': 'Losers Round 1',\n",
       "      'winnerId': 1152242,\n",
       "      'slots': [{'entrant': {'name': 'TCM | BD82'}},\n",
       "       {'entrant': {'name': 'Owdy'}}]},\n",
       "     {'id': 10598274,\n",
       "      'displayScore': 'DQ',\n",
       "      'fullRoundText': 'Losers Round 1',\n",
       "      'winnerId': 1139232,\n",
       "      'slots': [{'entrant': {'name': 'Alumento'}},\n",
       "       {'entrant': {'name': 'Octey | Octey'}}]},\n",
       "     {'id': 10598276,\n",
       "      'displayScore': 'Beannie 0 - FR | Maxou0708 2',\n",
       "      'fullRoundText': 'Losers Round 1',\n",
       "      'winnerId': 1152276,\n",
       "      'slots': [{'entrant': {'name': 'Beannie'}},\n",
       "       {'entrant': {'name': 'FR | Maxou0708'}}]},\n",
       "     {'id': 10598277,\n",
       "      'displayScore': 'Kotorious BRD 2 - RD | | Dushni 0',\n",
       "      'fullRoundText': 'Losers Round 1',\n",
       "      'winnerId': 1152122,\n",
       "      'slots': [{'entrant': {'name': 'Kotorious BRD'}},\n",
       "       {'entrant': {'name': 'RD | | Dushni'}}]},\n",
       "     {'id': 10598202,\n",
       "      'displayScore': 'Octey | Octey 0 - TCM | BD82 2',\n",
       "      'fullRoundText': 'Winners Round 1',\n",
       "      'winnerId': 1152242,\n",
       "      'slots': [{'entrant': {'name': 'Octey | Octey'}},\n",
       "       {'entrant': {'name': 'TCM | BD82'}}]},\n",
       "     {'id': 10598206,\n",
       "      'displayScore': 'FR|TCM | InkAlyut 2 - FR | Maxou0708 1',\n",
       "      'fullRoundText': 'Winners Round 1',\n",
       "      'winnerId': 1144825,\n",
       "      'slots': [{'entrant': {'name': 'FR|TCM | InkAlyut'}},\n",
       "       {'entrant': {'name': 'FR | Maxou0708'}}]},\n",
       "     {'id': 10598208,\n",
       "      'displayScore': 'RD | | Dushni 0 - TCM | Raffa 2',\n",
       "      'fullRoundText': 'Winners Round 1',\n",
       "      'winnerId': 1152521,\n",
       "      'slots': [{'entrant': {'name': 'RD | | Dushni'}},\n",
       "       {'entrant': {'name': 'TCM | Raffa'}}]},\n",
       "     {'id': 10598210,\n",
       "      'displayScore': 'DQ',\n",
       "      'fullRoundText': 'Winners Round 1',\n",
       "      'winnerId': 1152122,\n",
       "      'slots': [{'entrant': {'name': 'Kotorious BRD'}},\n",
       "       {'entrant': {'name': 'Altair'}}]},\n",
       "     {'id': 10598214,\n",
       "      'displayScore': 'BambooBoss 0 - FrankTank 2',\n",
       "      'fullRoundText': 'Winners Round 1',\n",
       "      'winnerId': 1152258,\n",
       "      'slots': [{'entrant': {'name': 'BambooBoss'}},\n",
       "       {'entrant': {'name': 'FrankTank'}}]},\n",
       "     {'id': 10598216,\n",
       "      'displayScore': 'Alumento 2 - Owdy 0',\n",
       "      'fullRoundText': 'Winners Round 1',\n",
       "      'winnerId': 1139232,\n",
       "      'slots': [{'entrant': {'name': 'Alumento'}},\n",
       "       {'entrant': {'name': 'Owdy'}}]}]}}},\n",
       " 'extensions': {'cacheControl': {'version': 1, 'hints': None},\n",
       "  'queryComplexity': 259},\n",
       " 'actionRecords': []}"
      ]
     },
     "execution_count": 56,
     "metadata": {},
     "output_type": "execute_result"
    }
   ],
   "source": [
    "# Display all sets\n",
    "data"
   ]
  },
  {
   "cell_type": "code",
   "execution_count": 68,
   "id": "b0c9c432",
   "metadata": {
    "scrolled": false
   },
   "outputs": [
    {
     "data": {
      "text/plain": [
       "{'id': 10598232,\n",
       " 'displayScore': 'Rapha_MTH 1 - FR | Maxou0708 3',\n",
       " 'fullRoundText': 'Grand Final',\n",
       " 'winnerId': 1152276,\n",
       " 'slots': [{'entrant': {'name': 'Rapha_MTH'}},\n",
       "  {'entrant': {'name': 'FR | Maxou0708'}}]}"
      ]
     },
     "execution_count": 68,
     "metadata": {},
     "output_type": "execute_result"
    }
   ],
   "source": [
    "data[\"data\"][\"phaseGroup\"][\"sets\"][\"nodes\"][0]"
   ]
  },
  {
   "cell_type": "code",
   "execution_count": 67,
   "id": "637faf99",
   "metadata": {
    "scrolled": true
   },
   "outputs": [
    {
     "data": {
      "text/plain": [
       "{'id': 10598210,\n",
       " 'displayScore': 'DQ',\n",
       " 'fullRoundText': 'Winners Round 1',\n",
       " 'winnerId': 1152122,\n",
       " 'slots': [{'entrant': {'name': 'Kotorious BRD'}},\n",
       "  {'entrant': {'name': 'Altair'}}]}"
      ]
     },
     "execution_count": 67,
     "metadata": {},
     "output_type": "execute_result"
    }
   ],
   "source": [
    "data[\"data\"][\"phaseGroup\"][\"sets\"][\"nodes\"][-3]"
   ]
  },
  {
   "cell_type": "code",
   "execution_count": 58,
   "id": "fa154fff",
   "metadata": {
    "scrolled": false
   },
   "outputs": [
    {
     "data": {
      "text/plain": [
       "'ocrim 0 - FR | Maxou0708 2'"
      ]
     },
     "execution_count": 58,
     "metadata": {},
     "output_type": "execute_result"
    }
   ],
   "source": [
    "data[\"data\"][\"phaseGroup\"][\"sets\"][\"nodes\"][7][\"displayScore\"]"
   ]
  },
  {
   "cell_type": "markdown",
   "id": "839e7a8e",
   "metadata": {},
   "source": [
    "Player names and Scores can be gotten from \"displayScore\" but DQs will require a bit more work. <br>\n",
    "Will have to access \"slots\" to get player names, query dataframe for the winner id. Loser is the other."
   ]
  },
  {
   "cell_type": "code",
   "execution_count": 59,
   "id": "01f6c6e2",
   "metadata": {},
   "outputs": [],
   "source": [
    "import re"
   ]
  },
  {
   "cell_type": "code",
   "execution_count": 60,
   "id": "891163e5",
   "metadata": {},
   "outputs": [],
   "source": [
    "scoreSplit = data[\"data\"][\"phaseGroup\"][\"sets\"][\"nodes\"][7][\"displayScore\"].split(\" - \")"
   ]
  },
  {
   "cell_type": "code",
   "execution_count": 61,
   "id": "f9dd2148",
   "metadata": {},
   "outputs": [
    {
     "data": {
      "text/plain": [
       "['ocrim 0', 'FR | Maxou0708 2']"
      ]
     },
     "execution_count": 61,
     "metadata": {},
     "output_type": "execute_result"
    }
   ],
   "source": [
    "scoreSplit"
   ]
  },
  {
   "cell_type": "code",
   "execution_count": 62,
   "id": "6b79ffdc",
   "metadata": {},
   "outputs": [
    {
     "data": {
      "text/plain": [
       "'ocrim 0'"
      ]
     },
     "execution_count": 62,
     "metadata": {},
     "output_type": "execute_result"
    }
   ],
   "source": [
    "scoreSplit[0]"
   ]
  },
  {
   "cell_type": "code",
   "execution_count": 63,
   "id": "3744533e",
   "metadata": {},
   "outputs": [
    {
     "data": {
      "text/plain": [
       "'2'"
      ]
     },
     "execution_count": 63,
     "metadata": {},
     "output_type": "execute_result"
    }
   ],
   "source": [
    "scoreSplit[1][-1]"
   ]
  },
  {
   "cell_type": "code",
   "execution_count": 64,
   "id": "c00c15cc",
   "metadata": {},
   "outputs": [],
   "source": [
    "if int(scoreSplit[0][-1]) > int(scoreSplit[1][-1]):\n",
    "    score = f\"{scoreSplit[0][-1]}-{scoreSplit[1][-1]}\"\n",
    "elif int(scoreSplit[1][-1]) > int(scoreSplit[0][-1]):\n",
    "    score = f\"{scoreSplit[1][-1]}-{scoreSplit[0][-1]}\"\n",
    "else:\n",
    "    score = \"0--1\" #Disqualification"
   ]
  },
  {
   "cell_type": "code",
   "execution_count": 65,
   "id": "8f460352",
   "metadata": {},
   "outputs": [
    {
     "data": {
      "text/plain": [
       "'2-0'"
      ]
     },
     "execution_count": 65,
     "metadata": {},
     "output_type": "execute_result"
    }
   ],
   "source": [
    "score"
   ]
  },
  {
   "cell_type": "markdown",
   "id": "61446e3a",
   "metadata": {},
   "source": [
    "### 3.2.2 - Challonge.com"
   ]
  },
  {
   "cell_type": "markdown",
   "id": "3a8ea86b",
   "metadata": {},
   "source": [
    "# References"
   ]
  },
  {
   "cell_type": "markdown",
   "id": "ba7fc277",
   "metadata": {},
   "source": [
    "- https://armswiki.org/wiki/EU_ARMS_Challenge\n",
    "- https://developer.start.gg/docs/examples/queries/get-event"
   ]
  }
 ],
 "metadata": {
  "kernelspec": {
   "display_name": "Python 3 (ipykernel)",
   "language": "python",
   "name": "python3"
  },
  "language_info": {
   "codemirror_mode": {
    "name": "ipython",
    "version": 3
   },
   "file_extension": ".py",
   "mimetype": "text/x-python",
   "name": "python",
   "nbconvert_exporter": "python",
   "pygments_lexer": "ipython3",
   "version": "3.9.12"
  }
 },
 "nbformat": 4,
 "nbformat_minor": 5
}
