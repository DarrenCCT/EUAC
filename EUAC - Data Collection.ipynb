{
 "cells": [
  {
   "cell_type": "markdown",
   "id": "3d94e721",
   "metadata": {},
   "source": [
    "# 1. Libraries"
   ]
  },
  {
   "cell_type": "code",
   "execution_count": 156,
   "id": "1cde4263",
   "metadata": {},
   "outputs": [],
   "source": [
    "# Import Libraries\n",
    "import requests\n",
    "import pandas as pd\n",
    "import os\n",
    "from dotenv import load_dotenv"
   ]
  },
  {
   "cell_type": "markdown",
   "id": "0befb275",
   "metadata": {},
   "source": [
    "# 2. Introduction"
   ]
  },
  {
   "cell_type": "markdown",
   "id": "48e2137d",
   "metadata": {},
   "source": [
    "The purpose of this notebook is to gather data on the European ARMS Challenge (EUAC) tournament series. <br>\n",
    "The EUAC is an online biweekly tournament series for the video game \"ARMS\" released for the Nintendo Switch console in 2017. <br>\n",
    "The EUAC started in 2017 and ran consistently until 2022.<br>\n",
    "<br>\n",
    "More information can be found in references below."
   ]
  },
  {
   "cell_type": "markdown",
   "id": "4b61ba1c",
   "metadata": {},
   "source": [
    "This notebook is to purely gather the data, act as a proof of concept, and format it for future use/analysis. <br>\n",
    "It will then be exported to a csv file if successful. <br>"
   ]
  },
  {
   "cell_type": "markdown",
   "id": "4caa3c5d",
   "metadata": {},
   "source": [
    "# 3. Objectives"
   ]
  },
  {
   "cell_type": "markdown",
   "id": "6d7a4eb3",
   "metadata": {},
   "source": [
    "- Determine what data that is necessary\n",
    "- Gather EUAC#1 data from start.gg using their api\n",
    "- Gather EUAC#2 to EUAC#110 data from Challonge.com using their api\n",
    "- Format the data into a pandas dataframe\n",
    "- Export to csv"
   ]
  },
  {
   "cell_type": "markdown",
   "id": "05e72761",
   "metadata": {},
   "source": [
    "## 3.1. Objective 1"
   ]
  },
  {
   "cell_type": "markdown",
   "id": "69cf9421",
   "metadata": {},
   "source": [
    "### Determine what data is necessary"
   ]
  },
  {
   "cell_type": "markdown",
   "id": "8221b681",
   "metadata": {},
   "source": [
    "For each tournament, we will need: <br>\n",
    "- The participants who entered\n",
    "- Each match that was played\n",
    "- The result of each match\n",
    "- The date the tournament took place\n",
    "- The final placements\n",
    "- Each player's seeding"
   ]
  },
  {
   "cell_type": "markdown",
   "id": "20ce5f32",
   "metadata": {},
   "source": [
    "## 3.2. Objective 2 - Data Gathering"
   ]
  },
  {
   "cell_type": "markdown",
   "id": "79797f89",
   "metadata": {},
   "source": [
    "The tournaments were mostly hosted on Challonge.com but the first one was hosted on start.gg. <br>"
   ]
  },
  {
   "cell_type": "markdown",
   "id": "c76fb9ad",
   "metadata": {},
   "source": [
    "### 3.2.1. - Start.gg"
   ]
  },
  {
   "cell_type": "markdown",
   "id": "10d58db2",
   "metadata": {},
   "source": [
    "Start.gg's API uses GraphQL as its query language <br>\n",
    "The GraphQL queries will be wrapped in multiline strings so they can be sent to the start.gg API to retrieve the data. <br>\n",
    "Queries also expect an API token to passed through the header. This token will be loaded from a .env file.<br>\n",
    "<br>\n",
    "A link to the tutorial that was followed to come up with the queries can be found in References."
   ]
  },
  {
   "cell_type": "code",
   "execution_count": 157,
   "id": "3d271ceb",
   "metadata": {},
   "outputs": [],
   "source": [
    "# Load API Keys stored in .env file\n",
    "load_dotenv(\".env\")\n",
    "START_GG_API_TOKEN = os.getenv(\"START_GG_API_TOKEN\")"
   ]
  },
  {
   "cell_type": "markdown",
   "id": "e5950409",
   "metadata": {},
   "source": [
    "The tournament was hosted at this url: https://www.start.gg/tournament/eu-arms-challenge-1/events <br>\n",
    "For some of the information that is needed, the id of the event is required. Which is obtained here using the url slug"
   ]
  },
  {
   "cell_type": "code",
   "execution_count": 158,
   "id": "6cf1f447",
   "metadata": {},
   "outputs": [],
   "source": [
    "# GraphQL query wrapped in a multiline string. \n",
    "query = \"\"\"\n",
    "query TournamentQuery {\n",
    "  tournament(slug: \"tournament/eu-arms-challenge-1\") {\n",
    "    name\n",
    "    events {\n",
    "      name\n",
    "      id\n",
    "    }\n",
    "  }\n",
    "}\n",
    "\"\"\""
   ]
  },
  {
   "cell_type": "code",
   "execution_count": 159,
   "id": "f22a6876",
   "metadata": {},
   "outputs": [],
   "source": [
    "# Sends the query and returns the response. Will be using this a lot\n",
    "def run_query(query):\n",
    "    url = \"https://api.start.gg/gql/alpha\"\n",
    "    headers = {\n",
    "        \"Authorization\": f\"Bearer {START_GG_API_TOKEN}\",\n",
    "        \"Content-Type\": \"application/json\"\n",
    "    }\n",
    "    response = requests.post(url, json={'query': query}, headers=headers)\n",
    "    return response.json()"
   ]
  },
  {
   "cell_type": "code",
   "execution_count": 160,
   "id": "cf7b9661",
   "metadata": {},
   "outputs": [],
   "source": [
    "data = run_query(query)"
   ]
  },
  {
   "cell_type": "code",
   "execution_count": 161,
   "id": "dbaf4021",
   "metadata": {
    "scrolled": true
   },
   "outputs": [
    {
     "data": {
      "text/plain": [
       "{'data': {'tournament': {'name': 'EU ARMS Challenge #1',\n",
       "   'events': [{'name': 'EU ARMS Challenge #1', 'id': 53835}]}},\n",
       " 'extensions': {'cacheControl': {'version': 1,\n",
       "   'hints': [{'path': ['tournament'], 'maxAge': 300, 'scope': 'PRIVATE'}]},\n",
       "  'queryComplexity': 2},\n",
       " 'actionRecords': []}"
      ]
     },
     "execution_count": 161,
     "metadata": {},
     "output_type": "execute_result"
    }
   ],
   "source": [
    "data"
   ]
  },
  {
   "cell_type": "code",
   "execution_count": 162,
   "id": "05536111",
   "metadata": {},
   "outputs": [],
   "source": [
    "eventId = data[\"data\"][\"tournament\"][\"events\"][0][\"id\"]"
   ]
  },
  {
   "cell_type": "code",
   "execution_count": 163,
   "id": "fb67179c",
   "metadata": {
    "scrolled": true
   },
   "outputs": [
    {
     "data": {
      "text/plain": [
       "53835"
      ]
     },
     "execution_count": 163,
     "metadata": {},
     "output_type": "execute_result"
    }
   ],
   "source": [
    "eventId"
   ]
  },
  {
   "cell_type": "markdown",
   "id": "97e6df68",
   "metadata": {},
   "source": [
    "The id of the event is 53835"
   ]
  },
  {
   "cell_type": "markdown",
   "id": "63181d44",
   "metadata": {},
   "source": [
    "Using the event id, a query can be written to get the players, their seedings and placements, and the start date of the tournament <br>\n",
    "Some of this information could have been gotten before but not all"
   ]
  },
  {
   "cell_type": "code",
   "execution_count": 164,
   "id": "65b8ff22",
   "metadata": {},
   "outputs": [],
   "source": [
    "# Query for players, seedings, placements\n",
    "\n",
    "query = \"\"\"\n",
    "query {\n",
    "  event(id: 53835) {\n",
    "    id\n",
    "    name\n",
    "    startAt\n",
    "    standings(query: {\n",
    "      page: 1\n",
    "    }) {\n",
    "      nodes {\n",
    "        placement\n",
    "        entrant {\n",
    "          id\n",
    "          name\n",
    "          seeds {\n",
    "            seedNum\n",
    "          }\n",
    "        }\n",
    "      }\n",
    "    }\n",
    "  }\n",
    "}\n",
    "\"\"\""
   ]
  },
  {
   "cell_type": "code",
   "execution_count": 165,
   "id": "8d36cad4",
   "metadata": {},
   "outputs": [],
   "source": [
    "data = run_query(query)"
   ]
  },
  {
   "cell_type": "code",
   "execution_count": 166,
   "id": "4836b1c8",
   "metadata": {},
   "outputs": [
    {
     "data": {
      "text/plain": [
       "{'data': {'event': {'id': 53835,\n",
       "   'name': 'EU ARMS Challenge #1',\n",
       "   'startAt': 1508605200,\n",
       "   'standings': {'nodes': [{'placement': 1,\n",
       "      'entrant': {'id': 1152276,\n",
       "       'name': 'FR | Maxou0708',\n",
       "       'seeds': [{'seedNum': 20}]}},\n",
       "     {'placement': 2,\n",
       "      'entrant': {'id': 1118825,\n",
       "       'name': 'Rapha_MTH',\n",
       "       'seeds': [{'seedNum': 6}]}},\n",
       "     {'placement': 3,\n",
       "      'entrant': {'id': 1133810, 'name': 'Sabaca', 'seeds': [{'seedNum': 8}]}},\n",
       "     {'placement': 4,\n",
       "      'entrant': {'id': 1152521,\n",
       "       'name': 'TCM | Raffa',\n",
       "       'seeds': [{'seedNum': 21}]}},\n",
       "     {'placement': 5,\n",
       "      'entrant': {'id': 1152258,\n",
       "       'name': 'FrankTank',\n",
       "       'seeds': [{'seedNum': 19}]}},\n",
       "     {'placement': 5,\n",
       "      'entrant': {'id': 1114568, 'name': 'ocrim', 'seeds': [{'seedNum': 2}]}},\n",
       "     {'placement': 7,\n",
       "      'entrant': {'id': 1139232,\n",
       "       'name': 'Alumento',\n",
       "       'seeds': [{'seedNum': 11}]}},\n",
       "     {'placement': 7,\n",
       "      'entrant': {'id': 1133727,\n",
       "       'name': 'SC☆Momso',\n",
       "       'seeds': [{'seedNum': 7}]}},\n",
       "     {'placement': 9,\n",
       "      'entrant': {'id': 1114889,\n",
       "       'name': 'VilleViljar',\n",
       "       'seeds': [{'seedNum': 4}]}},\n",
       "     {'placement': 9,\n",
       "      'entrant': {'id': 1152242,\n",
       "       'name': 'TCM | BD82',\n",
       "       'seeds': [{'seedNum': 17}]}},\n",
       "     {'placement': 9,\n",
       "      'entrant': {'id': 1144825,\n",
       "       'name': 'FR|TCM | InkAlyut',\n",
       "       'seeds': [{'seedNum': 13}]}},\n",
       "     {'placement': 9,\n",
       "      'entrant': {'id': 1114480,\n",
       "       'name': 'Linkirto',\n",
       "       'seeds': [{'seedNum': 1}]}},\n",
       "     {'placement': 13,\n",
       "      'entrant': {'id': 1114611,\n",
       "       'name': 'Orthuss',\n",
       "       'seeds': [{'seedNum': 3}]}},\n",
       "     {'placement': 13,\n",
       "      'entrant': {'id': 1152122,\n",
       "       'name': 'Kotorious BRD',\n",
       "       'seeds': [{'seedNum': 15}]}},\n",
       "     {'placement': 13,\n",
       "      'entrant': {'id': 1146459,\n",
       "       'name': 'BambooBoss',\n",
       "       'seeds': [{'seedNum': 14}]}},\n",
       "     {'placement': 13,\n",
       "      'entrant': {'id': 1118319, 'name': 'Raayo', 'seeds': [{'seedNum': 5}]}},\n",
       "     {'placement': 17,\n",
       "      'entrant': {'id': 1152168,\n",
       "       'name': 'Octey | Octey',\n",
       "       'seeds': [{'seedNum': 16}]}},\n",
       "     {'placement': 17,\n",
       "      'entrant': {'id': 1143104,\n",
       "       'name': 'RD | | Dushni',\n",
       "       'seeds': [{'seedNum': 12}]}},\n",
       "     {'placement': 17,\n",
       "      'entrant': {'id': 1152245,\n",
       "       'name': 'Altair',\n",
       "       'seeds': [{'seedNum': 18}]}},\n",
       "     {'placement': 17,\n",
       "      'entrant': {'id': 1152545, 'name': 'Owdy', 'seeds': [{'seedNum': 22}]}},\n",
       "     {'placement': 17,\n",
       "      'entrant': {'id': 1136190,\n",
       "       'name': 'Gleeface',\n",
       "       'seeds': [{'seedNum': 9}]}},\n",
       "     {'placement': 17,\n",
       "      'entrant': {'id': 1137935,\n",
       "       'name': 'Beannie',\n",
       "       'seeds': [{'seedNum': 10}]}}]}}},\n",
       " 'extensions': {'cacheControl': {'version': 1,\n",
       "   'hints': [{'path': ['event'], 'maxAge': 60, 'scope': 'PRIVATE'}]},\n",
       "  'queryComplexity': 68},\n",
       " 'actionRecords': []}"
      ]
     },
     "execution_count": 166,
     "metadata": {},
     "output_type": "execute_result"
    }
   ],
   "source": [
    "data"
   ]
  },
  {
   "cell_type": "markdown",
   "id": "1ddee557",
   "metadata": {},
   "source": [
    "Data is a nested dictionary. Now we'll gather a list of participants, their placements and seeds, by digging through this"
   ]
  },
  {
   "cell_type": "code",
   "execution_count": 167,
   "id": "e26e7134",
   "metadata": {},
   "outputs": [
    {
     "data": {
      "text/plain": [
       "'EU ARMS Challenge #1'"
      ]
     },
     "execution_count": 167,
     "metadata": {},
     "output_type": "execute_result"
    }
   ],
   "source": [
    "data[\"data\"][\"event\"][\"name\"]"
   ]
  },
  {
   "cell_type": "code",
   "execution_count": 168,
   "id": "9146b301",
   "metadata": {
    "scrolled": true
   },
   "outputs": [
    {
     "data": {
      "text/plain": [
       "1508605200"
      ]
     },
     "execution_count": 168,
     "metadata": {},
     "output_type": "execute_result"
    }
   ],
   "source": [
    "data[\"data\"][\"event\"][\"startAt\"]"
   ]
  },
  {
   "cell_type": "code",
   "execution_count": 169,
   "id": "70a2ba6c",
   "metadata": {},
   "outputs": [],
   "source": [
    "tournamentDate = data[\"data\"][\"event\"][\"startAt\"]"
   ]
  },
  {
   "cell_type": "code",
   "execution_count": 170,
   "id": "3f44615a",
   "metadata": {},
   "outputs": [
    {
     "data": {
      "text/plain": [
       "1508605200"
      ]
     },
     "execution_count": 170,
     "metadata": {},
     "output_type": "execute_result"
    }
   ],
   "source": [
    "tournamentDate"
   ]
  },
  {
   "cell_type": "markdown",
   "id": "93b62c86",
   "metadata": {},
   "source": [
    "UNIX time for when tournament took place. Only the date is required. The time is unnecessary"
   ]
  },
  {
   "cell_type": "code",
   "execution_count": 171,
   "id": "2b0998fd",
   "metadata": {},
   "outputs": [
    {
     "name": "stdout",
     "output_type": "stream",
     "text": [
      "21/10/17\n"
     ]
    }
   ],
   "source": [
    "from datetime import datetime\n",
    "\n",
    "date = datetime.utcfromtimestamp(tournamentDate).strftime('%d/%m/%y')\n",
    "print(date) "
   ]
  },
  {
   "cell_type": "code",
   "execution_count": 172,
   "id": "a9e15442",
   "metadata": {
    "scrolled": true
   },
   "outputs": [
    {
     "data": {
      "text/plain": [
       "{'nodes': [{'placement': 1,\n",
       "   'entrant': {'id': 1152276,\n",
       "    'name': 'FR | Maxou0708',\n",
       "    'seeds': [{'seedNum': 20}]}},\n",
       "  {'placement': 2,\n",
       "   'entrant': {'id': 1118825, 'name': 'Rapha_MTH', 'seeds': [{'seedNum': 6}]}},\n",
       "  {'placement': 3,\n",
       "   'entrant': {'id': 1133810, 'name': 'Sabaca', 'seeds': [{'seedNum': 8}]}},\n",
       "  {'placement': 4,\n",
       "   'entrant': {'id': 1152521,\n",
       "    'name': 'TCM | Raffa',\n",
       "    'seeds': [{'seedNum': 21}]}},\n",
       "  {'placement': 5,\n",
       "   'entrant': {'id': 1152258,\n",
       "    'name': 'FrankTank',\n",
       "    'seeds': [{'seedNum': 19}]}},\n",
       "  {'placement': 5,\n",
       "   'entrant': {'id': 1114568, 'name': 'ocrim', 'seeds': [{'seedNum': 2}]}},\n",
       "  {'placement': 7,\n",
       "   'entrant': {'id': 1139232, 'name': 'Alumento', 'seeds': [{'seedNum': 11}]}},\n",
       "  {'placement': 7,\n",
       "   'entrant': {'id': 1133727, 'name': 'SC☆Momso', 'seeds': [{'seedNum': 7}]}},\n",
       "  {'placement': 9,\n",
       "   'entrant': {'id': 1114889,\n",
       "    'name': 'VilleViljar',\n",
       "    'seeds': [{'seedNum': 4}]}},\n",
       "  {'placement': 9,\n",
       "   'entrant': {'id': 1152242,\n",
       "    'name': 'TCM | BD82',\n",
       "    'seeds': [{'seedNum': 17}]}},\n",
       "  {'placement': 9,\n",
       "   'entrant': {'id': 1144825,\n",
       "    'name': 'FR|TCM | InkAlyut',\n",
       "    'seeds': [{'seedNum': 13}]}},\n",
       "  {'placement': 9,\n",
       "   'entrant': {'id': 1114480, 'name': 'Linkirto', 'seeds': [{'seedNum': 1}]}},\n",
       "  {'placement': 13,\n",
       "   'entrant': {'id': 1114611, 'name': 'Orthuss', 'seeds': [{'seedNum': 3}]}},\n",
       "  {'placement': 13,\n",
       "   'entrant': {'id': 1152122,\n",
       "    'name': 'Kotorious BRD',\n",
       "    'seeds': [{'seedNum': 15}]}},\n",
       "  {'placement': 13,\n",
       "   'entrant': {'id': 1146459,\n",
       "    'name': 'BambooBoss',\n",
       "    'seeds': [{'seedNum': 14}]}},\n",
       "  {'placement': 13,\n",
       "   'entrant': {'id': 1118319, 'name': 'Raayo', 'seeds': [{'seedNum': 5}]}},\n",
       "  {'placement': 17,\n",
       "   'entrant': {'id': 1152168,\n",
       "    'name': 'Octey | Octey',\n",
       "    'seeds': [{'seedNum': 16}]}},\n",
       "  {'placement': 17,\n",
       "   'entrant': {'id': 1143104,\n",
       "    'name': 'RD | | Dushni',\n",
       "    'seeds': [{'seedNum': 12}]}},\n",
       "  {'placement': 17,\n",
       "   'entrant': {'id': 1152245, 'name': 'Altair', 'seeds': [{'seedNum': 18}]}},\n",
       "  {'placement': 17,\n",
       "   'entrant': {'id': 1152545, 'name': 'Owdy', 'seeds': [{'seedNum': 22}]}},\n",
       "  {'placement': 17,\n",
       "   'entrant': {'id': 1136190, 'name': 'Gleeface', 'seeds': [{'seedNum': 9}]}},\n",
       "  {'placement': 17,\n",
       "   'entrant': {'id': 1137935, 'name': 'Beannie', 'seeds': [{'seedNum': 10}]}}]}"
      ]
     },
     "execution_count": 172,
     "metadata": {},
     "output_type": "execute_result"
    }
   ],
   "source": [
    "data[\"data\"][\"event\"][\"standings\"]"
   ]
  },
  {
   "cell_type": "code",
   "execution_count": 173,
   "id": "4fb978e7",
   "metadata": {
    "scrolled": true
   },
   "outputs": [
    {
     "data": {
      "text/plain": [
       "{'placement': 1,\n",
       " 'entrant': {'id': 1152276,\n",
       "  'name': 'FR | Maxou0708',\n",
       "  'seeds': [{'seedNum': 20}]}}"
      ]
     },
     "execution_count": 173,
     "metadata": {},
     "output_type": "execute_result"
    }
   ],
   "source": [
    "data[\"data\"][\"event\"][\"standings\"][\"nodes\"][0] #Information for one player"
   ]
  },
  {
   "cell_type": "code",
   "execution_count": 174,
   "id": "21050829",
   "metadata": {
    "scrolled": true
   },
   "outputs": [
    {
     "data": {
      "text/plain": [
       "1"
      ]
     },
     "execution_count": 174,
     "metadata": {},
     "output_type": "execute_result"
    }
   ],
   "source": [
    "# Placement\n",
    "data[\"data\"][\"event\"][\"standings\"][\"nodes\"][0][\"placement\"]"
   ]
  },
  {
   "cell_type": "code",
   "execution_count": 175,
   "id": "6066df82",
   "metadata": {
    "scrolled": true
   },
   "outputs": [
    {
     "data": {
      "text/plain": [
       "'FR | Maxou0708'"
      ]
     },
     "execution_count": 175,
     "metadata": {},
     "output_type": "execute_result"
    }
   ],
   "source": [
    "# Name\n",
    "data[\"data\"][\"event\"][\"standings\"][\"nodes\"][0][\"entrant\"][\"name\"]"
   ]
  },
  {
   "cell_type": "code",
   "execution_count": 176,
   "id": "c2ab757c",
   "metadata": {},
   "outputs": [
    {
     "data": {
      "text/plain": [
       "1152276"
      ]
     },
     "execution_count": 176,
     "metadata": {},
     "output_type": "execute_result"
    }
   ],
   "source": [
    "# id\n",
    "data[\"data\"][\"event\"][\"standings\"][\"nodes\"][0][\"entrant\"][\"id\"]"
   ]
  },
  {
   "cell_type": "code",
   "execution_count": 177,
   "id": "2279b653",
   "metadata": {},
   "outputs": [
    {
     "data": {
      "text/plain": [
       "20"
      ]
     },
     "execution_count": 177,
     "metadata": {},
     "output_type": "execute_result"
    }
   ],
   "source": [
    "# Seeding\n",
    "data[\"data\"][\"event\"][\"standings\"][\"nodes\"][0][\"entrant\"][\"seeds\"][0][\"seedNum\"]"
   ]
  },
  {
   "cell_type": "code",
   "execution_count": 178,
   "id": "f095489c",
   "metadata": {},
   "outputs": [],
   "source": [
    "# Putting it all together in a for loop. Store information in arrays\n",
    "\n",
    "playerArray = []\n",
    "placementArray = []\n",
    "seedArray = []\n",
    "idArray = []\n",
    "\n",
    "for entrant in data[\"data\"][\"event\"][\"standings\"][\"nodes\"]:\n",
    "    playerArray.append(entrant[\"entrant\"][\"name\"])\n",
    "    idArray.append(entrant[\"entrant\"][\"id\"])\n",
    "    placementArray.append(entrant[\"placement\"])\n",
    "    seedArray.append(entrant[\"entrant\"][\"seeds\"][0][\"seedNum\"])"
   ]
  },
  {
   "cell_type": "code",
   "execution_count": 179,
   "id": "cb623613",
   "metadata": {},
   "outputs": [],
   "source": [
    "# Make a pandas dataframe of the arrays\n",
    "\n",
    "playerdf = pd.DataFrame({\n",
    "    \"Start ID\": idArray,\n",
    "    \"Player\": playerArray,\n",
    "    \"Seed\": seedArray,\n",
    "    \"Placement\": placementArray\n",
    "})"
   ]
  },
  {
   "cell_type": "code",
   "execution_count": 180,
   "id": "c4c63c1b",
   "metadata": {
    "scrolled": false
   },
   "outputs": [
    {
     "data": {
      "text/html": [
       "<div>\n",
       "<style scoped>\n",
       "    .dataframe tbody tr th:only-of-type {\n",
       "        vertical-align: middle;\n",
       "    }\n",
       "\n",
       "    .dataframe tbody tr th {\n",
       "        vertical-align: top;\n",
       "    }\n",
       "\n",
       "    .dataframe thead th {\n",
       "        text-align: right;\n",
       "    }\n",
       "</style>\n",
       "<table border=\"1\" class=\"dataframe\">\n",
       "  <thead>\n",
       "    <tr style=\"text-align: right;\">\n",
       "      <th></th>\n",
       "      <th>Start ID</th>\n",
       "      <th>Player</th>\n",
       "      <th>Seed</th>\n",
       "      <th>Placement</th>\n",
       "    </tr>\n",
       "  </thead>\n",
       "  <tbody>\n",
       "    <tr>\n",
       "      <th>0</th>\n",
       "      <td>1152276</td>\n",
       "      <td>FR | Maxou0708</td>\n",
       "      <td>20</td>\n",
       "      <td>1</td>\n",
       "    </tr>\n",
       "    <tr>\n",
       "      <th>1</th>\n",
       "      <td>1118825</td>\n",
       "      <td>Rapha_MTH</td>\n",
       "      <td>6</td>\n",
       "      <td>2</td>\n",
       "    </tr>\n",
       "    <tr>\n",
       "      <th>2</th>\n",
       "      <td>1133810</td>\n",
       "      <td>Sabaca</td>\n",
       "      <td>8</td>\n",
       "      <td>3</td>\n",
       "    </tr>\n",
       "    <tr>\n",
       "      <th>3</th>\n",
       "      <td>1152521</td>\n",
       "      <td>TCM | Raffa</td>\n",
       "      <td>21</td>\n",
       "      <td>4</td>\n",
       "    </tr>\n",
       "    <tr>\n",
       "      <th>4</th>\n",
       "      <td>1152258</td>\n",
       "      <td>FrankTank</td>\n",
       "      <td>19</td>\n",
       "      <td>5</td>\n",
       "    </tr>\n",
       "  </tbody>\n",
       "</table>\n",
       "</div>"
      ],
      "text/plain": [
       "   Start ID          Player  Seed  Placement\n",
       "0   1152276  FR | Maxou0708    20          1\n",
       "1   1118825       Rapha_MTH     6          2\n",
       "2   1133810          Sabaca     8          3\n",
       "3   1152521     TCM | Raffa    21          4\n",
       "4   1152258       FrankTank    19          5"
      ]
     },
     "execution_count": 180,
     "metadata": {},
     "output_type": "execute_result"
    }
   ],
   "source": [
    "playerdf.head()"
   ]
  },
  {
   "cell_type": "code",
   "execution_count": 181,
   "id": "27925121",
   "metadata": {},
   "outputs": [],
   "source": [
    "playerdf.to_csv(\"EUAC1Placements.csv\", index=False)"
   ]
  },
  {
   "cell_type": "markdown",
   "id": "27a653ec",
   "metadata": {},
   "source": [
    "All players, their Start ids, their placements and seeding, have been gathered. <br>To note for later: players can sign up with \"tags\". Denoted with a |. But | can be present in a tag"
   ]
  },
  {
   "cell_type": "markdown",
   "id": "210725d9",
   "metadata": {},
   "source": [
    "Due to the hierarchical structure of how tournaments in Start.gg can be, we need to use the event ID to get the phase ID, use the Phase Id to get the Phase Group ID, and then using the Phase Group ID we can obtain the sets in the tournaments that were played with their reported scores"
   ]
  },
  {
   "cell_type": "code",
   "execution_count": 182,
   "id": "899a73d9",
   "metadata": {},
   "outputs": [],
   "source": [
    "# Query to get Phase ID\n",
    "\n",
    "query = \"\"\"\n",
    "query {\n",
    "  event(id: 53835) {\n",
    "    id\n",
    "    name\n",
    "    phases {\n",
    "      id\n",
    "      name\n",
    "    }\n",
    "  }\n",
    "}\"\"\""
   ]
  },
  {
   "cell_type": "code",
   "execution_count": 183,
   "id": "e392843d",
   "metadata": {},
   "outputs": [],
   "source": [
    "data = run_query(query)"
   ]
  },
  {
   "cell_type": "code",
   "execution_count": 184,
   "id": "ef63eedd",
   "metadata": {
    "scrolled": true
   },
   "outputs": [
    {
     "data": {
      "text/plain": [
       "{'data': {'event': {'id': 53835,\n",
       "   'name': 'EU ARMS Challenge #1',\n",
       "   'phases': [{'id': 159661, 'name': 'Bracket'}]}},\n",
       " 'extensions': {'cacheControl': {'version': 1,\n",
       "   'hints': [{'path': ['event'], 'maxAge': 60, 'scope': 'PRIVATE'}]},\n",
       "  'queryComplexity': 2},\n",
       " 'actionRecords': []}"
      ]
     },
     "execution_count": 184,
     "metadata": {},
     "output_type": "execute_result"
    }
   ],
   "source": [
    "data"
   ]
  },
  {
   "cell_type": "code",
   "execution_count": 185,
   "id": "6dce0443",
   "metadata": {
    "scrolled": false
   },
   "outputs": [
    {
     "data": {
      "text/plain": [
       "159661"
      ]
     },
     "execution_count": 185,
     "metadata": {},
     "output_type": "execute_result"
    }
   ],
   "source": [
    "# Phase ID\n",
    "data[\"data\"][\"event\"][\"phases\"][0][\"id\"]"
   ]
  },
  {
   "cell_type": "code",
   "execution_count": 186,
   "id": "fc6fbe38",
   "metadata": {},
   "outputs": [],
   "source": [
    "# Query to get Phase Group ID\n",
    "query = \"\"\"\n",
    "query {\n",
    "  phase(id: 159661) {\n",
    "    phaseGroups {\n",
    "      nodes {\n",
    "        id\n",
    "      }\n",
    "    }\n",
    "  }\n",
    "}\"\"\""
   ]
  },
  {
   "cell_type": "code",
   "execution_count": 187,
   "id": "e9a1af48",
   "metadata": {},
   "outputs": [],
   "source": [
    "data = run_query(query)"
   ]
  },
  {
   "cell_type": "code",
   "execution_count": 188,
   "id": "df2905eb",
   "metadata": {
    "scrolled": true
   },
   "outputs": [
    {
     "data": {
      "text/plain": [
       "{'data': {'phase': {'phaseGroups': {'nodes': [{'id': 431370}]}}},\n",
       " 'extensions': {'cacheControl': {'version': 1, 'hints': None},\n",
       "  'queryComplexity': 1},\n",
       " 'actionRecords': []}"
      ]
     },
     "execution_count": 188,
     "metadata": {},
     "output_type": "execute_result"
    }
   ],
   "source": [
    "data"
   ]
  },
  {
   "cell_type": "code",
   "execution_count": 189,
   "id": "6b01523f",
   "metadata": {},
   "outputs": [
    {
     "data": {
      "text/plain": [
       "431370"
      ]
     },
     "execution_count": 189,
     "metadata": {},
     "output_type": "execute_result"
    }
   ],
   "source": [
    "# Phase Group ID\n",
    "data[\"data\"][\"phase\"][\"phaseGroups\"][\"nodes\"][0][\"id\"]"
   ]
  },
  {
   "cell_type": "code",
   "execution_count": 190,
   "id": "10050cf4",
   "metadata": {},
   "outputs": [],
   "source": [
    "# Query to get all sets\n",
    "\n",
    "query = \"\"\"\n",
    "query {\n",
    "  phaseGroup(id: 431370) {\n",
    "    sets(page: 1, perPage: 100) {\n",
    "      nodes {\n",
    "        id\n",
    "        displayScore\n",
    "        fullRoundText\n",
    "        winnerId\n",
    "        slots {\n",
    "          entrant {\n",
    "            name\n",
    "          }\n",
    "        }\n",
    "      }\n",
    "    }\n",
    "  }\n",
    "}\"\"\""
   ]
  },
  {
   "cell_type": "code",
   "execution_count": 191,
   "id": "49629bc3",
   "metadata": {},
   "outputs": [],
   "source": [
    "data = run_query(query)"
   ]
  },
  {
   "cell_type": "code",
   "execution_count": 192,
   "id": "ca6f56f2",
   "metadata": {
    "scrolled": true
   },
   "outputs": [
    {
     "data": {
      "text/plain": [
       "{'data': {'phaseGroup': {'sets': {'nodes': [{'id': 10598232,\n",
       "      'displayScore': 'Rapha_MTH 1 - FR | Maxou0708 3',\n",
       "      'fullRoundText': 'Grand Final',\n",
       "      'winnerId': 1152276,\n",
       "      'slots': [{'entrant': {'name': 'Rapha_MTH'}},\n",
       "       {'entrant': {'name': 'FR | Maxou0708'}}]},\n",
       "     {'id': 10598233,\n",
       "      'displayScore': 'FR | Maxou0708 3 - Rapha_MTH 0',\n",
       "      'fullRoundText': 'Grand Final Reset',\n",
       "      'winnerId': 1152276,\n",
       "      'slots': [{'entrant': {'name': 'FR | Maxou0708'}},\n",
       "       {'entrant': {'name': 'Rapha_MTH'}}]},\n",
       "     {'id': 10598231,\n",
       "      'displayScore': 'Sabaca 0 - Rapha_MTH 2',\n",
       "      'fullRoundText': 'Winners Final',\n",
       "      'winnerId': 1118825,\n",
       "      'slots': [{'entrant': {'name': 'Sabaca'}},\n",
       "       {'entrant': {'name': 'Rapha_MTH'}}]},\n",
       "     {'id': 10598295,\n",
       "      'displayScore': 'DQ',\n",
       "      'fullRoundText': 'Losers Final',\n",
       "      'winnerId': 1152276,\n",
       "      'slots': [{'entrant': {'name': 'Sabaca'}},\n",
       "       {'entrant': {'name': 'FR | Maxou0708'}}]},\n",
       "     {'id': 10598294,\n",
       "      'displayScore': 'FR | Maxou0708 3 - TCM | Raffa 1',\n",
       "      'fullRoundText': 'Losers Semi-Final',\n",
       "      'winnerId': 1152276,\n",
       "      'slots': [{'entrant': {'name': 'FR | Maxou0708'}},\n",
       "       {'entrant': {'name': 'TCM | Raffa'}}]},\n",
       "     {'id': 10598229,\n",
       "      'displayScore': 'DQ',\n",
       "      'fullRoundText': 'Winners Semi-Final',\n",
       "      'winnerId': 1133810,\n",
       "      'slots': [{'entrant': {'name': 'Sabaca'}},\n",
       "       {'entrant': {'name': 'TCM | Raffa'}}]},\n",
       "     {'id': 10598230,\n",
       "      'displayScore': 'ocrim 0 - Rapha_MTH 2',\n",
       "      'fullRoundText': 'Winners Semi-Final',\n",
       "      'winnerId': 1118825,\n",
       "      'slots': [{'entrant': {'name': 'ocrim'}},\n",
       "       {'entrant': {'name': 'Rapha_MTH'}}]},\n",
       "     {'id': 10598292,\n",
       "      'displayScore': 'ocrim 0 - FR | Maxou0708 2',\n",
       "      'fullRoundText': 'Losers Quarter-Final',\n",
       "      'winnerId': 1152276,\n",
       "      'slots': [{'entrant': {'name': 'ocrim'}},\n",
       "       {'entrant': {'name': 'FR | Maxou0708'}}]},\n",
       "     {'id': 10598293,\n",
       "      'displayScore': 'TCM | Raffa 2 - FrankTank 0',\n",
       "      'fullRoundText': 'Losers Quarter-Final',\n",
       "      'winnerId': 1152521,\n",
       "      'slots': [{'entrant': {'name': 'TCM | Raffa'}},\n",
       "       {'entrant': {'name': 'FrankTank'}}]},\n",
       "     {'id': 10598290,\n",
       "      'displayScore': 'Alumento 0 - FR | Maxou0708 2',\n",
       "      'fullRoundText': 'Losers Round 4',\n",
       "      'winnerId': 1152276,\n",
       "      'slots': [{'entrant': {'name': 'Alumento'}},\n",
       "       {'entrant': {'name': 'FR | Maxou0708'}}]},\n",
       "     {'id': 10598291,\n",
       "      'displayScore': 'FrankTank 2 - SC☆Momso 0',\n",
       "      'fullRoundText': 'Losers Round 4',\n",
       "      'winnerId': 1152258,\n",
       "      'slots': [{'entrant': {'name': 'FrankTank'}},\n",
       "       {'entrant': {'name': 'SC☆Momso'}}]},\n",
       "     {'id': 10598225,\n",
       "      'displayScore': 'Linkirto 0 - Sabaca 2',\n",
       "      'fullRoundText': 'Winners Quarter-Final',\n",
       "      'winnerId': 1133810,\n",
       "      'slots': [{'entrant': {'name': 'Linkirto'}},\n",
       "       {'entrant': {'name': 'Sabaca'}}]},\n",
       "     {'id': 10598226,\n",
       "      'displayScore': 'DQ',\n",
       "      'fullRoundText': 'Winners Quarter-Final',\n",
       "      'winnerId': 1152521,\n",
       "      'slots': [{'entrant': {'name': 'FR|TCM | InkAlyut'}},\n",
       "       {'entrant': {'name': 'TCM | Raffa'}}]},\n",
       "     {'id': 10598227,\n",
       "      'displayScore': 'ocrim 2 - SC☆Momso 0',\n",
       "      'fullRoundText': 'Winners Quarter-Final',\n",
       "      'winnerId': 1114568,\n",
       "      'slots': [{'entrant': {'name': 'ocrim'}},\n",
       "       {'entrant': {'name': 'SC☆Momso'}}]},\n",
       "     {'id': 10598228,\n",
       "      'displayScore': 'FrankTank 0 - Rapha_MTH 2',\n",
       "      'fullRoundText': 'Winners Quarter-Final',\n",
       "      'winnerId': 1118825,\n",
       "      'slots': [{'entrant': {'name': 'FrankTank'}},\n",
       "       {'entrant': {'name': 'Rapha_MTH'}}]},\n",
       "     {'id': 10598286,\n",
       "      'displayScore': 'DQ',\n",
       "      'fullRoundText': 'Losers Round 3',\n",
       "      'winnerId': 1139232,\n",
       "      'slots': [{'entrant': {'name': 'FR|TCM | InkAlyut'}},\n",
       "       {'entrant': {'name': 'Alumento'}}]},\n",
       "     {'id': 10598287,\n",
       "      'displayScore': 'Linkirto 1 - FR | Maxou0708 2',\n",
       "      'fullRoundText': 'Losers Round 3',\n",
       "      'winnerId': 1152276,\n",
       "      'slots': [{'entrant': {'name': 'Linkirto'}},\n",
       "       {'entrant': {'name': 'FR | Maxou0708'}}]},\n",
       "     {'id': 10598288,\n",
       "      'displayScore': 'FrankTank 2 - VilleViljar 0',\n",
       "      'fullRoundText': 'Losers Round 3',\n",
       "      'winnerId': 1152258,\n",
       "      'slots': [{'entrant': {'name': 'FrankTank'}},\n",
       "       {'entrant': {'name': 'VilleViljar'}}]},\n",
       "     {'id': 10598289,\n",
       "      'displayScore': 'SC☆Momso 2 - TCM | BD82 0',\n",
       "      'fullRoundText': 'Losers Round 3',\n",
       "      'winnerId': 1133727,\n",
       "      'slots': [{'entrant': {'name': 'SC☆Momso'}},\n",
       "       {'entrant': {'name': 'TCM | BD82'}}]},\n",
       "     {'id': 10598282,\n",
       "      'displayScore': 'Alumento 2 - Orthuss 1',\n",
       "      'fullRoundText': 'Losers Round 2',\n",
       "      'winnerId': 1139232,\n",
       "      'slots': [{'entrant': {'name': 'Alumento'}},\n",
       "       {'entrant': {'name': 'Orthuss'}}]},\n",
       "     {'id': 10598283,\n",
       "      'displayScore': 'FR | Maxou0708 2 - Kotorious BRD 0',\n",
       "      'fullRoundText': 'Losers Round 2',\n",
       "      'winnerId': 1152276,\n",
       "      'slots': [{'entrant': {'name': 'FR | Maxou0708'}},\n",
       "       {'entrant': {'name': 'Kotorious BRD'}}]},\n",
       "     {'id': 10598284,\n",
       "      'displayScore': 'Raayo 0 - VilleViljar 2',\n",
       "      'fullRoundText': 'Losers Round 2',\n",
       "      'winnerId': 1114889,\n",
       "      'slots': [{'entrant': {'name': 'Raayo'}},\n",
       "       {'entrant': {'name': 'VilleViljar'}}]},\n",
       "     {'id': 10598285,\n",
       "      'displayScore': 'BambooBoss 1 - TCM | BD82 2',\n",
       "      'fullRoundText': 'Losers Round 2',\n",
       "      'winnerId': 1152242,\n",
       "      'slots': [{'entrant': {'name': 'BambooBoss'}},\n",
       "       {'entrant': {'name': 'TCM | BD82'}}]},\n",
       "     {'id': 10598217,\n",
       "      'displayScore': 'Linkirto 2 - TCM | BD82 1',\n",
       "      'fullRoundText': 'Winners Round 2',\n",
       "      'winnerId': 1114480,\n",
       "      'slots': [{'entrant': {'name': 'Linkirto'}},\n",
       "       {'entrant': {'name': 'TCM | BD82'}}]},\n",
       "     {'id': 10598218,\n",
       "      'displayScore': 'DQ',\n",
       "      'fullRoundText': 'Winners Round 2',\n",
       "      'winnerId': 1133810,\n",
       "      'slots': [{'entrant': {'name': 'Sabaca'}},\n",
       "       {'entrant': {'name': 'Gleeface'}}]},\n",
       "     {'id': 10598219,\n",
       "      'displayScore': 'VilleViljar 0 - FR|TCM | InkAlyut 2',\n",
       "      'fullRoundText': 'Winners Round 2',\n",
       "      'winnerId': 1144825,\n",
       "      'slots': [{'entrant': {'name': 'VilleViljar'}},\n",
       "       {'entrant': {'name': 'FR|TCM | InkAlyut'}}]},\n",
       "     {'id': 10598220,\n",
       "      'displayScore': 'Raayo 0 - TCM | Raffa 2',\n",
       "      'fullRoundText': 'Winners Round 2',\n",
       "      'winnerId': 1152521,\n",
       "      'slots': [{'entrant': {'name': 'Raayo'}},\n",
       "       {'entrant': {'name': 'TCM | Raffa'}}]},\n",
       "     {'id': 10598221,\n",
       "      'displayScore': 'ocrim 2 - Kotorious BRD 0',\n",
       "      'fullRoundText': 'Winners Round 2',\n",
       "      'winnerId': 1114568,\n",
       "      'slots': [{'entrant': {'name': 'ocrim'}},\n",
       "       {'entrant': {'name': 'Kotorious BRD'}}]},\n",
       "     {'id': 10598222,\n",
       "      'displayScore': 'SC☆Momso 2 - Beannie 0',\n",
       "      'fullRoundText': 'Winners Round 2',\n",
       "      'winnerId': 1133727,\n",
       "      'slots': [{'entrant': {'name': 'SC☆Momso'}},\n",
       "       {'entrant': {'name': 'Beannie'}}]},\n",
       "     {'id': 10598223,\n",
       "      'displayScore': 'Orthuss 0 - FrankTank 2',\n",
       "      'fullRoundText': 'Winners Round 2',\n",
       "      'winnerId': 1152258,\n",
       "      'slots': [{'entrant': {'name': 'Orthuss'}},\n",
       "       {'entrant': {'name': 'FrankTank'}}]},\n",
       "     {'id': 10598224,\n",
       "      'displayScore': 'Rapha_MTH 2 - Alumento 0',\n",
       "      'fullRoundText': 'Winners Round 2',\n",
       "      'winnerId': 1118825,\n",
       "      'slots': [{'entrant': {'name': 'Rapha_MTH'}},\n",
       "       {'entrant': {'name': 'Alumento'}}]},\n",
       "     {'id': 10598278,\n",
       "      'displayScore': 'DQ',\n",
       "      'fullRoundText': 'Losers Round 1',\n",
       "      'winnerId': 1118319,\n",
       "      'slots': [{'entrant': {'name': 'Raayo'}},\n",
       "       {'entrant': {'name': 'Altair'}}]},\n",
       "     {'id': 10598280,\n",
       "      'displayScore': 'DQ',\n",
       "      'fullRoundText': 'Losers Round 1',\n",
       "      'winnerId': 1146459,\n",
       "      'slots': [{'entrant': {'name': 'Gleeface'}},\n",
       "       {'entrant': {'name': 'BambooBoss'}}]},\n",
       "     {'id': 10598281,\n",
       "      'displayScore': 'TCM | BD82 2 - Owdy 1',\n",
       "      'fullRoundText': 'Losers Round 1',\n",
       "      'winnerId': 1152242,\n",
       "      'slots': [{'entrant': {'name': 'TCM | BD82'}},\n",
       "       {'entrant': {'name': 'Owdy'}}]},\n",
       "     {'id': 10598274,\n",
       "      'displayScore': 'DQ',\n",
       "      'fullRoundText': 'Losers Round 1',\n",
       "      'winnerId': 1139232,\n",
       "      'slots': [{'entrant': {'name': 'Alumento'}},\n",
       "       {'entrant': {'name': 'Octey | Octey'}}]},\n",
       "     {'id': 10598276,\n",
       "      'displayScore': 'Beannie 0 - FR | Maxou0708 2',\n",
       "      'fullRoundText': 'Losers Round 1',\n",
       "      'winnerId': 1152276,\n",
       "      'slots': [{'entrant': {'name': 'Beannie'}},\n",
       "       {'entrant': {'name': 'FR | Maxou0708'}}]},\n",
       "     {'id': 10598277,\n",
       "      'displayScore': 'Kotorious BRD 2 - RD | | Dushni 0',\n",
       "      'fullRoundText': 'Losers Round 1',\n",
       "      'winnerId': 1152122,\n",
       "      'slots': [{'entrant': {'name': 'Kotorious BRD'}},\n",
       "       {'entrant': {'name': 'RD | | Dushni'}}]},\n",
       "     {'id': 10598202,\n",
       "      'displayScore': 'Octey | Octey 0 - TCM | BD82 2',\n",
       "      'fullRoundText': 'Winners Round 1',\n",
       "      'winnerId': 1152242,\n",
       "      'slots': [{'entrant': {'name': 'Octey | Octey'}},\n",
       "       {'entrant': {'name': 'TCM | BD82'}}]},\n",
       "     {'id': 10598206,\n",
       "      'displayScore': 'FR|TCM | InkAlyut 2 - FR | Maxou0708 1',\n",
       "      'fullRoundText': 'Winners Round 1',\n",
       "      'winnerId': 1144825,\n",
       "      'slots': [{'entrant': {'name': 'FR|TCM | InkAlyut'}},\n",
       "       {'entrant': {'name': 'FR | Maxou0708'}}]},\n",
       "     {'id': 10598208,\n",
       "      'displayScore': 'RD | | Dushni 0 - TCM | Raffa 2',\n",
       "      'fullRoundText': 'Winners Round 1',\n",
       "      'winnerId': 1152521,\n",
       "      'slots': [{'entrant': {'name': 'RD | | Dushni'}},\n",
       "       {'entrant': {'name': 'TCM | Raffa'}}]},\n",
       "     {'id': 10598210,\n",
       "      'displayScore': 'DQ',\n",
       "      'fullRoundText': 'Winners Round 1',\n",
       "      'winnerId': 1152122,\n",
       "      'slots': [{'entrant': {'name': 'Kotorious BRD'}},\n",
       "       {'entrant': {'name': 'Altair'}}]},\n",
       "     {'id': 10598214,\n",
       "      'displayScore': 'BambooBoss 0 - FrankTank 2',\n",
       "      'fullRoundText': 'Winners Round 1',\n",
       "      'winnerId': 1152258,\n",
       "      'slots': [{'entrant': {'name': 'BambooBoss'}},\n",
       "       {'entrant': {'name': 'FrankTank'}}]},\n",
       "     {'id': 10598216,\n",
       "      'displayScore': 'Alumento 2 - Owdy 0',\n",
       "      'fullRoundText': 'Winners Round 1',\n",
       "      'winnerId': 1139232,\n",
       "      'slots': [{'entrant': {'name': 'Alumento'}},\n",
       "       {'entrant': {'name': 'Owdy'}}]}]}}},\n",
       " 'extensions': {'cacheControl': {'version': 1, 'hints': None},\n",
       "  'queryComplexity': 259},\n",
       " 'actionRecords': []}"
      ]
     },
     "execution_count": 192,
     "metadata": {},
     "output_type": "execute_result"
    }
   ],
   "source": [
    "# Display all sets\n",
    "data"
   ]
  },
  {
   "cell_type": "code",
   "execution_count": 193,
   "id": "b0c9c432",
   "metadata": {
    "scrolled": true
   },
   "outputs": [
    {
     "data": {
      "text/plain": [
       "{'id': 10598232,\n",
       " 'displayScore': 'Rapha_MTH 1 - FR | Maxou0708 3',\n",
       " 'fullRoundText': 'Grand Final',\n",
       " 'winnerId': 1152276,\n",
       " 'slots': [{'entrant': {'name': 'Rapha_MTH'}},\n",
       "  {'entrant': {'name': 'FR | Maxou0708'}}]}"
      ]
     },
     "execution_count": 193,
     "metadata": {},
     "output_type": "execute_result"
    }
   ],
   "source": [
    "# Showing a set example\n",
    "data[\"data\"][\"phaseGroup\"][\"sets\"][\"nodes\"][0]"
   ]
  },
  {
   "cell_type": "code",
   "execution_count": 194,
   "id": "ed59a279",
   "metadata": {},
   "outputs": [
    {
     "data": {
      "text/plain": [
       "'Rapha_MTH'"
      ]
     },
     "execution_count": 194,
     "metadata": {},
     "output_type": "execute_result"
    }
   ],
   "source": [
    "# Retrieving a player's name\n",
    "data[\"data\"][\"phaseGroup\"][\"sets\"][\"nodes\"][0][\"slots\"][0][\"entrant\"][\"name\"]"
   ]
  },
  {
   "cell_type": "markdown",
   "id": "085011b6",
   "metadata": {},
   "source": [
    "This starts at the \"end\" of the tournament. The last match is first returned"
   ]
  },
  {
   "cell_type": "code",
   "execution_count": 195,
   "id": "637faf99",
   "metadata": {
    "scrolled": false
   },
   "outputs": [
    {
     "data": {
      "text/plain": [
       "{'id': 10598210,\n",
       " 'displayScore': 'DQ',\n",
       " 'fullRoundText': 'Winners Round 1',\n",
       " 'winnerId': 1152122,\n",
       " 'slots': [{'entrant': {'name': 'Kotorious BRD'}},\n",
       "  {'entrant': {'name': 'Altair'}}]}"
      ]
     },
     "execution_count": 195,
     "metadata": {},
     "output_type": "execute_result"
    }
   ],
   "source": [
    "data[\"data\"][\"phaseGroup\"][\"sets\"][\"nodes\"][-3]"
   ]
  },
  {
   "cell_type": "code",
   "execution_count": 196,
   "id": "fa154fff",
   "metadata": {
    "scrolled": true
   },
   "outputs": [
    {
     "data": {
      "text/plain": [
       "'ocrim 0 - FR | Maxou0708 2'"
      ]
     },
     "execution_count": 196,
     "metadata": {},
     "output_type": "execute_result"
    }
   ],
   "source": [
    "# Showing a set's score\n",
    "data[\"data\"][\"phaseGroup\"][\"sets\"][\"nodes\"][7][\"displayScore\"]"
   ]
  },
  {
   "cell_type": "markdown",
   "id": "839e7a8e",
   "metadata": {},
   "source": [
    "Player names and Scores can be gotten from \"displayScore\" but DQs will require a bit more work. <br>\n",
    "Will have to access \"slots\" to get player names, query dataframe for the winner id. Loser is the other. <br>\n",
    "<br>\n",
    "To get the score, the string will be split by the \" - \" and the last character of each string is the score"
   ]
  },
  {
   "cell_type": "code",
   "execution_count": 197,
   "id": "891163e5",
   "metadata": {},
   "outputs": [
    {
     "data": {
      "text/plain": [
       "['ocrim 0', 'FR | Maxou0708 2']"
      ]
     },
     "execution_count": 197,
     "metadata": {},
     "output_type": "execute_result"
    }
   ],
   "source": [
    "scoreSplit = data[\"data\"][\"phaseGroup\"][\"sets\"][\"nodes\"][7][\"displayScore\"].split(\" - \")\n",
    "scoreSplit"
   ]
  },
  {
   "cell_type": "code",
   "execution_count": 198,
   "id": "de525168",
   "metadata": {},
   "outputs": [],
   "source": [
    "# Function to retrieve player name from dataframe with their start id no.\n",
    "\n",
    "def retrieve_player(df, pid):\n",
    "    player = df[df[\"Start ID\"] == pid]\n",
    "    if not player.empty:\n",
    "        return player.iloc[0][\"Player\"]\n",
    "    else:\n",
    "        print(f\"No player matching ID {pid} was found\")"
   ]
  },
  {
   "cell_type": "code",
   "execution_count": 199,
   "id": "70c1edf9",
   "metadata": {},
   "outputs": [
    {
     "data": {
      "text/plain": [
       "'FR | Maxou0708'"
      ]
     },
     "execution_count": 199,
     "metadata": {},
     "output_type": "execute_result"
    }
   ],
   "source": [
    "retrieve_player(playerdf, 1152276)"
   ]
  },
  {
   "cell_type": "code",
   "execution_count": 200,
   "id": "01d2765f",
   "metadata": {},
   "outputs": [],
   "source": [
    "import re"
   ]
  },
  {
   "cell_type": "code",
   "execution_count": 201,
   "id": "aa537dc8",
   "metadata": {},
   "outputs": [],
   "source": [
    "player1Array = []\n",
    "player2Array = []\n",
    "winnerArray = []\n",
    "loserArray = []\n",
    "matchArray = []\n",
    "scoreArray = []\n",
    "matchNo = 1\n",
    "\n",
    "for sets in reversed(data[\"data\"][\"phaseGroup\"][\"sets\"][\"nodes\"]):\n",
    "    #Setting Player 1 and Player 2\n",
    "    player1 = sets[\"slots\"][0][\"entrant\"][\"name\"]\n",
    "    player2 = sets[\"slots\"][1][\"entrant\"][\"name\"]\n",
    "    player1Array.append(player1)\n",
    "    player2Array.append(player2)\n",
    "    \n",
    "    # Determining Winner and Loser\n",
    "    winner = retrieve_player(playerdf, sets[\"winnerId\"])\n",
    "    winnerArray.append(retrieve_player(playerdf, sets[\"winnerId\"]))\n",
    "    # If winner is p1, then loser is p2. Otherwise, p1 must be the loser\n",
    "    if winner == player1:\n",
    "        loser = player2\n",
    "    else:\n",
    "        loser = player1\n",
    "    loserArray.append(loser)\n",
    "    \n",
    "    # Match no\n",
    "    matchArray.append(matchNo)\n",
    "    matchNo += 1\n",
    "    \n",
    "    # Score\n",
    "    scoreSplit = sets[\"displayScore\"].split(\" - \")\n",
    "    # Catch DQs and register them as \"0--1\"\n",
    "    if scoreSplit[0][-1] == \"D\" or scoreSplit[0][-1] == \"Q\":\n",
    "        score = \"0--1\"\n",
    "        scoreArray.append(score)\n",
    "    else:\n",
    "        # Write score in perspective of winner. Higher score always first\n",
    "        # Ex. 2-0. Never 0-2\n",
    "        if int(scoreSplit[0][-1]) > int(scoreSplit[1][-1]):\n",
    "            score = f\"{scoreSplit[0][-1]}-{scoreSplit[1][-1]}\"\n",
    "            scoreArray.append(score)\n",
    "        elif int(scoreSplit[1][-1]) > int(scoreSplit[0][-1]):\n",
    "            score = f\"{scoreSplit[1][-1]}-{scoreSplit[0][-1]}\"\n",
    "            scoreArray.append(score)"
   ]
  },
  {
   "cell_type": "code",
   "execution_count": 202,
   "id": "986a264d",
   "metadata": {},
   "outputs": [],
   "source": [
    "df = pd.DataFrame({\n",
    "    \"Player1\": player1Array,\n",
    "    \"Player2\": player2Array,\n",
    "    \"Winner\": winnerArray,\n",
    "    \"Score\": scoreArray,\n",
    "    \"Loser\": loserArray,\n",
    "    \"MatchNo\": matchArray,\n",
    "    \"EUAC\": 1,\n",
    "    \"Date\": date\n",
    "})"
   ]
  },
  {
   "cell_type": "code",
   "execution_count": 203,
   "id": "2adf77e7",
   "metadata": {
    "scrolled": true
   },
   "outputs": [
    {
     "data": {
      "text/html": [
       "<div>\n",
       "<style scoped>\n",
       "    .dataframe tbody tr th:only-of-type {\n",
       "        vertical-align: middle;\n",
       "    }\n",
       "\n",
       "    .dataframe tbody tr th {\n",
       "        vertical-align: top;\n",
       "    }\n",
       "\n",
       "    .dataframe thead th {\n",
       "        text-align: right;\n",
       "    }\n",
       "</style>\n",
       "<table border=\"1\" class=\"dataframe\">\n",
       "  <thead>\n",
       "    <tr style=\"text-align: right;\">\n",
       "      <th></th>\n",
       "      <th>Player1</th>\n",
       "      <th>Player2</th>\n",
       "      <th>Winner</th>\n",
       "      <th>Score</th>\n",
       "      <th>Loser</th>\n",
       "      <th>MatchNo</th>\n",
       "      <th>EUAC</th>\n",
       "      <th>Date</th>\n",
       "    </tr>\n",
       "  </thead>\n",
       "  <tbody>\n",
       "    <tr>\n",
       "      <th>0</th>\n",
       "      <td>Alumento</td>\n",
       "      <td>Owdy</td>\n",
       "      <td>Alumento</td>\n",
       "      <td>2-0</td>\n",
       "      <td>Owdy</td>\n",
       "      <td>1</td>\n",
       "      <td>1</td>\n",
       "      <td>21/10/17</td>\n",
       "    </tr>\n",
       "    <tr>\n",
       "      <th>1</th>\n",
       "      <td>BambooBoss</td>\n",
       "      <td>FrankTank</td>\n",
       "      <td>FrankTank</td>\n",
       "      <td>2-0</td>\n",
       "      <td>BambooBoss</td>\n",
       "      <td>2</td>\n",
       "      <td>1</td>\n",
       "      <td>21/10/17</td>\n",
       "    </tr>\n",
       "    <tr>\n",
       "      <th>2</th>\n",
       "      <td>Kotorious BRD</td>\n",
       "      <td>Altair</td>\n",
       "      <td>Kotorious BRD</td>\n",
       "      <td>0--1</td>\n",
       "      <td>Altair</td>\n",
       "      <td>3</td>\n",
       "      <td>1</td>\n",
       "      <td>21/10/17</td>\n",
       "    </tr>\n",
       "    <tr>\n",
       "      <th>3</th>\n",
       "      <td>RD | | Dushni</td>\n",
       "      <td>TCM | Raffa</td>\n",
       "      <td>TCM | Raffa</td>\n",
       "      <td>2-0</td>\n",
       "      <td>RD | | Dushni</td>\n",
       "      <td>4</td>\n",
       "      <td>1</td>\n",
       "      <td>21/10/17</td>\n",
       "    </tr>\n",
       "    <tr>\n",
       "      <th>4</th>\n",
       "      <td>FR|TCM | InkAlyut</td>\n",
       "      <td>FR | Maxou0708</td>\n",
       "      <td>FR|TCM | InkAlyut</td>\n",
       "      <td>2-1</td>\n",
       "      <td>FR | Maxou0708</td>\n",
       "      <td>5</td>\n",
       "      <td>1</td>\n",
       "      <td>21/10/17</td>\n",
       "    </tr>\n",
       "  </tbody>\n",
       "</table>\n",
       "</div>"
      ],
      "text/plain": [
       "             Player1         Player2             Winner Score           Loser  \\\n",
       "0           Alumento            Owdy           Alumento   2-0            Owdy   \n",
       "1         BambooBoss       FrankTank          FrankTank   2-0      BambooBoss   \n",
       "2      Kotorious BRD          Altair      Kotorious BRD  0--1          Altair   \n",
       "3      RD | | Dushni     TCM | Raffa        TCM | Raffa   2-0   RD | | Dushni   \n",
       "4  FR|TCM | InkAlyut  FR | Maxou0708  FR|TCM | InkAlyut   2-1  FR | Maxou0708   \n",
       "\n",
       "   MatchNo  EUAC      Date  \n",
       "0        1     1  21/10/17  \n",
       "1        2     1  21/10/17  \n",
       "2        3     1  21/10/17  \n",
       "3        4     1  21/10/17  \n",
       "4        5     1  21/10/17  "
      ]
     },
     "execution_count": 203,
     "metadata": {},
     "output_type": "execute_result"
    }
   ],
   "source": [
    "df.head()"
   ]
  },
  {
   "cell_type": "code",
   "execution_count": 204,
   "id": "ad8b1d50",
   "metadata": {},
   "outputs": [],
   "source": [
    "df.to_csv(\"EUAC1Sets.csv\", index=False)"
   ]
  },
  {
   "cell_type": "markdown",
   "id": "61446e3a",
   "metadata": {},
   "source": [
    "### 3.2.2 - Challonge.com"
   ]
  },
  {
   "cell_type": "markdown",
   "id": "75458602",
   "metadata": {},
   "source": [
    "#### 3.2.2.1 - Acquiring URLs"
   ]
  },
  {
   "cell_type": "markdown",
   "id": "712db3ac",
   "metadata": {},
   "source": [
    "Using the direct url for the singular Start.gg link was fine but there are too many Challonge links to do it again that way. <br>\n",
    "Instead we will acquire the links from parsing the wiki page on this topic which contains them all."
   ]
  },
  {
   "cell_type": "code",
   "execution_count": 205,
   "id": "4d81a5ea",
   "metadata": {},
   "outputs": [],
   "source": [
    "from bs4 import BeautifulSoup\n",
    "\n",
    "url = \"https://armswiki.org/wiki/EU_ARMS_Challenge\"\n",
    "\n",
    "response = requests.get(url)\n",
    "soup = BeautifulSoup(response.content, \"html.parser\")"
   ]
  },
  {
   "cell_type": "code",
   "execution_count": 206,
   "id": "220cbdf2",
   "metadata": {
    "scrolled": true
   },
   "outputs": [
    {
     "name": "stdout",
     "output_type": "stream",
     "text": [
      "<!DOCTYPE html>\n",
      "\n",
      "<html class=\"client-nojs\" dir=\"ltr\" lang=\"en\">\n",
      "<head>\n",
      "<meta charset=\"utf-8\"/>\n",
      "<title>EU ARMS Challenge - ARMS Institute, the ARMS Wiki</title>\n",
      "<script>document.documentElement.className=\"client-js\";RLCONF={\"wgBreakFrames\":false,\"wgSeparatorTransformTable\":[\"\",\"\"],\"wgDigitTransformTable\":[\"\",\"\"],\"wgDefaultDateFormat\":\"dmy\",\"wgMonthNames\":[\"\",\"January\",\"February\",\"March\",\"April\",\"May\",\"June\",\"July\",\"August\",\"September\",\"October\",\"November\",\"December\"],\"wgRequestId\":\"8099ca58d868fceee76cd9bc\",\"wgCanonicalNamespace\":\"\",\"wgCanonicalSpecialPageName\":false,\"wgNamespaceNumber\":0,\"wgPageName\":\"EU_ARMS_Challenge\",\"wgTitle\":\"EU ARMS Challenge\",\"wgCurRevisionId\":23064,\"wgRevisionId\":23064,\"wgArticleId\":4223,\"wgIsArticle\":true,\"wgIsRedirect\":false,\"wgAction\":\"view\",\"wgUserName\":null,\"wgUserGroups\":[\"*\"],\"wgCategories\":[\"Tournaments\"],\"wgPageViewLanguage\":\"en\",\"wgPageContentLanguage\":\"en\",\"wgPageContentModel\":\"wikitext\",\"wgRelevantPageName\":\"EU_ARMS_Challenge\",\"wgRelevantArticleId\":4223,\"wgIsProbablyEditable\":false,\"wgRelevantPageIsProbablyEditable\":false,\"wgRestrictionEdit\":[],\"wgRestrictionMove\":[],\"wgCargoDefaultQueryLimit\":100,\n",
      "\"wgCargoMapClusteringMinimum\":80,\"wgCargoMonthNamesShort\":[\"Jan\",\"Feb\",\"Mar\",\"Apr\",\"May\",\"Jun\",\"Jul\",\"Aug\",\"Sep\",\"Oct\",\"Nov\",\"Dec\"],\"wgMFDisplayWikibaseDescriptions\":{\"search\":false,\"watchlist\":false,\"tagline\":false},\"wgVisualEditor\":{\"pageLanguageCode\":\"en\",\"pageLanguageDir\":\"ltr\",\"pageVariantFallbacks\":\"en\"},\"wgEditSubmitButtonLabelPublish\":false};RLSTATE={\"site.styles\":\"ready\",\"user.styles\":\"ready\",\"user\":\"ready\",\"user.options\":\"loading\",\"ext.cite.styles\":\"ready\",\"skins.vector.styles.legacy\":\"ready\",\"ext.visualEditor.desktopArticleTarget.noscript\":\"ready\"};RLPAGEMODULES=[\"ext.cite.ux-enhancements\",\"mediawiki.page.media\",\"site\",\"mediawiki.page.ready\",\"mediawiki.toc\",\"skins.vector.legacy.js\",\"ext.visualEditor.desktopArticleTarget.init\",\"ext.visualEditor.targetLoader\",\"ext.cargo.purge\"];</script>\n",
      "<script>(RLQ=window.RLQ||[]).push(function(){mw.loader.impl(function(){return[\"user.options@12s5i\",function($,jQuery,require,module){mw.user.tokens.set({\"patrolToken\":\"+\\\\\",\"watchToken\":\"+\\\\\",\"csrfToken\":\"+\\\\\"});\n",
      "}];});});</script>\n",
      "<link href=\"/w/load.php?lang=en&amp;modules=ext.cite.styles%7Cext.visualEditor.desktopArticleTarget.noscript%7Cskins.vector.styles.legacy&amp;only=styles&amp;skin=vector\" rel=\"stylesheet\"/>\n",
      "<script async=\"\" src=\"/w/load.php?lang=en&amp;modules=startup&amp;only=scripts&amp;raw=1&amp;skin=vector\"></script>\n",
      "<meta content=\"\" name=\"ResourceLoaderDynamicStyles\"/>\n",
      "<link href=\"/w/load.php?lang=en&amp;modules=site.styles&amp;only=styles&amp;skin=vector\" rel=\"stylesheet\"/>\n",
      "<meta content=\"MediaWiki 1.41.4\" name=\"generator\"/>\n",
      "<meta content=\"max-image-preview:standard\" name=\"robots\"/>\n",
      "<meta content=\"telephone=no\" name=\"format-detection\"/>\n",
      "<meta content=\"https://cdn.wikimg.net/en/armswiki/images/0/0f/EUARMSLogo.png\" property=\"og:image\"/>\n",
      "<meta content=\"1200\" property=\"og:image:width\"/>\n",
      "<meta content=\"1133\" property=\"og:image:height\"/>\n",
      "<meta content=\"https://cdn.wikimg.net/en/armswiki/images/thumb/0/0f/EUARMSLogo.png/800px-EUARMSLogo.png\" property=\"og:image\"/>\n",
      "<meta content=\"800\" property=\"og:image:width\"/>\n",
      "<meta content=\"755\" property=\"og:image:height\"/>\n",
      "<meta content=\"https://cdn.wikimg.net/en/armswiki/images/thumb/0/0f/EUARMSLogo.png/640px-EUARMSLogo.png\" property=\"og:image\"/>\n",
      "<meta content=\"640\" property=\"og:image:width\"/>\n",
      "<meta content=\"604\" property=\"og:image:height\"/>\n",
      "<meta content=\"EU ARMS Challenge (abbreviated as EUAC) is an online biweekly ARMS tournament series originally created and organized by Cojora and Raffa which was ran by Ripha...\" name=\"description\"/>\n",
      "<meta content=\"summary_large_image\" name=\"twitter:card\"/>\n",
      "<meta content=\"width=1000\" name=\"viewport\"/>\n",
      "<link href=\"//cdn.wikimg.net/en/armswiki/favicon.ico\" rel=\"icon\"/>\n",
      "<link href=\"/w/opensearch_desc.php\" rel=\"search\" title=\"ARMS Institute (en)\" type=\"application/opensearchdescription+xml\"/>\n",
      "<link href=\"//armswiki.org/w/api.php?action=rsd\" rel=\"EditURI\" type=\"application/rsd+xml\"/>\n",
      "<link href=\"https://creativecommons.org/licenses/by-sa/4.0/\" rel=\"license\"/>\n",
      "<link href=\"/w/index.php?title=Special:RecentChanges&amp;feed=atom\" rel=\"alternate\" title=\"ARMS Institute Atom feed\" type=\"application/atom+xml\"/>\n",
      "<meta content=\"EU ARMS Challenge\" property=\"og:title\"/>\n",
      "<meta content=\"ARMS Institute\" property=\"og:site_name\"/>\n",
      "<meta content=\"https://armswiki.org/wiki/EU_ARMS_Challenge\" property=\"og:url\"/>\n",
      "<meta content=\"EU ARMS Challenge (abbreviated as EUAC) is an online biweekly ARMS tournament series originally created and organized by Cojora and Raffa which was ran by Ripha...\" property=\"og:description\"/>\n",
      "<meta content=\"2024-10-13T22:02:49Z\" property=\"article:modified_time\"/>\n",
      "<meta content=\"2024-10-13T22:02:49Z\" property=\"article:published_time\"/>\n",
      "<script type=\"application/ld+json\">{\"@context\":\"http:\\/\\/schema.org\",\"@type\":\"Article\",\"name\":\"EU ARMS Challenge - ARMS Institute, the ARMS Wiki\",\"headline\":\"EU ARMS Challenge - ARMS Institute, the ARMS Wiki\",\"mainEntityOfPage\":\"EU ARMS Challenge\",\"identifier\":\"https:\\/\\/armswiki.org\\/wiki\\/EU_ARMS_Challenge\",\"url\":\"https:\\/\\/armswiki.org\\/wiki\\/EU_ARMS_Challenge\",\"description\":\"EU ARMS Challenge (abbreviated as EUAC) is an online biweekly ARMS tournament series originally created and organized by Cojora and Raffa which was ran by Ripha...\",\"dateModified\":\"2024-10-13T22:02:49Z\",\"datePublished\":\"2024-10-13T22:02:49Z\",\"image\":{\"@type\":\"ImageObject\",\"url\":\"https:\\/\\/cdn.wikimg.net\\/en\\/armswiki\\/images\\/5\\/59\\/Site-wiki.png\"},\"author\":{\"@type\":\"Organization\",\"name\":\"ARMS Institute\",\"url\":\"\\/\\/armswiki.org\",\"logo\":{\"@type\":\"ImageObject\",\"url\":\"https:\\/\\/cdn.wikimg.net\\/en\\/armswiki\\/images\\/5\\/59\\/Site-wiki.png\",\"caption\":\"ARMS Institute\"}},\"publisher\":{\"@type\":\"Organization\",\"name\":\"ARMS Institute\",\"url\":\"\\/\\/armswiki.org\",\"logo\":{\"@type\":\"ImageObject\",\"url\":\"https:\\/\\/cdn.wikimg.net\\/en\\/armswiki\\/images\\/5\\/59\\/Site-wiki.png\",\"caption\":\"ARMS Institute\"}},\"potentialAction\":{\"@type\":\"SearchAction\",\"target\":\"https:\\/\\/armswiki.org\\/w\\/index.php?title=Special:Search&search={search_term}\",\"query-input\":\"required name=search_term\"}}</script>\n",
      "</head>\n",
      "<body class=\"skin-vector-legacy mediawiki ltr sitedir-ltr mw-hide-empty-elt ns-0 ns-subject page-EU_ARMS_Challenge rootpage-EU_ARMS_Challenge skin-vector action-view\"><div class=\"noprint\" id=\"mw-page-base\"></div>\n",
      "<div class=\"noprint\" id=\"mw-head-base\"></div>\n",
      "<div class=\"mw-body\" id=\"content\" role=\"main\">\n",
      "<a id=\"top\"></a>\n",
      "<div id=\"siteNotice\"></div>\n",
      "<div class=\"mw-indicators\">\n",
      "</div>\n",
      "<h1 class=\"firstHeading mw-first-heading\" id=\"firstHeading\"><span class=\"mw-page-title-main\">EU ARMS Challenge</span></h1>\n",
      "<div class=\"vector-body\" id=\"bodyContent\">\n",
      "<div class=\"noprint\" id=\"siteSub\">From ARMS Institute, the ARMS Wiki</div>\n",
      "<div id=\"contentSub\"><div id=\"mw-content-subtitle\"></div></div>\n",
      "<div id=\"contentSub2\"></div>\n",
      "<div id=\"jump-to-nav\"></div>\n",
      "<a class=\"mw-jump-link\" href=\"#mw-head\">Jump to navigation</a>\n",
      "<a class=\"mw-jump-link\" href=\"#searchInput\">Jump to search</a>\n",
      "<div class=\"mw-body-content mw-content-ltr\" dir=\"ltr\" id=\"mw-content-text\" lang=\"en\"><div class=\"mw-parser-output\"><figure class=\"mw-default-size mw-halign-right\" typeof=\"mw:File/Thumb\"><a class=\"mw-file-description\" href=\"/wiki/File:EUARMSLogo.png\"><img class=\"mw-file-element\" decoding=\"async\" height=\"283\" src=\"//cdn.wikimg.net/en/armswiki/images/thumb/0/0f/EUARMSLogo.png/300px-EUARMSLogo.png\" srcset=\"//cdn.wikimg.net/en/armswiki/images/thumb/0/0f/EUARMSLogo.png/450px-EUARMSLogo.png 1.5x, //cdn.wikimg.net/en/armswiki/images/thumb/0/0f/EUARMSLogo.png/600px-EUARMSLogo.png 2x\" width=\"300\"/></a><figcaption>European ARMS' logo which is commonly associated with the EUAC event series.</figcaption></figure>\n",
      "<p><b>EU ARMS Challenge</b> (abbreviated as EUAC) is an online biweekly <i><a href=\"/wiki/ARMS_(game)\" title=\"ARMS (game)\">ARMS</a></i> tournament series originally created and organized by <a class=\"new\" href=\"/w/index.php?title=Cojora&amp;action=edit&amp;redlink=1\" title=\"Cojora (page does not exist)\">Cojora</a> and <a href=\"/wiki/Raffa\" title=\"Raffa\">Raffa</a> which was ran by <a href=\"/wiki/Ripha\" title=\"Ripha\">Ripha</a> and <a class=\"new\" href=\"/w/index.php?title=Ocrim&amp;action=edit&amp;redlink=1\" title=\"Ocrim (page does not exist)\">ocrim</a> until the series' end of regular events. The later duo took control of the series starting with EUAC #5 on July 15th, 2018. EU ARMS Challenge began in October of 2017 and continued until December 4th, 2022 with EU ARMS Challenge #107. Although regularly held biweekly events will no longer continue, there may still be occasional spur of the moment EUACs. Considering the series ran for more than 5 years with over 100 events, EU ARMS Challenge is the longest running European-only <i>ARMS</i> tournament series.\n",
      "</p>\n",
      "<div aria-labelledby=\"mw-toc-heading\" class=\"toc\" id=\"toc\" role=\"navigation\"><input class=\"toctogglecheckbox\" id=\"toctogglecheckbox\" role=\"button\" style=\"display:none\" type=\"checkbox\"/><div class=\"toctitle\" dir=\"ltr\" lang=\"en\"><h2 id=\"mw-toc-heading\">Contents</h2><span class=\"toctogglespan\"><label class=\"toctogglelabel\" for=\"toctogglecheckbox\"></label></span></div>\n",
      "<ul>\n",
      "<li class=\"toclevel-1 tocsection-1\"><a href=\"#Format\"><span class=\"tocnumber\">1</span> <span class=\"toctext\">Format</span></a></li>\n",
      "<li class=\"toclevel-1 tocsection-2\"><a href=\"#Tournaments\"><span class=\"tocnumber\">2</span> <span class=\"toctext\">Tournaments</span></a></li>\n",
      "<li class=\"toclevel-1 tocsection-3\"><a href=\"#Trivia\"><span class=\"tocnumber\">3</span> <span class=\"toctext\">Trivia</span></a></li>\n",
      "<li class=\"toclevel-1 tocsection-4\"><a href=\"#Gameplay_Videos\"><span class=\"tocnumber\">4</span> <span class=\"toctext\">Gameplay Videos</span></a></li>\n",
      "<li class=\"toclevel-1 tocsection-5\"><a href=\"#References\"><span class=\"tocnumber\">5</span> <span class=\"toctext\">References</span></a></li>\n",
      "</ul>\n",
      "</div>\n",
      "<h2><span class=\"mw-headline\" id=\"Format\">Format</span></h2>\n",
      "<p>Like most events, EU ARMS Challenge ran double elimination brackets. Players utilized the EU ARMS Discord server to communicate with their opponents as the brackets (aside from the first event) were ran on Challonge, a site that lacks player-to-player chat functions. The tournament was streamed through EU ARMS' Twitch account and has featured many different casters over time including <a href=\"/wiki/Defur\" title=\"Defur\">Defur</a>, Layla, Mathias Wolfbrok, and more. In terms of the tournament's stage list, the \"Backroom\" stages were initially used, though starting with EUAC #64 <a href=\"/wiki/Ninja_College\" title=\"Ninja College\">Ninja College</a> replaced <a href=\"/wiki/Scrapyard\" title=\"Scrapyard\">Scrapyard</a> as a counterpick stage. Generally, the event utilizes a modified Backroom ruleset.\n",
      "</p><p>EU ARMS Challenge events have always counted toward the EU ARMS Power Ranking since said ranking's inception. At the end of power ranking seasons, invitational events with prize pools have traditionally been held, though prior to these occurring specific EUAC events featured prize pools instead. These events are EUAC #19 and #25, both of which had a $100 pot.\n",
      "</p>\n",
      "<h2><span class=\"mw-headline\" id=\"Tournaments\">Tournaments</span></h2>\n",
      "<table class=\"wikitable\">\n",
      "<tbody><tr>\n",
      "<th>Bracket</th>\n",
      "<th>Date</th>\n",
      "<th>Winner</th>\n",
      "<th>Character(s) used\n",
      "</th></tr>\n",
      "<tr>\n",
      "<td><a class=\"external text\" href=\"https://smash.gg/tournament/eu-arms-challenge-1/details\" rel=\"nofollow\">EU ARMS Challenge #1</a></td>\n",
      "<td>October 21, 2017</td>\n",
      "<td>Maxou</td>\n",
      "<td><span typeof=\"mw:File\"><a href=\"/wiki/Ribbon_Girl\" title=\"Ribbon Girl\"><img class=\"mw-file-element\" decoding=\"async\" height=\"25\" src=\"//cdn.wikimg.net/en/armswiki/images/thumb/e/ed/Icon-Ribbon_Girl.png/25px-Icon-Ribbon_Girl.png\" srcset=\"//cdn.wikimg.net/en/armswiki/images/thumb/e/ed/Icon-Ribbon_Girl.png/38px-Icon-Ribbon_Girl.png 1.5x, //cdn.wikimg.net/en/armswiki/images/thumb/e/ed/Icon-Ribbon_Girl.png/50px-Icon-Ribbon_Girl.png 2x\" width=\"25\"/></a></span>\n",
      "</td></tr>\n",
      "<tr>\n",
      "<td><a class=\"external text\" href=\"https://challonge.com/EUCHALLLENGE2\" rel=\"nofollow\">EU ARMS Challenge #2</a></td>\n",
      "<td>November 12, 2017</td>\n",
      "<td><a href=\"/wiki/Raffa\" title=\"Raffa\">Raffa</a></td>\n",
      "<td><span typeof=\"mw:File\"><a href=\"/wiki/Kid_Cobra\" title=\"Kid Cobra\"><img class=\"mw-file-element\" decoding=\"async\" height=\"25\" src=\"//cdn.wikimg.net/en/armswiki/images/thumb/b/b7/Icon-Kid_Cobra.png/25px-Icon-Kid_Cobra.png\" srcset=\"//cdn.wikimg.net/en/armswiki/images/thumb/b/b7/Icon-Kid_Cobra.png/38px-Icon-Kid_Cobra.png 1.5x, //cdn.wikimg.net/en/armswiki/images/thumb/b/b7/Icon-Kid_Cobra.png/50px-Icon-Kid_Cobra.png 2x\" width=\"25\"/></a></span>\n",
      "</td></tr>\n",
      "<tr>\n",
      "<td><a class=\"external text\" href=\"https://challonge.com/EUCHALLLENGE3\" rel=\"nofollow\">EU ARMS Challenge #3</a></td>\n",
      "<td>December 9, 2017</td>\n",
      "<td><a href=\"/wiki/Ripha\" title=\"Ripha\">Ripha</a></td>\n",
      "<td><span typeof=\"mw:File\"><a href=\"/wiki/Ninjara\" title=\"Ninjara\"><img class=\"mw-file-element\" decoding=\"async\" height=\"25\" src=\"//cdn.wikimg.net/en/armswiki/images/thumb/0/0c/Icon-Ninjara.png/25px-Icon-Ninjara.png\" srcset=\"//cdn.wikimg.net/en/armswiki/images/thumb/0/0c/Icon-Ninjara.png/38px-Icon-Ninjara.png 1.5x, //cdn.wikimg.net/en/armswiki/images/thumb/0/0c/Icon-Ninjara.png/50px-Icon-Ninjara.png 2x\" width=\"25\"/></a></span>\n",
      "</td></tr>\n",
      "<tr>\n",
      "<td><a class=\"external text\" href=\"https://challonge.com/EUCHALLENGE4_Europe\" rel=\"nofollow\">EU ARMS Challenge #4 (EUROPE BRACKET)</a></td>\n",
      "<td>January 21, 2018</td>\n",
      "<td>FrankTank</td>\n",
      "<td><span typeof=\"mw:File\"><a href=\"/wiki/Spring_Man\" title=\"Spring Man\"><img class=\"mw-file-element\" decoding=\"async\" height=\"25\" src=\"//cdn.wikimg.net/en/armswiki/images/thumb/b/b6/Icon-Spring_Man.png/25px-Icon-Spring_Man.png\" srcset=\"//cdn.wikimg.net/en/armswiki/images/thumb/b/b6/Icon-Spring_Man.png/38px-Icon-Spring_Man.png 1.5x, //cdn.wikimg.net/en/armswiki/images/thumb/b/b6/Icon-Spring_Man.png/50px-Icon-Spring_Man.png 2x\" width=\"25\"/></a></span>\n",
      "</td></tr>\n",
      "<tr>\n",
      "<td><a class=\"external text\" href=\"https://challonge.com/EUChallenge5\" rel=\"nofollow\">EU ARMS Challenge #5</a></td>\n",
      "<td>July 15, 2018</td>\n",
      "<td><a class=\"new\" href=\"/w/index.php?title=Y%C3%A4tta&amp;action=edit&amp;redlink=1\" title=\"Yätta (page does not exist)\">Yätta</a></td>\n",
      "<td><span typeof=\"mw:File\"><a href=\"/wiki/Ribbon_Girl\" title=\"Ribbon Girl\"><img class=\"mw-file-element\" decoding=\"async\" height=\"25\" src=\"//cdn.wikimg.net/en/armswiki/images/thumb/e/ed/Icon-Ribbon_Girl.png/25px-Icon-Ribbon_Girl.png\" srcset=\"//cdn.wikimg.net/en/armswiki/images/thumb/e/ed/Icon-Ribbon_Girl.png/38px-Icon-Ribbon_Girl.png 1.5x, //cdn.wikimg.net/en/armswiki/images/thumb/e/ed/Icon-Ribbon_Girl.png/50px-Icon-Ribbon_Girl.png 2x\" width=\"25\"/></a></span>\n",
      "</td></tr>\n",
      "<tr>\n",
      "<td><a class=\"external text\" href=\"https://challonge.com/EUChallenge6\" rel=\"nofollow\">EU ARMS Challenge #6</a></td>\n",
      "<td>July 29, 2018</td>\n",
      "<td><a class=\"new\" href=\"/w/index.php?title=Y%C3%A4tta&amp;action=edit&amp;redlink=1\" title=\"Yätta (page does not exist)\">Yätta</a></td>\n",
      "<td><span typeof=\"mw:File\"><a href=\"/wiki/Ribbon_Girl\" title=\"Ribbon Girl\"><img class=\"mw-file-element\" decoding=\"async\" height=\"25\" src=\"//cdn.wikimg.net/en/armswiki/images/thumb/e/ed/Icon-Ribbon_Girl.png/25px-Icon-Ribbon_Girl.png\" srcset=\"//cdn.wikimg.net/en/armswiki/images/thumb/e/ed/Icon-Ribbon_Girl.png/38px-Icon-Ribbon_Girl.png 1.5x, //cdn.wikimg.net/en/armswiki/images/thumb/e/ed/Icon-Ribbon_Girl.png/50px-Icon-Ribbon_Girl.png 2x\" width=\"25\"/></a></span>\n",
      "</td></tr>\n",
      "<tr>\n",
      "<td><a class=\"external text\" href=\"https://challonge.com/EUChallenge7\" rel=\"nofollow\">EU ARMS Challenge #7</a></td>\n",
      "<td>August 19, 2018</td>\n",
      "<td><a class=\"new\" href=\"/w/index.php?title=Y%C3%A4tta&amp;action=edit&amp;redlink=1\" title=\"Yätta (page does not exist)\">Yätta</a></td>\n",
      "<td><span typeof=\"mw:File\"><a href=\"/wiki/Ribbon_Girl\" title=\"Ribbon Girl\"><img class=\"mw-file-element\" decoding=\"async\" height=\"25\" src=\"//cdn.wikimg.net/en/armswiki/images/thumb/e/ed/Icon-Ribbon_Girl.png/25px-Icon-Ribbon_Girl.png\" srcset=\"//cdn.wikimg.net/en/armswiki/images/thumb/e/ed/Icon-Ribbon_Girl.png/38px-Icon-Ribbon_Girl.png 1.5x, //cdn.wikimg.net/en/armswiki/images/thumb/e/ed/Icon-Ribbon_Girl.png/50px-Icon-Ribbon_Girl.png 2x\" width=\"25\"/></a></span>\n",
      "</td></tr>\n",
      "<tr>\n",
      "<td><a class=\"external text\" href=\"https://challonge.com/EUChallenge8\" rel=\"nofollow\">EU ARMS Challenge #8</a></td>\n",
      "<td>September 2, 2018</td>\n",
      "<td><a class=\"new\" href=\"/w/index.php?title=Y%C3%A4tta&amp;action=edit&amp;redlink=1\" title=\"Yätta (page does not exist)\">Yätta</a></td>\n",
      "<td><span typeof=\"mw:File\"><a href=\"/wiki/Ribbon_Girl\" title=\"Ribbon Girl\"><img class=\"mw-file-element\" decoding=\"async\" height=\"25\" src=\"//cdn.wikimg.net/en/armswiki/images/thumb/e/ed/Icon-Ribbon_Girl.png/25px-Icon-Ribbon_Girl.png\" srcset=\"//cdn.wikimg.net/en/armswiki/images/thumb/e/ed/Icon-Ribbon_Girl.png/38px-Icon-Ribbon_Girl.png 1.5x, //cdn.wikimg.net/en/armswiki/images/thumb/e/ed/Icon-Ribbon_Girl.png/50px-Icon-Ribbon_Girl.png 2x\" width=\"25\"/></a></span>\n",
      "</td></tr>\n",
      "<tr>\n",
      "<td><a class=\"external text\" href=\"https://challonge.com/EUChallenge9\" rel=\"nofollow\">EU ARMS Challenge #9</a></td>\n",
      "<td>September 16, 2018</td>\n",
      "<td><a href=\"/wiki/Raffa\" title=\"Raffa\">Raffa</a></td>\n",
      "<td><span typeof=\"mw:File\"><a href=\"/wiki/Kid_Cobra\" title=\"Kid Cobra\"><img class=\"mw-file-element\" decoding=\"async\" height=\"25\" src=\"//cdn.wikimg.net/en/armswiki/images/thumb/b/b7/Icon-Kid_Cobra.png/25px-Icon-Kid_Cobra.png\" srcset=\"//cdn.wikimg.net/en/armswiki/images/thumb/b/b7/Icon-Kid_Cobra.png/38px-Icon-Kid_Cobra.png 1.5x, //cdn.wikimg.net/en/armswiki/images/thumb/b/b7/Icon-Kid_Cobra.png/50px-Icon-Kid_Cobra.png 2x\" width=\"25\"/></a></span>\n",
      "</td></tr>\n",
      "<tr>\n",
      "<td><a class=\"external text\" href=\"https://challonge.com/EUChallenge10\" rel=\"nofollow\">EU ARMS Challenge #10</a></td>\n",
      "<td>October 7, 2018</td>\n",
      "<td><a class=\"new\" href=\"/w/index.php?title=Y%C3%A4tta&amp;action=edit&amp;redlink=1\" title=\"Yätta (page does not exist)\">Yätta</a></td>\n",
      "<td><span typeof=\"mw:File\"><a href=\"/wiki/Ribbon_Girl\" title=\"Ribbon Girl\"><img class=\"mw-file-element\" decoding=\"async\" height=\"25\" src=\"//cdn.wikimg.net/en/armswiki/images/thumb/e/ed/Icon-Ribbon_Girl.png/25px-Icon-Ribbon_Girl.png\" srcset=\"//cdn.wikimg.net/en/armswiki/images/thumb/e/ed/Icon-Ribbon_Girl.png/38px-Icon-Ribbon_Girl.png 1.5x, //cdn.wikimg.net/en/armswiki/images/thumb/e/ed/Icon-Ribbon_Girl.png/50px-Icon-Ribbon_Girl.png 2x\" width=\"25\"/></a></span>\n",
      "</td></tr>\n",
      "<tr>\n",
      "<td><a class=\"external text\" href=\"https://challonge.com/EUChallenge11\" rel=\"nofollow\">EU ARMS Challenge #11</a></td>\n",
      "<td>October 21, 2018</td>\n",
      "<td><a href=\"/wiki/Ripha\" title=\"Ripha\">Ripha</a></td>\n",
      "<td><span typeof=\"mw:File\"><a href=\"/wiki/Ninjara\" title=\"Ninjara\"><img class=\"mw-file-element\" decoding=\"async\" height=\"25\" src=\"//cdn.wikimg.net/en/armswiki/images/thumb/0/0c/Icon-Ninjara.png/25px-Icon-Ninjara.png\" srcset=\"//cdn.wikimg.net/en/armswiki/images/thumb/0/0c/Icon-Ninjara.png/38px-Icon-Ninjara.png 1.5x, //cdn.wikimg.net/en/armswiki/images/thumb/0/0c/Icon-Ninjara.png/50px-Icon-Ninjara.png 2x\" width=\"25\"/></a></span>\n",
      "</td></tr>\n",
      "<tr>\n",
      "<td><a class=\"external text\" href=\"https://challonge.com/EUChallenge12\" rel=\"nofollow\">EU ARMS Challenge #12</a></td>\n",
      "<td>November 4, 2018</td>\n",
      "<td><a class=\"new\" href=\"/w/index.php?title=Y%C3%A4tta&amp;action=edit&amp;redlink=1\" title=\"Yätta (page does not exist)\">Yätta</a></td>\n",
      "<td><span typeof=\"mw:File\"><a href=\"/wiki/Ribbon_Girl\" title=\"Ribbon Girl\"><img class=\"mw-file-element\" decoding=\"async\" height=\"25\" src=\"//cdn.wikimg.net/en/armswiki/images/thumb/e/ed/Icon-Ribbon_Girl.png/25px-Icon-Ribbon_Girl.png\" srcset=\"//cdn.wikimg.net/en/armswiki/images/thumb/e/ed/Icon-Ribbon_Girl.png/38px-Icon-Ribbon_Girl.png 1.5x, //cdn.wikimg.net/en/armswiki/images/thumb/e/ed/Icon-Ribbon_Girl.png/50px-Icon-Ribbon_Girl.png 2x\" width=\"25\"/></a></span>\n",
      "</td></tr>\n",
      "<tr>\n",
      "<td><a class=\"external text\" href=\"https://challonge.com/EUChallenge13\" rel=\"nofollow\">EU ARMS Challenge #13</a></td>\n",
      "<td>November 18, 2018</td>\n",
      "<td><a href=\"/wiki/Iceman92\" title=\"Iceman92\">Iceman92</a></td>\n",
      "<td><span typeof=\"mw:File\"><a href=\"/wiki/Min_Min\" title=\"Min Min\"><img class=\"mw-file-element\" decoding=\"async\" height=\"25\" src=\"//cdn.wikimg.net/en/armswiki/images/thumb/9/93/Icon-Min_Min.png/25px-Icon-Min_Min.png\" srcset=\"//cdn.wikimg.net/en/armswiki/images/thumb/9/93/Icon-Min_Min.png/38px-Icon-Min_Min.png 1.5x, //cdn.wikimg.net/en/armswiki/images/thumb/9/93/Icon-Min_Min.png/50px-Icon-Min_Min.png 2x\" width=\"25\"/></a></span>\n",
      "</td></tr>\n",
      "<tr>\n",
      "<td><a class=\"external text\" href=\"https://challonge.com/EUChallenge14\" rel=\"nofollow\">EU ARMS Challenge #14</a></td>\n",
      "<td>December 2, 2018</td>\n",
      "<td><a class=\"new\" href=\"/w/index.php?title=Y%C3%A4tta&amp;action=edit&amp;redlink=1\" title=\"Yätta (page does not exist)\">Yätta</a></td>\n",
      "<td><span typeof=\"mw:File\"><a href=\"/wiki/Ribbon_Girl\" title=\"Ribbon Girl\"><img class=\"mw-file-element\" decoding=\"async\" height=\"25\" src=\"//cdn.wikimg.net/en/armswiki/images/thumb/e/ed/Icon-Ribbon_Girl.png/25px-Icon-Ribbon_Girl.png\" srcset=\"//cdn.wikimg.net/en/armswiki/images/thumb/e/ed/Icon-Ribbon_Girl.png/38px-Icon-Ribbon_Girl.png 1.5x, //cdn.wikimg.net/en/armswiki/images/thumb/e/ed/Icon-Ribbon_Girl.png/50px-Icon-Ribbon_Girl.png 2x\" width=\"25\"/></a></span>\n",
      "</td></tr>\n",
      "<tr>\n",
      "<td><a class=\"external text\" href=\"https://challonge.com/EUChallenge15\" rel=\"nofollow\">EU ARMS Challenge #15</a></td>\n",
      "<td>January 6, 2019</td>\n",
      "<td><a class=\"new\" href=\"/w/index.php?title=Y%C3%A4tta&amp;action=edit&amp;redlink=1\" title=\"Yätta (page does not exist)\">Yätta</a></td>\n",
      "<td><span typeof=\"mw:File\"><a href=\"/wiki/Ribbon_Girl\" title=\"Ribbon Girl\"><img class=\"mw-file-element\" decoding=\"async\" height=\"25\" src=\"//cdn.wikimg.net/en/armswiki/images/thumb/e/ed/Icon-Ribbon_Girl.png/25px-Icon-Ribbon_Girl.png\" srcset=\"//cdn.wikimg.net/en/armswiki/images/thumb/e/ed/Icon-Ribbon_Girl.png/38px-Icon-Ribbon_Girl.png 1.5x, //cdn.wikimg.net/en/armswiki/images/thumb/e/ed/Icon-Ribbon_Girl.png/50px-Icon-Ribbon_Girl.png 2x\" width=\"25\"/></a></span>\n",
      "</td></tr>\n",
      "<tr>\n",
      "<td><a class=\"external text\" href=\"https://challonge.com/EUChallenge16\" rel=\"nofollow\">EU ARMS Challenge #16</a></td>\n",
      "<td>January 20, 2019</td>\n",
      "<td><a href=\"/wiki/Iceman92\" title=\"Iceman92\">Iceman92</a></td>\n",
      "<td><span typeof=\"mw:File\"><a href=\"/wiki/Min_Min\" title=\"Min Min\"><img class=\"mw-file-element\" decoding=\"async\" height=\"25\" src=\"//cdn.wikimg.net/en/armswiki/images/thumb/9/93/Icon-Min_Min.png/25px-Icon-Min_Min.png\" srcset=\"//cdn.wikimg.net/en/armswiki/images/thumb/9/93/Icon-Min_Min.png/38px-Icon-Min_Min.png 1.5x, //cdn.wikimg.net/en/armswiki/images/thumb/9/93/Icon-Min_Min.png/50px-Icon-Min_Min.png 2x\" width=\"25\"/></a></span>\n",
      "</td></tr>\n",
      "<tr>\n",
      "<td><a class=\"external text\" href=\"https://challonge.com/EUChallenge17\" rel=\"nofollow\">EU ARMS Challenge #17</a></td>\n",
      "<td>February 3, 2019</td>\n",
      "<td><a class=\"new\" href=\"/w/index.php?title=Y%C3%A4tta&amp;action=edit&amp;redlink=1\" title=\"Yätta (page does not exist)\">Yätta</a></td>\n",
      "<td><span typeof=\"mw:File\"><a href=\"/wiki/Ribbon_Girl\" title=\"Ribbon Girl\"><img class=\"mw-file-element\" decoding=\"async\" height=\"25\" src=\"//cdn.wikimg.net/en/armswiki/images/thumb/e/ed/Icon-Ribbon_Girl.png/25px-Icon-Ribbon_Girl.png\" srcset=\"//cdn.wikimg.net/en/armswiki/images/thumb/e/ed/Icon-Ribbon_Girl.png/38px-Icon-Ribbon_Girl.png 1.5x, //cdn.wikimg.net/en/armswiki/images/thumb/e/ed/Icon-Ribbon_Girl.png/50px-Icon-Ribbon_Girl.png 2x\" width=\"25\"/></a></span>\n",
      "</td></tr>\n",
      "<tr>\n",
      "<td><a class=\"external text\" href=\"https://challonge.com/EUChallenge18\" rel=\"nofollow\">EU ARMS Challenge #18</a></td>\n",
      "<td>February 17, 2019</td>\n",
      "<td><a href=\"/wiki/Iceman92\" title=\"Iceman92\">Iceman92</a></td>\n",
      "<td><span typeof=\"mw:File\"><a href=\"/wiki/Min_Min\" title=\"Min Min\"><img class=\"mw-file-element\" decoding=\"async\" height=\"25\" src=\"//cdn.wikimg.net/en/armswiki/images/thumb/9/93/Icon-Min_Min.png/25px-Icon-Min_Min.png\" srcset=\"//cdn.wikimg.net/en/armswiki/images/thumb/9/93/Icon-Min_Min.png/38px-Icon-Min_Min.png 1.5x, //cdn.wikimg.net/en/armswiki/images/thumb/9/93/Icon-Min_Min.png/50px-Icon-Min_Min.png 2x\" width=\"25\"/></a></span>\n",
      "</td></tr>\n",
      "<tr>\n",
      "<td><a class=\"external text\" href=\"https://challonge.com/EUChallenge19\" rel=\"nofollow\">EU ARMS Challenge #19</a></td>\n",
      "<td>March 10, 2019</td>\n",
      "<td><a href=\"/wiki/Iceman92\" title=\"Iceman92\">Iceman92</a></td>\n",
      "<td><span typeof=\"mw:File\"><a href=\"/wiki/Min_Min\" title=\"Min Min\"><img class=\"mw-file-element\" decoding=\"async\" height=\"25\" src=\"//cdn.wikimg.net/en/armswiki/images/thumb/9/93/Icon-Min_Min.png/25px-Icon-Min_Min.png\" srcset=\"//cdn.wikimg.net/en/armswiki/images/thumb/9/93/Icon-Min_Min.png/38px-Icon-Min_Min.png 1.5x, //cdn.wikimg.net/en/armswiki/images/thumb/9/93/Icon-Min_Min.png/50px-Icon-Min_Min.png 2x\" width=\"25\"/></a></span>\n",
      "</td></tr>\n",
      "<tr>\n",
      "<td><a class=\"external text\" href=\"https://challonge.com/EUChallenge20\" rel=\"nofollow\">EU ARMS Challenge #20</a></td>\n",
      "<td>March 31, 2019</td>\n",
      "<td><a href=\"/wiki/Iceman92\" title=\"Iceman92\">Iceman92</a></td>\n",
      "<td><span typeof=\"mw:File\"><a href=\"/wiki/Min_Min\" title=\"Min Min\"><img class=\"mw-file-element\" decoding=\"async\" height=\"25\" src=\"//cdn.wikimg.net/en/armswiki/images/thumb/9/93/Icon-Min_Min.png/25px-Icon-Min_Min.png\" srcset=\"//cdn.wikimg.net/en/armswiki/images/thumb/9/93/Icon-Min_Min.png/38px-Icon-Min_Min.png 1.5x, //cdn.wikimg.net/en/armswiki/images/thumb/9/93/Icon-Min_Min.png/50px-Icon-Min_Min.png 2x\" width=\"25\"/></a></span>\n",
      "</td></tr>\n",
      "<tr>\n",
      "<td><a class=\"external text\" href=\"https://challonge.com/EUChallenge21\" rel=\"nofollow\">EU ARMS Challenge #21</a></td>\n",
      "<td>April 14, 2019</td>\n",
      "<td><a href=\"/wiki/Iceman92\" title=\"Iceman92\">Iceman92</a></td>\n",
      "<td><span typeof=\"mw:File\"><a href=\"/wiki/Min_Min\" title=\"Min Min\"><img class=\"mw-file-element\" decoding=\"async\" height=\"25\" src=\"//cdn.wikimg.net/en/armswiki/images/thumb/9/93/Icon-Min_Min.png/25px-Icon-Min_Min.png\" srcset=\"//cdn.wikimg.net/en/armswiki/images/thumb/9/93/Icon-Min_Min.png/38px-Icon-Min_Min.png 1.5x, //cdn.wikimg.net/en/armswiki/images/thumb/9/93/Icon-Min_Min.png/50px-Icon-Min_Min.png 2x\" width=\"25\"/></a></span>\n",
      "</td></tr>\n",
      "<tr>\n",
      "<td><a class=\"external text\" href=\"https://challonge.com/EUChallenge22\" rel=\"nofollow\">EU ARMS Challenge #22</a></td>\n",
      "<td>April 28, 2019</td>\n",
      "<td><a class=\"new\" href=\"/w/index.php?title=Y%C3%A4tta&amp;action=edit&amp;redlink=1\" title=\"Yätta (page does not exist)\">Yätta</a></td>\n",
      "<td><span typeof=\"mw:File\"><a href=\"/wiki/Ribbon_Girl\" title=\"Ribbon Girl\"><img class=\"mw-file-element\" decoding=\"async\" height=\"25\" src=\"//cdn.wikimg.net/en/armswiki/images/thumb/e/ed/Icon-Ribbon_Girl.png/25px-Icon-Ribbon_Girl.png\" srcset=\"//cdn.wikimg.net/en/armswiki/images/thumb/e/ed/Icon-Ribbon_Girl.png/38px-Icon-Ribbon_Girl.png 1.5x, //cdn.wikimg.net/en/armswiki/images/thumb/e/ed/Icon-Ribbon_Girl.png/50px-Icon-Ribbon_Girl.png 2x\" width=\"25\"/></a></span>\n",
      "</td></tr>\n",
      "<tr>\n",
      "<td><a class=\"external text\" href=\"https://challonge.com/EUChallenge23\" rel=\"nofollow\">EU ARMS Challenge #23</a></td>\n",
      "<td>May 12, 2019</td>\n",
      "<td><a href=\"/wiki/Ripha\" title=\"Ripha\">Ripha</a></td>\n",
      "<td><span typeof=\"mw:File\"><a href=\"/wiki/Ninjara\" title=\"Ninjara\"><img class=\"mw-file-element\" decoding=\"async\" height=\"25\" src=\"//cdn.wikimg.net/en/armswiki/images/thumb/0/0c/Icon-Ninjara.png/25px-Icon-Ninjara.png\" srcset=\"//cdn.wikimg.net/en/armswiki/images/thumb/0/0c/Icon-Ninjara.png/38px-Icon-Ninjara.png 1.5x, //cdn.wikimg.net/en/armswiki/images/thumb/0/0c/Icon-Ninjara.png/50px-Icon-Ninjara.png 2x\" width=\"25\"/></a></span> <span typeof=\"mw:File\"><a href=\"/wiki/Min_Min\" title=\"Min Min\"><img class=\"mw-file-element\" decoding=\"async\" height=\"25\" src=\"//cdn.wikimg.net/en/armswiki/images/thumb/9/93/Icon-Min_Min.png/25px-Icon-Min_Min.png\" srcset=\"//cdn.wikimg.net/en/armswiki/images/thumb/9/93/Icon-Min_Min.png/38px-Icon-Min_Min.png 1.5x, //cdn.wikimg.net/en/armswiki/images/thumb/9/93/Icon-Min_Min.png/50px-Icon-Min_Min.png 2x\" width=\"25\"/></a></span>\n",
      "</td></tr>\n",
      "<tr>\n",
      "<td><a class=\"external text\" href=\"https://challonge.com/EUChallenge24\" rel=\"nofollow\">EU ARMS Challenge #24</a></td>\n",
      "<td>May 26, 2019</td>\n",
      "<td><a href=\"/wiki/Ripha\" title=\"Ripha\">Ripha</a></td>\n",
      "<td><span typeof=\"mw:File\"><a href=\"/wiki/Helix\" title=\"Helix\"><img class=\"mw-file-element\" decoding=\"async\" height=\"25\" src=\"//cdn.wikimg.net/en/armswiki/images/thumb/c/c4/Icon-Helix.png/25px-Icon-Helix.png\" srcset=\"//cdn.wikimg.net/en/armswiki/images/thumb/c/c4/Icon-Helix.png/38px-Icon-Helix.png 1.5x, //cdn.wikimg.net/en/armswiki/images/thumb/c/c4/Icon-Helix.png/50px-Icon-Helix.png 2x\" width=\"25\"/></a></span> <span typeof=\"mw:File\"><a href=\"/wiki/Master_Mummy\" title=\"Master Mummy\"><img class=\"mw-file-element\" decoding=\"async\" height=\"25\" src=\"//cdn.wikimg.net/en/armswiki/images/thumb/5/58/Icon-Master_Mummy.png/25px-Icon-Master_Mummy.png\" srcset=\"//cdn.wikimg.net/en/armswiki/images/thumb/5/58/Icon-Master_Mummy.png/38px-Icon-Master_Mummy.png 1.5x, //cdn.wikimg.net/en/armswiki/images/thumb/5/58/Icon-Master_Mummy.png/50px-Icon-Master_Mummy.png 2x\" width=\"25\"/></a></span> <span typeof=\"mw:File\"><a href=\"/wiki/Byte_%26_Barq\" title=\"Byte &amp; Barq\"><img class=\"mw-file-element\" decoding=\"async\" height=\"25\" src=\"//cdn.wikimg.net/en/armswiki/images/thumb/5/52/Icon-Byte_%26_Barq.png/25px-Icon-Byte_%26_Barq.png\" srcset=\"//cdn.wikimg.net/en/armswiki/images/thumb/5/52/Icon-Byte_%26_Barq.png/38px-Icon-Byte_%26_Barq.png 1.5x, //cdn.wikimg.net/en/armswiki/images/thumb/5/52/Icon-Byte_%26_Barq.png/50px-Icon-Byte_%26_Barq.png 2x\" width=\"25\"/></a></span> <span typeof=\"mw:File\"><a href=\"/wiki/Ninjara\" title=\"Ninjara\"><img class=\"mw-file-element\" decoding=\"async\" height=\"25\" src=\"//cdn.wikimg.net/en/armswiki/images/thumb/0/0c/Icon-Ninjara.png/25px-Icon-Ninjara.png\" srcset=\"//cdn.wikimg.net/en/armswiki/images/thumb/0/0c/Icon-Ninjara.png/38px-Icon-Ninjara.png 1.5x, //cdn.wikimg.net/en/armswiki/images/thumb/0/0c/Icon-Ninjara.png/50px-Icon-Ninjara.png 2x\" width=\"25\"/></a></span>\n",
      "</td></tr>\n",
      "<tr>\n",
      "<td><a class=\"external text\" href=\"https://challonge.com/EUChallenge25\" rel=\"nofollow\">EU ARMS Challenge #25</a></td>\n",
      "<td>June 9, 2019</td>\n",
      "<td><a href=\"/wiki/Iceman92\" title=\"Iceman92\">Iceman92</a></td>\n",
      "<td><span typeof=\"mw:File\"><a href=\"/wiki/Min_Min\" title=\"Min Min\"><img class=\"mw-file-element\" decoding=\"async\" height=\"25\" src=\"//cdn.wikimg.net/en/armswiki/images/thumb/9/93/Icon-Min_Min.png/25px-Icon-Min_Min.png\" srcset=\"//cdn.wikimg.net/en/armswiki/images/thumb/9/93/Icon-Min_Min.png/38px-Icon-Min_Min.png 1.5x, //cdn.wikimg.net/en/armswiki/images/thumb/9/93/Icon-Min_Min.png/50px-Icon-Min_Min.png 2x\" width=\"25\"/></a></span> <span typeof=\"mw:File\"><a href=\"/wiki/Ribbon_Girl\" title=\"Ribbon Girl\"><img class=\"mw-file-element\" decoding=\"async\" height=\"25\" src=\"//cdn.wikimg.net/en/armswiki/images/thumb/e/ed/Icon-Ribbon_Girl.png/25px-Icon-Ribbon_Girl.png\" srcset=\"//cdn.wikimg.net/en/armswiki/images/thumb/e/ed/Icon-Ribbon_Girl.png/38px-Icon-Ribbon_Girl.png 1.5x, //cdn.wikimg.net/en/armswiki/images/thumb/e/ed/Icon-Ribbon_Girl.png/50px-Icon-Ribbon_Girl.png 2x\" width=\"25\"/></a></span>\n",
      "</td></tr>\n",
      "<tr>\n",
      "<td><a class=\"external text\" href=\"https://challonge.com/EUChallenge26\" rel=\"nofollow\">EU ARMS Challenge #26</a></td>\n",
      "<td>June 23, 2019</td>\n",
      "<td><a href=\"/wiki/Ripha\" title=\"Ripha\">Ripha</a></td>\n",
      "<td><span typeof=\"mw:File\"><a href=\"/wiki/Ninjara\" title=\"Ninjara\"><img class=\"mw-file-element\" decoding=\"async\" height=\"25\" src=\"//cdn.wikimg.net/en/armswiki/images/thumb/0/0c/Icon-Ninjara.png/25px-Icon-Ninjara.png\" srcset=\"//cdn.wikimg.net/en/armswiki/images/thumb/0/0c/Icon-Ninjara.png/38px-Icon-Ninjara.png 1.5x, //cdn.wikimg.net/en/armswiki/images/thumb/0/0c/Icon-Ninjara.png/50px-Icon-Ninjara.png 2x\" width=\"25\"/></a></span>\n",
      "</td></tr>\n",
      "<tr>\n",
      "<td><a class=\"external text\" href=\"https://challonge.com/EUChallenge27\" rel=\"nofollow\">EU ARMS Challenge #27</a></td>\n",
      "<td>July 7, 2019</td>\n",
      "<td><a class=\"new\" href=\"/w/index.php?title=Y%C3%A4tta&amp;action=edit&amp;redlink=1\" title=\"Yätta (page does not exist)\">Yätta</a></td>\n",
      "<td><span typeof=\"mw:File\"><a href=\"/wiki/Ribbon_Girl\" title=\"Ribbon Girl\"><img class=\"mw-file-element\" decoding=\"async\" height=\"25\" src=\"//cdn.wikimg.net/en/armswiki/images/thumb/e/ed/Icon-Ribbon_Girl.png/25px-Icon-Ribbon_Girl.png\" srcset=\"//cdn.wikimg.net/en/armswiki/images/thumb/e/ed/Icon-Ribbon_Girl.png/38px-Icon-Ribbon_Girl.png 1.5x, //cdn.wikimg.net/en/armswiki/images/thumb/e/ed/Icon-Ribbon_Girl.png/50px-Icon-Ribbon_Girl.png 2x\" width=\"25\"/></a></span> <span typeof=\"mw:File\"><a href=\"/wiki/Byte_%26_Barq\" title=\"Byte &amp; Barq\"><img class=\"mw-file-element\" decoding=\"async\" height=\"25\" src=\"//cdn.wikimg.net/en/armswiki/images/thumb/5/52/Icon-Byte_%26_Barq.png/25px-Icon-Byte_%26_Barq.png\" srcset=\"//cdn.wikimg.net/en/armswiki/images/thumb/5/52/Icon-Byte_%26_Barq.png/38px-Icon-Byte_%26_Barq.png 1.5x, //cdn.wikimg.net/en/armswiki/images/thumb/5/52/Icon-Byte_%26_Barq.png/50px-Icon-Byte_%26_Barq.png 2x\" width=\"25\"/></a></span> <span typeof=\"mw:File\"><a href=\"/wiki/Twintelle\" title=\"Twintelle\"><img class=\"mw-file-element\" decoding=\"async\" height=\"25\" src=\"//cdn.wikimg.net/en/armswiki/images/thumb/a/a1/Icon-Twintelle.png/25px-Icon-Twintelle.png\" srcset=\"//cdn.wikimg.net/en/armswiki/images/thumb/a/a1/Icon-Twintelle.png/38px-Icon-Twintelle.png 1.5x, //cdn.wikimg.net/en/armswiki/images/thumb/a/a1/Icon-Twintelle.png/50px-Icon-Twintelle.png 2x\" width=\"25\"/></a></span>\n",
      "</td></tr>\n",
      "<tr>\n",
      "<td><a class=\"external text\" href=\"https://challonge.com/EUChallenge28\" rel=\"nofollow\">EU ARMS Challenge #28</a></td>\n",
      "<td>July 21, 2019</td>\n",
      "<td><a href=\"/wiki/Ripha\" title=\"Ripha\">Ripha</a></td>\n",
      "<td><span typeof=\"mw:File\"><a href=\"/wiki/Ninjara\" title=\"Ninjara\"><img class=\"mw-file-element\" decoding=\"async\" height=\"25\" src=\"//cdn.wikimg.net/en/armswiki/images/thumb/0/0c/Icon-Ninjara.png/25px-Icon-Ninjara.png\" srcset=\"//cdn.wikimg.net/en/armswiki/images/thumb/0/0c/Icon-Ninjara.png/38px-Icon-Ninjara.png 1.5x, //cdn.wikimg.net/en/armswiki/images/thumb/0/0c/Icon-Ninjara.png/50px-Icon-Ninjara.png 2x\" width=\"25\"/></a></span>\n",
      "</td></tr>\n",
      "<tr>\n",
      "<td><a class=\"external text\" href=\"https://challonge.com/EUChallenge29\" rel=\"nofollow\">EU ARMS Challenge #29</a></td>\n",
      "<td>August 4, 2019</td>\n",
      "<td><a class=\"new\" href=\"/w/index.php?title=Y%C3%A4tta&amp;action=edit&amp;redlink=1\" title=\"Yätta (page does not exist)\">Yätta</a></td>\n",
      "<td><span typeof=\"mw:File\"><a href=\"/wiki/Ribbon_Girl\" title=\"Ribbon Girl\"><img class=\"mw-file-element\" decoding=\"async\" height=\"25\" src=\"//cdn.wikimg.net/en/armswiki/images/thumb/e/ed/Icon-Ribbon_Girl.png/25px-Icon-Ribbon_Girl.png\" srcset=\"//cdn.wikimg.net/en/armswiki/images/thumb/e/ed/Icon-Ribbon_Girl.png/38px-Icon-Ribbon_Girl.png 1.5x, //cdn.wikimg.net/en/armswiki/images/thumb/e/ed/Icon-Ribbon_Girl.png/50px-Icon-Ribbon_Girl.png 2x\" width=\"25\"/></a></span> <span typeof=\"mw:File\"><a href=\"/wiki/Byte_%26_Barq\" title=\"Byte &amp; Barq\"><img class=\"mw-file-element\" decoding=\"async\" height=\"25\" src=\"//cdn.wikimg.net/en/armswiki/images/thumb/5/52/Icon-Byte_%26_Barq.png/25px-Icon-Byte_%26_Barq.png\" srcset=\"//cdn.wikimg.net/en/armswiki/images/thumb/5/52/Icon-Byte_%26_Barq.png/38px-Icon-Byte_%26_Barq.png 1.5x, //cdn.wikimg.net/en/armswiki/images/thumb/5/52/Icon-Byte_%26_Barq.png/50px-Icon-Byte_%26_Barq.png 2x\" width=\"25\"/></a></span> <span typeof=\"mw:File\"><a href=\"/wiki/Twintelle\" title=\"Twintelle\"><img class=\"mw-file-element\" decoding=\"async\" height=\"25\" src=\"//cdn.wikimg.net/en/armswiki/images/thumb/a/a1/Icon-Twintelle.png/25px-Icon-Twintelle.png\" srcset=\"//cdn.wikimg.net/en/armswiki/images/thumb/a/a1/Icon-Twintelle.png/38px-Icon-Twintelle.png 1.5x, //cdn.wikimg.net/en/armswiki/images/thumb/a/a1/Icon-Twintelle.png/50px-Icon-Twintelle.png 2x\" width=\"25\"/></a></span>\n",
      "</td></tr>\n",
      "<tr>\n",
      "<td><a class=\"external text\" href=\"https://challonge.com/EUChallenge30\" rel=\"nofollow\">EU ARMS Challenge #30</a></td>\n",
      "<td>August 18, 2019</td>\n",
      "<td><a href=\"/wiki/Ripha\" title=\"Ripha\">Ripha</a></td>\n",
      "<td><span typeof=\"mw:File\"><a href=\"/wiki/Ninjara\" title=\"Ninjara\"><img class=\"mw-file-element\" decoding=\"async\" height=\"25\" src=\"//cdn.wikimg.net/en/armswiki/images/thumb/0/0c/Icon-Ninjara.png/25px-Icon-Ninjara.png\" srcset=\"//cdn.wikimg.net/en/armswiki/images/thumb/0/0c/Icon-Ninjara.png/38px-Icon-Ninjara.png 1.5x, //cdn.wikimg.net/en/armswiki/images/thumb/0/0c/Icon-Ninjara.png/50px-Icon-Ninjara.png 2x\" width=\"25\"/></a></span> <span typeof=\"mw:File\"><a href=\"/wiki/Min_Min\" title=\"Min Min\"><img class=\"mw-file-element\" decoding=\"async\" height=\"25\" src=\"//cdn.wikimg.net/en/armswiki/images/thumb/9/93/Icon-Min_Min.png/25px-Icon-Min_Min.png\" srcset=\"//cdn.wikimg.net/en/armswiki/images/thumb/9/93/Icon-Min_Min.png/38px-Icon-Min_Min.png 1.5x, //cdn.wikimg.net/en/armswiki/images/thumb/9/93/Icon-Min_Min.png/50px-Icon-Min_Min.png 2x\" width=\"25\"/></a></span> <span typeof=\"mw:File\"><a href=\"/wiki/Mechanica\" title=\"Mechanica\"><img class=\"mw-file-element\" decoding=\"async\" height=\"25\" src=\"//cdn.wikimg.net/en/armswiki/images/thumb/e/ea/Icon-Mechanica.png/25px-Icon-Mechanica.png\" srcset=\"//cdn.wikimg.net/en/armswiki/images/thumb/e/ea/Icon-Mechanica.png/38px-Icon-Mechanica.png 1.5x, //cdn.wikimg.net/en/armswiki/images/thumb/e/ea/Icon-Mechanica.png/50px-Icon-Mechanica.png 2x\" width=\"25\"/></a></span> <span typeof=\"mw:File\"><a href=\"/wiki/Misango\" title=\"Misango\"><img class=\"mw-file-element\" decoding=\"async\" height=\"25\" src=\"//cdn.wikimg.net/en/armswiki/images/thumb/2/25/Icon-Misango.png/25px-Icon-Misango.png\" srcset=\"//cdn.wikimg.net/en/armswiki/images/thumb/2/25/Icon-Misango.png/38px-Icon-Misango.png 1.5x, //cdn.wikimg.net/en/armswiki/images/thumb/2/25/Icon-Misango.png/50px-Icon-Misango.png 2x\" width=\"25\"/></a></span> <span typeof=\"mw:File\"><a href=\"/wiki/Lola_Pop\" title=\"Lola Pop\"><img class=\"mw-file-element\" decoding=\"async\" height=\"25\" src=\"//cdn.wikimg.net/en/armswiki/images/thumb/e/e5/Icon-Lola_Pop.png/25px-Icon-Lola_Pop.png\" srcset=\"//cdn.wikimg.net/en/armswiki/images/thumb/e/e5/Icon-Lola_Pop.png/38px-Icon-Lola_Pop.png 1.5x, //cdn.wikimg.net/en/armswiki/images/thumb/e/e5/Icon-Lola_Pop.png/50px-Icon-Lola_Pop.png 2x\" width=\"25\"/></a></span>\n",
      "</td></tr>\n",
      "<tr>\n",
      "<td><a class=\"external text\" href=\"https://challonge.com/EUAC31\" rel=\"nofollow\">EU ARMS Challenge #31</a></td>\n",
      "<td>September 1, 2019</td>\n",
      "<td><a href=\"/wiki/Iceman92\" title=\"Iceman92\">Iceman92</a></td>\n",
      "<td><span typeof=\"mw:File\"><a href=\"/wiki/Min_Min\" title=\"Min Min\"><img class=\"mw-file-element\" decoding=\"async\" height=\"25\" src=\"//cdn.wikimg.net/en/armswiki/images/thumb/9/93/Icon-Min_Min.png/25px-Icon-Min_Min.png\" srcset=\"//cdn.wikimg.net/en/armswiki/images/thumb/9/93/Icon-Min_Min.png/38px-Icon-Min_Min.png 1.5x, //cdn.wikimg.net/en/armswiki/images/thumb/9/93/Icon-Min_Min.png/50px-Icon-Min_Min.png 2x\" width=\"25\"/></a></span> <span typeof=\"mw:File\"><a href=\"/wiki/Max_Brass\" title=\"Max Brass\"><img class=\"mw-file-element\" decoding=\"async\" height=\"25\" src=\"//cdn.wikimg.net/en/armswiki/images/thumb/4/45/Icon-Max_Brass.png/25px-Icon-Max_Brass.png\" srcset=\"//cdn.wikimg.net/en/armswiki/images/thumb/4/45/Icon-Max_Brass.png/38px-Icon-Max_Brass.png 1.5x, //cdn.wikimg.net/en/armswiki/images/thumb/4/45/Icon-Max_Brass.png/50px-Icon-Max_Brass.png 2x\" width=\"25\"/></a></span> <span typeof=\"mw:File\"><a href=\"/wiki/Ribbon_Girl\" title=\"Ribbon Girl\"><img class=\"mw-file-element\" decoding=\"async\" height=\"25\" src=\"//cdn.wikimg.net/en/armswiki/images/thumb/e/ed/Icon-Ribbon_Girl.png/25px-Icon-Ribbon_Girl.png\" srcset=\"//cdn.wikimg.net/en/armswiki/images/thumb/e/ed/Icon-Ribbon_Girl.png/38px-Icon-Ribbon_Girl.png 1.5x, //cdn.wikimg.net/en/armswiki/images/thumb/e/ed/Icon-Ribbon_Girl.png/50px-Icon-Ribbon_Girl.png 2x\" width=\"25\"/></a></span> <span typeof=\"mw:File\"><a href=\"/wiki/Dr._Coyle\" title=\"Dr. Coyle\"><img class=\"mw-file-element\" decoding=\"async\" height=\"25\" src=\"//cdn.wikimg.net/en/armswiki/images/thumb/5/53/Icon-Dr._Coyle.png/25px-Icon-Dr._Coyle.png\" srcset=\"//cdn.wikimg.net/en/armswiki/images/thumb/5/53/Icon-Dr._Coyle.png/38px-Icon-Dr._Coyle.png 1.5x, //cdn.wikimg.net/en/armswiki/images/thumb/5/53/Icon-Dr._Coyle.png/50px-Icon-Dr._Coyle.png 2x\" width=\"25\"/></a></span> <span typeof=\"mw:File\"><a href=\"/wiki/Twintelle\" title=\"Twintelle\"><img class=\"mw-file-element\" decoding=\"async\" height=\"25\" src=\"//cdn.wikimg.net/en/armswiki/images/thumb/a/a1/Icon-Twintelle.png/25px-Icon-Twintelle.png\" srcset=\"//cdn.wikimg.net/en/armswiki/images/thumb/a/a1/Icon-Twintelle.png/38px-Icon-Twintelle.png 1.5x, //cdn.wikimg.net/en/armswiki/images/thumb/a/a1/Icon-Twintelle.png/50px-Icon-Twintelle.png 2x\" width=\"25\"/></a></span>\n",
      "</td></tr>\n",
      "<tr>\n",
      "<td><a class=\"external text\" href=\"https://challonge.com/EUChallenge32\" rel=\"nofollow\">EU ARMS Challenge #32</a></td>\n",
      "<td>September 15, 2019</td>\n",
      "<td><a href=\"/wiki/Grimwood\" title=\"Grimwood\">Grimwood</a></td>\n",
      "<td><span typeof=\"mw:File\"><a href=\"/wiki/Max_Brass\" title=\"Max Brass\"><img class=\"mw-file-element\" decoding=\"async\" height=\"25\" src=\"//cdn.wikimg.net/en/armswiki/images/thumb/4/45/Icon-Max_Brass.png/25px-Icon-Max_Brass.png\" srcset=\"//cdn.wikimg.net/en/armswiki/images/thumb/4/45/Icon-Max_Brass.png/38px-Icon-Max_Brass.png 1.5x, //cdn.wikimg.net/en/armswiki/images/thumb/4/45/Icon-Max_Brass.png/50px-Icon-Max_Brass.png 2x\" width=\"25\"/></a></span> <span typeof=\"mw:File\"><a href=\"/wiki/Kid_Cobra\" title=\"Kid Cobra\"><img class=\"mw-file-element\" decoding=\"async\" height=\"25\" src=\"//cdn.wikimg.net/en/armswiki/images/thumb/b/b7/Icon-Kid_Cobra.png/25px-Icon-Kid_Cobra.png\" srcset=\"//cdn.wikimg.net/en/armswiki/images/thumb/b/b7/Icon-Kid_Cobra.png/38px-Icon-Kid_Cobra.png 1.5x, //cdn.wikimg.net/en/armswiki/images/thumb/b/b7/Icon-Kid_Cobra.png/50px-Icon-Kid_Cobra.png 2x\" width=\"25\"/></a></span> <span typeof=\"mw:File\"><a href=\"/wiki/Mechanica\" title=\"Mechanica\"><img class=\"mw-file-element\" decoding=\"async\" height=\"25\" src=\"//cdn.wikimg.net/en/armswiki/images/thumb/e/ea/Icon-Mechanica.png/25px-Icon-Mechanica.png\" srcset=\"//cdn.wikimg.net/en/armswiki/images/thumb/e/ea/Icon-Mechanica.png/38px-Icon-Mechanica.png 1.5x, //cdn.wikimg.net/en/armswiki/images/thumb/e/ea/Icon-Mechanica.png/50px-Icon-Mechanica.png 2x\" width=\"25\"/></a></span> <span typeof=\"mw:File\"><a href=\"/wiki/Springtron\" title=\"Springtron\"><img class=\"mw-file-element\" decoding=\"async\" height=\"25\" src=\"//cdn.wikimg.net/en/armswiki/images/thumb/2/27/Icon-Springtron.png/25px-Icon-Springtron.png\" srcset=\"//cdn.wikimg.net/en/armswiki/images/thumb/2/27/Icon-Springtron.png/38px-Icon-Springtron.png 1.5x, //cdn.wikimg.net/en/armswiki/images/thumb/2/27/Icon-Springtron.png/50px-Icon-Springtron.png 2x\" width=\"25\"/></a></span> <span typeof=\"mw:File\"><a href=\"/wiki/Ninjara\" title=\"Ninjara\"><img class=\"mw-file-element\" decoding=\"async\" height=\"25\" src=\"//cdn.wikimg.net/en/armswiki/images/thumb/0/0c/Icon-Ninjara.png/25px-Icon-Ninjara.png\" srcset=\"//cdn.wikimg.net/en/armswiki/images/thumb/0/0c/Icon-Ninjara.png/38px-Icon-Ninjara.png 1.5x, //cdn.wikimg.net/en/armswiki/images/thumb/0/0c/Icon-Ninjara.png/50px-Icon-Ninjara.png 2x\" width=\"25\"/></a></span>\n",
      "</td></tr>\n",
      "<tr>\n",
      "<td><a class=\"external text\" href=\"https://challonge.com/EUAC33\" rel=\"nofollow\">EU ARMS Challenge #33</a></td>\n",
      "<td>September 29, 2019</td>\n",
      "<td><a class=\"new\" href=\"/w/index.php?title=Y%C3%A4tta&amp;action=edit&amp;redlink=1\" title=\"Yätta (page does not exist)\">Yätta</a></td>\n",
      "<td><span typeof=\"mw:File\"><a href=\"/wiki/Ribbon_Girl\" title=\"Ribbon Girl\"><img class=\"mw-file-element\" decoding=\"async\" height=\"25\" src=\"//cdn.wikimg.net/en/armswiki/images/thumb/e/ed/Icon-Ribbon_Girl.png/25px-Icon-Ribbon_Girl.png\" srcset=\"//cdn.wikimg.net/en/armswiki/images/thumb/e/ed/Icon-Ribbon_Girl.png/38px-Icon-Ribbon_Girl.png 1.5x, //cdn.wikimg.net/en/armswiki/images/thumb/e/ed/Icon-Ribbon_Girl.png/50px-Icon-Ribbon_Girl.png 2x\" width=\"25\"/></a></span> <span typeof=\"mw:File\"><a href=\"/wiki/Byte_%26_Barq\" title=\"Byte &amp; Barq\"><img class=\"mw-file-element\" decoding=\"async\" height=\"25\" src=\"//cdn.wikimg.net/en/armswiki/images/thumb/5/52/Icon-Byte_%26_Barq.png/25px-Icon-Byte_%26_Barq.png\" srcset=\"//cdn.wikimg.net/en/armswiki/images/thumb/5/52/Icon-Byte_%26_Barq.png/38px-Icon-Byte_%26_Barq.png 1.5x, //cdn.wikimg.net/en/armswiki/images/thumb/5/52/Icon-Byte_%26_Barq.png/50px-Icon-Byte_%26_Barq.png 2x\" width=\"25\"/></a></span> <span typeof=\"mw:File\"><a href=\"/wiki/Kid_Cobra\" title=\"Kid Cobra\"><img class=\"mw-file-element\" decoding=\"async\" height=\"25\" src=\"//cdn.wikimg.net/en/armswiki/images/thumb/b/b7/Icon-Kid_Cobra.png/25px-Icon-Kid_Cobra.png\" srcset=\"//cdn.wikimg.net/en/armswiki/images/thumb/b/b7/Icon-Kid_Cobra.png/38px-Icon-Kid_Cobra.png 1.5x, //cdn.wikimg.net/en/armswiki/images/thumb/b/b7/Icon-Kid_Cobra.png/50px-Icon-Kid_Cobra.png 2x\" width=\"25\"/></a></span> <span typeof=\"mw:File\"><a href=\"/wiki/Max_Brass\" title=\"Max Brass\"><img class=\"mw-file-element\" decoding=\"async\" height=\"25\" src=\"//cdn.wikimg.net/en/armswiki/images/thumb/4/45/Icon-Max_Brass.png/25px-Icon-Max_Brass.png\" srcset=\"//cdn.wikimg.net/en/armswiki/images/thumb/4/45/Icon-Max_Brass.png/38px-Icon-Max_Brass.png 1.5x, //cdn.wikimg.net/en/armswiki/images/thumb/4/45/Icon-Max_Brass.png/50px-Icon-Max_Brass.png 2x\" width=\"25\"/></a></span> <span typeof=\"mw:File\"><a href=\"/wiki/Spring_Man\" title=\"Spring Man\"><img class=\"mw-file-element\" decoding=\"async\" height=\"25\" src=\"//cdn.wikimg.net/en/armswiki/images/thumb/b/b6/Icon-Spring_Man.png/25px-Icon-Spring_Man.png\" srcset=\"//cdn.wikimg.net/en/armswiki/images/thumb/b/b6/Icon-Spring_Man.png/38px-Icon-Spring_Man.png 1.5x, //cdn.wikimg.net/en/armswiki/images/thumb/b/b6/Icon-Spring_Man.png/50px-Icon-Spring_Man.png 2x\" width=\"25\"/></a></span> <span typeof=\"mw:File\"><a href=\"/wiki/Min_Min\" title=\"Min Min\"><img class=\"mw-file-element\" decoding=\"async\" height=\"25\" src=\"//cdn.wikimg.net/en/armswiki/images/thumb/9/93/Icon-Min_Min.png/25px-Icon-Min_Min.png\" srcset=\"//cdn.wikimg.net/en/armswiki/images/thumb/9/93/Icon-Min_Min.png/38px-Icon-Min_Min.png 1.5x, //cdn.wikimg.net/en/armswiki/images/thumb/9/93/Icon-Min_Min.png/50px-Icon-Min_Min.png 2x\" width=\"25\"/></a></span> <span typeof=\"mw:File\"><a href=\"/wiki/Twintelle\" title=\"Twintelle\"><img class=\"mw-file-element\" decoding=\"async\" height=\"25\" src=\"//cdn.wikimg.net/en/armswiki/images/thumb/a/a1/Icon-Twintelle.png/25px-Icon-Twintelle.png\" srcset=\"//cdn.wikimg.net/en/armswiki/images/thumb/a/a1/Icon-Twintelle.png/38px-Icon-Twintelle.png 1.5x, //cdn.wikimg.net/en/armswiki/images/thumb/a/a1/Icon-Twintelle.png/50px-Icon-Twintelle.png 2x\" width=\"25\"/></a></span>\n",
      "</td></tr>\n",
      "<tr>\n",
      "<td><a class=\"external text\" href=\"https://challonge.com/EUAC34\" rel=\"nofollow\">EU ARMS Challenge #34</a></td>\n",
      "<td>October 13, 2019</td>\n",
      "<td><a href=\"/wiki/Ripha\" title=\"Ripha\">Ripha</a></td>\n",
      "<td><span typeof=\"mw:File\"><a href=\"/wiki/Ninjara\" title=\"Ninjara\"><img class=\"mw-file-element\" decoding=\"async\" height=\"25\" src=\"//cdn.wikimg.net/en/armswiki/images/thumb/0/0c/Icon-Ninjara.png/25px-Icon-Ninjara.png\" srcset=\"//cdn.wikimg.net/en/armswiki/images/thumb/0/0c/Icon-Ninjara.png/38px-Icon-Ninjara.png 1.5x, //cdn.wikimg.net/en/armswiki/images/thumb/0/0c/Icon-Ninjara.png/50px-Icon-Ninjara.png 2x\" width=\"25\"/></a></span>\n",
      "</td></tr>\n",
      "<tr>\n",
      "<td><a class=\"external text\" href=\"https://challonge.com/EUAC35\" rel=\"nofollow\">EU ARMS Challenge #35</a></td>\n",
      "<td>October 27, 2019</td>\n",
      "<td><a class=\"new\" href=\"/w/index.php?title=Replicant&amp;action=edit&amp;redlink=1\" title=\"Replicant (page does not exist)\">Replicant</a></td>\n",
      "<td><span typeof=\"mw:File\"><a href=\"/wiki/Lola_Pop\" title=\"Lola Pop\"><img class=\"mw-file-element\" decoding=\"async\" height=\"25\" src=\"//cdn.wikimg.net/en/armswiki/images/thumb/e/e5/Icon-Lola_Pop.png/25px-Icon-Lola_Pop.png\" srcset=\"//cdn.wikimg.net/en/armswiki/images/thumb/e/e5/Icon-Lola_Pop.png/38px-Icon-Lola_Pop.png 1.5x, //cdn.wikimg.net/en/armswiki/images/thumb/e/e5/Icon-Lola_Pop.png/50px-Icon-Lola_Pop.png 2x\" width=\"25\"/></a></span> <span typeof=\"mw:File\"><a href=\"/wiki/Min_Min\" title=\"Min Min\"><img class=\"mw-file-element\" decoding=\"async\" height=\"25\" src=\"//cdn.wikimg.net/en/armswiki/images/thumb/9/93/Icon-Min_Min.png/25px-Icon-Min_Min.png\" srcset=\"//cdn.wikimg.net/en/armswiki/images/thumb/9/93/Icon-Min_Min.png/38px-Icon-Min_Min.png 1.5x, //cdn.wikimg.net/en/armswiki/images/thumb/9/93/Icon-Min_Min.png/50px-Icon-Min_Min.png 2x\" width=\"25\"/></a></span>\n",
      "</td></tr>\n",
      "<tr>\n",
      "<td><a class=\"external text\" href=\"https://challonge.com/EUAC36\" rel=\"nofollow\">EU ARMS Challenge #36</a></td>\n",
      "<td>November 10, 2019</td>\n",
      "<td><a href=\"/wiki/Iceman92\" title=\"Iceman92\">Iceman92</a></td>\n",
      "<td><span typeof=\"mw:File\"><a href=\"/wiki/Min_Min\" title=\"Min Min\"><img class=\"mw-file-element\" decoding=\"async\" height=\"25\" src=\"//cdn.wikimg.net/en/armswiki/images/thumb/9/93/Icon-Min_Min.png/25px-Icon-Min_Min.png\" srcset=\"//cdn.wikimg.net/en/armswiki/images/thumb/9/93/Icon-Min_Min.png/38px-Icon-Min_Min.png 1.5x, //cdn.wikimg.net/en/armswiki/images/thumb/9/93/Icon-Min_Min.png/50px-Icon-Min_Min.png 2x\" width=\"25\"/></a></span>\n",
      "</td></tr>\n",
      "<tr>\n",
      "<td><a class=\"external text\" href=\"https://challonge.com/EUAC37\" rel=\"nofollow\">EU ARMS Challenge #37</a></td>\n",
      "<td>November 24, 2019</td>\n",
      "<td><a href=\"/wiki/Iceman92\" title=\"Iceman92\">Iceman92</a></td>\n",
      "<td><span typeof=\"mw:File\"><a href=\"/wiki/Min_Min\" title=\"Min Min\"><img class=\"mw-file-element\" decoding=\"async\" height=\"25\" src=\"//cdn.wikimg.net/en/armswiki/images/thumb/9/93/Icon-Min_Min.png/25px-Icon-Min_Min.png\" srcset=\"//cdn.wikimg.net/en/armswiki/images/thumb/9/93/Icon-Min_Min.png/38px-Icon-Min_Min.png 1.5x, //cdn.wikimg.net/en/armswiki/images/thumb/9/93/Icon-Min_Min.png/50px-Icon-Min_Min.png 2x\" width=\"25\"/></a></span> <span typeof=\"mw:File\"><a href=\"/wiki/Ribbon_Girl\" title=\"Ribbon Girl\"><img class=\"mw-file-element\" decoding=\"async\" height=\"25\" src=\"//cdn.wikimg.net/en/armswiki/images/thumb/e/ed/Icon-Ribbon_Girl.png/25px-Icon-Ribbon_Girl.png\" srcset=\"//cdn.wikimg.net/en/armswiki/images/thumb/e/ed/Icon-Ribbon_Girl.png/38px-Icon-Ribbon_Girl.png 1.5x, //cdn.wikimg.net/en/armswiki/images/thumb/e/ed/Icon-Ribbon_Girl.png/50px-Icon-Ribbon_Girl.png 2x\" width=\"25\"/></a></span> <span typeof=\"mw:File\"><a href=\"/wiki/Misango\" title=\"Misango\"><img class=\"mw-file-element\" decoding=\"async\" height=\"25\" src=\"//cdn.wikimg.net/en/armswiki/images/thumb/2/25/Icon-Misango.png/25px-Icon-Misango.png\" srcset=\"//cdn.wikimg.net/en/armswiki/images/thumb/2/25/Icon-Misango.png/38px-Icon-Misango.png 1.5x, //cdn.wikimg.net/en/armswiki/images/thumb/2/25/Icon-Misango.png/50px-Icon-Misango.png 2x\" width=\"25\"/></a></span> <span typeof=\"mw:File\"><a href=\"/wiki/Byte_%26_Barq\" title=\"Byte &amp; Barq\"><img class=\"mw-file-element\" decoding=\"async\" height=\"25\" src=\"//cdn.wikimg.net/en/armswiki/images/thumb/5/52/Icon-Byte_%26_Barq.png/25px-Icon-Byte_%26_Barq.png\" srcset=\"//cdn.wikimg.net/en/armswiki/images/thumb/5/52/Icon-Byte_%26_Barq.png/38px-Icon-Byte_%26_Barq.png 1.5x, //cdn.wikimg.net/en/armswiki/images/thumb/5/52/Icon-Byte_%26_Barq.png/50px-Icon-Byte_%26_Barq.png 2x\" width=\"25\"/></a></span>\n",
      "</td></tr>\n",
      "<tr>\n",
      "<td><a class=\"external text\" href=\"https://challonge.com/EUAC38\" rel=\"nofollow\">EU ARMS Challenge #38</a></td>\n",
      "<td>December 8, 2019</td>\n",
      "<td><a class=\"new\" href=\"/w/index.php?title=Replicant&amp;action=edit&amp;redlink=1\" title=\"Replicant (page does not exist)\">Replicant</a></td>\n",
      "<td><span typeof=\"mw:File\"><a href=\"/wiki/Lola_Pop\" title=\"Lola Pop\"><img class=\"mw-file-element\" decoding=\"async\" height=\"25\" src=\"//cdn.wikimg.net/en/armswiki/images/thumb/e/e5/Icon-Lola_Pop.png/25px-Icon-Lola_Pop.png\" srcset=\"//cdn.wikimg.net/en/armswiki/images/thumb/e/e5/Icon-Lola_Pop.png/38px-Icon-Lola_Pop.png 1.5x, //cdn.wikimg.net/en/armswiki/images/thumb/e/e5/Icon-Lola_Pop.png/50px-Icon-Lola_Pop.png 2x\" width=\"25\"/></a></span> <span typeof=\"mw:File\"><a href=\"/wiki/Min_Min\" title=\"Min Min\"><img class=\"mw-file-element\" decoding=\"async\" height=\"25\" src=\"//cdn.wikimg.net/en/armswiki/images/thumb/9/93/Icon-Min_Min.png/25px-Icon-Min_Min.png\" srcset=\"//cdn.wikimg.net/en/armswiki/images/thumb/9/93/Icon-Min_Min.png/38px-Icon-Min_Min.png 1.5x, //cdn.wikimg.net/en/armswiki/images/thumb/9/93/Icon-Min_Min.png/50px-Icon-Min_Min.png 2x\" width=\"25\"/></a></span>\n",
      "</td></tr>\n",
      "<tr>\n",
      "<td><a class=\"external text\" href=\"https://challonge.com/EUAC39\" rel=\"nofollow\">EU ARMS Challenge #39</a></td>\n",
      "<td>December 15, 2019</td>\n",
      "<td>Shedy</td>\n",
      "<td><span typeof=\"mw:File\"><a href=\"/wiki/Ribbon_Girl\" title=\"Ribbon Girl\"><img class=\"mw-file-element\" decoding=\"async\" height=\"25\" src=\"//cdn.wikimg.net/en/armswiki/images/thumb/e/ed/Icon-Ribbon_Girl.png/25px-Icon-Ribbon_Girl.png\" srcset=\"//cdn.wikimg.net/en/armswiki/images/thumb/e/ed/Icon-Ribbon_Girl.png/38px-Icon-Ribbon_Girl.png 1.5x, //cdn.wikimg.net/en/armswiki/images/thumb/e/ed/Icon-Ribbon_Girl.png/50px-Icon-Ribbon_Girl.png 2x\" width=\"25\"/></a></span>\n",
      "</td></tr>\n",
      "<tr>\n",
      "<td><a class=\"external text\" href=\"https://challonge.com/EUAC40\" rel=\"nofollow\">EU ARMS Challenge #40</a></td>\n",
      "<td>January 26, 2020</td>\n",
      "<td><a href=\"/wiki/Ripha\" title=\"Ripha\">Ripha</a></td>\n",
      "<td><span typeof=\"mw:File\"><a href=\"/wiki/Ninjara\" title=\"Ninjara\"><img class=\"mw-file-element\" decoding=\"async\" height=\"25\" src=\"//cdn.wikimg.net/en/armswiki/images/thumb/0/0c/Icon-Ninjara.png/25px-Icon-Ninjara.png\" srcset=\"//cdn.wikimg.net/en/armswiki/images/thumb/0/0c/Icon-Ninjara.png/38px-Icon-Ninjara.png 1.5x, //cdn.wikimg.net/en/armswiki/images/thumb/0/0c/Icon-Ninjara.png/50px-Icon-Ninjara.png 2x\" width=\"25\"/></a></span> <span typeof=\"mw:File\"><a href=\"/wiki/Misango\" title=\"Misango\"><img class=\"mw-file-element\" decoding=\"async\" height=\"25\" src=\"//cdn.wikimg.net/en/armswiki/images/thumb/2/25/Icon-Misango.png/25px-Icon-Misango.png\" srcset=\"//cdn.wikimg.net/en/armswiki/images/thumb/2/25/Icon-Misango.png/38px-Icon-Misango.png 1.5x, //cdn.wikimg.net/en/armswiki/images/thumb/2/25/Icon-Misango.png/50px-Icon-Misango.png 2x\" width=\"25\"/></a></span> <span typeof=\"mw:File\"><a href=\"/wiki/Lola_Pop\" title=\"Lola Pop\"><img class=\"mw-file-element\" decoding=\"async\" height=\"25\" src=\"//cdn.wikimg.net/en/armswiki/images/thumb/e/e5/Icon-Lola_Pop.png/25px-Icon-Lola_Pop.png\" srcset=\"//cdn.wikimg.net/en/armswiki/images/thumb/e/e5/Icon-Lola_Pop.png/38px-Icon-Lola_Pop.png 1.5x, //cdn.wikimg.net/en/armswiki/images/thumb/e/e5/Icon-Lola_Pop.png/50px-Icon-Lola_Pop.png 2x\" width=\"25\"/></a></span> <span typeof=\"mw:File\"><a href=\"/wiki/Mechanica\" title=\"Mechanica\"><img class=\"mw-file-element\" decoding=\"async\" height=\"25\" src=\"//cdn.wikimg.net/en/armswiki/images/thumb/e/ea/Icon-Mechanica.png/25px-Icon-Mechanica.png\" srcset=\"//cdn.wikimg.net/en/armswiki/images/thumb/e/ea/Icon-Mechanica.png/38px-Icon-Mechanica.png 1.5x, //cdn.wikimg.net/en/armswiki/images/thumb/e/ea/Icon-Mechanica.png/50px-Icon-Mechanica.png 2x\" width=\"25\"/></a></span> <span typeof=\"mw:File\"><a href=\"/wiki/Master_Mummy\" title=\"Master Mummy\"><img class=\"mw-file-element\" decoding=\"async\" height=\"25\" src=\"//cdn.wikimg.net/en/armswiki/images/thumb/5/58/Icon-Master_Mummy.png/25px-Icon-Master_Mummy.png\" srcset=\"//cdn.wikimg.net/en/armswiki/images/thumb/5/58/Icon-Master_Mummy.png/38px-Icon-Master_Mummy.png 1.5x, //cdn.wikimg.net/en/armswiki/images/thumb/5/58/Icon-Master_Mummy.png/50px-Icon-Master_Mummy.png 2x\" width=\"25\"/></a></span> <span typeof=\"mw:File\"><a href=\"/wiki/Helix\" title=\"Helix\"><img class=\"mw-file-element\" decoding=\"async\" height=\"25\" src=\"//cdn.wikimg.net/en/armswiki/images/thumb/c/c4/Icon-Helix.png/25px-Icon-Helix.png\" srcset=\"//cdn.wikimg.net/en/armswiki/images/thumb/c/c4/Icon-Helix.png/38px-Icon-Helix.png 1.5x, //cdn.wikimg.net/en/armswiki/images/thumb/c/c4/Icon-Helix.png/50px-Icon-Helix.png 2x\" width=\"25\"/></a></span> <span typeof=\"mw:File\"><a href=\"/wiki/Kid_Cobra\" title=\"Kid Cobra\"><img class=\"mw-file-element\" decoding=\"async\" height=\"25\" src=\"//cdn.wikimg.net/en/armswiki/images/thumb/b/b7/Icon-Kid_Cobra.png/25px-Icon-Kid_Cobra.png\" srcset=\"//cdn.wikimg.net/en/armswiki/images/thumb/b/b7/Icon-Kid_Cobra.png/38px-Icon-Kid_Cobra.png 1.5x, //cdn.wikimg.net/en/armswiki/images/thumb/b/b7/Icon-Kid_Cobra.png/50px-Icon-Kid_Cobra.png 2x\" width=\"25\"/></a></span>\n",
      "</td></tr>\n",
      "<tr>\n",
      "<td><a class=\"external text\" href=\"https://challonge.com/EUAC41\" rel=\"nofollow\">EU ARMS Challenge #41</a></td>\n",
      "<td>February 9, 2020</td>\n",
      "<td><a href=\"/wiki/Iceman92\" title=\"Iceman92\">Iceman92</a></td>\n",
      "<td><span typeof=\"mw:File\"><a href=\"/wiki/Min_Min\" title=\"Min Min\"><img class=\"mw-file-element\" decoding=\"async\" height=\"25\" src=\"//cdn.wikimg.net/en/armswiki/images/thumb/9/93/Icon-Min_Min.png/25px-Icon-Min_Min.png\" srcset=\"//cdn.wikimg.net/en/armswiki/images/thumb/9/93/Icon-Min_Min.png/38px-Icon-Min_Min.png 1.5x, //cdn.wikimg.net/en/armswiki/images/thumb/9/93/Icon-Min_Min.png/50px-Icon-Min_Min.png 2x\" width=\"25\"/></a></span>\n",
      "</td></tr>\n",
      "<tr>\n",
      "<td><a class=\"external text\" href=\"https://challonge.com/EUAC42\" rel=\"nofollow\">EU ARMS Challenge #42</a></td>\n",
      "<td>February 23, 2020</td>\n",
      "<td><a href=\"/wiki/Iceman92\" title=\"Iceman92\">Iceman92</a></td>\n",
      "<td><span typeof=\"mw:File\"><a href=\"/wiki/Ribbon_Girl\" title=\"Ribbon Girl\"><img class=\"mw-file-element\" decoding=\"async\" height=\"25\" src=\"//cdn.wikimg.net/en/armswiki/images/thumb/e/ed/Icon-Ribbon_Girl.png/25px-Icon-Ribbon_Girl.png\" srcset=\"//cdn.wikimg.net/en/armswiki/images/thumb/e/ed/Icon-Ribbon_Girl.png/38px-Icon-Ribbon_Girl.png 1.5x, //cdn.wikimg.net/en/armswiki/images/thumb/e/ed/Icon-Ribbon_Girl.png/50px-Icon-Ribbon_Girl.png 2x\" width=\"25\"/></a></span> <span typeof=\"mw:File\"><a href=\"/wiki/Min_Min\" title=\"Min Min\"><img class=\"mw-file-element\" decoding=\"async\" height=\"25\" src=\"//cdn.wikimg.net/en/armswiki/images/thumb/9/93/Icon-Min_Min.png/25px-Icon-Min_Min.png\" srcset=\"//cdn.wikimg.net/en/armswiki/images/thumb/9/93/Icon-Min_Min.png/38px-Icon-Min_Min.png 1.5x, //cdn.wikimg.net/en/armswiki/images/thumb/9/93/Icon-Min_Min.png/50px-Icon-Min_Min.png 2x\" width=\"25\"/></a></span>\n",
      "</td></tr>\n",
      "<tr>\n",
      "<td><a class=\"external text\" href=\"https://challonge.com/EUAC43\" rel=\"nofollow\">EU ARMS Challenge #43</a></td>\n",
      "<td>March 8, 2020</td>\n",
      "<td>Shedy</td>\n",
      "<td><span typeof=\"mw:File\"><a href=\"/wiki/Ribbon_Girl\" title=\"Ribbon Girl\"><img class=\"mw-file-element\" decoding=\"async\" height=\"25\" src=\"//cdn.wikimg.net/en/armswiki/images/thumb/e/ed/Icon-Ribbon_Girl.png/25px-Icon-Ribbon_Girl.png\" srcset=\"//cdn.wikimg.net/en/armswiki/images/thumb/e/ed/Icon-Ribbon_Girl.png/38px-Icon-Ribbon_Girl.png 1.5x, //cdn.wikimg.net/en/armswiki/images/thumb/e/ed/Icon-Ribbon_Girl.png/50px-Icon-Ribbon_Girl.png 2x\" width=\"25\"/></a></span>\n",
      "</td></tr>\n",
      "<tr>\n",
      "<td><a class=\"external text\" href=\"https://challonge.com/EUAC44\" rel=\"nofollow\">EU ARMS Challenge #44</a></td>\n",
      "<td>March 15, 2020</td>\n",
      "<td><a href=\"/wiki/Ripha\" title=\"Ripha\">Ripha</a></td>\n",
      "<td><span typeof=\"mw:File\"><a href=\"/wiki/Ninjara\" title=\"Ninjara\"><img class=\"mw-file-element\" decoding=\"async\" height=\"25\" src=\"//cdn.wikimg.net/en/armswiki/images/thumb/0/0c/Icon-Ninjara.png/25px-Icon-Ninjara.png\" srcset=\"//cdn.wikimg.net/en/armswiki/images/thumb/0/0c/Icon-Ninjara.png/38px-Icon-Ninjara.png 1.5x, //cdn.wikimg.net/en/armswiki/images/thumb/0/0c/Icon-Ninjara.png/50px-Icon-Ninjara.png 2x\" width=\"25\"/></a></span> <span typeof=\"mw:File\"><a href=\"/wiki/Helix\" title=\"Helix\"><img class=\"mw-file-element\" decoding=\"async\" height=\"25\" src=\"//cdn.wikimg.net/en/armswiki/images/thumb/c/c4/Icon-Helix.png/25px-Icon-Helix.png\" srcset=\"//cdn.wikimg.net/en/armswiki/images/thumb/c/c4/Icon-Helix.png/38px-Icon-Helix.png 1.5x, //cdn.wikimg.net/en/armswiki/images/thumb/c/c4/Icon-Helix.png/50px-Icon-Helix.png 2x\" width=\"25\"/></a></span> <span typeof=\"mw:File\"><a href=\"/wiki/Master_Mummy\" title=\"Master Mummy\"><img class=\"mw-file-element\" decoding=\"async\" height=\"25\" src=\"//cdn.wikimg.net/en/armswiki/images/thumb/5/58/Icon-Master_Mummy.png/25px-Icon-Master_Mummy.png\" srcset=\"//cdn.wikimg.net/en/armswiki/images/thumb/5/58/Icon-Master_Mummy.png/38px-Icon-Master_Mummy.png 1.5x, //cdn.wikimg.net/en/armswiki/images/thumb/5/58/Icon-Master_Mummy.png/50px-Icon-Master_Mummy.png 2x\" width=\"25\"/></a></span> <span typeof=\"mw:File\"><a href=\"/wiki/Min_Min\" title=\"Min Min\"><img class=\"mw-file-element\" decoding=\"async\" height=\"25\" src=\"//cdn.wikimg.net/en/armswiki/images/thumb/9/93/Icon-Min_Min.png/25px-Icon-Min_Min.png\" srcset=\"//cdn.wikimg.net/en/armswiki/images/thumb/9/93/Icon-Min_Min.png/38px-Icon-Min_Min.png 1.5x, //cdn.wikimg.net/en/armswiki/images/thumb/9/93/Icon-Min_Min.png/50px-Icon-Min_Min.png 2x\" width=\"25\"/></a></span> <span typeof=\"mw:File\"><a href=\"/wiki/Lola_Pop\" title=\"Lola Pop\"><img class=\"mw-file-element\" decoding=\"async\" height=\"25\" src=\"//cdn.wikimg.net/en/armswiki/images/thumb/e/e5/Icon-Lola_Pop.png/25px-Icon-Lola_Pop.png\" srcset=\"//cdn.wikimg.net/en/armswiki/images/thumb/e/e5/Icon-Lola_Pop.png/38px-Icon-Lola_Pop.png 1.5x, //cdn.wikimg.net/en/armswiki/images/thumb/e/e5/Icon-Lola_Pop.png/50px-Icon-Lola_Pop.png 2x\" width=\"25\"/></a></span> <span typeof=\"mw:File\"><a href=\"/wiki/Mechanica\" title=\"Mechanica\"><img class=\"mw-file-element\" decoding=\"async\" height=\"25\" src=\"//cdn.wikimg.net/en/armswiki/images/thumb/e/ea/Icon-Mechanica.png/25px-Icon-Mechanica.png\" srcset=\"//cdn.wikimg.net/en/armswiki/images/thumb/e/ea/Icon-Mechanica.png/38px-Icon-Mechanica.png 1.5x, //cdn.wikimg.net/en/armswiki/images/thumb/e/ea/Icon-Mechanica.png/50px-Icon-Mechanica.png 2x\" width=\"25\"/></a></span>\n",
      "</td></tr>\n",
      "<tr>\n",
      "<td><a class=\"external text\" href=\"https://challonge.com/EUAC45\" rel=\"nofollow\">EU ARMS Challenge #45</a></td>\n",
      "<td>April 5, 2020</td>\n",
      "<td><a href=\"/wiki/Grimwood\" title=\"Grimwood\">Grimwood</a></td>\n",
      "<td><span typeof=\"mw:File\"><a href=\"/wiki/Dr._Coyle\" title=\"Dr. Coyle\"><img class=\"mw-file-element\" decoding=\"async\" height=\"25\" src=\"//cdn.wikimg.net/en/armswiki/images/thumb/5/53/Icon-Dr._Coyle.png/25px-Icon-Dr._Coyle.png\" srcset=\"//cdn.wikimg.net/en/armswiki/images/thumb/5/53/Icon-Dr._Coyle.png/38px-Icon-Dr._Coyle.png 1.5x, //cdn.wikimg.net/en/armswiki/images/thumb/5/53/Icon-Dr._Coyle.png/50px-Icon-Dr._Coyle.png 2x\" width=\"25\"/></a></span> <span typeof=\"mw:File\"><a href=\"/wiki/Max_Brass\" title=\"Max Brass\"><img class=\"mw-file-element\" decoding=\"async\" height=\"25\" src=\"//cdn.wikimg.net/en/armswiki/images/thumb/4/45/Icon-Max_Brass.png/25px-Icon-Max_Brass.png\" srcset=\"//cdn.wikimg.net/en/armswiki/images/thumb/4/45/Icon-Max_Brass.png/38px-Icon-Max_Brass.png 1.5x, //cdn.wikimg.net/en/armswiki/images/thumb/4/45/Icon-Max_Brass.png/50px-Icon-Max_Brass.png 2x\" width=\"25\"/></a></span> <span typeof=\"mw:File\"><a href=\"/wiki/Twintelle\" title=\"Twintelle\"><img class=\"mw-file-element\" decoding=\"async\" height=\"25\" src=\"//cdn.wikimg.net/en/armswiki/images/thumb/a/a1/Icon-Twintelle.png/25px-Icon-Twintelle.png\" srcset=\"//cdn.wikimg.net/en/armswiki/images/thumb/a/a1/Icon-Twintelle.png/38px-Icon-Twintelle.png 1.5x, //cdn.wikimg.net/en/armswiki/images/thumb/a/a1/Icon-Twintelle.png/50px-Icon-Twintelle.png 2x\" width=\"25\"/></a></span> <span typeof=\"mw:File\"><a href=\"/wiki/Min_Min\" title=\"Min Min\"><img class=\"mw-file-element\" decoding=\"async\" height=\"25\" src=\"//cdn.wikimg.net/en/armswiki/images/thumb/9/93/Icon-Min_Min.png/25px-Icon-Min_Min.png\" srcset=\"//cdn.wikimg.net/en/armswiki/images/thumb/9/93/Icon-Min_Min.png/38px-Icon-Min_Min.png 1.5x, //cdn.wikimg.net/en/armswiki/images/thumb/9/93/Icon-Min_Min.png/50px-Icon-Min_Min.png 2x\" width=\"25\"/></a></span>\n",
      "</td></tr>\n",
      "<tr>\n",
      "<td><a class=\"external text\" href=\"https://challonge.com/EUAC46\" rel=\"nofollow\">EU ARMS Challenge #46</a></td>\n",
      "<td>April 19, 2020</td>\n",
      "<td><a href=\"/wiki/Jr\" title=\"Jr\">Jr</a></td>\n",
      "<td><span typeof=\"mw:File\"><a href=\"/wiki/Kid_Cobra\" title=\"Kid Cobra\"><img class=\"mw-file-element\" decoding=\"async\" height=\"25\" src=\"//cdn.wikimg.net/en/armswiki/images/thumb/b/b7/Icon-Kid_Cobra.png/25px-Icon-Kid_Cobra.png\" srcset=\"//cdn.wikimg.net/en/armswiki/images/thumb/b/b7/Icon-Kid_Cobra.png/38px-Icon-Kid_Cobra.png 1.5x, //cdn.wikimg.net/en/armswiki/images/thumb/b/b7/Icon-Kid_Cobra.png/50px-Icon-Kid_Cobra.png 2x\" width=\"25\"/></a></span>\n",
      "</td></tr>\n",
      "<tr>\n",
      "<td><a class=\"external text\" href=\"https://challonge.com/EUAC47\" rel=\"nofollow\">EU ARMS Challenge #47</a></td>\n",
      "<td>May 3, 2020</td>\n",
      "<td><a href=\"/wiki/Ripha\" title=\"Ripha\">Ripha</a></td>\n",
      "<td><span typeof=\"mw:File\"><a href=\"/wiki/Ninjara\" title=\"Ninjara\"><img class=\"mw-file-element\" decoding=\"async\" height=\"25\" src=\"//cdn.wikimg.net/en/armswiki/images/thumb/0/0c/Icon-Ninjara.png/25px-Icon-Ninjara.png\" srcset=\"//cdn.wikimg.net/en/armswiki/images/thumb/0/0c/Icon-Ninjara.png/38px-Icon-Ninjara.png 1.5x, //cdn.wikimg.net/en/armswiki/images/thumb/0/0c/Icon-Ninjara.png/50px-Icon-Ninjara.png 2x\" width=\"25\"/></a></span>\n",
      "</td></tr>\n",
      "<tr>\n",
      "<td><a class=\"external text\" href=\"https://challonge.com/EUAC48\" rel=\"nofollow\">EU ARMS Challenge #48</a></td>\n",
      "<td>May 17, 2020</td>\n",
      "<td><a href=\"/wiki/Raffa\" title=\"Raffa\">Raffa</a></td>\n",
      "<td><span typeof=\"mw:File\"><a href=\"/wiki/Kid_Cobra\" title=\"Kid Cobra\"><img class=\"mw-file-element\" decoding=\"async\" height=\"25\" src=\"//cdn.wikimg.net/en/armswiki/images/thumb/b/b7/Icon-Kid_Cobra.png/25px-Icon-Kid_Cobra.png\" srcset=\"//cdn.wikimg.net/en/armswiki/images/thumb/b/b7/Icon-Kid_Cobra.png/38px-Icon-Kid_Cobra.png 1.5x, //cdn.wikimg.net/en/armswiki/images/thumb/b/b7/Icon-Kid_Cobra.png/50px-Icon-Kid_Cobra.png 2x\" width=\"25\"/></a></span> <span typeof=\"mw:File\"><a href=\"/wiki/Lola_Pop\" title=\"Lola Pop\"><img class=\"mw-file-element\" decoding=\"async\" height=\"25\" src=\"//cdn.wikimg.net/en/armswiki/images/thumb/e/e5/Icon-Lola_Pop.png/25px-Icon-Lola_Pop.png\" srcset=\"//cdn.wikimg.net/en/armswiki/images/thumb/e/e5/Icon-Lola_Pop.png/38px-Icon-Lola_Pop.png 1.5x, //cdn.wikimg.net/en/armswiki/images/thumb/e/e5/Icon-Lola_Pop.png/50px-Icon-Lola_Pop.png 2x\" width=\"25\"/></a></span> <span typeof=\"mw:File\"><a href=\"/wiki/Twintelle\" title=\"Twintelle\"><img class=\"mw-file-element\" decoding=\"async\" height=\"25\" src=\"//cdn.wikimg.net/en/armswiki/images/thumb/a/a1/Icon-Twintelle.png/25px-Icon-Twintelle.png\" srcset=\"//cdn.wikimg.net/en/armswiki/images/thumb/a/a1/Icon-Twintelle.png/38px-Icon-Twintelle.png 1.5x, //cdn.wikimg.net/en/armswiki/images/thumb/a/a1/Icon-Twintelle.png/50px-Icon-Twintelle.png 2x\" width=\"25\"/></a></span>\n",
      "</td></tr>\n",
      "<tr>\n",
      "<td><a class=\"external text\" href=\"https://challonge.com/EUAC49\" rel=\"nofollow\">EU ARMS Challenge #49</a></td>\n",
      "<td>May 31, 2020</td>\n",
      "<td><a href=\"/wiki/Raffa\" title=\"Raffa\">Raffa</a></td>\n",
      "<td><span typeof=\"mw:File\"><a href=\"/wiki/Kid_Cobra\" title=\"Kid Cobra\"><img class=\"mw-file-element\" decoding=\"async\" height=\"25\" src=\"//cdn.wikimg.net/en/armswiki/images/thumb/b/b7/Icon-Kid_Cobra.png/25px-Icon-Kid_Cobra.png\" srcset=\"//cdn.wikimg.net/en/armswiki/images/thumb/b/b7/Icon-Kid_Cobra.png/38px-Icon-Kid_Cobra.png 1.5x, //cdn.wikimg.net/en/armswiki/images/thumb/b/b7/Icon-Kid_Cobra.png/50px-Icon-Kid_Cobra.png 2x\" width=\"25\"/></a></span>\n",
      "</td></tr>\n",
      "<tr>\n",
      "<td><a class=\"external text\" href=\"https://challonge.com/EUAC50\" rel=\"nofollow\">EU ARMS Challenge #50</a></td>\n",
      "<td>June 14, 2020</td>\n",
      "<td><a href=\"/wiki/Grimwood\" title=\"Grimwood\">Grimwood</a></td>\n",
      "<td><span typeof=\"mw:File\"><a href=\"/wiki/Max_Brass\" title=\"Max Brass\"><img class=\"mw-file-element\" decoding=\"async\" height=\"25\" src=\"//cdn.wikimg.net/en/armswiki/images/thumb/4/45/Icon-Max_Brass.png/25px-Icon-Max_Brass.png\" srcset=\"//cdn.wikimg.net/en/armswiki/images/thumb/4/45/Icon-Max_Brass.png/38px-Icon-Max_Brass.png 1.5x, //cdn.wikimg.net/en/armswiki/images/thumb/4/45/Icon-Max_Brass.png/50px-Icon-Max_Brass.png 2x\" width=\"25\"/></a></span> <span typeof=\"mw:File\"><a href=\"/wiki/Dr._Coyle\" title=\"Dr. Coyle\"><img class=\"mw-file-element\" decoding=\"async\" height=\"25\" src=\"//cdn.wikimg.net/en/armswiki/images/thumb/5/53/Icon-Dr._Coyle.png/25px-Icon-Dr._Coyle.png\" srcset=\"//cdn.wikimg.net/en/armswiki/images/thumb/5/53/Icon-Dr._Coyle.png/38px-Icon-Dr._Coyle.png 1.5x, //cdn.wikimg.net/en/armswiki/images/thumb/5/53/Icon-Dr._Coyle.png/50px-Icon-Dr._Coyle.png 2x\" width=\"25\"/></a></span>\n",
      "</td></tr>\n",
      "<tr>\n",
      "<td><a class=\"external text\" href=\"https://challonge.com/EUAC51\" rel=\"nofollow\">EU ARMS Challenge #51</a></td>\n",
      "<td>June 28, 2020</td>\n",
      "<td><a href=\"/wiki/Raffa\" title=\"Raffa\">Raffa</a></td>\n",
      "<td><span typeof=\"mw:File\"><a href=\"/wiki/Kid_Cobra\" title=\"Kid Cobra\"><img class=\"mw-file-element\" decoding=\"async\" height=\"25\" src=\"//cdn.wikimg.net/en/armswiki/images/thumb/b/b7/Icon-Kid_Cobra.png/25px-Icon-Kid_Cobra.png\" srcset=\"//cdn.wikimg.net/en/armswiki/images/thumb/b/b7/Icon-Kid_Cobra.png/38px-Icon-Kid_Cobra.png 1.5x, //cdn.wikimg.net/en/armswiki/images/thumb/b/b7/Icon-Kid_Cobra.png/50px-Icon-Kid_Cobra.png 2x\" width=\"25\"/></a></span>\n",
      "</td></tr>\n",
      "<tr>\n",
      "<td><a class=\"external text\" href=\"https://challonge.com/EUAC52\" rel=\"nofollow\">EU ARMS Challenge #52</a></td>\n",
      "<td>July 12, 2020</td>\n",
      "<td><a href=\"/wiki/Grimwood\" title=\"Grimwood\">Grimwood</a></td>\n",
      "<td><span typeof=\"mw:File\"><a href=\"/wiki/Max_Brass\" title=\"Max Brass\"><img class=\"mw-file-element\" decoding=\"async\" height=\"25\" src=\"//cdn.wikimg.net/en/armswiki/images/thumb/4/45/Icon-Max_Brass.png/25px-Icon-Max_Brass.png\" srcset=\"//cdn.wikimg.net/en/armswiki/images/thumb/4/45/Icon-Max_Brass.png/38px-Icon-Max_Brass.png 1.5x, //cdn.wikimg.net/en/armswiki/images/thumb/4/45/Icon-Max_Brass.png/50px-Icon-Max_Brass.png 2x\" width=\"25\"/></a></span> <span typeof=\"mw:File\"><a href=\"/wiki/Dr._Coyle\" title=\"Dr. Coyle\"><img class=\"mw-file-element\" decoding=\"async\" height=\"25\" src=\"//cdn.wikimg.net/en/armswiki/images/thumb/5/53/Icon-Dr._Coyle.png/25px-Icon-Dr._Coyle.png\" srcset=\"//cdn.wikimg.net/en/armswiki/images/thumb/5/53/Icon-Dr._Coyle.png/38px-Icon-Dr._Coyle.png 1.5x, //cdn.wikimg.net/en/armswiki/images/thumb/5/53/Icon-Dr._Coyle.png/50px-Icon-Dr._Coyle.png 2x\" width=\"25\"/></a></span>\n",
      "</td></tr>\n",
      "<tr>\n",
      "<td><a class=\"external text\" href=\"https://challonge.com/EUAC53\" rel=\"nofollow\">EU ARMS Challenge #53</a></td>\n",
      "<td>July 26, 2020</td>\n",
      "<td><a href=\"/wiki/Ripha\" title=\"Ripha\">Ripha</a></td>\n",
      "<td><span typeof=\"mw:File\"><a href=\"/wiki/Ninjara\" title=\"Ninjara\"><img class=\"mw-file-element\" decoding=\"async\" height=\"25\" src=\"//cdn.wikimg.net/en/armswiki/images/thumb/0/0c/Icon-Ninjara.png/25px-Icon-Ninjara.png\" srcset=\"//cdn.wikimg.net/en/armswiki/images/thumb/0/0c/Icon-Ninjara.png/38px-Icon-Ninjara.png 1.5x, //cdn.wikimg.net/en/armswiki/images/thumb/0/0c/Icon-Ninjara.png/50px-Icon-Ninjara.png 2x\" width=\"25\"/></a></span>\n",
      "</td></tr>\n",
      "<tr>\n",
      "<td><a class=\"external text\" href=\"https://challonge.com/EUAC54\" rel=\"nofollow\">EU ARMS Challenge #54</a></td>\n",
      "<td>August 9, 2020</td>\n",
      "<td><a class=\"new\" href=\"/w/index.php?title=Replicant&amp;action=edit&amp;redlink=1\" title=\"Replicant (page does not exist)\">Replicant</a></td>\n",
      "<td><span typeof=\"mw:File\"><a href=\"/wiki/Lola_Pop\" title=\"Lola Pop\"><img class=\"mw-file-element\" decoding=\"async\" height=\"25\" src=\"//cdn.wikimg.net/en/armswiki/images/thumb/e/e5/Icon-Lola_Pop.png/25px-Icon-Lola_Pop.png\" srcset=\"//cdn.wikimg.net/en/armswiki/images/thumb/e/e5/Icon-Lola_Pop.png/38px-Icon-Lola_Pop.png 1.5x, //cdn.wikimg.net/en/armswiki/images/thumb/e/e5/Icon-Lola_Pop.png/50px-Icon-Lola_Pop.png 2x\" width=\"25\"/></a></span>\n",
      "</td></tr>\n",
      "<tr>\n",
      "<td><a class=\"external text\" href=\"https://challonge.com/EUAC55\" rel=\"nofollow\">EU ARMS Challenge #55</a></td>\n",
      "<td>August 23, 2020</td>\n",
      "<td><a href=\"/wiki/Grimwood\" title=\"Grimwood\">Grimwood</a></td>\n",
      "<td><span typeof=\"mw:File\"><a href=\"/wiki/Dr._Coyle\" title=\"Dr. Coyle\"><img class=\"mw-file-element\" decoding=\"async\" height=\"25\" src=\"//cdn.wikimg.net/en/armswiki/images/thumb/5/53/Icon-Dr._Coyle.png/25px-Icon-Dr._Coyle.png\" srcset=\"//cdn.wikimg.net/en/armswiki/images/thumb/5/53/Icon-Dr._Coyle.png/38px-Icon-Dr._Coyle.png 1.5x, //cdn.wikimg.net/en/armswiki/images/thumb/5/53/Icon-Dr._Coyle.png/50px-Icon-Dr._Coyle.png 2x\" width=\"25\"/></a></span> <span typeof=\"mw:File\"><a href=\"/wiki/Kid_Cobra\" title=\"Kid Cobra\"><img class=\"mw-file-element\" decoding=\"async\" height=\"25\" src=\"//cdn.wikimg.net/en/armswiki/images/thumb/b/b7/Icon-Kid_Cobra.png/25px-Icon-Kid_Cobra.png\" srcset=\"//cdn.wikimg.net/en/armswiki/images/thumb/b/b7/Icon-Kid_Cobra.png/38px-Icon-Kid_Cobra.png 1.5x, //cdn.wikimg.net/en/armswiki/images/thumb/b/b7/Icon-Kid_Cobra.png/50px-Icon-Kid_Cobra.png 2x\" width=\"25\"/></a></span>\n",
      "</td></tr>\n",
      "<tr>\n",
      "<td><a class=\"external text\" href=\"https://challonge.com/EUAC56\" rel=\"nofollow\">EU ARMS Challenge #56</a></td>\n",
      "<td>September 6, 2020</td>\n",
      "<td><a href=\"/wiki/Grimwood\" title=\"Grimwood\">Grimwood</a></td>\n",
      "<td><span typeof=\"mw:File\"><a href=\"/wiki/Max_Brass\" title=\"Max Brass\"><img class=\"mw-file-element\" decoding=\"async\" height=\"25\" src=\"//cdn.wikimg.net/en/armswiki/images/thumb/4/45/Icon-Max_Brass.png/25px-Icon-Max_Brass.png\" srcset=\"//cdn.wikimg.net/en/armswiki/images/thumb/4/45/Icon-Max_Brass.png/38px-Icon-Max_Brass.png 1.5x, //cdn.wikimg.net/en/armswiki/images/thumb/4/45/Icon-Max_Brass.png/50px-Icon-Max_Brass.png 2x\" width=\"25\"/></a></span> <span typeof=\"mw:File\"><a href=\"/wiki/Dr._Coyle\" title=\"Dr. Coyle\"><img class=\"mw-file-element\" decoding=\"async\" height=\"25\" src=\"//cdn.wikimg.net/en/armswiki/images/thumb/5/53/Icon-Dr._Coyle.png/25px-Icon-Dr._Coyle.png\" srcset=\"//cdn.wikimg.net/en/armswiki/images/thumb/5/53/Icon-Dr._Coyle.png/38px-Icon-Dr._Coyle.png 1.5x, //cdn.wikimg.net/en/armswiki/images/thumb/5/53/Icon-Dr._Coyle.png/50px-Icon-Dr._Coyle.png 2x\" width=\"25\"/></a></span> <span typeof=\"mw:File\"><a href=\"/wiki/Kid_Cobra\" title=\"Kid Cobra\"><img class=\"mw-file-element\" decoding=\"async\" height=\"25\" src=\"//cdn.wikimg.net/en/armswiki/images/thumb/b/b7/Icon-Kid_Cobra.png/25px-Icon-Kid_Cobra.png\" srcset=\"//cdn.wikimg.net/en/armswiki/images/thumb/b/b7/Icon-Kid_Cobra.png/38px-Icon-Kid_Cobra.png 1.5x, //cdn.wikimg.net/en/armswiki/images/thumb/b/b7/Icon-Kid_Cobra.png/50px-Icon-Kid_Cobra.png 2x\" width=\"25\"/></a></span>\n",
      "</td></tr>\n",
      "<tr>\n",
      "<td><a class=\"external text\" href=\"https://challonge.com/EUAC57\" rel=\"nofollow\">EU ARMS Challenge #57</a></td>\n",
      "<td>September 20, 2020</td>\n",
      "<td><a href=\"/wiki/Ripha\" title=\"Ripha\">Ripha</a></td>\n",
      "<td><span typeof=\"mw:File\"><a href=\"/wiki/Mechanica\" title=\"Mechanica\"><img class=\"mw-file-element\" decoding=\"async\" height=\"25\" src=\"//cdn.wikimg.net/en/armswiki/images/thumb/e/ea/Icon-Mechanica.png/25px-Icon-Mechanica.png\" srcset=\"//cdn.wikimg.net/en/armswiki/images/thumb/e/ea/Icon-Mechanica.png/38px-Icon-Mechanica.png 1.5x, //cdn.wikimg.net/en/armswiki/images/thumb/e/ea/Icon-Mechanica.png/50px-Icon-Mechanica.png 2x\" width=\"25\"/></a></span>\n",
      "</td></tr>\n",
      "<tr>\n",
      "<td><a class=\"external text\" href=\"https://challonge.com/EUAC58\" rel=\"nofollow\">EU ARMS Challenge #58</a></td>\n",
      "<td>October 4, 2020</td>\n",
      "<td><a href=\"/wiki/Ripha\" title=\"Ripha\">Ripha</a></td>\n",
      "<td><span typeof=\"mw:File\"><a href=\"/wiki/Ninjara\" title=\"Ninjara\"><img class=\"mw-file-element\" decoding=\"async\" height=\"25\" src=\"//cdn.wikimg.net/en/armswiki/images/thumb/0/0c/Icon-Ninjara.png/25px-Icon-Ninjara.png\" srcset=\"//cdn.wikimg.net/en/armswiki/images/thumb/0/0c/Icon-Ninjara.png/38px-Icon-Ninjara.png 1.5x, //cdn.wikimg.net/en/armswiki/images/thumb/0/0c/Icon-Ninjara.png/50px-Icon-Ninjara.png 2x\" width=\"25\"/></a></span>\n",
      "</td></tr>\n",
      "<tr>\n",
      "<td><a class=\"external text\" href=\"https://challonge.com/EUAC59\" rel=\"nofollow\">EU ARMS Challenge #59</a></td>\n",
      "<td>October 18, 2020</td>\n",
      "<td><a href=\"/wiki/Ripha\" title=\"Ripha\">Ripha</a></td>\n",
      "<td><span typeof=\"mw:File\"><a href=\"/wiki/Misango\" title=\"Misango\"><img class=\"mw-file-element\" decoding=\"async\" height=\"25\" src=\"//cdn.wikimg.net/en/armswiki/images/thumb/2/25/Icon-Misango.png/25px-Icon-Misango.png\" srcset=\"//cdn.wikimg.net/en/armswiki/images/thumb/2/25/Icon-Misango.png/38px-Icon-Misango.png 1.5x, //cdn.wikimg.net/en/armswiki/images/thumb/2/25/Icon-Misango.png/50px-Icon-Misango.png 2x\" width=\"25\"/></a></span> <span typeof=\"mw:File\"><a href=\"/wiki/Ninjara\" title=\"Ninjara\"><img class=\"mw-file-element\" decoding=\"async\" height=\"25\" src=\"//cdn.wikimg.net/en/armswiki/images/thumb/0/0c/Icon-Ninjara.png/25px-Icon-Ninjara.png\" srcset=\"//cdn.wikimg.net/en/armswiki/images/thumb/0/0c/Icon-Ninjara.png/38px-Icon-Ninjara.png 1.5x, //cdn.wikimg.net/en/armswiki/images/thumb/0/0c/Icon-Ninjara.png/50px-Icon-Ninjara.png 2x\" width=\"25\"/></a></span> <span typeof=\"mw:File\"><a href=\"/wiki/Mechanica\" title=\"Mechanica\"><img class=\"mw-file-element\" decoding=\"async\" height=\"25\" src=\"//cdn.wikimg.net/en/armswiki/images/thumb/e/ea/Icon-Mechanica.png/25px-Icon-Mechanica.png\" srcset=\"//cdn.wikimg.net/en/armswiki/images/thumb/e/ea/Icon-Mechanica.png/38px-Icon-Mechanica.png 1.5x, //cdn.wikimg.net/en/armswiki/images/thumb/e/ea/Icon-Mechanica.png/50px-Icon-Mechanica.png 2x\" width=\"25\"/></a></span> <span typeof=\"mw:File\"><a href=\"/wiki/Master_Mummy\" title=\"Master Mummy\"><img class=\"mw-file-element\" decoding=\"async\" height=\"25\" src=\"//cdn.wikimg.net/en/armswiki/images/thumb/5/58/Icon-Master_Mummy.png/25px-Icon-Master_Mummy.png\" srcset=\"//cdn.wikimg.net/en/armswiki/images/thumb/5/58/Icon-Master_Mummy.png/38px-Icon-Master_Mummy.png 1.5x, //cdn.wikimg.net/en/armswiki/images/thumb/5/58/Icon-Master_Mummy.png/50px-Icon-Master_Mummy.png 2x\" width=\"25\"/></a></span> <span typeof=\"mw:File\"><a href=\"/wiki/Lola_Pop\" title=\"Lola Pop\"><img class=\"mw-file-element\" decoding=\"async\" height=\"25\" src=\"//cdn.wikimg.net/en/armswiki/images/thumb/e/e5/Icon-Lola_Pop.png/25px-Icon-Lola_Pop.png\" srcset=\"//cdn.wikimg.net/en/armswiki/images/thumb/e/e5/Icon-Lola_Pop.png/38px-Icon-Lola_Pop.png 1.5x, //cdn.wikimg.net/en/armswiki/images/thumb/e/e5/Icon-Lola_Pop.png/50px-Icon-Lola_Pop.png 2x\" width=\"25\"/></a></span>\n",
      "</td></tr>\n",
      "<tr>\n",
      "<td><a class=\"external text\" href=\"https://challonge.com/EUAC60\" rel=\"nofollow\">EU ARMS Challenge #60</a></td>\n",
      "<td>November 1, 2020</td>\n",
      "<td><a href=\"/wiki/Ripha\" title=\"Ripha\">Ripha</a></td>\n",
      "<td><span typeof=\"mw:File\"><a href=\"/wiki/Misango\" title=\"Misango\"><img class=\"mw-file-element\" decoding=\"async\" height=\"25\" src=\"//cdn.wikimg.net/en/armswiki/images/thumb/2/25/Icon-Misango.png/25px-Icon-Misango.png\" srcset=\"//cdn.wikimg.net/en/armswiki/images/thumb/2/25/Icon-Misango.png/38px-Icon-Misango.png 1.5x, //cdn.wikimg.net/en/armswiki/images/thumb/2/25/Icon-Misango.png/50px-Icon-Misango.png 2x\" width=\"25\"/></a></span> <span typeof=\"mw:File\"><a href=\"/wiki/Ninjara\" title=\"Ninjara\"><img class=\"mw-file-element\" decoding=\"async\" height=\"25\" src=\"//cdn.wikimg.net/en/armswiki/images/thumb/0/0c/Icon-Ninjara.png/25px-Icon-Ninjara.png\" srcset=\"//cdn.wikimg.net/en/armswiki/images/thumb/0/0c/Icon-Ninjara.png/38px-Icon-Ninjara.png 1.5x, //cdn.wikimg.net/en/armswiki/images/thumb/0/0c/Icon-Ninjara.png/50px-Icon-Ninjara.png 2x\" width=\"25\"/></a></span>\n",
      "</td></tr>\n",
      "<tr>\n",
      "<td><a class=\"external text\" href=\"https://challonge.com/EUAC61\" rel=\"nofollow\">EU ARMS Challenge #61</a></td>\n",
      "<td>November 15, 2020</td>\n",
      "<td><a href=\"/wiki/Grimwood\" title=\"Grimwood\">Grimwood</a></td>\n",
      "<td><span typeof=\"mw:File\"><a href=\"/wiki/Max_Brass\" title=\"Max Brass\"><img class=\"mw-file-element\" decoding=\"async\" height=\"25\" src=\"//cdn.wikimg.net/en/armswiki/images/thumb/4/45/Icon-Max_Brass.png/25px-Icon-Max_Brass.png\" srcset=\"//cdn.wikimg.net/en/armswiki/images/thumb/4/45/Icon-Max_Brass.png/38px-Icon-Max_Brass.png 1.5x, //cdn.wikimg.net/en/armswiki/images/thumb/4/45/Icon-Max_Brass.png/50px-Icon-Max_Brass.png 2x\" width=\"25\"/></a></span> <span typeof=\"mw:File\"><a href=\"/wiki/Kid_Cobra\" title=\"Kid Cobra\"><img class=\"mw-file-element\" decoding=\"async\" height=\"25\" src=\"//cdn.wikimg.net/en/armswiki/images/thumb/b/b7/Icon-Kid_Cobra.png/25px-Icon-Kid_Cobra.png\" srcset=\"//cdn.wikimg.net/en/armswiki/images/thumb/b/b7/Icon-Kid_Cobra.png/38px-Icon-Kid_Cobra.png 1.5x, //cdn.wikimg.net/en/armswiki/images/thumb/b/b7/Icon-Kid_Cobra.png/50px-Icon-Kid_Cobra.png 2x\" width=\"25\"/></a></span>\n",
      "</td></tr>\n",
      "<tr>\n",
      "<td><a class=\"external text\" href=\"https://challonge.com/EUAC62\" rel=\"nofollow\">EU ARMS Challenge #62</a></td>\n",
      "<td>November 29, 2020</td>\n",
      "<td><a href=\"/wiki/Iceman92\" title=\"Iceman92\">Iceman92</a></td>\n",
      "<td><span typeof=\"mw:File\"><a href=\"/wiki/Min_Min\" title=\"Min Min\"><img class=\"mw-file-element\" decoding=\"async\" height=\"25\" src=\"//cdn.wikimg.net/en/armswiki/images/thumb/9/93/Icon-Min_Min.png/25px-Icon-Min_Min.png\" srcset=\"//cdn.wikimg.net/en/armswiki/images/thumb/9/93/Icon-Min_Min.png/38px-Icon-Min_Min.png 1.5x, //cdn.wikimg.net/en/armswiki/images/thumb/9/93/Icon-Min_Min.png/50px-Icon-Min_Min.png 2x\" width=\"25\"/></a></span> <span typeof=\"mw:File\"><a href=\"/wiki/Ribbon_Girl\" title=\"Ribbon Girl\"><img class=\"mw-file-element\" decoding=\"async\" height=\"25\" src=\"//cdn.wikimg.net/en/armswiki/images/thumb/e/ed/Icon-Ribbon_Girl.png/25px-Icon-Ribbon_Girl.png\" srcset=\"//cdn.wikimg.net/en/armswiki/images/thumb/e/ed/Icon-Ribbon_Girl.png/38px-Icon-Ribbon_Girl.png 1.5x, //cdn.wikimg.net/en/armswiki/images/thumb/e/ed/Icon-Ribbon_Girl.png/50px-Icon-Ribbon_Girl.png 2x\" width=\"25\"/></a></span> <span typeof=\"mw:File\"><a href=\"/wiki/Springtron\" title=\"Springtron\"><img class=\"mw-file-element\" decoding=\"async\" height=\"25\" src=\"//cdn.wikimg.net/en/armswiki/images/thumb/2/27/Icon-Springtron.png/25px-Icon-Springtron.png\" srcset=\"//cdn.wikimg.net/en/armswiki/images/thumb/2/27/Icon-Springtron.png/38px-Icon-Springtron.png 1.5x, //cdn.wikimg.net/en/armswiki/images/thumb/2/27/Icon-Springtron.png/50px-Icon-Springtron.png 2x\" width=\"25\"/></a></span>\n",
      "</td></tr>\n",
      "<tr>\n",
      "<td><a class=\"external text\" href=\"https://challonge.com/EUAC63\" rel=\"nofollow\">EU ARMS Challenge #63</a></td>\n",
      "<td>December 13, 2020</td>\n",
      "<td><a href=\"/wiki/Ripha\" title=\"Ripha\">Ripha</a></td>\n",
      "<td><span typeof=\"mw:File\"><a href=\"/wiki/Misango\" title=\"Misango\"><img class=\"mw-file-element\" decoding=\"async\" height=\"25\" src=\"//cdn.wikimg.net/en/armswiki/images/thumb/2/25/Icon-Misango.png/25px-Icon-Misango.png\" srcset=\"//cdn.wikimg.net/en/armswiki/images/thumb/2/25/Icon-Misango.png/38px-Icon-Misango.png 1.5x, //cdn.wikimg.net/en/armswiki/images/thumb/2/25/Icon-Misango.png/50px-Icon-Misango.png 2x\" width=\"25\"/></a></span>\n",
      "</td></tr>\n",
      "<tr>\n",
      "<td><a class=\"external text\" href=\"https://challonge.com/EUAC64\" rel=\"nofollow\">EU ARMS Challenge #64</a></td>\n",
      "<td>January 17, 2021</td>\n",
      "<td><a href=\"/wiki/Ripha\" title=\"Ripha\">Ripha</a></td>\n",
      "<td><span typeof=\"mw:File\"><a href=\"/wiki/Misango\" title=\"Misango\"><img class=\"mw-file-element\" decoding=\"async\" height=\"25\" src=\"//cdn.wikimg.net/en/armswiki/images/thumb/2/25/Icon-Misango.png/25px-Icon-Misango.png\" srcset=\"//cdn.wikimg.net/en/armswiki/images/thumb/2/25/Icon-Misango.png/38px-Icon-Misango.png 1.5x, //cdn.wikimg.net/en/armswiki/images/thumb/2/25/Icon-Misango.png/50px-Icon-Misango.png 2x\" width=\"25\"/></a></span> <span typeof=\"mw:File\"><a href=\"/wiki/Kid_Cobra\" title=\"Kid Cobra\"><img class=\"mw-file-element\" decoding=\"async\" height=\"25\" src=\"//cdn.wikimg.net/en/armswiki/images/thumb/b/b7/Icon-Kid_Cobra.png/25px-Icon-Kid_Cobra.png\" srcset=\"//cdn.wikimg.net/en/armswiki/images/thumb/b/b7/Icon-Kid_Cobra.png/38px-Icon-Kid_Cobra.png 1.5x, //cdn.wikimg.net/en/armswiki/images/thumb/b/b7/Icon-Kid_Cobra.png/50px-Icon-Kid_Cobra.png 2x\" width=\"25\"/></a></span>\n",
      "</td></tr>\n",
      "<tr>\n",
      "<td><a class=\"external text\" href=\"https://challonge.com/EUAC65\" rel=\"nofollow\">EU ARMS Challenge #65</a></td>\n",
      "<td>January 31, 2021</td>\n",
      "<td><a href=\"/wiki/Jr\" title=\"Jr\">Jr</a></td>\n",
      "<td><span typeof=\"mw:File\"><a href=\"/wiki/Kid_Cobra\" title=\"Kid Cobra\"><img class=\"mw-file-element\" decoding=\"async\" height=\"25\" src=\"//cdn.wikimg.net/en/armswiki/images/thumb/b/b7/Icon-Kid_Cobra.png/25px-Icon-Kid_Cobra.png\" srcset=\"//cdn.wikimg.net/en/armswiki/images/thumb/b/b7/Icon-Kid_Cobra.png/38px-Icon-Kid_Cobra.png 1.5x, //cdn.wikimg.net/en/armswiki/images/thumb/b/b7/Icon-Kid_Cobra.png/50px-Icon-Kid_Cobra.png 2x\" width=\"25\"/></a></span> <span typeof=\"mw:File\"><a href=\"/wiki/Master_Mummy\" title=\"Master Mummy\"><img class=\"mw-file-element\" decoding=\"async\" height=\"25\" src=\"//cdn.wikimg.net/en/armswiki/images/thumb/5/58/Icon-Master_Mummy.png/25px-Icon-Master_Mummy.png\" srcset=\"//cdn.wikimg.net/en/armswiki/images/thumb/5/58/Icon-Master_Mummy.png/38px-Icon-Master_Mummy.png 1.5x, //cdn.wikimg.net/en/armswiki/images/thumb/5/58/Icon-Master_Mummy.png/50px-Icon-Master_Mummy.png 2x\" width=\"25\"/></a></span>\n",
      "</td></tr>\n",
      "<tr>\n",
      "<td><a class=\"external text\" href=\"https://challonge.com/EUAC66\" rel=\"nofollow\">EU ARMS Challenge #66</a></td>\n",
      "<td>February 14, 2021</td>\n",
      "<td><a href=\"/wiki/Ripha\" title=\"Ripha\">Ripha</a></td>\n",
      "<td><span typeof=\"mw:File\"><a href=\"/wiki/Ninjara\" title=\"Ninjara\"><img class=\"mw-file-element\" decoding=\"async\" height=\"25\" src=\"//cdn.wikimg.net/en/armswiki/images/thumb/0/0c/Icon-Ninjara.png/25px-Icon-Ninjara.png\" srcset=\"//cdn.wikimg.net/en/armswiki/images/thumb/0/0c/Icon-Ninjara.png/38px-Icon-Ninjara.png 1.5x, //cdn.wikimg.net/en/armswiki/images/thumb/0/0c/Icon-Ninjara.png/50px-Icon-Ninjara.png 2x\" width=\"25\"/></a></span> <span typeof=\"mw:File\"><a href=\"/wiki/Misango\" title=\"Misango\"><img class=\"mw-file-element\" decoding=\"async\" height=\"25\" src=\"//cdn.wikimg.net/en/armswiki/images/thumb/2/25/Icon-Misango.png/25px-Icon-Misango.png\" srcset=\"//cdn.wikimg.net/en/armswiki/images/thumb/2/25/Icon-Misango.png/38px-Icon-Misango.png 1.5x, //cdn.wikimg.net/en/armswiki/images/thumb/2/25/Icon-Misango.png/50px-Icon-Misango.png 2x\" width=\"25\"/></a></span> <span typeof=\"mw:File\"><a href=\"/wiki/Helix\" title=\"Helix\"><img class=\"mw-file-element\" decoding=\"async\" height=\"25\" src=\"//cdn.wikimg.net/en/armswiki/images/thumb/c/c4/Icon-Helix.png/25px-Icon-Helix.png\" srcset=\"//cdn.wikimg.net/en/armswiki/images/thumb/c/c4/Icon-Helix.png/38px-Icon-Helix.png 1.5x, //cdn.wikimg.net/en/armswiki/images/thumb/c/c4/Icon-Helix.png/50px-Icon-Helix.png 2x\" width=\"25\"/></a></span>\n",
      "</td></tr>\n",
      "<tr>\n",
      "<td><a class=\"external text\" href=\"https://challonge.com/EUAC67\" rel=\"nofollow\">EU ARMS Challenge #67</a></td>\n",
      "<td>February 28, 2021</td>\n",
      "<td><a href=\"/wiki/Ripha\" title=\"Ripha\">Ripha</a></td>\n",
      "<td><span typeof=\"mw:File\"><a href=\"/wiki/Ninjara\" title=\"Ninjara\"><img class=\"mw-file-element\" decoding=\"async\" height=\"25\" src=\"//cdn.wikimg.net/en/armswiki/images/thumb/0/0c/Icon-Ninjara.png/25px-Icon-Ninjara.png\" srcset=\"//cdn.wikimg.net/en/armswiki/images/thumb/0/0c/Icon-Ninjara.png/38px-Icon-Ninjara.png 1.5x, //cdn.wikimg.net/en/armswiki/images/thumb/0/0c/Icon-Ninjara.png/50px-Icon-Ninjara.png 2x\" width=\"25\"/></a></span> <span typeof=\"mw:File\"><a href=\"/wiki/Misango\" title=\"Misango\"><img class=\"mw-file-element\" decoding=\"async\" height=\"25\" src=\"//cdn.wikimg.net/en/armswiki/images/thumb/2/25/Icon-Misango.png/25px-Icon-Misango.png\" srcset=\"//cdn.wikimg.net/en/armswiki/images/thumb/2/25/Icon-Misango.png/38px-Icon-Misango.png 1.5x, //cdn.wikimg.net/en/armswiki/images/thumb/2/25/Icon-Misango.png/50px-Icon-Misango.png 2x\" width=\"25\"/></a></span>\n",
      "</td></tr>\n",
      "<tr>\n",
      "<td><a class=\"external text\" href=\"https://challonge.com/EUAC68\" rel=\"nofollow\">EU ARMS Challenge #68</a></td>\n",
      "<td>March 14, 2021</td>\n",
      "<td><a href=\"/wiki/Ripha\" title=\"Ripha\">Ripha</a></td>\n",
      "<td><span typeof=\"mw:File\"><a href=\"/wiki/Ninjara\" title=\"Ninjara\"><img class=\"mw-file-element\" decoding=\"async\" height=\"25\" src=\"//cdn.wikimg.net/en/armswiki/images/thumb/0/0c/Icon-Ninjara.png/25px-Icon-Ninjara.png\" srcset=\"//cdn.wikimg.net/en/armswiki/images/thumb/0/0c/Icon-Ninjara.png/38px-Icon-Ninjara.png 1.5x, //cdn.wikimg.net/en/armswiki/images/thumb/0/0c/Icon-Ninjara.png/50px-Icon-Ninjara.png 2x\" width=\"25\"/></a></span> <span typeof=\"mw:File\"><a href=\"/wiki/Misango\" title=\"Misango\"><img class=\"mw-file-element\" decoding=\"async\" height=\"25\" src=\"//cdn.wikimg.net/en/armswiki/images/thumb/2/25/Icon-Misango.png/25px-Icon-Misango.png\" srcset=\"//cdn.wikimg.net/en/armswiki/images/thumb/2/25/Icon-Misango.png/38px-Icon-Misango.png 1.5x, //cdn.wikimg.net/en/armswiki/images/thumb/2/25/Icon-Misango.png/50px-Icon-Misango.png 2x\" width=\"25\"/></a></span>\n",
      "</td></tr>\n",
      "<tr>\n",
      "<td><a class=\"external text\" href=\"https://challonge.com/EUAC69\" rel=\"nofollow\">EU ARMS Challenge #69</a></td>\n",
      "<td>March 28, 2021</td>\n",
      "<td><a href=\"/wiki/Ripha\" title=\"Ripha\">Ripha</a></td>\n",
      "<td><span typeof=\"mw:File\"><a href=\"/wiki/Ninjara\" title=\"Ninjara\"><img class=\"mw-file-element\" decoding=\"async\" height=\"25\" src=\"//cdn.wikimg.net/en/armswiki/images/thumb/0/0c/Icon-Ninjara.png/25px-Icon-Ninjara.png\" srcset=\"//cdn.wikimg.net/en/armswiki/images/thumb/0/0c/Icon-Ninjara.png/38px-Icon-Ninjara.png 1.5x, //cdn.wikimg.net/en/armswiki/images/thumb/0/0c/Icon-Ninjara.png/50px-Icon-Ninjara.png 2x\" width=\"25\"/></a></span> <span typeof=\"mw:File\"><a href=\"/wiki/Misango\" title=\"Misango\"><img class=\"mw-file-element\" decoding=\"async\" height=\"25\" src=\"//cdn.wikimg.net/en/armswiki/images/thumb/2/25/Icon-Misango.png/25px-Icon-Misango.png\" srcset=\"//cdn.wikimg.net/en/armswiki/images/thumb/2/25/Icon-Misango.png/38px-Icon-Misango.png 1.5x, //cdn.wikimg.net/en/armswiki/images/thumb/2/25/Icon-Misango.png/50px-Icon-Misango.png 2x\" width=\"25\"/></a></span>\n",
      "</td></tr>\n",
      "<tr>\n",
      "<td><a class=\"external text\" href=\"https://challonge.com/EUAC70\" rel=\"nofollow\">EU ARMS Challenge #70</a></td>\n",
      "<td>April 11, 2021</td>\n",
      "<td><a href=\"/wiki/Ripha\" title=\"Ripha\">Ripha</a></td>\n",
      "<td><span typeof=\"mw:File\"><a href=\"/wiki/Ninjara\" title=\"Ninjara\"><img class=\"mw-file-element\" decoding=\"async\" height=\"25\" src=\"//cdn.wikimg.net/en/armswiki/images/thumb/0/0c/Icon-Ninjara.png/25px-Icon-Ninjara.png\" srcset=\"//cdn.wikimg.net/en/armswiki/images/thumb/0/0c/Icon-Ninjara.png/38px-Icon-Ninjara.png 1.5x, //cdn.wikimg.net/en/armswiki/images/thumb/0/0c/Icon-Ninjara.png/50px-Icon-Ninjara.png 2x\" width=\"25\"/></a></span> <span typeof=\"mw:File\"><a href=\"/wiki/Misango\" title=\"Misango\"><img class=\"mw-file-element\" decoding=\"async\" height=\"25\" src=\"//cdn.wikimg.net/en/armswiki/images/thumb/2/25/Icon-Misango.png/25px-Icon-Misango.png\" srcset=\"//cdn.wikimg.net/en/armswiki/images/thumb/2/25/Icon-Misango.png/38px-Icon-Misango.png 1.5x, //cdn.wikimg.net/en/armswiki/images/thumb/2/25/Icon-Misango.png/50px-Icon-Misango.png 2x\" width=\"25\"/></a></span>\n",
      "</td></tr>\n",
      "<tr>\n",
      "<td><a class=\"external text\" href=\"https://challonge.com/EUAC71\" rel=\"nofollow\">EU ARMS Challenge #71</a></td>\n",
      "<td>April 25, 2021</td>\n",
      "<td><a href=\"/wiki/Ripha\" title=\"Ripha\">Ripha</a></td>\n",
      "<td><span typeof=\"mw:File\"><a href=\"/wiki/Ninjara\" title=\"Ninjara\"><img class=\"mw-file-element\" decoding=\"async\" height=\"25\" src=\"//cdn.wikimg.net/en/armswiki/images/thumb/0/0c/Icon-Ninjara.png/25px-Icon-Ninjara.png\" srcset=\"//cdn.wikimg.net/en/armswiki/images/thumb/0/0c/Icon-Ninjara.png/38px-Icon-Ninjara.png 1.5x, //cdn.wikimg.net/en/armswiki/images/thumb/0/0c/Icon-Ninjara.png/50px-Icon-Ninjara.png 2x\" width=\"25\"/></a></span> <span typeof=\"mw:File\"><a href=\"/wiki/Misango\" title=\"Misango\"><img class=\"mw-file-element\" decoding=\"async\" height=\"25\" src=\"//cdn.wikimg.net/en/armswiki/images/thumb/2/25/Icon-Misango.png/25px-Icon-Misango.png\" srcset=\"//cdn.wikimg.net/en/armswiki/images/thumb/2/25/Icon-Misango.png/38px-Icon-Misango.png 1.5x, //cdn.wikimg.net/en/armswiki/images/thumb/2/25/Icon-Misango.png/50px-Icon-Misango.png 2x\" width=\"25\"/></a></span> <span typeof=\"mw:File\"><a href=\"/wiki/Kid_Cobra\" title=\"Kid Cobra\"><img class=\"mw-file-element\" decoding=\"async\" height=\"25\" src=\"//cdn.wikimg.net/en/armswiki/images/thumb/b/b7/Icon-Kid_Cobra.png/25px-Icon-Kid_Cobra.png\" srcset=\"//cdn.wikimg.net/en/armswiki/images/thumb/b/b7/Icon-Kid_Cobra.png/38px-Icon-Kid_Cobra.png 1.5x, //cdn.wikimg.net/en/armswiki/images/thumb/b/b7/Icon-Kid_Cobra.png/50px-Icon-Kid_Cobra.png 2x\" width=\"25\"/></a></span>\n",
      "</td></tr>\n",
      "<tr>\n",
      "<td><a class=\"external text\" href=\"https://challonge.com/EUAC72\" rel=\"nofollow\">EU ARMS Challenge #72</a></td>\n",
      "<td>May 9, 2021</td>\n",
      "<td><a href=\"/wiki/Ripha\" title=\"Ripha\">Ripha</a></td>\n",
      "<td><span typeof=\"mw:File\"><a href=\"/wiki/Ninjara\" title=\"Ninjara\"><img class=\"mw-file-element\" decoding=\"async\" height=\"25\" src=\"//cdn.wikimg.net/en/armswiki/images/thumb/0/0c/Icon-Ninjara.png/25px-Icon-Ninjara.png\" srcset=\"//cdn.wikimg.net/en/armswiki/images/thumb/0/0c/Icon-Ninjara.png/38px-Icon-Ninjara.png 1.5x, //cdn.wikimg.net/en/armswiki/images/thumb/0/0c/Icon-Ninjara.png/50px-Icon-Ninjara.png 2x\" width=\"25\"/></a></span> <span typeof=\"mw:File\"><a href=\"/wiki/Misango\" title=\"Misango\"><img class=\"mw-file-element\" decoding=\"async\" height=\"25\" src=\"//cdn.wikimg.net/en/armswiki/images/thumb/2/25/Icon-Misango.png/25px-Icon-Misango.png\" srcset=\"//cdn.wikimg.net/en/armswiki/images/thumb/2/25/Icon-Misango.png/38px-Icon-Misango.png 1.5x, //cdn.wikimg.net/en/armswiki/images/thumb/2/25/Icon-Misango.png/50px-Icon-Misango.png 2x\" width=\"25\"/></a></span>\n",
      "</td></tr>\n",
      "<tr>\n",
      "<td><a class=\"external text\" href=\"https://challonge.com/EUAC73\" rel=\"nofollow\">EU ARMS Challenge #73</a></td>\n",
      "<td>May 23, 2021</td>\n",
      "<td>Alistair</td>\n",
      "<td><span typeof=\"mw:File\"><a href=\"/wiki/Dr._Coyle\" title=\"Dr. Coyle\"><img class=\"mw-file-element\" decoding=\"async\" height=\"25\" src=\"//cdn.wikimg.net/en/armswiki/images/thumb/5/53/Icon-Dr._Coyle.png/25px-Icon-Dr._Coyle.png\" srcset=\"//cdn.wikimg.net/en/armswiki/images/thumb/5/53/Icon-Dr._Coyle.png/38px-Icon-Dr._Coyle.png 1.5x, //cdn.wikimg.net/en/armswiki/images/thumb/5/53/Icon-Dr._Coyle.png/50px-Icon-Dr._Coyle.png 2x\" width=\"25\"/></a></span>\n",
      "</td></tr>\n",
      "<tr>\n",
      "<td><a class=\"external text\" href=\"https://challonge.com/EUAC74\" rel=\"nofollow\">EU ARMS Challenge #74</a></td>\n",
      "<td>June 6, 2021</td>\n",
      "<td>Alistair</td>\n",
      "<td><span typeof=\"mw:File\"><a href=\"/wiki/Dr._Coyle\" title=\"Dr. Coyle\"><img class=\"mw-file-element\" decoding=\"async\" height=\"25\" src=\"//cdn.wikimg.net/en/armswiki/images/thumb/5/53/Icon-Dr._Coyle.png/25px-Icon-Dr._Coyle.png\" srcset=\"//cdn.wikimg.net/en/armswiki/images/thumb/5/53/Icon-Dr._Coyle.png/38px-Icon-Dr._Coyle.png 1.5x, //cdn.wikimg.net/en/armswiki/images/thumb/5/53/Icon-Dr._Coyle.png/50px-Icon-Dr._Coyle.png 2x\" width=\"25\"/></a></span>\n",
      "</td></tr>\n",
      "<tr>\n",
      "<td><a class=\"external text\" href=\"https://challonge.com/EUAC75\" rel=\"nofollow\">EU ARMS Challenge #75</a></td>\n",
      "<td>June 20, 2021</td>\n",
      "<td><a href=\"/wiki/Ripha\" title=\"Ripha\">Ripha</a></td>\n",
      "<td><span typeof=\"mw:File\"><a href=\"/wiki/Max_Brass\" title=\"Max Brass\"><img class=\"mw-file-element\" decoding=\"async\" height=\"25\" src=\"//cdn.wikimg.net/en/armswiki/images/thumb/4/45/Icon-Max_Brass.png/25px-Icon-Max_Brass.png\" srcset=\"//cdn.wikimg.net/en/armswiki/images/thumb/4/45/Icon-Max_Brass.png/38px-Icon-Max_Brass.png 1.5x, //cdn.wikimg.net/en/armswiki/images/thumb/4/45/Icon-Max_Brass.png/50px-Icon-Max_Brass.png 2x\" width=\"25\"/></a></span> <span typeof=\"mw:File\"><a href=\"/wiki/Kid_Cobra\" title=\"Kid Cobra\"><img class=\"mw-file-element\" decoding=\"async\" height=\"25\" src=\"//cdn.wikimg.net/en/armswiki/images/thumb/b/b7/Icon-Kid_Cobra.png/25px-Icon-Kid_Cobra.png\" srcset=\"//cdn.wikimg.net/en/armswiki/images/thumb/b/b7/Icon-Kid_Cobra.png/38px-Icon-Kid_Cobra.png 1.5x, //cdn.wikimg.net/en/armswiki/images/thumb/b/b7/Icon-Kid_Cobra.png/50px-Icon-Kid_Cobra.png 2x\" width=\"25\"/></a></span> <span typeof=\"mw:File\"><a href=\"/wiki/Twintelle\" title=\"Twintelle\"><img class=\"mw-file-element\" decoding=\"async\" height=\"25\" src=\"//cdn.wikimg.net/en/armswiki/images/thumb/a/a1/Icon-Twintelle.png/25px-Icon-Twintelle.png\" srcset=\"//cdn.wikimg.net/en/armswiki/images/thumb/a/a1/Icon-Twintelle.png/38px-Icon-Twintelle.png 1.5x, //cdn.wikimg.net/en/armswiki/images/thumb/a/a1/Icon-Twintelle.png/50px-Icon-Twintelle.png 2x\" width=\"25\"/></a></span> <span typeof=\"mw:File\"><a href=\"/wiki/Dr._Coyle\" title=\"Dr. Coyle\"><img class=\"mw-file-element\" decoding=\"async\" height=\"25\" src=\"//cdn.wikimg.net/en/armswiki/images/thumb/5/53/Icon-Dr._Coyle.png/25px-Icon-Dr._Coyle.png\" srcset=\"//cdn.wikimg.net/en/armswiki/images/thumb/5/53/Icon-Dr._Coyle.png/38px-Icon-Dr._Coyle.png 1.5x, //cdn.wikimg.net/en/armswiki/images/thumb/5/53/Icon-Dr._Coyle.png/50px-Icon-Dr._Coyle.png 2x\" width=\"25\"/></a></span>\n",
      "</td></tr>\n",
      "<tr>\n",
      "<td><a class=\"external text\" href=\"https://challonge.com/EUAC76\" rel=\"nofollow\">EU ARMS Challenge #76</a></td>\n",
      "<td>July 4, 2021</td>\n",
      "<td><a href=\"/wiki/Iceman92\" title=\"Iceman92\">Iceman92</a></td>\n",
      "<td><span typeof=\"mw:File\"><a href=\"/wiki/Ribbon_Girl\" title=\"Ribbon Girl\"><img class=\"mw-file-element\" decoding=\"async\" height=\"25\" src=\"//cdn.wikimg.net/en/armswiki/images/thumb/e/ed/Icon-Ribbon_Girl.png/25px-Icon-Ribbon_Girl.png\" srcset=\"//cdn.wikimg.net/en/armswiki/images/thumb/e/ed/Icon-Ribbon_Girl.png/38px-Icon-Ribbon_Girl.png 1.5x, //cdn.wikimg.net/en/armswiki/images/thumb/e/ed/Icon-Ribbon_Girl.png/50px-Icon-Ribbon_Girl.png 2x\" width=\"25\"/></a></span> <span typeof=\"mw:File\"><a href=\"/wiki/Springtron\" title=\"Springtron\"><img class=\"mw-file-element\" decoding=\"async\" height=\"25\" src=\"//cdn.wikimg.net/en/armswiki/images/thumb/2/27/Icon-Springtron.png/25px-Icon-Springtron.png\" srcset=\"//cdn.wikimg.net/en/armswiki/images/thumb/2/27/Icon-Springtron.png/38px-Icon-Springtron.png 1.5x, //cdn.wikimg.net/en/armswiki/images/thumb/2/27/Icon-Springtron.png/50px-Icon-Springtron.png 2x\" width=\"25\"/></a></span> <span typeof=\"mw:File\"><a href=\"/wiki/Dr._Coyle\" title=\"Dr. Coyle\"><img class=\"mw-file-element\" decoding=\"async\" height=\"25\" src=\"//cdn.wikimg.net/en/armswiki/images/thumb/5/53/Icon-Dr._Coyle.png/25px-Icon-Dr._Coyle.png\" srcset=\"//cdn.wikimg.net/en/armswiki/images/thumb/5/53/Icon-Dr._Coyle.png/38px-Icon-Dr._Coyle.png 1.5x, //cdn.wikimg.net/en/armswiki/images/thumb/5/53/Icon-Dr._Coyle.png/50px-Icon-Dr._Coyle.png 2x\" width=\"25\"/></a></span> <span typeof=\"mw:File\"><a href=\"/wiki/Misango\" title=\"Misango\"><img class=\"mw-file-element\" decoding=\"async\" height=\"25\" src=\"//cdn.wikimg.net/en/armswiki/images/thumb/2/25/Icon-Misango.png/25px-Icon-Misango.png\" srcset=\"//cdn.wikimg.net/en/armswiki/images/thumb/2/25/Icon-Misango.png/38px-Icon-Misango.png 1.5x, //cdn.wikimg.net/en/armswiki/images/thumb/2/25/Icon-Misango.png/50px-Icon-Misango.png 2x\" width=\"25\"/></a></span> <span typeof=\"mw:File\"><a href=\"/wiki/Byte_%26_Barq\" title=\"Byte &amp; Barq\"><img class=\"mw-file-element\" decoding=\"async\" height=\"25\" src=\"//cdn.wikimg.net/en/armswiki/images/thumb/5/52/Icon-Byte_%26_Barq.png/25px-Icon-Byte_%26_Barq.png\" srcset=\"//cdn.wikimg.net/en/armswiki/images/thumb/5/52/Icon-Byte_%26_Barq.png/38px-Icon-Byte_%26_Barq.png 1.5x, //cdn.wikimg.net/en/armswiki/images/thumb/5/52/Icon-Byte_%26_Barq.png/50px-Icon-Byte_%26_Barq.png 2x\" width=\"25\"/></a></span>\n",
      "</td></tr>\n",
      "<tr>\n",
      "<td><a class=\"external text\" href=\"https://challonge.com/EUAC77\" rel=\"nofollow\">EU ARMS Challenge #77</a></td>\n",
      "<td>August 1, 2021</td>\n",
      "<td><a href=\"/wiki/Grimwood\" title=\"Grimwood\">Grimwood</a></td>\n",
      "<td><span typeof=\"mw:File\"><a href=\"/wiki/Max_Brass\" title=\"Max Brass\"><img class=\"mw-file-element\" decoding=\"async\" height=\"25\" src=\"//cdn.wikimg.net/en/armswiki/images/thumb/4/45/Icon-Max_Brass.png/25px-Icon-Max_Brass.png\" srcset=\"//cdn.wikimg.net/en/armswiki/images/thumb/4/45/Icon-Max_Brass.png/38px-Icon-Max_Brass.png 1.5x, //cdn.wikimg.net/en/armswiki/images/thumb/4/45/Icon-Max_Brass.png/50px-Icon-Max_Brass.png 2x\" width=\"25\"/></a></span> <span typeof=\"mw:File\"><a href=\"/wiki/Dr._Coyle\" title=\"Dr. Coyle\"><img class=\"mw-file-element\" decoding=\"async\" height=\"25\" src=\"//cdn.wikimg.net/en/armswiki/images/thumb/5/53/Icon-Dr._Coyle.png/25px-Icon-Dr._Coyle.png\" srcset=\"//cdn.wikimg.net/en/armswiki/images/thumb/5/53/Icon-Dr._Coyle.png/38px-Icon-Dr._Coyle.png 1.5x, //cdn.wikimg.net/en/armswiki/images/thumb/5/53/Icon-Dr._Coyle.png/50px-Icon-Dr._Coyle.png 2x\" width=\"25\"/></a></span>\n",
      "</td></tr>\n",
      "<tr>\n",
      "<td><a class=\"external text\" href=\"https://challonge.com/EUAC78\" rel=\"nofollow\">EU ARMS Challenge #78</a></td>\n",
      "<td>August 15, 2021</td>\n",
      "<td><a href=\"/wiki/Ripha\" title=\"Ripha\">Ripha</a></td>\n",
      "<td><span typeof=\"mw:File\"><a href=\"/wiki/Ninjara\" title=\"Ninjara\"><img class=\"mw-file-element\" decoding=\"async\" height=\"25\" src=\"//cdn.wikimg.net/en/armswiki/images/thumb/0/0c/Icon-Ninjara.png/25px-Icon-Ninjara.png\" srcset=\"//cdn.wikimg.net/en/armswiki/images/thumb/0/0c/Icon-Ninjara.png/38px-Icon-Ninjara.png 1.5x, //cdn.wikimg.net/en/armswiki/images/thumb/0/0c/Icon-Ninjara.png/50px-Icon-Ninjara.png 2x\" width=\"25\"/></a></span> <span typeof=\"mw:File\"><a href=\"/wiki/Misango\" title=\"Misango\"><img class=\"mw-file-element\" decoding=\"async\" height=\"25\" src=\"//cdn.wikimg.net/en/armswiki/images/thumb/2/25/Icon-Misango.png/25px-Icon-Misango.png\" srcset=\"//cdn.wikimg.net/en/armswiki/images/thumb/2/25/Icon-Misango.png/38px-Icon-Misango.png 1.5x, //cdn.wikimg.net/en/armswiki/images/thumb/2/25/Icon-Misango.png/50px-Icon-Misango.png 2x\" width=\"25\"/></a></span> <span typeof=\"mw:File\"><a href=\"/wiki/Master_Mummy\" title=\"Master Mummy\"><img class=\"mw-file-element\" decoding=\"async\" height=\"25\" src=\"//cdn.wikimg.net/en/armswiki/images/thumb/5/58/Icon-Master_Mummy.png/25px-Icon-Master_Mummy.png\" srcset=\"//cdn.wikimg.net/en/armswiki/images/thumb/5/58/Icon-Master_Mummy.png/38px-Icon-Master_Mummy.png 1.5x, //cdn.wikimg.net/en/armswiki/images/thumb/5/58/Icon-Master_Mummy.png/50px-Icon-Master_Mummy.png 2x\" width=\"25\"/></a></span>\n",
      "</td></tr>\n",
      "<tr>\n",
      "<td><a class=\"external text\" href=\"https://challonge.com/EUAC79\" rel=\"nofollow\">EU ARMS Challenge #79</a></td>\n",
      "<td>August 29, 2021</td>\n",
      "<td>Yam</td>\n",
      "<td><span typeof=\"mw:File\"><a href=\"/wiki/Min_Min\" title=\"Min Min\"><img class=\"mw-file-element\" decoding=\"async\" height=\"25\" src=\"//cdn.wikimg.net/en/armswiki/images/thumb/9/93/Icon-Min_Min.png/25px-Icon-Min_Min.png\" srcset=\"//cdn.wikimg.net/en/armswiki/images/thumb/9/93/Icon-Min_Min.png/38px-Icon-Min_Min.png 1.5x, //cdn.wikimg.net/en/armswiki/images/thumb/9/93/Icon-Min_Min.png/50px-Icon-Min_Min.png 2x\" width=\"25\"/></a></span> <span typeof=\"mw:File\"><a href=\"/wiki/Lola_Pop\" title=\"Lola Pop\"><img class=\"mw-file-element\" decoding=\"async\" height=\"25\" src=\"//cdn.wikimg.net/en/armswiki/images/thumb/e/e5/Icon-Lola_Pop.png/25px-Icon-Lola_Pop.png\" srcset=\"//cdn.wikimg.net/en/armswiki/images/thumb/e/e5/Icon-Lola_Pop.png/38px-Icon-Lola_Pop.png 1.5x, //cdn.wikimg.net/en/armswiki/images/thumb/e/e5/Icon-Lola_Pop.png/50px-Icon-Lola_Pop.png 2x\" width=\"25\"/></a></span> <span typeof=\"mw:File\"><a href=\"/wiki/Ribbon_Girl\" title=\"Ribbon Girl\"><img class=\"mw-file-element\" decoding=\"async\" height=\"25\" src=\"//cdn.wikimg.net/en/armswiki/images/thumb/e/ed/Icon-Ribbon_Girl.png/25px-Icon-Ribbon_Girl.png\" srcset=\"//cdn.wikimg.net/en/armswiki/images/thumb/e/ed/Icon-Ribbon_Girl.png/38px-Icon-Ribbon_Girl.png 1.5x, //cdn.wikimg.net/en/armswiki/images/thumb/e/ed/Icon-Ribbon_Girl.png/50px-Icon-Ribbon_Girl.png 2x\" width=\"25\"/></a></span>\n",
      "</td></tr>\n",
      "<tr>\n",
      "<td><a class=\"external text\" href=\"https://challonge.com/EUAC80\" rel=\"nofollow\">EU ARMS Challenge #80</a></td>\n",
      "<td>September 19, 2021</td>\n",
      "<td><a href=\"/wiki/Ripha\" title=\"Ripha\">Ripha</a></td>\n",
      "<td><span typeof=\"mw:File\"><a href=\"/wiki/Misango\" title=\"Misango\"><img class=\"mw-file-element\" decoding=\"async\" height=\"25\" src=\"//cdn.wikimg.net/en/armswiki/images/thumb/2/25/Icon-Misango.png/25px-Icon-Misango.png\" srcset=\"//cdn.wikimg.net/en/armswiki/images/thumb/2/25/Icon-Misango.png/38px-Icon-Misango.png 1.5x, //cdn.wikimg.net/en/armswiki/images/thumb/2/25/Icon-Misango.png/50px-Icon-Misango.png 2x\" width=\"25\"/></a></span>\n",
      "</td></tr>\n",
      "<tr>\n",
      "<td><a class=\"external text\" href=\"https://challonge.com/EUAC81\" rel=\"nofollow\">EU ARMS Challenge #81</a></td>\n",
      "<td>October 3, 2021</td>\n",
      "<td><a href=\"/wiki/Ripha\" title=\"Ripha\">Ripha</a></td>\n",
      "<td><span typeof=\"mw:File\"><a href=\"/wiki/Ninjara\" title=\"Ninjara\"><img class=\"mw-file-element\" decoding=\"async\" height=\"25\" src=\"//cdn.wikimg.net/en/armswiki/images/thumb/0/0c/Icon-Ninjara.png/25px-Icon-Ninjara.png\" srcset=\"//cdn.wikimg.net/en/armswiki/images/thumb/0/0c/Icon-Ninjara.png/38px-Icon-Ninjara.png 1.5x, //cdn.wikimg.net/en/armswiki/images/thumb/0/0c/Icon-Ninjara.png/50px-Icon-Ninjara.png 2x\" width=\"25\"/></a></span> <span typeof=\"mw:File\"><a href=\"/wiki/Misango\" title=\"Misango\"><img class=\"mw-file-element\" decoding=\"async\" height=\"25\" src=\"//cdn.wikimg.net/en/armswiki/images/thumb/2/25/Icon-Misango.png/25px-Icon-Misango.png\" srcset=\"//cdn.wikimg.net/en/armswiki/images/thumb/2/25/Icon-Misango.png/38px-Icon-Misango.png 1.5x, //cdn.wikimg.net/en/armswiki/images/thumb/2/25/Icon-Misango.png/50px-Icon-Misango.png 2x\" width=\"25\"/></a></span> <span typeof=\"mw:File\"><a href=\"/wiki/Mechanica\" title=\"Mechanica\"><img class=\"mw-file-element\" decoding=\"async\" height=\"25\" src=\"//cdn.wikimg.net/en/armswiki/images/thumb/e/ea/Icon-Mechanica.png/25px-Icon-Mechanica.png\" srcset=\"//cdn.wikimg.net/en/armswiki/images/thumb/e/ea/Icon-Mechanica.png/38px-Icon-Mechanica.png 1.5x, //cdn.wikimg.net/en/armswiki/images/thumb/e/ea/Icon-Mechanica.png/50px-Icon-Mechanica.png 2x\" width=\"25\"/></a></span>\n",
      "</td></tr>\n",
      "<tr>\n",
      "<td><a class=\"external text\" href=\"https://challonge.com/EUAC82\" rel=\"nofollow\">EU ARMS Challenge #82</a></td>\n",
      "<td>October 17, 2021</td>\n",
      "<td><a href=\"/wiki/Ripha\" title=\"Ripha\">Ripha</a></td>\n",
      "<td><span typeof=\"mw:File\"><a href=\"/wiki/Ninjara\" title=\"Ninjara\"><img class=\"mw-file-element\" decoding=\"async\" height=\"25\" src=\"//cdn.wikimg.net/en/armswiki/images/thumb/0/0c/Icon-Ninjara.png/25px-Icon-Ninjara.png\" srcset=\"//cdn.wikimg.net/en/armswiki/images/thumb/0/0c/Icon-Ninjara.png/38px-Icon-Ninjara.png 1.5x, //cdn.wikimg.net/en/armswiki/images/thumb/0/0c/Icon-Ninjara.png/50px-Icon-Ninjara.png 2x\" width=\"25\"/></a></span> <span typeof=\"mw:File\"><a href=\"/wiki/Misango\" title=\"Misango\"><img class=\"mw-file-element\" decoding=\"async\" height=\"25\" src=\"//cdn.wikimg.net/en/armswiki/images/thumb/2/25/Icon-Misango.png/25px-Icon-Misango.png\" srcset=\"//cdn.wikimg.net/en/armswiki/images/thumb/2/25/Icon-Misango.png/38px-Icon-Misango.png 1.5x, //cdn.wikimg.net/en/armswiki/images/thumb/2/25/Icon-Misango.png/50px-Icon-Misango.png 2x\" width=\"25\"/></a></span>\n",
      "</td></tr>\n",
      "<tr>\n",
      "<td><a class=\"external text\" href=\"https://challonge.com/EUAC83\" rel=\"nofollow\">EU ARMS Challenge #83</a></td>\n",
      "<td>November 14, 2021</td>\n",
      "<td><a href=\"/wiki/Ripha\" title=\"Ripha\">Ripha</a></td>\n",
      "<td><span typeof=\"mw:File\"><a href=\"/wiki/Ninjara\" title=\"Ninjara\"><img class=\"mw-file-element\" decoding=\"async\" height=\"25\" src=\"//cdn.wikimg.net/en/armswiki/images/thumb/0/0c/Icon-Ninjara.png/25px-Icon-Ninjara.png\" srcset=\"//cdn.wikimg.net/en/armswiki/images/thumb/0/0c/Icon-Ninjara.png/38px-Icon-Ninjara.png 1.5x, //cdn.wikimg.net/en/armswiki/images/thumb/0/0c/Icon-Ninjara.png/50px-Icon-Ninjara.png 2x\" width=\"25\"/></a></span> <span typeof=\"mw:File\"><a href=\"/wiki/Misango\" title=\"Misango\"><img class=\"mw-file-element\" decoding=\"async\" height=\"25\" src=\"//cdn.wikimg.net/en/armswiki/images/thumb/2/25/Icon-Misango.png/25px-Icon-Misango.png\" srcset=\"//cdn.wikimg.net/en/armswiki/images/thumb/2/25/Icon-Misango.png/38px-Icon-Misango.png 1.5x, //cdn.wikimg.net/en/armswiki/images/thumb/2/25/Icon-Misango.png/50px-Icon-Misango.png 2x\" width=\"25\"/></a></span>\n",
      "</td></tr>\n",
      "<tr>\n",
      "<td><a class=\"external text\" href=\"https://challonge.com/EUAC84\" rel=\"nofollow\">EU ARMS Challenge #84</a></td>\n",
      "<td>November 28, 2021</td>\n",
      "<td><a href=\"/wiki/Ripha\" title=\"Ripha\">Ripha</a></td>\n",
      "<td><span typeof=\"mw:File\"><a href=\"/wiki/Misango\" title=\"Misango\"><img class=\"mw-file-element\" decoding=\"async\" height=\"25\" src=\"//cdn.wikimg.net/en/armswiki/images/thumb/2/25/Icon-Misango.png/25px-Icon-Misango.png\" srcset=\"//cdn.wikimg.net/en/armswiki/images/thumb/2/25/Icon-Misango.png/38px-Icon-Misango.png 1.5x, //cdn.wikimg.net/en/armswiki/images/thumb/2/25/Icon-Misango.png/50px-Icon-Misango.png 2x\" width=\"25\"/></a></span>\n",
      "</td></tr>\n",
      "<tr>\n",
      "<td><a class=\"external text\" href=\"https://challonge.com/EUAC85\" rel=\"nofollow\">EU ARMS Challenge #85</a></td>\n",
      "<td>December 12, 2021</td>\n",
      "<td><a href=\"/wiki/Ripha\" title=\"Ripha\">Ripha</a></td>\n",
      "<td><span typeof=\"mw:File\"><a href=\"/wiki/Misango\" title=\"Misango\"><img class=\"mw-file-element\" decoding=\"async\" height=\"25\" src=\"//cdn.wikimg.net/en/armswiki/images/thumb/2/25/Icon-Misango.png/25px-Icon-Misango.png\" srcset=\"//cdn.wikimg.net/en/armswiki/images/thumb/2/25/Icon-Misango.png/38px-Icon-Misango.png 1.5x, //cdn.wikimg.net/en/armswiki/images/thumb/2/25/Icon-Misango.png/50px-Icon-Misango.png 2x\" width=\"25\"/></a></span> <span typeof=\"mw:File\"><a href=\"/wiki/Helix\" title=\"Helix\"><img class=\"mw-file-element\" decoding=\"async\" height=\"25\" src=\"//cdn.wikimg.net/en/armswiki/images/thumb/c/c4/Icon-Helix.png/25px-Icon-Helix.png\" srcset=\"//cdn.wikimg.net/en/armswiki/images/thumb/c/c4/Icon-Helix.png/38px-Icon-Helix.png 1.5x, //cdn.wikimg.net/en/armswiki/images/thumb/c/c4/Icon-Helix.png/50px-Icon-Helix.png 2x\" width=\"25\"/></a></span> <span typeof=\"mw:File\"><a href=\"/wiki/Master_Mummy\" title=\"Master Mummy\"><img class=\"mw-file-element\" decoding=\"async\" height=\"25\" src=\"//cdn.wikimg.net/en/armswiki/images/thumb/5/58/Icon-Master_Mummy.png/25px-Icon-Master_Mummy.png\" srcset=\"//cdn.wikimg.net/en/armswiki/images/thumb/5/58/Icon-Master_Mummy.png/38px-Icon-Master_Mummy.png 1.5x, //cdn.wikimg.net/en/armswiki/images/thumb/5/58/Icon-Master_Mummy.png/50px-Icon-Master_Mummy.png 2x\" width=\"25\"/></a></span>\n",
      "</td></tr>\n",
      "<tr>\n",
      "<td><a class=\"external text\" href=\"https://challonge.com/EUAC86\" rel=\"nofollow\">EU ARMS Challenge #86</a></td>\n",
      "<td>January 23, 2022</td>\n",
      "<td><a class=\"new\" href=\"/w/index.php?title=Replicant&amp;action=edit&amp;redlink=1\" title=\"Replicant (page does not exist)\">Replicant</a></td>\n",
      "<td><span typeof=\"mw:File\"><a href=\"/wiki/Lola_Pop\" title=\"Lola Pop\"><img class=\"mw-file-element\" decoding=\"async\" height=\"25\" src=\"//cdn.wikimg.net/en/armswiki/images/thumb/e/e5/Icon-Lola_Pop.png/25px-Icon-Lola_Pop.png\" srcset=\"//cdn.wikimg.net/en/armswiki/images/thumb/e/e5/Icon-Lola_Pop.png/38px-Icon-Lola_Pop.png 1.5x, //cdn.wikimg.net/en/armswiki/images/thumb/e/e5/Icon-Lola_Pop.png/50px-Icon-Lola_Pop.png 2x\" width=\"25\"/></a></span>\n",
      "</td></tr>\n",
      "<tr>\n",
      "<td><a class=\"external text\" href=\"https://challonge.com/EUAC87\" rel=\"nofollow\">EU ARMS Challenge #87</a></td>\n",
      "<td>February 6, 2022</td>\n",
      "<td>Alistair</td>\n",
      "<td><span typeof=\"mw:File\"><a href=\"/wiki/Dr._Coyle\" title=\"Dr. Coyle\"><img class=\"mw-file-element\" decoding=\"async\" height=\"25\" src=\"//cdn.wikimg.net/en/armswiki/images/thumb/5/53/Icon-Dr._Coyle.png/25px-Icon-Dr._Coyle.png\" srcset=\"//cdn.wikimg.net/en/armswiki/images/thumb/5/53/Icon-Dr._Coyle.png/38px-Icon-Dr._Coyle.png 1.5x, //cdn.wikimg.net/en/armswiki/images/thumb/5/53/Icon-Dr._Coyle.png/50px-Icon-Dr._Coyle.png 2x\" width=\"25\"/></a></span>\n",
      "</td></tr>\n",
      "<tr>\n",
      "<td><a class=\"external text\" href=\"https://challonge.com/EUAC88\" rel=\"nofollow\">EU ARMS Challenge #88</a></td>\n",
      "<td>February 20, 2022</td>\n",
      "<td><a href=\"/wiki/Ripha\" title=\"Ripha\">Ripha</a></td>\n",
      "<td><span typeof=\"mw:File\"><a href=\"/wiki/Misango\" title=\"Misango\"><img class=\"mw-file-element\" decoding=\"async\" height=\"25\" src=\"//cdn.wikimg.net/en/armswiki/images/thumb/2/25/Icon-Misango.png/25px-Icon-Misango.png\" srcset=\"//cdn.wikimg.net/en/armswiki/images/thumb/2/25/Icon-Misango.png/38px-Icon-Misango.png 1.5x, //cdn.wikimg.net/en/armswiki/images/thumb/2/25/Icon-Misango.png/50px-Icon-Misango.png 2x\" width=\"25\"/></a></span> <span typeof=\"mw:File\"><a href=\"/wiki/Ninjara\" title=\"Ninjara\"><img class=\"mw-file-element\" decoding=\"async\" height=\"25\" src=\"//cdn.wikimg.net/en/armswiki/images/thumb/0/0c/Icon-Ninjara.png/25px-Icon-Ninjara.png\" srcset=\"//cdn.wikimg.net/en/armswiki/images/thumb/0/0c/Icon-Ninjara.png/38px-Icon-Ninjara.png 1.5x, //cdn.wikimg.net/en/armswiki/images/thumb/0/0c/Icon-Ninjara.png/50px-Icon-Ninjara.png 2x\" width=\"25\"/></a></span>\n",
      "</td></tr>\n",
      "<tr>\n",
      "<td><a class=\"external text\" href=\"https://challonge.com/EUAC89\" rel=\"nofollow\">EU ARMS Challenge #89</a></td>\n",
      "<td>March 20, 2022</td>\n",
      "<td><a href=\"/wiki/Ripha\" title=\"Ripha\">Ripha</a></td>\n",
      "<td><span typeof=\"mw:File\"><a href=\"/wiki/Misango\" title=\"Misango\"><img class=\"mw-file-element\" decoding=\"async\" height=\"25\" src=\"//cdn.wikimg.net/en/armswiki/images/thumb/2/25/Icon-Misango.png/25px-Icon-Misango.png\" srcset=\"//cdn.wikimg.net/en/armswiki/images/thumb/2/25/Icon-Misango.png/38px-Icon-Misango.png 1.5x, //cdn.wikimg.net/en/armswiki/images/thumb/2/25/Icon-Misango.png/50px-Icon-Misango.png 2x\" width=\"25\"/></a></span>\n",
      "</td></tr>\n",
      "<tr>\n",
      "<td><a class=\"external text\" href=\"https://challonge.com/EUAC90\" rel=\"nofollow\">EU ARMS Challenge #90</a></td>\n",
      "<td>April 3, 2022</td>\n",
      "<td>Alistair</td>\n",
      "<td><span typeof=\"mw:File\"><a href=\"/wiki/Dr._Coyle\" title=\"Dr. Coyle\"><img class=\"mw-file-element\" decoding=\"async\" height=\"25\" src=\"//cdn.wikimg.net/en/armswiki/images/thumb/5/53/Icon-Dr._Coyle.png/25px-Icon-Dr._Coyle.png\" srcset=\"//cdn.wikimg.net/en/armswiki/images/thumb/5/53/Icon-Dr._Coyle.png/38px-Icon-Dr._Coyle.png 1.5x, //cdn.wikimg.net/en/armswiki/images/thumb/5/53/Icon-Dr._Coyle.png/50px-Icon-Dr._Coyle.png 2x\" width=\"25\"/></a></span>\n",
      "</td></tr>\n",
      "<tr>\n",
      "<td><a class=\"external text\" href=\"https://challonge.com/EUAC91\" rel=\"nofollow\">EU ARMS Challenge #91</a></td>\n",
      "<td>April 24, 2022</td>\n",
      "<td><a href=\"/wiki/Ripha\" title=\"Ripha\">Ripha</a></td>\n",
      "<td><span typeof=\"mw:File\"><a href=\"/wiki/Min_Min\" title=\"Min Min\"><img class=\"mw-file-element\" decoding=\"async\" height=\"25\" src=\"//cdn.wikimg.net/en/armswiki/images/thumb/9/93/Icon-Min_Min.png/25px-Icon-Min_Min.png\" srcset=\"//cdn.wikimg.net/en/armswiki/images/thumb/9/93/Icon-Min_Min.png/38px-Icon-Min_Min.png 1.5x, //cdn.wikimg.net/en/armswiki/images/thumb/9/93/Icon-Min_Min.png/50px-Icon-Min_Min.png 2x\" width=\"25\"/></a></span> <span typeof=\"mw:File\"><a href=\"/wiki/Master_Mummy\" title=\"Master Mummy\"><img class=\"mw-file-element\" decoding=\"async\" height=\"25\" src=\"//cdn.wikimg.net/en/armswiki/images/thumb/5/58/Icon-Master_Mummy.png/25px-Icon-Master_Mummy.png\" srcset=\"//cdn.wikimg.net/en/armswiki/images/thumb/5/58/Icon-Master_Mummy.png/38px-Icon-Master_Mummy.png 1.5x, //cdn.wikimg.net/en/armswiki/images/thumb/5/58/Icon-Master_Mummy.png/50px-Icon-Master_Mummy.png 2x\" width=\"25\"/></a></span> <span typeof=\"mw:File\"><a href=\"/wiki/Misango\" title=\"Misango\"><img class=\"mw-file-element\" decoding=\"async\" height=\"25\" src=\"//cdn.wikimg.net/en/armswiki/images/thumb/2/25/Icon-Misango.png/25px-Icon-Misango.png\" srcset=\"//cdn.wikimg.net/en/armswiki/images/thumb/2/25/Icon-Misango.png/38px-Icon-Misango.png 1.5x, //cdn.wikimg.net/en/armswiki/images/thumb/2/25/Icon-Misango.png/50px-Icon-Misango.png 2x\" width=\"25\"/></a></span>\n",
      "</td></tr>\n",
      "<tr>\n",
      "<td><a class=\"external text\" href=\"https://challonge.com/EUAC92\" rel=\"nofollow\">EU ARMS Challenge #92</a></td>\n",
      "<td>May 8, 2022</td>\n",
      "<td><a href=\"/wiki/Ripha\" title=\"Ripha\">Ripha</a></td>\n",
      "<td><span typeof=\"mw:File\"><a href=\"/wiki/Mechanica\" title=\"Mechanica\"><img class=\"mw-file-element\" decoding=\"async\" height=\"25\" src=\"//cdn.wikimg.net/en/armswiki/images/thumb/e/ea/Icon-Mechanica.png/25px-Icon-Mechanica.png\" srcset=\"//cdn.wikimg.net/en/armswiki/images/thumb/e/ea/Icon-Mechanica.png/38px-Icon-Mechanica.png 1.5x, //cdn.wikimg.net/en/armswiki/images/thumb/e/ea/Icon-Mechanica.png/50px-Icon-Mechanica.png 2x\" width=\"25\"/></a></span>\n",
      "</td></tr>\n",
      "<tr>\n",
      "<td><a class=\"external text\" href=\"https://challonge.com/EUAC93\" rel=\"nofollow\">EU ARMS Challenge #93</a></td>\n",
      "<td>May 22, 2022</td>\n",
      "<td><a href=\"/wiki/Ripha\" title=\"Ripha\">Ripha</a></td>\n",
      "<td><span typeof=\"mw:File\"><a href=\"/wiki/Ninjara\" title=\"Ninjara\"><img class=\"mw-file-element\" decoding=\"async\" height=\"25\" src=\"//cdn.wikimg.net/en/armswiki/images/thumb/0/0c/Icon-Ninjara.png/25px-Icon-Ninjara.png\" srcset=\"//cdn.wikimg.net/en/armswiki/images/thumb/0/0c/Icon-Ninjara.png/38px-Icon-Ninjara.png 1.5x, //cdn.wikimg.net/en/armswiki/images/thumb/0/0c/Icon-Ninjara.png/50px-Icon-Ninjara.png 2x\" width=\"25\"/></a></span> <span typeof=\"mw:File\"><a href=\"/wiki/Misango\" title=\"Misango\"><img class=\"mw-file-element\" decoding=\"async\" height=\"25\" src=\"//cdn.wikimg.net/en/armswiki/images/thumb/2/25/Icon-Misango.png/25px-Icon-Misango.png\" srcset=\"//cdn.wikimg.net/en/armswiki/images/thumb/2/25/Icon-Misango.png/38px-Icon-Misango.png 1.5x, //cdn.wikimg.net/en/armswiki/images/thumb/2/25/Icon-Misango.png/50px-Icon-Misango.png 2x\" width=\"25\"/></a></span>\n",
      "</td></tr>\n",
      "<tr>\n",
      "<td><a class=\"external text\" href=\"https://challonge.com/EUAC94\" rel=\"nofollow\">EU ARMS Challenge #94</a></td>\n",
      "<td>June 5, 2022</td>\n",
      "<td><a href=\"/wiki/Ripha\" title=\"Ripha\">Ripha</a></td>\n",
      "<td><span typeof=\"mw:File\"><a href=\"/wiki/Misango\" title=\"Misango\"><img class=\"mw-file-element\" decoding=\"async\" height=\"25\" src=\"//cdn.wikimg.net/en/armswiki/images/thumb/2/25/Icon-Misango.png/25px-Icon-Misango.png\" srcset=\"//cdn.wikimg.net/en/armswiki/images/thumb/2/25/Icon-Misango.png/38px-Icon-Misango.png 1.5x, //cdn.wikimg.net/en/armswiki/images/thumb/2/25/Icon-Misango.png/50px-Icon-Misango.png 2x\" width=\"25\"/></a></span> <span typeof=\"mw:File\"><a href=\"/wiki/Twintelle\" title=\"Twintelle\"><img class=\"mw-file-element\" decoding=\"async\" height=\"25\" src=\"//cdn.wikimg.net/en/armswiki/images/thumb/a/a1/Icon-Twintelle.png/25px-Icon-Twintelle.png\" srcset=\"//cdn.wikimg.net/en/armswiki/images/thumb/a/a1/Icon-Twintelle.png/38px-Icon-Twintelle.png 1.5x, //cdn.wikimg.net/en/armswiki/images/thumb/a/a1/Icon-Twintelle.png/50px-Icon-Twintelle.png 2x\" width=\"25\"/></a></span> <span typeof=\"mw:File\"><a href=\"/wiki/Ninjara\" title=\"Ninjara\"><img class=\"mw-file-element\" decoding=\"async\" height=\"25\" src=\"//cdn.wikimg.net/en/armswiki/images/thumb/0/0c/Icon-Ninjara.png/25px-Icon-Ninjara.png\" srcset=\"//cdn.wikimg.net/en/armswiki/images/thumb/0/0c/Icon-Ninjara.png/38px-Icon-Ninjara.png 1.5x, //cdn.wikimg.net/en/armswiki/images/thumb/0/0c/Icon-Ninjara.png/50px-Icon-Ninjara.png 2x\" width=\"25\"/></a></span>\n",
      "</td></tr>\n",
      "<tr>\n",
      "<td><a class=\"external text\" href=\"https://challonge.com/EUAC95\" rel=\"nofollow\">EU ARMS Challenge #95</a></td>\n",
      "<td>June 19, 2022</td>\n",
      "<td><a href=\"/wiki/Grimwood\" title=\"Grimwood\">Grimwood</a></td>\n",
      "<td><span typeof=\"mw:File\"><a href=\"/wiki/Max_Brass\" title=\"Max Brass\"><img class=\"mw-file-element\" decoding=\"async\" height=\"25\" src=\"//cdn.wikimg.net/en/armswiki/images/thumb/4/45/Icon-Max_Brass.png/25px-Icon-Max_Brass.png\" srcset=\"//cdn.wikimg.net/en/armswiki/images/thumb/4/45/Icon-Max_Brass.png/38px-Icon-Max_Brass.png 1.5x, //cdn.wikimg.net/en/armswiki/images/thumb/4/45/Icon-Max_Brass.png/50px-Icon-Max_Brass.png 2x\" width=\"25\"/></a></span> <span typeof=\"mw:File\"><a href=\"/wiki/Twintelle\" title=\"Twintelle\"><img class=\"mw-file-element\" decoding=\"async\" height=\"25\" src=\"//cdn.wikimg.net/en/armswiki/images/thumb/a/a1/Icon-Twintelle.png/25px-Icon-Twintelle.png\" srcset=\"//cdn.wikimg.net/en/armswiki/images/thumb/a/a1/Icon-Twintelle.png/38px-Icon-Twintelle.png 1.5x, //cdn.wikimg.net/en/armswiki/images/thumb/a/a1/Icon-Twintelle.png/50px-Icon-Twintelle.png 2x\" width=\"25\"/></a></span> <span typeof=\"mw:File\"><a href=\"/wiki/Dr._Coyle\" title=\"Dr. Coyle\"><img class=\"mw-file-element\" decoding=\"async\" height=\"25\" src=\"//cdn.wikimg.net/en/armswiki/images/thumb/5/53/Icon-Dr._Coyle.png/25px-Icon-Dr._Coyle.png\" srcset=\"//cdn.wikimg.net/en/armswiki/images/thumb/5/53/Icon-Dr._Coyle.png/38px-Icon-Dr._Coyle.png 1.5x, //cdn.wikimg.net/en/armswiki/images/thumb/5/53/Icon-Dr._Coyle.png/50px-Icon-Dr._Coyle.png 2x\" width=\"25\"/></a></span> <span typeof=\"mw:File\"><a href=\"/wiki/Kid_Cobra\" title=\"Kid Cobra\"><img class=\"mw-file-element\" decoding=\"async\" height=\"25\" src=\"//cdn.wikimg.net/en/armswiki/images/thumb/b/b7/Icon-Kid_Cobra.png/25px-Icon-Kid_Cobra.png\" srcset=\"//cdn.wikimg.net/en/armswiki/images/thumb/b/b7/Icon-Kid_Cobra.png/38px-Icon-Kid_Cobra.png 1.5x, //cdn.wikimg.net/en/armswiki/images/thumb/b/b7/Icon-Kid_Cobra.png/50px-Icon-Kid_Cobra.png 2x\" width=\"25\"/></a></span>\n",
      "</td></tr>\n",
      "<tr>\n",
      "<td><a class=\"external text\" href=\"https://challonge.com/EUAC96\" rel=\"nofollow\">EU ARMS Challenge #96</a></td>\n",
      "<td>July 3, 2022</td>\n",
      "<td><a href=\"/wiki/Ripha\" title=\"Ripha\">Ripha</a></td>\n",
      "<td><span typeof=\"mw:File\"><a href=\"/wiki/Misango\" title=\"Misango\"><img class=\"mw-file-element\" decoding=\"async\" height=\"25\" src=\"//cdn.wikimg.net/en/armswiki/images/thumb/2/25/Icon-Misango.png/25px-Icon-Misango.png\" srcset=\"//cdn.wikimg.net/en/armswiki/images/thumb/2/25/Icon-Misango.png/38px-Icon-Misango.png 1.5x, //cdn.wikimg.net/en/armswiki/images/thumb/2/25/Icon-Misango.png/50px-Icon-Misango.png 2x\" width=\"25\"/></a></span>\n",
      "</td></tr>\n",
      "<tr>\n",
      "<td><a class=\"external text\" href=\"https://challonge.com/EUAC97\" rel=\"nofollow\">EU ARMS Challenge #97</a></td>\n",
      "<td>July 17, 2022</td>\n",
      "<td>Alistair</td>\n",
      "<td><span typeof=\"mw:File\"><a href=\"/wiki/Dr._Coyle\" title=\"Dr. Coyle\"><img class=\"mw-file-element\" decoding=\"async\" height=\"25\" src=\"//cdn.wikimg.net/en/armswiki/images/thumb/5/53/Icon-Dr._Coyle.png/25px-Icon-Dr._Coyle.png\" srcset=\"//cdn.wikimg.net/en/armswiki/images/thumb/5/53/Icon-Dr._Coyle.png/38px-Icon-Dr._Coyle.png 1.5x, //cdn.wikimg.net/en/armswiki/images/thumb/5/53/Icon-Dr._Coyle.png/50px-Icon-Dr._Coyle.png 2x\" width=\"25\"/></a></span>\n",
      "</td></tr>\n",
      "<tr>\n",
      "<td><a class=\"external text\" href=\"https://challonge.com/EUAC98\" rel=\"nofollow\">EU ARMS Challenge #98</a></td>\n",
      "<td>July 31, 2022</td>\n",
      "<td>Alistair</td>\n",
      "<td><span typeof=\"mw:File\"><a href=\"/wiki/Dr._Coyle\" title=\"Dr. Coyle\"><img class=\"mw-file-element\" decoding=\"async\" height=\"25\" src=\"//cdn.wikimg.net/en/armswiki/images/thumb/5/53/Icon-Dr._Coyle.png/25px-Icon-Dr._Coyle.png\" srcset=\"//cdn.wikimg.net/en/armswiki/images/thumb/5/53/Icon-Dr._Coyle.png/38px-Icon-Dr._Coyle.png 1.5x, //cdn.wikimg.net/en/armswiki/images/thumb/5/53/Icon-Dr._Coyle.png/50px-Icon-Dr._Coyle.png 2x\" width=\"25\"/></a></span>\n",
      "</td></tr>\n",
      "<tr>\n",
      "<td><a class=\"external text\" href=\"https://challonge.com/EUAC99\" rel=\"nofollow\">EU ARMS Challenge #99</a></td>\n",
      "<td>August 14, 2022</td>\n",
      "<td><a href=\"/wiki/Ripha\" title=\"Ripha\">Ripha</a></td>\n",
      "<td><span typeof=\"mw:File\"><a href=\"/wiki/Lola_Pop\" title=\"Lola Pop\"><img class=\"mw-file-element\" decoding=\"async\" height=\"25\" src=\"//cdn.wikimg.net/en/armswiki/images/thumb/e/e5/Icon-Lola_Pop.png/25px-Icon-Lola_Pop.png\" srcset=\"//cdn.wikimg.net/en/armswiki/images/thumb/e/e5/Icon-Lola_Pop.png/38px-Icon-Lola_Pop.png 1.5x, //cdn.wikimg.net/en/armswiki/images/thumb/e/e5/Icon-Lola_Pop.png/50px-Icon-Lola_Pop.png 2x\" width=\"25\"/></a></span>\n",
      "</td></tr>\n",
      "<tr>\n",
      "<td><a class=\"external text\" href=\"https://challonge.com/EUAC100\" rel=\"nofollow\">EU ARMS Challenge #100</a></td>\n",
      "<td>August 28, 2022</td>\n",
      "<td>Alistair</td>\n",
      "<td><span typeof=\"mw:File\"><a href=\"/wiki/Dr._Coyle\" title=\"Dr. Coyle\"><img class=\"mw-file-element\" decoding=\"async\" height=\"25\" src=\"//cdn.wikimg.net/en/armswiki/images/thumb/5/53/Icon-Dr._Coyle.png/25px-Icon-Dr._Coyle.png\" srcset=\"//cdn.wikimg.net/en/armswiki/images/thumb/5/53/Icon-Dr._Coyle.png/38px-Icon-Dr._Coyle.png 1.5x, //cdn.wikimg.net/en/armswiki/images/thumb/5/53/Icon-Dr._Coyle.png/50px-Icon-Dr._Coyle.png 2x\" width=\"25\"/></a></span>\n",
      "</td></tr>\n",
      "<tr>\n",
      "<td><a class=\"external text\" href=\"https://challonge.com/EUAC101\" rel=\"nofollow\">EU ARMS Challenge #101</a></td>\n",
      "<td>September 11, 2022</td>\n",
      "<td>Alistair</td>\n",
      "<td><span typeof=\"mw:File\"><a href=\"/wiki/Dr._Coyle\" title=\"Dr. Coyle\"><img class=\"mw-file-element\" decoding=\"async\" height=\"25\" src=\"//cdn.wikimg.net/en/armswiki/images/thumb/5/53/Icon-Dr._Coyle.png/25px-Icon-Dr._Coyle.png\" srcset=\"//cdn.wikimg.net/en/armswiki/images/thumb/5/53/Icon-Dr._Coyle.png/38px-Icon-Dr._Coyle.png 1.5x, //cdn.wikimg.net/en/armswiki/images/thumb/5/53/Icon-Dr._Coyle.png/50px-Icon-Dr._Coyle.png 2x\" width=\"25\"/></a></span> <span typeof=\"mw:File\"><a href=\"/wiki/Ninjara\" title=\"Ninjara\"><img class=\"mw-file-element\" decoding=\"async\" height=\"25\" src=\"//cdn.wikimg.net/en/armswiki/images/thumb/0/0c/Icon-Ninjara.png/25px-Icon-Ninjara.png\" srcset=\"//cdn.wikimg.net/en/armswiki/images/thumb/0/0c/Icon-Ninjara.png/38px-Icon-Ninjara.png 1.5x, //cdn.wikimg.net/en/armswiki/images/thumb/0/0c/Icon-Ninjara.png/50px-Icon-Ninjara.png 2x\" width=\"25\"/></a></span>\n",
      "</td></tr>\n",
      "<tr>\n",
      "<td><a class=\"external text\" href=\"https://challonge.com/EUAC102\" rel=\"nofollow\">EU ARMS Challenge #102</a></td>\n",
      "<td>September 25, 2022</td>\n",
      "<td>Alistair</td>\n",
      "<td><span typeof=\"mw:File\"><a href=\"/wiki/Dr._Coyle\" title=\"Dr. Coyle\"><img class=\"mw-file-element\" decoding=\"async\" height=\"25\" src=\"//cdn.wikimg.net/en/armswiki/images/thumb/5/53/Icon-Dr._Coyle.png/25px-Icon-Dr._Coyle.png\" srcset=\"//cdn.wikimg.net/en/armswiki/images/thumb/5/53/Icon-Dr._Coyle.png/38px-Icon-Dr._Coyle.png 1.5x, //cdn.wikimg.net/en/armswiki/images/thumb/5/53/Icon-Dr._Coyle.png/50px-Icon-Dr._Coyle.png 2x\" width=\"25\"/></a></span>\n",
      "</td></tr>\n",
      "<tr>\n",
      "<td><a class=\"external text\" href=\"https://challonge.com/EUAC103\" rel=\"nofollow\">EU ARMS Challenge #103</a></td>\n",
      "<td>October 9, 2022</td>\n",
      "<td>Alistair</td>\n",
      "<td><span typeof=\"mw:File\"><a href=\"/wiki/Dr._Coyle\" title=\"Dr. Coyle\"><img class=\"mw-file-element\" decoding=\"async\" height=\"25\" src=\"//cdn.wikimg.net/en/armswiki/images/thumb/5/53/Icon-Dr._Coyle.png/25px-Icon-Dr._Coyle.png\" srcset=\"//cdn.wikimg.net/en/armswiki/images/thumb/5/53/Icon-Dr._Coyle.png/38px-Icon-Dr._Coyle.png 1.5x, //cdn.wikimg.net/en/armswiki/images/thumb/5/53/Icon-Dr._Coyle.png/50px-Icon-Dr._Coyle.png 2x\" width=\"25\"/></a></span>\n",
      "</td></tr>\n",
      "<tr>\n",
      "<td><a class=\"external text\" href=\"https://challonge.com/EUAC104\" rel=\"nofollow\">EU ARMS Challenge #104</a></td>\n",
      "<td>October 23, 2022</td>\n",
      "<td><a href=\"/wiki/Ripha\" title=\"Ripha\">Ripha</a></td>\n",
      "<td><span typeof=\"mw:File\"><a href=\"/wiki/Misango\" title=\"Misango\"><img class=\"mw-file-element\" decoding=\"async\" height=\"25\" src=\"//cdn.wikimg.net/en/armswiki/images/thumb/2/25/Icon-Misango.png/25px-Icon-Misango.png\" srcset=\"//cdn.wikimg.net/en/armswiki/images/thumb/2/25/Icon-Misango.png/38px-Icon-Misango.png 1.5x, //cdn.wikimg.net/en/armswiki/images/thumb/2/25/Icon-Misango.png/50px-Icon-Misango.png 2x\" width=\"25\"/></a></span> <span typeof=\"mw:File\"><a href=\"/wiki/Ninjara\" title=\"Ninjara\"><img class=\"mw-file-element\" decoding=\"async\" height=\"25\" src=\"//cdn.wikimg.net/en/armswiki/images/thumb/0/0c/Icon-Ninjara.png/25px-Icon-Ninjara.png\" srcset=\"//cdn.wikimg.net/en/armswiki/images/thumb/0/0c/Icon-Ninjara.png/38px-Icon-Ninjara.png 1.5x, //cdn.wikimg.net/en/armswiki/images/thumb/0/0c/Icon-Ninjara.png/50px-Icon-Ninjara.png 2x\" width=\"25\"/></a></span>\n",
      "</td></tr>\n",
      "<tr>\n",
      "<td><a class=\"external text\" href=\"https://challonge.com/EUAC105\" rel=\"nofollow\">EU ARMS Challenge #105</a></td>\n",
      "<td>November 6, 2022</td>\n",
      "<td><a href=\"/wiki/Ripha\" title=\"Ripha\">Ripha</a></td>\n",
      "<td><span typeof=\"mw:File\"><a href=\"/wiki/Min_Min\" title=\"Min Min\"><img class=\"mw-file-element\" decoding=\"async\" height=\"25\" src=\"//cdn.wikimg.net/en/armswiki/images/thumb/9/93/Icon-Min_Min.png/25px-Icon-Min_Min.png\" srcset=\"//cdn.wikimg.net/en/armswiki/images/thumb/9/93/Icon-Min_Min.png/38px-Icon-Min_Min.png 1.5x, //cdn.wikimg.net/en/armswiki/images/thumb/9/93/Icon-Min_Min.png/50px-Icon-Min_Min.png 2x\" width=\"25\"/></a></span> <span typeof=\"mw:File\"><a href=\"/wiki/Misango\" title=\"Misango\"><img class=\"mw-file-element\" decoding=\"async\" height=\"25\" src=\"//cdn.wikimg.net/en/armswiki/images/thumb/2/25/Icon-Misango.png/25px-Icon-Misango.png\" srcset=\"//cdn.wikimg.net/en/armswiki/images/thumb/2/25/Icon-Misango.png/38px-Icon-Misango.png 1.5x, //cdn.wikimg.net/en/armswiki/images/thumb/2/25/Icon-Misango.png/50px-Icon-Misango.png 2x\" width=\"25\"/></a></span>\n",
      "</td></tr>\n",
      "<tr>\n",
      "<td><a class=\"external text\" href=\"https://challonge.com/EUAC106\" rel=\"nofollow\">EU ARMS Challenge #106</a></td>\n",
      "<td>November 20, 2022</td>\n",
      "<td><a href=\"/wiki/Ripha\" title=\"Ripha\">Ripha</a></td>\n",
      "<td><span typeof=\"mw:File\"><a href=\"/wiki/Ninjara\" title=\"Ninjara\"><img class=\"mw-file-element\" decoding=\"async\" height=\"25\" src=\"//cdn.wikimg.net/en/armswiki/images/thumb/0/0c/Icon-Ninjara.png/25px-Icon-Ninjara.png\" srcset=\"//cdn.wikimg.net/en/armswiki/images/thumb/0/0c/Icon-Ninjara.png/38px-Icon-Ninjara.png 1.5x, //cdn.wikimg.net/en/armswiki/images/thumb/0/0c/Icon-Ninjara.png/50px-Icon-Ninjara.png 2x\" width=\"25\"/></a></span>\n",
      "</td></tr>\n",
      "<tr>\n",
      "<td><a class=\"external text\" href=\"https://challonge.com/EUAC107\" rel=\"nofollow\">EU ARMS Challenge #107</a></td>\n",
      "<td>December 4, 2022</td>\n",
      "<td><a href=\"/wiki/Ripha\" title=\"Ripha\">Ripha</a></td>\n",
      "<td><span typeof=\"mw:File\"><a href=\"/wiki/Misango\" title=\"Misango\"><img class=\"mw-file-element\" decoding=\"async\" height=\"25\" src=\"//cdn.wikimg.net/en/armswiki/images/thumb/2/25/Icon-Misango.png/25px-Icon-Misango.png\" srcset=\"//cdn.wikimg.net/en/armswiki/images/thumb/2/25/Icon-Misango.png/38px-Icon-Misango.png 1.5x, //cdn.wikimg.net/en/armswiki/images/thumb/2/25/Icon-Misango.png/50px-Icon-Misango.png 2x\" width=\"25\"/></a></span> <span typeof=\"mw:File\"><a href=\"/wiki/Ninjara\" title=\"Ninjara\"><img class=\"mw-file-element\" decoding=\"async\" height=\"25\" src=\"//cdn.wikimg.net/en/armswiki/images/thumb/0/0c/Icon-Ninjara.png/25px-Icon-Ninjara.png\" srcset=\"//cdn.wikimg.net/en/armswiki/images/thumb/0/0c/Icon-Ninjara.png/38px-Icon-Ninjara.png 1.5x, //cdn.wikimg.net/en/armswiki/images/thumb/0/0c/Icon-Ninjara.png/50px-Icon-Ninjara.png 2x\" width=\"25\"/></a></span>\n",
      "</td></tr>\n",
      "<tr>\n",
      "<td><a class=\"external text\" href=\"https://challonge.com/EUACPVW\" rel=\"nofollow\">EU ARMS Challenge - Pre Vortex Workout</a></td>\n",
      "<td>February 5, 2023</td>\n",
      "<td><a href=\"/wiki/Ripha\" title=\"Ripha\">Ripha</a></td>\n",
      "<td><span typeof=\"mw:File\"><a href=\"/wiki/Misango\" title=\"Misango\"><img class=\"mw-file-element\" decoding=\"async\" height=\"25\" src=\"//cdn.wikimg.net/en/armswiki/images/thumb/2/25/Icon-Misango.png/25px-Icon-Misango.png\" srcset=\"//cdn.wikimg.net/en/armswiki/images/thumb/2/25/Icon-Misango.png/38px-Icon-Misango.png 1.5x, //cdn.wikimg.net/en/armswiki/images/thumb/2/25/Icon-Misango.png/50px-Icon-Misango.png 2x\" width=\"25\"/></a></span> <span typeof=\"mw:File\"><a href=\"/wiki/Ninjara\" title=\"Ninjara\"><img class=\"mw-file-element\" decoding=\"async\" height=\"25\" src=\"//cdn.wikimg.net/en/armswiki/images/thumb/0/0c/Icon-Ninjara.png/25px-Icon-Ninjara.png\" srcset=\"//cdn.wikimg.net/en/armswiki/images/thumb/0/0c/Icon-Ninjara.png/38px-Icon-Ninjara.png 1.5x, //cdn.wikimg.net/en/armswiki/images/thumb/0/0c/Icon-Ninjara.png/50px-Icon-Ninjara.png 2x\" width=\"25\"/></a></span> <span typeof=\"mw:File\"><a href=\"/wiki/Helix\" title=\"Helix\"><img class=\"mw-file-element\" decoding=\"async\" height=\"25\" src=\"//cdn.wikimg.net/en/armswiki/images/thumb/c/c4/Icon-Helix.png/25px-Icon-Helix.png\" srcset=\"//cdn.wikimg.net/en/armswiki/images/thumb/c/c4/Icon-Helix.png/38px-Icon-Helix.png 1.5x, //cdn.wikimg.net/en/armswiki/images/thumb/c/c4/Icon-Helix.png/50px-Icon-Helix.png 2x\" width=\"25\"/></a></span>\n",
      "</td></tr>\n",
      "<tr>\n",
      "<td><a class=\"external text\" href=\"https://challonge.com/EUAC108\" rel=\"nofollow\">EU ARMS Challenge #108</a></td>\n",
      "<td>April 16, 2023</td>\n",
      "<td><a href=\"/wiki/Ripha\" title=\"Ripha\">Ripha</a></td>\n",
      "<td><span typeof=\"mw:File\"><a href=\"/wiki/Ninjara\" title=\"Ninjara\"><img class=\"mw-file-element\" decoding=\"async\" height=\"25\" src=\"//cdn.wikimg.net/en/armswiki/images/thumb/0/0c/Icon-Ninjara.png/25px-Icon-Ninjara.png\" srcset=\"//cdn.wikimg.net/en/armswiki/images/thumb/0/0c/Icon-Ninjara.png/38px-Icon-Ninjara.png 1.5x, //cdn.wikimg.net/en/armswiki/images/thumb/0/0c/Icon-Ninjara.png/50px-Icon-Ninjara.png 2x\" width=\"25\"/></a></span> <span typeof=\"mw:File\"><a href=\"/wiki/Misango\" title=\"Misango\"><img class=\"mw-file-element\" decoding=\"async\" height=\"25\" src=\"//cdn.wikimg.net/en/armswiki/images/thumb/2/25/Icon-Misango.png/25px-Icon-Misango.png\" srcset=\"//cdn.wikimg.net/en/armswiki/images/thumb/2/25/Icon-Misango.png/38px-Icon-Misango.png 1.5x, //cdn.wikimg.net/en/armswiki/images/thumb/2/25/Icon-Misango.png/50px-Icon-Misango.png 2x\" width=\"25\"/></a></span> <span typeof=\"mw:File\"><a href=\"/wiki/Min_Min\" title=\"Min Min\"><img class=\"mw-file-element\" decoding=\"async\" height=\"25\" src=\"//cdn.wikimg.net/en/armswiki/images/thumb/9/93/Icon-Min_Min.png/25px-Icon-Min_Min.png\" srcset=\"//cdn.wikimg.net/en/armswiki/images/thumb/9/93/Icon-Min_Min.png/38px-Icon-Min_Min.png 1.5x, //cdn.wikimg.net/en/armswiki/images/thumb/9/93/Icon-Min_Min.png/50px-Icon-Min_Min.png 2x\" width=\"25\"/></a></span> <span typeof=\"mw:File\"><a href=\"/wiki/Twintelle\" title=\"Twintelle\"><img class=\"mw-file-element\" decoding=\"async\" height=\"25\" src=\"//cdn.wikimg.net/en/armswiki/images/thumb/a/a1/Icon-Twintelle.png/25px-Icon-Twintelle.png\" srcset=\"//cdn.wikimg.net/en/armswiki/images/thumb/a/a1/Icon-Twintelle.png/38px-Icon-Twintelle.png 1.5x, //cdn.wikimg.net/en/armswiki/images/thumb/a/a1/Icon-Twintelle.png/50px-Icon-Twintelle.png 2x\" width=\"25\"/></a></span> <span typeof=\"mw:File\"><a href=\"/wiki/Kid_Cobra\" title=\"Kid Cobra\"><img class=\"mw-file-element\" decoding=\"async\" height=\"25\" src=\"//cdn.wikimg.net/en/armswiki/images/thumb/b/b7/Icon-Kid_Cobra.png/25px-Icon-Kid_Cobra.png\" srcset=\"//cdn.wikimg.net/en/armswiki/images/thumb/b/b7/Icon-Kid_Cobra.png/38px-Icon-Kid_Cobra.png 1.5x, //cdn.wikimg.net/en/armswiki/images/thumb/b/b7/Icon-Kid_Cobra.png/50px-Icon-Kid_Cobra.png 2x\" width=\"25\"/></a></span>\n",
      "</td></tr>\n",
      "<tr>\n",
      "<td><a class=\"external text\" href=\"https://challonge.com/EUAC109\" rel=\"nofollow\">EU ARMS Challenge #109</a></td>\n",
      "<td>July 2, 2023</td>\n",
      "<td><a href=\"/wiki/Ripha\" title=\"Ripha\">Ripha</a></td>\n",
      "<td><span typeof=\"mw:File\"><a href=\"/wiki/Kid_Cobra\" title=\"Kid Cobra\"><img class=\"mw-file-element\" decoding=\"async\" height=\"25\" src=\"//cdn.wikimg.net/en/armswiki/images/thumb/b/b7/Icon-Kid_Cobra.png/25px-Icon-Kid_Cobra.png\" srcset=\"//cdn.wikimg.net/en/armswiki/images/thumb/b/b7/Icon-Kid_Cobra.png/38px-Icon-Kid_Cobra.png 1.5x, //cdn.wikimg.net/en/armswiki/images/thumb/b/b7/Icon-Kid_Cobra.png/50px-Icon-Kid_Cobra.png 2x\" width=\"25\"/></a></span>\n",
      "</td></tr>\n",
      "<tr>\n",
      "<td><a class=\"external text\" href=\"https://challonge.com/EUAC110\" rel=\"nofollow\">EU ARMS Challenge #110</a></td>\n",
      "<td>October 13, 2024</td>\n",
      "<td><a href=\"/wiki/Ripha\" title=\"Ripha\">Ripha</a></td>\n",
      "<td><span typeof=\"mw:File\"><a href=\"/wiki/Ninjara\" title=\"Ninjara\"><img class=\"mw-file-element\" decoding=\"async\" height=\"25\" src=\"//cdn.wikimg.net/en/armswiki/images/thumb/0/0c/Icon-Ninjara.png/25px-Icon-Ninjara.png\" srcset=\"//cdn.wikimg.net/en/armswiki/images/thumb/0/0c/Icon-Ninjara.png/38px-Icon-Ninjara.png 1.5x, //cdn.wikimg.net/en/armswiki/images/thumb/0/0c/Icon-Ninjara.png/50px-Icon-Ninjara.png 2x\" width=\"25\"/></a></span> <span typeof=\"mw:File\"><a href=\"/wiki/Misango\" title=\"Misango\"><img class=\"mw-file-element\" decoding=\"async\" height=\"25\" src=\"//cdn.wikimg.net/en/armswiki/images/thumb/2/25/Icon-Misango.png/25px-Icon-Misango.png\" srcset=\"//cdn.wikimg.net/en/armswiki/images/thumb/2/25/Icon-Misango.png/38px-Icon-Misango.png 1.5x, //cdn.wikimg.net/en/armswiki/images/thumb/2/25/Icon-Misango.png/50px-Icon-Misango.png 2x\" width=\"25\"/></a></span> <span typeof=\"mw:File\"><a href=\"/wiki/Mechanica\" title=\"Mechanica\"><img class=\"mw-file-element\" decoding=\"async\" height=\"25\" src=\"//cdn.wikimg.net/en/armswiki/images/thumb/e/ea/Icon-Mechanica.png/25px-Icon-Mechanica.png\" srcset=\"//cdn.wikimg.net/en/armswiki/images/thumb/e/ea/Icon-Mechanica.png/38px-Icon-Mechanica.png 1.5x, //cdn.wikimg.net/en/armswiki/images/thumb/e/ea/Icon-Mechanica.png/50px-Icon-Mechanica.png 2x\" width=\"25\"/></a></span> <span typeof=\"mw:File\"><a href=\"/wiki/Min_Min\" title=\"Min Min\"><img class=\"mw-file-element\" decoding=\"async\" height=\"25\" src=\"//cdn.wikimg.net/en/armswiki/images/thumb/9/93/Icon-Min_Min.png/25px-Icon-Min_Min.png\" srcset=\"//cdn.wikimg.net/en/armswiki/images/thumb/9/93/Icon-Min_Min.png/38px-Icon-Min_Min.png 1.5x, //cdn.wikimg.net/en/armswiki/images/thumb/9/93/Icon-Min_Min.png/50px-Icon-Min_Min.png 2x\" width=\"25\"/></a></span> <span typeof=\"mw:File\"><a href=\"/wiki/Lola_Pop\" title=\"Lola Pop\"><img class=\"mw-file-element\" decoding=\"async\" height=\"25\" src=\"//cdn.wikimg.net/en/armswiki/images/thumb/e/e5/Icon-Lola_Pop.png/25px-Icon-Lola_Pop.png\" srcset=\"//cdn.wikimg.net/en/armswiki/images/thumb/e/e5/Icon-Lola_Pop.png/38px-Icon-Lola_Pop.png 1.5x, //cdn.wikimg.net/en/armswiki/images/thumb/e/e5/Icon-Lola_Pop.png/50px-Icon-Lola_Pop.png 2x\" width=\"25\"/></a></span>\n",
      "</td></tr></tbody></table>\n",
      "<h2><span class=\"mw-headline\" id=\"Trivia\">Trivia</span></h2>\n",
      "<ul><li>With 49 wins, Ripha has the most EUAC wins out of all 12 unique victors.\n",
      "<ul><li>Ripha also has the highest win streak in the series, winning 8 tournaments in a row.</li></ul></li>\n",
      "<li><a class=\"new\" href=\"/w/index.php?title=Y%C3%A4tta&amp;action=edit&amp;redlink=1\" title=\"Yätta (page does not exist)\">Yätta</a>'s 4 event EUAC win streak throughout the Summer of 2018 garnered him the nickname \"King of Europe\".</li>\n",
      "<li>EU ARMS Challenge #5 had the most participants out of any EUAC tournament with 25 entrants.</li>\n",
      "<li>EU ARMS Challenge is the third <i>ARMS</i> tournament series to reach 100 events, with <a href=\"/wiki/Champions_of_the_Era\" title=\"Champions of the Era\">Champions of the Era</a> being the first and <a href=\"/wiki/The_Biweekly_Procrastination\" title=\"The Biweekly Procrastination\">The Biweekly Procrastination</a> being the second. The series, however, is the first European-only tournament series to reach 100 tournaments.\n",
      "<ul><li>EUAC 100 was initially announced on August 14th, 2022 with a trailer being presented on camera by Ripha.<sup class=\"reference\" id=\"cite_ref-1\"><a href=\"#cite_note-1\">[1]</a></sup> Alongside the announcement of EUAC 100, a week of special events were also announced that were to build up to the milestone tournament.\n",
      "<ul><li>These events included Viva ARMS Vegas (which featured random <a href=\"/wiki/ARMS_(equipment)\" title=\"ARMS (equipment)\">ARMS</a> and <a class=\"mw-redirect\" href=\"/wiki/Fighter\" title=\"Fighter\">fighter</a> selection), The Glushiest VS Church of Blorb (a crew battle between <a href=\"/wiki/Glusher\" title=\"Glusher\">Glusher</a> users and <a href=\"/wiki/Blorb\" title=\"Blorb\">Blorb</a> wielders), <a href=\"/wiki/Champions_of_the_Erapean_Union\" title=\"Champions of the Erapean Union\">Champions of the Erapean Union - Road to 100 Edition</a>, and EUAC’s King of the Hill (a battle between the top four players who have won the most EUAC events, being Ripha, <a href=\"/wiki/Iceman92\" title=\"Iceman92\">Iceman92</a>, Yätta, and <a href=\"/wiki/Grimwood\" title=\"Grimwood\">Grimwood</a>).</li></ul></li>\n",
      "<li>Although EU ARMS Challenge 100 did not have a direct logo itself, each of the special events leading up to it did and, aside from the CotEU logo, they were all created by <a href=\"/wiki/Dendy\" title=\"Dendy\">Dendy</a>.<sup class=\"reference\" id=\"cite_ref-2\"><a href=\"#cite_note-2\">[2]</a></sup></li></ul></li>\n",
      "<li>YoshiBowser first entered EUAC #8 and continued to play in every single event until the series stopped running regularly scheduled events with #107. This means that YoshiBowser entered 100 tournaments in the series in a row.</li></ul>\n",
      "<h2><span class=\"mw-headline\" id=\"Gameplay_Videos\">Gameplay Videos</span></h2>\n",
      "<p><a class=\"external text\" href=\"https://www.youtube.com/playlist?list=PLlCNDwn0SE2fgA35LnSo_taArY9Sea5Nk\" rel=\"nofollow\">EU ARMS Challenge #22 Playlist</a><br/>\n",
      "<a class=\"external text\" href=\"https://www.youtube.com/playlist?list=PLlCNDwn0SE2dMTRPgylOOij2H67xp0APh\" rel=\"nofollow\">EU ARMS Challenge #23 Playlist</a><br/>\n",
      "<a class=\"external text\" href=\"https://www.youtube.com/playlist?list=PLlCNDwn0SE2fcl28PGRWESTN5l67lf-X7\" rel=\"nofollow\">EU ARMS Challenge #24 Playlist</a><br/>\n",
      "<a class=\"external text\" href=\"https://www.youtube.com/playlist?list=PLlCNDwn0SE2cAs4uzsRFH7U5oF81tw_AU\" rel=\"nofollow\">EU ARMS Challenge #25 Playlist</a><br/>\n",
      "<a class=\"external text\" href=\"https://www.youtube.com/playlist?list=PLlCNDwn0SE2eJBsGSGjpLNgpvcFxP0Dbl\" rel=\"nofollow\">EU ARMS Challenge #26 Playlist</a><br/>\n",
      "<a class=\"external text\" href=\"https://www.youtube.com/playlist?list=PLlCNDwn0SE2euCEtJVxip_6cjRftegRCf\" rel=\"nofollow\">EU ARMS Challenge #27 Playlist</a><br/>\n",
      "<a class=\"external text\" href=\"https://www.youtube.com/playlist?list=PLlCNDwn0SE2fStusxalsWcMpae5kpDmXw\" rel=\"nofollow\">EU ARMS Challenge #29 Playlist</a><br/>\n",
      "<a class=\"external text\" href=\"https://www.twitch.tv/videos/908673111\" rel=\"nofollow\">EU ARMS Challenge #65 Full VOD</a><br/>\n",
      "</p>\n",
      "<h2><span class=\"mw-headline\" id=\"References\">References</span></h2>\n",
      "<div class=\"mw-references-wrap\"><ol class=\"references\">\n",
      "<li id=\"cite_note-1\"><span class=\"mw-cite-backlink\"><a href=\"#cite_ref-1\">↑</a></span> <span class=\"reference-text\"><a class=\"external free\" href=\"https://www.youtube.com/watch?v=vc58DilbE4g\" rel=\"nofollow\">https://www.youtube.com/watch?v=vc58DilbE4g</a></span>\n",
      "</li>\n",
      "<li id=\"cite_note-2\"><span class=\"mw-cite-backlink\"><a href=\"#cite_ref-2\">↑</a></span> <span class=\"reference-text\"><a class=\"external free\" href=\"https://twitter.com/European_ARMS/status/1558829251687813123\" rel=\"nofollow\">https://twitter.com/European_ARMS/status/1558829251687813123</a></span>\n",
      "</li>\n",
      "</ol></div>\n",
      "<!-- \n",
      "NewPP limit report\n",
      "Cached time: 20250521141659\n",
      "Cache expiry: 86400\n",
      "Reduced expiry: false\n",
      "Complications: [show‐toc]\n",
      "CPU time usage: 0.162 seconds\n",
      "Real time usage: 0.177 seconds\n",
      "Preprocessor visited node count: 3082/1000000\n",
      "Post‐expand include size: 11217/2097152 bytes\n",
      "Template argument size: 3768/2097152 bytes\n",
      "Highest expansion depth: 4/100\n",
      "Expensive parser function count: 0/100\n",
      "Unstrip recursion depth: 0/20\n",
      "Unstrip post‐expand size: 807/5000000 bytes\n",
      "-->\n",
      "<!--\n",
      "Transclusion expansion time report (%,ms,calls,template)\n",
      "100.00%   22.846      1 -total\n",
      " 63.58%   14.525    225 Template:Icon\n",
      "  2.91%    0.664      1 Template:Game\n",
      "-->\n",
      "<!-- Saved in parser cache with key enarmswiki-armswiki_:pcache:idhash:4223-0!canonical and timestamp 20250521141658 and revision id 23064. Rendering was triggered because: page-view\n",
      " -->\n",
      "</div>\n",
      "<div class=\"printfooter\" data-nosnippet=\"\">Retrieved from \"<a dir=\"ltr\" href=\"https://armswiki.org/w/index.php?title=EU_ARMS_Challenge&amp;oldid=23064\">https://armswiki.org/w/index.php?title=EU_ARMS_Challenge&amp;oldid=23064</a>\"</div></div>\n",
      "<div class=\"catlinks\" data-mw=\"interface\" id=\"catlinks\"><div class=\"mw-normal-catlinks\" id=\"mw-normal-catlinks\"><a href=\"/wiki/Special:Categories\" title=\"Special:Categories\">Category</a>: <ul><li><a href=\"/wiki/Category:Tournaments\" title=\"Category:Tournaments\">Tournaments</a></li></ul></div></div>\n",
      "</div>\n",
      "</div>\n",
      "<div id=\"mw-navigation\">\n",
      "<h2>Navigation menu</h2>\n",
      "<div id=\"mw-head\">\n",
      "<nav aria-labelledby=\"p-personal-label\" class=\"vector-menu mw-portlet mw-portlet-personal vector-user-menu-legacy\" id=\"p-personal\" role=\"navigation\">\n",
      "<h3 class=\"vector-menu-heading\" id=\"p-personal-label\">\n",
      "<span class=\"vector-menu-heading-label\">Personal tools</span>\n",
      "</h3>\n",
      "<div class=\"vector-menu-content\">\n",
      "<ul class=\"vector-menu-content-list\">\n",
      "<li class=\"mw-list-item\" id=\"pt-createaccount\"><a href=\"/w/index.php?title=Special:CreateAccount&amp;returnto=EU+ARMS+Challenge\" title=\"You are encouraged to create an account and log in; however, it is not mandatory\"><span>Create account</span></a></li><li class=\"mw-list-item\" id=\"pt-login\"><a accesskey=\"o\" href=\"/w/index.php?title=Special:UserLogin&amp;returnto=EU+ARMS+Challenge\" title=\"You are encouraged to log in; however, it is not mandatory [o]\"><span>Log in</span></a></li>\n",
      "</ul>\n",
      "</div>\n",
      "</nav>\n",
      "<div id=\"left-navigation\">\n",
      "<nav aria-labelledby=\"p-namespaces-label\" class=\"vector-menu mw-portlet mw-portlet-namespaces vector-menu-tabs vector-menu-tabs-legacy\" id=\"p-namespaces\" role=\"navigation\">\n",
      "<h3 class=\"vector-menu-heading\" id=\"p-namespaces-label\">\n",
      "<span class=\"vector-menu-heading-label\">Namespaces</span>\n",
      "</h3>\n",
      "<div class=\"vector-menu-content\">\n",
      "<ul class=\"vector-menu-content-list\">\n",
      "<li class=\"selected mw-list-item\" id=\"ca-nstab-main\"><a accesskey=\"c\" href=\"/wiki/EU_ARMS_Challenge\" title=\"View the content page [c]\"><span>Page</span></a></li><li class=\"new mw-list-item\" id=\"ca-talk\"><a accesskey=\"t\" href=\"/w/index.php?title=Talk:EU_ARMS_Challenge&amp;action=edit&amp;redlink=1\" rel=\"discussion\" title=\"Discussion about the content page (page does not exist) [t]\"><span>Discussion</span></a></li>\n",
      "</ul>\n",
      "</div>\n",
      "</nav>\n",
      "<nav aria-labelledby=\"p-variants-label\" class=\"vector-menu mw-portlet mw-portlet-variants emptyPortlet vector-menu-dropdown\" id=\"p-variants\" role=\"navigation\">\n",
      "<input aria-haspopup=\"true\" aria-labelledby=\"p-variants-label\" class=\"vector-menu-checkbox\" data-event-name=\"ui.dropdown-p-variants\" id=\"p-variants-checkbox\" role=\"button\" type=\"checkbox\"/>\n",
      "<label class=\"vector-menu-heading\" id=\"p-variants-label\">\n",
      "<span class=\"vector-menu-heading-label\">English</span>\n",
      "</label>\n",
      "<div class=\"vector-menu-content\">\n",
      "<ul class=\"vector-menu-content-list\">\n",
      "</ul>\n",
      "</div>\n",
      "</nav>\n",
      "</div>\n",
      "<div id=\"right-navigation\">\n",
      "<nav aria-labelledby=\"p-views-label\" class=\"vector-menu mw-portlet mw-portlet-views vector-menu-tabs vector-menu-tabs-legacy\" id=\"p-views\" role=\"navigation\">\n",
      "<h3 class=\"vector-menu-heading\" id=\"p-views-label\">\n",
      "<span class=\"vector-menu-heading-label\">Views</span>\n",
      "</h3>\n",
      "<div class=\"vector-menu-content\">\n",
      "<ul class=\"vector-menu-content-list\">\n",
      "<li class=\"selected mw-list-item\" id=\"ca-view\"><a href=\"/wiki/EU_ARMS_Challenge\"><span>Read</span></a></li><li class=\"mw-list-item\" id=\"ca-viewsource\"><a accesskey=\"e\" href=\"/w/index.php?title=EU_ARMS_Challenge&amp;action=edit\" title=\"This page is protected.\n",
      "You can view its source [e]\"><span>View source</span></a></li><li class=\"mw-list-item\" id=\"ca-history\"><a accesskey=\"h\" href=\"/w/index.php?title=EU_ARMS_Challenge&amp;action=history\" title=\"Past revisions of this page [h]\"><span>View history</span></a></li>\n",
      "</ul>\n",
      "</div>\n",
      "</nav>\n",
      "<nav aria-labelledby=\"p-cactions-label\" class=\"vector-menu mw-portlet mw-portlet-cactions vector-menu-dropdown\" id=\"p-cactions\" role=\"navigation\" title=\"More options\">\n",
      "<input aria-haspopup=\"true\" aria-labelledby=\"p-cactions-label\" class=\"vector-menu-checkbox\" data-event-name=\"ui.dropdown-p-cactions\" id=\"p-cactions-checkbox\" role=\"button\" type=\"checkbox\"/>\n",
      "<label class=\"vector-menu-heading\" id=\"p-cactions-label\">\n",
      "<span class=\"vector-menu-heading-label\">More</span>\n",
      "</label>\n",
      "<div class=\"vector-menu-content\">\n",
      "<ul class=\"vector-menu-content-list\">\n",
      "<li class=\"mw-list-item\" id=\"ca-cargo-purge\"><a href=\"/w/index.php?title=EU_ARMS_Challenge&amp;action=purge\"><span>Purge cache</span></a></li>\n",
      "</ul>\n",
      "</div>\n",
      "</nav>\n",
      "<div class=\"vector-search-box-vue vector-search-box-show-thumbnail vector-search-box-auto-expand-width vector-search-box\" id=\"p-search\" role=\"search\">\n",
      "<h3>Search</h3>\n",
      "<form action=\"/w/index.php\" class=\"vector-search-box-form\" id=\"searchform\">\n",
      "<div class=\"vector-search-box-inner\" data-search-loc=\"header-navigation\" id=\"simpleSearch\">\n",
      "<input accesskey=\"f\" aria-label=\"Search ARMS Institute\" autocapitalize=\"sentences\" class=\"vector-search-box-input\" id=\"searchInput\" name=\"search\" placeholder=\"Search ARMS Institute\" title=\"Search ARMS Institute [f]\" type=\"search\"/>\n",
      "<input name=\"title\" type=\"hidden\" value=\"Special:Search\"/>\n",
      "<input class=\"searchButton mw-fallbackSearchButton\" id=\"mw-searchButton\" name=\"fulltext\" title=\"Search the pages for this text\" type=\"submit\" value=\"Search\"/>\n",
      "<input class=\"searchButton\" id=\"searchButton\" name=\"go\" title=\"Go to a page with this exact name if it exists\" type=\"submit\" value=\"Go\"/>\n",
      "</div>\n",
      "</form>\n",
      "</div>\n",
      "</div>\n",
      "</div>\n",
      "<div class=\"vector-legacy-sidebar\" id=\"mw-panel\">\n",
      "<div id=\"p-logo\" role=\"banner\">\n",
      "<a class=\"mw-wiki-logo\" href=\"/wiki/Home\" title=\"Visit the main page\"></a>\n",
      "</div>\n",
      "<nav aria-labelledby=\"p-navigation-label\" class=\"vector-menu mw-portlet mw-portlet-navigation vector-menu-portal portal\" id=\"p-navigation\" role=\"navigation\">\n",
      "<h3 class=\"vector-menu-heading\" id=\"p-navigation-label\">\n",
      "<span class=\"vector-menu-heading-label\">Navigation</span>\n",
      "</h3>\n",
      "<div class=\"vector-menu-content\">\n",
      "<ul class=\"vector-menu-content-list\">\n",
      "<li class=\"mw-list-item\" id=\"n-mainpage-description\"><a accesskey=\"z\" href=\"/wiki/Home\" title=\"Visit the main page [z]\"><span>Home</span></a></li><li class=\"mw-list-item\" id=\"n-What-is-ARMS?\"><a href=\"/wiki/ARMS_(game)\"><span>What is ARMS?</span></a></li><li class=\"mw-list-item\" id=\"n-News\"><a href=\"/wiki/News\"><span>News</span></a></li>\n",
      "</ul>\n",
      "</div>\n",
      "</nav>\n",
      "<nav aria-labelledby=\"p-Game_Topics-label\" class=\"vector-menu mw-portlet mw-portlet-Game_Topics vector-menu-portal portal\" id=\"p-Game_Topics\" role=\"navigation\">\n",
      "<h3 class=\"vector-menu-heading\" id=\"p-Game_Topics-label\">\n",
      "<span class=\"vector-menu-heading-label\">Game Topics</span>\n",
      "</h3>\n",
      "<div class=\"vector-menu-content\">\n",
      "<ul class=\"vector-menu-content-list\">\n",
      "<li class=\"mw-list-item\" id=\"n-Fighters\"><a href=\"/wiki/Fighters\"><span>Fighters</span></a></li><li class=\"mw-list-item\" id=\"n-ARMS\"><a href=\"/wiki/ARMS_(equipment)\"><span>ARMS</span></a></li><li class=\"mw-list-item\" id=\"n-Stages\"><a href=\"/wiki/Stages\"><span>Stages</span></a></li><li class=\"mw-list-item\" id=\"n-Items\"><a href=\"/wiki/Items\"><span>Items</span></a></li><li class=\"mw-list-item\" id=\"n-Events\"><a href=\"/wiki/Competitive_Events\"><span>Events</span></a></li>\n",
      "</ul>\n",
      "</div>\n",
      "</nav>\n",
      "<nav aria-labelledby=\"p-Wiki_Links-label\" class=\"vector-menu mw-portlet mw-portlet-Wiki_Links vector-menu-portal portal\" id=\"p-Wiki_Links\" role=\"navigation\">\n",
      "<h3 class=\"vector-menu-heading\" id=\"p-Wiki_Links-label\">\n",
      "<span class=\"vector-menu-heading-label\">Wiki Links</span>\n",
      "</h3>\n",
      "<div class=\"vector-menu-content\">\n",
      "<ul class=\"vector-menu-content-list\">\n",
      "<li class=\"mw-list-item\" id=\"n-Policies\"><a href=\"/wiki/ARMS_Institute:Policies\"><span>Policies</span></a></li><li class=\"mw-list-item\" id=\"n-Discussion\"><a href=\"/wiki/ARMS_Institute:Discussion\"><span>Discussion</span></a></li><li class=\"mw-list-item\" id=\"n-NIWA\"><a href=\"/wiki/ARMS_Institute:NIWA_Links\"><span>NIWA</span></a></li><li class=\"mw-list-item\" id=\"n-recentchanges\"><a accesskey=\"r\" href=\"/wiki/Special:RecentChanges\" title=\"A list of recent changes in the wiki [r]\"><span>Recent changes</span></a></li><li class=\"mw-list-item\" id=\"n-randompage\"><a accesskey=\"x\" href=\"/wiki/Special:Random\" title=\"Load a random page [x]\"><span>Random page</span></a></li><li class=\"mw-list-item\" id=\"n-help\"><a href=\"https://www.mediawiki.org/wiki/Special:MyLanguage/Help:Contents\" title=\"The place to find out\"><span>Help</span></a></li>\n",
      "</ul>\n",
      "</div>\n",
      "</nav>\n",
      "<nav aria-labelledby=\"p-tb-label\" class=\"vector-menu mw-portlet mw-portlet-tb vector-menu-portal portal\" id=\"p-tb\" role=\"navigation\">\n",
      "<h3 class=\"vector-menu-heading\" id=\"p-tb-label\">\n",
      "<span class=\"vector-menu-heading-label\">Tools</span>\n",
      "</h3>\n",
      "<div class=\"vector-menu-content\">\n",
      "<ul class=\"vector-menu-content-list\">\n",
      "<li class=\"mw-list-item\" id=\"t-whatlinkshere\"><a accesskey=\"j\" href=\"/wiki/Special:WhatLinksHere/EU_ARMS_Challenge\" title=\"A list of all wiki pages that link here [j]\"><span>What links here</span></a></li><li class=\"mw-list-item\" id=\"t-recentchangeslinked\"><a accesskey=\"k\" href=\"/wiki/Special:RecentChangesLinked/EU_ARMS_Challenge\" rel=\"nofollow\" title=\"Recent changes in pages linked from this page [k]\"><span>Related changes</span></a></li><li class=\"mw-list-item\" id=\"t-specialpages\"><a accesskey=\"q\" href=\"/wiki/Special:SpecialPages\" title=\"A list of all special pages [q]\"><span>Special pages</span></a></li><li class=\"mw-list-item\" id=\"t-print\"><a accesskey=\"p\" href=\"javascript:print();\" rel=\"alternate\" title=\"Printable version of this page [p]\"><span>Printable version</span></a></li><li class=\"mw-list-item\" id=\"t-permalink\"><a href=\"/w/index.php?title=EU_ARMS_Challenge&amp;oldid=23064\" title=\"Permanent link to this revision of this page\"><span>Permanent link</span></a></li><li class=\"mw-list-item\" id=\"t-info\"><a href=\"/w/index.php?title=EU_ARMS_Challenge&amp;action=info\" title=\"More information about this page\"><span>Page information</span></a></li><li class=\"mw-list-item\" id=\"t-cargopagevalueslink\"><a href=\"/w/index.php?title=EU_ARMS_Challenge&amp;action=pagevalues\" rel=\"cargo-pagevalues\"><span>Cargo data</span></a></li>\n",
      "</ul>\n",
      "</div>\n",
      "</nav>\n",
      "</div>\n",
      "</div>\n",
      "<footer class=\"mw-footer\" id=\"footer\" role=\"contentinfo\">\n",
      "<ul id=\"footer-info\">\n",
      "<li id=\"footer-info-lastmod\"> This page was last edited on 13 October 2024, at 22:02.</li>\n",
      "<li id=\"footer-info-copyright\">Content is available under <a class=\"external\" href=\"https://creativecommons.org/licenses/by-sa/4.0/\" rel=\"nofollow\">Creative Commons Attribution-ShareAlike</a> unless otherwise noted.</li>\n",
      "</ul>\n",
      "<ul id=\"footer-places\">\n",
      "<li id=\"footer-places-privacy\"><a href=\"/wiki/ARMS_Institute:Privacy_policy\">Privacy policy</a></li>\n",
      "<li id=\"footer-places-about\"><a href=\"/wiki/ARMS_Institute:About\">About ARMS Institute</a></li>\n",
      "<li id=\"footer-places-disclaimers\"><a href=\"/wiki/ARMS_Institute:General_disclaimer\">Disclaimers</a></li>\n",
      "<li id=\"footer-places-mobileview\"><a class=\"noprint stopMobileRedirectToggle\" href=\"//armswiki.org/w/index.php?title=EU_ARMS_Challenge&amp;mobileaction=toggle_view_mobile\">Mobile view</a></li>\n",
      "</ul>\n",
      "<ul class=\"noprint\" id=\"footer-icons\">\n",
      "<li id=\"footer-copyrightico\"><a href=\"https://creativecommons.org/licenses/by-sa/4.0/\"><img alt=\"Creative Commons Attribution-ShareAlike\" height=\"31\" loading=\"lazy\" src=\"/w/resources/assets/licenses/cc-by-sa.png\" width=\"88\"/></a></li>\n",
      "<li id=\"footer-poweredbyico\"><a href=\"https://www.mediawiki.org/\"><img alt=\"Powered by MediaWiki\" height=\"31\" loading=\"lazy\" src=\"/w/resources/assets/poweredby_mediawiki_88x31.png\" srcset=\"/w/resources/assets/poweredby_mediawiki_132x47.png 1.5x, /w/resources/assets/poweredby_mediawiki_176x62.png 2x\" width=\"88\"/></a></li>\n",
      "<li id=\"footer-strategywikiico\"><a href=\"https://strategywiki.org/\"><img alt=\"Powered by StrategyWiki\" height=\"31\" loading=\"lazy\" src=\"https://cdn.wikimg.net/en/strategywiki/images/e/e5/Powered_by_StrategyWiki_Button.png\" srcset=\"https://cdn.wikimg.net/en/strategywiki/images/f/f0/Powered_by_StrategyWiki_Button2x.png 2x\" width=\"88\"/></a></li>\n",
      "</ul>\n",
      "</footer>\n",
      "<script async=\"\" src=\"https://www.googletagmanager.com/gtag/js?id=UA-7455005-3\"></script><script>\n",
      "window.dataLayer = window.dataLayer || [];\n",
      "\n",
      "function gtag(){dataLayer.push(arguments);}\n",
      "gtag('js', new Date());\n",
      "gtag('config', 'UA-7455005-3', {});\n",
      "</script>\n",
      "<script>(RLQ=window.RLQ||[]).push(function(){mw.config.set({\"wgBackendResponseTime\":249,\"wgPageParseReport\":{\"limitreport\":{\"cputime\":\"0.162\",\"walltime\":\"0.177\",\"ppvisitednodes\":{\"value\":3082,\"limit\":1000000},\"postexpandincludesize\":{\"value\":11217,\"limit\":2097152},\"templateargumentsize\":{\"value\":3768,\"limit\":2097152},\"expansiondepth\":{\"value\":4,\"limit\":100},\"expensivefunctioncount\":{\"value\":0,\"limit\":100},\"unstrip-depth\":{\"value\":0,\"limit\":20},\"unstrip-size\":{\"value\":807,\"limit\":5000000},\"timingprofile\":[\"100.00%   22.846      1 -total\",\" 63.58%   14.525    225 Template:Icon\",\"  2.91%    0.664      1 Template:Game\"]},\"cachereport\":{\"timestamp\":\"20250521141659\",\"ttl\":86400,\"transientcontent\":false}}});});</script>\n",
      "</body>\n",
      "</html>\n"
     ]
    }
   ],
   "source": [
    "print(soup)"
   ]
  },
  {
   "cell_type": "code",
   "execution_count": 207,
   "id": "fc830b94",
   "metadata": {},
   "outputs": [],
   "source": [
    "# Reduce data down to the div containing all the link needed\n",
    "tournamentData = soup.findAll('div', attrs={'class':\"mw-body-content mw-content-ltr\"})"
   ]
  },
  {
   "cell_type": "code",
   "execution_count": 208,
   "id": "6ea59869",
   "metadata": {},
   "outputs": [],
   "source": [
    "tournamentArray = []\n",
    "for links in tournamentData:\n",
    "    tournamentArray.append(links.find_all(\"a\", class_=\"external text\"))"
   ]
  },
  {
   "cell_type": "code",
   "execution_count": 209,
   "id": "b1c0d8e5",
   "metadata": {
    "scrolled": false
   },
   "outputs": [
    {
     "data": {
      "text/plain": [
       "[[<a class=\"external text\" href=\"https://smash.gg/tournament/eu-arms-challenge-1/details\" rel=\"nofollow\">EU ARMS Challenge #1</a>,\n",
       "  <a class=\"external text\" href=\"https://challonge.com/EUCHALLLENGE2\" rel=\"nofollow\">EU ARMS Challenge #2</a>,\n",
       "  <a class=\"external text\" href=\"https://challonge.com/EUCHALLLENGE3\" rel=\"nofollow\">EU ARMS Challenge #3</a>,\n",
       "  <a class=\"external text\" href=\"https://challonge.com/EUCHALLENGE4_Europe\" rel=\"nofollow\">EU ARMS Challenge #4 (EUROPE BRACKET)</a>,\n",
       "  <a class=\"external text\" href=\"https://challonge.com/EUChallenge5\" rel=\"nofollow\">EU ARMS Challenge #5</a>,\n",
       "  <a class=\"external text\" href=\"https://challonge.com/EUChallenge6\" rel=\"nofollow\">EU ARMS Challenge #6</a>,\n",
       "  <a class=\"external text\" href=\"https://challonge.com/EUChallenge7\" rel=\"nofollow\">EU ARMS Challenge #7</a>,\n",
       "  <a class=\"external text\" href=\"https://challonge.com/EUChallenge8\" rel=\"nofollow\">EU ARMS Challenge #8</a>,\n",
       "  <a class=\"external text\" href=\"https://challonge.com/EUChallenge9\" rel=\"nofollow\">EU ARMS Challenge #9</a>,\n",
       "  <a class=\"external text\" href=\"https://challonge.com/EUChallenge10\" rel=\"nofollow\">EU ARMS Challenge #10</a>,\n",
       "  <a class=\"external text\" href=\"https://challonge.com/EUChallenge11\" rel=\"nofollow\">EU ARMS Challenge #11</a>,\n",
       "  <a class=\"external text\" href=\"https://challonge.com/EUChallenge12\" rel=\"nofollow\">EU ARMS Challenge #12</a>,\n",
       "  <a class=\"external text\" href=\"https://challonge.com/EUChallenge13\" rel=\"nofollow\">EU ARMS Challenge #13</a>,\n",
       "  <a class=\"external text\" href=\"https://challonge.com/EUChallenge14\" rel=\"nofollow\">EU ARMS Challenge #14</a>,\n",
       "  <a class=\"external text\" href=\"https://challonge.com/EUChallenge15\" rel=\"nofollow\">EU ARMS Challenge #15</a>,\n",
       "  <a class=\"external text\" href=\"https://challonge.com/EUChallenge16\" rel=\"nofollow\">EU ARMS Challenge #16</a>,\n",
       "  <a class=\"external text\" href=\"https://challonge.com/EUChallenge17\" rel=\"nofollow\">EU ARMS Challenge #17</a>,\n",
       "  <a class=\"external text\" href=\"https://challonge.com/EUChallenge18\" rel=\"nofollow\">EU ARMS Challenge #18</a>,\n",
       "  <a class=\"external text\" href=\"https://challonge.com/EUChallenge19\" rel=\"nofollow\">EU ARMS Challenge #19</a>,\n",
       "  <a class=\"external text\" href=\"https://challonge.com/EUChallenge20\" rel=\"nofollow\">EU ARMS Challenge #20</a>,\n",
       "  <a class=\"external text\" href=\"https://challonge.com/EUChallenge21\" rel=\"nofollow\">EU ARMS Challenge #21</a>,\n",
       "  <a class=\"external text\" href=\"https://challonge.com/EUChallenge22\" rel=\"nofollow\">EU ARMS Challenge #22</a>,\n",
       "  <a class=\"external text\" href=\"https://challonge.com/EUChallenge23\" rel=\"nofollow\">EU ARMS Challenge #23</a>,\n",
       "  <a class=\"external text\" href=\"https://challonge.com/EUChallenge24\" rel=\"nofollow\">EU ARMS Challenge #24</a>,\n",
       "  <a class=\"external text\" href=\"https://challonge.com/EUChallenge25\" rel=\"nofollow\">EU ARMS Challenge #25</a>,\n",
       "  <a class=\"external text\" href=\"https://challonge.com/EUChallenge26\" rel=\"nofollow\">EU ARMS Challenge #26</a>,\n",
       "  <a class=\"external text\" href=\"https://challonge.com/EUChallenge27\" rel=\"nofollow\">EU ARMS Challenge #27</a>,\n",
       "  <a class=\"external text\" href=\"https://challonge.com/EUChallenge28\" rel=\"nofollow\">EU ARMS Challenge #28</a>,\n",
       "  <a class=\"external text\" href=\"https://challonge.com/EUChallenge29\" rel=\"nofollow\">EU ARMS Challenge #29</a>,\n",
       "  <a class=\"external text\" href=\"https://challonge.com/EUChallenge30\" rel=\"nofollow\">EU ARMS Challenge #30</a>,\n",
       "  <a class=\"external text\" href=\"https://challonge.com/EUAC31\" rel=\"nofollow\">EU ARMS Challenge #31</a>,\n",
       "  <a class=\"external text\" href=\"https://challonge.com/EUChallenge32\" rel=\"nofollow\">EU ARMS Challenge #32</a>,\n",
       "  <a class=\"external text\" href=\"https://challonge.com/EUAC33\" rel=\"nofollow\">EU ARMS Challenge #33</a>,\n",
       "  <a class=\"external text\" href=\"https://challonge.com/EUAC34\" rel=\"nofollow\">EU ARMS Challenge #34</a>,\n",
       "  <a class=\"external text\" href=\"https://challonge.com/EUAC35\" rel=\"nofollow\">EU ARMS Challenge #35</a>,\n",
       "  <a class=\"external text\" href=\"https://challonge.com/EUAC36\" rel=\"nofollow\">EU ARMS Challenge #36</a>,\n",
       "  <a class=\"external text\" href=\"https://challonge.com/EUAC37\" rel=\"nofollow\">EU ARMS Challenge #37</a>,\n",
       "  <a class=\"external text\" href=\"https://challonge.com/EUAC38\" rel=\"nofollow\">EU ARMS Challenge #38</a>,\n",
       "  <a class=\"external text\" href=\"https://challonge.com/EUAC39\" rel=\"nofollow\">EU ARMS Challenge #39</a>,\n",
       "  <a class=\"external text\" href=\"https://challonge.com/EUAC40\" rel=\"nofollow\">EU ARMS Challenge #40</a>,\n",
       "  <a class=\"external text\" href=\"https://challonge.com/EUAC41\" rel=\"nofollow\">EU ARMS Challenge #41</a>,\n",
       "  <a class=\"external text\" href=\"https://challonge.com/EUAC42\" rel=\"nofollow\">EU ARMS Challenge #42</a>,\n",
       "  <a class=\"external text\" href=\"https://challonge.com/EUAC43\" rel=\"nofollow\">EU ARMS Challenge #43</a>,\n",
       "  <a class=\"external text\" href=\"https://challonge.com/EUAC44\" rel=\"nofollow\">EU ARMS Challenge #44</a>,\n",
       "  <a class=\"external text\" href=\"https://challonge.com/EUAC45\" rel=\"nofollow\">EU ARMS Challenge #45</a>,\n",
       "  <a class=\"external text\" href=\"https://challonge.com/EUAC46\" rel=\"nofollow\">EU ARMS Challenge #46</a>,\n",
       "  <a class=\"external text\" href=\"https://challonge.com/EUAC47\" rel=\"nofollow\">EU ARMS Challenge #47</a>,\n",
       "  <a class=\"external text\" href=\"https://challonge.com/EUAC48\" rel=\"nofollow\">EU ARMS Challenge #48</a>,\n",
       "  <a class=\"external text\" href=\"https://challonge.com/EUAC49\" rel=\"nofollow\">EU ARMS Challenge #49</a>,\n",
       "  <a class=\"external text\" href=\"https://challonge.com/EUAC50\" rel=\"nofollow\">EU ARMS Challenge #50</a>,\n",
       "  <a class=\"external text\" href=\"https://challonge.com/EUAC51\" rel=\"nofollow\">EU ARMS Challenge #51</a>,\n",
       "  <a class=\"external text\" href=\"https://challonge.com/EUAC52\" rel=\"nofollow\">EU ARMS Challenge #52</a>,\n",
       "  <a class=\"external text\" href=\"https://challonge.com/EUAC53\" rel=\"nofollow\">EU ARMS Challenge #53</a>,\n",
       "  <a class=\"external text\" href=\"https://challonge.com/EUAC54\" rel=\"nofollow\">EU ARMS Challenge #54</a>,\n",
       "  <a class=\"external text\" href=\"https://challonge.com/EUAC55\" rel=\"nofollow\">EU ARMS Challenge #55</a>,\n",
       "  <a class=\"external text\" href=\"https://challonge.com/EUAC56\" rel=\"nofollow\">EU ARMS Challenge #56</a>,\n",
       "  <a class=\"external text\" href=\"https://challonge.com/EUAC57\" rel=\"nofollow\">EU ARMS Challenge #57</a>,\n",
       "  <a class=\"external text\" href=\"https://challonge.com/EUAC58\" rel=\"nofollow\">EU ARMS Challenge #58</a>,\n",
       "  <a class=\"external text\" href=\"https://challonge.com/EUAC59\" rel=\"nofollow\">EU ARMS Challenge #59</a>,\n",
       "  <a class=\"external text\" href=\"https://challonge.com/EUAC60\" rel=\"nofollow\">EU ARMS Challenge #60</a>,\n",
       "  <a class=\"external text\" href=\"https://challonge.com/EUAC61\" rel=\"nofollow\">EU ARMS Challenge #61</a>,\n",
       "  <a class=\"external text\" href=\"https://challonge.com/EUAC62\" rel=\"nofollow\">EU ARMS Challenge #62</a>,\n",
       "  <a class=\"external text\" href=\"https://challonge.com/EUAC63\" rel=\"nofollow\">EU ARMS Challenge #63</a>,\n",
       "  <a class=\"external text\" href=\"https://challonge.com/EUAC64\" rel=\"nofollow\">EU ARMS Challenge #64</a>,\n",
       "  <a class=\"external text\" href=\"https://challonge.com/EUAC65\" rel=\"nofollow\">EU ARMS Challenge #65</a>,\n",
       "  <a class=\"external text\" href=\"https://challonge.com/EUAC66\" rel=\"nofollow\">EU ARMS Challenge #66</a>,\n",
       "  <a class=\"external text\" href=\"https://challonge.com/EUAC67\" rel=\"nofollow\">EU ARMS Challenge #67</a>,\n",
       "  <a class=\"external text\" href=\"https://challonge.com/EUAC68\" rel=\"nofollow\">EU ARMS Challenge #68</a>,\n",
       "  <a class=\"external text\" href=\"https://challonge.com/EUAC69\" rel=\"nofollow\">EU ARMS Challenge #69</a>,\n",
       "  <a class=\"external text\" href=\"https://challonge.com/EUAC70\" rel=\"nofollow\">EU ARMS Challenge #70</a>,\n",
       "  <a class=\"external text\" href=\"https://challonge.com/EUAC71\" rel=\"nofollow\">EU ARMS Challenge #71</a>,\n",
       "  <a class=\"external text\" href=\"https://challonge.com/EUAC72\" rel=\"nofollow\">EU ARMS Challenge #72</a>,\n",
       "  <a class=\"external text\" href=\"https://challonge.com/EUAC73\" rel=\"nofollow\">EU ARMS Challenge #73</a>,\n",
       "  <a class=\"external text\" href=\"https://challonge.com/EUAC74\" rel=\"nofollow\">EU ARMS Challenge #74</a>,\n",
       "  <a class=\"external text\" href=\"https://challonge.com/EUAC75\" rel=\"nofollow\">EU ARMS Challenge #75</a>,\n",
       "  <a class=\"external text\" href=\"https://challonge.com/EUAC76\" rel=\"nofollow\">EU ARMS Challenge #76</a>,\n",
       "  <a class=\"external text\" href=\"https://challonge.com/EUAC77\" rel=\"nofollow\">EU ARMS Challenge #77</a>,\n",
       "  <a class=\"external text\" href=\"https://challonge.com/EUAC78\" rel=\"nofollow\">EU ARMS Challenge #78</a>,\n",
       "  <a class=\"external text\" href=\"https://challonge.com/EUAC79\" rel=\"nofollow\">EU ARMS Challenge #79</a>,\n",
       "  <a class=\"external text\" href=\"https://challonge.com/EUAC80\" rel=\"nofollow\">EU ARMS Challenge #80</a>,\n",
       "  <a class=\"external text\" href=\"https://challonge.com/EUAC81\" rel=\"nofollow\">EU ARMS Challenge #81</a>,\n",
       "  <a class=\"external text\" href=\"https://challonge.com/EUAC82\" rel=\"nofollow\">EU ARMS Challenge #82</a>,\n",
       "  <a class=\"external text\" href=\"https://challonge.com/EUAC83\" rel=\"nofollow\">EU ARMS Challenge #83</a>,\n",
       "  <a class=\"external text\" href=\"https://challonge.com/EUAC84\" rel=\"nofollow\">EU ARMS Challenge #84</a>,\n",
       "  <a class=\"external text\" href=\"https://challonge.com/EUAC85\" rel=\"nofollow\">EU ARMS Challenge #85</a>,\n",
       "  <a class=\"external text\" href=\"https://challonge.com/EUAC86\" rel=\"nofollow\">EU ARMS Challenge #86</a>,\n",
       "  <a class=\"external text\" href=\"https://challonge.com/EUAC87\" rel=\"nofollow\">EU ARMS Challenge #87</a>,\n",
       "  <a class=\"external text\" href=\"https://challonge.com/EUAC88\" rel=\"nofollow\">EU ARMS Challenge #88</a>,\n",
       "  <a class=\"external text\" href=\"https://challonge.com/EUAC89\" rel=\"nofollow\">EU ARMS Challenge #89</a>,\n",
       "  <a class=\"external text\" href=\"https://challonge.com/EUAC90\" rel=\"nofollow\">EU ARMS Challenge #90</a>,\n",
       "  <a class=\"external text\" href=\"https://challonge.com/EUAC91\" rel=\"nofollow\">EU ARMS Challenge #91</a>,\n",
       "  <a class=\"external text\" href=\"https://challonge.com/EUAC92\" rel=\"nofollow\">EU ARMS Challenge #92</a>,\n",
       "  <a class=\"external text\" href=\"https://challonge.com/EUAC93\" rel=\"nofollow\">EU ARMS Challenge #93</a>,\n",
       "  <a class=\"external text\" href=\"https://challonge.com/EUAC94\" rel=\"nofollow\">EU ARMS Challenge #94</a>,\n",
       "  <a class=\"external text\" href=\"https://challonge.com/EUAC95\" rel=\"nofollow\">EU ARMS Challenge #95</a>,\n",
       "  <a class=\"external text\" href=\"https://challonge.com/EUAC96\" rel=\"nofollow\">EU ARMS Challenge #96</a>,\n",
       "  <a class=\"external text\" href=\"https://challonge.com/EUAC97\" rel=\"nofollow\">EU ARMS Challenge #97</a>,\n",
       "  <a class=\"external text\" href=\"https://challonge.com/EUAC98\" rel=\"nofollow\">EU ARMS Challenge #98</a>,\n",
       "  <a class=\"external text\" href=\"https://challonge.com/EUAC99\" rel=\"nofollow\">EU ARMS Challenge #99</a>,\n",
       "  <a class=\"external text\" href=\"https://challonge.com/EUAC100\" rel=\"nofollow\">EU ARMS Challenge #100</a>,\n",
       "  <a class=\"external text\" href=\"https://challonge.com/EUAC101\" rel=\"nofollow\">EU ARMS Challenge #101</a>,\n",
       "  <a class=\"external text\" href=\"https://challonge.com/EUAC102\" rel=\"nofollow\">EU ARMS Challenge #102</a>,\n",
       "  <a class=\"external text\" href=\"https://challonge.com/EUAC103\" rel=\"nofollow\">EU ARMS Challenge #103</a>,\n",
       "  <a class=\"external text\" href=\"https://challonge.com/EUAC104\" rel=\"nofollow\">EU ARMS Challenge #104</a>,\n",
       "  <a class=\"external text\" href=\"https://challonge.com/EUAC105\" rel=\"nofollow\">EU ARMS Challenge #105</a>,\n",
       "  <a class=\"external text\" href=\"https://challonge.com/EUAC106\" rel=\"nofollow\">EU ARMS Challenge #106</a>,\n",
       "  <a class=\"external text\" href=\"https://challonge.com/EUAC107\" rel=\"nofollow\">EU ARMS Challenge #107</a>,\n",
       "  <a class=\"external text\" href=\"https://challonge.com/EUACPVW\" rel=\"nofollow\">EU ARMS Challenge - Pre Vortex Workout</a>,\n",
       "  <a class=\"external text\" href=\"https://challonge.com/EUAC108\" rel=\"nofollow\">EU ARMS Challenge #108</a>,\n",
       "  <a class=\"external text\" href=\"https://challonge.com/EUAC109\" rel=\"nofollow\">EU ARMS Challenge #109</a>,\n",
       "  <a class=\"external text\" href=\"https://challonge.com/EUAC110\" rel=\"nofollow\">EU ARMS Challenge #110</a>,\n",
       "  <a class=\"external text\" href=\"https://www.youtube.com/playlist?list=PLlCNDwn0SE2fgA35LnSo_taArY9Sea5Nk\" rel=\"nofollow\">EU ARMS Challenge #22 Playlist</a>,\n",
       "  <a class=\"external text\" href=\"https://www.youtube.com/playlist?list=PLlCNDwn0SE2dMTRPgylOOij2H67xp0APh\" rel=\"nofollow\">EU ARMS Challenge #23 Playlist</a>,\n",
       "  <a class=\"external text\" href=\"https://www.youtube.com/playlist?list=PLlCNDwn0SE2fcl28PGRWESTN5l67lf-X7\" rel=\"nofollow\">EU ARMS Challenge #24 Playlist</a>,\n",
       "  <a class=\"external text\" href=\"https://www.youtube.com/playlist?list=PLlCNDwn0SE2cAs4uzsRFH7U5oF81tw_AU\" rel=\"nofollow\">EU ARMS Challenge #25 Playlist</a>,\n",
       "  <a class=\"external text\" href=\"https://www.youtube.com/playlist?list=PLlCNDwn0SE2eJBsGSGjpLNgpvcFxP0Dbl\" rel=\"nofollow\">EU ARMS Challenge #26 Playlist</a>,\n",
       "  <a class=\"external text\" href=\"https://www.youtube.com/playlist?list=PLlCNDwn0SE2euCEtJVxip_6cjRftegRCf\" rel=\"nofollow\">EU ARMS Challenge #27 Playlist</a>,\n",
       "  <a class=\"external text\" href=\"https://www.youtube.com/playlist?list=PLlCNDwn0SE2fStusxalsWcMpae5kpDmXw\" rel=\"nofollow\">EU ARMS Challenge #29 Playlist</a>,\n",
       "  <a class=\"external text\" href=\"https://www.twitch.tv/videos/908673111\" rel=\"nofollow\">EU ARMS Challenge #65 Full VOD</a>]]"
      ]
     },
     "execution_count": 209,
     "metadata": {},
     "output_type": "execute_result"
    }
   ],
   "source": [
    "tournamentArray"
   ]
  },
  {
   "cell_type": "markdown",
   "id": "389829f4",
   "metadata": {},
   "source": [
    "A list of lists in a list... Could have done this another way"
   ]
  },
  {
   "cell_type": "code",
   "execution_count": 210,
   "id": "afca821b",
   "metadata": {},
   "outputs": [],
   "source": [
    "linkArray = []\n",
    "for links in tournamentArray:\n",
    "    for link in links:\n",
    "        linkArray.append(link[\"href\"]) # Extract only the href tag (the link)"
   ]
  },
  {
   "cell_type": "code",
   "execution_count": 211,
   "id": "a17efce4",
   "metadata": {
    "scrolled": true
   },
   "outputs": [
    {
     "data": {
      "text/plain": [
       "['https://smash.gg/tournament/eu-arms-challenge-1/details',\n",
       " 'https://challonge.com/EUCHALLLENGE2',\n",
       " 'https://challonge.com/EUCHALLLENGE3',\n",
       " 'https://challonge.com/EUCHALLENGE4_Europe',\n",
       " 'https://challonge.com/EUChallenge5',\n",
       " 'https://challonge.com/EUChallenge6',\n",
       " 'https://challonge.com/EUChallenge7',\n",
       " 'https://challonge.com/EUChallenge8',\n",
       " 'https://challonge.com/EUChallenge9',\n",
       " 'https://challonge.com/EUChallenge10',\n",
       " 'https://challonge.com/EUChallenge11',\n",
       " 'https://challonge.com/EUChallenge12',\n",
       " 'https://challonge.com/EUChallenge13',\n",
       " 'https://challonge.com/EUChallenge14',\n",
       " 'https://challonge.com/EUChallenge15',\n",
       " 'https://challonge.com/EUChallenge16',\n",
       " 'https://challonge.com/EUChallenge17',\n",
       " 'https://challonge.com/EUChallenge18',\n",
       " 'https://challonge.com/EUChallenge19',\n",
       " 'https://challonge.com/EUChallenge20',\n",
       " 'https://challonge.com/EUChallenge21',\n",
       " 'https://challonge.com/EUChallenge22',\n",
       " 'https://challonge.com/EUChallenge23',\n",
       " 'https://challonge.com/EUChallenge24',\n",
       " 'https://challonge.com/EUChallenge25',\n",
       " 'https://challonge.com/EUChallenge26',\n",
       " 'https://challonge.com/EUChallenge27',\n",
       " 'https://challonge.com/EUChallenge28',\n",
       " 'https://challonge.com/EUChallenge29',\n",
       " 'https://challonge.com/EUChallenge30',\n",
       " 'https://challonge.com/EUAC31',\n",
       " 'https://challonge.com/EUChallenge32',\n",
       " 'https://challonge.com/EUAC33',\n",
       " 'https://challonge.com/EUAC34',\n",
       " 'https://challonge.com/EUAC35',\n",
       " 'https://challonge.com/EUAC36',\n",
       " 'https://challonge.com/EUAC37',\n",
       " 'https://challonge.com/EUAC38',\n",
       " 'https://challonge.com/EUAC39',\n",
       " 'https://challonge.com/EUAC40',\n",
       " 'https://challonge.com/EUAC41',\n",
       " 'https://challonge.com/EUAC42',\n",
       " 'https://challonge.com/EUAC43',\n",
       " 'https://challonge.com/EUAC44',\n",
       " 'https://challonge.com/EUAC45',\n",
       " 'https://challonge.com/EUAC46',\n",
       " 'https://challonge.com/EUAC47',\n",
       " 'https://challonge.com/EUAC48',\n",
       " 'https://challonge.com/EUAC49',\n",
       " 'https://challonge.com/EUAC50',\n",
       " 'https://challonge.com/EUAC51',\n",
       " 'https://challonge.com/EUAC52',\n",
       " 'https://challonge.com/EUAC53',\n",
       " 'https://challonge.com/EUAC54',\n",
       " 'https://challonge.com/EUAC55',\n",
       " 'https://challonge.com/EUAC56',\n",
       " 'https://challonge.com/EUAC57',\n",
       " 'https://challonge.com/EUAC58',\n",
       " 'https://challonge.com/EUAC59',\n",
       " 'https://challonge.com/EUAC60',\n",
       " 'https://challonge.com/EUAC61',\n",
       " 'https://challonge.com/EUAC62',\n",
       " 'https://challonge.com/EUAC63',\n",
       " 'https://challonge.com/EUAC64',\n",
       " 'https://challonge.com/EUAC65',\n",
       " 'https://challonge.com/EUAC66',\n",
       " 'https://challonge.com/EUAC67',\n",
       " 'https://challonge.com/EUAC68',\n",
       " 'https://challonge.com/EUAC69',\n",
       " 'https://challonge.com/EUAC70',\n",
       " 'https://challonge.com/EUAC71',\n",
       " 'https://challonge.com/EUAC72',\n",
       " 'https://challonge.com/EUAC73',\n",
       " 'https://challonge.com/EUAC74',\n",
       " 'https://challonge.com/EUAC75',\n",
       " 'https://challonge.com/EUAC76',\n",
       " 'https://challonge.com/EUAC77',\n",
       " 'https://challonge.com/EUAC78',\n",
       " 'https://challonge.com/EUAC79',\n",
       " 'https://challonge.com/EUAC80',\n",
       " 'https://challonge.com/EUAC81',\n",
       " 'https://challonge.com/EUAC82',\n",
       " 'https://challonge.com/EUAC83',\n",
       " 'https://challonge.com/EUAC84',\n",
       " 'https://challonge.com/EUAC85',\n",
       " 'https://challonge.com/EUAC86',\n",
       " 'https://challonge.com/EUAC87',\n",
       " 'https://challonge.com/EUAC88',\n",
       " 'https://challonge.com/EUAC89',\n",
       " 'https://challonge.com/EUAC90',\n",
       " 'https://challonge.com/EUAC91',\n",
       " 'https://challonge.com/EUAC92',\n",
       " 'https://challonge.com/EUAC93',\n",
       " 'https://challonge.com/EUAC94',\n",
       " 'https://challonge.com/EUAC95',\n",
       " 'https://challonge.com/EUAC96',\n",
       " 'https://challonge.com/EUAC97',\n",
       " 'https://challonge.com/EUAC98',\n",
       " 'https://challonge.com/EUAC99',\n",
       " 'https://challonge.com/EUAC100',\n",
       " 'https://challonge.com/EUAC101',\n",
       " 'https://challonge.com/EUAC102',\n",
       " 'https://challonge.com/EUAC103',\n",
       " 'https://challonge.com/EUAC104',\n",
       " 'https://challonge.com/EUAC105',\n",
       " 'https://challonge.com/EUAC106',\n",
       " 'https://challonge.com/EUAC107',\n",
       " 'https://challonge.com/EUACPVW',\n",
       " 'https://challonge.com/EUAC108',\n",
       " 'https://challonge.com/EUAC109',\n",
       " 'https://challonge.com/EUAC110',\n",
       " 'https://www.youtube.com/playlist?list=PLlCNDwn0SE2fgA35LnSo_taArY9Sea5Nk',\n",
       " 'https://www.youtube.com/playlist?list=PLlCNDwn0SE2dMTRPgylOOij2H67xp0APh',\n",
       " 'https://www.youtube.com/playlist?list=PLlCNDwn0SE2fcl28PGRWESTN5l67lf-X7',\n",
       " 'https://www.youtube.com/playlist?list=PLlCNDwn0SE2cAs4uzsRFH7U5oF81tw_AU',\n",
       " 'https://www.youtube.com/playlist?list=PLlCNDwn0SE2eJBsGSGjpLNgpvcFxP0Dbl',\n",
       " 'https://www.youtube.com/playlist?list=PLlCNDwn0SE2euCEtJVxip_6cjRftegRCf',\n",
       " 'https://www.youtube.com/playlist?list=PLlCNDwn0SE2fStusxalsWcMpae5kpDmXw',\n",
       " 'https://www.twitch.tv/videos/908673111']"
      ]
     },
     "execution_count": 211,
     "metadata": {},
     "output_type": "execute_result"
    }
   ],
   "source": [
    "linkArray"
   ]
  },
  {
   "cell_type": "code",
   "execution_count": 212,
   "id": "dedb745c",
   "metadata": {},
   "outputs": [],
   "source": [
    "# Remove non-challonge links\n",
    "\n",
    "challongeArray = []\n",
    "\n",
    "for links in linkArray:\n",
    "    if \"challonge\" in links:\n",
    "        challongeArray.append(links)"
   ]
  },
  {
   "cell_type": "code",
   "execution_count": 213,
   "id": "4006616d",
   "metadata": {
    "scrolled": true
   },
   "outputs": [
    {
     "data": {
      "text/plain": [
       "['https://challonge.com/EUCHALLLENGE2',\n",
       " 'https://challonge.com/EUCHALLLENGE3',\n",
       " 'https://challonge.com/EUCHALLENGE4_Europe',\n",
       " 'https://challonge.com/EUChallenge5',\n",
       " 'https://challonge.com/EUChallenge6',\n",
       " 'https://challonge.com/EUChallenge7',\n",
       " 'https://challonge.com/EUChallenge8',\n",
       " 'https://challonge.com/EUChallenge9',\n",
       " 'https://challonge.com/EUChallenge10',\n",
       " 'https://challonge.com/EUChallenge11',\n",
       " 'https://challonge.com/EUChallenge12',\n",
       " 'https://challonge.com/EUChallenge13',\n",
       " 'https://challonge.com/EUChallenge14',\n",
       " 'https://challonge.com/EUChallenge15',\n",
       " 'https://challonge.com/EUChallenge16',\n",
       " 'https://challonge.com/EUChallenge17',\n",
       " 'https://challonge.com/EUChallenge18',\n",
       " 'https://challonge.com/EUChallenge19',\n",
       " 'https://challonge.com/EUChallenge20',\n",
       " 'https://challonge.com/EUChallenge21',\n",
       " 'https://challonge.com/EUChallenge22',\n",
       " 'https://challonge.com/EUChallenge23',\n",
       " 'https://challonge.com/EUChallenge24',\n",
       " 'https://challonge.com/EUChallenge25',\n",
       " 'https://challonge.com/EUChallenge26',\n",
       " 'https://challonge.com/EUChallenge27',\n",
       " 'https://challonge.com/EUChallenge28',\n",
       " 'https://challonge.com/EUChallenge29',\n",
       " 'https://challonge.com/EUChallenge30',\n",
       " 'https://challonge.com/EUAC31',\n",
       " 'https://challonge.com/EUChallenge32',\n",
       " 'https://challonge.com/EUAC33',\n",
       " 'https://challonge.com/EUAC34',\n",
       " 'https://challonge.com/EUAC35',\n",
       " 'https://challonge.com/EUAC36',\n",
       " 'https://challonge.com/EUAC37',\n",
       " 'https://challonge.com/EUAC38',\n",
       " 'https://challonge.com/EUAC39',\n",
       " 'https://challonge.com/EUAC40',\n",
       " 'https://challonge.com/EUAC41',\n",
       " 'https://challonge.com/EUAC42',\n",
       " 'https://challonge.com/EUAC43',\n",
       " 'https://challonge.com/EUAC44',\n",
       " 'https://challonge.com/EUAC45',\n",
       " 'https://challonge.com/EUAC46',\n",
       " 'https://challonge.com/EUAC47',\n",
       " 'https://challonge.com/EUAC48',\n",
       " 'https://challonge.com/EUAC49',\n",
       " 'https://challonge.com/EUAC50',\n",
       " 'https://challonge.com/EUAC51',\n",
       " 'https://challonge.com/EUAC52',\n",
       " 'https://challonge.com/EUAC53',\n",
       " 'https://challonge.com/EUAC54',\n",
       " 'https://challonge.com/EUAC55',\n",
       " 'https://challonge.com/EUAC56',\n",
       " 'https://challonge.com/EUAC57',\n",
       " 'https://challonge.com/EUAC58',\n",
       " 'https://challonge.com/EUAC59',\n",
       " 'https://challonge.com/EUAC60',\n",
       " 'https://challonge.com/EUAC61',\n",
       " 'https://challonge.com/EUAC62',\n",
       " 'https://challonge.com/EUAC63',\n",
       " 'https://challonge.com/EUAC64',\n",
       " 'https://challonge.com/EUAC65',\n",
       " 'https://challonge.com/EUAC66',\n",
       " 'https://challonge.com/EUAC67',\n",
       " 'https://challonge.com/EUAC68',\n",
       " 'https://challonge.com/EUAC69',\n",
       " 'https://challonge.com/EUAC70',\n",
       " 'https://challonge.com/EUAC71',\n",
       " 'https://challonge.com/EUAC72',\n",
       " 'https://challonge.com/EUAC73',\n",
       " 'https://challonge.com/EUAC74',\n",
       " 'https://challonge.com/EUAC75',\n",
       " 'https://challonge.com/EUAC76',\n",
       " 'https://challonge.com/EUAC77',\n",
       " 'https://challonge.com/EUAC78',\n",
       " 'https://challonge.com/EUAC79',\n",
       " 'https://challonge.com/EUAC80',\n",
       " 'https://challonge.com/EUAC81',\n",
       " 'https://challonge.com/EUAC82',\n",
       " 'https://challonge.com/EUAC83',\n",
       " 'https://challonge.com/EUAC84',\n",
       " 'https://challonge.com/EUAC85',\n",
       " 'https://challonge.com/EUAC86',\n",
       " 'https://challonge.com/EUAC87',\n",
       " 'https://challonge.com/EUAC88',\n",
       " 'https://challonge.com/EUAC89',\n",
       " 'https://challonge.com/EUAC90',\n",
       " 'https://challonge.com/EUAC91',\n",
       " 'https://challonge.com/EUAC92',\n",
       " 'https://challonge.com/EUAC93',\n",
       " 'https://challonge.com/EUAC94',\n",
       " 'https://challonge.com/EUAC95',\n",
       " 'https://challonge.com/EUAC96',\n",
       " 'https://challonge.com/EUAC97',\n",
       " 'https://challonge.com/EUAC98',\n",
       " 'https://challonge.com/EUAC99',\n",
       " 'https://challonge.com/EUAC100',\n",
       " 'https://challonge.com/EUAC101',\n",
       " 'https://challonge.com/EUAC102',\n",
       " 'https://challonge.com/EUAC103',\n",
       " 'https://challonge.com/EUAC104',\n",
       " 'https://challonge.com/EUAC105',\n",
       " 'https://challonge.com/EUAC106',\n",
       " 'https://challonge.com/EUAC107',\n",
       " 'https://challonge.com/EUACPVW',\n",
       " 'https://challonge.com/EUAC108',\n",
       " 'https://challonge.com/EUAC109',\n",
       " 'https://challonge.com/EUAC110']"
      ]
     },
     "execution_count": 213,
     "metadata": {},
     "output_type": "execute_result"
    }
   ],
   "source": [
    "challongeArray"
   ]
  },
  {
   "cell_type": "markdown",
   "id": "57bc8658",
   "metadata": {},
   "source": [
    "#### 3.2.2.2 - Challonge API Exploration\n",
    "\n",
    "Section for loading api keys and interacting with the API to figure out how to collect the data"
   ]
  },
  {
   "cell_type": "code",
   "execution_count": 214,
   "id": "97df2669",
   "metadata": {},
   "outputs": [],
   "source": [
    "# Load API Keys from .env file\n",
    "API_KEY = os.getenv(\"API_KEY\")\n",
    "API_SECRET = os.getenv(\"API_SECRET\")"
   ]
  },
  {
   "cell_type": "code",
   "execution_count": 215,
   "id": "19dcec58",
   "metadata": {},
   "outputs": [],
   "source": [
    "import challonge\n",
    "\n",
    "# Tell pychallonge about your [CHALLONGE! API credentials](http://api.challonge.com/v1).\n",
    "challonge.set_credentials(API_KEY, API_SECRET)"
   ]
  },
  {
   "cell_type": "code",
   "execution_count": 216,
   "id": "265c0394",
   "metadata": {
    "scrolled": true
   },
   "outputs": [
    {
     "name": "stdout",
     "output_type": "stream",
     "text": [
      "['ChallongeException', '__builtins__', '__cached__', '__doc__', '__file__', '__loader__', '__name__', '__package__', '__path__', '__spec__', 'api', 'attachments', 'fetch', 'get_credentials', 'get_timezone', 'matches', 'participants', 'set_credentials', 'set_timezone', 'set_user_agent', 'tournaments']\n"
     ]
    }
   ],
   "source": [
    "# See available methods\n",
    "methods_and_attributes = dir(challonge)\n",
    "print(methods_and_attributes)"
   ]
  },
  {
   "cell_type": "code",
   "execution_count": 217,
   "id": "cffccf15",
   "metadata": {},
   "outputs": [],
   "source": [
    "# Retrieve a tournament by its id (or its url).\n",
    "tournament = challonge.tournaments.show(challongeArray[0].split(\"/\")[-1]) # Requires only URL slug"
   ]
  },
  {
   "cell_type": "code",
   "execution_count": 218,
   "id": "60cbb4f2",
   "metadata": {
    "scrolled": false
   },
   "outputs": [
    {
     "data": {
      "text/plain": [
       "{'id': 3973078,\n",
       " 'name': 'EU ARMS Challenge #2',\n",
       " 'url': 'EUCHALLLENGE2',\n",
       " 'description': '<p><span style=\"background-color: rgb(39, 42, 51);\">Tournament hosted by EUARMSCompetitve\\xa0Discord!</span></p><p><span style=\"background-color: rgb(39, 42, 51);\">The tournament is EU exclusive, meaning anyone outside of EU can\\'t participate.</span></p><p>If we get 32+ participants the winner of the tournament will get a\\xa0Nintendo eShop Card 15 €!</p><p><span style=\"background-color: rgb(39, 42, 51);\"><br>You must be part of the EU ARMS discord in order to participate and coordinate your matchups\\xa0</span><span style=\"background-color: rgb(39, 42, 51);\">\\xa0</span>https://discord.gg/W486K28</p><p>Rules:\\xa0\\xa0https://goo.gl/PkXDZo<br><br></p>',\n",
       " 'tournament_type': 'double elimination',\n",
       " 'started_at': datetime.datetime(2017, 11, 12, 14, 7, 13, 162000, tzinfo=<DstTzInfo 'Europe/London' GMT0:00:00 STD>),\n",
       " 'completed_at': datetime.datetime(2017, 11, 12, 17, 22, 0, 232000, tzinfo=<DstTzInfo 'Europe/London' GMT0:00:00 STD>),\n",
       " 'require_score_agreement': False,\n",
       " 'notify_users_when_matches_open': True,\n",
       " 'created_at': datetime.datetime(2017, 11, 4, 16, 52, 9, 732000, tzinfo=<DstTzInfo 'Europe/London' GMT0:00:00 STD>),\n",
       " 'updated_at': datetime.datetime(2017, 11, 12, 17, 22, 2, 358000, tzinfo=<DstTzInfo 'Europe/London' GMT0:00:00 STD>),\n",
       " 'state': 'complete',\n",
       " 'open_signup': True,\n",
       " 'notify_users_when_the_tournament_ends': True,\n",
       " 'progress_meter': 100,\n",
       " 'quick_advance': False,\n",
       " 'hold_third_place_match': False,\n",
       " 'pts_for_game_win': 0.0,\n",
       " 'pts_for_game_tie': 0.0,\n",
       " 'pts_for_match_win': 1.0,\n",
       " 'pts_for_match_tie': 0.5,\n",
       " 'pts_for_bye': 1.0,\n",
       " 'swiss_rounds': 0,\n",
       " 'private': False,\n",
       " 'ranked_by': 'match wins',\n",
       " 'show_rounds': True,\n",
       " 'hide_forum': False,\n",
       " 'sequential_pairings': False,\n",
       " 'accept_attachments': False,\n",
       " 'rr_pts_for_game_win': 0.0,\n",
       " 'rr_pts_for_game_tie': 0.0,\n",
       " 'rr_pts_for_match_win': 1.0,\n",
       " 'rr_pts_for_match_tie': 0.5,\n",
       " 'created_by_api': False,\n",
       " 'credit_capped': False,\n",
       " 'category': None,\n",
       " 'hide_seeds': False,\n",
       " 'prediction_method': 0,\n",
       " 'predictions_opened_at': None,\n",
       " 'anonymous_voting': False,\n",
       " 'max_predictions_per_user': 1,\n",
       " 'signup_cap': None,\n",
       " 'game_id': 46860,\n",
       " 'participants_count': 17,\n",
       " 'group_stages_enabled': False,\n",
       " 'allow_participant_match_reporting': True,\n",
       " 'teams': False,\n",
       " 'check_in_duration': 30,\n",
       " 'start_at': datetime.datetime(2017, 11, 12, 14, 0, tzinfo=<DstTzInfo 'Europe/London' GMT0:00:00 STD>),\n",
       " 'started_checking_in_at': datetime.datetime(2017, 11, 12, 13, 30, 2, 786000, tzinfo=<DstTzInfo 'Europe/London' GMT0:00:00 STD>),\n",
       " 'tie_breaks': ['match wins vs tied', 'game wins', 'points scored'],\n",
       " 'locked_at': None,\n",
       " 'event_id': None,\n",
       " 'public_predictions_before_start_time': False,\n",
       " 'ranked': False,\n",
       " 'grand_finals_modifier': None,\n",
       " 'predict_the_losers_bracket': False,\n",
       " 'spam': False,\n",
       " 'ham': None,\n",
       " 'rr_iterations': 1,\n",
       " 'tournament_registration_id': None,\n",
       " 'donation_contest_enabled': None,\n",
       " 'mandatory_donation': None,\n",
       " 'non_elimination_tournament_data': {},\n",
       " 'auto_assign_stations': None,\n",
       " 'only_start_matches_with_stations': None,\n",
       " 'registration_fee': 0.0,\n",
       " 'registration_type': 'free',\n",
       " 'split_participants': False,\n",
       " 'allowed_regions': None,\n",
       " 'show_participant_country': None,\n",
       " 'program_id': None,\n",
       " 'program_classification_ids_allowed': None,\n",
       " 'team_size_range': None,\n",
       " 'toxic': None,\n",
       " 'use_new_style': None,\n",
       " 'optional_display_data': {'show_standings': '1', 'show_announcements': True},\n",
       " 'processing': None,\n",
       " 'oauth_application_id': None,\n",
       " 'hide_bracket_preview': None,\n",
       " 'consolation_matches_target_rank': None,\n",
       " 'review_swiss_pairings_before_starting_rounds': None,\n",
       " 'allow_incomplete_rosters': None,\n",
       " 'check_in_onsite': None,\n",
       " 'description_source': '<p><span style=\"background-color: rgb(39, 42, 51);\">Tournament hosted by EUARMSCompetitve\\xa0Discord!</span></p><p><span style=\"background-color: rgb(39, 42, 51);\">The tournament is EU exclusive, meaning anyone outside of EU can\\'t participate.</span></p><p>If we get 32+ participants the winner of the tournament will get a\\xa0Nintendo eShop Card 15 €!</p><p><span style=\"background-color: rgb(39, 42, 51);\"><br>You must be part of the EU ARMS discord in order to participate and coordinate your matchups\\xa0</span><span style=\"background-color: rgb(39, 42, 51);\">\\xa0</span>https://discord.gg/W486K28</p><p>Rules:\\xa0\\xa0https://goo.gl/PkXDZo<br><br></p>',\n",
       " 'subdomain': None,\n",
       " 'full_challonge_url': 'https://challonge.com/EUCHALLLENGE2',\n",
       " 'live_image_url': 'https://challonge.com/EUCHALLLENGE2.svg',\n",
       " 'sign_up_url': 'https://challonge.com/tournaments/signup/b8zhEIvOXZ',\n",
       " 'review_before_finalizing': True,\n",
       " 'accepting_predictions': False,\n",
       " 'participants_locked': True,\n",
       " 'game_name': 'Arms',\n",
       " 'participants_swappable': False,\n",
       " 'team_convertable': False,\n",
       " 'group_stages_were_started': False}"
      ]
     },
     "execution_count": 218,
     "metadata": {},
     "output_type": "execute_result"
    }
   ],
   "source": [
    "tournament"
   ]
  },
  {
   "cell_type": "code",
   "execution_count": 219,
   "id": "c05df19f",
   "metadata": {},
   "outputs": [],
   "source": [
    "matches = challonge.matches.index(tournament[\"id\"])"
   ]
  },
  {
   "cell_type": "code",
   "execution_count": 220,
   "id": "d42d59bc",
   "metadata": {
    "scrolled": true
   },
   "outputs": [
    {
     "data": {
      "text/plain": [
       "{'id': 103347707,\n",
       " 'tournament_id': 3973078,\n",
       " 'state': 'complete',\n",
       " 'player1_id': 64282703,\n",
       " 'player2_id': 64283849,\n",
       " 'player1_prereq_match_id': None,\n",
       " 'player2_prereq_match_id': None,\n",
       " 'player1_is_prereq_match_loser': False,\n",
       " 'player2_is_prereq_match_loser': False,\n",
       " 'winner_id': 64283849,\n",
       " 'loser_id': 64282703,\n",
       " 'started_at': datetime.datetime(2017, 11, 12, 14, 7, 13, 287000, tzinfo=<DstTzInfo 'Europe/London' GMT0:00:00 STD>),\n",
       " 'created_at': datetime.datetime(2017, 11, 12, 14, 7, 12, 863000, tzinfo=<DstTzInfo 'Europe/London' GMT0:00:00 STD>),\n",
       " 'updated_at': datetime.datetime(2017, 11, 12, 14, 21, 3, 299000, tzinfo=<DstTzInfo 'Europe/London' GMT0:00:00 STD>),\n",
       " 'identifier': 'A',\n",
       " 'has_attachment': False,\n",
       " 'round': 1,\n",
       " 'player1_votes': None,\n",
       " 'player2_votes': None,\n",
       " 'group_id': None,\n",
       " 'attachment_count': None,\n",
       " 'scheduled_time': None,\n",
       " 'location': None,\n",
       " 'underway_at': None,\n",
       " 'optional': False,\n",
       " 'completed_at': datetime.datetime(2017, 11, 12, 14, 21, 3, 433000, tzinfo=<DstTzInfo 'Europe/London' GMT0:00:00 STD>),\n",
       " 'suggested_play_order': 1,\n",
       " 'forfeited': None,\n",
       " 'open_graph_image_file_name': None,\n",
       " 'open_graph_image_content_type': None,\n",
       " 'open_graph_image_file_size': None,\n",
       " 'prerequisite_match_ids_csv': '',\n",
       " 'scores_csv': '0-2'}"
      ]
     },
     "execution_count": 220,
     "metadata": {},
     "output_type": "execute_result"
    }
   ],
   "source": [
    "matches[0]"
   ]
  },
  {
   "cell_type": "markdown",
   "id": "cae3dec4",
   "metadata": {},
   "source": [
    "Match stores the players' ids. The winner id, loser id, score"
   ]
  },
  {
   "cell_type": "code",
   "execution_count": 221,
   "id": "d7edbbd9",
   "metadata": {},
   "outputs": [],
   "source": [
    "# Retrieve the participants for a given tournament.\n",
    "participants = challonge.participants.index(tournament[\"id\"])"
   ]
  },
  {
   "cell_type": "code",
   "execution_count": 222,
   "id": "03caaaa0",
   "metadata": {},
   "outputs": [
    {
     "data": {
      "text/plain": [
       "{'id': 63926376,\n",
       " 'tournament_id': 3973078,\n",
       " 'name': '',\n",
       " 'seed': 1,\n",
       " 'active': True,\n",
       " 'created_at': datetime.datetime(2017, 11, 5, 12, 9, 29, 690000, tzinfo=<DstTzInfo 'Europe/London' GMT0:00:00 STD>),\n",
       " 'updated_at': datetime.datetime(2017, 11, 5, 12, 9, 29, 690000, tzinfo=<DstTzInfo 'Europe/London' GMT0:00:00 STD>),\n",
       " 'invite_email': None,\n",
       " 'final_rank': 5,\n",
       " 'misc': None,\n",
       " 'icon': None,\n",
       " 'on_waiting_list': False,\n",
       " 'invitation_id': None,\n",
       " 'group_id': None,\n",
       " 'checked_in_at': datetime.datetime(2017, 11, 12, 13, 39, 2, 915000, tzinfo=<DstTzInfo 'Europe/London' GMT0:00:00 STD>),\n",
       " 'ranked_member_id': None,\n",
       " 'custom_field_response': None,\n",
       " 'clinch': None,\n",
       " 'integration_uids': None,\n",
       " 'challonge_username': 'InkA_',\n",
       " 'challonge_user_id': 1902903,\n",
       " 'challonge_email_address_verified': True,\n",
       " 'removable': False,\n",
       " 'participatable_or_invitation_attached': True,\n",
       " 'confirm_remove': True,\n",
       " 'invitation_pending': False,\n",
       " 'display_name_with_invitation_email_address': 'InkA_',\n",
       " 'email_hash': 'f1dcf32d96b8500da7416adcc719e51a',\n",
       " 'username': 'InkA_',\n",
       " 'display_name': 'InkA_',\n",
       " 'attached_participatable_portrait_url': 'https://s3.amazonaws.com/challonge_app/users/images/001/902/903/xlarge/JPEG_20180204_095942.png',\n",
       " 'can_check_in': False,\n",
       " 'checked_in': True,\n",
       " 'reactivatable': False,\n",
       " 'check_in_open': False,\n",
       " 'group_player_ids': [],\n",
       " 'has_irrelevant_seed': False,\n",
       " 'ordinal_seed': '1st',\n",
       " 'roster_complete': None,\n",
       " 'roster_size': None}"
      ]
     },
     "execution_count": 222,
     "metadata": {},
     "output_type": "execute_result"
    }
   ],
   "source": [
    "participants[0]"
   ]
  },
  {
   "cell_type": "markdown",
   "id": "48403183",
   "metadata": {},
   "source": [
    "Participants stores a player's name, username, seed, challonge id, and tournament player id"
   ]
  },
  {
   "cell_type": "code",
   "execution_count": 223,
   "id": "17d3a744",
   "metadata": {},
   "outputs": [
    {
     "name": "stdout",
     "output_type": "stream",
     "text": [
      "17\n"
     ]
    }
   ],
   "source": [
    "print(len(participants))"
   ]
  },
  {
   "cell_type": "code",
   "execution_count": 224,
   "id": "4dc4ec0e",
   "metadata": {
    "scrolled": true
   },
   "outputs": [
    {
     "data": {
      "text/plain": [
       "{'id': 64282712,\n",
       " 'tournament_id': 3973078,\n",
       " 'name': '',\n",
       " 'seed': 17,\n",
       " 'active': False,\n",
       " 'created_at': datetime.datetime(2017, 11, 12, 11, 30, 59, 551000, tzinfo=<DstTzInfo 'Europe/London' GMT0:00:00 STD>),\n",
       " 'updated_at': datetime.datetime(2017, 11, 12, 11, 30, 59, 551000, tzinfo=<DstTzInfo 'Europe/London' GMT0:00:00 STD>),\n",
       " 'invite_email': None,\n",
       " 'final_rank': None,\n",
       " 'misc': None,\n",
       " 'icon': None,\n",
       " 'on_waiting_list': False,\n",
       " 'invitation_id': None,\n",
       " 'group_id': None,\n",
       " 'checked_in_at': None,\n",
       " 'ranked_member_id': None,\n",
       " 'custom_field_response': None,\n",
       " 'clinch': None,\n",
       " 'integration_uids': None,\n",
       " 'challonge_username': 'ThatD',\n",
       " 'challonge_user_id': 2532908,\n",
       " 'challonge_email_address_verified': False,\n",
       " 'removable': False,\n",
       " 'participatable_or_invitation_attached': True,\n",
       " 'confirm_remove': True,\n",
       " 'invitation_pending': False,\n",
       " 'display_name_with_invitation_email_address': 'ThatD',\n",
       " 'email_hash': '54e045ca1ed55fe5d90d1a4c6980a9db',\n",
       " 'username': 'ThatD',\n",
       " 'display_name': 'ThatD',\n",
       " 'attached_participatable_portrait_url': 'https://secure.gravatar.com/avatar/676c6748e7489c7655e33c901f3614d2?r=r&s=96&d=https://s3.amazonaws.com/challonge_app/misc/challonge_fireball_gray.png',\n",
       " 'can_check_in': False,\n",
       " 'checked_in': False,\n",
       " 'reactivatable': False,\n",
       " 'check_in_open': False,\n",
       " 'group_player_ids': [],\n",
       " 'has_irrelevant_seed': True,\n",
       " 'ordinal_seed': '17th',\n",
       " 'roster_complete': None,\n",
       " 'roster_size': None}"
      ]
     },
     "execution_count": 224,
     "metadata": {},
     "output_type": "execute_result"
    }
   ],
   "source": [
    "participants[-1]"
   ]
  },
  {
   "cell_type": "markdown",
   "id": "a42d5fc3",
   "metadata": {},
   "source": [
    "Also stores participants who signed up but did not check-in. Meaning they did not participate in the tournament <br>\n",
    "Denoted by \"checked_in = False\" and \"active = False\""
   ]
  },
  {
   "cell_type": "markdown",
   "id": "c315685b",
   "metadata": {},
   "source": [
    "Players in a \"match\" only have their player id instead of their name or challonge id."
   ]
  },
  {
   "cell_type": "code",
   "execution_count": 225,
   "id": "8de7115c",
   "metadata": {
    "scrolled": true
   },
   "outputs": [
    {
     "data": {
      "text/plain": [
       "'86-101'"
      ]
     },
     "execution_count": 225,
     "metadata": {},
     "output_type": "execute_result"
    }
   ],
   "source": [
    "matches[17][\"scores_csv\"]"
   ]
  },
  {
   "cell_type": "markdown",
   "id": "10d5ff93",
   "metadata": {},
   "source": [
    "Users can input scores themselves. Can be misleading but will deal with it later in data cleaning"
   ]
  },
  {
   "cell_type": "markdown",
   "id": "99e30cb3",
   "metadata": {},
   "source": [
    "#### 3.2.3.3 - Challonge Data Collection"
   ]
  },
  {
   "cell_type": "markdown",
   "id": "a110454f",
   "metadata": {},
   "source": [
    "In this section, we are going to add players from the second EUAC to the table from the first EUAC (playerdf) <br>\n",
    "For the time being, we are going to keep Start ID and Challonge ID seperate rather than having one ID column. Players from the 1st EUAC may have been present in later EUACs but it is not yet possible to identify them. <br>\n",
    "Later on, we will identify the players who were in the first EUAC and subsequent ones."
   ]
  },
  {
   "cell_type": "code",
   "execution_count": 226,
   "id": "d25c31d5",
   "metadata": {
    "scrolled": false
   },
   "outputs": [
    {
     "data": {
      "text/html": [
       "<div>\n",
       "<style scoped>\n",
       "    .dataframe tbody tr th:only-of-type {\n",
       "        vertical-align: middle;\n",
       "    }\n",
       "\n",
       "    .dataframe tbody tr th {\n",
       "        vertical-align: top;\n",
       "    }\n",
       "\n",
       "    .dataframe thead th {\n",
       "        text-align: right;\n",
       "    }\n",
       "</style>\n",
       "<table border=\"1\" class=\"dataframe\">\n",
       "  <thead>\n",
       "    <tr style=\"text-align: right;\">\n",
       "      <th></th>\n",
       "      <th>Start ID</th>\n",
       "      <th>Player</th>\n",
       "      <th>Seed</th>\n",
       "      <th>Placement</th>\n",
       "    </tr>\n",
       "  </thead>\n",
       "  <tbody>\n",
       "    <tr>\n",
       "      <th>0</th>\n",
       "      <td>1152276</td>\n",
       "      <td>FR | Maxou0708</td>\n",
       "      <td>20</td>\n",
       "      <td>1</td>\n",
       "    </tr>\n",
       "    <tr>\n",
       "      <th>1</th>\n",
       "      <td>1118825</td>\n",
       "      <td>Rapha_MTH</td>\n",
       "      <td>6</td>\n",
       "      <td>2</td>\n",
       "    </tr>\n",
       "    <tr>\n",
       "      <th>2</th>\n",
       "      <td>1133810</td>\n",
       "      <td>Sabaca</td>\n",
       "      <td>8</td>\n",
       "      <td>3</td>\n",
       "    </tr>\n",
       "    <tr>\n",
       "      <th>3</th>\n",
       "      <td>1152521</td>\n",
       "      <td>TCM | Raffa</td>\n",
       "      <td>21</td>\n",
       "      <td>4</td>\n",
       "    </tr>\n",
       "    <tr>\n",
       "      <th>4</th>\n",
       "      <td>1152258</td>\n",
       "      <td>FrankTank</td>\n",
       "      <td>19</td>\n",
       "      <td>5</td>\n",
       "    </tr>\n",
       "  </tbody>\n",
       "</table>\n",
       "</div>"
      ],
      "text/plain": [
       "   Start ID          Player  Seed  Placement\n",
       "0   1152276  FR | Maxou0708    20          1\n",
       "1   1118825       Rapha_MTH     6          2\n",
       "2   1133810          Sabaca     8          3\n",
       "3   1152521     TCM | Raffa    21          4\n",
       "4   1152258       FrankTank    19          5"
      ]
     },
     "execution_count": 226,
     "metadata": {},
     "output_type": "execute_result"
    }
   ],
   "source": [
    "playerdf.head()"
   ]
  },
  {
   "cell_type": "code",
   "execution_count": 227,
   "id": "71f27cdb",
   "metadata": {},
   "outputs": [],
   "source": [
    "def get_seed(name, df):\n",
    "    player = df[df[\"Player\"] == name]\n",
    "    if not player.empty:\n",
    "        return player.iloc[0][\"Seed\"]\n",
    "    else:\n",
    "        print(f\"No player named {name} was found\")"
   ]
  },
  {
   "cell_type": "code",
   "execution_count": 230,
   "id": "5b0022c0",
   "metadata": {},
   "outputs": [],
   "source": [
    "def get_placement(name, df):\n",
    "    player = df[df[\"Player\"] == name]\n",
    "    if not player.empty:\n",
    "        return player.iloc[0][\"Placement\"]\n",
    "    else:\n",
    "        print(f\"No player named {name} was found\")"
   ]
  },
  {
   "cell_type": "code",
   "execution_count": 229,
   "id": "f7e5c5b8",
   "metadata": {},
   "outputs": [
    {
     "data": {
      "text/plain": [
       "6"
      ]
     },
     "execution_count": 229,
     "metadata": {},
     "output_type": "execute_result"
    }
   ],
   "source": [
    "get_seed(\"Rapha_MTH\", playerdf)"
   ]
  },
  {
   "cell_type": "code",
   "execution_count": null,
   "id": "0584f013",
   "metadata": {},
   "outputs": [],
   "source": [
    "p1Seed = []\n",
    "p2Seed = []\n",
    "p1Placement = []\n",
    "p2Placement = []\n",
    "\n",
    "for p1 in df[\"Player1\"]:\n",
    "    "
   ]
  },
  {
   "cell_type": "markdown",
   "id": "2fdb9dd4",
   "metadata": {},
   "source": [
    "Won't need Seed and Placement from first EUAC anymore"
   ]
  },
  {
   "cell_type": "code",
   "execution_count": 145,
   "id": "332c2044",
   "metadata": {},
   "outputs": [],
   "source": [
    "# Remove Seed and Placement columns\n",
    "playerdf = playerdf.drop([\"Seed\", \"Placement\"], axis = \"columns\")"
   ]
  },
  {
   "cell_type": "code",
   "execution_count": 146,
   "id": "0281a98e",
   "metadata": {
    "scrolled": true
   },
   "outputs": [],
   "source": [
    "# Add players from second EUAC to the player dataframe\n",
    "nameArray = []\n",
    "idArray = []\n",
    "for players in participants:\n",
    "    if players[\"active\"] == True:\n",
    "        idArray.append(players[\"challonge_user_id\"])\n",
    "        nameArray.append(players[\"challonge_username\"])\n",
    "    \n",
    "challongedf = pd.DataFrame({\n",
    "    \"Player\": nameArray,\n",
    "    \"Challonge ID\": idArray\n",
    "})\n",
    "\n",
    "playerdf = pd.concat([playerdf,challongedf], ignore_index=False, sort=False)"
   ]
  },
  {
   "cell_type": "code",
   "execution_count": 147,
   "id": "42f82c2f",
   "metadata": {
    "scrolled": true
   },
   "outputs": [
    {
     "data": {
      "text/html": [
       "<div>\n",
       "<style scoped>\n",
       "    .dataframe tbody tr th:only-of-type {\n",
       "        vertical-align: middle;\n",
       "    }\n",
       "\n",
       "    .dataframe tbody tr th {\n",
       "        vertical-align: top;\n",
       "    }\n",
       "\n",
       "    .dataframe thead th {\n",
       "        text-align: right;\n",
       "    }\n",
       "</style>\n",
       "<table border=\"1\" class=\"dataframe\">\n",
       "  <thead>\n",
       "    <tr style=\"text-align: right;\">\n",
       "      <th></th>\n",
       "      <th>Start ID</th>\n",
       "      <th>Player</th>\n",
       "      <th>Challonge ID</th>\n",
       "    </tr>\n",
       "  </thead>\n",
       "  <tbody>\n",
       "    <tr>\n",
       "      <th>0</th>\n",
       "      <td>1152276.0</td>\n",
       "      <td>FR | Maxou0708</td>\n",
       "      <td>NaN</td>\n",
       "    </tr>\n",
       "    <tr>\n",
       "      <th>1</th>\n",
       "      <td>1118825.0</td>\n",
       "      <td>Rapha_MTH</td>\n",
       "      <td>NaN</td>\n",
       "    </tr>\n",
       "    <tr>\n",
       "      <th>2</th>\n",
       "      <td>1133810.0</td>\n",
       "      <td>Sabaca</td>\n",
       "      <td>NaN</td>\n",
       "    </tr>\n",
       "    <tr>\n",
       "      <th>3</th>\n",
       "      <td>1152521.0</td>\n",
       "      <td>TCM | Raffa</td>\n",
       "      <td>NaN</td>\n",
       "    </tr>\n",
       "    <tr>\n",
       "      <th>4</th>\n",
       "      <td>1152258.0</td>\n",
       "      <td>FrankTank</td>\n",
       "      <td>NaN</td>\n",
       "    </tr>\n",
       "  </tbody>\n",
       "</table>\n",
       "</div>"
      ],
      "text/plain": [
       "    Start ID          Player  Challonge ID\n",
       "0  1152276.0  FR | Maxou0708           NaN\n",
       "1  1118825.0       Rapha_MTH           NaN\n",
       "2  1133810.0          Sabaca           NaN\n",
       "3  1152521.0     TCM | Raffa           NaN\n",
       "4  1152258.0       FrankTank           NaN"
      ]
     },
     "execution_count": 147,
     "metadata": {},
     "output_type": "execute_result"
    }
   ],
   "source": [
    "playerdf.head()"
   ]
  },
  {
   "cell_type": "markdown",
   "id": "8af2738f",
   "metadata": {},
   "source": [
    "Within \"participants\" and \"matches\" from the API pulls, the ids and availability of access to name differ. <br>\n",
    "For each tournament, a player has an id but they also have a unique challonge id. A player's name is also not accessible within match, for example. <br>\n",
    "To get around this limitation, functions will be written to access this data <br>\n",
    "Then a loop can be written to compile this data and merge with the existing dataframe containing the matches (df)"
   ]
  },
  {
   "cell_type": "code",
   "execution_count": 148,
   "id": "c84eae31",
   "metadata": {},
   "outputs": [],
   "source": [
    "# Get a challonge id given their player id.\n",
    "# Player id is unique for each tournament.\n",
    "# Necessary for missing information from some api pulls\n",
    "\n",
    "def get_challonge_id(uid):\n",
    "    for i in participants:\n",
    "        if i[\"id\"] == uid:\n",
    "            return i[\"challonge_user_id\"]\n",
    "        else:\n",
    "            pass"
   ]
  },
  {
   "cell_type": "code",
   "execution_count": 149,
   "id": "a985ec86",
   "metadata": {},
   "outputs": [],
   "source": [
    "# Returns challonge name given a player's tournament id\n",
    "def get_challonge_name(uid):\n",
    "    for i in participants:\n",
    "        if i[\"id\"] == uid:\n",
    "            return i[\"challonge_username\"]\n",
    "        else:\n",
    "            pass"
   ]
  },
  {
   "cell_type": "code",
   "execution_count": 150,
   "id": "efc9118d",
   "metadata": {
    "scrolled": true
   },
   "outputs": [
    {
     "data": {
      "text/plain": [
       "datetime.datetime(2017, 11, 12, 14, 7, 13, 162000, tzinfo=<DstTzInfo 'Europe/London' GMT0:00:00 STD>)"
      ]
     },
     "execution_count": 150,
     "metadata": {},
     "output_type": "execute_result"
    }
   ],
   "source": [
    "# Get tournament date\n",
    "date = tournament[\"started_at\"]\n",
    "date"
   ]
  },
  {
   "cell_type": "code",
   "execution_count": 151,
   "id": "a43aabe3",
   "metadata": {},
   "outputs": [
    {
     "data": {
      "text/plain": [
       "'12/11/17'"
      ]
     },
     "execution_count": 151,
     "metadata": {},
     "output_type": "execute_result"
    }
   ],
   "source": [
    "# Format date\n",
    "date = date.strftime(\"%d/%m/%y\")\n",
    "date"
   ]
  },
  {
   "cell_type": "code",
   "execution_count": 152,
   "id": "dbec8b2d",
   "metadata": {
    "scrolled": false
   },
   "outputs": [
    {
     "data": {
      "text/html": [
       "<div>\n",
       "<style scoped>\n",
       "    .dataframe tbody tr th:only-of-type {\n",
       "        vertical-align: middle;\n",
       "    }\n",
       "\n",
       "    .dataframe tbody tr th {\n",
       "        vertical-align: top;\n",
       "    }\n",
       "\n",
       "    .dataframe thead th {\n",
       "        text-align: right;\n",
       "    }\n",
       "</style>\n",
       "<table border=\"1\" class=\"dataframe\">\n",
       "  <thead>\n",
       "    <tr style=\"text-align: right;\">\n",
       "      <th></th>\n",
       "      <th>Player1</th>\n",
       "      <th>Player2</th>\n",
       "      <th>Winner</th>\n",
       "      <th>Score</th>\n",
       "      <th>Loser</th>\n",
       "      <th>MatchNo</th>\n",
       "      <th>EUAC</th>\n",
       "      <th>Date</th>\n",
       "    </tr>\n",
       "  </thead>\n",
       "  <tbody>\n",
       "    <tr>\n",
       "      <th>0</th>\n",
       "      <td>Alumento</td>\n",
       "      <td>Owdy</td>\n",
       "      <td>Alumento</td>\n",
       "      <td>2-0</td>\n",
       "      <td>Owdy</td>\n",
       "      <td>1</td>\n",
       "      <td>1</td>\n",
       "      <td>21/10/17</td>\n",
       "    </tr>\n",
       "    <tr>\n",
       "      <th>1</th>\n",
       "      <td>BambooBoss</td>\n",
       "      <td>FrankTank</td>\n",
       "      <td>FrankTank</td>\n",
       "      <td>2-0</td>\n",
       "      <td>BambooBoss</td>\n",
       "      <td>2</td>\n",
       "      <td>1</td>\n",
       "      <td>21/10/17</td>\n",
       "    </tr>\n",
       "    <tr>\n",
       "      <th>2</th>\n",
       "      <td>Kotorious BRD</td>\n",
       "      <td>Altair</td>\n",
       "      <td>Kotorious BRD</td>\n",
       "      <td>0--1</td>\n",
       "      <td>Altair</td>\n",
       "      <td>3</td>\n",
       "      <td>1</td>\n",
       "      <td>21/10/17</td>\n",
       "    </tr>\n",
       "    <tr>\n",
       "      <th>3</th>\n",
       "      <td>RD | | Dushni</td>\n",
       "      <td>TCM | Raffa</td>\n",
       "      <td>TCM | Raffa</td>\n",
       "      <td>2-0</td>\n",
       "      <td>RD | | Dushni</td>\n",
       "      <td>4</td>\n",
       "      <td>1</td>\n",
       "      <td>21/10/17</td>\n",
       "    </tr>\n",
       "    <tr>\n",
       "      <th>4</th>\n",
       "      <td>FR|TCM | InkAlyut</td>\n",
       "      <td>FR | Maxou0708</td>\n",
       "      <td>FR|TCM | InkAlyut</td>\n",
       "      <td>2-1</td>\n",
       "      <td>FR | Maxou0708</td>\n",
       "      <td>5</td>\n",
       "      <td>1</td>\n",
       "      <td>21/10/17</td>\n",
       "    </tr>\n",
       "  </tbody>\n",
       "</table>\n",
       "</div>"
      ],
      "text/plain": [
       "             Player1         Player2             Winner Score           Loser  \\\n",
       "0           Alumento            Owdy           Alumento   2-0            Owdy   \n",
       "1         BambooBoss       FrankTank          FrankTank   2-0      BambooBoss   \n",
       "2      Kotorious BRD          Altair      Kotorious BRD  0--1          Altair   \n",
       "3      RD | | Dushni     TCM | Raffa        TCM | Raffa   2-0   RD | | Dushni   \n",
       "4  FR|TCM | InkAlyut  FR | Maxou0708  FR|TCM | InkAlyut   2-1  FR | Maxou0708   \n",
       "\n",
       "   MatchNo  EUAC      Date  \n",
       "0        1     1  21/10/17  \n",
       "1        2     1  21/10/17  \n",
       "2        3     1  21/10/17  \n",
       "3        4     1  21/10/17  \n",
       "4        5     1  21/10/17  "
      ]
     },
     "execution_count": 152,
     "metadata": {},
     "output_type": "execute_result"
    }
   ],
   "source": [
    "df.head()"
   ]
  },
  {
   "cell_type": "code",
   "execution_count": 153,
   "id": "c5ad7fbf",
   "metadata": {},
   "outputs": [],
   "source": [
    "tournamentNo = 2\n",
    "matchNo = 1\n",
    "\n",
    "for i in matches:\n",
    "    \n",
    "    # Get player details\n",
    "    player1Id = i[\"player1_id\"]\n",
    "    player2Id = i[\"player2_id\"]\n",
    "    player1CId = get_challonge_id(player1Id)\n",
    "    player2CId = get_challonge_id(player2Id)\n",
    "    player1Name = get_challonge_name(player1Id)\n",
    "    player2Name = get_challonge_name(player2Id)\n",
    "    \n",
    "    \n",
    "    # Determine winner and loser\n",
    "    if i[\"player1_id\"] == i[\"winner_id\"]:\n",
    "        winner = player1Name\n",
    "        loser = player2Name\n",
    "    else:\n",
    "        loser = player1Name\n",
    "        winner = player2Name\n",
    "    \n",
    "    # Score\n",
    "    score = i[\"scores_csv\"]\n",
    "    \n",
    "    # Add to dataframe\n",
    "    df.loc[len(df)] = [player1Name, player2Name, winner, score, loser, matchNo, tournamentNo, date]\n",
    "    matchNo += 1"
   ]
  },
  {
   "cell_type": "code",
   "execution_count": 154,
   "id": "41217e28",
   "metadata": {
    "scrolled": true
   },
   "outputs": [
    {
     "data": {
      "text/html": [
       "<div>\n",
       "<style scoped>\n",
       "    .dataframe tbody tr th:only-of-type {\n",
       "        vertical-align: middle;\n",
       "    }\n",
       "\n",
       "    .dataframe tbody tr th {\n",
       "        vertical-align: top;\n",
       "    }\n",
       "\n",
       "    .dataframe thead th {\n",
       "        text-align: right;\n",
       "    }\n",
       "</style>\n",
       "<table border=\"1\" class=\"dataframe\">\n",
       "  <thead>\n",
       "    <tr style=\"text-align: right;\">\n",
       "      <th></th>\n",
       "      <th>Player1</th>\n",
       "      <th>Player2</th>\n",
       "      <th>Winner</th>\n",
       "      <th>Score</th>\n",
       "      <th>Loser</th>\n",
       "      <th>MatchNo</th>\n",
       "      <th>EUAC</th>\n",
       "      <th>Date</th>\n",
       "    </tr>\n",
       "  </thead>\n",
       "  <tbody>\n",
       "    <tr>\n",
       "      <th>60</th>\n",
       "      <td>InkA_</td>\n",
       "      <td>_Rem_</td>\n",
       "      <td>_Rem_</td>\n",
       "      <td>86-101</td>\n",
       "      <td>InkA_</td>\n",
       "      <td>18</td>\n",
       "      <td>2</td>\n",
       "      <td>12/11/17</td>\n",
       "    </tr>\n",
       "    <tr>\n",
       "      <th>61</th>\n",
       "      <td>GameFroggit</td>\n",
       "      <td>Ripha</td>\n",
       "      <td>Ripha</td>\n",
       "      <td>0-2</td>\n",
       "      <td>GameFroggit</td>\n",
       "      <td>19</td>\n",
       "      <td>2</td>\n",
       "      <td>12/11/17</td>\n",
       "    </tr>\n",
       "    <tr>\n",
       "      <th>62</th>\n",
       "      <td>_Rem_</td>\n",
       "      <td>Ripha</td>\n",
       "      <td>_Rem_</td>\n",
       "      <td>3-0</td>\n",
       "      <td>Ripha</td>\n",
       "      <td>20</td>\n",
       "      <td>2</td>\n",
       "      <td>12/11/17</td>\n",
       "    </tr>\n",
       "    <tr>\n",
       "      <th>63</th>\n",
       "      <td>Frank001</td>\n",
       "      <td>_Rem_</td>\n",
       "      <td>Frank001</td>\n",
       "      <td>3-0</td>\n",
       "      <td>_Rem_</td>\n",
       "      <td>21</td>\n",
       "      <td>2</td>\n",
       "      <td>12/11/17</td>\n",
       "    </tr>\n",
       "    <tr>\n",
       "      <th>64</th>\n",
       "      <td>Raffa_</td>\n",
       "      <td>Frank001</td>\n",
       "      <td>Raffa_</td>\n",
       "      <td>3-0</td>\n",
       "      <td>Frank001</td>\n",
       "      <td>22</td>\n",
       "      <td>2</td>\n",
       "      <td>12/11/17</td>\n",
       "    </tr>\n",
       "  </tbody>\n",
       "</table>\n",
       "</div>"
      ],
      "text/plain": [
       "        Player1   Player2    Winner   Score        Loser  MatchNo  EUAC  \\\n",
       "60        InkA_     _Rem_     _Rem_  86-101        InkA_       18     2   \n",
       "61  GameFroggit     Ripha     Ripha     0-2  GameFroggit       19     2   \n",
       "62        _Rem_     Ripha     _Rem_     3-0        Ripha       20     2   \n",
       "63     Frank001     _Rem_  Frank001     3-0        _Rem_       21     2   \n",
       "64       Raffa_  Frank001    Raffa_     3-0     Frank001       22     2   \n",
       "\n",
       "        Date  \n",
       "60  12/11/17  \n",
       "61  12/11/17  \n",
       "62  12/11/17  \n",
       "63  12/11/17  \n",
       "64  12/11/17  "
      ]
     },
     "execution_count": 154,
     "metadata": {},
     "output_type": "execute_result"
    }
   ],
   "source": [
    "df.tail()"
   ]
  },
  {
   "cell_type": "markdown",
   "id": "b94b2cf8",
   "metadata": {},
   "source": [
    "Next step is to put this altogether in one big loop and finish compiling all the match data"
   ]
  },
  {
   "cell_type": "code",
   "execution_count": 155,
   "id": "4b10698a",
   "metadata": {},
   "outputs": [],
   "source": [
    "from tqdm import tqdm"
   ]
  },
  {
   "cell_type": "code",
   "execution_count": null,
   "id": "e48d3d1b",
   "metadata": {},
   "outputs": [],
   "source": [
    "for url in tqdm(urlArray, desc=\"Processing\", unit=\"step\"):\n",
    "    try:\n",
    "        # Retrieve a tournament by its id (or its url).\n",
    "        tournament = challonge.tournaments.show(url)\n",
    "    except:\n",
    "        print(f\"Error at {url}\")\n",
    "        continue\n",
    "    \n",
    "    # Retrieve matches\n",
    "    matches = challonge.matches.index(tournament[\"id\"])\n",
    "    \n",
    "    # Retrive participants\n",
    "    participants = challonge.participants.index(tournament[\"id\"])\n",
    "    \n",
    "    # Add new players to elo table if they checked in\n",
    "    for i in participants:\n",
    "        if i[\"active\"] == True:\n",
    "            if i[\"challonge_username\"] == None:\n",
    "                add_new_player(elodf, i[\"display_name\"], i[\"display_name\"], i[\"id\"])\n",
    "            else:\n",
    "                add_new_player(elodf, i[\"challonge_username\"], i[\"challonge_username\"], i[\"challonge_user_id\"])\n",
    "        else:\n",
    "            pass\n",
    "        \n",
    "    # Building Dataframe info   \n",
    "    tournamentno = re.findall(r'\\d+', url)\n",
    "    tournamentno = tournamentno[0]\n",
    "    tournamentno = int(tournamentno)\n",
    "    date = tournament[\"start_at\"].date()\n",
    "    \n",
    "    # Acquiring player information\n",
    "    matchno = 0\n",
    "    for i in matches:\n",
    "        if i[\"suggested_play_order\"] == None:\n",
    "            matchno += 1\n",
    "        else:\n",
    "            matchno = i[\"suggested_play_order\"]\n",
    "        \n",
    "        player1id = i[\"player1_id\"]\n",
    "        player2id = i[\"player2_id\"]\n",
    "        player1cid = get_challonge_id(player1id)\n",
    "        player2cid = get_challonge_id(player2id)\n",
    "        player1name = get_challonge_name(player1id)\n",
    "        player2name = get_challonge_name(player2id)\n",
    "        player1seed = get_seed(player1id)\n",
    "        player2seed = get_seed(player2id)\n",
    "        player1fp = get_placement(player1id)\n",
    "        player2fp = get_placement(player2id)\n",
    "        if i[\"player1_id\"] == i[\"winner_id\"]:\n",
    "            winner = player1name\n",
    "            loser = player2name\n",
    "        else:\n",
    "            loser = player1name\n",
    "            winner = player2name\n",
    "        \n",
    "        # Getting score\n",
    "        score = i[\"scores_csv\"]\n",
    "        \n",
    "        # Add to dataframe\n",
    "    df.loc[len(df)] = [player1Name, player2Name, winner, score, loser, matchNo, tournamentNo, date]\n",
    "    time.sleep(3) #Avoid too many api calls"
   ]
  },
  {
   "cell_type": "markdown",
   "id": "3a8ea86b",
   "metadata": {},
   "source": [
    "# References"
   ]
  },
  {
   "cell_type": "markdown",
   "id": "ba7fc277",
   "metadata": {},
   "source": [
    "- https://armswiki.org/wiki/EU_ARMS_Challenge\n",
    "- https://developer.start.gg/docs/examples/queries/get-event\n",
    "- https://github.com/ZEDGR/pychallonge"
   ]
  }
 ],
 "metadata": {
  "kernelspec": {
   "display_name": "Python 3 (ipykernel)",
   "language": "python",
   "name": "python3"
  },
  "language_info": {
   "codemirror_mode": {
    "name": "ipython",
    "version": 3
   },
   "file_extension": ".py",
   "mimetype": "text/x-python",
   "name": "python",
   "nbconvert_exporter": "python",
   "pygments_lexer": "ipython3",
   "version": "3.9.12"
  }
 },
 "nbformat": 4,
 "nbformat_minor": 5
}
