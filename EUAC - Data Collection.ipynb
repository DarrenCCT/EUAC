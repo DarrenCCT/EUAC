{
 "cells": [
  {
   "cell_type": "markdown",
   "id": "3d94e721",
   "metadata": {},
   "source": [
    "# 1. Libraries"
   ]
  },
  {
   "cell_type": "code",
   "execution_count": 3,
   "id": "1cde4263",
   "metadata": {},
   "outputs": [],
   "source": [
    "# Import Libraries\n",
    "import requests\n",
    "import pandas as pd\n",
    "import os\n",
    "from dotenv import load_dotenv"
   ]
  },
  {
   "cell_type": "markdown",
   "id": "0befb275",
   "metadata": {},
   "source": [
    "# 2. Introduction"
   ]
  },
  {
   "cell_type": "markdown",
   "id": "48e2137d",
   "metadata": {},
   "source": [
    "The purpose of this notebook is to gather data on the European ARMS Challenge (EUAC) tournament series. <br>\n",
    "The EUAC is an online biweekly tournament series for the video game \"ARMS\" released for the Nintendo Switch console in 2017. <br>\n",
    "The EUAC started in 2017 and ran consistently until 2022.<br>\n",
    "<br>\n",
    "More information can be found in references below."
   ]
  },
  {
   "cell_type": "markdown",
   "id": "4b61ba1c",
   "metadata": {},
   "source": [
    "This notebook is to purely gather the data, act as a proof of concept, and format it for future use/analysis. <br>\n",
    "It will then be exported to a csv file if successful. <br>"
   ]
  },
  {
   "cell_type": "markdown",
   "id": "4caa3c5d",
   "metadata": {},
   "source": [
    "# 3. Objectives"
   ]
  },
  {
   "cell_type": "markdown",
   "id": "6d7a4eb3",
   "metadata": {},
   "source": [
    "- Determine what data that is necessary\n",
    "- Gather EUAC#1 data from start.gg using their api\n",
    "- Gather EUAC#2 to EUAC#110 data from Challonge.com using their api\n",
    "- Format the data into a pandas dataframe\n",
    "- Export to csv"
   ]
  },
  {
   "cell_type": "markdown",
   "id": "05e72761",
   "metadata": {},
   "source": [
    "## 3.1. Objective 1"
   ]
  },
  {
   "cell_type": "markdown",
   "id": "69cf9421",
   "metadata": {},
   "source": [
    "### Determine what data is necessary"
   ]
  },
  {
   "cell_type": "markdown",
   "id": "8221b681",
   "metadata": {},
   "source": [
    "For each tournament, we will need: <br>\n",
    "- The participants who entered\n",
    "- Each match that was played\n",
    "- The result of each match\n",
    "- The date the tournament took place\n",
    "- The final placements\n",
    "- Each player's seeding"
   ]
  },
  {
   "cell_type": "markdown",
   "id": "20ce5f32",
   "metadata": {},
   "source": [
    "## 3.2. Objective 2 - Data Gathering"
   ]
  },
  {
   "cell_type": "markdown",
   "id": "79797f89",
   "metadata": {},
   "source": [
    "The tournaments were mostly hosted on Challonge.com but the first one was hosted on start.gg. <br>"
   ]
  },
  {
   "cell_type": "markdown",
   "id": "c76fb9ad",
   "metadata": {},
   "source": [
    "### 3.2.1. - Start.gg"
   ]
  },
  {
   "cell_type": "markdown",
   "id": "10d58db2",
   "metadata": {},
   "source": [
    "Start.gg's API uses GraphQL as its query language <br>\n",
    "The GraphQL queries will be wrapped in multiline strings so they can be sent to the start.gg API to retrieve the data. <br>\n",
    "Queries also expect an API token to passed through the header. This token will be loaded from a .env file.<br>\n",
    "<br>\n",
    "A link to the tutorial that was followed to come up with the queries can be found in References."
   ]
  },
  {
   "cell_type": "code",
   "execution_count": 4,
   "id": "3d271ceb",
   "metadata": {},
   "outputs": [],
   "source": [
    "# Load API Keys stored in .env file\n",
    "load_dotenv(\".env\")\n",
    "START_GG_API_TOKEN = os.getenv(\"START_GG_API_TOKEN\")"
   ]
  },
  {
   "cell_type": "code",
   "execution_count": 5,
   "id": "6cf1f447",
   "metadata": {},
   "outputs": [],
   "source": [
    "query = \"\"\"\n",
    "query TournamentQuery {\n",
    "  tournament(slug: \"tournament/eu-arms-challenge-1\") {\n",
    "    name\n",
    "    events {\n",
    "      name\n",
    "      entrants {\n",
    "        nodes {\n",
    "          name\n",
    "        }\n",
    "      }\n",
    "    }\n",
    "  }\n",
    "}\n",
    "\"\"\""
   ]
  },
  {
   "cell_type": "code",
   "execution_count": 6,
   "id": "96a770b8",
   "metadata": {},
   "outputs": [],
   "source": [
    "url = \"https://api.start.gg/gql/alpha\"\n",
    "headers = {\n",
    "    \"Authorization\": f\"Bearer {START_GG_API_TOKEN}\",\n",
    "    \"Content-Type\": \"application/json\"\n",
    "}\n",
    "response = requests.post(url, json={'query': query}, headers=headers)\n",
    "data = response.json()"
   ]
  },
  {
   "cell_type": "code",
   "execution_count": 7,
   "id": "dbaf4021",
   "metadata": {
    "scrolled": false
   },
   "outputs": [
    {
     "data": {
      "text/plain": [
       "{'data': {'tournament': {'name': 'EU ARMS Challenge #1',\n",
       "   'events': [{'name': 'EU ARMS Challenge #1',\n",
       "     'entrants': {'nodes': [{'name': 'Owdy'},\n",
       "       {'name': 'TCM | Raffa'},\n",
       "       {'name': 'FR | Maxou0708'},\n",
       "       {'name': 'FrankTank'},\n",
       "       {'name': 'Altair'},\n",
       "       {'name': 'TCM | BD82'},\n",
       "       {'name': 'Octey | Octey'},\n",
       "       {'name': 'Kotorious BRD'},\n",
       "       {'name': 'BambooBoss'},\n",
       "       {'name': 'FR|TCM | InkAlyut'},\n",
       "       {'name': 'RD | | Dushni'},\n",
       "       {'name': 'Alumento'},\n",
       "       {'name': 'Beannie'},\n",
       "       {'name': 'Gleeface'},\n",
       "       {'name': 'Sabaca'},\n",
       "       {'name': 'SC☆Momso'},\n",
       "       {'name': 'Rapha_MTH'},\n",
       "       {'name': 'Raayo'},\n",
       "       {'name': 'VilleViljar'},\n",
       "       {'name': 'Orthuss'},\n",
       "       {'name': 'ocrim'},\n",
       "       {'name': 'Linkirto'}]}}]}},\n",
       " 'extensions': {'cacheControl': {'version': 1,\n",
       "   'hints': [{'path': ['tournament'], 'maxAge': 300, 'scope': 'PRIVATE'}]},\n",
       "  'queryComplexity': 2},\n",
       " 'actionRecords': []}"
      ]
     },
     "execution_count": 7,
     "metadata": {},
     "output_type": "execute_result"
    }
   ],
   "source": [
    "data"
   ]
  },
  {
   "cell_type": "markdown",
   "id": "1ddee557",
   "metadata": {},
   "source": [
    "Data is a nested dictionary. Now we'll gather a list of participants by digging through this"
   ]
  },
  {
   "cell_type": "code",
   "execution_count": 55,
   "id": "e26e7134",
   "metadata": {},
   "outputs": [
    {
     "data": {
      "text/plain": [
       "'EU ARMS Challenge #1'"
      ]
     },
     "execution_count": 55,
     "metadata": {},
     "output_type": "execute_result"
    }
   ],
   "source": [
    "data[\"data\"][\"tournament\"][\"name\"]"
   ]
  },
  {
   "cell_type": "code",
   "execution_count": 8,
   "id": "ec62cca8",
   "metadata": {
    "scrolled": true
   },
   "outputs": [
    {
     "data": {
      "text/plain": [
       "{'nodes': [{'name': 'Owdy'},\n",
       "  {'name': 'TCM | Raffa'},\n",
       "  {'name': 'FR | Maxou0708'},\n",
       "  {'name': 'FrankTank'},\n",
       "  {'name': 'Altair'},\n",
       "  {'name': 'TCM | BD82'},\n",
       "  {'name': 'Octey | Octey'},\n",
       "  {'name': 'Kotorious BRD'},\n",
       "  {'name': 'BambooBoss'},\n",
       "  {'name': 'FR|TCM | InkAlyut'},\n",
       "  {'name': 'RD | | Dushni'},\n",
       "  {'name': 'Alumento'},\n",
       "  {'name': 'Beannie'},\n",
       "  {'name': 'Gleeface'},\n",
       "  {'name': 'Sabaca'},\n",
       "  {'name': 'SC☆Momso'},\n",
       "  {'name': 'Rapha_MTH'},\n",
       "  {'name': 'Raayo'},\n",
       "  {'name': 'VilleViljar'},\n",
       "  {'name': 'Orthuss'},\n",
       "  {'name': 'ocrim'},\n",
       "  {'name': 'Linkirto'}]}"
      ]
     },
     "execution_count": 8,
     "metadata": {},
     "output_type": "execute_result"
    }
   ],
   "source": [
    "data[\"data\"][\"tournament\"][\"events\"][0][\"entrants\"]"
   ]
  },
  {
   "cell_type": "code",
   "execution_count": 13,
   "id": "b6eba445",
   "metadata": {
    "scrolled": true
   },
   "outputs": [
    {
     "data": {
      "text/plain": [
       "{'name': 'TCM | Raffa'}"
      ]
     },
     "execution_count": 13,
     "metadata": {},
     "output_type": "execute_result"
    }
   ],
   "source": [
    "data[\"data\"][\"tournament\"][\"events\"][0][\"entrants\"][\"nodes\"][1]"
   ]
  },
  {
   "cell_type": "code",
   "execution_count": 14,
   "id": "4416d450",
   "metadata": {},
   "outputs": [
    {
     "data": {
      "text/plain": [
       "'TCM | Raffa'"
      ]
     },
     "execution_count": 14,
     "metadata": {},
     "output_type": "execute_result"
    }
   ],
   "source": [
    "data[\"data\"][\"tournament\"][\"events\"][0][\"entrants\"][\"nodes\"][1][\"name\"]"
   ]
  },
  {
   "cell_type": "code",
   "execution_count": 58,
   "id": "78d12780",
   "metadata": {},
   "outputs": [
    {
     "name": "stdout",
     "output_type": "stream",
     "text": [
      "Owdy\n",
      "TCM | Raffa\n",
      "FR | Maxou0708\n",
      "FrankTank\n",
      "Altair\n",
      "TCM | BD82\n",
      "Octey | Octey\n",
      "Kotorious BRD\n",
      "BambooBoss\n",
      "FR|TCM | InkAlyut\n",
      "RD | | Dushni\n",
      "Alumento\n",
      "Beannie\n",
      "Gleeface\n",
      "Sabaca\n",
      "SC☆Momso\n",
      "Rapha_MTH\n",
      "Raayo\n",
      "VilleViljar\n",
      "Orthuss\n",
      "ocrim\n",
      "Linkirto\n"
     ]
    }
   ],
   "source": [
    "# Testing basic for loop\n",
    "for i in data[\"data\"][\"tournament\"][\"events\"][0][\"entrants\"][\"nodes\"]:\n",
    "    print(i[\"name\"])"
   ]
  },
  {
   "cell_type": "code",
   "execution_count": 16,
   "id": "a5b57302",
   "metadata": {},
   "outputs": [],
   "source": [
    "playerArray = []\n",
    "for i in data[\"data\"][\"tournament\"][\"events\"][0][\"entrants\"][\"nodes\"]:\n",
    "    playerArray.append(i[\"name\"])"
   ]
  },
  {
   "cell_type": "code",
   "execution_count": 18,
   "id": "18a6b92c",
   "metadata": {
    "scrolled": true
   },
   "outputs": [
    {
     "data": {
      "text/plain": [
       "['Owdy',\n",
       " 'TCM | Raffa',\n",
       " 'FR | Maxou0708',\n",
       " 'FrankTank',\n",
       " 'Altair',\n",
       " 'TCM | BD82',\n",
       " 'Octey | Octey',\n",
       " 'Kotorious BRD',\n",
       " 'BambooBoss',\n",
       " 'FR|TCM | InkAlyut',\n",
       " 'RD | | Dushni',\n",
       " 'Alumento',\n",
       " 'Beannie',\n",
       " 'Gleeface',\n",
       " 'Sabaca',\n",
       " 'SC☆Momso',\n",
       " 'Rapha_MTH',\n",
       " 'Raayo',\n",
       " 'VilleViljar',\n",
       " 'Orthuss',\n",
       " 'ocrim',\n",
       " 'Linkirto']"
      ]
     },
     "execution_count": 18,
     "metadata": {},
     "output_type": "execute_result"
    }
   ],
   "source": [
    "playerArray"
   ]
  },
  {
   "cell_type": "markdown",
   "id": "27a653ec",
   "metadata": {},
   "source": [
    "All players gathered. <br>To note for later: players can sign up with \"tags\". Denoted with a |. But | can be present in a tag"
   ]
  },
  {
   "cell_type": "markdown",
   "id": "61446e3a",
   "metadata": {},
   "source": [
    "### 3.2.2 - Challonge.com"
   ]
  },
  {
   "cell_type": "markdown",
   "id": "3a8ea86b",
   "metadata": {},
   "source": [
    "# References"
   ]
  },
  {
   "cell_type": "markdown",
   "id": "ba7fc277",
   "metadata": {},
   "source": [
    "- https://armswiki.org/wiki/EU_ARMS_Challenge\n",
    "- https://developer.start.gg/docs/examples/queries/get-event"
   ]
  },
  {
   "cell_type": "code",
   "execution_count": null,
   "id": "0478a280",
   "metadata": {},
   "outputs": [],
   "source": []
  }
 ],
 "metadata": {
  "kernelspec": {
   "display_name": "Python 3 (ipykernel)",
   "language": "python",
   "name": "python3"
  },
  "language_info": {
   "codemirror_mode": {
    "name": "ipython",
    "version": 3
   },
   "file_extension": ".py",
   "mimetype": "text/x-python",
   "name": "python",
   "nbconvert_exporter": "python",
   "pygments_lexer": "ipython3",
   "version": "3.9.12"
  }
 },
 "nbformat": 4,
 "nbformat_minor": 5
}
